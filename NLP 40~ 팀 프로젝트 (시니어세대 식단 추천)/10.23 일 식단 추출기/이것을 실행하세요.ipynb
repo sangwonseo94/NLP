{
 "cells": [
  {
   "cell_type": "code",
   "execution_count": 1,
   "metadata": {},
   "outputs": [],
   "source": [
    "\n",
    "# read_excel로 불러온것에서 이름하고 영양소를 빼오는 함수\n",
    "import time\n",
    "from itertools import product\n",
    "from tqdm import trange\n",
    "from sklearn.metrics.pairwise import cosine_similarity\n",
    "from IPython.core.interactiveshell import InteractiveShell\n",
    "import pandas as pd\n",
    "import numpy\n",
    "InteractiveShell.ast_node_interactivity = \"all\"\n",
    "pd.set_option('display.max_rows', 500)\n",
    "pd.set_option('display.max_columns', 500)\n",
    "pd.set_option('display.width', 1000)\n",
    "\n",
    "\n",
    "def extract_nutri_list(nutri_df):\n",
    "    return_list = []\n",
    "    name_list=[]\n",
    "    for index_num in range(len(nutri_df)):\n",
    "        temp_list = []\n",
    "        temp_list.extend((nutri_df.iloc[index_num,nno]).values.tolist())\n",
    "        name_list.append(nutri_df.iloc[index_num,0])\n",
    "        return_list.append(temp_list)\n",
    "    return_list.append(name_list)\n",
    "    return return_list\n",
    "\n",
    "def Make_Food_Table(basic_food_list):\n",
    "    result =[]\n",
    "    for index in range(len(basic_food_list)):\n",
    "        result.append(basic_food_list[index][:])\n",
    "    Combination =product(*result)\n",
    "    return Combination\n",
    "\n",
    "# MAX_RATE와 Min_RATE설정\n",
    "def ADD_Total_Nutrition_NUMBERS4(Combination_Tabel,Standard):\n",
    "    result_list = []\n",
    "    calxr = 1.25\n",
    "    calnr = 0.75\n",
    "    \n",
    "    # 칼로리 기준으로만 자른다. 칼로리의 75% <> 125%\n",
    "    # 기준 Col 의 개수가 3개면 다르게 만들어야한다.\n",
    "    for i in trange(len(Combination_Tabel)):\n",
    "        result = numpy.array(Combination_Tabel.iloc[i,0]) + numpy.array(Combination_Tabel.iloc[i,1]) +  numpy.array(Combination_Tabel.iloc[i,2]) + numpy.array(Combination_Tabel.iloc[i,3])\n",
    "        if(numpy.array_equal((numpy.array(Standard)[0])*calxr > result[0] ,(numpy.array(Standard)[0])*calnr < result[0])):\n",
    "            #나트륨 자르기 result 의 7번째요소는 나트륨 량 \n",
    "            if(result[7] < 1000):\n",
    "                result_list.append(result)\n",
    "                Meta_food_name.append(i)\n",
    "    return result_list\n",
    "\n",
    "\n",
    "\n"
   ]
  },
  {
   "cell_type": "code",
   "execution_count": null,
   "metadata": {},
   "outputs": [
    {
     "name": "stderr",
     "output_type": "stream",
     "text": [
      "100%|█████████████████████████████| 1079100/1079100 [00:55<00:00, 19533.64it/s]\n"
     ]
    },
    {
     "name": "stdout",
     "output_type": "stream",
     "text": [
      "177001 최대 칼로리 :  916.6666666666667 최소 칼로리 :  550.0\n"
     ]
    },
    {
     "name": "stderr",
     "output_type": "stream",
     "text": [
      "100%|██████████████████████████████████████| 1000/1000 [00:11<00:00, 88.83it/s]\n",
      "C:\\Anaconda3\\lib\\site-packages\\ipykernel_launcher.py:285: SettingWithCopyWarning: \n",
      "A value is trying to be set on a copy of a slice from a DataFrame.\n",
      "Try using .loc[row_indexer,col_indexer] = value instead\n",
      "\n",
      "See the caveats in the documentation: http://pandas.pydata.org/pandas-docs/stable/indexing.html#indexing-view-versus-copy\n",
      "100%|██████████████████████████████████████| 500/500 [00:00<00:00, 4310.10it/s]\n",
      "C:\\Anaconda3\\lib\\site-packages\\ipykernel_launcher.py:320: SettingWithCopyWarning: \n",
      "A value is trying to be set on a copy of a slice from a DataFrame.\n",
      "Try using .loc[row_indexer,col_indexer] = value instead\n",
      "\n",
      "See the caveats in the documentation: http://pandas.pydata.org/pandas-docs/stable/indexing.html#indexing-view-versus-copy\n"
     ]
    },
    {
     "name": "stdout",
     "output_type": "stream",
     "text": [
      "남성50-64세기본밥두류찌개육류볶음야채무침류저장완료!\n"
     ]
    },
    {
     "name": "stderr",
     "output_type": "stream",
     "text": [
      "100%|█████████████████████████████| 1079100/1079100 [00:54<00:00, 19778.18it/s]\n"
     ]
    },
    {
     "name": "stdout",
     "output_type": "stream",
     "text": [
      "9103 최대 칼로리 :  1436.875 최소 칼로리 :  862.125\n"
     ]
    },
    {
     "name": "stderr",
     "output_type": "stream",
     "text": [
      "100%|█████████████████████████████████████| 1000/1000 [00:02<00:00, 491.61it/s]\n",
      "C:\\Anaconda3\\lib\\site-packages\\ipykernel_launcher.py:285: SettingWithCopyWarning: \n",
      "A value is trying to be set on a copy of a slice from a DataFrame.\n",
      "Try using .loc[row_indexer,col_indexer] = value instead\n",
      "\n",
      "See the caveats in the documentation: http://pandas.pydata.org/pandas-docs/stable/indexing.html#indexing-view-versus-copy\n",
      "100%|██████████████████████████████████████| 500/500 [00:00<00:00, 4424.53it/s]\n",
      "C:\\Anaconda3\\lib\\site-packages\\ipykernel_launcher.py:320: SettingWithCopyWarning: \n",
      "A value is trying to be set on a copy of a slice from a DataFrame.\n",
      "Try using .loc[row_indexer,col_indexer] = value instead\n",
      "\n",
      "See the caveats in the documentation: http://pandas.pydata.org/pandas-docs/stable/indexing.html#indexing-view-versus-copy\n"
     ]
    },
    {
     "name": "stdout",
     "output_type": "stream",
     "text": [
      "남성50-64세01밥두류찌개육류볶음야채무침류저장완료!\n"
     ]
    },
    {
     "name": "stderr",
     "output_type": "stream",
     "text": [
      "100%|█████████████████████████████| 1079100/1079100 [00:54<00:00, 19951.89it/s]\n"
     ]
    },
    {
     "name": "stdout",
     "output_type": "stream",
     "text": [
      "580 최대 칼로리 :  1619.75 최소 칼로리 :  971.8499999999999\n"
     ]
    },
    {
     "name": "stderr",
     "output_type": "stream",
     "text": [
      "100%|████████████████████████████████████| 1000/1000 [00:00<00:00, 7999.54it/s]\n",
      "C:\\Anaconda3\\lib\\site-packages\\ipykernel_launcher.py:285: SettingWithCopyWarning: \n",
      "A value is trying to be set on a copy of a slice from a DataFrame.\n",
      "Try using .loc[row_indexer,col_indexer] = value instead\n",
      "\n",
      "See the caveats in the documentation: http://pandas.pydata.org/pandas-docs/stable/indexing.html#indexing-view-versus-copy\n",
      "100%|██████████████████████████████████████| 500/500 [00:00<00:00, 9614.85it/s]\n",
      "C:\\Anaconda3\\lib\\site-packages\\ipykernel_launcher.py:320: SettingWithCopyWarning: \n",
      "A value is trying to be set on a copy of a slice from a DataFrame.\n",
      "Try using .loc[row_indexer,col_indexer] = value instead\n",
      "\n",
      "See the caveats in the documentation: http://pandas.pydata.org/pandas-docs/stable/indexing.html#indexing-view-versus-copy\n"
     ]
    },
    {
     "name": "stdout",
     "output_type": "stream",
     "text": [
      "남성50-64세02밥두류찌개육류볶음야채무침류저장완료!\n"
     ]
    },
    {
     "name": "stderr",
     "output_type": "stream",
     "text": [
      "100%|█████████████████████████████| 1079100/1079100 [00:54<00:00, 19951.16it/s]\n"
     ]
    },
    {
     "name": "stdout",
     "output_type": "stream",
     "text": [
      "7 최대 칼로리 :  1802.16666625 최소 칼로리 :  1081.2999997499999\n"
     ]
    },
    {
     "name": "stderr",
     "output_type": "stream",
     "text": [
      "100%|██████████████████████████████████| 1000/1000 [00:00<00:00, 333331.00it/s]\n",
      "C:\\Anaconda3\\lib\\site-packages\\ipykernel_launcher.py:285: SettingWithCopyWarning: \n",
      "A value is trying to be set on a copy of a slice from a DataFrame.\n",
      "Try using .loc[row_indexer,col_indexer] = value instead\n",
      "\n",
      "See the caveats in the documentation: http://pandas.pydata.org/pandas-docs/stable/indexing.html#indexing-view-versus-copy\n",
      "100%|████████████████████████████████████| 500/500 [00:00<00:00, 249988.32it/s]\n",
      "C:\\Anaconda3\\lib\\site-packages\\ipykernel_launcher.py:320: SettingWithCopyWarning: \n",
      "A value is trying to be set on a copy of a slice from a DataFrame.\n",
      "Try using .loc[row_indexer,col_indexer] = value instead\n",
      "\n",
      "See the caveats in the documentation: http://pandas.pydata.org/pandas-docs/stable/indexing.html#indexing-view-versus-copy\n"
     ]
    },
    {
     "name": "stdout",
     "output_type": "stream",
     "text": [
      "남성50-64세03밥두류찌개육류볶음야채무침류저장완료!\n"
     ]
    },
    {
     "name": "stderr",
     "output_type": "stream",
     "text": [
      "100%|█████████████████████████████| 1079100/1079100 [00:54<00:00, 19816.32it/s]\n"
     ]
    },
    {
     "name": "stdout",
     "output_type": "stream",
     "text": [
      "52459 최대 칼로리 :  1260.4166662500002 최소 칼로리 :  756.24999975\n"
     ]
    },
    {
     "name": "stderr",
     "output_type": "stream",
     "text": [
      "100%|██████████████████████████████████████| 1000/1000 [00:11<00:00, 90.02it/s]\n",
      "C:\\Anaconda3\\lib\\site-packages\\ipykernel_launcher.py:285: SettingWithCopyWarning: \n",
      "A value is trying to be set on a copy of a slice from a DataFrame.\n",
      "Try using .loc[row_indexer,col_indexer] = value instead\n",
      "\n",
      "See the caveats in the documentation: http://pandas.pydata.org/pandas-docs/stable/indexing.html#indexing-view-versus-copy\n",
      "100%|██████████████████████████████████████| 500/500 [00:00<00:00, 4464.03it/s]\n",
      "C:\\Anaconda3\\lib\\site-packages\\ipykernel_launcher.py:320: SettingWithCopyWarning: \n",
      "A value is trying to be set on a copy of a slice from a DataFrame.\n",
      "Try using .loc[row_indexer,col_indexer] = value instead\n",
      "\n",
      "See the caveats in the documentation: http://pandas.pydata.org/pandas-docs/stable/indexing.html#indexing-view-versus-copy\n"
     ]
    },
    {
     "name": "stdout",
     "output_type": "stream",
     "text": [
      "남성50-64세11밥두류찌개육류볶음야채무침류저장완료!\n"
     ]
    },
    {
     "name": "stderr",
     "output_type": "stream",
     "text": [
      "100%|█████████████████████████████| 1079100/1079100 [00:53<00:00, 19992.56it/s]\n"
     ]
    },
    {
     "name": "stdout",
     "output_type": "stream",
     "text": [
      "11341 최대 칼로리 :  1420.8333337499998 최소 칼로리 :  852.50000025\n"
     ]
    },
    {
     "name": "stderr",
     "output_type": "stream",
     "text": [
      "100%|█████████████████████████████████████| 1000/1000 [00:02<00:00, 392.60it/s]\n",
      "C:\\Anaconda3\\lib\\site-packages\\ipykernel_launcher.py:285: SettingWithCopyWarning: \n",
      "A value is trying to be set on a copy of a slice from a DataFrame.\n",
      "Try using .loc[row_indexer,col_indexer] = value instead\n",
      "\n",
      "See the caveats in the documentation: http://pandas.pydata.org/pandas-docs/stable/indexing.html#indexing-view-versus-copy\n",
      "100%|██████████████████████████████████████| 500/500 [00:00<00:00, 4464.03it/s]\n",
      "C:\\Anaconda3\\lib\\site-packages\\ipykernel_launcher.py:320: SettingWithCopyWarning: \n",
      "A value is trying to be set on a copy of a slice from a DataFrame.\n",
      "Try using .loc[row_indexer,col_indexer] = value instead\n",
      "\n",
      "See the caveats in the documentation: http://pandas.pydata.org/pandas-docs/stable/indexing.html#indexing-view-versus-copy\n"
     ]
    },
    {
     "name": "stdout",
     "output_type": "stream",
     "text": [
      "남성50-64세12밥두류찌개육류볶음야채무침류저장완료!\n"
     ]
    },
    {
     "name": "stderr",
     "output_type": "stream",
     "text": [
      "100%|█████████████████████████████| 1079100/1079100 [00:53<00:00, 20065.05it/s]\n"
     ]
    },
    {
     "name": "stdout",
     "output_type": "stream",
     "text": [
      "1159 최대 칼로리 :  1581.25 최소 칼로리 :  948.75\n"
     ]
    },
    {
     "name": "stderr",
     "output_type": "stream",
     "text": [
      "100%|████████████████████████████████████| 1000/1000 [00:00<00:00, 3968.03it/s]\n",
      "C:\\Anaconda3\\lib\\site-packages\\ipykernel_launcher.py:285: SettingWithCopyWarning: \n",
      "A value is trying to be set on a copy of a slice from a DataFrame.\n",
      "Try using .loc[row_indexer,col_indexer] = value instead\n",
      "\n",
      "See the caveats in the documentation: http://pandas.pydata.org/pandas-docs/stable/indexing.html#indexing-view-versus-copy\n",
      "100%|██████████████████████████████████████| 500/500 [00:00<00:00, 4629.36it/s]\n",
      "C:\\Anaconda3\\lib\\site-packages\\ipykernel_launcher.py:320: SettingWithCopyWarning: \n",
      "A value is trying to be set on a copy of a slice from a DataFrame.\n",
      "Try using .loc[row_indexer,col_indexer] = value instead\n",
      "\n",
      "See the caveats in the documentation: http://pandas.pydata.org/pandas-docs/stable/indexing.html#indexing-view-versus-copy\n"
     ]
    },
    {
     "name": "stdout",
     "output_type": "stream",
     "text": [
      "남성50-64세13밥두류찌개육류볶음야채무침류저장완료!\n"
     ]
    },
    {
     "name": "stderr",
     "output_type": "stream",
     "text": [
      "100%|█████████████████████████████| 1079100/1079100 [00:54<00:00, 19833.44it/s]\n"
     ]
    },
    {
     "name": "stdout",
     "output_type": "stream",
     "text": [
      "127045 최대 칼로리 :  1083.958333375 최소 칼로리 :  650.375000025\n"
     ]
    }
   ],
   "source": [
    "# Dinner_one = ['밥','두류찌개','육류볶음','야채무침류']\n",
    "Dinner = [\n",
    "        ['밥','두류찌개','육류볶음','야채무침류'],\n",
    "        ['밥','육류찌개','두류부침찜','찜구이'],\n",
    "        ['밥','어패류찌개','육류볶음','야채무침류'],\n",
    "        ['밥','전골','어패류구이','채소만볶'],\n",
    "        ['덮밥','맑은국류','어패류구이','채소만볶']    \n",
    "]\n",
    "for Dinner_one in Dinner:\n",
    "    for row_num in range(0,96):\n",
    "        overflow = False\n",
    "        Meta_food_index = []\n",
    "        Meta_food_name = []\n",
    "        nu = [\"에너지(kcal)\",\"단백질(g)\",\"지질(g)\",'탄수화물(g)','총 당류(g)','총 식이섬유(g)','필수 아미노산(mg)','총 지방산(g)','칼슘(mg)','철(mg)','마그네슘(mg)','인(mg)','칼륨(mg)','나트륨(mg)','아연(mg)','구리(mg)','망간(mg)','셀레늄(μg)','몰리브덴(μg)','요오드(μg)','비타민D(μg)','비타민E(μg)','비타민K1(μg)','니아신(mg)','판토텐산(mg)','비타민B6(mg)','비오틴(mg)','엽산(mg)','비타민B12(μg)','비타민C(μg)','콜레스테롤(mg)']\n",
    "        no = [\"에너지(kcal)\",\"단백질(g)\",\"지질(g)\",'탄수화물(g)','총 당류(g)','총 식이섬유(g)','총 지방산(g)','나트륨(mg)','아연(mg)','구리(mg)','망간(mg)','셀레늄(μg)','비타민D(μg)','판토텐산(mg)','엽산(mg)','비타민B12(μg)','콜레스테롤(mg)']\n",
    "        nx = ['필수 아미노산(mg)','칼슘(mg)','철(mg)','마그네슘(mg)','인(mg)','칼륨(mg)','몰리브덴(μg)','요오드(μg)','비타민E(μg)','비타민K1(μg)','니아신(mg)','비타민B6(mg)','비오틴(mg)','비타민C(μg)']\n",
    "\n",
    "        nn = [0, 1, 2, 3, 4, 5, 7, 13, 14, 15, 16, 17, 20, 24, 27, 28, 30]\n",
    "        nnx = [6, 8, 9, 10, 11, 12, 18, 19, 21, 22, 23, 25, 26, 29]\n",
    "        nno = []\n",
    "        nns = []\n",
    "        for i in nn:\n",
    "            nno.append(i+5)\n",
    "            nns.append(i+4)\n",
    "        기본 ={}\n",
    "        메인 ={}\n",
    "        국 ={}\n",
    "        반찬 ={}\n",
    "        식단_이름 ={}\n",
    "        밥 = pd.read_excel('분할/기본/밥.xlsx')\n",
    "        면 = pd.read_excel('분할/기본/면.xlsx')\n",
    "        죽 = pd.read_excel('분할/기본/죽.xlsx')\n",
    "        덮밥= pd.read_excel('분할/기본/덮밥.xlsx')\n",
    "\n",
    "        곰국 = pd.read_excel('분할/국/곰국류.xlsx')\n",
    "        냉국 = pd.read_excel('분할/국/냉국.xlsx')\n",
    "        된장김치찌개 = pd.read_excel('분할/국/된장,김치찌개.xlsx')\n",
    "        된장국 = pd.read_excel('분할/국/된장국류.xlsx')\n",
    "        두류찌개 = pd.read_excel('분할/국/두류찌개.xlsx')\n",
    "        맑은국류 = pd.read_excel('분할/국/맑은국류.xlsx')\n",
    "        스프 = pd.read_excel('분할/국/스프.xlsx')\n",
    "        어패류찌개 = pd.read_excel('분할/국/어패류찌개.xlsx')\n",
    "        육류찌개 = pd.read_excel('분할/국/육류찌개.xlsx')\n",
    "        전골  = pd.read_excel('분할/국/전골.xlsx')\n",
    "\n",
    "        기타튀김 = pd.read_excel('분할/메인/기타튀김.xlsx')\n",
    "        두류볶조 = pd.read_excel('분할/메인/두류볶조.xlsx')\n",
    "        두류부침찜 = pd.read_excel('분할/메인/두류부침찜.xlsx')\n",
    "        어패류구이 = pd.read_excel('분할/메인/어패류구이.xlsx')\n",
    "        어패류전 = pd.read_excel('분할/메인/어패류전.xlsx')\n",
    "        어패류조림 = pd.read_excel('분할/메인/어패류조림.xlsx')\n",
    "        어패류찜 = pd.read_excel('분할/메인/어패류찜.xlsx')\n",
    "        어패류튀김 = pd.read_excel('분할/메인/어패류튀김.xlsx')\n",
    "        어패류회 = pd.read_excel('분할/메인/어패류회.xlsx')\n",
    "        육류구이 = pd.read_excel('분할/메인/육류구이.xlsx')\n",
    "        육류무침류 = pd.read_excel('분할/메인/육류무침류.xlsx')\n",
    "        육류볶음 = pd.read_excel('분할/메인/육류볶음.xlsx')\n",
    "        육류전 = pd.read_excel('분할/메인/육류전.xlsx')\n",
    "        육류찜류 = pd.read_excel('분할/메인/육류찜류.xlsx')\n",
    "        육류튀김 = pd.read_excel('분할/메인/육류튀김.xlsx')\n",
    "        채소류전 = pd.read_excel('분할/메인/채소류전.xlsx')\n",
    "\n",
    "        김짱 = pd.read_excel('분할/반찬/김짱.xlsx')\n",
    "        두류및기타볶튀 = pd.read_excel('분할/반찬/두류및기타볶튀.xlsx')\n",
    "        마른어패류볶음 = pd.read_excel('분할/반찬/마른어패류볶음.xlsx')\n",
    "        마른조림 = pd.read_excel('분할/반찬/마른조림.xlsx')\n",
    "        샐러드단품류 = pd.read_excel('분할/반찬/샐러드,단품류.xlsx')\n",
    "        야채무침류 = pd.read_excel('분할/반찬/야채무침류.xlsx')\n",
    "        육어류무침 = pd.read_excel('분할/반찬/육어류무침.xlsx')\n",
    "        젓갈류 = pd.read_excel('분할/반찬/젓갈류.xlsx')\n",
    "        찜구이 = pd.read_excel('분할/반찬/찜구이.xlsx')\n",
    "        채소만볶 = pd.read_excel('분할/반찬/채소만볶.xlsx')\n",
    "\n",
    "        # 밥\n",
    "        기본[\"면\"] =extract_nutri_list(면)[:-1]\n",
    "        기본[\"밥\"] =extract_nutri_list(밥)[:-1]\n",
    "        기본[\"죽\"] =extract_nutri_list(죽)[:-1]\n",
    "        기본[\"덮밥\"] =extract_nutri_list(덮밥)[:-1]\n",
    "\n",
    "        # 국\n",
    "        국['곰국'] =extract_nutri_list(곰국)[:-1]\n",
    "        국[\"냉국\"] =extract_nutri_list(냉국)[:-1]\n",
    "        국[\"된장김치찌개\"] =extract_nutri_list(된장김치찌개)[:-1]\n",
    "        국[\"된장국\"] = extract_nutri_list(된장국)[:-1]\n",
    "        국[\"두류찌개\"] = extract_nutri_list(두류찌개)[:-1]\n",
    "        국[\"맑은국류\"] = extract_nutri_list(맑은국류)[:-1]\n",
    "        국[\"스프\"] = extract_nutri_list(스프)[:-1]\n",
    "        국[\"어패류찌개\"] = extract_nutri_list(어패류찌개)[:-1]\n",
    "        국[\"육류찌개\"] = extract_nutri_list(육류찌개)[:-1]\n",
    "        국[\"전골\"] = extract_nutri_list(전골)[:-1]\n",
    "\n",
    "\n",
    "        # 메인반찬\n",
    "        메인[\"기타튀김\"]  =extract_nutri_list(기타튀김)[:-1]\n",
    "        메인[\"두류볶조\"]  =extract_nutri_list(두류볶조)[:-1]\n",
    "        메인[\"두류부침찜\"]  =extract_nutri_list(두류부침찜)[:-1]\n",
    "        메인[\"어패류구이\"]  =extract_nutri_list(어패류구이)[:-1]\n",
    "        메인[\"어패류전\"]  =extract_nutri_list(어패류전)[:-1]\n",
    "        메인[\"어패류조림\"]  =extract_nutri_list(어패류조림)[:-1]\n",
    "        메인[\"어패류찜\"]  =extract_nutri_list(어패류찜)[:-1]\n",
    "        메인[\"어패류튀김\"]  =extract_nutri_list(어패류튀김)[:-1]\n",
    "        메인[\"어패류회\"]  =extract_nutri_list(어패류회)[:-1]\n",
    "        메인[\"육류구이\"]  =extract_nutri_list(육류구이)[:-1]\n",
    "        메인[\"육류무침류\"]  =extract_nutri_list(육류무침류)[:-1]\n",
    "        메인[\"육류볶음\"]  =extract_nutri_list(육류볶음)[:-1]\n",
    "        메인[\"육류전\"]  =extract_nutri_list(육류전)[:-1]\n",
    "        메인[\"육류찜류\"]  =extract_nutri_list(육류찜류)[:-1]\n",
    "        메인[\"육류튀김\"]  =extract_nutri_list(육류튀김)[:-1]\n",
    "        메인[\"채소류전\"]  =extract_nutri_list(채소류전)[:-1]\n",
    "\n",
    "\n",
    "        # 서브반찬\n",
    "        반찬[\"김짱\"] =extract_nutri_list(김짱)[:-1]\n",
    "        반찬[\"두류및기타볶튀\"] =extract_nutri_list(두류및기타볶튀)[:-1]\n",
    "        반찬[\"마른어패류볶음\"] =extract_nutri_list(마른어패류볶음)[:-1]\n",
    "        반찬[\"마른조림\"] =extract_nutri_list(마른조림)[:-1]\n",
    "        반찬[\"샐러드단품류\"] =extract_nutri_list(샐러드단품류)[:-1]\n",
    "        반찬[\"야채무침류\"] =extract_nutri_list(야채무침류)[:-1]\n",
    "        반찬[\"육어류무침\"] =extract_nutri_list(육어류무침)[:-1]\n",
    "        반찬[\"젓갈류\"] =extract_nutri_list(젓갈류)[:-1]\n",
    "        반찬[\"찜구이\"] =extract_nutri_list(찜구이)[:-1]\n",
    "        반찬[\"채소만볶\"] =extract_nutri_list(채소만볶)[:-1]\n",
    "\n",
    "\n",
    "\n",
    "\n",
    "\n",
    "\n",
    "\n",
    "\n",
    "\n",
    "        Korea_Food_Standard= []\n",
    "        Korea_Food_Standard_Excel = pd.read_excel('한국인영양소섭취기준.xlsx')\n",
    "        Nutri_name = Korea_Food_Standard_Excel.columns[nns]\n",
    "        Nutri_name = Nutri_name.values.tolist()\n",
    "\n",
    "        Korea_Food_Standard = []\n",
    "\n",
    "        Korea_Food_Standard.append(Korea_Food_Standard_Excel.iloc[row_num][nns].values.tolist())\n",
    "\n",
    "\n",
    "\n",
    "        # 이름테이블\n",
    "\n",
    "        BreakFast = [\n",
    "            ['죽','어패류구이','김짱'],\n",
    "            ['죽','어패류조림','찜구이'],\n",
    "            ['밥','두류찌개','어패류구이','채소만볶'],\n",
    "            ['밥','어패류찌개','두류볶조','야채무침류'],\n",
    "            ['밥','육류찌개','어패류구이','야채무침류'],\n",
    "        ]\n",
    "\n",
    "        # for BreakFast_one in BreakFast:\n",
    "\n",
    "        #     # 길이가 3개인경우 처리\n",
    "\n",
    "        #     BreakFast_Menu =[]\n",
    "        #     BreakFast_Menu_Name = []\n",
    "\n",
    "        #     if(len(BreakFast_one) == 3):\n",
    "        #         BreakFast_Menu.append(기본[BreakFast_one[0]])\n",
    "        #         BreakFast_Menu.append(메인[BreakFast_one[1]])\n",
    "        #         BreakFast_Menu.append(반찬[BreakFast_one[2]])  \n",
    "\n",
    "        #     # 길이가 4개인경우 처리\n",
    "        #     if(len(BreakFast_one) == 4):\n",
    "        #         BreakFast_Menu.append(기본[BreakFast_one[0]])\n",
    "        #         BreakFast_Menu.append(국[BreakFast_one[1]])\n",
    "        #         BreakFast_Menu.append(메인[BreakFast_one[2]])\n",
    "        #         BreakFast_Menu.append(반찬[BreakFast_one[3]])\n",
    "\n",
    "\n",
    "        #for Dinner_one in Dinner:\n",
    "\n",
    "\n",
    "            # 길이가 3개인경우 처리\n",
    "\n",
    "        save_food_name =\"\"\n",
    "\n",
    "        for index in Dinner_one:\n",
    "            save_food_name += index\n",
    "        Dinner_Menu =[]\n",
    "        Dinner_Menu_Name = []\n",
    "\n",
    "        if(len(Dinner_one) == 3):\n",
    "            Dinner_Menu.append(기본[Dinner_one[0]])\n",
    "            Dinner_Menu.append(메인[Dinner_one[1]])\n",
    "            Dinner_Menu.append(반찬[Dinner_one[2]]) \n",
    "\n",
    "            Combination_Tabel = pd.DataFrame(Make_Food_Table(Menu))\n",
    "\n",
    "        # 길이가 4개인경우 처리\n",
    "\n",
    "        if(len(Dinner_one) == 4):\n",
    "\n",
    "            Dinner_Menu.append(기본[Dinner_one[0]])\n",
    "            Dinner_Menu.append(국[Dinner_one[1]])\n",
    "            Dinner_Menu.append(메인[Dinner_one[2]])\n",
    "            Dinner_Menu.append(반찬[Dinner_one[3]])\n",
    "\n",
    "        Combination_Tabel = pd.DataFrame(Make_Food_Table(Dinner_Menu) , columns = ['밥','국','메인','반찬'])\n",
    "\n",
    "        standard = Korea_Food_Standard[0]\n",
    "        Result_Menu = pd.DataFrame(ADD_Total_Nutrition_NUMBERS4(Combination_Tabel,standard), columns = Nutri_name)\n",
    "\n",
    "\n",
    "        식단_이름['밥류'] =extract_nutri_list(pd.read_excel('분할/기본/'+Dinner_one[0]+'.xlsx'))[-1]\n",
    "        식단_이름['국,찌개류'] =extract_nutri_list(pd.read_excel('분할/국/'+Dinner_one[1]+'.xlsx'))[-1]\n",
    "        식단_이름['메인'] = extract_nutri_list(pd.read_excel('분할/메인/'+Dinner_one[2]+'.xlsx'))[-1]\n",
    "        식단_이름['서브'] = extract_nutri_list(pd.read_excel('분할/반찬/'+Dinner_one[3]+'.xlsx'))[-1]\n",
    "\n",
    "        Menu_name = 식단_이름['밥류'],식단_이름['국,찌개류'],식단_이름['메인'],식단_이름['서브']\n",
    "        Combination_Tabel_name = pd.DataFrame(Make_Food_Table(Menu_name))\n",
    "        Combination_Tabel_name = Combination_Tabel_name.loc[Meta_food_name]\n",
    "        Combination_Tabel_name.index = [i for i in range(0,len(Combination_Tabel_name))]\n",
    "        print(len(Result_Menu), \"최대 칼로리 : \" , standard[0]*1.25 , \"최소 칼로리 : \", standard[0]*0.75)\n",
    "        if(len(Result_Menu) == 0 ): \n",
    "\n",
    "            print(save_name + save_food_name +\"에는 필터결과가없다!\")\n",
    "            continue\n",
    "        limit_int = 50000\n",
    "        if(len(Result_Menu) > limit_int):\n",
    "            overflow = True\n",
    "            total =[]\n",
    "            for i in range(limit_int):\n",
    "                temp = numpy.random.randint(len(Result_Menu))\n",
    "                a = Result_Menu.loc[temp]\n",
    "                total.append(list(a))\n",
    "                Meta_food_index.append(temp)\n",
    "            Result_Menu = pd.DataFrame(total)\n",
    "\n",
    "        df = pd.DataFrame()\n",
    "        new = []\n",
    "        if(overflow):\n",
    "\n",
    "            밥이름_ =[]\n",
    "            국이름_= []\n",
    "            메인이름_ = []\n",
    "            서브이름_ = []\n",
    "\n",
    "            for index in Meta_food_index:\n",
    "                temp = Combination_Tabel_name.loc[index]\n",
    "                밥이름_.append(temp[0])\n",
    "                국이름_.append(temp[1])\n",
    "                메인이름_.append(temp[2])\n",
    "                서브이름_.append(temp[3])\n",
    "            df['밥'] =  밥이름_\n",
    "            df['국'] =  국이름_\n",
    "            df['메인'] =  메인이름_\n",
    "            df['서브'] =  서브이름_\n",
    "\n",
    "        else:\n",
    "            df = Combination_Tabel_name\n",
    "        # 1차 코사인 유사도 : 단 지 탄 당 에대해서 칼로리 125<>75 인 식단들과 유사도 판별\n",
    "        Standard = standard[1:5]\n",
    "        One_Demension_Cosine_Similarity_Target = Result_Menu.iloc[:,1:5]\n",
    "        First_Food_Cosine_Similarity = cosine_similarity(One_Demension_Cosine_Similarity_Target,[Standard])\n",
    "\n",
    "\n",
    "        # 0 : 남성 50 - 64 세 1 : 남성 65 - 74세  2: 남성 75세 이상\n",
    "        # 3 : 여성 50 - 64 세 4 : 여성 65 - 74세  5: 여성 75세 이상\n",
    "\n",
    "        First_result_Sim= []\n",
    "        First_index = []\n",
    "        First_prob = []   \n",
    "        First_result_Sim = numpy.array([First_Food_Cosine_Similarity.T[0]])\n",
    "        First_result_Sim_Order_index = First_result_Sim.argsort()[:,::-1]\n",
    "\n",
    "        Middle_Num = 1000\n",
    "\n",
    "        for order in trange(Middle_Num):\n",
    "            try:\n",
    "                for arr,i in enumerate(First_result_Sim_Order_index[0]):\n",
    "                    if(arr ==order):\n",
    "                        if (First_result_Sim[0][i] < 0.95): break\n",
    "                        First_index.append(i)\n",
    "\n",
    "                        # 유사도는 95퍼센트 이상만 가져온다.    \n",
    "                        First_prob.append(First_result_Sim[0][i])\n",
    "            except: break\n",
    "\n",
    "        Result_Food_Table = df.iloc[First_index]\n",
    "\n",
    "        Result_Food_Table.columns = ['밥','국','메인','서브']\n",
    "        Result_Food_Table['유사도'] = First_prob\n",
    "\n",
    "\n",
    "        Result_Food_Table = Result_Menu.iloc[First_index]\n",
    "\n",
    "        # 2차 코사인 유사도 : 나머지영양소에 대해서 식단들과 유사도 판별\n",
    "\n",
    "        Standard = standard[5:]\n",
    "        Two_Demension_Cosine_Similarity_Target = Result_Food_Table.iloc[:,5:]\n",
    "        Second_Food_Cosine_Similarity = cosine_similarity(Two_Demension_Cosine_Similarity_Target,[Standard])\n",
    "\n",
    "\n",
    "        # 0 : 남성 50 - 64 세 1 : 남성 65 - 74세  2: 남성 75세 이상\n",
    "        # 3 : 여성 50 - 64 세 4 : 여성 65 - 74세  5: 여성 75세 이상\n",
    "\n",
    "        Second_result_Sim= []\n",
    "        Second_index = []\n",
    "        Second_prob = []\n",
    "\n",
    "        Second_result_Sim = numpy.array([Second_Food_Cosine_Similarity.T[0]])\n",
    "        Second_result_Sim_Order_index = Second_result_Sim.argsort()[:,::-1]\n",
    "\n",
    "        top_n = 500\n",
    "        for order in trange(top_n):\n",
    "            try:\n",
    "                for arr,i in enumerate(Second_result_Sim_Order_index[0]):\n",
    "                    if(arr ==order):\n",
    "                        if (Second_result_Sim[0][i] < 0.95): break;\n",
    "                        Second_index.append(i)\n",
    "                        Second_prob.append(Second_result_Sim[0][i])\n",
    "            except: break\n",
    "\n",
    "\n",
    "        Result_Food_Table = df.iloc[Second_index]\n",
    "        Result_Food_Table.columns = ['밥','국','메인','서브']\n",
    "        Result_Food_Table['유사도'] = Second_prob\n",
    "\n",
    "        save_name = Korea_Food_Standard_Excel.loc[row_num][0] + Korea_Food_Standard_Excel.loc[row_num][1] + Korea_Food_Standard_Excel.loc[row_num][2]\n",
    "        Result_Food_Table.to_excel(\"저녁점심식단/\"+save_name + save_food_name+ '2.xlsx')\n",
    "        print(save_name + save_food_name +\"저장완료!\")\n"
   ]
  },
  {
   "cell_type": "code",
   "execution_count": null,
   "metadata": {},
   "outputs": [],
   "source": [
    "First_prob"
   ]
  },
  {
   "cell_type": "code",
   "execution_count": null,
   "metadata": {},
   "outputs": [],
   "source": []
  },
  {
   "cell_type": "code",
   "execution_count": null,
   "metadata": {},
   "outputs": [],
   "source": []
  },
  {
   "cell_type": "code",
   "execution_count": null,
   "metadata": {},
   "outputs": [],
   "source": []
  },
  {
   "cell_type": "code",
   "execution_count": null,
   "metadata": {},
   "outputs": [],
   "source": []
  },
  {
   "cell_type": "code",
   "execution_count": null,
   "metadata": {},
   "outputs": [],
   "source": []
  },
  {
   "cell_type": "code",
   "execution_count": null,
   "metadata": {},
   "outputs": [],
   "source": []
  },
  {
   "cell_type": "code",
   "execution_count": null,
   "metadata": {},
   "outputs": [],
   "source": []
  },
  {
   "cell_type": "code",
   "execution_count": null,
   "metadata": {},
   "outputs": [],
   "source": []
  },
  {
   "cell_type": "code",
   "execution_count": null,
   "metadata": {},
   "outputs": [],
   "source": []
  }
 ],
 "metadata": {
  "kernelspec": {
   "display_name": "Python 3",
   "language": "python",
   "name": "python3"
  },
  "language_info": {
   "codemirror_mode": {
    "name": "ipython",
    "version": 3
   },
   "file_extension": ".py",
   "mimetype": "text/x-python",
   "name": "python",
   "nbconvert_exporter": "python",
   "pygments_lexer": "ipython3",
   "version": "3.7.3"
  }
 },
 "nbformat": 4,
 "nbformat_minor": 2
}
