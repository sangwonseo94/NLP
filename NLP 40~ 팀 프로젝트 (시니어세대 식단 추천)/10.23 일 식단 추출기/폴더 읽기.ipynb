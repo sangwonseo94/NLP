{
 "cells": [
  {
   "cell_type": "markdown",
   "metadata": {
    "colab_type": "text",
    "id": "VdoqIFXug9oy"
   },
   "source": [
    "### 해당 폴더의 모든 파일들의 이름을 인자로 하는 list가 나온다.\n",
    "\n",
    "* 폴더 내에 있는 파일뿐만 아니라 폴더 내의 폴더 역시 읽어온다.\n",
    "\n",
    "> 예시<br> \n",
    "['남성_65-74세_31_밥_두류찌개_어패류구이_채소만볶.xlsx',<br>\n",
    " '남성_65-74세_32_밥_어패류찌개_두류볶조_야채무침류.xlsx',<br>\n",
    " '남성_65-74세_42_밥_두류찌개_어패류구이_채소만볶.xlsx',<br>\n",
    " '남성_75이상_02_밥_두류찌개_어패류구이_채소만볶.xlsx',<br>\n",
    " '남성_75이상_11_밥_육류찌개_어패류구이_야채무침류.xlsx',<br>\n",
    " '남성_75이상_31_밥_두류찌개_어패류구이_채소만볶.xlsx',<br>\n",
    " '여성_50-64세_32_밥_두류찌개_어패류구이_채소만볶.xlsx',<br>\n",
    " '여성_50-64세_43_밥_두류찌개_어패류구이_채소만볶.xlsx',<br>\n",
    " '여성_75이상_13_밥_어패류찌개_두류볶조_야채무침류.xlsx',<br>\n",
    " '여성_75이상_21_밥_어패류찌개_두류볶조_야채무침류.xlsx']"
   ]
  },
  {
   "cell_type": "code",
   "execution_count": 1,
   "metadata": {
    "colab": {},
    "colab_type": "code",
    "id": "nV7O4U-7guk2"
   },
   "outputs": [],
   "source": [
    "# 폴더 내의 모든 파일들을 읽어오는 코드\n",
    "import pandas as pd\n",
    "from tqdm import trange\n",
    "from os import listdir\n",
    "\n",
    "Load_Folder_path = \"C:\\저지방중복제거작업\\저지방식단\"\n",
    "Save_Folder_path = \"C:\\저지방중복제거작업\\중복제거된_저지방식단\"\n",
    "\n",
    "Onlyfolder = [f for f in listdir(Load_Folder_path)]\n",
    "\n",
    "## index는 식단의 개수 \n",
    "for Number in trange(len(Onlyfolder)):\n",
    "    Files_path = Load_Folder_path +\"\\\\\" +Onlyfolder[Number]\n",
    "    ## Onlyfiles = [file for file in listdir(Files_path)]\n",
    "    Only_one_file_Dataframe = pd.read_csv(Files_path , encoding = \"utf-8\")\n",
    "    Drop_duplicate_Dataframe = Only_one_file_Dataframe.drop_duplicates(['국','메인'], keep=\"first\")\n",
    "    Drop_duplicate_Dataframe.to_csv(Save_Folder_path + \"\\\\\" + Onlyfolder[Number])\n",
    "    ## index는 기준식단 96 개중 하나\n",
    "    ##for Number_of_file in trange(len(Onlyfiles)):\n",
    "    ##    One_file_path = Files_path + \"\\\\\" + Onlyfiles[Number_of_file]\n",
    "    ##    Only_one_file_Dataframe = pd.read_csv(One_file_path , encoding = \"utf-8\")\n",
    "        \n",
    "        "
   ]
  },
  {
   "cell_type": "code",
   "execution_count": 3,
   "metadata": {},
   "outputs": [
    {
     "name": "stderr",
     "output_type": "stream",
     "text": [
      "100%|██████████████████████████████████████████| 96/96 [00:01<00:00, 81.14it/s]\n",
      "100%|██████████████████████████████████████████| 90/90 [00:01<00:00, 86.20it/s]\n",
      "100%|██████████████████████████████████████████| 96/96 [00:01<00:00, 55.52it/s]\n",
      "100%|██████████████████████████████████████████| 96/96 [00:01<00:00, 83.47it/s]\n",
      "100%|█████████████████████████████████████████| 94/94 [00:00<00:00, 101.73it/s]\n",
      "100%|█████████████████████████████████████████| 96/96 [00:00<00:00, 129.20it/s]\n",
      "100%|██████████████████████████████████████████| 96/96 [00:01<00:00, 77.29it/s]\n",
      "100%|██████████████████████████████████████████| 87/87 [00:01<00:00, 50.49it/s]\n"
     ]
    }
   ],
   "source": [
    "Load_Folder_path = \"C:\\중복제거작업\\저녁식단\"\n",
    "Save_Folder_path = \"C:\\중복제거작업\\중복제거된_저녁식단\"\n",
    "\n",
    "Onlyfolder = [f for f in listdir(Load_Folder_path)]\n",
    "\n",
    "## index는 식단의 개수 \n",
    "for Number in range(len(Onlyfolder)):\n",
    "    Files_path = Load_Folder_path +\"\\\\\" +Onlyfolder[Number]\n",
    "    Onlyfiles = [file for file in listdir(Files_path)]\n",
    "\n",
    "    ## index는 기준식단 96 개중 하나\n",
    "    for Number_of_file in trange(len(Onlyfiles)):\n",
    "        One_file_path = Files_path + \"\\\\\" + Onlyfiles[Number_of_file]\n",
    "        Only_one_file_Dataframe = pd.read_csv(One_file_path , encoding = \"utf-8\")\n",
    "        Drop_duplicate_Dataframe = Only_one_file_Dataframe.drop_duplicates(['국','메인'], keep=\"first\")\n",
    "        Drop_duplicate_Dataframe.to_csv(Save_Folder_path + \"\\\\\" + Onlyfolder[Number] + \"\\\\\" +Onlyfiles[Number_of_file])"
   ]
  },
  {
   "cell_type": "code",
   "execution_count": null,
   "metadata": {},
   "outputs": [],
   "source": []
  }
 ],
 "metadata": {
  "colab": {
   "collapsed_sections": [],
   "name": "폴더 읽기.ipynb",
   "provenance": []
  },
  "kernelspec": {
   "display_name": "Python 3",
   "language": "python",
   "name": "python3"
  },
  "language_info": {
   "codemirror_mode": {
    "name": "ipython",
    "version": 3
   },
   "file_extension": ".py",
   "mimetype": "text/x-python",
   "name": "python",
   "nbconvert_exporter": "python",
   "pygments_lexer": "ipython3",
   "version": "3.7.3"
  }
 },
 "nbformat": 4,
 "nbformat_minor": 1
}
