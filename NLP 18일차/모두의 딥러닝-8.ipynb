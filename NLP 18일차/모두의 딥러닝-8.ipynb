{
 "cells": [
  {
   "cell_type": "code",
   "execution_count": 47,
   "metadata": {},
   "outputs": [
    {
     "name": "stdout",
     "output_type": "stream",
     "text": [
      "tensor([[-0.6438, -0.4956, -1.7554, -1.6907],\n",
      "        [ 0.2146, -0.8561, -0.7152, -1.2076],\n",
      "        [ 1.0730, -0.8561, -0.7152, -0.2415],\n",
      "        [ 1.9314, -0.8561,  0.3251,  0.2415],\n",
      "        [-0.6438,  1.3067,  0.3251,  0.2415],\n",
      "        [-0.6438, -0.4956,  0.3251,  0.7246],\n",
      "        [-0.6438,  0.9462,  0.8452,  0.7246],\n",
      "        [-0.6438,  1.3067,  1.3653,  1.2076]])\n",
      "Epoch : 0, Cost : 0.9317\n",
      "Epoch : 100, Cost : 0.3626\n",
      "Epoch : 200, Cost : 0.2577\n",
      "Epoch : 300, Cost : 0.1953\n",
      "Epoch : 400, Cost : 0.1545\n",
      "Epoch : 500, Cost : 0.1259\n",
      "Epoch : 600, Cost : 0.1047\n",
      "Epoch : 700, Cost : 0.0883\n",
      "Epoch : 800, Cost : 0.0754\n",
      "Epoch : 900, Cost : 0.0650\n",
      "Epoch : 1000, Cost : 0.0565\n",
      "Epoch : 1100, Cost : 0.0495\n",
      "Epoch : 1200, Cost : 0.0437\n",
      "Epoch : 1300, Cost : 0.0387\n",
      "Epoch : 1400, Cost : 0.0345\n",
      "Epoch : 1500, Cost : 0.0309\n",
      "Epoch : 1600, Cost : 0.0278\n",
      "Epoch : 1700, Cost : 0.0252\n",
      "Epoch : 1800, Cost : 0.0228\n",
      "Epoch : 1900, Cost : 0.0208\n",
      "Epoch : 2000, Cost : 0.0189\n",
      "Epoch : 2100, Cost : 0.0173\n",
      "Epoch : 2200, Cost : 0.0159\n",
      "Epoch : 2300, Cost : 0.0146\n",
      "Epoch : 2400, Cost : 0.0135\n",
      "Epoch : 2500, Cost : 0.0125\n",
      "Epoch : 2600, Cost : 0.0115\n",
      "Epoch : 2700, Cost : 0.0107\n",
      "Epoch : 2800, Cost : 0.0099\n",
      "Epoch : 2900, Cost : 0.0092\n",
      "Epoch : 3000, Cost : 0.0086\n",
      "Epoch : 3100, Cost : 0.0080\n",
      "Epoch : 3200, Cost : 0.0075\n",
      "Epoch : 3300, Cost : 0.0070\n",
      "Epoch : 3400, Cost : 0.0065\n",
      "Epoch : 3500, Cost : 0.0061\n",
      "Epoch : 3600, Cost : 0.0057\n",
      "Epoch : 3700, Cost : 0.0054\n",
      "Epoch : 3800, Cost : 0.0050\n",
      "Epoch : 3900, Cost : 0.0047\n",
      "Epoch : 4000, Cost : 0.0045\n",
      "Epoch : 4100, Cost : 0.0042\n",
      "Epoch : 4200, Cost : 0.0039\n",
      "Epoch : 4300, Cost : 0.0037\n",
      "Epoch : 4400, Cost : 0.0035\n",
      "Epoch : 4500, Cost : 0.0033\n",
      "Epoch : 4600, Cost : 0.0031\n",
      "Epoch : 4700, Cost : 0.0029\n",
      "Epoch : 4800, Cost : 0.0028\n",
      "Epoch : 4900, Cost : 0.0026\n",
      "Epoch : 5000, Cost : 0.0025\n"
     ]
    },
    {
     "data": {
      "image/png": "[encoded data removed]",
      "text/plain": [
       "<Figure size 432x288 with 1 Axes>"
      ]
     },
     "metadata": {
      "needs_background": "light"
     },
     "output_type": "display_data"
    }
   ],
   "source": [
    "import torch \n",
    "import torch.nn as nn\n",
    "import torch.nn.functional as F\n",
    "import torch.optim as optim\n",
    "import matplotlib.pyplot as plt\n",
    "import numpy as np\n",
    "\n",
    "class SoftmaxClassification(nn.Module):\n",
    "    def __init__(self,input_row,input_col):\n",
    "        super().__init__()\n",
    "        self.Linear = nn.Linear(input_row,input_col)\n",
    "    def forward(self,input_x):\n",
    "        return self.Linear(input_x)\n",
    "    \n",
    "x_train = torch.Tensor([\n",
    "    [1,2,1,1],\n",
    "    [2,1,3,2],\n",
    "    [3,1,3,4],\n",
    "    [4,1,5,5],\n",
    "    [1,7,5,5],\n",
    "    [1,2,5,6],\n",
    "    [1,6,6,6],\n",
    "    [1,7,7,7],    \n",
    "])\n",
    "y_train = torch.LongTensor([\n",
    "    2,2,2,1,1,1,0,0\n",
    "])\n",
    "x_exp = x_train.mean(dim = 0 )  # col방향으로 평균을 구하자\n",
    "x_sigma = x_train.std(dim = 0 ) # col 방향으로 표준편차를 구하자\n",
    "Norm_x_train = (x_train-x_exp) / x_sigma\n",
    "print(Norm_x_train)\n",
    "cost_list = []\n",
    "Model = SoftmaxClassification(4,3)\n",
    "optimizer = optim.Adam(Model.parameters(),lr = 0.01)\n",
    "\n",
    "for Epoch in range(5001):\n",
    "    \n",
    "    hypothesis = Model.forward(Norm_x_train )\n",
    "    cost = F.cross_entropy(hypothesis,y_train)\n",
    "    \n",
    "    optimizer.zero_grad()\n",
    "    cost.backward()\n",
    "  \n",
    "    optimizer.step()\n",
    "    cost_list.append(cost.item())\n",
    "    if Epoch% 100 ==0 :\n",
    "        print(\"Epoch : {}, Cost : {:.4f}\".format(Epoch,cost.item()))\n",
    "x= np.linspace(0,10000,5001)\n",
    "plt.plot(x,cost_list,'r')\n",
    "plt.xlabel(\"Epoch\")\n",
    "plt.ylabel(\"cost\")\n",
    "plt.show()\n"
   ]
  },
  {
   "cell_type": "code",
   "execution_count": null,
   "metadata": {},
   "outputs": [],
   "source": []
  },
  {
   "cell_type": "code",
   "execution_count": null,
   "metadata": {},
   "outputs": [],
   "source": []
  }
 ],
 "metadata": {
  "kernelspec": {
   "display_name": "Python 3",
   "language": "python",
   "name": "python3"
  },
  "language_info": {
   "codemirror_mode": {
    "name": "ipython",
    "version": 3
   },
   "file_extension": ".py",
   "mimetype": "text/x-python",
   "name": "python",
   "nbconvert_exporter": "python",
   "pygments_lexer": "ipython3",
   "version": "3.6.9"
  }
 },
 "nbformat": 4,
 "nbformat_minor": 2
}
