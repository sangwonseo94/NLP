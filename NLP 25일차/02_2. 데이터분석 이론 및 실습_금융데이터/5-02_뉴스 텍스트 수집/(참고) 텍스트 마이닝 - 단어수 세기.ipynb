{
  "nbformat": 4,
  "nbformat_minor": 0,
  "metadata": {
    "colab": {
      "name": "텍스트마이닝 - 단어 수 세기.ipynb",
      "version": "0.3.2",
      "provenance": [],
      "collapsed_sections": []
    },
    "language_info": {
      "codemirror_mode": {
        "name": "ipython",
        "version": 3
      },
      "file_extension": ".py",
      "mimetype": "text/x-python",
      "name": "python",
      "nbconvert_exporter": "python",
      "pygments_lexer": "ipython3",
      "version": "3.6.7"
    },
    "kernelspec": {
      "display_name": "Python 3",
      "language": "python",
      "name": "python3"
    }
  },
  "cells": [
    {
      "metadata": {
        "id": "Yi0ci-MT7wFQ",
        "colab_type": "text"
      },
      "cell_type": "markdown",
      "source": [
        "# 텍스트 마이닝 - 단어수 세기\n",
        "\n",
        "매우 간단한 분석이지만 활용도가 높은 단어수 세기\n",
        "\n",
        "#### 2019 [FinanceData.KR]()"
      ]
    },
    {
      "metadata": {
        "id": "YhANdgLp6BP4",
        "colab_type": "text"
      },
      "cell_type": "markdown",
      "source": [
        "## 예제 데이터\n",
        "\n",
        "MS, 애플 이어 '시총 1조 달러'…\"미 증시 MAGA 시대\" (JTBC뉴스)\n",
        "\n",
        "https://news.naver.com/main/read.nhn?mode=LPOD&mid=sec&oid=437&aid=0000208941"
      ]
    },
    {
      "metadata": {
        "id": "SK0wqMMeFWle",
        "colab_type": "code",
        "colab": {}
      },
      "cell_type": "code",
      "source": [
        "text = '''\n",
        "MS, 애플 이어 '시총 1조 달러'…\"미 증시 MAGA 시대\"\n",
        "지난 8월 애플 이후 두 번째 '꿈의 시총'\n",
        "[앵커]\n",
        "미국증시에서 꿈의 시총으로 불리는 1조 달러를 원조 기술주인 마이크로소프트가 달성을 했습니다. 지난해 8월 애플에 이어서 두 번째입니다. 아마존, 그리고 구글의 모기업 알파벳도 시총 1조 클럽 후보군에 올라있습니다. 이런 IT 대형주들이 뉴욕증시의 상승을 이끌고 있습니다.\n",
        "이상화 기자입니다.\n",
        "[기자]\n",
        "뉴욕증시에서 마이크로소프트가 종가 기준 1조 10억 달러를 기록했습니다.\n",
        "원화로는 1168조 원.\n",
        "지난달 24일 시간외거래에서 시총 1조 달러를 기록한 후, 4일 만에 종가 기준으로도 1조 달러를 넘어선 것입니다.\n",
        "클라우드 컴퓨팅 사업이 새로운 성장동력입니다.\n",
        "MS의 1분기 순이익은 88억 달러로 지난해보다 19% 늘었습니다.\n",
        "1조 달러는 '꿈의 시가총액'이라 불립니다.\n",
        "지난 8월 애플이 1조 달러를 달성했고 이번이 두 번째입니다.\n",
        "현재 애플은 9460억 달러로 1조 달러 고지를 다시 넘보고 있습니다.\n",
        "아마존이 9480억 달러, 구글의 모기업 알파벳도 8290억 달러로 시총 1조 클럽 후보군에 이름을 올리고 있습니다.\n",
        "월스트리트저널은 이들 IT 공룡주들이 뉴욕증시 상승 흐름을 만들어내고 있다고 전했습니다.\n",
        "올해 들어 S&P500 지수는 18% 상승했습니다.\n",
        "1987년 이후 가장 높은 상승률입니다.\n",
        "MS, 아마존, 구글, 애플의 앞 글자를 따서 MAGA, 마가의 시대가 왔다고 표현하기도 합니다.\n",
        "기존 5대 기술주, 페이스북·아마존·애플·넷플릭스·구글을 뜻하는 FAANG, 팡 그룹에서 페이스북과 넷플릭스가 빠지고 MS가 추가된 것입니다.\n",
        "이상화(sh9989@jtbc.co.kr) [영상편집: 김영선]\n",
        "'''"
      ],
      "execution_count": 0,
      "outputs": []
    },
    {
      "metadata": {
        "id": "Ax2A0POs6s1g",
        "colab_type": "text"
      },
      "cell_type": "markdown",
      "source": [
        "## 문자열에서 단어 등장 횟수 카운트"
      ]
    },
    {
      "metadata": {
        "id": "meGAvB0aFWlg",
        "colab_type": "code",
        "colab": {
          "base_uri": "https://localhost:8080/",
          "height": 35
        },
        "outputId": "00c149c1-f6b7-4226-8a85-4ab251e5daa4"
      },
      "cell_type": "code",
      "source": [
        "text.count('애플')"
      ],
      "execution_count": 7,
      "outputs": [
        {
          "output_type": "execute_result",
          "data": {
            "text/plain": [
              "7"
            ]
          },
          "metadata": {
            "tags": []
          },
          "execution_count": 7
        }
      ]
    },
    {
      "metadata": {
        "id": "m3Fn3neRFWl3",
        "colab_type": "code",
        "colab": {
          "base_uri": "https://localhost:8080/",
          "height": 35
        },
        "outputId": "2f171682-b99b-4942-d0a9-8c4e5aa83fba"
      },
      "cell_type": "code",
      "source": [
        "text.count('MS')"
      ],
      "execution_count": 8,
      "outputs": [
        {
          "output_type": "execute_result",
          "data": {
            "text/plain": [
              "4"
            ]
          },
          "metadata": {
            "tags": []
          },
          "execution_count": 8
        }
      ]
    },
    {
      "metadata": {
        "id": "N7vYPEgJFWl8",
        "colab_type": "text"
      },
      "cell_type": "markdown",
      "source": [
        "## 여러 단어의 개수를 카운트"
      ]
    },
    {
      "metadata": {
        "id": "yfy92MGtFWl9",
        "colab_type": "code",
        "colab": {
          "base_uri": "https://localhost:8080/",
          "height": 35
        },
        "outputId": "85387039-aa55-4703-edcc-e628ee002459"
      },
      "cell_type": "code",
      "source": [
        "words = ['MS', '아마존', '구글', '애플', '알파벳', '넷플릭스', '페이스북']\n",
        "\n",
        "count_dict = {w: text.count(w) for w in words}\n",
        "count_dict"
      ],
      "execution_count": 9,
      "outputs": [
        {
          "output_type": "execute_result",
          "data": {
            "text/plain": [
              "{'MS': 4, '구글': 4, '넷플릭스': 2, '아마존': 4, '알파벳': 2, '애플': 7, '페이스북': 2}"
            ]
          },
          "metadata": {
            "tags": []
          },
          "execution_count": 9
        }
      ]
    },
    {
      "metadata": {
        "id": "8huLQgwTFWmA",
        "colab_type": "text"
      },
      "cell_type": "markdown",
      "source": [
        "## 가장 많이 언급된 단어 순서로 나열하기\n",
        "가장 많이 언급된 단어 순서로 나열해 봅니다"
      ]
    },
    {
      "metadata": {
        "id": "whMMmW8KFWmB",
        "colab_type": "code",
        "colab": {
          "base_uri": "https://localhost:8080/",
          "height": 138
        },
        "outputId": "09d214da-ec6e-4886-bad6-ea773f6be98f"
      },
      "cell_type": "code",
      "source": [
        "# 값 순서로 정렬하기 (기본은 오름차순 입니다)\n",
        "sorted(count_dict.items(), key=lambda x: x[1])"
      ],
      "execution_count": 11,
      "outputs": [
        {
          "output_type": "execute_result",
          "data": {
            "text/plain": [
              "[('알파벳', 2),\n",
              " ('넷플릭스', 2),\n",
              " ('페이스북', 2),\n",
              " ('MS', 4),\n",
              " ('아마존', 4),\n",
              " ('구글', 4),\n",
              " ('애플', 7)]"
            ]
          },
          "metadata": {
            "tags": []
          },
          "execution_count": 11
        }
      ]
    },
    {
      "metadata": {
        "id": "JF_fCpiPFWmE",
        "colab_type": "text"
      },
      "cell_type": "markdown",
      "source": [
        "딕셔너리의 items()는 딕셔너리의 요소를 튜플로 반환합니다. "
      ]
    },
    {
      "metadata": {
        "id": "LcWl6oi3FWmF",
        "colab_type": "code",
        "colab": {
          "base_uri": "https://localhost:8080/",
          "height": 138
        },
        "outputId": "c3e6ac61-f918-46c8-9ed0-fab0b2f1796d"
      },
      "cell_type": "code",
      "source": [
        "for key,value in count_dict.items():\n",
        "    print(key, value)"
      ],
      "execution_count": 12,
      "outputs": [
        {
          "output_type": "stream",
          "text": [
            "MS 4\n",
            "아마존 4\n",
            "구글 4\n",
            "애플 7\n",
            "알파벳 2\n",
            "넷플릭스 2\n",
            "페이스북 2\n"
          ],
          "name": "stdout"
        }
      ]
    },
    {
      "metadata": {
        "id": "neZcDVNCFWmN",
        "colab_type": "text"
      },
      "cell_type": "markdown",
      "source": [
        "반환값의 첫번째 요소는 키(key), 두번째 요소는 값(value)가 됩니다.  우리는 개수가 많은 항목을 찾으려는 것이므로 값(value)으로 소트하되 큰 값이 먼저 나오도록 역순(reverse=True) 소트 합니다."
      ]
    },
    {
      "metadata": {
        "id": "fUeHWaPoFWmO",
        "colab_type": "code",
        "colab": {
          "base_uri": "https://localhost:8080/",
          "height": 138
        },
        "outputId": "e6faa89b-1860-4676-c257-c7cda76fb786"
      },
      "cell_type": "code",
      "source": [
        "# 값(value) 순서로 정렬하기\n",
        "sorted_dict = sorted(count_dict.items(), key=lambda x: x[1], reverse=True)\n",
        "sorted_dict"
      ],
      "execution_count": 13,
      "outputs": [
        {
          "output_type": "execute_result",
          "data": {
            "text/plain": [
              "[('애플', 7),\n",
              " ('MS', 4),\n",
              " ('아마존', 4),\n",
              " ('구글', 4),\n",
              " ('알파벳', 2),\n",
              " ('넷플릭스', 2),\n",
              " ('페이스북', 2)]"
            ]
          },
          "metadata": {
            "tags": []
          },
          "execution_count": 13
        }
      ]
    },
    {
      "metadata": {
        "id": "uhvaYMFs7qoY",
        "colab_type": "text"
      },
      "cell_type": "markdown",
      "source": [
        "## TOP-N 구하기"
      ]
    },
    {
      "metadata": {
        "id": "1lla3Kkr6ieb",
        "colab_type": "code",
        "colab": {
          "base_uri": "https://localhost:8080/",
          "height": 35
        },
        "outputId": "cf045f2e-2e28-406d-951f-e1c0fb31059e"
      },
      "cell_type": "code",
      "source": [
        "# 가장 많이 등장한 단어 TOP 3\n",
        "sorted_dict[:3]"
      ],
      "execution_count": 16,
      "outputs": [
        {
          "output_type": "execute_result",
          "data": {
            "text/plain": [
              "[('애플', 7), ('MS', 4), ('아마존', 4)]"
            ]
          },
          "metadata": {
            "tags": []
          },
          "execution_count": 16
        }
      ]
    },
    {
      "metadata": {
        "id": "bONGYabq7WFg",
        "colab_type": "code",
        "colab": {
          "base_uri": "https://localhost:8080/",
          "height": 35
        },
        "outputId": "3b7feadf-fa21-40f2-e40f-dc9b00f3c5c4"
      },
      "cell_type": "code",
      "source": [
        "[key for key, value in sorted_dict[:3]]"
      ],
      "execution_count": 19,
      "outputs": [
        {
          "output_type": "execute_result",
          "data": {
            "text/plain": [
              "['애플', 'MS', '아마존']"
            ]
          },
          "metadata": {
            "tags": []
          },
          "execution_count": 19
        }
      ]
    },
    {
      "metadata": {
        "id": "_eM_23fm8Gyn",
        "colab_type": "text"
      },
      "cell_type": "markdown",
      "source": [
        "## 요약\n",
        "* text.count(word) - text 에서 word 등장 횟수 카운트\n",
        "* {w: text.count(w) for w in words} : 딕셔너리 컴프리헨션 활용(다수의 단어를 한번에 카운트)\n",
        "* sorted(list, key=lambda, reverse=True): 순회가능한 자료구조를 소트하는 내장함수 "
      ]
    },
    {
      "metadata": {
        "id": "NPMDnYWM5W-a",
        "colab_type": "text"
      },
      "cell_type": "markdown",
      "source": [
        "#### 2019 [FinanceData.KR]()"
      ]
    }
  ]
}