{
  "nbformat": 4,
  "nbformat_minor": 0,
  "metadata": {
    "colab": {
      "name": "뉴스 텍스트 수집 01 - 뉴스 텍스트 소스와 한글 인코딩.ipynb",
      "version": "0.3.2",
      "provenance": [],
      "collapsed_sections": []
    },
    "language_info": {
      "codemirror_mode": {
        "name": "ipython",
        "version": 3
      },
      "file_extension": ".py",
      "mimetype": "text/x-python",
      "name": "python",
      "nbconvert_exporter": "python",
      "pygments_lexer": "ipython3",
      "version": "3.5.2"
    },
    "kernelspec": {
      "display_name": "Python 3",
      "language": "python",
      "name": "python3"
    }
  },
  "cells": [
    {
      "metadata": {
        "slideshow": {
          "slide_type": "slide"
        },
        "id": "6F54MEJkaNo_",
        "colab_type": "text"
      },
      "cell_type": "markdown",
      "source": [
        "\n",
        "# 뉴스 텍스트 수집 01 - 뉴스 텍스트 소스와 한글 인코딩\n",
        "<img width=\"40%\" src=\"https://i.imgur.com/AydcsdT.png\">\n",
        "    \n",
        "    \n",
        "### 2017-2019 [FinanceData.KR](http://financedata.kr)\n"
      ]
    },
    {
      "metadata": {
        "slideshow": {
          "slide_type": "slide"
        },
        "id": "zB4YEcbSaNpB",
        "colab_type": "text"
      },
      "cell_type": "markdown",
      "source": [
        "# RSS News Feed 링크\n",
        "\n",
        "37개 언론사(온라인 포함), 592개 뉴스피드 RSS 링크\n",
        "\n",
        "* https://gist.github.com/5f6852620da984ea8baddd7669a64acc\n",
        "* http://bit.ly/2Xd495F (JSON 링크)\n",
        "\n",
        "출처: http://rssmoa.com/ 기반으로 추가하고 검증하여 JSON으로 정리"
      ]
    },
    {
      "metadata": {
        "slideshow": {
          "slide_type": "subslide"
        },
        "id": "P9xoN8HsaNpC",
        "colab_type": "code",
        "outputId": "1834abe2-dd37-4a83-b46d-2425ed917ec8",
        "colab": {
          "base_uri": "https://localhost:8080/",
          "height": 35
        }
      },
      "cell_type": "code",
      "source": [
        "import json\n",
        "import requests\n",
        "\n",
        "r = requests.get('http://bit.ly/2Xd495F')\n",
        "feed_src = json.loads(r.text)\n",
        "len(feed_src)"
      ],
      "execution_count": 1,
      "outputs": [
        {
          "output_type": "execute_result",
          "data": {
            "text/plain": [
              "592"
            ]
          },
          "metadata": {
            "tags": []
          },
          "execution_count": 1
        }
      ]
    },
    {
      "metadata": {
        "slideshow": {
          "slide_type": "subslide"
        },
        "id": "CYMGdqyCaNpK",
        "colab_type": "code",
        "outputId": "06d68486-c555-4e77-e64c-263509086ac5",
        "colab": {
          "base_uri": "https://localhost:8080/",
          "height": 535
        }
      },
      "cell_type": "code",
      "source": [
        "feed_src[:10]"
      ],
      "execution_count": 2,
      "outputs": [
        {
          "output_type": "execute_result",
          "data": {
            "text/plain": [
              "[{'링크': 'http://rss.joins.com/joins_news_list.xml',\n",
              "  '제목': '[뉴스]전체기사',\n",
              "  '회사': '중앙일보'},\n",
              " {'링크': 'http://rss.joins.com/joins_homenews_list.xml',\n",
              "  '제목': '[뉴스]주요기사',\n",
              "  '회사': '중앙일보'},\n",
              " {'링크': 'http://rss.joins.com/joins_money_list.xml',\n",
              "  '제목': '[뉴스]경제',\n",
              "  '회사': '중앙일보'},\n",
              " {'링크': 'http://rss.joins.com/joins_life_list.xml',\n",
              "  '제목': '[뉴스]사회',\n",
              "  '회사': '중앙일보'},\n",
              " {'링크': 'http://rss.joins.com/joins_politics_list.xml',\n",
              "  '제목': '[뉴스]정치',\n",
              "  '회사': '중앙일보'},\n",
              " {'링크': 'http://rss.joins.com/news/joins_lifenews_total.xml',\n",
              "  '제목': '[뉴스]라이프',\n",
              "  '회사': '중앙일보'},\n",
              " {'링크': 'http://rss.joins.com/joins_world_list.xml',\n",
              "  '제목': '[뉴스]지구촌',\n",
              "  '회사': '중앙일보'},\n",
              " {'링크': 'http://rss.joins.com/joins_culture_list.xml',\n",
              "  '제목': '[뉴스]문화',\n",
              "  '회사': '중앙일보'},\n",
              " {'링크': 'http://rss.joins.com/joins_it_list.xml',\n",
              "  '제목': '[뉴스]IT과학',\n",
              "  '회사': '중앙일보'},\n",
              " {'링크': 'http://rss.joins.com/news/joins_health_list.xml',\n",
              "  '제목': '[뉴스]건강,IT,과학',\n",
              "  '회사': '중앙일보'}]"
            ]
          },
          "metadata": {
            "tags": []
          },
          "execution_count": 2
        }
      ]
    },
    {
      "metadata": {
        "slideshow": {
          "slide_type": "slide"
        },
        "id": "2VGutEw-aNpN",
        "colab_type": "text"
      },
      "cell_type": "markdown",
      "source": [
        "# 언론사 수와 목록"
      ]
    },
    {
      "metadata": {
        "slideshow": {
          "slide_type": "-"
        },
        "id": "mWV4HcK4aNpO",
        "colab_type": "code",
        "outputId": "ac40e35c-ba77-47e7-c74e-270480008d12",
        "colab": {
          "base_uri": "https://localhost:8080/",
          "height": 35
        }
      },
      "cell_type": "code",
      "source": [
        "corp_list = list(set([x['회사'] for x in feed_src ]))\n",
        "len(corp_list)"
      ],
      "execution_count": 3,
      "outputs": [
        {
          "output_type": "execute_result",
          "data": {
            "text/plain": [
              "36"
            ]
          },
          "metadata": {
            "tags": []
          },
          "execution_count": 3
        }
      ]
    },
    {
      "metadata": {
        "slideshow": {
          "slide_type": "-"
        },
        "id": "CYgO4sjuaNpS",
        "colab_type": "code",
        "outputId": "929bd57b-03a7-4f97-9df6-48359e5da668",
        "colab": {
          "base_uri": "https://localhost:8080/",
          "height": 55
        }
      },
      "cell_type": "code",
      "source": [
        "print(corp_list)"
      ],
      "execution_count": 4,
      "outputs": [
        {
          "output_type": "stream",
          "text": [
            "['스포츠한국', '구글뉴스', '에이빙뉴스', '데이터넷', '한겨레', '세계일보', '국민일보', '뉴스포스트', '오마이뉴스', '이데일리', '뉴스위드', '아이뉴스', '전자신문', '주간포커스', '에버뉴스', 'SBS', '동아닷컴', '중앙일보', '다음뉴스', '헤럴드경제', '한국아이닷컴', '소년한국일보', '탑라이더', '머니투데이', '파이낸셜뉴스', '르몽드', '매일경제', '뉴스데일리', '조선닷컴', 'K모바일', '노컷뉴스', 'MBC', '중부매일', '한국경제', '오늘의 뉴스', '경향닷컴']\n"
          ],
          "name": "stdout"
        }
      ]
    },
    {
      "metadata": {
        "slideshow": {
          "slide_type": "slide"
        },
        "id": "A1mP_eTOaNpW",
        "colab_type": "text"
      },
      "cell_type": "markdown",
      "source": [
        "# feedparser\n",
        "RSS 피드를 읽어 파싱해 주는 라이브러리 <br> \n",
        "(사용은 간편하나 한계가 있음, 국내 뉴스는 BeautifulSoup 파싱 추천)\n",
        "\n",
        "https://pythonhosted.org/feedparser/\n",
        "\n",
        "설치\n",
        "```bash\n",
        "pip install feedparser\n",
        "```"
      ]
    },
    {
      "metadata": {
        "id": "UWoiRPjmag3W",
        "colab_type": "code",
        "colab": {}
      },
      "cell_type": "code",
      "source": [
        "! pip install -q feedparser"
      ],
      "execution_count": 0,
      "outputs": []
    },
    {
      "metadata": {
        "slideshow": {
          "slide_type": "subslide"
        },
        "id": "5udYYTEJaNpW",
        "colab_type": "code",
        "outputId": "b1d8649c-4b0b-4e16-b007-6d4be693f1d0",
        "colab": {
          "base_uri": "https://localhost:8080/",
          "height": 639
        }
      },
      "cell_type": "code",
      "source": [
        "import requests\n",
        "import feedparser\n",
        "\n",
        "# 한국경제, 경제/금융뉴스\n",
        "rss_link = \"http://rss.hankyung.com/new/news_economy.xml\"\n",
        "r = requests.get(rss_link)\n",
        "\n",
        "feeds = feedparser.parse(r.text)\n",
        "feeds['entries'][:2]"
      ],
      "execution_count": 6,
      "outputs": [
        {
          "output_type": "execute_result",
          "data": {
            "text/plain": [
              "[{'author': '',\n",
              "  'authors': [{}],\n",
              "  'link': 'http://www.hankyung.com/news/app/newsview.php?aid=2019041605246&sid=newsEconomy&nid=000&rss=r',\n",
              "  'links': [{'href': 'http://www.hankyung.com/news/app/newsview.php?aid=2019041605246&sid=newsEconomy&nid=000&rss=r',\n",
              "    'rel': 'alternate',\n",
              "    'type': 'text/html'}],\n",
              "  'published': 'Tue, 16 Apr 2019 15:08:46 +0900',\n",
              "  'published_parsed': time.struct_time(tm_year=2019, tm_mon=4, tm_mday=16, tm_hour=6, tm_min=8, tm_sec=46, tm_wday=1, tm_yday=106, tm_isdst=0),\n",
              "  'summary': '금융당국은 보험이 사회안정망 역할을 유지하기 위해서는 사업비와 모집수수료 체계를 개선할 필요가 있다고 밝혔다.김용범 금융위원회 부위원장은 16일',\n",
              "  'summary_detail': {'base': '',\n",
              "   'language': None,\n",
              "   'type': 'text/html',\n",
              "   'value': '금융당국은 보험이 사회안정망 역할을 유지하기 위해서는 사업비와 모집수수료 체계를 개선할 필요가 있다고 밝혔다.김용범 금융위원회 부위원장은 16일'},\n",
              "  'title': '김용범 \"보험, 비용구조 불투명…사업비·모집수수료 개선 필요\"',\n",
              "  'title_detail': {'base': '',\n",
              "   'language': None,\n",
              "   'type': 'text/plain',\n",
              "   'value': '김용범 \"보험, 비용구조 불투명…사업비·모집수수료 개선 필요\"'}},\n",
              " {'author': '',\n",
              "  'authors': [{}],\n",
              "  'link': 'http://www.hankyung.com/news/app/newsview.php?aid=2019041603746&sid=newsEconomy&nid=000&rss=r',\n",
              "  'links': [{'href': 'http://www.hankyung.com/news/app/newsview.php?aid=2019041603746&sid=newsEconomy&nid=000&rss=r',\n",
              "    'rel': 'alternate',\n",
              "    'type': 'text/html'}],\n",
              "  'published': 'Tue, 16 Apr 2019 14:44:58 +0900',\n",
              "  'published_parsed': time.struct_time(tm_year=2019, tm_mon=4, tm_mday=16, tm_hour=5, tm_min=44, tm_sec=58, tm_wday=1, tm_yday=106, tm_isdst=0),\n",
              "  'summary': \"카카오페이는 지난해 11월 20일 시작한 투자상품 판매 서비스인 '카카오페이 투자'를 통해 모집된 투자금이 400억원을 돌파했다고 16일 밝혔다\",\n",
              "  'summary_detail': {'base': '',\n",
              "   'language': None,\n",
              "   'type': 'text/html',\n",
              "   'value': \"카카오페이는 지난해 11월 20일 시작한 투자상품 판매 서비스인 '카카오페이 투자'를 통해 모집된 투자금이 400억원을 돌파했다고 16일 밝혔다\"},\n",
              "  'title': '카카오페이 투자, 4개월 만에 투자금 400억원 돌파',\n",
              "  'title_detail': {'base': '',\n",
              "   'language': None,\n",
              "   'type': 'text/plain',\n",
              "   'value': '카카오페이 투자, 4개월 만에 투자금 400억원 돌파'}}]"
            ]
          },
          "metadata": {
            "tags": []
          },
          "execution_count": 6
        }
      ]
    },
    {
      "metadata": {
        "slideshow": {
          "slide_type": "subslide"
        },
        "id": "np13U-mraNpa",
        "colab_type": "code",
        "outputId": "e8c75036-f3ac-4b9b-9b7d-7c2cef1031d6",
        "colab": {
          "base_uri": "https://localhost:8080/",
          "height": 35
        }
      },
      "cell_type": "code",
      "source": [
        "feeds.entries[0].title # feed['entries'][0]['title']"
      ],
      "execution_count": 7,
      "outputs": [
        {
          "output_type": "execute_result",
          "data": {
            "text/plain": [
              "'김용범 \"보험, 비용구조 불투명…사업비·모집수수료 개선 필요\"'"
            ]
          },
          "metadata": {
            "tags": []
          },
          "execution_count": 7
        }
      ]
    },
    {
      "metadata": {
        "slideshow": {
          "slide_type": "-"
        },
        "id": "gcruSyKkaNpd",
        "colab_type": "code",
        "outputId": "f1b8dc1d-bb7d-48d1-a5e5-0f33be57b3dd",
        "colab": {
          "base_uri": "https://localhost:8080/",
          "height": 35
        }
      },
      "cell_type": "code",
      "source": [
        "feeds.entries[0].link"
      ],
      "execution_count": 8,
      "outputs": [
        {
          "output_type": "execute_result",
          "data": {
            "text/plain": [
              "'http://www.hankyung.com/news/app/newsview.php?aid=2019041605246&sid=newsEconomy&nid=000&rss=r'"
            ]
          },
          "metadata": {
            "tags": []
          },
          "execution_count": 8
        }
      ]
    },
    {
      "metadata": {
        "slideshow": {
          "slide_type": "slide"
        },
        "id": "WeLQYyFKaNpi",
        "colab_type": "text"
      },
      "cell_type": "markdown",
      "source": [
        "# 한글 인코딩 문제 "
      ]
    },
    {
      "metadata": {
        "slideshow": {
          "slide_type": "-"
        },
        "id": "rXjIelvUaNpk",
        "colab_type": "code",
        "outputId": "bcb97e9a-c846-49dc-b8bd-4aab4310391f",
        "colab": {
          "base_uri": "https://localhost:8080/",
          "height": 400
        }
      },
      "cell_type": "code",
      "source": [
        "import requests\n",
        "import feedparser\n",
        "\n",
        "# 매일경제\n",
        "rss_link = 'http://file.mk.co.kr/news/rss/rss_30100041.xml'\n",
        "r = requests.get(rss_link)\n",
        "\n",
        "feeds = feedparser.parse(r.text)\n",
        "feeds['entries'][0]"
      ],
      "execution_count": 9,
      "outputs": [
        {
          "output_type": "execute_result",
          "data": {
            "text/plain": [
              "{'author': '¸ÅÀÏ°æÁ¦',\n",
              " 'author_detail': {'name': '¸ÅÀÏ°æÁ¦'},\n",
              " 'authors': [{'name': '¸ÅÀÏ°æÁ¦'}],\n",
              " 'link': 'http://news.mk.co.kr/newsRead.php?no=235559&year=2019',\n",
              " 'links': [{'href': 'http://news.mk.co.kr/newsRead.php?no=235559&year=2019',\n",
              "   'rel': 'alternate',\n",
              "   'type': 'text/html'}],\n",
              " 'no': '235559',\n",
              " 'published': 'Tue, 16 Apr 2019 15:18:06 +0900',\n",
              " 'published_parsed': time.struct_time(tm_year=2019, tm_mon=4, tm_mday=16, tm_hour=6, tm_min=18, tm_sec=6, tm_wday=1, tm_yday=106, tm_isdst=0),\n",
              " 'summary': 'ºúÀÌ ÀÖ´Â 20~30´ë »çÈ¸ÃÊ³â»ýÀÇ ºÎÃ¤ ±Ô¸ð°¡ ÃÖ±Ù 1³â »çÀÌ 400¸¸¿ø ³Ñ°Ô ´Ã¾ú´Ù´Â Á¶»ç °á°ú°¡ ³ª¿Ô´Ù. ºÎÃ¤¸¦ º¸À¯ÇÑ °¡±¸ÀÇ Æò±Õ ºÎÃ¤ ÀÜ¾×µµ ¸Å³â 1000¸¸¿ø¾¿ ´Ã°í ÀÖ´Ù.½ÅÇÑÀºÇàÀÌ 16ÀÏ ¹ßÇ¥ÇÑ `2019 º¸Åë»ç¶÷ ±ÝÀ¶»ýÈ° º¸°í¼\\xad`¿¡ µû¸£¸é ÃÖ±Ù 3³â°£ °æÁ¦È°µ¿ °¡±¸..',\n",
              " 'summary_detail': {'base': '',\n",
              "  'language': None,\n",
              "  'type': 'text/html',\n",
              "  'value': 'ºúÀÌ ÀÖ´Â 20~30´ë »çÈ¸ÃÊ³â»ýÀÇ ºÎÃ¤ ±Ô¸ð°¡ ÃÖ±Ù 1³â »çÀÌ 400¸¸¿ø ³Ñ°Ô ´Ã¾ú´Ù´Â Á¶»ç °á°ú°¡ ³ª¿Ô´Ù. ºÎÃ¤¸¦ º¸À¯ÇÑ °¡±¸ÀÇ Æò±Õ ºÎÃ¤ ÀÜ¾×µµ ¸Å³â 1000¸¸¿ø¾¿ ´Ã°í ÀÖ´Ù.½ÅÇÑÀºÇàÀÌ 16ÀÏ ¹ßÇ¥ÇÑ `2019 º¸Åë»ç¶÷ ±ÝÀ¶»ýÈ° º¸°í¼\\xad`¿¡ µû¸£¸é ÃÖ±Ù 3³â°£ °æÁ¦È°µ¿ °¡±¸..'},\n",
              " 'tags': [{'label': None, 'scheme': None, 'term': '°æÁ¦¡¤±ÝÀ¶ ½Å¹®±â»ç'}],\n",
              " 'title': 'ºú ÀÖ´Â »çÈ¸ÃÊ³â»ý ºÎÃ¤ 1³â»õ 432¸¸¿ø ´Ã¾î',\n",
              " 'title_detail': {'base': '',\n",
              "  'language': None,\n",
              "  'type': 'text/plain',\n",
              "  'value': 'ºú ÀÖ´Â »çÈ¸ÃÊ³â»ý ºÎÃ¤ 1³â»õ 432¸¸¿ø ´Ã¾î'}}"
            ]
          },
          "metadata": {
            "tags": []
          },
          "execution_count": 9
        }
      ]
    },
    {
      "metadata": {
        "slideshow": {
          "slide_type": "subslide"
        },
        "id": "Tutc1Nl8aNpn",
        "colab_type": "text"
      },
      "cell_type": "markdown",
      "source": [
        "# 방법 1: requests 인코딩 지정\n",
        "\n",
        "r.encoding = 'euc-kr'"
      ]
    },
    {
      "metadata": {
        "slideshow": {
          "slide_type": "-"
        },
        "id": "DPB4KcdcaNpo",
        "colab_type": "code",
        "outputId": "ca5f5c06-fae3-4071-cdb1-baa5b49a6941",
        "colab": {
          "base_uri": "https://localhost:8080/",
          "height": 400
        }
      },
      "cell_type": "code",
      "source": [
        "# 매일경제\n",
        "rss_link = 'http://file.mk.co.kr/news/rss/rss_30100041.xml'\n",
        "\n",
        "r = requests.get(rss_link)\n",
        "r.encoding = 'euc-kr'\n",
        "\n",
        "feeds = feedparser.parse(r.text)\n",
        "feeds['entries'][0]"
      ],
      "execution_count": 10,
      "outputs": [
        {
          "output_type": "execute_result",
          "data": {
            "text/plain": [
              "{'author': '매일경제',\n",
              " 'author_detail': {'name': '매일경제'},\n",
              " 'authors': [{'name': '매일경제'}],\n",
              " 'link': 'http://news.mk.co.kr/newsRead.php?no=235559&year=2019',\n",
              " 'links': [{'href': 'http://news.mk.co.kr/newsRead.php?no=235559&year=2019',\n",
              "   'rel': 'alternate',\n",
              "   'type': 'text/html'}],\n",
              " 'no': '235559',\n",
              " 'published': 'Tue, 16 Apr 2019 15:18:06 +0900',\n",
              " 'published_parsed': time.struct_time(tm_year=2019, tm_mon=4, tm_mday=16, tm_hour=6, tm_min=18, tm_sec=6, tm_wday=1, tm_yday=106, tm_isdst=0),\n",
              " 'summary': '빚이 있는 20~30대 사회초년생의 부채 규모가 최근 1년 사이 400만원 넘게 늘었다는 조사 결과가 나왔다. 부채를 보유한 가구의 평균 부채 잔액도 매년 1000만원씩 늘고 있다.신한은행이 16일 발표한 `2019 보통사람 금융생활 보고서`에 따르면 최근 3년간 경제활동 가구..',\n",
              " 'summary_detail': {'base': '',\n",
              "  'language': None,\n",
              "  'type': 'text/html',\n",
              "  'value': '빚이 있는 20~30대 사회초년생의 부채 규모가 최근 1년 사이 400만원 넘게 늘었다는 조사 결과가 나왔다. 부채를 보유한 가구의 평균 부채 잔액도 매년 1000만원씩 늘고 있다.신한은행이 16일 발표한 `2019 보통사람 금융생활 보고서`에 따르면 최근 3년간 경제활동 가구..'},\n",
              " 'tags': [{'label': None, 'scheme': None, 'term': '경제·금융 신문기사'}],\n",
              " 'title': '빚 있는 사회초년생 부채 1년새 432만원 늘어',\n",
              " 'title_detail': {'base': '',\n",
              "  'language': None,\n",
              "  'type': 'text/plain',\n",
              "  'value': '빚 있는 사회초년생 부채 1년새 432만원 늘어'}}"
            ]
          },
          "metadata": {
            "tags": []
          },
          "execution_count": 10
        }
      ]
    },
    {
      "metadata": {
        "slideshow": {
          "slide_type": "subslide"
        },
        "id": "JIGyAaPjaNpr",
        "colab_type": "text"
      },
      "cell_type": "markdown",
      "source": [
        "# 방법 2: 인코딩 감지\n",
        "chardet: Universal encoding detector\n",
        "\n",
        "https://chardet.readthedocs.io\n",
        "\n",
        "설치\n",
        "```bash\n",
        "$ sudo pip3 install chardet\n",
        "```"
      ]
    },
    {
      "metadata": {
        "slideshow": {
          "slide_type": "-"
        },
        "id": "ThKEH2HkaNps",
        "colab_type": "code",
        "outputId": "ffdd30a3-1296-4d9e-9fe1-0704179cdbff",
        "colab": {
          "base_uri": "https://localhost:8080/",
          "height": 55
        }
      },
      "cell_type": "code",
      "source": [
        "# 매일경제\n",
        "rss_link = 'http://file.mk.co.kr/news/rss/rss_30100041.xml'\n",
        "r = requests.get(rss_link)\n",
        "\n",
        "feeds = feedparser.parse(r.text)\n",
        "text = feeds['entries'][0].summary\n",
        "text"
      ],
      "execution_count": 11,
      "outputs": [
        {
          "output_type": "execute_result",
          "data": {
            "text/plain": [
              "'ºúÀÌ ÀÖ´Â 20~30´ë »çÈ¸ÃÊ³â»ýÀÇ ºÎÃ¤ ±Ô¸ð°¡ ÃÖ±Ù 1³â »çÀÌ 400¸¸¿ø ³Ñ°Ô ´Ã¾ú´Ù´Â Á¶»ç °á°ú°¡ ³ª¿Ô´Ù. ºÎÃ¤¸¦ º¸À¯ÇÑ °¡±¸ÀÇ Æò±Õ ºÎÃ¤ ÀÜ¾×µµ ¸Å³â 1000¸¸¿ø¾¿ ´Ã°í ÀÖ´Ù.½ÅÇÑÀºÇàÀÌ 16ÀÏ ¹ßÇ¥ÇÑ `2019 º¸Åë»ç¶÷ ±ÝÀ¶»ýÈ° º¸°í¼\\xad`¿¡ µû¸£¸é ÃÖ±Ù 3³â°£ °æÁ¦È°µ¿ °¡±¸..'"
            ]
          },
          "metadata": {
            "tags": []
          },
          "execution_count": 11
        }
      ]
    },
    {
      "metadata": {
        "slideshow": {
          "slide_type": "subslide"
        },
        "id": "zOm3ADR2aNpw",
        "colab_type": "code",
        "outputId": "17a97f68-22d8-42f6-f2c8-5042e19744a3",
        "colab": {
          "base_uri": "https://localhost:8080/",
          "height": 35
        }
      },
      "cell_type": "code",
      "source": [
        "import chardet\n",
        "\n",
        "chardet.detect(r.content)"
      ],
      "execution_count": 12,
      "outputs": [
        {
          "output_type": "execute_result",
          "data": {
            "text/plain": [
              "{'confidence': 0.99, 'encoding': 'EUC-KR', 'language': 'Korean'}"
            ]
          },
          "metadata": {
            "tags": []
          },
          "execution_count": 12
        }
      ]
    },
    {
      "metadata": {
        "slideshow": {
          "slide_type": "-"
        },
        "id": "b8odAWwzaNp1",
        "colab_type": "code",
        "outputId": "eb93ee48-ed18-4b73-e74c-99dd7308abd8",
        "colab": {
          "base_uri": "https://localhost:8080/",
          "height": 55
        }
      },
      "cell_type": "code",
      "source": [
        "# 매일경제\n",
        "rss_link = 'http://file.mk.co.kr/news/rss/rss_30100041.xml'\n",
        "r = requests.get(rss_link)\n",
        "\n",
        "# 인코딩을 탐지하여 인코딩을 지정 (자동)\n",
        "det = chardet.detect(r.content)\n",
        "r.encoding = det['encoding']\n",
        "\n",
        "feeds = feedparser.parse(r.text)\n",
        "text = feeds['entries'][0].summary\n",
        "text"
      ],
      "execution_count": 13,
      "outputs": [
        {
          "output_type": "execute_result",
          "data": {
            "text/plain": [
              "'빚이 있는 20~30대 사회초년생의 부채 규모가 최근 1년 사이 400만원 넘게 늘었다는 조사 결과가 나왔다. 부채를 보유한 가구의 평균 부채 잔액도 매년 1000만원씩 늘고 있다.신한은행이 16일 발표한 `2019 보통사람 금융생활 보고서`에 따르면 최근 3년간 경제활동 가구..'"
            ]
          },
          "metadata": {
            "tags": []
          },
          "execution_count": 13
        }
      ]
    },
    {
      "metadata": {
        "slideshow": {
          "slide_type": "slide"
        },
        "id": "skcFWPSkaNp5",
        "colab_type": "text"
      },
      "cell_type": "markdown",
      "source": [
        "# RSS 링크 검증"
      ]
    },
    {
      "metadata": {
        "slideshow": {
          "slide_type": "-"
        },
        "id": "bMD1pv-faNp6",
        "colab_type": "code",
        "outputId": "b606406e-9a2d-47e1-a23f-e2eb501395e1",
        "colab": {
          "base_uri": "https://localhost:8080/",
          "height": 363
        }
      },
      "cell_type": "code",
      "source": [
        "import requests\n",
        "import feedparser\n",
        "import chardet\n",
        "import json\n",
        "\n",
        "r = requests.get('http://bit.ly/2Xd495F')\n",
        "feed_src = json.loads(r.text)\n",
        "\n",
        "for i, f in enumerate(feed_src[:10]): # 처음 10개만 (전체 [:10] 삭제)\n",
        "    rss_link = f['링크']\n",
        "\n",
        "    # User-Agent: 몇몇 사이트(경향신문 등)는 User-Agent가 지정되어야 한다\n",
        "    r = requests.get(rss_link, headers={'User-Agent':'Mozilla'})\n",
        "    \n",
        "    # 인코딩을 탐지하여 인코딩을 지정 (자동)\n",
        "    det = chardet.detect(r.content)\n",
        "    r.encoding = det['encoding']\n",
        "\n",
        "    feeds = feedparser.parse(r.text)\n",
        "    entries_count = len(feeds['entries'])\n",
        "    print(i, f['회사'], f['제목'])\n",
        "    print(rss_link, entries_count, '건')"
      ],
      "execution_count": 14,
      "outputs": [
        {
          "output_type": "stream",
          "text": [
            "0 중앙일보 [뉴스]전체기사\n",
            "http://rss.joins.com/joins_news_list.xml 30 건\n",
            "1 중앙일보 [뉴스]주요기사\n",
            "http://rss.joins.com/joins_homenews_list.xml 55 건\n",
            "2 중앙일보 [뉴스]경제\n",
            "http://rss.joins.com/joins_money_list.xml 30 건\n",
            "3 중앙일보 [뉴스]사회\n",
            "http://rss.joins.com/joins_life_list.xml 30 건\n",
            "4 중앙일보 [뉴스]정치\n",
            "http://rss.joins.com/joins_politics_list.xml 30 건\n",
            "5 중앙일보 [뉴스]라이프\n",
            "http://rss.joins.com/news/joins_lifenews_total.xml 30 건\n",
            "6 중앙일보 [뉴스]지구촌\n",
            "http://rss.joins.com/joins_world_list.xml 30 건\n",
            "7 중앙일보 [뉴스]문화\n",
            "http://rss.joins.com/joins_culture_list.xml 30 건\n",
            "8 중앙일보 [뉴스]IT과학\n",
            "http://rss.joins.com/joins_it_list.xml 30 건\n",
            "9 중앙일보 [뉴스]건강,IT,과학\n",
            "http://rss.joins.com/news/joins_health_list.xml 30 건\n"
          ],
          "name": "stdout"
        }
      ]
    },
    {
      "metadata": {
        "slideshow": {
          "slide_type": "slide"
        },
        "id": "NRtWVsKEaNp_",
        "colab_type": "text"
      },
      "cell_type": "markdown",
      "source": [
        "# 요약 \n",
        "* 뉴스 텍스트 데이터: 37개사, 681개 RSS 피드 링크\n",
        "* feedparser로 RSS XML 데이터를 간편하게 파싱\n",
        "* 한글 문제의 대부분은 \"euc-kr\" vs \"utf-8\"\n",
        "* chardet.detect(text)로 인코딩을 추측"
      ]
    },
    {
      "metadata": {
        "slideshow": {
          "slide_type": "notes"
        },
        "id": "w2hSX0w6aNqA",
        "colab_type": "text"
      },
      "cell_type": "markdown",
      "source": [
        "### 2017-2019 [FinanceData.KR](http://financedata.kr)"
      ]
    }
  ]
}