{
  "nbformat": 4,
  "nbformat_minor": 0,
  "metadata": {
    "colab": {
      "name": "뉴스 텍스트 수집 02 - 뉴스 파싱과 본문 텍스트 추출.ipynb",
      "version": "0.3.2",
      "provenance": [],
      "collapsed_sections": []
    },
    "language_info": {
      "codemirror_mode": {
        "name": "ipython",
        "version": 3
      },
      "file_extension": ".py",
      "mimetype": "text/x-python",
      "name": "python",
      "nbconvert_exporter": "python",
      "pygments_lexer": "ipython3",
      "version": "3.5.2"
    },
    "kernelspec": {
      "display_name": "Python 3",
      "language": "python",
      "name": "python3"
    }
  },
  "cells": [
    {
      "metadata": {
        "collapsed": true,
        "slideshow": {
          "slide_type": "slide"
        },
        "id": "8BHIpHq3aOpR",
        "colab_type": "text"
      },
      "cell_type": "markdown",
      "source": [
        "# 뉴스 텍스트 수집 02 - 뉴스 파싱과 본문 텍스트 추출\n",
        "\n",
        "<img width=\"40%\" src=\"https://i.imgur.com/AydcsdT.png\">\n",
        "    \n",
        "    \n",
        "### 2017-2019 [FinanceData.KR](http://financedata.kr)"
      ]
    },
    {
      "metadata": {
        "slideshow": {
          "slide_type": "slide"
        },
        "id": "59FCgG4baOpT",
        "colab_type": "text"
      },
      "cell_type": "markdown",
      "source": [
        "# 뉴스 기사 링크"
      ]
    },
    {
      "metadata": {
        "slideshow": {
          "slide_type": "-"
        },
        "id": "gcOr9s5EaOpV",
        "colab_type": "code",
        "outputId": "ecc6f4c1-97c3-47c5-ad9b-870aa63e09ba",
        "colab": {
          "base_uri": "https://localhost:8080/",
          "height": 35
        }
      },
      "cell_type": "code",
      "source": [
        "import requests\n",
        "import feedparser\n",
        "\n",
        "# 매일경제, 경제 섹션\n",
        "rss_link = \"http://file.mk.co.kr/news/rss/rss_30100041.xml\"\n",
        "r = requests.get(rss_link)\n",
        "r.encoding = 'euc-kr'\n",
        "\n",
        "feeds = feedparser.parse(r.text)\n",
        "\n",
        "len(feeds['entries'])"
      ],
      "execution_count": 1,
      "outputs": [
        {
          "output_type": "execute_result",
          "data": {
            "text/plain": [
              "50"
            ]
          },
          "metadata": {
            "tags": []
          },
          "execution_count": 1
        }
      ]
    },
    {
      "metadata": {
        "id": "nMkejBomd_sd",
        "colab_type": "code",
        "outputId": "8f68afcf-74d1-4fcc-9f18-f90faadd5a2c",
        "colab": {
          "base_uri": "https://localhost:8080/",
          "height": 400
        }
      },
      "cell_type": "code",
      "source": [
        "feeds['entries'][0]"
      ],
      "execution_count": 2,
      "outputs": [
        {
          "output_type": "execute_result",
          "data": {
            "text/plain": [
              "{'author': '매일경제',\n",
              " 'author_detail': {'name': '매일경제'},\n",
              " 'authors': [{'name': '매일경제'}],\n",
              " 'link': 'http://news.mk.co.kr/newsRead.php?no=235559&year=2019',\n",
              " 'links': [{'href': 'http://news.mk.co.kr/newsRead.php?no=235559&year=2019',\n",
              "   'rel': 'alternate',\n",
              "   'type': 'text/html'}],\n",
              " 'no': '235559',\n",
              " 'published': 'Tue, 16 Apr 2019 15:18:06 +0900',\n",
              " 'published_parsed': time.struct_time(tm_year=2019, tm_mon=4, tm_mday=16, tm_hour=6, tm_min=18, tm_sec=6, tm_wday=1, tm_yday=106, tm_isdst=0),\n",
              " 'summary': '빚이 있는 20~30대 사회초년생의 부채 규모가 최근 1년 사이 400만원 넘게 늘었다는 조사 결과가 나왔다. 부채를 보유한 가구의 평균 부채 잔액도 매년 1000만원씩 늘고 있다.신한은행이 16일 발표한 `2019 보통사람 금융생활 보고서`에 따르면 최근 3년간 경제활동 가구..',\n",
              " 'summary_detail': {'base': '',\n",
              "  'language': None,\n",
              "  'type': 'text/html',\n",
              "  'value': '빚이 있는 20~30대 사회초년생의 부채 규모가 최근 1년 사이 400만원 넘게 늘었다는 조사 결과가 나왔다. 부채를 보유한 가구의 평균 부채 잔액도 매년 1000만원씩 늘고 있다.신한은행이 16일 발표한 `2019 보통사람 금융생활 보고서`에 따르면 최근 3년간 경제활동 가구..'},\n",
              " 'tags': [{'label': None, 'scheme': None, 'term': '경제·금융 신문기사'}],\n",
              " 'title': '빚 있는 사회초년생 부채 1년새 432만원 늘어',\n",
              " 'title_detail': {'base': '',\n",
              "  'language': None,\n",
              "  'type': 'text/plain',\n",
              "  'value': '빚 있는 사회초년생 부채 1년새 432만원 늘어'}}"
            ]
          },
          "metadata": {
            "tags": []
          },
          "execution_count": 2
        }
      ]
    },
    {
      "metadata": {
        "slideshow": {
          "slide_type": "subslide"
        },
        "id": "28OutdNSaOpd",
        "colab_type": "code",
        "outputId": "559609c2-aa43-4095-b6fe-cfc60886425d",
        "colab": {
          "base_uri": "https://localhost:8080/",
          "height": 881
        }
      },
      "cell_type": "code",
      "source": [
        "for entry in feeds['entries']:\n",
        "    print(entry['link'])"
      ],
      "execution_count": 3,
      "outputs": [
        {
          "output_type": "stream",
          "text": [
            "http://news.mk.co.kr/newsRead.php?no=235559&year=2019\n",
            "http://news.mk.co.kr/newsRead.php?no=232260&year=2019\n",
            "http://news.mk.co.kr/newsRead.php?no=234946&year=2019\n",
            "http://news.mk.co.kr/newsRead.php?no=235475&year=2019\n",
            "http://news.mk.co.kr/newsRead.php?no=234968&year=2019\n",
            "http://news.mk.co.kr/newsRead.php?no=234886&year=2019\n",
            "http://news.mk.co.kr/newsRead.php?no=235597&year=2019\n",
            "http://news.mk.co.kr/newsRead.php?no=235596&year=2019\n",
            "http://news.mk.co.kr/newsRead.php?no=235547&year=2019\n",
            "http://news.mk.co.kr/newsRead.php?no=235537&year=2019\n",
            "http://news.mk.co.kr/newsRead.php?no=235534&year=2019\n",
            "http://news.mk.co.kr/newsRead.php?no=234887&year=2019\n",
            "http://news.mk.co.kr/newsRead.php?no=234883&year=2019\n",
            "http://news.mk.co.kr/newsRead.php?no=234865&year=2019\n",
            "http://news.mk.co.kr/newsRead.php?no=234856&year=2019\n",
            "http://news.mk.co.kr/newsRead.php?no=234797&year=2019\n",
            "http://news.mk.co.kr/newsRead.php?no=234737&year=2019\n",
            "http://news.mk.co.kr/newsRead.php?no=234682&year=2019\n",
            "http://news.mk.co.kr/newsRead.php?no=234603&year=2019\n",
            "http://news.mk.co.kr/newsRead.php?no=234321&year=2019\n",
            "http://news.mk.co.kr/newsRead.php?no=234272&year=2019\n",
            "http://news.mk.co.kr/newsRead.php?no=233439&year=2019\n",
            "http://news.mk.co.kr/newsRead.php?no=233429&year=2019\n",
            "http://news.mk.co.kr/newsRead.php?no=233428&year=2019\n",
            "http://news.mk.co.kr/newsRead.php?no=233415&year=2019\n",
            "http://news.mk.co.kr/newsRead.php?no=233414&year=2019\n",
            "http://news.mk.co.kr/newsRead.php?no=233412&year=2019\n",
            "http://news.mk.co.kr/newsRead.php?no=233411&year=2019\n",
            "http://news.mk.co.kr/newsRead.php?no=233410&year=2019\n",
            "http://news.mk.co.kr/newsRead.php?no=233302&year=2019\n",
            "http://news.mk.co.kr/newsRead.php?no=233281&year=2019\n",
            "http://news.mk.co.kr/newsRead.php?no=232245&year=2019\n",
            "http://news.mk.co.kr/newsRead.php?no=232240&year=2019\n",
            "http://news.mk.co.kr/newsRead.php?no=232226&year=2019\n",
            "http://news.mk.co.kr/newsRead.php?no=232220&year=2019\n",
            "http://news.mk.co.kr/newsRead.php?no=232214&year=2019\n",
            "http://news.mk.co.kr/newsRead.php?no=232082&year=2019\n",
            "http://news.mk.co.kr/newsRead.php?no=231947&year=2019\n",
            "http://news.mk.co.kr/newsRead.php?no=231566&year=2019\n",
            "http://news.mk.co.kr/newsRead.php?no=231564&year=2019\n",
            "http://news.mk.co.kr/newsRead.php?no=231409&year=2019\n",
            "http://news.mk.co.kr/newsRead.php?no=231335&year=2019\n",
            "http://news.mk.co.kr/newsRead.php?no=231333&year=2019\n",
            "http://news.mk.co.kr/newsRead.php?no=231268&year=2019\n",
            "http://news.mk.co.kr/newsRead.php?no=231263&year=2019\n",
            "http://news.mk.co.kr/newsRead.php?no=231255&year=2019\n",
            "http://news.mk.co.kr/newsRead.php?no=231101&year=2019\n",
            "http://news.mk.co.kr/newsRead.php?no=231045&year=2019\n",
            "http://news.mk.co.kr/newsRead.php?no=231043&year=2019\n",
            "http://news.mk.co.kr/newsRead.php?no=231042&year=2019\n"
          ],
          "name": "stdout"
        }
      ]
    },
    {
      "metadata": {
        "slideshow": {
          "slide_type": "slide"
        },
        "id": "DIfa_8N2aOpi",
        "colab_type": "text"
      },
      "cell_type": "markdown",
      "source": [
        "#  HTML 문서 가져오기\n",
        "requests.get(link) "
      ]
    },
    {
      "metadata": {
        "slideshow": {
          "slide_type": "-"
        },
        "id": "7BqmvA7gaOpj",
        "colab_type": "code",
        "outputId": "252521c6-3274-4725-ed4b-976e2e96df9a",
        "colab": {
          "base_uri": "https://localhost:8080/",
          "height": 55
        }
      },
      "cell_type": "code",
      "source": [
        "import requests\n",
        "\n",
        "link = 'https://www.mk.co.kr/news/economy/view/2019/04/235559/'\n",
        "r = requests.get(link)\n",
        "\n",
        "r.text[:1000]"
      ],
      "execution_count": 4,
      "outputs": [
        {
          "output_type": "execute_result",
          "data": {
            "text/plain": [
              "'<!DOCTYPE html>\\n<html lang=\"ko\">\\n<head>\\n<title>`º¸Åë»ç¶÷ ±ÝÀ¶¹é¼\\xad` ºú ÀÖ´Â »çÈ¸ÃÊ³â»ý ºÎÃ¤ 1³â»õ 432¸¸¿ø ´Ã¾î - ¸ÅÀÏ°æÁ¦</title>\\n<meta http-equiv=\"Content-Type\" content=\"text/html; charset=euc-kr\">\\n<meta http-equiv=\"X-UA-Compatible\" content=\"IE=edge,chrome=1\">\\n<meta property=\"article:author\" content=\"ÀÌ½ÂÈÆ\"/>\\n<meta name=\"apple-mobile-web-app-title\" content=\"mk\"/>\\n<link rel=\\'stylesheet\\' type=\\'text/css\\' href=\\'https://common.mk.co.kr/common/css/2015/news_2015.css\\'>\\n<link rel=\\'stylesheet\\' type=\\'text/css\\' href=\\'https://common.mk.co.kr/common/css/2019/error.css\\'>\\n<link rel=\\'shortcut icon\\' href=\\'//img.mk.co.kr/main/2015/mk_new/favicon_new.ico\\'>\\n<link rel=\\'canonical\\' href=\\'https://www.mk.co.kr/news/economy/view/2019/04/235559/\\'> \\n<link rel=\\'amphtml\\' href=\\'http://m.mk.co.kr/news/amp/headline/2019/235559?PageSpeed=off\\'>\\n<link rel=\\'alternate\\' media=\\'only screen and ( max-width: 640px)\\' href=\\'http://m.mk.co.kr/news/economy/2019/235559/\\'>\\n\\n<meta name=\\'title\\' content=\\'`º¸Åë»ç¶÷ ±ÝÀ¶¹é¼\\xad` ºú ÀÖ´Â »ç'"
            ]
          },
          "metadata": {
            "tags": []
          },
          "execution_count": 4
        }
      ]
    },
    {
      "metadata": {
        "slideshow": {
          "slide_type": "subslide"
        },
        "id": "x-5sls6NaOpn",
        "colab_type": "code",
        "outputId": "b1d052e1-e1f6-4a00-fc28-fdaeaf02799a",
        "colab": {
          "base_uri": "https://localhost:8080/",
          "height": 55
        }
      },
      "cell_type": "code",
      "source": [
        "import requests\n",
        "import chardet\n",
        "\n",
        "link = 'https://www.mk.co.kr/news/economy/view/2019/04/235559/'\n",
        "r = requests.get(link)\n",
        "det = chardet.detect(r.content)\n",
        "r.encoding = det['encoding']\n",
        "\n",
        "r.text[:1000]"
      ],
      "execution_count": 5,
      "outputs": [
        {
          "output_type": "execute_result",
          "data": {
            "text/plain": [
              "'<!DOCTYPE html>\\n<html lang=\"ko\">\\n<head>\\n<title>`보통사람 금융백서` 빚 있는 사회초년생 부채 1년새 432만원 늘어 - 매일경제</title>\\n<meta http-equiv=\"Content-Type\" content=\"text/html; charset=euc-kr\">\\n<meta http-equiv=\"X-UA-Compatible\" content=\"IE=edge,chrome=1\">\\n<meta property=\"article:author\" content=\"이승훈\"/>\\n<meta name=\"apple-mobile-web-app-title\" content=\"mk\"/>\\n<link rel=\\'stylesheet\\' type=\\'text/css\\' href=\\'https://common.mk.co.kr/common/css/2015/news_2015.css\\'>\\n<link rel=\\'stylesheet\\' type=\\'text/css\\' href=\\'https://common.mk.co.kr/common/css/2019/error.css\\'>\\n<link rel=\\'shortcut icon\\' href=\\'//img.mk.co.kr/main/2015/mk_new/favicon_new.ico\\'>\\n<link rel=\\'canonical\\' href=\\'https://www.mk.co.kr/news/economy/view/2019/04/235559/\\'> \\n<link rel=\\'amphtml\\' href=\\'http://m.mk.co.kr/news/amp/headline/2019/235559?PageSpeed=off\\'>\\n<link rel=\\'alternate\\' media=\\'only screen and ( max-width: 640px)\\' href=\\'http://m.mk.co.kr/news/economy/2019/235559/\\'>\\n\\n<meta name=\\'title\\' content=\\'`보통사람 금융백서` 빚 있는 사회초년생 부채 1년새 432만원 늘어 - 매일경제\\'>\\n<meta name=\\'d'"
            ]
          },
          "metadata": {
            "tags": []
          },
          "execution_count": 5
        }
      ]
    },
    {
      "metadata": {
        "slideshow": {
          "slide_type": "slide"
        },
        "id": "1Tlignn-aOpr",
        "colab_type": "text"
      },
      "cell_type": "markdown",
      "source": [
        "# 뉴스 기사 텍스트 파싱\n",
        "\n",
        "### BeautifulSoup + ( lxml or html5lib )\n",
        "* lxml : 빠름 + 엄격\n",
        "* html5lib : 느림 + 유연\n",
        "\n",
        "###  soup에서 텍스트 가져오기\n",
        "* soup.text\n",
        "* soup.find('div', {'id': 'newsView'}).text"
      ]
    },
    {
      "metadata": {
        "slideshow": {
          "slide_type": "-"
        },
        "id": "pKxOHUBfaOpu",
        "colab_type": "code",
        "outputId": "7c744a51-9677-4a2f-b363-4d1103df546f",
        "colab": {
          "base_uri": "https://localhost:8080/",
          "height": 469
        }
      },
      "cell_type": "code",
      "source": [
        "from bs4 import BeautifulSoup\n",
        "\n",
        "soup = BeautifulSoup(r.text, 'html5lib')\n",
        "news_div = soup.find('div', id='article_body')\n",
        "\n",
        "print(news_div.text)"
      ],
      "execution_count": 6,
      "outputs": [
        {
          "output_type": "stream",
          "text": [
            "\n",
            "\t\t\t\t\n",
            "                    \n",
            "                    \n",
            "                    \n",
            "                    \n",
            "                    ▶ 여기를 누르시면 크게 보실 수 있습니다\n",
            "                      빚이 있는 20~30대 사회초년생의 부채 규모가 최근 1년 사이 400만원 넘게 늘었다는 조사 결과가 나왔다. 부채를 보유한 가구의 평균 부채 잔액도 매년 1000만원씩 늘고 있다.\n",
            "신한은행이 16일 발표한 `2019 보통사람 금융생활 보고서`에 따르면 최근 3년간 경제활동 가구의 월평균 소득은 3.3% 늘어난 476만원을 기록했다. 소득도 늘고 최근 3년간 물가도 올랐지만 총소득에서 소비가 차지하는 비중은 2016년 대비 2018년 2,7% 감소한 50%를 기록했다.googletag.display(\"google_dfp_MC_2x1,fluid\"); 2016년 소비에 사용된 금액이 243만원이었는데 지난해에는 238만원으로 줄어든 것이다. \n",
            "이번 보고서는 신한은행 급여이체 고객(서울시 거주 94만명), 신한카드 거래 고객(서울시 거주 직장인 100만명), 조사 참여 고객(전국 만 20∼64세 경제생활자 1만명)을 대상으로 이들의 금융트렌드를 다각도로 분석한 결과를 토대로 했다. \n",
            "부채가 있는 입사 3년 이내인 20~30대 직장인(사회초년생)의 평균 부채 잔액은 3391만원으로 1년 전보다 432만원 증가했다. 대출 상환까지 예상되는 소요 기간은 4.9년으로 전년보다 0.9년 늘었다. 이들은 주로 은행(77.3%·복수응답)에서 돈을 빌렸으나 제 2·3 금융권 이용률도 42.4%로 전 계층 평균(38.1%)보다 4.3%포인트 높았다. 인터넷전문은행을 이용했다는 답도 10.1%로 전체 평균(6.2%)에 비해 높았다.\n",
            "소득이 갑자기 줄어든 기혼 가구는 57.3%에 달했고 그 시기는 평균  40.2세로 조사됐다. 이 시기에 퇴직이나 실직을 경험했다는 응답이 37.7%에 달했다. 경기침체(28.5%)나 사업·투자 실패(13.1%)로 소득이 크게 줄기도 했다. \n",
            "50대 이상 경제활동자 중 12.9%는 향후 3년 내 은퇴를 계획하고 있다고 밝혔다. 이들의 은퇴 예상 연령은 평균 64.3세였다. 3년 내 은퇴를 앞뒀음에도 50.6%는 특별한 준비를 하지 않고 있었다. 이들은 은퇴 후 월 생활비가 242만원 들 것으로 가늠했지만 이들의 예상 월 소득은 필요 생활비의 61%인 147만원에 그쳤다.\n",
            "30∼40대 맞벌이 가구의 55.2%는 자산을 부부 중 어느 한 사람이 전담해서 관리했다. 공동 관리한다는 응답은 37.9%였고 각자 소득을 관리하는 가구는 6.9%에 그쳤다. 1인이 전담했을 때 자산관리 주체는 주로 여성(63.6%)이었다. \n",
            "최근 5년 이내 창업자의 81.3%는 창업 전에 직장에 다녔고 직장 생활 기간은 평균 10년이었다. 창업하게 된 이유는 내 일에 대한 만족감(24.1%)과 소득 증가 기대(21.9%), 직장·조직생활 탈피(21.6%) 때문이었다. 창업자의 월평균 소득은 301만원으로 창업 전 직장생활 때의 320만원보다 19만원 감소했다. \n",
            "경제활동자의 33.6%는 `워라밸`(일과 삶의 균형)을 실천하고 있다고 응답했다. 이들의 평균 주당 근무시간은 41.3시간이었다. 일에 치중한다고 답한 이들(42.2%)의 근무시간은 47.7시간, 개인 생활에 치중하는 이들(24.3%)은 38.8시간이었다.\n",
            "이번에 별도로 기획 분석된 서울시 금융 지도 내용을 보면 서울시 직장인의 월평균 급여소득은 358만원으로 전년 대비 4.1% 늘어난 것으로 집계됐다. 월평균 급여가 가장 높은 지역은 중국(407만원), 종로구(403만원), 영등포구(393만원) 순서였다.googletag.display(\"google_dfp_MC_250x250\");  이들 지역은 대기업 본사 또는 금융사들이 몰려 있는 곳이다. 전문직 직장인 월급은 평균 377만원으로 일반 직장인 월급인 299만원과 78만원 차이를 보였다. \n",
            "또 서울시 직장인의 월평균 소비금액은 246만원으로, 지역별로 가장 높은 곳은 서초구(330만원), 강남구(326만원), 용산구(287만원) 순이었다. 대부분 고급 식당가와 유흥가 등이 밀집된 지역이다. \n",
            "[이승훈 기자][ⓒ 매일경제 & mk.co.kr, 무단전재 및 재배포 금지]\n",
            "\t\t\t\t\t\n",
            "\t\t\t\t\t\n",
            "\t\t\t\t\twindow.jQuery || document.write(\"<script src='//common.mk.co.kr/common/include/mklib/jquery.js'>\")\n",
            "\t\t\t\t\t\n",
            "\t\t\t\t\n",
            "\t\t\t\n"
          ],
          "name": "stdout"
        }
      ]
    },
    {
      "metadata": {
        "slideshow": {
          "slide_type": "slide"
        },
        "id": "ZfwS6N5KaOpz",
        "colab_type": "text"
      },
      "cell_type": "markdown",
      "source": [
        "#  newspaper\n",
        "컨텐츠 추출기 (Content Extractor)\n",
        "\n",
        "https://github.com/codelucas/newspaper\n",
        "\n",
        "설치\n",
        "```bash\n",
        "pip install newspaper3k\n",
        "```"
      ]
    },
    {
      "metadata": {
        "id": "IvALwbZpcptZ",
        "colab_type": "code",
        "colab": {}
      },
      "cell_type": "code",
      "source": [
        "!pip install newspaper3k"
      ],
      "execution_count": 0,
      "outputs": []
    },
    {
      "metadata": {
        "slideshow": {
          "slide_type": "subslide"
        },
        "id": "ad-F4939aOp2",
        "colab_type": "code",
        "colab": {}
      },
      "cell_type": "code",
      "source": [
        "import newspaper\n",
        "\n",
        "link = 'https://www.mk.co.kr/news/economy/view/2019/04/235559/'\n",
        "\n",
        "article = newspaper.Article(link, language='ko')\n",
        "article.download()\n",
        "article.parse()"
      ],
      "execution_count": 0,
      "outputs": []
    },
    {
      "metadata": {
        "slideshow": {
          "slide_type": "subslide"
        },
        "id": "uRZw91jxaOp6",
        "colab_type": "code",
        "outputId": "b667ffe6-84d5-4566-c033-909d19ef5e67",
        "colab": {
          "base_uri": "https://localhost:8080/",
          "height": 35
        }
      },
      "cell_type": "code",
      "source": [
        "article.title"
      ],
      "execution_count": 9,
      "outputs": [
        {
          "output_type": "execute_result",
          "data": {
            "text/plain": [
              "'`보통사람 금융백서` 빚 있는 사회초년생 부채 1년새 432만원 늘어'"
            ]
          },
          "metadata": {
            "tags": []
          },
          "execution_count": 9
        }
      ]
    },
    {
      "metadata": {
        "slideshow": {
          "slide_type": "-"
        },
        "id": "NIyRmzQtaOp-",
        "colab_type": "code",
        "outputId": "2be4da98-18a2-4a49-d71a-412d5fcf41c3",
        "colab": {
          "base_uri": "https://localhost:8080/",
          "height": 55
        }
      },
      "cell_type": "code",
      "source": [
        "article.text"
      ],
      "execution_count": 10,
      "outputs": [
        {
          "output_type": "execute_result",
          "data": {
            "text/plain": [
              "'\\n\\n▶ 여기를 누르시면 크게 보실 수 있습니다\\n\\n빚이 있는 20~30대 사회초년생의 부채 규모가 최근 1년 사이 400만원 넘게 늘었다는 조사 결과가 나왔다. 부채를 보유한 가구의 평균 부채 잔액도 매년 1000만원씩 늘고 있다.신한은행이 16일 발표한 `2019 보통사람 금융생활 보고서`에 따르면 최근 3년간 경제활동 가구의 월평균 소득은 3.3% 늘어난 476만원을 기록했다. 소득도 늘고 최근 3년간 물가도 올랐지만 총소득에서 소비가 차지하는 비중은 2016년 대비 2018년 2,7% 감소한 50%를 기록했다.2016년 소비에 사용된 금액이 243만원이었는데 지난해에는 238만원으로 줄어든 것이다. 이번 보고서는 신한은행 급여이체 고객(서울시 거주 94만명), 신한카드 거래 고객(서울시 거주 직장인 100만명), 조사 참여 고객(전국 만 20∼64세 경제생활자 1만명)을 대상으로 이들의 금융트렌드를 다각도로 분석한 결과를 토대로 했다.부채가 있는 입사 3년 이내인 20~30대 직장인(사회초년생)의 평균 부채 잔액은 3391만원으로 1년 전보다 432만원 증가했다. 대출 상환까지 예상되는 소요 기간은 4.9년으로 전년보다 0.9년 늘었다. 이들은 주로 은행(77.3%·복수응답)에서 돈을 빌렸으나 제 2·3 금융권 이용률도 42.4%로 전 계층 평균(38.1%)보다 4.3%포인트 높았다. 인터넷전문은행을 이용했다는 답도 10.1%로 전체 평균(6.2%)에 비해 높았다.소득이 갑자기 줄어든 기혼 가구는 57.3%에 달했고 그 시기는 평균 40.2세로 조사됐다. 이 시기에 퇴직이나 실직을 경험했다는 응답이 37.7%에 달했다. 경기침체(28.5%)나 사업·투자 실패(13.1%)로 소득이 크게 줄기도 했다.50대 이상 경제활동자 중 12.9%는 향후 3년 내 은퇴를 계획하고 있다고 밝혔다. 이들의 은퇴 예상 연령은 평균 64.3세였다. 3년 내 은퇴를 앞뒀음에도 50.6%는 특별한 준비를 하지 않고 있었다. 이들은 은퇴 후 월 생활비가 242만원 들 것으로 가늠했지만 이들의 예상 월 소득은 필요 생활비의 61%인 147만원에 그쳤다.30∼40대 맞벌이 가구의 55.2%는 자산을 부부 중 어느 한 사람이 전담해서 관리했다. 공동 관리한다는 응답은 37.9%였고 각자 소득을 관리하는 가구는 6.9%에 그쳤다. 1인이 전담했을 때 자산관리 주체는 주로 여성(63.6%)이었다.최근 5년 이내 창업자의 81.3%는 창업 전에 직장에 다녔고 직장 생활 기간은 평균 10년이었다. 창업하게 된 이유는 내 일에 대한 만족감(24.1%)과 소득 증가 기대(21.9%), 직장·조직생활 탈피(21.6%) 때문이었다. 창업자의 월평균 소득은 301만원으로 창업 전 직장생활 때의 320만원보다 19만원 감소했다.경제활동자의 33.6%는 `워라밸`(일과 삶의 균형)을 실천하고 있다고 응답했다. 이들의 평균 주당 근무시간은 41.3시간이었다. 일에 치중한다고 답한 이들(42.2%)의 근무시간은 47.7시간, 개인 생활에 치중하는 이들(24.3%)은 38.8시간이었다.이번에 별도로 기획 분석된 서울시 금융 지도 내용을 보면 서울시 직장인의 월평균 급여소득은 358만원으로 전년 대비 4.1% 늘어난 것으로 집계됐다. 월평균 급여가 가장 높은 지역은 중국(407만원), 종로구(403만원), 영등포구(393만원) 순서였다.이들 지역은 대기업 본사 또는 금융사들이 몰려 있는 곳이다. 전문직 직장인 월급은 평균 377만원으로 일반 직장인 월급인 299만원과 78만원 차이를 보였다.또 서울시 직장인의 월평균 소비금액은 246만원으로, 지역별로 가장 높은 곳은 서초구(330만원), 강남구(326만원), 용산구(287만원) 순이었다. 대부분 고급 식당가와 유흥가 등이 밀집된 지역이다.[이승훈 기자][ⓒ 매일경제 & mk.co.kr, 무단전재 및 재배포 금지]'"
            ]
          },
          "metadata": {
            "tags": []
          },
          "execution_count": 10
        }
      ]
    },
    {
      "metadata": {
        "slideshow": {
          "slide_type": "slide"
        },
        "id": "mR1sEEbGaOqB",
        "colab_type": "text"
      },
      "cell_type": "markdown",
      "source": [
        "# 정리"
      ]
    },
    {
      "metadata": {
        "slideshow": {
          "slide_type": "-"
        },
        "id": "UScNf5jCaOqC",
        "colab_type": "code",
        "outputId": "d8ac4c4e-1bac-4fd5-90c8-214d7be2f8a5",
        "colab": {
          "base_uri": "https://localhost:8080/",
          "height": 728
        }
      },
      "cell_type": "code",
      "source": [
        "import requests\n",
        "import feedparser\n",
        "import newspaper\n",
        "\n",
        "# 매일경제, 경제 섹션\n",
        "rss_link = \"http://file.mk.co.kr/news/rss/rss_30100041.xml\"\n",
        "r = requests.get(rss_link)\n",
        "feeds = feedparser.parse(r.text)\n",
        "\n",
        "links = [entry['link'] for entry in feeds['entries']]\n",
        "\n",
        "for link in links[:5]: # 기사중 5개만 출력\n",
        "    article = newspaper.Article(link, language='ko')\n",
        "    article.download()\n",
        "    article.parse()\n",
        "\n",
        "    print('-' * 80)\n",
        "    #print(article.title)\n",
        "    print(article.title)\n",
        "    print(article.text)\n",
        "    print()"
      ],
      "execution_count": 11,
      "outputs": [
        {
          "output_type": "stream",
          "text": [
            "--------------------------------------------------------------------------------\n",
            "`보통사람 금융백서` 빚 있는 사회초년생 부채 1년새 432만원 늘어\n",
            "\n",
            "\n",
            "▶ 여기를 누르시면 크게 보실 수 있습니다\n",
            "\n",
            "빚이 있는 20~30대 사회초년생의 부채 규모가 최근 1년 사이 400만원 넘게 늘었다는 조사 결과가 나왔다. 부채를 보유한 가구의 평균 부채 잔액도 매년 1000만원씩 늘고 있다.신한은행이 16일 발표한 `2019 보통사람 금융생활 보고서`에 따르면 최근 3년간 경제활동 가구의 월평균 소득은 3.3% 늘어난 476만원을 기록했다. 소득도 늘고 최근 3년간 물가도 올랐지만 총소득에서 소비가 차지하는 비중은 2016년 대비 2018년 2,7% 감소한 50%를 기록했다.2016년 소비에 사용된 금액이 243만원이었는데 지난해에는 238만원으로 줄어든 것이다. 이번 보고서는 신한은행 급여이체 고객(서울시 거주 94만명), 신한카드 거래 고객(서울시 거주 직장인 100만명), 조사 참여 고객(전국 만 20∼64세 경제생활자 1만명)을 대상으로 이들의 금융트렌드를 다각도로 분석한 결과를 토대로 했다.부채가 있는 입사 3년 이내인 20~30대 직장인(사회초년생)의 평균 부채 잔액은 3391만원으로 1년 전보다 432만원 증가했다. 대출 상환까지 예상되는 소요 기간은 4.9년으로 전년보다 0.9년 늘었다. 이들은 주로 은행(77.3%·복수응답)에서 돈을 빌렸으나 제 2·3 금융권 이용률도 42.4%로 전 계층 평균(38.1%)보다 4.3%포인트 높았다. 인터넷전문은행을 이용했다는 답도 10.1%로 전체 평균(6.2%)에 비해 높았다.소득이 갑자기 줄어든 기혼 가구는 57.3%에 달했고 그 시기는 평균 40.2세로 조사됐다. 이 시기에 퇴직이나 실직을 경험했다는 응답이 37.7%에 달했다. 경기침체(28.5%)나 사업·투자 실패(13.1%)로 소득이 크게 줄기도 했다.50대 이상 경제활동자 중 12.9%는 향후 3년 내 은퇴를 계획하고 있다고 밝혔다. 이들의 은퇴 예상 연령은 평균 64.3세였다. 3년 내 은퇴를 앞뒀음에도 50.6%는 특별한 준비를 하지 않고 있었다. 이들은 은퇴 후 월 생활비가 242만원 들 것으로 가늠했지만 이들의 예상 월 소득은 필요 생활비의 61%인 147만원에 그쳤다.30∼40대 맞벌이 가구의 55.2%는 자산을 부부 중 어느 한 사람이 전담해서 관리했다. 공동 관리한다는 응답은 37.9%였고 각자 소득을 관리하는 가구는 6.9%에 그쳤다. 1인이 전담했을 때 자산관리 주체는 주로 여성(63.6%)이었다.최근 5년 이내 창업자의 81.3%는 창업 전에 직장에 다녔고 직장 생활 기간은 평균 10년이었다. 창업하게 된 이유는 내 일에 대한 만족감(24.1%)과 소득 증가 기대(21.9%), 직장·조직생활 탈피(21.6%) 때문이었다. 창업자의 월평균 소득은 301만원으로 창업 전 직장생활 때의 320만원보다 19만원 감소했다.경제활동자의 33.6%는 `워라밸`(일과 삶의 균형)을 실천하고 있다고 응답했다. 이들의 평균 주당 근무시간은 41.3시간이었다. 일에 치중한다고 답한 이들(42.2%)의 근무시간은 47.7시간, 개인 생활에 치중하는 이들(24.3%)은 38.8시간이었다.이번에 별도로 기획 분석된 서울시 금융 지도 내용을 보면 서울시 직장인의 월평균 급여소득은 358만원으로 전년 대비 4.1% 늘어난 것으로 집계됐다. 월평균 급여가 가장 높은 지역은 중국(407만원), 종로구(403만원), 영등포구(393만원) 순서였다.이들 지역은 대기업 본사 또는 금융사들이 몰려 있는 곳이다. 전문직 직장인 월급은 평균 377만원으로 일반 직장인 월급인 299만원과 78만원 차이를 보였다.또 서울시 직장인의 월평균 소비금액은 246만원으로, 지역별로 가장 높은 곳은 서초구(330만원), 강남구(326만원), 용산구(287만원) 순이었다. 대부분 고급 식당가와 유흥가 등이 밀집된 지역이다.[이승훈 기자][ⓒ 매일경제 & mk.co.kr, 무단전재 및 재배포 금지]\n",
            "\n",
            "--------------------------------------------------------------------------------\n",
            "재테크 고민 뻥 뚫어주는 `사이다 비법`\n",
            "\n",
            "\n",
            "지난 12일 서울 매경미디어센터에서 열린 `2019 서울머니쇼` 설명회에 참가업체 관계자 120여 명이 참석했다. 올해로 10회째를 맞는 서울머니쇼는 다음달 16일부터 사흘간 서울 코엑스에서 열린다. [한주형 기자]\n",
            "\n",
            "`잠깐이면 끝나겠지` 싶던 부동산 매매거래 절벽이 벌써 반년째 이어지고 있다. 한때 `광풍`이라는 말이 어울릴 정도로 뜨거웠던 가상화폐 시장은 불과 1년 만에 언제 그랬냐는 듯 차갑게 식어버렸다. \"본격적인 금리 인상기가 온다\"는 전문가들 말은 미국의 기준금리 동결 기조 탓에 틀린 전망으로 전락했다.좀처럼 나아지지 않는 경기 상황에 제자리걸음을 하는 내 연금과 펀드 수익률을 보고 있자면 지금은 재테크에 뛰어든 투자자 누구라도 속이 타는 답답함을 겪고 있는 시기다.5월 16일부터 사흘간 서울 삼성동 코엑스에서 열리는 `2019 서울머니쇼`는 이렇게 답답한 투자환경을 뻥 뚫어주는 사이다 같은 해법을 찾는 사람들을 위한 아시아 최대 재테크 박람회다. 올해 머니쇼에는 부동산·증권 등 전통적인 재테크 분야는 물론 환테크·개인 간 거래(P2P) 등 대체투자, 은퇴 이후 재무관리 등 생애설계 분야까지 총 33개의 세미나가 준비됐다.머니쇼의 포문을 여는 개막 세미나의 주인공은 SC제일은행의 모기업이자 세계 대표 금융그룹 영국 스탠다드차타드그룹의 글로벌 투자 최고 전문가인 스티브 브라이스 글로벌투자전략 수석전략가다. 16일 오전 11시부터 `과거 10년 앞으로 10년, 글로벌 투자전략의 변화와 향후 전망`을 주제로 진행되는 이 세미나는 최근 세계 경제 하강 국면에서도 주목해야 할 투자 트렌드를 소개한다.한 치 앞을 내다볼 수 없는 부동산 시장 전망을 놓고 국내 최고 스타강사들이 벌이는 `설전`도 주목된다. 국내 최대 부동산 카페 `부동산스터디`의 강영훈(붇옹산) 대표와 심교언 건국대 교수는 5월 18일 `사야 하나 팔아야 하나, 혼돈의 부동산 시장 생존 전략` 세미나를 통해 시장 진단과 알짜 투자법을 놓고 토론을 펼친다.둘째날인 5월 17일에는 함영진 직방 빅데이터랩장, 이남수 신한은행 부동산투자자문센터 센터장, 안명숙 우리은행 부동산투자지원센터 센터장이 `위기를 기회로 바꾸는 2019~2020 부동산 재테크 전략`을 공개한다.머니쇼에서 가장 주목받는 최고 인기 강사 3인방의 강연도 열린다. △박합수 KB국민은행 WM스타자문단 수석부동산전문위원은 `바뀐 환경에 새롭게 해석한 대한민국 부동산, 10년 후 미래가치에 주목하라!` △고종완 한국자산관리연구원장은 `지역별 슈퍼 부동산 베스트 10` △고준석 동국대 겸임교수는 `그래도 부동산! 부자들만 아는 알짜 부동산 투자해법`을 주제로 세미나에 나선다.최근 침체에서 벗어나고 있는 주식시장 투자 전략은 과거 머니쇼를 빛낸 투자 거장들과 최근 주목받는 젊은 스타 펀드매니저에게 직접 들을 수 있다.최근 여의도에서 대표적인 `라이징 스타`로 각광받는 황준혁 KTB자산운용 과장, 청년 슈퍼개미로 유명한 이주영 IP경제교육센터 대표는 각각 30대의 젊은 감각으로 찾은 중소형 황금주와 오르는 주식의 법칙을 공개한다.올해 증시를 이끌 3대 유망 산업을 조망하는 순서도 마련된다. 17일 열리는 `매경 선정 베스트 애널리스트, 2019 대한민국 하반기 신성장동력을 전망하다` 세미나에는 김준성 메리츠종금증권 수석연구위원(자동차), 박종대 하나금융투자 수석연구위원(유통·화장품), 안재민 NH투자증권 연구위원(통신·인터넷)이 핵심 업종별 시장 전망과 성장주를 제시한다.부동산과 증권처럼 전통적인 투자전략으로는 만족할 수 없다면 올해 머니쇼에서 열리는 다양한 신재테크 관련 강의를 들으면 된다.첫째날 열리는 `해외투자 대중화 속 보물 찾기, 외화재테크` 세미나에서는 황성민 에스엠투자자문 대표가 최근 대체투자 비법으로 인기 많은 `환테크`에 대해 알려준다.특히 올해는 머니쇼 10주년을 기념해 푸짐한 경품을 주는 `서울머니` 이벤트를 연다. 스마트폰으로 업체 부스에 있는 QR코드를 스캔하면 포인트의 일종인 `서울머니`를 쌓을 수 있다.이렇게 모은 서울머니 일부를 차감해 행사에 응모하면 추첨을 통해 커피쿠폰, 재테크 베스트셀러 등을 무료로 받을 수 있다. 경품은 앞으로 더 늘어날 예정이다.홈페이지에서 행사 사전등록과 재테크 특강 신청을 하면 1인당 5000원의 입장료 없이 무료로 참가할 수 있다.문의는 서울머니쇼 사무국으로 하면 된다.[김태성 기자][ⓒ 매일경제 & mk.co.kr, 무단전재 및 재배포 금지]\n",
            "\n",
            "--------------------------------------------------------------------------------\n",
            "\"소득 3만달러 시대…보통 다른사람들은 어떻게 살아갈까\"\n",
            "\n",
            "\n",
            "\n",
            "\n",
            "# 서울에 거주하는 직장인 김신한 씨의 월 소득은 2016년보다 15만원 오른 476만원이다. 물가가 올랐지만 월 소비는 오히려 5만원 줄어든 238만원만 지출한다. 월 저축은 6만원이 늘어난 116만원이며 부채는 2238만원이 늘어난 7249만원이 됐다. 자산 중 금융자산의 비중은 감소했지만 부동산 자산의 비중이 증가하며 총자산은 7348만원이 늘어난 4억39만원정도 된다.김신한씨는 출근길에 커피와 빵으로 아침식사를 하며 아침 비용으로 7300원을 소비한다. 점심 비용으로는 7700원, 식후 간식비용으로 4100원이 든다. 워라밸 추세의 영향으로 저녁약속은 주 1회로 줄었으며 약속 회당 5만1000원씩을 소비한다. 업무 스트레스를 해소하기 위한 소위 `홧김 비용`은 월 20만7000원을 지출하고 있다. 대개 가족과의 주말나들이는 월 1.2회로 보통 17만4000원을 사용하며 살아가고 있다.지난해 우리나라 1인당 국민총소득(GNI)이 3만 달러를 넘어섰다. 소득 3만 달러 시대, 과연 보통사람의 삶은 어떤 모습일까.이 같은 보통사람들의 궁금증을 해소하기 위해 신한은행이 16일 빅데이터를 활용해 만든 `2019 보통사람 금융생활 보고서`를 쏠(SOL)을 통해 공개해 눈길을 끈다.이 보고서는 지난해 9~10월 신한은행 급여이체 고객(서울시 거주 94만명), 카드 거래 고객(서울시 거주 직장인 100만명), 조사 참여 고객(전국 만 20~64세 경제생활자 1만명)을 대상으로 보통사람들의 금융 트렌드를 다각적으로 분석했다.`2019 보통사람 금융생활 보고서`의 가장 큰 특징은 3년동안 축적한 자료를 기반으로 보통사람들의 금융생활 변화 추이를 한눈에 확인할 수 있다는 점이다. 또 모일일 플랫폼 쏠을 통한 시각화 페이지, 개인화 콘텐츠 등을 제공해 많은 사람들이 보고서 내용을 쉽게 확인할 수 있도록 `비대면 채널을 통한 데이터 활용 강화`에 중점을 뒀다.◆ \"서울 직장인 월급 평균 358만원·지출은 246만원\"서울에서 직장생활을 하는 보통사람들의 월 소득은 평균 358만원이었다. 이는 전년보다 4.1% 증가한 것. 급여 수준이 제일 높은 지역은 중구(407만원), 종로구(403만원), 영등포구(393만원) 등의 순이었다. 증가율로 보자면 동대문구(7.0%), 강서구(6.8%), 도봉구(6.4%) 순으로 높았다.전문직 직장인의 월급은 평균 377만원으로, 일반 직장인(299만원)보다 78만원 많았다. 월평균 소비액은 246만원으로, 전년보다 6.6% 늘었다.소비 수준이 제일 높은 지역은 서초구(330만원), 강남구(326만원), 용산구(287만원)였다. 증가율은 강북구(9.2%), 금천구(8.6%), 강서구(7.8%) 순으로 높았다.소비 수단은 연령대별로 차이가 있었다.신용카드는 40대(192만원)와 50대(176만원)에서 사용량이 가장 많았고, 현금인출은 60대(117만원)·50대(94만원)·40대(69만원) 등 연령대별로 사용 금액에 차이가 컸다.◆ \"퇴근시간 빨라졌지만, 워라밸 정착 아직은…\"주 52시간제 도입 등으로 `워라밸`(일과 삶의 균형) 가치관이 자리를 잡아가면서 서울시 직장인의 생활 패턴과 소비 방식에도 변화가 감지되고 있다. 오후 7시 이후 서울 지하철에 탑승한 비율은 2017년 하반기 53.1%에서 2018년 하반기 50.3%로 낮아졌다. 반면 오후 5∼7시에 지하철에 타는 비중은 46.9%에서 49.7%로 증가했다.평일 문화예술 공연장 주변의 외식 이용도 늘었다.예를 들어 용산구에 있는 A공연장 반경 200ｍ 내에 있는 외식·커피 업종의 2018년 이용 건수는 월∼금요일 최소 13%에서 최대 32% 증가한 것으로 조사됐다. 반면 토요일은 10%, 일요일엔 6%씩 줄었다.`초저녁 소비`도 증가세를 보였다. 다양한 업종에서 오후 6∼9시 소비 증가율이 다른 시간대에 비교해 높았다.이 시간대 이용금액 증가율은 편의점 6.7%, 배달앱 73.9%, 볼링장 4.8% 등으로 이 밖의 시간(각각 2.8%, 68.4%, 0.6%)보다 높았다.이용층의 성격도 달라졌다.초저녁 시간대 편의점 이용자는 실버층(31.2%)과 성인 자녀를 둔 경우(22.2%)의 증가율이 두드러졌다. 배달앱 역시 신혼(76.0%), 영유아 자녀를 둔 경우(78.0%), 청소년 자녀를 둔 경우(85.7%) 증가율이 특히 높았다. 이는 그동안 싱글이 주를 이루던 초저녁 소비가 자녀가 있는 라이프 스테이지로 점차 확대되고 있는 것으로 풀이된다.경제활동자의 33.6%는 `워라밸`(일과 삶의 균형)을 실천하고 있다고 응답했다. 이들의 평균 주당 근무시간은 41.3시간이었다.일에 치중한다고 답한 이들(42.2%)의 근무시간은 47.7시간, 개인 생활에 치중하는 이들(24.3%)은 38.8시간이었다.워라밸 실천자는 여유시간이 있어도 즐기는 활동이 없는 이유로 경제적인 여유가 없어서(50.0%)라고 답했다.여유시간을 즐기기 위해서 월평균 31만5000원을 쓸 의향이 있지만, 실제 지출액은 그의 3분의 1 수준인 11만4000원에 그쳤다.◆ 창업자 81% 직장생활 경험…\"창업, 일에 대한 만족감·소득 때문\"최근 5년 이내 창업자의 81.3%는 창업 전에 직장에 다녔고, 직장 생활 기간은 평균 10년이었다. 창업하게 된 가장 큰 이유는 본인의 일에 대한 만족감(24.1%)이었다. 그 뒤를 소득 증가 기대(21.9%), 직장·조직생활 탈피(21.6%) 등의 순이었다.창업자의 월평균 소득은 301만원으로 창업 전 직장생활 때의 320만원보다 19만원 줄었다.[디지털뉴스국 류영상 기자][ⓒ 매일경제 & mk.co.kr, 무단전재 및 재배포 금지]\n",
            "\n",
            "--------------------------------------------------------------------------------\n",
            "보험설계사 과도한 모집수수료 선지급 체계 개선되나\n",
            "\n",
            "\n",
            "[자료 제공 = 보험연구원]\n",
            "\n",
            "신규 보험판매에 따른 수당을 보험설계사가 지급받는 모집수수료 선지급 체계가 개선될지 귀추가 모아진다.금융당국은 현재 보험업계와 태스크포스(TF)를 꾸려 보험설계사에 대한 모집수수료 지급 체계 개편안을 마련 중이다. 그동안 과도한 모집수수료 경쟁으로 보험회사 전속 보험설계사 이탈에 따른 고아계약 양상, 먹튀 설계사, 소비자에게 필요한 상품보다 수수료가 큰 상품 판매 등 부작용이 지속됐다.보험연구원은 16일 서울 중구 대한상공회의소 국제회의장에서 `소비자보호를 위한 보험상품 사업비 및 모집수수료 개선` 공청회를 열었다.이날 공청회에는 보험업계는 비롯해 금융당국 관계자도 참석했다.공청회 주제 발표를 맡은 정원석 보험연구원 연구위원은 \"모집조직(모집설계사)이 고객에게 필요한 상품정보를 제공하도록 편향된 정보전달 유인을 제거하고 과도한 모집수수료 선지급에 따른 부작용을 방지하기 위한 규제개선이 필요하다\"고 주장했다.그러면서 정 연구위원은 \"모집조직이 1년 동안 수령하는 수수료를 연간 납입 보험료 이하로 조정할 것\"을 제시했다. 구체적으로 초년도 지급 수수료는 전체의 50% 이하로, 초회 지급 수수료는 전체의 25% 이하로 조정하는 방안이다.그는 \"일부 보험사가 모집조직에 동기부여를 목적으로 과도한 초년도 모집 수수료를 지급하고 있고 극단적인 경우 모집조직이 가공의 계약을 작성하고 1년 후 해지 시 차익거래 발생 가능도 있다\"며 모집수수료 개편 필요성을 피력했다.안철경 보험연구원장은 공청회 개회사를 통해 \"보험상품 수수료에 대한 직접규제는 가격자유화에 역행한다는 비판에도 불구하고 우리보다 훨씬 상품이 단순한 미국, 호주의 보험시장에도 소비자보호를 위해 시행 중인 제도\"라고 소개했다.김용범 금융위원회 부위원장은 이날 축사를 통해 \"보험이 그간 수행해 온 사회안전망의 역할을 유지하기 위해서는 최근 문제로 지적되고 있는 보험 사업비 및 모집수수료에 대해 소비자 입장에서 의미를 되새겨 봐야 할 것\"이라며 \"해당 주제와 관련해 이해관계인의 다양한 의견을 청취하되, 제도 개선의 최종 수혜자는 소비자가 될 수 있도록 제도개선 방향이 논의돼야 한다\"고 당부했다.[디지털뉴스국 전종헌 기자][ⓒ 매일경제 & mk.co.kr, 무단전재 및 재배포 금지]\n",
            "\n",
            "--------------------------------------------------------------------------------\n",
            "우리나라 가계 지갑 속 거래용 현금 평균 7만8000원 보유\n",
            "\n",
            "\n",
            "[자료 제공 = 한국은행]\n",
            "\n",
            "지난해 우리나라 가계의 98.2%가 지갑이나 주머니에 거래용 현금을 보유 중이며 보유 가계당 평균 보유규모는 7만8000원으로 조사됐다.이는 2105년 대비 거래용 현금을 보유한 가계 비율은 99.7%에서 98.2%로 미미하게 떨어진데 비해 평균 보유규모는 11만6000원에서 33% 가량 큰 폭 감소한 것이다.한국은행은 16일 발표한 `2018년 경제주체별 현금사용행태 조사 결과`에서 이같이 나타났다고 밝혔다.한은은 \"지급결제 수단의 다변화 신용카드와 체크카드 사용 비율이 현금을 웃돈데 따른 결과\"로 설명했다.현금을 대체하는 지급결제 수단으로 간편 결제 서비스와 신용카드와 체크카드 결제 비율이 크게 늘어나고 있다는 얘기다. 실제 가계의 지급수단별 지출액 비율을 보면 2015년 현금이 38.8%, 신용·체크카드는 37.4%로 비슷한 수준이었다. 그러나 이번 조사에서는 신용·체크카드(52.0%) 비율이 현금(32.1%)보다 훨씬 높았다.지갑이나 주머니에 소지 중인 현금 외에 비상시를 대비해 집이나 사무실 등에 보유중인 예비용 현금의 경우 전체 가계의 23.3%만이 보유한 가운데, 보유 가계당 평균 보유규모는 54만3000원으로 파악됐다.이는 2015년 대비 예비용 현금 보유가계 비율은 27.0%에서 23.3%로 감소하고 보유규모도 69만3000원에서 54만3000원으로 줄어든 것이다.연령별로는 거래용 현금은 5만4000원(20대)~10만5000원(50대), 예비용 현금은 27만5000원(20대)~69만5000원(40대)으로 각각 분포된 것으로 조사돼 거래용 현금 보유규모는 50대가, 예비용은 40대에서 가장 컸다.전체 가계가 거래용과 예비용 모두 포함해 보유한 평균 현금규모는 20만3000원이며 이는 월평균 소득의 6.0%에 해당했다. 2015년에 비해 평균 현금 보유규모(30만1000원→20만3000원) 및 소득 대비 비율(10.2% 6.0%)이 모두 뚜렷하게 감소한 모습을 보였다.[디지털뉴스국 전종헌 기자][ⓒ 매일경제 & mk.co.kr, 무단전재 및 재배포 금지]\n",
            "\n"
          ],
          "name": "stdout"
        }
      ]
    },
    {
      "metadata": {
        "slideshow": {
          "slide_type": "slide"
        },
        "id": "c1WBlc2xaOqG",
        "colab_type": "text"
      },
      "cell_type": "markdown",
      "source": [
        "# 요약\n",
        "* 파이썬 requests, feedparser, newspaper 라이브러리\n",
        "* BeautifulSoup + lxml: 정확하게 텍스트를 추출 \n",
        "* newspaper(컨텐츠 추출기): 간편+범용적 (사이트 구조를 모를때 편리)\n"
      ]
    },
    {
      "metadata": {
        "slideshow": {
          "slide_type": "notes"
        },
        "id": "LSNfIu3DaOqH",
        "colab_type": "text"
      },
      "cell_type": "markdown",
      "source": [
        "### 2017-2019 [FinanceData.KR](http://financedata.kr)"
      ]
    }
  ]
}