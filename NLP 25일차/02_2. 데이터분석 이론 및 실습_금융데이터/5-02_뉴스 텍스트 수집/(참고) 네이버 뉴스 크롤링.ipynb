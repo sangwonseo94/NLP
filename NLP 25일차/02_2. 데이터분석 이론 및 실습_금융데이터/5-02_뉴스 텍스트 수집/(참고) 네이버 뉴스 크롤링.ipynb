{
  "nbformat": 4,
  "nbformat_minor": 0,
  "metadata": {
    "colab": {
      "name": "네이버 뉴스 크롤링 01 - 구성 분석과 크롤링.ipynb",
      "version": "0.3.2",
      "provenance": [],
      "collapsed_sections": []
    },
    "kernelspec": {
      "name": "python3",
      "display_name": "Python 3"
    }
  },
  "cells": [
    {
      "cell_type": "markdown",
      "metadata": {
        "id": "Z2U4oqJN7_Pz",
        "colab_type": "text"
      },
      "source": [
        "# 네이버 뉴스 크롤링\n",
        "\n",
        "<img src=\"http://i.imgur.com/MqZEGQC.jpg\" >\n",
        "\n",
        "\n",
        "#### 2019 FinanceData.KR"
      ]
    },
    {
      "cell_type": "markdown",
      "metadata": {
        "id": "Bro_MDFHVMoI",
        "colab_type": "text"
      },
      "source": [
        "## 네이버 뉴스 구성\n",
        "\n",
        "sid1(대분류)와 sid2(중분류)를 사용하여 뉴스 분야를 지정합니다.\n",
        "\n",
        "파라미터\n",
        "* sid1(대분류): 100=정치, 101=경제, 102=사회, 103=생활문화, 104=세계, 105=IT/과학\n",
        "* sid2(중분류)\n",
        "  * 정치(sid1=100): 264=청와대, 265=국회/정당, 268=북한, 266=행정, 267=국방/외교, 269=정치일반\n",
        "  * 경제(sid1=101): 258=증권, 261=산업/재계, 771=중기/벤처, 260=부동산, 262=글로벌 경제, 310=생활경제, 263=경제 일반\n",
        "  * 사회(sid1=102): 249=사건사고, 250=교육, 251=노동, 254=언론, 252=환경, 59b=인권/복지, 255=식품/의료, 256=지역, 276=인물, 257=사회 일반\n",
        "  * 생활문화(sid1=103):  241=건강정보, 239=자동차/시승기, 240=도로/교통, 237=여행/레저, 238=음식/맛집, 376=패션/뷰티, 242=공연/전시, 243=책, 244=종교, 248=날씨, 245=생활문화 일반\n",
        "  * 세계(sid1=104): 231=아시아/호주, 232=미국/중남미, 233=유럽, 234=중동/아프리카, 322=세계 일반\n",
        "  * IT/과학(sid1=105): 731=모바일, 226=인터넷/SNS, 227=통신/뉴미디어, 230=IT 일반, 732=보안/해킹, 283=컴퓨터, 229=게임/리뷰, 228=과학 일반\n",
        "* date=20180110 날짜를 지정해서 특정 날짜의 목록\n",
        "\n",
        "예를 들어, \"경제 / 경제 일반\" 영역의 경우 URL은 다음과 같습니다\n",
        "\n",
        "https://news.naver.com/main/list.nhn?sid1=101&sid2=263&date=20190104&page=1\n",
        "\n",
        "\n",
        "<img src=\"https://i.imgur.com/aKfkdhE.png\">\n",
        "\n"
      ]
    },
    {
      "cell_type": "markdown",
      "metadata": {
        "id": "gVa08w_14tId",
        "colab_type": "text"
      },
      "source": [
        "# 필요 모듈 가져오기및 설정"
      ]
    },
    {
      "cell_type": "code",
      "metadata": {
        "id": "1ZANoCrSNESX",
        "colab_type": "code",
        "colab": {}
      },
      "source": [
        "!pip install -q newspaper3k"
      ],
      "execution_count": 0,
      "outputs": []
    },
    {
      "cell_type": "code",
      "metadata": {
        "id": "YJ_kQYIRVMew",
        "colab_type": "code",
        "colab": {}
      },
      "source": [
        "import requests\n",
        "from bs4 import BeautifulSoup\n",
        "\n",
        "import dateutil\n",
        "import io\n",
        "import numpy as np\n",
        "import pandas as pd"
      ],
      "execution_count": 0,
      "outputs": []
    },
    {
      "cell_type": "markdown",
      "metadata": {
        "id": "7WbBjO2-nX_x",
        "colab_type": "text"
      },
      "source": [
        "# 지정 영역 뉴스 목록 가져오기\n",
        "\n",
        "\"경제/경제 일반\" (sid1=101, sid2=263) 영역의 뉴스 목록 가져오기"
      ]
    },
    {
      "cell_type": "code",
      "metadata": {
        "id": "OkoH0rOMVMmM",
        "colab_type": "code",
        "outputId": "820103e7-cd0c-4403-83ae-371a15345de9",
        "colab": {
          "base_uri": "https://localhost:8080/",
          "height": 35
        }
      },
      "source": [
        "# \"경제/경제 일반\" 페이지의 뉴스 목록 가져오기\n",
        "import requests\n",
        "from bs4 import BeautifulSoup\n",
        "\n",
        "url_tmpl = 'https://news.naver.com/main/list.nhn' \\\n",
        "           '?mode=LS2D&mid=shm&sid1=101&sid2=263&date=%s&page=%s'\n",
        "\n",
        "date, page = '20190104', '1'\n",
        "r = requests.get(url_tmpl % (date, page))\n",
        "soup = BeautifulSoup(r.text, 'html.parser')\n",
        "main_content = soup.find(id='main_content')\n",
        "li_list = main_content.find_all('li')\n",
        "len(li_list)"
      ],
      "execution_count": 0,
      "outputs": [
        {
          "output_type": "execute_result",
          "data": {
            "text/plain": [
              "20"
            ]
          },
          "metadata": {
            "tags": []
          },
          "execution_count": 18
        }
      ]
    },
    {
      "cell_type": "code",
      "metadata": {
        "id": "RAAZN4WRdsqB",
        "colab_type": "code",
        "outputId": "263746de-bb81-44e6-a391-fba12221c71b",
        "colab": {
          "base_uri": "https://localhost:8080/",
          "height": 276
        }
      },
      "source": [
        "li_list[0]"
      ],
      "execution_count": 0,
      "outputs": [
        {
          "output_type": "execute_result",
          "data": {
            "text/plain": [
              "<li>\n",
              "<dl>\n",
              "<dt>\n",
              "<a href=\"https://news.naver.com/main/read.nhn?mode=LS2D&amp;mid=shm&amp;sid1=101&amp;sid2=263&amp;oid=009&amp;aid=0004283358\">\n",
              "\t\t\t\t\t\t\t\t EU, 韓철강에 세이프가드…내달부터 초과물량 25% 관세\n",
              "\t\t\t\t\t\t\t\t</a>\n",
              "</dt>\n",
              "<dd>\n",
              "<span class=\"lede\">유럽연합(EU)이 다음달 2일부터 일정 수입 물량을 초과하는 한국산 철강에 25% 관세를 물리는 세이프가드(긴급수입제한조치)를  …</span>\n",
              "<span class=\"writing\">매일경제</span>\n",
              "<span class=\"newspaper_info\" title=\"신문에 게재되었으며 A8면의 기사입니다.\"><i class=\"picon\">신문</i>A8면 </span>\n",
              "<span class=\"date\">2019.01.04. 오후 11:27</span>\n",
              "</dd>\n",
              "</dl>\n",
              "</li>"
            ]
          },
          "metadata": {
            "tags": []
          },
          "execution_count": 19
        }
      ]
    },
    {
      "cell_type": "code",
      "metadata": {
        "id": "xzcl4TK0hYoq",
        "colab_type": "code",
        "outputId": "24ff404d-6f98-4b7d-fbda-17d785e15fec",
        "colab": {
          "base_uri": "https://localhost:8080/",
          "height": 365
        }
      },
      "source": [
        "li_list[1]"
      ],
      "execution_count": 0,
      "outputs": [
        {
          "output_type": "execute_result",
          "data": {
            "text/plain": [
              "<li>\n",
              "<dl>\n",
              "<dt class=\"photo\">\n",
              "<a href=\"https://news.naver.com/main/read.nhn?mode=LS2D&amp;mid=shm&amp;sid1=101&amp;sid2=263&amp;oid=001&amp;aid=0010563067\">\n",
              "<img alt=\"美 작년 12월 일자리 큰 폭 증가…실업률 3.9%로 상승\" height=\"72\" onerror=\"javascript:this.src='https://ssl.pstatic.net/static.news/image/news/2009/noimage_106x72.png';\" src=\"https://imgnews.pstatic.net/image/origin/001/2019/01/04/10563067.jpg?type=nf106_72\" width=\"106\">\n",
              "</img></a>\n",
              "</dt>\n",
              "<dt>\n",
              "<a href=\"https://news.naver.com/main/read.nhn?mode=LS2D&amp;mid=shm&amp;sid1=101&amp;sid2=263&amp;oid=001&amp;aid=0010563067\">\n",
              "\t\t\t\t\t\t\t\t 美 작년 12월 일자리 큰 폭 증가…실업률 3.9%로 상승\n",
              "\t\t\t\t\t\t\t\t</a>\n",
              "</dt>\n",
              "<dd>\n",
              "<span class=\"lede\">(뉴욕=연합뉴스) 이귀원 특파원 = 경기둔화 우려 속에서도 미국의 지난달 일자리가 큰 폭으로 증가했다. 신규 노동인구 유입으로  …</span>\n",
              "<span class=\"writing\">연합뉴스</span>\n",
              "<span class=\"date\">2019.01.04. 오후 11:17</span>\n",
              "</dd>\n",
              "</dl>\n",
              "</li>"
            ]
          },
          "metadata": {
            "tags": []
          },
          "execution_count": 20
        }
      ]
    },
    {
      "cell_type": "code",
      "metadata": {
        "id": "q934wEpnDOce",
        "colab_type": "code",
        "outputId": "802ff1fa-2df5-46e0-883a-9191b902fd5b",
        "colab": {
          "base_uri": "https://localhost:8080/",
          "height": 35
        }
      },
      "source": [
        "# 날짜 파싱하기\n",
        "import dateutil\n",
        "\n",
        "date_str = '2019.01.04. 오후 11:17'\n",
        "date_str = date_str.replace('오후', '') + ' PM' if '오후' in date_str else date_str\n",
        "date_str = date_str.replace('오전', '') + ' AM' if '오전' in date_str else date_str\n",
        "\n",
        "dateutil.parser.parse(date_str)"
      ],
      "execution_count": 0,
      "outputs": [
        {
          "output_type": "execute_result",
          "data": {
            "text/plain": [
              "datetime.datetime(2019, 1, 4, 23, 17)"
            ]
          },
          "metadata": {
            "tags": []
          },
          "execution_count": 47
        }
      ]
    },
    {
      "cell_type": "code",
      "metadata": {
        "id": "rappiYRopSDi",
        "colab_type": "code",
        "outputId": "fbb11389-8272-45d2-c2a4-fffc4da6a295",
        "colab": {
          "base_uri": "https://localhost:8080/",
          "height": 708
        }
      },
      "source": [
        "# 전체 뉴스 목록\n",
        "\n",
        "for li in li_list:\n",
        "    # 뉴스 개괄(제목, 링크, 서두, 날짜)\n",
        "    dt = li.find('dt', attrs=None)\n",
        "    link = dt.a['href']\n",
        "    title = dt.text.strip()\n",
        "    lede = li.find('span', attrs='lede').text\n",
        "    writing = li.find('span', attrs='writing').text\n",
        "    date_str = li.find('span', attrs='date').text\n",
        "    date_str = date_str.replace('오후', '') + ' PM' if '오후' in date_str else date_str\n",
        "    date_str = date_str.replace('오전', '') + ' AM' if '오전' in date_str else date_str\n",
        "    date = dateutil.parser.parse(date_str)\n",
        "\n",
        "    print(date, title)\n",
        "    print(link)\n"
      ],
      "execution_count": 0,
      "outputs": [
        {
          "output_type": "stream",
          "text": [
            "2019-01-04 23:27:00 EU, 韓철강에 세이프가드…내달부터 초과물량 25% 관세\n",
            "https://news.naver.com/main/read.nhn?mode=LS2D&mid=shm&sid1=101&sid2=263&oid=009&aid=0004283358\n",
            "2019-01-04 23:17:00 美 작년 12월 일자리 큰 폭 증가…실업률 3.9%로 상승\n",
            "https://news.naver.com/main/read.nhn?mode=LS2D&mid=shm&sid1=101&sid2=263&oid=001&aid=0010563067\n",
            "2019-01-04 23:14:00 美, 12월 일자리 31만2000개 늘어…실업률 3.9%\n",
            "https://news.naver.com/main/read.nhn?mode=LS2D&mid=shm&sid1=101&sid2=263&oid=003&aid=0008995366\n",
            "2019-01-04 22:46:00 EU, 다음달 2일부터 철강 세이프가드 시행…최종조치 계획 WTO 통보\n",
            "https://news.naver.com/main/read.nhn?mode=LS2D&mid=shm&sid1=101&sid2=263&oid=277&aid=0004388553\n",
            "2019-01-04 22:33:00 국토부 \"토지 공시가 100% 인상 지침 없다\"\n",
            "https://news.naver.com/main/read.nhn?mode=LS2D&mid=shm&sid1=101&sid2=263&oid=422&aid=0000355084\n",
            "2019-01-04 22:32:00 새해도 인기지역 청약 열기 '활활'…나머지는 '꽁꽁'\n",
            "https://news.naver.com/main/read.nhn?mode=LS2D&mid=shm&sid1=101&sid2=263&oid=422&aid=0000355083\n",
            "2019-01-04 22:25:00 \"파업으로 영업차질시 책임\" 국민은 경영진 사직서\n",
            "https://news.naver.com/main/read.nhn?mode=LS2D&mid=shm&sid1=101&sid2=263&oid=422&aid=0000355082\n",
            "2019-01-04 22:22:00 EU, 내달 2일부터 철강 세이프가드…쿼터 넘으면 25% 관세\n",
            "https://news.naver.com/main/read.nhn?mode=LS2D&mid=shm&sid1=101&sid2=263&oid=056&aid=0010657793\n",
            "2019-01-04 22:10:00 EU, 내달 한국 등 철강 세이프가드 시행…“영향 제한적”\n",
            "https://news.naver.com/main/read.nhn?mode=LS2D&mid=shm&sid1=101&sid2=263&oid=018&aid=0004285756\n",
            "2019-01-04 22:03:00 정부 \"바이백 취소 국가채무비율 영향 없어\" 신재민 주장에 거듭 반박\n",
            "https://news.naver.com/main/read.nhn?mode=LS2D&mid=shm&sid1=101&sid2=263&oid=052&aid=0001236786\n",
            "2019-01-04 22:02:00 홍남기 \"靑 외압 없었다...건강 회복이 우선\"\n",
            "https://news.naver.com/main/read.nhn?mode=LS2D&mid=shm&sid1=101&sid2=263&oid=052&aid=0001236783\n",
            "2019-01-04 22:01:00 KT 황창규 회장, 새해 ‘색다른 아트 콜라보’ 프로그램 진행\n",
            "https://news.naver.com/main/read.nhn?mode=LS2D&mid=shm&sid1=101&sid2=263&oid=311&aid=0000940021\n",
            "2019-01-04 21:47:00 EU, 철강 세이프가드 확정…韓, 11개품목 국가 쿼터 적용\n",
            "https://news.naver.com/main/read.nhn?mode=LS2D&mid=shm&sid1=101&sid2=263&oid=014&aid=0004155075\n",
            "2019-01-04 21:45:00 죽이야기, 해장죽 3종·한우죽 2종 신메뉴 출시 … ‘본사와 가맹점이 함께 개발한 신메뉴를 만나보세요!’\n",
            "https://news.naver.com/main/read.nhn?mode=LS2D&mid=shm&sid1=101&sid2=263&oid=417&aid=0000368692\n",
            "2019-01-04 21:33:00 짐 로저스 “北경제개방 못 막아…'북한버블' 대비 투자종목은”\n",
            "https://news.naver.com/main/read.nhn?mode=LS2D&mid=shm&sid1=101&sid2=263&oid=025&aid=0002875898\n",
            "2019-01-04 21:32:00 EU, 철강 세이프가드 최종 조치…韓, 수출물량 유지 전망\n",
            "https://news.naver.com/main/read.nhn?mode=LS2D&mid=shm&sid1=101&sid2=263&oid=003&aid=0008995348\n",
            "2019-01-04 21:29:00 英 '배부른 자본가들'…대기업 CEO 사흘만에 노동자 1년치 벌어\n",
            "https://news.naver.com/main/read.nhn?mode=LS2D&mid=shm&sid1=101&sid2=263&oid=001&aid=0010563020\n",
            "2019-01-04 21:24:00 셀트리온 \"제3공장 싱가포르 건설 추진설 사실 아니다\"\n",
            "https://news.naver.com/main/read.nhn?mode=LS2D&mid=shm&sid1=101&sid2=263&oid=016&aid=0001483712\n",
            "2019-01-04 21:19:00 \"부동산 투기? 꿈도 꾸지 마\"…고삐 계속 조이는 정부\n",
            "https://news.naver.com/main/read.nhn?mode=LS2D&mid=shm&sid1=101&sid2=263&oid=055&aid=0000701195\n",
            "2019-01-04 21:17:00 김정주, 넥슨 지분 매각설에 \"새 도전 위해 숙고 중\"\n",
            "https://news.naver.com/main/read.nhn?mode=LS2D&mid=shm&sid1=101&sid2=263&oid=437&aid=0000199952\n"
          ],
          "name": "stdout"
        }
      ]
    },
    {
      "cell_type": "markdown",
      "metadata": {
        "id": "0vwaPdRv8KEm",
        "colab_type": "text"
      },
      "source": [
        "## 개별 뉴스 1건 읽어오기\n",
        "\n",
        "다음과 같은 뉴스 링크\n",
        "\n",
        "https://news.naver.com/main/read.nhn?mode=LSD&mid=sec&sid1=101&sid2=263&oid=001&aid=0010563076\n",
        "\n",
        "\n",
        "<img src=\"https://i.imgur.com/r7tZIYD.png\" >"
      ]
    },
    {
      "cell_type": "markdown",
      "metadata": {
        "id": "zYxyo6MBGsHX",
        "colab_type": "text"
      },
      "source": [
        "## 네이버 뉴스 페이지에서 텍스트 추출\n",
        "\n",
        "스크립트(script) 부분은 필요하지 않으므로 script 부분을 삭제"
      ]
    },
    {
      "cell_type": "code",
      "metadata": {
        "id": "6MwlAC0w8J-S",
        "colab_type": "code",
        "outputId": "1ebc5ccf-ba00-4514-901a-8b0c7aec7deb",
        "colab": {
          "base_uri": "https://localhost:8080/",
          "height": 35
        }
      },
      "source": [
        "url='https://news.naver.com/main/read.nhn?mode=LSD&mid=shm&sid1=101&sid2=263&oid=001&aid=0010563076'\n",
        "\n",
        "r = requests.get(url)\n",
        "soup = BeautifulSoup(r.text, 'html.parser')\n",
        "soup.title.text"
      ],
      "execution_count": 0,
      "outputs": [
        {
          "output_type": "execute_result",
          "data": {
            "text/plain": [
              "'뉴욕증시, 美고용 깜짝 호조·中 부양책 상승 출발 : 네이버 뉴스'"
            ]
          },
          "metadata": {
            "tags": []
          },
          "execution_count": 3
        }
      ]
    },
    {
      "cell_type": "code",
      "metadata": {
        "id": "URchZW6h_DCy",
        "colab_type": "code",
        "outputId": "01f053e4-d612-4448-b88a-0ae337ac8d10",
        "colab": {
          "base_uri": "https://localhost:8080/",
          "height": 245
        }
      },
      "source": [
        "soup.find(id='articleBodyContents')"
      ],
      "execution_count": 0,
      "outputs": [
        {
          "output_type": "execute_result",
          "data": {
            "text/plain": [
              "<div id=\"articleBodyContents\">\n",
              "<!-- 본문 내용 -->\n",
              "<!-- TV플레이어 -->\n",
              "<!-- // TV플레이어 -->\n",
              "<script type=\"text/javascript\">\n",
              "// flash 오류를 우회하기 위한 함수 추가\n",
              "function _flash_removeCallback() {}\n",
              "</script>\n",
              "\t\n",
              "\t(뉴욕=연합뉴스) 오진우 연합인포맥스 특파원 = 뉴욕증시에서 주요 지수는 4일 미국 고용지표가 큰 폭 호조를 보인 데다, 중국도 경기 부양책을 내놓은 데 힘입어 상승 출발했다.<br/><br/>    오전 9시 39분(미 동부시간) 현재 뉴욕증권거래소(NYSE)에서 다우존스 30 산업평균지수는 전장보다 355.48포인트(1.57%) 상승한 23,041.70에 거래됐다.<br/><br/>    스탠더드앤드푸어스(S&amp;P) 500 지수는 전장보다 39.77포인트(1.62%) 오른 2,487.66에, 기술주 중심의 나스닥 지수는 115.88포인트(1.79%) 상승한 6,579.38에 거래됐다.<br/><br/>    시장은 중국의 지급준비율(지준율·RRR) 인하 등 부양책과 무역협상 관련 소식, 미국 고용지표 및 제롬 파월 연방준비제도(Fed·연준) 의장의 발언 등을 주시했다.<br/><br/>    미 노동부는 12월 비농업 신규고용이 31만2천 명 증가했다고 밝혔다. 월스트리트저널(WSJ)이 집계한 시장 예상치 17만6천 명을 훌쩍 뛰어넘었다.<br/><br/>    지난달 실업률은 3.9%로 전달 3.7%에서 올랐지만, 이는 노동시장 참가율이 지난 2014년 이후 최고인 63.1%로 오른 영향으로 풀이됐다.<br/><br/>    또 시간당 임금은 지난해 같은 달보다 3.2% 올라 2008년 이후 최고치를 기록하는 등 고용지표가 전방위적으로 강했다.<br/><br/>    WSJ은 강한 고용지표가 최근 점증하는 미국 경기 둔화 우려에 대한 균형추가 될 수 있다고 진단했다.<br/><br/>    고용지표 발표 이후 미 국채금리가 급등하고 달러도 강세를 보이는 등 금융시장의 위험회피 심리가 완화했다.<br/><br/>    중국에서도 긍정적인 소식이 나왔다.<br/><br/>    중국 중앙은행인 인민은행은 이날 지준율을 100bp(1%포인트) 인하한다고 밝혔다.<br/><br/>    최근 각종 경제지표가 눈에 띄게 악화하는 가운데 나온 조치로, 당국의 경기 방어 의지가 반영된 것으로 풀이된다.<br/><br/>    중국은 지난해에도 지준율을 네 차례 인하했다.<br/><br/>    중국 상무부는 또 오는 7일과 8일 미국 실무 협상단이 중국을 방문해 무역 협상을 진행한다는 점을 재차 확인했다. 양측 실무진의 만나는 것은 지난해 말 정상회담 이후 처음이다.<br/><br/>    무역 협상 기대로 캐터필러와 보잉 등 대표적인 무역정책 민감 기업 주가가 개장 전 거래에서부터 상승세다. <br/><br/>    또 12월 중국의 차이신 서비스업 구매관리자지수(PMI)가 53.9로 6개월 만에 최고치를 나타내는 등 긍정적인 경제지표가 나온 점도 시장 심리의 회복을 도왔다.<br/><br/>    개장 전 거래에서는 넷플릭스 주가가 골드만삭스의 매수 추천 등에 힘입어 4% 이상 올랐다. 인텔 주가도 뱅크오브아메리카메릴린치가 투자의견을 '중립'에서 '매수'로 상향 조정한 데 따라 3% 이상 오르는 등 주요 기술주 주가가 반등했다.<br/><br/>    이날 개장 전에는 12월 고용지표 외 주요 지표가 없었다.<br/><br/>    개장 이후에는 12월 서비스업 구매관리자지수(PMI)가 발표된다.<br/><br/>    또 파월 연준 의장이 전미경제학회 행사에서 패널 토론에 참여할 예정이다.<br/><br/>    로레타 메스터 클리블랜드 연방준비은행(연은) 총재는 추가 금리 인상을 하기 전에 경제에 대한 평가에 시간을 가져야 한다는 주장을 내놨다.<br/><br/>    뉴욕증시 전문가들은 강한 고용지표가 경기 둔화에 대한 과도한 불안을 해소하는 데 도움이 될 것이라고 기대했다.<br/><br/>    TD아메리트레이드의 JJ 키나한 수석 시장 전략가는 \"고용 호조가 글로벌 경기 둔화 우려를 줄이는 데 도움이 될 것\"이라면서 \"전방위적으로 일자리가 창출됐으며, 이것이 계절적인 요인 탓이라고 보지 않는다\"고 말했다.<br/><br/>    그는 \"자발적으로 퇴직한 사람 수도 많은데, 이점은 소비자들의 심리가 매우 탄탄하다는 점을 보여주는 것으로 평가한다\"고 덧붙였다.<br/><br/>    유럽 주요국 증시도 강세다. 범유럽지수인 Stoxx 600지수는 1.92% 올랐다.<br/><br/>    국제유가도 상승했다. 2월물 서부텍사스산 원유(WTI) 가격은 전 거래일보다 2.44% 상승한 48.24달러에, 브렌트유는 2.52% 오른 57.36달러에 움직였다.<br/><br/>    시카고상품거래소(CME) 페드워치에 따르면 연방기금(FF) 금리선물 시장은 내년 3월 25bp 기준금리 인상 가능성을 0.0%, 인하 가능성은 0.5% 반영했다.<br/><br/>    jwoh@yna.co.kr<br/><br/><a href=\"https://m.post.naver.com/viewer/postView.nhn?volumeNo=17451617&amp;memberNo=5246326&amp;searchKeyword=연합뉴스%20스타벅스&amp;searchRank=1&amp;yonhap_promotion_footer\" target=\"_blank\">▶연합뉴스 채널 구독하고 스타벅스 커피 드세요</a><br/><br/><a href=\"https://hng.yonhapnews.co.kr/?site=hng_tit&amp;did=1195s\" target=\"_blank\">▶뭐 하고 놀까? #흥  </a><a href=\"https://www.yna.co.kr/video/index?site=navi_visual_dep02&amp;did=1195s\" target=\"_blank\">▶쇼미더뉴스! 오늘 많이 본 뉴스영상 </a><br/><br/>\n",
              "<!-- // 본문 내용 -->\n",
              "</div>"
            ]
          },
          "metadata": {
            "tags": []
          },
          "execution_count": 4
        }
      ]
    },
    {
      "cell_type": "code",
      "metadata": {
        "id": "YMteaSC-HYED",
        "colab_type": "code",
        "outputId": "50b30c55-76bf-469b-9bf7-da4c3e230f9b",
        "colab": {
          "base_uri": "https://localhost:8080/",
          "height": 245
        }
      },
      "source": [
        "article = soup.find(id='articleBodyContents')\n",
        "article"
      ],
      "execution_count": 0,
      "outputs": [
        {
          "output_type": "execute_result",
          "data": {
            "text/plain": [
              "<div id=\"articleBodyContents\">\n",
              "<!-- 본문 내용 -->\n",
              "<!-- TV플레이어 -->\n",
              "<!-- // TV플레이어 -->\n",
              "<script type=\"text/javascript\">\n",
              "// flash 오류를 우회하기 위한 함수 추가\n",
              "function _flash_removeCallback() {}\n",
              "</script>\n",
              "\t\n",
              "\t(뉴욕=연합뉴스) 오진우 연합인포맥스 특파원 = 뉴욕증시에서 주요 지수는 4일 미국 고용지표가 큰 폭 호조를 보인 데다, 중국도 경기 부양책을 내놓은 데 힘입어 상승 출발했다.<br/><br/>    오전 9시 39분(미 동부시간) 현재 뉴욕증권거래소(NYSE)에서 다우존스 30 산업평균지수는 전장보다 355.48포인트(1.57%) 상승한 23,041.70에 거래됐다.<br/><br/>    스탠더드앤드푸어스(S&amp;P) 500 지수는 전장보다 39.77포인트(1.62%) 오른 2,487.66에, 기술주 중심의 나스닥 지수는 115.88포인트(1.79%) 상승한 6,579.38에 거래됐다.<br/><br/>    시장은 중국의 지급준비율(지준율·RRR) 인하 등 부양책과 무역협상 관련 소식, 미국 고용지표 및 제롬 파월 연방준비제도(Fed·연준) 의장의 발언 등을 주시했다.<br/><br/>    미 노동부는 12월 비농업 신규고용이 31만2천 명 증가했다고 밝혔다. 월스트리트저널(WSJ)이 집계한 시장 예상치 17만6천 명을 훌쩍 뛰어넘었다.<br/><br/>    지난달 실업률은 3.9%로 전달 3.7%에서 올랐지만, 이는 노동시장 참가율이 지난 2014년 이후 최고인 63.1%로 오른 영향으로 풀이됐다.<br/><br/>    또 시간당 임금은 지난해 같은 달보다 3.2% 올라 2008년 이후 최고치를 기록하는 등 고용지표가 전방위적으로 강했다.<br/><br/>    WSJ은 강한 고용지표가 최근 점증하는 미국 경기 둔화 우려에 대한 균형추가 될 수 있다고 진단했다.<br/><br/>    고용지표 발표 이후 미 국채금리가 급등하고 달러도 강세를 보이는 등 금융시장의 위험회피 심리가 완화했다.<br/><br/>    중국에서도 긍정적인 소식이 나왔다.<br/><br/>    중국 중앙은행인 인민은행은 이날 지준율을 100bp(1%포인트) 인하한다고 밝혔다.<br/><br/>    최근 각종 경제지표가 눈에 띄게 악화하는 가운데 나온 조치로, 당국의 경기 방어 의지가 반영된 것으로 풀이된다.<br/><br/>    중국은 지난해에도 지준율을 네 차례 인하했다.<br/><br/>    중국 상무부는 또 오는 7일과 8일 미국 실무 협상단이 중국을 방문해 무역 협상을 진행한다는 점을 재차 확인했다. 양측 실무진의 만나는 것은 지난해 말 정상회담 이후 처음이다.<br/><br/>    무역 협상 기대로 캐터필러와 보잉 등 대표적인 무역정책 민감 기업 주가가 개장 전 거래에서부터 상승세다. <br/><br/>    또 12월 중국의 차이신 서비스업 구매관리자지수(PMI)가 53.9로 6개월 만에 최고치를 나타내는 등 긍정적인 경제지표가 나온 점도 시장 심리의 회복을 도왔다.<br/><br/>    개장 전 거래에서는 넷플릭스 주가가 골드만삭스의 매수 추천 등에 힘입어 4% 이상 올랐다. 인텔 주가도 뱅크오브아메리카메릴린치가 투자의견을 '중립'에서 '매수'로 상향 조정한 데 따라 3% 이상 오르는 등 주요 기술주 주가가 반등했다.<br/><br/>    이날 개장 전에는 12월 고용지표 외 주요 지표가 없었다.<br/><br/>    개장 이후에는 12월 서비스업 구매관리자지수(PMI)가 발표된다.<br/><br/>    또 파월 연준 의장이 전미경제학회 행사에서 패널 토론에 참여할 예정이다.<br/><br/>    로레타 메스터 클리블랜드 연방준비은행(연은) 총재는 추가 금리 인상을 하기 전에 경제에 대한 평가에 시간을 가져야 한다는 주장을 내놨다.<br/><br/>    뉴욕증시 전문가들은 강한 고용지표가 경기 둔화에 대한 과도한 불안을 해소하는 데 도움이 될 것이라고 기대했다.<br/><br/>    TD아메리트레이드의 JJ 키나한 수석 시장 전략가는 \"고용 호조가 글로벌 경기 둔화 우려를 줄이는 데 도움이 될 것\"이라면서 \"전방위적으로 일자리가 창출됐으며, 이것이 계절적인 요인 탓이라고 보지 않는다\"고 말했다.<br/><br/>    그는 \"자발적으로 퇴직한 사람 수도 많은데, 이점은 소비자들의 심리가 매우 탄탄하다는 점을 보여주는 것으로 평가한다\"고 덧붙였다.<br/><br/>    유럽 주요국 증시도 강세다. 범유럽지수인 Stoxx 600지수는 1.92% 올랐다.<br/><br/>    국제유가도 상승했다. 2월물 서부텍사스산 원유(WTI) 가격은 전 거래일보다 2.44% 상승한 48.24달러에, 브렌트유는 2.52% 오른 57.36달러에 움직였다.<br/><br/>    시카고상품거래소(CME) 페드워치에 따르면 연방기금(FF) 금리선물 시장은 내년 3월 25bp 기준금리 인상 가능성을 0.0%, 인하 가능성은 0.5% 반영했다.<br/><br/>    jwoh@yna.co.kr<br/><br/><a href=\"https://m.post.naver.com/viewer/postView.nhn?volumeNo=17451617&amp;memberNo=5246326&amp;searchKeyword=연합뉴스%20스타벅스&amp;searchRank=1&amp;yonhap_promotion_footer\" target=\"_blank\">▶연합뉴스 채널 구독하고 스타벅스 커피 드세요</a><br/><br/><a href=\"https://hng.yonhapnews.co.kr/?site=hng_tit&amp;did=1195s\" target=\"_blank\">▶뭐 하고 놀까? #흥  </a><a href=\"https://www.yna.co.kr/video/index?site=navi_visual_dep02&amp;did=1195s\" target=\"_blank\">▶쇼미더뉴스! 오늘 많이 본 뉴스영상 </a><br/><br/>\n",
              "<!-- // 본문 내용 -->\n",
              "</div>"
            ]
          },
          "metadata": {
            "tags": []
          },
          "execution_count": 5
        }
      ]
    },
    {
      "cell_type": "code",
      "metadata": {
        "id": "0pHOa5WrH_a_",
        "colab_type": "code",
        "outputId": "840dfa37-b3c4-4543-b0ad-d1d7bafb9a87",
        "colab": {
          "base_uri": "https://localhost:8080/",
          "height": 86
        }
      },
      "source": [
        "article.script.extract()"
      ],
      "execution_count": 0,
      "outputs": [
        {
          "output_type": "execute_result",
          "data": {
            "text/plain": [
              "<script type=\"text/javascript\">\n",
              "// flash 오류를 우회하기 위한 함수 추가\n",
              "function _flash_removeCallback() {}\n",
              "</script>"
            ]
          },
          "metadata": {
            "tags": []
          },
          "execution_count": 6
        }
      ]
    },
    {
      "cell_type": "code",
      "metadata": {
        "id": "37F4VLBpHX_f",
        "colab_type": "code",
        "outputId": "7f668141-d6b2-4bcf-87e1-683f62681cf5",
        "colab": {
          "base_uri": "https://localhost:8080/",
          "height": 55
        }
      },
      "source": [
        "article.text.strip()"
      ],
      "execution_count": 0,
      "outputs": [
        {
          "output_type": "execute_result",
          "data": {
            "text/plain": [
              "'(뉴욕=연합뉴스) 오진우 연합인포맥스 특파원 = 뉴욕증시에서 주요 지수는 4일 미국 고용지표가 큰 폭 호조를 보인 데다, 중국도 경기 부양책을 내놓은 데 힘입어 상승 출발했다.    오전 9시 39분(미 동부시간) 현재 뉴욕증권거래소(NYSE)에서 다우존스 30 산업평균지수는 전장보다 355.48포인트(1.57%) 상승한 23,041.70에 거래됐다.    스탠더드앤드푸어스(S&P) 500 지수는 전장보다 39.77포인트(1.62%) 오른 2,487.66에, 기술주 중심의 나스닥 지수는 115.88포인트(1.79%) 상승한 6,579.38에 거래됐다.    시장은 중국의 지급준비율(지준율·RRR) 인하 등 부양책과 무역협상 관련 소식, 미국 고용지표 및 제롬 파월 연방준비제도(Fed·연준) 의장의 발언 등을 주시했다.    미 노동부는 12월 비농업 신규고용이 31만2천 명 증가했다고 밝혔다. 월스트리트저널(WSJ)이 집계한 시장 예상치 17만6천 명을 훌쩍 뛰어넘었다.    지난달 실업률은 3.9%로 전달 3.7%에서 올랐지만, 이는 노동시장 참가율이 지난 2014년 이후 최고인 63.1%로 오른 영향으로 풀이됐다.    또 시간당 임금은 지난해 같은 달보다 3.2% 올라 2008년 이후 최고치를 기록하는 등 고용지표가 전방위적으로 강했다.    WSJ은 강한 고용지표가 최근 점증하는 미국 경기 둔화 우려에 대한 균형추가 될 수 있다고 진단했다.    고용지표 발표 이후 미 국채금리가 급등하고 달러도 강세를 보이는 등 금융시장의 위험회피 심리가 완화했다.    중국에서도 긍정적인 소식이 나왔다.    중국 중앙은행인 인민은행은 이날 지준율을 100bp(1%포인트) 인하한다고 밝혔다.    최근 각종 경제지표가 눈에 띄게 악화하는 가운데 나온 조치로, 당국의 경기 방어 의지가 반영된 것으로 풀이된다.    중국은 지난해에도 지준율을 네 차례 인하했다.    중국 상무부는 또 오는 7일과 8일 미국 실무 협상단이 중국을 방문해 무역 협상을 진행한다는 점을 재차 확인했다. 양측 실무진의 만나는 것은 지난해 말 정상회담 이후 처음이다.    무역 협상 기대로 캐터필러와 보잉 등 대표적인 무역정책 민감 기업 주가가 개장 전 거래에서부터 상승세다.     또 12월 중국의 차이신 서비스업 구매관리자지수(PMI)가 53.9로 6개월 만에 최고치를 나타내는 등 긍정적인 경제지표가 나온 점도 시장 심리의 회복을 도왔다.    개장 전 거래에서는 넷플릭스 주가가 골드만삭스의 매수 추천 등에 힘입어 4% 이상 올랐다. 인텔 주가도 뱅크오브아메리카메릴린치가 투자의견을 \\'중립\\'에서 \\'매수\\'로 상향 조정한 데 따라 3% 이상 오르는 등 주요 기술주 주가가 반등했다.    이날 개장 전에는 12월 고용지표 외 주요 지표가 없었다.    개장 이후에는 12월 서비스업 구매관리자지수(PMI)가 발표된다.    또 파월 연준 의장이 전미경제학회 행사에서 패널 토론에 참여할 예정이다.    로레타 메스터 클리블랜드 연방준비은행(연은) 총재는 추가 금리 인상을 하기 전에 경제에 대한 평가에 시간을 가져야 한다는 주장을 내놨다.    뉴욕증시 전문가들은 강한 고용지표가 경기 둔화에 대한 과도한 불안을 해소하는 데 도움이 될 것이라고 기대했다.    TD아메리트레이드의 JJ 키나한 수석 시장 전략가는 \"고용 호조가 글로벌 경기 둔화 우려를 줄이는 데 도움이 될 것\"이라면서 \"전방위적으로 일자리가 창출됐으며, 이것이 계절적인 요인 탓이라고 보지 않는다\"고 말했다.    그는 \"자발적으로 퇴직한 사람 수도 많은데, 이점은 소비자들의 심리가 매우 탄탄하다는 점을 보여주는 것으로 평가한다\"고 덧붙였다.    유럽 주요국 증시도 강세다. 범유럽지수인 Stoxx 600지수는 1.92% 올랐다.    국제유가도 상승했다. 2월물 서부텍사스산 원유(WTI) 가격은 전 거래일보다 2.44% 상승한 48.24달러에, 브렌트유는 2.52% 오른 57.36달러에 움직였다.    시카고상품거래소(CME) 페드워치에 따르면 연방기금(FF) 금리선물 시장은 내년 3월 25bp 기준금리 인상 가능성을 0.0%, 인하 가능성은 0.5% 반영했다.    jwoh@yna.co.kr▶연합뉴스 채널 구독하고 스타벅스 커피 드세요▶뭐 하고 놀까? #흥  ▶쇼미더뉴스! 오늘 많이 본 뉴스영상'"
            ]
          },
          "metadata": {
            "tags": []
          },
          "execution_count": 7
        }
      ]
    },
    {
      "cell_type": "markdown",
      "metadata": {
        "id": "HuCskULenGKt",
        "colab_type": "text"
      },
      "source": [
        "## 함수로 정리 - 개별 뉴스 1건의 제목과 본문 가져오기 "
      ]
    },
    {
      "cell_type": "code",
      "metadata": {
        "id": "x5FUsVj4IOgy",
        "colab_type": "code",
        "colab": {}
      },
      "source": [
        "## 함수로 정리\n",
        "\n",
        "def get_naver_news_text(url):\n",
        "    r = requests.get(url)\n",
        "    soup = BeautifulSoup(r.text, 'html.parser')\n",
        "    # 제목 가져오기\n",
        "    title = soup.title.text\n",
        "    # 본문 가져오기\n",
        "    article = soup.find(id='articleBodyContents')\n",
        "    article.script.extract()\n",
        "    text = article.text.strip()\n",
        "    return title, text"
      ],
      "execution_count": 0,
      "outputs": []
    },
    {
      "cell_type": "code",
      "metadata": {
        "id": "CGqsc2qAIObZ",
        "colab_type": "code",
        "outputId": "b5d1a200-03c4-45f5-98f3-d582a4da8441",
        "colab": {
          "base_uri": "https://localhost:8080/",
          "height": 89
        }
      },
      "source": [
        "## 함수 테스트\n",
        "\n",
        "url = 'https://news.naver.com/main/read.nhn?mode=LSD&mid=shm&sid1=101&oid=366&aid=0000431718'\n",
        "title, text = get_naver_news_text(url)\n",
        "\n",
        "print(title)\n",
        "print('-' * 100)\n",
        "print(text)"
      ],
      "execution_count": 0,
      "outputs": [
        {
          "output_type": "stream",
          "text": [
            "또 1兆 적자 낸 쿠팡, 치킨게임 승자되나...누적적자 2.8兆 : 네이버 뉴스\n",
            "----------------------------------------------------------------------------------------------------\n",
            "쿠팡 지난해 1조1190억원 적자...누적적자 2.8조로켓배송·로켓프레시...물류비 1000억원 늘어 매출 4.4조...위메프·티몬의 10배 국내 소셜커머스업체 쿠팡이 지난해 1조1190억원(개별 재무제표 기준)의 당기순손실을 기록했다. 이는 전년(6570억원)보다 적자폭이 167% 가량 확대된 것이다. 이로써 최근 4년간 누적적자는 2조8640억원으로 늘었다. 이는 손정의 소프트뱅크 회장이 최초 투자한 1조1000억원에 더해 지난해 11월 추가 투자한 2조3000억원을 합한 총 투자금액(3조4000억원)의 84%에 달하는 금액이다. 쿠팡 로켓배송/조선DB15일 쿠팡이 금융감독원에 제출한 감사보고서에 따르면 쿠팡의 작년말 기준 자본총계는 117억6300만원이다. 전년 마이너스(-) 2446억원으로 완전 자본잠식 상태였으나 손 회장이 이끄는 비전펀드에서 추가 투자를 받아 자본잠식을 탈피했다. 완전 자본잠식은 회사의 적자가 계속돼 납입자본금마저 바닥이 난 상태를 말한다. 쿠팡이 1조원이 넘는 적자를 기록하면서 결손금도 크게 늘었다. 작년말 기준 결손금은 2조9849억원이다. 전년(1조8660억원)보다 대폭 확대됐다. 결손금이 늘었다는 것은 자본이 그만큼 줄었다는 것을 의미한다. 쿠팡의 적자폭이 확대된 이유는 크게 세 가지다. 쿠팡 직매입 상품을 하루만에 배송하는 자체 배송망 ‘로켓배송’, 여기다 신석식품 새벽배송에 따른 물류비 증가와 인건비·이자비용 증가다. 로켓배송은 당일 밤 12시까지 주문하면 다음 날 바로 집 앞 현관으로 배송되는 시스템이다. 쿠팡은 로켓배송을 위해 직매입 시스템을 유지하고 있다. 전국 지역 물류센터를 기존 12개에서 24개로 늘렸다. 또 지난해 10월 신선식품 새벽배송 서비스인 로켓프레시를 시작했다. 고객이 자정까지 신선식품을 주문하면 오전 7시 전에 배송해 준다. 이런 규모의 상품을 고객에게 익일 배송할 수 있는 유통사는 쿠팡이 유일하다.김범석 쿠팡 대표는 \"우리는 고객을 감동시키기 위해 어느 누구도 시도하지 않았던 막대한 투자를 진행해 왔다\"며 \"이제 쿠팡 고객들은 전국 어디서든 아침 7시까지 신선식품을 배송받고 있다. 와우배송을 이용하면 인기있는 장난감부터 최신 노트북 컴퓨터까지 200만 종의 상품을 문 앞으로 당일 혹은 다음날 새벽까지 단 몇 시간 만에 배송 받는다\"고 말했다. 문제는 물류비용이 매년 늘어나 쿠팡의 재무제표를 악화시키는 주범으로 작용하고 있다는 점이다. 쿠팡의 지난해 운반 및 임차료 비용은 약 2363억원으로 전년(1483억원)보다 1000억원 가량 늘었다. 인건비도 1조145억원으로 전년(6455억원)보다 4000억원 가량 증가했다. 사업을 다각화하면서 인력을 크게 늘린 탓이다. 또 위메프, 티몬을 비롯해 올해부터 공격적으로 온라인 사업을 시작한 롯데·신세계와 경쟁하기 위해 마케팅 비용을 세배가량 늘렸다. 쿠팡이 작년 쓴 광고선전비는 1537억원으로 전년(538억원)보다 1000억원 가량 늘었다. 통상 기업이 부실화되면 금융비용이 늘어난다. 쿠팡의 부채총액은 1조7840억원 으로 전년(1조3230억원)보다 확대됐다. 2016년(7021억원)보다는 1조원이 늘어난 것이다. 이에따라 지난해 쿠팡이 낸 이자비용은 1809억원으로 전년(1542억원)보다 23% 증가했다. 국내 온라인 유통시장은 아직까지 알리바바와 아마존 같은 절대 강자가 등장하지 않았다. 쿠팡은 전자상거래 시장을 독점하기 위해 외형 확대에 주력하고 있다. 실제 쿠팡의 작년 매출은 4조4147억원으로 전년(2조6814억원)보다 164% 증가했다. 이는 위메프(4294억원)·티몬(4972억원)의 10배이며 옥션·G마켓을 운영하는 이베이코리아(9812억원)보다 4배 이상 많다. 11번가(2280억원)까지 합쳐 경쟁업체 4곳의 매출을 모두 합한 것보다 두배 많다. [유윤정 기자 you@chosunbiz.com]chosunbiz.com\n"
          ],
          "name": "stdout"
        }
      ]
    },
    {
      "cell_type": "markdown",
      "metadata": {
        "id": "UWdjmd7-m_Gf",
        "colab_type": "text"
      },
      "source": [
        "## 파일로 저장, 확인, 다운로드(Colab)"
      ]
    },
    {
      "cell_type": "code",
      "metadata": {
        "id": "l-nwNsqHJeOg",
        "colab_type": "code",
        "colab": {}
      },
      "source": [
        "# 파일로 저장하기\n",
        "\n",
        "url = 'https://news.naver.com/main/read.nhn?mode=LSD&mid=shm&sid1=101&oid=366&aid=0000431718'\n",
        "title, text = get_naver_news_text(url)\n",
        "\n",
        "with open('sample_news.txt', 'w') as f:\n",
        "    f.write(text)"
      ],
      "execution_count": 0,
      "outputs": []
    },
    {
      "cell_type": "code",
      "metadata": {
        "id": "nVc-uQI8JeH9",
        "colab_type": "code",
        "outputId": "b302b7ca-3a2c-44ff-9076-bc1ccae753a0",
        "colab": {
          "base_uri": "https://localhost:8080/",
          "height": 35
        }
      },
      "source": [
        "# 파일 확인\n",
        "!ls -lh sample_news.txt"
      ],
      "execution_count": 0,
      "outputs": [
        {
          "output_type": "stream",
          "text": [
            "-rw-r--r-- 1 root root 4.3K Jun  1 00:46 sample_news.txt\n"
          ],
          "name": "stdout"
        }
      ]
    },
    {
      "cell_type": "code",
      "metadata": {
        "id": "9HjfJAlTL68r",
        "colab_type": "code",
        "outputId": "21638703-fb78-4068-e183-b32ddc194cac",
        "colab": {
          "base_uri": "https://localhost:8080/",
          "height": 55
        }
      },
      "source": [
        "!cat sample_news.txt"
      ],
      "execution_count": 0,
      "outputs": [
        {
          "output_type": "stream",
          "text": [
            "쿠팡 지난해 1조1190억원 적자...누적적자 2.8조로켓배송·로켓프레시...물류비 1000억원 늘어 매출 4.4조...위메프·티몬의 10배 국내 소셜커머스업체 쿠팡이 지난해 1조1190억원(개별 재무제표 기준)의 당기순손실을 기록했다. 이는 전년(6570억원)보다 적자폭이 167% 가량 확대된 것이다. 이로써 최근 4년간 누적적자는 2조8640억원으로 늘었다. 이는 손정의 소프트뱅크 회장이 최초 투자한 1조1000억원에 더해 지난해 11월 추가 투자한 2조3000억원을 합한 총 투자금액(3조4000억원)의 84%에 달하는 금액이다. 쿠팡 로켓배송/조선DB15일 쿠팡이 금융감독원에 제출한 감사보고서에 따르면 쿠팡의 작년말 기준 자본총계는 117억6300만원이다. 전년 마이너스(-) 2446억원으로 완전 자본잠식 상태였으나 손 회장이 이끄는 비전펀드에서 추가 투자를 받아 자본잠식을 탈피했다. 완전 자본잠식은 회사의 적자가 계속돼 납입자본금마저 바닥이 난 상태를 말한다. 쿠팡이 1조원이 넘는 적자를 기록하면서 결손금도 크게 늘었다. 작년말 기준 결손금은 2조9849억원이다. 전년(1조8660억원)보다 대폭 확대됐다. 결손금이 늘었다는 것은 자본이 그만큼 줄었다는 것을 의미한다. 쿠팡의 적자폭이 확대된 이유는 크게 세 가지다. 쿠팡 직매입 상품을 하루만에 배송하는 자체 배송망 ‘로켓배송’, 여기다 신석식품 새벽배송에 따른 물류비 증가와 인건비·이자비용 증가다. 로켓배송은 당일 밤 12시까지 주문하면 다음 날 바로 집 앞 현관으로 배송되는 시스템이다. 쿠팡은 로켓배송을 위해 직매입 시스템을 유지하고 있다. 전국 지역 물류센터를 기존 12개에서 24개로 늘렸다. 또 지난해 10월 신선식품 새벽배송 서비스인 로켓프레시를 시작했다. 고객이 자정까지 신선식품을 주문하면 오전 7시 전에 배송해 준다. 이런 규모의 상품을 고객에게 익일 배송할 수 있는 유통사는 쿠팡이 유일하다.김범석 쿠팡 대표는 \"우리는 고객을 감동시키기 위해 어느 누구도 시도하지 않았던 막대한 투자를 진행해 왔다\"며 \"이제 쿠팡 고객들은 전국 어디서든 아침 7시까지 신선식품을 배송받고 있다. 와우배송을 이용하면 인기있는 장난감부터 최신 노트북 컴퓨터까지 200만 종의 상품을 문 앞으로 당일 혹은 다음날 새벽까지 단 몇 시간 만에 배송 받는다\"고 말했다. 문제는 물류비용이 매년 늘어나 쿠팡의 재무제표를 악화시키는 주범으로 작용하고 있다는 점이다. 쿠팡의 지난해 운반 및 임차료 비용은 약 2363억원으로 전년(1483억원)보다 1000억원 가량 늘었다. 인건비도 1조145억원으로 전년(6455억원)보다 4000억원 가량 증가했다. 사업을 다각화하면서 인력을 크게 늘린 탓이다. 또 위메프, 티몬을 비롯해 올해부터 공격적으로 온라인 사업을 시작한 롯데·신세계와 경쟁하기 위해 마케팅 비용을 세배가량 늘렸다. 쿠팡이 작년 쓴 광고선전비는 1537억원으로 전년(538억원)보다 1000억원 가량 늘었다. 통상 기업이 부실화되면 금융비용이 늘어난다. 쿠팡의 부채총액은 1조7840억원 으로 전년(1조3230억원)보다 확대됐다. 2016년(7021억원)보다는 1조원이 늘어난 것이다. 이에따라 지난해 쿠팡이 낸 이자비용은 1809억원으로 전년(1542억원)보다 23% 증가했다. 국내 온라인 유통시장은 아직까지 알리바바와 아마존 같은 절대 강자가 등장하지 않았다. 쿠팡은 전자상거래 시장을 독점하기 위해 외형 확대에 주력하고 있다. 실제 쿠팡의 작년 매출은 4조4147억원으로 전년(2조6814억원)보다 164% 증가했다. 이는 위메프(4294억원)·티몬(4972억원)의 10배이며 옥션·G마켓을 운영하는 이베이코리아(9812억원)보다 4배 이상 많다. 11번가(2280억원)까지 합쳐 경쟁업체 4곳의 매출을 모두 합한 것보다 두배 많다. [유윤정 기자 you@chosunbiz.com]chosunbiz.com"
          ],
          "name": "stdout"
        }
      ]
    },
    {
      "cell_type": "code",
      "metadata": {
        "id": "o599vpI9MGIx",
        "colab_type": "code",
        "colab": {}
      },
      "source": [
        "# (구글 Colab 경우) 로컬 PC로 다운로드 하기\n",
        "from google.colab import files\n",
        "\n",
        "files.download('sample_news.txt')"
      ],
      "execution_count": 0,
      "outputs": []
    },
    {
      "cell_type": "markdown",
      "metadata": {
        "id": "4s3gT7DboKE3",
        "colab_type": "text"
      },
      "source": [
        "# 재사용 가능한 함수로 정리"
      ]
    },
    {
      "cell_type": "markdown",
      "metadata": {
        "id": "GE32R8pLNPTS",
        "colab_type": "text"
      },
      "source": [
        "## 특정 날짜의 지정 영역 뉴스 링크 모두 가져오기\n",
        "\n",
        "\"경제/경제 일반\" \n",
        "뉴스 본문을 식별하여 가져오기 위해  newspaper ( https://newspaper.readthedocs.io ) 활용"
      ]
    },
    {
      "cell_type": "code",
      "metadata": {
        "id": "NQ6T3312VMkO",
        "colab_type": "code",
        "colab": {}
      },
      "source": [
        "from datetime import datetime\n",
        "import pandas as pd\n",
        "import newspaper\n",
        "import requests\n",
        "from bs4 import BeautifulSoup\n",
        "\n",
        "def news_naver(date=None, sid1='101', sid2='263', verbose=False):\n",
        "  date = datetime.today() if date==None else pd.to_datetime(date)\n",
        "\n",
        "  url_tmpl = 'https://news.naver.com/main/list.nhn' \\\n",
        "             '?mode=LS2D&mid=shm&sid1=%s&sid2=%s&date=%s&page=%s'\n",
        "\n",
        "  page = 0\n",
        "  prev_content_text = ''\n",
        "  row_list = []\n",
        "  while True:\n",
        "    page += 1\n",
        "    url = url_tmpl % (sid1, sid2, date.strftime('%Y%m%d'), str(page))\n",
        "    if verbose:\n",
        "      print(url, end=' ')\n",
        "    r = requests.get(url)\n",
        "    soup = BeautifulSoup(r.text, 'html.parser')\n",
        "    main_content = soup.find(id='main_content')\n",
        "    if prev_content_text == main_content.text:\n",
        "      break\n",
        "    prev_content_text = main_content.text\n",
        "    li_list = main_content.find_all('li')\n",
        "\n",
        "    for li in li_list:\n",
        "      # 뉴스 개괄(제목, 링크, 서두, 날짜)\n",
        "      dt_tag = li.find('dt', attrs=None)\n",
        "      link = dt_tag.a['href']\n",
        "      title = dt_tag.text.strip()\n",
        "      lede = li.find('span', attrs='lede').text\n",
        "      writing_tag = li.find('span', attrs='writing')\n",
        "      writing = writing_tag.text if writing_tag else ''\n",
        "      date_str = li.find('span', attrs='date').text\n",
        "      date_str = date_str.replace('오후', '') + ' PM' if '오후' in date_str else date_str\n",
        "      date_str = date_str.replace('오전', '') + ' AM' if '오전' in date_str else date_str\n",
        "      date = dateutil.parser.parse(date_str)\n",
        "\n",
        "      # 뉴스 본문\n",
        "      article = newspaper.Article(link)\n",
        "      article.download()\n",
        "      article.parse()\n",
        "      text = article.text\n",
        "      row_list.append([date, title, link, lede, writing, text])\n",
        "    if verbose:\n",
        "      print(' %d cum_rows ' % len(row_list))\n",
        "  cols = ['Date', 'Title', 'Link', 'Lede', 'Writing', 'Text']\n",
        "  df = pd.DataFrame(row_list, columns=cols)\n",
        "  df['Date'] = pd.to_datetime(df['Date'], errors='coerce')\n",
        "  return df"
      ],
      "execution_count": 0,
      "outputs": []
    },
    {
      "cell_type": "code",
      "metadata": {
        "id": "AHjsscw1OBKt",
        "colab_type": "code",
        "outputId": "d652fb7b-872f-4901-f43f-e744d7880b12",
        "colab": {
          "base_uri": "https://localhost:8080/",
          "height": 3341
        }
      },
      "source": [
        "news_naver('2019-03-01', sid1='101', sid2='263', verbose=True)"
      ],
      "execution_count": 0,
      "outputs": [
        {
          "output_type": "stream",
          "text": [
            "https://news.naver.com/main/list.nhn?mode=LS2D&mid=shm&sid1=101&sid2=263&date=20190301&page=1  20 cum_rows \n",
            "https://news.naver.com/main/list.nhn?mode=LS2D&mid=shm&sid1=101&sid2=263&date=20190301&page=2  40 cum_rows \n",
            "https://news.naver.com/main/list.nhn?mode=LS2D&mid=shm&sid1=101&sid2=263&date=20190301&page=3  60 cum_rows \n",
            "https://news.naver.com/main/list.nhn?mode=LS2D&mid=shm&sid1=101&sid2=263&date=20190301&page=4  80 cum_rows \n",
            "https://news.naver.com/main/list.nhn?mode=LS2D&mid=shm&sid1=101&sid2=263&date=20190301&page=5  100 cum_rows \n",
            "https://news.naver.com/main/list.nhn?mode=LS2D&mid=shm&sid1=101&sid2=263&date=20190301&page=6  120 cum_rows \n",
            "https://news.naver.com/main/list.nhn?mode=LS2D&mid=shm&sid1=101&sid2=263&date=20190301&page=7  140 cum_rows \n",
            "https://news.naver.com/main/list.nhn?mode=LS2D&mid=shm&sid1=101&sid2=263&date=20190301&page=8  160 cum_rows \n",
            "https://news.naver.com/main/list.nhn?mode=LS2D&mid=shm&sid1=101&sid2=263&date=20190301&page=9  180 cum_rows \n",
            "https://news.naver.com/main/list.nhn?mode=LS2D&mid=shm&sid1=101&sid2=263&date=20190301&page=10  200 cum_rows \n",
            "https://news.naver.com/main/list.nhn?mode=LS2D&mid=shm&sid1=101&sid2=263&date=20190301&page=11  220 cum_rows \n",
            "https://news.naver.com/main/list.nhn?mode=LS2D&mid=shm&sid1=101&sid2=263&date=20190301&page=12  240 cum_rows \n",
            "https://news.naver.com/main/list.nhn?mode=LS2D&mid=shm&sid1=101&sid2=263&date=20190301&page=13  260 cum_rows \n",
            "https://news.naver.com/main/list.nhn?mode=LS2D&mid=shm&sid1=101&sid2=263&date=20190301&page=14  280 cum_rows \n",
            "https://news.naver.com/main/list.nhn?mode=LS2D&mid=shm&sid1=101&sid2=263&date=20190301&page=15  300 cum_rows \n",
            "https://news.naver.com/main/list.nhn?mode=LS2D&mid=shm&sid1=101&sid2=263&date=20190301&page=16  320 cum_rows \n",
            "https://news.naver.com/main/list.nhn?mode=LS2D&mid=shm&sid1=101&sid2=263&date=20190301&page=17  340 cum_rows \n",
            "https://news.naver.com/main/list.nhn?mode=LS2D&mid=shm&sid1=101&sid2=263&date=20190301&page=18  360 cum_rows \n",
            "https://news.naver.com/main/list.nhn?mode=LS2D&mid=shm&sid1=101&sid2=263&date=20190301&page=19  380 cum_rows \n",
            "https://news.naver.com/main/list.nhn?mode=LS2D&mid=shm&sid1=101&sid2=263&date=20190301&page=20  400 cum_rows \n",
            "https://news.naver.com/main/list.nhn?mode=LS2D&mid=shm&sid1=101&sid2=263&date=20190301&page=21  420 cum_rows \n",
            "https://news.naver.com/main/list.nhn?mode=LS2D&mid=shm&sid1=101&sid2=263&date=20190301&page=22  438 cum_rows \n",
            "https://news.naver.com/main/list.nhn?mode=LS2D&mid=shm&sid1=101&sid2=263&date=20190301&page=23 "
          ],
          "name": "stdout"
        },
        {
          "output_type": "execute_result",
          "data": {
            "text/html": [
              "<div>\n",
              "<style scoped>\n",
              "    .dataframe tbody tr th:only-of-type {\n",
              "        vertical-align: middle;\n",
              "    }\n",
              "\n",
              "    .dataframe tbody tr th {\n",
              "        vertical-align: top;\n",
              "    }\n",
              "\n",
              "    .dataframe thead th {\n",
              "        text-align: right;\n",
              "    }\n",
              "</style>\n",
              "<table border=\"1\" class=\"dataframe\">\n",
              "  <thead>\n",
              "    <tr style=\"text-align: right;\">\n",
              "      <th></th>\n",
              "      <th>Date</th>\n",
              "      <th>Title</th>\n",
              "      <th>Link</th>\n",
              "      <th>Lede</th>\n",
              "      <th>Writing</th>\n",
              "      <th>Text</th>\n",
              "    </tr>\n",
              "  </thead>\n",
              "  <tbody>\n",
              "    <tr>\n",
              "      <th>0</th>\n",
              "      <td>2019-03-01 23:53:00</td>\n",
              "      <td>[고침] 경제('반도체·중국 부진'에 2월 수출 11.7%↓…석 달 연속 감소(종합))</td>\n",
              "      <td>https://news.naver.com/main/read.nhn?mode=LS2D...</td>\n",
              "      <td>'반도체·중국 부진'에 2월 수출 11.1%↓…석 달 연속 감소(종합) 반도체 수출...</td>\n",
              "      <td>연합뉴스</td>\n",
              "      <td>2월 수출 11.1%↓…석달 연속 감소(CG)[연합뉴스TV 제공] 2월 수출 11....</td>\n",
              "    </tr>\n",
              "    <tr>\n",
              "      <th>1</th>\n",
              "      <td>2019-03-01 23:44:00</td>\n",
              "      <td>美 12월 소비지출 0.5%↓…9년래 최대폭 감소</td>\n",
              "      <td>https://news.naver.com/main/read.nhn?mode=LS2D...</td>\n",
              "      <td>【로스앤젤레스=뉴시스】 류강훈 기자 = 미국의 지난해 12월 소비자 지출이 0.5%...</td>\n",
              "      <td>뉴시스</td>\n",
              "      <td>【스크랜턴(미 펜실베이니아주)=AP/뉴시스】 미국의 지난해 12월 소비자 지출이 0...</td>\n",
              "    </tr>\n",
              "    <tr>\n",
              "      <th>2</th>\n",
              "      <td>2019-03-01 23:31:00</td>\n",
              "      <td>철도·도로 연결 '일단 멈춤'...\"협의는 지속\"</td>\n",
              "      <td>https://news.naver.com/main/read.nhn?mode=LS2D...</td>\n",
              "      <td>[앵커] 2차 북미 정상회담이 합의 없이 끝나면서 남북 경제협력 사업, 특히 철도와...</td>\n",
              "      <td>YTN</td>\n",
              "      <td>동영상 뉴스\\n\\n[앵커]2차 북미 정상회담이 합의 없이 끝나면서 남북 경제협력 사...</td>\n",
              "    </tr>\n",
              "    <tr>\n",
              "      <th>3</th>\n",
              "      <td>2019-03-01 23:28:00</td>\n",
              "      <td>'北 해제 요구 5건'...韓 광물·수산물 수입 영향있나?</td>\n",
              "      <td>https://news.naver.com/main/read.nhn?mode=LS2D...</td>\n",
              "      <td>[앵커] 과거 남북 관계가 좋을 때 경협사업 외에도 수산물과 광물 관련 교역도 활발...</td>\n",
              "      <td>YTN</td>\n",
              "      <td>동영상 뉴스\\n\\n[앵커]과거 남북 관계가 좋을 때 경협사업 외에도 수산물과 광물 ...</td>\n",
              "    </tr>\n",
              "    <tr>\n",
              "      <th>4</th>\n",
              "      <td>2019-03-01 23:12:00</td>\n",
              "      <td>대기업 신입 공채 개막...\"다음 달 결론\"</td>\n",
              "      <td>https://news.naver.com/main/read.nhn?mode=LS2D...</td>\n",
              "      <td>주요 대기업이 이번 달부터 올해 상반기 신입사원 공채에 본격적으로 나섭니다. 현대차...</td>\n",
              "      <td>YTN</td>\n",
              "      <td>동영상 뉴스\\n\\n주요 대기업이 이번 달부터 올해 상반기 신입사원 공채에 본격적으로...</td>\n",
              "    </tr>\n",
              "    <tr>\n",
              "      <th>5</th>\n",
              "      <td>2019-03-01 23:11:00</td>\n",
              "      <td>8일부터 '동탄→수서' SRT 출근 열차 운행</td>\n",
              "      <td>https://news.naver.com/main/read.nhn?mode=LS2D...</td>\n",
              "      <td>오는 8일부터 매일 아침 동탄역에서 수서역까지 운행하는 고속철도, SRT 출근열차가...</td>\n",
              "      <td>YTN</td>\n",
              "      <td>동영상 뉴스\\n\\n오는 8일부터 매일 아침 동탄역에서 수서역까지 운행하는 고속철도,...</td>\n",
              "    </tr>\n",
              "    <tr>\n",
              "      <th>6</th>\n",
              "      <td>2019-03-01 23:08:00</td>\n",
              "      <td>불법 전매 수익 천만 원 넘으면 3배 벌금</td>\n",
              "      <td>https://news.naver.com/main/read.nhn?mode=LS2D...</td>\n",
              "      <td>분양권의 불법 전매를 하거나 알선하다 걸리면 수익의 3배까지 벌금을 물게 됩니다. ...</td>\n",
              "      <td>YTN</td>\n",
              "      <td>동영상 뉴스\\n\\n분양권의 불법 전매를 하거나 알선하다 걸리면 수익의 3배까지 벌금...</td>\n",
              "    </tr>\n",
              "    <tr>\n",
              "      <th>7</th>\n",
              "      <td>2019-03-01 23:06:00</td>\n",
              "      <td>2월 수출 11% 감소...\"반도체·중국 부진\"</td>\n",
              "      <td>https://news.naver.com/main/read.nhn?mode=LS2D...</td>\n",
              "      <td>[앵커] 지난달 수출이 큰 폭으로 줄어든 것으로 나타났습니다. 정부는 올해 설 연휴...</td>\n",
              "      <td>YTN</td>\n",
              "      <td>동영상 뉴스\\n\\n[앵커]지난달 수출이 큰 폭으로 줄어든 것으로 나타났습니다.정부는...</td>\n",
              "    </tr>\n",
              "    <tr>\n",
              "      <th>8</th>\n",
              "      <td>2019-03-01 23:05:00</td>\n",
              "      <td>영국 2월 제조업 PMI 52.0…4개월래 최저치</td>\n",
              "      <td>https://news.naver.com/main/read.nhn?mode=LS2D...</td>\n",
              "      <td>【서울=뉴시스】권성근 기자 = 브렉시트(영국 유럽연합(EU) 탈퇴)에 따른 불확실성...</td>\n",
              "      <td>뉴시스</td>\n",
              "      <td>【서울=뉴시스】권성근 기자 = 브렉시트(영국 유럽연합(EU) 탈퇴)에 따른 불확실성...</td>\n",
              "    </tr>\n",
              "    <tr>\n",
              "      <th>9</th>\n",
              "      <td>2019-03-01 22:37:00</td>\n",
              "      <td>英 의회 직원 임금인상률 1.5%·의원은 2.7%…노동계 반발</td>\n",
              "      <td>https://news.naver.com/main/read.nhn?mode=LS2D...</td>\n",
              "      <td>(런던=연합뉴스) 박대한 특파원 = 영국 하원의원들이 물가는 물론 하원에서 일하는 ...</td>\n",
              "      <td>연합뉴스</td>\n",
              "      <td>영국 하원의 모습 [EPA=연합뉴스] 영국 하원의 모습 [EPA=연합뉴스]\\n\\n(...</td>\n",
              "    </tr>\n",
              "    <tr>\n",
              "      <th>10</th>\n",
              "      <td>2019-03-01 21:45:00</td>\n",
              "      <td>bhc 큰맘할매순대국, 인기 식사 메뉴 3종 5000만 개 팔려</td>\n",
              "      <td>https://news.naver.com/main/read.nhn?mode=LS2D...</td>\n",
              "      <td>bhc의 순댓국 전문점 큰맘할매순대국은 지난 한해 동안 인기 식사 메뉴 3종이 50...</td>\n",
              "      <td>머니S</td>\n",
              "      <td>\\n\\n\\n\\n큰맘할매순대국의 시그니처 메뉴인 ‘순대국’은 진한 사골육수에 머리고기...</td>\n",
              "    </tr>\n",
              "    <tr>\n",
              "      <th>11</th>\n",
              "      <td>2019-03-01 21:43:00</td>\n",
              "      <td>수출 석달째 내리막 '비상'…中 경기둔화에 반도체 발목</td>\n",
              "      <td>https://news.naver.com/main/read.nhn?mode=LS2D...</td>\n",
              "      <td>[앵커] 지난해까지만 해도 사상 최고 실적을 기록했던 수출이, 최근 석 달 연속 내...</td>\n",
              "      <td>TV조선</td>\n",
              "      <td>동영상 뉴스\\n\\n[앵커]지난해까지만 해도 사상 최고 실적을 기록했던 수출이, 최근...</td>\n",
              "    </tr>\n",
              "    <tr>\n",
              "      <th>12</th>\n",
              "      <td>2019-03-01 21:41:00</td>\n",
              "      <td>'한정판에 기부 릴레이'…3.1절 맞아 애국 마케팅 열전</td>\n",
              "      <td>https://news.naver.com/main/read.nhn?mode=LS2D...</td>\n",
              "      <td>[앵커] 3·1절을 기념한 '애국 마케팅'도 눈에 띄었습니다. 수익의 일정 부분을 ...</td>\n",
              "      <td>TV조선</td>\n",
              "      <td>동영상 뉴스\\n\\n[앵커]3·1절을 기념한 '애국 마케팅'도 눈에 띄었습니다. 수익...</td>\n",
              "    </tr>\n",
              "    <tr>\n",
              "      <th>13</th>\n",
              "      <td>2019-03-01 21:37:00</td>\n",
              "      <td>\"집값 더 내릴 것\" 심리에…서울 아파트 매매 '역대 최저'</td>\n",
              "      <td>https://news.naver.com/main/read.nhn?mode=LS2D...</td>\n",
              "      <td>[앵커] 지난달 서울에서 집을 사고 판 건수가 같은 달 기준으로 해당 통계를 작성한...</td>\n",
              "      <td>JTBC</td>\n",
              "      <td>동영상 뉴스\\n\\n[앵커]지난달 서울에서 집을 사고 판 건수가 같은 달 기준으로 해...</td>\n",
              "    </tr>\n",
              "    <tr>\n",
              "      <th>14</th>\n",
              "      <td>2019-03-01 21:17:00</td>\n",
              "      <td>사립유치원 164곳 '무기 개학 연기'…정부 강력 대응</td>\n",
              "      <td>https://news.naver.com/main/read.nhn?mode=LS2D...</td>\n",
              "      <td>&lt;앵커&gt; 다음 주 개학을 앞두고 사립유치원들이 대거 문을 열지 않겠다고 엄포를 놨는...</td>\n",
              "      <td>SBS</td>\n",
              "      <td>동영상 뉴스\\n\\n다음 주 개학을 앞두고 사립유치원들이 대거 문을 열지 않겠다고 엄...</td>\n",
              "    </tr>\n",
              "    <tr>\n",
              "      <th>15</th>\n",
              "      <td>2019-03-01 21:11:00</td>\n",
              "      <td>한국인 승객 난동에 '회항'…공항 도착 뒤 FBI가 체포</td>\n",
              "      <td>https://news.naver.com/main/read.nhn?mode=LS2D...</td>\n",
              "      <td>[앵커] 미국 하와이에서 인천으로 향하던 여객기가 난동을 부린 한국인 승객 때문에 ...</td>\n",
              "      <td>JTBC</td>\n",
              "      <td>동영상 뉴스\\n\\n[앵커]미국 하와이에서 인천으로 향하던 여객기가 난동을 부린 한국...</td>\n",
              "    </tr>\n",
              "    <tr>\n",
              "      <th>16</th>\n",
              "      <td>2019-03-01 20:56:00</td>\n",
              "      <td>반도체값 하락에 수출 3개월 연속 감소</td>\n",
              "      <td>https://news.naver.com/main/read.nhn?mode=LS2D...</td>\n",
              "      <td>ㆍ2월 수출 전년보다 11.1%나…수입 12.6% 줄어 수지 ‘겨우 흑자’ 반도체 ...</td>\n",
              "      <td>경향신문</td>\n",
              "      <td>반도체 가격 하락세와 세계 경기 둔화의 영향으로 수출이 3개월 연속 감소한 것으로 ...</td>\n",
              "    </tr>\n",
              "    <tr>\n",
              "      <th>17</th>\n",
              "      <td>2019-03-01 20:45:00</td>\n",
              "      <td>바르다김선생, 가맹점주 초청 자동화기기 시연회 개최</td>\n",
              "      <td>https://news.naver.com/main/read.nhn?mode=LS2D...</td>\n",
              "      <td>프리미엄 김밥 브랜드 바르다김선생이 본사에서 가맹점주들을 초청해 자동화기기 시연회를...</td>\n",
              "      <td>머니S</td>\n",
              "      <td>/ 바르다김선생 제공 @머니S MNB, 식품 외식 유통 · 프랜차이즈 가맹 &amp; 유망...</td>\n",
              "    </tr>\n",
              "    <tr>\n",
              "      <th>18</th>\n",
              "      <td>2019-03-01 20:37:00</td>\n",
              "      <td>태극기 '가린' 미세먼지…마스크 쓰고 \"만세\"</td>\n",
              "      <td>https://news.naver.com/main/read.nhn?mode=LS2D...</td>\n",
              "      <td>[뉴스데스크]◀ 앵커 ▶ 3·1운동 100주년을 맞아 다양한 기념행사가 열렸던 오늘...</td>\n",
              "      <td>MBC</td>\n",
              "      <td>동영상 뉴스\\n\\n[뉴스데스크]◀ 앵커 ▶3·1운동 100주년을 맞아 다양한 기념행...</td>\n",
              "    </tr>\n",
              "    <tr>\n",
              "      <th>19</th>\n",
              "      <td>2019-03-01 20:17:00</td>\n",
              "      <td>‘동탄~수서 SRT 출근열차’ 8일부터 다시 달린다</td>\n",
              "      <td>https://news.naver.com/main/read.nhn?mode=LS2D...</td>\n",
              "      <td>[서울신문] 경기도 동탄신도시 주민들의 서울 출근길 불편이 개선된다. 국토교통부와 ...</td>\n",
              "      <td>서울신문</td>\n",
              "      <td>[서울신문]경기도 동탄신도시 주민들의 서울 출근길 불편이 개선된다.국토교통부와 SR...</td>\n",
              "    </tr>\n",
              "    <tr>\n",
              "      <th>20</th>\n",
              "      <td>2019-03-01 20:12:00</td>\n",
              "      <td>'시간 쫓기는 최저임금'…최종결정 10월로 늦춰 현장 혼란 우려</td>\n",
              "      <td>https://news.naver.com/main/read.nhn?mode=LS2D...</td>\n",
              "      <td>[아시아경제 김보경 기자] 정부가 2020년도 최저임금을 예년보다 두 달 늦은 10...</td>\n",
              "      <td>아시아경제</td>\n",
              "      <td>최저임금 결정구조 개편안을 발표하는 이재갑 고용노동부 장관. /문호남 기자 muno...</td>\n",
              "    </tr>\n",
              "    <tr>\n",
              "      <th>21</th>\n",
              "      <td>2019-03-01 20:10:00</td>\n",
              "      <td>[그래픽] 수출입 증감률 추이</td>\n",
              "      <td>https://news.naver.com/main/read.nhn?mode=LS2D...</td>\n",
              "      <td>(서울=연합뉴스) 박영석 기자 = 산업통상자원부는 지난 2월 수출이 작년 동월 대비...</td>\n",
              "      <td>연합뉴스</td>\n",
              "      <td>기사 섹션 분류 안내\\n\\n기사의 섹션 정보는 해당 언론사의 분류를 따르고 있습니다...</td>\n",
              "    </tr>\n",
              "    <tr>\n",
              "      <th>22</th>\n",
              "      <td>2019-03-01 19:23:00</td>\n",
              "      <td>“북미회담 결렬 금융시장 영향 제한적”</td>\n",
              "      <td>https://news.naver.com/main/read.nhn?mode=LS2D...</td>\n",
              "      <td>북미 정상회담 결렬이 국내 금융시장에 끼친 영향은 제한적이라고 정부가 평가했습니다....</td>\n",
              "      <td>KBS</td>\n",
              "      <td>북미 정상회담 결렬이 국내 금융시장에 끼친 영향은 제한적이라고 정부가 평가했습니다....</td>\n",
              "    </tr>\n",
              "    <tr>\n",
              "      <th>23</th>\n",
              "      <td>2019-03-01 19:23:00</td>\n",
              "      <td>지난달 수출 11.1% 마이너스…석 달 연속 감소</td>\n",
              "      <td>https://news.naver.com/main/read.nhn?mode=LS2D...</td>\n",
              "      <td>글로벌 경기 둔화와 반도체 가격 하락세 등으로 수출이 석 달 연속 마이너스를 기록했...</td>\n",
              "      <td>KBS</td>\n",
              "      <td>글로벌 경기 둔화와 반도체 가격 하락세 등으로 수출이 석 달 연속 마이너스를 기록했...</td>\n",
              "    </tr>\n",
              "    <tr>\n",
              "      <th>24</th>\n",
              "      <td>2019-03-01 19:23:00</td>\n",
              "      <td>“집값 더 내린다”…아파트 시장 매매 대신 전세로</td>\n",
              "      <td>https://news.naver.com/main/read.nhn?mode=LS2D...</td>\n",
              "      <td>집값 하락세가 이어지면서 지난달 서울 아파트 전세 거래는 늘고, 매매 거래는 역대 ...</td>\n",
              "      <td>KBS</td>\n",
              "      <td>집값 하락세가 이어지면서 지난달 서울 아파트 전세 거래는 늘고, 매매 거래는 역대 ...</td>\n",
              "    </tr>\n",
              "    <tr>\n",
              "      <th>25</th>\n",
              "      <td>2019-03-01 19:08:00</td>\n",
              "      <td>지난달 수출 11% 넘게 감소…반도체 가격 하락 등 영향</td>\n",
              "      <td>https://news.naver.com/main/read.nhn?mode=LS2D...</td>\n",
              "      <td>글로벌 경기 둔화와 반도체 가격 하락, 설 연휴 등의 요인으로 수출이 3개월 연속 ...</td>\n",
              "      <td>세계일보</td>\n",
              "      <td>글로벌 경기 둔화와 반도체 가격 하락, 설 연휴 등의 요인으로 수출이 3개월 연속 ...</td>\n",
              "    </tr>\n",
              "    <tr>\n",
              "      <th>26</th>\n",
              "      <td>2019-03-01 19:02:00</td>\n",
              "      <td>[CEO풍향계] 3세경영 본격화 정의선…'분노의 힘' BTS 아버지 방시혁</td>\n",
              "      <td>https://news.naver.com/main/read.nhn?mode=LS2D...</td>\n",
              "      <td>[CEO풍향계] 3세경영 본격화 정의선…'분노의 힘' BTS 아버지 방시혁 [앵커]...</td>\n",
              "      <td>연합뉴스TV</td>\n",
              "      <td>동영상 뉴스\\n\\n[CEO풍향계] 3세경영 본격화 정의선…'분노의 힘' BTS 아버...</td>\n",
              "    </tr>\n",
              "    <tr>\n",
              "      <th>27</th>\n",
              "      <td>2019-03-01 18:49:00</td>\n",
              "      <td>'미세먼지 비상' 수도권·충청권 내일 저감조치…차량 정상운행</td>\n",
              "      <td>https://news.naver.com/main/read.nhn?mode=LS2D...</td>\n",
              "      <td>3.1절에 이어 토요일인 내일도 수도권과 충청권에서 고농도 미세먼지 비상저감조치가 ...</td>\n",
              "      <td>MBC</td>\n",
              "      <td>3.1절에 이어 토요일인 내일도 수도권과 충청권에서 고농도 미세먼지 비상저감조치가 ...</td>\n",
              "    </tr>\n",
              "    <tr>\n",
              "      <th>28</th>\n",
              "      <td>2019-03-01 18:48:00</td>\n",
              "      <td>동탄→수서 SRT 출근열차 8일부터 매일 운행</td>\n",
              "      <td>https://news.naver.com/main/read.nhn?mode=LS2D...</td>\n",
              "      <td>동탄→수서 SRT 출근열차 8일부터 매일 운행 오는 8일부터 매일 아침 동탄역에서 ...</td>\n",
              "      <td>연합뉴스TV</td>\n",
              "      <td>동영상 뉴스\\n\\n동탄→수서 SRT 출근열차 8일부터 매일 운행오는 8일부터 매일 ...</td>\n",
              "    </tr>\n",
              "    <tr>\n",
              "      <th>29</th>\n",
              "      <td>2019-03-01 18:46:00</td>\n",
              "      <td>롯데멤버스, 디지털 트렌드를 예측하는 빅데이터 분석 전문가를 양성하다!</td>\n",
              "      <td>https://news.naver.com/main/read.nhn?mode=LS2D...</td>\n",
              "      <td>롯데멤버스 ‘제5회 빅데이터 컴피티션’ 시상식 개최 ‘Digital Trend An...</td>\n",
              "      <td>머니S</td>\n",
              "      <td>롯데멤버스가 최근 서울특별시 중구에 위치한 롯데멤버스 본사에서 ‘제5회 L.POIN...</td>\n",
              "    </tr>\n",
              "    <tr>\n",
              "      <th>...</th>\n",
              "      <td>...</td>\n",
              "      <td>...</td>\n",
              "      <td>...</td>\n",
              "      <td>...</td>\n",
              "      <td>...</td>\n",
              "      <td>...</td>\n",
              "    </tr>\n",
              "    <tr>\n",
              "      <th>408</th>\n",
              "      <td>2019-03-01 02:54:00</td>\n",
              "      <td>라이벌 BMW-다임러 '자율주행' 손잡아…글로벌 합종연횡 가속(종합2보)</td>\n",
              "      <td>https://news.naver.com/main/read.nhn?mode=LS2D...</td>\n",
              "      <td>차량공유 서비스 협력 이어 전략적 제휴 日 자동차 3사는 웨이모와 제휴 추진 (베를...</td>\n",
              "      <td>연합뉴스</td>\n",
              "      <td>BMW와 벤츠 로고 [AFP=연합뉴스] BMW와 벤츠 로고 [AFP=연합뉴스]\\n\\...</td>\n",
              "    </tr>\n",
              "    <tr>\n",
              "      <th>409</th>\n",
              "      <td>2019-03-01 02:53:00</td>\n",
              "      <td>아마존, 시애틀 58층 초고층빌딩 입주계획도 철회</td>\n",
              "      <td>https://news.naver.com/main/read.nhn?mode=LS2D...</td>\n",
              "      <td>(로스앤젤레스=연합뉴스) 옥철 특파원 = 세계 최대 전자상거래 기업 아마존이 미국 ...</td>\n",
              "      <td>연합뉴스</td>\n",
              "      <td>아마존이 입주하려던 시애틀 초고층 빌딩[레이니어 스퀘어 빌딩 홈페이지] 아마존이 입...</td>\n",
              "    </tr>\n",
              "    <tr>\n",
              "      <th>410</th>\n",
              "      <td>2019-03-01 02:46:00</td>\n",
              "      <td>삼겹살데이 앞둔 3월 1일~3일 전국 80여곳 초대형 시식·할인행사</td>\n",
              "      <td>https://news.naver.com/main/read.nhn?mode=LS2D...</td>\n",
              "      <td>삼겹살데이맞아 3월1일부터 3일까지 전국적으로 80여곳에서 초대형 시식,할인 행사가...</td>\n",
              "      <td>파이낸셜뉴스</td>\n",
              "      <td>삼겹살데이맞아 3월1일부터 3일까지 전국적으로 80여곳에서 초대형 시식,할인 행사가...</td>\n",
              "    </tr>\n",
              "    <tr>\n",
              "      <th>411</th>\n",
              "      <td>2019-03-01 02:31:00</td>\n",
              "      <td>커들로 \"中, 외환시장 개입 보고해야\"…中, 구조변화 의사 표명</td>\n",
              "      <td>https://news.naver.com/main/read.nhn?mode=LS2D...</td>\n",
              "      <td>【로스앤젤레스=뉴시스】 류강훈 기자 = 래리 커들로 백악관 국가경제위원회(NEC) ...</td>\n",
              "      <td>뉴시스</td>\n",
              "      <td>【로스앤젤레스=뉴시스】 래리 커들로 백악관 국가경제위원회(NEC) 위원장이 28일(...</td>\n",
              "    </tr>\n",
              "    <tr>\n",
              "      <th>412</th>\n",
              "      <td>2019-03-01 01:47:00</td>\n",
              "      <td>므누신 美재무 \"中과의 무역협정 가까워져…美협상팀 긴밀한 협력\"</td>\n",
              "      <td>https://news.naver.com/main/read.nhn?mode=LS2D...</td>\n",
              "      <td>【로스앤젤레스=뉴시스】 류강훈 기자 = 스티븐 므누신 미 재무장관이 28일(현지시간...</td>\n",
              "      <td>뉴시스</td>\n",
              "      <td>【워싱턴=AP/뉴시스】 스티븐 므누신 미 재무장관이 28일(현지시간) CNBC의 스...</td>\n",
              "    </tr>\n",
              "    <tr>\n",
              "      <th>413</th>\n",
              "      <td>2019-03-01 01:45:00</td>\n",
              "      <td>브라질 국영에너지사 부패스캔들 후유증 딛고 5년만에 순익</td>\n",
              "      <td>https://news.naver.com/main/read.nhn?mode=LS2D...</td>\n",
              "      <td>작년 순익 규모 7조7천억원 넘어…2013년 이후 처음 (상파울루=연합뉴스) 김재순...</td>\n",
              "      <td>연합뉴스</td>\n",
              "      <td>리우데자네이루 시에 있는 페트로브라스 본사 [브라질 뉴스포털 UOL] 리우데자네이루...</td>\n",
              "    </tr>\n",
              "    <tr>\n",
              "      <th>414</th>\n",
              "      <td>2019-03-01 01:45:00</td>\n",
              "      <td>엑손모빌 \"키프로스 해역서 대규모 가스 매장량 확인\"</td>\n",
              "      <td>https://news.naver.com/main/read.nhn?mode=LS2D...</td>\n",
              "      <td>키프로스 에너지부와 공동발표…터키와 갈등 지속 예상 (이스탄불=연합뉴스) 하채림 특...</td>\n",
              "      <td>연합뉴스</td>\n",
              "      <td>시추선이 보이는 키프로스의 해변 [AP=연합뉴스 자료사진] 시추선이 보이는 키프로스...</td>\n",
              "    </tr>\n",
              "    <tr>\n",
              "      <th>415</th>\n",
              "      <td>2019-03-01 01:09:00</td>\n",
              "      <td>美 주간실업수당 청구 22만5000건…전주 대비 8000건↑</td>\n",
              "      <td>https://news.naver.com/main/read.nhn?mode=LS2D...</td>\n",
              "      <td>【로스앤젤레스=뉴시스】 류강훈 기자 = 미국의 지난주 실업수당 청구가 22만5000...</td>\n",
              "      <td>뉴시스</td>\n",
              "      <td>【워싱턴=AP/뉴시스】 미국의 지난주 실업수당 청구가 22만5000건으로 전주에 비...</td>\n",
              "    </tr>\n",
              "    <tr>\n",
              "      <th>416</th>\n",
              "      <td>2019-03-01 01:00:00</td>\n",
              "      <td>英 농림 부장관, '브렉시트 연기 가능성'에 반발해 사임</td>\n",
              "      <td>https://news.naver.com/main/read.nhn?mode=LS2D...</td>\n",
              "      <td>(런던=연합뉴스) 박대한 특파원 = 영국의 농업 및 어업 담당 부장관이 브렉시트(B...</td>\n",
              "      <td>연합뉴스</td>\n",
              "      <td>조지 유스티스 영국 농업 담당 부장관 [AFP=연합뉴스] 조지 유스티스 영국 농업 ...</td>\n",
              "    </tr>\n",
              "    <tr>\n",
              "      <th>417</th>\n",
              "      <td>2019-03-01 00:40:00</td>\n",
              "      <td>한국인, 프라하 공항서 자동입국 가능…非 EU 최초</td>\n",
              "      <td>https://news.naver.com/main/read.nhn?mode=LS2D...</td>\n",
              "      <td>3월부터 체코 프라하 공항으로 입국하는 한국인 승객은 전자여권을 이용해 자동입국 심...</td>\n",
              "      <td>동아일보</td>\n",
              "      <td>3월부터 체코 프라하 공항으로 입국하는 한국인 승객은 전자여권을 이용해 자동입국 심...</td>\n",
              "    </tr>\n",
              "    <tr>\n",
              "      <th>418</th>\n",
              "      <td>2019-03-01 00:33:00</td>\n",
              "      <td>브라질 중앙은행장 교체…경제장관과 가까운 자유주의 경제학자</td>\n",
              "      <td>https://news.naver.com/main/read.nhn?mode=LS2D...</td>\n",
              "      <td>중앙은행 독립성, 구매력 확대, 견고하고 효율적인 금융시스템 강조 (상파울루=연합뉴...</td>\n",
              "      <td>연합뉴스</td>\n",
              "      <td>호베르투 캄푸스 네투 신임 브라질 중앙은행 총재 [국영 뉴스통신 아젠시아 브라질] ...</td>\n",
              "    </tr>\n",
              "    <tr>\n",
              "      <th>419</th>\n",
              "      <td>2019-03-01 00:31:00</td>\n",
              "      <td>기본형 건축비 상한액 인상</td>\n",
              "      <td>https://news.naver.com/main/read.nhn?mode=LS2D...</td>\n",
              "      <td>분양가상한제가 적용되는 주택의 가격 산정에 활용되는 기본형 건축비 상한액이 1일부터...</td>\n",
              "      <td>강원일보</td>\n",
              "      <td>분양가상한제가 적용되는 주택의 가격 산정에 활용되는 기본형 건축비 상한액이 1일부터...</td>\n",
              "    </tr>\n",
              "    <tr>\n",
              "      <th>420</th>\n",
              "      <td>2019-03-01 00:31:00</td>\n",
              "      <td>`경기둔화 우려·유가 하락' 한은 기준금리 1.75% 유지</td>\n",
              "      <td>https://news.naver.com/main/read.nhn?mode=LS2D...</td>\n",
              "      <td>한국은행은 일단 기준금리를 동결했다. 인상, 인하 어느 쪽으로도 방향을 잡기 어려운...</td>\n",
              "      <td>강원일보</td>\n",
              "      <td>한국은행은 일단 기준금리를 동결했다. 인상, 인하 어느 쪽으로도 방향을 잡기 어려운...</td>\n",
              "    </tr>\n",
              "    <tr>\n",
              "      <th>421</th>\n",
              "      <td>2019-03-01 00:31:00</td>\n",
              "      <td>도내 건설수주액 규모 1년새 4조5천억 감소</td>\n",
              "      <td>https://news.naver.com/main/read.nhn?mode=LS2D...</td>\n",
              "      <td>연초 도내 건설수주액 규모가 1년 새 4조5,000억원가량 줄어든 것으로 나타났다....</td>\n",
              "      <td>강원일보</td>\n",
              "      <td>연초 도내 건설수주액 규모가 1년 새 4조5,000억원가량 줄어든 것으로 나타났다....</td>\n",
              "    </tr>\n",
              "    <tr>\n",
              "      <th>422</th>\n",
              "      <td>2019-03-01 00:31:00</td>\n",
              "      <td>“선진기업 순회 방문…판로개척 적극 앞장”</td>\n",
              "      <td>https://news.naver.com/main/read.nhn?mode=LS2D...</td>\n",
              "      <td>KCA 총원우회 2기 신임 회장 천세복 1기 수석부회장 선출 오는 21일 아카데미 ...</td>\n",
              "      <td>강원일보</td>\n",
              "      <td>“선진기업 순회 방문…판로개척 적극 앞장” ◇강원일보 KCA 총원우회 임원 상견례 ...</td>\n",
              "    </tr>\n",
              "    <tr>\n",
              "      <th>423</th>\n",
              "      <td>2019-03-01 00:31:00</td>\n",
              "      <td>[하노이 핵담판 결렬]주식·채권·원화까지 일제히 하락 `트리플 약세' 충격</td>\n",
              "      <td>https://news.naver.com/main/read.nhn?mode=LS2D...</td>\n",
              "      <td>코스피지수 39.35P 하락 2,195.44…전년 10월23일 이후 최대 원·달러 ...</td>\n",
              "      <td>강원일보</td>\n",
              "      <td>코스피지수 39.35P 하락 2,195.44…전년 10월23일 이후 최대\\n\\n원·...</td>\n",
              "    </tr>\n",
              "    <tr>\n",
              "      <th>424</th>\n",
              "      <td>2019-03-01 00:31:00</td>\n",
              "      <td>국순당 2019 대한민국 주류대상 4개 제품 대상 쾌거</td>\n",
              "      <td>https://news.naver.com/main/read.nhn?mode=LS2D...</td>\n",
              "      <td>백세주·쌀·1000억막걸리·려40도 횡성에 본사를 둔 전통주 기업 국순당이 `201...</td>\n",
              "      <td>강원일보</td>\n",
              "      <td>국순당 2019 대한민국 주류대상 4개 제품 대상 쾌거 ◇2019 대한민국 주류대상...</td>\n",
              "    </tr>\n",
              "    <tr>\n",
              "      <th>425</th>\n",
              "      <td>2019-03-01 00:19:00</td>\n",
              "      <td>브라질 작년 GDP 성장률 1.1%…시장 기대치 밑돌아</td>\n",
              "      <td>https://news.naver.com/main/read.nhn?mode=LS2D...</td>\n",
              "      <td>올해는 2%대 성장 기대…연금개혁·민영화 등이 호재 예상 (상파울루=연합뉴스) 김재...</td>\n",
              "      <td>연합뉴스</td>\n",
              "      <td>지난해 브라질의 GDP 성장률이 시장의 기대치를 밑도는 1.1%로 집계됐다. [브라...</td>\n",
              "    </tr>\n",
              "    <tr>\n",
              "      <th>426</th>\n",
              "      <td>2019-03-01 00:12:00</td>\n",
              "      <td>김현종 \"비록 지금 떠나지만 영원한 통상인으로 남겠다\"</td>\n",
              "      <td>https://news.naver.com/main/read.nhn?mode=LS2D...</td>\n",
              "      <td>김현종 전 산업통상자원부 통상교섭본부장이 지난 2월13일 산업통상자원부에서 미국 출...</td>\n",
              "      <td>이데일리</td>\n",
              "      <td>김현종 전 산업통상자원부 통상교섭본부장이 지난 2월13일 산업통상자원부에서 미국 출...</td>\n",
              "    </tr>\n",
              "    <tr>\n",
              "      <th>427</th>\n",
              "      <td>2019-03-01 00:04:00</td>\n",
              "      <td>[인사] 한국은행</td>\n",
              "      <td>https://news.naver.com/main/read.nhn?mode=LS2D...</td>\n",
              "      <td>◆한국은행 ▶금융안정국장 민좌홍 ▶금융결제국장 임철재 ▶경제연구원장 신운 ▶ 중앙일...</td>\n",
              "      <td>중앙일보</td>\n",
              "      <td>기사 섹션 분류 안내\\n\\n기사의 섹션 정보는 해당 언론사의 분류를 따르고 있습니다...</td>\n",
              "    </tr>\n",
              "    <tr>\n",
              "      <th>428</th>\n",
              "      <td>2019-03-01 00:04:00</td>\n",
              "      <td>[경제 브리핑] 대우건설 경영진 자사주 20만주 매입</td>\n",
              "      <td>https://news.naver.com/main/read.nhn?mode=LS2D...</td>\n",
              "      <td>대우건설은 김형 사장과 사외이사 3명을 포함한 임원진 33명이 지난 27일 회사 주...</td>\n",
              "      <td>중앙일보</td>\n",
              "      <td>기사 섹션 분류 안내\\n\\n기사의 섹션 정보는 해당 언론사의 분류를 따르고 있습니다...</td>\n",
              "    </tr>\n",
              "    <tr>\n",
              "      <th>429</th>\n",
              "      <td>2019-03-01 00:04:00</td>\n",
              "      <td>[경제 브리핑] 박진규 에넥스 신임 회장 선임</td>\n",
              "      <td>https://news.naver.com/main/read.nhn?mode=LS2D...</td>\n",
              "      <td>종합가구기업 에넥스가 박진규(사진) 부회장을 신임 회장으로 선임했다. 에넥스 창업자...</td>\n",
              "      <td>중앙일보</td>\n",
              "      <td>박진규 박진규\\n\\n종합가구기업 에넥스가 박진규(사진) 부회장을 신임 회장으로 선임...</td>\n",
              "    </tr>\n",
              "    <tr>\n",
              "      <th>430</th>\n",
              "      <td>2019-03-01 00:04:00</td>\n",
              "      <td>[경제 브리핑] 김기문 중소기업중앙회 회장 당선</td>\n",
              "      <td>https://news.naver.com/main/read.nhn?mode=LS2D...</td>\n",
              "      <td>중소기업중앙회(이하 중기중앙회)는 28일 서울 여의도에서 열린 57회 정기총회에서 ...</td>\n",
              "      <td>중앙일보</td>\n",
              "      <td>김기문 김기문\\n\\n중소기업중앙회(이하 중기중앙회)는 28일 서울 여의도에서 열린 ...</td>\n",
              "    </tr>\n",
              "    <tr>\n",
              "      <th>431</th>\n",
              "      <td>2019-03-01 00:04:00</td>\n",
              "      <td>함영주 하나은행장 3연임 포기</td>\n",
              "      <td>https://news.naver.com/main/read.nhn?mode=LS2D...</td>\n",
              "      <td>함영주(63) KEB하나은행장이 3연임을 스스로 포기했다. 금융감독원의 우려 표명에...</td>\n",
              "      <td>중앙일보</td>\n",
              "      <td>함영주(左), 지성규(右) 함영주(左), 지성규(右)\\n\\n함영주(63) KEB하나...</td>\n",
              "    </tr>\n",
              "    <tr>\n",
              "      <th>432</th>\n",
              "      <td>2019-03-01 00:04:00</td>\n",
              "      <td>국민연금 기금운용 수익률, 10년 만에 마이너스 기록</td>\n",
              "      <td>https://news.naver.com/main/read.nhn?mode=LS2D...</td>\n",
              "      <td>국민연금 기금운용 수익률이 지난해 -0.92%로 집계됐다. 국민연금이 마이너스 실적...</td>\n",
              "      <td>스포츠경향</td>\n",
              "      <td>국민연금 기금운용 수익률이 지난해 -0.92%로 집계됐다.국민연금이 마이너스 실적을...</td>\n",
              "    </tr>\n",
              "    <tr>\n",
              "      <th>433</th>\n",
              "      <td>2019-03-01 00:04:00</td>\n",
              "      <td>하노이 쇼크…경협주 폭락, 코스피 2200 붕괴</td>\n",
              "      <td>https://news.naver.com/main/read.nhn?mode=LS2D...</td>\n",
              "      <td>‘하노이 쇼크’로 코스피 지수가 40포인트 가까이 하락하며 2200선이 무너졌다. ...</td>\n",
              "      <td>중앙일보</td>\n",
              "      <td>‘하노이 쇼크’로 코스피 지수가 40포인트 가까이 하락하며 2200선이 무너졌다.2...</td>\n",
              "    </tr>\n",
              "    <tr>\n",
              "      <th>434</th>\n",
              "      <td>2019-03-01 00:04:00</td>\n",
              "      <td>한국경제 빨간불 깜박, 파란불도 깜박</td>\n",
              "      <td>https://news.naver.com/main/read.nhn?mode=LS2D...</td>\n",
              "      <td>경기 상황을 보여주는 동행·선행지수 순환변동치가 8개월째 동반 하락하며 또다시 최장...</td>\n",
              "      <td>중앙일보</td>\n",
              "      <td>경기 상황을 보여주는 동행·선행지수 순환변동치가 8개월째 동반 하락하며 또다시 최장...</td>\n",
              "    </tr>\n",
              "    <tr>\n",
              "      <th>435</th>\n",
              "      <td>2019-03-01 00:04:00</td>\n",
              "      <td>MS 홀로그램 무대, 아바타로 나타난 한국청년</td>\n",
              "      <td>https://news.naver.com/main/read.nhn?mode=LS2D...</td>\n",
              "      <td>올해 스페인 바르셀로나 MWC의 최대 히트작 중 하나는 마이크로소프트(MS)의 증강...</td>\n",
              "      <td>중앙일보</td>\n",
              "      <td>MS가 스페인 바르셀로나 MWC에서 증강현실(AR) 기기 ‘홀로렌즈2’를 발표한 지...</td>\n",
              "    </tr>\n",
              "    <tr>\n",
              "      <th>436</th>\n",
              "      <td>2019-03-01 00:00:00</td>\n",
              "      <td>美실업수당, 22만5천건…8천건 증가</td>\n",
              "      <td>https://news.naver.com/main/read.nhn?mode=LS2D...</td>\n",
              "      <td>(뉴욕=연합뉴스) 이귀원 특파원 = 미국 노동부는 지난주 신규 실업수당 청구 건수가...</td>\n",
              "      <td>연합뉴스</td>\n",
              "      <td>(뉴욕=연합뉴스) 이귀원 특파원 = 미국 노동부는 지난주 신규 실업수당 청구 건수가...</td>\n",
              "    </tr>\n",
              "    <tr>\n",
              "      <th>437</th>\n",
              "      <td>2019-03-01 00:00:00</td>\n",
              "      <td>대한항공, 외부행사 없이 맞는 창립 50주년</td>\n",
              "      <td>https://news.naver.com/main/read.nhn?mode=LS2D...</td>\n",
              "      <td>(서울=연합뉴스) 독자팀 = 1일은 국적항공사 대한항공이 창립 50주년을 맞은 날이...</td>\n",
              "      <td>연합뉴스</td>\n",
              "      <td>대한항공 창립 50주년 기념 홍보 항공기[대한항공 제공] 대한항공 창립 50주년 기...</td>\n",
              "    </tr>\n",
              "  </tbody>\n",
              "</table>\n",
              "<p>438 rows × 6 columns</p>\n",
              "</div>"
            ],
            "text/plain": [
              "                   Date  ...                                               Text\n",
              "0   2019-03-01 23:53:00  ...  2월 수출 11.1%↓…석달 연속 감소(CG)[연합뉴스TV 제공] 2월 수출 11....\n",
              "1   2019-03-01 23:44:00  ...  【스크랜턴(미 펜실베이니아주)=AP/뉴시스】 미국의 지난해 12월 소비자 지출이 0...\n",
              "2   2019-03-01 23:31:00  ...  동영상 뉴스\\n\\n[앵커]2차 북미 정상회담이 합의 없이 끝나면서 남북 경제협력 사...\n",
              "3   2019-03-01 23:28:00  ...  동영상 뉴스\\n\\n[앵커]과거 남북 관계가 좋을 때 경협사업 외에도 수산물과 광물 ...\n",
              "4   2019-03-01 23:12:00  ...  동영상 뉴스\\n\\n주요 대기업이 이번 달부터 올해 상반기 신입사원 공채에 본격적으로...\n",
              "5   2019-03-01 23:11:00  ...  동영상 뉴스\\n\\n오는 8일부터 매일 아침 동탄역에서 수서역까지 운행하는 고속철도,...\n",
              "6   2019-03-01 23:08:00  ...  동영상 뉴스\\n\\n분양권의 불법 전매를 하거나 알선하다 걸리면 수익의 3배까지 벌금...\n",
              "7   2019-03-01 23:06:00  ...  동영상 뉴스\\n\\n[앵커]지난달 수출이 큰 폭으로 줄어든 것으로 나타났습니다.정부는...\n",
              "8   2019-03-01 23:05:00  ...  【서울=뉴시스】권성근 기자 = 브렉시트(영국 유럽연합(EU) 탈퇴)에 따른 불확실성...\n",
              "9   2019-03-01 22:37:00  ...  영국 하원의 모습 [EPA=연합뉴스] 영국 하원의 모습 [EPA=연합뉴스]\\n\\n(...\n",
              "10  2019-03-01 21:45:00  ...  \\n\\n\\n\\n큰맘할매순대국의 시그니처 메뉴인 ‘순대국’은 진한 사골육수에 머리고기...\n",
              "11  2019-03-01 21:43:00  ...  동영상 뉴스\\n\\n[앵커]지난해까지만 해도 사상 최고 실적을 기록했던 수출이, 최근...\n",
              "12  2019-03-01 21:41:00  ...  동영상 뉴스\\n\\n[앵커]3·1절을 기념한 '애국 마케팅'도 눈에 띄었습니다. 수익...\n",
              "13  2019-03-01 21:37:00  ...  동영상 뉴스\\n\\n[앵커]지난달 서울에서 집을 사고 판 건수가 같은 달 기준으로 해...\n",
              "14  2019-03-01 21:17:00  ...  동영상 뉴스\\n\\n다음 주 개학을 앞두고 사립유치원들이 대거 문을 열지 않겠다고 엄...\n",
              "15  2019-03-01 21:11:00  ...  동영상 뉴스\\n\\n[앵커]미국 하와이에서 인천으로 향하던 여객기가 난동을 부린 한국...\n",
              "16  2019-03-01 20:56:00  ...  반도체 가격 하락세와 세계 경기 둔화의 영향으로 수출이 3개월 연속 감소한 것으로 ...\n",
              "17  2019-03-01 20:45:00  ...  / 바르다김선생 제공 @머니S MNB, 식품 외식 유통 · 프랜차이즈 가맹 & 유망...\n",
              "18  2019-03-01 20:37:00  ...  동영상 뉴스\\n\\n[뉴스데스크]◀ 앵커 ▶3·1운동 100주년을 맞아 다양한 기념행...\n",
              "19  2019-03-01 20:17:00  ...  [서울신문]경기도 동탄신도시 주민들의 서울 출근길 불편이 개선된다.국토교통부와 SR...\n",
              "20  2019-03-01 20:12:00  ...  최저임금 결정구조 개편안을 발표하는 이재갑 고용노동부 장관. /문호남 기자 muno...\n",
              "21  2019-03-01 20:10:00  ...  기사 섹션 분류 안내\\n\\n기사의 섹션 정보는 해당 언론사의 분류를 따르고 있습니다...\n",
              "22  2019-03-01 19:23:00  ...  북미 정상회담 결렬이 국내 금융시장에 끼친 영향은 제한적이라고 정부가 평가했습니다....\n",
              "23  2019-03-01 19:23:00  ...  글로벌 경기 둔화와 반도체 가격 하락세 등으로 수출이 석 달 연속 마이너스를 기록했...\n",
              "24  2019-03-01 19:23:00  ...  집값 하락세가 이어지면서 지난달 서울 아파트 전세 거래는 늘고, 매매 거래는 역대 ...\n",
              "25  2019-03-01 19:08:00  ...  글로벌 경기 둔화와 반도체 가격 하락, 설 연휴 등의 요인으로 수출이 3개월 연속 ...\n",
              "26  2019-03-01 19:02:00  ...  동영상 뉴스\\n\\n[CEO풍향계] 3세경영 본격화 정의선…'분노의 힘' BTS 아버...\n",
              "27  2019-03-01 18:49:00  ...  3.1절에 이어 토요일인 내일도 수도권과 충청권에서 고농도 미세먼지 비상저감조치가 ...\n",
              "28  2019-03-01 18:48:00  ...  동영상 뉴스\\n\\n동탄→수서 SRT 출근열차 8일부터 매일 운행오는 8일부터 매일 ...\n",
              "29  2019-03-01 18:46:00  ...  롯데멤버스가 최근 서울특별시 중구에 위치한 롯데멤버스 본사에서 ‘제5회 L.POIN...\n",
              "..                  ...  ...                                                ...\n",
              "408 2019-03-01 02:54:00  ...  BMW와 벤츠 로고 [AFP=연합뉴스] BMW와 벤츠 로고 [AFP=연합뉴스]\\n\\...\n",
              "409 2019-03-01 02:53:00  ...  아마존이 입주하려던 시애틀 초고층 빌딩[레이니어 스퀘어 빌딩 홈페이지] 아마존이 입...\n",
              "410 2019-03-01 02:46:00  ...  삼겹살데이맞아 3월1일부터 3일까지 전국적으로 80여곳에서 초대형 시식,할인 행사가...\n",
              "411 2019-03-01 02:31:00  ...  【로스앤젤레스=뉴시스】 래리 커들로 백악관 국가경제위원회(NEC) 위원장이 28일(...\n",
              "412 2019-03-01 01:47:00  ...  【워싱턴=AP/뉴시스】 스티븐 므누신 미 재무장관이 28일(현지시간) CNBC의 스...\n",
              "413 2019-03-01 01:45:00  ...  리우데자네이루 시에 있는 페트로브라스 본사 [브라질 뉴스포털 UOL] 리우데자네이루...\n",
              "414 2019-03-01 01:45:00  ...  시추선이 보이는 키프로스의 해변 [AP=연합뉴스 자료사진] 시추선이 보이는 키프로스...\n",
              "415 2019-03-01 01:09:00  ...  【워싱턴=AP/뉴시스】 미국의 지난주 실업수당 청구가 22만5000건으로 전주에 비...\n",
              "416 2019-03-01 01:00:00  ...  조지 유스티스 영국 농업 담당 부장관 [AFP=연합뉴스] 조지 유스티스 영국 농업 ...\n",
              "417 2019-03-01 00:40:00  ...  3월부터 체코 프라하 공항으로 입국하는 한국인 승객은 전자여권을 이용해 자동입국 심...\n",
              "418 2019-03-01 00:33:00  ...  호베르투 캄푸스 네투 신임 브라질 중앙은행 총재 [국영 뉴스통신 아젠시아 브라질] ...\n",
              "419 2019-03-01 00:31:00  ...  분양가상한제가 적용되는 주택의 가격 산정에 활용되는 기본형 건축비 상한액이 1일부터...\n",
              "420 2019-03-01 00:31:00  ...  한국은행은 일단 기준금리를 동결했다. 인상, 인하 어느 쪽으로도 방향을 잡기 어려운...\n",
              "421 2019-03-01 00:31:00  ...  연초 도내 건설수주액 규모가 1년 새 4조5,000억원가량 줄어든 것으로 나타났다....\n",
              "422 2019-03-01 00:31:00  ...  “선진기업 순회 방문…판로개척 적극 앞장” ◇강원일보 KCA 총원우회 임원 상견례 ...\n",
              "423 2019-03-01 00:31:00  ...  코스피지수 39.35P 하락 2,195.44…전년 10월23일 이후 최대\\n\\n원·...\n",
              "424 2019-03-01 00:31:00  ...  국순당 2019 대한민국 주류대상 4개 제품 대상 쾌거 ◇2019 대한민국 주류대상...\n",
              "425 2019-03-01 00:19:00  ...  지난해 브라질의 GDP 성장률이 시장의 기대치를 밑도는 1.1%로 집계됐다. [브라...\n",
              "426 2019-03-01 00:12:00  ...  김현종 전 산업통상자원부 통상교섭본부장이 지난 2월13일 산업통상자원부에서 미국 출...\n",
              "427 2019-03-01 00:04:00  ...  기사 섹션 분류 안내\\n\\n기사의 섹션 정보는 해당 언론사의 분류를 따르고 있습니다...\n",
              "428 2019-03-01 00:04:00  ...  기사 섹션 분류 안내\\n\\n기사의 섹션 정보는 해당 언론사의 분류를 따르고 있습니다...\n",
              "429 2019-03-01 00:04:00  ...  박진규 박진규\\n\\n종합가구기업 에넥스가 박진규(사진) 부회장을 신임 회장으로 선임...\n",
              "430 2019-03-01 00:04:00  ...  김기문 김기문\\n\\n중소기업중앙회(이하 중기중앙회)는 28일 서울 여의도에서 열린 ...\n",
              "431 2019-03-01 00:04:00  ...  함영주(左), 지성규(右) 함영주(左), 지성규(右)\\n\\n함영주(63) KEB하나...\n",
              "432 2019-03-01 00:04:00  ...  국민연금 기금운용 수익률이 지난해 -0.92%로 집계됐다.국민연금이 마이너스 실적을...\n",
              "433 2019-03-01 00:04:00  ...  ‘하노이 쇼크’로 코스피 지수가 40포인트 가까이 하락하며 2200선이 무너졌다.2...\n",
              "434 2019-03-01 00:04:00  ...  경기 상황을 보여주는 동행·선행지수 순환변동치가 8개월째 동반 하락하며 또다시 최장...\n",
              "435 2019-03-01 00:04:00  ...  MS가 스페인 바르셀로나 MWC에서 증강현실(AR) 기기 ‘홀로렌즈2’를 발표한 지...\n",
              "436 2019-03-01 00:00:00  ...  (뉴욕=연합뉴스) 이귀원 특파원 = 미국 노동부는 지난주 신규 실업수당 청구 건수가...\n",
              "437 2019-03-01 00:00:00  ...  대한항공 창립 50주년 기념 홍보 항공기[대한항공 제공] 대한항공 창립 50주년 기...\n",
              "\n",
              "[438 rows x 6 columns]"
            ]
          },
          "metadata": {
            "tags": []
          },
          "execution_count": 128
        }
      ]
    },
    {
      "cell_type": "markdown",
      "metadata": {
        "id": "D8jk8NB718Ky",
        "colab_type": "text"
      },
      "source": [
        "#### 2019 FinanceData.KR"
      ]
    }
  ]
}