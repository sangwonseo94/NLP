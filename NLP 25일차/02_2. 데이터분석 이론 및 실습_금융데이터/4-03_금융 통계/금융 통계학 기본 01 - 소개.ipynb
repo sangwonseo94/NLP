{
 "cells": [
  {
   "cell_type": "markdown",
   "metadata": {
    "slideshow": {
     "slide_type": "slide"
    }
   },
   "source": [
    "# 금융 통계학 기본 01 - 소개\n",
    "\n",
    "<img width=\"320\" src=\"http://goo.gl/Hphovm\">\n",
    "\n",
    "#### 2017 FinanceData http://fb.com/financedata"
   ]
  },
  {
   "cell_type": "markdown",
   "metadata": {
    "slideshow": {
     "slide_type": "slide"
    }
   },
   "source": [
    "# 질문\n",
    "* 왜 통계가 필요한가?\n",
    "* 확률과 통계는 왜 같이 따라다니나?\n",
    "* 데이터 과학과 통계학의 차이?\n",
    "* 금융 통계학과 일반적인 통계학은 어떻게 다른가?\n",
    "* 통계학을 알면 수익을 낼 가능성이 높아지는가?\n",
    "* 빅데이터, 데이터 사이언스, 통계학의 관계?"
   ]
  },
  {
   "cell_type": "markdown",
   "metadata": {
    "slideshow": {
     "slide_type": "slide"
    }
   },
   "source": [
    "# What is Data Science ?\n",
    "\n",
    "<img width=\"80%\" src=\"http://i.imgur.com/zn8XGu2.png\">\n"
   ]
  },
  {
   "cell_type": "markdown",
   "metadata": {
    "slideshow": {
     "slide_type": "slide"
    }
   },
   "source": [
    "# “Statistics is the <u>science</u> of learning from <u>data</u>...”\n",
    "-- 미국 통계학회(American Statistical Association) 통계학 정의"
   ]
  },
  {
   "cell_type": "markdown",
   "metadata": {
    "slideshow": {
     "slide_type": "slide"
    }
   },
   "source": [
    "# 통계학\n",
    "* 관심 현상을 수치화하여 측정하고 분석\n",
    "* 데이터 수집 → 자료 정리 (data reduction) → 정보제공/의사결정\n",
    "* 데이터에 기반한 결과를 산출"
   ]
  },
  {
   "cell_type": "markdown",
   "metadata": {
    "slideshow": {
     "slide_type": "slide"
    }
   },
   "source": [
    "# 통계학 구성\n",
    "통계학은 크게 기술 통계 (descriptive statistics)  와 추론 통계 (inferential statistics) 로 구성\n",
    "* 기술 통계: 1) 중심경향, 2) 산포경향, 3) 데이터 모양을 측정, 통계량 (statistic) 산출\n",
    "* 추론 통계: 추정 estimation 과 가설검정 testing hypothesis\n",
    "\n",
    "다양한 통계학의 분야들 (수리통계, 데이터 마이닝, 다변량자료 분석, 범주형 자료 분석, 비모수통계학, 생존자료분석, 수리통계학, 시계열자료 분석, 실험계획법...)"
   ]
  },
  {
   "cell_type": "markdown",
   "metadata": {
    "slideshow": {
     "slide_type": "slide"
    }
   },
   "source": [
    "# 통계학 훓어보기\n",
    "* 조사 대상 전체를 <u>모집단</u> (population), <br>모집단의 특성을 <u>모수</u>(parameter) 라고 하며,\n",
    "* 모집단에서 요소를 무작위로 random 골라낸다 sampling. <br>골라낸 것을 <u>표본</u>  sample 이라 한다\n",
    "* 랜덤하게 추출하기 때문에 <br><u>확률</u> probability 이 함께 쓰인다.\n",
    "* 표본의 특성 값들을 <u>통계량</u> (statistic) <br>(통계학 statistics 이란 용어 기원)\n",
    "\n",
    "결국, 통계학이란 대상의 특성을 추정하는 과정<br>\n",
    "대상 \"전체\" population 를 한번에 조사할 수 없을 때 <br>조사 대상의 \"부분\" sample 을 조사하고, <br>그 결과를 가지고 조사 대상 전체를 추청 (추측하여 정함)"
   ]
  },
  {
   "cell_type": "markdown",
   "metadata": {
    "slideshow": {
     "slide_type": "slide"
    }
   },
   "source": [
    "# 모집단/모수 와 표본/통계량 관계\n",
    "\n",
    "<img width=\"80%\" src=\"http://i.imgur.com/uaX0MOl.png\" >\n",
    "\n",
    " \n",
    " "
   ]
  },
  {
   "cell_type": "markdown",
   "metadata": {
    "slideshow": {
     "slide_type": "slide"
    }
   },
   "source": [
    "# 데이터 사이언스\n",
    "데이터로부터 의미 있는 정보를 추출해내는 과정"
   ]
  },
  {
   "cell_type": "markdown",
   "metadata": {
    "slideshow": {
     "slide_type": "slide"
    }
   },
   "source": [
    "# 데이터 사이언스의 과정\n",
    "1. 수집 (Collect Data) : Question, Collect data\n",
    "1. 처리 (Prepare Data) : Organize, Cleanse\n",
    "1. 분석 (Analysis Data) : Pattern, Filter, Relationship, Summarize\n",
    "1. 적용 (Apply Data) : Visualize, Report, Share, Make decisions"
   ]
  },
  {
   "cell_type": "markdown",
   "metadata": {
    "slideshow": {
     "slide_type": "slide"
    }
   },
   "source": [
    "# 빅데이터\n",
    "* 기존 데이터 관리도구로 수집, 저장, 관리, 분석할 수 없는 <br/> (역량을 넘어서는) 대량의 정형 또는 비정형 데이터 집합\n",
    "* 3V (Volume, Variety, Velocity) + Value(가치)\n",
    "\n",
    "\n",
    "\"데이터가 수단에서 그 자체가 탐구의 대상으로 진화\""
   ]
  },
  {
   "cell_type": "markdown",
   "metadata": {
    "slideshow": {
     "slide_type": "slide"
    }
   },
   "source": [
    "# 빅데이터의 약속\n",
    "1. 개인화, 맞춤형 제안\n",
    "2. 비정형적인 데이터에서 상관관계"
   ]
  },
  {
   "cell_type": "markdown",
   "metadata": {
    "slideshow": {
     "slide_type": "slide"
    }
   },
   "source": [
    "# No Silver Bullet\n",
    "\n",
    "* 빅데이터, 우리에게 꼭 필요한 것인가?\n",
    "* 2015년 11월, Google TensorFlow를 오픈소스로 공개<br> 에릭 클랩튼이 자기 기타를 아무나 연주하게 허락한 것과 같다고 보면 됨.\n",
    "\n",
    "<br>하지만, <br><u>그 기타로 연주한다고 <br>모두가 에릭 클랩튼 되는거 아니라는거</u>"
   ]
  },
  {
   "cell_type": "markdown",
   "metadata": {
    "slideshow": {
     "slide_type": "slide"
    }
   },
   "source": [
    "# 스몰데이터에서 시작하자\n",
    "* 이미 가지고 있는 것(정형 데이터), 얼마나 잘 쓰고 있나?\n",
    "* 모든 데이터는 테이블이다\n",
    "* 빅데이터를 작게 만들 수 있다\n",
    "* 도구의 문제나 데이터 크기의 문제 보다 <u>컨텍스트의 문제</u>"
   ]
  },
  {
   "cell_type": "markdown",
   "metadata": {
    "slideshow": {
     "slide_type": "slide"
    }
   },
   "source": [
    "# 평균의 함정 \n",
    "\n",
    "* \"평균에 빠져 죽는다\" <br> 1920년대 중국 내전, 한 장군이 강을 만나다. <br> 강의 평균 수심은 1m 40cm, 병사들의 평균 신장 1m 65cm \n",
    "<br>강을 건너 진격할 것을 명령하였다.\n",
    "\n",
    "* 환자 평균 생존 기간 3년이다. <br>그러나 2.5~3.5년 경우와 1~5년의 경우는 다르다.\n",
    "* 여행지의 평균기온이 20도이다. <br> 15~25도 경우와 0~40도인 경우 준비가 완전히 달라진다."
   ]
  },
  {
   "cell_type": "markdown",
   "metadata": {
    "slideshow": {
     "slide_type": "slide"
    }
   },
   "source": [
    "# 심슨의 패러독스\n",
    "\n",
    "* 부분의 결과가 전체의 결과와 항상 일치하지 않는다! <br>(각 부분에 대해 성립한 성질이 전체에 대해서는 성립하지 않는 모순적인 경우)\n",
    "\n",
    "http://youtu.be/7qekbQ8Ra1E [EBS 지식프라임] 심슨의 패러독스: 평균에 대한 착각"
   ]
  },
  {
   "cell_type": "markdown",
   "metadata": {
    "slideshow": {
     "slide_type": "slide"
    }
   },
   "source": [
    "# 심슨의 패러독스: 야구선수의 타율\n",
    "\n",
    "   | 전반 출전 | 전반 타율 | 후반 출전 | 후반 타율 | 전체 타율\n",
    "-- | --: | --: | --: | --: | --: | --: \n",
    "타자A | 10  | 0.40  | 100 | 0.25 | 0.264\n",
    "타자B | 100 | 0.35 | 10  | 0.20  | 0.336\n",
    "\n",
    "* 전반기와 후반기 모두 타자 A의 타율이 높다 (0.4>0.35, 0.25>0.2)\n",
    "* 전체적인 타율은 타자 B가 더 높다(0.264<0.336).\n",
    "* https://goo.gl/RLtFjR 슛 성공률\n",
    "\n",
    "출처: 수학 콘서트"
   ]
  },
  {
   "cell_type": "markdown",
   "metadata": {
    "slideshow": {
     "slide_type": "slide"
    }
   },
   "source": [
    "# 상관관계 vs. 인과관계\n",
    "* 통계학적으로 가장 위험한 장소와 가장 위험함 사람은?\n",
    "* 애리조나 주는 다른 주보다 폐결핵으로 죽는 사람이 많다: 잘못된 추론\n",
    "* 인구 10만명당, 경찰 수가 많을수록 범죄 건수가 많다: 역방향 인과 관계\n",
    "* 맥주 소비량과 영아 사망률의 음의 상관관계가 나타난다: 제 3의 상관관계\n",
    "\n",
    "데이터 분석에서 밝혀주는 것은 상관관계(Correlation) 뿐,<br>\n",
    "인과관계 Causation 는 설명해주지 않는다."
   ]
  },
  {
   "cell_type": "markdown",
   "metadata": {
    "slideshow": {
     "slide_type": "slide"
    }
   },
   "source": [
    "# 예측하지 말고 측정하라 (DDDM)\n",
    "* \"모든 의사결정은 <u>데이터에 기반</u>한다\" –구글의 규범\n",
    "* <u>뱅뱅이론</u>: 세상이 사실은 그렇게 돌아가지 않고 있다\n",
    "* “우리의 가정은 틀렸다. 그래서 데이터를 봐야 한다” –하용호 (데이터 사이언티스트)\n",
    "* “<u>상상하지 말라. 무얼 상상하건 실제와 다르다</u>” –송길영 (다음소프트 부사장)"
   ]
  },
  {
   "cell_type": "markdown",
   "metadata": {
    "slideshow": {
     "slide_type": "slide"
    }
   },
   "source": [
    "# 요약 \n",
    "\"예측\"하지 말고 \"측정\"하라\n",
    "* 절대적인 확신을 갖지 말고,\n",
    "* 가능성 위주로 탐구하는,\n",
    "* <u>\"확률적 사고\" </u>가 중요!"
   ]
  },
  {
   "cell_type": "markdown",
   "metadata": {
    "slideshow": {
     "slide_type": "notes"
    }
   },
   "source": [
    "----\n",
    "#### 2017,2018 FinanceData http://fb.com/financedata http://financedata.github.com\n"
   ]
  }
 ],
 "metadata": {
  "celltoolbar": "Slideshow",
  "kernelspec": {
   "display_name": "Python 3",
   "language": "python",
   "name": "python3"
  },
  "language_info": {
   "codemirror_mode": {
    "name": "ipython",
    "version": 3
   },
   "file_extension": ".py",
   "mimetype": "text/x-python",
   "name": "python",
   "nbconvert_exporter": "python",
   "pygments_lexer": "ipython3",
   "version": "3.5.2"
  }
 },
 "nbformat": 4,
 "nbformat_minor": 1
}