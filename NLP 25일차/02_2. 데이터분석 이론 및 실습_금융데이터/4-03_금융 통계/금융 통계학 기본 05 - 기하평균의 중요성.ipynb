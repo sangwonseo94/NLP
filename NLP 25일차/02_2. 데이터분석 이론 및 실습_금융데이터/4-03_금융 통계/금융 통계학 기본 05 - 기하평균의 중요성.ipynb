{
  "nbformat": 4,
  "nbformat_minor": 0,
  "metadata": {
    "colab": {
      "name": "금융 통계학 기본 - 기하평균의 중요성.ipynb",
      "version": "0.3.2",
      "provenance": [],
      "collapsed_sections": []
    },
    "language_info": {
      "codemirror_mode": {
        "name": "ipython",
        "version": 3
      },
      "file_extension": ".py",
      "mimetype": "text/x-python",
      "name": "python",
      "nbconvert_exporter": "python",
      "pygments_lexer": "ipython3",
      "version": "3.5.2"
    },
    "kernelspec": {
      "display_name": "Python 3",
      "language": "python",
      "name": "python3"
    }
  },
  "cells": [
    {
      "cell_type": "markdown",
      "metadata": {
        "slideshow": {
          "slide_type": "slide"
        },
        "id": "P1iszCN5A1EX",
        "colab_type": "text"
      },
      "source": [
        "#  기하평균의 중요성\n",
        "### 장기투자의 최종 수익률을 결정하는 것은 기하평균\n",
        "\n",
        "<img src=\"http://i.imgur.com/nNJOhqx.png\" >\n",
        "\n",
        "\n",
        "#### 2017-2019 [FinanceData.KR]()"
      ]
    },
    {
      "cell_type": "markdown",
      "metadata": {
        "id": "M7nqWWVhA_dx",
        "colab_type": "text"
      },
      "source": [
        "# 1000만원을 3년간 투자\n",
        "어떤 사람이 1000만원을 3년간 투자. 격월로 +40% 수익과 -30% 손실이 반복된다면 3년 뒤 투자 결과는?"
      ]
    },
    {
      "cell_type": "code",
      "metadata": {
        "slideshow": {
          "slide_type": "slide"
        },
        "id": "a8wPfi77A1EZ",
        "colab_type": "code",
        "colab": {}
      },
      "source": [
        "%matplotlib inline\n",
        "import matplotlib.pyplot as plt\n",
        "from IPython.display import display\n",
        "\n",
        "import numpy as np\n",
        "import pandas as pd\n",
        "from scipy import stats"
      ],
      "execution_count": 0,
      "outputs": []
    },
    {
      "cell_type": "markdown",
      "metadata": {
        "slideshow": {
          "slide_type": "slide"
        },
        "id": "dDU7lePfA1Ed",
        "colab_type": "text"
      },
      "source": [
        "# 기하평균 geometric mean\n",
        "n개의 양수 값을 <br>모두 곱한 것의 n제곱근\n",
        "\n",
        "$$ \\left(\\prod_{i=1}^n a_i \\right)^{1/n} = (a_1 \\cdot a_2 \\dotsb a_n)^{1/n} = \\sqrt[n]{a_1 \\cdot a_2 \\dotsb a_n} $$\n",
        "\n",
        "```python\n",
        "def geo_mean(iterable):\n",
        "    a = np.array(iterable)\n",
        "    return a.prod()**(1.0/len(a))\n",
        "```"
      ]
    },
    {
      "cell_type": "markdown",
      "metadata": {
        "slideshow": {
          "slide_type": "slide"
        },
        "id": "1fkdKpVzA1Ee",
        "colab_type": "text"
      },
      "source": [
        "# 산술평균 vs 기하평균\n",
        "10과 20의 산술평균은 15지만 기하평균은 두 숫자를 곱한 값인 200의 제곱근인 14.1 이다"
      ]
    },
    {
      "cell_type": "code",
      "metadata": {
        "slideshow": {
          "slide_type": "-"
        },
        "id": "wj2ZgkR1A1Ef",
        "colab_type": "code",
        "colab": {},
        "outputId": "4590945a-a99d-4400-ca06-67f570c954b0"
      },
      "source": [
        "vals = np.array([10, 20])\n",
        "print('산술평균: ', np.mean(vals) )\n",
        "print('기하평균: ', stats.gmean(vals) )"
      ],
      "execution_count": 0,
      "outputs": [
        {
          "output_type": "stream",
          "text": [
            "산술평균:  15.0\n",
            "기하평균:  14.1421356237\n"
          ],
          "name": "stdout"
        }
      ]
    },
    {
      "cell_type": "markdown",
      "metadata": {
        "slideshow": {
          "slide_type": "slide"
        },
        "id": "xQEGKnS_A1Ek",
        "colab_type": "text"
      },
      "source": [
        "# 마이너스 수익률과 기하평균\n",
        "\n",
        "기하평균 수익률을 계산할 때 음수 값은 기하평균으로 계산할 수 없다. (음수의 제곱근은 허수가 되기 때문) <br/>\n",
        "예를 들어, +40%, -30% 수익률의 산술평균과 기하평균을 계산하고자 한다면, 모든 수익률에 +1을 하고, 기하 평균을 구한뒤 다시 1을 빼준다."
      ]
    },
    {
      "cell_type": "code",
      "metadata": {
        "slideshow": {
          "slide_type": "-"
        },
        "id": "ETQcdya4A1El",
        "colab_type": "code",
        "colab": {},
        "outputId": "f1151d19-f07f-4c6f-e63a-b2ff5ab65a2a"
      },
      "source": [
        "returns = np.array([0.4, -0.3])\n",
        "\n",
        "print('월수익률 기하평균: ', stats.gmean(returns))"
      ],
      "execution_count": 0,
      "outputs": [
        {
          "output_type": "stream",
          "text": [
            "월수익률 기하평균:  nan\n"
          ],
          "name": "stdout"
        },
        {
          "output_type": "stream",
          "text": [
            "/usr/local/lib/python3.5/dist-packages/scipy/stats/stats.py:314: RuntimeWarning: invalid value encountered in log\n",
            "  log_a = np.log(a)\n"
          ],
          "name": "stderr"
        }
      ]
    },
    {
      "cell_type": "code",
      "metadata": {
        "slideshow": {
          "slide_type": "-"
        },
        "id": "3QvH_YZ7A1Eo",
        "colab_type": "code",
        "colab": {},
        "outputId": "14e02aae-54b6-4f8f-a06a-90c1a81cb383"
      },
      "source": [
        "returns = np.array([0.4, -0.3]) \n",
        "print(returns)\n",
        "print('월수익률 기하평균: ', stats.gmean(returns + 1) - 1) # -1.0%"
      ],
      "execution_count": 0,
      "outputs": [
        {
          "output_type": "stream",
          "text": [
            "[ 0.4 -0.3]\n",
            "월수익률 기하평균:  -0.0100505063388\n"
          ],
          "name": "stdout"
        }
      ]
    },
    {
      "cell_type": "markdown",
      "metadata": {
        "slideshow": {
          "slide_type": "slide"
        },
        "id": "wwfCzxUYA1Es",
        "colab_type": "text"
      },
      "source": [
        "# 1000만원을 3년간 투자\n",
        "어떤 사람이 1000만원을 3년간 투자한 월별 수익률의 산술평균이 5%라고 하자. 이것이 월 40% 수익과 30% 손실이 반복된 결과라면 3년 뒤 계좌에 남아 있는 돈은 480만원밖에 안 된다. 손실이 났고 기하평균을 하면 수익률은 월평균 -1%다.\n",
        "\n",
        "* 매월 수익률 +40%, -30% 을 반복\n",
        "* 월별 수익률의 산술평균: 5%\n",
        "* 월별 수익률의 기하평균: -1%"
      ]
    },
    {
      "cell_type": "code",
      "metadata": {
        "slideshow": {
          "slide_type": "slide"
        },
        "id": "XjbDXjncA1Et",
        "colab_type": "code",
        "colab": {},
        "outputId": "eea5fba1-5773-4e59-a077-f86bf78b4bcb"
      },
      "source": [
        "returns = np.array([0.4, -0.3])\n",
        "print(returns)\n",
        "\n",
        "print('월수익률(산술평균): ', np.mean(returns) )\n",
        "print('월수익률(기하평균): ', stats.gmean(returns + 1) - 1)"
      ],
      "execution_count": 0,
      "outputs": [
        {
          "output_type": "stream",
          "text": [
            "[ 0.4 -0.3]\n",
            "월수익률(산술평균):  0.05\n",
            "월수익률(기하평균):  -0.0100505063388\n"
          ],
          "name": "stdout"
        }
      ]
    },
    {
      "cell_type": "code",
      "metadata": {
        "slideshow": {
          "slide_type": "slide"
        },
        "id": "Z5FYifU3A1Ew",
        "colab_type": "code",
        "colab": {},
        "outputId": "b25519e9-e239-44c8-edd3-5455f8d63645"
      },
      "source": [
        "# 매월 40%, -30% 반복 (총 36개월)\n",
        "# (원문의 내용은 계산상 매월 40%, -30% 반복되어야 계산이 맞다)\n",
        "\n",
        "data = {\n",
        "    'returns' : [0] + [ 0.4, -0.3 ] * 36,\n",
        "    'balance': 0\n",
        "}\n",
        "\n",
        "df = pd.DataFrame(data)\n",
        "df.head(10)"
      ],
      "execution_count": 0,
      "outputs": [
        {
          "output_type": "execute_result",
          "data": {
            "text/html": [
              "<div>\n",
              "<style>\n",
              "    .dataframe thead tr:only-child th {\n",
              "        text-align: right;\n",
              "    }\n",
              "\n",
              "    .dataframe thead th {\n",
              "        text-align: left;\n",
              "    }\n",
              "\n",
              "    .dataframe tbody tr th {\n",
              "        vertical-align: top;\n",
              "    }\n",
              "</style>\n",
              "<table border=\"1\" class=\"dataframe\">\n",
              "  <thead>\n",
              "    <tr style=\"text-align: right;\">\n",
              "      <th></th>\n",
              "      <th>balance</th>\n",
              "      <th>returns</th>\n",
              "    </tr>\n",
              "  </thead>\n",
              "  <tbody>\n",
              "    <tr>\n",
              "      <th>0</th>\n",
              "      <td>0</td>\n",
              "      <td>0.0</td>\n",
              "    </tr>\n",
              "    <tr>\n",
              "      <th>1</th>\n",
              "      <td>0</td>\n",
              "      <td>0.4</td>\n",
              "    </tr>\n",
              "    <tr>\n",
              "      <th>2</th>\n",
              "      <td>0</td>\n",
              "      <td>-0.3</td>\n",
              "    </tr>\n",
              "    <tr>\n",
              "      <th>3</th>\n",
              "      <td>0</td>\n",
              "      <td>0.4</td>\n",
              "    </tr>\n",
              "    <tr>\n",
              "      <th>4</th>\n",
              "      <td>0</td>\n",
              "      <td>-0.3</td>\n",
              "    </tr>\n",
              "    <tr>\n",
              "      <th>5</th>\n",
              "      <td>0</td>\n",
              "      <td>0.4</td>\n",
              "    </tr>\n",
              "    <tr>\n",
              "      <th>6</th>\n",
              "      <td>0</td>\n",
              "      <td>-0.3</td>\n",
              "    </tr>\n",
              "    <tr>\n",
              "      <th>7</th>\n",
              "      <td>0</td>\n",
              "      <td>0.4</td>\n",
              "    </tr>\n",
              "    <tr>\n",
              "      <th>8</th>\n",
              "      <td>0</td>\n",
              "      <td>-0.3</td>\n",
              "    </tr>\n",
              "    <tr>\n",
              "      <th>9</th>\n",
              "      <td>0</td>\n",
              "      <td>0.4</td>\n",
              "    </tr>\n",
              "  </tbody>\n",
              "</table>\n",
              "</div>"
            ],
            "text/plain": [
              "   balance  returns\n",
              "0        0      0.0\n",
              "1        0      0.4\n",
              "2        0     -0.3\n",
              "3        0      0.4\n",
              "4        0     -0.3\n",
              "5        0      0.4\n",
              "6        0     -0.3\n",
              "7        0      0.4\n",
              "8        0     -0.3\n",
              "9        0      0.4"
            ]
          },
          "metadata": {
            "tags": []
          },
          "execution_count": 6
        }
      ]
    },
    {
      "cell_type": "code",
      "metadata": {
        "slideshow": {
          "slide_type": "slide"
        },
        "id": "D-HlEZL6A1E0",
        "colab_type": "code",
        "colab": {},
        "outputId": "ca01faa0-cb14-4a1e-8d9a-1eacbff3cb07"
      },
      "source": [
        "# 초기 값: 1000 만원\n",
        "\n",
        "df.loc[0, 'balance'] = 1000\n",
        "df.head()"
      ],
      "execution_count": 0,
      "outputs": [
        {
          "output_type": "execute_result",
          "data": {
            "text/html": [
              "<div>\n",
              "<style>\n",
              "    .dataframe thead tr:only-child th {\n",
              "        text-align: right;\n",
              "    }\n",
              "\n",
              "    .dataframe thead th {\n",
              "        text-align: left;\n",
              "    }\n",
              "\n",
              "    .dataframe tbody tr th {\n",
              "        vertical-align: top;\n",
              "    }\n",
              "</style>\n",
              "<table border=\"1\" class=\"dataframe\">\n",
              "  <thead>\n",
              "    <tr style=\"text-align: right;\">\n",
              "      <th></th>\n",
              "      <th>balance</th>\n",
              "      <th>returns</th>\n",
              "    </tr>\n",
              "  </thead>\n",
              "  <tbody>\n",
              "    <tr>\n",
              "      <th>0</th>\n",
              "      <td>1000</td>\n",
              "      <td>0.0</td>\n",
              "    </tr>\n",
              "    <tr>\n",
              "      <th>1</th>\n",
              "      <td>0</td>\n",
              "      <td>0.4</td>\n",
              "    </tr>\n",
              "    <tr>\n",
              "      <th>2</th>\n",
              "      <td>0</td>\n",
              "      <td>-0.3</td>\n",
              "    </tr>\n",
              "    <tr>\n",
              "      <th>3</th>\n",
              "      <td>0</td>\n",
              "      <td>0.4</td>\n",
              "    </tr>\n",
              "    <tr>\n",
              "      <th>4</th>\n",
              "      <td>0</td>\n",
              "      <td>-0.3</td>\n",
              "    </tr>\n",
              "  </tbody>\n",
              "</table>\n",
              "</div>"
            ],
            "text/plain": [
              "   balance  returns\n",
              "0     1000      0.0\n",
              "1        0      0.4\n",
              "2        0     -0.3\n",
              "3        0      0.4\n",
              "4        0     -0.3"
            ]
          },
          "metadata": {
            "tags": []
          },
          "execution_count": 7
        }
      ]
    },
    {
      "cell_type": "code",
      "metadata": {
        "slideshow": {
          "slide_type": "slide"
        },
        "id": "Wjo-VJ1nA1E4",
        "colab_type": "code",
        "colab": {},
        "outputId": "1415e51c-0761-4503-f6ca-3177056967b2"
      },
      "source": [
        "for i in range(1, len(df)):\n",
        "    bal = df.loc[i-1, 'balance']\n",
        "    df.loc[i, 'balance'] = bal + bal * df.loc[i, 'returns']\n",
        "\n",
        "display(df.head(10))\n",
        "print('...중략...')\n",
        "display(df.tail())"
      ],
      "execution_count": 0,
      "outputs": [
        {
          "output_type": "display_data",
          "data": {
            "text/html": [
              "<div>\n",
              "<style>\n",
              "    .dataframe thead tr:only-child th {\n",
              "        text-align: right;\n",
              "    }\n",
              "\n",
              "    .dataframe thead th {\n",
              "        text-align: left;\n",
              "    }\n",
              "\n",
              "    .dataframe tbody tr th {\n",
              "        vertical-align: top;\n",
              "    }\n",
              "</style>\n",
              "<table border=\"1\" class=\"dataframe\">\n",
              "  <thead>\n",
              "    <tr style=\"text-align: right;\">\n",
              "      <th></th>\n",
              "      <th>balance</th>\n",
              "      <th>returns</th>\n",
              "    </tr>\n",
              "  </thead>\n",
              "  <tbody>\n",
              "    <tr>\n",
              "      <th>0</th>\n",
              "      <td>1000.000000</td>\n",
              "      <td>0.0</td>\n",
              "    </tr>\n",
              "    <tr>\n",
              "      <th>1</th>\n",
              "      <td>1400.000000</td>\n",
              "      <td>0.4</td>\n",
              "    </tr>\n",
              "    <tr>\n",
              "      <th>2</th>\n",
              "      <td>980.000000</td>\n",
              "      <td>-0.3</td>\n",
              "    </tr>\n",
              "    <tr>\n",
              "      <th>3</th>\n",
              "      <td>1372.000000</td>\n",
              "      <td>0.4</td>\n",
              "    </tr>\n",
              "    <tr>\n",
              "      <th>4</th>\n",
              "      <td>960.400000</td>\n",
              "      <td>-0.3</td>\n",
              "    </tr>\n",
              "    <tr>\n",
              "      <th>5</th>\n",
              "      <td>1344.560000</td>\n",
              "      <td>0.4</td>\n",
              "    </tr>\n",
              "    <tr>\n",
              "      <th>6</th>\n",
              "      <td>941.192000</td>\n",
              "      <td>-0.3</td>\n",
              "    </tr>\n",
              "    <tr>\n",
              "      <th>7</th>\n",
              "      <td>1317.668800</td>\n",
              "      <td>0.4</td>\n",
              "    </tr>\n",
              "    <tr>\n",
              "      <th>8</th>\n",
              "      <td>922.368160</td>\n",
              "      <td>-0.3</td>\n",
              "    </tr>\n",
              "    <tr>\n",
              "      <th>9</th>\n",
              "      <td>1291.315424</td>\n",
              "      <td>0.4</td>\n",
              "    </tr>\n",
              "  </tbody>\n",
              "</table>\n",
              "</div>"
            ],
            "text/plain": [
              "       balance  returns\n",
              "0  1000.000000      0.0\n",
              "1  1400.000000      0.4\n",
              "2   980.000000     -0.3\n",
              "3  1372.000000      0.4\n",
              "4   960.400000     -0.3\n",
              "5  1344.560000      0.4\n",
              "6   941.192000     -0.3\n",
              "7  1317.668800      0.4\n",
              "8   922.368160     -0.3\n",
              "9  1291.315424      0.4"
            ]
          },
          "metadata": {
            "tags": []
          }
        },
        {
          "output_type": "stream",
          "text": [
            "...중략...\n"
          ],
          "name": "stdout"
        },
        {
          "output_type": "display_data",
          "data": {
            "text/html": [
              "<div>\n",
              "<style>\n",
              "    .dataframe thead tr:only-child th {\n",
              "        text-align: right;\n",
              "    }\n",
              "\n",
              "    .dataframe thead th {\n",
              "        text-align: left;\n",
              "    }\n",
              "\n",
              "    .dataframe tbody tr th {\n",
              "        vertical-align: top;\n",
              "    }\n",
              "</style>\n",
              "<table border=\"1\" class=\"dataframe\">\n",
              "  <thead>\n",
              "    <tr style=\"text-align: right;\">\n",
              "      <th></th>\n",
              "      <th>balance</th>\n",
              "      <th>returns</th>\n",
              "    </tr>\n",
              "  </thead>\n",
              "  <tbody>\n",
              "    <tr>\n",
              "      <th>68</th>\n",
              "      <td>503.137368</td>\n",
              "      <td>-0.3</td>\n",
              "    </tr>\n",
              "    <tr>\n",
              "      <th>69</th>\n",
              "      <td>704.392315</td>\n",
              "      <td>0.4</td>\n",
              "    </tr>\n",
              "    <tr>\n",
              "      <th>70</th>\n",
              "      <td>493.074621</td>\n",
              "      <td>-0.3</td>\n",
              "    </tr>\n",
              "    <tr>\n",
              "      <th>71</th>\n",
              "      <td>690.304469</td>\n",
              "      <td>0.4</td>\n",
              "    </tr>\n",
              "    <tr>\n",
              "      <th>72</th>\n",
              "      <td>483.213128</td>\n",
              "      <td>-0.3</td>\n",
              "    </tr>\n",
              "  </tbody>\n",
              "</table>\n",
              "</div>"
            ],
            "text/plain": [
              "       balance  returns\n",
              "68  503.137368     -0.3\n",
              "69  704.392315      0.4\n",
              "70  493.074621     -0.3\n",
              "71  690.304469      0.4\n",
              "72  483.213128     -0.3"
            ]
          },
          "metadata": {
            "tags": []
          }
        }
      ]
    },
    {
      "cell_type": "markdown",
      "metadata": {
        "slideshow": {
          "slide_type": "slide"
        },
        "id": "S_84FfIYA1E7",
        "colab_type": "text"
      },
      "source": [
        "# 월별 +20%, -10%\n",
        "반면 **월별**로 20%의 수익과 10%의 손실이 뒤섞였다면 잔액은 4000만원이 된다. 이익이 났고 기하수익은 월평균 3.9%다.\n",
        "\n",
        "* 월별 수익률(격월): +20%, -10%\n",
        "* 월별 수익률의 산술평균: +5%\n",
        "* 월별 수익률의 기하평균: +3.9%\n"
      ]
    },
    {
      "cell_type": "code",
      "metadata": {
        "slideshow": {
          "slide_type": "-"
        },
        "id": "6mqh8OffA1E8",
        "colab_type": "code",
        "colab": {},
        "outputId": "b495ffe9-c221-4765-d5ab-88cdc50419de"
      },
      "source": [
        "data = {\n",
        "    'returns' : [0] + [ 0.2, -0.1 ] * 18,\n",
        "    'balance': 0\n",
        "}\n",
        "\n",
        "df = pd.DataFrame(data)\n",
        "df.loc[0, 'balance'] = 1000\n",
        "\n",
        "for i in range(1, len(df)):\n",
        "    bal = df.loc[i-1, 'balance']\n",
        "    df.loc[i, 'balance'] = bal + bal * df.loc[i, 'returns']\n",
        "\n",
        "display(df.head())\n",
        "display(df.tail())"
      ],
      "execution_count": 0,
      "outputs": [
        {
          "output_type": "display_data",
          "data": {
            "text/html": [
              "<div>\n",
              "<style>\n",
              "    .dataframe thead tr:only-child th {\n",
              "        text-align: right;\n",
              "    }\n",
              "\n",
              "    .dataframe thead th {\n",
              "        text-align: left;\n",
              "    }\n",
              "\n",
              "    .dataframe tbody tr th {\n",
              "        vertical-align: top;\n",
              "    }\n",
              "</style>\n",
              "<table border=\"1\" class=\"dataframe\">\n",
              "  <thead>\n",
              "    <tr style=\"text-align: right;\">\n",
              "      <th></th>\n",
              "      <th>balance</th>\n",
              "      <th>returns</th>\n",
              "    </tr>\n",
              "  </thead>\n",
              "  <tbody>\n",
              "    <tr>\n",
              "      <th>0</th>\n",
              "      <td>1000.0</td>\n",
              "      <td>0.0</td>\n",
              "    </tr>\n",
              "    <tr>\n",
              "      <th>1</th>\n",
              "      <td>1200.0</td>\n",
              "      <td>0.2</td>\n",
              "    </tr>\n",
              "    <tr>\n",
              "      <th>2</th>\n",
              "      <td>1080.0</td>\n",
              "      <td>-0.1</td>\n",
              "    </tr>\n",
              "    <tr>\n",
              "      <th>3</th>\n",
              "      <td>1296.0</td>\n",
              "      <td>0.2</td>\n",
              "    </tr>\n",
              "    <tr>\n",
              "      <th>4</th>\n",
              "      <td>1166.4</td>\n",
              "      <td>-0.1</td>\n",
              "    </tr>\n",
              "  </tbody>\n",
              "</table>\n",
              "</div>"
            ],
            "text/plain": [
              "   balance  returns\n",
              "0   1000.0      0.0\n",
              "1   1200.0      0.2\n",
              "2   1080.0     -0.1\n",
              "3   1296.0      0.2\n",
              "4   1166.4     -0.1"
            ]
          },
          "metadata": {
            "tags": []
          }
        },
        {
          "output_type": "display_data",
          "data": {
            "text/html": [
              "<div>\n",
              "<style>\n",
              "    .dataframe thead tr:only-child th {\n",
              "        text-align: right;\n",
              "    }\n",
              "\n",
              "    .dataframe thead th {\n",
              "        text-align: left;\n",
              "    }\n",
              "\n",
              "    .dataframe tbody tr th {\n",
              "        vertical-align: top;\n",
              "    }\n",
              "</style>\n",
              "<table border=\"1\" class=\"dataframe\">\n",
              "  <thead>\n",
              "    <tr style=\"text-align: right;\">\n",
              "      <th></th>\n",
              "      <th>balance</th>\n",
              "      <th>returns</th>\n",
              "    </tr>\n",
              "  </thead>\n",
              "  <tbody>\n",
              "    <tr>\n",
              "      <th>32</th>\n",
              "      <td>3425.942643</td>\n",
              "      <td>-0.1</td>\n",
              "    </tr>\n",
              "    <tr>\n",
              "      <th>33</th>\n",
              "      <td>4111.131172</td>\n",
              "      <td>0.2</td>\n",
              "    </tr>\n",
              "    <tr>\n",
              "      <th>34</th>\n",
              "      <td>3700.018055</td>\n",
              "      <td>-0.1</td>\n",
              "    </tr>\n",
              "    <tr>\n",
              "      <th>35</th>\n",
              "      <td>4440.021666</td>\n",
              "      <td>0.2</td>\n",
              "    </tr>\n",
              "    <tr>\n",
              "      <th>36</th>\n",
              "      <td>3996.019499</td>\n",
              "      <td>-0.1</td>\n",
              "    </tr>\n",
              "  </tbody>\n",
              "</table>\n",
              "</div>"
            ],
            "text/plain": [
              "        balance  returns\n",
              "32  3425.942643     -0.1\n",
              "33  4111.131172      0.2\n",
              "34  3700.018055     -0.1\n",
              "35  4440.021666      0.2\n",
              "36  3996.019499     -0.1"
            ]
          },
          "metadata": {
            "tags": []
          }
        }
      ]
    },
    {
      "cell_type": "code",
      "metadata": {
        "slideshow": {
          "slide_type": "-"
        },
        "id": "gwxQ-NDWA1FA",
        "colab_type": "code",
        "colab": {},
        "outputId": "b72fe575-f61a-42ce-eaa3-0bb591a01dd3"
      },
      "source": [
        "returns = np.array([0.2, -0.1])\n",
        "\n",
        "print('월수익률(산술평균): ', np.mean(returns) )\n",
        "print('월수익률(기하평균): ', stats.gmean(returns + 1) - 1)"
      ],
      "execution_count": 0,
      "outputs": [
        {
          "output_type": "stream",
          "text": [
            "월수익률(산술평균):  0.05\n",
            "월수익률(기하평균):  0.0392304845413\n"
          ],
          "name": "stdout"
        }
      ]
    },
    {
      "cell_type": "markdown",
      "metadata": {
        "slideshow": {
          "slide_type": "slide"
        },
        "id": "Yz-bHCqBA1FD",
        "colab_type": "text"
      },
      "source": [
        "# 동일한 조건에서 수익률 높이기\n",
        "기하평균의 이런 성질을 잘 활용하면 똑같은 조건에서도 수익을 높일 수 있다. 40% 수익과 30%의 손실이 교차된 사례를 다시 보자. "
      ]
    },
    {
      "cell_type": "code",
      "metadata": {
        "slideshow": {
          "slide_type": "-"
        },
        "id": "BsPrDp2JA1FE",
        "colab_type": "code",
        "colab": {}
      },
      "source": [
        "# 격월 40%, -30% 반복 (총 36개월)\n",
        "\n",
        "data = {\n",
        "    'returns' : [0] + [ 0.4, -0.3 ] * 18,\n",
        "    'balance': 0\n",
        "}\n",
        "\n",
        "# 초기 값: 1000 만원\n",
        "df = pd.DataFrame(data)"
      ],
      "execution_count": 0,
      "outputs": []
    },
    {
      "cell_type": "markdown",
      "metadata": {
        "slideshow": {
          "slide_type": "slide"
        },
        "id": "KPmpvTlRA1FI",
        "colab_type": "text"
      },
      "source": [
        "원금 1000만원을 모두 투자하면 손실이 나지만,"
      ]
    },
    {
      "cell_type": "code",
      "metadata": {
        "slideshow": {
          "slide_type": "-"
        },
        "id": "RksJl5FaA1FJ",
        "colab_type": "code",
        "colab": {},
        "outputId": "34cf2328-c689-4cd9-a232-66332e2d0174"
      },
      "source": [
        "df.loc[0, 'balance'] = 1000\n",
        "\n",
        "for i in range(1, len(df)):\n",
        "    bal = df.loc[i-1, 'balance']\n",
        "    df.loc[i, 'balance'] = bal + bal * df.loc[i, 'returns']\n",
        "\n",
        "display(df.tail())"
      ],
      "execution_count": 0,
      "outputs": [
        {
          "output_type": "display_data",
          "data": {
            "text/html": [
              "<div>\n",
              "<style>\n",
              "    .dataframe thead tr:only-child th {\n",
              "        text-align: right;\n",
              "    }\n",
              "\n",
              "    .dataframe thead th {\n",
              "        text-align: left;\n",
              "    }\n",
              "\n",
              "    .dataframe tbody tr th {\n",
              "        vertical-align: top;\n",
              "    }\n",
              "</style>\n",
              "<table border=\"1\" class=\"dataframe\">\n",
              "  <thead>\n",
              "    <tr style=\"text-align: right;\">\n",
              "      <th></th>\n",
              "      <th>balance</th>\n",
              "      <th>returns</th>\n",
              "    </tr>\n",
              "  </thead>\n",
              "  <tbody>\n",
              "    <tr>\n",
              "      <th>32</th>\n",
              "      <td>723.797721</td>\n",
              "      <td>-0.3</td>\n",
              "    </tr>\n",
              "    <tr>\n",
              "      <th>33</th>\n",
              "      <td>1013.316809</td>\n",
              "      <td>0.4</td>\n",
              "    </tr>\n",
              "    <tr>\n",
              "      <th>34</th>\n",
              "      <td>709.321766</td>\n",
              "      <td>-0.3</td>\n",
              "    </tr>\n",
              "    <tr>\n",
              "      <th>35</th>\n",
              "      <td>993.050473</td>\n",
              "      <td>0.4</td>\n",
              "    </tr>\n",
              "    <tr>\n",
              "      <th>36</th>\n",
              "      <td>695.135331</td>\n",
              "      <td>-0.3</td>\n",
              "    </tr>\n",
              "  </tbody>\n",
              "</table>\n",
              "</div>"
            ],
            "text/plain": [
              "        balance  returns\n",
              "32   723.797721     -0.3\n",
              "33  1013.316809      0.4\n",
              "34   709.321766     -0.3\n",
              "35   993.050473      0.4\n",
              "36   695.135331     -0.3"
            ]
          },
          "metadata": {
            "tags": []
          }
        }
      ]
    },
    {
      "cell_type": "markdown",
      "metadata": {
        "slideshow": {
          "slide_type": "slide"
        },
        "id": "dsnfTXpgA1FO",
        "colab_type": "text"
      },
      "source": [
        "항상 전체의 40%만 투자 상태로 유지하면 이익이 나고 잔액은 3년 뒤 1450만원으로 늘어난다. "
      ]
    },
    {
      "cell_type": "code",
      "metadata": {
        "slideshow": {
          "slide_type": "-"
        },
        "id": "4tqHclt1A1FP",
        "colab_type": "code",
        "colab": {},
        "outputId": "e4090da9-6d5c-4bbd-fa33-b57c2a426e76"
      },
      "source": [
        "df.loc[0, 'balance'] = 1000\n",
        "\n",
        "for i in range(1, len(df)):\n",
        "    bal = df.loc[i-1, 'balance']\n",
        "    df.loc[i, 'balance'] = bal + (bal * 0.4) * df.loc[i, 'returns']\n",
        "\n",
        "display(df.head())\n",
        "display(df.tail())"
      ],
      "execution_count": 0,
      "outputs": [
        {
          "output_type": "display_data",
          "data": {
            "text/html": [
              "<div>\n",
              "<style>\n",
              "    .dataframe thead tr:only-child th {\n",
              "        text-align: right;\n",
              "    }\n",
              "\n",
              "    .dataframe thead th {\n",
              "        text-align: left;\n",
              "    }\n",
              "\n",
              "    .dataframe tbody tr th {\n",
              "        vertical-align: top;\n",
              "    }\n",
              "</style>\n",
              "<table border=\"1\" class=\"dataframe\">\n",
              "  <thead>\n",
              "    <tr style=\"text-align: right;\">\n",
              "      <th></th>\n",
              "      <th>balance</th>\n",
              "      <th>returns</th>\n",
              "    </tr>\n",
              "  </thead>\n",
              "  <tbody>\n",
              "    <tr>\n",
              "      <th>0</th>\n",
              "      <td>1000.00000</td>\n",
              "      <td>0.0</td>\n",
              "    </tr>\n",
              "    <tr>\n",
              "      <th>1</th>\n",
              "      <td>1160.00000</td>\n",
              "      <td>0.4</td>\n",
              "    </tr>\n",
              "    <tr>\n",
              "      <th>2</th>\n",
              "      <td>1020.80000</td>\n",
              "      <td>-0.3</td>\n",
              "    </tr>\n",
              "    <tr>\n",
              "      <th>3</th>\n",
              "      <td>1184.12800</td>\n",
              "      <td>0.4</td>\n",
              "    </tr>\n",
              "    <tr>\n",
              "      <th>4</th>\n",
              "      <td>1042.03264</td>\n",
              "      <td>-0.3</td>\n",
              "    </tr>\n",
              "  </tbody>\n",
              "</table>\n",
              "</div>"
            ],
            "text/plain": [
              "      balance  returns\n",
              "0  1000.00000      0.0\n",
              "1  1160.00000      0.4\n",
              "2  1020.80000     -0.3\n",
              "3  1184.12800      0.4\n",
              "4  1042.03264     -0.3"
            ]
          },
          "metadata": {
            "tags": []
          }
        },
        {
          "output_type": "display_data",
          "data": {
            "text/html": [
              "<div>\n",
              "<style>\n",
              "    .dataframe thead tr:only-child th {\n",
              "        text-align: right;\n",
              "    }\n",
              "\n",
              "    .dataframe thead th {\n",
              "        text-align: left;\n",
              "    }\n",
              "\n",
              "    .dataframe tbody tr th {\n",
              "        vertical-align: top;\n",
              "    }\n",
              "</style>\n",
              "<table border=\"1\" class=\"dataframe\">\n",
              "  <thead>\n",
              "    <tr style=\"text-align: right;\">\n",
              "      <th></th>\n",
              "      <th>balance</th>\n",
              "      <th>returns</th>\n",
              "    </tr>\n",
              "  </thead>\n",
              "  <tbody>\n",
              "    <tr>\n",
              "      <th>32</th>\n",
              "      <td>1390.114528</td>\n",
              "      <td>-0.3</td>\n",
              "    </tr>\n",
              "    <tr>\n",
              "      <th>33</th>\n",
              "      <td>1612.532852</td>\n",
              "      <td>0.4</td>\n",
              "    </tr>\n",
              "    <tr>\n",
              "      <th>34</th>\n",
              "      <td>1419.028910</td>\n",
              "      <td>-0.3</td>\n",
              "    </tr>\n",
              "    <tr>\n",
              "      <th>35</th>\n",
              "      <td>1646.073535</td>\n",
              "      <td>0.4</td>\n",
              "    </tr>\n",
              "    <tr>\n",
              "      <th>36</th>\n",
              "      <td>1448.544711</td>\n",
              "      <td>-0.3</td>\n",
              "    </tr>\n",
              "  </tbody>\n",
              "</table>\n",
              "</div>"
            ],
            "text/plain": [
              "        balance  returns\n",
              "32  1390.114528     -0.3\n",
              "33  1612.532852      0.4\n",
              "34  1419.028910     -0.3\n",
              "35  1646.073535      0.4\n",
              "36  1448.544711     -0.3"
            ]
          },
          "metadata": {
            "tags": []
          }
        }
      ]
    },
    {
      "cell_type": "markdown",
      "metadata": {
        "slideshow": {
          "slide_type": "slide"
        },
        "id": "AO-7kHYDA1FU",
        "colab_type": "text"
      },
      "source": [
        "투자 비중이 줄면서 총 잔액 대비 16%의 수익과 12%의 손실이 교차되는 게임으로 바뀌었기 때문이다. 수익과 손실의 크기가 모두 감소했고 이들 간의 편차도 줄어 결과적으로 기하평균이 커졌다. \n",
        "* 전액 투자 수익률: +40%, -30%\n",
        "* 잔액의 40% 투자 수익률: +16%, -12%\n"
      ]
    },
    {
      "cell_type": "code",
      "metadata": {
        "slideshow": {
          "slide_type": "-"
        },
        "id": "xBVl8S2pA1FV",
        "colab_type": "code",
        "colab": {},
        "outputId": "3967393f-9d31-4ff7-9cd5-c6ea2ba28b46"
      },
      "source": [
        "returns = np.array([0.4, -0.3])\n",
        "\n",
        "print('수익률(산술평균): ', np.mean(returns) )\n",
        "print('수익률(기하평균): ', stats.gmean(returns + 1) - 1)"
      ],
      "execution_count": 0,
      "outputs": [
        {
          "output_type": "stream",
          "text": [
            "수익률(산술평균):  0.05\n",
            "수익률(기하평균):  -0.0100505063388\n"
          ],
          "name": "stdout"
        }
      ]
    },
    {
      "cell_type": "code",
      "metadata": {
        "slideshow": {
          "slide_type": "-"
        },
        "id": "b1ht13RiA1Fb",
        "colab_type": "code",
        "colab": {},
        "outputId": "c45300ff-4804-4d9a-d7da-64997c1ace7d"
      },
      "source": [
        "returns = np.array([0.16, -0.12])\n",
        "\n",
        "print('수익률(산술평균): ', np.mean(returns) )\n",
        "print('수익률(기하평균): ', stats.gmean(returns + 1) - 1)"
      ],
      "execution_count": 0,
      "outputs": [
        {
          "output_type": "stream",
          "text": [
            "수익률(산술평균):  0.02\n",
            "수익률(기하평균):  0.0103464752252\n"
          ],
          "name": "stdout"
        }
      ]
    },
    {
      "cell_type": "markdown",
      "metadata": {
        "slideshow": {
          "slide_type": "slide"
        },
        "id": "YJtNMtZdA1Fe",
        "colab_type": "text"
      },
      "source": [
        "좀 더 엄밀하게 계산하면 전체 금액의 41.5%를 투자할 때 수익률은 최대가 된다. "
      ]
    },
    {
      "cell_type": "code",
      "metadata": {
        "slideshow": {
          "slide_type": "-"
        },
        "id": "Lrp5IG8yA1Ff",
        "colab_type": "code",
        "colab": {},
        "outputId": "a36c77cc-0d7a-43f7-bed0-8d7c22b0b583"
      },
      "source": [
        "returns = np.array([0.4, -0.3])\n",
        "\n",
        "for i in np.linspace(0, 1, 21):\n",
        "    g_ret = stats.gmean(returns * i + 1) - 1\n",
        "    print('재투자 비율: %.0f %% , 수익률: %.5f' % (i * 100, g_ret))"
      ],
      "execution_count": 0,
      "outputs": [
        {
          "output_type": "stream",
          "text": [
            "재투자 비율: 0 % , 수익률: 0.00000\n",
            "재투자 비율: 5 % , 수익률: 0.00235\n",
            "재투자 비율: 10 % , 수익률: 0.00439\n",
            "재투자 비율: 15 % , 수익률: 0.00613\n",
            "재투자 비율: 20 % , 수익률: 0.00757\n",
            "재투자 비율: 25 % , 수익률: 0.00871\n",
            "재투자 비율: 30 % , 수익률: 0.00955\n",
            "재투자 비율: 35 % , 수익률: 0.01010\n",
            "재투자 비율: 40 % , 수익률: 0.01035\n",
            "재투자 비율: 45 % , 수익률: 0.01030\n",
            "재투자 비율: 50 % , 수익률: 0.00995\n",
            "재투자 비율: 55 % , 수익률: 0.00931\n",
            "재투자 비율: 60 % , 수익률: 0.00837\n",
            "재투자 비율: 65 % , 수익률: 0.00712\n",
            "재투자 비율: 70 % , 수익률: 0.00558\n",
            "재투자 비율: 75 % , 수익률: 0.00374\n",
            "재투자 비율: 80 % , 수익률: 0.00160\n",
            "재투자 비율: 85 % , 수익률: -0.00085\n",
            "재투자 비율: 90 % , 수익률: -0.00361\n",
            "재투자 비율: 95 % , 수익률: -0.00667\n",
            "재투자 비율: 100 % , 수익률: -0.01005\n"
          ],
          "name": "stdout"
        }
      ]
    },
    {
      "cell_type": "code",
      "metadata": {
        "slideshow": {
          "slide_type": "slide"
        },
        "id": "kDDUMJAiA1Fi",
        "colab_type": "code",
        "colab": {},
        "outputId": "90e747e8-23ea-477a-e643-0cd9233444be"
      },
      "source": [
        "returns = np.array([0.4, -0.3])\n",
        "\n",
        "x = np.linspace(0, 1, 21)\n",
        "g_ret = [stats.gmean(returns * i + 1) - 1 for i in x]\n",
        "\n",
        "plt.plot(x, g_ret)\n",
        "plt.grid()\n",
        "plt.show()"
      ],
      "execution_count": 0,
      "outputs": [
        {
          "output_type": "display_data",
          "data": {
            "image/png": "[encoded data removed]",
            "text/plain": [
              "<matplotlib.figure.Figure at 0x7f6b029cf630>"
            ]
          },
          "metadata": {
            "tags": []
          }
        }
      ]
    },
    {
      "cell_type": "markdown",
      "metadata": {
        "slideshow": {
          "slide_type": "slide"
        },
        "id": "UyiFMUlkA1Fl",
        "colab_type": "text"
      },
      "source": [
        "# 결론\n",
        "* 현명한 자금 관리를 하려면 기하평균 중요\n",
        "* 현금을 채권 등 안전 자산에 투자하면 수익률은 조금 더 높아진다\n",
        "* 장기투자의 최종 수익률을 결정하는 것은 기하평균이다"
      ]
    },
    {
      "cell_type": "markdown",
      "metadata": {
        "id": "EbWwVthdBWzm",
        "colab_type": "text"
      },
      "source": [
        "https://goo.gl/nRqp2w '몰빵' 투자자, 月 40% 수익·30% 손실 반복하면…3년 뒤 수익률은 '마이너스' 아티클을 복기(復棋)하면서 검증 해본 글입니다.\n"
      ]
    },
    {
      "cell_type": "markdown",
      "metadata": {
        "slideshow": {
          "slide_type": "notes"
        },
        "id": "Ex9rIEDMA1Fm",
        "colab_type": "text"
      },
      "source": [
        "#### 2017-2019 [FinanceData.KR]()"
      ]
    }
  ]
}