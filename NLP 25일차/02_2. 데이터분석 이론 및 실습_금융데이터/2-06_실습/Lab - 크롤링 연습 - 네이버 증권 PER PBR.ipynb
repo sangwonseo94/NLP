{
 "cells": [
  {
   "cell_type": "code",
   "execution_count": 1,
   "metadata": {},
   "outputs": [],
   "source": [
    "import requests\n",
    "from bs4 import BeautifulSoup\n",
    "\n",
    "code = '005930'\n",
    "url = 'https://companyinfo.stock.naver.com/v1/company/c1010001.aspx?cmp_cd=' + code"
   ]
  },
  {
   "cell_type": "code",
   "execution_count": 4,
   "metadata": {},
   "outputs": [
    {
     "data": {
      "text/plain": [
       "[<dt class=\" line-left\"><a href=\"../company/c1020001.aspx?cmp_cd=005930&amp;cn=\">기업개요</a></dt>,\n",
       " <dt class=\" line-left\"><a href=\"../company/c1030001.aspx?cmp_cd=005930&amp;cn=\">재무분석</a></dt>,\n",
       " <dt class=\" line-left\"><a href=\"../company/c1040001.aspx?cmp_cd=005930&amp;cn=\">투자지표</a></dt>,\n",
       " <dt class=\" line-left\"><a href=\"../company/c1050001.aspx?cmp_cd=005930&amp;cn=\">컨센서스</a></dt>,\n",
       " <dt class=\" line-left\"><a href=\"../company/c1060001.aspx?cmp_cd=005930&amp;cn=\">업종분석</a></dt>,\n",
       " <dt class=\" line-left\"><a href=\"../company/c1090001.aspx?cmp_cd=005930&amp;cn=\">섹터분석</a></dt>,\n",
       " <dt class=\" line-left\"><a href=\"../company/c1070001.aspx?cmp_cd=005930&amp;cn=\">지분현황</a></dt>,\n",
       " <dt class=\"line-left\">Samsung Electronics</dt>,\n",
       " <dt class=\"line-left\">KOSPI : 전기전자</dt>,\n",
       " <dt class=\"line-left\">WICS : 반도체와반도체장비</dt>,\n",
       " <dt class=\"line-left\">BPS <b class=\"num\">30,427</b></dt>,\n",
       " <dt class=\"line-left\">PER <b class=\"num\">8.53</b></dt>,\n",
       " <dt class=\"line-left\">업종PER <b class=\"num\">7.12</b></dt>,\n",
       " <dt class=\"line-left\">PBR <b class=\"num\">1.52</b></dt>,\n",
       " <dt class=\"line-left\">현금배당수익률 <b class=\"num\">1.84%</b></dt>]"
      ]
     },
     "execution_count": 4,
     "metadata": {},
     "output_type": "execute_result"
    }
   ],
   "source": [
    "r = requests.get(url)\n",
    "soup = BeautifulSoup(r.text, 'html5lib')\n",
    "dts = soup.findAll('dt', attrs={'class':'line-left'})\n",
    "dts"
   ]
  },
  {
   "cell_type": "code",
   "execution_count": 10,
   "metadata": {},
   "outputs": [
    {
     "data": {
      "text/plain": [
       "8.53"
      ]
     },
     "execution_count": 10,
     "metadata": {},
     "output_type": "execute_result"
    }
   ],
   "source": [
    "per = float(dts[11].text.split(' ')[1])\n",
    "per"
   ]
  },
  {
   "cell_type": "code",
   "execution_count": 11,
   "metadata": {},
   "outputs": [
    {
     "data": {
      "text/plain": [
       "8.53"
      ]
     },
     "execution_count": 11,
     "metadata": {},
     "output_type": "execute_result"
    }
   ],
   "source": [
    "per"
   ]
  }
 ],
 "metadata": {
  "kernelspec": {
   "display_name": "Python 3",
   "language": "python",
   "name": "python3"
  },
  "language_info": {
   "codemirror_mode": {
    "name": "ipython",
    "version": 3
   },
   "file_extension": ".py",
   "mimetype": "text/x-python",
   "name": "python",
   "nbconvert_exporter": "python",
   "pygments_lexer": "ipython3",
   "version": "3.6.5"
  }
 },
 "nbformat": 4,
 "nbformat_minor": 2
}