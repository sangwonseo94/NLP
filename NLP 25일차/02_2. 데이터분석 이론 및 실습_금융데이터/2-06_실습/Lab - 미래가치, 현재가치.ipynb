{
 "cells": [
  {
   "cell_type": "markdown",
   "metadata": {},
   "source": [
    "# Lab - 미래가치, 현재가치\n",
    "\n",
    "<img width=\"300\" src=\"http://i.imgur.com/tHmNhjm.png\" >\n",
    "\n",
    "### 2017-2019 FinanceData.KR http://financedata.kr\n",
    "<!-- TEASER_END -->"
   ]
  },
  {
   "cell_type": "markdown",
   "metadata": {},
   "source": [
    "# Objectives\n",
    "* `미래가치`(Future Value, FV)와 `현재가치`(Present Value, PV)\n",
    "* 파이썬 수식 표현과 계산\n",
    "* 파이썬 함수 사용법"
   ]
  },
  {
   "cell_type": "markdown",
   "metadata": {},
   "source": [
    "# 미래가치, 현재가치\n",
    "\n",
    "\"10년 뒤에 100만원을 줄께라고 했을 때, 이것을 현재로 환산하면 얼마일까?\"\n",
    "\n",
    "현재 가치에 이자가 붙어 미래에 얼마가 될지 환산하는 것을 `미래가치`(Future Value, FV)라고 합니다. 꺼구로 미래에 얻게 될 확실한 가치를 현재 가치로 환산한 가치를 `현재가치`(Present Value, PV)라고 합니다. \n",
    "\n",
    "이 환산의 기반이 되는 것은 이자율(r)입니다.\n",
    "\n",
    "$$ FV = PV * (1+r)^n $$\n",
    "\n",
    "$$ PV = \\frac{FV}{(1+r)^n} $$\n",
    "\n",
    "( FV : 미래가치, PV: 현재가치, r: 이자율 )"
   ]
  },
  {
   "cell_type": "markdown",
   "metadata": {},
   "source": [
    "# 미래가치의 계산(=복리계산)\n",
    "\n",
    "FV : 미래가치, PV: 현재가치, r: 이자율\n",
    "* $FV = PV (1 + r)$\n",
    "* $FV_2  = PV(1+r) + PV(1+r) * r = PV(1+r)*(1+r) = PV(1+r)^2$\n",
    "\n",
    "일반화 하면, (n=횟수, 일반적으로 년)\n",
    "* $FV_n = PV(1+r)^n$\n",
    "\n",
    "# 예제 1) 미래가치\n",
    "현재 100만원이 10년 후의 미래가치는? (시중 예금 금리: 4%) <br/>\n",
    "\n",
    "$$100 만원 * (1 + 0.04)^{10} = ? $$\n",
    "\n",
    "100 * (1 + 0.04) ** 10\n",
    "\n",
    "# 예제 2) 현재가치\n",
    "\n",
    "어떤 사람이 2년후에 100만원을 준다고 약속했다. <br/>이 약속된 금액의  현재 가치는? (시중 예금 금리는 4%로 가정)\n",
    "\n",
    "$$100만원 / (1 + 0.04)^2 = ?$$\n",
    "\n",
    "100 / (1 + 0.04) ** 2"
   ]
  },
  {
   "cell_type": "code",
   "execution_count": 1,
   "metadata": {},
   "outputs": [],
   "source": [
    "시중금리 = 0.04\n",
    "\n",
    "def present_value(fv, years=10):\n",
    "    return fv / (1 + 시중금리) ** years\n",
    "\n",
    "def future_value(pv, years=10):\n",
    "    return pv * (1 + 시중금리) ** years"
   ]
  },
  {
   "cell_type": "code",
   "execution_count": 2,
   "metadata": {},
   "outputs": [
    {
     "data": {
      "text/plain": [
       "219.1123143033421"
      ]
     },
     "execution_count": 2,
     "metadata": {},
     "output_type": "execute_result"
    }
   ],
   "source": [
    "future_value(100, 20)"
   ]
  },
  {
   "cell_type": "markdown",
   "metadata": {},
   "source": [
    "#### 2017~2019 [FinanceData.KR](FinanceData.KR)"
   ]
  }
 ],
 "metadata": {
  "kernelspec": {
   "display_name": "Python 3",
   "language": "python",
   "name": "python3"
  },
  "language_info": {
   "codemirror_mode": {
    "name": "ipython",
    "version": 3
   },
   "file_extension": ".py",
   "mimetype": "text/x-python",
   "name": "python",
   "nbconvert_exporter": "python",
   "pygments_lexer": "ipython3",
   "version": "3.7.0"
  }
 },
 "nbformat": 4,
 "nbformat_minor": 2
}