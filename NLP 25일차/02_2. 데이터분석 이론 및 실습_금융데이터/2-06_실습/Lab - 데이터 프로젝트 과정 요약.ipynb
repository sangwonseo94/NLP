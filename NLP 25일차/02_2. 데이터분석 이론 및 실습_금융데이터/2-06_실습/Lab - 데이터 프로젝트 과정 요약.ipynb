{
 "cells": [
  {
   "cell_type": "markdown",
   "metadata": {
    "slideshow": {
     "slide_type": "slide"
    }
   },
   "source": [
    "# Lab - 데이터 프로젝트 과정 요약\n",
    "\n",
    "<img width=\"300\" src=\"http://i.imgur.com/tHmNhjm.png\" >\n",
    "\n",
    "### 2017-2019 FinanceData.KR http://financedata.kr\n",
    "<!-- TEASER_END -->"
   ]
  },
  {
   "cell_type": "markdown",
   "metadata": {
    "slideshow": {
     "slide_type": "slide"
    }
   },
   "source": [
    "## 데이터 프로젝트 과정 요약\n",
    "\n",
    "1. 데이터 수집\n",
    "1. 데이터 전처리\n",
    "1. 데이터 분석\n",
    "1. 결과 리포트, 응용"
   ]
  },
  {
   "cell_type": "code",
   "execution_count": 1,
   "metadata": {
    "slideshow": {
     "slide_type": "-"
    }
   },
   "outputs": [
    {
     "name": "stdout",
     "output_type": "stream",
     "text": [
      "count of \"the\" = 309\n",
      "count of \"of\" = 208\n",
      "count of \"to\" = 174\n",
      "count of \"a\" = 165\n",
      "count of \"or\" = 131\n",
      "count of \"you\" = 102\n",
      "count of \"that\" = 89\n",
      "count of \"and\" = 86\n",
      "count of \"this\" = 72\n",
      "count of \"for\" = 70\n",
      "count of \"in\" = 70\n",
      "count of \"is\" = 67\n",
      "count of \"work\" = 60\n",
      "count of \"not\" = 46\n",
      "count of \"under\" = 44\n",
      "count of \"any\" = 41\n",
      "count of \"with\" = 41\n",
      "count of \"License\" = 40\n",
      "count of \"covered\" = 40\n",
      "count of \"by\" = 39\n"
     ]
    }
   ],
   "source": [
    "# 라이브러리 임포트\n",
    "import requests\n",
    "from collections import Counter\n",
    "\n",
    "# 1. 데이터 수집\n",
    "r = requests.get('https://www.gnu.org/licenses/gpl.txt')\n",
    "\n",
    "# 2. 데이터 전처리와 저장\n",
    "words_list = r.text.split()\n",
    "\n",
    "# 3. 데이터 분석\n",
    "count = Counter(words_list)\n",
    "\n",
    "# 4. 결과 리포트, 의사결정 적용\n",
    "for w in count.most_common(20):\n",
    "    print('count of \"{}\" = {}'.format(w[0], w[1]))"
   ]
  },
  {
   "cell_type": "markdown",
   "metadata": {
    "slideshow": {
     "slide_type": "subslide"
    }
   },
   "source": [
    "# 예제의 주요 구성\n",
    "1. 주석 (comment)\n",
    "1. import 모듈: import, from ~ import\n",
    "1. requests\n",
    "1. str.lower(), str.split()\n",
    "1. for..in\n",
    "1. Counter, Counter.most_common()\n",
    "1. print(), str.format()"
   ]
  },
  {
   "cell_type": "markdown",
   "metadata": {
    "slideshow": {
     "slide_type": "slide"
    }
   },
   "source": [
    "# 주석"
   ]
  },
  {
   "cell_type": "code",
   "execution_count": 2,
   "metadata": {
    "slideshow": {
     "slide_type": "-"
    }
   },
   "outputs": [],
   "source": [
    "# comment"
   ]
  },
  {
   "cell_type": "markdown",
   "metadata": {
    "slideshow": {
     "slide_type": "slide"
    }
   },
   "source": [
    "# 모듈 가져오기"
   ]
  },
  {
   "cell_type": "code",
   "execution_count": 3,
   "metadata": {
    "slideshow": {
     "slide_type": "-"
    }
   },
   "outputs": [],
   "source": [
    "import requests\n",
    "from collections import Counter"
   ]
  },
  {
   "cell_type": "markdown",
   "metadata": {
    "slideshow": {
     "slide_type": "slide"
    }
   },
   "source": [
    "# requests 모듈\n",
    "requests 특정 URL로 부터 페이지를 가져온다. get() 혹은 post()를 주로 사용한다.\n",
    "import 혹은 from ~ import 를 사용한다."
   ]
  },
  {
   "cell_type": "code",
   "execution_count": 4,
   "metadata": {
    "slideshow": {
     "slide_type": "-"
    }
   },
   "outputs": [
    {
     "name": "stdout",
     "output_type": "stream",
     "text": [
      "                    GNU GENERAL PUBLIC LICENSE\n",
      "                       Version 3, 29 June 2007\n",
      "\n",
      " Copyright (C) 2007 Free Software Foundation, Inc. <https://fsf.org/>\n",
      " Everyone is permitted to copy and distribute verbatim copies\n",
      " of this license document, but changing it is not allowed.\n",
      "\n",
      "                            Preamble\n",
      "\n",
      "  The GNU General Public License is a free, copyleft license for\n",
      "software a\n"
     ]
    }
   ],
   "source": [
    "r = requests.get('https://www.gnu.org/licenses/gpl.txt')\n",
    "print (r.text[:400])"
   ]
  },
  {
   "cell_type": "markdown",
   "metadata": {
    "slideshow": {
     "slide_type": "slide"
    }
   },
   "source": [
    "# str.lower(), str.split()\n",
    "* lower() 함수: 문자열을 소문자로 전환\n",
    "* split() 함수: 문자열을 잘라서 리스트로 반환"
   ]
  },
  {
   "cell_type": "code",
   "execution_count": 5,
   "metadata": {
    "slideshow": {
     "slide_type": "-"
    }
   },
   "outputs": [
    {
     "name": "stdout",
     "output_type": "stream",
     "text": [
      "5644\n"
     ]
    }
   ],
   "source": [
    "words = r.text.lower().split()\n",
    "print(len(words))"
   ]
  },
  {
   "cell_type": "code",
   "execution_count": 6,
   "metadata": {
    "slideshow": {
     "slide_type": "-"
    }
   },
   "outputs": [
    {
     "data": {
      "text/plain": [
       "['gnu',\n",
       " 'general',\n",
       " 'public',\n",
       " 'license',\n",
       " 'version',\n",
       " '3,',\n",
       " '29',\n",
       " 'june',\n",
       " '2007',\n",
       " 'copyright']"
      ]
     },
     "execution_count": 6,
     "metadata": {},
     "output_type": "execute_result"
    }
   ],
   "source": [
    "words[:10]"
   ]
  },
  {
   "cell_type": "markdown",
   "metadata": {
    "slideshow": {
     "slide_type": "slide"
    }
   },
   "source": [
    "# 개수 세기, TOP-N 구하기\n",
    "collections.Counter 를 사용하면 간편하게 개수를 셀 수 있습니다.\n",
    "\n",
    "* Counter() 딕셔너리에 저장된 값을 카운드 \n",
    "* Counter.most_common(10) 최상위 10개\n",
    "\n",
    "https://docs.python.org/3/library/collections.html#counter-objects"
   ]
  },
  {
   "cell_type": "code",
   "execution_count": 7,
   "metadata": {
    "slideshow": {
     "slide_type": "-"
    }
   },
   "outputs": [
    {
     "data": {
      "text/plain": [
       "[('the', 344),\n",
       " ('of', 219),\n",
       " ('to', 188),\n",
       " ('a', 178),\n",
       " ('or', 142),\n",
       " ('you', 123),\n",
       " ('and', 91),\n",
       " ('that', 89),\n",
       " ('this', 83),\n",
       " ('for', 83)]"
      ]
     },
     "execution_count": 7,
     "metadata": {},
     "output_type": "execute_result"
    }
   ],
   "source": [
    "count = Counter(words)\n",
    "common = count.most_common(10)\n",
    "common"
   ]
  },
  {
   "cell_type": "code",
   "execution_count": 8,
   "metadata": {},
   "outputs": [
    {
     "name": "stdout",
     "output_type": "stream",
     "text": [
      "count of \"the\" = 309\n",
      "count of \"of\" = 208\n",
      "count of \"to\" = 174\n",
      "count of \"a\" = 165\n",
      "count of \"or\" = 131\n",
      "count of \"you\" = 102\n",
      "count of \"that\" = 89\n",
      "count of \"and\" = 86\n",
      "count of \"this\" = 72\n",
      "count of \"for\" = 70\n",
      "count of \"in\" = 70\n",
      "count of \"is\" = 67\n",
      "count of \"work\" = 60\n",
      "count of \"not\" = 46\n",
      "count of \"under\" = 44\n",
      "count of \"any\" = 41\n",
      "count of \"with\" = 41\n",
      "count of \"License\" = 40\n",
      "count of \"covered\" = 40\n",
      "count of \"by\" = 39\n"
     ]
    }
   ],
   "source": [
    "import requests\n",
    "from collections import Counter\n",
    "\n",
    "# 1. 데이터 수집\n",
    "r = requests.get('https://www.gnu.org/licenses/gpl.txt') \n",
    "\n",
    "# 2. 데이터 전처리\n",
    "words_list = r.text.split()\n",
    "\n",
    "# 3. 데이터 분석\n",
    "count = Counter(words_list)\n",
    "\n",
    "# 4. 결과 리포트, 응용\n",
    "for w in count.most_common(20):\n",
    "    print('count of \"{}\" = {}'.format(w[0], w[1]))"
   ]
  },
  {
   "cell_type": "markdown",
   "metadata": {
    "slideshow": {
     "slide_type": "notes"
    }
   },
   "source": [
    "#### 2017~2019 [FinanceData.KR](FinanceData.KR)"
   ]
  }
 ],
 "metadata": {
  "celltoolbar": "Slideshow",
  "kernelspec": {
   "display_name": "Python 3",
   "language": "python",
   "name": "python3"
  },
  "language_info": {
   "codemirror_mode": {
    "name": "ipython",
    "version": 3
   },
   "file_extension": ".py",
   "mimetype": "text/x-python",
   "name": "python",
   "nbconvert_exporter": "python",
   "pygments_lexer": "ipython3",
   "version": "3.7.0"
  }
 },
 "nbformat": 4,
 "nbformat_minor": 2
}