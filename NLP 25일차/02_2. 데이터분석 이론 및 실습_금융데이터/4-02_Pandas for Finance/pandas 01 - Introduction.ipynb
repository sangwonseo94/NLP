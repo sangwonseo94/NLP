{
 "cells": [
  {
   "cell_type": "markdown",
   "metadata": {
    "slideshow": {
     "slide_type": "slide"
    }
   },
   "source": [
    "# pandas-01 Introduction\n",
    "\n",
    "<img src=\"http://goo.gl/ht49rJ\" >\n",
    "\n",
    "#### 2017 FinanceData http://fb.com/financedata"
   ]
  },
  {
   "cell_type": "markdown",
   "metadata": {
    "slideshow": {
     "slide_type": "slide"
    }
   },
   "source": [
    "# pandas: 파이썬에서 가장 강력한 데이터 분석 도구\n",
    "\n",
    "* http://pandas.pydata.org\n",
    "* \"panel data analysis\"의 약어. <strike>팬더곰과는 관련이 없다</strike>\n",
    "* panel: 다차원 구조화된 데이터 (계량경제학)\n",
    "* 오픈소스 데이터 분석 라이브러리 (데이터 분석, 클리닝, 모델링 등)\n",
    "* 워스 맥키니(Wes Mckinney)가 2009년 금융 데이터 분석을 위해 설계 개발 시작\n",
    "* 시계열 등 다양한 금융 데이터를 처리 기능을 제공\n",
    "* R 혹은 Matlab 사용자들이 접근하기 용이 (DataFrame과 R의 data.frame 유사)"
   ]
  },
  {
   "cell_type": "markdown",
   "metadata": {
    "slideshow": {
     "slide_type": "slide"
    }
   },
   "source": [
    "# pandas 자료구조\n",
    "* Series(1차원), DataFrame(2차원), Panel(3차원)\n",
    "* Panel은 3D 라벨 배열 (여러 DataFrame을 포함)\n",
    "* 가장 많이 사용하는 구조는 DataFrame\n",
    "\n"
   ]
  },
  {
   "cell_type": "markdown",
   "metadata": {
    "slideshow": {
     "slide_type": "slide"
    }
   },
   "source": [
    "# Indexers\n",
    "\n",
    "Object Type | Indexers\n",
    ":----------------------| :-------------------\n",
    "Series | s.loc[indexer]\n",
    "DataFrame |  df.loc[row_indexer, column_indexer]\n",
    "Panel | p.loc[item_indexer, major_indexer, minor_indexer]\n",
    "\n",
    "(참고) 시계열 데이터(time series)란, DatetimeIndex을  인덱스로 가진 Series 혹은 DataFrame을 말한다."
   ]
  },
  {
   "cell_type": "markdown",
   "metadata": {
    "slideshow": {
     "slide_type": "notes"
    }
   },
   "source": [
    "----\n",
    "#### 2017 FinanceData http://fb.com/financedata http://financedata.github.com"
   ]
  }
 ],
 "metadata": {
  "celltoolbar": "Slideshow",
  "kernelspec": {
   "display_name": "Python 3",
   "language": "python",
   "name": "python3"
  },
  "language_info": {
   "codemirror_mode": {
    "name": "ipython",
    "version": 3
   },
   "file_extension": ".py",
   "mimetype": "text/x-python",
   "name": "python",
   "nbconvert_exporter": "python",
   "pygments_lexer": "ipython3",
   "version": "3.5.2"
  }
 },
 "nbformat": 4,
 "nbformat_minor": 1
}