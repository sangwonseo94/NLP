{
  "nbformat": 4,
  "nbformat_minor": 0,
  "metadata": {
    "colab": {
      "name": "pandas-03 DataFrame.ipynb",
      "version": "0.3.2",
      "provenance": [],
      "collapsed_sections": [
        "S_PFSOpnEE8H",
        "sDWAywZ_EE8L",
        "3vIr3WZAEE8Z",
        "BgF4avYmEE8e",
        "YCb4HwQ1EE8j",
        "9xsTw6nvEE8u",
        "BDbGyrEHEE9I",
        "9Bv83K4nEE9N",
        "KuIyzMrpEE9T",
        "hjQUM4YeEE9X",
        "QXkMvazhEE9a",
        "gPGCAcXrEE9e",
        "3beUobsJEE9o",
        "2ZOdDrDSEE9r",
        "TWTyUcYTEE-O",
        "Y19cmBvZEE-R",
        "HmblevZuEE-d",
        "ShqcT_6xEE-e",
        "ApZSn4XVEE-i",
        "siiSOvGcEE-n",
        "uvXYvD9cEE-s",
        "2SH21VGuEE-t"
      ]
    },
    "language_info": {
      "codemirror_mode": {
        "name": "ipython",
        "version": 3
      },
      "file_extension": ".py",
      "mimetype": "text/x-python",
      "name": "python",
      "nbconvert_exporter": "python",
      "pygments_lexer": "ipython3",
      "version": "3.5.2"
    },
    "kernelspec": {
      "display_name": "Python 3",
      "language": "python",
      "name": "python3"
    }
  },
  "cells": [
    {
      "cell_type": "markdown",
      "metadata": {
        "slideshow": {
          "slide_type": "slide"
        },
        "id": "iiS1qXQnEE7e",
        "colab_type": "text"
      },
      "source": [
        "# pandas-03 DataFrame\n",
        "\n",
        "<img src=\"http://goo.gl/ht49rJ\" >\n",
        "\n",
        "#### 2017 FinanceData http://fb.com/financedata\n"
      ]
    },
    {
      "cell_type": "markdown",
      "metadata": {
        "slideshow": {
          "slide_type": "slide"
        },
        "id": "4B4JUG_nEE7f",
        "colab_type": "text"
      },
      "source": [
        "# DataFrame\n",
        "* 다양한 데이터를 포함할 수 있는 2차원 자료구조\n",
        "* 간단한게 말하면 시리즈(Series) 객체들의 딕셔너리\n",
        "* 스프레드시트와 시트와 유사"
      ]
    },
    {
      "cell_type": "markdown",
      "metadata": {
        "slideshow": {
          "slide_type": "slide"
        },
        "id": "BOPYKAqqEE7g",
        "colab_type": "text"
      },
      "source": [
        "# DataFrame 구성\n",
        "DataFrame 은 columns 기반\n",
        "* df.columns\n",
        "* df.index\n",
        "* df.values\n",
        "\n",
        "(참고: Series는 index, values로 구성)"
      ]
    },
    {
      "cell_type": "code",
      "metadata": {
        "slideshow": {
          "slide_type": "slide"
        },
        "id": "yVQ-PjqLEE7i",
        "colab_type": "code",
        "colab": {},
        "outputId": "85f1edc6-8dc8-47d4-a6f3-335da6ec3e38"
      },
      "source": [
        "# 간단한 예\n",
        "import pandas as pd\n",
        "\n",
        "values = [[10, 20, 30], [40, 50, 60], [70, 80, 90]]\n",
        "index = [1,2,3]\n",
        "columns = ['A', 'B', 'C']\n",
        "\n",
        "df = pd.DataFrame(values, index=index, columns=columns)\n",
        "df"
      ],
      "execution_count": 0,
      "outputs": [
        {
          "output_type": "execute_result",
          "data": {
            "text/html": [
              "<div>\n",
              "<style scoped>\n",
              "    .dataframe tbody tr th:only-of-type {\n",
              "        vertical-align: middle;\n",
              "    }\n",
              "\n",
              "    .dataframe tbody tr th {\n",
              "        vertical-align: top;\n",
              "    }\n",
              "\n",
              "    .dataframe thead th {\n",
              "        text-align: right;\n",
              "    }\n",
              "</style>\n",
              "<table border=\"1\" class=\"dataframe\">\n",
              "  <thead>\n",
              "    <tr style=\"text-align: right;\">\n",
              "      <th></th>\n",
              "      <th>A</th>\n",
              "      <th>B</th>\n",
              "      <th>C</th>\n",
              "    </tr>\n",
              "  </thead>\n",
              "  <tbody>\n",
              "    <tr>\n",
              "      <th>1</th>\n",
              "      <td>10</td>\n",
              "      <td>20</td>\n",
              "      <td>30</td>\n",
              "    </tr>\n",
              "    <tr>\n",
              "      <th>2</th>\n",
              "      <td>40</td>\n",
              "      <td>50</td>\n",
              "      <td>60</td>\n",
              "    </tr>\n",
              "    <tr>\n",
              "      <th>3</th>\n",
              "      <td>70</td>\n",
              "      <td>80</td>\n",
              "      <td>90</td>\n",
              "    </tr>\n",
              "  </tbody>\n",
              "</table>\n",
              "</div>"
            ],
            "text/plain": [
              "    A   B   C\n",
              "1  10  20  30\n",
              "2  40  50  60\n",
              "3  70  80  90"
            ]
          },
          "metadata": {
            "tags": []
          },
          "execution_count": 1
        }
      ]
    },
    {
      "cell_type": "markdown",
      "metadata": {
        "slideshow": {
          "slide_type": "slide"
        },
        "id": "zNEzkkFEEE7o",
        "colab_type": "text"
      },
      "source": [
        "# 예제 데이터\n",
        "\n",
        "삼성전자, LG전자 2017년 1월~4월 광고비 지출 (단위, 천원)\n",
        "\n",
        "\n",
        "|  날짜   | 삼성전자 | LG전자 |\n",
        "| ----- | ----- | --- |\n",
        "| 2016년 10월   | 23353920 |  13611721 |\n",
        "| 2016년 11월   | 21405206 |  14520911 |\n",
        "| 2016년 12월   | 15932536 |  20073843 |\n",
        "| 2017년 1월   | 11286761 |  5911641 |\n",
        "| 2017년 2월   | 12195995 |  4220130 |\n",
        "| 2017년 3월   | 12922589 |  14147994 |\n",
        "\n",
        "https://www.adic.or.kr (광고정보센터)"
      ]
    },
    {
      "cell_type": "markdown",
      "metadata": {
        "slideshow": {
          "slide_type": "slide"
        },
        "id": "r3tKVXNREE7p",
        "colab_type": "text"
      },
      "source": [
        "# DataFame 생성\n",
        "배열, 리스트, 튜플, ndarray 등으로 부터 생성할 수 있다"
      ]
    },
    {
      "cell_type": "code",
      "metadata": {
        "id": "qOroc05REE7q",
        "colab_type": "code",
        "colab": {},
        "outputId": "1b9a6699-748a-4868-f935-4530dc2a41b4"
      },
      "source": [
        "# 리스트로 부터 생성하기\n",
        "\n",
        "values = [\n",
        "    ['2016-10', 23353920, 13611721], \n",
        "    ['2016-11', 21405206, 14520911], \n",
        "    ['2016-12', 15932536, 20073843], \n",
        "    ['2017-01', 11286761, 5911641], \n",
        "    ['2017-02', 12195995, 4220130],\n",
        "    ['2017-03', 12922589, 14147994],\n",
        "]\n",
        "\n",
        "df = pd.DataFrame(values)\n",
        "df"
      ],
      "execution_count": 0,
      "outputs": [
        {
          "output_type": "execute_result",
          "data": {
            "text/html": [
              "<div>\n",
              "<style scoped>\n",
              "    .dataframe tbody tr th:only-of-type {\n",
              "        vertical-align: middle;\n",
              "    }\n",
              "\n",
              "    .dataframe tbody tr th {\n",
              "        vertical-align: top;\n",
              "    }\n",
              "\n",
              "    .dataframe thead th {\n",
              "        text-align: right;\n",
              "    }\n",
              "</style>\n",
              "<table border=\"1\" class=\"dataframe\">\n",
              "  <thead>\n",
              "    <tr style=\"text-align: right;\">\n",
              "      <th></th>\n",
              "      <th>0</th>\n",
              "      <th>1</th>\n",
              "      <th>2</th>\n",
              "    </tr>\n",
              "  </thead>\n",
              "  <tbody>\n",
              "    <tr>\n",
              "      <th>0</th>\n",
              "      <td>2016-10</td>\n",
              "      <td>23353920</td>\n",
              "      <td>13611721</td>\n",
              "    </tr>\n",
              "    <tr>\n",
              "      <th>1</th>\n",
              "      <td>2016-11</td>\n",
              "      <td>21405206</td>\n",
              "      <td>14520911</td>\n",
              "    </tr>\n",
              "    <tr>\n",
              "      <th>2</th>\n",
              "      <td>2016-12</td>\n",
              "      <td>15932536</td>\n",
              "      <td>20073843</td>\n",
              "    </tr>\n",
              "    <tr>\n",
              "      <th>3</th>\n",
              "      <td>2017-01</td>\n",
              "      <td>11286761</td>\n",
              "      <td>5911641</td>\n",
              "    </tr>\n",
              "    <tr>\n",
              "      <th>4</th>\n",
              "      <td>2017-02</td>\n",
              "      <td>12195995</td>\n",
              "      <td>4220130</td>\n",
              "    </tr>\n",
              "    <tr>\n",
              "      <th>5</th>\n",
              "      <td>2017-03</td>\n",
              "      <td>12922589</td>\n",
              "      <td>14147994</td>\n",
              "    </tr>\n",
              "  </tbody>\n",
              "</table>\n",
              "</div>"
            ],
            "text/plain": [
              "         0         1         2\n",
              "0  2016-10  23353920  13611721\n",
              "1  2016-11  21405206  14520911\n",
              "2  2016-12  15932536  20073843\n",
              "3  2017-01  11286761   5911641\n",
              "4  2017-02  12195995   4220130\n",
              "5  2017-03  12922589  14147994"
            ]
          },
          "metadata": {
            "tags": []
          },
          "execution_count": 2
        }
      ]
    },
    {
      "cell_type": "code",
      "metadata": {
        "id": "0M8xGYC_EE7t",
        "colab_type": "code",
        "colab": {},
        "outputId": "8a64d510-636b-4774-e470-505f345c132a"
      },
      "source": [
        "# 컬럼 지정하기\n",
        "\n",
        "df = pd.DataFrame(values, columns=['날짜', '삼성전자', 'LG전자'])\n",
        "df"
      ],
      "execution_count": 0,
      "outputs": [
        {
          "output_type": "execute_result",
          "data": {
            "text/html": [
              "<div>\n",
              "<style scoped>\n",
              "    .dataframe tbody tr th:only-of-type {\n",
              "        vertical-align: middle;\n",
              "    }\n",
              "\n",
              "    .dataframe tbody tr th {\n",
              "        vertical-align: top;\n",
              "    }\n",
              "\n",
              "    .dataframe thead th {\n",
              "        text-align: right;\n",
              "    }\n",
              "</style>\n",
              "<table border=\"1\" class=\"dataframe\">\n",
              "  <thead>\n",
              "    <tr style=\"text-align: right;\">\n",
              "      <th></th>\n",
              "      <th>날짜</th>\n",
              "      <th>삼성전자</th>\n",
              "      <th>LG전자</th>\n",
              "    </tr>\n",
              "  </thead>\n",
              "  <tbody>\n",
              "    <tr>\n",
              "      <th>0</th>\n",
              "      <td>2016-10</td>\n",
              "      <td>23353920</td>\n",
              "      <td>13611721</td>\n",
              "    </tr>\n",
              "    <tr>\n",
              "      <th>1</th>\n",
              "      <td>2016-11</td>\n",
              "      <td>21405206</td>\n",
              "      <td>14520911</td>\n",
              "    </tr>\n",
              "    <tr>\n",
              "      <th>2</th>\n",
              "      <td>2016-12</td>\n",
              "      <td>15932536</td>\n",
              "      <td>20073843</td>\n",
              "    </tr>\n",
              "    <tr>\n",
              "      <th>3</th>\n",
              "      <td>2017-01</td>\n",
              "      <td>11286761</td>\n",
              "      <td>5911641</td>\n",
              "    </tr>\n",
              "    <tr>\n",
              "      <th>4</th>\n",
              "      <td>2017-02</td>\n",
              "      <td>12195995</td>\n",
              "      <td>4220130</td>\n",
              "    </tr>\n",
              "    <tr>\n",
              "      <th>5</th>\n",
              "      <td>2017-03</td>\n",
              "      <td>12922589</td>\n",
              "      <td>14147994</td>\n",
              "    </tr>\n",
              "  </tbody>\n",
              "</table>\n",
              "</div>"
            ],
            "text/plain": [
              "        날짜      삼성전자      LG전자\n",
              "0  2016-10  23353920  13611721\n",
              "1  2016-11  21405206  14520911\n",
              "2  2016-12  15932536  20073843\n",
              "3  2017-01  11286761   5911641\n",
              "4  2017-02  12195995   4220130\n",
              "5  2017-03  12922589  14147994"
            ]
          },
          "metadata": {
            "tags": []
          },
          "execution_count": 3
        }
      ]
    },
    {
      "cell_type": "markdown",
      "metadata": {
        "id": "LDqDA6w0EE7x",
        "colab_type": "text"
      },
      "source": [
        "# 딕셔너리로 부터 생성"
      ]
    },
    {
      "cell_type": "code",
      "metadata": {
        "slideshow": {
          "slide_type": "-"
        },
        "id": "_KviYmboEE7y",
        "colab_type": "code",
        "colab": {},
        "outputId": "66e3b6ab-482b-401e-899f-b4b229272d1d"
      },
      "source": [
        "# 딕셔너리로 부터 생성\n",
        "\n",
        "values = {\n",
        "    '날짜': ['2016-10', '2016-11', '2016-12', '2017-01', '2017-02', '2017-03'],\n",
        "    '삼성전자': [23353920, 21405206, 15932536, 11286761, 12195995, 12922589], \n",
        "    'LG전자': [13611721, 14520911, 20073843, 5911641, 4220130, 14147994]\n",
        "}\n",
        "\n",
        "df = pd.DataFrame(values)\n",
        "df"
      ],
      "execution_count": 0,
      "outputs": [
        {
          "output_type": "execute_result",
          "data": {
            "text/html": [
              "<div>\n",
              "<style scoped>\n",
              "    .dataframe tbody tr th:only-of-type {\n",
              "        vertical-align: middle;\n",
              "    }\n",
              "\n",
              "    .dataframe tbody tr th {\n",
              "        vertical-align: top;\n",
              "    }\n",
              "\n",
              "    .dataframe thead th {\n",
              "        text-align: right;\n",
              "    }\n",
              "</style>\n",
              "<table border=\"1\" class=\"dataframe\">\n",
              "  <thead>\n",
              "    <tr style=\"text-align: right;\">\n",
              "      <th></th>\n",
              "      <th>LG전자</th>\n",
              "      <th>날짜</th>\n",
              "      <th>삼성전자</th>\n",
              "    </tr>\n",
              "  </thead>\n",
              "  <tbody>\n",
              "    <tr>\n",
              "      <th>0</th>\n",
              "      <td>13611721</td>\n",
              "      <td>2016-10</td>\n",
              "      <td>23353920</td>\n",
              "    </tr>\n",
              "    <tr>\n",
              "      <th>1</th>\n",
              "      <td>14520911</td>\n",
              "      <td>2016-11</td>\n",
              "      <td>21405206</td>\n",
              "    </tr>\n",
              "    <tr>\n",
              "      <th>2</th>\n",
              "      <td>20073843</td>\n",
              "      <td>2016-12</td>\n",
              "      <td>15932536</td>\n",
              "    </tr>\n",
              "    <tr>\n",
              "      <th>3</th>\n",
              "      <td>5911641</td>\n",
              "      <td>2017-01</td>\n",
              "      <td>11286761</td>\n",
              "    </tr>\n",
              "    <tr>\n",
              "      <th>4</th>\n",
              "      <td>4220130</td>\n",
              "      <td>2017-02</td>\n",
              "      <td>12195995</td>\n",
              "    </tr>\n",
              "    <tr>\n",
              "      <th>5</th>\n",
              "      <td>14147994</td>\n",
              "      <td>2017-03</td>\n",
              "      <td>12922589</td>\n",
              "    </tr>\n",
              "  </tbody>\n",
              "</table>\n",
              "</div>"
            ],
            "text/plain": [
              "       LG전자       날짜      삼성전자\n",
              "0  13611721  2016-10  23353920\n",
              "1  14520911  2016-11  21405206\n",
              "2  20073843  2016-12  15932536\n",
              "3   5911641  2017-01  11286761\n",
              "4   4220130  2017-02  12195995\n",
              "5  14147994  2017-03  12922589"
            ]
          },
          "metadata": {
            "tags": []
          },
          "execution_count": 4
        }
      ]
    },
    {
      "cell_type": "markdown",
      "metadata": {
        "slideshow": {
          "slide_type": "slide"
        },
        "id": "4-Sr_0KDEE72",
        "colab_type": "text"
      },
      "source": [
        "# 컬럼 순서 지정하기\n",
        "파이썬의 딕셔너리는 순서가 보장되지 않는다. 순서를 명시하려면 columns를 지정한다."
      ]
    },
    {
      "cell_type": "code",
      "metadata": {
        "id": "9AwVjbbpEE73",
        "colab_type": "code",
        "colab": {},
        "outputId": "844f7c3e-ecbc-4814-be31-4e03cd0864f4"
      },
      "source": [
        "values = { \n",
        "    '날짜': ['2016-10', '2016-11', '2016-12', '2017-01', '2017-02', '2017-03'],\n",
        "    '삼성전자': [23353920, 21405206, 15932536, 11286761, 12195995, 12922589], \n",
        "    'LG전자': [13611721, 14520911, 20073843, 5911641, 4220130, 14147994]\n",
        "}\n",
        "\n",
        "df = pd.DataFrame(values, columns=['날짜', '삼성전자', 'LG전자'])\n",
        "df"
      ],
      "execution_count": 0,
      "outputs": [
        {
          "output_type": "execute_result",
          "data": {
            "text/html": [
              "<div>\n",
              "<style scoped>\n",
              "    .dataframe tbody tr th:only-of-type {\n",
              "        vertical-align: middle;\n",
              "    }\n",
              "\n",
              "    .dataframe tbody tr th {\n",
              "        vertical-align: top;\n",
              "    }\n",
              "\n",
              "    .dataframe thead th {\n",
              "        text-align: right;\n",
              "    }\n",
              "</style>\n",
              "<table border=\"1\" class=\"dataframe\">\n",
              "  <thead>\n",
              "    <tr style=\"text-align: right;\">\n",
              "      <th></th>\n",
              "      <th>날짜</th>\n",
              "      <th>삼성전자</th>\n",
              "      <th>LG전자</th>\n",
              "    </tr>\n",
              "  </thead>\n",
              "  <tbody>\n",
              "    <tr>\n",
              "      <th>0</th>\n",
              "      <td>2016-10</td>\n",
              "      <td>23353920</td>\n",
              "      <td>13611721</td>\n",
              "    </tr>\n",
              "    <tr>\n",
              "      <th>1</th>\n",
              "      <td>2016-11</td>\n",
              "      <td>21405206</td>\n",
              "      <td>14520911</td>\n",
              "    </tr>\n",
              "    <tr>\n",
              "      <th>2</th>\n",
              "      <td>2016-12</td>\n",
              "      <td>15932536</td>\n",
              "      <td>20073843</td>\n",
              "    </tr>\n",
              "    <tr>\n",
              "      <th>3</th>\n",
              "      <td>2017-01</td>\n",
              "      <td>11286761</td>\n",
              "      <td>5911641</td>\n",
              "    </tr>\n",
              "    <tr>\n",
              "      <th>4</th>\n",
              "      <td>2017-02</td>\n",
              "      <td>12195995</td>\n",
              "      <td>4220130</td>\n",
              "    </tr>\n",
              "    <tr>\n",
              "      <th>5</th>\n",
              "      <td>2017-03</td>\n",
              "      <td>12922589</td>\n",
              "      <td>14147994</td>\n",
              "    </tr>\n",
              "  </tbody>\n",
              "</table>\n",
              "</div>"
            ],
            "text/plain": [
              "        날짜      삼성전자      LG전자\n",
              "0  2016-10  23353920  13611721\n",
              "1  2016-11  21405206  14520911\n",
              "2  2016-12  15932536  20073843\n",
              "3  2017-01  11286761   5911641\n",
              "4  2017-02  12195995   4220130\n",
              "5  2017-03  12922589  14147994"
            ]
          },
          "metadata": {
            "tags": []
          },
          "execution_count": 5
        }
      ]
    },
    {
      "cell_type": "markdown",
      "metadata": {
        "slideshow": {
          "slide_type": "slide"
        },
        "id": "Rf6dcJ3XEE76",
        "colab_type": "text"
      },
      "source": [
        "# DataFrame 살펴 보기 - index, columns, values \n",
        "df.index, df.columns, df.values"
      ]
    },
    {
      "cell_type": "code",
      "metadata": {
        "slideshow": {
          "slide_type": "-"
        },
        "id": "wo9tVRycEE77",
        "colab_type": "code",
        "colab": {},
        "outputId": "8a5bea0f-45fe-4792-90f2-9bee419a8458"
      },
      "source": [
        "# 인덱스(index)\n",
        "df.index"
      ],
      "execution_count": 0,
      "outputs": [
        {
          "output_type": "execute_result",
          "data": {
            "text/plain": [
              "RangeIndex(start=0, stop=6, step=1)"
            ]
          },
          "metadata": {
            "tags": []
          },
          "execution_count": 6
        }
      ]
    },
    {
      "cell_type": "code",
      "metadata": {
        "slideshow": {
          "slide_type": "-"
        },
        "id": "F9iJFJDAEE8A",
        "colab_type": "code",
        "colab": {},
        "outputId": "21625633-d403-4744-dc45-caf9b3e189e7"
      },
      "source": [
        "# 열(column)\n",
        "df.columns"
      ],
      "execution_count": 0,
      "outputs": [
        {
          "output_type": "execute_result",
          "data": {
            "text/plain": [
              "Index(['날짜', '삼성전자', 'LG전자'], dtype='object')"
            ]
          },
          "metadata": {
            "tags": []
          },
          "execution_count": 7
        }
      ]
    },
    {
      "cell_type": "code",
      "metadata": {
        "slideshow": {
          "slide_type": "-"
        },
        "id": "ehwAFypAEE8D",
        "colab_type": "code",
        "colab": {},
        "outputId": "abe36064-16fd-4744-9392-3c8d8243fbb0"
      },
      "source": [
        "# 값 (2차원 배열)\n",
        "df.values"
      ],
      "execution_count": 0,
      "outputs": [
        {
          "output_type": "execute_result",
          "data": {
            "text/plain": [
              "array([['2016-10', 23353920, 13611721],\n",
              "       ['2016-11', 21405206, 14520911],\n",
              "       ['2016-12', 15932536, 20073843],\n",
              "       ['2017-01', 11286761, 5911641],\n",
              "       ['2017-02', 12195995, 4220130],\n",
              "       ['2017-03', 12922589, 14147994]], dtype=object)"
            ]
          },
          "metadata": {
            "tags": []
          },
          "execution_count": 8
        }
      ]
    },
    {
      "cell_type": "markdown",
      "metadata": {
        "slideshow": {
          "slide_type": "slide"
        },
        "id": "S_PFSOpnEE8H",
        "colab_type": "text"
      },
      "source": [
        "# DataFrame 살펴 보기 - df.dtypes\n",
        "df.dtypes - 각 컬럼의 데이터 타입을 확인"
      ]
    },
    {
      "cell_type": "code",
      "metadata": {
        "id": "QRXx3KJ-EE8I",
        "colab_type": "code",
        "colab": {},
        "outputId": "6f8dac5c-156c-4a57-fad5-f831f4603724"
      },
      "source": [
        "# 열(column)과 타입\n",
        "df.dtypes"
      ],
      "execution_count": 0,
      "outputs": [
        {
          "output_type": "execute_result",
          "data": {
            "text/plain": [
              "날짜      object\n",
              "삼성전자     int64\n",
              "LG전자     int64\n",
              "dtype: object"
            ]
          },
          "metadata": {
            "tags": []
          },
          "execution_count": 9
        }
      ]
    },
    {
      "cell_type": "markdown",
      "metadata": {
        "id": "sDWAywZ_EE8L",
        "colab_type": "text"
      },
      "source": [
        "# DataFrame 살펴 보기\n",
        "* df.head() - 앞 부분 보기\n",
        "* df.tail() - 뒷 부분 보기\n",
        "* len(df) - 행(row)의 수"
      ]
    },
    {
      "cell_type": "code",
      "metadata": {
        "slideshow": {
          "slide_type": "-"
        },
        "id": "9Lbs7uZmEE8M",
        "colab_type": "code",
        "colab": {},
        "outputId": "51b1d61c-b8ab-4442-9f4e-ccb09d2b1cb9"
      },
      "source": [
        "# 앞 부분 보기 (기본 5행)\n",
        "df.head(2)"
      ],
      "execution_count": 0,
      "outputs": [
        {
          "output_type": "execute_result",
          "data": {
            "text/html": [
              "<div>\n",
              "<style scoped>\n",
              "    .dataframe tbody tr th:only-of-type {\n",
              "        vertical-align: middle;\n",
              "    }\n",
              "\n",
              "    .dataframe tbody tr th {\n",
              "        vertical-align: top;\n",
              "    }\n",
              "\n",
              "    .dataframe thead th {\n",
              "        text-align: right;\n",
              "    }\n",
              "</style>\n",
              "<table border=\"1\" class=\"dataframe\">\n",
              "  <thead>\n",
              "    <tr style=\"text-align: right;\">\n",
              "      <th></th>\n",
              "      <th>날짜</th>\n",
              "      <th>삼성전자</th>\n",
              "      <th>LG전자</th>\n",
              "    </tr>\n",
              "  </thead>\n",
              "  <tbody>\n",
              "    <tr>\n",
              "      <th>0</th>\n",
              "      <td>2016-10</td>\n",
              "      <td>23353920</td>\n",
              "      <td>13611721</td>\n",
              "    </tr>\n",
              "    <tr>\n",
              "      <th>1</th>\n",
              "      <td>2016-11</td>\n",
              "      <td>21405206</td>\n",
              "      <td>14520911</td>\n",
              "    </tr>\n",
              "  </tbody>\n",
              "</table>\n",
              "</div>"
            ],
            "text/plain": [
              "        날짜      삼성전자      LG전자\n",
              "0  2016-10  23353920  13611721\n",
              "1  2016-11  21405206  14520911"
            ]
          },
          "metadata": {
            "tags": []
          },
          "execution_count": 10
        }
      ]
    },
    {
      "cell_type": "code",
      "metadata": {
        "slideshow": {
          "slide_type": "-"
        },
        "id": "8iNrRXwIEE8Q",
        "colab_type": "code",
        "colab": {},
        "outputId": "8767432d-ad58-4b97-b340-08ca0ea3973d"
      },
      "source": [
        "# 뒷 부분 보기 (기본 5행)\n",
        "df.tail(2)"
      ],
      "execution_count": 0,
      "outputs": [
        {
          "output_type": "execute_result",
          "data": {
            "text/html": [
              "<div>\n",
              "<style scoped>\n",
              "    .dataframe tbody tr th:only-of-type {\n",
              "        vertical-align: middle;\n",
              "    }\n",
              "\n",
              "    .dataframe tbody tr th {\n",
              "        vertical-align: top;\n",
              "    }\n",
              "\n",
              "    .dataframe thead th {\n",
              "        text-align: right;\n",
              "    }\n",
              "</style>\n",
              "<table border=\"1\" class=\"dataframe\">\n",
              "  <thead>\n",
              "    <tr style=\"text-align: right;\">\n",
              "      <th></th>\n",
              "      <th>날짜</th>\n",
              "      <th>삼성전자</th>\n",
              "      <th>LG전자</th>\n",
              "    </tr>\n",
              "  </thead>\n",
              "  <tbody>\n",
              "    <tr>\n",
              "      <th>4</th>\n",
              "      <td>2017-02</td>\n",
              "      <td>12195995</td>\n",
              "      <td>4220130</td>\n",
              "    </tr>\n",
              "    <tr>\n",
              "      <th>5</th>\n",
              "      <td>2017-03</td>\n",
              "      <td>12922589</td>\n",
              "      <td>14147994</td>\n",
              "    </tr>\n",
              "  </tbody>\n",
              "</table>\n",
              "</div>"
            ],
            "text/plain": [
              "        날짜      삼성전자      LG전자\n",
              "4  2017-02  12195995   4220130\n",
              "5  2017-03  12922589  14147994"
            ]
          },
          "metadata": {
            "tags": []
          },
          "execution_count": 11
        }
      ]
    },
    {
      "cell_type": "code",
      "metadata": {
        "slideshow": {
          "slide_type": "-"
        },
        "id": "HyHCbTETEE8V",
        "colab_type": "code",
        "colab": {},
        "outputId": "92eaa63f-c5af-4e3d-c77f-020392210b83"
      },
      "source": [
        "# 행(row) 수 (df.shape[0] 와 동일하다)\n",
        "len(df)"
      ],
      "execution_count": 0,
      "outputs": [
        {
          "output_type": "execute_result",
          "data": {
            "text/plain": [
              "6"
            ]
          },
          "metadata": {
            "tags": []
          },
          "execution_count": 12
        }
      ]
    },
    {
      "cell_type": "markdown",
      "metadata": {
        "id": "3vIr3WZAEE8Z",
        "colab_type": "text"
      },
      "source": [
        "# 요약 통계량\n",
        "* df.describe() - 모든 컬럼의 기술통계(descriptive stats) 값"
      ]
    },
    {
      "cell_type": "code",
      "metadata": {
        "id": "HS5KYUStEE8b",
        "colab_type": "code",
        "colab": {},
        "outputId": "49443d1a-2430-40ee-c69c-9d8ca3215df2"
      },
      "source": [
        "# 모든 컬럼의 기술통계(descriptive stats) 값\n",
        "df.describe()"
      ],
      "execution_count": 0,
      "outputs": [
        {
          "output_type": "execute_result",
          "data": {
            "text/html": [
              "<div>\n",
              "<style scoped>\n",
              "    .dataframe tbody tr th:only-of-type {\n",
              "        vertical-align: middle;\n",
              "    }\n",
              "\n",
              "    .dataframe tbody tr th {\n",
              "        vertical-align: top;\n",
              "    }\n",
              "\n",
              "    .dataframe thead th {\n",
              "        text-align: right;\n",
              "    }\n",
              "</style>\n",
              "<table border=\"1\" class=\"dataframe\">\n",
              "  <thead>\n",
              "    <tr style=\"text-align: right;\">\n",
              "      <th></th>\n",
              "      <th>삼성전자</th>\n",
              "      <th>LG전자</th>\n",
              "    </tr>\n",
              "  </thead>\n",
              "  <tbody>\n",
              "    <tr>\n",
              "      <th>count</th>\n",
              "      <td>6.000000e+00</td>\n",
              "      <td>6.000000e+00</td>\n",
              "    </tr>\n",
              "    <tr>\n",
              "      <th>mean</th>\n",
              "      <td>1.618283e+07</td>\n",
              "      <td>1.208104e+07</td>\n",
              "    </tr>\n",
              "    <tr>\n",
              "      <th>std</th>\n",
              "      <td>5.084406e+06</td>\n",
              "      <td>5.938157e+06</td>\n",
              "    </tr>\n",
              "    <tr>\n",
              "      <th>min</th>\n",
              "      <td>1.128676e+07</td>\n",
              "      <td>4.220130e+06</td>\n",
              "    </tr>\n",
              "    <tr>\n",
              "      <th>25%</th>\n",
              "      <td>1.237764e+07</td>\n",
              "      <td>7.836661e+06</td>\n",
              "    </tr>\n",
              "    <tr>\n",
              "      <th>50%</th>\n",
              "      <td>1.442756e+07</td>\n",
              "      <td>1.387986e+07</td>\n",
              "    </tr>\n",
              "    <tr>\n",
              "      <th>75%</th>\n",
              "      <td>2.003704e+07</td>\n",
              "      <td>1.442768e+07</td>\n",
              "    </tr>\n",
              "    <tr>\n",
              "      <th>max</th>\n",
              "      <td>2.335392e+07</td>\n",
              "      <td>2.007384e+07</td>\n",
              "    </tr>\n",
              "  </tbody>\n",
              "</table>\n",
              "</div>"
            ],
            "text/plain": [
              "               삼성전자          LG전자\n",
              "count  6.000000e+00  6.000000e+00\n",
              "mean   1.618283e+07  1.208104e+07\n",
              "std    5.084406e+06  5.938157e+06\n",
              "min    1.128676e+07  4.220130e+06\n",
              "25%    1.237764e+07  7.836661e+06\n",
              "50%    1.442756e+07  1.387986e+07\n",
              "75%    2.003704e+07  1.442768e+07\n",
              "max    2.335392e+07  2.007384e+07"
            ]
          },
          "metadata": {
            "tags": []
          },
          "execution_count": 13
        }
      ]
    },
    {
      "cell_type": "markdown",
      "metadata": {
        "slideshow": {
          "slide_type": "slide"
        },
        "id": "BgF4avYmEE8e",
        "colab_type": "text"
      },
      "source": [
        "# index\n",
        "* 인덱스는 로우, 컬럼의 이름과 정보를 저장하는 객체\n",
        "* 색인은 변경할 수 없다(immutable) \n",
        "* Index, Int64Index, MultiIndex 등 다양\n",
        "* 시계열: 인덱스가 DatetimeIndex, PeriodIndex"
      ]
    },
    {
      "cell_type": "code",
      "metadata": {
        "slideshow": {
          "slide_type": "-"
        },
        "id": "T93x4ga6EE8f",
        "colab_type": "code",
        "colab": {},
        "outputId": "cd49d077-dabe-46c3-d955-e76c34246284"
      },
      "source": [
        "df.index"
      ],
      "execution_count": 0,
      "outputs": [
        {
          "output_type": "execute_result",
          "data": {
            "text/plain": [
              "RangeIndex(start=0, stop=6, step=1)"
            ]
          },
          "metadata": {
            "tags": []
          },
          "execution_count": 14
        }
      ]
    },
    {
      "cell_type": "markdown",
      "metadata": {
        "slideshow": {
          "slide_type": "slide"
        },
        "id": "YCb4HwQ1EE8j",
        "colab_type": "text"
      },
      "source": [
        "# 조회"
      ]
    },
    {
      "cell_type": "code",
      "metadata": {
        "slideshow": {
          "slide_type": "-"
        },
        "id": "sBbaTm3nEE8k",
        "colab_type": "code",
        "colab": {},
        "outputId": "216068d4-d10a-4a64-814a-d45e077f674c"
      },
      "source": [
        "df"
      ],
      "execution_count": 0,
      "outputs": [
        {
          "output_type": "execute_result",
          "data": {
            "text/html": [
              "<div>\n",
              "<style scoped>\n",
              "    .dataframe tbody tr th:only-of-type {\n",
              "        vertical-align: middle;\n",
              "    }\n",
              "\n",
              "    .dataframe tbody tr th {\n",
              "        vertical-align: top;\n",
              "    }\n",
              "\n",
              "    .dataframe thead th {\n",
              "        text-align: right;\n",
              "    }\n",
              "</style>\n",
              "<table border=\"1\" class=\"dataframe\">\n",
              "  <thead>\n",
              "    <tr style=\"text-align: right;\">\n",
              "      <th></th>\n",
              "      <th>날짜</th>\n",
              "      <th>삼성전자</th>\n",
              "      <th>LG전자</th>\n",
              "    </tr>\n",
              "  </thead>\n",
              "  <tbody>\n",
              "    <tr>\n",
              "      <th>0</th>\n",
              "      <td>2016-10</td>\n",
              "      <td>23353920</td>\n",
              "      <td>13611721</td>\n",
              "    </tr>\n",
              "    <tr>\n",
              "      <th>1</th>\n",
              "      <td>2016-11</td>\n",
              "      <td>21405206</td>\n",
              "      <td>14520911</td>\n",
              "    </tr>\n",
              "    <tr>\n",
              "      <th>2</th>\n",
              "      <td>2016-12</td>\n",
              "      <td>15932536</td>\n",
              "      <td>20073843</td>\n",
              "    </tr>\n",
              "    <tr>\n",
              "      <th>3</th>\n",
              "      <td>2017-01</td>\n",
              "      <td>11286761</td>\n",
              "      <td>5911641</td>\n",
              "    </tr>\n",
              "    <tr>\n",
              "      <th>4</th>\n",
              "      <td>2017-02</td>\n",
              "      <td>12195995</td>\n",
              "      <td>4220130</td>\n",
              "    </tr>\n",
              "    <tr>\n",
              "      <th>5</th>\n",
              "      <td>2017-03</td>\n",
              "      <td>12922589</td>\n",
              "      <td>14147994</td>\n",
              "    </tr>\n",
              "  </tbody>\n",
              "</table>\n",
              "</div>"
            ],
            "text/plain": [
              "        날짜      삼성전자      LG전자\n",
              "0  2016-10  23353920  13611721\n",
              "1  2016-11  21405206  14520911\n",
              "2  2016-12  15932536  20073843\n",
              "3  2017-01  11286761   5911641\n",
              "4  2017-02  12195995   4220130\n",
              "5  2017-03  12922589  14147994"
            ]
          },
          "metadata": {
            "tags": []
          },
          "execution_count": 15
        }
      ]
    },
    {
      "cell_type": "code",
      "metadata": {
        "slideshow": {
          "slide_type": "-"
        },
        "id": "pLZCbgIVEE8o",
        "colab_type": "code",
        "colab": {},
        "outputId": "e14b561e-ab62-471b-88a0-f4cf21f4932f"
      },
      "source": [
        "df.날짜"
      ],
      "execution_count": 0,
      "outputs": [
        {
          "output_type": "execute_result",
          "data": {
            "text/plain": [
              "0    2016-10\n",
              "1    2016-11\n",
              "2    2016-12\n",
              "3    2017-01\n",
              "4    2017-02\n",
              "5    2017-03\n",
              "Name: 날짜, dtype: object"
            ]
          },
          "metadata": {
            "tags": []
          },
          "execution_count": 16
        }
      ]
    },
    {
      "cell_type": "code",
      "metadata": {
        "slideshow": {
          "slide_type": "-"
        },
        "id": "O_xexIgHEE8r",
        "colab_type": "code",
        "colab": {},
        "outputId": "dfbaa3b3-e025-460f-e6db-855ee2fdc473"
      },
      "source": [
        "df['날짜']"
      ],
      "execution_count": 0,
      "outputs": [
        {
          "output_type": "execute_result",
          "data": {
            "text/plain": [
              "0    2016-10\n",
              "1    2016-11\n",
              "2    2016-12\n",
              "3    2017-01\n",
              "4    2017-02\n",
              "5    2017-03\n",
              "Name: 날짜, dtype: object"
            ]
          },
          "metadata": {
            "tags": []
          },
          "execution_count": 17
        }
      ]
    },
    {
      "cell_type": "markdown",
      "metadata": {
        "slideshow": {
          "slide_type": "slide"
        },
        "id": "9xsTw6nvEE8u",
        "colab_type": "text"
      },
      "source": [
        "# 컬럼 지정"
      ]
    },
    {
      "cell_type": "code",
      "metadata": {
        "slideshow": {
          "slide_type": "-"
        },
        "id": "tOfoeMmMEE8v",
        "colab_type": "code",
        "colab": {},
        "outputId": "d31c353f-94ae-4ada-8540-d6f638599154"
      },
      "source": [
        "# 컬럼 지정\n",
        "df[['날짜', '삼성전자']]"
      ],
      "execution_count": 0,
      "outputs": [
        {
          "output_type": "execute_result",
          "data": {
            "text/html": [
              "<div>\n",
              "<style scoped>\n",
              "    .dataframe tbody tr th:only-of-type {\n",
              "        vertical-align: middle;\n",
              "    }\n",
              "\n",
              "    .dataframe tbody tr th {\n",
              "        vertical-align: top;\n",
              "    }\n",
              "\n",
              "    .dataframe thead th {\n",
              "        text-align: right;\n",
              "    }\n",
              "</style>\n",
              "<table border=\"1\" class=\"dataframe\">\n",
              "  <thead>\n",
              "    <tr style=\"text-align: right;\">\n",
              "      <th></th>\n",
              "      <th>날짜</th>\n",
              "      <th>삼성전자</th>\n",
              "    </tr>\n",
              "  </thead>\n",
              "  <tbody>\n",
              "    <tr>\n",
              "      <th>0</th>\n",
              "      <td>2016-10</td>\n",
              "      <td>23353920</td>\n",
              "    </tr>\n",
              "    <tr>\n",
              "      <th>1</th>\n",
              "      <td>2016-11</td>\n",
              "      <td>21405206</td>\n",
              "    </tr>\n",
              "    <tr>\n",
              "      <th>2</th>\n",
              "      <td>2016-12</td>\n",
              "      <td>15932536</td>\n",
              "    </tr>\n",
              "    <tr>\n",
              "      <th>3</th>\n",
              "      <td>2017-01</td>\n",
              "      <td>11286761</td>\n",
              "    </tr>\n",
              "    <tr>\n",
              "      <th>4</th>\n",
              "      <td>2017-02</td>\n",
              "      <td>12195995</td>\n",
              "    </tr>\n",
              "    <tr>\n",
              "      <th>5</th>\n",
              "      <td>2017-03</td>\n",
              "      <td>12922589</td>\n",
              "    </tr>\n",
              "  </tbody>\n",
              "</table>\n",
              "</div>"
            ],
            "text/plain": [
              "        날짜      삼성전자\n",
              "0  2016-10  23353920\n",
              "1  2016-11  21405206\n",
              "2  2016-12  15932536\n",
              "3  2017-01  11286761\n",
              "4  2017-02  12195995\n",
              "5  2017-03  12922589"
            ]
          },
          "metadata": {
            "tags": []
          },
          "execution_count": 18
        }
      ]
    },
    {
      "cell_type": "markdown",
      "metadata": {
        "slideshow": {
          "slide_type": "slide"
        },
        "id": "IRiCtb5oEE8y",
        "colab_type": "text"
      },
      "source": [
        "# 위치 기반 조회 - df.iloc()"
      ]
    },
    {
      "cell_type": "code",
      "metadata": {
        "slideshow": {
          "slide_type": "-"
        },
        "id": "3u1XiltIEE8z",
        "colab_type": "code",
        "colab": {},
        "outputId": "0e7907bd-c691-499b-d8f0-6acc63dfcbe2"
      },
      "source": [
        "# 1 행(두번째 행)\n",
        "df.iloc[1]"
      ],
      "execution_count": 0,
      "outputs": [
        {
          "output_type": "execute_result",
          "data": {
            "text/plain": [
              "날짜       2016-11\n",
              "삼성전자    21405206\n",
              "LG전자    14520911\n",
              "Name: 1, dtype: object"
            ]
          },
          "metadata": {
            "tags": []
          },
          "execution_count": 19
        }
      ]
    },
    {
      "cell_type": "code",
      "metadata": {
        "slideshow": {
          "slide_type": "-"
        },
        "id": "-2JNEmWYEE8_",
        "colab_type": "code",
        "colab": {},
        "outputId": "2c6dea63-7ba9-4c7b-d520-e93c7b28b75e"
      },
      "source": [
        "# 1~2행\n",
        "df.iloc[1:3]"
      ],
      "execution_count": 0,
      "outputs": [
        {
          "output_type": "execute_result",
          "data": {
            "text/html": [
              "<div>\n",
              "<style scoped>\n",
              "    .dataframe tbody tr th:only-of-type {\n",
              "        vertical-align: middle;\n",
              "    }\n",
              "\n",
              "    .dataframe tbody tr th {\n",
              "        vertical-align: top;\n",
              "    }\n",
              "\n",
              "    .dataframe thead th {\n",
              "        text-align: right;\n",
              "    }\n",
              "</style>\n",
              "<table border=\"1\" class=\"dataframe\">\n",
              "  <thead>\n",
              "    <tr style=\"text-align: right;\">\n",
              "      <th></th>\n",
              "      <th>날짜</th>\n",
              "      <th>삼성전자</th>\n",
              "      <th>LG전자</th>\n",
              "    </tr>\n",
              "  </thead>\n",
              "  <tbody>\n",
              "    <tr>\n",
              "      <th>1</th>\n",
              "      <td>2016-11</td>\n",
              "      <td>21405206</td>\n",
              "      <td>14520911</td>\n",
              "    </tr>\n",
              "    <tr>\n",
              "      <th>2</th>\n",
              "      <td>2016-12</td>\n",
              "      <td>15932536</td>\n",
              "      <td>20073843</td>\n",
              "    </tr>\n",
              "  </tbody>\n",
              "</table>\n",
              "</div>"
            ],
            "text/plain": [
              "        날짜      삼성전자      LG전자\n",
              "1  2016-11  21405206  14520911\n",
              "2  2016-12  15932536  20073843"
            ]
          },
          "metadata": {
            "tags": []
          },
          "execution_count": 20
        }
      ]
    },
    {
      "cell_type": "code",
      "metadata": {
        "slideshow": {
          "slide_type": "-"
        },
        "id": "Cbi2OF2DEE9C",
        "colab_type": "code",
        "colab": {},
        "outputId": "d127e749-afd2-4d7d-f759-072692c47d8d"
      },
      "source": [
        "#첫번째 행(row), 첫번째 열(column)\n",
        "df.iloc[0,0]"
      ],
      "execution_count": 0,
      "outputs": [
        {
          "output_type": "execute_result",
          "data": {
            "text/plain": [
              "'2016-10'"
            ]
          },
          "metadata": {
            "tags": []
          },
          "execution_count": 21
        }
      ]
    },
    {
      "cell_type": "code",
      "metadata": {
        "slideshow": {
          "slide_type": "-"
        },
        "id": "-o0MrIgsEE9F",
        "colab_type": "code",
        "colab": {},
        "outputId": "b8f17d08-bfd8-4622-cc8a-4d7565a146d3"
      },
      "source": [
        "# 처음 4개 행(row), 처음 3개 열(column)\n",
        "df.iloc[0:4, 0:2]"
      ],
      "execution_count": 0,
      "outputs": [
        {
          "output_type": "execute_result",
          "data": {
            "text/html": [
              "<div>\n",
              "<style scoped>\n",
              "    .dataframe tbody tr th:only-of-type {\n",
              "        vertical-align: middle;\n",
              "    }\n",
              "\n",
              "    .dataframe tbody tr th {\n",
              "        vertical-align: top;\n",
              "    }\n",
              "\n",
              "    .dataframe thead th {\n",
              "        text-align: right;\n",
              "    }\n",
              "</style>\n",
              "<table border=\"1\" class=\"dataframe\">\n",
              "  <thead>\n",
              "    <tr style=\"text-align: right;\">\n",
              "      <th></th>\n",
              "      <th>날짜</th>\n",
              "      <th>삼성전자</th>\n",
              "    </tr>\n",
              "  </thead>\n",
              "  <tbody>\n",
              "    <tr>\n",
              "      <th>0</th>\n",
              "      <td>2016-10</td>\n",
              "      <td>23353920</td>\n",
              "    </tr>\n",
              "    <tr>\n",
              "      <th>1</th>\n",
              "      <td>2016-11</td>\n",
              "      <td>21405206</td>\n",
              "    </tr>\n",
              "    <tr>\n",
              "      <th>2</th>\n",
              "      <td>2016-12</td>\n",
              "      <td>15932536</td>\n",
              "    </tr>\n",
              "    <tr>\n",
              "      <th>3</th>\n",
              "      <td>2017-01</td>\n",
              "      <td>11286761</td>\n",
              "    </tr>\n",
              "  </tbody>\n",
              "</table>\n",
              "</div>"
            ],
            "text/plain": [
              "        날짜      삼성전자\n",
              "0  2016-10  23353920\n",
              "1  2016-11  21405206\n",
              "2  2016-12  15932536\n",
              "3  2017-01  11286761"
            ]
          },
          "metadata": {
            "tags": []
          },
          "execution_count": 22
        }
      ]
    },
    {
      "cell_type": "markdown",
      "metadata": {
        "slideshow": {
          "slide_type": "slide"
        },
        "id": "BDbGyrEHEE9I",
        "colab_type": "text"
      },
      "source": [
        "# 컬럼 추가"
      ]
    },
    {
      "cell_type": "code",
      "metadata": {
        "slideshow": {
          "slide_type": "-"
        },
        "id": "nINs20OfEE9K",
        "colab_type": "code",
        "colab": {},
        "outputId": "8e20d6de-8458-4c63-e047-77f64abf5b93"
      },
      "source": [
        "df['차이'] = 0\n",
        "df"
      ],
      "execution_count": 0,
      "outputs": [
        {
          "output_type": "execute_result",
          "data": {
            "text/html": [
              "<div>\n",
              "<style scoped>\n",
              "    .dataframe tbody tr th:only-of-type {\n",
              "        vertical-align: middle;\n",
              "    }\n",
              "\n",
              "    .dataframe tbody tr th {\n",
              "        vertical-align: top;\n",
              "    }\n",
              "\n",
              "    .dataframe thead th {\n",
              "        text-align: right;\n",
              "    }\n",
              "</style>\n",
              "<table border=\"1\" class=\"dataframe\">\n",
              "  <thead>\n",
              "    <tr style=\"text-align: right;\">\n",
              "      <th></th>\n",
              "      <th>날짜</th>\n",
              "      <th>삼성전자</th>\n",
              "      <th>LG전자</th>\n",
              "      <th>차이</th>\n",
              "    </tr>\n",
              "  </thead>\n",
              "  <tbody>\n",
              "    <tr>\n",
              "      <th>0</th>\n",
              "      <td>2016-10</td>\n",
              "      <td>23353920</td>\n",
              "      <td>13611721</td>\n",
              "      <td>0</td>\n",
              "    </tr>\n",
              "    <tr>\n",
              "      <th>1</th>\n",
              "      <td>2016-11</td>\n",
              "      <td>21405206</td>\n",
              "      <td>14520911</td>\n",
              "      <td>0</td>\n",
              "    </tr>\n",
              "    <tr>\n",
              "      <th>2</th>\n",
              "      <td>2016-12</td>\n",
              "      <td>15932536</td>\n",
              "      <td>20073843</td>\n",
              "      <td>0</td>\n",
              "    </tr>\n",
              "    <tr>\n",
              "      <th>3</th>\n",
              "      <td>2017-01</td>\n",
              "      <td>11286761</td>\n",
              "      <td>5911641</td>\n",
              "      <td>0</td>\n",
              "    </tr>\n",
              "    <tr>\n",
              "      <th>4</th>\n",
              "      <td>2017-02</td>\n",
              "      <td>12195995</td>\n",
              "      <td>4220130</td>\n",
              "      <td>0</td>\n",
              "    </tr>\n",
              "    <tr>\n",
              "      <th>5</th>\n",
              "      <td>2017-03</td>\n",
              "      <td>12922589</td>\n",
              "      <td>14147994</td>\n",
              "      <td>0</td>\n",
              "    </tr>\n",
              "  </tbody>\n",
              "</table>\n",
              "</div>"
            ],
            "text/plain": [
              "        날짜      삼성전자      LG전자  차이\n",
              "0  2016-10  23353920  13611721   0\n",
              "1  2016-11  21405206  14520911   0\n",
              "2  2016-12  15932536  20073843   0\n",
              "3  2017-01  11286761   5911641   0\n",
              "4  2017-02  12195995   4220130   0\n",
              "5  2017-03  12922589  14147994   0"
            ]
          },
          "metadata": {
            "tags": []
          },
          "execution_count": 23
        }
      ]
    },
    {
      "cell_type": "markdown",
      "metadata": {
        "slideshow": {
          "slide_type": "slide"
        },
        "id": "9Bv83K4nEE9N",
        "colab_type": "text"
      },
      "source": [
        "# 컬럼간 연산"
      ]
    },
    {
      "cell_type": "code",
      "metadata": {
        "slideshow": {
          "slide_type": "-"
        },
        "id": "J8y79Q4eEE9P",
        "colab_type": "code",
        "colab": {},
        "outputId": "96e4ca30-160a-48a3-9901-db603a4d6cfd"
      },
      "source": [
        "df['차이'] = df['삼성전자'] - df['LG전자']\n",
        "df"
      ],
      "execution_count": 0,
      "outputs": [
        {
          "output_type": "execute_result",
          "data": {
            "text/html": [
              "<div>\n",
              "<style scoped>\n",
              "    .dataframe tbody tr th:only-of-type {\n",
              "        vertical-align: middle;\n",
              "    }\n",
              "\n",
              "    .dataframe tbody tr th {\n",
              "        vertical-align: top;\n",
              "    }\n",
              "\n",
              "    .dataframe thead th {\n",
              "        text-align: right;\n",
              "    }\n",
              "</style>\n",
              "<table border=\"1\" class=\"dataframe\">\n",
              "  <thead>\n",
              "    <tr style=\"text-align: right;\">\n",
              "      <th></th>\n",
              "      <th>날짜</th>\n",
              "      <th>삼성전자</th>\n",
              "      <th>LG전자</th>\n",
              "      <th>차이</th>\n",
              "    </tr>\n",
              "  </thead>\n",
              "  <tbody>\n",
              "    <tr>\n",
              "      <th>0</th>\n",
              "      <td>2016-10</td>\n",
              "      <td>23353920</td>\n",
              "      <td>13611721</td>\n",
              "      <td>9742199</td>\n",
              "    </tr>\n",
              "    <tr>\n",
              "      <th>1</th>\n",
              "      <td>2016-11</td>\n",
              "      <td>21405206</td>\n",
              "      <td>14520911</td>\n",
              "      <td>6884295</td>\n",
              "    </tr>\n",
              "    <tr>\n",
              "      <th>2</th>\n",
              "      <td>2016-12</td>\n",
              "      <td>15932536</td>\n",
              "      <td>20073843</td>\n",
              "      <td>-4141307</td>\n",
              "    </tr>\n",
              "    <tr>\n",
              "      <th>3</th>\n",
              "      <td>2017-01</td>\n",
              "      <td>11286761</td>\n",
              "      <td>5911641</td>\n",
              "      <td>5375120</td>\n",
              "    </tr>\n",
              "    <tr>\n",
              "      <th>4</th>\n",
              "      <td>2017-02</td>\n",
              "      <td>12195995</td>\n",
              "      <td>4220130</td>\n",
              "      <td>7975865</td>\n",
              "    </tr>\n",
              "    <tr>\n",
              "      <th>5</th>\n",
              "      <td>2017-03</td>\n",
              "      <td>12922589</td>\n",
              "      <td>14147994</td>\n",
              "      <td>-1225405</td>\n",
              "    </tr>\n",
              "  </tbody>\n",
              "</table>\n",
              "</div>"
            ],
            "text/plain": [
              "        날짜      삼성전자      LG전자       차이\n",
              "0  2016-10  23353920  13611721  9742199\n",
              "1  2016-11  21405206  14520911  6884295\n",
              "2  2016-12  15932536  20073843 -4141307\n",
              "3  2017-01  11286761   5911641  5375120\n",
              "4  2017-02  12195995   4220130  7975865\n",
              "5  2017-03  12922589  14147994 -1225405"
            ]
          },
          "metadata": {
            "tags": []
          },
          "execution_count": 24
        }
      ]
    },
    {
      "cell_type": "markdown",
      "metadata": {
        "slideshow": {
          "slide_type": "slide"
        },
        "id": "KuIyzMrpEE9T",
        "colab_type": "text"
      },
      "source": [
        "# 컬럼 단위 데이터 변경\n",
        "단위 '천원', 100000로 나누어 억원'으로 단위 변경"
      ]
    },
    {
      "cell_type": "code",
      "metadata": {
        "slideshow": {
          "slide_type": "-"
        },
        "id": "icXV8hSoEE9U",
        "colab_type": "code",
        "colab": {},
        "outputId": "1e84111a-1c05-491d-e87b-6f7e57301b12"
      },
      "source": [
        "df['삼성전자'] =  df['삼성전자'] / 100000.\n",
        "df['LG전자'] =  df['LG전자'] / 100000.\n",
        "df['차이'] =  df['차이'] / 100000.\n",
        "df"
      ],
      "execution_count": 0,
      "outputs": [
        {
          "output_type": "execute_result",
          "data": {
            "text/html": [
              "<div>\n",
              "<style scoped>\n",
              "    .dataframe tbody tr th:only-of-type {\n",
              "        vertical-align: middle;\n",
              "    }\n",
              "\n",
              "    .dataframe tbody tr th {\n",
              "        vertical-align: top;\n",
              "    }\n",
              "\n",
              "    .dataframe thead th {\n",
              "        text-align: right;\n",
              "    }\n",
              "</style>\n",
              "<table border=\"1\" class=\"dataframe\">\n",
              "  <thead>\n",
              "    <tr style=\"text-align: right;\">\n",
              "      <th></th>\n",
              "      <th>날짜</th>\n",
              "      <th>삼성전자</th>\n",
              "      <th>LG전자</th>\n",
              "      <th>차이</th>\n",
              "    </tr>\n",
              "  </thead>\n",
              "  <tbody>\n",
              "    <tr>\n",
              "      <th>0</th>\n",
              "      <td>2016-10</td>\n",
              "      <td>233.53920</td>\n",
              "      <td>136.11721</td>\n",
              "      <td>97.42199</td>\n",
              "    </tr>\n",
              "    <tr>\n",
              "      <th>1</th>\n",
              "      <td>2016-11</td>\n",
              "      <td>214.05206</td>\n",
              "      <td>145.20911</td>\n",
              "      <td>68.84295</td>\n",
              "    </tr>\n",
              "    <tr>\n",
              "      <th>2</th>\n",
              "      <td>2016-12</td>\n",
              "      <td>159.32536</td>\n",
              "      <td>200.73843</td>\n",
              "      <td>-41.41307</td>\n",
              "    </tr>\n",
              "    <tr>\n",
              "      <th>3</th>\n",
              "      <td>2017-01</td>\n",
              "      <td>112.86761</td>\n",
              "      <td>59.11641</td>\n",
              "      <td>53.75120</td>\n",
              "    </tr>\n",
              "    <tr>\n",
              "      <th>4</th>\n",
              "      <td>2017-02</td>\n",
              "      <td>121.95995</td>\n",
              "      <td>42.20130</td>\n",
              "      <td>79.75865</td>\n",
              "    </tr>\n",
              "    <tr>\n",
              "      <th>5</th>\n",
              "      <td>2017-03</td>\n",
              "      <td>129.22589</td>\n",
              "      <td>141.47994</td>\n",
              "      <td>-12.25405</td>\n",
              "    </tr>\n",
              "  </tbody>\n",
              "</table>\n",
              "</div>"
            ],
            "text/plain": [
              "        날짜       삼성전자       LG전자        차이\n",
              "0  2016-10  233.53920  136.11721  97.42199\n",
              "1  2016-11  214.05206  145.20911  68.84295\n",
              "2  2016-12  159.32536  200.73843 -41.41307\n",
              "3  2017-01  112.86761   59.11641  53.75120\n",
              "4  2017-02  121.95995   42.20130  79.75865\n",
              "5  2017-03  129.22589  141.47994 -12.25405"
            ]
          },
          "metadata": {
            "tags": []
          },
          "execution_count": 25
        }
      ]
    },
    {
      "cell_type": "markdown",
      "metadata": {
        "slideshow": {
          "slide_type": "slide"
        },
        "id": "hjQUM4YeEE9X",
        "colab_type": "text"
      },
      "source": [
        "# 컬럼간 연산"
      ]
    },
    {
      "cell_type": "code",
      "metadata": {
        "slideshow": {
          "slide_type": "-"
        },
        "id": "c61BhQlZEE9Y",
        "colab_type": "code",
        "colab": {},
        "outputId": "e1614017-eb2f-4ebd-e75b-6ba54460a2a1"
      },
      "source": [
        "import numpy as np\n",
        "\n",
        "df['합계'] = np.round(df['삼성전자'] + df['LG전자'], 1)\n",
        "df"
      ],
      "execution_count": 0,
      "outputs": [
        {
          "output_type": "execute_result",
          "data": {
            "text/html": [
              "<div>\n",
              "<style scoped>\n",
              "    .dataframe tbody tr th:only-of-type {\n",
              "        vertical-align: middle;\n",
              "    }\n",
              "\n",
              "    .dataframe tbody tr th {\n",
              "        vertical-align: top;\n",
              "    }\n",
              "\n",
              "    .dataframe thead th {\n",
              "        text-align: right;\n",
              "    }\n",
              "</style>\n",
              "<table border=\"1\" class=\"dataframe\">\n",
              "  <thead>\n",
              "    <tr style=\"text-align: right;\">\n",
              "      <th></th>\n",
              "      <th>날짜</th>\n",
              "      <th>삼성전자</th>\n",
              "      <th>LG전자</th>\n",
              "      <th>차이</th>\n",
              "      <th>합계</th>\n",
              "    </tr>\n",
              "  </thead>\n",
              "  <tbody>\n",
              "    <tr>\n",
              "      <th>0</th>\n",
              "      <td>2016-10</td>\n",
              "      <td>233.53920</td>\n",
              "      <td>136.11721</td>\n",
              "      <td>97.42199</td>\n",
              "      <td>369.7</td>\n",
              "    </tr>\n",
              "    <tr>\n",
              "      <th>1</th>\n",
              "      <td>2016-11</td>\n",
              "      <td>214.05206</td>\n",
              "      <td>145.20911</td>\n",
              "      <td>68.84295</td>\n",
              "      <td>359.3</td>\n",
              "    </tr>\n",
              "    <tr>\n",
              "      <th>2</th>\n",
              "      <td>2016-12</td>\n",
              "      <td>159.32536</td>\n",
              "      <td>200.73843</td>\n",
              "      <td>-41.41307</td>\n",
              "      <td>360.1</td>\n",
              "    </tr>\n",
              "    <tr>\n",
              "      <th>3</th>\n",
              "      <td>2017-01</td>\n",
              "      <td>112.86761</td>\n",
              "      <td>59.11641</td>\n",
              "      <td>53.75120</td>\n",
              "      <td>172.0</td>\n",
              "    </tr>\n",
              "    <tr>\n",
              "      <th>4</th>\n",
              "      <td>2017-02</td>\n",
              "      <td>121.95995</td>\n",
              "      <td>42.20130</td>\n",
              "      <td>79.75865</td>\n",
              "      <td>164.2</td>\n",
              "    </tr>\n",
              "    <tr>\n",
              "      <th>5</th>\n",
              "      <td>2017-03</td>\n",
              "      <td>129.22589</td>\n",
              "      <td>141.47994</td>\n",
              "      <td>-12.25405</td>\n",
              "      <td>270.7</td>\n",
              "    </tr>\n",
              "  </tbody>\n",
              "</table>\n",
              "</div>"
            ],
            "text/plain": [
              "        날짜       삼성전자       LG전자        차이     합계\n",
              "0  2016-10  233.53920  136.11721  97.42199  369.7\n",
              "1  2016-11  214.05206  145.20911  68.84295  359.3\n",
              "2  2016-12  159.32536  200.73843 -41.41307  360.1\n",
              "3  2017-01  112.86761   59.11641  53.75120  172.0\n",
              "4  2017-02  121.95995   42.20130  79.75865  164.2\n",
              "5  2017-03  129.22589  141.47994 -12.25405  270.7"
            ]
          },
          "metadata": {
            "tags": []
          },
          "execution_count": 26
        }
      ]
    },
    {
      "cell_type": "markdown",
      "metadata": {
        "slideshow": {
          "slide_type": "slide"
        },
        "id": "QXkMvazhEE9a",
        "colab_type": "text"
      },
      "source": [
        "# 로우(row) 삭제\n",
        "로우(row) 삭제 DataFrame.drop() 을 사용"
      ]
    },
    {
      "cell_type": "code",
      "metadata": {
        "slideshow": {
          "slide_type": "-"
        },
        "id": "zNhxiPXsEE9b",
        "colab_type": "code",
        "colab": {},
        "outputId": "2aaf1383-95ca-4d6a-e198-c22e62736513"
      },
      "source": [
        "r_df = df.drop([4,5]) # axis=0 가 생략되어 있다.\n",
        "r_df"
      ],
      "execution_count": 0,
      "outputs": [
        {
          "output_type": "execute_result",
          "data": {
            "text/html": [
              "<div>\n",
              "<style scoped>\n",
              "    .dataframe tbody tr th:only-of-type {\n",
              "        vertical-align: middle;\n",
              "    }\n",
              "\n",
              "    .dataframe tbody tr th {\n",
              "        vertical-align: top;\n",
              "    }\n",
              "\n",
              "    .dataframe thead th {\n",
              "        text-align: right;\n",
              "    }\n",
              "</style>\n",
              "<table border=\"1\" class=\"dataframe\">\n",
              "  <thead>\n",
              "    <tr style=\"text-align: right;\">\n",
              "      <th></th>\n",
              "      <th>날짜</th>\n",
              "      <th>삼성전자</th>\n",
              "      <th>LG전자</th>\n",
              "      <th>차이</th>\n",
              "      <th>합계</th>\n",
              "    </tr>\n",
              "  </thead>\n",
              "  <tbody>\n",
              "    <tr>\n",
              "      <th>0</th>\n",
              "      <td>2016-10</td>\n",
              "      <td>233.53920</td>\n",
              "      <td>136.11721</td>\n",
              "      <td>97.42199</td>\n",
              "      <td>369.7</td>\n",
              "    </tr>\n",
              "    <tr>\n",
              "      <th>1</th>\n",
              "      <td>2016-11</td>\n",
              "      <td>214.05206</td>\n",
              "      <td>145.20911</td>\n",
              "      <td>68.84295</td>\n",
              "      <td>359.3</td>\n",
              "    </tr>\n",
              "    <tr>\n",
              "      <th>2</th>\n",
              "      <td>2016-12</td>\n",
              "      <td>159.32536</td>\n",
              "      <td>200.73843</td>\n",
              "      <td>-41.41307</td>\n",
              "      <td>360.1</td>\n",
              "    </tr>\n",
              "    <tr>\n",
              "      <th>3</th>\n",
              "      <td>2017-01</td>\n",
              "      <td>112.86761</td>\n",
              "      <td>59.11641</td>\n",
              "      <td>53.75120</td>\n",
              "      <td>172.0</td>\n",
              "    </tr>\n",
              "  </tbody>\n",
              "</table>\n",
              "</div>"
            ],
            "text/plain": [
              "        날짜       삼성전자       LG전자        차이     합계\n",
              "0  2016-10  233.53920  136.11721  97.42199  369.7\n",
              "1  2016-11  214.05206  145.20911  68.84295  359.3\n",
              "2  2016-12  159.32536  200.73843 -41.41307  360.1\n",
              "3  2017-01  112.86761   59.11641  53.75120  172.0"
            ]
          },
          "metadata": {
            "tags": []
          },
          "execution_count": 27
        }
      ]
    },
    {
      "cell_type": "markdown",
      "metadata": {
        "slideshow": {
          "slide_type": "slide"
        },
        "id": "gPGCAcXrEE9e",
        "colab_type": "text"
      },
      "source": [
        "# 컬럼 삭제\n",
        "drop 사용하면서 축(axis)를 지정한다."
      ]
    },
    {
      "cell_type": "code",
      "metadata": {
        "slideshow": {
          "slide_type": "-"
        },
        "id": "I0UyyRFcEE9e",
        "colab_type": "code",
        "colab": {},
        "outputId": "5caa6cf2-af72-4d1e-bff9-a4c9079ac326"
      },
      "source": [
        "r_df = df.drop(['차이'], axis=1)\n",
        "r_df"
      ],
      "execution_count": 0,
      "outputs": [
        {
          "output_type": "execute_result",
          "data": {
            "text/html": [
              "<div>\n",
              "<style scoped>\n",
              "    .dataframe tbody tr th:only-of-type {\n",
              "        vertical-align: middle;\n",
              "    }\n",
              "\n",
              "    .dataframe tbody tr th {\n",
              "        vertical-align: top;\n",
              "    }\n",
              "\n",
              "    .dataframe thead th {\n",
              "        text-align: right;\n",
              "    }\n",
              "</style>\n",
              "<table border=\"1\" class=\"dataframe\">\n",
              "  <thead>\n",
              "    <tr style=\"text-align: right;\">\n",
              "      <th></th>\n",
              "      <th>날짜</th>\n",
              "      <th>삼성전자</th>\n",
              "      <th>LG전자</th>\n",
              "      <th>합계</th>\n",
              "    </tr>\n",
              "  </thead>\n",
              "  <tbody>\n",
              "    <tr>\n",
              "      <th>0</th>\n",
              "      <td>2016-10</td>\n",
              "      <td>233.53920</td>\n",
              "      <td>136.11721</td>\n",
              "      <td>369.7</td>\n",
              "    </tr>\n",
              "    <tr>\n",
              "      <th>1</th>\n",
              "      <td>2016-11</td>\n",
              "      <td>214.05206</td>\n",
              "      <td>145.20911</td>\n",
              "      <td>359.3</td>\n",
              "    </tr>\n",
              "    <tr>\n",
              "      <th>2</th>\n",
              "      <td>2016-12</td>\n",
              "      <td>159.32536</td>\n",
              "      <td>200.73843</td>\n",
              "      <td>360.1</td>\n",
              "    </tr>\n",
              "    <tr>\n",
              "      <th>3</th>\n",
              "      <td>2017-01</td>\n",
              "      <td>112.86761</td>\n",
              "      <td>59.11641</td>\n",
              "      <td>172.0</td>\n",
              "    </tr>\n",
              "    <tr>\n",
              "      <th>4</th>\n",
              "      <td>2017-02</td>\n",
              "      <td>121.95995</td>\n",
              "      <td>42.20130</td>\n",
              "      <td>164.2</td>\n",
              "    </tr>\n",
              "    <tr>\n",
              "      <th>5</th>\n",
              "      <td>2017-03</td>\n",
              "      <td>129.22589</td>\n",
              "      <td>141.47994</td>\n",
              "      <td>270.7</td>\n",
              "    </tr>\n",
              "  </tbody>\n",
              "</table>\n",
              "</div>"
            ],
            "text/plain": [
              "        날짜       삼성전자       LG전자     합계\n",
              "0  2016-10  233.53920  136.11721  369.7\n",
              "1  2016-11  214.05206  145.20911  359.3\n",
              "2  2016-12  159.32536  200.73843  360.1\n",
              "3  2017-01  112.86761   59.11641  172.0\n",
              "4  2017-02  121.95995   42.20130  164.2\n",
              "5  2017-03  129.22589  141.47994  270.7"
            ]
          },
          "metadata": {
            "tags": []
          },
          "execution_count": 28
        }
      ]
    },
    {
      "cell_type": "code",
      "metadata": {
        "slideshow": {
          "slide_type": "-"
        },
        "id": "moqvHZk5EE9j",
        "colab_type": "code",
        "colab": {},
        "outputId": "5f14af70-7f2b-4657-cbe7-77e85cf30c42"
      },
      "source": [
        "del df['차이']\n",
        "df"
      ],
      "execution_count": 0,
      "outputs": [
        {
          "output_type": "execute_result",
          "data": {
            "text/html": [
              "<div>\n",
              "<style scoped>\n",
              "    .dataframe tbody tr th:only-of-type {\n",
              "        vertical-align: middle;\n",
              "    }\n",
              "\n",
              "    .dataframe tbody tr th {\n",
              "        vertical-align: top;\n",
              "    }\n",
              "\n",
              "    .dataframe thead th {\n",
              "        text-align: right;\n",
              "    }\n",
              "</style>\n",
              "<table border=\"1\" class=\"dataframe\">\n",
              "  <thead>\n",
              "    <tr style=\"text-align: right;\">\n",
              "      <th></th>\n",
              "      <th>날짜</th>\n",
              "      <th>삼성전자</th>\n",
              "      <th>LG전자</th>\n",
              "      <th>합계</th>\n",
              "    </tr>\n",
              "  </thead>\n",
              "  <tbody>\n",
              "    <tr>\n",
              "      <th>0</th>\n",
              "      <td>2016-10</td>\n",
              "      <td>233.53920</td>\n",
              "      <td>136.11721</td>\n",
              "      <td>369.7</td>\n",
              "    </tr>\n",
              "    <tr>\n",
              "      <th>1</th>\n",
              "      <td>2016-11</td>\n",
              "      <td>214.05206</td>\n",
              "      <td>145.20911</td>\n",
              "      <td>359.3</td>\n",
              "    </tr>\n",
              "    <tr>\n",
              "      <th>2</th>\n",
              "      <td>2016-12</td>\n",
              "      <td>159.32536</td>\n",
              "      <td>200.73843</td>\n",
              "      <td>360.1</td>\n",
              "    </tr>\n",
              "    <tr>\n",
              "      <th>3</th>\n",
              "      <td>2017-01</td>\n",
              "      <td>112.86761</td>\n",
              "      <td>59.11641</td>\n",
              "      <td>172.0</td>\n",
              "    </tr>\n",
              "    <tr>\n",
              "      <th>4</th>\n",
              "      <td>2017-02</td>\n",
              "      <td>121.95995</td>\n",
              "      <td>42.20130</td>\n",
              "      <td>164.2</td>\n",
              "    </tr>\n",
              "    <tr>\n",
              "      <th>5</th>\n",
              "      <td>2017-03</td>\n",
              "      <td>129.22589</td>\n",
              "      <td>141.47994</td>\n",
              "      <td>270.7</td>\n",
              "    </tr>\n",
              "  </tbody>\n",
              "</table>\n",
              "</div>"
            ],
            "text/plain": [
              "        날짜       삼성전자       LG전자     합계\n",
              "0  2016-10  233.53920  136.11721  369.7\n",
              "1  2016-11  214.05206  145.20911  359.3\n",
              "2  2016-12  159.32536  200.73843  360.1\n",
              "3  2017-01  112.86761   59.11641  172.0\n",
              "4  2017-02  121.95995   42.20130  164.2\n",
              "5  2017-03  129.22589  141.47994  270.7"
            ]
          },
          "metadata": {
            "tags": []
          },
          "execution_count": 29
        }
      ]
    },
    {
      "cell_type": "markdown",
      "metadata": {
        "slideshow": {
          "slide_type": "slide"
        },
        "id": "3beUobsJEE9o",
        "colab_type": "text"
      },
      "source": [
        "## DataFame 사본 만들기\n",
        "DataFrame.copy() 로 복사본을 생성할 수 있다. "
      ]
    },
    {
      "cell_type": "code",
      "metadata": {
        "slideshow": {
          "slide_type": "-"
        },
        "id": "P4n2A-3_EE9p",
        "colab_type": "code",
        "colab": {},
        "outputId": "f3f9dd73-4313-4ccb-8cd9-e5f4e9f484b9"
      },
      "source": [
        "df2 = df.copy()\n",
        "df2"
      ],
      "execution_count": 0,
      "outputs": [
        {
          "output_type": "execute_result",
          "data": {
            "text/html": [
              "<div>\n",
              "<style scoped>\n",
              "    .dataframe tbody tr th:only-of-type {\n",
              "        vertical-align: middle;\n",
              "    }\n",
              "\n",
              "    .dataframe tbody tr th {\n",
              "        vertical-align: top;\n",
              "    }\n",
              "\n",
              "    .dataframe thead th {\n",
              "        text-align: right;\n",
              "    }\n",
              "</style>\n",
              "<table border=\"1\" class=\"dataframe\">\n",
              "  <thead>\n",
              "    <tr style=\"text-align: right;\">\n",
              "      <th></th>\n",
              "      <th>날짜</th>\n",
              "      <th>삼성전자</th>\n",
              "      <th>LG전자</th>\n",
              "      <th>합계</th>\n",
              "    </tr>\n",
              "  </thead>\n",
              "  <tbody>\n",
              "    <tr>\n",
              "      <th>0</th>\n",
              "      <td>2016-10</td>\n",
              "      <td>233.53920</td>\n",
              "      <td>136.11721</td>\n",
              "      <td>369.7</td>\n",
              "    </tr>\n",
              "    <tr>\n",
              "      <th>1</th>\n",
              "      <td>2016-11</td>\n",
              "      <td>214.05206</td>\n",
              "      <td>145.20911</td>\n",
              "      <td>359.3</td>\n",
              "    </tr>\n",
              "    <tr>\n",
              "      <th>2</th>\n",
              "      <td>2016-12</td>\n",
              "      <td>159.32536</td>\n",
              "      <td>200.73843</td>\n",
              "      <td>360.1</td>\n",
              "    </tr>\n",
              "    <tr>\n",
              "      <th>3</th>\n",
              "      <td>2017-01</td>\n",
              "      <td>112.86761</td>\n",
              "      <td>59.11641</td>\n",
              "      <td>172.0</td>\n",
              "    </tr>\n",
              "    <tr>\n",
              "      <th>4</th>\n",
              "      <td>2017-02</td>\n",
              "      <td>121.95995</td>\n",
              "      <td>42.20130</td>\n",
              "      <td>164.2</td>\n",
              "    </tr>\n",
              "    <tr>\n",
              "      <th>5</th>\n",
              "      <td>2017-03</td>\n",
              "      <td>129.22589</td>\n",
              "      <td>141.47994</td>\n",
              "      <td>270.7</td>\n",
              "    </tr>\n",
              "  </tbody>\n",
              "</table>\n",
              "</div>"
            ],
            "text/plain": [
              "        날짜       삼성전자       LG전자     합계\n",
              "0  2016-10  233.53920  136.11721  369.7\n",
              "1  2016-11  214.05206  145.20911  359.3\n",
              "2  2016-12  159.32536  200.73843  360.1\n",
              "3  2017-01  112.86761   59.11641  172.0\n",
              "4  2017-02  121.95995   42.20130  164.2\n",
              "5  2017-03  129.22589  141.47994  270.7"
            ]
          },
          "metadata": {
            "tags": []
          },
          "execution_count": 30
        }
      ]
    },
    {
      "cell_type": "markdown",
      "metadata": {
        "slideshow": {
          "slide_type": "slide"
        },
        "id": "2ZOdDrDSEE9r",
        "colab_type": "text"
      },
      "source": [
        "# 인덱싱에 사용하는 메소드\n",
        "\n",
        "loc는 라벨로 인덱싱할 때, iloc는 정수(integer)로 인덱싱할 때 사용 한다."
      ]
    },
    {
      "cell_type": "code",
      "metadata": {
        "slideshow": {
          "slide_type": "-"
        },
        "id": "M7N2wZEeEE9s",
        "colab_type": "code",
        "colab": {},
        "outputId": "ea3d5f58-d1e8-4b6c-fb06-3c8476e0b7d0"
      },
      "source": [
        "df"
      ],
      "execution_count": 0,
      "outputs": [
        {
          "output_type": "execute_result",
          "data": {
            "text/html": [
              "<div>\n",
              "<style scoped>\n",
              "    .dataframe tbody tr th:only-of-type {\n",
              "        vertical-align: middle;\n",
              "    }\n",
              "\n",
              "    .dataframe tbody tr th {\n",
              "        vertical-align: top;\n",
              "    }\n",
              "\n",
              "    .dataframe thead th {\n",
              "        text-align: right;\n",
              "    }\n",
              "</style>\n",
              "<table border=\"1\" class=\"dataframe\">\n",
              "  <thead>\n",
              "    <tr style=\"text-align: right;\">\n",
              "      <th></th>\n",
              "      <th>날짜</th>\n",
              "      <th>삼성전자</th>\n",
              "      <th>LG전자</th>\n",
              "      <th>합계</th>\n",
              "    </tr>\n",
              "  </thead>\n",
              "  <tbody>\n",
              "    <tr>\n",
              "      <th>0</th>\n",
              "      <td>2016-10</td>\n",
              "      <td>233.53920</td>\n",
              "      <td>136.11721</td>\n",
              "      <td>369.7</td>\n",
              "    </tr>\n",
              "    <tr>\n",
              "      <th>1</th>\n",
              "      <td>2016-11</td>\n",
              "      <td>214.05206</td>\n",
              "      <td>145.20911</td>\n",
              "      <td>359.3</td>\n",
              "    </tr>\n",
              "    <tr>\n",
              "      <th>2</th>\n",
              "      <td>2016-12</td>\n",
              "      <td>159.32536</td>\n",
              "      <td>200.73843</td>\n",
              "      <td>360.1</td>\n",
              "    </tr>\n",
              "    <tr>\n",
              "      <th>3</th>\n",
              "      <td>2017-01</td>\n",
              "      <td>112.86761</td>\n",
              "      <td>59.11641</td>\n",
              "      <td>172.0</td>\n",
              "    </tr>\n",
              "    <tr>\n",
              "      <th>4</th>\n",
              "      <td>2017-02</td>\n",
              "      <td>121.95995</td>\n",
              "      <td>42.20130</td>\n",
              "      <td>164.2</td>\n",
              "    </tr>\n",
              "    <tr>\n",
              "      <th>5</th>\n",
              "      <td>2017-03</td>\n",
              "      <td>129.22589</td>\n",
              "      <td>141.47994</td>\n",
              "      <td>270.7</td>\n",
              "    </tr>\n",
              "  </tbody>\n",
              "</table>\n",
              "</div>"
            ],
            "text/plain": [
              "        날짜       삼성전자       LG전자     합계\n",
              "0  2016-10  233.53920  136.11721  369.7\n",
              "1  2016-11  214.05206  145.20911  359.3\n",
              "2  2016-12  159.32536  200.73843  360.1\n",
              "3  2017-01  112.86761   59.11641  172.0\n",
              "4  2017-02  121.95995   42.20130  164.2\n",
              "5  2017-03  129.22589  141.47994  270.7"
            ]
          },
          "metadata": {
            "tags": []
          },
          "execution_count": 31
        }
      ]
    },
    {
      "cell_type": "code",
      "metadata": {
        "slideshow": {
          "slide_type": "-"
        },
        "id": "08ASwbaZEE9v",
        "colab_type": "code",
        "colab": {},
        "outputId": "3e7eb2e2-cdb7-4481-f431-68f0ab7102d9"
      },
      "source": [
        "df.loc[2] # 2번 로우"
      ],
      "execution_count": 0,
      "outputs": [
        {
          "output_type": "execute_result",
          "data": {
            "text/plain": [
              "날짜      2016-12\n",
              "삼성전자    159.325\n",
              "LG전자    200.738\n",
              "합계        360.1\n",
              "Name: 2, dtype: object"
            ]
          },
          "metadata": {
            "tags": []
          },
          "execution_count": 32
        }
      ]
    },
    {
      "cell_type": "code",
      "metadata": {
        "slideshow": {
          "slide_type": "slide"
        },
        "id": "2i6jx9ezEE9z",
        "colab_type": "code",
        "colab": {},
        "outputId": "2adda3c0-a4e4-4d42-91e3-8fde3961e2d6"
      },
      "source": [
        "df"
      ],
      "execution_count": 0,
      "outputs": [
        {
          "output_type": "execute_result",
          "data": {
            "text/html": [
              "<div>\n",
              "<style scoped>\n",
              "    .dataframe tbody tr th:only-of-type {\n",
              "        vertical-align: middle;\n",
              "    }\n",
              "\n",
              "    .dataframe tbody tr th {\n",
              "        vertical-align: top;\n",
              "    }\n",
              "\n",
              "    .dataframe thead th {\n",
              "        text-align: right;\n",
              "    }\n",
              "</style>\n",
              "<table border=\"1\" class=\"dataframe\">\n",
              "  <thead>\n",
              "    <tr style=\"text-align: right;\">\n",
              "      <th></th>\n",
              "      <th>날짜</th>\n",
              "      <th>삼성전자</th>\n",
              "      <th>LG전자</th>\n",
              "      <th>합계</th>\n",
              "    </tr>\n",
              "  </thead>\n",
              "  <tbody>\n",
              "    <tr>\n",
              "      <th>0</th>\n",
              "      <td>2016-10</td>\n",
              "      <td>233.53920</td>\n",
              "      <td>136.11721</td>\n",
              "      <td>369.7</td>\n",
              "    </tr>\n",
              "    <tr>\n",
              "      <th>1</th>\n",
              "      <td>2016-11</td>\n",
              "      <td>214.05206</td>\n",
              "      <td>145.20911</td>\n",
              "      <td>359.3</td>\n",
              "    </tr>\n",
              "    <tr>\n",
              "      <th>2</th>\n",
              "      <td>2016-12</td>\n",
              "      <td>159.32536</td>\n",
              "      <td>200.73843</td>\n",
              "      <td>360.1</td>\n",
              "    </tr>\n",
              "    <tr>\n",
              "      <th>3</th>\n",
              "      <td>2017-01</td>\n",
              "      <td>112.86761</td>\n",
              "      <td>59.11641</td>\n",
              "      <td>172.0</td>\n",
              "    </tr>\n",
              "    <tr>\n",
              "      <th>4</th>\n",
              "      <td>2017-02</td>\n",
              "      <td>121.95995</td>\n",
              "      <td>42.20130</td>\n",
              "      <td>164.2</td>\n",
              "    </tr>\n",
              "    <tr>\n",
              "      <th>5</th>\n",
              "      <td>2017-03</td>\n",
              "      <td>129.22589</td>\n",
              "      <td>141.47994</td>\n",
              "      <td>270.7</td>\n",
              "    </tr>\n",
              "  </tbody>\n",
              "</table>\n",
              "</div>"
            ],
            "text/plain": [
              "        날짜       삼성전자       LG전자     합계\n",
              "0  2016-10  233.53920  136.11721  369.7\n",
              "1  2016-11  214.05206  145.20911  359.3\n",
              "2  2016-12  159.32536  200.73843  360.1\n",
              "3  2017-01  112.86761   59.11641  172.0\n",
              "4  2017-02  121.95995   42.20130  164.2\n",
              "5  2017-03  129.22589  141.47994  270.7"
            ]
          },
          "metadata": {
            "tags": []
          },
          "execution_count": 33
        }
      ]
    },
    {
      "cell_type": "code",
      "metadata": {
        "slideshow": {
          "slide_type": "-"
        },
        "id": "f3MWqN4yEE92",
        "colab_type": "code",
        "colab": {},
        "outputId": "197fe896-a022-4ae2-945d-2da5ce2f21f8"
      },
      "source": [
        "df[3:5] # row 3~4"
      ],
      "execution_count": 0,
      "outputs": [
        {
          "output_type": "execute_result",
          "data": {
            "text/html": [
              "<div>\n",
              "<style scoped>\n",
              "    .dataframe tbody tr th:only-of-type {\n",
              "        vertical-align: middle;\n",
              "    }\n",
              "\n",
              "    .dataframe tbody tr th {\n",
              "        vertical-align: top;\n",
              "    }\n",
              "\n",
              "    .dataframe thead th {\n",
              "        text-align: right;\n",
              "    }\n",
              "</style>\n",
              "<table border=\"1\" class=\"dataframe\">\n",
              "  <thead>\n",
              "    <tr style=\"text-align: right;\">\n",
              "      <th></th>\n",
              "      <th>날짜</th>\n",
              "      <th>삼성전자</th>\n",
              "      <th>LG전자</th>\n",
              "      <th>합계</th>\n",
              "    </tr>\n",
              "  </thead>\n",
              "  <tbody>\n",
              "    <tr>\n",
              "      <th>3</th>\n",
              "      <td>2017-01</td>\n",
              "      <td>112.86761</td>\n",
              "      <td>59.11641</td>\n",
              "      <td>172.0</td>\n",
              "    </tr>\n",
              "    <tr>\n",
              "      <th>4</th>\n",
              "      <td>2017-02</td>\n",
              "      <td>121.95995</td>\n",
              "      <td>42.20130</td>\n",
              "      <td>164.2</td>\n",
              "    </tr>\n",
              "  </tbody>\n",
              "</table>\n",
              "</div>"
            ],
            "text/plain": [
              "        날짜       삼성전자      LG전자     합계\n",
              "3  2017-01  112.86761  59.11641  172.0\n",
              "4  2017-02  121.95995  42.20130  164.2"
            ]
          },
          "metadata": {
            "tags": []
          },
          "execution_count": 34
        }
      ]
    },
    {
      "cell_type": "code",
      "metadata": {
        "slideshow": {
          "slide_type": "-"
        },
        "id": "eV_vwSarEE96",
        "colab_type": "code",
        "colab": {},
        "outputId": "a6cd8ad5-77a7-475b-9d65-4ce1c9e22bca"
      },
      "source": [
        "df.iloc[3:5] # row 3~4"
      ],
      "execution_count": 0,
      "outputs": [
        {
          "output_type": "execute_result",
          "data": {
            "text/html": [
              "<div>\n",
              "<style scoped>\n",
              "    .dataframe tbody tr th:only-of-type {\n",
              "        vertical-align: middle;\n",
              "    }\n",
              "\n",
              "    .dataframe tbody tr th {\n",
              "        vertical-align: top;\n",
              "    }\n",
              "\n",
              "    .dataframe thead th {\n",
              "        text-align: right;\n",
              "    }\n",
              "</style>\n",
              "<table border=\"1\" class=\"dataframe\">\n",
              "  <thead>\n",
              "    <tr style=\"text-align: right;\">\n",
              "      <th></th>\n",
              "      <th>날짜</th>\n",
              "      <th>삼성전자</th>\n",
              "      <th>LG전자</th>\n",
              "      <th>합계</th>\n",
              "    </tr>\n",
              "  </thead>\n",
              "  <tbody>\n",
              "    <tr>\n",
              "      <th>3</th>\n",
              "      <td>2017-01</td>\n",
              "      <td>112.86761</td>\n",
              "      <td>59.11641</td>\n",
              "      <td>172.0</td>\n",
              "    </tr>\n",
              "    <tr>\n",
              "      <th>4</th>\n",
              "      <td>2017-02</td>\n",
              "      <td>121.95995</td>\n",
              "      <td>42.20130</td>\n",
              "      <td>164.2</td>\n",
              "    </tr>\n",
              "  </tbody>\n",
              "</table>\n",
              "</div>"
            ],
            "text/plain": [
              "        날짜       삼성전자      LG전자     합계\n",
              "3  2017-01  112.86761  59.11641  172.0\n",
              "4  2017-02  121.95995  42.20130  164.2"
            ]
          },
          "metadata": {
            "tags": []
          },
          "execution_count": 35
        }
      ]
    },
    {
      "cell_type": "code",
      "metadata": {
        "slideshow": {
          "slide_type": "-"
        },
        "id": "SYqpORFAEE9-",
        "colab_type": "code",
        "colab": {},
        "outputId": "5c75f521-9d5e-4482-eb75-bc155863135c"
      },
      "source": [
        "df.loc[3:5] # row 3~5"
      ],
      "execution_count": 0,
      "outputs": [
        {
          "output_type": "execute_result",
          "data": {
            "text/html": [
              "<div>\n",
              "<style scoped>\n",
              "    .dataframe tbody tr th:only-of-type {\n",
              "        vertical-align: middle;\n",
              "    }\n",
              "\n",
              "    .dataframe tbody tr th {\n",
              "        vertical-align: top;\n",
              "    }\n",
              "\n",
              "    .dataframe thead th {\n",
              "        text-align: right;\n",
              "    }\n",
              "</style>\n",
              "<table border=\"1\" class=\"dataframe\">\n",
              "  <thead>\n",
              "    <tr style=\"text-align: right;\">\n",
              "      <th></th>\n",
              "      <th>날짜</th>\n",
              "      <th>삼성전자</th>\n",
              "      <th>LG전자</th>\n",
              "      <th>합계</th>\n",
              "    </tr>\n",
              "  </thead>\n",
              "  <tbody>\n",
              "    <tr>\n",
              "      <th>3</th>\n",
              "      <td>2017-01</td>\n",
              "      <td>112.86761</td>\n",
              "      <td>59.11641</td>\n",
              "      <td>172.0</td>\n",
              "    </tr>\n",
              "    <tr>\n",
              "      <th>4</th>\n",
              "      <td>2017-02</td>\n",
              "      <td>121.95995</td>\n",
              "      <td>42.20130</td>\n",
              "      <td>164.2</td>\n",
              "    </tr>\n",
              "    <tr>\n",
              "      <th>5</th>\n",
              "      <td>2017-03</td>\n",
              "      <td>129.22589</td>\n",
              "      <td>141.47994</td>\n",
              "      <td>270.7</td>\n",
              "    </tr>\n",
              "  </tbody>\n",
              "</table>\n",
              "</div>"
            ],
            "text/plain": [
              "        날짜       삼성전자       LG전자     합계\n",
              "3  2017-01  112.86761   59.11641  172.0\n",
              "4  2017-02  121.95995   42.20130  164.2\n",
              "5  2017-03  129.22589  141.47994  270.7"
            ]
          },
          "metadata": {
            "tags": []
          },
          "execution_count": 36
        }
      ]
    },
    {
      "cell_type": "code",
      "metadata": {
        "slideshow": {
          "slide_type": "slide"
        },
        "id": "59NCLdhPEE-B",
        "colab_type": "code",
        "colab": {},
        "outputId": "950fed0b-0c69-4161-fcda-8048ebc45e78"
      },
      "source": [
        "df"
      ],
      "execution_count": 0,
      "outputs": [
        {
          "output_type": "execute_result",
          "data": {
            "text/html": [
              "<div>\n",
              "<style scoped>\n",
              "    .dataframe tbody tr th:only-of-type {\n",
              "        vertical-align: middle;\n",
              "    }\n",
              "\n",
              "    .dataframe tbody tr th {\n",
              "        vertical-align: top;\n",
              "    }\n",
              "\n",
              "    .dataframe thead th {\n",
              "        text-align: right;\n",
              "    }\n",
              "</style>\n",
              "<table border=\"1\" class=\"dataframe\">\n",
              "  <thead>\n",
              "    <tr style=\"text-align: right;\">\n",
              "      <th></th>\n",
              "      <th>날짜</th>\n",
              "      <th>삼성전자</th>\n",
              "      <th>LG전자</th>\n",
              "      <th>합계</th>\n",
              "    </tr>\n",
              "  </thead>\n",
              "  <tbody>\n",
              "    <tr>\n",
              "      <th>0</th>\n",
              "      <td>2016-10</td>\n",
              "      <td>233.53920</td>\n",
              "      <td>136.11721</td>\n",
              "      <td>369.7</td>\n",
              "    </tr>\n",
              "    <tr>\n",
              "      <th>1</th>\n",
              "      <td>2016-11</td>\n",
              "      <td>214.05206</td>\n",
              "      <td>145.20911</td>\n",
              "      <td>359.3</td>\n",
              "    </tr>\n",
              "    <tr>\n",
              "      <th>2</th>\n",
              "      <td>2016-12</td>\n",
              "      <td>159.32536</td>\n",
              "      <td>200.73843</td>\n",
              "      <td>360.1</td>\n",
              "    </tr>\n",
              "    <tr>\n",
              "      <th>3</th>\n",
              "      <td>2017-01</td>\n",
              "      <td>112.86761</td>\n",
              "      <td>59.11641</td>\n",
              "      <td>172.0</td>\n",
              "    </tr>\n",
              "    <tr>\n",
              "      <th>4</th>\n",
              "      <td>2017-02</td>\n",
              "      <td>121.95995</td>\n",
              "      <td>42.20130</td>\n",
              "      <td>164.2</td>\n",
              "    </tr>\n",
              "    <tr>\n",
              "      <th>5</th>\n",
              "      <td>2017-03</td>\n",
              "      <td>129.22589</td>\n",
              "      <td>141.47994</td>\n",
              "      <td>270.7</td>\n",
              "    </tr>\n",
              "  </tbody>\n",
              "</table>\n",
              "</div>"
            ],
            "text/plain": [
              "        날짜       삼성전자       LG전자     합계\n",
              "0  2016-10  233.53920  136.11721  369.7\n",
              "1  2016-11  214.05206  145.20911  359.3\n",
              "2  2016-12  159.32536  200.73843  360.1\n",
              "3  2017-01  112.86761   59.11641  172.0\n",
              "4  2017-02  121.95995   42.20130  164.2\n",
              "5  2017-03  129.22589  141.47994  270.7"
            ]
          },
          "metadata": {
            "tags": []
          },
          "execution_count": 37
        }
      ]
    },
    {
      "cell_type": "code",
      "metadata": {
        "slideshow": {
          "slide_type": "-"
        },
        "id": "1-cuGKPjEE-E",
        "colab_type": "code",
        "colab": {},
        "outputId": "5c8df870-c5a9-4b60-9c94-a9e0011e1f0d"
      },
      "source": [
        "df.loc[:, 'LG전자':'합계'] # 전체 row 컬럼 'skt'~'sum' 선택 "
      ],
      "execution_count": 0,
      "outputs": [
        {
          "output_type": "execute_result",
          "data": {
            "text/html": [
              "<div>\n",
              "<style scoped>\n",
              "    .dataframe tbody tr th:only-of-type {\n",
              "        vertical-align: middle;\n",
              "    }\n",
              "\n",
              "    .dataframe tbody tr th {\n",
              "        vertical-align: top;\n",
              "    }\n",
              "\n",
              "    .dataframe thead th {\n",
              "        text-align: right;\n",
              "    }\n",
              "</style>\n",
              "<table border=\"1\" class=\"dataframe\">\n",
              "  <thead>\n",
              "    <tr style=\"text-align: right;\">\n",
              "      <th></th>\n",
              "      <th>LG전자</th>\n",
              "      <th>합계</th>\n",
              "    </tr>\n",
              "  </thead>\n",
              "  <tbody>\n",
              "    <tr>\n",
              "      <th>0</th>\n",
              "      <td>136.11721</td>\n",
              "      <td>369.7</td>\n",
              "    </tr>\n",
              "    <tr>\n",
              "      <th>1</th>\n",
              "      <td>145.20911</td>\n",
              "      <td>359.3</td>\n",
              "    </tr>\n",
              "    <tr>\n",
              "      <th>2</th>\n",
              "      <td>200.73843</td>\n",
              "      <td>360.1</td>\n",
              "    </tr>\n",
              "    <tr>\n",
              "      <th>3</th>\n",
              "      <td>59.11641</td>\n",
              "      <td>172.0</td>\n",
              "    </tr>\n",
              "    <tr>\n",
              "      <th>4</th>\n",
              "      <td>42.20130</td>\n",
              "      <td>164.2</td>\n",
              "    </tr>\n",
              "    <tr>\n",
              "      <th>5</th>\n",
              "      <td>141.47994</td>\n",
              "      <td>270.7</td>\n",
              "    </tr>\n",
              "  </tbody>\n",
              "</table>\n",
              "</div>"
            ],
            "text/plain": [
              "        LG전자     합계\n",
              "0  136.11721  369.7\n",
              "1  145.20911  359.3\n",
              "2  200.73843  360.1\n",
              "3   59.11641  172.0\n",
              "4   42.20130  164.2\n",
              "5  141.47994  270.7"
            ]
          },
          "metadata": {
            "tags": []
          },
          "execution_count": 38
        }
      ]
    },
    {
      "cell_type": "code",
      "metadata": {
        "slideshow": {
          "slide_type": "slide"
        },
        "id": "VGm4wX--EE-H",
        "colab_type": "code",
        "colab": {},
        "outputId": "dd59c3f9-8611-43ec-fcf7-ca9ab28b13e0"
      },
      "source": [
        "df"
      ],
      "execution_count": 0,
      "outputs": [
        {
          "output_type": "execute_result",
          "data": {
            "text/html": [
              "<div>\n",
              "<style scoped>\n",
              "    .dataframe tbody tr th:only-of-type {\n",
              "        vertical-align: middle;\n",
              "    }\n",
              "\n",
              "    .dataframe tbody tr th {\n",
              "        vertical-align: top;\n",
              "    }\n",
              "\n",
              "    .dataframe thead th {\n",
              "        text-align: right;\n",
              "    }\n",
              "</style>\n",
              "<table border=\"1\" class=\"dataframe\">\n",
              "  <thead>\n",
              "    <tr style=\"text-align: right;\">\n",
              "      <th></th>\n",
              "      <th>날짜</th>\n",
              "      <th>삼성전자</th>\n",
              "      <th>LG전자</th>\n",
              "      <th>합계</th>\n",
              "    </tr>\n",
              "  </thead>\n",
              "  <tbody>\n",
              "    <tr>\n",
              "      <th>0</th>\n",
              "      <td>2016-10</td>\n",
              "      <td>233.53920</td>\n",
              "      <td>136.11721</td>\n",
              "      <td>369.7</td>\n",
              "    </tr>\n",
              "    <tr>\n",
              "      <th>1</th>\n",
              "      <td>2016-11</td>\n",
              "      <td>214.05206</td>\n",
              "      <td>145.20911</td>\n",
              "      <td>359.3</td>\n",
              "    </tr>\n",
              "    <tr>\n",
              "      <th>2</th>\n",
              "      <td>2016-12</td>\n",
              "      <td>159.32536</td>\n",
              "      <td>200.73843</td>\n",
              "      <td>360.1</td>\n",
              "    </tr>\n",
              "    <tr>\n",
              "      <th>3</th>\n",
              "      <td>2017-01</td>\n",
              "      <td>112.86761</td>\n",
              "      <td>59.11641</td>\n",
              "      <td>172.0</td>\n",
              "    </tr>\n",
              "    <tr>\n",
              "      <th>4</th>\n",
              "      <td>2017-02</td>\n",
              "      <td>121.95995</td>\n",
              "      <td>42.20130</td>\n",
              "      <td>164.2</td>\n",
              "    </tr>\n",
              "    <tr>\n",
              "      <th>5</th>\n",
              "      <td>2017-03</td>\n",
              "      <td>129.22589</td>\n",
              "      <td>141.47994</td>\n",
              "      <td>270.7</td>\n",
              "    </tr>\n",
              "  </tbody>\n",
              "</table>\n",
              "</div>"
            ],
            "text/plain": [
              "        날짜       삼성전자       LG전자     합계\n",
              "0  2016-10  233.53920  136.11721  369.7\n",
              "1  2016-11  214.05206  145.20911  359.3\n",
              "2  2016-12  159.32536  200.73843  360.1\n",
              "3  2017-01  112.86761   59.11641  172.0\n",
              "4  2017-02  121.95995   42.20130  164.2\n",
              "5  2017-03  129.22589  141.47994  270.7"
            ]
          },
          "metadata": {
            "tags": []
          },
          "execution_count": 39
        }
      ]
    },
    {
      "cell_type": "code",
      "metadata": {
        "slideshow": {
          "slide_type": "-"
        },
        "id": "0XUi8sr4EE-K",
        "colab_type": "code",
        "colab": {},
        "outputId": "81c38778-c186-4823-9efd-5ce92d150127"
      },
      "source": [
        "df.loc[:2, ['삼성전자','합계']] # 로우 처음부터~2까지, 컬럼  '삼성전자','합계'  선택"
      ],
      "execution_count": 0,
      "outputs": [
        {
          "output_type": "execute_result",
          "data": {
            "text/html": [
              "<div>\n",
              "<style scoped>\n",
              "    .dataframe tbody tr th:only-of-type {\n",
              "        vertical-align: middle;\n",
              "    }\n",
              "\n",
              "    .dataframe tbody tr th {\n",
              "        vertical-align: top;\n",
              "    }\n",
              "\n",
              "    .dataframe thead th {\n",
              "        text-align: right;\n",
              "    }\n",
              "</style>\n",
              "<table border=\"1\" class=\"dataframe\">\n",
              "  <thead>\n",
              "    <tr style=\"text-align: right;\">\n",
              "      <th></th>\n",
              "      <th>삼성전자</th>\n",
              "      <th>합계</th>\n",
              "    </tr>\n",
              "  </thead>\n",
              "  <tbody>\n",
              "    <tr>\n",
              "      <th>0</th>\n",
              "      <td>233.53920</td>\n",
              "      <td>369.7</td>\n",
              "    </tr>\n",
              "    <tr>\n",
              "      <th>1</th>\n",
              "      <td>214.05206</td>\n",
              "      <td>359.3</td>\n",
              "    </tr>\n",
              "    <tr>\n",
              "      <th>2</th>\n",
              "      <td>159.32536</td>\n",
              "      <td>360.1</td>\n",
              "    </tr>\n",
              "  </tbody>\n",
              "</table>\n",
              "</div>"
            ],
            "text/plain": [
              "        삼성전자     합계\n",
              "0  233.53920  369.7\n",
              "1  214.05206  359.3\n",
              "2  159.32536  360.1"
            ]
          },
          "metadata": {
            "tags": []
          },
          "execution_count": 40
        }
      ]
    },
    {
      "cell_type": "markdown",
      "metadata": {
        "slideshow": {
          "slide_type": "slide"
        },
        "id": "TWTyUcYTEE-O",
        "colab_type": "text"
      },
      "source": [
        "# 불린 인덱스"
      ]
    },
    {
      "cell_type": "code",
      "metadata": {
        "slideshow": {
          "slide_type": "-"
        },
        "id": "13ftwyPUEE-P",
        "colab_type": "code",
        "colab": {},
        "outputId": "5028bbc8-4ff6-4b3a-c4d7-508198037982"
      },
      "source": [
        "df\n",
        "\n",
        "df.삼성전자 > 90\n",
        "\n",
        "df[df.삼성전자 > 90]"
      ],
      "execution_count": 0,
      "outputs": [
        {
          "output_type": "execute_result",
          "data": {
            "text/html": [
              "<div>\n",
              "<style scoped>\n",
              "    .dataframe tbody tr th:only-of-type {\n",
              "        vertical-align: middle;\n",
              "    }\n",
              "\n",
              "    .dataframe tbody tr th {\n",
              "        vertical-align: top;\n",
              "    }\n",
              "\n",
              "    .dataframe thead th {\n",
              "        text-align: right;\n",
              "    }\n",
              "</style>\n",
              "<table border=\"1\" class=\"dataframe\">\n",
              "  <thead>\n",
              "    <tr style=\"text-align: right;\">\n",
              "      <th></th>\n",
              "      <th>날짜</th>\n",
              "      <th>삼성전자</th>\n",
              "      <th>LG전자</th>\n",
              "      <th>합계</th>\n",
              "    </tr>\n",
              "  </thead>\n",
              "  <tbody>\n",
              "    <tr>\n",
              "      <th>0</th>\n",
              "      <td>2016-10</td>\n",
              "      <td>233.53920</td>\n",
              "      <td>136.11721</td>\n",
              "      <td>369.7</td>\n",
              "    </tr>\n",
              "    <tr>\n",
              "      <th>1</th>\n",
              "      <td>2016-11</td>\n",
              "      <td>214.05206</td>\n",
              "      <td>145.20911</td>\n",
              "      <td>359.3</td>\n",
              "    </tr>\n",
              "    <tr>\n",
              "      <th>2</th>\n",
              "      <td>2016-12</td>\n",
              "      <td>159.32536</td>\n",
              "      <td>200.73843</td>\n",
              "      <td>360.1</td>\n",
              "    </tr>\n",
              "    <tr>\n",
              "      <th>3</th>\n",
              "      <td>2017-01</td>\n",
              "      <td>112.86761</td>\n",
              "      <td>59.11641</td>\n",
              "      <td>172.0</td>\n",
              "    </tr>\n",
              "    <tr>\n",
              "      <th>4</th>\n",
              "      <td>2017-02</td>\n",
              "      <td>121.95995</td>\n",
              "      <td>42.20130</td>\n",
              "      <td>164.2</td>\n",
              "    </tr>\n",
              "    <tr>\n",
              "      <th>5</th>\n",
              "      <td>2017-03</td>\n",
              "      <td>129.22589</td>\n",
              "      <td>141.47994</td>\n",
              "      <td>270.7</td>\n",
              "    </tr>\n",
              "  </tbody>\n",
              "</table>\n",
              "</div>"
            ],
            "text/plain": [
              "        날짜       삼성전자       LG전자     합계\n",
              "0  2016-10  233.53920  136.11721  369.7\n",
              "1  2016-11  214.05206  145.20911  359.3\n",
              "2  2016-12  159.32536  200.73843  360.1\n",
              "3  2017-01  112.86761   59.11641  172.0\n",
              "4  2017-02  121.95995   42.20130  164.2\n",
              "5  2017-03  129.22589  141.47994  270.7"
            ]
          },
          "metadata": {
            "tags": []
          },
          "execution_count": 41
        }
      ]
    },
    {
      "cell_type": "markdown",
      "metadata": {
        "slideshow": {
          "slide_type": "slide"
        },
        "id": "Y19cmBvZEE-R",
        "colab_type": "text"
      },
      "source": [
        "# 다수의 불린 인덱스\n",
        "* 두 개 이상의 컬럼, '&'(AND), '|'(OR), '^'(XOR)연산\n",
        "* 괄호로 묶어주어야 한다."
      ]
    },
    {
      "cell_type": "code",
      "metadata": {
        "slideshow": {
          "slide_type": "-"
        },
        "id": "jXjMTrYkEE-R",
        "colab_type": "code",
        "colab": {},
        "outputId": "3c6e2557-6946-4c2b-b6c8-a826d294dd6f"
      },
      "source": [
        "df"
      ],
      "execution_count": 0,
      "outputs": [
        {
          "output_type": "execute_result",
          "data": {
            "text/html": [
              "<div>\n",
              "<style scoped>\n",
              "    .dataframe tbody tr th:only-of-type {\n",
              "        vertical-align: middle;\n",
              "    }\n",
              "\n",
              "    .dataframe tbody tr th {\n",
              "        vertical-align: top;\n",
              "    }\n",
              "\n",
              "    .dataframe thead th {\n",
              "        text-align: right;\n",
              "    }\n",
              "</style>\n",
              "<table border=\"1\" class=\"dataframe\">\n",
              "  <thead>\n",
              "    <tr style=\"text-align: right;\">\n",
              "      <th></th>\n",
              "      <th>날짜</th>\n",
              "      <th>삼성전자</th>\n",
              "      <th>LG전자</th>\n",
              "      <th>합계</th>\n",
              "    </tr>\n",
              "  </thead>\n",
              "  <tbody>\n",
              "    <tr>\n",
              "      <th>0</th>\n",
              "      <td>2016-10</td>\n",
              "      <td>233.53920</td>\n",
              "      <td>136.11721</td>\n",
              "      <td>369.7</td>\n",
              "    </tr>\n",
              "    <tr>\n",
              "      <th>1</th>\n",
              "      <td>2016-11</td>\n",
              "      <td>214.05206</td>\n",
              "      <td>145.20911</td>\n",
              "      <td>359.3</td>\n",
              "    </tr>\n",
              "    <tr>\n",
              "      <th>2</th>\n",
              "      <td>2016-12</td>\n",
              "      <td>159.32536</td>\n",
              "      <td>200.73843</td>\n",
              "      <td>360.1</td>\n",
              "    </tr>\n",
              "    <tr>\n",
              "      <th>3</th>\n",
              "      <td>2017-01</td>\n",
              "      <td>112.86761</td>\n",
              "      <td>59.11641</td>\n",
              "      <td>172.0</td>\n",
              "    </tr>\n",
              "    <tr>\n",
              "      <th>4</th>\n",
              "      <td>2017-02</td>\n",
              "      <td>121.95995</td>\n",
              "      <td>42.20130</td>\n",
              "      <td>164.2</td>\n",
              "    </tr>\n",
              "    <tr>\n",
              "      <th>5</th>\n",
              "      <td>2017-03</td>\n",
              "      <td>129.22589</td>\n",
              "      <td>141.47994</td>\n",
              "      <td>270.7</td>\n",
              "    </tr>\n",
              "  </tbody>\n",
              "</table>\n",
              "</div>"
            ],
            "text/plain": [
              "        날짜       삼성전자       LG전자     합계\n",
              "0  2016-10  233.53920  136.11721  369.7\n",
              "1  2016-11  214.05206  145.20911  359.3\n",
              "2  2016-12  159.32536  200.73843  360.1\n",
              "3  2017-01  112.86761   59.11641  172.0\n",
              "4  2017-02  121.95995   42.20130  164.2\n",
              "5  2017-03  129.22589  141.47994  270.7"
            ]
          },
          "metadata": {
            "tags": []
          },
          "execution_count": 42
        }
      ]
    },
    {
      "cell_type": "code",
      "metadata": {
        "slideshow": {
          "slide_type": "-"
        },
        "id": "ZWTBJMDBEE-U",
        "colab_type": "code",
        "colab": {},
        "outputId": "97824599-27d2-4c97-9366-7846672f0c2d"
      },
      "source": [
        "(150 < df.삼성전자 ) & (df.삼성전자 < 220)"
      ],
      "execution_count": 0,
      "outputs": [
        {
          "output_type": "execute_result",
          "data": {
            "text/plain": [
              "0    False\n",
              "1     True\n",
              "2     True\n",
              "3    False\n",
              "4    False\n",
              "5    False\n",
              "Name: 삼성전자, dtype: bool"
            ]
          },
          "metadata": {
            "tags": []
          },
          "execution_count": 43
        }
      ]
    },
    {
      "cell_type": "code",
      "metadata": {
        "slideshow": {
          "slide_type": "-"
        },
        "id": "BVfl7uqMEE-W",
        "colab_type": "code",
        "colab": {},
        "outputId": "c7ede119-2288-430d-914d-525c8aed9b77"
      },
      "source": [
        "df[(150 < df.삼성전자 ) & (df.삼성전자 < 220)]"
      ],
      "execution_count": 0,
      "outputs": [
        {
          "output_type": "execute_result",
          "data": {
            "text/html": [
              "<div>\n",
              "<style scoped>\n",
              "    .dataframe tbody tr th:only-of-type {\n",
              "        vertical-align: middle;\n",
              "    }\n",
              "\n",
              "    .dataframe tbody tr th {\n",
              "        vertical-align: top;\n",
              "    }\n",
              "\n",
              "    .dataframe thead th {\n",
              "        text-align: right;\n",
              "    }\n",
              "</style>\n",
              "<table border=\"1\" class=\"dataframe\">\n",
              "  <thead>\n",
              "    <tr style=\"text-align: right;\">\n",
              "      <th></th>\n",
              "      <th>날짜</th>\n",
              "      <th>삼성전자</th>\n",
              "      <th>LG전자</th>\n",
              "      <th>합계</th>\n",
              "    </tr>\n",
              "  </thead>\n",
              "  <tbody>\n",
              "    <tr>\n",
              "      <th>1</th>\n",
              "      <td>2016-11</td>\n",
              "      <td>214.05206</td>\n",
              "      <td>145.20911</td>\n",
              "      <td>359.3</td>\n",
              "    </tr>\n",
              "    <tr>\n",
              "      <th>2</th>\n",
              "      <td>2016-12</td>\n",
              "      <td>159.32536</td>\n",
              "      <td>200.73843</td>\n",
              "      <td>360.1</td>\n",
              "    </tr>\n",
              "  </tbody>\n",
              "</table>\n",
              "</div>"
            ],
            "text/plain": [
              "        날짜       삼성전자       LG전자     합계\n",
              "1  2016-11  214.05206  145.20911  359.3\n",
              "2  2016-12  159.32536  200.73843  360.1"
            ]
          },
          "metadata": {
            "tags": []
          },
          "execution_count": 44
        }
      ]
    },
    {
      "cell_type": "code",
      "metadata": {
        "slideshow": {
          "slide_type": "slide"
        },
        "id": "tw9ORNcfEE-Y",
        "colab_type": "code",
        "colab": {},
        "outputId": "3af036d9-d03e-4425-de4c-94d17148dd4e"
      },
      "source": [
        "df"
      ],
      "execution_count": 0,
      "outputs": [
        {
          "output_type": "execute_result",
          "data": {
            "text/html": [
              "<div>\n",
              "<style scoped>\n",
              "    .dataframe tbody tr th:only-of-type {\n",
              "        vertical-align: middle;\n",
              "    }\n",
              "\n",
              "    .dataframe tbody tr th {\n",
              "        vertical-align: top;\n",
              "    }\n",
              "\n",
              "    .dataframe thead th {\n",
              "        text-align: right;\n",
              "    }\n",
              "</style>\n",
              "<table border=\"1\" class=\"dataframe\">\n",
              "  <thead>\n",
              "    <tr style=\"text-align: right;\">\n",
              "      <th></th>\n",
              "      <th>날짜</th>\n",
              "      <th>삼성전자</th>\n",
              "      <th>LG전자</th>\n",
              "      <th>합계</th>\n",
              "    </tr>\n",
              "  </thead>\n",
              "  <tbody>\n",
              "    <tr>\n",
              "      <th>0</th>\n",
              "      <td>2016-10</td>\n",
              "      <td>233.53920</td>\n",
              "      <td>136.11721</td>\n",
              "      <td>369.7</td>\n",
              "    </tr>\n",
              "    <tr>\n",
              "      <th>1</th>\n",
              "      <td>2016-11</td>\n",
              "      <td>214.05206</td>\n",
              "      <td>145.20911</td>\n",
              "      <td>359.3</td>\n",
              "    </tr>\n",
              "    <tr>\n",
              "      <th>2</th>\n",
              "      <td>2016-12</td>\n",
              "      <td>159.32536</td>\n",
              "      <td>200.73843</td>\n",
              "      <td>360.1</td>\n",
              "    </tr>\n",
              "    <tr>\n",
              "      <th>3</th>\n",
              "      <td>2017-01</td>\n",
              "      <td>112.86761</td>\n",
              "      <td>59.11641</td>\n",
              "      <td>172.0</td>\n",
              "    </tr>\n",
              "    <tr>\n",
              "      <th>4</th>\n",
              "      <td>2017-02</td>\n",
              "      <td>121.95995</td>\n",
              "      <td>42.20130</td>\n",
              "      <td>164.2</td>\n",
              "    </tr>\n",
              "    <tr>\n",
              "      <th>5</th>\n",
              "      <td>2017-03</td>\n",
              "      <td>129.22589</td>\n",
              "      <td>141.47994</td>\n",
              "      <td>270.7</td>\n",
              "    </tr>\n",
              "  </tbody>\n",
              "</table>\n",
              "</div>"
            ],
            "text/plain": [
              "        날짜       삼성전자       LG전자     합계\n",
              "0  2016-10  233.53920  136.11721  369.7\n",
              "1  2016-11  214.05206  145.20911  359.3\n",
              "2  2016-12  159.32536  200.73843  360.1\n",
              "3  2017-01  112.86761   59.11641  172.0\n",
              "4  2017-02  121.95995   42.20130  164.2\n",
              "5  2017-03  129.22589  141.47994  270.7"
            ]
          },
          "metadata": {
            "tags": []
          },
          "execution_count": 45
        }
      ]
    },
    {
      "cell_type": "code",
      "metadata": {
        "slideshow": {
          "slide_type": "slide"
        },
        "id": "l-AQ72QnEE-a",
        "colab_type": "code",
        "colab": {},
        "outputId": "102328df-6e74-47d6-ec00-a1ceaa6bcf92"
      },
      "source": [
        "df[(df.삼성전자 < 150) | (220 < df.삼성전자)]"
      ],
      "execution_count": 0,
      "outputs": [
        {
          "output_type": "execute_result",
          "data": {
            "text/html": [
              "<div>\n",
              "<style scoped>\n",
              "    .dataframe tbody tr th:only-of-type {\n",
              "        vertical-align: middle;\n",
              "    }\n",
              "\n",
              "    .dataframe tbody tr th {\n",
              "        vertical-align: top;\n",
              "    }\n",
              "\n",
              "    .dataframe thead th {\n",
              "        text-align: right;\n",
              "    }\n",
              "</style>\n",
              "<table border=\"1\" class=\"dataframe\">\n",
              "  <thead>\n",
              "    <tr style=\"text-align: right;\">\n",
              "      <th></th>\n",
              "      <th>날짜</th>\n",
              "      <th>삼성전자</th>\n",
              "      <th>LG전자</th>\n",
              "      <th>합계</th>\n",
              "    </tr>\n",
              "  </thead>\n",
              "  <tbody>\n",
              "    <tr>\n",
              "      <th>0</th>\n",
              "      <td>2016-10</td>\n",
              "      <td>233.53920</td>\n",
              "      <td>136.11721</td>\n",
              "      <td>369.7</td>\n",
              "    </tr>\n",
              "    <tr>\n",
              "      <th>3</th>\n",
              "      <td>2017-01</td>\n",
              "      <td>112.86761</td>\n",
              "      <td>59.11641</td>\n",
              "      <td>172.0</td>\n",
              "    </tr>\n",
              "    <tr>\n",
              "      <th>4</th>\n",
              "      <td>2017-02</td>\n",
              "      <td>121.95995</td>\n",
              "      <td>42.20130</td>\n",
              "      <td>164.2</td>\n",
              "    </tr>\n",
              "    <tr>\n",
              "      <th>5</th>\n",
              "      <td>2017-03</td>\n",
              "      <td>129.22589</td>\n",
              "      <td>141.47994</td>\n",
              "      <td>270.7</td>\n",
              "    </tr>\n",
              "  </tbody>\n",
              "</table>\n",
              "</div>"
            ],
            "text/plain": [
              "        날짜       삼성전자       LG전자     합계\n",
              "0  2016-10  233.53920  136.11721  369.7\n",
              "3  2017-01  112.86761   59.11641  172.0\n",
              "4  2017-02  121.95995   42.20130  164.2\n",
              "5  2017-03  129.22589  141.47994  270.7"
            ]
          },
          "metadata": {
            "tags": []
          },
          "execution_count": 46
        }
      ]
    },
    {
      "cell_type": "markdown",
      "metadata": {
        "slideshow": {
          "slide_type": "slide"
        },
        "id": "HmblevZuEE-d",
        "colab_type": "text"
      },
      "source": [
        "# 소트\n",
        "\n",
        "인덱스 혹은 특정 컬럼으로 소트\n",
        "\n",
        "```python\n",
        "# 인덱스로 소트 (내림차순) \n",
        "df.sort_index(ascending=False)\n",
        "```\n",
        "\n",
        "```python\n",
        "# skt 컬럼으로 (내림차순)\n",
        "df.sort_values(by='삼성전자', ascending=False)\n",
        "```"
      ]
    },
    {
      "cell_type": "markdown",
      "metadata": {
        "slideshow": {
          "slide_type": "slide"
        },
        "id": "ShqcT_6xEE-e",
        "colab_type": "text"
      },
      "source": [
        "## 인덱스로 소트\n",
        "ascending=False (내림차순)"
      ]
    },
    {
      "cell_type": "code",
      "metadata": {
        "slideshow": {
          "slide_type": "-"
        },
        "id": "A7ktv_B7EE-f",
        "colab_type": "code",
        "colab": {},
        "outputId": "5fbe3e50-2e83-40aa-c147-2d8ddeb5fcb3"
      },
      "source": [
        "df.sort_index(ascending=False) "
      ],
      "execution_count": 0,
      "outputs": [
        {
          "output_type": "execute_result",
          "data": {
            "text/html": [
              "<div>\n",
              "<style scoped>\n",
              "    .dataframe tbody tr th:only-of-type {\n",
              "        vertical-align: middle;\n",
              "    }\n",
              "\n",
              "    .dataframe tbody tr th {\n",
              "        vertical-align: top;\n",
              "    }\n",
              "\n",
              "    .dataframe thead th {\n",
              "        text-align: right;\n",
              "    }\n",
              "</style>\n",
              "<table border=\"1\" class=\"dataframe\">\n",
              "  <thead>\n",
              "    <tr style=\"text-align: right;\">\n",
              "      <th></th>\n",
              "      <th>날짜</th>\n",
              "      <th>삼성전자</th>\n",
              "      <th>LG전자</th>\n",
              "      <th>합계</th>\n",
              "    </tr>\n",
              "  </thead>\n",
              "  <tbody>\n",
              "    <tr>\n",
              "      <th>5</th>\n",
              "      <td>2017-03</td>\n",
              "      <td>129.22589</td>\n",
              "      <td>141.47994</td>\n",
              "      <td>270.7</td>\n",
              "    </tr>\n",
              "    <tr>\n",
              "      <th>4</th>\n",
              "      <td>2017-02</td>\n",
              "      <td>121.95995</td>\n",
              "      <td>42.20130</td>\n",
              "      <td>164.2</td>\n",
              "    </tr>\n",
              "    <tr>\n",
              "      <th>3</th>\n",
              "      <td>2017-01</td>\n",
              "      <td>112.86761</td>\n",
              "      <td>59.11641</td>\n",
              "      <td>172.0</td>\n",
              "    </tr>\n",
              "    <tr>\n",
              "      <th>2</th>\n",
              "      <td>2016-12</td>\n",
              "      <td>159.32536</td>\n",
              "      <td>200.73843</td>\n",
              "      <td>360.1</td>\n",
              "    </tr>\n",
              "    <tr>\n",
              "      <th>1</th>\n",
              "      <td>2016-11</td>\n",
              "      <td>214.05206</td>\n",
              "      <td>145.20911</td>\n",
              "      <td>359.3</td>\n",
              "    </tr>\n",
              "    <tr>\n",
              "      <th>0</th>\n",
              "      <td>2016-10</td>\n",
              "      <td>233.53920</td>\n",
              "      <td>136.11721</td>\n",
              "      <td>369.7</td>\n",
              "    </tr>\n",
              "  </tbody>\n",
              "</table>\n",
              "</div>"
            ],
            "text/plain": [
              "        날짜       삼성전자       LG전자     합계\n",
              "5  2017-03  129.22589  141.47994  270.7\n",
              "4  2017-02  121.95995   42.20130  164.2\n",
              "3  2017-01  112.86761   59.11641  172.0\n",
              "2  2016-12  159.32536  200.73843  360.1\n",
              "1  2016-11  214.05206  145.20911  359.3\n",
              "0  2016-10  233.53920  136.11721  369.7"
            ]
          },
          "metadata": {
            "tags": []
          },
          "execution_count": 47
        }
      ]
    },
    {
      "cell_type": "markdown",
      "metadata": {
        "slideshow": {
          "slide_type": "slide"
        },
        "id": "ApZSn4XVEE-i",
        "colab_type": "text"
      },
      "source": [
        "## 컬럼으로 소트\n",
        "\n",
        "ascending=False (내림차순), 일반적으로 TOP-N을 구하는데 많이 사용한다. <br/>\n",
        "(skt의 광고비 지출이 많은 순서는 5월, 2월, 6월 순)"
      ]
    },
    {
      "cell_type": "code",
      "metadata": {
        "slideshow": {
          "slide_type": "-"
        },
        "id": "jH9bHsivEE-l",
        "colab_type": "code",
        "colab": {},
        "outputId": "fbbc72c8-52f4-43e8-8838-7fd52feedf90"
      },
      "source": [
        "df.sort_values(by='삼성전자', ascending=False) "
      ],
      "execution_count": 0,
      "outputs": [
        {
          "output_type": "execute_result",
          "data": {
            "text/html": [
              "<div>\n",
              "<style scoped>\n",
              "    .dataframe tbody tr th:only-of-type {\n",
              "        vertical-align: middle;\n",
              "    }\n",
              "\n",
              "    .dataframe tbody tr th {\n",
              "        vertical-align: top;\n",
              "    }\n",
              "\n",
              "    .dataframe thead th {\n",
              "        text-align: right;\n",
              "    }\n",
              "</style>\n",
              "<table border=\"1\" class=\"dataframe\">\n",
              "  <thead>\n",
              "    <tr style=\"text-align: right;\">\n",
              "      <th></th>\n",
              "      <th>날짜</th>\n",
              "      <th>삼성전자</th>\n",
              "      <th>LG전자</th>\n",
              "      <th>합계</th>\n",
              "    </tr>\n",
              "  </thead>\n",
              "  <tbody>\n",
              "    <tr>\n",
              "      <th>0</th>\n",
              "      <td>2016-10</td>\n",
              "      <td>233.53920</td>\n",
              "      <td>136.11721</td>\n",
              "      <td>369.7</td>\n",
              "    </tr>\n",
              "    <tr>\n",
              "      <th>1</th>\n",
              "      <td>2016-11</td>\n",
              "      <td>214.05206</td>\n",
              "      <td>145.20911</td>\n",
              "      <td>359.3</td>\n",
              "    </tr>\n",
              "    <tr>\n",
              "      <th>2</th>\n",
              "      <td>2016-12</td>\n",
              "      <td>159.32536</td>\n",
              "      <td>200.73843</td>\n",
              "      <td>360.1</td>\n",
              "    </tr>\n",
              "    <tr>\n",
              "      <th>5</th>\n",
              "      <td>2017-03</td>\n",
              "      <td>129.22589</td>\n",
              "      <td>141.47994</td>\n",
              "      <td>270.7</td>\n",
              "    </tr>\n",
              "    <tr>\n",
              "      <th>4</th>\n",
              "      <td>2017-02</td>\n",
              "      <td>121.95995</td>\n",
              "      <td>42.20130</td>\n",
              "      <td>164.2</td>\n",
              "    </tr>\n",
              "    <tr>\n",
              "      <th>3</th>\n",
              "      <td>2017-01</td>\n",
              "      <td>112.86761</td>\n",
              "      <td>59.11641</td>\n",
              "      <td>172.0</td>\n",
              "    </tr>\n",
              "  </tbody>\n",
              "</table>\n",
              "</div>"
            ],
            "text/plain": [
              "        날짜       삼성전자       LG전자     합계\n",
              "0  2016-10  233.53920  136.11721  369.7\n",
              "1  2016-11  214.05206  145.20911  359.3\n",
              "2  2016-12  159.32536  200.73843  360.1\n",
              "5  2017-03  129.22589  141.47994  270.7\n",
              "4  2017-02  121.95995   42.20130  164.2\n",
              "3  2017-01  112.86761   59.11641  172.0"
            ]
          },
          "metadata": {
            "tags": []
          },
          "execution_count": 48
        }
      ]
    },
    {
      "cell_type": "markdown",
      "metadata": {
        "slideshow": {
          "slide_type": "slide"
        },
        "id": "siiSOvGcEE-n",
        "colab_type": "text"
      },
      "source": [
        "# 축 변환\n",
        "* 컬럼과 인덱스 축 바꾸기\n",
        "* 엑셀 선택하여 붙여넣기, 행/열 바꿈\n",
        "* 대칭 행렬(symmetric matrix)"
      ]
    },
    {
      "cell_type": "code",
      "metadata": {
        "slideshow": {
          "slide_type": "-"
        },
        "id": "dxtvl8OvEE-n",
        "colab_type": "code",
        "colab": {},
        "outputId": "2eb47dd1-2e5e-4996-a2ea-f088148b426f"
      },
      "source": [
        "df"
      ],
      "execution_count": 0,
      "outputs": [
        {
          "output_type": "execute_result",
          "data": {
            "text/html": [
              "<div>\n",
              "<style scoped>\n",
              "    .dataframe tbody tr th:only-of-type {\n",
              "        vertical-align: middle;\n",
              "    }\n",
              "\n",
              "    .dataframe tbody tr th {\n",
              "        vertical-align: top;\n",
              "    }\n",
              "\n",
              "    .dataframe thead th {\n",
              "        text-align: right;\n",
              "    }\n",
              "</style>\n",
              "<table border=\"1\" class=\"dataframe\">\n",
              "  <thead>\n",
              "    <tr style=\"text-align: right;\">\n",
              "      <th></th>\n",
              "      <th>날짜</th>\n",
              "      <th>삼성전자</th>\n",
              "      <th>LG전자</th>\n",
              "      <th>합계</th>\n",
              "    </tr>\n",
              "  </thead>\n",
              "  <tbody>\n",
              "    <tr>\n",
              "      <th>0</th>\n",
              "      <td>2016-10</td>\n",
              "      <td>233.53920</td>\n",
              "      <td>136.11721</td>\n",
              "      <td>369.7</td>\n",
              "    </tr>\n",
              "    <tr>\n",
              "      <th>1</th>\n",
              "      <td>2016-11</td>\n",
              "      <td>214.05206</td>\n",
              "      <td>145.20911</td>\n",
              "      <td>359.3</td>\n",
              "    </tr>\n",
              "    <tr>\n",
              "      <th>2</th>\n",
              "      <td>2016-12</td>\n",
              "      <td>159.32536</td>\n",
              "      <td>200.73843</td>\n",
              "      <td>360.1</td>\n",
              "    </tr>\n",
              "    <tr>\n",
              "      <th>3</th>\n",
              "      <td>2017-01</td>\n",
              "      <td>112.86761</td>\n",
              "      <td>59.11641</td>\n",
              "      <td>172.0</td>\n",
              "    </tr>\n",
              "    <tr>\n",
              "      <th>4</th>\n",
              "      <td>2017-02</td>\n",
              "      <td>121.95995</td>\n",
              "      <td>42.20130</td>\n",
              "      <td>164.2</td>\n",
              "    </tr>\n",
              "    <tr>\n",
              "      <th>5</th>\n",
              "      <td>2017-03</td>\n",
              "      <td>129.22589</td>\n",
              "      <td>141.47994</td>\n",
              "      <td>270.7</td>\n",
              "    </tr>\n",
              "  </tbody>\n",
              "</table>\n",
              "</div>"
            ],
            "text/plain": [
              "        날짜       삼성전자       LG전자     합계\n",
              "0  2016-10  233.53920  136.11721  369.7\n",
              "1  2016-11  214.05206  145.20911  359.3\n",
              "2  2016-12  159.32536  200.73843  360.1\n",
              "3  2017-01  112.86761   59.11641  172.0\n",
              "4  2017-02  121.95995   42.20130  164.2\n",
              "5  2017-03  129.22589  141.47994  270.7"
            ]
          },
          "metadata": {
            "tags": []
          },
          "execution_count": 49
        }
      ]
    },
    {
      "cell_type": "code",
      "metadata": {
        "slideshow": {
          "slide_type": "-"
        },
        "id": "jMAbzAHPEE-q",
        "colab_type": "code",
        "colab": {},
        "outputId": "6aaf06d1-795e-49c7-f0d4-f469342d7723"
      },
      "source": [
        "df.T"
      ],
      "execution_count": 0,
      "outputs": [
        {
          "output_type": "execute_result",
          "data": {
            "text/html": [
              "<div>\n",
              "<style scoped>\n",
              "    .dataframe tbody tr th:only-of-type {\n",
              "        vertical-align: middle;\n",
              "    }\n",
              "\n",
              "    .dataframe tbody tr th {\n",
              "        vertical-align: top;\n",
              "    }\n",
              "\n",
              "    .dataframe thead th {\n",
              "        text-align: right;\n",
              "    }\n",
              "</style>\n",
              "<table border=\"1\" class=\"dataframe\">\n",
              "  <thead>\n",
              "    <tr style=\"text-align: right;\">\n",
              "      <th></th>\n",
              "      <th>0</th>\n",
              "      <th>1</th>\n",
              "      <th>2</th>\n",
              "      <th>3</th>\n",
              "      <th>4</th>\n",
              "      <th>5</th>\n",
              "    </tr>\n",
              "  </thead>\n",
              "  <tbody>\n",
              "    <tr>\n",
              "      <th>날짜</th>\n",
              "      <td>2016-10</td>\n",
              "      <td>2016-11</td>\n",
              "      <td>2016-12</td>\n",
              "      <td>2017-01</td>\n",
              "      <td>2017-02</td>\n",
              "      <td>2017-03</td>\n",
              "    </tr>\n",
              "    <tr>\n",
              "      <th>삼성전자</th>\n",
              "      <td>233.539</td>\n",
              "      <td>214.052</td>\n",
              "      <td>159.325</td>\n",
              "      <td>112.868</td>\n",
              "      <td>121.96</td>\n",
              "      <td>129.226</td>\n",
              "    </tr>\n",
              "    <tr>\n",
              "      <th>LG전자</th>\n",
              "      <td>136.117</td>\n",
              "      <td>145.209</td>\n",
              "      <td>200.738</td>\n",
              "      <td>59.1164</td>\n",
              "      <td>42.2013</td>\n",
              "      <td>141.48</td>\n",
              "    </tr>\n",
              "    <tr>\n",
              "      <th>합계</th>\n",
              "      <td>369.7</td>\n",
              "      <td>359.3</td>\n",
              "      <td>360.1</td>\n",
              "      <td>172</td>\n",
              "      <td>164.2</td>\n",
              "      <td>270.7</td>\n",
              "    </tr>\n",
              "  </tbody>\n",
              "</table>\n",
              "</div>"
            ],
            "text/plain": [
              "            0        1        2        3        4        5\n",
              "날짜    2016-10  2016-11  2016-12  2017-01  2017-02  2017-03\n",
              "삼성전자  233.539  214.052  159.325  112.868   121.96  129.226\n",
              "LG전자  136.117  145.209  200.738  59.1164  42.2013   141.48\n",
              "합계      369.7    359.3    360.1      172    164.2    270.7"
            ]
          },
          "metadata": {
            "tags": []
          },
          "execution_count": 50
        }
      ]
    },
    {
      "cell_type": "markdown",
      "metadata": {
        "slideshow": {
          "slide_type": "slide"
        },
        "id": "uvXYvD9cEE-s",
        "colab_type": "text"
      },
      "source": [
        "# 리뷰\n",
        "* DataFrame 구조  df.columns, df.index, df.values\n",
        "* 필터링 df[df.skt > 90]\n",
        "* df.sort_values(by='column', ascending=False) \n",
        "* 축 변환 df.T"
      ]
    },
    {
      "cell_type": "markdown",
      "metadata": {
        "slideshow": {
          "slide_type": "notes"
        },
        "id": "2SH21VGuEE-t",
        "colab_type": "text"
      },
      "source": [
        "----\n",
        "#### 2017 FinanceData http://fb.com/financedata http://financedata.github.com"
      ]
    }
  ]
}