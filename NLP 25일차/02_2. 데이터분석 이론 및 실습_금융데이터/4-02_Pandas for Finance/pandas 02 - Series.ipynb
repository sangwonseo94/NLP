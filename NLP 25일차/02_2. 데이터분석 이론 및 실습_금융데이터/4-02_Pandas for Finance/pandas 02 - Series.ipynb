{
 "cells": [
  {
   "cell_type": "markdown",
   "metadata": {
    "slideshow": {
     "slide_type": "slide"
    }
   },
   "source": [
    "# pandas-02 Series\n",
    "\n",
    "<img src=\"http://goo.gl/ht49rJ\" >\n",
    "\n",
    "\n",
    "#### 2017 FinanceData http://fb.com/financedata\n"
   ]
  },
  {
   "cell_type": "markdown",
   "metadata": {
    "slideshow": {
     "slide_type": "slide"
    }
   },
   "source": [
    "# Series\n",
    "* 1차원 배열 모습의 자료구조이며, 각 요소는 NumPy의 데이터 타입\n",
    "* numpy.ndarray 의 서브클래스\n",
    "* 값과 값에 대한 인덱스(index)로 구성\n",
    "* 리스트, 딕셔너리 혹은 다른 시리즈로 부터 생성"
   ]
  },
  {
   "cell_type": "code",
   "execution_count": 1,
   "metadata": {
    "collapsed": true,
    "slideshow": {
     "slide_type": "slide"
    }
   },
   "outputs": [],
   "source": [
    "import pandas as pd\n",
    "from pandas import Series, DataFrame"
   ]
  },
  {
   "cell_type": "code",
   "execution_count": 2,
   "metadata": {
    "slideshow": {
     "slide_type": "skip"
    }
   },
   "outputs": [
    {
     "data": {
      "text/plain": [
       "'0.18.1'"
      ]
     },
     "execution_count": 2,
     "metadata": {},
     "output_type": "execute_result"
    }
   ],
   "source": [
    "pd.__version__"
   ]
  },
  {
   "cell_type": "markdown",
   "metadata": {
    "slideshow": {
     "slide_type": "slide"
    }
   },
   "source": [
    "# 리스트에서 생성\n",
    "\n",
    "일반적으로 리스트, 딕셔너리 혹은 다른 시리즈로 부터 생성한다."
   ]
  },
  {
   "cell_type": "code",
   "execution_count": 3,
   "metadata": {
    "slideshow": {
     "slide_type": "-"
    }
   },
   "outputs": [
    {
     "data": {
      "text/plain": [
       "0    7\n",
       "1    0\n",
       "2   -3\n",
       "3    8\n",
       "4    1\n",
       "dtype: int64"
      ]
     },
     "execution_count": 3,
     "metadata": {},
     "output_type": "execute_result"
    }
   ],
   "source": [
    "s = Series([7, 0, -3, 8, 1])\n",
    "s"
   ]
  },
  {
   "cell_type": "code",
   "execution_count": 4,
   "metadata": {
    "slideshow": {
     "slide_type": "-"
    }
   },
   "outputs": [
    {
     "name": "stdout",
     "output_type": "stream",
     "text": [
      "[ 7  0 -3  8  1]\n",
      "RangeIndex(start=0, stop=5, step=1)\n"
     ]
    }
   ],
   "source": [
    "print(s.values)\n",
    "print(s.index)"
   ]
  },
  {
   "cell_type": "markdown",
   "metadata": {
    "slideshow": {
     "slide_type": "slide"
    }
   },
   "source": [
    "# Series 생성하면서 인덱스를 지정\n",
    "* 숫자 인덱스는 0에서 시작한다. 0:3 0, 1, 2\n",
    "* 값에 접근할 때는 라벨을 인덱스로 이용"
   ]
  },
  {
   "cell_type": "code",
   "execution_count": 5,
   "metadata": {
    "slideshow": {
     "slide_type": "-"
    }
   },
   "outputs": [
    {
     "data": {
      "text/plain": [
       "A    7\n",
       "B    0\n",
       "C   -3\n",
       "D    8\n",
       "E    1\n",
       "dtype: int64"
      ]
     },
     "execution_count": 5,
     "metadata": {},
     "output_type": "execute_result"
    }
   ],
   "source": [
    "s = Series([7, 0, -3, 8, 1], index=['A', 'B', 'C', 'D', 'E'])\n",
    "s"
   ]
  },
  {
   "cell_type": "markdown",
   "metadata": {
    "slideshow": {
     "slide_type": "slide"
    }
   },
   "source": [
    "# 딕셔너리에서 Series 생성"
   ]
  },
  {
   "cell_type": "code",
   "execution_count": 6,
   "metadata": {
    "slideshow": {
     "slide_type": "-"
    }
   },
   "outputs": [
    {
     "data": {
      "text/plain": [
       "A    7\n",
       "B    0\n",
       "C   -3\n",
       "D    8\n",
       "dtype: int64"
      ]
     },
     "execution_count": 6,
     "metadata": {},
     "output_type": "execute_result"
    }
   ],
   "source": [
    "s = Series({'A':7, 'B':0, 'C':-3, 'D':8})\n",
    "s"
   ]
  },
  {
   "cell_type": "markdown",
   "metadata": {
    "slideshow": {
     "slide_type": "slide"
    }
   },
   "source": [
    "# Series 접근"
   ]
  },
  {
   "cell_type": "code",
   "execution_count": 7,
   "metadata": {
    "collapsed": true,
    "slideshow": {
     "slide_type": "-"
    }
   },
   "outputs": [],
   "source": [
    "s = Series({'A':7, 'B':0, 'C':-3, 'D':8})"
   ]
  },
  {
   "cell_type": "code",
   "execution_count": 8,
   "metadata": {
    "slideshow": {
     "slide_type": "-"
    }
   },
   "outputs": [
    {
     "data": {
      "text/plain": [
       "8"
      ]
     },
     "execution_count": 8,
     "metadata": {},
     "output_type": "execute_result"
    }
   ],
   "source": [
    "s['D']  # s[3] 과 같다."
   ]
  },
  {
   "cell_type": "code",
   "execution_count": 9,
   "metadata": {
    "slideshow": {
     "slide_type": "-"
    }
   },
   "outputs": [
    {
     "data": {
      "text/plain": [
       "B    0\n",
       "D    8\n",
       "dtype: int64"
      ]
     },
     "execution_count": 9,
     "metadata": {},
     "output_type": "execute_result"
    }
   ],
   "source": [
    "s[['B', 'D']]"
   ]
  },
  {
   "cell_type": "code",
   "execution_count": 10,
   "metadata": {
    "slideshow": {
     "slide_type": "slide"
    }
   },
   "outputs": [
    {
     "name": "stdout",
     "output_type": "stream",
     "text": [
      "A    7\n",
      "B    0\n",
      "C   -3\n",
      "dtype: int64\n",
      "A    7\n",
      "B    0\n",
      "C   -3\n",
      "dtype: int64\n"
     ]
    }
   ],
   "source": [
    "s = Series({'A':7, 'B':0, 'C':-3, 'D':8})\n",
    "\n",
    "print (s[0:3])      # 숫자 인덱스는 0에서 시작, 끝점은 포함하지 않는다.\n",
    "print (s['A':'C'])  # 라벨 이름은 끝점을 포함"
   ]
  },
  {
   "cell_type": "markdown",
   "metadata": {
    "slideshow": {
     "slide_type": "slide"
    }
   },
   "source": [
    "# 필터링과 연산\n",
    "* 필터링: 값의 비교를 통해 Series의 일부를 추출\n",
    "* NumPy 배열: 1)필터링, 2)스칼라 곱, 3)산술 연산을 인덱스-값 연계하여 수행"
   ]
  },
  {
   "cell_type": "code",
   "execution_count": 11,
   "metadata": {
    "slideshow": {
     "slide_type": "-"
    }
   },
   "outputs": [
    {
     "data": {
      "text/plain": [
       "A    7\n",
       "D    8\n",
       "dtype: int64"
      ]
     },
     "execution_count": 11,
     "metadata": {},
     "output_type": "execute_result"
    }
   ],
   "source": [
    "# 조건에 해당하는 요소 추출 (Booelan Mask)\n",
    "s = Series({'A':7, 'B':0, 'C':-3, 'D':8})\n",
    "\n",
    "s[s > 0] "
   ]
  },
  {
   "cell_type": "code",
   "execution_count": 12,
   "metadata": {
    "slideshow": {
     "slide_type": "slide"
    }
   },
   "outputs": [
    {
     "data": {
      "text/plain": [
       "A    70\n",
       "B     0\n",
       "C   -30\n",
       "D    80\n",
       "dtype: int64"
      ]
     },
     "execution_count": 12,
     "metadata": {},
     "output_type": "execute_result"
    }
   ],
   "source": [
    "# 스칼라 곱 (연산)\n",
    "s = Series({'A':7, 'B':0, 'C':-3, 'D':8})\n",
    "\n",
    "s10 = s * 10 \n",
    "s10"
   ]
  },
  {
   "cell_type": "code",
   "execution_count": 13,
   "metadata": {
    "slideshow": {
     "slide_type": "slide"
    }
   },
   "outputs": [
    {
     "data": {
      "text/plain": [
       "A     7\n",
       "B    10\n",
       "C    10\n",
       "D    10\n",
       "dtype: int64"
      ]
     },
     "execution_count": 13,
     "metadata": {},
     "output_type": "execute_result"
    }
   ],
   "source": [
    "# 범위에 값 할당\n",
    "s = Series({'A':7, 'B':0, 'C':-3, 'D':8})\n",
    "\n",
    "s[1:4] =  10 \n",
    "s"
   ]
  },
  {
   "cell_type": "markdown",
   "metadata": {
    "slideshow": {
     "slide_type": "slide"
    }
   },
   "source": [
    "# Series를 다른 측면에서 보면\n",
    "* 딕셔너리와(dict) 와 매우 유사\n",
    "* 차이점: 요소에 임의 라벨을 붙일 수 있고, 요소의 타입이 서로 다를 수 있다\n",
    "* 순서 있는 사전, 인덱스 값과 데이터 값이 매핑"
   ]
  },
  {
   "cell_type": "markdown",
   "metadata": {
    "slideshow": {
     "slide_type": "slide"
    }
   },
   "source": [
    "# Series간 연산\n"
   ]
  },
  {
   "cell_type": "code",
   "execution_count": 14,
   "metadata": {
    "slideshow": {
     "slide_type": "-"
    }
   },
   "outputs": [
    {
     "data": {
      "text/plain": [
       "A     NaN\n",
       "B    13.0\n",
       "C     8.0\n",
       "D    -1.0\n",
       "E     NaN\n",
       "dtype: float64"
      ]
     },
     "execution_count": 14,
     "metadata": {},
     "output_type": "execute_result"
    }
   ],
   "source": [
    "a = Series([2, 3, 6, -4], index=['A', 'B', 'C', 'D'])\n",
    "b = Series([10, 2, 3, 8], index=['B', 'C', 'D', 'E'])\n",
    "\n",
    "c = a + b\n",
    "c"
   ]
  },
  {
   "cell_type": "markdown",
   "metadata": {
    "slideshow": {
     "slide_type": "slide"
    }
   },
   "source": [
    "# 누락 데이터(missing data)"
   ]
  },
  {
   "cell_type": "code",
   "execution_count": 15,
   "metadata": {
    "slideshow": {
     "slide_type": "-"
    }
   },
   "outputs": [
    {
     "name": "stdout",
     "output_type": "stream",
     "text": [
      "A     NaN\n",
      "B    13.0\n",
      "C     8.0\n",
      "D    -1.0\n",
      "E     NaN\n",
      "dtype: float64\n",
      "----------------------------------------\n",
      "A     0.0\n",
      "B    13.0\n",
      "C     8.0\n",
      "D    -1.0\n",
      "E     0.0\n",
      "dtype: float64\n"
     ]
    }
   ],
   "source": [
    "# 누락 데이터(NaN)를 0으로 채우기\n",
    "print (c)\n",
    "print ('-' * 40)\n",
    "\n",
    "fill_c = c.fillna(0)\n",
    "print(fill_c)"
   ]
  },
  {
   "cell_type": "markdown",
   "metadata": {
    "slideshow": {
     "slide_type": "slide"
    }
   },
   "source": [
    "# dropna()"
   ]
  },
  {
   "cell_type": "code",
   "execution_count": 16,
   "metadata": {
    "slideshow": {
     "slide_type": "-"
    }
   },
   "outputs": [
    {
     "name": "stdout",
     "output_type": "stream",
     "text": [
      "A     NaN\n",
      "B    13.0\n",
      "C     8.0\n",
      "D    -1.0\n",
      "E     NaN\n",
      "dtype: float64\n",
      "----------------------------------------\n",
      "B    13.0\n",
      "C     8.0\n",
      "D    -1.0\n",
      "dtype: float64\n"
     ]
    }
   ],
   "source": [
    "# dropna(), NaN 요소 삭제\n",
    "print(c)\n",
    "print ('-' * 40)\n",
    "\n",
    "drop_c = c.dropna()\n",
    "print(drop_c)"
   ]
  },
  {
   "cell_type": "markdown",
   "metadata": {
    "slideshow": {
     "slide_type": "slide"
    }
   },
   "source": [
    "# append()\n",
    "자주 사용하지는 않지만, 시리즈에 값을 추가할때 사용"
   ]
  },
  {
   "cell_type": "code",
   "execution_count": 17,
   "metadata": {
    "slideshow": {
     "slide_type": "-"
    }
   },
   "outputs": [
    {
     "name": "stdout",
     "output_type": "stream",
     "text": [
      "A     7\n",
      "B    10\n",
      "C    10\n",
      "D    10\n",
      "dtype: int64\n",
      "----------------------------------------\n"
     ]
    },
    {
     "data": {
      "text/plain": [
       "A     7\n",
       "B    10\n",
       "C    10\n",
       "D    10\n",
       "F    -1\n",
       "dtype: int64"
      ]
     },
     "execution_count": 17,
     "metadata": {},
     "output_type": "execute_result"
    }
   ],
   "source": [
    "print (s)\n",
    "print ('-' * 40)\n",
    "\n",
    "f = Series(-1, index=['F'])\n",
    "t = s.append(f)\n",
    "t"
   ]
  },
  {
   "cell_type": "markdown",
   "metadata": {
    "slideshow": {
     "slide_type": "slide"
    }
   },
   "source": [
    "# 인덱스 이름 변경\n",
    "* 인덱스 이름을 바꾸려면, index 속성에 리스트를 할당\n",
    "* 요소의 개수는 작거나 같아야 (작으면 나머지는 삭제)\n",
    "* Series 객체를 새로 생성하는 것이 아니라, 기존 Series 객체의 인덱스를 변경"
   ]
  },
  {
   "cell_type": "code",
   "execution_count": 18,
   "metadata": {
    "slideshow": {
     "slide_type": "-"
    }
   },
   "outputs": [
    {
     "name": "stdout",
     "output_type": "stream",
     "text": [
      "A     7\n",
      "B    10\n",
      "C    10\n",
      "D    10\n",
      "dtype: int64\n",
      "----------------------------------------\n",
      "Alfa        7\n",
      "Bravo      10\n",
      "Charlie    10\n",
      "Delta      10\n",
      "dtype: int64\n"
     ]
    }
   ],
   "source": [
    "print (s)\n",
    "print ('-' * 40)\n",
    "\n",
    "s.index = ['Alfa', 'Bravo', 'Charlie', 'Delta']\n",
    "print(s)"
   ]
  },
  {
   "cell_type": "markdown",
   "metadata": {
    "slideshow": {
     "slide_type": "slide"
    }
   },
   "source": [
    "# 리뷰\n",
    "\n",
    "* Series 생성: 일반적으로 리스트, 딕셔너리로 부터\n",
    "* Series간 산술연산, 필터링\n",
    "* 누락 데이터(missing data) 처리: fillna(), dropna()\n",
    "* append()\n",
    "* 인덱스 이름 변경, s.index = []"
   ]
  },
  {
   "cell_type": "markdown",
   "metadata": {
    "slideshow": {
     "slide_type": "notes"
    }
   },
   "source": [
    "----\n",
    "#### 2017 FinanceData http://fb.com/financedata http://financedata.github.com"
   ]
  }
 ],
 "metadata": {
  "celltoolbar": "Slideshow",
  "kernelspec": {
   "display_name": "Python 3",
   "language": "python",
   "name": "python3"
  },
  "language_info": {
   "codemirror_mode": {
    "name": "ipython",
    "version": 3
   },
   "file_extension": ".py",
   "mimetype": "text/x-python",
   "name": "python",
   "nbconvert_exporter": "python",
   "pygments_lexer": "ipython3",
   "version": "3.5.2"
  }
 },
 "nbformat": 4,
 "nbformat_minor": 1
}