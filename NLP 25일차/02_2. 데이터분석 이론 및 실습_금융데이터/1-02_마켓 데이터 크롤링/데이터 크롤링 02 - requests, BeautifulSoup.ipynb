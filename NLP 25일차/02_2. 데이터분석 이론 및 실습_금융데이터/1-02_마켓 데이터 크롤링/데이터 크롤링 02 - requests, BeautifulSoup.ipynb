{
  "nbformat": 4,
  "nbformat_minor": 0,
  "metadata": {
    "colab": {
      "name": "데이터 크롤링 02 - requests, BeautifulSoup.ipynb",
      "version": "0.3.2",
      "provenance": [],
      "collapsed_sections": []
    },
    "language_info": {
      "codemirror_mode": {
        "name": "ipython",
        "version": 3
      },
      "file_extension": ".py",
      "mimetype": "text/x-python",
      "name": "python",
      "nbconvert_exporter": "python",
      "pygments_lexer": "ipython3",
      "version": "3.5.2"
    },
    "kernelspec": {
      "display_name": "Python 3",
      "language": "python",
      "name": "python3"
    }
  },
  "cells": [
    {
      "cell_type": "markdown",
      "metadata": {
        "slideshow": {
          "slide_type": "slide"
        },
        "id": "pENhtGTZzDm_",
        "colab_type": "text"
      },
      "source": [
        "# 데이터 크롤링 02 - requests, BeautifulSoup\n",
        "* 구글 카운터 - requests, BeautifulSoup\n",
        "* 네이버 파이낸스 기업현황\n",
        "\n",
        "<img width=\"300\" src=\"http://i.imgur.com/grQHNKG.jpg\">\n",
        "\n",
        "#### 2017 FinanceData http://fb.com/financedata"
      ]
    },
    {
      "cell_type": "markdown",
      "metadata": {
        "slideshow": {
          "slide_type": "slide"
        },
        "id": "iH8gAh-_zDnB",
        "colab_type": "text"
      },
      "source": [
        "# 구글 카운터\n",
        "* 특정 태그의 text 가져오기\n",
        "\n",
        "<img src=\"http://i.imgur.com/cWezq4x.png\" >\n"
      ]
    },
    {
      "cell_type": "code",
      "metadata": {
        "slideshow": {
          "slide_type": "-"
        },
        "id": "_clJv5JgzDnC",
        "colab_type": "code",
        "colab": {}
      },
      "source": [
        "import requests\n",
        "from bs4 import BeautifulSoup\n",
        "\n",
        "url = \"https://www.google.com/search?q=삼성전자\"\n",
        "r = requests.get(url)\n",
        "\n",
        "soup = BeautifulSoup(r.content, 'lxml')\n",
        "div = soup.find('div', id='resultStats')\n",
        "div # 찾지못함"
      ],
      "execution_count": 0,
      "outputs": []
    },
    {
      "cell_type": "markdown",
      "metadata": {
        "id": "Cw2digEx1MkQ",
        "colab_type": "text"
      },
      "source": [
        "requests()에 헤더를 지정합니다"
      ]
    },
    {
      "cell_type": "code",
      "metadata": {
        "id": "pffPgHuE0bHI",
        "colab_type": "code",
        "colab": {
          "base_uri": "https://localhost:8080/",
          "height": 35
        },
        "outputId": "f8f5ce07-b1d4-44c6-cd72-228632c3b7c5"
      },
      "source": [
        "import requests\n",
        "from bs4 import BeautifulSoup\n",
        "\n",
        "# 헤더 지정\n",
        "headers = {\n",
        "    'user-agent': 'AppleWebKit Chrome/74',\n",
        "    'accept-language': 'ko'\n",
        "}\n",
        "\n",
        "r = requests.get(url, headers=headers)\n",
        "\n",
        "soup = BeautifulSoup(r.content, 'lxml')\n",
        "div = soup.find('div', id='resultStats')\n",
        "div"
      ],
      "execution_count": 8,
      "outputs": [
        {
          "output_type": "execute_result",
          "data": {
            "text/plain": [
              "<div id=\"resultStats\">검색결과 약 91,300,000개<nobr> (0.36초) </nobr></div>"
            ]
          },
          "metadata": {
            "tags": []
          },
          "execution_count": 8
        }
      ]
    },
    {
      "cell_type": "markdown",
      "metadata": {
        "slideshow": {
          "slide_type": "slide"
        },
        "id": "kJFQfgfVzDnK",
        "colab_type": "text"
      },
      "source": [
        "# 네이버 파이낸스 기업현황\n",
        "\n",
        "http://companyinfo.stock.naver.com/v1/company/c1010001.aspx?cmp_cd=005930\n",
        "\n",
        "<img src=\"http://i.imgur.com/aWBN6PR.png\" >\n"
      ]
    },
    {
      "cell_type": "code",
      "metadata": {
        "slideshow": {
          "slide_type": "slide"
        },
        "id": "-axC1Z4KzDnL",
        "colab_type": "code",
        "colab": {
          "base_uri": "https://localhost:8080/",
          "height": 279
        },
        "outputId": "0a13688b-e712-4c27-b53f-c4baddedd07e"
      },
      "source": [
        "code = '005930'\n",
        "url = 'http://companyinfo.stock.naver.com/v1/company/c1010001.aspx?cmp_cd=' + code\n",
        "\n",
        "r = requests.get(url)\n",
        "soup = BeautifulSoup(r.text,\"lxml\")\n",
        "td = soup.find('td', {'class':'cmp-table-cell td0101'})\n",
        "td"
      ],
      "execution_count": 9,
      "outputs": [
        {
          "output_type": "execute_result",
          "data": {
            "text/plain": [
              "<td class=\"cmp-table-cell td0101\">\n",
              "<dl>\n",
              "<dt>\n",
              "<span class=\"name\">삼성전자</span>\n",
              "<a class=\"cEm\" href=\"http://www.sec.co.kr\" target=\"comPage\" title=\"[홈페이지] www.sec.co.kr\"><img align=\"absmiddle\" hspace=\"3\" src=\"/images/icon_home.gif\"/></a>\n",
              "<a class=\"cEm\" title=\"[대표전화] 031-200-1114       \n",
              "[주식담당] 02-2255-8126\"><img align=\"absmiddle\" hspace=\"1\" src=\"/images/icon_tel.gif\"/></a>\n",
              "<b class=\"num\">005930</b>\n",
              "</dt>\n",
              "<dt class=\"line-left\">SamsungElec</dt>\n",
              "<dt class=\"line-left\">KOSPI : 전기전자</dt>\n",
              "<dt class=\"line-left\">WICS : 반도체와반도체장비</dt>\n",
              "</dl>\n",
              "</td>"
            ]
          },
          "metadata": {
            "tags": []
          },
          "execution_count": 9
        }
      ]
    },
    {
      "cell_type": "code",
      "metadata": {
        "slideshow": {
          "slide_type": "-"
        },
        "id": "6jSuZVpIzDnS",
        "colab_type": "code",
        "colab": {
          "base_uri": "https://localhost:8080/",
          "height": 35
        },
        "outputId": "102c7167-42e7-4fde-b7ae-7d6335b788af"
      },
      "source": [
        "td.find('span', {'class':'name'}).text"
      ],
      "execution_count": 10,
      "outputs": [
        {
          "output_type": "execute_result",
          "data": {
            "text/plain": [
              "'삼성전자'"
            ]
          },
          "metadata": {
            "tags": []
          },
          "execution_count": 10
        }
      ]
    },
    {
      "cell_type": "code",
      "metadata": {
        "slideshow": {
          "slide_type": "-"
        },
        "id": "XoG3t2dOzDnY",
        "colab_type": "code",
        "colab": {},
        "outputId": "8b0f5ef6-dbc5-4a22-978f-fabaeb92355c"
      },
      "source": [
        "anchors = td.find_all('a', {'class':'cEm'})\n",
        "\n",
        "print(anchors[0]['href'])\n",
        "print(anchors[1]['title'].replace('\\r', ''))"
      ],
      "execution_count": 0,
      "outputs": [
        {
          "output_type": "stream",
          "text": [
            "http://www.samsung.com\n",
            "[대표전화] 031-200-1114       [주식담당] 02-2255-8126\n"
          ],
          "name": "stdout"
        }
      ]
    },
    {
      "cell_type": "code",
      "metadata": {
        "id": "9sms9mpuzDnd",
        "colab_type": "code",
        "colab": {},
        "outputId": "5ca4cd31-4f47-49e8-fb5c-6fb519703c6e"
      },
      "source": [
        "anchors[1]['title']"
      ],
      "execution_count": 0,
      "outputs": [
        {
          "output_type": "execute_result",
          "data": {
            "text/plain": [
              "'[대표전화] 031-200-1114       \\r[주식담당] 02-2255-8126'"
            ]
          },
          "metadata": {
            "tags": []
          },
          "execution_count": 11
        }
      ]
    },
    {
      "cell_type": "code",
      "metadata": {
        "slideshow": {
          "slide_type": "-"
        },
        "id": "jSVp0l38zDnh",
        "colab_type": "code",
        "colab": {},
        "outputId": "93d4ddd7-97b7-41b7-ccb8-cfa0f149613e"
      },
      "source": [
        "dts = td.find_all('dt', {'class':'line-left'})\n",
        "\n",
        "print(dts[0].text)\n",
        "print(dts[1].text)\n",
        "print(dts[2].text)"
      ],
      "execution_count": 0,
      "outputs": [
        {
          "output_type": "stream",
          "text": [
            "Samsung Electronics\n",
            "KOSPI : 전기전자\n",
            "WICS : 반도체와반도체장비\n"
          ],
          "name": "stdout"
        }
      ]
    },
    {
      "cell_type": "markdown",
      "metadata": {
        "collapsed": true,
        "slideshow": {
          "slide_type": "slide"
        },
        "id": "HHPOWypyzDnk",
        "colab_type": "text"
      },
      "source": [
        "----\n",
        "#### 2017 FinanceData http://fb.com/financedata http://financedata.github.com"
      ]
    }
  ]
}