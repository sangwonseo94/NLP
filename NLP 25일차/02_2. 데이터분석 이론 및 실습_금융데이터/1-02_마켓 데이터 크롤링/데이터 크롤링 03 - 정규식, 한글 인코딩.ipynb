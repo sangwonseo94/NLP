{
 "cells": [
  {
   "cell_type": "markdown",
   "metadata": {
    "slideshow": {
     "slide_type": "slide"
    }
   },
   "source": [
    "# 데이터 크롤링 03 - 정규식, JSON, 한글 인코딩\n",
    "* 네이버 실시간 급상승 - 정규식\n",
    "* 네이버 실시간 검색어 순위 - JSON\n",
    "* 전화 번호부 - 한글 인코딩\n",
    "\n",
    "\n",
    "<img width=\"300\" src=\"http://i.imgur.com/grQHNKG.jpg\">\n",
    "\n",
    "#### 2017 FinanceData http://fb.com/financedata"
   ]
  },
  {
   "cell_type": "markdown",
   "metadata": {
    "collapsed": true,
    "slideshow": {
     "slide_type": "slide"
    }
   },
   "source": [
    "# 네이버 실시간 급상승 크롤링 - 정규식\n",
    "* requests.get()\n",
    "* 파이썬 정규 표현식(regular expression)\n",
    "\n",
    "http://naver.com\n",
    "<img src=\"http://i.imgur.com/AJH8h1d.png\" >\n",
    "\n",
    "짧으면서 최대한 많은 의미를 담기 위한 Python 크롤링 코드. import 문을 제외하면 딱 1줄 !"
   ]
  },
  {
   "cell_type": "code",
   "execution_count": 1,
   "metadata": {
    "slideshow": {
     "slide_type": "-"
    }
   },
   "outputs": [
    {
     "data": {
      "text/plain": [
       "['하지',\n",
       " '트랜스포머',\n",
       " '권순호',\n",
       " '신연희',\n",
       " '최호식',\n",
       " '소피아노',\n",
       " '디졸브',\n",
       " '티아라',\n",
       " '에이미',\n",
       " '국립자연휴양림',\n",
       " '리니지m',\n",
       " '병무청',\n",
       " '학점계산기',\n",
       " '홍은기',\n",
       " 'bbq',\n",
       " '나혼자산다 충재',\n",
       " '방탄소년단',\n",
       " '민경욱',\n",
       " '주말날씨',\n",
       " '케네스 배']"
      ]
     },
     "execution_count": 1,
     "metadata": {},
     "output_type": "execute_result"
    }
   ],
   "source": [
    "import re\n",
    "import requests\n",
    "\n",
    "html_text = requests.get('http://naver.com').text\n",
    "re.findall('<span class=\"ah_k\">(.*?)</span>', html_text)[:20]"
   ]
  },
  {
   "cell_type": "markdown",
   "metadata": {
    "slideshow": {
     "slide_type": "slide"
    }
   },
   "source": [
    "# JSON 데이터 - 네이버 실시간 검색어 순위 \n",
    "실시간 검색어 순위 JOSN 데이터를 반환하는 URL\n",
    "\n",
    "http://rank.search.naver.com/rank.js"
   ]
  },
  {
   "cell_type": "code",
   "execution_count": 2,
   "metadata": {
    "slideshow": {
     "slide_type": "-"
    }
   },
   "outputs": [
    {
     "data": {
      "text/html": [
       "<div>\n",
       "<style>\n",
       "    .dataframe thead tr:only-child th {\n",
       "        text-align: right;\n",
       "    }\n",
       "\n",
       "    .dataframe thead th {\n",
       "        text-align: left;\n",
       "    }\n",
       "\n",
       "    .dataframe tbody tr th {\n",
       "        vertical-align: top;\n",
       "    }\n",
       "</style>\n",
       "<table border=\"1\" class=\"dataframe\">\n",
       "  <thead>\n",
       "    <tr style=\"text-align: right;\">\n",
       "      <th></th>\n",
       "      <th>change</th>\n",
       "      <th>cvalue</th>\n",
       "      <th>delta</th>\n",
       "      <th>keyword</th>\n",
       "      <th>rank</th>\n",
       "      <th>ratio</th>\n",
       "      <th>score</th>\n",
       "      <th>tvalue</th>\n",
       "    </tr>\n",
       "  </thead>\n",
       "  <tbody>\n",
       "    <tr>\n",
       "      <th>0</th>\n",
       "      <td>+</td>\n",
       "      <td>683</td>\n",
       "      <td>0</td>\n",
       "      <td>하지</td>\n",
       "      <td>1</td>\n",
       "      <td>.</td>\n",
       "      <td>171</td>\n",
       "      <td>25.21189</td>\n",
       "    </tr>\n",
       "    <tr>\n",
       "      <th>1</th>\n",
       "      <td>+</td>\n",
       "      <td>521</td>\n",
       "      <td>0</td>\n",
       "      <td>트랜스포머</td>\n",
       "      <td>2</td>\n",
       "      <td>.</td>\n",
       "      <td>66</td>\n",
       "      <td>16.30625</td>\n",
       "    </tr>\n",
       "    <tr>\n",
       "      <th>2</th>\n",
       "      <td>+</td>\n",
       "      <td>168</td>\n",
       "      <td>0</td>\n",
       "      <td>권순호</td>\n",
       "      <td>3</td>\n",
       "      <td>.</td>\n",
       "      <td>336</td>\n",
       "      <td>14.36222</td>\n",
       "    </tr>\n",
       "    <tr>\n",
       "      <th>3</th>\n",
       "      <td>+</td>\n",
       "      <td>174</td>\n",
       "      <td>4</td>\n",
       "      <td>신연희</td>\n",
       "      <td>4</td>\n",
       "      <td>+</td>\n",
       "      <td>660</td>\n",
       "      <td>10.51422</td>\n",
       "    </tr>\n",
       "    <tr>\n",
       "      <th>4</th>\n",
       "      <td>+</td>\n",
       "      <td>185</td>\n",
       "      <td>1</td>\n",
       "      <td>최호식</td>\n",
       "      <td>5</td>\n",
       "      <td>-</td>\n",
       "      <td>384</td>\n",
       "      <td>9.92218</td>\n",
       "    </tr>\n",
       "    <tr>\n",
       "      <th>5</th>\n",
       "      <td>+</td>\n",
       "      <td>214</td>\n",
       "      <td>1</td>\n",
       "      <td>소피아노</td>\n",
       "      <td>6</td>\n",
       "      <td>-</td>\n",
       "      <td>159</td>\n",
       "      <td>9.27699</td>\n",
       "    </tr>\n",
       "    <tr>\n",
       "      <th>6</th>\n",
       "      <td>+</td>\n",
       "      <td>78</td>\n",
       "      <td>1</td>\n",
       "      <td>디졸브</td>\n",
       "      <td>7</td>\n",
       "      <td>-</td>\n",
       "      <td>510</td>\n",
       "      <td>6.13401</td>\n",
       "    </tr>\n",
       "    <tr>\n",
       "      <th>7</th>\n",
       "      <td>+</td>\n",
       "      <td>94</td>\n",
       "      <td>1</td>\n",
       "      <td>티아라</td>\n",
       "      <td>8</td>\n",
       "      <td>-</td>\n",
       "      <td>54</td>\n",
       "      <td>5.00507</td>\n",
       "    </tr>\n",
       "    <tr>\n",
       "      <th>8</th>\n",
       "      <td>+</td>\n",
       "      <td>67</td>\n",
       "      <td>0</td>\n",
       "      <td>에이미</td>\n",
       "      <td>9</td>\n",
       "      <td>.</td>\n",
       "      <td>189</td>\n",
       "      <td>4.65179</td>\n",
       "    </tr>\n",
       "    <tr>\n",
       "      <th>9</th>\n",
       "      <td>+</td>\n",
       "      <td>105</td>\n",
       "      <td>1</td>\n",
       "      <td>국립자연휴양림</td>\n",
       "      <td>10</td>\n",
       "      <td>+</td>\n",
       "      <td>75</td>\n",
       "      <td>3.14045</td>\n",
       "    </tr>\n",
       "    <tr>\n",
       "      <th>10</th>\n",
       "      <td>+</td>\n",
       "      <td>1768</td>\n",
       "      <td>1</td>\n",
       "      <td>리니지m</td>\n",
       "      <td>11</td>\n",
       "      <td>-</td>\n",
       "      <td>9</td>\n",
       "      <td>2.84773</td>\n",
       "    </tr>\n",
       "    <tr>\n",
       "      <th>11</th>\n",
       "      <td>+</td>\n",
       "      <td>193</td>\n",
       "      <td>1</td>\n",
       "      <td>병무청</td>\n",
       "      <td>12</td>\n",
       "      <td>+</td>\n",
       "      <td>27</td>\n",
       "      <td>2.38957</td>\n",
       "    </tr>\n",
       "    <tr>\n",
       "      <th>12</th>\n",
       "      <td>+</td>\n",
       "      <td>76</td>\n",
       "      <td>2</td>\n",
       "      <td>학점계산기</td>\n",
       "      <td>13</td>\n",
       "      <td>+</td>\n",
       "      <td>63</td>\n",
       "      <td>2.27637</td>\n",
       "    </tr>\n",
       "    <tr>\n",
       "      <th>13</th>\n",
       "      <td>+</td>\n",
       "      <td>157</td>\n",
       "      <td>2</td>\n",
       "      <td>홍은기</td>\n",
       "      <td>14</td>\n",
       "      <td>-</td>\n",
       "      <td>426</td>\n",
       "      <td>19.10500</td>\n",
       "    </tr>\n",
       "    <tr>\n",
       "      <th>14</th>\n",
       "      <td>+</td>\n",
       "      <td>51</td>\n",
       "      <td>0</td>\n",
       "      <td>bbq</td>\n",
       "      <td>15</td>\n",
       "      <td>new</td>\n",
       "      <td>72</td>\n",
       "      <td>2.10997</td>\n",
       "    </tr>\n",
       "    <tr>\n",
       "      <th>15</th>\n",
       "      <td>+</td>\n",
       "      <td>131</td>\n",
       "      <td>2</td>\n",
       "      <td>나혼자산다 충재</td>\n",
       "      <td>16</td>\n",
       "      <td>-</td>\n",
       "      <td>174</td>\n",
       "      <td>15.70270</td>\n",
       "    </tr>\n",
       "    <tr>\n",
       "      <th>16</th>\n",
       "      <td>+</td>\n",
       "      <td>96</td>\n",
       "      <td>1</td>\n",
       "      <td>방탄소년단</td>\n",
       "      <td>17</td>\n",
       "      <td>-</td>\n",
       "      <td>33</td>\n",
       "      <td>1.95466</td>\n",
       "    </tr>\n",
       "    <tr>\n",
       "      <th>17</th>\n",
       "      <td>+</td>\n",
       "      <td>112</td>\n",
       "      <td>0</td>\n",
       "      <td>민경욱</td>\n",
       "      <td>18</td>\n",
       "      <td>new</td>\n",
       "      <td>300</td>\n",
       "      <td>11.60880</td>\n",
       "    </tr>\n",
       "    <tr>\n",
       "      <th>18</th>\n",
       "      <td>+</td>\n",
       "      <td>278</td>\n",
       "      <td>0</td>\n",
       "      <td>주말날씨</td>\n",
       "      <td>19</td>\n",
       "      <td>.</td>\n",
       "      <td>96</td>\n",
       "      <td>5.95798</td>\n",
       "    </tr>\n",
       "    <tr>\n",
       "      <th>19</th>\n",
       "      <td>+</td>\n",
       "      <td>90</td>\n",
       "      <td>2</td>\n",
       "      <td>케네스 배</td>\n",
       "      <td>20</td>\n",
       "      <td>-</td>\n",
       "      <td>621</td>\n",
       "      <td>11.31720</td>\n",
       "    </tr>\n",
       "  </tbody>\n",
       "</table>\n",
       "</div>"
      ],
      "text/plain": [
       "   change  cvalue  delta   keyword  rank ratio  score    tvalue\n",
       "0       +     683      0        하지     1     .    171  25.21189\n",
       "1       +     521      0     트랜스포머     2     .     66  16.30625\n",
       "2       +     168      0       권순호     3     .    336  14.36222\n",
       "3       +     174      4       신연희     4     +    660  10.51422\n",
       "4       +     185      1       최호식     5     -    384   9.92218\n",
       "5       +     214      1      소피아노     6     -    159   9.27699\n",
       "6       +      78      1       디졸브     7     -    510   6.13401\n",
       "7       +      94      1       티아라     8     -     54   5.00507\n",
       "8       +      67      0       에이미     9     .    189   4.65179\n",
       "9       +     105      1   국립자연휴양림    10     +     75   3.14045\n",
       "10      +    1768      1      리니지m    11     -      9   2.84773\n",
       "11      +     193      1       병무청    12     +     27   2.38957\n",
       "12      +      76      2     학점계산기    13     +     63   2.27637\n",
       "13      +     157      2       홍은기    14     -    426  19.10500\n",
       "14      +      51      0       bbq    15   new     72   2.10997\n",
       "15      +     131      2  나혼자산다 충재    16     -    174  15.70270\n",
       "16      +      96      1     방탄소년단    17     -     33   1.95466\n",
       "17      +     112      0       민경욱    18   new    300  11.60880\n",
       "18      +     278      0      주말날씨    19     .     96   5.95798\n",
       "19      +      90      2     케네스 배    20     -    621  11.31720"
      ]
     },
     "execution_count": 2,
     "metadata": {},
     "output_type": "execute_result"
    }
   ],
   "source": [
    "import json, requests\n",
    "from pandas.io.json import json_normalize\n",
    "\n",
    "r = requests.get('http://rank.search.naver.com/rank.js')\n",
    "json_normalize(json.loads(r.text), ['data', 'data'])"
   ]
  },
  {
   "cell_type": "code",
   "execution_count": 3,
   "metadata": {
    "slideshow": {
     "slide_type": "-"
    }
   },
   "outputs": [
    {
     "data": {
      "text/plain": [
       "'2017-06-21T14:42:00+0900'"
      ]
     },
     "execution_count": 3,
     "metadata": {},
     "output_type": "execute_result"
    }
   ],
   "source": [
    "# time stamp\n",
    "\n",
    "r = requests.get('http://rank.search.naver.com/rank.js')\n",
    "json.loads(r.text)['ts']"
   ]
  },
  {
   "cell_type": "markdown",
   "metadata": {
    "slideshow": {
     "slide_type": "slide"
    }
   },
   "source": [
    "# 한글 인코딩 - 전화번호부 사이트\n",
    "http://www.isuperpage.co.kr\n",
    "\n",
    "국내 사이트의 경우 종종 EUC-KR로 인코딩된 데이터만 수용하도록 설계된 경우\n",
    "\n",
    "\n",
    "지역과 범주를 입력하고 검색하면,\n",
    "<img src=\"http://i.imgur.com/jMesQJZ.png\">\n",
    "\n",
    "<!-- TEASER_END -->"
   ]
  },
  {
   "cell_type": "markdown",
   "metadata": {
    "slideshow": {
     "slide_type": "-"
    }
   },
   "source": [
    "다음과 같은 검색 결과를 얻을 수 있다. (특정 지역 + 휴일진료하는 의료기관을 알 수 있다면 좋은 정보가 될 수 도 있을 듯)\n",
    "<img src=\"http://i.imgur.com/sI1CjcV.png\" >"
   ]
  },
  {
   "cell_type": "markdown",
   "metadata": {
    "slideshow": {
     "slide_type": "slide"
    }
   },
   "source": [
    "# euc-kr 인코딩 문제\n",
    "다른 크롤링 방법과 크게 다르지 않다. 다만, 폼 데이터(requests.post()의 data 인자)로 서버에 전달해야 하는 값이 유니코드가 아니라 \"euc-kr\"이라는 점이 차이가 있다. (국내 사이트의 상당수가 이런 인코딩 이슈를 안고 있다)\n",
    "\n",
    "<img src=\"http://i.imgur.com/V8mi5Ww.png\" >\n",
    "\n",
    "빨간색 테두리 부분을 살펴보자.\n",
    "FormData 부분을 보면 이상한 문자열로 데이터가 구성되는 것을 볼 수 있는데. 16진수 데이터들이 URL인코딩된 데이터이다."
   ]
  },
  {
   "cell_type": "code",
   "execution_count": 4,
   "metadata": {
    "slideshow": {
     "slide_type": "slide"
    }
   },
   "outputs": [
    {
     "name": "stdout",
     "output_type": "stream",
     "text": [
      "휴일진료\n",
      "서울\n",
      "서울+중구\n"
     ]
    }
   ],
   "source": [
    "# searchWord:%C8%DE%C0%CF%C1%F8%B7%E1\n",
    "# x:37.5640907\n",
    "# y:126.9979403\n",
    "# dong:\n",
    "# city:%BC%AD%BF%EF\n",
    "# gu:%C1%DF%B1%B8\n",
    "# addr4:\n",
    "# addr:%BC%AD%BF%EF+%C1%DF%B1%B8\n",
    "\n",
    "from urllib.parse import quote, unquote\n",
    "\n",
    "u = '%C8%DE%C0%CF%C1%F8%B7%E1'\n",
    "print (unquote(u, encoding='euc-kr'))\n",
    "\n",
    "u = '%BC%AD%BF%EF'\n",
    "print (unquote(u, encoding='euc-kr'))\n",
    "\n",
    "u = '%BC%AD%BF%EF+%C1%DF%B1%B8'\n",
    "print (unquote(u, encoding='euc-kr'))"
   ]
  },
  {
   "cell_type": "markdown",
   "metadata": {
    "slideshow": {
     "slide_type": "slide"
    }
   },
   "source": [
    "# str(유니코드) → bytes(EUC-KR) → URL Quot"
   ]
  },
  {
   "cell_type": "code",
   "execution_count": 5,
   "metadata": {
    "slideshow": {
     "slide_type": "-"
    }
   },
   "outputs": [
    {
     "name": "stdout",
     "output_type": "stream",
     "text": [
      "<class 'bytes'>\n",
      "%C8%DE%C0%CF%C1%F8%B7%E1\n"
     ]
    }
   ],
   "source": [
    "b = '휴일진료'.encode('euc-kr')\n",
    "print( type(b) )\n",
    "print( quote(b) )"
   ]
  },
  {
   "cell_type": "markdown",
   "metadata": {
    "slideshow": {
     "slide_type": "slide"
    }
   },
   "source": [
    "# URL Quot (EUC-KR) → str(유니코드)"
   ]
  },
  {
   "cell_type": "code",
   "execution_count": 6,
   "metadata": {
    "slideshow": {
     "slide_type": "-"
    }
   },
   "outputs": [
    {
     "name": "stdout",
     "output_type": "stream",
     "text": [
      "<class 'str'>\n",
      "휴일진료\n"
     ]
    }
   ],
   "source": [
    "u = '%C8%DE%C0%CF%C1%F8%B7%E1'\n",
    "s = unquote(u, encoding='euc-kr')\n",
    "print(type(s))\n",
    "print(s)"
   ]
  },
  {
   "cell_type": "markdown",
   "metadata": {
    "slideshow": {
     "slide_type": "slide"
    }
   },
   "source": [
    "# 해결책\n",
    "해결책은 무척 간단하다. str(유니코드)를 EUC-KR로 인코딩을 해주면 된다.\n",
    "\n",
    "```python\n",
    "str.encode('euc-kr')\n",
    "```\n",
    "\n",
    "크롤링과 한글 인코딩에 대한 조금 더 상세한 내용은 아래 포스팅을 참조하자.\n",
    "\n",
    "* [[FAQ] 크롤링 데이터의 한글이 깨져요](https://financedata.github.io/posts/faq_crawling_data_encoding.html)"
   ]
  },
  {
   "cell_type": "code",
   "execution_count": 7,
   "metadata": {
    "slideshow": {
     "slide_type": "-"
    }
   },
   "outputs": [
    {
     "data": {
      "text/plain": [
       "'\\r\\n<!DOCTYPE html>\\r\\n<html lang=\"ko\">\\r\\n<head>\\r\\n<meta charset=\"euc-kr\">\\r\\n<meta http-equiv=\"X-UA-Compatible\" content=\"IE=edge\" />\\r\\n<title>:: 대한민국 모든 전화번호 검색은 한국전화번호부 ::</title>\\r\\n<link rel=\"stylesheet\" type=\\'text/css\\' href=\"/css3/base_n_n.css\"/>\\r\\n<link href=\"/css3/dcaccordion.css\" rel=\"stylesheet\" type=\"text/css\" />\\r\\n<link href=\"/jqy/jquery-ui.css\" rel=\"stylesheet\" type=\"text/css\" />\\r\\n<script type=\"text/javascript\" src=\"/jqy/jquery-1.11.2.min.js\"></script>\\r\\n<script src=\"/jqy/jquery-ui-1.10.3.custom.min.js\"></script>\\r\\n<script src=\"/jqy/jquery.ba-dotimeout.min.js\"></script>\\r\\n<script src=\"/jqy/common_web.js\"></script>\\r\\n<script src=\"/jqy/placeholders.min.js\"></script>\\r\\n\\r\\n  \\r\\n\\r\\n\\r\\n<script language=\"javascript\">\\r\\n\\r\\n\\r\\n$(function() {\\r\\n\\t$(\"img.lmimg\").mouseover(function() {\\r\\n\\t\\r\\n\\t\\t$(this).attr(\"src\",$(this).attr(\"src\").replace(\"off\",\"on\"));\\r\\n\\t});\\r\\n  $(\"img.lmimg\").mouseout(function() {\\r\\n        $(this).css(\"display\",\"\");\\r\\n\\t\\t$(this).attr(\"src\",$(this).attr(\"src\").replace(\"on\",\"off\"));\\r\\n\\t});\\t\\r\\n\\t\\r\\n});\\r\\n\\r'"
      ]
     },
     "execution_count": 7,
     "metadata": {},
     "output_type": "execute_result"
    }
   ],
   "source": [
    "import requests\n",
    "\n",
    "url = 'http://www.isuperpage.co.kr/search.asp'\n",
    "\n",
    "data = {\n",
    "    'searchWord': '휴일진료'.encode('euc-kr'),\n",
    "    'dong':''.encode('euc-kr'),\n",
    "    'city': '서울'.encode('euc-kr'),\n",
    "    'gu': '중구'.encode('euc-kr'),\n",
    "}\n",
    "\n",
    "r = requests.post(url, data=data)\n",
    "r.text[:1000]"
   ]
  },
  {
   "cell_type": "code",
   "execution_count": 8,
   "metadata": {
    "collapsed": true,
    "slideshow": {
     "slide_type": "slide"
    }
   },
   "outputs": [],
   "source": [
    "from bs4 import  BeautifulSoup\n",
    "\n",
    "soup = BeautifulSoup(r.text, 'lxml')\n",
    "search_result = soup.find('div', {'id':'search_result'})"
   ]
  },
  {
   "cell_type": "code",
   "execution_count": 9,
   "metadata": {
    "slideshow": {
     "slide_type": "-"
    }
   },
   "outputs": [
    {
     "name": "stdout",
     "output_type": "stream",
     "text": [
      "<span class=\"load2\"><img src=\"/image/loadi.png\"/></span>\n",
      "중정한의원, 휴일진료병원, 02-3789-7017, 서울 중구 명동1가 7-1\n",
      "<span class=\"load2\"><img src=\"/image/loadi.png\"/></span>\n",
      "하버드마취통증의학과의원, 휴일진료병원, 02-2236-8188, 서울 중구 무학동 1\n",
      "<span class=\"load2\"><img src=\"/image/loadi.png\"/></span>\n",
      "반도병원, 휴일진료병원, 02-2252-0202, 서울 중구 신당2동 422-4\n",
      "<span class=\"load2\"><img src=\"/image/loadi.png\"/></span>\n",
      "유태석내과의원, 휴일진료병원, 02-2233-7076, 서울 중구 신당3동 373-3\n",
      "<span class=\"load2\"><img src=\"/image/loadi.png\"/></span>\n",
      "유태석내과의원, 휴일진료병원, 02-2233-7076, 서울 중구 신당3동 373-3\n",
      "<span class=\"load2\"><img src=\"/image/loadi.png\"/></span>\n",
      "청구경희한의원, 휴일진료병원, 02-2236-1075, 서울 중구 신당4동 309-8\n",
      "<span class=\"load2\"><img src=\"/image/loadi.png\"/></span>\n",
      "약수한의원, 휴일진료병원, 02-2237-3175, 서울 중구 신당4동 370-14\n",
      "<span class=\"load2\"><img src=\"/image/loadi.png\"/></span>\n",
      "서울내과의원, 휴일진료병원, 02-2256-7575, 서울 중구 신당6동 294-13\n",
      "<span class=\"load2\"><img src=\"/image/loadi.png\"/></span>\n",
      "B N B치과의원, 휴일진료병원, 02-2118-8085, 서울 중구 을지로6가 18-21\n",
      "<span class=\"load2\"><img src=\"/image/loadi.png\"/></span>\n",
      "헬로에이피엠여성의원, 휴일진료병원, 02-6388-3883, 서울 중구 을지로6가 18-35\n"
     ]
    }
   ],
   "source": [
    "lis = search_result.find_all('li')[2:]\n",
    "for li in lis:\n",
    "    divs = li.find_all('div')\n",
    "\n",
    "    # div[0]\n",
    "    title = divs[0].a.text # 상호\n",
    "    spans = divs[0].find_all('span')\n",
    "    search = spans[1].text # 검색어\n",
    "\n",
    "    # div[1]\n",
    "    spans = divs[1].find_all('span') \n",
    "    phone = spans[0].text # 전화번호\n",
    "    addr = spans[1].text  # 주소\n",
    "    print(spans[2])\n",
    "    print( \"%s, %s, %s, %s\" % (title, search, phone, addr) )"
   ]
  },
  {
   "cell_type": "markdown",
   "metadata": {
    "collapsed": true,
    "slideshow": {
     "slide_type": "slide"
    }
   },
   "source": [
    "----\n",
    "#### 2017 FinanceData http://fb.com/financedata http://financedata.github.com"
   ]
  }
 ],
 "metadata": {
  "celltoolbar": "Slideshow",
  "kernelspec": {
   "display_name": "Python 3",
   "language": "python",
   "name": "python3"
  },
  "language_info": {
   "codemirror_mode": {
    "name": "ipython",
    "version": 3
   },
   "file_extension": ".py",
   "mimetype": "text/x-python",
   "name": "python",
   "nbconvert_exporter": "python",
   "pygments_lexer": "ipython3",
   "version": "3.5.2"
  }
 },
 "nbformat": 4,
 "nbformat_minor": 2
}