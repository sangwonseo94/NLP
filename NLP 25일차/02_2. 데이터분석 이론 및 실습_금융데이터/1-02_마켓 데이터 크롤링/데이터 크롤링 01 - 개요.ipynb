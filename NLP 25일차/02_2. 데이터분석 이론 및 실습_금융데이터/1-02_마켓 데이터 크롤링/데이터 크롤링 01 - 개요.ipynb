{
 "cells": [
  {
   "cell_type": "markdown",
   "metadata": {
    "slideshow": {
     "slide_type": "slide"
    }
   },
   "source": [
    "# 데이터 크롤링 01 - 개요\n",
    "* 주요 개념\n",
    "* 크롬 개발자도구\n",
    "* requests, BeautifulSoup\n",
    "\n",
    "<img width=\"300\" src=\"http://i.imgur.com/grQHNKG.jpg\">\n",
    "\n",
    "#### 2017, 2018 FinanceData http://fb.com/financedata"
   ]
  },
  {
   "cell_type": "markdown",
   "metadata": {
    "slideshow": {
     "slide_type": "slide"
    }
   },
   "source": [
    "# 크롤링을 위한 주요 리소스\n",
    "* 크롬 개발자 도구\n",
    "* requests\n",
    "* BeautifulSoup"
   ]
  },
  {
   "cell_type": "markdown",
   "metadata": {
    "slideshow": {
     "slide_type": "slide"
    }
   },
   "source": [
    "# 주요 웹 개념\n",
    "* WWW, HyperText, URL\n",
    "* requet / response\n",
    "* 응답코드 : 200, 404, 500\n",
    "* HTTP and HTTP Commands (GET, POST)\n",
    "* HTTP 헤더\n",
    "* 사용자 에이전트\n",
    "* 쿠키\n",
    "* HTML 태그: table, tr, td, div, a href\n",
    "* XHR (XMLHttpRequest, =Ajax)"
   ]
  },
  {
   "cell_type": "markdown",
   "metadata": {
    "slideshow": {
     "slide_type": "slide"
    }
   },
   "source": [
    "# 크롬 개발자 도구 (Chrome Developer Tools)\n",
    "크롬에 기본 탑재된 웹 개발 및 디버깅 도구\n",
    "* 우측 상단의 메뉴 > 도구 더 보기 > 개발자 도구 (F12 혹은 Ctrl+Shift+I, MacOS Cmd+Opt+I)\n",
    "* 요소(Elements), 네트워크(Network), 소스(Sources), 타임라인(Timeline), 콘솔(Console) 등 기능\n",
    "* 요소(Element) 탭: 웹 페이지 요소의 CSS와 HTML 검사"
   ]
  },
  {
   "cell_type": "markdown",
   "metadata": {
    "slideshow": {
     "slide_type": "slide"
    }
   },
   "source": [
    "# 생활코딩 강좌 (크롬 개발자 도구)\n",
    "* https://opentutorials.org/course/580 \n",
    "* 둘러보기, Elements, Network 정도 살펴보기"
   ]
  },
  {
   "cell_type": "markdown",
   "metadata": {
    "collapsed": true,
    "slideshow": {
     "slide_type": "slide"
    }
   },
   "source": [
    "# requests\n",
    "HTTP 요청/응답 처리 모듈\n",
    "* http://docs.python-requests.org/en/master/user/quickstart/\n"
   ]
  },
  {
   "cell_type": "markdown",
   "metadata": {
    "slideshow": {
     "slide_type": "slide"
    }
   },
   "source": [
    "# BeautifulSoup\n",
    "Python library for pulling data out of HTML and XML file\n",
    "* http://www.crummy.com/software/BeautifulSoup/bs4/doc/"
   ]
  },
  {
   "cell_type": "markdown",
   "metadata": {
    "slideshow": {
     "slide_type": "slide"
    }
   },
   "source": [
    "# GET\n",
    "requests.get() 사용"
   ]
  },
  {
   "cell_type": "code",
   "execution_count": 1,
   "metadata": {
    "slideshow": {
     "slide_type": "-"
    }
   },
   "outputs": [
    {
     "data": {
      "text/plain": [
       "'<!doctype html><html itemscope=\"\" itemtype=\"http://schema.org/SearchResultsPage\" lang=\"ko\"><head><meta content=\"text/html; charset=UTF-8\" http-equiv=\"Content-Type\"><meta content=\"/images/branding/googleg/1x/googleg_standard_color_128dp.png\" itemprop=\"image\"><link href=\"/images/branding/product/ico/googleg_lodp.ico\" rel=\"shortcut icon\"><title>KB금융 - Google 검색</title><style>#gbar,#guser{font-size:13px;padding-top:1px !important;}#gbar{height:22px}#guser{padding-bottom:7px !important;text-align:right}.gbh,.gbd{border-top:1px solid #c9d7f1;font-size:1px}.gbh{height:0;position:absolute;top:24px;width:100%}@media all{.gb1{height:22px;margin-right:.5em;vertical-align:top}#gbar{float:left}}a.gb1,a.gb4{text-decoration:underline !important}a.gb1,a.gb4{color:#00c !important}.gbi .gb4{color:#dd8e27 !important}.gbf .gb4{color:#900 !important} </style><style>.star{float:left;margin-top:1px;overflow:hidden}._yhd{font-size:11px}.j{width:34em}body,td,div,.p,a{font-family:arial,sans-serif;tap-highlight-'"
      ]
     },
     "execution_count": 1,
     "metadata": {},
     "output_type": "execute_result"
    }
   ],
   "source": [
    "import requests\n",
    "\n",
    "r = requests.get('https://www.google.co.kr/search?q=KB금융')\n",
    "r.text[:1000]"
   ]
  },
  {
   "cell_type": "markdown",
   "metadata": {
    "collapsed": true,
    "slideshow": {
     "slide_type": "slide"
    }
   },
   "source": [
    "# 크롤링 주요 이슈\n",
    "\n",
    "1. 단순 HTTP 요청: requests.get()\n",
    "1. 요청에 데이터 실어 보내기: requests.post()\n",
    "1. 응답 페이지 분석, 데이터 추출, 데이터 전처리\n",
    "1. 헤더 지정: requests 에 헤더값 지정\n",
    "1. 문자 인코딩 (UTF-8, EUC-KR)\n",
    "1. 정규식\n",
    "1. 로그인(인증): requests의 Session 객체 사용\n",
    "1. IP-Ban: 프록시 서버, 프록시 경유하기\n",
    "1. 동적으로 화면 혹은 데이터가 생성: Selenium 사용"
   ]
  },
  {
   "cell_type": "markdown",
   "metadata": {
    "collapsed": true,
    "slideshow": {
     "slide_type": "slide"
    }
   },
   "source": [
    "----\n",
    "#### 2017 FinanceData http://fb.com/financedata http://financedata.github.com"
   ]
  }
 ],
 "metadata": {
  "celltoolbar": "Slideshow",
  "kernelspec": {
   "display_name": "Python 3",
   "language": "python",
   "name": "python3"
  },
  "language_info": {
   "codemirror_mode": {
    "name": "ipython",
    "version": 3
   },
   "file_extension": ".py",
   "mimetype": "text/x-python",
   "name": "python",
   "nbconvert_exporter": "python",
   "pygments_lexer": "ipython3",
   "version": "3.5.2"
  }
 },
 "nbformat": 4,
 "nbformat_minor": 2
}