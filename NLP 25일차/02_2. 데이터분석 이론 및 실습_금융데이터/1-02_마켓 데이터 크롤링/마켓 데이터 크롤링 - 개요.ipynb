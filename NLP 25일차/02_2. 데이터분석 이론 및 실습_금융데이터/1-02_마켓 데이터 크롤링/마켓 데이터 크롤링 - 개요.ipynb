{
  "nbformat": 4,
  "nbformat_minor": 0,
  "metadata": {
    "colab": {
      "name": "마켓 데이터 크롤링 개요.ipynb",
      "version": "0.3.2",
      "provenance": [],
      "collapsed_sections": []
    },
    "language_info": {
      "codemirror_mode": {
        "name": "ipython",
        "version": 3
      },
      "file_extension": ".py",
      "mimetype": "text/x-python",
      "name": "python",
      "nbconvert_exporter": "python",
      "pygments_lexer": "ipython3",
      "version": "3.6.7"
    },
    "kernelspec": {
      "display_name": "Python 3",
      "language": "python",
      "name": "python3"
    }
  },
  "cells": [
    {
      "cell_type": "markdown",
      "metadata": {
        "slideshow": {
          "slide_type": "slide"
        },
        "id": "FEpzyk7jwXOY",
        "colab_type": "text"
      },
      "source": [
        "# 마켓 데이터 크롤링 - 개요\n",
        "\n",
        "<img src=\"http://i.imgur.com/grQHNKG.jpg\" >\n",
        "\n",
        "#### 2017-2019 FinanceData http://fb.com/financedata"
      ]
    },
    {
      "cell_type": "markdown",
      "metadata": {
        "slideshow": {
          "slide_type": "slide"
        },
        "id": "li5P51GXwXOa",
        "colab_type": "text"
      },
      "source": [
        "# 마켓 데이터에 대한 질문들\n",
        "* 내가 원하는 데이터를 충분히 얻으려면 비용은 얼마나 드나?\n",
        "* 어디서 어떤 데이터를 얼마나 얻을 수 있나?\n",
        "* 개인과 기관의 정보력의 차이는 얼마나 될까?\n",
        "* 해외시장, 외국인이 국내 주식시장에 미치는 영향은?\n",
        "* 금융투자에서 거시경제에 대한 이해가 얼마나 필요한가?\n",
        "* 실시간 데이터 혹은 주문 속도 얼마나 중요한가?"
      ]
    },
    {
      "cell_type": "markdown",
      "metadata": {
        "slideshow": {
          "slide_type": "slide"
        },
        "id": "lVCwyLKswXOc",
        "colab_type": "text"
      },
      "source": [
        "# 트레이딩 스타일\n",
        "데이터의 실시간성의 중요도, 트레이딩 스타일에 따라 다르다\n",
        "\n",
        "트레이딩 스타일 <br>(Trading Style) | 매매 간격 | 보유기간 | 비고\n",
        "--- | --- | --- | ---\n",
        "포지션 트레이딩 <br>(Position Trading) | 장기간 | 수 개월~ 수 년 | -\n",
        "스윙 트레이딩 <br>(Swing Trading) | 짧은 기간|  몇 일~ 몇 주 | -\n",
        "데이  트레이딩<br>(Day Trading) | 수 시간 | 하루는 넘기지 않음 | 당일 청산\n",
        "스캘핑<br>(Scalp Trading) | 초단타 | 수초~ 수분 단위 | 당일 청산"
      ]
    },
    {
      "cell_type": "markdown",
      "metadata": {
        "slideshow": {
          "slide_type": "slide"
        },
        "id": "FYxsoIIIwXOd",
        "colab_type": "text"
      },
      "source": [
        "# 데이터 수집 자동화\n",
        "\n",
        "* 크롤링 (Crawling)  : 주기적으로 가져와 저장\n",
        "* 데이터 구매: 해외 데이터, 시세 데이터, 과거 데이터\n",
        "* 증권사 트레이딩 API: 실시간 가격\n",
        "* 구글 알리미: 이메일\n",
        "* 사설 정보: 이메일, 문자"
      ]
    },
    {
      "cell_type": "markdown",
      "metadata": {
        "slideshow": {
          "slide_type": "slide"
        },
        "id": "CBgVkR28wXOe",
        "colab_type": "text"
      },
      "source": [
        "# 저장 방법\n",
        "* CSV (Plain text): 가능한 UTF-8 인코딩 권장\n",
        "* RDB: Oracle, MySQL(MariaDB), SQLite\n",
        "* NoSQL: MongoDB"
      ]
    },
    {
      "cell_type": "markdown",
      "metadata": {
        "slideshow": {
          "slide_type": "slide"
        },
        "id": "MiSascEvwXOf",
        "colab_type": "text"
      },
      "source": [
        "# 주요 수집 대상 데이터\n",
        "* 종목 코드 - 전 종목 코드(티커) \n",
        "* 종목 기본 정보 - 회사이름, 주소, 대표 등\n",
        "* 재무정보 - 손익계산서, 재무상태표, 현금흐름표\n",
        "* 주가 데이터 - 틱,초,분,일,주,월\n",
        "* 비정형 데이터 - 뉴스, SNS 텍스트 등 "
      ]
    },
    {
      "cell_type": "markdown",
      "metadata": {
        "slideshow": {
          "slide_type": "slide"
        },
        "id": "cTXOzbGqwXOg",
        "colab_type": "text"
      },
      "source": [
        "# 마켓 데이터 소스 6 \n",
        "\n",
        "1. KRX 한국거래소 http://krx.co.kr <br/> 증권 시장 전체 데이터, 증권 통계, 표준코드 시스템\n",
        "1. 전자공시시스템(금융감독원) DART http://dart.fss.or.kr <br/>기업 공시, 재무제표\n",
        "1. 포탈 증권 (네이버, Daum) http://stock.naver.com <br/>종목 정보 상세, 뉴스, 투자 정보\n",
        "1. 인베스팅 http://investing.com <br/>국가별 지수, 주가, 상품별 가격 데이터\n",
        "1. FRED 연방준비은행 경제 데이터 http://research.stlouisfed.org/fred2 <br/>거시 분석, 해외 시황 (포괄적인 경제 데이터)\n",
        "1. 한국은행 경제통계 시스템 http://ecos.bok.or.kr\n"
      ]
    },
    {
      "cell_type": "markdown",
      "metadata": {
        "slideshow": {
          "slide_type": "slide"
        },
        "id": "nn-o1FogwXOh",
        "colab_type": "text"
      },
      "source": [
        "# 한국거래소 (KRX)\n",
        "\n",
        "http://www.krx.co.kr <br>\n",
        "유가증권, 선물등의 거래시장의 개설및 관리, 유가증권상장등을 담당하는 통합거래소\n",
        "\n",
        "* 일자별 주가: 과거 10년치 이상 전체\n",
        "* 뉴스/공시: 공시 전체, 뉴스(과거 6개월)\n",
        "* 투자자별 거래실적 (일일, 과거 10년치 이상)\n",
        "* 기관외국인동향: 일자별 매수,매도\n",
        "* 금융 시장의 규정, 관련 법규\n",
        "* 기업들의 공시정보\n",
        "* 시장제도 설명\n",
        "* 증권 시장지 (간행물), 통계정보"
      ]
    },
    {
      "cell_type": "markdown",
      "metadata": {
        "slideshow": {
          "slide_type": "slide"
        },
        "id": "cDFjJF_8wXOi",
        "colab_type": "text"
      },
      "source": [
        "# 한국거래소 - 한국거래소 표준코드 시스템\n",
        "* 표준코드 조회 http://isin.krx.co.kr/srch/srch.do?method=srchList\n",
        "* 기존의 모든 표준코드를 조회 (조회 시작 일 19970101 로, '주권' 설정)\n",
        "* 전체 코드는 8천여건 (상장폐지 종목도 포함)"
      ]
    },
    {
      "cell_type": "markdown",
      "metadata": {
        "slideshow": {
          "slide_type": "slide"
        },
        "id": "EBeStpW8wXOj",
        "colab_type": "text"
      },
      "source": [
        "# 전자 공시 시스템\n",
        "\n",
        "## DART 금융감독원 \n",
        "* \"발행정보중심\"  \n",
        "* http://dart.fss.or.kr\n",
        "\n",
        "## KIND 한국거래소 \n",
        "* \"유통정보중심\" \n",
        "* http://kind.krx.or.kr"
      ]
    },
    {
      "cell_type": "markdown",
      "metadata": {
        "slideshow": {
          "slide_type": "slide"
        },
        "id": "NN7DIbGNwXOk",
        "colab_type": "text"
      },
      "source": [
        "# DART 금융감독원\n",
        "http://dart.fss.or.kr\n",
        "* 발행정보 중심 전자공시시스템\n",
        "* <u>(상장 회사가 아니더라도)</u> 공시 의무가 있는 회사들의 공시 포함\n",
        "* 사업보고서를 내야할 기준에 해당되어(비상장외감법인) 정기공시\n",
        "* 공정위에서 지정한 대규모기업집단에 소속된 비상장회사\n",
        "* 증권신고서 등의 효력발생 또는 정정요구 조치공시 (금감원이 하는 공시)\n",
        "\n",
        "* 기업들의 최근 공시\n",
        "* 기업의 IR 정보 (신기술 개발, 비전, 계약)\n",
        "* 사업계획서\n",
        "* 분기보고서\n",
        "* 회사의 연혁, 임직원의 연봉, 임직원 수"
      ]
    },
    {
      "cell_type": "markdown",
      "metadata": {
        "slideshow": {
          "slide_type": "slide"
        },
        "id": "4_vCoQtIwXOl",
        "colab_type": "text"
      },
      "source": [
        "# KIND - 한국거래소\n",
        "http://kind.krx.or.kr\n",
        "* 유통정보 중심 전자공시시스템\n",
        "* 한국거래소의 시장감시역할 수행\n",
        "* 거래소에서 발령하는 특정한 시장조치 포함 (예: 투자유의, 상장폐지)\n",
        "* 상장주식수의 변동 공시 (예: BW/CB 등의 행사, 추가상장/변경상장)\n",
        "* 안내공시 (예: 대표이사, 본점소재지 변경 등)"
      ]
    },
    {
      "cell_type": "markdown",
      "metadata": {
        "slideshow": {
          "slide_type": "slide"
        },
        "id": "fKC2MrlGwXOm",
        "colab_type": "text"
      },
      "source": [
        "# 포탈 증권\n",
        "네이버 증권 - 주식 기본, 세부 기업정보, 해외주식, 추천종목, 뉴스, 조건검색, 투자전략 등 \n",
        "<br/>http://finance.naver.com\n",
        "* 주요지수 (코스피, 코스닥, 코스피200) 차트(실시간)\n",
        "* 투자자별 매매동향(외국인, 기관, 프로그램), 외국인 순매수/순매도\n",
        "* 뉴스, 리포트, 투자전략\n",
        "* 조건검색 (필터링) 및 TOP 종목(상하한가, 업종, 테마)\n",
        "* 주요 해외 지수, 시장지표(환률, 금리, 유가, 금 시세, 원자제)\n",
        "* MY금융: 관심종목, 모의투자"
      ]
    },
    {
      "cell_type": "markdown",
      "metadata": {
        "slideshow": {
          "slide_type": "slide"
        },
        "id": "lOvhvybIwXOn",
        "colab_type": "text"
      },
      "source": [
        "# 공공기관 오픈 데이터\n",
        "* http://data.go.kr  공공데이터포털\n",
        "* http://kosis.kr  국가통계포털\n",
        "* http://kostat.go.kr  통계청 홈페이지"
      ]
    },
    {
      "cell_type": "markdown",
      "metadata": {
        "slideshow": {
          "slide_type": "slide"
        },
        "id": "xehSTHktwXOo",
        "colab_type": "text"
      },
      "source": [
        "# 야후 파이낸스\n",
        "\n",
        "## 세계/미국 등 해외시장 \n",
        "* 세계/미국 종목, 가격, 뉴스\n",
        "\n",
        "## 세계 주요 시장\n",
        "* 한국: KRX (KOSPI, KOSDAQ)\n",
        "* 미국: NYSE, NASDAQ, AMEX\n",
        "* 중국: 후강퉁(홍콩-상해,  2014년 11월), 선강퉁(홍콩-심천, 2016년 12월)\n",
        "* 일본: TSE(도쿄)\n",
        "* 유럽(영국 LSE, 프랑스 파리거래소, 독일 FWB), 동남아(인도네시아, 태국, 베트남)"
      ]
    },
    {
      "cell_type": "markdown",
      "metadata": {
        "slideshow": {
          "slide_type": "slide"
        },
        "id": "aZgw26WGwXOp",
        "colab_type": "text"
      },
      "source": [
        "# FRED2\n",
        "http://research.stlouisfed.org/fred2\n",
        "* FRED II ( Federal Reserve Economic Data II )\n",
        "* 세인트루이스 연방은행의 통계 사이트\n",
        "* 데이터의 차트를 볼 수 있으며 데이터를 XLS나 TXT형태로 다운로드\n",
        "* 금융 뿐만 아니라 재정, 물가, 고용 등 일반적인 경제 관련 데이터\n",
        "* 압축된 엑셀 파일 (약 14M) FRED 전체 다운로드\n",
        "\n",
        "## FRED2 API 도구\n",
        "* http://api.stlouisfed.org/docs/fred\n",
        "* http://goo.gl/B1YNk  FRED 엑셀 애드인\n",
        "* https://github.com/zachwill/fred  FRED API Python 구현"
      ]
    },
    {
      "cell_type": "markdown",
      "metadata": {
        "slideshow": {
          "slide_type": "slide"
        },
        "id": "mM6etZ71wXOq",
        "colab_type": "text"
      },
      "source": [
        "# 한국은행 경제통계 시스템 ecos\n",
        "http://ecos.bok.or.kr\n",
        "* 통계, 검색, 금리, 증감률 계산, 생산자, 수출입물가지수및 검색 \n",
        "* 통계공표일정\n",
        "* 테마별 통계\n",
        "* 통계DB정보"
      ]
    },
    {
      "cell_type": "markdown",
      "metadata": {
        "slideshow": {
          "slide_type": "slide"
        },
        "id": "unySQWM7wXOr",
        "colab_type": "text"
      },
      "source": [
        "# 기타 기관\n",
        "\n",
        "## 자본시장통계포털 http://stats.krx.co.kr\n",
        "* 핵심통계(차트)\n",
        "* 주자자별 거래실적\n",
        "* 회원사별 거래 현황\n",
        "* 투자자별 순위 \n",
        "* 공매도 거래 현황\n",
        "\n",
        "## 증권정보포털 http://seibro.or.kr\n",
        "* 통일주권및 통일규격유가증권발행, 명의개서대리, 증권대행, 해외DR\n",
        "* 보호예수물량확인\n",
        "* 주식 &rarr; 의무보호예수: 보호예수물가\n",
        "* 기업기본분석정보\n",
        "* 한국예탁결제원, 증권정보 오픈 API http://api.seibro.or.kr\n",
        "\n",
        "\n",
        "## 기획재정보 http://www.mosf.go.kr\n",
        "* 경제정책의 수립\n",
        "* 예산조세 정책의 수립\n",
        "* 사전정보공개 (나라의돈이 어디로가는지)\n",
        "* 주요경제지표\n",
        "* 경제로드맵 EX)국가 초대형 건설, 4대강, 전기차"
      ]
    },
    {
      "cell_type": "markdown",
      "metadata": {
        "slideshow": {
          "slide_type": "slide"
        },
        "id": "oLe5rOgZwXOr",
        "colab_type": "text"
      },
      "source": [
        "# 사설 기업 (1)\n",
        "\n",
        "## Fn가이드 \n",
        "http://fnguide.com\n",
        "* 증권사 기업리포트\n",
        "* 경제연구소 발표자료 원문\n",
        "* 상장기업 실적추정, 투자의견\n",
        "* 지분관련 공시, 지분변동현황\n",
        "* 산업데이터\n",
        "* 제도권에서 가장 많이 이용\n",
        "* 2018. 7 WiseFn(네이버 증권 서비스) 인수\n",
        "\n",
        "\n",
        "## 인포스탁\n",
        "http://infostock.co.kr\n",
        "* 이슈 섹터 스케쥴\n",
        "* 증시뉴스 속보\n",
        "* 테마별 분류\n",
        "* 특징주 분류\n",
        "* 종목 히스토리\n",
        "* 전자공시\n"
      ]
    },
    {
      "cell_type": "markdown",
      "metadata": {
        "slideshow": {
          "slide_type": "slide"
        },
        "id": "as0wmsT1wXOs",
        "colab_type": "text"
      },
      "source": [
        "# 사설 기업 (2)\n",
        "\n",
        "\n",
        "## equity\n",
        "http://equity.co.kr\n",
        "* 종목별 기업 리포트\n",
        "* 산업 & 이슈리포트\n",
        "* 종목별 리포트\n",
        "* 종목별 재무정보\n",
        "\n",
        "## 이지피오 \n",
        "http://ezipo.co.kr\n",
        "* 비상장주식 정보\n",
        "* IPO 공모\n",
        "* IR일정 및 자료 \n",
        "* 신규상장일정"
      ]
    },
    {
      "cell_type": "markdown",
      "metadata": {
        "slideshow": {
          "slide_type": "notes"
        },
        "id": "WkNEhmtCwXOt",
        "colab_type": "text"
      },
      "source": [
        "----\n",
        "#### 2017-2019 FinanceData http://fb.com/financedata http://financedata.github.com"
      ]
    }
  ]
}