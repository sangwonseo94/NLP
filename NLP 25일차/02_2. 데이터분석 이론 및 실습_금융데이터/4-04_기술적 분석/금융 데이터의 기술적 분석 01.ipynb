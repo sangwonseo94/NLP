{
  "nbformat": 4,
  "nbformat_minor": 0,
  "metadata": {
    "colab": {
      "name": "금융 데이터의 기술적 분석 01.ipynb",
      "version": "0.3.2",
      "provenance": [],
      "collapsed_sections": []
    },
    "kernelspec": {
      "display_name": "Python 3",
      "language": "python",
      "name": "python3"
    }
  },
  "cells": [
    {
      "metadata": {
        "collapsed": true,
        "slideshow": {
          "slide_type": "slide"
        },
        "id": "jIFgBnOH7TZh",
        "colab_type": "text"
      },
      "cell_type": "markdown",
      "source": [
        "# 금융 데이터의 기술적 분석 01\n",
        "\n",
        "### Technical Analysis\n",
        "\n",
        "<img width=\"50%\" src=\"http://i.imgur.com/OsG5rlF.jpg\">\n",
        "\n",
        "#### 2016-2019 [FinanceData.KR](http://financedata.kr)"
      ]
    },
    {
      "metadata": {
        "collapsed": true,
        "slideshow": {
          "slide_type": "slide"
        },
        "id": "S0RLnXHe7TZk",
        "colab_type": "text"
      },
      "cell_type": "markdown",
      "source": [
        "# 기술 분석 Technical analysis\n",
        "* 과거 데이터를 근거로, 추세 예측하는 기법\n",
        "* 주로 가격 그래프(차트)를 이용해 분석\n",
        "* (차트를 들여다 보고 있다면, 기술 분석을 하고 있다고 보면 된다)\n",
        "* 분석 기법에서 기본적 분석 Fundamental Analysis와 대비된다\n",
        "* 기본적 분석: What (어떤 종목을 살 것인가?), 기술 분석: When (언제 사고 팔것인가?)\n",
        "\n"
      ]
    },
    {
      "metadata": {
        "collapsed": true,
        "slideshow": {
          "slide_type": "slide"
        },
        "id": "KGiWp-577TZl",
        "colab_type": "text"
      },
      "cell_type": "markdown",
      "source": [
        "# 기술 분석의 가정 assumptions\n",
        "\n",
        "1. 시장 움직임은 모든 것을 반영한다. <br/>The market discounts everything. \n",
        "1. 가격은 일정한 추세로 상당기간 움직인다. <br/>Price moves in trends. \n",
        "1. 주가의 움직임은 반복하는 경향이 있다. <br/>History tends to repeat itself. "
      ]
    },
    {
      "metadata": {
        "collapsed": true,
        "slideshow": {
          "slide_type": "slide"
        },
        "id": "qWlNiAgm7TZn",
        "colab_type": "text"
      },
      "cell_type": "markdown",
      "source": [
        "# 기술적 분석의 장점과 단점\n",
        "\n",
        "## 기술적 분석 비판(한계)\n",
        "* 차트의 데이터는 사후적으로만 의미\n",
        "* 과거 패턴이 미래에도 반복될 것이라는 가정은 비현실적\n",
        "* 수치와 차트는 객관적이지만, 해석은 극히 주관적\n",
        "\n",
        "## 기술적 분석의 장점\n",
        "* \"추세\"를 '시각적'으로 파악하는데 용이\n",
        "* 계량화 할 수 없는 심리적 요인 반영 (분석의 한계를 보완)\n",
        "* 새로운 정보의 주가에 대한 영향 예측 용이\n",
        "* 매매시점(timing)을 찾는데 유용"
      ]
    },
    {
      "metadata": {
        "slideshow": {
          "slide_type": "slide"
        },
        "id": "OquSEVSW7TZo",
        "colab_type": "text"
      },
      "cell_type": "markdown",
      "source": [
        "# 기술적 분석의 종류\n",
        "1. 추세분석 (Trend Analysis) \n",
        "1. 패턴분석 (Pattern Analysis)\n",
        "1. 기술적 지표 (Technical Indicator)\n",
        "1. 기타\n",
        " * 시장구조이론: 계절 랠리 현상, 엘리어트 파동, 일목균형표 등)\n",
        " * 사이클(cycle), 파동(wave)원리\n",
        " "
      ]
    },
    {
      "metadata": {
        "slideshow": {
          "slide_type": "slide"
        },
        "id": "Gc_Chg_w7TZq",
        "colab_type": "text"
      },
      "cell_type": "markdown",
      "source": [
        "# 추세분석 (Trend Analysis) \n",
        "추세(Trend): 주가가 움직이는 방향 (상승세, 하락세, 보합세)\n",
        "* 주가가 랜덤하게 움직이는 것처럼 보이지만, 상승, 하락, 보합의 추세가 있다\n",
        "* 추세가 형성되면 일정기간 지속되는 것이 일반적\n",
        "* 추세선 Trend line, **지지선 Supporting line ** 과 ** 저항선 Resistance line **\n",
        "* 이동평균선 MA, Moving Average\n",
        "\n",
        "<img src=\"https://goo.gl/cBN0o0\" title=\"source: wikimedia.org\" style=\"float:left;width:480px\"/>"
      ]
    },
    {
      "metadata": {
        "slideshow": {
          "slide_type": "slide"
        },
        "id": "XxzKPFBM7TZr",
        "colab_type": "text"
      },
      "cell_type": "markdown",
      "source": [
        "# 패턴분석\n",
        "* 정형화하여 정리해둔 추세선의 변동 모형을 활용하여 움직임을 예측\n",
        "* 추세 분석은 주가 움직임 관찰, 패턴 분석: 정적 관찰 (전환 시점 포착이 목적)\n",
        "* 캔들차트 (Candle Chart)\n",
        "* 차트 패턴 http://goo.gl/O2xDB\n",
        "\n",
        "<img src=\"http://goo.gl/vfcyZ3\" title=\"source: http://stockcharts.com/\" style=\"float:left;width:480px\"/>"
      ]
    },
    {
      "metadata": {
        "collapsed": true,
        "slideshow": {
          "slide_type": "slide"
        },
        "id": "EoqtSKbu7TZt",
        "colab_type": "text"
      },
      "cell_type": "markdown",
      "source": [
        "# 지표분석\n",
        "시장의 수급 상태, 과열 침제 여부, 파악을 위해 다양한 보조지표 활용\n",
        "1. 추세추종형지표(Trend Following Indicator): MACD, Sonar \n",
        "1. 추세반전형지표(Trend Reverse Indicator): Stochastic, RSI\n",
        "1. 거래량 지표: OBV, VR\n",
        "1. 변동성 지표: 볼린저밴드"
      ]
    },
    {
      "metadata": {
        "slideshow": {
          "slide_type": "slide"
        },
        "id": "5OpXCJAp7TZv",
        "colab_type": "text"
      },
      "cell_type": "markdown",
      "source": [
        "\n",
        "# 차트의 종류\n",
        "1. 라인 차트(Line chart) : 시간에 따른 변화 (가격)\n",
        "1. 캔들 차트(Candlesticks):  일정기간(일,주,월), OHLC(Open High Low Close, 시고저종)\n",
        "1. 바 차트(Bar chart): 거래량"
      ]
    },
    {
      "metadata": {
        "slideshow": {
          "slide_type": "notes"
        },
        "id": "OWyXihMw7TZw",
        "colab_type": "text"
      },
      "cell_type": "markdown",
      "source": [
        "#### 2016-2019 [FinanceData.KR](http://financedata.kr)"
      ]
    }
  ]
}