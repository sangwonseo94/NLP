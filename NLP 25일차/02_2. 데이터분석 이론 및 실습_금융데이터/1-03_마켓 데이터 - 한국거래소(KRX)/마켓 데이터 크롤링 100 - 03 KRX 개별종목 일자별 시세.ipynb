{
 "cells": [
  {
   "cell_type": "markdown",
   "metadata": {
    "slideshow": {
     "slide_type": "slide"
    }
   },
   "source": [
    "### 마켓 데이터 크롤링\n",
    "# KRX 개별종목 일자별 시세\n",
    "\n",
    "<img src=\"http://i.imgur.com/grQHNKG.jpg\">\n",
    "    \n",
    "#### 2017 FinanceData http://fb.com/financedata"
   ]
  },
  {
   "cell_type": "markdown",
   "metadata": {
    "slideshow": {
     "slide_type": "slide"
    }
   },
   "source": [
    "# 종목 코드\n",
    "* [KRX] 시가총액 상하위 <br/>코스피 전체 종목 (시총 상위 종목의 rank변화를 통해 산업 트렌드를 살펴보자)\n",
    "* http://marketdata.krx.co.kr/contents/MKD/04/0406/04060100/MKD04060100.jsp\n",
    "* 시장정보 → 주식 → 순위정보 → 시가총액 상/하위\n",
    "\n",
    "\n",
    "시가총액 비교\n",
    "* [구글 스프레트] https://goo.gl/3LZoIh 코스피 전체 종목(2005-06-30)\n",
    "* [구글 스프레트] https://goo.gl/bgRpSf 코스피 전체 종목(2015-06-30)"
   ]
  },
  {
   "cell_type": "markdown",
   "metadata": {
    "slideshow": {
     "slide_type": "slide"
    }
   },
   "source": [
    "# 개별 종목 시세\n",
    "* 시장정보 → 주식 → 종목정보 → 일자별 시세\n",
    "* http://marketdata.krx.co.kr/contents/MKD/04/0402/04020100/MKD04020100T3T2.jsp"
   ]
  },
  {
   "cell_type": "markdown",
   "metadata": {
    "slideshow": {
     "slide_type": "-"
    }
   },
   "source": [
    "<img width=\"80%\" src=\"http://i.imgur.com/2laEGHp.png\">"
   ]
  },
  {
   "cell_type": "markdown",
   "metadata": {
    "slideshow": {
     "slide_type": "slide"
    }
   },
   "source": [
    "# 개별종목 시세\n",
    "개별 종목의 특정 기간의 시세를 XLS(혹은 CSV)로 다운로드\n",
    "* isu_cd: ISIN 코드, 예) KR7005930003 (삼성전자) \n",
    "* fromdate: 시작일\n",
    "* todate: 종료일"
   ]
  },
  {
   "cell_type": "code",
   "execution_count": 1,
   "metadata": {
    "slideshow": {
     "slide_type": "-"
    }
   },
   "outputs": [
    {
     "data": {
      "text/html": [
       "<div>\n",
       "<style scoped>\n",
       "    .dataframe tbody tr th:only-of-type {\n",
       "        vertical-align: middle;\n",
       "    }\n",
       "\n",
       "    .dataframe tbody tr th {\n",
       "        vertical-align: top;\n",
       "    }\n",
       "\n",
       "    .dataframe thead th {\n",
       "        text-align: right;\n",
       "    }\n",
       "</style>\n",
       "<table border=\"1\" class=\"dataframe\">\n",
       "  <thead>\n",
       "    <tr style=\"text-align: right;\">\n",
       "      <th></th>\n",
       "      <th>년/월/일</th>\n",
       "      <th>종가</th>\n",
       "      <th>대비</th>\n",
       "      <th>거래량(주)</th>\n",
       "      <th>거래대금(원)</th>\n",
       "      <th>시가</th>\n",
       "      <th>고가</th>\n",
       "      <th>저가</th>\n",
       "      <th>시가총액(백만)</th>\n",
       "      <th>상장주식수(주)</th>\n",
       "    </tr>\n",
       "  </thead>\n",
       "  <tbody>\n",
       "    <tr>\n",
       "      <th>0</th>\n",
       "      <td>2016/12/29</td>\n",
       "      <td>1,802,000</td>\n",
       "      <td>14,000</td>\n",
       "      <td>150,329</td>\n",
       "      <td>269,850,552,000</td>\n",
       "      <td>1,771,000</td>\n",
       "      <td>1,802,000</td>\n",
       "      <td>1,770,000</td>\n",
       "      <td>253,504,165</td>\n",
       "      <td>140,679,337</td>\n",
       "    </tr>\n",
       "    <tr>\n",
       "      <th>1</th>\n",
       "      <td>2016/12/28</td>\n",
       "      <td>1,788,000</td>\n",
       "      <td>-11,000</td>\n",
       "      <td>133,258</td>\n",
       "      <td>238,389,027,152</td>\n",
       "      <td>1,792,000</td>\n",
       "      <td>1,799,000</td>\n",
       "      <td>1,780,000</td>\n",
       "      <td>251,534,655</td>\n",
       "      <td>140,679,337</td>\n",
       "    </tr>\n",
       "    <tr>\n",
       "      <th>2</th>\n",
       "      <td>2016/12/27</td>\n",
       "      <td>1,799,000</td>\n",
       "      <td>1,000</td>\n",
       "      <td>93,069</td>\n",
       "      <td>167,499,160,785</td>\n",
       "      <td>1,799,000</td>\n",
       "      <td>1,810,000</td>\n",
       "      <td>1,793,000</td>\n",
       "      <td>253,082,127</td>\n",
       "      <td>140,679,337</td>\n",
       "    </tr>\n",
       "    <tr>\n",
       "      <th>3</th>\n",
       "      <td>2016/12/26</td>\n",
       "      <td>1,798,000</td>\n",
       "      <td>16,000</td>\n",
       "      <td>96,472</td>\n",
       "      <td>173,030,035,000</td>\n",
       "      <td>1,780,000</td>\n",
       "      <td>1,800,000</td>\n",
       "      <td>1,778,000</td>\n",
       "      <td>252,941,448</td>\n",
       "      <td>140,679,337</td>\n",
       "    </tr>\n",
       "    <tr>\n",
       "      <th>4</th>\n",
       "      <td>2016/12/23</td>\n",
       "      <td>1,782,000</td>\n",
       "      <td>-27,000</td>\n",
       "      <td>166,697</td>\n",
       "      <td>298,604,129,418</td>\n",
       "      <td>1,801,000</td>\n",
       "      <td>1,804,000</td>\n",
       "      <td>1,780,000</td>\n",
       "      <td>250,690,579</td>\n",
       "      <td>140,679,337</td>\n",
       "    </tr>\n",
       "  </tbody>\n",
       "</table>\n",
       "</div>"
      ],
      "text/plain": [
       "        년/월/일         종가       대비   거래량(주)          거래대금(원)         시가  \\\n",
       "0  2016/12/29  1,802,000   14,000  150,329  269,850,552,000  1,771,000   \n",
       "1  2016/12/28  1,788,000  -11,000  133,258  238,389,027,152  1,792,000   \n",
       "2  2016/12/27  1,799,000    1,000   93,069  167,499,160,785  1,799,000   \n",
       "3  2016/12/26  1,798,000   16,000   96,472  173,030,035,000  1,780,000   \n",
       "4  2016/12/23  1,782,000  -27,000  166,697  298,604,129,418  1,801,000   \n",
       "\n",
       "          고가         저가     시가총액(백만)     상장주식수(주)  \n",
       "0  1,802,000  1,770,000  253,504,165  140,679,337  \n",
       "1  1,799,000  1,780,000  251,534,655  140,679,337  \n",
       "2  1,810,000  1,793,000  253,082,127  140,679,337  \n",
       "3  1,800,000  1,778,000  252,941,448  140,679,337  \n",
       "4  1,804,000  1,780,000  250,690,579  140,679,337  "
      ]
     },
     "execution_count": 1,
     "metadata": {},
     "output_type": "execute_result"
    }
   ],
   "source": [
    "# 삼성전자 2016-01-01, XLS\n",
    "\n",
    "import pandas as pd\n",
    "import requests\n",
    "\n",
    "# STEP 01: Generate OTP\n",
    "gen_otp_url = \"http://marketdata.krx.co.kr/contents/COM/GenerateOTP.jspx\"\n",
    "gen_otp_data = {\n",
    "    'name':'fileDown',\n",
    "    'filetype':'xls',\n",
    "    'url':'MKD/04/0402/04020100/mkd04020100t3_02',\n",
    "    'isu_cd':'KR7005930003',\n",
    "    'fromdate':'20160101',\n",
    "    'todate':'20161231',\n",
    "}\n",
    "\n",
    "r = requests.post(gen_otp_url, gen_otp_data)\n",
    "code = r.text\n",
    "\n",
    "# STEP 02: download\n",
    "down_url = 'http://file.krx.co.kr/download.jspx'\n",
    "down_data = {\n",
    "    'code': code,\n",
    "}\n",
    "\n",
    "headers = {'Referer': 'http://marketdata.krx.co.kr'}\n",
    "r = requests.post(down_url, down_data, headers=headers)\n",
    "with open(\"A005930.xls\", 'wb') as f:\n",
    "    f.write(r.content)\n",
    "\n",
    "df = pd.read_excel('A005930.xls')\n",
    "df.head()"
   ]
  },
  {
   "cell_type": "code",
   "execution_count": 2,
   "metadata": {
    "slideshow": {
     "slide_type": "subslide"
    }
   },
   "outputs": [
    {
     "name": "stdout",
     "output_type": "stream",
     "text": [
      "item counts: 246\n"
     ]
    }
   ],
   "source": [
    "print ( 'item counts: %d' % len(df) )"
   ]
  },
  {
   "cell_type": "code",
   "execution_count": 3,
   "metadata": {
    "slideshow": {
     "slide_type": "subslide"
    }
   },
   "outputs": [
    {
     "data": {
      "text/html": [
       "<div>\n",
       "<style scoped>\n",
       "    .dataframe tbody tr th:only-of-type {\n",
       "        vertical-align: middle;\n",
       "    }\n",
       "\n",
       "    .dataframe tbody tr th {\n",
       "        vertical-align: top;\n",
       "    }\n",
       "\n",
       "    .dataframe thead th {\n",
       "        text-align: right;\n",
       "    }\n",
       "</style>\n",
       "<table border=\"1\" class=\"dataframe\">\n",
       "  <thead>\n",
       "    <tr style=\"text-align: right;\">\n",
       "      <th></th>\n",
       "      <th>년/월/일</th>\n",
       "      <th>종가</th>\n",
       "      <th>대비</th>\n",
       "      <th>거래량(주)</th>\n",
       "      <th>거래대금(원)</th>\n",
       "      <th>시가</th>\n",
       "      <th>고가</th>\n",
       "      <th>저가</th>\n",
       "      <th>시가총액(백만)</th>\n",
       "      <th>상장주식수(주)</th>\n",
       "    </tr>\n",
       "  </thead>\n",
       "  <tbody>\n",
       "    <tr>\n",
       "      <th>0</th>\n",
       "      <td>2016-12-29</td>\n",
       "      <td>1802000</td>\n",
       "      <td>14000</td>\n",
       "      <td>150329</td>\n",
       "      <td>269850552000</td>\n",
       "      <td>1771000</td>\n",
       "      <td>1802000</td>\n",
       "      <td>1770000</td>\n",
       "      <td>253504165</td>\n",
       "      <td>140679337</td>\n",
       "    </tr>\n",
       "    <tr>\n",
       "      <th>1</th>\n",
       "      <td>2016-12-28</td>\n",
       "      <td>1788000</td>\n",
       "      <td>-11000</td>\n",
       "      <td>133258</td>\n",
       "      <td>238389027152</td>\n",
       "      <td>1792000</td>\n",
       "      <td>1799000</td>\n",
       "      <td>1780000</td>\n",
       "      <td>251534655</td>\n",
       "      <td>140679337</td>\n",
       "    </tr>\n",
       "    <tr>\n",
       "      <th>2</th>\n",
       "      <td>2016-12-27</td>\n",
       "      <td>1799000</td>\n",
       "      <td>1000</td>\n",
       "      <td>93069</td>\n",
       "      <td>167499160785</td>\n",
       "      <td>1799000</td>\n",
       "      <td>1810000</td>\n",
       "      <td>1793000</td>\n",
       "      <td>253082127</td>\n",
       "      <td>140679337</td>\n",
       "    </tr>\n",
       "    <tr>\n",
       "      <th>3</th>\n",
       "      <td>2016-12-26</td>\n",
       "      <td>1798000</td>\n",
       "      <td>16000</td>\n",
       "      <td>96472</td>\n",
       "      <td>173030035000</td>\n",
       "      <td>1780000</td>\n",
       "      <td>1800000</td>\n",
       "      <td>1778000</td>\n",
       "      <td>252941448</td>\n",
       "      <td>140679337</td>\n",
       "    </tr>\n",
       "    <tr>\n",
       "      <th>4</th>\n",
       "      <td>2016-12-23</td>\n",
       "      <td>1782000</td>\n",
       "      <td>-27000</td>\n",
       "      <td>166697</td>\n",
       "      <td>298604129418</td>\n",
       "      <td>1801000</td>\n",
       "      <td>1804000</td>\n",
       "      <td>1780000</td>\n",
       "      <td>250690579</td>\n",
       "      <td>140679337</td>\n",
       "    </tr>\n",
       "  </tbody>\n",
       "</table>\n",
       "</div>"
      ],
      "text/plain": [
       "       년/월/일       종가     대비  거래량(주)       거래대금(원)       시가       고가       저가  \\\n",
       "0 2016-12-29  1802000  14000  150329  269850552000  1771000  1802000  1770000   \n",
       "1 2016-12-28  1788000 -11000  133258  238389027152  1792000  1799000  1780000   \n",
       "2 2016-12-27  1799000   1000   93069  167499160785  1799000  1810000  1793000   \n",
       "3 2016-12-26  1798000  16000   96472  173030035000  1780000  1800000  1778000   \n",
       "4 2016-12-23  1782000 -27000  166697  298604129418  1801000  1804000  1780000   \n",
       "\n",
       "    시가총액(백만)   상장주식수(주)  \n",
       "0  253504165  140679337  \n",
       "1  251534655  140679337  \n",
       "2  253082127  140679337  \n",
       "3  252941448  140679337  \n",
       "4  250690579  140679337  "
      ]
     },
     "execution_count": 3,
     "metadata": {},
     "output_type": "execute_result"
    }
   ],
   "source": [
    "df = pd.read_excel('A005930.xls', thousands=',', parse_dates=['년/월/일'])\n",
    "df.head()"
   ]
  },
  {
   "cell_type": "code",
   "execution_count": 4,
   "metadata": {
    "slideshow": {
     "slide_type": "subslide"
    }
   },
   "outputs": [
    {
     "data": {
      "text/html": [
       "<div>\n",
       "<style scoped>\n",
       "    .dataframe tbody tr th:only-of-type {\n",
       "        vertical-align: middle;\n",
       "    }\n",
       "\n",
       "    .dataframe tbody tr th {\n",
       "        vertical-align: top;\n",
       "    }\n",
       "\n",
       "    .dataframe thead th {\n",
       "        text-align: right;\n",
       "    }\n",
       "</style>\n",
       "<table border=\"1\" class=\"dataframe\">\n",
       "  <thead>\n",
       "    <tr style=\"text-align: right;\">\n",
       "      <th></th>\n",
       "      <th>년/월/일</th>\n",
       "      <th>종가</th>\n",
       "      <th>거래량(주)</th>\n",
       "      <th>시가</th>\n",
       "      <th>고가</th>\n",
       "      <th>저가</th>\n",
       "    </tr>\n",
       "  </thead>\n",
       "  <tbody>\n",
       "    <tr>\n",
       "      <th>0</th>\n",
       "      <td>2016-12-29</td>\n",
       "      <td>1802000</td>\n",
       "      <td>150329</td>\n",
       "      <td>1771000</td>\n",
       "      <td>1802000</td>\n",
       "      <td>1770000</td>\n",
       "    </tr>\n",
       "    <tr>\n",
       "      <th>1</th>\n",
       "      <td>2016-12-28</td>\n",
       "      <td>1788000</td>\n",
       "      <td>133258</td>\n",
       "      <td>1792000</td>\n",
       "      <td>1799000</td>\n",
       "      <td>1780000</td>\n",
       "    </tr>\n",
       "    <tr>\n",
       "      <th>2</th>\n",
       "      <td>2016-12-27</td>\n",
       "      <td>1799000</td>\n",
       "      <td>93069</td>\n",
       "      <td>1799000</td>\n",
       "      <td>1810000</td>\n",
       "      <td>1793000</td>\n",
       "    </tr>\n",
       "    <tr>\n",
       "      <th>3</th>\n",
       "      <td>2016-12-26</td>\n",
       "      <td>1798000</td>\n",
       "      <td>96472</td>\n",
       "      <td>1780000</td>\n",
       "      <td>1800000</td>\n",
       "      <td>1778000</td>\n",
       "    </tr>\n",
       "    <tr>\n",
       "      <th>4</th>\n",
       "      <td>2016-12-23</td>\n",
       "      <td>1782000</td>\n",
       "      <td>166697</td>\n",
       "      <td>1801000</td>\n",
       "      <td>1804000</td>\n",
       "      <td>1780000</td>\n",
       "    </tr>\n",
       "  </tbody>\n",
       "</table>\n",
       "</div>"
      ],
      "text/plain": [
       "       년/월/일       종가  거래량(주)       시가       고가       저가\n",
       "0 2016-12-29  1802000  150329  1771000  1802000  1770000\n",
       "1 2016-12-28  1788000  133258  1792000  1799000  1780000\n",
       "2 2016-12-27  1799000   93069  1799000  1810000  1793000\n",
       "3 2016-12-26  1798000   96472  1780000  1800000  1778000\n",
       "4 2016-12-23  1782000  166697  1801000  1804000  1780000"
      ]
     },
     "execution_count": 4,
     "metadata": {},
     "output_type": "execute_result"
    }
   ],
   "source": [
    "df = df[['년/월/일',  '종가', '거래량(주)', '시가', '고가', '저가']]\n",
    "df.head()"
   ]
  },
  {
   "cell_type": "code",
   "execution_count": 5,
   "metadata": {
    "slideshow": {
     "slide_type": "subslide"
    }
   },
   "outputs": [
    {
     "data": {
      "text/html": [
       "<div>\n",
       "<style scoped>\n",
       "    .dataframe tbody tr th:only-of-type {\n",
       "        vertical-align: middle;\n",
       "    }\n",
       "\n",
       "    .dataframe tbody tr th {\n",
       "        vertical-align: top;\n",
       "    }\n",
       "\n",
       "    .dataframe thead th {\n",
       "        text-align: right;\n",
       "    }\n",
       "</style>\n",
       "<table border=\"1\" class=\"dataframe\">\n",
       "  <thead>\n",
       "    <tr style=\"text-align: right;\">\n",
       "      <th></th>\n",
       "      <th>close</th>\n",
       "      <th>volume</th>\n",
       "      <th>open</th>\n",
       "      <th>hign</th>\n",
       "      <th>low</th>\n",
       "    </tr>\n",
       "    <tr>\n",
       "      <th>date</th>\n",
       "      <th></th>\n",
       "      <th></th>\n",
       "      <th></th>\n",
       "      <th></th>\n",
       "      <th></th>\n",
       "    </tr>\n",
       "  </thead>\n",
       "  <tbody>\n",
       "    <tr>\n",
       "      <th>2016-12-29</th>\n",
       "      <td>1802000</td>\n",
       "      <td>150329</td>\n",
       "      <td>1771000</td>\n",
       "      <td>1802000</td>\n",
       "      <td>1770000</td>\n",
       "    </tr>\n",
       "    <tr>\n",
       "      <th>2016-12-28</th>\n",
       "      <td>1788000</td>\n",
       "      <td>133258</td>\n",
       "      <td>1792000</td>\n",
       "      <td>1799000</td>\n",
       "      <td>1780000</td>\n",
       "    </tr>\n",
       "    <tr>\n",
       "      <th>2016-12-27</th>\n",
       "      <td>1799000</td>\n",
       "      <td>93069</td>\n",
       "      <td>1799000</td>\n",
       "      <td>1810000</td>\n",
       "      <td>1793000</td>\n",
       "    </tr>\n",
       "    <tr>\n",
       "      <th>2016-12-26</th>\n",
       "      <td>1798000</td>\n",
       "      <td>96472</td>\n",
       "      <td>1780000</td>\n",
       "      <td>1800000</td>\n",
       "      <td>1778000</td>\n",
       "    </tr>\n",
       "    <tr>\n",
       "      <th>2016-12-23</th>\n",
       "      <td>1782000</td>\n",
       "      <td>166697</td>\n",
       "      <td>1801000</td>\n",
       "      <td>1804000</td>\n",
       "      <td>1780000</td>\n",
       "    </tr>\n",
       "  </tbody>\n",
       "</table>\n",
       "</div>"
      ],
      "text/plain": [
       "              close  volume     open     hign      low\n",
       "date                                                  \n",
       "2016-12-29  1802000  150329  1771000  1802000  1770000\n",
       "2016-12-28  1788000  133258  1792000  1799000  1780000\n",
       "2016-12-27  1799000   93069  1799000  1810000  1793000\n",
       "2016-12-26  1798000   96472  1780000  1800000  1778000\n",
       "2016-12-23  1782000  166697  1801000  1804000  1780000"
      ]
     },
     "execution_count": 5,
     "metadata": {},
     "output_type": "execute_result"
    }
   ],
   "source": [
    "df.columns = ['date', 'close', 'volume', 'open', 'hign', 'low']\n",
    "df.set_index('date', inplace=True)\n",
    "df.head()"
   ]
  },
  {
   "cell_type": "code",
   "execution_count": 6,
   "metadata": {
    "slideshow": {
     "slide_type": "slide"
    }
   },
   "outputs": [
    {
     "data": {
      "text/plain": [
       "<matplotlib.axes._subplots.AxesSubplot at 0x7f901f0f68d0>"
      ]
     },
     "execution_count": 6,
     "metadata": {},
     "output_type": "execute_result"
    },
    {
     "data": {
      "image/png": "[encoded data removed]",
      "text/plain": [
       "<matplotlib.figure.Figure at 0x7f901f0daef0>"
      ]
     },
     "metadata": {},
     "output_type": "display_data"
    }
   ],
   "source": [
    "%matplotlib inline\n",
    "df['close'].plot(figsize=(18,8), grid=True)"
   ]
  },
  {
   "cell_type": "markdown",
   "metadata": {
    "slideshow": {
     "slide_type": "notes"
    }
   },
   "source": [
    "----\n",
    "#### 2017 FinanceData http://fb.com/financedata http://financedata.github.com\n",
    "\n"
   ]
  }
 ],
 "metadata": {
  "celltoolbar": "Slideshow",
  "kernelspec": {
   "display_name": "Python 3",
   "language": "python",
   "name": "python3"
  },
  "language_info": {
   "codemirror_mode": {
    "name": "ipython",
    "version": 3
   },
   "file_extension": ".py",
   "mimetype": "text/x-python",
   "name": "python",
   "nbconvert_exporter": "python",
   "pygments_lexer": "ipython3",
   "version": "3.5.2"
  }
 },
 "nbformat": 4,
 "nbformat_minor": 1
}