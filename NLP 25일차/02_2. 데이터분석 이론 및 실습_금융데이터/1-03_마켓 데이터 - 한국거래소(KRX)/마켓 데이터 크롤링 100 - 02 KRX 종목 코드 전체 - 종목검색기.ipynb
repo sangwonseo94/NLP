{
 "cells": [
  {
   "cell_type": "markdown",
   "metadata": {
    "slideshow": {
     "slide_type": "slide"
    }
   },
   "source": [
    "### 마켓 데이터 크롤링\n",
    "# KRX 종목 코드 전체 - 종목검색기\n",
    "\n",
    "<img src=\"http://i.imgur.com/grQHNKG.jpg\">\n",
    "    \n",
    "#### 2017,2018 FinanceData http://fb.com/financedata"
   ]
  },
  {
   "cell_type": "markdown",
   "metadata": {
    "slideshow": {
     "slide_type": "slide"
    }
   },
   "source": [
    "# 주식종목검색기\n",
    "주식 >> 종목정보 >> 기업개요 (개별 종목을 지정하는 메뉴는 모두 가능)\n",
    "<img src=\"https://i.imgur.com/6zdCupL.png\" >\n"
   ]
  },
  {
   "cell_type": "markdown",
   "metadata": {
    "slideshow": {
     "slide_type": "slide"
    }
   },
   "source": [
    "<img src=\"https://i.imgur.com/9bFL9dZ.png\" >"
   ]
  },
  {
   "cell_type": "markdown",
   "metadata": {
    "slideshow": {
     "slide_type": "slide"
    }
   },
   "source": [
    "# STEP 01"
   ]
  },
  {
   "cell_type": "code",
   "execution_count": 1,
   "metadata": {
    "slideshow": {
     "slide_type": "-"
    }
   },
   "outputs": [
    {
     "data": {
      "text/plain": [
       "1540574462.1132493"
      ]
     },
     "execution_count": 1,
     "metadata": {},
     "output_type": "execute_result"
    }
   ],
   "source": [
    "# 시간값 얻기\n",
    "import time\n",
    "\n",
    "t = time.time()\n",
    "t"
   ]
  },
  {
   "cell_type": "code",
   "execution_count": 2,
   "metadata": {
    "slideshow": {
     "slide_type": "-"
    }
   },
   "outputs": [
    {
     "data": {
      "text/plain": [
       "b'JQr2R/hcIP8iyTiWmdGNA63LXLTc4NJbkfKbT68LUly7AdcJbPIP7OTdR1fQqtnNjyint1KRmwnb5Ukzc9ZjUHMQ7zt2u1vqZJpmyH+0Vje9jNMSPkqBUXQXWowlXuyKsucshnXNg4DygI+H09bBEg=='"
      ]
     },
     "execution_count": 2,
     "metadata": {},
     "output_type": "execute_result"
    }
   ],
   "source": [
    "import time\n",
    "import requests\n",
    "\n",
    "t = time.time() * 1000\n",
    "url = 'http://marketdata.krx.co.kr/contents/COM/GenerateOTP.jspx?bld=COM%2Ffinder_stkisu&name=form&_=' + str(t)\n",
    "r = requests.get(url)\n",
    "r.content"
   ]
  },
  {
   "cell_type": "markdown",
   "metadata": {
    "slideshow": {
     "slide_type": "slide"
    }
   },
   "source": [
    "# STEP 02"
   ]
  },
  {
   "cell_type": "code",
   "execution_count": 3,
   "metadata": {
    "slideshow": {
     "slide_type": "-"
    }
   },
   "outputs": [
    {
     "data": {
      "text/plain": [
       "'{\"block1\":[{\"full_code\":\"KR7060310000\",\"short_code\":\"A060310\",\"codeName\":\"3S\",\"marketName\":\"KOSDAQ\"},{\"full_code\":\"KR7095570008\",\"short_code\":\"A095570\",\"codeName\":\"AJ네트웍스\",\"marketName\":\"KOSPI\"},{\"full_code\":\"KR7068400001\",\"short_code\":\"A068400\",\"codeName\":\"AJ렌터카\",\"marketName\":\"KOSPI\"},{\"full_code\":\"KR7006840003\",\"short_code\":\"A006840\",\"codeName\":\"AK홀딩스\",\"marketName\":\"KOSPI\"},{\"full_code\":\"KR7054620000\",\"short_code\":\"A054620\",\"codeName\":\"APS홀딩스\",\"marketName\":\"KOSDAQ\"},{\"full_code\":\"KR7265520007\",\"short_code\":\"A265520\",\"codeName\":\"AP시스템\",\"marketName\":\"KOSDAQ\"},{\"full_code\":\"KR7211270004\",\"short_code\":\"A211270\",\"codeName\":\"AP위성\",\"marketName\":\"KOSDAQ\"},{\"full_code\":\"KR7027410000\",\"short_code\":\"A027410\",\"codeName\":\"BGF\",\"marketName\":\"KOSPI\"},{\"full_code\":\"KR7282330000\",\"short_code\":\"A282330\",\"codeName\":\"BGF리테일\",\"marketName\":\"KOSPI\"},{\"full_code\":\"KR7138930003\",\"short_code\":\"A138930\",\"codeName\":\"BNK금융지주\",\"marketName\":\"KOSPI\"},{\"full_code\":\"KR7001460005\",\"short_code\":\"A001460\",\"codeName\":\"BYC'"
      ]
     },
     "execution_count": 3,
     "metadata": {},
     "output_type": "execute_result"
    }
   ],
   "source": [
    "down_url = 'http://marketdata.krx.co.kr/contents/MKD/99/MKD99000001.jspx'\n",
    "down_data = {\n",
    "    'isuCd':'',\n",
    "    'no':'P1',\n",
    "    'mktsel':'ALL',\n",
    "    'searchText':'',\n",
    "    'pagePath':'/contents/COM/FinderStkIsu.jsp',\n",
    "    'code': r.content,\n",
    "    'geFirstCall':'Y',\n",
    "}\n",
    "r = requests.post(down_url, down_data)\n",
    "r.text[:1000]"
   ]
  },
  {
   "cell_type": "code",
   "execution_count": 4,
   "metadata": {
    "slideshow": {
     "slide_type": "slide"
    }
   },
   "outputs": [
    {
     "data": {
      "text/plain": [
       "[{'codeName': '3S',\n",
       "  'full_code': 'KR7060310000',\n",
       "  'marketName': 'KOSDAQ',\n",
       "  'short_code': 'A060310'},\n",
       " {'codeName': 'AJ네트웍스',\n",
       "  'full_code': 'KR7095570008',\n",
       "  'marketName': 'KOSPI',\n",
       "  'short_code': 'A095570'},\n",
       " {'codeName': 'AJ렌터카',\n",
       "  'full_code': 'KR7068400001',\n",
       "  'marketName': 'KOSPI',\n",
       "  'short_code': 'A068400'},\n",
       " {'codeName': 'AK홀딩스',\n",
       "  'full_code': 'KR7006840003',\n",
       "  'marketName': 'KOSPI',\n",
       "  'short_code': 'A006840'},\n",
       " {'codeName': 'APS홀딩스',\n",
       "  'full_code': 'KR7054620000',\n",
       "  'marketName': 'KOSDAQ',\n",
       "  'short_code': 'A054620'}]"
      ]
     },
     "execution_count": 4,
     "metadata": {},
     "output_type": "execute_result"
    }
   ],
   "source": [
    "import json\n",
    "\n",
    "jo = json.loads(r.text)\n",
    "jo['block1'][:5]"
   ]
  },
  {
   "cell_type": "code",
   "execution_count": 5,
   "metadata": {
    "slideshow": {
     "slide_type": "slide"
    }
   },
   "outputs": [
    {
     "name": "stdout",
     "output_type": "stream",
     "text": [
      "3S KR7060310000 KOSDAQ A060310\n",
      "AJ네트웍스 KR7095570008 KOSPI A095570\n",
      "AJ렌터카 KR7068400001 KOSPI A068400\n",
      "AK홀딩스 KR7006840003 KOSPI A006840\n",
      "APS홀딩스 KR7054620000 KOSDAQ A054620\n",
      "AP시스템 KR7265520007 KOSDAQ A265520\n",
      "AP위성 KR7211270004 KOSDAQ A211270\n",
      "BGF KR7027410000 KOSPI A027410\n",
      "BGF리테일 KR7282330000 KOSPI A282330\n",
      "BNK금융지주 KR7138930003 KOSPI A138930\n"
     ]
    }
   ],
   "source": [
    "for r in jo['block1'][:10]:\n",
    "    print(r['codeName'], r['full_code'], r['marketName'], r['short_code'] )"
   ]
  },
  {
   "cell_type": "markdown",
   "metadata": {
    "slideshow": {
     "slide_type": "slide"
    }
   },
   "source": [
    "# 함수로 정리"
   ]
  },
  {
   "cell_type": "code",
   "execution_count": 6,
   "metadata": {
    "slideshow": {
     "slide_type": "-"
    }
   },
   "outputs": [],
   "source": [
    "import json\n",
    "import time\n",
    "import requests\n",
    "from pandas.io.json import json_normalize\n",
    "\n",
    "def 주식종목검색기():\n",
    "    url_tmpl = 'http://marketdata.krx.co.kr/contents/COM/GenerateOTP.jspx?bld=COM%2Ffinder_stkisu&name=form&_={}' \n",
    "    url = url_tmpl.format( int(time.time() * 1000) )\n",
    "    r = requests.get(url)\n",
    "\n",
    "    down_url = 'http://marketdata.krx.co.kr/contents/MKD/99/MKD99000001.jspx'\n",
    "    down_data = {\n",
    "        'mktsel':'ALL',\n",
    "        'pagePath':'/contents/COM/FinderStkIsu.jsp',\n",
    "        'code': r.content,\n",
    "        'geFirstCall':'Y',\n",
    "    }\n",
    "    r = requests.post(down_url, down_data)\n",
    "    jo = json.loads(r.text)\n",
    "    return json_normalize(jo, 'block1')"
   ]
  },
  {
   "cell_type": "code",
   "execution_count": 7,
   "metadata": {
    "slideshow": {
     "slide_type": "-"
    }
   },
   "outputs": [
    {
     "name": "stdout",
     "output_type": "stream",
     "text": [
      "2371\n"
     ]
    },
    {
     "data": {
      "text/html": [
       "<div>\n",
       "<style scoped>\n",
       "    .dataframe tbody tr th:only-of-type {\n",
       "        vertical-align: middle;\n",
       "    }\n",
       "\n",
       "    .dataframe tbody tr th {\n",
       "        vertical-align: top;\n",
       "    }\n",
       "\n",
       "    .dataframe thead th {\n",
       "        text-align: right;\n",
       "    }\n",
       "</style>\n",
       "<table border=\"1\" class=\"dataframe\">\n",
       "  <thead>\n",
       "    <tr style=\"text-align: right;\">\n",
       "      <th></th>\n",
       "      <th>codeName</th>\n",
       "      <th>full_code</th>\n",
       "      <th>marketName</th>\n",
       "      <th>short_code</th>\n",
       "    </tr>\n",
       "  </thead>\n",
       "  <tbody>\n",
       "    <tr>\n",
       "      <th>0</th>\n",
       "      <td>3S</td>\n",
       "      <td>KR7060310000</td>\n",
       "      <td>KOSDAQ</td>\n",
       "      <td>A060310</td>\n",
       "    </tr>\n",
       "    <tr>\n",
       "      <th>1</th>\n",
       "      <td>AJ네트웍스</td>\n",
       "      <td>KR7095570008</td>\n",
       "      <td>KOSPI</td>\n",
       "      <td>A095570</td>\n",
       "    </tr>\n",
       "    <tr>\n",
       "      <th>2</th>\n",
       "      <td>AJ렌터카</td>\n",
       "      <td>KR7068400001</td>\n",
       "      <td>KOSPI</td>\n",
       "      <td>A068400</td>\n",
       "    </tr>\n",
       "    <tr>\n",
       "      <th>3</th>\n",
       "      <td>AK홀딩스</td>\n",
       "      <td>KR7006840003</td>\n",
       "      <td>KOSPI</td>\n",
       "      <td>A006840</td>\n",
       "    </tr>\n",
       "    <tr>\n",
       "      <th>4</th>\n",
       "      <td>APS홀딩스</td>\n",
       "      <td>KR7054620000</td>\n",
       "      <td>KOSDAQ</td>\n",
       "      <td>A054620</td>\n",
       "    </tr>\n",
       "  </tbody>\n",
       "</table>\n",
       "</div>"
      ],
      "text/plain": [
       "  codeName     full_code marketName short_code\n",
       "0       3S  KR7060310000     KOSDAQ    A060310\n",
       "1   AJ네트웍스  KR7095570008      KOSPI    A095570\n",
       "2    AJ렌터카  KR7068400001      KOSPI    A068400\n",
       "3    AK홀딩스  KR7006840003      KOSPI    A006840\n",
       "4   APS홀딩스  KR7054620000     KOSDAQ    A054620"
      ]
     },
     "execution_count": 7,
     "metadata": {},
     "output_type": "execute_result"
    }
   ],
   "source": [
    "주식종목 = 주식종목검색기()\n",
    "print(len(주식종목))\n",
    "\n",
    "주식종목[:5]"
   ]
  },
  {
   "cell_type": "code",
   "execution_count": 8,
   "metadata": {
    "slideshow": {
     "slide_type": "-"
    }
   },
   "outputs": [],
   "source": [
    "주식종목.to_csv('stock_full_code.csv')"
   ]
  },
  {
   "cell_type": "markdown",
   "metadata": {
    "slideshow": {
     "slide_type": "slide"
    }
   },
   "source": [
    "# 함수 사용예"
   ]
  },
  {
   "cell_type": "code",
   "execution_count": 9,
   "metadata": {
    "slideshow": {
     "slide_type": "-"
    }
   },
   "outputs": [
    {
     "name": "stdout",
     "output_type": "stream",
     "text": [
      "3S KR7060310000\n",
      "AJ네트웍스 KR7095570008\n",
      "AJ렌터카 KR7068400001\n",
      "AK홀딩스 KR7006840003\n",
      "APS홀딩스 KR7054620000\n",
      "AP시스템 KR7265520007\n",
      "AP위성 KR7211270004\n",
      "BGF KR7027410000\n",
      "BGF리테일 KR7282330000\n",
      "BNK금융지주 KR7138930003\n"
     ]
    }
   ],
   "source": [
    "df = 주식종목검색기()\n",
    "\n",
    "for ix, row in df[:10].iterrows():\n",
    "    print(row['codeName'], row['full_code'])\n",
    "    # 종목별 분석 작업"
   ]
  },
  {
   "cell_type": "markdown",
   "metadata": {
    "slideshow": {
     "slide_type": "slide"
    }
   },
   "source": [
    "# 종목 코드\n",
    "\n",
    "## 국제증권식별번호(ISIN)\n",
    "* 12자리, 예) 삼성전자: KR7005930003\n",
    "* 국가코드(2) + 속성코드(1), 발행체고유코드(5), 종목구분코드(3) + 검사코드(1)\n",
    "* 국가코드: KR, 속성코드: 1=국채, 2=지방채 .. 7=주권, 종목구분:보통주=0\n",
    "* 검사코드: Double-Add-Double 방식으로 산출\n",
    "\n",
    "증권 및 관련금융상품 표준코드 관리기준 [일부개정, 2014.11.06, 제423호] http://law.krx.co.kr/las/main.jsp\n",
    "\n",
    "\n",
    "## 단축코드 부여 방식\n",
    "* 주권의 경우 7자리, 예) 삼성전자: A005930\n",
    "* A는 주권을 뜻하며 생략하고 뒤쪽 6자리만 사용"
   ]
  },
  {
   "cell_type": "markdown",
   "metadata": {
    "slideshow": {
     "slide_type": "slide"
    }
   },
   "source": [
    "# 종목 코드\n",
    "\n",
    "## 국제증권식별번호(ISIN)\n",
    "* 12자리, 예) 삼성전자: KR7005930003\n",
    "* 국가코드(2) + 속성코드(1), 발행체고유코드(5), 종목구분코드(3) + 검사코드(1)\n",
    "* 국가코드: KR, 속성코드: 1=국채, 2=지방채 .. 7=주권, 종목구분:보통주=0\n",
    "* 검사코드: Double-Add-Double 방식으로 산출\n",
    "\n",
    "증권 및 관련금융상품 표준코드 관리기준 [일부개정, 2014.11.06, 제423호] http://law.krx.co.kr/las/main.jsp\n",
    "\n",
    "\n",
    "## 단축코드 부여 방식\n",
    "* 주권의 경우 7자리, 예) 삼성전자: A005930\n",
    "* A는 주권을 뜻하며 생략하고 뒤쪽 6자리만 사용"
   ]
  },
  {
   "cell_type": "markdown",
   "metadata": {
    "slideshow": {
     "slide_type": "subslide"
    }
   },
   "source": [
    "# 증권표준코드 → 단축코드\n",
    "* KR7005930003 → 005930"
   ]
  },
  {
   "cell_type": "code",
   "execution_count": 10,
   "metadata": {
    "slideshow": {
     "slide_type": "-"
    }
   },
   "outputs": [
    {
     "data": {
      "text/plain": [
       "'005930'"
      ]
     },
     "execution_count": 10,
     "metadata": {},
     "output_type": "execute_result"
    }
   ],
   "source": [
    "isin = 'KR7005930003'\n",
    "isin[3:9]"
   ]
  },
  {
   "cell_type": "markdown",
   "metadata": {
    "slideshow": {
     "slide_type": "slide"
    }
   },
   "source": [
    "# 단축코드 → 증권표준코드 \n",
    "\n",
    "* 005930 → KR7005930003\n",
    "* 증권 표준코드: 국가코드(2) + 속성코드(1) + 발행체고유코드(5) + 종목구분코드(3) + 검사코드(1)\n",
    "* 검사코드: Double-Add-Double 방식으로 산출"
   ]
  },
  {
   "cell_type": "code",
   "execution_count": 11,
   "metadata": {
    "slideshow": {
     "slide_type": "-"
    }
   },
   "outputs": [
    {
     "data": {
      "text/plain": [
       "'KR7005930003'"
      ]
     },
     "execution_count": 11,
     "metadata": {},
     "output_type": "execute_result"
    }
   ],
   "source": [
    "# 주식코드 ISIN 얻기 (검사코드 계산)\n",
    "# 보통주에만 적용됨\n",
    "\n",
    "def code_to_isin(code):\n",
    "    val_list = [40, 47, 14] + [x * y for x, y in zip([int(ch) for ch in code], [1, 2, 1, 2, 1, 2])] + [0, 0]\n",
    "    check_val = sum([int(v/10) + v % 10 for v in val_list]) % 10\n",
    "    check_str = '0'\n",
    "    if check_val > 0:\n",
    "        check_str = str(10 - check_val)\n",
    "    return 'KR7' + code + '00' + check_str\n",
    "\n",
    "code_to_isin('005930')"
   ]
  },
  {
   "cell_type": "markdown",
   "metadata": {
    "slideshow": {
     "slide_type": "subslide"
    }
   },
   "source": [
    "# 참고자료\n",
    "* http://blog.naver.com/dlfekdqorkbs/140189933481 주식 종목코드는 어떻게 만들어지는 걸까요? (주권)\n",
    "* 증권 및 관련금융상품 표준코드 관리기준 [일부개정, 2014.11.06, 제423호] \n"
   ]
  },
  {
   "cell_type": "markdown",
   "metadata": {
    "slideshow": {
     "slide_type": "slide"
    }
   },
   "source": [
    "# 단축코드와 표준코드(ISIN) 변환"
   ]
  },
  {
   "cell_type": "code",
   "execution_count": 12,
   "metadata": {
    "slideshow": {
     "slide_type": "-"
    }
   },
   "outputs": [],
   "source": [
    "import json\n",
    "import time\n",
    "import requests\n",
    "from pandas.io.json import json_normalize\n",
    "\n",
    "def 주식종목검색기():\n",
    "    url_tmpl = 'http://marketdata.krx.co.kr/contents/COM/GenerateOTP.jspx?bld=COM%2Ffinder_stkisu&name=form&_={}' \n",
    "    url = url_tmpl.format( int(time.time() * 1000) )\n",
    "    r = requests.get(url)\n",
    "\n",
    "    down_url = 'http://marketdata.krx.co.kr/contents/MKD/99/MKD99000001.jspx'\n",
    "    down_data = {\n",
    "        'mktsel':'ALL',\n",
    "        'pagePath':'/contents/COM/FinderStkIsu.jsp',\n",
    "        'code': r.content,\n",
    "        'geFirstCall':'Y',\n",
    "    }\n",
    "    r = requests.post(down_url, down_data)\n",
    "    jo = json.loads(r.text)\n",
    "    df = json_normalize(jo, 'block1')\n",
    "    df['short_code'] = df['short_code'].str[1:]\n",
    "    return df"
   ]
  },
  {
   "cell_type": "code",
   "execution_count": 13,
   "metadata": {
    "slideshow": {
     "slide_type": "subslide"
    }
   },
   "outputs": [
    {
     "data": {
      "text/html": [
       "<div>\n",
       "<style scoped>\n",
       "    .dataframe tbody tr th:only-of-type {\n",
       "        vertical-align: middle;\n",
       "    }\n",
       "\n",
       "    .dataframe tbody tr th {\n",
       "        vertical-align: top;\n",
       "    }\n",
       "\n",
       "    .dataframe thead th {\n",
       "        text-align: right;\n",
       "    }\n",
       "</style>\n",
       "<table border=\"1\" class=\"dataframe\">\n",
       "  <thead>\n",
       "    <tr style=\"text-align: right;\">\n",
       "      <th></th>\n",
       "      <th>codeName</th>\n",
       "      <th>full_code</th>\n",
       "      <th>marketName</th>\n",
       "      <th>short_code</th>\n",
       "    </tr>\n",
       "  </thead>\n",
       "  <tbody>\n",
       "    <tr>\n",
       "      <th>0</th>\n",
       "      <td>3S</td>\n",
       "      <td>KR7060310000</td>\n",
       "      <td>KOSDAQ</td>\n",
       "      <td>060310</td>\n",
       "    </tr>\n",
       "    <tr>\n",
       "      <th>1</th>\n",
       "      <td>AJ네트웍스</td>\n",
       "      <td>KR7095570008</td>\n",
       "      <td>KOSPI</td>\n",
       "      <td>095570</td>\n",
       "    </tr>\n",
       "    <tr>\n",
       "      <th>2</th>\n",
       "      <td>AJ렌터카</td>\n",
       "      <td>KR7068400001</td>\n",
       "      <td>KOSPI</td>\n",
       "      <td>068400</td>\n",
       "    </tr>\n",
       "    <tr>\n",
       "      <th>3</th>\n",
       "      <td>AK홀딩스</td>\n",
       "      <td>KR7006840003</td>\n",
       "      <td>KOSPI</td>\n",
       "      <td>006840</td>\n",
       "    </tr>\n",
       "    <tr>\n",
       "      <th>4</th>\n",
       "      <td>APS홀딩스</td>\n",
       "      <td>KR7054620000</td>\n",
       "      <td>KOSDAQ</td>\n",
       "      <td>054620</td>\n",
       "    </tr>\n",
       "    <tr>\n",
       "      <th>5</th>\n",
       "      <td>AP시스템</td>\n",
       "      <td>KR7265520007</td>\n",
       "      <td>KOSDAQ</td>\n",
       "      <td>265520</td>\n",
       "    </tr>\n",
       "    <tr>\n",
       "      <th>6</th>\n",
       "      <td>AP위성</td>\n",
       "      <td>KR7211270004</td>\n",
       "      <td>KOSDAQ</td>\n",
       "      <td>211270</td>\n",
       "    </tr>\n",
       "    <tr>\n",
       "      <th>7</th>\n",
       "      <td>BGF</td>\n",
       "      <td>KR7027410000</td>\n",
       "      <td>KOSPI</td>\n",
       "      <td>027410</td>\n",
       "    </tr>\n",
       "    <tr>\n",
       "      <th>8</th>\n",
       "      <td>BGF리테일</td>\n",
       "      <td>KR7282330000</td>\n",
       "      <td>KOSPI</td>\n",
       "      <td>282330</td>\n",
       "    </tr>\n",
       "    <tr>\n",
       "      <th>9</th>\n",
       "      <td>BNK금융지주</td>\n",
       "      <td>KR7138930003</td>\n",
       "      <td>KOSPI</td>\n",
       "      <td>138930</td>\n",
       "    </tr>\n",
       "    <tr>\n",
       "      <th>10</th>\n",
       "      <td>BYC</td>\n",
       "      <td>KR7001460005</td>\n",
       "      <td>KOSPI</td>\n",
       "      <td>001460</td>\n",
       "    </tr>\n",
       "    <tr>\n",
       "      <th>11</th>\n",
       "      <td>BYC우</td>\n",
       "      <td>KR7001461003</td>\n",
       "      <td>KOSPI</td>\n",
       "      <td>001465</td>\n",
       "    </tr>\n",
       "    <tr>\n",
       "      <th>12</th>\n",
       "      <td>CJ</td>\n",
       "      <td>KR7001040005</td>\n",
       "      <td>KOSPI</td>\n",
       "      <td>001040</td>\n",
       "    </tr>\n",
       "    <tr>\n",
       "      <th>13</th>\n",
       "      <td>CJ CGV</td>\n",
       "      <td>KR7079160008</td>\n",
       "      <td>KOSPI</td>\n",
       "      <td>079160</td>\n",
       "    </tr>\n",
       "    <tr>\n",
       "      <th>14</th>\n",
       "      <td>CJ ENM</td>\n",
       "      <td>KR7035760008</td>\n",
       "      <td>KOSDAQ</td>\n",
       "      <td>035760</td>\n",
       "    </tr>\n",
       "    <tr>\n",
       "      <th>15</th>\n",
       "      <td>CJ대한통운</td>\n",
       "      <td>KR7000120006</td>\n",
       "      <td>KOSPI</td>\n",
       "      <td>000120</td>\n",
       "    </tr>\n",
       "    <tr>\n",
       "      <th>16</th>\n",
       "      <td>CJ씨푸드</td>\n",
       "      <td>KR7011150000</td>\n",
       "      <td>KOSPI</td>\n",
       "      <td>011150</td>\n",
       "    </tr>\n",
       "    <tr>\n",
       "      <th>17</th>\n",
       "      <td>CJ씨푸드1우</td>\n",
       "      <td>KR7011151008</td>\n",
       "      <td>KOSPI</td>\n",
       "      <td>011155</td>\n",
       "    </tr>\n",
       "    <tr>\n",
       "      <th>18</th>\n",
       "      <td>CJ우</td>\n",
       "      <td>KR7001041003</td>\n",
       "      <td>KOSPI</td>\n",
       "      <td>001045</td>\n",
       "    </tr>\n",
       "    <tr>\n",
       "      <th>19</th>\n",
       "      <td>CJ제일제당</td>\n",
       "      <td>KR7097950000</td>\n",
       "      <td>KOSPI</td>\n",
       "      <td>097950</td>\n",
       "    </tr>\n",
       "  </tbody>\n",
       "</table>\n",
       "</div>"
      ],
      "text/plain": [
       "   codeName     full_code marketName short_code\n",
       "0        3S  KR7060310000     KOSDAQ     060310\n",
       "1    AJ네트웍스  KR7095570008      KOSPI     095570\n",
       "2     AJ렌터카  KR7068400001      KOSPI     068400\n",
       "3     AK홀딩스  KR7006840003      KOSPI     006840\n",
       "4    APS홀딩스  KR7054620000     KOSDAQ     054620\n",
       "5     AP시스템  KR7265520007     KOSDAQ     265520\n",
       "6      AP위성  KR7211270004     KOSDAQ     211270\n",
       "7       BGF  KR7027410000      KOSPI     027410\n",
       "8    BGF리테일  KR7282330000      KOSPI     282330\n",
       "9   BNK금융지주  KR7138930003      KOSPI     138930\n",
       "10      BYC  KR7001460005      KOSPI     001460\n",
       "11     BYC우  KR7001461003      KOSPI     001465\n",
       "12       CJ  KR7001040005      KOSPI     001040\n",
       "13   CJ CGV  KR7079160008      KOSPI     079160\n",
       "14   CJ ENM  KR7035760008     KOSDAQ     035760\n",
       "15   CJ대한통운  KR7000120006      KOSPI     000120\n",
       "16    CJ씨푸드  KR7011150000      KOSPI     011150\n",
       "17  CJ씨푸드1우  KR7011151008      KOSPI     011155\n",
       "18      CJ우  KR7001041003      KOSPI     001045\n",
       "19   CJ제일제당  KR7097950000      KOSPI     097950"
      ]
     },
     "execution_count": 13,
     "metadata": {},
     "output_type": "execute_result"
    }
   ],
   "source": [
    "df_master = 주식종목검색기()\n",
    "df_master.head(20)"
   ]
  },
  {
   "cell_type": "markdown",
   "metadata": {
    "slideshow": {
     "slide_type": "subslide"
    }
   },
   "source": [
    "# 단축코드와 표준코드(ISIN) 변환"
   ]
  },
  {
   "cell_type": "code",
   "execution_count": 14,
   "metadata": {
    "slideshow": {
     "slide_type": "-"
    }
   },
   "outputs": [
    {
     "data": {
      "text/plain": [
       "'KR7005930003'"
      ]
     },
     "execution_count": 14,
     "metadata": {},
     "output_type": "execute_result"
    }
   ],
   "source": [
    "# 단축코드 → 표준코드\n",
    "code = '005930' # 삼성전자\n",
    "df_master[df_master['short_code'] == code].iloc[0]['full_code']"
   ]
  },
  {
   "cell_type": "code",
   "execution_count": 15,
   "metadata": {
    "slideshow": {
     "slide_type": "-"
    }
   },
   "outputs": [
    {
     "data": {
      "text/plain": [
       "'079160'"
      ]
     },
     "execution_count": 15,
     "metadata": {},
     "output_type": "execute_result"
    }
   ],
   "source": [
    "# 표준코드 → 단축코드  \n",
    "isin = 'KR7079160008' # CJ CGV\n",
    "df_master[df_master['full_code'] == isin].iloc[0]['short_code']"
   ]
  },
  {
   "cell_type": "markdown",
   "metadata": {
    "slideshow": {
     "slide_type": "notes"
    }
   },
   "source": [
    "----\n",
    "#### 2017,2018 FinanceData http://fb.com/financedata http://financedata.github.com"
   ]
  }
 ],
 "metadata": {
  "celltoolbar": "Slideshow",
  "kernelspec": {
   "display_name": "Python 3",
   "language": "python",
   "name": "python3"
  },
  "language_info": {
   "codemirror_mode": {
    "name": "ipython",
    "version": 3
   },
   "file_extension": ".py",
   "mimetype": "text/x-python",
   "name": "python",
   "nbconvert_exporter": "python",
   "pygments_lexer": "ipython3",
   "version": "3.5.2"
  }
 },
 "nbformat": 4,
 "nbformat_minor": 1
}