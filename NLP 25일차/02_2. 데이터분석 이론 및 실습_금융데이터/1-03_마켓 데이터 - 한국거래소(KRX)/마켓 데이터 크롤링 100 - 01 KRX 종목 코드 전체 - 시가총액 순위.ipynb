{
 "cells": [
  {
   "cell_type": "markdown",
   "metadata": {
    "slideshow": {
     "slide_type": "slide"
    }
   },
   "source": [
    "### 마켓 데이터 크롤링\n",
    "# KRX 종목 코드 전체 - 시가총액 순위\n",
    "\n",
    "<img src=\"http://i.imgur.com/grQHNKG.jpg\">\n",
    "    \n",
    "#### 2016~2018 FinanceData http://fb.com/financedata"
   ]
  },
  {
   "cell_type": "markdown",
   "metadata": {
    "slideshow": {
     "slide_type": "slide"
    }
   },
   "source": [
    "# 시가총액 순위 정보\n",
    "한국거래소(http://marketdata.krx.co.kr) 순위 정보에 전체 종목이 있으므로 종목 전체를 얻는데 사용할 수 도 있다.\n",
    "\n",
    "* 시장정보 → 주식 → 순위정보 → 시가총액 상/하위\n",
    "* http://marketdata.krx.co.kr/contents/MKD/04/0404/04040200/MKD04040200.jsp\n"
   ]
  },
  {
   "cell_type": "markdown",
   "metadata": {
    "slideshow": {
     "slide_type": "-"
    }
   },
   "source": [
    "<img width=\"60%\" src=\"http://i.imgur.com/4QNFbly.png\" >"
   ]
  },
  {
   "cell_type": "markdown",
   "metadata": {
    "slideshow": {
     "slide_type": "slide"
    }
   },
   "source": [
    "# 시가총액 상/하위\n",
    "* Excel (혹은 CSV)를 클릭하여 다운로드\n",
    "* data.xls (혹은 data.csv) 파일 읽기"
   ]
  },
  {
   "cell_type": "markdown",
   "metadata": {
    "slideshow": {
     "slide_type": "-"
    }
   },
   "source": [
    "<img width=\"80%\" src=\"http://i.imgur.com/1FTF3uG.png\" >    "
   ]
  },
  {
   "cell_type": "markdown",
   "metadata": {
    "slideshow": {
     "slide_type": "slide"
    }
   },
   "source": [
    "# 시가총액 데이터 다운로드 자동화\n",
    "\n",
    "시가총액 데이터 파일 (data.xls)를 다운로드\n",
    "\n",
    "1. http://marketdata.krx.co.kr/contents/COM/GenerateOTP.jspx\n",
    "1. http://file.krx.co.kr/download.jspx"
   ]
  },
  {
   "cell_type": "markdown",
   "metadata": {
    "slideshow": {
     "slide_type": "slide"
    }
   },
   "source": [
    "## http://marketdata.krx.co.kr/contents/COM/GenerateOTP.jspx\n",
    "\n",
    "<img src=\"http://i.imgur.com/JNi82aa.png\" >    "
   ]
  },
  {
   "cell_type": "markdown",
   "metadata": {
    "slideshow": {
     "slide_type": "slide"
    }
   },
   "source": [
    "## http://file.krx.co.kr/download.jspx\n",
    "\n",
    "<img src=\"http://i.imgur.com/tBKfdMD.png\" >    "
   ]
  },
  {
   "cell_type": "markdown",
   "metadata": {
    "slideshow": {
     "slide_type": "slide"
    }
   },
   "source": [
    "# 트래픽 분석\n",
    "\n",
    "## 요청응답 1/2\n",
    "\n",
    "http://marketdata.krx.co.kr/contents/COM/GenerateOTP.jspx\n",
    "\n",
    "* name:fileDown\n",
    "* filetype:csv\n",
    "* url:MKD/04/0404/04040200/mkd04040200_01\n",
    "* market_gubun:ALL    #시장구분: ALL=전체, STK=코스피, KSQ=코스피, KNX=코넥스\n",
    "* indx_ind_cd:             \n",
    "* sect_tp_cd:\n",
    "* schdate:20160601\n",
    "* pagePath:/contents/MKD/04/0404/04040200/MKD04040200.jsp\n",
    "    \n",
    "    \n",
    "## 요청응답 2/2\n",
    "\n",
    "http://file.krx.co.kr/download.jspx\n",
    "    \n",
    "* code: [GenerateOTP.jspx 에서 반환된 문자열]\n",
    "\n",
    "\n",
    "※ 요청응답 2/2 헤더에 Referer를 명시하여야 한다 (2018년 10월 26일)"
   ]
  },
  {
   "cell_type": "code",
   "execution_count": 1,
   "metadata": {
    "slideshow": {
     "slide_type": "slide"
    }
   },
   "outputs": [],
   "source": [
    "import requests\n",
    "\n",
    "# STEP 01: Generate OTP\n",
    "gen_otp_url = 'http://marketdata.krx.co.kr/contents/COM/GenerateOTP.jspx'\n",
    "gen_otp_data = {\n",
    "    'name':'fileDown',\n",
    "    'filetype':'xls',\n",
    "    'url':'MKD/04/0404/04040200/mkd04040200_01',\n",
    "    'market_gubun':'ALL', #시장구분: ALL=전체, STK=코스피, KSQ=코스피, KNX=코넥스\n",
    "    'indx_ind_cd':'', \n",
    "    'sect_tp_cd':'',\n",
    "    'schdate':'20180601',\n",
    "    'pagePath':'/contents/MKD/04/0404/04040200/MKD04040200.jsp',\n",
    "}\n",
    "    \n",
    "r = requests.post(gen_otp_url, gen_otp_data)\n",
    "code = r.content\n",
    "\n",
    "# STEP 02: download\n",
    "down_url = 'http://file.krx.co.kr/download.jspx'\n",
    "down_data = {\n",
    "    'code': code,\n",
    "}\n",
    "\n",
    "headers = {'Referer': 'http://marketdata.krx.co.kr'}\n",
    "r = requests.post(down_url, down_data, headers=headers)\n",
    "with open(\"marcap_data.xls\", 'wb') as f:\n",
    "    f.write(r.content)"
   ]
  },
  {
   "cell_type": "code",
   "execution_count": 2,
   "metadata": {
    "slideshow": {
     "slide_type": "slide"
    }
   },
   "outputs": [
    {
     "data": {
      "text/html": [
       "<div>\n",
       "<style scoped>\n",
       "    .dataframe tbody tr th:only-of-type {\n",
       "        vertical-align: middle;\n",
       "    }\n",
       "\n",
       "    .dataframe tbody tr th {\n",
       "        vertical-align: top;\n",
       "    }\n",
       "\n",
       "    .dataframe thead th {\n",
       "        text-align: right;\n",
       "    }\n",
       "</style>\n",
       "<table border=\"1\" class=\"dataframe\">\n",
       "  <thead>\n",
       "    <tr style=\"text-align: right;\">\n",
       "      <th></th>\n",
       "      <th>종목코드</th>\n",
       "      <th>종목명</th>\n",
       "      <th>현재가</th>\n",
       "      <th>대비</th>\n",
       "      <th>등락률</th>\n",
       "      <th>거래량</th>\n",
       "      <th>거래대금</th>\n",
       "      <th>시가</th>\n",
       "      <th>고가</th>\n",
       "      <th>저가</th>\n",
       "      <th>시가총액</th>\n",
       "      <th>시가총액비중(%)</th>\n",
       "      <th>상장주식수</th>\n",
       "      <th>외국인 보유주식수</th>\n",
       "      <th>외국인 지분율(%)</th>\n",
       "    </tr>\n",
       "  </thead>\n",
       "  <tbody>\n",
       "    <tr>\n",
       "      <th>0</th>\n",
       "      <td>005930</td>\n",
       "      <td>삼성전자</td>\n",
       "      <td>51,300</td>\n",
       "      <td>600</td>\n",
       "      <td>1.2</td>\n",
       "      <td>13,038,499</td>\n",
       "      <td>665,063,170,392</td>\n",
       "      <td>50,500</td>\n",
       "      <td>51,700</td>\n",
       "      <td>49,950</td>\n",
       "      <td>329,311,357,110,000</td>\n",
       "      <td>17.10</td>\n",
       "      <td>6,419,324,700</td>\n",
       "      <td>3,405,723,291</td>\n",
       "      <td>53.05</td>\n",
       "    </tr>\n",
       "    <tr>\n",
       "      <th>1</th>\n",
       "      <td>000660</td>\n",
       "      <td>SK하이닉스</td>\n",
       "      <td>91,400</td>\n",
       "      <td>-2,000</td>\n",
       "      <td>-2.1</td>\n",
       "      <td>4,790,644</td>\n",
       "      <td>435,439,684,800</td>\n",
       "      <td>90,800</td>\n",
       "      <td>92,200</td>\n",
       "      <td>89,600</td>\n",
       "      <td>66,539,416,161,000</td>\n",
       "      <td>3.46</td>\n",
       "      <td>728,002,365</td>\n",
       "      <td>368,274,204</td>\n",
       "      <td>50.59</td>\n",
       "    </tr>\n",
       "    <tr>\n",
       "      <th>2</th>\n",
       "      <td>005935</td>\n",
       "      <td>삼성전자우</td>\n",
       "      <td>40,700</td>\n",
       "      <td>200</td>\n",
       "      <td>0.5</td>\n",
       "      <td>976,217</td>\n",
       "      <td>39,713,003,950</td>\n",
       "      <td>40,600</td>\n",
       "      <td>40,900</td>\n",
       "      <td>40,250</td>\n",
       "      <td>36,777,700,300,000</td>\n",
       "      <td>1.91</td>\n",
       "      <td>903,629,000</td>\n",
       "      <td>760,518,760</td>\n",
       "      <td>84.16</td>\n",
       "    </tr>\n",
       "    <tr>\n",
       "      <th>3</th>\n",
       "      <td>068270</td>\n",
       "      <td>셀트리온</td>\n",
       "      <td>273,500</td>\n",
       "      <td>8,000</td>\n",
       "      <td>3.0</td>\n",
       "      <td>859,854</td>\n",
       "      <td>234,067,580,500</td>\n",
       "      <td>265,500</td>\n",
       "      <td>276,000</td>\n",
       "      <td>265,000</td>\n",
       "      <td>34,295,779,470,500</td>\n",
       "      <td>1.78</td>\n",
       "      <td>125,395,903</td>\n",
       "      <td>27,266,390</td>\n",
       "      <td>21.74</td>\n",
       "    </tr>\n",
       "    <tr>\n",
       "      <th>4</th>\n",
       "      <td>005380</td>\n",
       "      <td>현대차</td>\n",
       "      <td>140,000</td>\n",
       "      <td>1,000</td>\n",
       "      <td>0.7</td>\n",
       "      <td>395,619</td>\n",
       "      <td>55,124,875,500</td>\n",
       "      <td>138,500</td>\n",
       "      <td>140,000</td>\n",
       "      <td>137,500</td>\n",
       "      <td>30,838,707,060,000</td>\n",
       "      <td>1.60</td>\n",
       "      <td>220,276,479</td>\n",
       "      <td>99,888,542</td>\n",
       "      <td>45.35</td>\n",
       "    </tr>\n",
       "  </tbody>\n",
       "</table>\n",
       "</div>"
      ],
      "text/plain": [
       "     종목코드     종목명      현재가      대비  등락률         거래량             거래대금       시가  \\\n",
       "0  005930    삼성전자   51,300     600  1.2  13,038,499  665,063,170,392   50,500   \n",
       "1  000660  SK하이닉스   91,400  -2,000 -2.1   4,790,644  435,439,684,800   90,800   \n",
       "2  005935   삼성전자우   40,700     200  0.5     976,217   39,713,003,950   40,600   \n",
       "3  068270    셀트리온  273,500   8,000  3.0     859,854  234,067,580,500  265,500   \n",
       "4  005380     현대차  140,000   1,000  0.7     395,619   55,124,875,500  138,500   \n",
       "\n",
       "        고가       저가                 시가총액  시가총액비중(%)          상장주식수  \\\n",
       "0   51,700   49,950  329,311,357,110,000      17.10  6,419,324,700   \n",
       "1   92,200   89,600   66,539,416,161,000       3.46    728,002,365   \n",
       "2   40,900   40,250   36,777,700,300,000       1.91    903,629,000   \n",
       "3  276,000  265,000   34,295,779,470,500       1.78    125,395,903   \n",
       "4  140,000  137,500   30,838,707,060,000       1.60    220,276,479   \n",
       "\n",
       "       외국인 보유주식수  외국인 지분율(%)  \n",
       "0  3,405,723,291       53.05  \n",
       "1    368,274,204       50.59  \n",
       "2    760,518,760       84.16  \n",
       "3     27,266,390       21.74  \n",
       "4     99,888,542       45.35  "
      ]
     },
     "execution_count": 2,
     "metadata": {},
     "output_type": "execute_result"
    }
   ],
   "source": [
    "import pandas as pd\n",
    "\n",
    "pd.read_excel('marcap_data.xls').head()"
   ]
  },
  {
   "cell_type": "markdown",
   "metadata": {
    "slideshow": {
     "slide_type": "slide"
    }
   },
   "source": [
    "# 정리\n",
    "* stock_master_krx()\n",
    "* 시가총액순위 정보를 DataFrame으로 반환"
   ]
  },
  {
   "cell_type": "code",
   "execution_count": 3,
   "metadata": {
    "slideshow": {
     "slide_type": "-"
    }
   },
   "outputs": [],
   "source": [
    "import pandas as pd\n",
    "import numpy as np\n",
    "import requests\n",
    "from io import BytesIO\n",
    "from datetime import datetime\n",
    "\n",
    "def stock_master_krx(date=None):\n",
    "    date = datetime.today() if date == None else date\n",
    "    date = date.strftime('%Y%m%d') if type(date) == datetime else date \n",
    "\n",
    "    # STEP 01: Generate OTP\n",
    "    gen_otp_url = 'http://marketdata.krx.co.kr/contents/COM/GenerateOTP.jspx'\n",
    "    gen_otp_data = {\n",
    "        'name':'fileDown',\n",
    "        'filetype':'xls',\n",
    "        'url':'MKD/04/0404/04040200/mkd04040200_01',\n",
    "        'market_gubun':'ALL', #시장구분: ALL=전체\n",
    "        'indx_ind_cd':'',\n",
    "        'sect_tp_cd':'',\n",
    "        'schdate': date,\n",
    "        'pagePath':'/contents/MKD/04/0404/04040200/MKD04040200.jsp',\n",
    "    }\n",
    "    \n",
    "    r = requests.post(gen_otp_url, gen_otp_data)\n",
    "    code = r.content\n",
    "    \n",
    "    # STEP 02: download\n",
    "    down_url = 'http://file.krx.co.kr/download.jspx'\n",
    "    down_data = {\n",
    "        'code': code,\n",
    "    }\n",
    "    \n",
    "    headers = {'Referer': 'http://marketdata.krx.co.kr'}\n",
    "    r = requests.post(down_url, down_data, headers=headers)\n",
    "    df = pd.read_excel(BytesIO(r.content), header=0, thousands=',')\n",
    "    return df"
   ]
  },
  {
   "cell_type": "markdown",
   "metadata": {
    "slideshow": {
     "slide_type": "slide"
    }
   },
   "source": [
    "# 사용예"
   ]
  },
  {
   "cell_type": "code",
   "execution_count": 4,
   "metadata": {
    "slideshow": {
     "slide_type": "-"
    }
   },
   "outputs": [
    {
     "data": {
      "text/html": [
       "<div>\n",
       "<style scoped>\n",
       "    .dataframe tbody tr th:only-of-type {\n",
       "        vertical-align: middle;\n",
       "    }\n",
       "\n",
       "    .dataframe tbody tr th {\n",
       "        vertical-align: top;\n",
       "    }\n",
       "\n",
       "    .dataframe thead th {\n",
       "        text-align: right;\n",
       "    }\n",
       "</style>\n",
       "<table border=\"1\" class=\"dataframe\">\n",
       "  <thead>\n",
       "    <tr style=\"text-align: right;\">\n",
       "      <th></th>\n",
       "      <th>종목코드</th>\n",
       "      <th>종목명</th>\n",
       "      <th>현재가</th>\n",
       "      <th>대비</th>\n",
       "      <th>등락률</th>\n",
       "      <th>거래량</th>\n",
       "      <th>거래대금</th>\n",
       "      <th>시가</th>\n",
       "      <th>고가</th>\n",
       "      <th>저가</th>\n",
       "      <th>시가총액</th>\n",
       "      <th>시가총액비중(%)</th>\n",
       "      <th>상장주식수</th>\n",
       "      <th>외국인 보유주식수</th>\n",
       "      <th>외국인 지분율(%)</th>\n",
       "    </tr>\n",
       "  </thead>\n",
       "  <tbody>\n",
       "    <tr>\n",
       "      <th>0</th>\n",
       "      <td>005930</td>\n",
       "      <td>삼성전자</td>\n",
       "      <td>51300</td>\n",
       "      <td>600</td>\n",
       "      <td>1.2</td>\n",
       "      <td>13038499</td>\n",
       "      <td>665063170392</td>\n",
       "      <td>50500</td>\n",
       "      <td>51700</td>\n",
       "      <td>49950</td>\n",
       "      <td>329311357110000</td>\n",
       "      <td>17.10</td>\n",
       "      <td>6419324700</td>\n",
       "      <td>3405723291</td>\n",
       "      <td>53.05</td>\n",
       "    </tr>\n",
       "    <tr>\n",
       "      <th>1</th>\n",
       "      <td>000660</td>\n",
       "      <td>SK하이닉스</td>\n",
       "      <td>91400</td>\n",
       "      <td>-2000</td>\n",
       "      <td>-2.1</td>\n",
       "      <td>4790644</td>\n",
       "      <td>435439684800</td>\n",
       "      <td>90800</td>\n",
       "      <td>92200</td>\n",
       "      <td>89600</td>\n",
       "      <td>66539416161000</td>\n",
       "      <td>3.46</td>\n",
       "      <td>728002365</td>\n",
       "      <td>368274204</td>\n",
       "      <td>50.59</td>\n",
       "    </tr>\n",
       "    <tr>\n",
       "      <th>2</th>\n",
       "      <td>005935</td>\n",
       "      <td>삼성전자우</td>\n",
       "      <td>40700</td>\n",
       "      <td>200</td>\n",
       "      <td>0.5</td>\n",
       "      <td>976217</td>\n",
       "      <td>39713003950</td>\n",
       "      <td>40600</td>\n",
       "      <td>40900</td>\n",
       "      <td>40250</td>\n",
       "      <td>36777700300000</td>\n",
       "      <td>1.91</td>\n",
       "      <td>903629000</td>\n",
       "      <td>760518760</td>\n",
       "      <td>84.16</td>\n",
       "    </tr>\n",
       "    <tr>\n",
       "      <th>3</th>\n",
       "      <td>068270</td>\n",
       "      <td>셀트리온</td>\n",
       "      <td>273500</td>\n",
       "      <td>8000</td>\n",
       "      <td>3.0</td>\n",
       "      <td>859854</td>\n",
       "      <td>234067580500</td>\n",
       "      <td>265500</td>\n",
       "      <td>276000</td>\n",
       "      <td>265000</td>\n",
       "      <td>34295779470500</td>\n",
       "      <td>1.78</td>\n",
       "      <td>125395903</td>\n",
       "      <td>27266390</td>\n",
       "      <td>21.74</td>\n",
       "    </tr>\n",
       "    <tr>\n",
       "      <th>4</th>\n",
       "      <td>005380</td>\n",
       "      <td>현대차</td>\n",
       "      <td>140000</td>\n",
       "      <td>1000</td>\n",
       "      <td>0.7</td>\n",
       "      <td>395619</td>\n",
       "      <td>55124875500</td>\n",
       "      <td>138500</td>\n",
       "      <td>140000</td>\n",
       "      <td>137500</td>\n",
       "      <td>30838707060000</td>\n",
       "      <td>1.60</td>\n",
       "      <td>220276479</td>\n",
       "      <td>99888542</td>\n",
       "      <td>45.35</td>\n",
       "    </tr>\n",
       "    <tr>\n",
       "      <th>5</th>\n",
       "      <td>207940</td>\n",
       "      <td>삼성바이오로직스</td>\n",
       "      <td>451500</td>\n",
       "      <td>16500</td>\n",
       "      <td>3.8</td>\n",
       "      <td>480497</td>\n",
       "      <td>218996139500</td>\n",
       "      <td>440000</td>\n",
       "      <td>468500</td>\n",
       "      <td>437000</td>\n",
       "      <td>29873497500000</td>\n",
       "      <td>1.55</td>\n",
       "      <td>66165000</td>\n",
       "      <td>6447146</td>\n",
       "      <td>9.74</td>\n",
       "    </tr>\n",
       "    <tr>\n",
       "      <th>6</th>\n",
       "      <td>005490</td>\n",
       "      <td>POSCO</td>\n",
       "      <td>339500</td>\n",
       "      <td>0</td>\n",
       "      <td>0.0</td>\n",
       "      <td>150102</td>\n",
       "      <td>51280385420</td>\n",
       "      <td>340000</td>\n",
       "      <td>346500</td>\n",
       "      <td>339500</td>\n",
       "      <td>29599930482500</td>\n",
       "      <td>1.54</td>\n",
       "      <td>87186835</td>\n",
       "      <td>50439119</td>\n",
       "      <td>57.85</td>\n",
       "    </tr>\n",
       "    <tr>\n",
       "      <th>7</th>\n",
       "      <td>051910</td>\n",
       "      <td>LG화학</td>\n",
       "      <td>337000</td>\n",
       "      <td>-1500</td>\n",
       "      <td>-0.4</td>\n",
       "      <td>109544</td>\n",
       "      <td>36992326000</td>\n",
       "      <td>338000</td>\n",
       "      <td>340000</td>\n",
       "      <td>332500</td>\n",
       "      <td>23789619591000</td>\n",
       "      <td>1.24</td>\n",
       "      <td>70592343</td>\n",
       "      <td>27753858</td>\n",
       "      <td>39.32</td>\n",
       "    </tr>\n",
       "    <tr>\n",
       "      <th>8</th>\n",
       "      <td>028260</td>\n",
       "      <td>삼성물산</td>\n",
       "      <td>125000</td>\n",
       "      <td>-500</td>\n",
       "      <td>-0.4</td>\n",
       "      <td>441220</td>\n",
       "      <td>55311522500</td>\n",
       "      <td>125000</td>\n",
       "      <td>126500</td>\n",
       "      <td>124500</td>\n",
       "      <td>23711255375000</td>\n",
       "      <td>1.23</td>\n",
       "      <td>189690043</td>\n",
       "      <td>20912906</td>\n",
       "      <td>11.02</td>\n",
       "    </tr>\n",
       "    <tr>\n",
       "      <th>9</th>\n",
       "      <td>035420</td>\n",
       "      <td>NAVER</td>\n",
       "      <td>680000</td>\n",
       "      <td>11000</td>\n",
       "      <td>1.6</td>\n",
       "      <td>91461</td>\n",
       "      <td>62175026384</td>\n",
       "      <td>674000</td>\n",
       "      <td>686000</td>\n",
       "      <td>672000</td>\n",
       "      <td>22414621720000</td>\n",
       "      <td>1.16</td>\n",
       "      <td>32962679</td>\n",
       "      <td>19579552</td>\n",
       "      <td>59.40</td>\n",
       "    </tr>\n",
       "  </tbody>\n",
       "</table>\n",
       "</div>"
      ],
      "text/plain": [
       "     종목코드       종목명     현재가     대비  등락률       거래량          거래대금      시가  \\\n",
       "0  005930      삼성전자   51300    600  1.2  13038499  665063170392   50500   \n",
       "1  000660    SK하이닉스   91400  -2000 -2.1   4790644  435439684800   90800   \n",
       "2  005935     삼성전자우   40700    200  0.5    976217   39713003950   40600   \n",
       "3  068270      셀트리온  273500   8000  3.0    859854  234067580500  265500   \n",
       "4  005380       현대차  140000   1000  0.7    395619   55124875500  138500   \n",
       "5  207940  삼성바이오로직스  451500  16500  3.8    480497  218996139500  440000   \n",
       "6  005490     POSCO  339500      0  0.0    150102   51280385420  340000   \n",
       "7  051910      LG화학  337000  -1500 -0.4    109544   36992326000  338000   \n",
       "8  028260      삼성물산  125000   -500 -0.4    441220   55311522500  125000   \n",
       "9  035420     NAVER  680000  11000  1.6     91461   62175026384  674000   \n",
       "\n",
       "       고가      저가             시가총액  시가총액비중(%)       상장주식수   외국인 보유주식수  \\\n",
       "0   51700   49950  329311357110000      17.10  6419324700  3405723291   \n",
       "1   92200   89600   66539416161000       3.46   728002365   368274204   \n",
       "2   40900   40250   36777700300000       1.91   903629000   760518760   \n",
       "3  276000  265000   34295779470500       1.78   125395903    27266390   \n",
       "4  140000  137500   30838707060000       1.60   220276479    99888542   \n",
       "5  468500  437000   29873497500000       1.55    66165000     6447146   \n",
       "6  346500  339500   29599930482500       1.54    87186835    50439119   \n",
       "7  340000  332500   23789619591000       1.24    70592343    27753858   \n",
       "8  126500  124500   23711255375000       1.23   189690043    20912906   \n",
       "9  686000  672000   22414621720000       1.16    32962679    19579552   \n",
       "\n",
       "   외국인 지분율(%)  \n",
       "0       53.05  \n",
       "1       50.59  \n",
       "2       84.16  \n",
       "3       21.74  \n",
       "4       45.35  \n",
       "5        9.74  \n",
       "6       57.85  \n",
       "7       39.32  \n",
       "8       11.02  \n",
       "9       59.40  "
      ]
     },
     "execution_count": 4,
     "metadata": {},
     "output_type": "execute_result"
    }
   ],
   "source": [
    "df = stock_master_krx(datetime(2018, 6, 1))\n",
    "df.head(10)"
   ]
  },
  {
   "cell_type": "code",
   "execution_count": 5,
   "metadata": {
    "slideshow": {
     "slide_type": "-"
    }
   },
   "outputs": [
    {
     "name": "stdout",
     "output_type": "stream",
     "text": [
      "종목수: 2312\n"
     ]
    }
   ],
   "source": [
    "print('종목수:', len(df))"
   ]
  },
  {
   "cell_type": "markdown",
   "metadata": {
    "slideshow": {
     "slide_type": "notes"
    }
   },
   "source": [
    "----\n",
    "#### 2016~2018 FinanceData http://fb.com/financedata http://financedata.github.com"
   ]
  }
 ],
 "metadata": {
  "celltoolbar": "Slideshow",
  "kernelspec": {
   "display_name": "Python 3",
   "language": "python",
   "name": "python3"
  },
  "language_info": {
   "codemirror_mode": {
    "name": "ipython",
    "version": 3
   },
   "file_extension": ".py",
   "mimetype": "text/x-python",
   "name": "python",
   "nbconvert_exporter": "python",
   "pygments_lexer": "ipython3",
   "version": "3.5.2"
  }
 },
 "nbformat": 4,
 "nbformat_minor": 1
}