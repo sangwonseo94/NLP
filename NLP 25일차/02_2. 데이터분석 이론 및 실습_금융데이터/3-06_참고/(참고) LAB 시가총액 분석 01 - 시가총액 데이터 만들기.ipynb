{
 "cells": [
  {
   "cell_type": "markdown",
   "metadata": {
    "slideshow": {
     "slide_type": "slide"
    }
   },
   "source": [
    "# 시가총액 분석 01 - 시가총액 데이터 만들기\n",
    "\n",
    "<img width=\"320\" src=\"http://i.imgur.com/XquT22Y.jpg\" >\n",
    "\n",
    "\n",
    "#### (c) 2016 이승준 fb.com/plusjune"
   ]
  },
  {
   "cell_type": "markdown",
   "metadata": {
    "slideshow": {
     "slide_type": "notes"
    }
   },
   "source": [
    "(이 글은 데이터 수집에서 시각화에에 이르는 전체 진행과정을 진행하는 워크샵을 위해 작성된 글이다. 독자가 파이썬, pandas, Jupyter Notebook, Matplotlib 등에 어느 정도 지식이 있다는 가정하에 쓰여졌다)"
   ]
  },
  {
   "cell_type": "markdown",
   "metadata": {
    "slideshow": {
     "slide_type": "slide"
    }
   },
   "source": [
    "## 시가총액\n",
    "상장기업의 시가총액 데이터를 분석해 보고자 한다. \n",
    "\n",
    "파이썬 pandas와 Jupyter Notebook 환경에서 데이터를 수집, 가공, 분석, 적용하는 각 과정들이 전체적으로 진행해 본다. 분석 데이터는 거래소 홈페이지에 공개된 시가총액 상위/하위 데이터이다. 이 데이터를 수집하여 가공하고, matplotlib으로 시각화하고, 분석해 본다. 덧붙여 온라인 시각화 서비스인 plot.ly로도 구현해 본다. \n",
    "\n",
    "시가총액(時價總額, market capitalization)은 주식 값의 총합 즉, `주가 X 발행주식수`이며, 간단히 특정 회사의 경제적 크기를 말한다.\n",
    "\n",
    "현재(2016년 1분기), 삼성전자의 시가총액은 약 180조원, 한국전력은 약 37조원이다. 단순하게 비교해서 삼성전자는 한국전력보다약 5배 크다고 이야기 할 수있다."
   ]
  },
  {
   "cell_type": "markdown",
   "metadata": {
    "slideshow": {
     "slide_type": "slide"
    }
   },
   "source": [
    "## 상장회사 시가총액 데이터\n",
    "\n",
    "상장회사에 대한 정보는 [한국거래소](http://marketdata.krx.co.kr) 홈페이지에서 손쉽게 얻을 수 있다. 아래 URL은 특정 날짜의 시가총액 상위 종목을 조회하는 화면이다. 상장 종목 전체의 시가총액 순위를 얻을 수 있다. 덧붙여 중요한 사실은 바로 특정 시점의 모든 종목에 대한 종목과 종목 코드를 얻을 수 있다는 점이다. 다시 말해, 오늘 날짜로 검색하면 현재 시장에서 거래되는 모든 종목의 종목 코드, 종목명, 시가총액 정보를 얻을 수 있다.\n",
    "\n",
    "http://marketdata.krx.co.kr/contents/MKD/04/0406/04060100/MKD04060100.jsp\n",
    "\n",
    "위 링크로 바로 접근하거나  메뉴에서 다음과 같은 순서로접근할 수 있다.\n",
    "\n",
    "시장정보 → 주식 → 순위정보 → 시가총액 상/하위"
   ]
  },
  {
   "cell_type": "markdown",
   "metadata": {
    "slideshow": {
     "slide_type": "-"
    }
   },
   "source": [
    "<img src=\"http://i.imgur.com/sd7snXg.png\" >\n",
    "    "
   ]
  },
  {
   "cell_type": "markdown",
   "metadata": {
    "slideshow": {
     "slide_type": "skip"
    }
   },
   "source": [
    "시장 구분과 업종 구분은 `전체`로 하고 조회 일자는 현재 날짜로 하거나 조회하고자 하는 년도의 날짜를 입력한다. `CSV`를 선택하면 `data.csv`로 데이터를 내려받을 수 있다.\n",
    "\n",
    "날짜를 지정할 수 있으므로 매년 특정 시점의 데이터를 얻을 수 있다. 1995년 부터 2015년 까지 12월 초의 하루의 데이터를 내려받아 저장한다. \n",
    "저장하는 파일의 이름을 적절하게 바꾸어 준다. 예를 들어, 2015년 데이터라면 data.csv → marcap-2015.csv 로 저장한다. (여기서는 data 라는 하위 폴더를 만들고 여기에 저장하였다)\n",
    "\n",
    "예를 들어, marcap-2015.csv 파일의 내용은 다음과 같다. 파일의 처음 20 라인을 살펴보자."
   ]
  },
  {
   "cell_type": "code",
   "execution_count": 1,
   "metadata": {},
   "outputs": [
    {
     "name": "stdout",
     "output_type": "stream",
     "text": [
      "--2017-06-23 06:28:03--  https://gist.github.com/FinanceData/d5c30a3377d43cd53884/archive/e634b4af7616abebb6a1fb41e6c045396de1df20.zip\n",
      "Resolving gist.github.com (gist.github.com)... 192.30.253.118, 192.30.253.119\n",
      "접속 gist.github.com (gist.github.com)|192.30.253.118|:443... 접속됨.\n",
      "HTTP request sent, awaiting response... 302 Found\n",
      "Location: https://codeload.github.com/gist/d5c30a3377d43cd53884/zip/e634b4af7616abebb6a1fb41e6c045396de1df20 [following]\n",
      "--2017-06-23 06:28:04--  https://codeload.github.com/gist/d5c30a3377d43cd53884/zip/e634b4af7616abebb6a1fb41e6c045396de1df20\n",
      "Resolving codeload.github.com (codeload.github.com)... 192.30.255.121, 192.30.255.120\n",
      "접속 codeload.github.com (codeload.github.com)|192.30.255.121|:443... 접속됨.\n",
      "HTTP request sent, awaiting response... 200 OK\n",
      "Length: 1427410 (1.4M) [application/zip]\n",
      "Saving to: ‘data.zip’\n",
      "\n",
      "data.zip            100%[===================>]   1.36M   105KB/s    in 16s     \n",
      "\n",
      "2017-06-23 06:28:22 (88.4 KB/s) - ‘data.zip’ saved [1427410/1427410]\n",
      "\n",
      "Archive:  data.zip\n",
      "e634b4af7616abebb6a1fb41e6c045396de1df20\n",
      "   creating: d5c30a3377d43cd53884-e634b4af7616abebb6a1fb41e6c045396de1df20/\n",
      "  inflating: d5c30a3377d43cd53884-e634b4af7616abebb6a1fb41e6c045396de1df20/marcap-1995.csv  \n",
      "  inflating: d5c30a3377d43cd53884-e634b4af7616abebb6a1fb41e6c045396de1df20/marcap-1996.csv  \n",
      "  inflating: d5c30a3377d43cd53884-e634b4af7616abebb6a1fb41e6c045396de1df20/marcap-1997.csv  \n",
      "  inflating: d5c30a3377d43cd53884-e634b4af7616abebb6a1fb41e6c045396de1df20/marcap-1998.csv  \n",
      "  inflating: d5c30a3377d43cd53884-e634b4af7616abebb6a1fb41e6c045396de1df20/marcap-1999.csv  \n",
      "  inflating: d5c30a3377d43cd53884-e634b4af7616abebb6a1fb41e6c045396de1df20/marcap-2000.csv  \n",
      "  inflating: d5c30a3377d43cd53884-e634b4af7616abebb6a1fb41e6c045396de1df20/marcap-2001.csv  \n",
      "  inflating: d5c30a3377d43cd53884-e634b4af7616abebb6a1fb41e6c045396de1df20/marcap-2002.csv  \n",
      "  inflating: d5c30a3377d43cd53884-e634b4af7616abebb6a1fb41e6c045396de1df20/marcap-2003.csv  \n",
      "  inflating: d5c30a3377d43cd53884-e634b4af7616abebb6a1fb41e6c045396de1df20/marcap-2004.csv  \n",
      "  inflating: d5c30a3377d43cd53884-e634b4af7616abebb6a1fb41e6c045396de1df20/marcap-2005.csv  \n",
      "  inflating: d5c30a3377d43cd53884-e634b4af7616abebb6a1fb41e6c045396de1df20/marcap-2006.csv  \n",
      "  inflating: d5c30a3377d43cd53884-e634b4af7616abebb6a1fb41e6c045396de1df20/marcap-2007.csv  \n",
      "  inflating: d5c30a3377d43cd53884-e634b4af7616abebb6a1fb41e6c045396de1df20/marcap-2008.csv  \n",
      "  inflating: d5c30a3377d43cd53884-e634b4af7616abebb6a1fb41e6c045396de1df20/marcap-2009.csv  \n",
      "  inflating: d5c30a3377d43cd53884-e634b4af7616abebb6a1fb41e6c045396de1df20/marcap-2010.csv  \n",
      "  inflating: d5c30a3377d43cd53884-e634b4af7616abebb6a1fb41e6c045396de1df20/marcap-2011.csv  \n",
      "  inflating: d5c30a3377d43cd53884-e634b4af7616abebb6a1fb41e6c045396de1df20/marcap-2012.csv  \n",
      "  inflating: d5c30a3377d43cd53884-e634b4af7616abebb6a1fb41e6c045396de1df20/marcap-2013.csv  \n",
      "  inflating: d5c30a3377d43cd53884-e634b4af7616abebb6a1fb41e6c045396de1df20/marcap-2014.csv  \n",
      "  inflating: d5c30a3377d43cd53884-e634b4af7616abebb6a1fb41e6c045396de1df20/marcap-2015.csv  \n",
      "mv: 'd5c30a3377d43cd53884-e634b4af7616abebb6a1fb41e6c045396de1df20'를 'data/d5c30a3377d43cd53884-e634b4af7616abebb6a1fb41e6c045396de1df20'로 옮길 수 없음: 디렉터리가 비어있지 않음\n"
     ]
    }
   ],
   "source": [
    "# 데이터 다운로드\n",
    "! wget -O data.zip https://gist.github.com/FinanceData/d5c30a3377d43cd53884/archive/e634b4af7616abebb6a1fb41e6c045396de1df20.zip\n",
    "! unzip -o data.zip\n",
    "! mv d5c30a3377d43cd53884-e634b4af7616abebb6a1fb41e6c045396de1df20 data"
   ]
  },
  {
   "cell_type": "code",
   "execution_count": 2,
   "metadata": {
    "slideshow": {
     "slide_type": "slide"
    }
   },
   "outputs": [
    {
     "name": "stdout",
     "output_type": "stream",
     "text": [
      "순위,종목코드,종목명,현재가,대비,등락률,거래량,거래대금,시가총액(백만원),시가총액비중(%),상장주식수(천주),외국인 보유주식수,외국인 지분율(%)\r\n",
      "1,005930,삼성전자,\"1,295,000\",\"상승 3,000\",0.23,\"207,148\",\"268,005\",\"190,752,641\",13.04,\"147,299,337\",\"72,858,065\",49.46\r\n",
      "2,005380,현대차,\"151,500\",\"하락 1,500\",-0.98,\"697,842\",\"106,227\",\"33,371,887\",2.28,\"220,276,479\",\"96,759,116\",43.93\r\n",
      "3,015760,한국전력,\"50,300\",상승 350,0.70,\"1,079,479\",\"54,193\",\"32,290,793\",2.21,\"641,964,077\",\"204,358,747\",31.83\r\n",
      "4,028260,삼성물산,\"147,500\",\"하락 1,000\",-0.67,\"278,739\",\"41,335\",\"27,979,281\",1.91,\"189,690,043\",\"18,689,887\",9.85\r\n",
      "5,005935,삼성전자우,\"1,090,000\",\"상승 5,000\",0.46,\"44,463\",\"48,372\",\"24,888,435\",1.70,\"22,833,427\",\"17,276,502\",75.66\r\n",
      "6,012330,현대모비스,\"250,500\",\"하락 3,000\",-1.18,\"115,569\",\"28,969\",\"24,384,638\",1.67,\"97,343,863\",\"49,270,829\",50.62\r\n",
      "7,090430,아모레퍼시픽,\"414,500\",상승 500,0.12,\"57,752\",\"23,907\",\"24,231,044\",1.66,\"58,458,490\",\"18,104,549\",30.97\r\n",
      "8,000660,SK하이닉스,\"32,700\",상승 500,1.55,\"5,331,047\",\"174,046\",\"23,805,677\",1.63,\"728,002,365\",\"341,746,550\",46.94\r\n",
      "9,051910,LG화학,\"339,500\",\"상승 6,500\",1.95,\"255,014\",\"86,747\",\"22,499,038\",1.54,\"66,271,100\",\"25,309,846\",38.19\r\n",
      "10,032830,삼성생명,\"109,500\",\"상승 1,000\",0.92,\"277,052\",\"30,283\",\"21,900,000\",1.50,\"200,000,000\",\"36,073,430\",18.04\r\n",
      "11,000270,기아차,\"54,000\",하락 600,-1.10,\"809,434\",\"43,985\",\"21,889,621\",1.50,\"405,363,347\",\"160,692,351\",39.64\r\n",
      "12,035420,NAVER,\"653,000\",0,0.0,\"41,170\",\"26,793\",\"21,524,629\",1.47,\"32,962,679\",\"18,884,116\",57.29\r\n",
      "13,018260,삼성에스디에스,\"255,000\",상승 500,0.20,\"81,340\",\"20,718\",\"19,731,339\",1.35,\"77,377,800\",\"5,131,839\",6.63\r\n",
      "14,055550,신한지주,\"40,900\",상승 300,0.74,\"1,770,031\",\"72,396\",\"19,394,763\",1.33,\"474,199,587\",\"313,528,278\",66.12\r\n",
      "15,017670,SK텔레콤,\"232,500\",\"상승 4,500\",1.97,\"167,488\",\"38,856\",\"18,773,378\",1.28,\"80,745,711\",\"31,862,195\",39.46\r\n",
      "16,034730,SK,\"265,000\",\"상승 3,000\",1.15,\"87,095\",\"23,041\",\"18,645,479\",1.27,\"70,360,297\",\"16,937,970\",24.07\r\n",
      "17,051900,LG생활건강,\"1,035,000\",0,0.0,\"18,539\",\"19,149\",\"16,164,834\",1.11,\"15,618,197\",\"6,328,803\",40.52\r\n",
      "18,005490,POSCO,\"179,000\",\"상승 6,000\",3.47,\"870,627\",\"154,293\",\"15,606,443\",1.07,\"87,186,835\",\"41,302,622\",47.37\r\n",
      "19,033780,KT&G,\"111,000\",\"상승 1,500\",1.37,\"189,447\",\"20,969\",\"15,239,467\",1.04,\"137,292,497\",\"72,326,951\",52.68\r\n"
     ]
    }
   ],
   "source": [
    "! head -20 data/marcap-2015.csv"
   ]
  },
  {
   "cell_type": "markdown",
   "metadata": {
    "slideshow": {
     "slide_type": "skip"
    }
   },
   "source": [
    "각 파일들의 라인 수를 세어보자."
   ]
  },
  {
   "cell_type": "code",
   "execution_count": 3,
   "metadata": {
    "slideshow": {
     "slide_type": "slide"
    }
   },
   "outputs": [
    {
     "name": "stdout",
     "output_type": "stream",
     "text": [
      "   1518 data/marcap-2000.csv\r\n",
      "   1617 data/marcap-2001.csv\r\n",
      "   1718 data/marcap-2002.csv\r\n",
      "   1751 data/marcap-2003.csv\r\n",
      "   1752 data/marcap-2004.csv\r\n",
      "   1790 data/marcap-2005.csv\r\n",
      "   1861 data/marcap-2006.csv\r\n",
      "   1942 data/marcap-2007.csv\r\n",
      "   1978 data/marcap-2008.csv\r\n",
      "   1962 data/marcap-2009.csv\r\n",
      "   1963 data/marcap-2010.csv\r\n",
      "   1975 data/marcap-2011.csv\r\n",
      "   1941 data/marcap-2012.csv\r\n",
      "   1978 data/marcap-2013.csv\r\n",
      "   2036 data/marcap-2014.csv\r\n",
      "   2134 data/marcap-2015.csv\r\n",
      "  29916 합계\r\n"
     ]
    }
   ],
   "source": [
    "! wc -l data/marcap-20*.csv"
   ]
  },
  {
   "cell_type": "markdown",
   "metadata": {
    "slideshow": {
     "slide_type": "skip"
    }
   },
   "source": [
    "하나의 파일이 대략 1100~2200 라인 정도가 된다. 이 라인 수는 해당 년도의 상장된 상장종목 개수와 같다. (CSV의 헤더가 있으므로 좀 더 정확하게는 `상장종목수 - 1`이 될 것이다)"
   ]
  },
  {
   "cell_type": "markdown",
   "metadata": {
    "slideshow": {
     "slide_type": "slide"
    }
   },
   "source": [
    "## 파이썬 pandas로 CSV 파일 처리"
   ]
  },
  {
   "cell_type": "markdown",
   "metadata": {
    "slideshow": {
     "slide_type": "fragment"
    }
   },
   "source": [
    "저정한 CSV 파일들을 읽고 필요한 가공을 하여 모두 합쳐 하나의 CSV 파일로 저장하고자 한다. \n",
    "\n",
    "이 과정을 개발하기 위해 시험삼아 먼저 파이썬 pandas에서 CSV 파일을 읽어본다."
   ]
  },
  {
   "cell_type": "code",
   "execution_count": 4,
   "metadata": {
    "slideshow": {
     "slide_type": "fragment"
    }
   },
   "outputs": [],
   "source": [
    "import pandas as pd"
   ]
  },
  {
   "cell_type": "code",
   "execution_count": 5,
   "metadata": {
    "slideshow": {
     "slide_type": "fragment"
    }
   },
   "outputs": [
    {
     "data": {
      "text/html": [
       "<div>\n",
       "<style>\n",
       "    .dataframe thead tr:only-child th {\n",
       "        text-align: right;\n",
       "    }\n",
       "\n",
       "    .dataframe thead th {\n",
       "        text-align: left;\n",
       "    }\n",
       "\n",
       "    .dataframe tbody tr th {\n",
       "        vertical-align: top;\n",
       "    }\n",
       "</style>\n",
       "<table border=\"1\" class=\"dataframe\">\n",
       "  <thead>\n",
       "    <tr style=\"text-align: right;\">\n",
       "      <th></th>\n",
       "      <th>종목코드</th>\n",
       "      <th>종목명</th>\n",
       "      <th>시가총액(백만원)</th>\n",
       "      <th>시가총액비중(%)</th>\n",
       "    </tr>\n",
       "  </thead>\n",
       "  <tbody>\n",
       "    <tr>\n",
       "      <th>0</th>\n",
       "      <td>005930</td>\n",
       "      <td>삼성전자</td>\n",
       "      <td>190,752,641</td>\n",
       "      <td>13.04</td>\n",
       "    </tr>\n",
       "    <tr>\n",
       "      <th>1</th>\n",
       "      <td>005380</td>\n",
       "      <td>현대차</td>\n",
       "      <td>33,371,887</td>\n",
       "      <td>2.28</td>\n",
       "    </tr>\n",
       "    <tr>\n",
       "      <th>2</th>\n",
       "      <td>015760</td>\n",
       "      <td>한국전력</td>\n",
       "      <td>32,290,793</td>\n",
       "      <td>2.21</td>\n",
       "    </tr>\n",
       "    <tr>\n",
       "      <th>3</th>\n",
       "      <td>028260</td>\n",
       "      <td>삼성물산</td>\n",
       "      <td>27,979,281</td>\n",
       "      <td>1.91</td>\n",
       "    </tr>\n",
       "    <tr>\n",
       "      <th>4</th>\n",
       "      <td>005935</td>\n",
       "      <td>삼성전자우</td>\n",
       "      <td>24,888,435</td>\n",
       "      <td>1.70</td>\n",
       "    </tr>\n",
       "    <tr>\n",
       "      <th>5</th>\n",
       "      <td>012330</td>\n",
       "      <td>현대모비스</td>\n",
       "      <td>24,384,638</td>\n",
       "      <td>1.67</td>\n",
       "    </tr>\n",
       "    <tr>\n",
       "      <th>6</th>\n",
       "      <td>090430</td>\n",
       "      <td>아모레퍼시픽</td>\n",
       "      <td>24,231,044</td>\n",
       "      <td>1.66</td>\n",
       "    </tr>\n",
       "    <tr>\n",
       "      <th>7</th>\n",
       "      <td>000660</td>\n",
       "      <td>SK하이닉스</td>\n",
       "      <td>23,805,677</td>\n",
       "      <td>1.63</td>\n",
       "    </tr>\n",
       "    <tr>\n",
       "      <th>8</th>\n",
       "      <td>051910</td>\n",
       "      <td>LG화학</td>\n",
       "      <td>22,499,038</td>\n",
       "      <td>1.54</td>\n",
       "    </tr>\n",
       "    <tr>\n",
       "      <th>9</th>\n",
       "      <td>032830</td>\n",
       "      <td>삼성생명</td>\n",
       "      <td>21,900,000</td>\n",
       "      <td>1.50</td>\n",
       "    </tr>\n",
       "  </tbody>\n",
       "</table>\n",
       "</div>"
      ],
      "text/plain": [
       "     종목코드     종목명    시가총액(백만원)  시가총액비중(%)\n",
       "0  005930    삼성전자  190,752,641      13.04\n",
       "1  005380     현대차   33,371,887       2.28\n",
       "2  015760    한국전력   32,290,793       2.21\n",
       "3  028260    삼성물산   27,979,281       1.91\n",
       "4  005935   삼성전자우   24,888,435       1.70\n",
       "5  012330   현대모비스   24,384,638       1.67\n",
       "6  090430  아모레퍼시픽   24,231,044       1.66\n",
       "7  000660  SK하이닉스   23,805,677       1.63\n",
       "8  051910    LG화학   22,499,038       1.54\n",
       "9  032830    삼성생명   21,900,000       1.50"
      ]
     },
     "execution_count": 5,
     "metadata": {},
     "output_type": "execute_result"
    }
   ],
   "source": [
    "df = pd.read_csv( 'data/marcap-2015.csv')\n",
    "df[['종목코드', '종목명', '시가총액(백만원)','시가총액비중(%)']].head(10)"
   ]
  },
  {
   "cell_type": "code",
   "execution_count": 6,
   "metadata": {
    "slideshow": {
     "slide_type": "fragment"
    }
   },
   "outputs": [
    {
     "data": {
      "text/plain": [
       "2133"
      ]
     },
     "execution_count": 6,
     "metadata": {},
     "output_type": "execute_result"
    }
   ],
   "source": [
    "len(df)"
   ]
  },
  {
   "cell_type": "markdown",
   "metadata": {
    "slideshow": {
     "slide_type": "skip"
    }
   },
   "source": [
    "로우(row)수는 `2133`개이다. 즉, 2015년 12월 기준으로 거래소에는 `2133`개 종목이 상장되어 거래가 되고 있다는 이야기이기도 하다.\n",
    "거래되는 종목 수(2133)는 우선주를 포함하기 때문에 상장된 기업의 수와 동일하지는 않다. 2015년 기준으로 상장기업의 수는 1,900개가 조금 넘는다."
   ]
  },
  {
   "cell_type": "markdown",
   "metadata": {
    "slideshow": {
     "slide_type": "skip"
    }
   },
   "source": [
    "CSV 혹은 엑셀파일을 읽을 때 종종 하게 되는 작업 중의 하나가 데이터 전처리 하는 것이다. \n",
    "가장 흔한 사례중의 하나가, 숫자를 표현할 때 쓰는 컴마(',')를 없애는 작업이다. 현재가 컬럼 `df['현재가']`, `df['거래량']`등 콤마(',')가 포함된 컬럼의 데이터 타입은 정수값이 아니라 객체(object)이다. 계산을 하기 위해서는 정수값(int)혹은 실수값(float)이어야 한다."
   ]
  },
  {
   "cell_type": "code",
   "execution_count": 7,
   "metadata": {
    "slideshow": {
     "slide_type": "slide"
    }
   },
   "outputs": [
    {
     "data": {
      "text/plain": [
       "순위              int64\n",
       "종목코드           object\n",
       "종목명            object\n",
       "현재가            object\n",
       "대비             object\n",
       "등락률           float64\n",
       "거래량            object\n",
       "거래대금           object\n",
       "시가총액(백만원)      object\n",
       "시가총액비중(%)     float64\n",
       "상장주식수(천주)      object\n",
       "외국인 보유주식수      object\n",
       "외국인 지분율(%)    float64\n",
       "dtype: object"
      ]
     },
     "execution_count": 7,
     "metadata": {},
     "output_type": "execute_result"
    }
   ],
   "source": [
    "df.dtypes"
   ]
  },
  {
   "cell_type": "markdown",
   "metadata": {
    "slideshow": {
     "slide_type": "skip"
    }
   },
   "source": [
    "물론, 데이터를 읽은 다음에도 처리가 가능하다. 다음과 같이 특정 컬럼의 데이터에 있는 콤마(',')를 제거하고 타입을 바꿀 수 도 있지만 약간 복잡하다."
   ]
  },
  {
   "cell_type": "code",
   "execution_count": 8,
   "metadata": {
    "slideshow": {
     "slide_type": "slide"
    }
   },
   "outputs": [
    {
     "data": {
      "text/plain": [
       "0    1295000\n",
       "1     151500\n",
       "2      50300\n",
       "3     147500\n",
       "4    1090000\n",
       "Name: 현재가, dtype: int64"
      ]
     },
     "execution_count": 8,
     "metadata": {},
     "output_type": "execute_result"
    }
   ],
   "source": [
    "s = df['현재가'].str.replace(',', '').astype('int')\n",
    "s.head()"
   ]
  },
  {
   "cell_type": "markdown",
   "metadata": {
    "slideshow": {
     "slide_type": "fragment"
    }
   },
   "source": [
    "여기서는 위 코드는 사용하지 않는다. 대신 훨씬 간편한 방법이 있다.\n",
    "read_csv()로 CSV를 읽을 때 천단위로 콤마(',')를 사용한다는 옵션 thousands 을 지정하면 간편하게 읽어 낼 수 있다\n",
    "read_csv()에서 특정 필드를 정된 타입으로 읽도록 할 수 있다. '종목코드'를 문자열로 인식하도록  dtype={'종목코드':'str'} 을 옵션으로 지정하였다. "
   ]
  },
  {
   "cell_type": "code",
   "execution_count": 9,
   "metadata": {
    "slideshow": {
     "slide_type": "slide"
    }
   },
   "outputs": [
    {
     "data": {
      "text/html": [
       "<div>\n",
       "<style>\n",
       "    .dataframe thead tr:only-child th {\n",
       "        text-align: right;\n",
       "    }\n",
       "\n",
       "    .dataframe thead th {\n",
       "        text-align: left;\n",
       "    }\n",
       "\n",
       "    .dataframe tbody tr th {\n",
       "        vertical-align: top;\n",
       "    }\n",
       "</style>\n",
       "<table border=\"1\" class=\"dataframe\">\n",
       "  <thead>\n",
       "    <tr style=\"text-align: right;\">\n",
       "      <th></th>\n",
       "      <th>순위</th>\n",
       "      <th>종목코드</th>\n",
       "      <th>종목명</th>\n",
       "      <th>현재가</th>\n",
       "      <th>대비</th>\n",
       "      <th>등락률</th>\n",
       "      <th>거래량</th>\n",
       "      <th>거래대금</th>\n",
       "      <th>시가총액(백만원)</th>\n",
       "      <th>시가총액비중(%)</th>\n",
       "      <th>상장주식수(천주)</th>\n",
       "      <th>외국인 보유주식수</th>\n",
       "      <th>외국인 지분율(%)</th>\n",
       "    </tr>\n",
       "  </thead>\n",
       "  <tbody>\n",
       "    <tr>\n",
       "      <th>0</th>\n",
       "      <td>1</td>\n",
       "      <td>005930</td>\n",
       "      <td>삼성전자</td>\n",
       "      <td>1295000</td>\n",
       "      <td>상승 3,000</td>\n",
       "      <td>0.23</td>\n",
       "      <td>207148</td>\n",
       "      <td>268005</td>\n",
       "      <td>190752641</td>\n",
       "      <td>13.04</td>\n",
       "      <td>147299337</td>\n",
       "      <td>72858065</td>\n",
       "      <td>49.46</td>\n",
       "    </tr>\n",
       "    <tr>\n",
       "      <th>1</th>\n",
       "      <td>2</td>\n",
       "      <td>005380</td>\n",
       "      <td>현대차</td>\n",
       "      <td>151500</td>\n",
       "      <td>하락 1,500</td>\n",
       "      <td>-0.98</td>\n",
       "      <td>697842</td>\n",
       "      <td>106227</td>\n",
       "      <td>33371887</td>\n",
       "      <td>2.28</td>\n",
       "      <td>220276479</td>\n",
       "      <td>96759116</td>\n",
       "      <td>43.93</td>\n",
       "    </tr>\n",
       "    <tr>\n",
       "      <th>2</th>\n",
       "      <td>3</td>\n",
       "      <td>015760</td>\n",
       "      <td>한국전력</td>\n",
       "      <td>50300</td>\n",
       "      <td>상승 350</td>\n",
       "      <td>0.70</td>\n",
       "      <td>1079479</td>\n",
       "      <td>54193</td>\n",
       "      <td>32290793</td>\n",
       "      <td>2.21</td>\n",
       "      <td>641964077</td>\n",
       "      <td>204358747</td>\n",
       "      <td>31.83</td>\n",
       "    </tr>\n",
       "    <tr>\n",
       "      <th>3</th>\n",
       "      <td>4</td>\n",
       "      <td>028260</td>\n",
       "      <td>삼성물산</td>\n",
       "      <td>147500</td>\n",
       "      <td>하락 1,000</td>\n",
       "      <td>-0.67</td>\n",
       "      <td>278739</td>\n",
       "      <td>41335</td>\n",
       "      <td>27979281</td>\n",
       "      <td>1.91</td>\n",
       "      <td>189690043</td>\n",
       "      <td>18689887</td>\n",
       "      <td>9.85</td>\n",
       "    </tr>\n",
       "    <tr>\n",
       "      <th>4</th>\n",
       "      <td>5</td>\n",
       "      <td>005935</td>\n",
       "      <td>삼성전자우</td>\n",
       "      <td>1090000</td>\n",
       "      <td>상승 5,000</td>\n",
       "      <td>0.46</td>\n",
       "      <td>44463</td>\n",
       "      <td>48372</td>\n",
       "      <td>24888435</td>\n",
       "      <td>1.70</td>\n",
       "      <td>22833427</td>\n",
       "      <td>17276502</td>\n",
       "      <td>75.66</td>\n",
       "    </tr>\n",
       "  </tbody>\n",
       "</table>\n",
       "</div>"
      ],
      "text/plain": [
       "   순위    종목코드    종목명      현재가        대비   등락률      거래량    거래대금  시가총액(백만원)  \\\n",
       "0   1  005930   삼성전자  1295000  상승 3,000  0.23   207148  268005  190752641   \n",
       "1   2  005380    현대차   151500  하락 1,500 -0.98   697842  106227   33371887   \n",
       "2   3  015760   한국전력    50300    상승 350  0.70  1079479   54193   32290793   \n",
       "3   4  028260   삼성물산   147500  하락 1,000 -0.67   278739   41335   27979281   \n",
       "4   5  005935  삼성전자우  1090000  상승 5,000  0.46    44463   48372   24888435   \n",
       "\n",
       "   시가총액비중(%)  상장주식수(천주)  외국인 보유주식수  외국인 지분율(%)  \n",
       "0      13.04  147299337   72858065       49.46  \n",
       "1       2.28  220276479   96759116       43.93  \n",
       "2       2.21  641964077  204358747       31.83  \n",
       "3       1.91  189690043   18689887        9.85  \n",
       "4       1.70   22833427   17276502       75.66  "
      ]
     },
     "execution_count": 9,
     "metadata": {},
     "output_type": "execute_result"
    }
   ],
   "source": [
    "df = pd.read_csv( 'data/marcap-2015.csv', thousands=',', dtype={'종목코드':'str'})\n",
    "df.head()"
   ]
  },
  {
   "cell_type": "markdown",
   "metadata": {
    "slideshow": {
     "slide_type": "fragment"
    }
   },
   "source": [
    "'현재가', '거래량', '거래대금', '시가총액' 등 수치값들이 정수타입(int64)인 것을 확인할 수 있다."
   ]
  },
  {
   "cell_type": "code",
   "execution_count": 10,
   "metadata": {
    "slideshow": {
     "slide_type": "fragment"
    }
   },
   "outputs": [
    {
     "data": {
      "text/plain": [
       "순위              int64\n",
       "종목코드           object\n",
       "종목명            object\n",
       "현재가             int64\n",
       "대비             object\n",
       "등락률           float64\n",
       "거래량             int64\n",
       "거래대금            int64\n",
       "시가총액(백만원)       int64\n",
       "시가총액비중(%)     float64\n",
       "상장주식수(천주)       int64\n",
       "외국인 보유주식수       int64\n",
       "외국인 지분율(%)    float64\n",
       "dtype: object"
      ]
     },
     "execution_count": 10,
     "metadata": {},
     "output_type": "execute_result"
    }
   ],
   "source": [
    "df.dtypes"
   ]
  },
  {
   "cell_type": "markdown",
   "metadata": {
    "slideshow": {
     "slide_type": "slide"
    }
   },
   "source": [
    "## 컬럼 추출, 이름변경, 추가"
   ]
  },
  {
   "cell_type": "markdown",
   "metadata": {
    "slideshow": {
     "slide_type": "-"
    }
   },
   "source": [
    "순위~외국인 지분율(%) 까지  13개의 컬럼으로 구성되어 있다."
   ]
  },
  {
   "cell_type": "code",
   "execution_count": 11,
   "metadata": {
    "slideshow": {
     "slide_type": "-"
    }
   },
   "outputs": [
    {
     "data": {
      "text/plain": [
       "Index(['순위', '종목코드', '종목명', '현재가', '대비', '등락률', '거래량', '거래대금', '시가총액(백만원)',\n",
       "       '시가총액비중(%)', '상장주식수(천주)', '외국인 보유주식수', '외국인 지분율(%)'],\n",
       "      dtype='object')"
      ]
     },
     "execution_count": 11,
     "metadata": {},
     "output_type": "execute_result"
    }
   ],
   "source": [
    "df.columns"
   ]
  },
  {
   "cell_type": "markdown",
   "metadata": {
    "slideshow": {
     "slide_type": "-"
    }
   },
   "source": [
    "13개 컬럼이 모두 필요한 것은 아니므로 필요한 컬럼만 뽑아보자. 주로 시가총액 관련 컬럼만 필요하다."
   ]
  },
  {
   "cell_type": "code",
   "execution_count": 12,
   "metadata": {
    "slideshow": {
     "slide_type": "-"
    }
   },
   "outputs": [
    {
     "data": {
      "text/html": [
       "<div>\n",
       "<style>\n",
       "    .dataframe thead tr:only-child th {\n",
       "        text-align: right;\n",
       "    }\n",
       "\n",
       "    .dataframe thead th {\n",
       "        text-align: left;\n",
       "    }\n",
       "\n",
       "    .dataframe tbody tr th {\n",
       "        vertical-align: top;\n",
       "    }\n",
       "</style>\n",
       "<table border=\"1\" class=\"dataframe\">\n",
       "  <thead>\n",
       "    <tr style=\"text-align: right;\">\n",
       "      <th></th>\n",
       "      <th>순위</th>\n",
       "      <th>종목코드</th>\n",
       "      <th>종목명</th>\n",
       "      <th>시가총액(백만원)</th>\n",
       "      <th>시가총액비중(%)</th>\n",
       "    </tr>\n",
       "  </thead>\n",
       "  <tbody>\n",
       "    <tr>\n",
       "      <th>0</th>\n",
       "      <td>1</td>\n",
       "      <td>005930</td>\n",
       "      <td>삼성전자</td>\n",
       "      <td>190752641</td>\n",
       "      <td>13.04</td>\n",
       "    </tr>\n",
       "    <tr>\n",
       "      <th>1</th>\n",
       "      <td>2</td>\n",
       "      <td>005380</td>\n",
       "      <td>현대차</td>\n",
       "      <td>33371887</td>\n",
       "      <td>2.28</td>\n",
       "    </tr>\n",
       "    <tr>\n",
       "      <th>2</th>\n",
       "      <td>3</td>\n",
       "      <td>015760</td>\n",
       "      <td>한국전력</td>\n",
       "      <td>32290793</td>\n",
       "      <td>2.21</td>\n",
       "    </tr>\n",
       "    <tr>\n",
       "      <th>3</th>\n",
       "      <td>4</td>\n",
       "      <td>028260</td>\n",
       "      <td>삼성물산</td>\n",
       "      <td>27979281</td>\n",
       "      <td>1.91</td>\n",
       "    </tr>\n",
       "    <tr>\n",
       "      <th>4</th>\n",
       "      <td>5</td>\n",
       "      <td>005935</td>\n",
       "      <td>삼성전자우</td>\n",
       "      <td>24888435</td>\n",
       "      <td>1.70</td>\n",
       "    </tr>\n",
       "  </tbody>\n",
       "</table>\n",
       "</div>"
      ],
      "text/plain": [
       "   순위    종목코드    종목명  시가총액(백만원)  시가총액비중(%)\n",
       "0   1  005930   삼성전자  190752641      13.04\n",
       "1   2  005380    현대차   33371887       2.28\n",
       "2   3  015760   한국전력   32290793       2.21\n",
       "3   4  028260   삼성물산   27979281       1.91\n",
       "4   5  005935  삼성전자우   24888435       1.70"
      ]
     },
     "execution_count": 12,
     "metadata": {},
     "output_type": "execute_result"
    }
   ],
   "source": [
    "df = df[['순위', '종목코드', '종목명', '시가총액(백만원)', '시가총액비중(%)']]\n",
    "df.head()"
   ]
  },
  {
   "cell_type": "markdown",
   "metadata": {
    "slideshow": {
     "slide_type": "notes"
    }
   },
   "source": [
    "컬럼의 이름을 바꾸어 준다. (반드시 바꾸어야 하는 것은 아니지만, 일관성을 위해 컬럼 이름을 미리 정해두고 사용하는 것이 좋다)"
   ]
  },
  {
   "cell_type": "code",
   "execution_count": 13,
   "metadata": {
    "slideshow": {
     "slide_type": "slide"
    }
   },
   "outputs": [
    {
     "data": {
      "text/html": [
       "<div>\n",
       "<style>\n",
       "    .dataframe thead tr:only-child th {\n",
       "        text-align: right;\n",
       "    }\n",
       "\n",
       "    .dataframe thead th {\n",
       "        text-align: left;\n",
       "    }\n",
       "\n",
       "    .dataframe tbody tr th {\n",
       "        vertical-align: top;\n",
       "    }\n",
       "</style>\n",
       "<table border=\"1\" class=\"dataframe\">\n",
       "  <thead>\n",
       "    <tr style=\"text-align: right;\">\n",
       "      <th></th>\n",
       "      <th>rank</th>\n",
       "      <th>code</th>\n",
       "      <th>corp_name</th>\n",
       "      <th>marcap</th>\n",
       "      <th>marcap_pct</th>\n",
       "    </tr>\n",
       "  </thead>\n",
       "  <tbody>\n",
       "    <tr>\n",
       "      <th>0</th>\n",
       "      <td>1</td>\n",
       "      <td>005930</td>\n",
       "      <td>삼성전자</td>\n",
       "      <td>190752641</td>\n",
       "      <td>13.04</td>\n",
       "    </tr>\n",
       "    <tr>\n",
       "      <th>1</th>\n",
       "      <td>2</td>\n",
       "      <td>005380</td>\n",
       "      <td>현대차</td>\n",
       "      <td>33371887</td>\n",
       "      <td>2.28</td>\n",
       "    </tr>\n",
       "    <tr>\n",
       "      <th>2</th>\n",
       "      <td>3</td>\n",
       "      <td>015760</td>\n",
       "      <td>한국전력</td>\n",
       "      <td>32290793</td>\n",
       "      <td>2.21</td>\n",
       "    </tr>\n",
       "    <tr>\n",
       "      <th>3</th>\n",
       "      <td>4</td>\n",
       "      <td>028260</td>\n",
       "      <td>삼성물산</td>\n",
       "      <td>27979281</td>\n",
       "      <td>1.91</td>\n",
       "    </tr>\n",
       "    <tr>\n",
       "      <th>4</th>\n",
       "      <td>5</td>\n",
       "      <td>005935</td>\n",
       "      <td>삼성전자우</td>\n",
       "      <td>24888435</td>\n",
       "      <td>1.70</td>\n",
       "    </tr>\n",
       "  </tbody>\n",
       "</table>\n",
       "</div>"
      ],
      "text/plain": [
       "   rank    code corp_name     marcap  marcap_pct\n",
       "0     1  005930      삼성전자  190752641       13.04\n",
       "1     2  005380       현대차   33371887        2.28\n",
       "2     3  015760      한국전력   32290793        2.21\n",
       "3     4  028260      삼성물산   27979281        1.91\n",
       "4     5  005935     삼성전자우   24888435        1.70"
      ]
     },
     "execution_count": 13,
     "metadata": {},
     "output_type": "execute_result"
    }
   ],
   "source": [
    "df.columns = ['rank', 'code', 'corp_name', 'marcap', 'marcap_pct']\n",
    "df.head()"
   ]
  },
  {
   "cell_type": "markdown",
   "metadata": {
    "slideshow": {
     "slide_type": "-"
    }
   },
   "source": [
    "'2015-12-01'란느 날짜를 지정하고 'year'라는 컬럼을 추가한다. 향후, 여러 연도의 데이터를 합칠 때 로우들을 구분하기 위해서이다."
   ]
  },
  {
   "cell_type": "code",
   "execution_count": 14,
   "metadata": {
    "slideshow": {
     "slide_type": "slide"
    }
   },
   "outputs": [
    {
     "data": {
      "text/html": [
       "<div>\n",
       "<style>\n",
       "    .dataframe thead tr:only-child th {\n",
       "        text-align: right;\n",
       "    }\n",
       "\n",
       "    .dataframe thead th {\n",
       "        text-align: left;\n",
       "    }\n",
       "\n",
       "    .dataframe tbody tr th {\n",
       "        vertical-align: top;\n",
       "    }\n",
       "</style>\n",
       "<table border=\"1\" class=\"dataframe\">\n",
       "  <thead>\n",
       "    <tr style=\"text-align: right;\">\n",
       "      <th></th>\n",
       "      <th>rank</th>\n",
       "      <th>code</th>\n",
       "      <th>corp_name</th>\n",
       "      <th>marcap</th>\n",
       "      <th>marcap_pct</th>\n",
       "      <th>year</th>\n",
       "    </tr>\n",
       "  </thead>\n",
       "  <tbody>\n",
       "    <tr>\n",
       "      <th>0</th>\n",
       "      <td>1</td>\n",
       "      <td>005930</td>\n",
       "      <td>삼성전자</td>\n",
       "      <td>190752641</td>\n",
       "      <td>13.04</td>\n",
       "      <td>2015-12-01</td>\n",
       "    </tr>\n",
       "    <tr>\n",
       "      <th>1</th>\n",
       "      <td>2</td>\n",
       "      <td>005380</td>\n",
       "      <td>현대차</td>\n",
       "      <td>33371887</td>\n",
       "      <td>2.28</td>\n",
       "      <td>2015-12-01</td>\n",
       "    </tr>\n",
       "    <tr>\n",
       "      <th>2</th>\n",
       "      <td>3</td>\n",
       "      <td>015760</td>\n",
       "      <td>한국전력</td>\n",
       "      <td>32290793</td>\n",
       "      <td>2.21</td>\n",
       "      <td>2015-12-01</td>\n",
       "    </tr>\n",
       "    <tr>\n",
       "      <th>3</th>\n",
       "      <td>4</td>\n",
       "      <td>028260</td>\n",
       "      <td>삼성물산</td>\n",
       "      <td>27979281</td>\n",
       "      <td>1.91</td>\n",
       "      <td>2015-12-01</td>\n",
       "    </tr>\n",
       "    <tr>\n",
       "      <th>4</th>\n",
       "      <td>5</td>\n",
       "      <td>005935</td>\n",
       "      <td>삼성전자우</td>\n",
       "      <td>24888435</td>\n",
       "      <td>1.70</td>\n",
       "      <td>2015-12-01</td>\n",
       "    </tr>\n",
       "  </tbody>\n",
       "</table>\n",
       "</div>"
      ],
      "text/plain": [
       "   rank    code corp_name     marcap  marcap_pct       year\n",
       "0     1  005930      삼성전자  190752641       13.04 2015-12-01\n",
       "1     2  005380       현대차   33371887        2.28 2015-12-01\n",
       "2     3  015760      한국전력   32290793        2.21 2015-12-01\n",
       "3     4  028260      삼성물산   27979281        1.91 2015-12-01\n",
       "4     5  005935     삼성전자우   24888435        1.70 2015-12-01"
      ]
     },
     "execution_count": 14,
     "metadata": {},
     "output_type": "execute_result"
    }
   ],
   "source": [
    "df['year']= pd.to_datetime('2015-12-01')\n",
    "df.head()"
   ]
  },
  {
   "cell_type": "markdown",
   "metadata": {
    "collapsed": true,
    "slideshow": {
     "slide_type": "slide"
    }
   },
   "source": [
    "## 단위 바꾸기\n",
    "\n",
    "시가총액은 단위가 상당히 크다. 거래소 데이터도 백만원 단위인데 이것을 좀 더 쉽게 보기 위해 조 단위로 바꾸어 보자."
   ]
  },
  {
   "cell_type": "code",
   "execution_count": 15,
   "metadata": {
    "slideshow": {
     "slide_type": "fragment"
    }
   },
   "outputs": [
    {
     "data": {
      "text/html": [
       "<div>\n",
       "<style>\n",
       "    .dataframe thead tr:only-child th {\n",
       "        text-align: right;\n",
       "    }\n",
       "\n",
       "    .dataframe thead th {\n",
       "        text-align: left;\n",
       "    }\n",
       "\n",
       "    .dataframe tbody tr th {\n",
       "        vertical-align: top;\n",
       "    }\n",
       "</style>\n",
       "<table border=\"1\" class=\"dataframe\">\n",
       "  <thead>\n",
       "    <tr style=\"text-align: right;\">\n",
       "      <th></th>\n",
       "      <th>rank</th>\n",
       "      <th>code</th>\n",
       "      <th>corp_name</th>\n",
       "      <th>marcap</th>\n",
       "      <th>marcap_pct</th>\n",
       "      <th>year</th>\n",
       "    </tr>\n",
       "  </thead>\n",
       "  <tbody>\n",
       "    <tr>\n",
       "      <th>0</th>\n",
       "      <td>1</td>\n",
       "      <td>005930</td>\n",
       "      <td>삼성전자</td>\n",
       "      <td>190.752641</td>\n",
       "      <td>13.04</td>\n",
       "      <td>2015-12-01</td>\n",
       "    </tr>\n",
       "    <tr>\n",
       "      <th>1</th>\n",
       "      <td>2</td>\n",
       "      <td>005380</td>\n",
       "      <td>현대차</td>\n",
       "      <td>33.371887</td>\n",
       "      <td>2.28</td>\n",
       "      <td>2015-12-01</td>\n",
       "    </tr>\n",
       "    <tr>\n",
       "      <th>2</th>\n",
       "      <td>3</td>\n",
       "      <td>015760</td>\n",
       "      <td>한국전력</td>\n",
       "      <td>32.290793</td>\n",
       "      <td>2.21</td>\n",
       "      <td>2015-12-01</td>\n",
       "    </tr>\n",
       "    <tr>\n",
       "      <th>3</th>\n",
       "      <td>4</td>\n",
       "      <td>028260</td>\n",
       "      <td>삼성물산</td>\n",
       "      <td>27.979281</td>\n",
       "      <td>1.91</td>\n",
       "      <td>2015-12-01</td>\n",
       "    </tr>\n",
       "    <tr>\n",
       "      <th>4</th>\n",
       "      <td>5</td>\n",
       "      <td>005935</td>\n",
       "      <td>삼성전자우</td>\n",
       "      <td>24.888435</td>\n",
       "      <td>1.70</td>\n",
       "      <td>2015-12-01</td>\n",
       "    </tr>\n",
       "  </tbody>\n",
       "</table>\n",
       "</div>"
      ],
      "text/plain": [
       "   rank    code corp_name      marcap  marcap_pct       year\n",
       "0     1  005930      삼성전자  190.752641       13.04 2015-12-01\n",
       "1     2  005380       현대차   33.371887        2.28 2015-12-01\n",
       "2     3  015760      한국전력   32.290793        2.21 2015-12-01\n",
       "3     4  028260      삼성물산   27.979281        1.91 2015-12-01\n",
       "4     5  005935     삼성전자우   24.888435        1.70 2015-12-01"
      ]
     },
     "execution_count": 15,
     "metadata": {},
     "output_type": "execute_result"
    }
   ],
   "source": [
    "df['marcap'] = df['marcap'] / 1000000. # 백(10^6) 단위에서 조(10^12) 단위로 변경\n",
    "df.head()"
   ]
  },
  {
   "cell_type": "markdown",
   "metadata": {
    "slideshow": {
     "slide_type": "-"
    }
   },
   "source": [
    "시가총액 컬럼 df['marcap']을 모두 더하면, 한국 주식시장 시가총액(약 1460조원)이 된다. "
   ]
  },
  {
   "cell_type": "code",
   "execution_count": 16,
   "metadata": {
    "slideshow": {
     "slide_type": "fragment"
    }
   },
   "outputs": [
    {
     "data": {
      "text/plain": [
       "1462.515474000006"
      ]
     },
     "execution_count": 16,
     "metadata": {},
     "output_type": "execute_result"
    }
   ],
   "source": [
    "df.marcap.sum()  # 시가총액 전체 (조단위)"
   ]
  },
  {
   "cell_type": "markdown",
   "metadata": {
    "slideshow": {
     "slide_type": "skip"
    }
   },
   "source": [
    "시가총액 비중 df['marcap_pct'] 의 합은 얼마일까? 당연히 100이 되어야 할 것이다."
   ]
  },
  {
   "cell_type": "code",
   "execution_count": 17,
   "metadata": {
    "slideshow": {
     "slide_type": "skip"
    }
   },
   "outputs": [
    {
     "data": {
      "text/plain": [
       "99.01000000000303"
      ]
     },
     "execution_count": 17,
     "metadata": {},
     "output_type": "execute_result"
    }
   ],
   "source": [
    "df['marcap_pct'].sum()"
   ]
  },
  {
   "cell_type": "markdown",
   "metadata": {
    "slideshow": {
     "slide_type": "notes"
    }
   },
   "source": [
    "시가총액 비중의 합이 100이 안되는 이유는 대부분의 종목들이 너무 작은 비중을 차지하기 때문이다.\n",
    "한국 주식시장에서 시가총액 비중이 0.01% 이 넘으려면 대략 1,200등 안에는 들어야 한다. 다시 말해, 전체 종목(2133개)의 대략 절반 정도는 시가총액 비중이 0.01% 가 안된다는 의미이기도 하다."
   ]
  },
  {
   "cell_type": "markdown",
   "metadata": {
    "slideshow": {
     "slide_type": "slide"
    }
   },
   "source": [
    "## 모든 시총 데이터 합치기\n",
    "\n",
    "다운로드하여 저장했던 CSV 파일들 marcap-1995.csv ~ marcap-2015.csv 을 합쳐서 하나의 파일로 만들어보자. 앞서 CSV 파일을 하나를 읽오, 컬럼 이름을 바꾸고, 날짜 컬럼을 추가하는 등의 작업을 묶어서 하나의 함수 read_marcap(year) 로 만들었다.\n",
    "\n",
    "marcap-1995.csv 부터 marcap-2015.csv 까지 파일을 차례로 읽어 리스트 dataframes 에 추가하고, pandas.concat() 함수로 모두 합쳐 하나의 DataFrame을 생성한다."
   ]
  },
  {
   "cell_type": "code",
   "execution_count": 18,
   "metadata": {
    "slideshow": {
     "slide_type": "slide"
    }
   },
   "outputs": [
    {
     "data": {
      "text/html": [
       "<div>\n",
       "<style>\n",
       "    .dataframe thead tr:only-child th {\n",
       "        text-align: right;\n",
       "    }\n",
       "\n",
       "    .dataframe thead th {\n",
       "        text-align: left;\n",
       "    }\n",
       "\n",
       "    .dataframe tbody tr th {\n",
       "        vertical-align: top;\n",
       "    }\n",
       "</style>\n",
       "<table border=\"1\" class=\"dataframe\">\n",
       "  <thead>\n",
       "    <tr style=\"text-align: right;\">\n",
       "      <th></th>\n",
       "      <th>rank</th>\n",
       "      <th>code</th>\n",
       "      <th>corp_name</th>\n",
       "      <th>marcap</th>\n",
       "      <th>marcap_pct</th>\n",
       "      <th>year</th>\n",
       "    </tr>\n",
       "    <tr>\n",
       "      <th>code</th>\n",
       "      <th></th>\n",
       "      <th></th>\n",
       "      <th></th>\n",
       "      <th></th>\n",
       "      <th></th>\n",
       "      <th></th>\n",
       "    </tr>\n",
       "  </thead>\n",
       "  <tbody>\n",
       "    <tr>\n",
       "      <th>015760</th>\n",
       "      <td>1</td>\n",
       "      <td>015760</td>\n",
       "      <td>한국전력공사</td>\n",
       "      <td>18.994194</td>\n",
       "      <td>0.134566</td>\n",
       "      <td>1995-12-01</td>\n",
       "    </tr>\n",
       "    <tr>\n",
       "      <th>005930</th>\n",
       "      <td>2</td>\n",
       "      <td>005930</td>\n",
       "      <td>삼성전자</td>\n",
       "      <td>7.665979</td>\n",
       "      <td>0.054310</td>\n",
       "      <td>1995-12-01</td>\n",
       "    </tr>\n",
       "    <tr>\n",
       "      <th>005490</th>\n",
       "      <td>3</td>\n",
       "      <td>005490</td>\n",
       "      <td>포항종합제철</td>\n",
       "      <td>4.760822</td>\n",
       "      <td>0.033728</td>\n",
       "      <td>1995-12-01</td>\n",
       "    </tr>\n",
       "    <tr>\n",
       "      <th>017670</th>\n",
       "      <td>4</td>\n",
       "      <td>017670</td>\n",
       "      <td>한국이동통신</td>\n",
       "      <td>3.229820</td>\n",
       "      <td>0.022882</td>\n",
       "      <td>1995-12-01</td>\n",
       "    </tr>\n",
       "    <tr>\n",
       "      <th>000200</th>\n",
       "      <td>5</td>\n",
       "      <td>000200</td>\n",
       "      <td>대우중공업</td>\n",
       "      <td>3.019233</td>\n",
       "      <td>0.021390</td>\n",
       "      <td>1995-12-01</td>\n",
       "    </tr>\n",
       "  </tbody>\n",
       "</table>\n",
       "</div>"
      ],
      "text/plain": [
       "        rank    code corp_name     marcap  marcap_pct       year\n",
       "code                                                            \n",
       "015760     1  015760    한국전력공사  18.994194    0.134566 1995-12-01\n",
       "005930     2  005930      삼성전자   7.665979    0.054310 1995-12-01\n",
       "005490     3  005490    포항종합제철   4.760822    0.033728 1995-12-01\n",
       "017670     4  017670    한국이동통신   3.229820    0.022882 1995-12-01\n",
       "000200     5  000200     대우중공업   3.019233    0.021390 1995-12-01"
      ]
     },
     "execution_count": 18,
     "metadata": {},
     "output_type": "execute_result"
    }
   ],
   "source": [
    "url_tmpl = \"data/marcap-%s.csv\"\n",
    "\n",
    "def read_marcap(year):\n",
    "    df = pd.read_csv( url_tmpl % str(year), dtype={'종목코드':'str'}, thousands=',')\n",
    "    df = df[['순위', '종목코드', '종목명', '시가총액(백만원)', '시가총액비중(%)']]\n",
    "    df.columns = ['rank', 'code', 'corp_name', 'marcap', 'marcap_pct']\n",
    "    df['year']= pd.to_datetime(str(year) +  '-12-01')  # 날짜 \"YYYY-12-01\" 컬럼으로 추가\n",
    "    df['marcap'] = df['marcap'] / 1000000.    # 백(10^6) 단위에서 조(10^12) 단위로 변경\n",
    "    df['marcap_pct'] = df['marcap'] /  df['marcap'].sum()\n",
    "    return df\n",
    "\n",
    "dataframes = []\n",
    "for year in range(1995, 2016):\n",
    "    dataframes.append( read_marcap(year) )\n",
    "\n",
    "df_master = pd.concat(dataframes)\n",
    "df_master.set_index('code', drop=False, inplace=True)\n",
    "df_master.head()"
   ]
  },
  {
   "cell_type": "markdown",
   "metadata": {
    "slideshow": {
     "slide_type": "slide"
    }
   },
   "source": [
    "## 회사명 동일하게 맞추기\n",
    "\n",
    "데이터 전처리(preparation) 과정의 거의 마지막 단계이다. 데이터의 내용을 특정한 기준에 따라 전체적으로 변경해야 할 경우가 있다.\n",
    "\n",
    "'현대차'의 종목코드 '005380'인데 종목명은 \"현대차\", \"현대자동차\", \"현 대 차\"로 공식 회사명이 년도에 따라 약간 다르다."
   ]
  },
  {
   "cell_type": "code",
   "execution_count": 19,
   "metadata": {
    "slideshow": {
     "slide_type": "subslide"
    }
   },
   "outputs": [
    {
     "data": {
      "text/html": [
       "<div>\n",
       "<style>\n",
       "    .dataframe thead tr:only-child th {\n",
       "        text-align: right;\n",
       "    }\n",
       "\n",
       "    .dataframe thead th {\n",
       "        text-align: left;\n",
       "    }\n",
       "\n",
       "    .dataframe tbody tr th {\n",
       "        vertical-align: top;\n",
       "    }\n",
       "</style>\n",
       "<table border=\"1\" class=\"dataframe\">\n",
       "  <thead>\n",
       "    <tr style=\"text-align: right;\">\n",
       "      <th></th>\n",
       "      <th>rank</th>\n",
       "      <th>code</th>\n",
       "      <th>corp_name</th>\n",
       "      <th>marcap</th>\n",
       "      <th>marcap_pct</th>\n",
       "      <th>year</th>\n",
       "    </tr>\n",
       "    <tr>\n",
       "      <th>code</th>\n",
       "      <th></th>\n",
       "      <th></th>\n",
       "      <th></th>\n",
       "      <th></th>\n",
       "      <th></th>\n",
       "      <th></th>\n",
       "    </tr>\n",
       "  </thead>\n",
       "  <tbody>\n",
       "    <tr>\n",
       "      <th>005380</th>\n",
       "      <td>13</td>\n",
       "      <td>005380</td>\n",
       "      <td>현대자동차</td>\n",
       "      <td>1.408595</td>\n",
       "      <td>0.009979</td>\n",
       "      <td>1995-12-01</td>\n",
       "    </tr>\n",
       "    <tr>\n",
       "      <th>005380</th>\n",
       "      <td>24</td>\n",
       "      <td>005380</td>\n",
       "      <td>현 대 차</td>\n",
       "      <td>0.802618</td>\n",
       "      <td>0.006422</td>\n",
       "      <td>1996-12-01</td>\n",
       "    </tr>\n",
       "    <tr>\n",
       "      <th>005380</th>\n",
       "      <td>16</td>\n",
       "      <td>005380</td>\n",
       "      <td>현 대 차</td>\n",
       "      <td>0.750448</td>\n",
       "      <td>0.009614</td>\n",
       "      <td>1997-12-01</td>\n",
       "    </tr>\n",
       "    <tr>\n",
       "      <th>005380</th>\n",
       "      <td>24</td>\n",
       "      <td>005380</td>\n",
       "      <td>현 대 차</td>\n",
       "      <td>1.072802</td>\n",
       "      <td>0.007364</td>\n",
       "      <td>1998-12-01</td>\n",
       "    </tr>\n",
       "    <tr>\n",
       "      <th>005380</th>\n",
       "      <td>18</td>\n",
       "      <td>005380</td>\n",
       "      <td>현 대 차</td>\n",
       "      <td>3.752473</td>\n",
       "      <td>0.008233</td>\n",
       "      <td>1999-12-01</td>\n",
       "    </tr>\n",
       "    <tr>\n",
       "      <th>005380</th>\n",
       "      <td>13</td>\n",
       "      <td>005380</td>\n",
       "      <td>현대차</td>\n",
       "      <td>2.771973</td>\n",
       "      <td>0.010605</td>\n",
       "      <td>2000-12-01</td>\n",
       "    </tr>\n",
       "    <tr>\n",
       "      <th>005380</th>\n",
       "      <td>8</td>\n",
       "      <td>005380</td>\n",
       "      <td>현대차</td>\n",
       "      <td>5.893486</td>\n",
       "      <td>0.019138</td>\n",
       "      <td>2001-12-01</td>\n",
       "    </tr>\n",
       "    <tr>\n",
       "      <th>005380</th>\n",
       "      <td>7</td>\n",
       "      <td>005380</td>\n",
       "      <td>현대차</td>\n",
       "      <td>6.079711</td>\n",
       "      <td>0.020515</td>\n",
       "      <td>2002-12-01</td>\n",
       "    </tr>\n",
       "    <tr>\n",
       "      <th>005380</th>\n",
       "      <td>7</td>\n",
       "      <td>005380</td>\n",
       "      <td>현대차</td>\n",
       "      <td>11.085684</td>\n",
       "      <td>0.028207</td>\n",
       "      <td>2003-12-01</td>\n",
       "    </tr>\n",
       "    <tr>\n",
       "      <th>005380</th>\n",
       "      <td>7</td>\n",
       "      <td>005380</td>\n",
       "      <td>현대차</td>\n",
       "      <td>12.133871</td>\n",
       "      <td>0.027328</td>\n",
       "      <td>2004-12-01</td>\n",
       "    </tr>\n",
       "    <tr>\n",
       "      <th>005380</th>\n",
       "      <td>4</td>\n",
       "      <td>005380</td>\n",
       "      <td>현대차</td>\n",
       "      <td>21.314412</td>\n",
       "      <td>0.029349</td>\n",
       "      <td>2005-12-01</td>\n",
       "    </tr>\n",
       "    <tr>\n",
       "      <th>005380</th>\n",
       "      <td>9</td>\n",
       "      <td>005380</td>\n",
       "      <td>현대차</td>\n",
       "      <td>14.792026</td>\n",
       "      <td>0.019044</td>\n",
       "      <td>2006-12-01</td>\n",
       "    </tr>\n",
       "    <tr>\n",
       "      <th>005380</th>\n",
       "      <td>10</td>\n",
       "      <td>005380</td>\n",
       "      <td>현대차</td>\n",
       "      <td>15.742965</td>\n",
       "      <td>0.014966</td>\n",
       "      <td>2007-12-01</td>\n",
       "    </tr>\n",
       "    <tr>\n",
       "      <th>005380</th>\n",
       "      <td>13</td>\n",
       "      <td>005380</td>\n",
       "      <td>현대차</td>\n",
       "      <td>8.700921</td>\n",
       "      <td>0.013964</td>\n",
       "      <td>2008-12-01</td>\n",
       "    </tr>\n",
       "    <tr>\n",
       "      <th>005380</th>\n",
       "      <td>3</td>\n",
       "      <td>005380</td>\n",
       "      <td>현대차</td>\n",
       "      <td>26.653454</td>\n",
       "      <td>0.027364</td>\n",
       "      <td>2009-12-01</td>\n",
       "    </tr>\n",
       "    <tr>\n",
       "      <th>005380</th>\n",
       "      <td>3</td>\n",
       "      <td>005380</td>\n",
       "      <td>현대차</td>\n",
       "      <td>38.217969</td>\n",
       "      <td>0.030824</td>\n",
       "      <td>2010-12-01</td>\n",
       "    </tr>\n",
       "    <tr>\n",
       "      <th>005380</th>\n",
       "      <td>2</td>\n",
       "      <td>005380</td>\n",
       "      <td>현대차</td>\n",
       "      <td>46.918890</td>\n",
       "      <td>0.040950</td>\n",
       "      <td>2011-12-01</td>\n",
       "    </tr>\n",
       "    <tr>\n",
       "      <th>005380</th>\n",
       "      <td>2</td>\n",
       "      <td>005380</td>\n",
       "      <td>현대차</td>\n",
       "      <td>48.130411</td>\n",
       "      <td>0.038095</td>\n",
       "      <td>2012-12-01</td>\n",
       "    </tr>\n",
       "    <tr>\n",
       "      <th>005380</th>\n",
       "      <td>2</td>\n",
       "      <td>005380</td>\n",
       "      <td>현대차</td>\n",
       "      <td>52.095387</td>\n",
       "      <td>0.039883</td>\n",
       "      <td>2013-12-01</td>\n",
       "    </tr>\n",
       "    <tr>\n",
       "      <th>005380</th>\n",
       "      <td>2</td>\n",
       "      <td>005380</td>\n",
       "      <td>현대차</td>\n",
       "      <td>37.226725</td>\n",
       "      <td>0.027848</td>\n",
       "      <td>2014-12-01</td>\n",
       "    </tr>\n",
       "    <tr>\n",
       "      <th>005380</th>\n",
       "      <td>2</td>\n",
       "      <td>005380</td>\n",
       "      <td>현대차</td>\n",
       "      <td>33.371887</td>\n",
       "      <td>0.022818</td>\n",
       "      <td>2015-12-01</td>\n",
       "    </tr>\n",
       "  </tbody>\n",
       "</table>\n",
       "</div>"
      ],
      "text/plain": [
       "        rank    code corp_name     marcap  marcap_pct       year\n",
       "code                                                            \n",
       "005380    13  005380     현대자동차   1.408595    0.009979 1995-12-01\n",
       "005380    24  005380     현 대 차   0.802618    0.006422 1996-12-01\n",
       "005380    16  005380     현 대 차   0.750448    0.009614 1997-12-01\n",
       "005380    24  005380     현 대 차   1.072802    0.007364 1998-12-01\n",
       "005380    18  005380     현 대 차   3.752473    0.008233 1999-12-01\n",
       "005380    13  005380       현대차   2.771973    0.010605 2000-12-01\n",
       "005380     8  005380       현대차   5.893486    0.019138 2001-12-01\n",
       "005380     7  005380       현대차   6.079711    0.020515 2002-12-01\n",
       "005380     7  005380       현대차  11.085684    0.028207 2003-12-01\n",
       "005380     7  005380       현대차  12.133871    0.027328 2004-12-01\n",
       "005380     4  005380       현대차  21.314412    0.029349 2005-12-01\n",
       "005380     9  005380       현대차  14.792026    0.019044 2006-12-01\n",
       "005380    10  005380       현대차  15.742965    0.014966 2007-12-01\n",
       "005380    13  005380       현대차   8.700921    0.013964 2008-12-01\n",
       "005380     3  005380       현대차  26.653454    0.027364 2009-12-01\n",
       "005380     3  005380       현대차  38.217969    0.030824 2010-12-01\n",
       "005380     2  005380       현대차  46.918890    0.040950 2011-12-01\n",
       "005380     2  005380       현대차  48.130411    0.038095 2012-12-01\n",
       "005380     2  005380       현대차  52.095387    0.039883 2013-12-01\n",
       "005380     2  005380       현대차  37.226725    0.027848 2014-12-01\n",
       "005380     2  005380       현대차  33.371887    0.022818 2015-12-01"
      ]
     },
     "execution_count": 19,
     "metadata": {},
     "output_type": "execute_result"
    }
   ],
   "source": [
    "df_master[df_master['code'] == '005380']"
   ]
  },
  {
   "cell_type": "markdown",
   "metadata": {
    "slideshow": {
     "slide_type": "notes"
    }
   },
   "source": [
    "2015년의 종목명을 기준으로 이전의 모든 데이터의 종목명을 업데이트 해보자. 우선 2015년 데이터를 읽는다."
   ]
  },
  {
   "cell_type": "code",
   "execution_count": 20,
   "metadata": {
    "slideshow": {
     "slide_type": "slide"
    }
   },
   "outputs": [
    {
     "data": {
      "text/html": [
       "<div>\n",
       "<style>\n",
       "    .dataframe thead tr:only-child th {\n",
       "        text-align: right;\n",
       "    }\n",
       "\n",
       "    .dataframe thead th {\n",
       "        text-align: left;\n",
       "    }\n",
       "\n",
       "    .dataframe tbody tr th {\n",
       "        vertical-align: top;\n",
       "    }\n",
       "</style>\n",
       "<table border=\"1\" class=\"dataframe\">\n",
       "  <thead>\n",
       "    <tr style=\"text-align: right;\">\n",
       "      <th></th>\n",
       "      <th>rank</th>\n",
       "      <th>code</th>\n",
       "      <th>corp_name</th>\n",
       "      <th>marcap</th>\n",
       "      <th>marcap_pct</th>\n",
       "    </tr>\n",
       "  </thead>\n",
       "  <tbody>\n",
       "    <tr>\n",
       "      <th>0</th>\n",
       "      <td>1</td>\n",
       "      <td>005930</td>\n",
       "      <td>삼성전자</td>\n",
       "      <td>190,752,641</td>\n",
       "      <td>13.04</td>\n",
       "    </tr>\n",
       "    <tr>\n",
       "      <th>1</th>\n",
       "      <td>2</td>\n",
       "      <td>005380</td>\n",
       "      <td>현대차</td>\n",
       "      <td>33,371,887</td>\n",
       "      <td>2.28</td>\n",
       "    </tr>\n",
       "    <tr>\n",
       "      <th>2</th>\n",
       "      <td>3</td>\n",
       "      <td>015760</td>\n",
       "      <td>한국전력</td>\n",
       "      <td>32,290,793</td>\n",
       "      <td>2.21</td>\n",
       "    </tr>\n",
       "    <tr>\n",
       "      <th>3</th>\n",
       "      <td>4</td>\n",
       "      <td>028260</td>\n",
       "      <td>삼성물산</td>\n",
       "      <td>27,979,281</td>\n",
       "      <td>1.91</td>\n",
       "    </tr>\n",
       "    <tr>\n",
       "      <th>4</th>\n",
       "      <td>5</td>\n",
       "      <td>005935</td>\n",
       "      <td>삼성전자우</td>\n",
       "      <td>24,888,435</td>\n",
       "      <td>1.70</td>\n",
       "    </tr>\n",
       "  </tbody>\n",
       "</table>\n",
       "</div>"
      ],
      "text/plain": [
       "   rank    code corp_name       marcap  marcap_pct\n",
       "0     1  005930      삼성전자  190,752,641       13.04\n",
       "1     2  005380       현대차   33,371,887        2.28\n",
       "2     3  015760      한국전력   32,290,793        2.21\n",
       "3     4  028260      삼성물산   27,979,281        1.91\n",
       "4     5  005935     삼성전자우   24,888,435        1.70"
      ]
     },
     "execution_count": 20,
     "metadata": {},
     "output_type": "execute_result"
    }
   ],
   "source": [
    "df_2015 = pd.read_csv( 'data/marcap-2015.csv')\n",
    "df_2015 = df_2015[['순위', '종목코드', '종목명', '시가총액(백만원)', '시가총액비중(%)']]\n",
    "df_2015.columns = ['rank', 'code', 'corp_name', 'marcap', 'marcap_pct']\n",
    "df_2015.head()"
   ]
  },
  {
   "cell_type": "markdown",
   "metadata": {
    "slideshow": {
     "slide_type": "notes"
    }
   },
   "source": [
    "2015년 데이터(df_2015)의 모든 로우(row)를 순회한다.\n",
    "순회하면서 이전의 모든 종목(df_master)의 종목명 컬럼(corp_name)을 df_2015의 종목명 컬럼((corp_name)값으로 대체한다."
   ]
  },
  {
   "cell_type": "code",
   "execution_count": 21,
   "metadata": {
    "slideshow": {
     "slide_type": "slide"
    }
   },
   "outputs": [],
   "source": [
    "for index, row in df_2015.iterrows():\n",
    "    df_master.loc[row['code'], 'corp_name'] = row['corp_name']"
   ]
  },
  {
   "cell_type": "code",
   "execution_count": 22,
   "metadata": {
    "slideshow": {
     "slide_type": "slide"
    }
   },
   "outputs": [
    {
     "name": "stderr",
     "output_type": "stream",
     "text": [
      "/usr/local/lib/python3.5/dist-packages/ipykernel_launcher.py:3: DeprecationWarning: \n",
      ".ix is deprecated. Please use\n",
      ".loc for label based indexing or\n",
      ".iloc for positional indexing\n",
      "\n",
      "See the documentation here:\n",
      "http://pandas.pydata.org/pandas-docs/stable/indexing.html#deprecate_ix\n",
      "  This is separate from the ipykernel package so we can avoid doing imports until\n"
     ]
    },
    {
     "data": {
      "text/html": [
       "<div>\n",
       "<style>\n",
       "    .dataframe thead tr:only-child th {\n",
       "        text-align: right;\n",
       "    }\n",
       "\n",
       "    .dataframe thead th {\n",
       "        text-align: left;\n",
       "    }\n",
       "\n",
       "    .dataframe tbody tr th {\n",
       "        vertical-align: top;\n",
       "    }\n",
       "</style>\n",
       "<table border=\"1\" class=\"dataframe\">\n",
       "  <thead>\n",
       "    <tr style=\"text-align: right;\">\n",
       "      <th></th>\n",
       "      <th>rank</th>\n",
       "      <th>code</th>\n",
       "      <th>corp_name</th>\n",
       "      <th>marcap</th>\n",
       "      <th>marcap_pct</th>\n",
       "      <th>year</th>\n",
       "    </tr>\n",
       "    <tr>\n",
       "      <th>code</th>\n",
       "      <th></th>\n",
       "      <th></th>\n",
       "      <th></th>\n",
       "      <th></th>\n",
       "      <th></th>\n",
       "      <th></th>\n",
       "    </tr>\n",
       "  </thead>\n",
       "  <tbody>\n",
       "    <tr>\n",
       "      <th>005380</th>\n",
       "      <td>13</td>\n",
       "      <td>005380</td>\n",
       "      <td>현대차</td>\n",
       "      <td>1.408595</td>\n",
       "      <td>0.009979</td>\n",
       "      <td>1995-12-01</td>\n",
       "    </tr>\n",
       "    <tr>\n",
       "      <th>005380</th>\n",
       "      <td>24</td>\n",
       "      <td>005380</td>\n",
       "      <td>현대차</td>\n",
       "      <td>0.802618</td>\n",
       "      <td>0.006422</td>\n",
       "      <td>1996-12-01</td>\n",
       "    </tr>\n",
       "    <tr>\n",
       "      <th>005380</th>\n",
       "      <td>16</td>\n",
       "      <td>005380</td>\n",
       "      <td>현대차</td>\n",
       "      <td>0.750448</td>\n",
       "      <td>0.009614</td>\n",
       "      <td>1997-12-01</td>\n",
       "    </tr>\n",
       "    <tr>\n",
       "      <th>005380</th>\n",
       "      <td>24</td>\n",
       "      <td>005380</td>\n",
       "      <td>현대차</td>\n",
       "      <td>1.072802</td>\n",
       "      <td>0.007364</td>\n",
       "      <td>1998-12-01</td>\n",
       "    </tr>\n",
       "    <tr>\n",
       "      <th>005380</th>\n",
       "      <td>18</td>\n",
       "      <td>005380</td>\n",
       "      <td>현대차</td>\n",
       "      <td>3.752473</td>\n",
       "      <td>0.008233</td>\n",
       "      <td>1999-12-01</td>\n",
       "    </tr>\n",
       "    <tr>\n",
       "      <th>005380</th>\n",
       "      <td>13</td>\n",
       "      <td>005380</td>\n",
       "      <td>현대차</td>\n",
       "      <td>2.771973</td>\n",
       "      <td>0.010605</td>\n",
       "      <td>2000-12-01</td>\n",
       "    </tr>\n",
       "    <tr>\n",
       "      <th>005380</th>\n",
       "      <td>8</td>\n",
       "      <td>005380</td>\n",
       "      <td>현대차</td>\n",
       "      <td>5.893486</td>\n",
       "      <td>0.019138</td>\n",
       "      <td>2001-12-01</td>\n",
       "    </tr>\n",
       "    <tr>\n",
       "      <th>005380</th>\n",
       "      <td>7</td>\n",
       "      <td>005380</td>\n",
       "      <td>현대차</td>\n",
       "      <td>6.079711</td>\n",
       "      <td>0.020515</td>\n",
       "      <td>2002-12-01</td>\n",
       "    </tr>\n",
       "    <tr>\n",
       "      <th>005380</th>\n",
       "      <td>7</td>\n",
       "      <td>005380</td>\n",
       "      <td>현대차</td>\n",
       "      <td>11.085684</td>\n",
       "      <td>0.028207</td>\n",
       "      <td>2003-12-01</td>\n",
       "    </tr>\n",
       "    <tr>\n",
       "      <th>005380</th>\n",
       "      <td>7</td>\n",
       "      <td>005380</td>\n",
       "      <td>현대차</td>\n",
       "      <td>12.133871</td>\n",
       "      <td>0.027328</td>\n",
       "      <td>2004-12-01</td>\n",
       "    </tr>\n",
       "  </tbody>\n",
       "</table>\n",
       "</div>"
      ],
      "text/plain": [
       "        rank    code corp_name     marcap  marcap_pct       year\n",
       "code                                                            \n",
       "005380    13  005380       현대차   1.408595    0.009979 1995-12-01\n",
       "005380    24  005380       현대차   0.802618    0.006422 1996-12-01\n",
       "005380    16  005380       현대차   0.750448    0.009614 1997-12-01\n",
       "005380    24  005380       현대차   1.072802    0.007364 1998-12-01\n",
       "005380    18  005380       현대차   3.752473    0.008233 1999-12-01\n",
       "005380    13  005380       현대차   2.771973    0.010605 2000-12-01\n",
       "005380     8  005380       현대차   5.893486    0.019138 2001-12-01\n",
       "005380     7  005380       현대차   6.079711    0.020515 2002-12-01\n",
       "005380     7  005380       현대차  11.085684    0.028207 2003-12-01\n",
       "005380     7  005380       현대차  12.133871    0.027328 2004-12-01"
      ]
     },
     "execution_count": 22,
     "metadata": {},
     "output_type": "execute_result"
    }
   ],
   "source": [
    "# 현대차의 종목명이 모두 바꾸었는지 확인\n",
    "\n",
    "t = df_master.ix[df_master['code'] == '005380']\n",
    "t.head(10)"
   ]
  },
  {
   "cell_type": "markdown",
   "metadata": {
    "slideshow": {
     "slide_type": "slide"
    }
   },
   "source": [
    "## csv로 쓰기\n",
    "\n",
    "이렇게 CSV를 읽어 생성된 DataFrame을 모두 합쳐 df_master 객체를 생성하였다. 간단하게 to_csv()로 저장한다. index=False로 주어 index로 설정된 'code'를 CSV에 저장하지 않도록 하였다."
   ]
  },
  {
   "cell_type": "code",
   "execution_count": 23,
   "metadata": {
    "slideshow": {
     "slide_type": "fragment"
    }
   },
   "outputs": [],
   "source": [
    "df_master.to_csv('data/krx-marcap.csv', index=False)"
   ]
  },
  {
   "cell_type": "markdown",
   "metadata": {
    "slideshow": {
     "slide_type": "slide"
    }
   },
   "source": [
    "# 데이터 확인"
   ]
  },
  {
   "cell_type": "markdown",
   "metadata": {
    "slideshow": {
     "slide_type": "skip"
    }
   },
   "source": [
    "저장된 데이터를 확인해 보자."
   ]
  },
  {
   "cell_type": "code",
   "execution_count": 24,
   "metadata": {
    "slideshow": {
     "slide_type": "fragment"
    }
   },
   "outputs": [
    {
     "data": {
      "text/html": [
       "<div>\n",
       "<style>\n",
       "    .dataframe thead tr:only-child th {\n",
       "        text-align: right;\n",
       "    }\n",
       "\n",
       "    .dataframe thead th {\n",
       "        text-align: left;\n",
       "    }\n",
       "\n",
       "    .dataframe tbody tr th {\n",
       "        vertical-align: top;\n",
       "    }\n",
       "</style>\n",
       "<table border=\"1\" class=\"dataframe\">\n",
       "  <thead>\n",
       "    <tr style=\"text-align: right;\">\n",
       "      <th></th>\n",
       "      <th>rank</th>\n",
       "      <th>code</th>\n",
       "      <th>corp_name</th>\n",
       "      <th>marcap</th>\n",
       "      <th>marcap_pct</th>\n",
       "      <th>year</th>\n",
       "    </tr>\n",
       "    <tr>\n",
       "      <th>code</th>\n",
       "      <th></th>\n",
       "      <th></th>\n",
       "      <th></th>\n",
       "      <th></th>\n",
       "      <th></th>\n",
       "      <th></th>\n",
       "    </tr>\n",
       "  </thead>\n",
       "  <tbody>\n",
       "    <tr>\n",
       "      <th>015760</th>\n",
       "      <td>1</td>\n",
       "      <td>015760</td>\n",
       "      <td>한국전력</td>\n",
       "      <td>18.994194</td>\n",
       "      <td>0.134566</td>\n",
       "      <td>1995-12-01</td>\n",
       "    </tr>\n",
       "    <tr>\n",
       "      <th>005930</th>\n",
       "      <td>2</td>\n",
       "      <td>005930</td>\n",
       "      <td>삼성전자</td>\n",
       "      <td>7.665979</td>\n",
       "      <td>0.054310</td>\n",
       "      <td>1995-12-01</td>\n",
       "    </tr>\n",
       "    <tr>\n",
       "      <th>005490</th>\n",
       "      <td>3</td>\n",
       "      <td>005490</td>\n",
       "      <td>POSCO</td>\n",
       "      <td>4.760822</td>\n",
       "      <td>0.033728</td>\n",
       "      <td>1995-12-01</td>\n",
       "    </tr>\n",
       "    <tr>\n",
       "      <th>017670</th>\n",
       "      <td>4</td>\n",
       "      <td>017670</td>\n",
       "      <td>SK텔레콤</td>\n",
       "      <td>3.229820</td>\n",
       "      <td>0.022882</td>\n",
       "      <td>1995-12-01</td>\n",
       "    </tr>\n",
       "    <tr>\n",
       "      <th>000200</th>\n",
       "      <td>5</td>\n",
       "      <td>000200</td>\n",
       "      <td>대우중공업</td>\n",
       "      <td>3.019233</td>\n",
       "      <td>0.021390</td>\n",
       "      <td>1995-12-01</td>\n",
       "    </tr>\n",
       "  </tbody>\n",
       "</table>\n",
       "</div>"
      ],
      "text/plain": [
       "        rank    code corp_name     marcap  marcap_pct        year\n",
       "code                                                             \n",
       "015760     1  015760      한국전력  18.994194    0.134566  1995-12-01\n",
       "005930     2  005930      삼성전자   7.665979    0.054310  1995-12-01\n",
       "005490     3  005490     POSCO   4.760822    0.033728  1995-12-01\n",
       "017670     4  017670     SK텔레콤   3.229820    0.022882  1995-12-01\n",
       "000200     5  000200     대우중공업   3.019233    0.021390  1995-12-01"
      ]
     },
     "execution_count": 24,
     "metadata": {},
     "output_type": "execute_result"
    }
   ],
   "source": [
    "# 저장된 krx-marcap.csv 를 읽고, code 컬럼을 인덱스로 지정한다.\n",
    "\n",
    "df_master = pd.read_csv('data/krx-marcap.csv')\n",
    "df_master.set_index('code', inplace=True, drop=False)\n",
    "df_master.head()"
   ]
  },
  {
   "cell_type": "code",
   "execution_count": 25,
   "metadata": {
    "slideshow": {
     "slide_type": "fragment"
    }
   },
   "outputs": [
    {
     "data": {
      "text/plain": [
       "rank            int64\n",
       "code           object\n",
       "corp_name      object\n",
       "marcap        float64\n",
       "marcap_pct    float64\n",
       "year           object\n",
       "dtype: object"
      ]
     },
     "execution_count": 25,
     "metadata": {},
     "output_type": "execute_result"
    }
   ],
   "source": [
    "# 컬럼의 타입들\n",
    "\n",
    "df_master.dtypes"
   ]
  },
  {
   "cell_type": "code",
   "execution_count": 26,
   "metadata": {
    "slideshow": {
     "slide_type": "fragment"
    }
   },
   "outputs": [
    {
     "data": {
      "text/plain": [
       "36634"
      ]
     },
     "execution_count": 26,
     "metadata": {},
     "output_type": "execute_result"
    }
   ],
   "source": [
    "# 전체 row 수\n",
    "\n",
    "len(df_master)"
   ]
  },
  {
   "cell_type": "markdown",
   "metadata": {
    "slideshow": {
     "slide_type": "fragment"
    }
   },
   "source": [
    "이렇게 해서 한국 거래소에서 연도별 시가총액 데이터를 CSV로 저장하고, 가공하고 하나로 합치는 과정을 살펴 보았다. 데이터를 수집하고 가공하는 절차는 데이터 분석에서 가장 많이 하게되는 작업이다."
   ]
  },
  {
   "cell_type": "markdown",
   "metadata": {},
   "source": [
    "----\n",
    "#### 2017 FinanceData http://fb.com/financedata http://financedata.github.com"
   ]
  }
 ],
 "metadata": {
  "celltoolbar": "Slideshow",
  "kernelspec": {
   "display_name": "Python 3",
   "language": "python",
   "name": "python3"
  },
  "language_info": {
   "codemirror_mode": {
    "name": "ipython",
    "version": 3
   },
   "file_extension": ".py",
   "mimetype": "text/x-python",
   "name": "python",
   "nbconvert_exporter": "python",
   "pygments_lexer": "ipython3",
   "version": "3.5.2"
  }
 },
 "nbformat": 4,
 "nbformat_minor": 1
}