{
 "cells": [
  {
   "cell_type": "markdown",
   "metadata": {
    "slideshow": {
     "slide_type": "slide"
    }
   },
   "source": [
    "# 시가총액 분석 03 - 업종분석\n",
    "\n",
    "<img width=\"320\" src=\"http://i.imgur.com/XquT22Y.jpg\" >\n",
    "\n",
    "\n",
    "\n",
    "#### (c) 2016 이승준 fb.com/plusjune"
   ]
  },
  {
   "cell_type": "markdown",
   "metadata": {
    "slideshow": {
     "slide_type": "slide"
    }
   },
   "source": [
    "## 업종 분석\n",
    "\n",
    "시가총액의 순위 혹은 순위 변화는 개별 종목의 상대적 위치를 알려준다. 산업 전체의 흐름을 보기위해서는 업종(sector)를 살펴보는 것이 더 중요한 의미를 지닐 수 있다. "
   ]
  },
  {
   "cell_type": "code",
   "execution_count": 1,
   "metadata": {
    "collapsed": true,
    "slideshow": {
     "slide_type": "slide"
    }
   },
   "outputs": [],
   "source": [
    "%matplotlib inline\n",
    "from IPython.display import display"
   ]
  },
  {
   "cell_type": "code",
   "execution_count": 2,
   "metadata": {
    "collapsed": true,
    "slideshow": {
     "slide_type": "skip"
    }
   },
   "outputs": [],
   "source": [
    "import pandas as pd\n",
    "import numpy as np"
   ]
  },
  {
   "cell_type": "markdown",
   "metadata": {
    "slideshow": {
     "slide_type": "notes"
    }
   },
   "source": [
    "\"krx-marcap-with-sector.csv\" 파일을 DataFrame으로 읽어 들인다. 이 데이터 파일은 앞서 만들어진 \"krx-marcap.csv\" 데이터에 거래소 업종 정보 컬럼을 추가한 것이다."
   ]
  },
  {
   "cell_type": "code",
   "execution_count": 3,
   "metadata": {
    "slideshow": {
     "slide_type": "slide"
    }
   },
   "outputs": [
    {
     "name": "stdout",
     "output_type": "stream",
     "text": [
      "--2017-06-23 06:47:11--  https://goo.gl/hF1Ucv\n",
      "Resolving goo.gl (goo.gl)... 172.217.25.14, 2404:6800:4005:809::200e\n",
      "접속 goo.gl (goo.gl)|172.217.25.14|:443... 접속됨.\n",
      "HTTP request sent, awaiting response... 301 Moved Permanently\n",
      "Location: https://gist.githubusercontent.com/FinanceData/c88008a77031ac0f0b20/raw/81756fb89eb09786d90588be2058df4e234d2b59/krx-marcap-with-sector.csv [following]\n",
      "--2017-06-23 06:47:11--  https://gist.githubusercontent.com/FinanceData/c88008a77031ac0f0b20/raw/81756fb89eb09786d90588be2058df4e234d2b59/krx-marcap-with-sector.csv\n",
      "Resolving gist.githubusercontent.com (gist.githubusercontent.com)... 151.101.72.133\n",
      "접속 gist.githubusercontent.com (gist.githubusercontent.com)|151.101.72.133|:443... 접속됨.\n",
      "HTTP request sent, awaiting response... 200 OK\n",
      "Length: 3396794 (3.2M) [text/plain]\n",
      "Saving to: ‘krx-marcap-with-sector.csv’\n",
      "\n",
      "krx-marcap-with-sec 100%[===================>]   3.24M  1.03MB/s    in 3.1s    \n",
      "\n",
      "2017-06-23 06:47:20 (1.03 MB/s) - ‘krx-marcap-with-sector.csv’ saved [3396794/3396794]\n",
      "\n"
     ]
    }
   ],
   "source": [
    "# 데이터 다운로드\n",
    "! wget -O krx-marcap-with-sector.csv https://goo.gl/hF1Ucv"
   ]
  },
  {
   "cell_type": "code",
   "execution_count": 4,
   "metadata": {
    "slideshow": {
     "slide_type": "subslide"
    }
   },
   "outputs": [
    {
     "data": {
      "text/html": [
       "<div>\n",
       "<style>\n",
       "    .dataframe thead tr:only-child th {\n",
       "        text-align: right;\n",
       "    }\n",
       "\n",
       "    .dataframe thead th {\n",
       "        text-align: left;\n",
       "    }\n",
       "\n",
       "    .dataframe tbody tr th {\n",
       "        vertical-align: top;\n",
       "    }\n",
       "</style>\n",
       "<table border=\"1\" class=\"dataframe\">\n",
       "  <thead>\n",
       "    <tr style=\"text-align: right;\">\n",
       "      <th></th>\n",
       "      <th>rank</th>\n",
       "      <th>code</th>\n",
       "      <th>name</th>\n",
       "      <th>marcap</th>\n",
       "      <th>marcap_pct</th>\n",
       "      <th>year</th>\n",
       "      <th>name_en</th>\n",
       "      <th>sector</th>\n",
       "      <th>market</th>\n",
       "    </tr>\n",
       "  </thead>\n",
       "  <tbody>\n",
       "    <tr>\n",
       "      <th>0</th>\n",
       "      <td>1</td>\n",
       "      <td>015760</td>\n",
       "      <td>한국전력</td>\n",
       "      <td>18.994194</td>\n",
       "      <td>0.134566</td>\n",
       "      <td>1995-12-01</td>\n",
       "      <td>KEPCO</td>\n",
       "      <td>전기가스</td>\n",
       "      <td>KOSPI</td>\n",
       "    </tr>\n",
       "    <tr>\n",
       "      <th>1</th>\n",
       "      <td>2</td>\n",
       "      <td>005930</td>\n",
       "      <td>삼성전자</td>\n",
       "      <td>7.665979</td>\n",
       "      <td>0.054310</td>\n",
       "      <td>1995-12-01</td>\n",
       "      <td>Samsung Electronics</td>\n",
       "      <td>전기전자</td>\n",
       "      <td>KOSPI</td>\n",
       "    </tr>\n",
       "    <tr>\n",
       "      <th>2</th>\n",
       "      <td>3</td>\n",
       "      <td>005490</td>\n",
       "      <td>POSCO</td>\n",
       "      <td>4.760822</td>\n",
       "      <td>0.033728</td>\n",
       "      <td>1995-12-01</td>\n",
       "      <td>POSCO</td>\n",
       "      <td>철강금속</td>\n",
       "      <td>KOSPI</td>\n",
       "    </tr>\n",
       "    <tr>\n",
       "      <th>3</th>\n",
       "      <td>4</td>\n",
       "      <td>017670</td>\n",
       "      <td>SK텔레콤</td>\n",
       "      <td>3.229820</td>\n",
       "      <td>0.022882</td>\n",
       "      <td>1995-12-01</td>\n",
       "      <td>SK Telecom</td>\n",
       "      <td>통신업</td>\n",
       "      <td>KOSPI</td>\n",
       "    </tr>\n",
       "    <tr>\n",
       "      <th>4</th>\n",
       "      <td>5</td>\n",
       "      <td>000200</td>\n",
       "      <td>대우중공업</td>\n",
       "      <td>3.019233</td>\n",
       "      <td>0.021390</td>\n",
       "      <td>1995-12-01</td>\n",
       "      <td>NaN</td>\n",
       "      <td>NaN</td>\n",
       "      <td>NaN</td>\n",
       "    </tr>\n",
       "    <tr>\n",
       "      <th>5</th>\n",
       "      <td>6</td>\n",
       "      <td>002610</td>\n",
       "      <td>엘지전자</td>\n",
       "      <td>2.147247</td>\n",
       "      <td>0.015212</td>\n",
       "      <td>1995-12-01</td>\n",
       "      <td>NaN</td>\n",
       "      <td>NaN</td>\n",
       "      <td>NaN</td>\n",
       "    </tr>\n",
       "    <tr>\n",
       "      <th>6</th>\n",
       "      <td>7</td>\n",
       "      <td>015940</td>\n",
       "      <td>데이콤</td>\n",
       "      <td>1.621128</td>\n",
       "      <td>0.011485</td>\n",
       "      <td>1995-12-01</td>\n",
       "      <td>NaN</td>\n",
       "      <td>NaN</td>\n",
       "      <td>NaN</td>\n",
       "    </tr>\n",
       "    <tr>\n",
       "      <th>7</th>\n",
       "      <td>8</td>\n",
       "      <td>000720</td>\n",
       "      <td>현대건설</td>\n",
       "      <td>1.595383</td>\n",
       "      <td>0.011303</td>\n",
       "      <td>1995-12-01</td>\n",
       "      <td>Hyundai Eng. &amp; Constr.</td>\n",
       "      <td>건설업</td>\n",
       "      <td>KOSPI</td>\n",
       "    </tr>\n",
       "    <tr>\n",
       "      <th>8</th>\n",
       "      <td>9</td>\n",
       "      <td>015580</td>\n",
       "      <td>신한은행</td>\n",
       "      <td>1.568640</td>\n",
       "      <td>0.011113</td>\n",
       "      <td>1995-12-01</td>\n",
       "      <td>NaN</td>\n",
       "      <td>NaN</td>\n",
       "      <td>NaN</td>\n",
       "    </tr>\n",
       "    <tr>\n",
       "      <th>9</th>\n",
       "      <td>10</td>\n",
       "      <td>005931</td>\n",
       "      <td>삼성전자(1신)</td>\n",
       "      <td>1.492631</td>\n",
       "      <td>0.010575</td>\n",
       "      <td>1995-12-01</td>\n",
       "      <td>NaN</td>\n",
       "      <td>NaN</td>\n",
       "      <td>NaN</td>\n",
       "    </tr>\n",
       "  </tbody>\n",
       "</table>\n",
       "</div>"
      ],
      "text/plain": [
       "   rank    code      name     marcap  marcap_pct        year  \\\n",
       "0     1  015760      한국전력  18.994194    0.134566  1995-12-01   \n",
       "1     2  005930      삼성전자   7.665979    0.054310  1995-12-01   \n",
       "2     3  005490     POSCO   4.760822    0.033728  1995-12-01   \n",
       "3     4  017670     SK텔레콤   3.229820    0.022882  1995-12-01   \n",
       "4     5  000200     대우중공업   3.019233    0.021390  1995-12-01   \n",
       "5     6  002610      엘지전자   2.147247    0.015212  1995-12-01   \n",
       "6     7  015940       데이콤   1.621128    0.011485  1995-12-01   \n",
       "7     8  000720      현대건설   1.595383    0.011303  1995-12-01   \n",
       "8     9  015580      신한은행   1.568640    0.011113  1995-12-01   \n",
       "9    10  005931  삼성전자(1신)   1.492631    0.010575  1995-12-01   \n",
       "\n",
       "                  name_en sector market  \n",
       "0                   KEPCO   전기가스  KOSPI  \n",
       "1     Samsung Electronics   전기전자  KOSPI  \n",
       "2                   POSCO   철강금속  KOSPI  \n",
       "3              SK Telecom    통신업  KOSPI  \n",
       "4                     NaN    NaN    NaN  \n",
       "5                     NaN    NaN    NaN  \n",
       "6                     NaN    NaN    NaN  \n",
       "7  Hyundai Eng. & Constr.    건설업  KOSPI  \n",
       "8                     NaN    NaN    NaN  \n",
       "9                     NaN    NaN    NaN  "
      ]
     },
     "execution_count": 4,
     "metadata": {},
     "output_type": "execute_result"
    }
   ],
   "source": [
    "df_master = pd.read_csv('krx-marcap-with-sector.csv', dtype={'code':str})\n",
    "df_master.head(10)"
   ]
  },
  {
   "cell_type": "markdown",
   "metadata": {
    "slideshow": {
     "slide_type": "slide"
    }
   },
   "source": [
    "## 데이터 파일 구성\n",
    "\n",
    "krx-marcap-with-sector.csv (1995년 ~ 2015년) 파일은 다음과 같이 구성되어 있다.\n",
    "* rank: 해당 년도(year) 순위\n",
    "* code: 종목코드\n",
    "* name: 회사명\n",
    "* marcap: 시가총액(단위: 조원)\n",
    "* marcap_pct: 시가총액 비중 (0~1)\n",
    "* year: 년도\n",
    "* name_en: 영문 회사명\n",
    "* sector: 업종구분(한국 거래소)\n",
    "* market: 시장구분(KOSPI, KOSDAQ)\n",
    "\n",
    "이 파일은 https://goo.gl/sTLaJa 에서 다운로드 할 수 있다.\n",
    "\n",
    "<table class=\"dataframe\" border=\"1\">\n",
    "<thead>\n",
    "<tr>\n",
    "<th>&nbsp;</th>\n",
    "<th>rank</th>\n",
    "<th>code</th>\n",
    "<th>name</th>\n",
    "<th>marcap</th>\n",
    "<th>marcap_pct</th>\n",
    "<th>year</th>\n",
    "<th>name_en</th>\n",
    "<th>sector</th>\n",
    "<th>market</th>\n",
    "</tr>\n",
    "</thead>\n",
    "<tbody>\n",
    "<tr>\n",
    "<th>0</th>\n",
    "<td>1</td>\n",
    "<td>015760</td>\n",
    "<td>한국전력</td>\n",
    "<td>18.994194</td>\n",
    "<td>0.134566</td>\n",
    "<td>1995-12-01</td>\n",
    "<td>KEPCO</td>\n",
    "<td>전기가스</td>\n",
    "<td>KOSPI</td>\n",
    "</tr>\n",
    "<tr>\n",
    "<th>1</th>\n",
    "<td>2</td>\n",
    "<td>005930</td>\n",
    "<td>삼성전자</td>\n",
    "<td>7.665979</td>\n",
    "<td>0.054310</td>\n",
    "<td>1995-12-01</td>\n",
    "<td>Samsung Electronics</td>\n",
    "<td>전기전자</td>\n",
    "<td>KOSPI</td>\n",
    "</tr>\n",
    "<tr>\n",
    "<th>2</th>\n",
    "<td>3</td>\n",
    "<td>005490</td>\n",
    "<td>POSCO</td>\n",
    "<td>4.760822</td>\n",
    "<td>0.033728</td>\n",
    "<td>1995-12-01</td>\n",
    "<td>POSCO</td>\n",
    "<td>철강금속</td>\n",
    "<td>KOSPI</td>\n",
    "</tr>\n",
    "<tr>\n",
    "<th>3</th>\n",
    "<td>4</td>\n",
    "<td>017670</td>\n",
    "<td>SK텔레콤</td>\n",
    "<td>3.229820</td>\n",
    "<td>0.022882</td>\n",
    "<td>1995-12-01</td>\n",
    "<td>SK Telecom</td>\n",
    "<td>통신업</td>\n",
    "<td>KOSPI</td>\n",
    "</tr>\n",
    "<tr>\n",
    "<th>4</th>\n",
    "<td>5</td>\n",
    "<td>000200</td>\n",
    "<td>대우중공업</td>\n",
    "<td>3.019233</td>\n",
    "<td>0.021390</td>\n",
    "<td>1995-12-01</td>\n",
    "<td>NaN</td>\n",
    "<td>NaN</td>\n",
    "<td>NaN</td>\n",
    "</tr>\n",
    "<tr>\n",
    "<th>5</th>\n",
    "<td>6</td>\n",
    "<td>002610</td>\n",
    "<td>엘지전자</td>\n",
    "<td>2.147247</td>\n",
    "<td>0.015212</td>\n",
    "<td>1995-12-01</td>\n",
    "<td>NaN</td>\n",
    "<td>NaN</td>\n",
    "<td>NaN</td>\n",
    "</tr>\n",
    "</tbody>\n",
    "</table>"
   ]
  },
  {
   "cell_type": "code",
   "execution_count": 5,
   "metadata": {
    "slideshow": {
     "slide_type": "subslide"
    }
   },
   "outputs": [
    {
     "name": "stdout",
     "output_type": "stream",
     "text": [
      "36634 rows\n"
     ]
    }
   ],
   "source": [
    "print ( len(df_master), \"rows\")"
   ]
  },
  {
   "cell_type": "markdown",
   "metadata": {
    "slideshow": {
     "slide_type": "slide"
    }
   },
   "source": [
    "## 2015년 시장 업종 분석\n",
    "\n",
    "우선 2015년 데이터를 읽어 보자."
   ]
  },
  {
   "cell_type": "code",
   "execution_count": 6,
   "metadata": {
    "slideshow": {
     "slide_type": "fragment"
    }
   },
   "outputs": [
    {
     "name": "stdout",
     "output_type": "stream",
     "text": [
      "2133 rows\n"
     ]
    },
    {
     "data": {
      "text/html": [
       "<div>\n",
       "<style>\n",
       "    .dataframe thead tr:only-child th {\n",
       "        text-align: right;\n",
       "    }\n",
       "\n",
       "    .dataframe thead th {\n",
       "        text-align: left;\n",
       "    }\n",
       "\n",
       "    .dataframe tbody tr th {\n",
       "        vertical-align: top;\n",
       "    }\n",
       "</style>\n",
       "<table border=\"1\" class=\"dataframe\">\n",
       "  <thead>\n",
       "    <tr style=\"text-align: right;\">\n",
       "      <th></th>\n",
       "      <th>rank</th>\n",
       "      <th>code</th>\n",
       "      <th>name</th>\n",
       "      <th>marcap</th>\n",
       "      <th>marcap_pct</th>\n",
       "      <th>year</th>\n",
       "      <th>name_en</th>\n",
       "      <th>sector</th>\n",
       "      <th>market</th>\n",
       "    </tr>\n",
       "  </thead>\n",
       "  <tbody>\n",
       "    <tr>\n",
       "      <th>34501</th>\n",
       "      <td>1</td>\n",
       "      <td>005930</td>\n",
       "      <td>삼성전자</td>\n",
       "      <td>190.752641</td>\n",
       "      <td>0.130428</td>\n",
       "      <td>2015-12-01</td>\n",
       "      <td>Samsung Electronics</td>\n",
       "      <td>전기전자</td>\n",
       "      <td>KOSPI</td>\n",
       "    </tr>\n",
       "    <tr>\n",
       "      <th>34502</th>\n",
       "      <td>2</td>\n",
       "      <td>005380</td>\n",
       "      <td>현대차</td>\n",
       "      <td>33.371887</td>\n",
       "      <td>0.022818</td>\n",
       "      <td>2015-12-01</td>\n",
       "      <td>Hyundai Motor</td>\n",
       "      <td>운수장비</td>\n",
       "      <td>KOSPI</td>\n",
       "    </tr>\n",
       "    <tr>\n",
       "      <th>34503</th>\n",
       "      <td>3</td>\n",
       "      <td>015760</td>\n",
       "      <td>한국전력</td>\n",
       "      <td>32.290793</td>\n",
       "      <td>0.022079</td>\n",
       "      <td>2015-12-01</td>\n",
       "      <td>KEPCO</td>\n",
       "      <td>전기가스</td>\n",
       "      <td>KOSPI</td>\n",
       "    </tr>\n",
       "    <tr>\n",
       "      <th>34504</th>\n",
       "      <td>4</td>\n",
       "      <td>028260</td>\n",
       "      <td>삼성물산</td>\n",
       "      <td>27.979281</td>\n",
       "      <td>0.019131</td>\n",
       "      <td>2015-12-01</td>\n",
       "      <td>Samsung C&amp;T Corporation</td>\n",
       "      <td>유통업</td>\n",
       "      <td>KOSPI</td>\n",
       "    </tr>\n",
       "    <tr>\n",
       "      <th>34505</th>\n",
       "      <td>5</td>\n",
       "      <td>005935</td>\n",
       "      <td>삼성전자우</td>\n",
       "      <td>24.888435</td>\n",
       "      <td>0.017018</td>\n",
       "      <td>2015-12-01</td>\n",
       "      <td>Samsung Electronics</td>\n",
       "      <td>전기전자</td>\n",
       "      <td>KOSPI</td>\n",
       "    </tr>\n",
       "    <tr>\n",
       "      <th>34506</th>\n",
       "      <td>6</td>\n",
       "      <td>012330</td>\n",
       "      <td>현대모비스</td>\n",
       "      <td>24.384638</td>\n",
       "      <td>0.016673</td>\n",
       "      <td>2015-12-01</td>\n",
       "      <td>Hyundai Mobis</td>\n",
       "      <td>운수장비</td>\n",
       "      <td>KOSPI</td>\n",
       "    </tr>\n",
       "    <tr>\n",
       "      <th>34507</th>\n",
       "      <td>7</td>\n",
       "      <td>090430</td>\n",
       "      <td>아모레퍼시픽</td>\n",
       "      <td>24.231044</td>\n",
       "      <td>0.016568</td>\n",
       "      <td>2015-12-01</td>\n",
       "      <td>AmorePacific</td>\n",
       "      <td>화학</td>\n",
       "      <td>KOSPI</td>\n",
       "    </tr>\n",
       "    <tr>\n",
       "      <th>34508</th>\n",
       "      <td>8</td>\n",
       "      <td>000660</td>\n",
       "      <td>SK하이닉스</td>\n",
       "      <td>23.805677</td>\n",
       "      <td>0.016277</td>\n",
       "      <td>2015-12-01</td>\n",
       "      <td>SK Hynix</td>\n",
       "      <td>전기전자</td>\n",
       "      <td>KOSPI</td>\n",
       "    </tr>\n",
       "    <tr>\n",
       "      <th>34509</th>\n",
       "      <td>9</td>\n",
       "      <td>051910</td>\n",
       "      <td>LG화학</td>\n",
       "      <td>22.499038</td>\n",
       "      <td>0.015384</td>\n",
       "      <td>2015-12-01</td>\n",
       "      <td>LG Chem</td>\n",
       "      <td>화학</td>\n",
       "      <td>KOSPI</td>\n",
       "    </tr>\n",
       "    <tr>\n",
       "      <th>34510</th>\n",
       "      <td>10</td>\n",
       "      <td>032830</td>\n",
       "      <td>삼성생명</td>\n",
       "      <td>21.900000</td>\n",
       "      <td>0.014974</td>\n",
       "      <td>2015-12-01</td>\n",
       "      <td>Samsung Life Insurance</td>\n",
       "      <td>보험업</td>\n",
       "      <td>KOSPI</td>\n",
       "    </tr>\n",
       "  </tbody>\n",
       "</table>\n",
       "</div>"
      ],
      "text/plain": [
       "       rank    code    name      marcap  marcap_pct        year  \\\n",
       "34501     1  005930    삼성전자  190.752641    0.130428  2015-12-01   \n",
       "34502     2  005380     현대차   33.371887    0.022818  2015-12-01   \n",
       "34503     3  015760    한국전력   32.290793    0.022079  2015-12-01   \n",
       "34504     4  028260    삼성물산   27.979281    0.019131  2015-12-01   \n",
       "34505     5  005935   삼성전자우   24.888435    0.017018  2015-12-01   \n",
       "34506     6  012330   현대모비스   24.384638    0.016673  2015-12-01   \n",
       "34507     7  090430  아모레퍼시픽   24.231044    0.016568  2015-12-01   \n",
       "34508     8  000660  SK하이닉스   23.805677    0.016277  2015-12-01   \n",
       "34509     9  051910    LG화학   22.499038    0.015384  2015-12-01   \n",
       "34510    10  032830    삼성생명   21.900000    0.014974  2015-12-01   \n",
       "\n",
       "                       name_en sector market  \n",
       "34501      Samsung Electronics   전기전자  KOSPI  \n",
       "34502            Hyundai Motor   운수장비  KOSPI  \n",
       "34503                    KEPCO   전기가스  KOSPI  \n",
       "34504  Samsung C&T Corporation    유통업  KOSPI  \n",
       "34505      Samsung Electronics   전기전자  KOSPI  \n",
       "34506            Hyundai Mobis   운수장비  KOSPI  \n",
       "34507             AmorePacific     화학  KOSPI  \n",
       "34508                 SK Hynix   전기전자  KOSPI  \n",
       "34509                  LG Chem     화학  KOSPI  \n",
       "34510   Samsung Life Insurance    보험업  KOSPI  "
      ]
     },
     "metadata": {},
     "output_type": "display_data"
    }
   ],
   "source": [
    "df_2015 = df_master[df_master['year'] == '2015-12-01']\n",
    "print (len(df_2015), \"rows\")\n",
    "\n",
    "display (df_2015.head(10))"
   ]
  },
  {
   "cell_type": "markdown",
   "metadata": {
    "slideshow": {
     "slide_type": "subslide"
    }
   },
   "source": [
    "'sector'(업종)컬럼의 데이터를 살펴보자.\n",
    "\n",
    "DataFrame의 하나의 컬럼은 Series 이다. Series.value_counts() 함수로 Series내 값들의 고유한 항목과 각 항목의 개수를 얻을 수 있다."
   ]
  },
  {
   "cell_type": "code",
   "execution_count": 7,
   "metadata": {},
   "outputs": [
    {
     "data": {
      "text/plain": [
       "64"
      ]
     },
     "metadata": {},
     "output_type": "display_data"
    },
    {
     "data": {
      "text/plain": [
       "Index(['화학', '서비스업', '반도체', 'IT부품', '기계,장비', '전기전자', '금속', '유통업', '제약',\n",
       "       '금융서비스', '운송장비,부품', '운수장비', '통신장비', '소프트웨어', '도매', '철강금속', '음식료', '의약품',\n",
       "       '기계', '건설업', '비금속', '미분류', '디지털컨텐츠', '의료,정밀기기', '일반전기전자', '증권', '섬유의복',\n",
       "       '종이목재', '컴퓨터서비스', '운수창고', '전문기술', '음식료,담배', '정보기기', '오락,문화', '보험업',\n",
       "       '연구,개발', '기타금융업', '금융', '사업지원', '전문건설', '종합건설', '섬유,의류', '인터넷', '전기가스',\n",
       "       '통신서비스', '종이,목재', '출판,매체복제', '방송서비스', '소매', '기타제조', '교육', '환경', '은행',\n",
       "       '의료정밀', '부동산', '통신업', '육상운송', '여행운송', '전기,가스', '기타서비스', '비금속광업',\n",
       "       '숙박,음식', '농업', '자동차판매'],\n",
       "      dtype='object')"
      ]
     },
     "metadata": {},
     "output_type": "display_data"
    },
    {
     "data": {
      "text/plain": [
       "array([160, 151, 109, 109,  76,  64,  64,  63,  62,  58,  57,  56,  55,\n",
       "        53,  49,  48,  47,  47,  44,  41,  40,  37,  34,  34,  33,  32,\n",
       "        27,  25,  25,  24,  22,  22,  21,  21,  16,  14,  14,  14,  12,\n",
       "        12,  12,  12,  11,  11,   9,   9,   9,   9,   8,   8,   8,   5,\n",
       "         4,   4,   3,   3,   3,   2,   2,   2,   1,   1,   1,   1])"
      ]
     },
     "metadata": {},
     "output_type": "display_data"
    }
   ],
   "source": [
    "sector_counts = df_2015['sector'].value_counts()\n",
    "\n",
    "display (sector_counts.count())  # 업종수 \n",
    "display (sector_counts.index)    # 업종항목: '화학', '서비스업', '반도체', 'IT부품', 등 …\n",
    "display (sector_counts.values)  # 업종내 기업수: 160 151 109 109  76  64  64  …"
   ]
  },
  {
   "cell_type": "markdown",
   "metadata": {
    "slideshow": {
     "slide_type": "subslide"
    }
   },
   "source": [
    "종목들을 분류하는 업종(sector)의 수는 64개이며, '화학', '서비스업', 'IT부품', '반도체' 등이 있다. 흥미로운 것은 sector_counts의 valuses 인데 각각이 항목 개수이다. 즉, 업종에 속한 회사들이 몇개인지를 파악할 수 있다. '화학' 160개, '서비스업' 151개, 'IT부품' 109개 .. 이렇게 파악할 수 있다. \n",
    "\n",
    "크기 순서대로 나열되므로, 다음과 같이 간단하게 가장 많은 순서로 TOP 10을 뽑을 수 있다."
   ]
  },
  {
   "cell_type": "code",
   "execution_count": 8,
   "metadata": {
    "slideshow": {
     "slide_type": "subslide"
    }
   },
   "outputs": [
    {
     "data": {
      "text/plain": [
       "화학       160\n",
       "서비스업     151\n",
       "반도체      109\n",
       "IT부품     109\n",
       "기계,장비     76\n",
       "전기전자      64\n",
       "금속        64\n",
       "유통업       63\n",
       "제약        62\n",
       "금융서비스     58\n",
       "Name: sector, dtype: int64"
      ]
     },
     "execution_count": 8,
     "metadata": {},
     "output_type": "execute_result"
    }
   ],
   "source": [
    "sector_counts.head(10)"
   ]
  },
  {
   "cell_type": "markdown",
   "metadata": {
    "slideshow": {
     "slide_type": "slide"
    }
   },
   "source": [
    "## 업종 분포 차트\n",
    "\n",
    "선두 20개 업종의 종목 수를 차트로 표현해 보자. sector_counts 자체가 내림차순으로 정렬되어 있으므로 sector_counts[:20] 추출할 수 있다."
   ]
  },
  {
   "cell_type": "code",
   "execution_count": 9,
   "metadata": {
    "slideshow": {
     "slide_type": "subslide"
    }
   },
   "outputs": [
    {
     "data": {
      "text/plain": [
       "화학         160\n",
       "서비스업       151\n",
       "반도체        109\n",
       "IT부품       109\n",
       "기계,장비       76\n",
       "전기전자        64\n",
       "금속          64\n",
       "유통업         63\n",
       "제약          62\n",
       "금융서비스       58\n",
       "운송장비,부품     57\n",
       "운수장비        56\n",
       "통신장비        55\n",
       "소프트웨어       53\n",
       "도매          49\n",
       "철강금속        48\n",
       "음식료         47\n",
       "의약품         47\n",
       "기계          44\n",
       "건설업         41\n",
       "Name: sector, dtype: int64"
      ]
     },
     "execution_count": 9,
     "metadata": {},
     "output_type": "execute_result"
    }
   ],
   "source": [
    "top20 = sector_counts[:20]\n",
    "top20"
   ]
  },
  {
   "cell_type": "code",
   "execution_count": 10,
   "metadata": {
    "slideshow": {
     "slide_type": "subslide"
    }
   },
   "outputs": [
    {
     "data": {
      "text/plain": [
       "Index(['화학', '서비스업', '반도체', 'IT부품', '기계,장비', '전기전자', '금속', '유통업', '제약',\n",
       "       '금융서비스', '운송장비,부품', '운수장비', '통신장비', '소프트웨어', '도매', '철강금속', '음식료', '의약품',\n",
       "       '기계', '건설업'],\n",
       "      dtype='object')"
      ]
     },
     "metadata": {},
     "output_type": "display_data"
    },
    {
     "data": {
      "text/plain": [
       "array([160, 151, 109, 109,  76,  64,  64,  63,  62,  58,  57,  56,  55,\n",
       "        53,  49,  48,  47,  47,  44,  41])"
      ]
     },
     "metadata": {},
     "output_type": "display_data"
    }
   ],
   "source": [
    "display (top20.index)\n",
    "display (top20.values)"
   ]
  },
  {
   "cell_type": "code",
   "execution_count": 11,
   "metadata": {
    "slideshow": {
     "slide_type": "subslide"
    }
   },
   "outputs": [
    {
     "data": {
      "image/png": "[encoded data removed]",
      "text/plain": [
       "<matplotlib.figure.Figure at 0x7fa5b014b358>"
      ]
     },
     "metadata": {},
     "output_type": "display_data"
    }
   ],
   "source": [
    "import matplotlib.pyplot as plt\n",
    "import matplotlib.font_manager as fm\n",
    "\n",
    "colors_list = [ \"#C41F3B\", \"#FF7D0A\", \"#ABD473\", \"#69CCF0\", \"#00FF96\", \"#F58CBA\", \"#FFFFFF\", \"#FFF569\", \"#0070DE\", \"#9482C9\", \"#C79C6E\" ]\n",
    "\n",
    "path = '/usr/share/fonts/truetype/nanum/NanumGothic.ttf'\n",
    "fontprop = fm.FontProperties(fname=path, size=12)\n",
    "\n",
    "ax = top20.plot.barh(color=colors_list, grid=True, figsize=(12,6))\n",
    "ax.invert_yaxis()\n",
    "\n",
    "for label in ax.get_yticklabels() :\n",
    "    label.set_fontproperties(fontprop)"
   ]
  },
  {
   "cell_type": "markdown",
   "metadata": {
    "slideshow": {
     "slide_type": "notes"
    }
   },
   "source": [
    "2015년 데이터를 KOSPI와 KOSDAQ을 구분하여 보자."
   ]
  },
  {
   "cell_type": "code",
   "execution_count": 12,
   "metadata": {
    "slideshow": {
     "slide_type": "subslide"
    }
   },
   "outputs": [
    {
     "name": "stdout",
     "output_type": "stream",
     "text": [
      "종목수:\n",
      "KOSPI 883\n",
      "KOSDAQ 1147\n"
     ]
    }
   ],
   "source": [
    "df_2015_ks = df_master[df_master['year'].isin(['2015-12-01']) & df_master['market'].isin(['KOSPI'])]\n",
    "df_2015_kq = df_master[df_master['year'].isin(['2015-12-01']) & df_master['market'].isin(['KOSDAQ'])]\n",
    "\n",
    "print ('종목수:')\n",
    "print ('KOSPI', len(df_2015_ks))\n",
    "print ('KOSDAQ', len(df_2015_kq))"
   ]
  },
  {
   "cell_type": "markdown",
   "metadata": {
    "slideshow": {
     "slide_type": "skip"
    }
   },
   "source": [
    "위 내용과 동일한 결과이지만 약간 다르게 표현해 보면,"
   ]
  },
  {
   "cell_type": "code",
   "execution_count": 13,
   "metadata": {
    "slideshow": {
     "slide_type": "subslide"
    }
   },
   "outputs": [
    {
     "name": "stdout",
     "output_type": "stream",
     "text": [
      "종목수:\n",
      "KOSPI 883\n",
      "KOSDAQ 1147\n"
     ]
    }
   ],
   "source": [
    "df_2015 = df_master[df_master['year'] == '2015-12-01']\n",
    "\n",
    "df_2015_ks = df_2015[df_2015['market'] == 'KOSPI']\n",
    "df_2015_kq = df_2015[df_2015['market'] == 'KOSDAQ']\n",
    "\n",
    "print ('종목수:')\n",
    "print ('KOSPI', len(df_2015_ks))\n",
    "print ('KOSDAQ', len(df_2015_kq))"
   ]
  },
  {
   "cell_type": "markdown",
   "metadata": {
    "slideshow": {
     "slide_type": "skip"
    }
   },
   "source": [
    "앞서 살펴본 바와 같이 Series.value_counts() 함수를 사용하여 'sector'(업종)  컬럼의 수를 얻는다."
   ]
  },
  {
   "cell_type": "code",
   "execution_count": 14,
   "metadata": {
    "collapsed": true,
    "slideshow": {
     "slide_type": "subslide"
    }
   },
   "outputs": [],
   "source": [
    "sector_counts_ks = df_2015_ks['sector'].value_counts()\n",
    "sector_counts_kq = df_2015_kq['sector'].value_counts()"
   ]
  },
  {
   "cell_type": "code",
   "execution_count": 15,
   "metadata": {
    "slideshow": {
     "slide_type": "slide"
    }
   },
   "outputs": [
    {
     "data": {
      "image/png": "[encoded data removed]",
      "text/plain": [
       "<matplotlib.figure.Figure at 0x7fa5b01274e0>"
      ]
     },
     "metadata": {},
     "output_type": "display_data"
    }
   ],
   "source": [
    "ax = sector_counts_ks[:20].plot.barh(color=colors_list, grid=True, figsize=(12,8))\n",
    "ax.set_title('2015 KOSPI Stock Counts of Sectors')\n",
    "ax.invert_yaxis()\n",
    "for label in ax.get_yticklabels() :\n",
    "    label.set_fontproperties(fontprop)"
   ]
  },
  {
   "cell_type": "code",
   "execution_count": 16,
   "metadata": {
    "slideshow": {
     "slide_type": "slide"
    }
   },
   "outputs": [
    {
     "data": {
      "image/png": "[encoded data removed]",
      "text/plain": [
       "<matplotlib.figure.Figure at 0x7fa5b0127e10>"
      ]
     },
     "metadata": {},
     "output_type": "display_data"
    }
   ],
   "source": [
    "ax = sector_counts_kq[:20].plot.barh(color=colors_list, grid=True, figsize=(12,8))\n",
    "ax.set_title('2015 KOSDAQ Stock Counts of Sectors')\n",
    "ax.invert_yaxis()\n",
    "for label in ax.get_yticklabels() :\n",
    "    label.set_fontproperties(fontprop)"
   ]
  },
  {
   "cell_type": "markdown",
   "metadata": {
    "slideshow": {
     "slide_type": "notes"
    }
   },
   "source": [
    "KOSPI와 KOSDAQ에 분포해있는 업종과 업종내 종목수의 분포를 관찰해 보자. KOSPI는 서비스와 화학/전기 전자 같은 제조업 종목이 많으며, KOSPI는 반도체, IT부품, 기계 장비 등 기술중심 업종이 많은 것을 알 수 있다."
   ]
  },
  {
   "cell_type": "markdown",
   "metadata": {
    "slideshow": {
     "slide_type": "slide"
    }
   },
   "source": [
    "## 시가총액 합산, 비중"
   ]
  },
  {
   "cell_type": "markdown",
   "metadata": {
    "slideshow": {
     "slide_type": "fragment"
    }
   },
   "source": [
    "시가총액 합산, 비중 등을 산출해 보자"
   ]
  },
  {
   "cell_type": "code",
   "execution_count": 17,
   "metadata": {
    "slideshow": {
     "slide_type": "subslide"
    }
   },
   "outputs": [
    {
     "name": "stdout",
     "output_type": "stream",
     "text": [
      "시가총액:  1462.515474000006\n",
      "KOSPI 시가총액:  1265.6840710000029\n",
      "KOSDAQ 시가총액:  192.21862399999975\n",
      "KOSPI 시가총액 비중 (전체시장에서):  0.865415849268476\n",
      "KOSDAQ 시가총액 (전체시장에서):  0.13143014717941984\n"
     ]
    }
   ],
   "source": [
    "df_2015 = df_master[df_master['year'] == '2015-12-01']\n",
    "\n",
    "df_2015_ks = df_2015[df_2015['market'] == 'KOSPI']\n",
    "df_2015_kq = df_2015[df_2015['market'] == 'KOSDAQ']\n",
    "\n",
    "print( '시가총액: ', df_2015['marcap'].sum() )\n",
    "print( 'KOSPI 시가총액: ', df_2015_ks['marcap'].sum() )\n",
    "print( 'KOSDAQ 시가총액: ', df_2015_kq['marcap'].sum() )\n",
    "\n",
    "print( 'KOSPI 시가총액 비중 (전체시장에서): ', df_2015_ks['marcap'].sum() / df_2015['marcap'].sum())\n",
    "print( 'KOSDAQ 시가총액 (전체시장에서): ', df_2015_kq['marcap'].sum() / df_2015['marcap'].sum())"
   ]
  },
  {
   "cell_type": "markdown",
   "metadata": {
    "slideshow": {
     "slide_type": "fragment"
    }
   },
   "source": [
    "2015년 모든 종목의 시가총액의 합(즉, 한국 증권 시장 시가총액)은 1460조원이 약간 넘는다. KOSPI 시가총액은 시장 전체 시가총액의 86%가 조금 넘으며, KOSDAQ의 경우는 13% 정도 된다."
   ]
  },
  {
   "cell_type": "markdown",
   "metadata": {
    "slideshow": {
     "slide_type": "subslide"
    }
   },
   "source": [
    "이런 합산 데이터 산출과 비중을 비교하는 것은 전체를 살피는데 도움이 된다.\n",
    "\n",
    "범위를 줄여 KOSDAQ 시장과 반도체 업종을 살펴보자."
   ]
  },
  {
   "cell_type": "code",
   "execution_count": 18,
   "metadata": {
    "slideshow": {
     "slide_type": "subslide"
    }
   },
   "outputs": [
    {
     "data": {
      "text/html": [
       "<div>\n",
       "<style>\n",
       "    .dataframe thead tr:only-child th {\n",
       "        text-align: right;\n",
       "    }\n",
       "\n",
       "    .dataframe thead th {\n",
       "        text-align: left;\n",
       "    }\n",
       "\n",
       "    .dataframe tbody tr th {\n",
       "        vertical-align: top;\n",
       "    }\n",
       "</style>\n",
       "<table border=\"1\" class=\"dataframe\">\n",
       "  <thead>\n",
       "    <tr style=\"text-align: right;\">\n",
       "      <th></th>\n",
       "      <th>rank</th>\n",
       "      <th>code</th>\n",
       "      <th>name</th>\n",
       "      <th>marcap</th>\n",
       "      <th>marcap_pct</th>\n",
       "      <th>year</th>\n",
       "      <th>name_en</th>\n",
       "      <th>sector</th>\n",
       "      <th>market</th>\n",
       "    </tr>\n",
       "  </thead>\n",
       "  <tbody>\n",
       "    <tr>\n",
       "      <th>34646</th>\n",
       "      <td>146</td>\n",
       "      <td>039030</td>\n",
       "      <td>이오테크닉스</td>\n",
       "      <td>1.409895</td>\n",
       "      <td>0.000964</td>\n",
       "      <td>2015-12-01</td>\n",
       "      <td>EO Technics</td>\n",
       "      <td>반도체</td>\n",
       "      <td>KOSDAQ</td>\n",
       "    </tr>\n",
       "    <tr>\n",
       "      <th>34668</th>\n",
       "      <td>168</td>\n",
       "      <td>036490</td>\n",
       "      <td>OCI머티리얼즈</td>\n",
       "      <td>1.142313</td>\n",
       "      <td>0.000781</td>\n",
       "      <td>2015-12-01</td>\n",
       "      <td>OCI Materials</td>\n",
       "      <td>반도체</td>\n",
       "      <td>KOSDAQ</td>\n",
       "    </tr>\n",
       "    <tr>\n",
       "      <th>34703</th>\n",
       "      <td>203</td>\n",
       "      <td>046890</td>\n",
       "      <td>서울반도체</td>\n",
       "      <td>0.906649</td>\n",
       "      <td>0.000620</td>\n",
       "      <td>2015-12-01</td>\n",
       "      <td>Seoul Semiconductor</td>\n",
       "      <td>반도체</td>\n",
       "      <td>KOSDAQ</td>\n",
       "    </tr>\n",
       "    <tr>\n",
       "      <th>34713</th>\n",
       "      <td>213</td>\n",
       "      <td>030530</td>\n",
       "      <td>원익IPS</td>\n",
       "      <td>0.841232</td>\n",
       "      <td>0.000575</td>\n",
       "      <td>2015-12-01</td>\n",
       "      <td>Wonik IPS</td>\n",
       "      <td>반도체</td>\n",
       "      <td>KOSDAQ</td>\n",
       "    </tr>\n",
       "    <tr>\n",
       "      <th>34742</th>\n",
       "      <td>242</td>\n",
       "      <td>058470</td>\n",
       "      <td>리노공업</td>\n",
       "      <td>0.699625</td>\n",
       "      <td>0.000478</td>\n",
       "      <td>2015-12-01</td>\n",
       "      <td>Leeno Industrial Inc.</td>\n",
       "      <td>반도체</td>\n",
       "      <td>KOSDAQ</td>\n",
       "    </tr>\n",
       "  </tbody>\n",
       "</table>\n",
       "</div>"
      ],
      "text/plain": [
       "       rank    code      name    marcap  marcap_pct        year  \\\n",
       "34646   146  039030    이오테크닉스  1.409895    0.000964  2015-12-01   \n",
       "34668   168  036490  OCI머티리얼즈  1.142313    0.000781  2015-12-01   \n",
       "34703   203  046890     서울반도체  0.906649    0.000620  2015-12-01   \n",
       "34713   213  030530     원익IPS  0.841232    0.000575  2015-12-01   \n",
       "34742   242  058470      리노공업  0.699625    0.000478  2015-12-01   \n",
       "\n",
       "                     name_en sector  market  \n",
       "34646            EO Technics    반도체  KOSDAQ  \n",
       "34668          OCI Materials    반도체  KOSDAQ  \n",
       "34703    Seoul Semiconductor    반도체  KOSDAQ  \n",
       "34713              Wonik IPS    반도체  KOSDAQ  \n",
       "34742  Leeno Industrial Inc.    반도체  KOSDAQ  "
      ]
     },
     "metadata": {},
     "output_type": "display_data"
    },
    {
     "name": "stdout",
     "output_type": "stream",
     "text": [
      "반도체 업종 종목 수:  109\n",
      "반도체 업종 시가총액:  16.858548999999993\n",
      "반도체 업종 시가총액 비중:  0.08770507586195193\n"
     ]
    }
   ],
   "source": [
    "# KOSDAQ시장에서 반도체 종목만\n",
    "df_semi = df_2015_kq[df_2015_kq['sector']=='반도체']\n",
    "display( df_semi.head() )\n",
    "\n",
    "print( '반도체 업종 종목 수: ', len(df_semi) ) \n",
    "print( '반도체 업종 시가총액: ', df_semi['marcap'].sum() ) \n",
    "print( '반도체 업종 시가총액 비중: ', df_semi['marcap'].sum() / df_2015_kq['marcap'].sum() )"
   ]
  },
  {
   "cell_type": "markdown",
   "metadata": {
    "slideshow": {
     "slide_type": "notes"
    }
   },
   "source": [
    "우리나라 KOSDAQ 시장에서 반도체 업종 종목은 109개, 시가총액은 16조원 정도이다. 반도체 업종이 KOSDAQ시장에서 차지하는 비중은 약 8.7% 정도이다."
   ]
  },
  {
   "cell_type": "markdown",
   "metadata": {
    "slideshow": {
     "slide_type": "slide"
    }
   },
   "source": [
    "## 업종별 시가총액\n",
    "\n",
    "업종을 하나씩 선별해가며 계산할 수도 있겠지만, pandas.pivot_table()을 이용하면 이런 작업을 한방에 처리할 수 있다."
   ]
  },
  {
   "cell_type": "code",
   "execution_count": 19,
   "metadata": {
    "slideshow": {
     "slide_type": "subslide"
    }
   },
   "outputs": [
    {
     "data": {
      "text/html": [
       "<div>\n",
       "<style>\n",
       "    .dataframe thead tr:only-child th {\n",
       "        text-align: right;\n",
       "    }\n",
       "\n",
       "    .dataframe thead th {\n",
       "        text-align: left;\n",
       "    }\n",
       "\n",
       "    .dataframe tbody tr th {\n",
       "        vertical-align: top;\n",
       "    }\n",
       "</style>\n",
       "<table border=\"1\" class=\"dataframe\">\n",
       "  <thead>\n",
       "    <tr style=\"text-align: right;\">\n",
       "      <th></th>\n",
       "      <th>marcap</th>\n",
       "    </tr>\n",
       "    <tr>\n",
       "      <th>sector</th>\n",
       "      <th></th>\n",
       "    </tr>\n",
       "  </thead>\n",
       "  <tbody>\n",
       "    <tr>\n",
       "      <th>전기전자</th>\n",
       "      <td>287.875933</td>\n",
       "    </tr>\n",
       "    <tr>\n",
       "      <th>서비스업</th>\n",
       "      <td>194.308660</td>\n",
       "    </tr>\n",
       "    <tr>\n",
       "      <th>화학</th>\n",
       "      <td>143.914883</td>\n",
       "    </tr>\n",
       "    <tr>\n",
       "      <th>운수장비</th>\n",
       "      <td>120.701497</td>\n",
       "    </tr>\n",
       "    <tr>\n",
       "      <th>유통업</th>\n",
       "      <td>85.366612</td>\n",
       "    </tr>\n",
       "    <tr>\n",
       "      <th>보험업</th>\n",
       "      <td>61.112385</td>\n",
       "    </tr>\n",
       "    <tr>\n",
       "      <th>기타금융업</th>\n",
       "      <td>57.289581</td>\n",
       "    </tr>\n",
       "    <tr>\n",
       "      <th>철강금속</th>\n",
       "      <td>41.355757</td>\n",
       "    </tr>\n",
       "    <tr>\n",
       "      <th>음식료</th>\n",
       "      <td>39.491417</td>\n",
       "    </tr>\n",
       "    <tr>\n",
       "      <th>전기가스</th>\n",
       "      <td>39.087887</td>\n",
       "    </tr>\n",
       "    <tr>\n",
       "      <th>통신업</th>\n",
       "      <td>31.047968</td>\n",
       "    </tr>\n",
       "    <tr>\n",
       "      <th>의약품</th>\n",
       "      <td>26.240103</td>\n",
       "    </tr>\n",
       "    <tr>\n",
       "      <th>증권</th>\n",
       "      <td>22.194504</td>\n",
       "    </tr>\n",
       "    <tr>\n",
       "      <th>운수창고</th>\n",
       "      <td>21.744998</td>\n",
       "    </tr>\n",
       "    <tr>\n",
       "      <th>건설업</th>\n",
       "      <td>20.929716</td>\n",
       "    </tr>\n",
       "    <tr>\n",
       "      <th>미분류</th>\n",
       "      <td>20.746615</td>\n",
       "    </tr>\n",
       "    <tr>\n",
       "      <th>기계</th>\n",
       "      <td>19.631011</td>\n",
       "    </tr>\n",
       "    <tr>\n",
       "      <th>은행</th>\n",
       "      <td>14.247164</td>\n",
       "    </tr>\n",
       "    <tr>\n",
       "      <th>섬유의복</th>\n",
       "      <td>7.314366</td>\n",
       "    </tr>\n",
       "    <tr>\n",
       "      <th>비금속</th>\n",
       "      <td>7.075211</td>\n",
       "    </tr>\n",
       "    <tr>\n",
       "      <th>종이목재</th>\n",
       "      <td>3.062847</td>\n",
       "    </tr>\n",
       "    <tr>\n",
       "      <th>의료정밀</th>\n",
       "      <td>0.944956</td>\n",
       "    </tr>\n",
       "  </tbody>\n",
       "</table>\n",
       "</div>"
      ],
      "text/plain": [
       "            marcap\n",
       "sector            \n",
       "전기전자    287.875933\n",
       "서비스업    194.308660\n",
       "화학      143.914883\n",
       "운수장비    120.701497\n",
       "유통업      85.366612\n",
       "보험업      61.112385\n",
       "기타금융업    57.289581\n",
       "철강금속     41.355757\n",
       "음식료      39.491417\n",
       "전기가스     39.087887\n",
       "통신업      31.047968\n",
       "의약품      26.240103\n",
       "증권       22.194504\n",
       "운수창고     21.744998\n",
       "건설업      20.929716\n",
       "미분류      20.746615\n",
       "기계       19.631011\n",
       "은행       14.247164\n",
       "섬유의복      7.314366\n",
       "비금속       7.075211\n",
       "종이목재      3.062847\n",
       "의료정밀      0.944956"
      ]
     },
     "execution_count": 19,
     "metadata": {},
     "output_type": "execute_result"
    }
   ],
   "source": [
    "# pivot_table(): 'sector'(업종)으로 인덱스를 생성, 'marcap'(시가총액)을 값으로 하되 동일한 업종은 합산(np.sum)\n",
    "piv = df_2015_ks.pivot_table(index=['sector'], values='marcap', aggfunc=np.sum)\n",
    "\n",
    "# 복사본을 만들고, 값 기준으로 내림차순 소트\n",
    "sector_marcap = piv.copy()\n",
    "sector_marcap.sort_values(by=\"marcap\", ascending=False, inplace=True)\n",
    "sector_marcap"
   ]
  },
  {
   "cell_type": "code",
   "execution_count": 20,
   "metadata": {
    "slideshow": {
     "slide_type": "subslide"
    }
   },
   "outputs": [
    {
     "data": {
      "text/plain": [
       "<bound method NDFrame.keys of             marcap\n",
       "sector            \n",
       "전기전자    287.875933\n",
       "서비스업    194.308660\n",
       "화학      143.914883\n",
       "운수장비    120.701497\n",
       "유통업      85.366612\n",
       "보험업      61.112385\n",
       "기타금융업    57.289581\n",
       "철강금속     41.355757\n",
       "음식료      39.491417\n",
       "전기가스     39.087887\n",
       "통신업      31.047968\n",
       "의약품      26.240103\n",
       "증권       22.194504\n",
       "운수창고     21.744998\n",
       "건설업      20.929716\n",
       "미분류      20.746615\n",
       "기계       19.631011\n",
       "은행       14.247164\n",
       "섬유의복      7.314366\n",
       "비금속       7.075211\n",
       "종이목재      3.062847\n",
       "의료정밀      0.944956>"
      ]
     },
     "execution_count": 20,
     "metadata": {},
     "output_type": "execute_result"
    }
   ],
   "source": [
    "sector_marcap.keys"
   ]
  },
  {
   "cell_type": "code",
   "execution_count": 21,
   "metadata": {
    "slideshow": {
     "slide_type": "subslide"
    }
   },
   "outputs": [
    {
     "data": {
      "image/png": "[encoded data removed]",
      "text/plain": [
       "<matplotlib.figure.Figure at 0x7fa5aa5cb668>"
      ]
     },
     "metadata": {},
     "output_type": "display_data"
    }
   ],
   "source": [
    "ax = sector_marcap.plot.barh(color=colors_list, grid=True, figsize=(12,8))\n",
    "ax.invert_yaxis()\n",
    "ax.set_title('2015 KOSPI Market Cap of Sectors')\n",
    "\n",
    "for label in ax.get_yticklabels() :\n",
    "    label.set_fontproperties(fontprop)"
   ]
  },
  {
   "cell_type": "code",
   "execution_count": 22,
   "metadata": {
    "slideshow": {
     "slide_type": "subslide"
    }
   },
   "outputs": [
    {
     "data": {
      "text/plain": [
       "Index(['전기전자', '서비스업', '화학', '운수장비', '유통업', '보험업', '기타금융업', '철강금속', '음식료',\n",
       "       '전기가스', '통신업', '의약품', '증권', '운수창고', '건설업', '미분류', '기계', '은행', '섬유의복',\n",
       "       '비금속', '종이목재', '의료정밀'],\n",
       "      dtype='object', name='sector')"
      ]
     },
     "execution_count": 22,
     "metadata": {},
     "output_type": "execute_result"
    }
   ],
   "source": [
    "sector_marcap.index"
   ]
  },
  {
   "cell_type": "markdown",
   "metadata": {
    "slideshow": {
     "slide_type": "slide"
    }
   },
   "source": [
    "## 시가총액과 종목수\n",
    "\n",
    "KOSPI 업종 시가총액과 KOSPI 종목수를 나란히 놓고 비교하는 차트를 그려본다"
   ]
  },
  {
   "cell_type": "code",
   "execution_count": 23,
   "metadata": {
    "slideshow": {
     "slide_type": "subslide"
    }
   },
   "outputs": [
    {
     "data": {
      "image/png": "[encoded data removed]",
      "text/plain": [
       "<matplotlib.figure.Figure at 0x7fa5aa697128>"
      ]
     },
     "metadata": {},
     "output_type": "display_data"
    }
   ],
   "source": [
    "fig = plt.figure(figsize=(16,8))\n",
    "\n",
    "# KOSPI 업종 시가총액\n",
    "ind = range(len(sector_marcap))\n",
    "ax1 = fig.add_subplot(121)\n",
    "ax1.barh(ind, sector_marcap.values, 0.5, color='r')\n",
    "ax1.set(yticks=ind, yticklabels=sector_marcap.index)\n",
    "ax1.invert_yaxis()\n",
    "ax1.set_title('2015 KOSPI Market Cap of Sectors')\n",
    "for label in ax1.get_yticklabels() :\n",
    "    label.set_fontproperties(fontprop)\n",
    "\n",
    "# KOSPI 종목수\n",
    "ind = range(len(sector_counts_ks))\n",
    "ax2 = fig.add_subplot(122)\n",
    "ax2.barh(ind, sector_counts_ks.values, 0.5, color='b')\n",
    "ax2.set(yticks=ind, yticklabels=sector_counts_ks.index)\n",
    "ax2.set_title('2015 KOSPI Stock Counts of Sectors')\n",
    "ax2.invert_yaxis()\n",
    "for label in ax2.get_yticklabels() :\n",
    "    label.set_fontproperties(fontprop)\n",
    "    "
   ]
  },
  {
   "cell_type": "markdown",
   "metadata": {
    "slideshow": {
     "slide_type": "slide"
    }
   },
   "source": [
    "## 20년전과 시장, 종목 비교"
   ]
  },
  {
   "cell_type": "markdown",
   "metadata": {
    "slideshow": {
     "slide_type": "subslide"
    }
   },
   "source": [
    "20년의 간격이 있는 두 개의 년도 1995년과 2015년의 업종의 변화를 비교해 해본다. 우선 종목을 추출해보자."
   ]
  },
  {
   "cell_type": "code",
   "execution_count": 24,
   "metadata": {
    "slideshow": {
     "slide_type": "subslide"
    }
   },
   "outputs": [
    {
     "data": {
      "text/plain": [
       "'1122 rows'"
      ]
     },
     "metadata": {},
     "output_type": "display_data"
    },
    {
     "data": {
      "text/html": [
       "<div>\n",
       "<style>\n",
       "    .dataframe thead tr:only-child th {\n",
       "        text-align: right;\n",
       "    }\n",
       "\n",
       "    .dataframe thead th {\n",
       "        text-align: left;\n",
       "    }\n",
       "\n",
       "    .dataframe tbody tr th {\n",
       "        vertical-align: top;\n",
       "    }\n",
       "</style>\n",
       "<table border=\"1\" class=\"dataframe\">\n",
       "  <thead>\n",
       "    <tr style=\"text-align: right;\">\n",
       "      <th></th>\n",
       "      <th>rank</th>\n",
       "      <th>code</th>\n",
       "      <th>name</th>\n",
       "      <th>marcap</th>\n",
       "      <th>marcap_pct</th>\n",
       "      <th>year</th>\n",
       "      <th>name_en</th>\n",
       "      <th>sector</th>\n",
       "      <th>market</th>\n",
       "    </tr>\n",
       "  </thead>\n",
       "  <tbody>\n",
       "    <tr>\n",
       "      <th>0</th>\n",
       "      <td>1</td>\n",
       "      <td>015760</td>\n",
       "      <td>한국전력</td>\n",
       "      <td>18.994194</td>\n",
       "      <td>0.134566</td>\n",
       "      <td>1995-12-01</td>\n",
       "      <td>KEPCO</td>\n",
       "      <td>전기가스</td>\n",
       "      <td>KOSPI</td>\n",
       "    </tr>\n",
       "    <tr>\n",
       "      <th>1</th>\n",
       "      <td>2</td>\n",
       "      <td>005930</td>\n",
       "      <td>삼성전자</td>\n",
       "      <td>7.665979</td>\n",
       "      <td>0.054310</td>\n",
       "      <td>1995-12-01</td>\n",
       "      <td>Samsung Electronics</td>\n",
       "      <td>전기전자</td>\n",
       "      <td>KOSPI</td>\n",
       "    </tr>\n",
       "    <tr>\n",
       "      <th>2</th>\n",
       "      <td>3</td>\n",
       "      <td>005490</td>\n",
       "      <td>POSCO</td>\n",
       "      <td>4.760822</td>\n",
       "      <td>0.033728</td>\n",
       "      <td>1995-12-01</td>\n",
       "      <td>POSCO</td>\n",
       "      <td>철강금속</td>\n",
       "      <td>KOSPI</td>\n",
       "    </tr>\n",
       "    <tr>\n",
       "      <th>3</th>\n",
       "      <td>4</td>\n",
       "      <td>017670</td>\n",
       "      <td>SK텔레콤</td>\n",
       "      <td>3.229820</td>\n",
       "      <td>0.022882</td>\n",
       "      <td>1995-12-01</td>\n",
       "      <td>SK Telecom</td>\n",
       "      <td>통신업</td>\n",
       "      <td>KOSPI</td>\n",
       "    </tr>\n",
       "    <tr>\n",
       "      <th>4</th>\n",
       "      <td>5</td>\n",
       "      <td>000200</td>\n",
       "      <td>대우중공업</td>\n",
       "      <td>3.019233</td>\n",
       "      <td>0.021390</td>\n",
       "      <td>1995-12-01</td>\n",
       "      <td>NaN</td>\n",
       "      <td>NaN</td>\n",
       "      <td>NaN</td>\n",
       "    </tr>\n",
       "  </tbody>\n",
       "</table>\n",
       "</div>"
      ],
      "text/plain": [
       "   rank    code   name     marcap  marcap_pct        year  \\\n",
       "0     1  015760   한국전력  18.994194    0.134566  1995-12-01   \n",
       "1     2  005930   삼성전자   7.665979    0.054310  1995-12-01   \n",
       "2     3  005490  POSCO   4.760822    0.033728  1995-12-01   \n",
       "3     4  017670  SK텔레콤   3.229820    0.022882  1995-12-01   \n",
       "4     5  000200  대우중공업   3.019233    0.021390  1995-12-01   \n",
       "\n",
       "               name_en sector market  \n",
       "0                KEPCO   전기가스  KOSPI  \n",
       "1  Samsung Electronics   전기전자  KOSPI  \n",
       "2                POSCO   철강금속  KOSPI  \n",
       "3           SK Telecom    통신업  KOSPI  \n",
       "4                  NaN    NaN    NaN  "
      ]
     },
     "metadata": {},
     "output_type": "display_data"
    },
    {
     "data": {
      "text/plain": [
       "'2133 rows'"
      ]
     },
     "metadata": {},
     "output_type": "display_data"
    },
    {
     "data": {
      "text/html": [
       "<div>\n",
       "<style>\n",
       "    .dataframe thead tr:only-child th {\n",
       "        text-align: right;\n",
       "    }\n",
       "\n",
       "    .dataframe thead th {\n",
       "        text-align: left;\n",
       "    }\n",
       "\n",
       "    .dataframe tbody tr th {\n",
       "        vertical-align: top;\n",
       "    }\n",
       "</style>\n",
       "<table border=\"1\" class=\"dataframe\">\n",
       "  <thead>\n",
       "    <tr style=\"text-align: right;\">\n",
       "      <th></th>\n",
       "      <th>rank</th>\n",
       "      <th>code</th>\n",
       "      <th>name</th>\n",
       "      <th>marcap</th>\n",
       "      <th>marcap_pct</th>\n",
       "      <th>year</th>\n",
       "      <th>name_en</th>\n",
       "      <th>sector</th>\n",
       "      <th>market</th>\n",
       "    </tr>\n",
       "  </thead>\n",
       "  <tbody>\n",
       "    <tr>\n",
       "      <th>34501</th>\n",
       "      <td>1</td>\n",
       "      <td>005930</td>\n",
       "      <td>삼성전자</td>\n",
       "      <td>190.752641</td>\n",
       "      <td>0.130428</td>\n",
       "      <td>2015-12-01</td>\n",
       "      <td>Samsung Electronics</td>\n",
       "      <td>전기전자</td>\n",
       "      <td>KOSPI</td>\n",
       "    </tr>\n",
       "    <tr>\n",
       "      <th>34502</th>\n",
       "      <td>2</td>\n",
       "      <td>005380</td>\n",
       "      <td>현대차</td>\n",
       "      <td>33.371887</td>\n",
       "      <td>0.022818</td>\n",
       "      <td>2015-12-01</td>\n",
       "      <td>Hyundai Motor</td>\n",
       "      <td>운수장비</td>\n",
       "      <td>KOSPI</td>\n",
       "    </tr>\n",
       "    <tr>\n",
       "      <th>34503</th>\n",
       "      <td>3</td>\n",
       "      <td>015760</td>\n",
       "      <td>한국전력</td>\n",
       "      <td>32.290793</td>\n",
       "      <td>0.022079</td>\n",
       "      <td>2015-12-01</td>\n",
       "      <td>KEPCO</td>\n",
       "      <td>전기가스</td>\n",
       "      <td>KOSPI</td>\n",
       "    </tr>\n",
       "    <tr>\n",
       "      <th>34504</th>\n",
       "      <td>4</td>\n",
       "      <td>028260</td>\n",
       "      <td>삼성물산</td>\n",
       "      <td>27.979281</td>\n",
       "      <td>0.019131</td>\n",
       "      <td>2015-12-01</td>\n",
       "      <td>Samsung C&amp;T Corporation</td>\n",
       "      <td>유통업</td>\n",
       "      <td>KOSPI</td>\n",
       "    </tr>\n",
       "    <tr>\n",
       "      <th>34505</th>\n",
       "      <td>5</td>\n",
       "      <td>005935</td>\n",
       "      <td>삼성전자우</td>\n",
       "      <td>24.888435</td>\n",
       "      <td>0.017018</td>\n",
       "      <td>2015-12-01</td>\n",
       "      <td>Samsung Electronics</td>\n",
       "      <td>전기전자</td>\n",
       "      <td>KOSPI</td>\n",
       "    </tr>\n",
       "  </tbody>\n",
       "</table>\n",
       "</div>"
      ],
      "text/plain": [
       "       rank    code   name      marcap  marcap_pct        year  \\\n",
       "34501     1  005930   삼성전자  190.752641    0.130428  2015-12-01   \n",
       "34502     2  005380    현대차   33.371887    0.022818  2015-12-01   \n",
       "34503     3  015760   한국전력   32.290793    0.022079  2015-12-01   \n",
       "34504     4  028260   삼성물산   27.979281    0.019131  2015-12-01   \n",
       "34505     5  005935  삼성전자우   24.888435    0.017018  2015-12-01   \n",
       "\n",
       "                       name_en sector market  \n",
       "34501      Samsung Electronics   전기전자  KOSPI  \n",
       "34502            Hyundai Motor   운수장비  KOSPI  \n",
       "34503                    KEPCO   전기가스  KOSPI  \n",
       "34504  Samsung C&T Corporation    유통업  KOSPI  \n",
       "34505      Samsung Electronics   전기전자  KOSPI  "
      ]
     },
     "metadata": {},
     "output_type": "display_data"
    }
   ],
   "source": [
    "df_1995 = df_master[df_master['year'] == '1995-12-01']\n",
    "df_2015 = df_master[df_master['year'] == '2015-12-01']\n",
    "\n",
    "display('%s rows' % len(df_1995))\n",
    "display(df_1995.head())\n",
    "\n",
    "display('%s rows' % len(df_2015))\n",
    "display(df_2015.head())"
   ]
  },
  {
   "cell_type": "markdown",
   "metadata": {
    "slideshow": {
     "slide_type": "notes"
    }
   },
   "source": [
    "종목수에서 큰 차이를 보인다. 1995년에는 1995년에는 1122개, 2015년에는 종목수는 2133개로 거의 두배가 늘었다. 단, 종목수에는 우선주등이 포함되기 때문에 회사의 수와 같지는 않다.  "
   ]
  },
  {
   "cell_type": "markdown",
   "metadata": {
    "slideshow": {
     "slide_type": "notes"
    }
   },
   "source": [
    "2015년에 있는 종목들 중에 1995년부터 존재했던 즉, 20년 이상된 종목수는 얼마나 될까?\n",
    "\n",
    "df_2015 와 df_1995를 merge()하면서 공통적으로 존재(how='inner')하는 코드와 이름(on=['code', 'name'])을 추출하면, 이 질문에 답이 될 수 있다. "
   ]
  },
  {
   "cell_type": "code",
   "execution_count": 25,
   "metadata": {
    "slideshow": {
     "slide_type": "subslide"
    }
   },
   "outputs": [
    {
     "name": "stdout",
     "output_type": "stream",
     "text": [
      "1995, 2015 공통 종목수: 487\n"
     ]
    },
    {
     "data": {
      "text/html": [
       "<div>\n",
       "<style>\n",
       "    .dataframe thead tr:only-child th {\n",
       "        text-align: right;\n",
       "    }\n",
       "\n",
       "    .dataframe thead th {\n",
       "        text-align: left;\n",
       "    }\n",
       "\n",
       "    .dataframe tbody tr th {\n",
       "        vertical-align: top;\n",
       "    }\n",
       "</style>\n",
       "<table border=\"1\" class=\"dataframe\">\n",
       "  <thead>\n",
       "    <tr style=\"text-align: right;\">\n",
       "      <th></th>\n",
       "      <th>rank_2015</th>\n",
       "      <th>code</th>\n",
       "      <th>name</th>\n",
       "      <th>marcap_2015</th>\n",
       "      <th>marcap_pct_2015</th>\n",
       "      <th>rank_1995</th>\n",
       "      <th>marcap_1995</th>\n",
       "      <th>marcap_pct_1995</th>\n",
       "    </tr>\n",
       "  </thead>\n",
       "  <tbody>\n",
       "    <tr>\n",
       "      <th>0</th>\n",
       "      <td>1</td>\n",
       "      <td>005930</td>\n",
       "      <td>삼성전자</td>\n",
       "      <td>190.752641</td>\n",
       "      <td>0.130428</td>\n",
       "      <td>2</td>\n",
       "      <td>7.665979</td>\n",
       "      <td>0.054310</td>\n",
       "    </tr>\n",
       "    <tr>\n",
       "      <th>1</th>\n",
       "      <td>2</td>\n",
       "      <td>005380</td>\n",
       "      <td>현대차</td>\n",
       "      <td>33.371887</td>\n",
       "      <td>0.022818</td>\n",
       "      <td>13</td>\n",
       "      <td>1.408595</td>\n",
       "      <td>0.009979</td>\n",
       "    </tr>\n",
       "    <tr>\n",
       "      <th>2</th>\n",
       "      <td>3</td>\n",
       "      <td>015760</td>\n",
       "      <td>한국전력</td>\n",
       "      <td>32.290793</td>\n",
       "      <td>0.022079</td>\n",
       "      <td>1</td>\n",
       "      <td>18.994194</td>\n",
       "      <td>0.134566</td>\n",
       "    </tr>\n",
       "    <tr>\n",
       "      <th>3</th>\n",
       "      <td>5</td>\n",
       "      <td>005935</td>\n",
       "      <td>삼성전자우</td>\n",
       "      <td>24.888435</td>\n",
       "      <td>0.017018</td>\n",
       "      <td>14</td>\n",
       "      <td>1.386208</td>\n",
       "      <td>0.009821</td>\n",
       "    </tr>\n",
       "    <tr>\n",
       "      <th>4</th>\n",
       "      <td>6</td>\n",
       "      <td>012330</td>\n",
       "      <td>현대모비스</td>\n",
       "      <td>24.384638</td>\n",
       "      <td>0.016673</td>\n",
       "      <td>57</td>\n",
       "      <td>0.352366</td>\n",
       "      <td>0.002496</td>\n",
       "    </tr>\n",
       "    <tr>\n",
       "      <th>5</th>\n",
       "      <td>11</td>\n",
       "      <td>000270</td>\n",
       "      <td>기아차</td>\n",
       "      <td>21.889621</td>\n",
       "      <td>0.014967</td>\n",
       "      <td>15</td>\n",
       "      <td>1.378519</td>\n",
       "      <td>0.009766</td>\n",
       "    </tr>\n",
       "    <tr>\n",
       "      <th>6</th>\n",
       "      <td>15</td>\n",
       "      <td>017670</td>\n",
       "      <td>SK텔레콤</td>\n",
       "      <td>18.773378</td>\n",
       "      <td>0.012836</td>\n",
       "      <td>4</td>\n",
       "      <td>3.229820</td>\n",
       "      <td>0.022882</td>\n",
       "    </tr>\n",
       "    <tr>\n",
       "      <th>7</th>\n",
       "      <td>18</td>\n",
       "      <td>005490</td>\n",
       "      <td>POSCO</td>\n",
       "      <td>15.606443</td>\n",
       "      <td>0.010671</td>\n",
       "      <td>3</td>\n",
       "      <td>4.760822</td>\n",
       "      <td>0.033728</td>\n",
       "    </tr>\n",
       "    <tr>\n",
       "      <th>8</th>\n",
       "      <td>20</td>\n",
       "      <td>000810</td>\n",
       "      <td>삼성화재</td>\n",
       "      <td>15.136260</td>\n",
       "      <td>0.010349</td>\n",
       "      <td>29</td>\n",
       "      <td>0.857017</td>\n",
       "      <td>0.006072</td>\n",
       "    </tr>\n",
       "    <tr>\n",
       "      <th>9</th>\n",
       "      <td>22</td>\n",
       "      <td>003550</td>\n",
       "      <td>LG</td>\n",
       "      <td>12.890018</td>\n",
       "      <td>0.008814</td>\n",
       "      <td>23</td>\n",
       "      <td>1.078578</td>\n",
       "      <td>0.007641</td>\n",
       "    </tr>\n",
       "    <tr>\n",
       "      <th>10</th>\n",
       "      <td>24</td>\n",
       "      <td>002790</td>\n",
       "      <td>아모레G</td>\n",
       "      <td>12.088333</td>\n",
       "      <td>0.008265</td>\n",
       "      <td>164</td>\n",
       "      <td>0.153864</td>\n",
       "      <td>0.001090</td>\n",
       "    </tr>\n",
       "    <tr>\n",
       "      <th>11</th>\n",
       "      <td>26</td>\n",
       "      <td>010950</td>\n",
       "      <td>S-Oil</td>\n",
       "      <td>9.085431</td>\n",
       "      <td>0.006212</td>\n",
       "      <td>19</td>\n",
       "      <td>1.238411</td>\n",
       "      <td>0.008774</td>\n",
       "    </tr>\n",
       "    <tr>\n",
       "      <th>12</th>\n",
       "      <td>28</td>\n",
       "      <td>010130</td>\n",
       "      <td>고려아연</td>\n",
       "      <td>9.029295</td>\n",
       "      <td>0.006174</td>\n",
       "      <td>65</td>\n",
       "      <td>0.326800</td>\n",
       "      <td>0.002315</td>\n",
       "    </tr>\n",
       "    <tr>\n",
       "      <th>13</th>\n",
       "      <td>31</td>\n",
       "      <td>011170</td>\n",
       "      <td>롯데케미칼</td>\n",
       "      <td>8.346065</td>\n",
       "      <td>0.005707</td>\n",
       "      <td>44</td>\n",
       "      <td>0.465156</td>\n",
       "      <td>0.003295</td>\n",
       "    </tr>\n",
       "    <tr>\n",
       "      <th>14</th>\n",
       "      <td>32</td>\n",
       "      <td>006400</td>\n",
       "      <td>삼성SDI</td>\n",
       "      <td>8.045450</td>\n",
       "      <td>0.005501</td>\n",
       "      <td>28</td>\n",
       "      <td>0.896007</td>\n",
       "      <td>0.006348</td>\n",
       "    </tr>\n",
       "    <tr>\n",
       "      <th>15</th>\n",
       "      <td>37</td>\n",
       "      <td>001040</td>\n",
       "      <td>CJ</td>\n",
       "      <td>7.385405</td>\n",
       "      <td>0.005050</td>\n",
       "      <td>47</td>\n",
       "      <td>0.429933</td>\n",
       "      <td>0.003046</td>\n",
       "    </tr>\n",
       "    <tr>\n",
       "      <th>16</th>\n",
       "      <td>38</td>\n",
       "      <td>008930</td>\n",
       "      <td>한미사이언스</td>\n",
       "      <td>7.319747</td>\n",
       "      <td>0.005005</td>\n",
       "      <td>530</td>\n",
       "      <td>0.033400</td>\n",
       "      <td>0.000237</td>\n",
       "    </tr>\n",
       "    <tr>\n",
       "      <th>17</th>\n",
       "      <td>41</td>\n",
       "      <td>004020</td>\n",
       "      <td>현대제철</td>\n",
       "      <td>7.192728</td>\n",
       "      <td>0.004918</td>\n",
       "      <td>66</td>\n",
       "      <td>0.323400</td>\n",
       "      <td>0.002291</td>\n",
       "    </tr>\n",
       "    <tr>\n",
       "      <th>18</th>\n",
       "      <td>43</td>\n",
       "      <td>001800</td>\n",
       "      <td>오리온</td>\n",
       "      <td>7.009955</td>\n",
       "      <td>0.004793</td>\n",
       "      <td>283</td>\n",
       "      <td>0.085176</td>\n",
       "      <td>0.000603</td>\n",
       "    </tr>\n",
       "    <tr>\n",
       "      <th>19</th>\n",
       "      <td>48</td>\n",
       "      <td>000030</td>\n",
       "      <td>우리은행</td>\n",
       "      <td>6.192160</td>\n",
       "      <td>0.004234</td>\n",
       "      <td>18</td>\n",
       "      <td>1.317500</td>\n",
       "      <td>0.009334</td>\n",
       "    </tr>\n",
       "  </tbody>\n",
       "</table>\n",
       "</div>"
      ],
      "text/plain": [
       "    rank_2015    code    name  marcap_2015  marcap_pct_2015  rank_1995  \\\n",
       "0           1  005930    삼성전자   190.752641         0.130428          2   \n",
       "1           2  005380     현대차    33.371887         0.022818         13   \n",
       "2           3  015760    한국전력    32.290793         0.022079          1   \n",
       "3           5  005935   삼성전자우    24.888435         0.017018         14   \n",
       "4           6  012330   현대모비스    24.384638         0.016673         57   \n",
       "5          11  000270     기아차    21.889621         0.014967         15   \n",
       "6          15  017670   SK텔레콤    18.773378         0.012836          4   \n",
       "7          18  005490   POSCO    15.606443         0.010671          3   \n",
       "8          20  000810    삼성화재    15.136260         0.010349         29   \n",
       "9          22  003550      LG    12.890018         0.008814         23   \n",
       "10         24  002790    아모레G    12.088333         0.008265        164   \n",
       "11         26  010950   S-Oil     9.085431         0.006212         19   \n",
       "12         28  010130    고려아연     9.029295         0.006174         65   \n",
       "13         31  011170   롯데케미칼     8.346065         0.005707         44   \n",
       "14         32  006400   삼성SDI     8.045450         0.005501         28   \n",
       "15         37  001040      CJ     7.385405         0.005050         47   \n",
       "16         38  008930  한미사이언스     7.319747         0.005005        530   \n",
       "17         41  004020    현대제철     7.192728         0.004918         66   \n",
       "18         43  001800     오리온     7.009955         0.004793        283   \n",
       "19         48  000030    우리은행     6.192160         0.004234         18   \n",
       "\n",
       "    marcap_1995  marcap_pct_1995  \n",
       "0      7.665979         0.054310  \n",
       "1      1.408595         0.009979  \n",
       "2     18.994194         0.134566  \n",
       "3      1.386208         0.009821  \n",
       "4      0.352366         0.002496  \n",
       "5      1.378519         0.009766  \n",
       "6      3.229820         0.022882  \n",
       "7      4.760822         0.033728  \n",
       "8      0.857017         0.006072  \n",
       "9      1.078578         0.007641  \n",
       "10     0.153864         0.001090  \n",
       "11     1.238411         0.008774  \n",
       "12     0.326800         0.002315  \n",
       "13     0.465156         0.003295  \n",
       "14     0.896007         0.006348  \n",
       "15     0.429933         0.003046  \n",
       "16     0.033400         0.000237  \n",
       "17     0.323400         0.002291  \n",
       "18     0.085176         0.000603  \n",
       "19     1.317500         0.009334  "
      ]
     },
     "execution_count": 25,
     "metadata": {},
     "output_type": "execute_result"
    }
   ],
   "source": [
    "intersec = df_2015.merge(df_1995, how='inner', on=['code', 'name'], suffixes=('_2015', '_1995'))\n",
    "df_long = intersec[['rank_2015', 'code', 'name', 'marcap_2015', 'marcap_pct_2015', 'rank_1995', 'marcap_1995', 'marcap_pct_1995']]\n",
    "\n",
    "print (\"1995, 2015 공통 종목수: %d\" % len(df_long))\n",
    "df_long.head(20)"
   ]
  },
  {
   "cell_type": "markdown",
   "metadata": {
    "slideshow": {
     "slide_type": "notes"
    }
   },
   "source": [
    "이렇게 만들어진 테이블을 살펴보자. 위 표는 20년전부터 있었던 종목 487개 중에 현재 시가총액 상위 20개이다.\n",
    "독특한 종목을 몇 개 과거와 비교해 살펴보자. 한미사이언스는 시가총액 3백억(530위)였다가 7.3조(38위) 기업이 되었다. 시가총액으로 따지면 219배 성장한 것이다. 오리온의 약진(82배)도 눈에 띈다."
   ]
  },
  {
   "cell_type": "markdown",
   "metadata": {
    "slideshow": {
     "slide_type": "slide"
    }
   },
   "source": [
    "## DataFrame.style() 시각화"
   ]
  },
  {
   "cell_type": "markdown",
   "metadata": {
    "slideshow": {
     "slide_type": "fragment"
    }
   },
   "source": [
    "숫자 데이터를 좀 더 보기 쉽게 시각화 해주는 pandas의 style() 기능을 활용해 보자. \n",
    "이 기능은 pandas 0.17.1 (2015-11-21 배포)에 새롭게 추가된 기능으로 테이블 형태의 데이터를 보기 쉽게 시각화 해준다."
   ]
  },
  {
   "cell_type": "code",
   "execution_count": 26,
   "metadata": {
    "slideshow": {
     "slide_type": "fragment"
    }
   },
   "outputs": [
    {
     "data": {
      "text/html": [
       "<style  type=\"text/css\" >\n",
       "    #T_60ae4194_5794_11e7_b1f8_705ab6aefaa9row0_col8 {\n",
       "            width:  10em;\n",
       "             height:  80%;\n",
       "            background:  linear-gradient(90deg,#d65f5f 10.7%, transparent 0%);\n",
       "        }    #T_60ae4194_5794_11e7_b1f8_705ab6aefaa9row1_col8 {\n",
       "            width:  10em;\n",
       "             height:  80%;\n",
       "            background:  linear-gradient(90deg,#d65f5f 10.1%, transparent 0%);\n",
       "        }    #T_60ae4194_5794_11e7_b1f8_705ab6aefaa9row2_col8 {\n",
       "            width:  10em;\n",
       "             height:  80%;\n",
       "        }    #T_60ae4194_5794_11e7_b1f8_705ab6aefaa9row3_col8 {\n",
       "            width:  10em;\n",
       "             height:  80%;\n",
       "            background:  linear-gradient(90deg,#d65f5f 7.5%, transparent 0%);\n",
       "        }    #T_60ae4194_5794_11e7_b1f8_705ab6aefaa9row4_col8 {\n",
       "            width:  10em;\n",
       "             height:  80%;\n",
       "            background:  linear-gradient(90deg,#d65f5f 31.0%, transparent 0%);\n",
       "        }    #T_60ae4194_5794_11e7_b1f8_705ab6aefaa9row5_col8 {\n",
       "            width:  10em;\n",
       "             height:  80%;\n",
       "            background:  linear-gradient(90deg,#d65f5f 6.5%, transparent 0%);\n",
       "        }    #T_60ae4194_5794_11e7_b1f8_705ab6aefaa9row6_col8 {\n",
       "            width:  10em;\n",
       "             height:  80%;\n",
       "            background:  linear-gradient(90deg,#d65f5f 1.9%, transparent 0%);\n",
       "        }    #T_60ae4194_5794_11e7_b1f8_705ab6aefaa9row7_col8 {\n",
       "            width:  10em;\n",
       "             height:  80%;\n",
       "            background:  linear-gradient(90deg,#d65f5f 0.7%, transparent 0%);\n",
       "        }    #T_60ae4194_5794_11e7_b1f8_705ab6aefaa9row8_col8 {\n",
       "            width:  10em;\n",
       "             height:  80%;\n",
       "            background:  linear-gradient(90deg,#d65f5f 7.3%, transparent 0%);\n",
       "        }    #T_60ae4194_5794_11e7_b1f8_705ab6aefaa9row9_col8 {\n",
       "            width:  10em;\n",
       "             height:  80%;\n",
       "            background:  linear-gradient(90deg,#d65f5f 4.7%, transparent 0%);\n",
       "        }    #T_60ae4194_5794_11e7_b1f8_705ab6aefaa9row10_col8 {\n",
       "            width:  10em;\n",
       "             height:  80%;\n",
       "            background:  linear-gradient(90deg,#d65f5f 35.3%, transparent 0%);\n",
       "        }    #T_60ae4194_5794_11e7_b1f8_705ab6aefaa9row11_col8 {\n",
       "            width:  10em;\n",
       "             height:  80%;\n",
       "            background:  linear-gradient(90deg,#d65f5f 2.6%, transparent 0%);\n",
       "        }    #T_60ae4194_5794_11e7_b1f8_705ab6aefaa9row12_col8 {\n",
       "            width:  10em;\n",
       "             height:  80%;\n",
       "            background:  linear-gradient(90deg,#d65f5f 11.9%, transparent 0%);\n",
       "        }    #T_60ae4194_5794_11e7_b1f8_705ab6aefaa9row13_col8 {\n",
       "            width:  10em;\n",
       "             height:  80%;\n",
       "            background:  linear-gradient(90deg,#d65f5f 7.5%, transparent 0%);\n",
       "        }    #T_60ae4194_5794_11e7_b1f8_705ab6aefaa9row14_col8 {\n",
       "            width:  10em;\n",
       "             height:  80%;\n",
       "            background:  linear-gradient(90deg,#d65f5f 3.3%, transparent 0%);\n",
       "        }    #T_60ae4194_5794_11e7_b1f8_705ab6aefaa9row15_col8 {\n",
       "            width:  10em;\n",
       "             height:  80%;\n",
       "            background:  linear-gradient(90deg,#d65f5f 7.1%, transparent 0%);\n",
       "        }    #T_60ae4194_5794_11e7_b1f8_705ab6aefaa9row16_col8 {\n",
       "            width:  10em;\n",
       "             height:  80%;\n",
       "            background:  linear-gradient(90deg,#d65f5f 100.0%, transparent 0%);\n",
       "        }    #T_60ae4194_5794_11e7_b1f8_705ab6aefaa9row17_col8 {\n",
       "            width:  10em;\n",
       "             height:  80%;\n",
       "            background:  linear-gradient(90deg,#d65f5f 9.4%, transparent 0%);\n",
       "        }    #T_60ae4194_5794_11e7_b1f8_705ab6aefaa9row18_col8 {\n",
       "            width:  10em;\n",
       "             height:  80%;\n",
       "            background:  linear-gradient(90deg,#d65f5f 37.1%, transparent 0%);\n",
       "        }    #T_60ae4194_5794_11e7_b1f8_705ab6aefaa9row19_col8 {\n",
       "            width:  10em;\n",
       "             height:  80%;\n",
       "            background:  linear-gradient(90deg,#d65f5f 1.4%, transparent 0%);\n",
       "        }</style>  \n",
       "<table id=\"T_60ae4194_5794_11e7_b1f8_705ab6aefaa9\" > \n",
       "<thead>    <tr> \n",
       "        <th class=\"blank level0\" ></th> \n",
       "        <th class=\"col_heading level0 col0\" >rank_2015</th> \n",
       "        <th class=\"col_heading level0 col1\" >code</th> \n",
       "        <th class=\"col_heading level0 col2\" >name</th> \n",
       "        <th class=\"col_heading level0 col3\" >marcap_2015</th> \n",
       "        <th class=\"col_heading level0 col4\" >marcap_pct_2015</th> \n",
       "        <th class=\"col_heading level0 col5\" >rank_1995</th> \n",
       "        <th class=\"col_heading level0 col6\" >marcap_1995</th> \n",
       "        <th class=\"col_heading level0 col7\" >marcap_pct_1995</th> \n",
       "        <th class=\"col_heading level0 col8\" >growth</th> \n",
       "    </tr></thead> \n",
       "<tbody>    <tr> \n",
       "        <th id=\"T_60ae4194_5794_11e7_b1f8_705ab6aefaa9\" class=\"row_heading level0 row0\" >0</th> \n",
       "        <td id=\"T_60ae4194_5794_11e7_b1f8_705ab6aefaa9row0_col0\" class=\"data row0 col0\" >1</td> \n",
       "        <td id=\"T_60ae4194_5794_11e7_b1f8_705ab6aefaa9row0_col1\" class=\"data row0 col1\" >005930</td> \n",
       "        <td id=\"T_60ae4194_5794_11e7_b1f8_705ab6aefaa9row0_col2\" class=\"data row0 col2\" >삼성전자</td> \n",
       "        <td id=\"T_60ae4194_5794_11e7_b1f8_705ab6aefaa9row0_col3\" class=\"data row0 col3\" >190.753</td> \n",
       "        <td id=\"T_60ae4194_5794_11e7_b1f8_705ab6aefaa9row0_col4\" class=\"data row0 col4\" >0.130428</td> \n",
       "        <td id=\"T_60ae4194_5794_11e7_b1f8_705ab6aefaa9row0_col5\" class=\"data row0 col5\" >2</td> \n",
       "        <td id=\"T_60ae4194_5794_11e7_b1f8_705ab6aefaa9row0_col6\" class=\"data row0 col6\" >7.66598</td> \n",
       "        <td id=\"T_60ae4194_5794_11e7_b1f8_705ab6aefaa9row0_col7\" class=\"data row0 col7\" >0.0543103</td> \n",
       "        <td id=\"T_60ae4194_5794_11e7_b1f8_705ab6aefaa9row0_col8\" class=\"data row0 col8\" >24.883</td> \n",
       "    </tr>    <tr> \n",
       "        <th id=\"T_60ae4194_5794_11e7_b1f8_705ab6aefaa9\" class=\"row_heading level0 row1\" >1</th> \n",
       "        <td id=\"T_60ae4194_5794_11e7_b1f8_705ab6aefaa9row1_col0\" class=\"data row1 col0\" >2</td> \n",
       "        <td id=\"T_60ae4194_5794_11e7_b1f8_705ab6aefaa9row1_col1\" class=\"data row1 col1\" >005380</td> \n",
       "        <td id=\"T_60ae4194_5794_11e7_b1f8_705ab6aefaa9row1_col2\" class=\"data row1 col2\" >현대차</td> \n",
       "        <td id=\"T_60ae4194_5794_11e7_b1f8_705ab6aefaa9row1_col3\" class=\"data row1 col3\" >33.3719</td> \n",
       "        <td id=\"T_60ae4194_5794_11e7_b1f8_705ab6aefaa9row1_col4\" class=\"data row1 col4\" >0.0228181</td> \n",
       "        <td id=\"T_60ae4194_5794_11e7_b1f8_705ab6aefaa9row1_col5\" class=\"data row1 col5\" >13</td> \n",
       "        <td id=\"T_60ae4194_5794_11e7_b1f8_705ab6aefaa9row1_col6\" class=\"data row1 col6\" >1.4086</td> \n",
       "        <td id=\"T_60ae4194_5794_11e7_b1f8_705ab6aefaa9row1_col7\" class=\"data row1 col7\" >0.00997932</td> \n",
       "        <td id=\"T_60ae4194_5794_11e7_b1f8_705ab6aefaa9row1_col8\" class=\"data row1 col8\" >23.6916</td> \n",
       "    </tr>    <tr> \n",
       "        <th id=\"T_60ae4194_5794_11e7_b1f8_705ab6aefaa9\" class=\"row_heading level0 row2\" >2</th> \n",
       "        <td id=\"T_60ae4194_5794_11e7_b1f8_705ab6aefaa9row2_col0\" class=\"data row2 col0\" >3</td> \n",
       "        <td id=\"T_60ae4194_5794_11e7_b1f8_705ab6aefaa9row2_col1\" class=\"data row2 col1\" >015760</td> \n",
       "        <td id=\"T_60ae4194_5794_11e7_b1f8_705ab6aefaa9row2_col2\" class=\"data row2 col2\" >한국전력</td> \n",
       "        <td id=\"T_60ae4194_5794_11e7_b1f8_705ab6aefaa9row2_col3\" class=\"data row2 col3\" >32.2908</td> \n",
       "        <td id=\"T_60ae4194_5794_11e7_b1f8_705ab6aefaa9row2_col4\" class=\"data row2 col4\" >0.0220789</td> \n",
       "        <td id=\"T_60ae4194_5794_11e7_b1f8_705ab6aefaa9row2_col5\" class=\"data row2 col5\" >1</td> \n",
       "        <td id=\"T_60ae4194_5794_11e7_b1f8_705ab6aefaa9row2_col6\" class=\"data row2 col6\" >18.9942</td> \n",
       "        <td id=\"T_60ae4194_5794_11e7_b1f8_705ab6aefaa9row2_col7\" class=\"data row2 col7\" >0.134566</td> \n",
       "        <td id=\"T_60ae4194_5794_11e7_b1f8_705ab6aefaa9row2_col8\" class=\"data row2 col8\" >1.70003</td> \n",
       "    </tr>    <tr> \n",
       "        <th id=\"T_60ae4194_5794_11e7_b1f8_705ab6aefaa9\" class=\"row_heading level0 row3\" >3</th> \n",
       "        <td id=\"T_60ae4194_5794_11e7_b1f8_705ab6aefaa9row3_col0\" class=\"data row3 col0\" >5</td> \n",
       "        <td id=\"T_60ae4194_5794_11e7_b1f8_705ab6aefaa9row3_col1\" class=\"data row3 col1\" >005935</td> \n",
       "        <td id=\"T_60ae4194_5794_11e7_b1f8_705ab6aefaa9row3_col2\" class=\"data row3 col2\" >삼성전자우</td> \n",
       "        <td id=\"T_60ae4194_5794_11e7_b1f8_705ab6aefaa9row3_col3\" class=\"data row3 col3\" >24.8884</td> \n",
       "        <td id=\"T_60ae4194_5794_11e7_b1f8_705ab6aefaa9row3_col4\" class=\"data row3 col4\" >0.0170176</td> \n",
       "        <td id=\"T_60ae4194_5794_11e7_b1f8_705ab6aefaa9row3_col5\" class=\"data row3 col5\" >14</td> \n",
       "        <td id=\"T_60ae4194_5794_11e7_b1f8_705ab6aefaa9row3_col6\" class=\"data row3 col6\" >1.38621</td> \n",
       "        <td id=\"T_60ae4194_5794_11e7_b1f8_705ab6aefaa9row3_col7\" class=\"data row3 col7\" >0.00982072</td> \n",
       "        <td id=\"T_60ae4194_5794_11e7_b1f8_705ab6aefaa9row3_col8\" class=\"data row3 col8\" >17.9543</td> \n",
       "    </tr>    <tr> \n",
       "        <th id=\"T_60ae4194_5794_11e7_b1f8_705ab6aefaa9\" class=\"row_heading level0 row4\" >4</th> \n",
       "        <td id=\"T_60ae4194_5794_11e7_b1f8_705ab6aefaa9row4_col0\" class=\"data row4 col0\" >6</td> \n",
       "        <td id=\"T_60ae4194_5794_11e7_b1f8_705ab6aefaa9row4_col1\" class=\"data row4 col1\" >012330</td> \n",
       "        <td id=\"T_60ae4194_5794_11e7_b1f8_705ab6aefaa9row4_col2\" class=\"data row4 col2\" >현대모비스</td> \n",
       "        <td id=\"T_60ae4194_5794_11e7_b1f8_705ab6aefaa9row4_col3\" class=\"data row4 col3\" >24.3846</td> \n",
       "        <td id=\"T_60ae4194_5794_11e7_b1f8_705ab6aefaa9row4_col4\" class=\"data row4 col4\" >0.0166731</td> \n",
       "        <td id=\"T_60ae4194_5794_11e7_b1f8_705ab6aefaa9row4_col5\" class=\"data row4 col5\" >57</td> \n",
       "        <td id=\"T_60ae4194_5794_11e7_b1f8_705ab6aefaa9row4_col6\" class=\"data row4 col6\" >0.352366</td> \n",
       "        <td id=\"T_60ae4194_5794_11e7_b1f8_705ab6aefaa9row4_col7\" class=\"data row4 col7\" >0.00249637</td> \n",
       "        <td id=\"T_60ae4194_5794_11e7_b1f8_705ab6aefaa9row4_col8\" class=\"data row4 col8\" >69.2026</td> \n",
       "    </tr>    <tr> \n",
       "        <th id=\"T_60ae4194_5794_11e7_b1f8_705ab6aefaa9\" class=\"row_heading level0 row5\" >5</th> \n",
       "        <td id=\"T_60ae4194_5794_11e7_b1f8_705ab6aefaa9row5_col0\" class=\"data row5 col0\" >11</td> \n",
       "        <td id=\"T_60ae4194_5794_11e7_b1f8_705ab6aefaa9row5_col1\" class=\"data row5 col1\" >000270</td> \n",
       "        <td id=\"T_60ae4194_5794_11e7_b1f8_705ab6aefaa9row5_col2\" class=\"data row5 col2\" >기아차</td> \n",
       "        <td id=\"T_60ae4194_5794_11e7_b1f8_705ab6aefaa9row5_col3\" class=\"data row5 col3\" >21.8896</td> \n",
       "        <td id=\"T_60ae4194_5794_11e7_b1f8_705ab6aefaa9row5_col4\" class=\"data row5 col4\" >0.0149671</td> \n",
       "        <td id=\"T_60ae4194_5794_11e7_b1f8_705ab6aefaa9row5_col5\" class=\"data row5 col5\" >15</td> \n",
       "        <td id=\"T_60ae4194_5794_11e7_b1f8_705ab6aefaa9row5_col6\" class=\"data row5 col6\" >1.37852</td> \n",
       "        <td id=\"T_60ae4194_5794_11e7_b1f8_705ab6aefaa9row5_col7\" class=\"data row5 col7\" >0.00976624</td> \n",
       "        <td id=\"T_60ae4194_5794_11e7_b1f8_705ab6aefaa9row5_col8\" class=\"data row5 col8\" >15.8791</td> \n",
       "    </tr>    <tr> \n",
       "        <th id=\"T_60ae4194_5794_11e7_b1f8_705ab6aefaa9\" class=\"row_heading level0 row6\" >6</th> \n",
       "        <td id=\"T_60ae4194_5794_11e7_b1f8_705ab6aefaa9row6_col0\" class=\"data row6 col0\" >15</td> \n",
       "        <td id=\"T_60ae4194_5794_11e7_b1f8_705ab6aefaa9row6_col1\" class=\"data row6 col1\" >017670</td> \n",
       "        <td id=\"T_60ae4194_5794_11e7_b1f8_705ab6aefaa9row6_col2\" class=\"data row6 col2\" >SK텔레콤</td> \n",
       "        <td id=\"T_60ae4194_5794_11e7_b1f8_705ab6aefaa9row6_col3\" class=\"data row6 col3\" >18.7734</td> \n",
       "        <td id=\"T_60ae4194_5794_11e7_b1f8_705ab6aefaa9row6_col4\" class=\"data row6 col4\" >0.0128364</td> \n",
       "        <td id=\"T_60ae4194_5794_11e7_b1f8_705ab6aefaa9row6_col5\" class=\"data row6 col5\" >4</td> \n",
       "        <td id=\"T_60ae4194_5794_11e7_b1f8_705ab6aefaa9row6_col6\" class=\"data row6 col6\" >3.22982</td> \n",
       "        <td id=\"T_60ae4194_5794_11e7_b1f8_705ab6aefaa9row6_col7\" class=\"data row6 col7\" >0.022882</td> \n",
       "        <td id=\"T_60ae4194_5794_11e7_b1f8_705ab6aefaa9row6_col8\" class=\"data row6 col8\" >5.81252</td> \n",
       "    </tr>    <tr> \n",
       "        <th id=\"T_60ae4194_5794_11e7_b1f8_705ab6aefaa9\" class=\"row_heading level0 row7\" >7</th> \n",
       "        <td id=\"T_60ae4194_5794_11e7_b1f8_705ab6aefaa9row7_col0\" class=\"data row7 col0\" >18</td> \n",
       "        <td id=\"T_60ae4194_5794_11e7_b1f8_705ab6aefaa9row7_col1\" class=\"data row7 col1\" >005490</td> \n",
       "        <td id=\"T_60ae4194_5794_11e7_b1f8_705ab6aefaa9row7_col2\" class=\"data row7 col2\" >POSCO</td> \n",
       "        <td id=\"T_60ae4194_5794_11e7_b1f8_705ab6aefaa9row7_col3\" class=\"data row7 col3\" >15.6064</td> \n",
       "        <td id=\"T_60ae4194_5794_11e7_b1f8_705ab6aefaa9row7_col4\" class=\"data row7 col4\" >0.010671</td> \n",
       "        <td id=\"T_60ae4194_5794_11e7_b1f8_705ab6aefaa9row7_col5\" class=\"data row7 col5\" >3</td> \n",
       "        <td id=\"T_60ae4194_5794_11e7_b1f8_705ab6aefaa9row7_col6\" class=\"data row7 col6\" >4.76082</td> \n",
       "        <td id=\"T_60ae4194_5794_11e7_b1f8_705ab6aefaa9row7_col7\" class=\"data row7 col7\" >0.0337285</td> \n",
       "        <td id=\"T_60ae4194_5794_11e7_b1f8_705ab6aefaa9row7_col8\" class=\"data row7 col8\" >3.2781</td> \n",
       "    </tr>    <tr> \n",
       "        <th id=\"T_60ae4194_5794_11e7_b1f8_705ab6aefaa9\" class=\"row_heading level0 row8\" >8</th> \n",
       "        <td id=\"T_60ae4194_5794_11e7_b1f8_705ab6aefaa9row8_col0\" class=\"data row8 col0\" >20</td> \n",
       "        <td id=\"T_60ae4194_5794_11e7_b1f8_705ab6aefaa9row8_col1\" class=\"data row8 col1\" >000810</td> \n",
       "        <td id=\"T_60ae4194_5794_11e7_b1f8_705ab6aefaa9row8_col2\" class=\"data row8 col2\" >삼성화재</td> \n",
       "        <td id=\"T_60ae4194_5794_11e7_b1f8_705ab6aefaa9row8_col3\" class=\"data row8 col3\" >15.1363</td> \n",
       "        <td id=\"T_60ae4194_5794_11e7_b1f8_705ab6aefaa9row8_col4\" class=\"data row8 col4\" >0.0103495</td> \n",
       "        <td id=\"T_60ae4194_5794_11e7_b1f8_705ab6aefaa9row8_col5\" class=\"data row8 col5\" >29</td> \n",
       "        <td id=\"T_60ae4194_5794_11e7_b1f8_705ab6aefaa9row8_col6\" class=\"data row8 col6\" >0.857017</td> \n",
       "        <td id=\"T_60ae4194_5794_11e7_b1f8_705ab6aefaa9row8_col7\" class=\"data row8 col7\" >0.00607162</td> \n",
       "        <td id=\"T_60ae4194_5794_11e7_b1f8_705ab6aefaa9row8_col8\" class=\"data row8 col8\" >17.6616</td> \n",
       "    </tr>    <tr> \n",
       "        <th id=\"T_60ae4194_5794_11e7_b1f8_705ab6aefaa9\" class=\"row_heading level0 row9\" >9</th> \n",
       "        <td id=\"T_60ae4194_5794_11e7_b1f8_705ab6aefaa9row9_col0\" class=\"data row9 col0\" >22</td> \n",
       "        <td id=\"T_60ae4194_5794_11e7_b1f8_705ab6aefaa9row9_col1\" class=\"data row9 col1\" >003550</td> \n",
       "        <td id=\"T_60ae4194_5794_11e7_b1f8_705ab6aefaa9row9_col2\" class=\"data row9 col2\" >LG</td> \n",
       "        <td id=\"T_60ae4194_5794_11e7_b1f8_705ab6aefaa9row9_col3\" class=\"data row9 col3\" >12.89</td> \n",
       "        <td id=\"T_60ae4194_5794_11e7_b1f8_705ab6aefaa9row9_col4\" class=\"data row9 col4\" >0.00881359</td> \n",
       "        <td id=\"T_60ae4194_5794_11e7_b1f8_705ab6aefaa9row9_col5\" class=\"data row9 col5\" >23</td> \n",
       "        <td id=\"T_60ae4194_5794_11e7_b1f8_705ab6aefaa9row9_col6\" class=\"data row9 col6\" >1.07858</td> \n",
       "        <td id=\"T_60ae4194_5794_11e7_b1f8_705ab6aefaa9row9_col7\" class=\"data row9 col7\" >0.00764129</td> \n",
       "        <td id=\"T_60ae4194_5794_11e7_b1f8_705ab6aefaa9row9_col8\" class=\"data row9 col8\" >11.9509</td> \n",
       "    </tr>    <tr> \n",
       "        <th id=\"T_60ae4194_5794_11e7_b1f8_705ab6aefaa9\" class=\"row_heading level0 row10\" >10</th> \n",
       "        <td id=\"T_60ae4194_5794_11e7_b1f8_705ab6aefaa9row10_col0\" class=\"data row10 col0\" >24</td> \n",
       "        <td id=\"T_60ae4194_5794_11e7_b1f8_705ab6aefaa9row10_col1\" class=\"data row10 col1\" >002790</td> \n",
       "        <td id=\"T_60ae4194_5794_11e7_b1f8_705ab6aefaa9row10_col2\" class=\"data row10 col2\" >아모레G</td> \n",
       "        <td id=\"T_60ae4194_5794_11e7_b1f8_705ab6aefaa9row10_col3\" class=\"data row10 col3\" >12.0883</td> \n",
       "        <td id=\"T_60ae4194_5794_11e7_b1f8_705ab6aefaa9row10_col4\" class=\"data row10 col4\" >0.00826544</td> \n",
       "        <td id=\"T_60ae4194_5794_11e7_b1f8_705ab6aefaa9row10_col5\" class=\"data row10 col5\" >164</td> \n",
       "        <td id=\"T_60ae4194_5794_11e7_b1f8_705ab6aefaa9row10_col6\" class=\"data row10 col6\" >0.153864</td> \n",
       "        <td id=\"T_60ae4194_5794_11e7_b1f8_705ab6aefaa9row10_col7\" class=\"data row10 col7\" >0.00109006</td> \n",
       "        <td id=\"T_60ae4194_5794_11e7_b1f8_705ab6aefaa9row10_col8\" class=\"data row10 col8\" >78.5651</td> \n",
       "    </tr>    <tr> \n",
       "        <th id=\"T_60ae4194_5794_11e7_b1f8_705ab6aefaa9\" class=\"row_heading level0 row11\" >11</th> \n",
       "        <td id=\"T_60ae4194_5794_11e7_b1f8_705ab6aefaa9row11_col0\" class=\"data row11 col0\" >26</td> \n",
       "        <td id=\"T_60ae4194_5794_11e7_b1f8_705ab6aefaa9row11_col1\" class=\"data row11 col1\" >010950</td> \n",
       "        <td id=\"T_60ae4194_5794_11e7_b1f8_705ab6aefaa9row11_col2\" class=\"data row11 col2\" >S-Oil</td> \n",
       "        <td id=\"T_60ae4194_5794_11e7_b1f8_705ab6aefaa9row11_col3\" class=\"data row11 col3\" >9.08543</td> \n",
       "        <td id=\"T_60ae4194_5794_11e7_b1f8_705ab6aefaa9row11_col4\" class=\"data row11 col4\" >0.00621219</td> \n",
       "        <td id=\"T_60ae4194_5794_11e7_b1f8_705ab6aefaa9row11_col5\" class=\"data row11 col5\" >19</td> \n",
       "        <td id=\"T_60ae4194_5794_11e7_b1f8_705ab6aefaa9row11_col6\" class=\"data row11 col6\" >1.23841</td> \n",
       "        <td id=\"T_60ae4194_5794_11e7_b1f8_705ab6aefaa9row11_col7\" class=\"data row11 col7\" >0.00877364</td> \n",
       "        <td id=\"T_60ae4194_5794_11e7_b1f8_705ab6aefaa9row11_col8\" class=\"data row11 col8\" >7.33636</td> \n",
       "    </tr>    <tr> \n",
       "        <th id=\"T_60ae4194_5794_11e7_b1f8_705ab6aefaa9\" class=\"row_heading level0 row12\" >12</th> \n",
       "        <td id=\"T_60ae4194_5794_11e7_b1f8_705ab6aefaa9row12_col0\" class=\"data row12 col0\" >28</td> \n",
       "        <td id=\"T_60ae4194_5794_11e7_b1f8_705ab6aefaa9row12_col1\" class=\"data row12 col1\" >010130</td> \n",
       "        <td id=\"T_60ae4194_5794_11e7_b1f8_705ab6aefaa9row12_col2\" class=\"data row12 col2\" >고려아연</td> \n",
       "        <td id=\"T_60ae4194_5794_11e7_b1f8_705ab6aefaa9row12_col3\" class=\"data row12 col3\" >9.02929</td> \n",
       "        <td id=\"T_60ae4194_5794_11e7_b1f8_705ab6aefaa9row12_col4\" class=\"data row12 col4\" >0.00617381</td> \n",
       "        <td id=\"T_60ae4194_5794_11e7_b1f8_705ab6aefaa9row12_col5\" class=\"data row12 col5\" >65</td> \n",
       "        <td id=\"T_60ae4194_5794_11e7_b1f8_705ab6aefaa9row12_col6\" class=\"data row12 col6\" >0.3268</td> \n",
       "        <td id=\"T_60ae4194_5794_11e7_b1f8_705ab6aefaa9row12_col7\" class=\"data row12 col7\" >0.00231524</td> \n",
       "        <td id=\"T_60ae4194_5794_11e7_b1f8_705ab6aefaa9row12_col8\" class=\"data row12 col8\" >27.6294</td> \n",
       "    </tr>    <tr> \n",
       "        <th id=\"T_60ae4194_5794_11e7_b1f8_705ab6aefaa9\" class=\"row_heading level0 row13\" >13</th> \n",
       "        <td id=\"T_60ae4194_5794_11e7_b1f8_705ab6aefaa9row13_col0\" class=\"data row13 col0\" >31</td> \n",
       "        <td id=\"T_60ae4194_5794_11e7_b1f8_705ab6aefaa9row13_col1\" class=\"data row13 col1\" >011170</td> \n",
       "        <td id=\"T_60ae4194_5794_11e7_b1f8_705ab6aefaa9row13_col2\" class=\"data row13 col2\" >롯데케미칼</td> \n",
       "        <td id=\"T_60ae4194_5794_11e7_b1f8_705ab6aefaa9row13_col3\" class=\"data row13 col3\" >8.34606</td> \n",
       "        <td id=\"T_60ae4194_5794_11e7_b1f8_705ab6aefaa9row13_col4\" class=\"data row13 col4\" >0.00570665</td> \n",
       "        <td id=\"T_60ae4194_5794_11e7_b1f8_705ab6aefaa9row13_col5\" class=\"data row13 col5\" >44</td> \n",
       "        <td id=\"T_60ae4194_5794_11e7_b1f8_705ab6aefaa9row13_col6\" class=\"data row13 col6\" >0.465156</td> \n",
       "        <td id=\"T_60ae4194_5794_11e7_b1f8_705ab6aefaa9row13_col7\" class=\"data row13 col7\" >0.00329544</td> \n",
       "        <td id=\"T_60ae4194_5794_11e7_b1f8_705ab6aefaa9row13_col8\" class=\"data row13 col8\" >17.9425</td> \n",
       "    </tr>    <tr> \n",
       "        <th id=\"T_60ae4194_5794_11e7_b1f8_705ab6aefaa9\" class=\"row_heading level0 row14\" >14</th> \n",
       "        <td id=\"T_60ae4194_5794_11e7_b1f8_705ab6aefaa9row14_col0\" class=\"data row14 col0\" >32</td> \n",
       "        <td id=\"T_60ae4194_5794_11e7_b1f8_705ab6aefaa9row14_col1\" class=\"data row14 col1\" >006400</td> \n",
       "        <td id=\"T_60ae4194_5794_11e7_b1f8_705ab6aefaa9row14_col2\" class=\"data row14 col2\" >삼성SDI</td> \n",
       "        <td id=\"T_60ae4194_5794_11e7_b1f8_705ab6aefaa9row14_col3\" class=\"data row14 col3\" >8.04545</td> \n",
       "        <td id=\"T_60ae4194_5794_11e7_b1f8_705ab6aefaa9row14_col4\" class=\"data row14 col4\" >0.0055011</td> \n",
       "        <td id=\"T_60ae4194_5794_11e7_b1f8_705ab6aefaa9row14_col5\" class=\"data row14 col5\" >28</td> \n",
       "        <td id=\"T_60ae4194_5794_11e7_b1f8_705ab6aefaa9row14_col6\" class=\"data row14 col6\" >0.896007</td> \n",
       "        <td id=\"T_60ae4194_5794_11e7_b1f8_705ab6aefaa9row14_col7\" class=\"data row14 col7\" >0.00634784</td> \n",
       "        <td id=\"T_60ae4194_5794_11e7_b1f8_705ab6aefaa9row14_col8\" class=\"data row14 col8\" >8.97923</td> \n",
       "    </tr>    <tr> \n",
       "        <th id=\"T_60ae4194_5794_11e7_b1f8_705ab6aefaa9\" class=\"row_heading level0 row15\" >15</th> \n",
       "        <td id=\"T_60ae4194_5794_11e7_b1f8_705ab6aefaa9row15_col0\" class=\"data row15 col0\" >37</td> \n",
       "        <td id=\"T_60ae4194_5794_11e7_b1f8_705ab6aefaa9row15_col1\" class=\"data row15 col1\" >001040</td> \n",
       "        <td id=\"T_60ae4194_5794_11e7_b1f8_705ab6aefaa9row15_col2\" class=\"data row15 col2\" >CJ</td> \n",
       "        <td id=\"T_60ae4194_5794_11e7_b1f8_705ab6aefaa9row15_col3\" class=\"data row15 col3\" >7.38541</td> \n",
       "        <td id=\"T_60ae4194_5794_11e7_b1f8_705ab6aefaa9row15_col4\" class=\"data row15 col4\" >0.0050498</td> \n",
       "        <td id=\"T_60ae4194_5794_11e7_b1f8_705ab6aefaa9row15_col5\" class=\"data row15 col5\" >47</td> \n",
       "        <td id=\"T_60ae4194_5794_11e7_b1f8_705ab6aefaa9row15_col6\" class=\"data row15 col6\" >0.429933</td> \n",
       "        <td id=\"T_60ae4194_5794_11e7_b1f8_705ab6aefaa9row15_col7\" class=\"data row15 col7\" >0.0030459</td> \n",
       "        <td id=\"T_60ae4194_5794_11e7_b1f8_705ab6aefaa9row15_col8\" class=\"data row15 col8\" >17.178</td> \n",
       "    </tr>    <tr> \n",
       "        <th id=\"T_60ae4194_5794_11e7_b1f8_705ab6aefaa9\" class=\"row_heading level0 row16\" >16</th> \n",
       "        <td id=\"T_60ae4194_5794_11e7_b1f8_705ab6aefaa9row16_col0\" class=\"data row16 col0\" >38</td> \n",
       "        <td id=\"T_60ae4194_5794_11e7_b1f8_705ab6aefaa9row16_col1\" class=\"data row16 col1\" >008930</td> \n",
       "        <td id=\"T_60ae4194_5794_11e7_b1f8_705ab6aefaa9row16_col2\" class=\"data row16 col2\" >한미사이언스</td> \n",
       "        <td id=\"T_60ae4194_5794_11e7_b1f8_705ab6aefaa9row16_col3\" class=\"data row16 col3\" >7.31975</td> \n",
       "        <td id=\"T_60ae4194_5794_11e7_b1f8_705ab6aefaa9row16_col4\" class=\"data row16 col4\" >0.0050049</td> \n",
       "        <td id=\"T_60ae4194_5794_11e7_b1f8_705ab6aefaa9row16_col5\" class=\"data row16 col5\" >530</td> \n",
       "        <td id=\"T_60ae4194_5794_11e7_b1f8_705ab6aefaa9row16_col6\" class=\"data row16 col6\" >0.0334</td> \n",
       "        <td id=\"T_60ae4194_5794_11e7_b1f8_705ab6aefaa9row16_col7\" class=\"data row16 col7\" >0.000236625</td> \n",
       "        <td id=\"T_60ae4194_5794_11e7_b1f8_705ab6aefaa9row16_col8\" class=\"data row16 col8\" >219.154</td> \n",
       "    </tr>    <tr> \n",
       "        <th id=\"T_60ae4194_5794_11e7_b1f8_705ab6aefaa9\" class=\"row_heading level0 row17\" >17</th> \n",
       "        <td id=\"T_60ae4194_5794_11e7_b1f8_705ab6aefaa9row17_col0\" class=\"data row17 col0\" >41</td> \n",
       "        <td id=\"T_60ae4194_5794_11e7_b1f8_705ab6aefaa9row17_col1\" class=\"data row17 col1\" >004020</td> \n",
       "        <td id=\"T_60ae4194_5794_11e7_b1f8_705ab6aefaa9row17_col2\" class=\"data row17 col2\" >현대제철</td> \n",
       "        <td id=\"T_60ae4194_5794_11e7_b1f8_705ab6aefaa9row17_col3\" class=\"data row17 col3\" >7.19273</td> \n",
       "        <td id=\"T_60ae4194_5794_11e7_b1f8_705ab6aefaa9row17_col4\" class=\"data row17 col4\" >0.00491805</td> \n",
       "        <td id=\"T_60ae4194_5794_11e7_b1f8_705ab6aefaa9row17_col5\" class=\"data row17 col5\" >66</td> \n",
       "        <td id=\"T_60ae4194_5794_11e7_b1f8_705ab6aefaa9row17_col6\" class=\"data row17 col6\" >0.3234</td> \n",
       "        <td id=\"T_60ae4194_5794_11e7_b1f8_705ab6aefaa9row17_col7\" class=\"data row17 col7\" >0.00229116</td> \n",
       "        <td id=\"T_60ae4194_5794_11e7_b1f8_705ab6aefaa9row17_col8\" class=\"data row17 col8\" >22.241</td> \n",
       "    </tr>    <tr> \n",
       "        <th id=\"T_60ae4194_5794_11e7_b1f8_705ab6aefaa9\" class=\"row_heading level0 row18\" >18</th> \n",
       "        <td id=\"T_60ae4194_5794_11e7_b1f8_705ab6aefaa9row18_col0\" class=\"data row18 col0\" >43</td> \n",
       "        <td id=\"T_60ae4194_5794_11e7_b1f8_705ab6aefaa9row18_col1\" class=\"data row18 col1\" >001800</td> \n",
       "        <td id=\"T_60ae4194_5794_11e7_b1f8_705ab6aefaa9row18_col2\" class=\"data row18 col2\" >오리온</td> \n",
       "        <td id=\"T_60ae4194_5794_11e7_b1f8_705ab6aefaa9row18_col3\" class=\"data row18 col3\" >7.00996</td> \n",
       "        <td id=\"T_60ae4194_5794_11e7_b1f8_705ab6aefaa9row18_col4\" class=\"data row18 col4\" >0.00479308</td> \n",
       "        <td id=\"T_60ae4194_5794_11e7_b1f8_705ab6aefaa9row18_col5\" class=\"data row18 col5\" >283</td> \n",
       "        <td id=\"T_60ae4194_5794_11e7_b1f8_705ab6aefaa9row18_col6\" class=\"data row18 col6\" >0.085176</td> \n",
       "        <td id=\"T_60ae4194_5794_11e7_b1f8_705ab6aefaa9row18_col7\" class=\"data row18 col7\" >0.000603437</td> \n",
       "        <td id=\"T_60ae4194_5794_11e7_b1f8_705ab6aefaa9row18_col8\" class=\"data row18 col8\" >82.2997</td> \n",
       "    </tr>    <tr> \n",
       "        <th id=\"T_60ae4194_5794_11e7_b1f8_705ab6aefaa9\" class=\"row_heading level0 row19\" >19</th> \n",
       "        <td id=\"T_60ae4194_5794_11e7_b1f8_705ab6aefaa9row19_col0\" class=\"data row19 col0\" >48</td> \n",
       "        <td id=\"T_60ae4194_5794_11e7_b1f8_705ab6aefaa9row19_col1\" class=\"data row19 col1\" >000030</td> \n",
       "        <td id=\"T_60ae4194_5794_11e7_b1f8_705ab6aefaa9row19_col2\" class=\"data row19 col2\" >우리은행</td> \n",
       "        <td id=\"T_60ae4194_5794_11e7_b1f8_705ab6aefaa9row19_col3\" class=\"data row19 col3\" >6.19216</td> \n",
       "        <td id=\"T_60ae4194_5794_11e7_b1f8_705ab6aefaa9row19_col4\" class=\"data row19 col4\" >0.00423391</td> \n",
       "        <td id=\"T_60ae4194_5794_11e7_b1f8_705ab6aefaa9row19_col5\" class=\"data row19 col5\" >18</td> \n",
       "        <td id=\"T_60ae4194_5794_11e7_b1f8_705ab6aefaa9row19_col6\" class=\"data row19 col6\" >1.3175</td> \n",
       "        <td id=\"T_60ae4194_5794_11e7_b1f8_705ab6aefaa9row19_col7\" class=\"data row19 col7\" >0.00933395</td> \n",
       "        <td id=\"T_60ae4194_5794_11e7_b1f8_705ab6aefaa9row19_col8\" class=\"data row19 col8\" >4.69993</td> \n",
       "    </tr></tbody> \n",
       "</table> "
      ],
      "text/plain": [
       "<pandas.io.formats.style.Styler at 0x7fa5b19ebe80>"
      ]
     },
     "execution_count": 26,
     "metadata": {},
     "output_type": "execute_result"
    }
   ],
   "source": [
    "df_long = df_long.copy()\n",
    "df_long['growth'] = df_long['marcap_2015'] / df_long['marcap_1995']\n",
    "\n",
    "df_long20 = df_long[:20]\n",
    "df_long20 = df_long20.style.bar(subset=['growth'], color='#d65f5f')\n",
    "df_long20"
   ]
  },
  {
   "cell_type": "markdown",
   "metadata": {
    "slideshow": {
     "slide_type": "notes"
    }
   },
   "source": [
    "과거 20년간 한미사이언스, 오리온, 아모레, 현대모비스 등이 약진한 것을 한눈에 볼 수 있다."
   ]
  },
  {
   "cell_type": "markdown",
   "metadata": {
    "slideshow": {
     "slide_type": "slide"
    }
   },
   "source": [
    "## 파이차트\n",
    "\n",
    "업종내 종목수, 업종 시가총액을 파이차트로 시각화 하여 비교해 본다"
   ]
  },
  {
   "cell_type": "code",
   "execution_count": 27,
   "metadata": {
    "collapsed": true,
    "slideshow": {
     "slide_type": "subslide"
    }
   },
   "outputs": [],
   "source": [
    "import matplotlib.pyplot as plt\n",
    "import matplotlib.font_manager as fm\n",
    "\n",
    "path = '/usr/share/fonts/truetype/nanum/NanumGothic.ttf'\n",
    "fontprop = fm.FontProperties(fname=path, size=12)"
   ]
  },
  {
   "cell_type": "code",
   "execution_count": 30,
   "metadata": {},
   "outputs": [
    {
     "data": {
      "image/png": "[encoded data removed]",
      "text/plain": [
       "<matplotlib.figure.Figure at 0x7fa5a9913b00>"
      ]
     },
     "metadata": {},
     "output_type": "display_data"
    }
   ],
   "source": [
    "# 1995년 시가총액 분석\n",
    "df_1995 = df_master[df_master['year'] == '1995-12-01']\n",
    "\n",
    "fig, axes = plt.subplots(nrows=1, ncols=2)\n",
    "fig.set_size_inches(18, 8)\n",
    "\n",
    "# 첫번째 파이 차트 (업종내 종목수)\n",
    "sector_counts = df_1995['sector'].value_counts()\n",
    "labels = []\n",
    "for idx, row in sector_counts[:10].iteritems():\n",
    "    labels.append( str(idx) + '\\n' + str(row) )\n",
    "\n",
    "axes[0].set_title(\"1995 업종내 종목수 TOP 10\", fontproperties=fontprop)\n",
    "patches, texts = axes[0].pie(sector_counts[:10], labels=labels, startangle=90, colors=colors_list)\n",
    "\n",
    "for text in texts:\n",
    "    text.set_font_properties(fontprop)\n",
    "    \n",
    "# 두번째 파이 차트 (업종별 시가총액)\n",
    "piv = pd.pivot_table(df_1995, values='marcap', index=['sector'], aggfunc=np.sum)\n",
    "sector_marcap = piv.copy()\n",
    "sector_marcap.sort_values(by='marcap', ascending=False, inplace=True)\n",
    "sector_mar_top = sector_marcap['marcap'][:10]  \n",
    "labels = []\n",
    "for idx, row in sector_mar_top.iteritems():\n",
    "    labels.append( str(idx) + '\\n' + str(row) )\n",
    "    \n",
    "axes[1].set_title(\"1995 업종별 시가총액 TOP 10\", fontproperties=fontprop)\n",
    "patches, texts = axes[1].pie(sector_mar_top, labels=labels, startangle=90, colors=colors_list)\n",
    "\n",
    "for text in texts:\n",
    "    text.set_font_properties(fontprop)\n",
    "    "
   ]
  },
  {
   "cell_type": "code",
   "execution_count": 29,
   "metadata": {
    "slideshow": {
     "slide_type": "subslide"
    }
   },
   "outputs": [
    {
     "data": {
      "text/plain": [
       "'1995년'"
      ]
     },
     "metadata": {},
     "output_type": "display_data"
    },
    {
     "data": {
      "text/plain": [
       "'종목수 합계: 486'"
      ]
     },
     "metadata": {},
     "output_type": "display_data"
    },
    {
     "data": {
      "text/plain": [
       "화학      62\n",
       "서비스업    53\n",
       "전기전자    38\n",
       "철강금속    32\n",
       "의약품     32\n",
       "음식료     32\n",
       "유통업     31\n",
       "운수장비    31\n",
       "증권      27\n",
       "건설업     26\n",
       "Name: sector, dtype: int64"
      ]
     },
     "metadata": {},
     "output_type": "display_data"
    },
    {
     "data": {
      "text/plain": [
       "'시가총액 합계: 86 (조원)'"
      ]
     },
     "metadata": {},
     "output_type": "display_data"
    },
    {
     "data": {
      "text/html": [
       "<div>\n",
       "<style>\n",
       "    .dataframe thead tr:only-child th {\n",
       "        text-align: right;\n",
       "    }\n",
       "\n",
       "    .dataframe thead th {\n",
       "        text-align: left;\n",
       "    }\n",
       "\n",
       "    .dataframe tbody tr th {\n",
       "        vertical-align: top;\n",
       "    }\n",
       "</style>\n",
       "<table border=\"1\" class=\"dataframe\">\n",
       "  <thead>\n",
       "    <tr style=\"text-align: right;\">\n",
       "      <th></th>\n",
       "      <th>marcap</th>\n",
       "    </tr>\n",
       "    <tr>\n",
       "      <th>sector</th>\n",
       "      <th></th>\n",
       "    </tr>\n",
       "  </thead>\n",
       "  <tbody>\n",
       "    <tr>\n",
       "      <th>전기가스</th>\n",
       "      <td>19.480778</td>\n",
       "    </tr>\n",
       "    <tr>\n",
       "      <th>전기전자</th>\n",
       "      <td>12.560154</td>\n",
       "    </tr>\n",
       "    <tr>\n",
       "      <th>철강금속</th>\n",
       "      <td>7.675332</td>\n",
       "    </tr>\n",
       "    <tr>\n",
       "      <th>화학</th>\n",
       "      <td>6.415305</td>\n",
       "    </tr>\n",
       "    <tr>\n",
       "      <th>서비스업</th>\n",
       "      <td>6.173611</td>\n",
       "    </tr>\n",
       "    <tr>\n",
       "      <th>운수장비</th>\n",
       "      <td>5.976590</td>\n",
       "    </tr>\n",
       "    <tr>\n",
       "      <th>증권</th>\n",
       "      <td>4.798992</td>\n",
       "    </tr>\n",
       "    <tr>\n",
       "      <th>건설업</th>\n",
       "      <td>3.743907</td>\n",
       "    </tr>\n",
       "    <tr>\n",
       "      <th>통신업</th>\n",
       "      <td>3.229820</td>\n",
       "    </tr>\n",
       "    <tr>\n",
       "      <th>보험업</th>\n",
       "      <td>2.741789</td>\n",
       "    </tr>\n",
       "  </tbody>\n",
       "</table>\n",
       "</div>"
      ],
      "text/plain": [
       "           marcap\n",
       "sector           \n",
       "전기가스    19.480778\n",
       "전기전자    12.560154\n",
       "철강금속     7.675332\n",
       "화학       6.415305\n",
       "서비스업     6.173611\n",
       "운수장비     5.976590\n",
       "증권       4.798992\n",
       "건설업      3.743907\n",
       "통신업      3.229820\n",
       "보험업      2.741789"
      ]
     },
     "metadata": {},
     "output_type": "display_data"
    }
   ],
   "source": [
    "display ('1995년')\n",
    "\n",
    "display (\"종목수 합계: %d\" % sector_counts.sum())\n",
    "display (sector_counts[:10])\n",
    "display (\"시가총액 합계: %d (조원)\" % sector_marcap.sum())\n",
    "display (sector_marcap[:10])\n"
   ]
  },
  {
   "cell_type": "markdown",
   "metadata": {
    "slideshow": {
     "slide_type": "slide"
    }
   },
   "source": [
    "## 20년간 (1995년 ~ 2015년) 시가총액 분석\n",
    "\n",
    "* 시가총액 30위권을 지킨 기업은 9개 (삼성전자, 현대차, 한국전력, 기아차, SK텔레콤, POSCO, 삼성화재, LG, S-Oil)\n",
    "* 1995년의 시총 1위 기업은 한국전력(18.9조), 2015년에는 삼성전자(190.7조)\n",
    "* 1998년 말까지 한국전력 시가총액 1위 기업이었으나 1999년 이후 삼성전자 시가총액 부동의 1위 (18년째)\n",
    "* 1995년의 삼성전자 시가총액 비중은 5.4% 에서 2015년에는 13% 로 커졌다.\n",
    "* 시가총액 순위가 떨어진 기업은 SK텔레콤 4위 &rarr; 15위, 포스코 3위 &rarr; 18위 \n",
    "* 역대 시총 2위는 POSCO, SK텔레콤, 현대차 등 소수 종목들이 번갈아\n",
    "* 최상위 종목을 제외하고는 30위권 내 순위변동 극심 (한국경제의 성장 및 위기에 따라 업종 및 종목간 부침)\n"
   ]
  },
  {
   "cell_type": "markdown",
   "metadata": {},
   "source": [
    "----\n",
    "#### 2017 FinanceData http://fb.com/financedata http://financedata.github.com"
   ]
  }
 ],
 "metadata": {
  "celltoolbar": "Slideshow",
  "kernelspec": {
   "display_name": "Python 3",
   "language": "python",
   "name": "python3"
  },
  "language_info": {
   "codemirror_mode": {
    "name": "ipython",
    "version": 3
   },
   "file_extension": ".py",
   "mimetype": "text/x-python",
   "name": "python",
   "nbconvert_exporter": "python",
   "pygments_lexer": "ipython3",
   "version": "3.5.2"
  }
 },
 "nbformat": 4,
 "nbformat_minor": 1
}