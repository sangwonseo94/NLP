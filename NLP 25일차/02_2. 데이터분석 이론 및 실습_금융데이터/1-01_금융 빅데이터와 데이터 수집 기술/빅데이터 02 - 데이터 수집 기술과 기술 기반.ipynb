{
  "nbformat": 4,
  "nbformat_minor": 0,
  "metadata": {
    "colab": {
      "name": "빅데이터 02 - 데이터 수집 기술과 기술 기반.ipynb",
      "version": "0.3.2",
      "provenance": [],
      "collapsed_sections": []
    },
    "language_info": {
      "codemirror_mode": {
        "name": "ipython",
        "version": 3
      },
      "file_extension": ".py",
      "mimetype": "text/x-python",
      "name": "python",
      "nbconvert_exporter": "python",
      "pygments_lexer": "ipython3",
      "version": "3.5.2"
    },
    "kernelspec": {
      "display_name": "Python 3",
      "language": "python",
      "name": "python3"
    }
  },
  "cells": [
    {
      "cell_type": "markdown",
      "metadata": {
        "slideshow": {
          "slide_type": "slide"
        },
        "id": "6oCpMhT5Nvzw",
        "colab_type": "text"
      },
      "source": [
        "# 빅데이터 02 - 데이터 수집 기술과 기술 기반\n",
        "\n",
        "\n",
        "<img width=\"60%\" src=\"https://i.imgur.com/SD5Zdal.jpg\" >\n",
        "\n",
        "#### 2018-2019 [FinanceData.KR]()"
      ]
    },
    {
      "cell_type": "markdown",
      "metadata": {
        "slideshow": {
          "slide_type": "slide"
        },
        "id": "iJ-n3Ki6Nvz2",
        "colab_type": "text"
      },
      "source": [
        "# Big Data Landscape\n",
        "<img src=\"https://i.imgur.com/B7ENXRE.png\" >"
      ]
    },
    {
      "cell_type": "markdown",
      "metadata": {
        "slideshow": {
          "slide_type": "slide"
        },
        "id": "pUo-l9M1Nvz3",
        "colab_type": "text"
      },
      "source": [
        "# Hadoop ecosystem\n",
        "<img src=\"https://i.imgur.com/UvVIbrb.png\" >\n"
      ]
    },
    {
      "cell_type": "markdown",
      "metadata": {
        "slideshow": {
          "slide_type": "slide"
        },
        "id": "ZYfD-uRuNvz4",
        "colab_type": "text"
      },
      "source": [
        "# AWS Big Data Echosystems \n",
        "<img src=\"https://i.imgur.com/qoPAlr5.png?1\" >\n"
      ]
    },
    {
      "cell_type": "markdown",
      "metadata": {
        "slideshow": {
          "slide_type": "slide"
        },
        "id": "ploR37VDNvz5",
        "colab_type": "text"
      },
      "source": [
        "# Google Cloud Platform\n",
        "<img src=\"https://i.imgur.com/j9N7Aph.png?1\" >"
      ]
    },
    {
      "cell_type": "markdown",
      "metadata": {
        "slideshow": {
          "slide_type": "slide"
        },
        "id": "BkDoqKpmNvz6",
        "colab_type": "text"
      },
      "source": [
        "# Power Shift\n",
        "Solution Vendors → Open Sources → Clouds    \n",
        "<img src=\"https://i.imgur.com/gZXs0IN.png?1\" >\n",
        "\n"
      ]
    },
    {
      "cell_type": "markdown",
      "metadata": {
        "id": "ZXkLP4O_p3zI",
        "colab_type": "text"
      },
      "source": [
        "# 데이터 분석 아키텍처 예시(1)\n",
        "V스타트업의 데이터 분석 아키텍처 (오픈소스 기반). \n",
        "\n",
        "<img src=\"https://i.imgur.com/UhoOgjs.png\" >\n",
        "\n",
        "-------\n",
        "\n",
        "<img src=\"https://i.imgur.com/vN5aC6J.png\" >\n",
        "\n",
        "-------\n",
        "* Hadoop 기반에서 Spark중심으로 이동 (일일 배치 8시간-->1시간) \n",
        "* 최대한 간단하게 구성, 관리 소요 최소화\n"
      ]
    },
    {
      "cell_type": "markdown",
      "metadata": {
        "id": "sZBGMddDqOc4",
        "colab_type": "text"
      },
      "source": [
        "# 데이터 분석 아키텍처 예시(2)\n",
        "\n",
        "<img src=\"https://i.imgur.com/u39Hj0e.png\" >\n",
        "\n",
        "-------\n",
        "\n",
        "<img src=\"https://i.imgur.com/WIrY8s1.png\" >\n",
        "\n"
      ]
    },
    {
      "cell_type": "markdown",
      "metadata": {
        "id": "QAm9CedeOHSq",
        "colab_type": "text"
      },
      "source": [
        "# 데이터 크기와 전송시간\n",
        "\n",
        "<img src=\"https://i.imgur.com/01OAaaD.jpg\">\n",
        "  "
      ]
    },
    {
      "cell_type": "markdown",
      "metadata": {
        "slideshow": {
          "slide_type": "slide"
        },
        "id": "YFo2_9eZNvz7",
        "colab_type": "text"
      },
      "source": [
        "# 데이터 유형 분류와 수집 기술 \n",
        "<img src=\"https://i.imgur.com/BwBUw7X.png\" >\n",
        "\n",
        "빅데이터 활용 단계별 업무절차 및 기술 활용 매뉴얼 (미래창조과학부)\n"
      ]
    },
    {
      "cell_type": "markdown",
      "metadata": {
        "slideshow": {
          "slide_type": "slide"
        },
        "id": "Ljzl2rt5Nvz8",
        "colab_type": "text"
      },
      "source": [
        "# 주요 데이터 수집 기술\n",
        "<img src=\"https://i.imgur.com/O6gJBGO.png\" >\n",
        "\n",
        "빅데이터 활용 단계별 업무절차 및 기술 활용 매뉴얼 (미래창조과학부)\n"
      ]
    },
    {
      "cell_type": "markdown",
      "metadata": {
        "slideshow": {
          "slide_type": "notes"
        },
        "id": "baMf-KWRNvz9",
        "colab_type": "text"
      },
      "source": [
        "#### 2018-2019 [FinanceData.KR]()"
      ]
    }
  ]
}