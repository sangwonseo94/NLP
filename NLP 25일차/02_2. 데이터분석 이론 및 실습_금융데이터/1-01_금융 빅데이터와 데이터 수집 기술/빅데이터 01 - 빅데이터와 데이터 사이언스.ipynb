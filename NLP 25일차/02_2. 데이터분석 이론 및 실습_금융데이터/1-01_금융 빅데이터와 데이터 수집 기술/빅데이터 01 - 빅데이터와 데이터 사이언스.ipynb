{
  "nbformat": 4,
  "nbformat_minor": 0,
  "metadata": {
    "colab": {
      "name": "빅데이터 01 - 빅데이터와 데이터사이언스.ipynb",
      "version": "0.3.2",
      "provenance": [],
      "collapsed_sections": []
    },
    "language_info": {
      "codemirror_mode": {
        "name": "ipython",
        "version": 3
      },
      "file_extension": ".py",
      "mimetype": "text/x-python",
      "name": "python",
      "nbconvert_exporter": "python",
      "pygments_lexer": "ipython3",
      "version": "3.5.2"
    },
    "kernelspec": {
      "display_name": "Python 3",
      "language": "python",
      "name": "python3"
    }
  },
  "cells": [
    {
      "cell_type": "markdown",
      "metadata": {
        "slideshow": {
          "slide_type": "slide"
        },
        "id": "Ws-DWZkxjfs9",
        "colab_type": "text"
      },
      "source": [
        "# 빅데이터 01 - 빅데이터와 데이터 사이언스\n",
        "\n",
        "\n",
        "\n",
        "<img width=\"60%\" src=\"https://i.imgur.com/SD5Zdal.jpg\" >\n",
        "\n",
        "\n",
        "#### 2018-2019 [FinanceData.KR]()"
      ]
    },
    {
      "cell_type": "markdown",
      "metadata": {
        "slideshow": {
          "slide_type": "slide"
        },
        "id": "E-R0fVvSjfs_",
        "colab_type": "text"
      },
      "source": [
        "# 데이터 사이언스\n",
        "데이터로부터 의미 있는 정보를 추출해내는 과정\n",
        "\n",
        "\n",
        "<img src=\"https://i.imgur.com/w0gvmjZ.png\" >\n",
        "\n",
        "단계별로 가치도 크지만 그에 따른 어려움도 크다\n",
        "\n",
        "1. Descriptive Analytics(서술): 무슨 일이 있었나? (What happened?)\n",
        "1. Diagnostic Analytics(진단): 왜 일어났나? (Why did it happen?)\n",
        "1. Predictive Analytics(예측): 무슨 일이 일어날까? (What will happen?)\n",
        "1. Prescriptive Analytics(처방): 어떻게 그런 일을 일으킬까? (How can we make it happen?)\n",
        "\n"
      ]
    },
    {
      "cell_type": "markdown",
      "metadata": {
        "slideshow": {
          "slide_type": "slide"
        },
        "id": "soQuuCTtjftB",
        "colab_type": "text"
      },
      "source": [
        "# 데이터 사이언스의 과정\n",
        "1. 수집 (Collect Data) : Question, Collect data\n",
        "1. 처리 (Prepare Data) : Organize, Cleanse\n",
        "1. 분석 (Analysis Data) : Pattern, Filter, Relationship, Summarize\n",
        "1. 적용 (Apply Data) : Visualize, Report, Share, Make decisions"
      ]
    },
    {
      "cell_type": "markdown",
      "metadata": {
        "slideshow": {
          "slide_type": "slide"
        },
        "id": "Flerqp_eNvzx",
        "colab_type": "text"
      },
      "source": [
        "# 데이터 가속화\n",
        "\n",
        "인류 문명이 시작된 이후 2003년까지 만들어진 정보량이 5엑사바이트, 이제는 단 이틀 만에 생산 --에릭 슈미트(Eric Schmidt) 구글 회장"
      ]
    },
    {
      "cell_type": "markdown",
      "metadata": {
        "slideshow": {
          "slide_type": "slide"
        },
        "id": "JMw8oLQ_jftC",
        "colab_type": "text"
      },
      "source": [
        "# 빅데이터\n",
        "* 기존 데이터 관리도구로 수집, 저장, 관리, 분석할 수 없는 <br/> (역량을 넘어서는) 대량의 정형 또는 비정형 데이터 집합\n",
        "* 3V (Volume, Variety, Velocity) + Value(가치)\n",
        "\n",
        "\n",
        "### \"데이터가 수단에서 그 자체가 탐구의 대상으로 진화\""
      ]
    },
    {
      "cell_type": "markdown",
      "metadata": {
        "slideshow": {
          "slide_type": "slide"
        },
        "id": "kq7fgRXfNvzy",
        "colab_type": "text"
      },
      "source": [
        "# 빅데이터의 정의\n",
        "\n",
        "<img src=\"https://i.imgur.com/BOmgooB.png\" >"
      ]
    },
    {
      "cell_type": "markdown",
      "metadata": {
        "slideshow": {
          "slide_type": "notes"
        },
        "id": "D8GDmsDQNvzz",
        "colab_type": "text"
      },
      "source": [
        "빅데이터를 바라보는 관점과 해석은 다양하지만, 일반적인 개념 요소로는 정보의 집적(데이터의 양을 고도화), 정보의 결합(다양한 형태의 데이터 연결), 정보의 분석(원래 데이터 이상의 가치 창출)이라 요약하여 정의"
      ]
    },
    {
      "cell_type": "markdown",
      "metadata": {
        "slideshow": {
          "slide_type": "slide"
        },
        "id": "igl9rTxxNvz0",
        "colab_type": "text"
      },
      "source": [
        "# 빅데이터 vs 비즈니스 데이터\n",
        "<img src=\"https://i.imgur.com/Ap8TyoM.png\" >"
      ]
    },
    {
      "cell_type": "markdown",
      "metadata": {
        "slideshow": {
          "slide_type": "slide"
        },
        "id": "a1XCInlxjftD",
        "colab_type": "text"
      },
      "source": [
        "# 빅데이터의 약속\n",
        "1. 개별화된 맞춤형 서비스\n",
        "2. 비정형 데이터에서 상관관계"
      ]
    },
    {
      "cell_type": "markdown",
      "metadata": {
        "slideshow": {
          "slide_type": "slide"
        },
        "id": "mIDz8-5ZNvz1",
        "colab_type": "text"
      },
      "source": [
        "# 금융권빅데이터 활용영역예시\n",
        "\n",
        "<img src=\"https://i.imgur.com/e9J1Wua.png\" >\n"
      ]
    },
    {
      "cell_type": "markdown",
      "metadata": {
        "slideshow": {
          "slide_type": "slide"
        },
        "id": "RgRhmEWujfti",
        "colab_type": "text"
      },
      "source": [
        "# 평균의 함정 \n",
        "\n",
        "* \"평균에 빠져 죽는다\" <br> 1920년대 중국 내전, 한 장군이 강을 만나다. <br> 강의 평균 수심은 1m 40cm, 병사들의 평균 신장 1m 65cm \n",
        "<br>강을 건너 진격할 것을 명령하였다.\n",
        "\n",
        "* 환자 평균 생존 기간 3년이다. <br>그러나 2.5\\~3.5년 경우와 1\\~5년의 경우는 다르다.\n",
        "* 여행지의 평균기온이 20도이다. <br> 15\\~25도 경우와 0\\~40도인 경우 준비가 완전히 달라진다."
      ]
    },
    {
      "cell_type": "markdown",
      "metadata": {
        "slideshow": {
          "slide_type": "slide"
        },
        "id": "z5ImwLL-jfth",
        "colab_type": "text"
      },
      "source": [
        "# No Silver Bullet\n",
        "\n",
        "* 빅데이터, 우리에게 꼭 필요한 것인가?\n",
        "* 2015년 11월, Google TensorFlow를 오픈소스로 공개<br> 에릭 클랩튼이 자기 기타를 아무나 연주하게 허락한 것과 같다고 보면 됨.\n",
        "\n",
        "<br>하지만, <br><u>그 기타로 연주한다고 <br>모두가 에릭 클랩튼 되는거 아니라는거</u>"
      ]
    },
    {
      "cell_type": "markdown",
      "metadata": {
        "slideshow": {
          "slide_type": "slide"
        },
        "id": "g9oMIFZBjftj",
        "colab_type": "text"
      },
      "source": [
        "# 심슨의 패러독스\n",
        "\n",
        "* 부분의 결과가 전체의 결과와 항상 일치하지 않는다! <br>(각 부분에 대해 성립한 성질이 전체에 대해서는 성립하지 않는 모순적인 경우)\n",
        "\n",
        "http://youtu.be/7qekbQ8Ra1E [EBS 지식프라임] 심슨의 패러독스: 평균에 대한 착각"
      ]
    },
    {
      "cell_type": "markdown",
      "metadata": {
        "slideshow": {
          "slide_type": "slide"
        },
        "id": "jIyrpAJWjftk",
        "colab_type": "text"
      },
      "source": [
        "# 심슨의 패러독스: 야구선수의 타율\n",
        "\n",
        "선수 | 전반 출전 | 전반 타율 | 후반 출전 | 후반 타율 | 전체 타율\n",
        "-- | -- | -- | -- | -- | --\n",
        "타자A | 10  | 0.40  | 100 | 0.25 | 0.264\n",
        "타자B | 100 | 0.35 | 10  | 0.20  | 0.336\n",
        "\n",
        "* 전반기와 후반기 모두 타자 A의 타율이 높다 (0.4>0.35, 0.25>0.2)\n",
        "* 전체적인 타율은 타자 B가 더 높다(0.264<0.336).\n",
        "* https://goo.gl/RLtFjR 슛 성공률\n",
        "\n",
        "출처: 수학 콘서트"
      ]
    },
    {
      "cell_type": "markdown",
      "metadata": {
        "slideshow": {
          "slide_type": "slide"
        },
        "id": "EF2EmpETjftl",
        "colab_type": "text"
      },
      "source": [
        "# 상관관계 vs. 인과관계\n",
        "* 통계학적으로 가장 위험한 장소와 가장 위험함 사람은?\n",
        "* 애리조나 주는 다른 주보다 폐결핵으로 죽는 사람이 많다: 잘못된 추론\n",
        "* 인구 10만명당, 경찰 수가 많을수록 범죄 건수가 많다: 역방향 인과 관계\n",
        "* 맥주 소비량과 영아 사망률의 음의 상관관계가 나타난다: 제 3의 상관관계\n",
        "\n",
        "데이터 분석에서 밝혀주는 것은 상관관계(Correlation) 뿐,<br>\n",
        "인과관계(Causation)는 설명해주지 않는다."
      ]
    },
    {
      "cell_type": "markdown",
      "metadata": {
        "slideshow": {
          "slide_type": "slide"
        },
        "id": "G5J5DRUTjftm",
        "colab_type": "text"
      },
      "source": [
        "# 예측하지 말고 측정하라\n",
        "* <u>뱅뱅이론</u>: 세상이 사실은 그렇게 돌아가지 않고 있다 <br> http://www.ddanzi.com/ddanziNews/912258\n",
        "* “우리의 가정은 틀렸다. 그래서 데이터를 봐야 한다” –하용호 (데이터 사이언티스트) <br> https://www.slideshare.net/yongho/ss-32267675\n",
        "* “<u>상상하지 말라. 무얼 상상하건 실제와 다르다</u>” –송길영 (다음소프트 부사장) <br> https://youtu.be/2XK4kEL7D1M"
      ]
    },
    {
      "cell_type": "markdown",
      "metadata": {
        "id": "eXHDg1qZjftn",
        "colab_type": "text"
      },
      "source": [
        "#### 2018-2019 [FinanceData.KR]()"
      ]
    }
  ]
}