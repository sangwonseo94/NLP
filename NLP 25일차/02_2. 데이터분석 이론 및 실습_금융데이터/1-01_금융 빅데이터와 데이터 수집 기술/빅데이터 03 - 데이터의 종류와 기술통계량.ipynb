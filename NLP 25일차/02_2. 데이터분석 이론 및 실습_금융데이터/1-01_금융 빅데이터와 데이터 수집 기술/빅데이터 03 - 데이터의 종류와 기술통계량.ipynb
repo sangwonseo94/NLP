{
  "nbformat": 4,
  "nbformat_minor": 0,
  "metadata": {
    "colab": {
      "name": "빅데이터 03 - 데이터의 종류와 기술통계량.ipynb",
      "version": "0.3.2",
      "provenance": [],
      "collapsed_sections": []
    },
    "language_info": {
      "codemirror_mode": {
        "name": "ipython",
        "version": 3
      },
      "file_extension": ".py",
      "mimetype": "text/x-python",
      "name": "python",
      "nbconvert_exporter": "python",
      "pygments_lexer": "ipython3",
      "version": "3.5.2"
    },
    "kernelspec": {
      "display_name": "Python 3",
      "language": "python",
      "name": "python3"
    }
  },
  "cells": [
    {
      "cell_type": "markdown",
      "metadata": {
        "slideshow": {
          "slide_type": "slide"
        },
        "id": "Ws-DWZkxjfs9",
        "colab_type": "text"
      },
      "source": [
        "# 빅데이터 03 - 데이터의 종류와 기술통계량\n",
        "\n",
        "\n",
        "\n",
        "<img width=\"60%\" src=\"https://i.imgur.com/SD5Zdal.jpg\" >\n",
        "\n",
        "\n",
        "\n",
        "#### 2018-2019 [FinanceData.KR]()"
      ]
    },
    {
      "cell_type": "markdown",
      "metadata": {
        "slideshow": {
          "slide_type": "slide"
        },
        "colab_type": "text",
        "id": "py4IH3YguhZQ"
      },
      "source": [
        "# 데이터의 종류\n",
        "* 질적 데이터 qualitative data\n",
        "* 양적 데이터 quantitative data\n",
        "\n",
        "(한마디로, 수치로 표현되는냐 아니냐로 구분)"
      ]
    },
    {
      "cell_type": "markdown",
      "metadata": {
        "slideshow": {
          "slide_type": "slide"
        },
        "id": "-DFy8nyzjftF",
        "colab_type": "text"
      },
      "source": [
        "# 질적 데이터 (qualitative data) \n",
        "#### = 범주형 categorical\n",
        "* 수치로 표현되지 않는 데이터,\n",
        "* 예를 들어: 전화번호, 성별, 혈액형, <br> 종교 분류, 순위 (rank) , 등급(A,B,C) 등\n",
        "\n",
        "* 명목 (nominal) : 순서없이 범주 예) 성별, 지역\n",
        "* 순서 (ordinal) : 순서, 상대적비교 예) 크기, 계층"
      ]
    },
    {
      "cell_type": "markdown",
      "metadata": {
        "slideshow": {
          "slide_type": "slide"
        },
        "id": "PhnmEnRajftG",
        "colab_type": "text"
      },
      "source": [
        "# 양적 데이터 (quantitative data) \n",
        "#### = 수치적 numerical\n",
        "* 수치로 측정이 가능한 데이터 (계량 데이터)\n",
        "* 예를 들어 : 온도, 가격, 수익률, 주가지수, 실업률, 매출액, 임직원의 수 등\n",
        "\n",
        "* 연속 (continuous) : 예) 키, 몸무게, 온도 (실수로 표현)\n",
        "* 이산 (discrete) : 예) 몇개의 값, 회수, 가족수 (정수로 표현)"
      ]
    },
    {
      "cell_type": "markdown",
      "metadata": {
        "slideshow": {
          "slide_type": "slide"
        },
        "id": "wxO68qlpjftH",
        "colab_type": "text"
      },
      "source": [
        "# 척도\n",
        "척도(scale) : 관찰된 결과에 특정 값을 할당하기 위해 사용되는 측정 수준\n",
        " \n",
        "척도 | 핵심 | 특징 | 예\n",
        ":---: | :---: | :---: | :---:\n",
        "명목척도 nominal scale | 어떤 범주에 속하는가 | 순서나 크기의 의미 없음 | 종교, 인종, 성별, 지지정당\n",
        "순서척도 ordinal scale | 순위 부여 | 등간격 아님, 연산 불가 | 5점 척도 만족도\n",
        "구간척도 interval scale | 명목/서열 척도의 특성 + 등간격 | 크기비교(차이) 의미 있음 | 섭씨온도, 물가지수, 주가지수\n",
        "비율척도 ratio scale | 구간척도의 특성 + 절대 원점 | 크기비교(차이)와 비율도 의미 | 월평균 소득, 가족수, 수익률\n",
        "\n",
        "\n",
        "* 순서척도는 범주형 데이터\n",
        "* 정보의 양 : 명목척도 < 순서척도 < 구간척도 < 비율척도"
      ]
    },
    {
      "cell_type": "markdown",
      "metadata": {
        "slideshow": {
          "slide_type": "slide"
        },
        "id": "g-w5ZA-7jftI",
        "colab_type": "text"
      },
      "source": [
        "# 질적(=범주형) 데이터 그래픽 요약\n",
        "* 도수분포표 frequency table\n",
        "* 막대차트 bar chart\n",
        "* 파이차트 pie chart"
      ]
    },
    {
      "cell_type": "markdown",
      "metadata": {
        "slideshow": {
          "slide_type": "slide"
        },
        "id": "7RdQ0TC_jftJ",
        "colab_type": "text"
      },
      "source": [
        "# 양적(=수치적) 데이터 그래픽 요약\n",
        "* 점 그래프 dot plot\n",
        "* 줄기 잎 그래프 stem plot\n",
        "* 박스 그래프 box plot\n",
        "* 선 그래프 line plot\n",
        "* 히스토그램 histogram\n",
        "* 시계열 그래프 time series graph"
      ]
    },
    {
      "cell_type": "markdown",
      "metadata": {
        "slideshow": {
          "slide_type": "slide"
        },
        "id": "qKCwnLUwjftK",
        "colab_type": "text"
      },
      "source": [
        "# 데이터의 수치 요약 방법\n",
        "1. 중심경향치 measure of central tendency (=대푯값)\n",
        "1. 산포도 measure of dispersion\n",
        "1. 상대적 위치의 측도"
      ]
    },
    {
      "cell_type": "markdown",
      "metadata": {
        "slideshow": {
          "slide_type": "slide"
        },
        "id": "QgFJoOocjftL",
        "colab_type": "text"
      },
      "source": [
        "# 1) 중심경향치(=대푯값)\n",
        "모집단의 대표적인 경향을 중심경향 (central tendency) 이라고 하며, <br/>\n",
        "중심경향을 나타내는 값을 중심경향치 혹은 대푯값 (representative value) 이라고 한다\n",
        "\n",
        "\n",
        "중심경향치로 주로 평균값, 중앙값, 최빈값이 사용된다.\n",
        "* 평균값 mean\n",
        "* 중앙값 median\n",
        "* 최빈값 mode"
      ]
    },
    {
      "cell_type": "markdown",
      "metadata": {
        "slideshow": {
          "slide_type": "slide"
        },
        "id": "SksrnqzdjftM",
        "colab_type": "text"
      },
      "source": [
        "# 2) 산포도\n",
        "산포(퍼진 dispersion ), 도(정도 measure ) <br>(<strike>먹는 과일 포도와 아무런 관련 없음 </strike>)\n",
        "* 분산과 표준편차\n",
        "* 범위 range : 최대 - 최소\n",
        "* 사분범위 IQR interquatile range\n",
        "* 변동계수 coefficient of variation : <br> CV = 표준편차 / 산술평균"
      ]
    },
    {
      "cell_type": "markdown",
      "metadata": {
        "id": "VdemwME_jjsD",
        "colab_type": "text"
      },
      "source": [
        "(참고) 변동 계수(coefficient of variation, CV) 또는 상대 표준 편차(relative standard deviation, RSD)\n",
        "\n",
        "$$ CV = \\sigma / \\mu $$\n",
        "\n",
        "\"변동 계수 = 표준 편차 / 평균\", 측정 단위가 다른 자료를 비교할 때 사용. \n",
        "\n",
        "예)\n",
        "* A: 평균 5, 표준편차 1 \n",
        "* B: 평균 100, 표준편차 40\n",
        "\n",
        "A의 CV는 0.2 (=1/5), B의 CV는 0.4 (=40/100) 이므로 B의 상대표준편차가 더 크다.\n",
        "\n"
      ]
    },
    {
      "cell_type": "markdown",
      "metadata": {
        "slideshow": {
          "slide_type": "slide"
        },
        "id": "uv-W-dM2jftN",
        "colab_type": "text"
      },
      "source": [
        "# 3) 상대적 위치의 측도\n",
        "특정 값이 전체 데이터에서 어느 정도 위치에 있는지 찾기 위해 사용\n",
        "* 백분위수: =PERCENTILE(array, k)\n",
        "* 백분율 순위: =PERCENTRANK(array, x, significance)\n",
        "* 표준점수: =STANDARDIZE(x, mean, standard_dev)"
      ]
    },
    {
      "cell_type": "markdown",
      "metadata": {
        "slideshow": {
          "slide_type": "slide"
        },
        "id": "sFK0law6jftO",
        "colab_type": "text"
      },
      "source": [
        "# 평균과 평균값\n",
        "\n",
        "<img width=\"80%\" src=\"http://i.imgur.com/peDxSGh.png\">\n",
        "\n",
        "흔히, 평균 average 과 산술평균 arithmetic mean 을 혼용 \n",
        "(<strike>그러나, 먹고 사는데 지장은 없다</strike>)\n",
        " "
      ]
    },
    {
      "cell_type": "markdown",
      "metadata": {
        "slideshow": {
          "slide_type": "slide"
        },
        "id": "hGOqCbWNjftP",
        "colab_type": "text"
      },
      "source": [
        "# 산술평균 arithmetic mean\n",
        "자료 전체의 합을 <br>개수로 나눈 값\n",
        "\n",
        "$$ A=\\frac{1}{n}\\sum_{k=1}^{n} a_k = \\frac{a_{1} + a_{2} + \\cdots + a_{n}}{n} $$"
      ]
    },
    {
      "cell_type": "markdown",
      "metadata": {
        "slideshow": {
          "slide_type": "slide"
        },
        "id": "4ckyJiDQjftQ",
        "colab_type": "text"
      },
      "source": [
        "# 기하평균 geometric mean\n",
        "n개의 양수 값을 <br>모두 곱한 것의 n제곱근\n",
        "\n",
        "$$ \\left(\\prod_{i=1}^n a_i \\right)^{1/n} = (a_1 \\cdot a_2 \\dotsb a_n)^{1/n} = \\sqrt[n]{a_1 \\cdot a_2 \\dotsb a_n} $$\n",
        "\n",
        "* 누적된 비율, 비례의 평균을 구할 때 <br>(년평균 이익률, 년평균 성장률)\n",
        "* 첫 해 -50%, 둘째 해 100% 수익이 났다면, 2년간 평균 수익률은 25% 일까?\n",
        "* https://goo.gl/zVDvXG 년평균 수익률 (구글 닥스)\n",
        "* 매출이 작년의 1.5배 증가하고 올해 6배 증가했다면? <br> $ \\sqrt {(1.5 X 6)} = 3배 $"
      ]
    },
    {
      "cell_type": "markdown",
      "metadata": {
        "slideshow": {
          "slide_type": "slide"
        },
        "id": "9LMLuADUjftR",
        "colab_type": "text"
      },
      "source": [
        "# 조화평균 harmonic mean\n",
        "주어진 데이터의 역수들을 <br> 산술 평균한 값의 역수\n",
        "\n",
        "$$ H = \\frac{n}{\\frac{1}{a_1} + \\frac{1}{a_2} + \\cdots + \\frac{1}{a_n}} $$"
      ]
    },
    {
      "cell_type": "markdown",
      "metadata": {
        "slideshow": {
          "slide_type": "slide"
        },
        "id": "rrAnQi0TjftS",
        "colab_type": "text"
      },
      "source": [
        "# 가중평균 weighted mean\n",
        "\n",
        "데이터 x 가중치의 합을\n",
        "가중치의 합으로 나눈 값평균, \n",
        "\n",
        "$$ \\bar{x} = \\frac{ \\sum\\limits_{i=1}^n w_i x_i}{\\sum\\limits_{i=1}^n w_i} $$\n",
        "\n",
        "$$ \\bar{x} = \\frac{w_1 x_1 + w_2 x_2 + \\cdots + w_n x_n}{w_1 + w_2 + \\cdots + w_n}.$$"
      ]
    },
    {
      "cell_type": "markdown",
      "metadata": {
        "slideshow": {
          "slide_type": "slide"
        },
        "id": "qy2AaPhcjftT",
        "colab_type": "text"
      },
      "source": [
        "# 가중 평균 (파이썬)\n",
        "\n",
        "```python\n",
        "s = np.random.randint(0, 100, 10)\n",
        "\n",
        "print (np.average(s))\n",
        "print (np.average(s, weights=range(1,11)))\n",
        "```"
      ]
    },
    {
      "cell_type": "markdown",
      "metadata": {
        "slideshow": {
          "slide_type": "slide"
        },
        "id": "W2hii3xDjftU",
        "colab_type": "text"
      },
      "source": [
        "# 기하평균, 조화평균\n",
        "\n",
        "```python\n",
        "from scipy import stats\n",
        "\n",
        "s = np.random.randint(0, 100, 10)\n",
        "\n",
        "print (stats.hmean(s))\n",
        "print (stats.gmean(s))\n",
        "```"
      ]
    },
    {
      "cell_type": "markdown",
      "metadata": {
        "slideshow": {
          "slide_type": "slide"
        },
        "id": "T2xao7kkjftV",
        "colab_type": "text"
      },
      "source": [
        "# 금융 데이터와 평균값\n",
        "평균값 | 핵심 | 사용예 | 스프레드시트 함수\n",
        "---- | ---- | ---- | ----\n",
        "산술평균 |  덧셈 연산, 총합 | 1인당 GDP | =average()\n",
        "기하평균 | 곱셈 연산, 비율 | 평균 수익률, 연평균 경제성장률, <br> 물가상승률, 인구증가율 | =geomean()\n",
        "조화평균 |  정해진 범위<br> 데이터가 변화 | 평균시속 | =harmean()\n",
        "가중평균 | 항목들이 비중이<br> 다른데이터 집합 | 포트폴리오의 기대수익률,<br>소비자 물가지수, 폭탄주 도수 | =sumproduct (w, d)/sum(w)"
      ]
    },
    {
      "cell_type": "markdown",
      "metadata": {
        "slideshow": {
          "slide_type": "slide"
        },
        "id": "jCsj72egjftW",
        "colab_type": "text"
      },
      "source": [
        "```python\n",
        "from scipy import stats\n",
        "import numpy as np\n",
        "s = np.random.randint(0, 100, 10)\n",
        "\n",
        "\n",
        "# 평균, 이동평균\n",
        "print (np.average(s))\n",
        "print (np.average(s, weights=range(1,11)))\n",
        "# 조화평균, 기하평균\n",
        "print (stats.hmean(s))\n",
        "print (stats.gmean(s))\n",
        "```\n"
      ]
    },
    {
      "cell_type": "markdown",
      "metadata": {
        "slideshow": {
          "slide_type": "slide"
        },
        "id": "H2HNpJSEjftY",
        "colab_type": "text"
      },
      "source": [
        "# 기본 통계량\n",
        "* 데이터에대한 간략한 요약 정보. <br> 평균값, 중앙값, 최빈값, 최소값, 최대값, 범위, 표준편차 등\n",
        "* 엑셀 데이터 분석, “기술통계법” \n",
        "\n",
        "[구글닥스] https://goo.gl/H90Uom 요약 통계 Summary satistics"
      ]
    },
    {
      "cell_type": "markdown",
      "metadata": {
        "slideshow": {
          "slide_type": "slide"
        },
        "id": "y6L_Sasrjfta",
        "colab_type": "text"
      },
      "source": [
        "항목 | 설명 | 스프레드시트 함수 | 상세\n",
        "--- | --- | --- | ---\n",
        "Mean | 평균 | =AVERAGE() | 자료 전체의 합을 개수로 나눈 값, 산술평균\n",
        "Standard Error | 표준오차 | =STDEV()/SQRT(COUNT()) | 표본의 통계치와 모수와의 차이\n",
        "Median |중앙값 | =MEDIAN() | 값의 범위(range)에서 가운데 있는 값\n",
        "Mode | 최빈값 | =MODE() | 가장 많이 관측되는 값\n",
        "Standard Deviation | 표준편차 | =STDEV() | 평균에서 떨어진 정도(분산의 제곱근)\n",
        "Variance | 분산 | =VAR() | 평균에서 떨어진 정도\n",
        "Kurtosis | 첨도 | =KURT() | 표준(정규분포) 위로 뾰족(>0), 납작(<0)한 정도\n",
        "Skewness | 왜도 | =SKEW() | 평균으로 부터 왼쪽(+)이나 오른쪽(-)으로 치우친 정도\n",
        "Range | 범위 | =MAX()-MIN() | 최대값과 최소값의 차이\n",
        "Minimum | 최소값 | =MIN() | 가장 작은 값\n",
        "Maximum | 최대값 | =MAX() | 가장 큰 값\n",
        "Sum | 합 | =SUM() | 모든 관측수의 합계\n",
        "Count | 관측수 | =COUNT() | 관측수\n",
        "\n",
        "\n",
        "\n",
        "# 기본 금융 통계량, 어디에 사용하는가\n",
        "* 평균, 이동평균: 주가, 기대 수익률, 기댓값, 매매신호\n",
        "* 왜도, 첨도: 확률 분포의 특성, 시장의 심리 등\n",
        "* 분산, 표준편차: 투자위험 risk , 변동성 volatility, 매매신호\n",
        "* 공분산, 상관계수, 베타: 두 데이터 집합의 비례관계의 정도 (상관분석)\n"
      ]
    },
    {
      "cell_type": "markdown",
      "metadata": {
        "slideshow": {
          "slide_type": "slide"
        },
        "id": "jvbohLGGjfta",
        "colab_type": "text"
      },
      "source": [
        "# 기술통계\n",
        "\n",
        "1년간 코스피 지수 일일 수익률 데이터에 대한 기술 통계량"
      ]
    },
    {
      "cell_type": "code",
      "metadata": {
        "id": "NfTscUvQu9CS",
        "colab_type": "code",
        "colab": {}
      },
      "source": [
        "!pip install -q finance-datareader"
      ],
      "execution_count": 0,
      "outputs": []
    },
    {
      "cell_type": "code",
      "metadata": {
        "id": "ws9twaH0vEYb",
        "colab_type": "code",
        "colab": {
          "base_uri": "https://localhost:8080/",
          "height": 397
        },
        "outputId": "90d81aec-803e-4eed-94c2-47f84f8a81cf"
      },
      "source": [
        "import FinanceDataReader as fdr\n",
        "\n",
        "df = fdr.DataReader('KS11', '2018-01-01','2018-12-31')\n",
        "rets = df['Close'].pct_change() ## 일일 수익률\n",
        "\n",
        "rets.tail(20)"
      ],
      "execution_count": 15,
      "outputs": [
        {
          "output_type": "execute_result",
          "data": {
            "text/plain": [
              "Date\n",
              "2018-11-30   -0.008155\n",
              "2018-12-03    0.016725\n",
              "2018-12-04   -0.008246\n",
              "2018-12-05   -0.006167\n",
              "2018-12-06   -0.015524\n",
              "2018-12-07    0.003418\n",
              "2018-12-10   -0.010584\n",
              "2018-12-11   -0.000399\n",
              "2018-12-12    0.014418\n",
              "2018-12-13    0.006233\n",
              "2018-12-14   -0.012488\n",
              "2018-12-17    0.000826\n",
              "2018-12-18   -0.004336\n",
              "2018-12-19    0.008113\n",
              "2018-12-20   -0.009005\n",
              "2018-12-21    0.000665\n",
              "2018-12-24   -0.003143\n",
              "2018-12-26   -0.013139\n",
              "2018-12-27    0.000212\n",
              "2018-12-28    0.006212\n",
              "Name: Close, dtype: float64"
            ]
          },
          "metadata": {
            "tags": []
          },
          "execution_count": 15
        }
      ]
    },
    {
      "cell_type": "code",
      "metadata": {
        "slideshow": {
          "slide_type": "slide"
        },
        "id": "MGYcFNvsjftc",
        "colab_type": "code",
        "outputId": "6d6e6b05-8c80-49ce-f0ea-0ed16507f653",
        "colab": {
          "base_uri": "https://localhost:8080/",
          "height": 225
        }
      },
      "source": [
        "import numpy as np\n",
        "\n",
        "def full_describe(data):\n",
        "    print ('mean %15.6f' % (data.mean()))\n",
        "    print ('std_err %15.6f' % (data.std() / np.sqrt(data.count())))\n",
        "    print ('median %15.6f' % (data.median()))\n",
        "    print ('std %15.6f' % (data.std()))\n",
        "    print ('var %15.6f' % (data.var()))\n",
        "    print ('kurt %15.6f' % (data.kurt()))\n",
        "    print ('skew %15.6f' % (data.skew()))\n",
        "    print ('range %15.6f' % (data.max() - data.min()))\n",
        "    print ('min %15.6f' % (data.min()))\n",
        "    print ('max %15.6f' % (data.max()))\n",
        "    print ('sum %15.6f' % (data.sum()))\n",
        "    print ('count %15.6f' % (data.count()))\n",
        "        \n",
        "full_describe(rets)"
      ],
      "execution_count": 16,
      "outputs": [
        {
          "output_type": "stream",
          "text": [
            "mean       -0.000760\n",
            "std_err        0.000581\n",
            "median        0.000151\n",
            "std        0.009060\n",
            "var        0.000082\n",
            "kurt        2.784304\n",
            "skew       -0.646223\n",
            "range        0.079733\n",
            "min       -0.044395\n",
            "max        0.035338\n",
            "sum       -0.184599\n",
            "count      243.000000\n"
          ],
          "name": "stdout"
        }
      ]
    },
    {
      "cell_type": "markdown",
      "metadata": {
        "id": "eXHDg1qZjftn",
        "colab_type": "text"
      },
      "source": [
        "#### 2018-2019 [FinanceData.KR]()"
      ]
    }
  ]
}