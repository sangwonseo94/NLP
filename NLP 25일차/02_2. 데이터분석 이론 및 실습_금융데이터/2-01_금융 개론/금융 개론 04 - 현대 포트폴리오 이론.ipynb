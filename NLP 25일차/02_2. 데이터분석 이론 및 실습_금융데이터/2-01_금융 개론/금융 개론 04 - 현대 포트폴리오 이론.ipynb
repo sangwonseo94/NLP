{
  "nbformat": 4,
  "nbformat_minor": 0,
  "metadata": {
    "celltoolbar": "Slideshow",
    "kernelspec": {
      "display_name": "Python 3",
      "language": "python",
      "name": "python3"
    },
    "language_info": {
      "codemirror_mode": {
        "name": "ipython",
        "version": 3
      },
      "file_extension": ".py",
      "mimetype": "text/x-python",
      "name": "python",
      "nbconvert_exporter": "python",
      "pygments_lexer": "ipython3",
      "version": "3.5.2"
    },
    "colab": {
      "name": "금융 개론 04 - 현대 포트폴리오 이론.ipynb",
      "version": "0.3.2",
      "provenance": [],
      "collapsed_sections": []
    }
  },
  "cells": [
    {
      "cell_type": "markdown",
      "metadata": {
        "id": "RApBkvZe0dxC",
        "colab_type": "text"
      },
      "source": [
        "# 금융 개론 04 - 현대 포트폴리오 이론\n",
        "\n",
        "<img width=\"320\" src=\"https://goo.gl/9PuHn1\" >\n",
        "\n",
        "#### 2017 FinanceData http://fb.com/financedata"
      ]
    },
    {
      "cell_type": "markdown",
      "metadata": {
        "id": "-D0Ndqvn0dxD",
        "colab_type": "text"
      },
      "source": [
        "# 포트폴리오 (Portfolio)\n",
        "* collection of financial assets such as stocks, bonds, and cash.\n",
        "* 각기 다른 수익율과 위험을 가진 다수 증권의 결합"
      ]
    },
    {
      "cell_type": "markdown",
      "metadata": {
        "id": "6Ar_dD4x0dxE",
        "colab_type": "text"
      },
      "source": [
        "# 현대 포트폴리오 이론 (MPT)\n",
        "* Modern Portfolio Theory, 자산을 분산투자하여 위험을 감소시킬 수 있다는 이론\n",
        "* 미국의 경제학자 해리 마르코워츠(Harry Markowitz), 노벨경제학상 (1990년)\n",
        "\n",
        "## 종목수와 위험의 관계\n",
        "<img src=\"http://www.duke.edu/~charvey/Classes/ba350/control/opc4.gif\"/>\n",
        "\n",
        "* 출처: http://goo.gl/GbUJ83 An Introduction to Investment Theory\n"
      ]
    },
    {
      "cell_type": "markdown",
      "metadata": {
        "id": "_Rx2lLN40dxF",
        "colab_type": "text"
      },
      "source": [
        "# 단일 자산의 기대 수익률\n",
        "\n",
        "\n",
        "Scenario | Probability | Expected Return\n",
        "- | - | -\n",
        "Worst Case | 10% | 10%\n",
        "Base Case | 80% | 14%\n",
        "Best Case | 10% | 18%"
      ]
    },
    {
      "cell_type": "markdown",
      "metadata": {
        "id": "j_rSpsR80dxG",
        "colab_type": "text"
      },
      "source": [
        "$$ E(R) = (0.10)(10\\%) + (0.80)(14\\%) + (0.10)(18\\%) $$\n",
        "\n",
        "$$ E(R) = 14.0% $$"
      ]
    },
    {
      "cell_type": "markdown",
      "metadata": {
        "id": "_D3kqH1q0dxH",
        "colab_type": "text"
      },
      "source": [
        "# 두 자산의 포트폴리오 수익율\n",
        "\n",
        "## 구성 비중 $ w_1, w_2$ 의 합은 항상 1\n",
        "\n",
        "$$ 𝑤_1 + 𝑤_2 = 1 $$\n",
        "\n",
        "## 수익률 $(𝑟_𝑝)$ 은\n",
        "\n",
        "$$ 𝑟_𝑝 = 𝑤_1𝑟_1 + 𝑤_2𝑟_2 $$"
      ]
    },
    {
      "cell_type": "markdown",
      "metadata": {
        "id": "o9cMCYFM0dxI",
        "colab_type": "text"
      },
      "source": [
        "# 포트폴리오의 기대수익률 $𝐸(𝑟_𝑝)$ (두 자산의 경우)\n",
        "\n",
        "$$ E(r_p) = E(w_1r_1 + w_2r_2) = w_1 \\times  𝐸(𝑟_1) + w_2 \\times  E(r_2) $$\n",
        "\n",
        "\n",
        "포트폴리오를 구성하는 개별자산의 기대수익률 𝐸 𝑟𝑖 과 구성비율 𝑤𝑖가 주어지면 기대수익률을 구할 수 있다. "
      ]
    },
    {
      "cell_type": "markdown",
      "metadata": {
        "id": "s503WGH_0dxJ",
        "colab_type": "text"
      },
      "source": [
        "# 예) 두 자산의 포트폴리오 기대수익\n",
        "\n",
        "* 자산 A, B의 기대수익률은 각각 20%, 30%\n",
        "* A,B 종목 비중은 각각 15%, 70% 이다. 기대 수익은?\n",
        "\n",
        "$$ E(R) = (0.30)(20\\%) + (0.70)(15\\%) $$\n",
        "\n",
        "$$ = 6\\% + 10.5\\% $$\n",
        "\n",
        "$$ = 16.5\\% $$"
      ]
    },
    {
      "cell_type": "markdown",
      "metadata": {
        "id": "5FiVkjA-0dxK",
        "colab_type": "text"
      },
      "source": [
        "# 예) 두 회사의 기대 수익률, 분산, 표준편차\n",
        "\n",
        "환률 | 확률 | A | B \n",
        ":-: | -: | -: | -:\n",
        "상승 | 0.2 | 50% | -20%\n",
        "보합 | 0.7 | 10% | 20%\n",
        "급락 | 0.1 | -40% | 60%\n",
        "\n",
        "(참고) 일반적으로 제조 : 유통, 수출 : 수입 상대적인 수익률\n",
        "\n",
        "## 기댓값 (expected return) \n",
        "$$ E(R_A) = 0.2 × 0.5 + 0.7 × 0.1 + 0.1 × (−40) = 13\\% $$\n",
        "$$ E(R_B) = 0.2 × (−20) + 0.7 × 20 + 0.1 × (60) = 16\\% $$\n",
        "\n",
        "## 분산 (Variance)\n",
        "\n",
        "$$ \\sigma^2_A = 0.2 × (37)^2 + 0.7 × (3)^2 + 0.1 × (−53)^2 = 561\\% $$\n",
        "$$ \\sigma^2_B = 0.2 × (-36)^2 + 0.7 × (4)^2 + 0.1 × (44)^2 = 464\\% $$\n",
        "\n",
        "## 표준편차 (Standard Deviation)\n",
        "$$ \\sigma_𝐴 = \\sqrt { 561 } = 23.69\\% $$\n",
        "$$ \\sigma_B = \\sqrt { 464 } = 21.54\\% $$"
      ]
    },
    {
      "cell_type": "markdown",
      "metadata": {
        "id": "LL8UNFb40dxK",
        "colab_type": "text"
      },
      "source": [
        "# 포트폴리오의 위험\n",
        "포트폴리오의 분산 구하기 (두 자산의 경우)\n",
        "\n",
        "$$ \n",
        "\\sigma^2_p = Var(r_p) = Var (w_Ar_A + w_Br_B) = w_A^2 \\times \\sigma_A^2 + w_B^2 \\times \\sigma_B^2 + 2 w_Aw_B\\sigma_{AB}  \\\\\n",
        "\\sigma_𝐴^2 = Var(r_A) = E[𝑟_𝐴 − 𝐸(𝑟_𝐴)]^2 \\\\\n",
        "\\sigma_B^2 = Var(r_B) = E[𝑟_B − 𝐸(𝑟_B)]^2 \\\\\n",
        "\\sigma_{𝐴𝐵} = 𝐶𝑜𝑣(𝑟_𝐴, 𝑟_B) = E[({𝑟_𝐴 − 𝐸(𝑟_𝐴)})({𝑟_𝐵 − 𝐸(𝑟_𝐵)})]\n",
        "$$\n",
        "\n",
        "### 공분산\n",
        "* $\\sigma_{𝐴𝐵}$은 두 주식의 수익률의 공분산 (covariance)\n",
        "* 두 주식의 수익률이 상호 관련되어 있는 정도를 측정해주는 척도"
      ]
    },
    {
      "cell_type": "markdown",
      "metadata": {
        "id": "P1qAWD9C0dxL",
        "colab_type": "text"
      },
      "source": [
        "# 상관계수 correlation coefficient\n",
        "\n",
        "* 공분산을 표준편차 곱으로 나누어 표준화한 값\n",
        "* 상관계수(ρ: rho로 읽음)\n",
        "* -1 ≤ ρ ≤ 1\n",
        "\n",
        "$$ \\rho_{AB} = \\frac { \\sigma_{AB} }{ \\sigma_{A} \\sigma_{B}}  $$\n",
        "\n",
        "상관계수식을 적용하면 포트폴리오 분산을 아래와 같이 정의할 수 있다\n",
        "\n",
        "$$ \n",
        "\\sigma^2_p = Var(r_p) = Var (w_Ar_A + w_Br_B) \\\\\n",
        "= w_A^2 \\times \\sigma_A^2 + w_B^2 \\times \\sigma_B^2 + 2 w_Aw_B \\rho_{AB} \\sigma_{A} \\sigma_{B} $$\n"
      ]
    },
    {
      "cell_type": "markdown",
      "metadata": {
        "id": "bAMdGQn20dxM",
        "colab_type": "text"
      },
      "source": [
        "# 포트폴리오의 위험 계산\n",
        "포트폴리오의 분산(위험)은 구성된 각 자산의 비율과 다른 자산의 비율 그리고 공분산의 곱으로 표현\n",
        "\n",
        "$$ \\sigma^2_p = Var(r_p) = Var (w_Ar_A + w_Br_B) = w_A^2 \\times \\sigma_A^2 + w_B^2 \\times \\sigma_B^2 + 2 w_Aw_B\\sigma_{AB}  $$\n",
        "\n",
        "$$ \\sigma_{𝐴𝐵} = 𝐶𝑜𝑣(𝑟_𝐴, 𝑟_B) = E[{_𝑟𝐴 − 𝐸(𝑟_𝐴)}{𝑟_𝐵 − 𝐸(𝑟_𝐵)}] \\\\\n",
        " \\quad = 0.2 × 37 −36 + 0.7 × −3 4 + 0.1 × −53 44 == −508 $$\n",
        "\n",
        "$$ \\rho_{AB} = \\frac { \\sigma_{AB} }{ \\sigma_{A} \\sigma_{B}} = \\frac { -508 }{ (23.69) (21.54) } = -0.996 $$\n",
        "\n",
        "$$ \\sigma_p^2 = 0.5^2 × 561 + 0.5^2 × 464 + 2 × 0.5 × 0.5 × (−508) = 2.25 $$ \n",
        "\n",
        "$$ \\sigma_p = \\sqrt{2.25} = 1.5\\% $$\n",
        "\n"
      ]
    },
    {
      "cell_type": "markdown",
      "metadata": {
        "id": "Qk1iykpo0dxN",
        "colab_type": "text"
      },
      "source": [
        "# 공분산과 상관계수 의미\n",
        "\n",
        "\n",
        "## 공분산(Covariance)\n",
        "* 확률변수의 분포가 결합된 결합확률분포의 분산\n",
        "* 방향성은 나타내지만, 정도에 대한 정보로서는 유용하지 않다.\n",
        "* 0: 두 변수간에는 아무런 선형관계가 없음\n",
        "* 0보다 크면 두 변수는 같은 방향으로 움직이고, 0보다 작으면 다른 방향으로 움직임을 의미\n",
        " \n",
        "## 상관계수(Correlation coefficient)\n",
        "* 두 변수의 공분산을 각 변수의 표준편차로 나눈 값\n",
        "* 확률변수 사이의 선형적 관계\"정도\"를 나타내는 척도\n",
        "* 방향성과 선형적 결합 \"정도\"에 대한 정보를 모두 포함\n",
        "* -1 ≤ ρ ≤ 1 (-1 쪽이면 음의 상관관계, +1 쪽이면 양의 상관관계)"
      ]
    },
    {
      "cell_type": "markdown",
      "metadata": {
        "id": "qSpCNRIM0dxO",
        "colab_type": "text"
      },
      "source": [
        "# n개의 자산으로 구성된 포트폴리오\n",
        "n 개의 자산으로 구성된 포트폴리오의 수익률,기대 수익률\n",
        "\n",
        "## 기대수익률\n",
        "\n",
        "$$ r_p = w_1 r_1 + w_2 r_2 + ⋯ + w_n r_n = \\sum_{i=1}^n {w_i r_i} $$\n",
        "\n",
        "$$ \\operatorname{E}(R_p) = \\sum_i w_i \\operatorname{E}(R_i) \\quad $$\n",
        "\n",
        "## 위험(분산)\n",
        "\n",
        "$$ \\sigma_p^2 = \\sum_i \\sum_j w_i w_j \\sigma_ij $$\n",
        "\n",
        "혹은,\n",
        "\n",
        "$$ \\sigma_p^2 = \\sum_i \\sum_j w_i w_j \\sigma_i \\sigma_j \\rho_{ij} $$"
      ]
    },
    {
      "cell_type": "markdown",
      "metadata": {
        "id": "Im0A9_n10dxO",
        "colab_type": "text"
      },
      "source": [
        "# 포트폴리오의 위험분산효과\n",
        " \n",
        "상태 | 확률 | $r_A$ |  $r_B$ | $r_C$\n",
        " :-: | -: | -: | -: | -:\n",
        "1 | 0.5 | 10 | 20 | 0\n",
        "2 | 0.5 | 10 | 0   | 20\n",
        "\n",
        "* A,B,C 기대수익률은 모두 10%, 위험은 A는 0, B와 C는 10%\n",
        "* A는 상태에 관계없이 10% 수익률의 무위험 자산\n",
        "* B와 C는 위험자산이며, 상관계수는 -1"
      ]
    },
    {
      "cell_type": "markdown",
      "metadata": {
        "id": "BqBIQB8F0dxP",
        "colab_type": "text"
      },
      "source": [
        "B와 C를 절반씩 투자하는 경우, \n",
        "$$ E(r_p ) = (0.5) \\times 10 + (0.5) \\times 10 =10\\% $$\n",
        "\n",
        "$$ \\sigma_p^2 = 0.5^2 × 10^2 + 0.5^2 × 10^2 + 2 × 0.5 × 0.5 × (−1) × 10 × 10 = 0 $$"
      ]
    },
    {
      "cell_type": "markdown",
      "metadata": {
        "id": "ibJjJ1Il0dxQ",
        "colab_type": "text"
      },
      "source": [
        "# 포트폴리오 효과 (위험분산 효과)\n",
        "\n",
        "* 분산효과(diversification effect) , 또는 포트폴리오 효과(portfolio effect)<br/>\n",
        "자산을 결합하여 포트폴리오를 구성함으로써 위험이 줄어들어 기대효용이 증가하는 현상\n",
        "*  포트폴리오 효과는 자산간의 상관계수가 -1에 가까울수록 크게 일어나고<br/>\n",
        "상관계수가 +1인 경우를 제외하면 정도의 차이는 있지만 반드시 일어난다.\n",
        "*  포트폴리오를 구성하는 자산이 많아질수록 위험은 줄어들며, **평균 공분산(average covariance) 에 수렴**, <br/>\n",
        "그 이상으로 위험이 줄지는 않는다"
      ]
    },
    {
      "cell_type": "markdown",
      "metadata": {
        "id": "wcDk5MVz0dxR",
        "colab_type": "text"
      },
      "source": [
        "# 비체계적 위험과 체계적 위험\n",
        "\n",
        "## 비체계적 위험 Nonsystematic risk:\n",
        "* 포트폴리오의 분산투자로 제거할 수 있는 위험 (분산 가능한 위험, 기업 고유의 위험)\n",
        "* 기업의 특수한 상황과 관련: 종업원의 파업, 법적 문제, 판매의 부진 등\n",
        "\n",
        "## 체계적 위험 Systematic risk:\n",
        "* 포트폴리오의 분산투자로 제거할 수 없는 위험 (분산 불능 위험, 시장위험)\n",
        "* 시장의 전반적인 상황과 관련: 인플레이션, 이자율의 변화 등\n"
      ]
    },
    {
      "cell_type": "markdown",
      "metadata": {
        "id": "vEeSelmB0dxS",
        "colab_type": "text"
      },
      "source": [
        "# 지배원리 (dominance principles)\n",
        "\n",
        "위험과 수익률 포트폴리오 평가(비교)한다. 포트폴리오들을 서로 비교할 때,\n",
        "1. 위험이 동일하다면 수익률이 높은 포트폴리오가 지배한다.\n",
        "1. 수익률이 동일하다면 위험이 적은 포트폴리오가 지배한다.\n",
        "\n",
        "서로 지배할 수 없는 포트폴리오들의 조합을 효율적투자라고 한다."
      ]
    },
    {
      "cell_type": "code",
      "metadata": {
        "id": "GKwANV9y0dxS",
        "colab_type": "code",
        "colab": {}
      },
      "source": [
        "%matplotlib inline\n",
        "import matplotlib.pyplot as plt\n",
        "import pandas as pd"
      ],
      "execution_count": 0,
      "outputs": []
    },
    {
      "cell_type": "code",
      "metadata": {
        "id": "JLSFtkuG0dxW",
        "colab_type": "code",
        "colab": {},
        "outputId": "0f266dce-9271-4ce9-ace8-682396b51bb8"
      },
      "source": [
        "data = {'ret': [10, 15, 5, 15, 20, 12], 'risk': [10, 10, 5, 15, 20, 8]}\n",
        "df = pd.DataFrame(data, index=list('ABCDEF'))\n",
        "df"
      ],
      "execution_count": 0,
      "outputs": [
        {
          "output_type": "execute_result",
          "data": {
            "text/html": [
              "<div>\n",
              "<table border=\"1\" class=\"dataframe\">\n",
              "  <thead>\n",
              "    <tr style=\"text-align: right;\">\n",
              "      <th></th>\n",
              "      <th>ret</th>\n",
              "      <th>risk</th>\n",
              "    </tr>\n",
              "  </thead>\n",
              "  <tbody>\n",
              "    <tr>\n",
              "      <th>A</th>\n",
              "      <td>10</td>\n",
              "      <td>10</td>\n",
              "    </tr>\n",
              "    <tr>\n",
              "      <th>B</th>\n",
              "      <td>15</td>\n",
              "      <td>10</td>\n",
              "    </tr>\n",
              "    <tr>\n",
              "      <th>C</th>\n",
              "      <td>5</td>\n",
              "      <td>5</td>\n",
              "    </tr>\n",
              "    <tr>\n",
              "      <th>D</th>\n",
              "      <td>15</td>\n",
              "      <td>15</td>\n",
              "    </tr>\n",
              "    <tr>\n",
              "      <th>E</th>\n",
              "      <td>20</td>\n",
              "      <td>20</td>\n",
              "    </tr>\n",
              "    <tr>\n",
              "      <th>F</th>\n",
              "      <td>12</td>\n",
              "      <td>8</td>\n",
              "    </tr>\n",
              "  </tbody>\n",
              "</table>\n",
              "</div>"
            ],
            "text/plain": [
              "   ret  risk\n",
              "A   10    10\n",
              "B   15    10\n",
              "C    5     5\n",
              "D   15    15\n",
              "E   20    20\n",
              "F   12     8"
            ]
          },
          "metadata": {
            "tags": []
          },
          "execution_count": 4
        }
      ]
    },
    {
      "cell_type": "code",
      "metadata": {
        "id": "B_HLYU1g0dxZ",
        "colab_type": "code",
        "colab": {},
        "outputId": "34eb447c-0b01-47a3-e86e-7bb7741e95ef"
      },
      "source": [
        "ax = df.plot(kind='scatter', x='risk', y='ret')\n",
        "for ix, row in df.iterrows():\n",
        "    ax.annotate(str(ix), (row['risk']+.3, row['ret']+.3))\n",
        "\n",
        "ax.axvline(df.ix['B']['risk'], color='g', linestyle='--')\n",
        "ax.axhline(df.ix['B']['ret'], color='g', linestyle='--')"
      ],
      "execution_count": 0,
      "outputs": [
        {
          "output_type": "execute_result",
          "data": {
            "text/plain": [
              "<matplotlib.lines.Line2D at 0x7f34fa8fddd8>"
            ]
          },
          "metadata": {
            "tags": []
          },
          "execution_count": 5
        },
        {
          "output_type": "display_data",
          "data": {
            "image/png": "[encoded data removed]",
            "text/plain": [
              "<matplotlib.figure.Figure at 0x7f34fa8fdeb8>"
            ]
          },
          "metadata": {
            "tags": []
          }
        }
      ]
    },
    {
      "cell_type": "markdown",
      "metadata": {
        "id": "k0JEWkPx0dxc",
        "colab_type": "text"
      },
      "source": [
        "효율적 포트폴리오 (efficient portfolio )  : 지배원리를 만족시키는 포트폴리오  "
      ]
    },
    {
      "cell_type": "markdown",
      "metadata": {
        "id": "iUU5PzUe0dxd",
        "colab_type": "text"
      },
      "source": [
        "# 시장 포트폴리오 <sup>market portpolio</sup>\n",
        "시장 포트폴리오=주가지수\n",
        "* 위험을 철저하게 분산시켜 시장 전체 위험과 동일하게 포트폴리오를 구성\n",
        "* 인덱스 펀드 (시장평균수익)\n",
        "* 제거할 수 있는 위험, 제거할 수 없는 위험"
      ]
    },
    {
      "cell_type": "markdown",
      "metadata": {
        "id": "Llt4GG7j0dxe",
        "colab_type": "text"
      },
      "source": [
        "# 동일가중 , 가치가중\n",
        "\n",
        "* 가치가중 포트폴리오가 상대적으로 안정성↑, 수익률↑\n",
        "* 가치가중에서 가중치는 기본분석, 시장가치, 목표가격, 배당수익 등 가능\n",
        "\n",
        "| 동일가중 <sup>equal-weighted</sup> | 가치가중 <sup>value-weighted</sup> |\n",
        "| - | - |\n",
        "| 개별자산에 동일 금액을 투자 | 개별자산의 다른 금액을 투자 |\n",
        "| 10개 주식에 100만원씩 투자 | 10개 주식을 1주씩 투자 |\n",
        "| 리밸런싱 계산 단순 | 리밸런싱 계산복잡 |"
      ]
    },
    {
      "cell_type": "markdown",
      "metadata": {
        "id": "eVTPeRVa0dxf",
        "colab_type": "text"
      },
      "source": [
        "# 포트폴리오 모델 (예시)\n",
        "포트폴리오 설계의 구체적인 사례\n",
        "* 주식 : 현금 : 인버스 = 50 : 30 : 20\n",
        "* 종목 수는 10가지 내외\n",
        "* 리밸런싱 주기: 3개월\n",
        "* 배당수익률 가치가중  포트폴리오"
      ]
    },
    {
      "cell_type": "markdown",
      "metadata": {
        "id": "x-7aTnZV0dxf",
        "colab_type": "text"
      },
      "source": [
        "# 노트\n",
        "* 주식간의 상관계수가 작거나 유사업종 위주로 투자하는 경우 인버스를 넣는다.\n",
        "* 종목수가 너무 많으면 리밸런싱  효과가 줄어든다.\n",
        "* 리밸런싱 주기는 개인에 따라 다양, 너무 짧으면 포트폴리오 구성의 의미가 없다. 정기적으로 하는 것이 좋다.\n",
        "* 동일가중 보다는 가치가중 포트폴리오로 운영"
      ]
    },
    {
      "cell_type": "markdown",
      "metadata": {
        "id": "ZN88f7pi0dxg",
        "colab_type": "text"
      },
      "source": [
        "# 요약\n",
        "* 종목관리 관점 &rarr; 자산관리 관점\n",
        "* 시스템 위험, 비시스템 위험\n",
        "* 포트폴리오 최적화\n",
        "* 비체계적 위험은 분산투자로 일정 정도 해소 가능"
      ]
    },
    {
      "cell_type": "markdown",
      "metadata": {
        "id": "Hf_lgSvW0dxh",
        "colab_type": "text"
      },
      "source": [
        "----\n",
        "#### 2017 FinanceData http://fb.com/financedata http://financedata.github.com"
      ]
    }
  ]
}