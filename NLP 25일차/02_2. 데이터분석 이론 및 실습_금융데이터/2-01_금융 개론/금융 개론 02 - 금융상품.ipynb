{
 "cells": [
  {
   "cell_type": "markdown",
   "metadata": {
    "slideshow": {
     "slide_type": "slide"
    }
   },
   "source": [
    "# 금융 개론 02 - 금융 상품, 금융 위험\n",
    "\n",
    "<img width=\"320\" src=\"https://goo.gl/9PuHn1\" >\n",
    "\n",
    "#### 2017 FinanceData http://fb.com/financedata"
   ]
  },
  {
   "cell_type": "markdown",
   "metadata": {
    "slideshow": {
     "slide_type": "slide"
    }
   },
   "source": [
    "# 금융 상품\n",
    "* \"Risks & Returns\" -- 금융 전체를 관통하는 원리\n",
    "* 금융상품: 예금, 대출, 채권, 주식, 펀드, 파생, 보험\n",
    "* 상품의 특성: 수익률, 안정성, 환금성"
   ]
  },
  {
   "cell_type": "markdown",
   "metadata": {
    "slideshow": {
     "slide_type": "slide"
    }
   },
   "source": [
    "# 예금 (deposits), 대출 (loans)\n",
    "* 예대마진 (Spread)\n",
    "* 예금자보호제도(예금보험공사) http://goo.gl/XEEmhM\n",
    "* 예금금리 (만기), 대출금리 (담보, 신용, 기간)"
   ]
  },
  {
   "cell_type": "markdown",
   "metadata": {
    "slideshow": {
     "slide_type": "slide"
    }
   },
   "source": [
    "# 채권 (bonds)\n",
    "* 자금을 빌려 주었다는 채무표시 유가증권 (자금 조달을 위해 투자자에게)\n",
    "* 발행기관에 따라 채권은 국채, 금융채, 회사채로 구분\n",
    "* 채권 수익률은 예금금리보다는 높게 형성\n",
    "* 채권 수익률은 만기가 짧고 발행주체가 안전할 수록 수익률이 낮음\n",
    "(\"Risks & Returns\")"
   ]
  },
  {
   "cell_type": "markdown",
   "metadata": {
    "slideshow": {
     "slide_type": "slide"
    }
   },
   "source": [
    "# 주식 (stocks)\n",
    "* 회사의 소유권\n",
    "* 수익을 내는 방법 2가지: 1) 시세 차익, 2) 배당"
   ]
  },
  {
   "cell_type": "markdown",
   "metadata": {
    "slideshow": {
     "slide_type": "slide"
    }
   },
   "source": [
    "# 간접투자상품 (fund)\n",
    "* 투자 전문가 수익자 대신에 주식, 채권에 투자, 수익을 나누어 주는 투자상품\n",
    "* 집합투자기구(펀드) http://goo.gl/2NIdh8"
   ]
  },
  {
   "cell_type": "markdown",
   "metadata": {
    "slideshow": {
     "slide_type": "slide"
    }
   },
   "source": [
    "# 파생금융상품 (derivatives)\n",
    "* 선물 (futures): 표준화된 선도거래, 거래소에서 약정 (기초자산:주가지수, 환율, 원자재)\n",
    "* 옵션 (options): 약정된 가격에 사거나 팔 수 있는 \"권리\" 부여하는 계약\n",
    "* 스왑 (swaps): 약정한 방식대로 미래의 현금흐름을 교환하는 계약 (금리스왑, 통화스왑) "
   ]
  },
  {
   "cell_type": "markdown",
   "metadata": {
    "slideshow": {
     "slide_type": "slide"
    }
   },
   "source": [
    "# 보험 (insurance)\n",
    "* 사망, 재해, 사고 등 우연히 발생할 위험에 공동으로 대비하고자 만들어진 금융상품\n",
    "* 생명보험 (Life), 손해보험 (Non-Life), 재보험 (Reinsurance)\n",
    "* 보험은 투자상품이 아니다"
   ]
  },
  {
   "cell_type": "markdown",
   "metadata": {
    "slideshow": {
     "slide_type": "slide"
    }
   },
   "source": [
    "# 금융 위험\n",
    "조삼모사는 사실 사람보다 똑똑한 원숭이들의 이야기\n",
    "<img width=\"320\" src=\"http://news.kbiz.or.kr/news/photo/first/200811/img_16976_1.jpg\"/>\n",
    "1. 인플레이션 inflation\n",
    "1. 생산기회 production opportunity\n",
    "1. 시차선호 time preference\n",
    "1. 리스크 risk\n",
    "\n"
   ]
  },
  {
   "cell_type": "markdown",
   "metadata": {
    "slideshow": {
     "slide_type": "slide"
    }
   },
   "source": [
    "# 시장의 실패\n",
    "\n",
    "* 시장의 실패 - 수요와 공급의 불일치\n",
    "* 시장 실패의 가장 큰 요인은 - 시장 참여자의 탐욕, 튤립투기\n",
    "* 시장 정책 실패 - 유인제도 (Incentive system)"
   ]
  },
  {
   "cell_type": "markdown",
   "metadata": {
    "slideshow": {
     "slide_type": "slide"
    }
   },
   "source": [
    "# 금융 위기\n",
    "금융 위험: 상환 불이행의 위험, 과대 평가, 금융 버블 (투자→투기→거품→ 붕괴)\n",
    "* 네덜란드 튤립거품 (1634~1637): 개량품종 유행, 1뿌리에 최대, 약 1억6000만원\n",
    "* 대공황 (1929~1933): 9,755개 은행 도산, 주가 고점대비 89.2% 하락\n",
    "* 미국 저축 대부조합 위기(1984~1992): 1137개 은행 도산, 1991년 마이너스 성장\n",
    "* 북유럽 3개국 금융위기 (1988~1993): 대형 금융기관 도산, 스웨덴, 핀란드, 마이너스 성장\n",
    "* 일본 금융위기 (1990~2002): 142개 금융기관 도산, GDP성장 급락 3.9% → 1.0%\n",
    "* 서브 프라임 모기지 (2001년 시작~현재): 2008년 9월 세계금융위기, 피해액 $20조 이상"
   ]
  },
  {
   "cell_type": "markdown",
   "metadata": {
    "slideshow": {
     "slide_type": "slide"
    }
   },
   "source": [
    "# 금융위기 영화\n",
    "\"곤경에 빠지는 건 뭔가를 몰라서가 아니다. 뭔가를 확실히 안다는 착각 때문이다\"  -마크 트웨인\n",
    "* 겜블 (Rogue Trader, 1999): 20대 직원 릭 니슨, 233년 전통의 베어링스 은행 파산\n",
    "* 인사이드 잡 (Inside Job, 2010): 다큐멘터, 2008년 금융위기의 원인과 영향\n",
    "* 마진 콜(Margin Call, 2011): 공학자 출신 퀀트, 월스트리트의 내부의 탐욕\n",
    "* 빅쇼트(Big Short, 2016): 2008년 서브프라임 모기지 쉽게 설명\n",
    "\n"
   ]
  },
  {
   "cell_type": "markdown",
   "metadata": {
    "slideshow": {
     "slide_type": "slide"
    }
   },
   "source": [
    "# 리뷰\n",
    "* 금융 상품: Risks & Returns\n",
    "* 예금, 대출, 채권, 주식, 펀드, 파생, 보험\n",
    "* 금융 위험 (Financial risk)"
   ]
  },
  {
   "cell_type": "markdown",
   "metadata": {
    "slideshow": {
     "slide_type": "skip"
    }
   },
   "source": [
    "----\n",
    "#### 2017 FinanceData http://fb.com/financedata http://financedata.github.com"
   ]
  }
 ],
 "metadata": {
  "celltoolbar": "Slideshow",
  "kernelspec": {
   "display_name": "Python 3",
   "language": "python",
   "name": "python3"
  },
  "language_info": {
   "codemirror_mode": {
    "name": "ipython",
    "version": 3
   },
   "file_extension": ".py",
   "mimetype": "text/x-python",
   "name": "python",
   "nbconvert_exporter": "python",
   "pygments_lexer": "ipython3",
   "version": "3.5.2"
  }
 },
 "nbformat": 4,
 "nbformat_minor": 1
}