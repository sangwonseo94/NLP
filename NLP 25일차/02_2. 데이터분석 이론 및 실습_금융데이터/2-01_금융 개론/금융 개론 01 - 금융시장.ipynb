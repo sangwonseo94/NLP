{
 "cells": [
  {
   "cell_type": "markdown",
   "metadata": {
    "slideshow": {
     "slide_type": "slide"
    }
   },
   "source": [
    "# 금융 개론 01 - 금융 시장\n",
    "\n",
    "<img width=\"320\" src=\"https://goo.gl/9PuHn1\" >\n",
    "\n",
    "#### 2017 FinanceData http://fb.com/financedata"
   ]
  },
  {
   "cell_type": "markdown",
   "metadata": {
    "slideshow": {
     "slide_type": "slide"
    }
   },
   "source": [
    "# 금융, 금융 데이터\n",
    "금융: 한 마디로 \"돈 빌리고 빌려주는 거래\" <br/>(금융시장은 돈 빌리고 빌려주는 시장)\n",
    "* 이 거래의 가장 중요한 요소는 이자 (interest)\n",
    "* 금융 데이터: 금융 거래에서 나타나는 수치 자료 (가격, 수익률 등)"
   ]
  },
  {
   "cell_type": "markdown",
   "metadata": {
    "slideshow": {
     "slide_type": "slide"
    }
   },
   "source": [
    "# 돈 & 통화\n",
    "* 돈(우리말)(money)과 화폐(한자어) 는 같은 말\n",
    "* 돈(money)과 통화(currency) 는 다른 말\n",
    "* 통화: 유통화폐의 줄임 말. 즉, 거래에 쓰이는(시중에 돌고 있는) 돈\n",
    "* [e-나라지표] 통화량 추이 http://goo.gl/e9bpTC"
   ]
  },
  {
   "cell_type": "markdown",
   "metadata": {
    "slideshow": {
     "slide_type": "slide"
    }
   },
   "source": [
    "# 증권 & 주식\n",
    "* 증권 securities: 재산상의 권리 증명하는 종이; 주식, 채권, 어음, 수표\n",
    "* 주식 stocks, share: 자본금 납입 증서"
   ]
  },
  {
   "cell_type": "markdown",
   "metadata": {
    "slideshow": {
     "slide_type": "slide"
    }
   },
   "source": [
    "# 물가 = 돈의 가치\n",
    "### 한국은행의 가장 중요한 업무의 순서는?\n",
    "* 물가 안정, 화폐의 발행, 통화신용정책, 금융기관에 여신/수신\n",
    "\n",
    "### 물가 = 돈의 가치\n",
    "* 돈의 가치는 물가로 표현: 물가 상승(=돈의 가치 하락), 물가 하락(=돈의 가치 상승)\n",
    "* 지수형태인 물가지수로 파악: 소비자물가지수(CPI), 생산자물가지수(PPI)"
   ]
  },
  {
   "cell_type": "markdown",
   "metadata": {
    "slideshow": {
     "slide_type": "slide"
    }
   },
   "source": [
    "# 물가의 측정\n",
    "* 인플레이션 (inflation) : 물가가 지속적으로 오르는 현상\n",
    "* 디플레이션 (deflation) : 물가가 지속적으로 내리는 현상\n",
    "\n",
    "\n",
    "인플레이션과 디플레이션 어떤 것이 더 나쁜가? <br>\n",
    "(많은 경제학자가 2% 정도의 인플레이션은 바람직하다고 주장)"
   ]
  },
  {
   "cell_type": "markdown",
   "metadata": {
    "slideshow": {
     "slide_type": "slide"
    }
   },
   "source": [
    "# 금융 시장 (Financial market)\n",
    "<b>Market(시장)</b>: 상품(금융상품) -- 공급자(금융회사) -- 소비자(금융소비자)\n",
    "* 금융 & 상품\n",
    "* 금융기관 & 금융회사\n",
    "* 금융 투자자 & 금융 소비자"
   ]
  },
  {
   "cell_type": "markdown",
   "metadata": {
    "slideshow": {
     "slide_type": "slide"
    }
   },
   "source": [
    "# 우리나라 금융시장 구조\n",
    "\n",
    "<img width=\"480\" src=\"http://i.imgur.com/QyktroV.png\" >\n",
    "\n",
    "<출처: 우리나라 금융시장, 한국은행>"
   ]
  },
  {
   "cell_type": "markdown",
   "metadata": {
    "slideshow": {
     "slide_type": "slide"
    }
   },
   "source": [
    "# 금융 시장 (Financial market) 구분\n",
    "* 기간(보통 1년)에 따라: 단기금융시장 (Money market), 자본시장 (Capital market)\n",
    "* 이자,만기여부에 따라: 채권시장 (debt market), 주식시장 (Equity market)\n",
    "* 발행/유통에 따라: 발행시장 (primary market), 유통시장 (Secondary market)"
   ]
  },
  {
   "cell_type": "markdown",
   "metadata": {
    "slideshow": {
     "slide_type": "slide"
    }
   },
   "source": [
    "# 금융회사\n",
    "* 상업은행 (Commercial Bank): 여신 (loan), 수신 (deposit) (saving)\n",
    "* 투자은행 (Investment Bank): 기업과 투자주체를 연결 (주식, 채권, 외환, PF 등)\n",
    "\n",
    "※ CIB(CB+IB), UB(Universal Bank, 은행·증권·보험 업무 통합) <br/>\n",
    "※ 겸업주의 (Universal Banking): 은행, 증권, 보험의 경계가 없어지는 것"
   ]
  },
  {
   "cell_type": "markdown",
   "metadata": {
    "slideshow": {
     "slide_type": "slide"
    }
   },
   "source": [
    "# 채권 시장 (Debt market)\n",
    "## 발행시장 (Primary market)\n",
    "* 공모발행 (Public offering): 인수기관(증권회사)가 총액을 인수\n",
    "* 사모발행 (Private placement): 발행기업이 매수자와 조건을 직접 협의\n",
    "\n",
    "## 유통시장 (Secondary market)\n",
    "* 장내시장 (Exchange market): 거래소에서 표준화된 방식으로 거래\n",
    "* 장외시장 (Over The Counter; OTC): 증권회사가 단순중계 brokerage로 거래"
   ]
  },
  {
   "cell_type": "markdown",
   "metadata": {
    "slideshow": {
     "slide_type": "slide"
    }
   },
   "source": [
    "# 주식 시장 (Equity market)\n",
    "\n",
    "## 발행시장 (Primary market)\n",
    "* IPO, 유상증자, 무상증자, 주식배당, 전환사채 주식전환\n",
    "\n",
    "## 유통시장 (Secondary market) (상장기업 1,987개)\n",
    "* 유가증권시장 (779종목): 자기자본 300억, 소액주주 700명 이상\n",
    "* 코스닥 시장 (1208종목): 자기자본 30억, 소액주주 500인 이상\n",
    "* 코넥스 시장 (142종목), K-OTC(140종목), KSM(39종목)\n",
    "* 장외주식거래\n",
    "\n",
    "(2016년말 기준)"
   ]
  },
  {
   "cell_type": "markdown",
   "metadata": {
    "slideshow": {
     "slide_type": "slide"
    }
   },
   "source": [
    "# 파생 시장 (Derivatives market)\n",
    "* 선물 (Futures), 옵션 (Options), 스왑 (Swaps)\n",
    "* 선도계약 (Forwards): 기초자산을 현재시점에서 약정된 가격으로 미래 일정 시점에 매입/매도하기로 약정하는 거래"
   ]
  },
  {
   "cell_type": "markdown",
   "metadata": {
    "slideshow": {
     "slide_type": "slide"
    }
   },
   "source": [
    "# 리뷰\n",
    "* 돈과 화폐의 차이 (물가=돈의 가치)\n",
    "* 금융시장 (Financial market)\n",
    "* 금융회사: CB, IB, CIB\n",
    "* Debt market, Equity market, Derivatives market"
   ]
  },
  {
   "cell_type": "markdown",
   "metadata": {
    "slideshow": {
     "slide_type": "skip"
    }
   },
   "source": [
    "----\n",
    "#### 2017 FinanceData http://fb.com/financedata http://financedata.github.com"
   ]
  }
 ],
 "metadata": {
  "celltoolbar": "Slideshow",
  "kernelspec": {
   "display_name": "Python 3",
   "language": "python",
   "name": "python3"
  },
  "language_info": {
   "codemirror_mode": {
    "name": "ipython",
    "version": 3
   },
   "file_extension": ".py",
   "mimetype": "text/x-python",
   "name": "python",
   "nbconvert_exporter": "python",
   "pygments_lexer": "ipython3",
   "version": "3.5.2"
  }
 },
 "nbformat": 4,
 "nbformat_minor": 1
}