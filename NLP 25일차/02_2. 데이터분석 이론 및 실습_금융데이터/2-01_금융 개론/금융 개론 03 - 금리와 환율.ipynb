{
  "nbformat": 4,
  "nbformat_minor": 0,
  "metadata": {
    "colab": {
      "name": "금융 개론 03 - 금리와 환율.ipynb",
      "version": "0.3.2",
      "provenance": [],
      "collapsed_sections": []
    },
    "language_info": {
      "codemirror_mode": {
        "name": "ipython",
        "version": 3
      },
      "file_extension": ".py",
      "mimetype": "text/x-python",
      "name": "python",
      "nbconvert_exporter": "python",
      "pygments_lexer": "ipython3",
      "version": "3.6.7"
    },
    "kernelspec": {
      "display_name": "Python 3",
      "language": "python",
      "name": "python3"
    }
  },
  "cells": [
    {
      "cell_type": "markdown",
      "metadata": {
        "slideshow": {
          "slide_type": "slide"
        },
        "id": "Z9SKduHcB4mS",
        "colab_type": "text"
      },
      "source": [
        "# 금융 개론 03 - 금리와 환율\n",
        "\n",
        "<img width=\"320\" src=\"https://goo.gl/9PuHn1\" >\n",
        "\n",
        "#### 2017-2019 [FinanceData.KR]()\n"
      ]
    },
    {
      "cell_type": "markdown",
      "metadata": {
        "slideshow": {
          "slide_type": "slide"
        },
        "id": "Uklha15RB4mV",
        "colab_type": "text"
      },
      "source": [
        "# 금리(interest rate)\n",
        "돈을 빌려주고 빌리는 대가\n",
        "* 현금 사용을 미룬 데 대한 보상\n",
        "* 투자했을 경우 수익에 대한 보상\n",
        "* 돈을 떼이는 위험 감수에 대한 보상\n",
        "* 물가 상승에 따른 돈 가치 하락에 대한 보상"
      ]
    },
    {
      "cell_type": "markdown",
      "metadata": {
        "slideshow": {
          "slide_type": "slide"
        },
        "id": "dSmXC5sfB4mW",
        "colab_type": "text"
      },
      "source": [
        "# 금리 결정\n",
        "수요(돈을 빌리는)와 공급(돈을 빌려주는)에 따라 결정\n",
        "* 단리 (simple interest) , 복리 (compound interest)\n",
        "* 명목금리 (nominal), 실질금리 (real)  (명목금리 - 물가상승률)\n",
        "* 금리 = 무위험 수익률(risk-free rate of return) + 위험 프리미엄 (risk premium)"
      ]
    },
    {
      "cell_type": "markdown",
      "metadata": {
        "slideshow": {
          "slide_type": "slide"
        },
        "id": "CGUWMeirB4mX",
        "colab_type": "text"
      },
      "source": [
        "# 단리 (simple interest), 복리 (compound interest)\n",
        "\n",
        "* 단리: 1년차 5%, 2년차 6% (총 수익율은 11%)\n",
        "* 복리: 2년간 5.5% (총 수익율은 11.3%)"
      ]
    },
    {
      "cell_type": "markdown",
      "metadata": {
        "slideshow": {
          "slide_type": "slide"
        },
        "id": "mPBQ4w8LB4mY",
        "colab_type": "text"
      },
      "source": [
        "# 복리 72 법칙\n",
        "* 원금 2배가 되는데 걸리는 시간 = 72 / (수익율%)\n",
        "* 1%: 69.7년, 2%: 35.0년 ... 10%: 7.3년"
      ]
    },
    {
      "cell_type": "markdown",
      "metadata": {
        "slideshow": {
          "slide_type": "slide"
        },
        "id": "Kc8oFNNQB4ma",
        "colab_type": "text"
      },
      "source": [
        "# 미래가치의 계산(=복리계산)\n",
        "\n",
        "FV : 미래가치, PV: 현재가치, r: 이자율\n",
        "* $FV = PV (1 + r)$\n",
        "* $FV_2  = PV(1+r) + PV(1+r) * r = PV(1+r)*(1+r) = PV(1+r)^2$\n",
        "\n",
        "일반화 하면, (n=횟수, 일반적으로 년)\n",
        "* $FV_n = PV(1+r)^n$"
      ]
    },
    {
      "cell_type": "markdown",
      "metadata": {
        "slideshow": {
          "slide_type": "slide"
        },
        "id": "VP7idsNLB4mb",
        "colab_type": "text"
      },
      "source": [
        "# 미래가치, 현재가치\n",
        "\n",
        "미래가치 (FV)\n",
        "$$ FV = PV * (1+r)^n $$\n",
        "\n",
        "현재가치 (PV)\n",
        "$$ PV = \\frac{FV}{(1+r)^n} $$\n",
        "\n",
        "예를 들어, 10년 뒤에 1억원을 줄께라고 했을 때, 이것을 현재로 환산하면 얼마일까?"
      ]
    },
    {
      "cell_type": "markdown",
      "metadata": {
        "slideshow": {
          "slide_type": "slide"
        },
        "id": "1zBfs3P1B4mc",
        "colab_type": "text"
      },
      "source": [
        "# 예제 1) 미래가치\n",
        "현재 100만원이 10년 후의 미래가치는? (시중 예금 금리: 4%) <br/>\n",
        "\n",
        "$$100 만원 * (1 + 0.04)^{10} = ? $$"
      ]
    },
    {
      "cell_type": "code",
      "metadata": {
        "slideshow": {
          "slide_type": "-"
        },
        "id": "UJeGIE4nB4md",
        "colab_type": "code",
        "colab": {
          "base_uri": "https://localhost:8080/",
          "height": 35
        },
        "outputId": "28cca734-b15b-43f6-e929-585875e9b41a"
      },
      "source": [
        "100 * (1 + 0.04) ** 10"
      ],
      "execution_count": 13,
      "outputs": [
        {
          "output_type": "execute_result",
          "data": {
            "text/plain": [
              "148.02442849183444"
            ]
          },
          "metadata": {
            "tags": []
          },
          "execution_count": 7
        },
        {
          "output_type": "execute_result",
          "data": {
            "text/plain": [
              "148.02442849183444"
            ]
          },
          "metadata": {
            "tags": []
          },
          "execution_count": 13
        }
      ]
    },
    {
      "cell_type": "markdown",
      "metadata": {
        "slideshow": {
          "slide_type": "slide"
        },
        "id": "2WTItOICB4mj",
        "colab_type": "text"
      },
      "source": [
        "# 예제 2) 현재가치\n",
        "\n",
        "어떤 사람이 2년후에 100만원을 준다고 약속했다. <br/>이 약속된 금액의  현재 가치는? (시중 예금 금리는 4%로 가정)\n",
        "\n",
        "$$100만원 / (1 + 0.04)^2 = ?$$"
      ]
    },
    {
      "cell_type": "code",
      "metadata": {
        "slideshow": {
          "slide_type": "-"
        },
        "id": "wOkJ46wDB4mk",
        "colab_type": "code",
        "colab": {
          "base_uri": "https://localhost:8080/",
          "height": 35
        },
        "outputId": "bd12b8fd-f331-48e7-8656-5e6d25504e7d"
      },
      "source": [
        "100 / (1 + 0.04) ** 2"
      ],
      "execution_count": 14,
      "outputs": [
        {
          "output_type": "execute_result",
          "data": {
            "text/plain": [
              "92.45562130177514"
            ]
          },
          "metadata": {
            "tags": []
          },
          "execution_count": 8
        },
        {
          "output_type": "execute_result",
          "data": {
            "text/plain": [
              "92.45562130177514"
            ]
          },
          "metadata": {
            "tags": []
          },
          "execution_count": 14
        }
      ]
    },
    {
      "cell_type": "markdown",
      "metadata": {
        "slideshow": {
          "slide_type": "slide"
        },
        "id": "naXkgl_0B4mo",
        "colab_type": "text"
      },
      "source": [
        "# 환율 (Exchange rates)\n",
        "* 환율: 화폐 교환 비율\n",
        "* 자국통화표시환율: 1000원 / 달러\n",
        "* 외국통화표시환율: 0.001 달러 / 원\n",
        "* 환율은 외환시장에서 결정"
      ]
    },
    {
      "cell_type": "markdown",
      "metadata": {
        "slideshow": {
          "slide_type": "slide"
        },
        "id": "lgjXuFOJB4mp",
        "colab_type": "text"
      },
      "source": [
        "# 원/달러 환율의 인상/인하, 평가 절상/절하\n",
        "* 1000원 → 1100원: 환율 인상, 원화가 평가 절하(우리 돈의 가치가 떨어짐)\n",
        "* 1100원 → 1000원: 환율 인하, 원화가 평가 절상(우리 돈의 가치가 올라감)"
      ]
    },
    {
      "cell_type": "markdown",
      "metadata": {
        "slideshow": {
          "slide_type": "slide"
        },
        "id": "rr8fyx9aB4mq",
        "colab_type": "text"
      },
      "source": [
        "# 국가별 환율\n",
        "국가별 환율 표현: USD, JPY, EUR, GBP, CAD, CNY, AUD\n",
        "* USDKRW (1 USD에 대한 KRW 가격)\n",
        "* http://finance.yahoo.com/q?s=USDKRW=X (USD KRW)\n",
        "* http://finance.naver.com/search/search.nhn?query=GBPKRW\n",
        "* http://finance.yahoo.com/q?s=GBPUSD=X (GBP  USD)\n",
        "\n",
        "(참고) CNY(=국제코드), RMB 런민비(=단위), <br/>CNH (홍콩에서 거래되는 인민폐, 역외 중국 인민폐) "
      ]
    },
    {
      "cell_type": "markdown",
      "metadata": {
        "slideshow": {
          "slide_type": "slide"
        },
        "id": "M7rtTyaJB4mr",
        "colab_type": "text"
      },
      "source": [
        "# 외환시장 (Foreign exchange)\n",
        "* 외환 = 외국돈(외화) + 외화표시 자산\n",
        "* 외환시장: 외환이 거래되는 시장\n",
        "* 우리나라는 수출입 중요, 외환 변동 영향이 크게 나타난다"
      ]
    },
    {
      "cell_type": "markdown",
      "metadata": {
        "slideshow": {
          "slide_type": "slide"
        },
        "id": "cBEgFrYlB4ms",
        "colab_type": "text"
      },
      "source": [
        "# 환율 변동의 효과\n",
        "환율 상승, 하락\n",
        "* 환율↑: 수출 가격↓(=수출↑), 수입 가격↑(=수입↓), 수입원자재 가격↑ (=물가↑)\n",
        "* 환율↓: 수출 가격↑(=수출↓), 수입 가격↓(=수입↑), 수입원자재 가격↓ (=물가↓)\n",
        "\n",
        "환율 급락, 급상승 영향\n",
        "* 급상승: 수입업체와 외화 부채가 많은 기업은 어려움을 당함\n",
        "* 급락: 수출업체의 가격 경쟁력이 급격하게 떨어짐\n",
        "* 외환 보유고를 가지고 급격한 변동을 줄이는 것이 주요한 외환 정책"
      ]
    },
    {
      "cell_type": "markdown",
      "metadata": {
        "slideshow": {
          "slide_type": "slide"
        },
        "id": "55B2Z8_KB4mt",
        "colab_type": "text"
      },
      "source": [
        "# 환율 제도\n",
        "* 고정환율제도\n",
        "* 변동환율제도\n",
        "\n",
        "※ 중국: 관리변동환율제"
      ]
    },
    {
      "cell_type": "markdown",
      "metadata": {
        "slideshow": {
          "slide_type": "slide"
        },
        "id": "9Aq5lqyLB4mv",
        "colab_type": "text"
      },
      "source": [
        "# 우리나라의 환율제도\n",
        "* 변동 폭에 제한이 없는 자유변동환율제도 (1997년 외환 위기 이후) <br/>\n",
        "(외환위기: 단기적인 외화자본이 급격하게 유출되면서 원화 환율이 급등하는 현상)\n",
        "\n",
        "## 우리나라 환율 추이\n",
        "<img src=\"http://goo.gl/6CSHvr\" />"
      ]
    },
    {
      "cell_type": "markdown",
      "metadata": {
        "slideshow": {
          "slide_type": "slide"
        },
        "id": "8pMppa5pB4mw",
        "colab_type": "text"
      },
      "source": [
        "# 금리, 주가, 환율 삼각 관계\n",
        "금리, 주가, 환율는 서로 대상과 반대로 움직이는 경향이 있다 (상호 영향)\n",
        "\n",
        "### 주가 ― 금리\n",
        "* 금리↓ ― 저축 감소↓ 주식투자↑ ― 주가↑\n",
        "* 금리↓ ― 기업 대출↑ 기업투자↑ ― 주가↑\n",
        "\n",
        "### 금리 ― 환율\n",
        "* 금리↓ ― 원화 공급↑ ― 환율↑\n",
        "\n",
        "### 환율 ― 주가\n",
        "* (단기: 반비례) 환율↑ ― 외국인↓ ― 주가↓\n",
        "* (장기: 비례) 환율↑ ― 수출↑ ― 주가↑"
      ]
    },
    {
      "cell_type": "markdown",
      "metadata": {
        "slideshow": {
          "slide_type": "slide"
        },
        "id": "5F803ZlVB4mx",
        "colab_type": "text"
      },
      "source": [
        "# 금리와 환율\n",
        "<img width=\"80%\" src=\"http://i.imgur.com/74J0xi5.jpg\" />\n",
        "\n",
        "* 금리와 환율은 대부분 반대로 움직이지만 항상 그런 것은 아니다"
      ]
    },
    {
      "cell_type": "markdown",
      "metadata": {
        "slideshow": {
          "slide_type": "slide"
        },
        "id": "JKJah30kB4m0",
        "colab_type": "text"
      },
      "source": [
        "# 금리변동\n",
        "금리 인상은 돌고 돌아 다시 금리 하락 요인으로 작용한다\n",
        "* 금리↑ ― 내외금리차확대 ↑ ― 외자유입 ↑ ― 환율↓ ― 금리↓\n",
        "* 금리↑ ― 기업가치↓ ―  여신조정↓ ― 투자↓ ― 금리↓\n",
        "* 금리↑ ― 인플레이션기대↓ ― 요소/재화 가격↓ ― 경기/물가↓ ― 금리↓\n",
        "* 금리↑ ― 주가↓ ― 기대소득↓ ― 소비↓ ― 금리↓\n",
        "* 금리↑ ― 자금공급↑ 자금수요↓ ― 소비 투자↓ ― 금리↓"
      ]
    },
    {
      "cell_type": "markdown",
      "metadata": {
        "slideshow": {
          "slide_type": "slide"
        },
        "id": "lywSDUXWB4m2",
        "colab_type": "text"
      },
      "source": [
        "# 환율과 주가\n",
        "환율↑ ― 수출↑― 주가↑가 상식이지만, 실제로는 반대로 움직인다."
      ]
    },
    {
      "cell_type": "code",
      "metadata": {
        "id": "8iN-B3pMCJOW",
        "colab_type": "code",
        "colab": {}
      },
      "source": [
        "!pip install -q finance-datareader"
      ],
      "execution_count": 0,
      "outputs": []
    },
    {
      "cell_type": "code",
      "metadata": {
        "id": "oLBhXBwjCJJx",
        "colab_type": "code",
        "colab": {
          "base_uri": "https://localhost:8080/",
          "height": 228
        },
        "outputId": "a1dc2c91-fb84-4582-d084-0ce9f68bcc1d"
      },
      "source": [
        "import FinanceDataReader as fdr\n",
        "import pandas_datareader as pdr \n",
        "\n",
        "df_dexkous = pdr.DataReader('DEXKOUS', 'fred', '1995-01-01', '2018-12-31')\n",
        "df_ks11 = fdr.DataReader('KS11', '1995-01-01', '2018-12-31')\n",
        "\n",
        "df_ks11['DEXKOUS'] = df_dexkous['DEXKOUS']\n",
        "df_ks11.head()"
      ],
      "execution_count": 19,
      "outputs": [
        {
          "output_type": "execute_result",
          "data": {
            "text/html": [
              "<div>\n",
              "<style scoped>\n",
              "    .dataframe tbody tr th:only-of-type {\n",
              "        vertical-align: middle;\n",
              "    }\n",
              "\n",
              "    .dataframe tbody tr th {\n",
              "        vertical-align: top;\n",
              "    }\n",
              "\n",
              "    .dataframe thead th {\n",
              "        text-align: right;\n",
              "    }\n",
              "</style>\n",
              "<table border=\"1\" class=\"dataframe\">\n",
              "  <thead>\n",
              "    <tr style=\"text-align: right;\">\n",
              "      <th></th>\n",
              "      <th>Close</th>\n",
              "      <th>Open</th>\n",
              "      <th>High</th>\n",
              "      <th>Low</th>\n",
              "      <th>Volume</th>\n",
              "      <th>Change</th>\n",
              "      <th>DEXKOUS</th>\n",
              "    </tr>\n",
              "    <tr>\n",
              "      <th>Date</th>\n",
              "      <th></th>\n",
              "      <th></th>\n",
              "      <th></th>\n",
              "      <th></th>\n",
              "      <th></th>\n",
              "      <th></th>\n",
              "      <th></th>\n",
              "    </tr>\n",
              "  </thead>\n",
              "  <tbody>\n",
              "    <tr>\n",
              "      <th>1995-01-03</th>\n",
              "      <td>1013.57</td>\n",
              "      <td>1026.17</td>\n",
              "      <td>1029.83</td>\n",
              "      <td>1013.57</td>\n",
              "      <td>19070000.0</td>\n",
              "      <td>-0.0134</td>\n",
              "      <td>791.8</td>\n",
              "    </tr>\n",
              "    <tr>\n",
              "      <th>1995-01-04</th>\n",
              "      <td>997.01</td>\n",
              "      <td>1012.07</td>\n",
              "      <td>1012.07</td>\n",
              "      <td>995.79</td>\n",
              "      <td>39350000.0</td>\n",
              "      <td>-0.0163</td>\n",
              "      <td>791.6</td>\n",
              "    </tr>\n",
              "    <tr>\n",
              "      <th>1995-01-05</th>\n",
              "      <td>976.06</td>\n",
              "      <td>996.57</td>\n",
              "      <td>997.10</td>\n",
              "      <td>975.79</td>\n",
              "      <td>53410000.0</td>\n",
              "      <td>-0.0210</td>\n",
              "      <td>792.4</td>\n",
              "    </tr>\n",
              "    <tr>\n",
              "      <th>1995-01-06</th>\n",
              "      <td>975.32</td>\n",
              "      <td>975.94</td>\n",
              "      <td>982.58</td>\n",
              "      <td>969.68</td>\n",
              "      <td>50930000.0</td>\n",
              "      <td>-0.0008</td>\n",
              "      <td>792.7</td>\n",
              "    </tr>\n",
              "    <tr>\n",
              "      <th>1995-01-07</th>\n",
              "      <td>988.80</td>\n",
              "      <td>975.35</td>\n",
              "      <td>993.61</td>\n",
              "      <td>975.18</td>\n",
              "      <td>33840000.0</td>\n",
              "      <td>0.0138</td>\n",
              "      <td>NaN</td>\n",
              "    </tr>\n",
              "  </tbody>\n",
              "</table>\n",
              "</div>"
            ],
            "text/plain": [
              "              Close     Open     High      Low      Volume  Change  DEXKOUS\n",
              "Date                                                                       \n",
              "1995-01-03  1013.57  1026.17  1029.83  1013.57  19070000.0 -0.0134    791.8\n",
              "1995-01-04   997.01  1012.07  1012.07   995.79  39350000.0 -0.0163    791.6\n",
              "1995-01-05   976.06   996.57   997.10   975.79  53410000.0 -0.0210    792.4\n",
              "1995-01-06   975.32   975.94   982.58   969.68  50930000.0 -0.0008    792.7\n",
              "1995-01-07   988.80   975.35   993.61   975.18  33840000.0  0.0138      NaN"
            ]
          },
          "metadata": {
            "tags": []
          },
          "execution_count": 19
        }
      ]
    },
    {
      "cell_type": "code",
      "metadata": {
        "id": "jgiuMRjrC9qN",
        "colab_type": "code",
        "colab": {
          "base_uri": "https://localhost:8080/",
          "height": 485
        },
        "outputId": "1eb82dac-fe25-403a-d9a5-ce4d48e4bf0c"
      },
      "source": [
        "df_ks11[['Close', 'DEXKOUS']].plot(figsize=(16, 8))"
      ],
      "execution_count": 20,
      "outputs": [
        {
          "output_type": "execute_result",
          "data": {
            "text/plain": [
              "<matplotlib.axes._subplots.AxesSubplot at 0x7fafbdfaabe0>"
            ]
          },
          "metadata": {
            "tags": []
          },
          "execution_count": 20
        },
        {
          "output_type": "display_data",
          "data": {
            "image/png": "[encoded data removed]",
            "text/plain": [
              "<Figure size 1152x576 with 1 Axes>"
            ]
          },
          "metadata": {
            "tags": []
          }
        }
      ]
    },
    {
      "cell_type": "code",
      "metadata": {
        "id": "qJwU5pODD2zI",
        "colab_type": "code",
        "colab": {
          "base_uri": "https://localhost:8080/",
          "height": 108
        },
        "outputId": "4caec3fa-3c12-4c49-e8e2-ad3bc187f40d"
      },
      "source": [
        "df_ks11[['Close', 'DEXKOUS']].corr()"
      ],
      "execution_count": 21,
      "outputs": [
        {
          "output_type": "execute_result",
          "data": {
            "text/html": [
              "<div>\n",
              "<style scoped>\n",
              "    .dataframe tbody tr th:only-of-type {\n",
              "        vertical-align: middle;\n",
              "    }\n",
              "\n",
              "    .dataframe tbody tr th {\n",
              "        vertical-align: top;\n",
              "    }\n",
              "\n",
              "    .dataframe thead th {\n",
              "        text-align: right;\n",
              "    }\n",
              "</style>\n",
              "<table border=\"1\" class=\"dataframe\">\n",
              "  <thead>\n",
              "    <tr style=\"text-align: right;\">\n",
              "      <th></th>\n",
              "      <th>Close</th>\n",
              "      <th>DEXKOUS</th>\n",
              "    </tr>\n",
              "  </thead>\n",
              "  <tbody>\n",
              "    <tr>\n",
              "      <th>Close</th>\n",
              "      <td>1.000000</td>\n",
              "      <td>-0.205568</td>\n",
              "    </tr>\n",
              "    <tr>\n",
              "      <th>DEXKOUS</th>\n",
              "      <td>-0.205568</td>\n",
              "      <td>1.000000</td>\n",
              "    </tr>\n",
              "  </tbody>\n",
              "</table>\n",
              "</div>"
            ],
            "text/plain": [
              "            Close   DEXKOUS\n",
              "Close    1.000000 -0.205568\n",
              "DEXKOUS -0.205568  1.000000"
            ]
          },
          "metadata": {
            "tags": []
          },
          "execution_count": 21
        }
      ]
    },
    {
      "cell_type": "markdown",
      "metadata": {
        "slideshow": {
          "slide_type": "-"
        },
        "id": "vwIOIa7LB4m3",
        "colab_type": "text"
      },
      "source": [
        "* 수출↑(주가↑) ― 달러유입 증가 ― 환율↓\n",
        "* 환율↓ ― 외국인 순매수↑ ― 주가↑\n",
        "\n",
        "(참고) http://goo.gl/urUpGm 환율이하락할때,주가가상승하는이유"
      ]
    },
    {
      "cell_type": "markdown",
      "metadata": {
        "slideshow": {
          "slide_type": "skip"
        },
        "id": "L5lM-eOMB4m4",
        "colab_type": "text"
      },
      "source": [
        "----\n",
        "#### 2017-2019 [FinanceData.KR]()"
      ]
    }
  ]
}