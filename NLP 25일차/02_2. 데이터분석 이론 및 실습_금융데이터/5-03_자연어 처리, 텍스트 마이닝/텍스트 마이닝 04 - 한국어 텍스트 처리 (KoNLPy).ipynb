{
  "nbformat": 4,
  "nbformat_minor": 0,
  "metadata": {
    "colab": {
      "name": "텍스트 마이닝 04 - 한국어 텍스트 처리 (KoNLPy)",
      "version": "0.3.2",
      "provenance": [],
      "collapsed_sections": [
        "df7_BLMZ_ehk",
        "6mmWBlOi_ehu",
        "SjLN_zs9_ehz",
        "L0EPKCCh_ejD"
      ],
      "include_colab_link": true
    },
    "kernelspec": {
      "display_name": "Python 3",
      "language": "python",
      "name": "python3"
    }
  },
  "cells": [
    {
      "cell_type": "markdown",
      "metadata": {
        "id": "view-in-github",
        "colab_type": "text"
      },
      "source": [
        "<a href=\"https://colab.research.google.com/gist/FinanceData/3aa28cf585aa13085524f8e8d7f5680e/notebook.ipynb\" target=\"_parent\"><img src=\"https://colab.research.google.com/assets/colab-badge.svg\" alt=\"Open In Colab\"/></a>"
      ]
    },
    {
      "metadata": {
        "id": "zspUEGd5_egl",
        "colab_type": "text"
      },
      "cell_type": "markdown",
      "source": [
        "# 텍스트 마이닝 04 - 한국어 텍스트 처리 (KoNLPy)\n",
        "\n",
        "<img width=\"40%\" src=\"https://i.imgur.com/AydcsdT.png\">\n",
        "    \n",
        "### 2017 FinanceData.KR http://financedata.kr"
      ]
    },
    {
      "metadata": {
        "id": "J3PwjK4P_egm",
        "colab_type": "code",
        "colab": {}
      },
      "cell_type": "code",
      "source": [
        "%matplotlib inline\n",
        "import matplotlib.pyplot as plt\n",
        "from matplotlib import font_manager\n",
        "font_path = '/usr/share/fonts/truetype/nanum/NanumMyeongjoBold.ttf'\n",
        "font_name = font_manager.FontProperties(fname=font_path).get_name()\n",
        "\n",
        "plt.rcParams[\"font.family\"] = font_name\n",
        "plt.rcParams[\"axes.grid\"] = True\n",
        "plt.rcParams[\"figure.figsize\"] = (14,4)"
      ],
      "execution_count": 0,
      "outputs": []
    },
    {
      "metadata": {
        "collapsed": true,
        "id": "6-Ja2ZCv_ego",
        "colab_type": "text"
      },
      "cell_type": "markdown",
      "source": [
        "# KoNLPy\n",
        "한국어 정보처리를 위한 파이썬 패키지 ('코엔엘파이'라고 읽는다)\n",
        "\n",
        "http://konlpy.org/ko\n",
        "* 한국어 말뭉치\n",
        "* 형태소 분석 및 품사 태깅"
      ]
    },
    {
      "metadata": {
        "id": "mSvVOa8U_egq",
        "colab_type": "text"
      },
      "cell_type": "markdown",
      "source": [
        "# 한국어 말뭉치 지원\n",
        "* kolaw: 한국 법률 말뭉치 (constitution.txt)\n",
        "* kobill: 대한민국 국회 의안 말뭉치 (1809890.txt ~ 1809899.txt)\n"
      ]
    },
    {
      "metadata": {
        "id": "CR0Zdukt_egr",
        "colab_type": "code",
        "colab": {},
        "outputId": "76c4ef2a-9265-4845-ae94-b9a64f1054d2"
      },
      "cell_type": "code",
      "source": [
        "from konlpy.corpus import kolaw\n",
        "kolaw.fileids()"
      ],
      "execution_count": 0,
      "outputs": [
        {
          "output_type": "execute_result",
          "data": {
            "text/plain": [
              "['constitution.txt']"
            ]
          },
          "metadata": {
            "tags": []
          },
          "execution_count": 3
        }
      ]
    },
    {
      "metadata": {
        "id": "SJCDsYy4_egv",
        "colab_type": "code",
        "colab": {},
        "outputId": "441bb68f-9737-4d8c-cd62-0ff44d38bea2"
      },
      "cell_type": "code",
      "source": [
        "c = kolaw.open('constitution.txt').read()\n",
        "print(c[:500])"
      ],
      "execution_count": 0,
      "outputs": [
        {
          "output_type": "stream",
          "text": [
            "대한민국헌법\n",
            "\n",
            "유구한 역사와 전통에 빛나는 우리 대한국민은 3·1운동으로 건립된 대한민국임시정부의 법통과 불의에 항거한 4·19민주이념을 계승하고, 조국의 민주개혁과 평화적 통일의 사명에 입각하여 정의·인도와 동포애로써 민족의 단결을 공고히 하고, 모든 사회적 폐습과 불의를 타파하며, 자율과 조화를 바탕으로 자유민주적 기본질서를 더욱 확고히 하여 정치·경제·사회·문화의 모든 영역에 있어서 각인의 기회를 균등히 하고, 능력을 최고도로 발휘하게 하며, 자유와 권리에 따르는 책임과 의무를 완수하게 하여, 안으로는 국민생활의 균등한 향상을 기하고 밖으로는 항구적인 세계평화와 인류공영에 이바지함으로써 우리들과 우리들의 자손의 안전과 자유와 행복을 영원히 확보할 것을 다짐하면서 1948년 7월 12일에 제정되고 8차에 걸쳐 개정된 헌법을 이제 국회의 의결을 거쳐 국민투표에 의하여 개정한다.\n",
            "\n",
            "       제1장 총강\n",
            "  제1조 ① 대한민국은 민주공화국이다.\n",
            "②대한민국의 주권은 국민에게 있고, \n"
          ],
          "name": "stdout"
        }
      ]
    },
    {
      "metadata": {
        "id": "xYs9Jh6K_egy",
        "colab_type": "code",
        "colab": {},
        "outputId": "a1644bce-9de2-4ac4-fd38-579696a6fff7"
      },
      "cell_type": "code",
      "source": [
        "from konlpy.corpus import kobill\n",
        "print(kobill.fileids())"
      ],
      "execution_count": 0,
      "outputs": [
        {
          "output_type": "stream",
          "text": [
            "['1809895.txt', '1809899.txt', '1809892.txt', '1809893.txt', '1809896.txt', '1809891.txt', '1809897.txt', '1809894.txt', '1809898.txt', '1809890.txt']\n"
          ],
          "name": "stdout"
        }
      ]
    },
    {
      "metadata": {
        "id": "rokj8vjA_eg3",
        "colab_type": "code",
        "colab": {},
        "outputId": "42e4e954-c723-4027-b5e3-f5da4c04acc7"
      },
      "cell_type": "code",
      "source": [
        "c = kobill.open('1809895.txt').read()\n",
        "print(c[:100])"
      ],
      "execution_count": 0,
      "outputs": [
        {
          "output_type": "stream",
          "text": [
            "하도급거래 공정화에 관한 법률 일부개정법률안\n",
            "\n",
            "(유선호의원 대표발의 )\n",
            "\n",
            " 의 안\n",
            " 번 호\n",
            "\n",
            "9895\n",
            "\n",
            "발의연월일 : 2010.  11.  15.\n",
            "\n",
            "발  의  자 : 유선호․강기갑\n"
          ],
          "name": "stdout"
        }
      ]
    },
    {
      "metadata": {
        "id": "KoAN2kH__eg7",
        "colab_type": "text"
      },
      "cell_type": "markdown",
      "source": [
        "# 한국어 형태소 분석기 프로젝트\n",
        "\n",
        "http://konlpy-ko.readthedocs.io\n",
        "\n",
        "프로젝트 | 이름 | 홈페이지\n",
        ":---- | :---- | :----\n",
        "한나눔 | Hannanum | http://kldp.net/hannanum/\n",
        "꼬꼬마 | Kkma | http://kkma.snu.ac.kr/ \n",
        "코모란 | Komoran | http://www.shineware.co.kr/products/komoran/ \n",
        "은전한닢 | Mecab | https://bitbucket.org/eunjeon/mecab-ko/ \n",
        "트위터 | Okt | https://github.com/open-korean-text/open-korean-text\n",
        "\n",
        "비교 http://konlpy.org/en/v0.4.4/morph/"
      ]
    },
    {
      "metadata": {
        "id": "AAltd72s_eg8",
        "colab_type": "text"
      },
      "cell_type": "markdown",
      "source": [
        "# KoNLPy 형태소 분석기\n",
        "\n",
        "konlpy.tag 에서 품사 태깅 패키지 5개를 제공\n",
        "* Hannanum\n",
        "* Kkma\n",
        "* Komoran\n",
        "* Mecab\n",
        "* Okt\n",
        "\n",
        "각 클래스의 주요 메소드\n",
        "* morphs : 형태소 추출\n",
        "* nouns : 명사 추출\n",
        "* pos : pos 태깅"
      ]
    },
    {
      "metadata": {
        "id": "6_ptPQy__eg9",
        "colab_type": "text"
      },
      "cell_type": "markdown",
      "source": [
        "# KoNLPy 설치\n",
        "\n",
        "Java가 필요하다. (OpenJDK 7 설치)\n",
        "```bash\n",
        "# apt update\n",
        "sudo apt-get update\n",
        "\n",
        "# OpenJDK 7\n",
        "sudo apt-get install g++ openjdk-7-jdk\n",
        "```\n",
        "\n",
        "```bash\n",
        "# JPype1 설치\n",
        "sudo pip3 install JPype1-py3\n",
        "\n",
        "# konlpy\n",
        "sudo pip3 install konlpy\n",
        "```"
      ]
    },
    {
      "metadata": {
        "collapsed": true,
        "id": "-Gp_-UoA_eg-",
        "colab_type": "text"
      },
      "cell_type": "markdown",
      "source": [
        "# 형태소 분석\n",
        "형태소 : 일정한 뜻을 가진 가장 작은 말의 단위\n",
        "\n",
        "```\n",
        "창업투자회사가 강세를 보이고 있다. 정부가 창업기업 육성을 위해 벤처캐피탈을 주업으로 하는 창업투자사의 자본금 요건을 낮추는 등 규제혁신을 추진한다고 발표해서다\n",
        "```\n",
        "\n",
        "```python\n",
        "[('창업', 'Noun'), ('투자', 'Noun'), ('회사', 'Noun'), ('가', 'Josa'), ('강세', 'Noun'), ('를', 'Josa'), ('보이', 'Noun'), ('고', 'Josa'), ('있다', 'Adjective'), ('.', 'Punctuation'), ('정부', 'Noun'), ('가', 'Josa'), ('창업', 'Noun'), ('기업', 'Noun'), ('육성', 'Noun'), ('을', 'Josa'), ('위해', 'Noun'), ('벤처캐피탈', 'Noun'), ('을', 'Josa'), ('주업', 'Noun'), ('으로', 'Josa'), ('하는', 'Verb'), ('창업', 'Noun'), ('투자', 'Noun'), ('사의', 'Noun'), ('자본금', 'Noun'), ('요건', 'Noun'), ('을', 'Josa'), ('낮추는', 'Verb'), ('등', 'Noun'), ('규제', 'Noun'), ('혁신', 'Noun'), ('을', 'Josa'), ('추진한', 'Verb'), ('다고', 'Eomi'), ('발표해서', 'Verb'), ('다', 'Eomi')]\n",
        "```\n",
        "\n"
      ]
    },
    {
      "metadata": {
        "id": "Hm8Yozn6_ehA",
        "colab_type": "code",
        "colab": {}
      },
      "cell_type": "code",
      "source": [
        "from konlpy.tag import Hannanum, Kkma, Komoran, Mecab, Okt\n",
        "\n",
        "text = \"\"\"\n",
        "창업투자회사가 강세를 보이고 있다. \n",
        "정부가 창업기업 육성을 위해 \n",
        "벤처캐피탈을 주업으로 하는 창업투자사의 자본금 요건을 낮추는 등\n",
        "규제혁신을 추진한다고 발표해서다\n",
        "\"\"\""
      ],
      "execution_count": 0,
      "outputs": []
    },
    {
      "metadata": {
        "id": "p5VkLfZx_ehD",
        "colab_type": "code",
        "colab": {},
        "outputId": "2fdf11d0-18d8-43d1-b55d-a601b4f2cdf4"
      },
      "cell_type": "code",
      "source": [
        "engine = Hannanum()\n",
        "print(engine.pos(text))"
      ],
      "execution_count": 0,
      "outputs": [
        {
          "output_type": "stream",
          "text": [
            "[('창업투자회사', 'N'), ('가', 'J'), ('강세', 'N'), ('를', 'J'), ('보이', 'P'), ('고', 'E'), ('있', 'P'), ('다', 'E'), ('.', 'S'), ('정부', 'N'), ('가', 'J'), ('창업기업', 'N'), ('육성', 'N'), ('을', 'J'), ('위하', 'P'), ('어', 'E'), ('벤처캐피탈', 'N'), ('을', 'J'), ('주업', 'N'), ('으로', 'J'), ('하', 'P'), ('는', 'E'), ('창업투자사의', 'N'), ('자본금', 'N'), ('요건', 'N'), ('을', 'J'), ('낮추', 'P'), ('는', 'E'), ('등', 'N'), ('규제혁신', 'N'), ('을', 'J'), ('추진', 'N'), ('하', 'X'), ('ㄴ다', 'E'), ('고', 'J'), ('발표해서', 'N'), ('이', 'J'), ('다', 'E')]\n"
          ],
          "name": "stdout"
        }
      ]
    },
    {
      "metadata": {
        "id": "HyQ4oRsi_ehG",
        "colab_type": "code",
        "colab": {},
        "outputId": "50c1151e-5b1e-4484-c449-6b6f606e1ce1"
      },
      "cell_type": "code",
      "source": [
        "engines = [Hannanum(), Kkma(), Mecab(), Okt()] # Komoran(),\n",
        "\n",
        "for e in engines:\n",
        "    print(e)\n",
        "    print(e.pos(text))    "
      ],
      "execution_count": 0,
      "outputs": [
        {
          "output_type": "stream",
          "text": [
            "<konlpy.tag._hannanum.Hannanum object at 0x7fd9b652d128>\n",
            "[('창업투자회사', 'N'), ('가', 'J'), ('강세', 'N'), ('를', 'J'), ('보이', 'P'), ('고', 'E'), ('있', 'P'), ('다', 'E'), ('.', 'S'), ('정부', 'N'), ('가', 'J'), ('창업기업', 'N'), ('육성', 'N'), ('을', 'J'), ('위하', 'P'), ('어', 'E'), ('벤처캐피탈', 'N'), ('을', 'J'), ('주업', 'N'), ('으로', 'J'), ('하', 'P'), ('는', 'E'), ('창업투자사의', 'N'), ('자본금', 'N'), ('요건', 'N'), ('을', 'J'), ('낮추', 'P'), ('는', 'E'), ('등', 'N'), ('규제혁신', 'N'), ('을', 'J'), ('추진', 'N'), ('하', 'X'), ('ㄴ다', 'E'), ('고', 'J'), ('발표해서', 'N'), ('이', 'J'), ('다', 'E')]\n",
            "<konlpy.tag._kkma.Kkma object at 0x7fd9b652d160>\n",
            "[('창업', 'NNG'), ('투자', 'NNG'), ('회사', 'NNG'), ('가', 'JKS'), ('강세', 'NNG'), ('를', 'JKO'), ('보이', 'VV'), ('고', 'ECE'), ('있', 'VXV'), ('다', 'EFN'), ('.', 'SF'), ('정부', 'NNG'), ('가', 'JKS'), ('창업', 'NNG'), ('기업', 'NNG'), ('육성', 'NNG'), ('을', 'JKO'), ('위하', 'VV'), ('어', 'ECS'), ('벤처', 'NNG'), ('캐피탈', 'NNG'), ('을', 'JKO'), ('주업', 'NNG'), ('으로', 'JKM'), ('하', 'VV'), ('는', 'ETD'), ('창업', 'NNG'), ('투자', 'NNG'), ('사의', 'NNG'), ('자본금', 'NNG'), ('요건', 'NNG'), ('을', 'JKO'), ('낮추', 'VV'), ('는', 'ETD'), ('등', 'NNB'), ('규제', 'NNG'), ('혁신', 'NNG'), ('을', 'JKO'), ('추진', 'NNG'), ('하', 'XSV'), ('ㄴ다고', 'ECE'), ('발표', 'NNG'), ('하', 'XSV'), ('어서', 'ECD'), ('달', 'VXV')]\n",
            "<konlpy.tag._mecab.Mecab object at 0x7fd9b652d390>\n",
            "[('창업', 'NNG'), ('투자', 'NNG'), ('회사', 'NNG'), ('가', 'JKS'), ('강세', 'NNG'), ('를', 'JKO'), ('보이', 'VV'), ('고', 'EC'), ('있', 'VX'), ('다', 'EF'), ('.', 'SF'), ('정부', 'NNG'), ('가', 'JKS'), ('창업', 'NNG'), ('기업', 'NNG'), ('육성', 'NNG'), ('을', 'JKO'), ('위해', 'VV+EC'), ('벤처', 'NNG'), ('캐피탈', 'NNP'), ('을', 'JKO'), ('주업', 'NNG'), ('으로', 'JKB'), ('하', 'VV'), ('는', 'ETM'), ('창업', 'NNG'), ('투자', 'NNG'), ('사', 'NNG'), ('의', 'JKG'), ('자본금', 'NNG'), ('요건', 'NNG'), ('을', 'JKO'), ('낮추', 'VV'), ('는', 'ETM'), ('등', 'NNB'), ('규제', 'NNG'), ('혁신', 'NNG'), ('을', 'JKO'), ('추진', 'NNG'), ('한다고', 'XSV+EC'), ('발표', 'NNG'), ('해서', 'XSV+EC+VCP+VCP'), ('다', 'EC')]\n",
            "<konlpy.tag._twitter.Twitter object at 0x7fd9b652f710>\n",
            "[('창업', 'Noun'), ('투자', 'Noun'), ('회사', 'Noun'), ('가', 'Josa'), ('강세', 'Noun'), ('를', 'Josa'), ('보이', 'Noun'), ('고', 'Josa'), ('있다', 'Adjective'), ('.', 'Punctuation'), ('정부', 'Noun'), ('가', 'Josa'), ('창업', 'Noun'), ('기업', 'Noun'), ('육성', 'Noun'), ('을', 'Josa'), ('위해', 'Noun'), ('벤처캐피탈', 'Noun'), ('을', 'Josa'), ('주업', 'Noun'), ('으로', 'Josa'), ('하는', 'Verb'), ('창업', 'Noun'), ('투자', 'Noun'), ('사의', 'Noun'), ('자본금', 'Noun'), ('요건', 'Noun'), ('을', 'Josa'), ('낮추는', 'Verb'), ('등', 'Noun'), ('규제', 'Noun'), ('혁신', 'Noun'), ('을', 'Josa'), ('추진한', 'Verb'), ('다고', 'Eomi'), ('발표해서', 'Verb'), ('다', 'Eomi')]\n"
          ],
          "name": "stdout"
        }
      ]
    },
    {
      "metadata": {
        "id": "fWORk7eX_ehJ",
        "colab_type": "text"
      },
      "cell_type": "markdown",
      "source": [
        "# 형태소 분석기 성능\n",
        "* 속도, 메모리 사용, 정확도 등으로 평가\n",
        "* 서로 장단점이 있는 경우가 많음\n",
        "* 사전(dictionary)의 영향도 매우 큼\n",
        "* 목적에 분석기+사전 조합 사용\n",
        "\n",
        "<img width=\"50%\" src=\"http://konlpy.readthedocs.io/ko/v0.4.0/_images/time.png\">\n",
        "    \n",
        "http://konlpy.readthedocs.io/ko/v0.4.0/morph/"
      ]
    },
    {
      "metadata": {
        "id": "kmt36Apb_ehK",
        "colab_type": "text"
      },
      "cell_type": "markdown",
      "source": [
        "# Read documents\n",
        "\n",
        "특정 분야 뉴스 텍스트 수집"
      ]
    },
    {
      "metadata": {
        "id": "87rAFjBf_ehM",
        "colab_type": "code",
        "colab": {},
        "outputId": "d0a125e8-cb78-4ab1-ad5b-3ccb51414cb8"
      },
      "cell_type": "code",
      "source": [
        "import feedparser\n",
        "import newspaper\n",
        "\n",
        "# 경향신문 경제뉴스 RSS\n",
        "rss_link = 'http://www.khan.co.kr/rss/rssdata/economy.xml'\n",
        "\n",
        "feeds = feedparser.parse(rss_link)\n",
        "links = [entry['link'] for entry in feeds['entries']]\n",
        "\n",
        "news_text =''\n",
        "for link in links:\n",
        "    print(link)\n",
        "    article = newspaper.Article(link, language='ko')\n",
        "    article.download()\n",
        "    article.parse()\n",
        "    news_text += article.text"
      ],
      "execution_count": 0,
      "outputs": [
        {
          "output_type": "stream",
          "text": [
            "http://news.khan.co.kr/kh_news/khan_art_view.html?artid=201203251835221&code=920100\n",
            "http://news.khan.co.kr/kh_news/khan_art_view.html?artid=201203251356231&code=920401\n",
            "http://news.khan.co.kr/kh_news/khan_art_view.html?artid=201203251356161&code=920401\n",
            "http://news.khan.co.kr/kh_news/khan_art_view.html?artid=201203251355591&code=920401\n",
            "http://news.khan.co.kr/kh_news/khan_art_view.html?artid=201203251128101&code=920100\n",
            "http://news.khan.co.kr/kh_news/khan_art_view.html?artid=201203231743501&code=920301\n",
            "http://news.khan.co.kr/kh_news/khan_art_view.html?artid=201203231411441&code=920100\n",
            "http://news.khan.co.kr/kh_news/khan_art_view.html?artid=201203231410391&code=920100\n",
            "http://news.khan.co.kr/kh_news/khan_art_view.html?artid=201203231409321&code=920100\n",
            "http://news.khan.co.kr/kh_news/khan_art_view.html?artid=201203231311491&code=920100\n",
            "http://news.khan.co.kr/kh_news/khan_art_view.html?artid=201203231142301&code=920401\n",
            "http://news.khan.co.kr/kh_news/khan_art_view.html?artid=201203231140381&code=920100\n",
            "http://news.khan.co.kr/kh_news/khan_art_view.html?artid=201203231018391&code=920100\n",
            "http://news.khan.co.kr/kh_news/khan_art_view.html?artid=201203230000015&code=920100\n",
            "http://news.khan.co.kr/kh_news/khan_art_view.html?artid=201203222130035&code=920100\n",
            "http://news.khan.co.kr/kh_news/khan_art_view.html?artid=201203222124535&code=920401\n",
            "http://news.khan.co.kr/kh_news/khan_art_view.html?artid=201203222124435&code=920401\n",
            "http://news.khan.co.kr/kh_news/khan_art_view.html?artid=201203222122555&code=920501\n",
            "http://news.khan.co.kr/kh_news/khan_art_view.html?artid=201203222122515&code=920301\n",
            "http://news.khan.co.kr/kh_news/khan_art_view.html?artid=201203222122445&code=920401\n",
            "http://news.khan.co.kr/kh_news/khan_art_view.html?artid=201203222122395&code=920201\n",
            "http://news.khan.co.kr/kh_news/khan_art_view.html?artid=201203222122365&code=920401\n",
            "http://news.khan.co.kr/kh_news/khan_art_view.html?artid=201203222119095&code=920401\n",
            "http://news.khan.co.kr/kh_news/khan_art_view.html?artid=201203222119065&code=920508\n",
            "http://news.khan.co.kr/kh_news/khan_art_view.html?artid=201203222119005&code=920100\n",
            "http://news.khan.co.kr/kh_news/khan_art_view.html?artid=201203222118555&code=920401\n",
            "http://news.khan.co.kr/kh_news/khan_art_view.html?artid=201203221733191&code=920100\n",
            "http://news.khan.co.kr/kh_news/khan_art_view.html?artid=201203221700281&code=920401\n",
            "http://news.khan.co.kr/kh_news/khan_art_view.html?artid=201203221459481&code=920100\n",
            "http://news.khan.co.kr/kh_news/khan_art_view.html?artid=201203221407191&code=920501\n"
          ],
          "name": "stdout"
        }
      ]
    },
    {
      "metadata": {
        "id": "weqRZd50_ehR",
        "colab_type": "code",
        "colab": {},
        "outputId": "ce5d94ff-c705-4783-f429-1f56598e6805"
      },
      "cell_type": "code",
      "source": [
        "print(len(news_text))\n",
        "print('-' * 120)\n",
        "news_text[:1000]"
      ],
      "execution_count": 0,
      "outputs": [
        {
          "output_type": "stream",
          "text": [
            "27213\n",
            "------------------------------------------------------------------------------------------------------------------------\n"
          ],
          "name": "stdout"
        },
        {
          "output_type": "execute_result",
          "data": {
            "text/plain": [
              "'ㆍ중기청장과 밤샘토론\\n\\n\\n\\n“정부가 창업 숫자를 강조하기보다 성공률을 생각해야 한다.” “좋은 제품을 개발해도 벤처기업은 판로를 뚫기가 어렵다.” “연구·개발 투자에만 2년이 걸리는데 창업자금은 3년 안에 갚으라고 한다.”\\n\\n\\n\\n지난 22일 경기 안산시 청년창업사관학교. 송종호 중소기업청장(56)과 청년창업자 및 사관학교 입교자 150여명이 밤샘토론을 벌였다. 창업자들은 현장에서 겪는 갖가지 어려움을 쏟아냈다. 자금만 찔끔 지원하고는 후속대책은 세워주지 않는 정부의 무책임에 대한 질타도 있었다. 22일 자정 시작된 토론회는 예정된 시간보다 1시간30분 늦은 23일 새벽 4시30분이 돼서야 마무리됐다.\\n\\n\\n\\n신발제조업체를 운영하는 권종익씨(29)는 “중기청에서 기술개발자금을 지원하지만 막상 개발을 마치고 양산하려는 시점에 돈이 부족해 사업이 한 템포 늦춰졌다. 게다가 신발제조업은 전략산업이 아니라는 이유로 생산단계에서는 자금을 지원하지 않는다”고 말했다.\\n\\n\\n\\n정부는 현실을 몰랐고, 의욕은 있었지만 드러난 문제에 대한 확실한 해결방안도 내놓지 못했다.\\n\\n\\n\\n송종호 청장은 “신발이 전략산업이 아닐 리 없는데…. 담당이 답을 해보라”고 하자 실무자는 “복잡해서 알아보는 데 시간이 걸린다”고 어물쩍 넘어가려 했다. 송 청장이 “끝장토론이다. 알아보고 여기서 답을 주라”고 목소리를 높이자 잠시 뒤 “신발은 전략산업에 해당하지 않는다”는 실무자의 답변이 나왔다. 송 청장은 “전략적으로 (신발산업 지원 방안을) 검토해보자”는 두루뭉술한 해법을 내놓았다.\\n\\n\\n\\n창업자금 상환기간이 촉박하다는 지적도 있었다. 곽민홍씨(36)는 “상환 조건이 1년 거치 2년 상환이다. 연구·개발 투자만 2년씩 걸리는 우리 업종의 경우 2년째부터 한 달에 400만원씩 상환하는 것이 엄청난 부담이다”라고 말했다. 중기청 김현태 융자사업처장은 “자금을 빌려주는 기업은행과 우리은행이 부담을 느끼고 있어 쉽지 않다”고 말했다. 송 청장은 “은행과 협의해 보겠다”고 했지만 곤혹스러운 듯 이마의 땀을 훔쳤다'"
            ]
          },
          "metadata": {
            "tags": []
          },
          "execution_count": 11
        }
      ]
    },
    {
      "metadata": {
        "id": "r-K6Me4l_ehT",
        "colab_type": "text"
      },
      "cell_type": "markdown",
      "source": [
        "# Tokenize"
      ]
    },
    {
      "metadata": {
        "id": "HNBhaFNG_ehV",
        "colab_type": "code",
        "colab": {}
      },
      "cell_type": "code",
      "source": [
        "from konlpy.tag import Mecab\n",
        "\n",
        "engine = Mecab() \n",
        "news_tokens = engine.morphs(news_text)"
      ],
      "execution_count": 0,
      "outputs": []
    },
    {
      "metadata": {
        "id": "rsqxShSN_ehW",
        "colab_type": "code",
        "colab": {},
        "outputId": "bea78a48-7bd2-4138-e187-80cdfce54a91"
      },
      "cell_type": "code",
      "source": [
        "print(news_tokens[:100])"
      ],
      "execution_count": 0,
      "outputs": [
        {
          "output_type": "stream",
          "text": [
            "['ㆍ중기청장과', '밤샘', '토론', '“', '정부', '가', '창업', '숫자', '를', '강조', '하', '기', '보다', '성공', '률', '을', '생각', '해야', '한다', '.', '”', '“', '좋', '은', '제품', '을', '개발', '해도', '벤처', '기업', '은', '판로', '를', '뚫', '기', '가', '어렵', '다', '.', '”', '“', '연구', '·', '개발', '투자', '에', '만', '2', '년', '이', '걸리', '는데', '창업', '자금', '은', '3', '년', '안', '에', '갚', '으라고', '한다', '.', '”', '지난', '22', '일', '경기', '안산시', '청년', '창업', '사관', '학교', '.', '송종호', '중소기업', '청장', '(', '56', ')', '과', '청년', '창업자', '및', '사관', '학교', '입교자', '150', '여', '명', '이', '밤샘', '토론', '을', '벌였', '다', '.', '창업자', '들', '은']\n"
          ],
          "name": "stdout"
        }
      ]
    },
    {
      "metadata": {
        "id": "70a5ZBNL_eha",
        "colab_type": "text"
      },
      "cell_type": "markdown",
      "source": [
        "# nltk.Text() \n",
        "\n",
        "참고 http://www.nltk.org/api/nltk.html#nltk.text.Text"
      ]
    },
    {
      "metadata": {
        "id": "ZYj7BQ0w_ehd",
        "colab_type": "code",
        "colab": {}
      },
      "cell_type": "code",
      "source": [
        "import nltk\n",
        "news = nltk.Text(news_tokens)"
      ],
      "execution_count": 0,
      "outputs": []
    },
    {
      "metadata": {
        "id": "hoFvN56y_ehh",
        "colab_type": "code",
        "colab": {},
        "outputId": "634b4c73-1809-4f47-e798-0014f0b88870"
      },
      "cell_type": "code",
      "source": [
        "print(len(news.tokens)) # 토큰 개수\n",
        "print(len(set(news.tokens))) # 고유한 토큰 개수"
      ],
      "execution_count": 0,
      "outputs": [
        {
          "output_type": "stream",
          "text": [
            "13166\n",
            "2507\n"
          ],
          "name": "stdout"
        }
      ]
    },
    {
      "metadata": {
        "id": "df7_BLMZ_ehk",
        "colab_type": "text"
      },
      "cell_type": "markdown",
      "source": [
        "## 빈도 분포 FreqDist"
      ]
    },
    {
      "metadata": {
        "id": "1B_IEUWy_ehl",
        "colab_type": "code",
        "colab": {},
        "outputId": "6930c349-52bc-4ec8-fd8f-e451b7b7e9f3"
      },
      "cell_type": "code",
      "source": [
        "freq_dist = news.vocab() # FreqDist (빈도 분포)\n",
        "print(len(freq_dist))"
      ],
      "execution_count": 0,
      "outputs": [
        {
          "output_type": "stream",
          "text": [
            "2507\n"
          ],
          "name": "stdout"
        }
      ]
    },
    {
      "metadata": {
        "id": "wxSPGBO3_ehn",
        "colab_type": "code",
        "colab": {},
        "outputId": "6b6cb931-65a5-4a54-f565-dc5927d1705a"
      },
      "cell_type": "code",
      "source": [
        "print(freq_dist.most_common(50)) # 가장 많이 등장하는 50개"
      ],
      "execution_count": 0,
      "outputs": [
        {
          "output_type": "stream",
          "text": [
            "[('.', 453), ('다', 450), ('이', 362), ('을', 332), ('는', 286), ('은', 222), ('에', 204), ('의', 189), ('하', 184), ('를', 181), ('고', 173), ('했', 158), ('으로', 157), ('한', 134), ('가', 120), (',', 120), ('원', 109), ('”', 105), ('“', 105), ('있', 94), ('만', 88), ('(', 88), ('도', 77), (')', 77), ('년', 73), ('에서', 72), ('등', 72), ('일', 70), ('과', 70), ('로', 66), ('가격', 65), ('1', 65), ('들', 63), ('·', 62), ('것', 61), ('인', 61), ('억', 58), ('‘', 58), ('적', 54), ('해', 53), ('’', 49), ('%', 45), ('월', 42), ('지', 41), ('정보', 40), ('기', 39), ('4', 38), ('명', 37), ('수', 37), ('었', 36)]\n"
          ],
          "name": "stdout"
        }
      ]
    },
    {
      "metadata": {
        "id": "dTxAVNUI_ehq",
        "colab_type": "code",
        "colab": {},
        "outputId": "5a1611bc-8587-4da5-9fe0-11355f996fe3"
      },
      "cell_type": "code",
      "source": [
        "news.plot(50)"
      ],
      "execution_count": 0,
      "outputs": [
        {
          "output_type": "display_data",
          "data": {
            "image/png": "[encoded data removed]",
            "text/plain": [
              "<matplotlib.figure.Figure at 0x7fd938b758d0>"
            ]
          },
          "metadata": {
            "tags": []
          }
        }
      ]
    },
    {
      "metadata": {
        "id": "6mmWBlOi_ehu",
        "colab_type": "text"
      },
      "cell_type": "markdown",
      "source": [
        "## count"
      ]
    },
    {
      "metadata": {
        "id": "qPhuoTB__ehv",
        "colab_type": "code",
        "colab": {},
        "outputId": "577c2609-064b-43c3-c4cf-ed2e1089ee73"
      },
      "cell_type": "code",
      "source": [
        "news.count('가격')"
      ],
      "execution_count": 0,
      "outputs": [
        {
          "output_type": "execute_result",
          "data": {
            "text/plain": [
              "65"
            ]
          },
          "metadata": {
            "tags": []
          },
          "execution_count": 19
        }
      ]
    },
    {
      "metadata": {
        "id": "SjLN_zs9_ehz",
        "colab_type": "text"
      },
      "cell_type": "markdown",
      "source": [
        "## Dispersion plot\n",
        "단어가 등장하는 위치를 Word Offset에 따라 배치하여 시각화"
      ]
    },
    {
      "metadata": {
        "id": "w6AZBpq1_eh0",
        "colab_type": "code",
        "colab": {},
        "outputId": "b71ea7f2-a23f-4acf-b7ed-c72c89f3fe6f"
      },
      "cell_type": "code",
      "source": [
        "news.dispersion_plot(['하이닉스', '현대중공업', '농심', '아시아나항공', '현대중공업'])"
      ],
      "execution_count": 0,
      "outputs": [
        {
          "output_type": "display_data",
          "data": {
            "image/png": "[encoded data removed]",
            "text/plain": [
              "<matplotlib.figure.Figure at 0x7fd9b6526860>"
            ]
          },
          "metadata": {
            "tags": []
          }
        }
      ]
    },
    {
      "metadata": {
        "id": "8GP-1zf-_eh4",
        "colab_type": "text"
      },
      "cell_type": "markdown",
      "source": [
        "# Concordance\n",
        "\n",
        "Concordance (색인): 단어가 쓰인 문맥을 모두 찾아준다"
      ]
    },
    {
      "metadata": {
        "id": "tLC0A_tl_eh5",
        "colab_type": "code",
        "colab": {},
        "outputId": "8c02914e-eb21-472e-b22b-a4403c27023b"
      },
      "cell_type": "code",
      "source": [
        "news.concordance('하이닉스', lines=10)"
      ],
      "execution_count": 0,
      "outputs": [
        {
          "output_type": "stream",
          "text": [
            "Displaying 9 of 9 matches:\n",
            "중공업 그룹 으로 한 단계 도약 한다는 성장 목표 를 밝혔 다 . 하이닉스 반도체 가 SK 그룹 편입 을 앞두 고 대대 적 인 조직 개편 과\n",
            "앞두 고 대대 적 인 조직 개편 과 임원 인사 를 단행 했 다 . 하이닉스 는 22 일 중 장기 전략 수립 을 맡 는 미래 전략 실 을 신설\n",
            " 을 조율 하 는 사내 컨트롤 타워 역할 을 맡 게 된다 . 특히 하이닉스 를 인수 한 SK텔레콤 의 반도체 관련 전략 담당 신설 조직 인 \n",
            "Management System ) 실 을 공식 출범 시켰 다 . 하이닉스 는 “ 지난달 부터 운영 돼 온 MS 실 공식 출범 을 통해 SK\n",
            "온 MS 실 공식 출범 을 통해 SK 의 현장 경영 시스템 등 을 하이닉스 에 접목 시킬 예정 ” 이 라고 설명 했 다 . 마케팅 본부 에 \n",
            " 반도체 ( CIS ) 그룹 으로 분리 운영 하 기 로 했 다 . 하이닉스 는 올해 창사 후 처음 으로 낸드 플래시 투자 비중 이 50 % \n",
            "관련 반도체 사업 을 강화 할 것 으로 알려졌 다 . 이 와 함께 하이닉스 는 총 26 명 의 임원 승진 및 신규 임용 인사 발령 을 내 는\n",
            " 는 한편 4 명 의 연구 · 기술 위원 도 새로 선임 했 다 . 하이닉스 관계자 는 “ 이번 조직 개편 과 임원 인사 를 통해 SK 경영 \n",
            " 기능 과 해외 마케팅 역량 을 강화 했 다 ” 고 말 했 다 . 하이닉스 는 23 일 주주 총회 를 통해 SK하이닉스 로 사명 을 변경 할\n"
          ],
          "name": "stdout"
        }
      ]
    },
    {
      "metadata": {
        "id": "8KSMMBbx_eh-",
        "colab_type": "text"
      },
      "cell_type": "markdown",
      "source": [
        "# Similar word\n",
        "\n",
        "주어진 단어와 비슷한 환경(same context)에서 쓰인(≠비슷한 뜻) 단어들"
      ]
    },
    {
      "metadata": {
        "id": "ti5VgQlK_eh_",
        "colab_type": "code",
        "colab": {},
        "outputId": "999d318f-a678-4f03-9de7-4b3cddb5d45f"
      },
      "cell_type": "code",
      "source": [
        "news.similar('농심')"
      ],
      "execution_count": 0,
      "outputs": [
        {
          "output_type": "stream",
          "text": [
            "아시아나항공 재산 담합 일 현대중공업 이익 특강 욕 물놀 편 ㆍ농심 답변 과징금 호응 옥션 가격 예금 반응 기록 신발\n"
          ],
          "name": "stdout"
        }
      ]
    },
    {
      "metadata": {
        "id": "Xg9pZ2-b_eiF",
        "colab_type": "code",
        "colab": {},
        "outputId": "f1e2ea31-78f0-4249-d0c3-53f7d24ef44a"
      },
      "cell_type": "code",
      "source": [
        "news.similar('하이닉스')"
      ],
      "execution_count": 0,
      "outputs": [
        {
          "output_type": "stream",
          "text": [
            "현대차 공정위 거래처 국세청 염두 현재 정부 재계 거래소 분위기 소비자 재정부 연비 그 광고 외교통상부 이 종교계 성명서 가슴\n"
          ],
          "name": "stdout"
        }
      ]
    },
    {
      "metadata": {
        "id": "3VCo2OnY_eiL",
        "colab_type": "code",
        "colab": {},
        "outputId": "2b287205-6929-4634-fcdf-87381c93fb54"
      },
      "cell_type": "code",
      "source": [
        "news.similar('현대중공업')"
      ],
      "execution_count": 0,
      "outputs": [
        {
          "output_type": "stream",
          "text": [
            "농심 아시아나항공 외벌 특강 금감원 과징금 인력난 미국 협정 내실 며 담합 많 옥션\n"
          ],
          "name": "stdout"
        }
      ]
    },
    {
      "metadata": {
        "id": "FeoJ4h_D_eiQ",
        "colab_type": "text"
      },
      "cell_type": "markdown",
      "source": [
        "# common_contexts\n",
        "\n",
        "for two words used in similar contexts"
      ]
    },
    {
      "metadata": {
        "id": "4hNMWZSq_eiQ",
        "colab_type": "code",
        "colab": {},
        "outputId": "c7676614-087b-4cab-9d92-9a4b8c2fb841"
      },
      "cell_type": "code",
      "source": [
        "news.common_contexts(['성장', '상승'])"
      ],
      "execution_count": 0,
      "outputs": [
        {
          "output_type": "stream",
          "text": [
            "로_했\n"
          ],
          "name": "stdout"
        }
      ]
    },
    {
      "metadata": {
        "id": "OuwANh4M_eiU",
        "colab_type": "text"
      },
      "cell_type": "markdown",
      "source": [
        "# Collocations\n",
        "연어(連語, collocation): 함께 위치하는 단어들 (co + location), 어휘의 조합 또는 짝을 이루는 단어"
      ]
    },
    {
      "metadata": {
        "id": "dkEHa2WY_eiX",
        "colab_type": "code",
        "colab": {},
        "outputId": "b213aa89-f81b-43cb-f542-d0b8b06ab14b"
      },
      "cell_type": "code",
      "source": [
        "news.collocations()"
      ],
      "execution_count": 0,
      "outputs": [
        {
          "output_type": "stream",
          "text": [
            "스타퍼 액티브; 스포츠 유틸리티; 이건희 삼성전자; 이슬람 채권법; 외국인 투자자; 대상자 2003; 이명박 대통령; 임직원\n",
            "5000; 윤활유 글로벌; %), 인센티브\n"
          ],
          "name": "stdout"
        }
      ]
    },
    {
      "metadata": {
        "id": "c2U0mYzO_eia",
        "colab_type": "text"
      },
      "cell_type": "markdown",
      "source": [
        "# PoS Tagging \n"
      ]
    },
    {
      "metadata": {
        "id": "kSZ99Dah_eic",
        "colab_type": "code",
        "colab": {},
        "outputId": "b2553360-6eed-48f1-81fb-b2b47fc9f8fe"
      },
      "cell_type": "code",
      "source": [
        "from konlpy.tag import Mecab\n",
        "\n",
        "engine = Mecab() \n",
        "news_tags = engine.pos(news_text)\n",
        "print(news_tags[:100])"
      ],
      "execution_count": 0,
      "outputs": [
        {
          "output_type": "stream",
          "text": [
            "[('ㆍ중기청장과', 'UNKNOWN'), ('밤샘', 'NNG'), ('토론', 'NNG'), ('“', 'SSO'), ('정부', 'NNG'), ('가', 'JKS'), ('창업', 'NNG'), ('숫자', 'NNG'), ('를', 'JKO'), ('강조', 'NNG'), ('하', 'XSV'), ('기', 'ETN'), ('보다', 'JKB'), ('성공', 'NNG'), ('률', 'XSN'), ('을', 'JKO'), ('생각', 'NNG'), ('해야', 'XSV+EC'), ('한다', 'VX+EF'), ('.', 'SF'), ('”', 'SY'), ('“', 'SSO'), ('좋', 'VA'), ('은', 'ETM'), ('제품', 'NNG'), ('을', 'JKO'), ('개발', 'NNG'), ('해도', 'XSV+EC'), ('벤처', 'NNG'), ('기업', 'NNG'), ('은', 'JX'), ('판로', 'NNG'), ('를', 'JKO'), ('뚫', 'VV'), ('기', 'ETN'), ('가', 'JKS'), ('어렵', 'VA'), ('다', 'EF'), ('.', 'SF'), ('”', 'SY'), ('“', 'SSO'), ('연구', 'NNG'), ('·', 'SC'), ('개발', 'NNG'), ('투자', 'NNG'), ('에', 'JKB'), ('만', 'JX'), ('2', 'SN'), ('년', 'NNBC'), ('이', 'JKS'), ('걸리', 'VV'), ('는데', 'EC'), ('창업', 'NNG'), ('자금', 'NNG'), ('은', 'JX'), ('3', 'SN'), ('년', 'NNBC'), ('안', 'NNG'), ('에', 'JKB'), ('갚', 'VV'), ('으라고', 'EC'), ('한다', 'VX+EF'), ('.', 'SF'), ('”', 'SSC'), ('지난', 'VV+ETM'), ('22', 'SN'), ('일', 'NNBC'), ('경기', 'NNG'), ('안산시', 'NNP'), ('청년', 'NNG'), ('창업', 'NNG'), ('사관', 'NNG'), ('학교', 'NNG'), ('.', 'SY'), ('송종호', 'NNP'), ('중소기업', 'NNG'), ('청장', 'NNG'), ('(', 'SSO'), ('56', 'SN'), (')', 'SSC'), ('과', 'JC'), ('청년', 'NNG'), ('창업자', 'NNG'), ('및', 'MAJ'), ('사관', 'NNG'), ('학교', 'NNG'), ('입교자', 'NNG'), ('150', 'SN'), ('여', 'XSN'), ('명', 'NNBC'), ('이', 'JKS'), ('밤샘', 'NNG'), ('토론', 'NNG'), ('을', 'JKO'), ('벌였', 'VV+EP'), ('다', 'EF'), ('.', 'SF'), ('창업자', 'NNG'), ('들', 'XSN'), ('은', 'JX')]\n"
          ],
          "name": "stdout"
        }
      ]
    },
    {
      "metadata": {
        "id": "YI8vOTlP_eig",
        "colab_type": "text"
      },
      "cell_type": "markdown",
      "source": [
        "# Chunking"
      ]
    },
    {
      "metadata": {
        "id": "lG822qnL_eij",
        "colab_type": "code",
        "colab": {},
        "outputId": "9517bcbd-5978-4758-f9db-7574e0321b86"
      },
      "cell_type": "code",
      "source": [
        "from konlpy.tag import Mecab\n",
        "\n",
        "engine = Mecab() \n",
        "\n",
        "text = '지구는 정말 아름다운 별이다.'\n",
        "tags = engine.pos(text)\n",
        "\n",
        "parser = nltk.RegexpParser(\"NP: {<Adjective>*<Noun>*}\")\n",
        "tree = parser.parse(tags)\n",
        "tree"
      ],
      "execution_count": 0,
      "outputs": [
        {
          "output_type": "execute_result",
          "data": {
            "image/png": "[encoded data removed]",
            "text/plain": [
              "Tree('S', [('지구', 'NNG'), ('는', 'JX'), ('정말', 'MAG'), ('아름다운', 'VA+ETM'), ('별', 'NNG'), ('이', 'VCP'), ('다', 'EF'), ('.', 'SF')])"
            ]
          },
          "metadata": {
            "tags": []
          },
          "execution_count": 28
        }
      ]
    },
    {
      "metadata": {
        "id": "BFvyF0gJ_eiq",
        "colab_type": "code",
        "colab": {},
        "outputId": "aa4399ab-c96f-4ef2-ce56-4162a5b34591"
      },
      "cell_type": "code",
      "source": [
        "tree.pprint()"
      ],
      "execution_count": 0,
      "outputs": [
        {
          "output_type": "stream",
          "text": [
            "(S 지구/NNG 는/JX 정말/MAG 아름다운/VA+ETM 별/NNG 이/VCP 다/EF ./SF)\n"
          ],
          "name": "stdout"
        }
      ]
    },
    {
      "metadata": {
        "id": "VGqsoVa6_eit",
        "colab_type": "text"
      },
      "cell_type": "markdown",
      "source": [
        "# 명사 추출"
      ]
    },
    {
      "metadata": {
        "id": "O-7V7_AA_eiw",
        "colab_type": "code",
        "colab": {},
        "outputId": "00dfbdcb-ea3c-4334-a0e9-dc19915e410a"
      },
      "cell_type": "code",
      "source": [
        "engines = [Hannanum(), Kkma(), Mecab(), Okt()] # Komoran(),\n",
        "\n",
        "for e in engines:\n",
        "    print(e)\n",
        "    print(e.nouns(news_text)[:100])"
      ],
      "execution_count": 0,
      "outputs": [
        {
          "output_type": "stream",
          "text": [
            "<konlpy.tag._hannanum.Hannanum object at 0x7fd934aee588>\n",
            "['ㆍ중기청장', '밤샘토론', '“정부', '창업', '숫자', '강조', '성공률', '생각', '”', '“좋', '제품', '개발해도', '벤처기업', '판로', '”', '“연구·개발', '투자', '2년', '창업자금', '3년', '안', '”', '22일', '경기', '안산시', '청년창업사관학교', '송종호', '중소기업청장(56)', '청년창업자', '사관학교', '입교', '150', '명', '밤샘토론', '창업자들', '현장', '어려움', '자금', '지원', '후속대책', '정부', '무책', '질타', '22일', '자정', '시작', '토론회', '예정', '시간', '1시간30분', '23일', '새벽', '4시30분', '마무리', '신발제조업체', '운영', '권종익씨(29)', '“중기청', '기술개발자금', '지원', '개발', '양산', '시점', '돈', '부족해', '사업', '템포', '신발제조업', '전략산업', '이유', '생산단계', '자금', '지원', '않는다”고', '말', '정부', '현실', '의욕', '문제', '확실', '해결방안', '송종호', '청장', '“신발', '전략산업', '리', '없는데…', '담당', '답', '해보라”고', '실무자', '“복잡해', '데', '시간', '걸린다”고', '송', '청장', '“끝장토론', '여기', '답']\n",
            "<konlpy.tag._kkma.Kkma object at 0x7fd934aee470>\n",
            "['ㆍ중기청장', '밤샘', '밤샘토론', '토론', '정부', '창업', '숫자', '강조', '성공률', '생각', '제품', '개발', '벤처', '벤처기업', '기업', '판로', '연구', '투자', '2', '2년', '년', '창업자금', '자금', '3', '3년', '안', '22', '22일', '일', '경기', '안산', '안산시', '시', '청년', '청년창업사관학교', '사관', '학교', '송종', '송종호', '호', '중소기업', '중소기업청장', '청장', '56', '과', '청년창업자', '창업자', '사관학교', '입교자', '150', '150여명이', '여', '명이', '현장', '갖가지', '어려움', '지원', '후속', '후속대책', '대책', '무책임', '질타', '자정', '시작', '토론회', '예정', '시간', '1', '1시간30분', '30', '분', '23', '23일', '새벽', '4', '4시30분', '시', '야', '마무리', '신발', '신발제조업체', '제조', '업체', '운영', '권', '권종익씨', '종익', '씨', '29', '중기청', '기술', '기술개발자금', '양산', '시점', '돈', '부족', '사업', '템포', '게다', '신발제조업']\n",
            "<konlpy.tag._mecab.Mecab object at 0x7fd934aee6d8>\n",
            "['밤샘', '토론', '정부', '창업', '숫자', '강조', '성공', '생각', '제품', '개발', '벤처', '기업', '판로', '연구', '개발', '투자', '년', '창업', '자금', '년', '안', '일', '경기', '안산시', '청년', '창업', '사관', '학교', '송종호', '중소기업', '청장', '청년', '창업자', '사관', '학교', '입교자', '명', '밤샘', '토론', '창업자', '현장', '갖가지', '어려움', '자금', '지원', '후속', '대책', '정부', '책임', '질타', '일', '자정', '시작', '토론회', '예정', '시간', '시간', '분', '일', '새벽', '시', '분', '마무리', '신발', '제조', '업체', '운영', '권종', '중기청', '기술', '개발', '자금', '지원', '개발', '양산', '시점', '돈', '부족', '사업', '템포', '신발', '제조업', '전략', '산업', '이유', '생산', '단계', '자금', '지원', '말', '정부', '현실', '의', '욕', '문제', '해결', '방안', '송종호', '청장', '신발']\n",
            "<konlpy.tag._twitter.Twitter object at 0x7fd934af8a20>\n",
            "['중기청장', '밤샘', '토론', '정부', '창업', '숫자', '성공', '률', '제품', '벤처기업', '판로', '연구', '개발', '투자', '년', '창업', '자금', '년', '안', '지난', '일', '경기', '안산시', '청년', '창업', '사관학교', '송종호', '중소기업청장', '과', '청년', '창업', '및', '사관학교', '입교', '여명', '밤샘', '토론', '창업', '자', '현장', '갖가지', '어려움', '자금', '지원', '후속', '대책', '정부', '무책임', '대한', '질', '타도', '일', '자정', '토론회', '시간', '시간', '분', '일', '새벽', '시', '분', '마무리', '신발', '제조업체', '권종', '익', '중기청', '기술', '개발', '자금', '막상', '개발', '마치', '양산', '시점', '돈', '사업', '템포', '게다가', '신발', '제조업', '전략', '산업', '이유', '생산', '단계', '자금', '고', '정부', '현실', '의욕', '문제', '대한', '해결', '방안', '송종호', '청장', '신발', '전략', '산업']\n"
          ],
          "name": "stdout"
        }
      ]
    },
    {
      "metadata": {
        "id": "VkI1PF_5_ei0",
        "colab_type": "code",
        "colab": {},
        "outputId": "6dab0298-76da-4ad4-debb-12d563a3a348"
      },
      "cell_type": "code",
      "source": [
        "engine = Mecab()\n",
        "nouns = engine.nouns(news_text)\n",
        "print(nouns[:100])"
      ],
      "execution_count": 0,
      "outputs": [
        {
          "output_type": "stream",
          "text": [
            "['밤샘', '토론', '정부', '창업', '숫자', '강조', '성공', '생각', '제품', '개발', '벤처', '기업', '판로', '연구', '개발', '투자', '년', '창업', '자금', '년', '안', '일', '경기', '안산시', '청년', '창업', '사관', '학교', '송종호', '중소기업', '청장', '청년', '창업자', '사관', '학교', '입교자', '명', '밤샘', '토론', '창업자', '현장', '갖가지', '어려움', '자금', '지원', '후속', '대책', '정부', '책임', '질타', '일', '자정', '시작', '토론회', '예정', '시간', '시간', '분', '일', '새벽', '시', '분', '마무리', '신발', '제조', '업체', '운영', '권종', '중기청', '기술', '개발', '자금', '지원', '개발', '양산', '시점', '돈', '부족', '사업', '템포', '신발', '제조업', '전략', '산업', '이유', '생산', '단계', '자금', '지원', '말', '정부', '현실', '의', '욕', '문제', '해결', '방안', '송종호', '청장', '신발']\n"
          ],
          "name": "stdout"
        }
      ]
    },
    {
      "metadata": {
        "id": "5dHt3EvL_ei3",
        "colab_type": "code",
        "colab": {},
        "outputId": "14e2395b-ed51-433a-e4cc-393e75b835ec"
      },
      "cell_type": "code",
      "source": [
        "len(nouns)"
      ],
      "execution_count": 0,
      "outputs": [
        {
          "output_type": "execute_result",
          "data": {
            "text/plain": [
              "5506"
            ]
          },
          "metadata": {
            "tags": []
          },
          "execution_count": 32
        }
      ]
    },
    {
      "metadata": {
        "id": "3WMcCtA__ei6",
        "colab_type": "code",
        "colab": {},
        "outputId": "f914df27-4ea3-4d6f-b21a-0a9fe0bb8788"
      },
      "cell_type": "code",
      "source": [
        "# 1 글자는 제외\n",
        "nouns = [n for n in nouns if len(n) > 1]\n",
        "len(nouns)"
      ],
      "execution_count": 0,
      "outputs": [
        {
          "output_type": "execute_result",
          "data": {
            "text/plain": [
              "4387"
            ]
          },
          "metadata": {
            "tags": []
          },
          "execution_count": 33
        }
      ]
    },
    {
      "metadata": {
        "id": "knnVBiHz_ei9",
        "colab_type": "code",
        "colab": {},
        "outputId": "f5f9be14-d0b2-44d1-a3c8-b1ea8db96c39"
      },
      "cell_type": "code",
      "source": [
        "# 가장 많이 등장하는 명사 TOP 40\n",
        "from collections import Counter\n",
        "\n",
        "count = Counter(nouns)\n",
        "tags = count.most_common(40)\n",
        "print(tags[:40])"
      ],
      "execution_count": 0,
      "outputs": [
        {
          "output_type": "stream",
          "text": [
            "[('가격', 65), ('정보', 40), ('재산', 35), ('인상', 33), ('지난해', 30), ('기업', 30), ('시장', 29), ('투자', 27), ('업체', 26), ('장관', 21), ('담합', 21), ('농심', 20), ('정부', 20), ('제품', 20), ('라면', 20), ('증가', 19), ('경제', 18), ('회장', 18), ('공정위', 16), ('고객', 16), ('국내', 15), ('금융', 14), ('한국', 14), ('분기', 14), ('종교', 13), ('결혼', 13), ('전략', 13), ('대표', 13), ('그룹', 13), ('원장', 13), ('가계', 13), ('영업', 13), ('기준', 12), ('주식', 12), ('과세', 12), ('거래', 12), ('보유', 12), ('현대중공업', 12), ('사업', 11), ('주가', 11)]\n"
          ],
          "name": "stdout"
        }
      ]
    },
    {
      "metadata": {
        "id": "XMel1Pgy_ei_",
        "colab_type": "code",
        "colab": {},
        "outputId": "3c0814ed-933f-42b6-ecf6-7437976c92a3"
      },
      "cell_type": "code",
      "source": [
        "import nltk\n",
        "news = nltk.Text(nouns)\n",
        "news.plot(50)"
      ],
      "execution_count": 0,
      "outputs": [
        {
          "output_type": "display_data",
          "data": {
            "image/png": "[encoded data removed]",
            "text/plain": [
              "<matplotlib.figure.Figure at 0x7fd9351b8080>"
            ]
          },
          "metadata": {
            "tags": []
          }
        }
      ]
    },
    {
      "metadata": {
        "id": "ZgGN_XgS_ejC",
        "colab_type": "text"
      },
      "cell_type": "markdown",
      "source": [
        "# Summary\n",
        "* KoNLPy - 말뭉치, 형태소 분석 및 품사 태깅\n",
        "* 형태소 분석\n",
        "* 형태소 분석기 성능\n",
        "* Tokenize - engine.morphs()\n",
        "* nltk.Text() \n",
        "* 빈도 분포, count, Dispersion plot\n",
        "* Concordance(색인)\n",
        "* Similar word (same context)\n",
        "* common_contexts\n",
        "* Collocations (연어)\n",
        "* PoS Tagging\n",
        "* Chunking\n",
        "* 명사 추출 engine.nouns()"
      ]
    },
    {
      "metadata": {
        "id": "L0EPKCCh_ejD",
        "colab_type": "text"
      },
      "cell_type": "markdown",
      "source": [
        "#### 2017 FinanceData.KR http://financedata.kr"
      ]
    }
  ]
}