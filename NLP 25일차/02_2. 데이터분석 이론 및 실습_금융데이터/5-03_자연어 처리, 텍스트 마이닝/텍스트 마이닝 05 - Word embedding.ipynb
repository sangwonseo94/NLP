{
  "nbformat": 4,
  "nbformat_minor": 0,
  "metadata": {
    "colab": {
      "name": "텍스트 마이닝 05 - Word embedding.ipynb",
      "version": "0.3.2",
      "provenance": [],
      "collapsed_sections": []
    },
    "kernelspec": {
      "display_name": "Python 3",
      "language": "python",
      "name": "python3"
    }
  },
  "cells": [
    {
      "metadata": {
        "slideshow": {
          "slide_type": "slide"
        },
        "id": "SYAhlH9YLx7E",
        "colab_type": "text"
      },
      "cell_type": "markdown",
      "source": [
        "# 텍스트 마이닝 05 - Word embedding\n",
        "<img width=\"40%\" src=\"https://i.imgur.com/AydcsdT.png\">\n",
        "    \n",
        "### 2017-2019 [FinanceData.KR](http://financedata.kr)"
      ]
    },
    {
      "metadata": {
        "id": "f22SYjEOMfgS",
        "colab_type": "text"
      },
      "cell_type": "markdown",
      "source": [
        "# 환경설정"
      ]
    },
    {
      "metadata": {
        "id": "r_EPwquMMFXa",
        "colab_type": "code",
        "colab": {
          "base_uri": "https://localhost:8080/",
          "height": 215
        },
        "outputId": "0b224785-c11e-4447-89f0-4a7cfff9e945"
      },
      "cell_type": "code",
      "source": [
        "# 폰트설치 (구글 Colab)\n",
        "!apt-get install -q fonts-nanum*"
      ],
      "execution_count": 31,
      "outputs": [
        {
          "output_type": "stream",
          "text": [
            "Reading package lists...\n",
            "Building dependency tree...\n",
            "Reading state information...\n",
            "fonts-nanum is already the newest version (20170925-1).\n",
            "fonts-nanum-coding is already the newest version (2.5-1).\n",
            "fonts-nanum-eco is already the newest version (1.000-6).\n",
            "fonts-nanum-extra is already the newest version (20170925-1).\n",
            "The following package was automatically installed and is no longer required:\n",
            "  libnvidia-common-410\n",
            "Use 'apt autoremove' to remove it.\n",
            "0 upgraded, 0 newly installed, 0 to remove and 10 not upgraded.\n"
          ],
          "name": "stdout"
        }
      ]
    },
    {
      "metadata": {
        "id": "r02Edrp6Mvpo",
        "colab_type": "code",
        "colab": {}
      },
      "cell_type": "code",
      "source": [
        "# install nltk, konlpy, gensim\n",
        "!pip install -q nltk\n",
        "!pip install -q konlpy\n",
        "!pip install -q gensim"
      ],
      "execution_count": 0,
      "outputs": []
    },
    {
      "metadata": {
        "id": "8ynyq9q2Dg2m",
        "colab_type": "code",
        "colab": {}
      },
      "cell_type": "code",
      "source": [
        "# FutureWarning: from `int` to `np.signedinteger` is deprecated. In future\n",
        "\n",
        "import warnings\n",
        "warnings.simplefilter(action='ignore', category=FutureWarning)"
      ],
      "execution_count": 0,
      "outputs": []
    },
    {
      "metadata": {
        "slideshow": {
          "slide_type": "slide"
        },
        "id": "Z1onbavmLx7F",
        "colab_type": "text"
      },
      "cell_type": "markdown",
      "source": [
        "# Word embedding\n",
        "단어들을 벡터 공간에 배치하는 것 (문서로 부터 특징을 학습)\n",
        "* 단어를 이진법으로 표현: one-hot encoding (예를 들어, [0 0 0 0 0 1 0 0 0] )\n",
        "* 이진 표현은 유사도를 정의할 수 없다 (모든 벡터간의 거리가 같다)\n",
        "* TF-IDF: TF(=단어가 문서에 존재 여부) X IDF(=문서 빈도의 역수), 유사도 식별이 어렵다\n",
        "* local context 를 사용하여, syntactic or semantic 표현 정보로 활용하자!\n",
        "\n",
        "주요 접근법\n",
        "* NNLM과 RNNLM\n",
        "* Neural networks (뉴럴네트워크)\n",
        "* Dimensionality reduction (차원축소)"
      ]
    },
    {
      "metadata": {
        "slideshow": {
          "slide_type": "slide"
        },
        "id": "7sAra5jBLx7G",
        "colab_type": "text"
      },
      "cell_type": "markdown",
      "source": [
        "# word2vec (Mikolov 2013)\n",
        "* Word Embeddins To Vector, \"단어를 벡터(숫자)공간에 삽입하기\"\n",
        "* word2vec = CBOW + Skip-Gram (-hidden layers)\n",
        "* 엄청난 성능!\n",
        "\n",
        "<img width=\"60%\" src=\"https://i.imgur.com/JdF4YEf.png\">\n",
        "\n",
        "CBOW |  Skip-Gram\n",
        ":---- | :----\n",
        "ㆍ 문맥(전후 2개 단어)로 단어를 예측 <br> ㆍ Skip-Gram 학습에 비해 매우 빠르다 | ㆍ 현재 단어를 통해 주위 문맥을 예측<br> ㆍ 작은 량의 학습 데이터로도 잘 동작"
      ]
    },
    {
      "metadata": {
        "collapsed": true,
        "slideshow": {
          "slide_type": "slide"
        },
        "id": "WzXf-UuXLx7H",
        "colab_type": "text"
      },
      "cell_type": "markdown",
      "source": [
        "# Linguistic regularities\n",
        "#### KINGS - KING + QUEEN = ?\n",
        "<img src=\"https://i.imgur.com/SI3Ey0u.png\" >\n"
      ]
    },
    {
      "metadata": {
        "collapsed": true,
        "slideshow": {
          "slide_type": "slide"
        },
        "id": "sa6vGxhdLx7J",
        "colab_type": "text"
      },
      "cell_type": "markdown",
      "source": [
        "# 단어의 벡터 연산 예\n",
        "http://w.elnn.kr/ (여기서 연습해보세요)\n",
        "\n",
        "v(KING) - v(MAN) + v(WOMAN) = v(QUEEN) \n",
        "* 남자==왕, 여자=?\n",
        "\n",
        "v(한국) - v(서울) + v(파리) \n",
        "* 서울==한국, 파리=?"
      ]
    },
    {
      "metadata": {
        "slideshow": {
          "slide_type": "skip"
        },
        "id": "O_eBeol1Lx7K",
        "colab_type": "code",
        "colab": {}
      },
      "cell_type": "code",
      "source": [
        "%matplotlib inline\n",
        "import matplotlib.pyplot as plt\n",
        "from matplotlib import font_manager\n",
        "font_path = '/usr/share/fonts/truetype/nanum/NanumMyeongjoBold.ttf'\n",
        "font_name = font_manager.FontProperties(fname=font_path).get_name()\n",
        "\n",
        "plt.rcParams[\"font.family\"] = font_name\n",
        "plt.rcParams[\"axes.grid\"] = True\n",
        "plt.rcParams[\"figure.figsize\"] = (14,4)"
      ],
      "execution_count": 0,
      "outputs": []
    },
    {
      "metadata": {
        "slideshow": {
          "slide_type": "slide"
        },
        "id": "7svSV_xTLx7N",
        "colab_type": "text"
      },
      "cell_type": "markdown",
      "source": [
        "# 증권 뉴스 코퍼스\n",
        "\n",
        "2016년 1년간 전종목 증권뉴스\n",
        "* 파일 307,926개, 크기 776.8 MB\n",
        "* https://www.dropbox.com/s/hv73gfwnc2x450z/news_text_2015.zip \n",
        "\n",
        "2017년 1월 1개월간 전종목 증권뉴스\n",
        "* 항목 14,515개, 크기 34.6 MB\n",
        "* https://www.dropbox.com/s/yw0ug8chelh1leu/news_text_2016_07.zip\n",
        "    \n"
      ]
    },
    {
      "metadata": {
        "slideshow": {
          "slide_type": "slide"
        },
        "id": "aYNoiGmzLx7O",
        "colab_type": "code",
        "colab": {}
      },
      "cell_type": "code",
      "source": [
        "# 현재 디렉토리에 다운로드\n",
        "! wget -q https://www.dropbox.com/s/yw0ug8chelh1leu/news_text_2016_07.zip"
      ],
      "execution_count": 0,
      "outputs": []
    },
    {
      "metadata": {
        "id": "43ApHqrFTUED",
        "colab_type": "code",
        "colab": {
          "base_uri": "https://localhost:8080/",
          "height": 35
        },
        "outputId": "a1b22554-df0c-4798-b72c-c4038b7eb041"
      },
      "cell_type": "code",
      "source": [
        "ll *.zip"
      ],
      "execution_count": 36,
      "outputs": [
        {
          "output_type": "stream",
          "text": [
            "-rw-r--r-- 1 root 21369720 Mar 24 18:36 news_text_2016_07.zip\n"
          ],
          "name": "stdout"
        }
      ]
    },
    {
      "metadata": {
        "slideshow": {
          "slide_type": "subslide"
        },
        "id": "bFidqf2BLx7S",
        "colab_type": "code",
        "colab": {
          "base_uri": "https://localhost:8080/",
          "height": 91
        },
        "outputId": "2fdd7118-0bed-42ae-b445-d8eaf2cdb73d"
      },
      "cell_type": "code",
      "source": [
        "import zipfile\n",
        "\n",
        "zip_file = 'news_text_2016_07.zip'\n",
        "zf = zipfile.ZipFile(zip_file, mode='r')\n",
        "zlist = zf.infolist()\n",
        "\n",
        "z = zlist[0]\n",
        "with zf.open(z.filename) as f:\n",
        "    print(f.read().decode('utf-8'))"
      ],
      "execution_count": 37,
      "outputs": [
        {
          "output_type": "stream",
          "text": [
            "\n",
            "유재훈 한국예탁결제원 사장/사진제공=한국예탁결제원한국예탁결제원이 전자증권제 조기 안착을 위해 홍보와 마케팅에 주력할 방침이다. 유재훈 한국예탁결제원 사장은 11일 서울 여의도에서 열린 기자간담회에서 “전자증권제가 선진국 등 다른 나라에 비해 도입이 늦어졌지만, 조기 시행을 건의해 제도 홍보와 관련 시스템 구축에 최선을 다하겠다”고 밝혔다. 전자증권제도는 실물증권에 기반해 이뤄지던 증권의 발행과 유통을 전자 등록을 통해 추진하는 시스템이다. OECD 34개 국가 중 32개국이 일부 또는 전면 도입했으며, 국내에는 지난 3월 22일 전자증권법 제정법률이 국회에서 통과됐다. 전자증권법은 법상 시행일이 공포 후 4년 이내지만, 한국예탁결제원은 조기시행될 수 있도록 건의할 계획이라고 설명했다. 유 사장은 “20년간 추진해왔던 전자증권법은 장기 숙원과제였다”며 “연간 870억원의 경제적 효과가 발생할 것”이라고 강조했다. 이 외에도 한국예탁결제원은 글로벌 법인식별기호(LEI) 활용과 의무사용이 확대됨에 따라 글로벌LEI재단의 국제 인증도 추진할 예정이다. 또 크라우드넷을 활용해 크라우드펀딩 정보허브로 육성하고 KSD지방사무소를 중심으로 중소·벤처기업 대상 주식사무와 크라우드펀딩 연수에도 총력을 기울일 방침이다. 또한 중국 선전과 홍콩 증시의 교차거래가 허용되는 선강퉁(深港通) 시행에 대비해 거래주식의 예탁결제 서비스를 준비하는 등 중국 자본시장에 대한 투자지원 서비스를 강화할 계획이다.유 사장은 “임기가 4개월 가량 남았지만, 신성장 동력 확보와 글로벌화 추진 등 4대 전략을 차근차근 이행할 것”이라며 “자본시장법 개정안의 국회통과를 적극 지원함으로 거래소와 지배관계도 차근차근 해소하겠다”고 말했다. /박시진기자 see1205@sedaily.com[서울경제 바로가기] [인기포토로 보는 오늘]서울경제와 친해지는 가장 확실한 방법 [페이스북]저작권자 ⓒ 서울경제, 무단 전재 및 재배포 금지서울경제 관련뉴스언론사 페이지로 이동합니다.이승연 남편 김문철 \"이승연, 부모님보다 더 존경할만한 사람\"김기범-류효영, '열애설' 김기범 SNS 의미심장한 글 \"더 많이 좋아하는 사람이 을\"파예, 호날두 악의적 태클에 SNS 비난 폭주 \"전 세계 욕 공짜로 배우겠네\"'호날두' 부상에도...'유로' 우승컵 차지 '사상 처음'\"이거 털리면...\" 서울대에서도 '단톡방 성폭행'\n",
            "\n"
          ],
          "name": "stdout"
        }
      ]
    },
    {
      "metadata": {
        "slideshow": {
          "slide_type": "-"
        },
        "id": "L55xmqlxLx7W",
        "colab_type": "code",
        "colab": {
          "base_uri": "https://localhost:8080/",
          "height": 35
        },
        "outputId": "3a56d4e9-790d-4267-e359-8dfd5905ac19"
      },
      "cell_type": "code",
      "source": [
        "len(zlist)"
      ],
      "execution_count": 38,
      "outputs": [
        {
          "output_type": "execute_result",
          "data": {
            "text/plain": [
              "14515"
            ]
          },
          "metadata": {
            "tags": []
          },
          "execution_count": 38
        }
      ]
    },
    {
      "metadata": {
        "slideshow": {
          "slide_type": "slide"
        },
        "id": "CIJiZib6Lx7b",
        "colab_type": "text"
      },
      "cell_type": "markdown",
      "source": [
        "# 1. Read news text"
      ]
    },
    {
      "metadata": {
        "slideshow": {
          "slide_type": "-"
        },
        "id": "cRRKa0cLLx7c",
        "colab_type": "code",
        "colab": {
          "base_uri": "https://localhost:8080/",
          "height": 35
        },
        "outputId": "e7ac2b5a-39b5-49c9-a218-66e844926565"
      },
      "cell_type": "code",
      "source": [
        "import zipfile\n",
        "zip_file = 'news_text_2016_07.zip' # 항목 14,515개, 크기 34.6 MB\n",
        "\n",
        "zf = zipfile.ZipFile(zip_file, mode='r')\n",
        "zlist = zf.infolist()\n",
        "\n",
        "news_text_list = []\n",
        "for z in zlist:\n",
        "    with zf.open(z.filename) as f:\n",
        "        news_text_list.append( f.read().decode('utf-8') )\n",
        "        \n",
        "        \n",
        "len(news_text_list)"
      ],
      "execution_count": 39,
      "outputs": [
        {
          "output_type": "execute_result",
          "data": {
            "text/plain": [
              "14515"
            ]
          },
          "metadata": {
            "tags": []
          },
          "execution_count": 39
        }
      ]
    },
    {
      "metadata": {
        "slideshow": {
          "slide_type": "slide"
        },
        "id": "P5-fZTlrLx7f",
        "colab_type": "text"
      },
      "cell_type": "markdown",
      "source": [
        "# 2. Tokenize\n",
        "Mecab를 사용하려면 별도 설치 필요\n",
        "\n",
        "Mecab 설치, https://nbviewer.jupyter.org/e208aeeaa2c8ba80e46a124d5056e267"
      ]
    },
    {
      "metadata": {
        "slideshow": {
          "slide_type": "-"
        },
        "id": "moxkOyF-Lx7g",
        "colab_type": "code",
        "colab": {
          "base_uri": "https://localhost:8080/",
          "height": 53
        },
        "outputId": "004d2f2d-9595-4b9d-9d28-2dd7fe14f382"
      },
      "cell_type": "code",
      "source": [
        "%%time\n",
        "from konlpy.tag import Okt, Kkma, Hannanum, Komoran, Mecab\n",
        "\n",
        "engine = Mecab()\n",
        "\n",
        "news_tokens = []\n",
        "for news_text in news_text_list:\n",
        "    nouns = engine.nouns(news_text)\n",
        "    nouns = [n for n in nouns if len(n) > 1]\n",
        "    news_tokens.append(nouns)"
      ],
      "execution_count": 40,
      "outputs": [
        {
          "output_type": "stream",
          "text": [
            "CPU times: user 36.5 s, sys: 109 ms, total: 36.6 s\n",
            "Wall time: 36.6 s\n"
          ],
          "name": "stdout"
        }
      ]
    },
    {
      "metadata": {
        "slideshow": {
          "slide_type": "-"
        },
        "id": "NPN5Z86HLx7j",
        "colab_type": "code",
        "colab": {
          "base_uri": "https://localhost:8080/",
          "height": 55
        },
        "outputId": "032a6523-30bc-4c8c-95d8-d1dda3e68f83"
      },
      "cell_type": "code",
      "source": [
        "print(news_tokens[0][:50])"
      ],
      "execution_count": 41,
      "outputs": [
        {
          "output_type": "stream",
          "text": [
            "['유재훈', '한국', '예탁', '결제', '사진', '제공', '한국', '예탁', '결제', '한국', '예탁', '결제', '전자', '증권', '조기', '안착', '홍보', '마케팅', '주력', '방침', '유재훈', '한국', '예탁', '결제', '사장', '서울', '여의도', '기자', '간담회', '전자', '증권', '선진국', '나라', '도입', '조기', '시행', '건의', '제도', '홍보', '관련', '시스템', '구축', '최선', '전자', '증권', '제도', '실물', '증권', '기반', '증권']\n"
          ],
          "name": "stdout"
        }
      ]
    },
    {
      "metadata": {
        "slideshow": {
          "slide_type": "-"
        },
        "id": "YgVE3a_xLx7n",
        "colab_type": "code",
        "colab": {
          "base_uri": "https://localhost:8080/",
          "height": 35
        },
        "outputId": "c2206c8d-c105-403e-ca9b-27b8593f09df"
      },
      "cell_type": "code",
      "source": [
        "len(news_tokens)"
      ],
      "execution_count": 42,
      "outputs": [
        {
          "output_type": "execute_result",
          "data": {
            "text/plain": [
              "14515"
            ]
          },
          "metadata": {
            "tags": []
          },
          "execution_count": 42
        }
      ]
    },
    {
      "metadata": {
        "slideshow": {
          "slide_type": "slide"
        },
        "id": "GWVMZjRxLx7q",
        "colab_type": "text"
      },
      "cell_type": "markdown",
      "source": [
        "# 3. Training"
      ]
    },
    {
      "metadata": {
        "slideshow": {
          "slide_type": "-"
        },
        "id": "3N2bWM6vLx7s",
        "colab_type": "code",
        "colab": {}
      },
      "cell_type": "code",
      "source": [
        "from gensim.models.word2vec import Word2Vec\n",
        "\n",
        "# size=100 (100차원 벡터), window=10 (10단어씩), min_count=3 (최소 3회 이상 출현)\n",
        "model = Word2Vec(news_tokens, size=100, window=10, min_count=3)"
      ],
      "execution_count": 0,
      "outputs": []
    },
    {
      "metadata": {
        "slideshow": {
          "slide_type": "-"
        },
        "id": "_wJdXCVpLx7v",
        "colab_type": "code",
        "colab": {
          "base_uri": "https://localhost:8080/",
          "height": 35
        },
        "outputId": "9634242b-d011-454d-fbf4-3009ebc03652"
      },
      "cell_type": "code",
      "source": [
        "# word counts\n",
        "len(model.wv.vocab)"
      ],
      "execution_count": 77,
      "outputs": [
        {
          "output_type": "execute_result",
          "data": {
            "text/plain": [
              "16501"
            ]
          },
          "metadata": {
            "tags": []
          },
          "execution_count": 77
        }
      ]
    },
    {
      "metadata": {
        "id": "hX3GpNNsGHsv",
        "colab_type": "code",
        "colab": {
          "base_uri": "https://localhost:8080/",
          "height": 55
        },
        "outputId": "a2bb6fb8-6a88-4268-8829-9eb16c03e5c3"
      },
      "cell_type": "code",
      "source": [
        "print(list(model.wv.vocab.keys())[:100])"
      ],
      "execution_count": 87,
      "outputs": [
        {
          "output_type": "stream",
          "text": [
            "['유재훈', '한국', '예탁', '결제', '사진', '제공', '전자', '증권', '조기', '안착', '홍보', '마케팅', '주력', '방침', '사장', '서울', '여의도', '기자', '간담회', '선진국', '나라', '도입', '시행', '건의', '제도', '관련', '시스템', '구축', '최선', '실물', '기반', '발행', '유통', '등록', '추진', '국가', '개국', '일부', '전면', '국내', '제정법', '국회', '통과', '법상', '공포', '이내', '계획', '설명', '장기', '숙원', '과제', '연간', '경제', '효과', '발생', '강조', '글로벌', '법인', '식별', '기호', '활용', '의무', '사용', '확대', '재단', '국제', '인증', '예정', '우드', '펀딩', '정보', '허브', '육성', '지방', '사무소', '중심', '중소', '벤처', '기업', '대상', '주식', '사무', '크라', '연수', '총력', '중국', '선전', '홍콩', '증시', '교차', '거래', '허용', '선강', '대비', '서비스', '준비', '자본', '시장', '투자', '지원']\n"
          ],
          "name": "stdout"
        }
      ]
    },
    {
      "metadata": {
        "slideshow": {
          "slide_type": "subslide"
        },
        "id": "WcnIXwt7Lx72",
        "colab_type": "code",
        "colab": {
          "base_uri": "https://localhost:8080/",
          "height": 395
        },
        "outputId": "6009ef1c-c722-416c-c074-b18761c524e2"
      },
      "cell_type": "code",
      "source": [
        "# 삼성전자 벡터값 (100개)\n",
        "model.wv['삼성전자']"
      ],
      "execution_count": 58,
      "outputs": [
        {
          "output_type": "execute_result",
          "data": {
            "text/plain": [
              "array([-1.7933525 ,  0.36936912,  0.08875873,  0.59603745, -3.147714  ,\n",
              "        0.09319665, -0.01413262,  2.1011016 , -0.88297397, -0.70087457,\n",
              "       -2.391501  , -2.0659525 ,  2.8617103 , -3.370025  , -2.977699  ,\n",
              "       -0.3832729 , -2.2520823 ,  3.6736243 , -4.2244334 , -2.1860306 ,\n",
              "       -2.5353246 ,  3.2167165 ,  0.4663929 ,  1.4055012 , -0.16936238,\n",
              "       -4.0087266 , -5.47021   ,  6.2920194 ,  3.282837  , -1.0415668 ,\n",
              "       -2.8230345 , -2.0974655 ,  4.834671  ,  2.0735846 ,  3.2560494 ,\n",
              "       -1.43623   , -0.5091899 , -0.29265332, -3.1176982 ,  0.3212348 ,\n",
              "       -2.508291  ,  1.5678276 , -2.036721  , -3.5913355 , -1.1142409 ,\n",
              "        1.352353  , -0.14999886, -3.4449966 ,  0.667729  ,  0.46756113,\n",
              "       -1.5068873 , -2.2653942 , -0.3418202 , -1.0173693 , -1.0548853 ,\n",
              "       -3.3327332 ,  3.0920737 , -1.3088682 , -4.923753  , -1.1171741 ,\n",
              "       -1.6504915 ,  0.0329872 ,  3.5654914 ,  1.0923164 , -0.4592032 ,\n",
              "        2.7190323 ,  4.585735  , -2.1466308 , -1.0868313 ,  6.7580657 ,\n",
              "       -0.35887545,  1.0988891 ,  1.1363674 , -4.002862  , -3.0784347 ,\n",
              "        2.7933655 ,  0.03822732, -2.2734532 ,  0.5911864 ,  5.4466157 ,\n",
              "        0.10753264, -0.80765766, -1.0486085 , -1.4829862 ,  2.9109972 ,\n",
              "       -2.2090895 ,  4.4115644 ,  1.852011  , -1.5450107 , -0.5011873 ,\n",
              "        0.5867922 , -4.747075  ,  1.0828755 , -4.383019  , -2.583137  ,\n",
              "       -2.9346783 , -4.398644  , -2.5865622 , -2.3574522 ,  1.4300739 ],\n",
              "      dtype=float32)"
            ]
          },
          "metadata": {
            "tags": []
          },
          "execution_count": 58
        }
      ]
    },
    {
      "metadata": {
        "slideshow": {
          "slide_type": "slide"
        },
        "id": "Uf90TeoWLx76",
        "colab_type": "text"
      },
      "cell_type": "markdown",
      "source": [
        "# 4. Testing"
      ]
    },
    {
      "metadata": {
        "slideshow": {
          "slide_type": "subslide"
        },
        "id": "Sd7Iw9EQLx8B",
        "colab_type": "code",
        "colab": {
          "base_uri": "https://localhost:8080/",
          "height": 197
        },
        "outputId": "04224518-d330-4acd-ae7b-355049faeaa2"
      },
      "cell_type": "code",
      "source": [
        "model.wv.most_similar('삼성전자') # 단어의 의미 (종목)"
      ],
      "execution_count": 59,
      "outputs": [
        {
          "output_type": "execute_result",
          "data": {
            "text/plain": [
              "[('하이닉스', 0.571800947189331),\n",
              " ('서프라이즈', 0.5095070600509644),\n",
              " ('장주', 0.4951897859573364),\n",
              " ('최고가', 0.4881258010864258),\n",
              " ('한국전력', 0.48707282543182373),\n",
              " ('중형주', 0.4827226400375366),\n",
              " ('삼성물산', 0.47940513491630554),\n",
              " ('경신', 0.4644964337348938),\n",
              " ('디스플레이', 0.46217405796051025),\n",
              " ('고가', 0.45499318838119507)]"
            ]
          },
          "metadata": {
            "tags": []
          },
          "execution_count": 59
        }
      ]
    },
    {
      "metadata": {
        "slideshow": {
          "slide_type": "subslide"
        },
        "id": "2a5xjxIULx8E",
        "colab_type": "code",
        "colab": {
          "base_uri": "https://localhost:8080/",
          "height": 197
        },
        "outputId": "513d13c5-5cd9-4c8a-d1bc-d283a5bd8d61"
      },
      "cell_type": "code",
      "source": [
        "model.wv.most_similar('코스피') # 단어의 의미 (시장)"
      ],
      "execution_count": 60,
      "outputs": [
        {
          "output_type": "execute_result",
          "data": {
            "text/plain": [
              "[('지난주', 0.6485657095909119),\n",
              " ('보합권', 0.6160129308700562),\n",
              " ('장세', 0.6130313873291016),\n",
              " ('랠리', 0.6113300323486328),\n",
              " ('매수세', 0.6068103909492493),\n",
              " ('증시', 0.606791615486145),\n",
              " ('양봉', 0.6028212308883667),\n",
              " ('지수', 0.5960755348205566),\n",
              " ('초반', 0.5700454711914062),\n",
              " ('고점', 0.5616500377655029)]"
            ]
          },
          "metadata": {
            "tags": []
          },
          "execution_count": 60
        }
      ]
    },
    {
      "metadata": {
        "slideshow": {
          "slide_type": "subslide"
        },
        "id": "lgeC8XomLx8H",
        "colab_type": "code",
        "colab": {
          "base_uri": "https://localhost:8080/",
          "height": 197
        },
        "outputId": "0337db4a-b56c-4ecb-edd9-96793636952c"
      },
      "cell_type": "code",
      "source": [
        "model.wv.most_similar('반도체') # 단어의 의미 (산업)"
      ],
      "execution_count": 61,
      "outputs": [
        {
          "output_type": "execute_result",
          "data": {
            "text/plain": [
              "[('낸드', 0.6747739315032959),\n",
              " ('장비', 0.6654652953147888),\n",
              " ('디스플레이', 0.632972240447998),\n",
              " ('메모리', 0.608782947063446),\n",
              " ('도시바', 0.5721738934516907),\n",
              " ('다이오드', 0.5647817850112915),\n",
              " ('플래시', 0.5589834451675415),\n",
              " ('발광', 0.5521066188812256),\n",
              " ('마이크', 0.5462299585342407),\n",
              " ('유기', 0.5451456308364868)]"
            ]
          },
          "metadata": {
            "tags": []
          },
          "execution_count": 61
        }
      ]
    },
    {
      "metadata": {
        "slideshow": {
          "slide_type": "subslide"
        },
        "id": "syBnvxYELx8K",
        "colab_type": "code",
        "colab": {
          "base_uri": "https://localhost:8080/",
          "height": 197
        },
        "outputId": "9a74a7e3-e464-4179-8230-65c5fd43767d"
      },
      "cell_type": "code",
      "source": [
        "model.wv.most_similar('스마트폰') # 단어의 의미 (제품)"
      ],
      "execution_count": 62,
      "outputs": [
        {
          "output_type": "execute_result",
          "data": {
            "text/plain": [
              "[('갤럭시', 0.6402682065963745),\n",
              " ('파란색', 0.6402331590652466),\n",
              " ('메모리', 0.63810133934021),\n",
              " ('애플', 0.6299062967300415),\n",
              " ('팬택', 0.6193400621414185),\n",
              " ('소니', 0.6186425685882568),\n",
              " ('카메라', 0.6096933484077454),\n",
              " ('중저가', 0.5975085496902466),\n",
              " ('플래시', 0.5951032638549805),\n",
              " ('모바일', 0.5826479196548462)]"
            ]
          },
          "metadata": {
            "tags": []
          },
          "execution_count": 62
        }
      ]
    },
    {
      "metadata": {
        "slideshow": {
          "slide_type": "subslide"
        },
        "id": "vQ0qbNkILx8N",
        "colab_type": "code",
        "colab": {
          "base_uri": "https://localhost:8080/",
          "height": 197
        },
        "outputId": "4ee5c37b-dde1-4b07-e5a6-85c125340b67"
      },
      "cell_type": "code",
      "source": [
        "model.wv.most_similar(positive=['바이오'])"
      ],
      "execution_count": 63,
      "outputs": [
        {
          "output_type": "execute_result",
          "data": {
            "text/plain": [
              "[('녹십자', 0.7266756296157837),\n",
              " ('제약', 0.7200186252593994),\n",
              " ('신약', 0.679617166519165),\n",
              " ('약품', 0.6163440346717834),\n",
              " ('약주', 0.6145680546760559),\n",
              " ('제약사', 0.6095517873764038),\n",
              " ('효종', 0.6083720922470093),\n",
              " ('보령', 0.5932897329330444),\n",
              " ('랜드', 0.5913833975791931),\n",
              " ('대웅', 0.5644354820251465)]"
            ]
          },
          "metadata": {
            "tags": []
          },
          "execution_count": 63
        }
      ]
    },
    {
      "metadata": {
        "slideshow": {
          "slide_type": "subslide"
        },
        "id": "-6ITNi9KLx8R",
        "colab_type": "code",
        "colab": {
          "base_uri": "https://localhost:8080/",
          "height": 197
        },
        "outputId": "d5fcbe38-d618-46ee-8d5a-774ffdbcd2a6"
      },
      "cell_type": "code",
      "source": [
        "model.wv.most_similar(positive=['삼성전자', '자동차'], negative=['스마트폰'])"
      ],
      "execution_count": 64,
      "outputs": [
        {
          "output_type": "execute_result",
          "data": {
            "text/plain": [
              "[('기아차', 0.5292428135871887),\n",
              " ('현대차', 0.5206381678581238),\n",
              " ('만도', 0.48896604776382446),\n",
              " ('기아', 0.459636926651001),\n",
              " ('해상', 0.427784264087677),\n",
              " ('과대', 0.427043080329895),\n",
              " ('공기업', 0.4262397289276123),\n",
              " ('페라', 0.42400866746902466),\n",
              " ('체면', 0.4127246141433716),\n",
              " ('현대기업금융', 0.40234360098838806)]"
            ]
          },
          "metadata": {
            "tags": []
          },
          "execution_count": 64
        }
      ]
    },
    {
      "metadata": {
        "slideshow": {
          "slide_type": "subslide"
        },
        "id": "E0vmbdFvLx8U",
        "colab_type": "code",
        "colab": {
          "base_uri": "https://localhost:8080/",
          "height": 197
        },
        "outputId": "4479858f-1a4c-405d-b32f-eb07127ad5ef"
      },
      "cell_type": "code",
      "source": [
        "model.wv.most_similar(positive=['스마트폰', '전기차'], negative=['액정'])"
      ],
      "execution_count": 65,
      "outputs": [
        {
          "output_type": "execute_result",
          "data": {
            "text/plain": [
              "[('애플', 0.5284238457679749),\n",
              " ('구글', 0.5176868438720703),\n",
              " ('소니', 0.5000623464584351),\n",
              " ('아이폰', 0.49766427278518677),\n",
              " ('모바일', 0.49708041548728943),\n",
              " ('정면', 0.4864993989467621),\n",
              " ('오하', 0.4776430130004883),\n",
              " ('팬택', 0.4757494330406189),\n",
              " ('배터리', 0.475460946559906),\n",
              " ('통사', 0.4675852656364441)]"
            ]
          },
          "metadata": {
            "tags": []
          },
          "execution_count": 65
        }
      ]
    },
    {
      "metadata": {
        "slideshow": {
          "slide_type": "slide"
        },
        "id": "aAWR8nhfLx8X",
        "colab_type": "text"
      },
      "cell_type": "markdown",
      "source": [
        "# 가장 관련이 없는 것은?"
      ]
    },
    {
      "metadata": {
        "slideshow": {
          "slide_type": "-"
        },
        "id": "7-P3AsPALx8Y",
        "colab_type": "code",
        "colab": {
          "base_uri": "https://localhost:8080/",
          "height": 35
        },
        "outputId": "b9090517-84f9-4b37-9332-f450dd7dddcd"
      },
      "cell_type": "code",
      "source": [
        "model.wv.doesnt_match(\"스마트폰 배터리 액정 맥주 아이폰 갤럭시\".split())"
      ],
      "execution_count": 66,
      "outputs": [
        {
          "output_type": "execute_result",
          "data": {
            "text/plain": [
              "'맥주'"
            ]
          },
          "metadata": {
            "tags": []
          },
          "execution_count": 66
        }
      ]
    },
    {
      "metadata": {
        "slideshow": {
          "slide_type": "-"
        },
        "id": "kE22rB1BLx8d",
        "colab_type": "code",
        "colab": {
          "base_uri": "https://localhost:8080/",
          "height": 35
        },
        "outputId": "47a119f4-0994-4204-b2b8-d32a6117b67d"
      },
      "cell_type": "code",
      "source": [
        "model.wv.doesnt_match(\"바이오 시밀러 제약 코스피 코스닥\".split())"
      ],
      "execution_count": 67,
      "outputs": [
        {
          "output_type": "execute_result",
          "data": {
            "text/plain": [
              "'코스피'"
            ]
          },
          "metadata": {
            "tags": []
          },
          "execution_count": 67
        }
      ]
    },
    {
      "metadata": {
        "slideshow": {
          "slide_type": "slide"
        },
        "id": "W3gxbDXnLx8i",
        "colab_type": "text"
      },
      "cell_type": "markdown",
      "source": [
        "# 유사도(similarity) 측정 "
      ]
    },
    {
      "metadata": {
        "slideshow": {
          "slide_type": "-"
        },
        "id": "Hz59LTztLx8j",
        "colab_type": "code",
        "colab": {
          "base_uri": "https://localhost:8080/",
          "height": 35
        },
        "outputId": "ecc1ac7b-542c-45c7-bf97-7f2737b3ee41"
      },
      "cell_type": "code",
      "source": [
        "model.wv.similarity('스마트폰', '배터리')"
      ],
      "execution_count": 68,
      "outputs": [
        {
          "output_type": "execute_result",
          "data": {
            "text/plain": [
              "0.39509022"
            ]
          },
          "metadata": {
            "tags": []
          },
          "execution_count": 68
        }
      ]
    },
    {
      "metadata": {
        "slideshow": {
          "slide_type": "-"
        },
        "id": "FJx7_sHnLx8m",
        "colab_type": "code",
        "colab": {
          "base_uri": "https://localhost:8080/",
          "height": 35
        },
        "outputId": "e5462d0c-1a63-4340-8760-a6fbec496caf"
      },
      "cell_type": "code",
      "source": [
        "model.wv.similarity('전기차', '배터리')"
      ],
      "execution_count": 69,
      "outputs": [
        {
          "output_type": "execute_result",
          "data": {
            "text/plain": [
              "0.74210894"
            ]
          },
          "metadata": {
            "tags": []
          },
          "execution_count": 69
        }
      ]
    },
    {
      "metadata": {
        "id": "7BQV6LNvEzIJ",
        "colab_type": "code",
        "colab": {
          "base_uri": "https://localhost:8080/",
          "height": 107
        },
        "outputId": "b19d0d15-b702-4201-eaa3-65cf7e9a9af6"
      },
      "cell_type": "code",
      "source": [
        "print('삼성전자', '하이닉스', model.wv.similarity('삼성전자', '하이닉스'))\n",
        "print('삼성전자', '녹십자', model.wv.similarity('삼성전자', '녹십자'))\n",
        "print('삼성전자', '갤럭시', model.wv.similarity('삼성전자', '갤럭시'))\n",
        "print('삼성전자', '스마트폰', model.wv.similarity('삼성전자', '스마트폰'))\n",
        "print('삼성전자', '농심', model.wv.similarity('삼성전자', '농심'))"
      ],
      "execution_count": 89,
      "outputs": [
        {
          "output_type": "stream",
          "text": [
            "삼성전자 하이닉스 0.571801\n",
            "삼성전자 녹십자 -0.0034018178\n",
            "삼성전자 갤럭시 0.44114164\n",
            "삼성전자 스마트폰 0.44459933\n",
            "삼성전자 농심 0.002165698\n"
          ],
          "name": "stdout"
        }
      ]
    },
    {
      "metadata": {
        "collapsed": true,
        "slideshow": {
          "slide_type": "slide"
        },
        "id": "F6uyfMO7Lx8o",
        "colab_type": "text"
      },
      "cell_type": "markdown",
      "source": [
        "# Pros and cons\n",
        "\n",
        "PROS\n",
        "* 사용 간편, 노력대비 엄청난 효과\n",
        "* 라벨 없는 데이터로 Supervied Learning\n",
        "\n",
        "CONS\n",
        "* 정확한 설명이 어려움 (머신러닝의 특징)\n",
        "* 성능향상을 위해 많은 튜닝 필요"
      ]
    },
    {
      "metadata": {
        "slideshow": {
          "slide_type": "slide"
        },
        "id": "3-EDdXaDLx8p",
        "colab_type": "text"
      },
      "cell_type": "markdown",
      "source": [
        "# Summary\n",
        "* Word embedding and word2vec\n",
        "* 단어의 벡터 연산\n",
        "* 증권 뉴스 코퍼스\n",
        "* word2vec 텍스트 마이닝\n",
        " * 1) Read text -- ZipFile\n",
        " * 2) Tokenize -- e.nouns(text)\n",
        " * 3) Training -- Word2Vec()\n",
        " * 4) Tesging -- model.most_similar(positive=[], negative=[]) \n",
        "* 가장 관련이 없는 것은? - model.wv.doesnt_match([])\n",
        "* 유사도 측정 - model.wv.similarity(w1, w2)\n",
        "* Pros and cons"
      ]
    },
    {
      "metadata": {
        "collapsed": true,
        "slideshow": {
          "slide_type": "notes"
        },
        "id": "piF9V-tDLx8q",
        "colab_type": "text"
      },
      "cell_type": "markdown",
      "source": [
        "#### 2017-2019 FinanceData.KR http://financedata.kr"
      ]
    }
  ]
}