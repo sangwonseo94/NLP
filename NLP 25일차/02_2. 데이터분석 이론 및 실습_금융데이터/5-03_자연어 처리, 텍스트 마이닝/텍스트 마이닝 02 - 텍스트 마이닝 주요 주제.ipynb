{
  "nbformat": 4,
  "nbformat_minor": 0,
  "metadata": {
    "colab": {
      "name": "텍스트 마이닝 02 - 텍스트 마이닝 주요 주제.ipynb",
      "version": "0.3.2",
      "provenance": [],
      "collapsed_sections": []
    },
    "language_info": {
      "codemirror_mode": {
        "name": "ipython",
        "version": 3
      },
      "file_extension": ".py",
      "mimetype": "text/x-python",
      "name": "python",
      "nbconvert_exporter": "python",
      "pygments_lexer": "ipython3",
      "version": "3.5.2"
    },
    "kernelspec": {
      "display_name": "Python 3",
      "language": "python",
      "name": "python3"
    }
  },
  "cells": [
    {
      "metadata": {
        "slideshow": {
          "slide_type": "slide"
        },
        "id": "HVGZrqvN3CLI",
        "colab_type": "text"
      },
      "cell_type": "markdown",
      "source": [
        "# 텍스트 마이닝 02 - 텍스트 마이닝 주요 주제\n",
        "\n",
        "<img width=\"40%\" src=\"https://i.imgur.com/AydcsdT.png\">\n",
        "    \n",
        "### 2017-2019 [FinanceData.KR]()"
      ]
    },
    {
      "metadata": {
        "slideshow": {
          "slide_type": "slide"
        },
        "id": "TpCaMIzj3CLK",
        "colab_type": "text"
      },
      "cell_type": "markdown",
      "source": [
        "# 텍스트 마이닝 주요 주제\n",
        "* Tokening\n",
        "* Chunking\n",
        "* TF-IDF (Term Frequency - Inverse Document Frequency) 단어 빈도와 역문서 빈도\n",
        "* 코사인 유사도 (cosine similarity)\n",
        "* LSI (Latent Semantic Indexing, 잠재 의미 색인),  LDA, HDP\n",
        "* word2vec"
      ]
    },
    {
      "metadata": {
        "slideshow": {
          "slide_type": "slide"
        },
        "id": "MOtvxJX-3CLK",
        "colab_type": "text"
      },
      "cell_type": "markdown",
      "source": [
        "# Tokening"
      ]
    },
    {
      "metadata": {
        "slideshow": {
          "slide_type": "-"
        },
        "id": "eYtJOZQJ3CLL",
        "colab_type": "code",
        "outputId": "64b685e5-b27f-4c61-b289-71f58ad0f0bb",
        "colab": {
          "base_uri": "https://localhost:8080/",
          "height": 35
        }
      },
      "cell_type": "code",
      "source": [
        "text = 'The earth is a beautiful planet.'\n",
        "tokens = text.split(' ')\n",
        "tokens"
      ],
      "execution_count": 1,
      "outputs": [
        {
          "output_type": "execute_result",
          "data": {
            "text/plain": [
              "['The', 'earth', 'is', 'a', 'beautiful', 'planet.']"
            ]
          },
          "metadata": {
            "tags": []
          },
          "execution_count": 1
        }
      ]
    },
    {
      "metadata": {
        "slideshow": {
          "slide_type": "slide"
        },
        "id": "cBdyMsnK3CLP",
        "colab_type": "text"
      },
      "cell_type": "markdown",
      "source": [
        "# chunking\n",
        "\n",
        "* 덩이짓기(Chunking, 청킹)\n",
        "* 정보를 의미있는 묶음으로 만드는 것 (명사구)"
      ]
    },
    {
      "metadata": {
        "slideshow": {
          "slide_type": "slide"
        },
        "id": "W4gBbijK3CLR",
        "colab_type": "text"
      },
      "cell_type": "markdown",
      "source": [
        "# 문서의 단어 빈도와 여부\n",
        "\n",
        "유사도(similarity): 비슷한 정도\n",
        "\n",
        "### 문서에 단어 출현 빈도\n",
        "\n",
        "| doc1 | doc2| doc3\n",
        "-- | -- | -- | --\n",
        "term1 | 0 | 0 | 2\n",
        "term2 | 1 | 0 | 0\n",
        "term3 | 0 | 1 | 3\n",
        "term4 | 2 | 3 | 2\n",
        "term5 | 3 | 2 | 0\n",
        "\n",
        "\n",
        "### 문서에 단어 출현 여부(binary) \n",
        "\n",
        "| doc1 | doc2| doc3\n",
        "-- | -- | -- | --\n",
        "term1 | 1 | 0 | 0\n",
        "term2 | 0 | 1 | 0\n",
        "term3 | 0 | 0 | 1\n",
        "term4 | 1 | 1 | 0\n",
        "term5 | 1 | 1 | 1\n",
        "\n"
      ]
    },
    {
      "metadata": {
        "slideshow": {
          "slide_type": "slide"
        },
        "id": "Hj0-0UAm3CLS",
        "colab_type": "text"
      },
      "cell_type": "markdown",
      "source": [
        "#  코사인 유사도 (cosine similarity) \n",
        "문서 유사도 측정에 많이 사용\n",
        "\n",
        "$$ similarity = \\cos(\\theta) = {A \\cdot B \\over \\| A\\| \\| B\\|} $$"
      ]
    },
    {
      "metadata": {
        "slideshow": {
          "slide_type": "-"
        },
        "id": "yqx0S51j3CLT",
        "colab_type": "code",
        "colab": {}
      },
      "cell_type": "code",
      "source": [
        "import numpy as np\n",
        "\n",
        "def my_cosine_similarity(A, B):\n",
        "    return np.dot(A, B) / (np.sqrt(np.sum(A**2)) * np.sqrt(np.sum(B**2)))"
      ],
      "execution_count": 0,
      "outputs": []
    },
    {
      "metadata": {
        "slideshow": {
          "slide_type": "slide"
        },
        "id": "ECxRxVMq3CLW",
        "colab_type": "code",
        "outputId": "0d127675-472c-4a03-9cf0-c3f52d44043d",
        "colab": {
          "base_uri": "https://localhost:8080/",
          "height": 69
        }
      },
      "cell_type": "code",
      "source": [
        "doc1 = np.array([1, 0, 0, 1, 1])\n",
        "doc2 = np.array([0, 1, 0, 1, 1])\n",
        "doc3 = np.array([0, 0, 1, 0, 1])\n",
        "\n",
        "print('(doc1, doc2):', my_cosine_similarity(doc1, doc2))\n",
        "print('(doc1, doc3):', my_cosine_similarity(doc1, doc3))\n",
        "print('(doc2, doc3):', my_cosine_similarity(doc2, doc3))"
      ],
      "execution_count": 3,
      "outputs": [
        {
          "output_type": "stream",
          "text": [
            "(doc1, doc2): 0.6666666666666667\n",
            "(doc1, doc3): 0.40824829046386296\n",
            "(doc2, doc3): 0.40824829046386296\n"
          ],
          "name": "stdout"
        }
      ]
    },
    {
      "metadata": {
        "slideshow": {
          "slide_type": "slide"
        },
        "id": "ACg0x0Ws3CLa",
        "colab_type": "text"
      },
      "cell_type": "markdown",
      "source": [
        "# sklearn cosine_similarity"
      ]
    },
    {
      "metadata": {
        "slideshow": {
          "slide_type": "-"
        },
        "id": "o8R-35kV3CLb",
        "colab_type": "code",
        "outputId": "c89cc70a-3df6-4b9e-ab43-3686a27dda9b",
        "colab": {
          "base_uri": "https://localhost:8080/",
          "height": 69
        }
      },
      "cell_type": "code",
      "source": [
        "# 간편하게 cosine_similarity 매트릭스 구하기\n",
        "\n",
        "from sklearn.metrics.pairwise import cosine_similarity\n",
        "\n",
        "similarity = cosine_similarity([doc1, doc2, doc3])\n",
        "similarity.round(4)"
      ],
      "execution_count": 4,
      "outputs": [
        {
          "output_type": "execute_result",
          "data": {
            "text/plain": [
              "array([[1.    , 0.6667, 0.4082],\n",
              "       [0.6667, 1.    , 0.4082],\n",
              "       [0.4082, 0.4082, 1.    ]])"
            ]
          },
          "metadata": {
            "tags": []
          },
          "execution_count": 4
        }
      ]
    },
    {
      "metadata": {
        "slideshow": {
          "slide_type": "slide"
        },
        "id": "Q8YGROML3CLe",
        "colab_type": "text"
      },
      "cell_type": "markdown",
      "source": [
        "#  LSI (Latent Semantic Indexing), 잠재 의미 색인\n",
        "\n",
        "### 배경\n",
        "* 대상을 표현하는 방법은 다양하다 (동의어)\n",
        "* 대부분의 단어는 여러 가지 의미를 가진다 (다중의미)\n",
        "\n",
        "### LSI 핵심\n",
        "* 1) Co-occurrence ▶SVD (특이값 분해)\n",
        "* 2) Dimensionality Reduction ▶작은 특이값 제거"
      ]
    },
    {
      "metadata": {
        "slideshow": {
          "slide_type": "slide"
        },
        "id": "6TC4Pk-43CLg",
        "colab_type": "text"
      },
      "cell_type": "markdown",
      "source": [
        "임의의 m×n의 행렬 M은 다음과 같이 분해될 수 있다\n",
        "\n",
        "\n",
        "$$ \\mathbf{M} = \\mathbf{U} \\boldsymbol{\\Sigma} \\mathbf{V}^* $$\n",
        "\n",
        "<img src=\"https://i.imgur.com/uE5YqQd.gif\" >\n",
        "\n",
        "$\\boldsymbol{\\Sigma} $는 아래와 같이 구성되는데, diagonal entry들을 singular value(특이값)라고 한다. \n",
        "\n",
        "<img src=\"https://i.imgur.com/kENXTA1.gif\" >\n",
        "\n",
        "\n"
      ]
    },
    {
      "metadata": {
        "slideshow": {
          "slide_type": "slide"
        },
        "id": "9LMEDleY3CLh",
        "colab_type": "code",
        "outputId": "d58f9cc4-6483-441a-d1bc-3dc64702836d",
        "colab": {
          "base_uri": "https://localhost:8080/",
          "height": 104
        }
      },
      "cell_type": "code",
      "source": [
        "doc1 = np.array([1, 0, 0, 1, 1])\n",
        "doc2 = np.array([0, 1, 0, 1, 1])\n",
        "doc3 = np.array([0, 0, 1, 0, 1])\n",
        "\n",
        "m = np.array(np.transpose([doc1, doc2, doc3]), dtype=np.float)\n",
        "m"
      ],
      "execution_count": 5,
      "outputs": [
        {
          "output_type": "execute_result",
          "data": {
            "text/plain": [
              "array([[1., 0., 0.],\n",
              "       [0., 1., 0.],\n",
              "       [0., 0., 1.],\n",
              "       [1., 1., 0.],\n",
              "       [1., 1., 1.]])"
            ]
          },
          "metadata": {
            "tags": []
          },
          "execution_count": 5
        }
      ]
    },
    {
      "metadata": {
        "slideshow": {
          "slide_type": "slide"
        },
        "id": "mTiE2af83CLl",
        "colab_type": "text"
      },
      "cell_type": "markdown",
      "source": [
        "# Numpy svd()\n",
        "Numpy의 linalg.svd()를 사용하면 간편하게 구할 수 있다\n",
        "\n",
        "https://docs.scipy.org/doc/numpy/reference/routines.linalg.html"
      ]
    },
    {
      "metadata": {
        "slideshow": {
          "slide_type": "-"
        },
        "id": "8sHP9jWO3CLm",
        "colab_type": "code",
        "colab": {}
      },
      "cell_type": "code",
      "source": [
        "U, s, V = np.linalg.svd(m, full_matrices=True)"
      ],
      "execution_count": 0,
      "outputs": []
    },
    {
      "metadata": {
        "slideshow": {
          "slide_type": "-"
        },
        "id": "mJuUI48w3CLq",
        "colab_type": "code",
        "outputId": "a9155575-4f80-4c3f-a412-9e38fc3bc1cc",
        "colab": {
          "base_uri": "https://localhost:8080/",
          "height": 35
        }
      },
      "cell_type": "code",
      "source": [
        "U.shape, s.shape, V.shape, "
      ],
      "execution_count": 7,
      "outputs": [
        {
          "output_type": "execute_result",
          "data": {
            "text/plain": [
              "((5, 5), (3,), (3, 3))"
            ]
          },
          "metadata": {
            "tags": []
          },
          "execution_count": 7
        }
      ]
    },
    {
      "metadata": {
        "slideshow": {
          "slide_type": "-"
        },
        "id": "ANutBvTu3CLu",
        "colab_type": "code",
        "outputId": "fd008692-fcfb-4dbd-b56f-a9f047027081",
        "colab": {
          "base_uri": "https://localhost:8080/",
          "height": 225
        }
      },
      "cell_type": "code",
      "source": [
        "# U, s, V 값 확인\n",
        "print('U', '-' * 80)\n",
        "print(U.round(2))\n",
        "\n",
        "print('s', '-' * 80)\n",
        "print(s.round(2)) # 특이값\n",
        "\n",
        "print('V', '-' * 80)\n",
        "print(V.round(2))"
      ],
      "execution_count": 8,
      "outputs": [
        {
          "output_type": "stream",
          "text": [
            "U --------------------------------------------------------------------------------\n",
            "[[-0.28  0.22  0.71 -0.47 -0.4 ]\n",
            " [-0.28  0.22 -0.71 -0.47 -0.4 ]\n",
            " [-0.16 -0.77 -0.    0.22 -0.57]\n",
            " [-0.56  0.44  0.    0.69 -0.18]\n",
            " [-0.71 -0.34 -0.   -0.22  0.57]]\n",
            "s --------------------------------------------------------------------------------\n",
            "[2.36 1.2  1.  ]\n",
            "V --------------------------------------------------------------------------------\n",
            "[[-0.66 -0.66 -0.37]\n",
            " [ 0.26  0.26 -0.93]\n",
            " [ 0.71 -0.71 -0.  ]]\n"
          ],
          "name": "stdout"
        }
      ]
    },
    {
      "metadata": {
        "slideshow": {
          "slide_type": "slide"
        },
        "id": "choYf0ur3CLx",
        "colab_type": "code",
        "colab": {}
      },
      "cell_type": "code",
      "source": [
        "# Reconstruction based on full SVD\n",
        "S = np.zeros((5, 3))"
      ],
      "execution_count": 0,
      "outputs": []
    },
    {
      "metadata": {
        "slideshow": {
          "slide_type": "-"
        },
        "id": "meVYxAqb3CL3",
        "colab_type": "code",
        "outputId": "9f4e66b5-9e1d-4298-acb3-dafb42398230",
        "colab": {
          "base_uri": "https://localhost:8080/",
          "height": 104
        }
      },
      "cell_type": "code",
      "source": [
        "S[:3, :3] = np.diag(s)\n",
        "S"
      ],
      "execution_count": 10,
      "outputs": [
        {
          "output_type": "execute_result",
          "data": {
            "text/plain": [
              "array([[2.35829447, 0.        , 0.        ],\n",
              "       [0.        , 1.19935282, 0.        ],\n",
              "       [0.        , 0.        , 1.        ],\n",
              "       [0.        , 0.        , 0.        ],\n",
              "       [0.        , 0.        , 0.        ]])"
            ]
          },
          "metadata": {
            "tags": []
          },
          "execution_count": 10
        }
      ]
    },
    {
      "metadata": {
        "slideshow": {
          "slide_type": "-"
        },
        "id": "qR2xJ4Gc3CL6",
        "colab_type": "code",
        "outputId": "0c065302-2d6e-49fd-b09d-bc46795dfe21",
        "colab": {
          "base_uri": "https://localhost:8080/",
          "height": 35
        }
      },
      "cell_type": "code",
      "source": [
        "# M=UΣV 인지 확인\n",
        "np.allclose(m, np.dot(np.dot(U,S), V).round(2))"
      ],
      "execution_count": 11,
      "outputs": [
        {
          "output_type": "execute_result",
          "data": {
            "text/plain": [
              "True"
            ]
          },
          "metadata": {
            "tags": []
          },
          "execution_count": 11
        }
      ]
    },
    {
      "metadata": {
        "slideshow": {
          "slide_type": "slide"
        },
        "id": "xmr8997n3CL-",
        "colab_type": "text"
      },
      "cell_type": "markdown",
      "source": [
        "# 유사도 계산\n",
        "1. 단어와 단어 사이 유사도: U x S 행렬의 행(row) 간의 유사도로 계산\n",
        "2. 문서와 문서 사이 유사도: S x V 행렬의 컬럼(column) 간의 유사도로 계산\n",
        "3. 단어와 문서 사이 유사도: U x S x V 행렬 자체"
      ]
    },
    {
      "metadata": {
        "slideshow": {
          "slide_type": "-"
        },
        "id": "n3e5G1xT3CL_",
        "colab_type": "code",
        "outputId": "bcfac579-2693-4fb6-efa9-d08bfac74057",
        "colab": {
          "base_uri": "https://localhost:8080/",
          "height": 104
        }
      },
      "cell_type": "code",
      "source": [
        "# 단어와 단어 사이 유사도:  U x S 행렬의 행(row) 간의 유사도로 계산\n",
        "w = np.dot(U, S)\n",
        "\n",
        "similarity = cosine_similarity(w)\n",
        "similarity.round(4)"
      ],
      "execution_count": 12,
      "outputs": [
        {
          "output_type": "execute_result",
          "data": {
            "text/plain": [
              "array([[ 1.    , -0.    ,  0.    ,  0.7071,  0.5774],\n",
              "       [-0.    ,  1.    ,  0.    ,  0.7071,  0.5774],\n",
              "       [ 0.    ,  0.    ,  1.    ,  0.    ,  0.5774],\n",
              "       [ 0.7071,  0.7071,  0.    ,  1.    ,  0.8165],\n",
              "       [ 0.5774,  0.5774,  0.5774,  0.8165,  1.    ]])"
            ]
          },
          "metadata": {
            "tags": []
          },
          "execution_count": 12
        }
      ]
    },
    {
      "metadata": {
        "slideshow": {
          "slide_type": "-"
        },
        "id": "4JPLewDK3CMD",
        "colab_type": "code",
        "outputId": "bfabc7c3-08fb-4f8f-d6ce-edde9e6bae6d",
        "colab": {
          "base_uri": "https://localhost:8080/",
          "height": 69
        }
      },
      "cell_type": "code",
      "source": [
        "# 문서와 문서 사이 유사도:  S x V 행렬의 컬럼(column) 간의 유사도로 계산\n",
        "d = np.dot(S, V)\n",
        "\n",
        "similarity = cosine_similarity([d.T[0], d.T[1], d.T[2]])\n",
        "similarity.round(4)"
      ],
      "execution_count": 13,
      "outputs": [
        {
          "output_type": "execute_result",
          "data": {
            "text/plain": [
              "array([[1.    , 0.6667, 0.4082],\n",
              "       [0.6667, 1.    , 0.4082],\n",
              "       [0.4082, 0.4082, 1.    ]])"
            ]
          },
          "metadata": {
            "tags": []
          },
          "execution_count": 13
        }
      ]
    },
    {
      "metadata": {
        "slideshow": {
          "slide_type": "-"
        },
        "id": "YUHWj9e73CMJ",
        "colab_type": "code",
        "outputId": "9166d57e-d54b-480d-c0ce-4e92113cbb32",
        "colab": {
          "base_uri": "https://localhost:8080/",
          "height": 104
        }
      },
      "cell_type": "code",
      "source": [
        "# 단어와 문서 사이 유사도: U x S x V 행렬 자체\n",
        "\n",
        "np.dot(U, np.dot(S,V)).round(2)"
      ],
      "execution_count": 14,
      "outputs": [
        {
          "output_type": "execute_result",
          "data": {
            "text/plain": [
              "array([[ 1., -0.,  0.],\n",
              "       [ 0.,  1.,  0.],\n",
              "       [ 0.,  0.,  1.],\n",
              "       [ 1.,  1.,  0.],\n",
              "       [ 1.,  1.,  1.]])"
            ]
          },
          "metadata": {
            "tags": []
          },
          "execution_count": 14
        }
      ]
    },
    {
      "metadata": {
        "slideshow": {
          "slide_type": "slide"
        },
        "id": "9vs1tgQ-3CMS",
        "colab_type": "text"
      },
      "cell_type": "markdown",
      "source": [
        "# 차원축소\n",
        "\n",
        "특이값 중 마지막(작은값)을 0으로 만들고, USV를 벡터를 구한다. 이 때 문서간의 유사도를 관찰"
      ]
    },
    {
      "metadata": {
        "slideshow": {
          "slide_type": "-"
        },
        "id": "ZIKbatqc3CMT",
        "colab_type": "code",
        "outputId": "bb86aa52-ff70-4c57-ffb1-78e8dfef636e",
        "colab": {
          "base_uri": "https://localhost:8080/",
          "height": 104
        }
      },
      "cell_type": "code",
      "source": [
        "S"
      ],
      "execution_count": 15,
      "outputs": [
        {
          "output_type": "execute_result",
          "data": {
            "text/plain": [
              "array([[2.35829447, 0.        , 0.        ],\n",
              "       [0.        , 1.19935282, 0.        ],\n",
              "       [0.        , 0.        , 1.        ],\n",
              "       [0.        , 0.        , 0.        ],\n",
              "       [0.        , 0.        , 0.        ]])"
            ]
          },
          "metadata": {
            "tags": []
          },
          "execution_count": 15
        }
      ]
    },
    {
      "metadata": {
        "slideshow": {
          "slide_type": "-"
        },
        "id": "759LUsjF3CMW",
        "colab_type": "code",
        "outputId": "4216a2cd-1381-4129-a10a-0d0bc74daf56",
        "colab": {
          "base_uri": "https://localhost:8080/",
          "height": 121
        }
      },
      "cell_type": "code",
      "source": [
        "# 작은 값을 0으로 만든다\n",
        "print(S[2, 2])\n",
        "\n",
        "S[2, 2] = 0\n",
        "S"
      ],
      "execution_count": 16,
      "outputs": [
        {
          "output_type": "stream",
          "text": [
            "1.0\n"
          ],
          "name": "stdout"
        },
        {
          "output_type": "execute_result",
          "data": {
            "text/plain": [
              "array([[2.35829447, 0.        , 0.        ],\n",
              "       [0.        , 1.19935282, 0.        ],\n",
              "       [0.        , 0.        , 0.        ],\n",
              "       [0.        , 0.        , 0.        ],\n",
              "       [0.        , 0.        , 0.        ]])"
            ]
          },
          "metadata": {
            "tags": []
          },
          "execution_count": 16
        }
      ]
    },
    {
      "metadata": {
        "slideshow": {
          "slide_type": "-"
        },
        "id": "vODblKQo3CMZ",
        "colab_type": "code",
        "outputId": "1d1c5a82-898c-4636-8c99-64d10b4818cf",
        "colab": {
          "base_uri": "https://localhost:8080/",
          "height": 104
        }
      },
      "cell_type": "code",
      "source": [
        "np.dot(U, np.dot(S, V)).round(2)"
      ],
      "execution_count": 17,
      "outputs": [
        {
          "output_type": "execute_result",
          "data": {
            "text/plain": [
              "array([[ 0.5,  0.5,  0. ],\n",
              "       [ 0.5,  0.5, -0. ],\n",
              "       [ 0. , -0. ,  1. ],\n",
              "       [ 1. ,  1. ,  0. ],\n",
              "       [ 1. ,  1. ,  1. ]])"
            ]
          },
          "metadata": {
            "tags": []
          },
          "execution_count": 17
        }
      ]
    },
    {
      "metadata": {
        "slideshow": {
          "slide_type": "-"
        },
        "id": "UCh40WUq3CMc",
        "colab_type": "text"
      },
      "cell_type": "markdown",
      "source": [
        "doc1과 doc2의 term1, term2가 다른 단어지만 유사어 였다는 것을 알 수 있다 (잠재적인 의미 파악)"
      ]
    },
    {
      "metadata": {
        "slideshow": {
          "slide_type": "slide"
        },
        "id": "td5sLrKA3CMc",
        "colab_type": "text"
      },
      "cell_type": "markdown",
      "source": [
        "# 요약\n",
        "* Tokening, Chunking\n",
        "* TF-IDF (단어 빈도와 역문서 빈도)\n",
        "* 코사인 유사도 (cosine similarity)\n",
        "* LSI (Latent Semantic Indexing, 잠재 의미 색인)\n",
        " * 1) Co-occurrence ▶SVD (특이값 분해)\n",
        " * 2) Dimensionality Reduction ▶작은 특이값 제거\n",
        "* 단어를 벡터(숫자)로"
      ]
    },
    {
      "metadata": {
        "slideshow": {
          "slide_type": "notes"
        },
        "id": "cH7BxNpZ3CMd",
        "colab_type": "text"
      },
      "cell_type": "markdown",
      "source": [
        "### 2017-2019 [FinanceData.KR]()"
      ]
    }
  ]
}