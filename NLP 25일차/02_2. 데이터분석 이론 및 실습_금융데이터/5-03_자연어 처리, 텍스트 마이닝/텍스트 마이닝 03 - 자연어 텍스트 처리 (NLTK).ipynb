{
  "nbformat": 4,
  "nbformat_minor": 0,
  "metadata": {
    "colab": {
      "name": "텍스트 마이닝 03 - 자연어 텍스트 처리 (NLTK).ipynb",
      "version": "0.3.2",
      "provenance": [],
      "collapsed_sections": [
        "1w9QEcD3dK6y"
      ]
    },
    "language_info": {
      "codemirror_mode": {
        "name": "ipython",
        "version": 3
      },
      "file_extension": ".py",
      "mimetype": "text/x-python",
      "name": "python",
      "nbconvert_exporter": "python",
      "pygments_lexer": "ipython3",
      "version": "3.5.2"
    },
    "kernelspec": {
      "display_name": "Python 3",
      "language": "python",
      "name": "python3"
    }
  },
  "cells": [
    {
      "metadata": {
        "slideshow": {
          "slide_type": "slide"
        },
        "id": "s1-JSZDAdK4x",
        "colab_type": "text"
      },
      "cell_type": "markdown",
      "source": [
        "# 텍스트 마이닝 03 - 자연어 텍스트 처리 (NLTK) \n",
        "\n",
        "<img width=\"40%\" src=\"https://i.imgur.com/AydcsdT.png\">\n",
        "    \n",
        "### 2017-2019 [FinanceData.KR]()"
      ]
    },
    {
      "metadata": {
        "slideshow": {
          "slide_type": "skip"
        },
        "id": "Z6CAaHLbdK4y",
        "colab_type": "code",
        "colab": {}
      },
      "cell_type": "code",
      "source": [
        "%matplotlib inline\n",
        "import matplotlib.pyplot as plt\n",
        "\n",
        "plt.rcParams[\"axes.grid\"] = True\n",
        "plt.rcParams[\"figure.figsize\"] = (14,4)"
      ],
      "execution_count": 0,
      "outputs": []
    },
    {
      "metadata": {
        "slideshow": {
          "slide_type": "slide"
        },
        "id": "IfKAVS1QdK40",
        "colab_type": "text"
      },
      "cell_type": "markdown",
      "source": [
        "# NLTK\n",
        "\n",
        "NLTK(Natural Language Toolkit): 자연어 처리 및 문서 분석용 패키지\n",
        "* 말뭉치\n",
        "* 토큰 생성\n",
        "* 형태소 분석\n",
        "* 품사 태깅"
      ]
    },
    {
      "metadata": {
        "slideshow": {
          "slide_type": "slide"
        },
        "id": "tFVd9mJkdK41",
        "colab_type": "text"
      },
      "cell_type": "markdown",
      "source": [
        "## NLTK 코퍼스 (nltk.corpus 모듈)\n",
        "http://www.nltk.org/nltk_data/ (전체목록)\n",
        "\n",
        "주요 코퍼스\n",
        "* gutenberg : 모비딕(Moby Dick), 성서등 구텐베르크 프로젝트 영문 책 텍스트 18개\n",
        "* reuters: 10,788 뉴스 문서, 천3백만 단어, 90개 토픽, \"training\" 과 \"test\"로 나누어져 있다. \n",
        "* brown : 브라운대(1961) 최초 백만단어 코퍼스, 뉴스 학습자료등 카테고리가 나누어져 있다\n",
        "* names : 8,000개의 남성과 여성의 이름\n",
        "* words : 가장 빈번하게 사용하는 영어 단어 23,5000개\n",
        "* stopwords : 14개의 언어의 가장 많이 사용하는 불용어(stop word)\n",
        "* cmudict : 카네기멜론대, 13,4000개 단어와 그 음절(syllables)로 구성. 동음이의어(homophones) 검색."
      ]
    },
    {
      "metadata": {
        "slideshow": {
          "slide_type": "slide"
        },
        "id": "mcyyLaQfdK42",
        "colab_type": "code",
        "outputId": "04e09e5f-830f-4e29-c507-7ae107c3b418",
        "colab": {
          "base_uri": "https://localhost:8080/",
          "height": 276
        }
      },
      "cell_type": "code",
      "source": [
        "import nltk\n",
        "\n",
        "nltk.download(\"gutenberg\")\n",
        "nltk.download(\"reuters\")\n",
        "nltk.download('punkt')\n",
        "nltk.download('stopwords')\n",
        "nltk.download('averaged_perceptron_tagger')\n",
        "nltk.download('wordnet') "
      ],
      "execution_count": 2,
      "outputs": [
        {
          "output_type": "stream",
          "text": [
            "[nltk_data] Downloading package gutenberg to /root/nltk_data...\n",
            "[nltk_data]   Package gutenberg is already up-to-date!\n",
            "[nltk_data] Downloading package reuters to /root/nltk_data...\n",
            "[nltk_data]   Package reuters is already up-to-date!\n",
            "[nltk_data] Downloading package punkt to /root/nltk_data...\n",
            "[nltk_data]   Package punkt is already up-to-date!\n",
            "[nltk_data] Downloading package stopwords to /root/nltk_data...\n",
            "[nltk_data]   Package stopwords is already up-to-date!\n",
            "[nltk_data] Downloading package averaged_perceptron_tagger to\n",
            "[nltk_data]     /root/nltk_data...\n",
            "[nltk_data]   Package averaged_perceptron_tagger is already up-to-\n",
            "[nltk_data]       date!\n",
            "[nltk_data] Downloading package wordnet to /root/nltk_data...\n",
            "[nltk_data]   Package wordnet is already up-to-date!\n"
          ],
          "name": "stdout"
        },
        {
          "output_type": "execute_result",
          "data": {
            "text/plain": [
              "True"
            ]
          },
          "metadata": {
            "tags": []
          },
          "execution_count": 2
        }
      ]
    },
    {
      "metadata": {
        "slideshow": {
          "slide_type": "slide"
        },
        "id": "EKamQgbFdK46",
        "colab_type": "code",
        "outputId": "bb0566e9-e44a-4fcd-c11e-fc23069eda6e",
        "colab": {
          "base_uri": "https://localhost:8080/",
          "height": 55
        }
      },
      "cell_type": "code",
      "source": [
        "import nltk\n",
        "fileids = nltk.corpus.gutenberg.fileids()\n",
        "print(fileids)"
      ],
      "execution_count": 3,
      "outputs": [
        {
          "output_type": "stream",
          "text": [
            "['austen-emma.txt', 'austen-persuasion.txt', 'austen-sense.txt', 'bible-kjv.txt', 'blake-poems.txt', 'bryant-stories.txt', 'burgess-busterbrown.txt', 'carroll-alice.txt', 'chesterton-ball.txt', 'chesterton-brown.txt', 'chesterton-thursday.txt', 'edgeworth-parents.txt', 'melville-moby_dick.txt', 'milton-paradise.txt', 'shakespeare-caesar.txt', 'shakespeare-hamlet.txt', 'shakespeare-macbeth.txt', 'whitman-leaves.txt']\n"
          ],
          "name": "stdout"
        }
      ]
    },
    {
      "metadata": {
        "slideshow": {
          "slide_type": "-"
        },
        "id": "LgIwTC-udK49",
        "colab_type": "text"
      },
      "cell_type": "markdown",
      "source": [
        "* corpus.fileids() # 코퍼스에 포함된 파일아이디 목록\n",
        "* corpus.raw(fileid) # 파일의 원문\n",
        "* corpus.sents(fileid) #파일의 문장 목록\n",
        "* corpus.words(fileid) # 파일의 단어 목록"
      ]
    },
    {
      "metadata": {
        "slideshow": {
          "slide_type": "slide"
        },
        "id": "TqeR14ikdK4-",
        "colab_type": "code",
        "outputId": "d9e74676-d5d6-494e-c70d-05a855bc02b9",
        "colab": {
          "base_uri": "https://localhost:8080/",
          "height": 328
        }
      },
      "cell_type": "code",
      "source": [
        "from nltk.corpus import gutenberg\n",
        "\n",
        "for fileid in gutenberg.fileids():\n",
        "    num_chars = len(gutenberg.raw(fileid)) # 문자수\n",
        "    num_words = len(gutenberg.words(fileid)) # 단어수\n",
        "    num_sents = len(gutenberg.sents(fileid)) # 문장수\n",
        "    num_vocab = len(set(w.lower() for w in gutenberg.words(fileid))) # 어휘수\n",
        "    print(round(num_chars/num_words), round(num_words/num_sents), round(num_words/num_vocab), fileid)"
      ],
      "execution_count": 4,
      "outputs": [
        {
          "output_type": "stream",
          "text": [
            "5 25 26 austen-emma.txt\n",
            "5 26 17 austen-persuasion.txt\n",
            "5 28 22 austen-sense.txt\n",
            "4 34 79 bible-kjv.txt\n",
            "5 19 5 blake-poems.txt\n",
            "4 19 14 bryant-stories.txt\n",
            "4 18 12 burgess-busterbrown.txt\n",
            "4 20 13 carroll-alice.txt\n",
            "5 20 12 chesterton-ball.txt\n",
            "5 23 11 chesterton-brown.txt\n",
            "5 18 11 chesterton-thursday.txt\n",
            "4 21 25 edgeworth-parents.txt\n",
            "5 26 15 melville-moby_dick.txt\n",
            "5 52 11 milton-paradise.txt\n",
            "4 12 9 shakespeare-caesar.txt\n",
            "4 12 8 shakespeare-hamlet.txt\n",
            "4 12 7 shakespeare-macbeth.txt\n",
            "5 36 12 whitman-leaves.txt\n"
          ],
          "name": "stdout"
        }
      ]
    },
    {
      "metadata": {
        "slideshow": {
          "slide_type": "slide"
        },
        "id": "xQuELYv7dK5C",
        "colab_type": "code",
        "outputId": "2d3db90d-6471-4f20-faa9-b4e192f4cc38",
        "colab": {
          "base_uri": "https://localhost:8080/",
          "height": 35
        }
      },
      "cell_type": "code",
      "source": [
        "moby_dick_words = nltk.corpus.gutenberg.words('melville-moby_dick.txt')\n",
        "len(moby_dick_words)"
      ],
      "execution_count": 5,
      "outputs": [
        {
          "output_type": "execute_result",
          "data": {
            "text/plain": [
              "260819"
            ]
          },
          "metadata": {
            "tags": []
          },
          "execution_count": 5
        }
      ]
    },
    {
      "metadata": {
        "collapsed": true,
        "slideshow": {
          "slide_type": "slide"
        },
        "id": "GTndmvwjdK5F",
        "colab_type": "text"
      },
      "cell_type": "markdown",
      "source": [
        "# Read documents"
      ]
    },
    {
      "metadata": {
        "slideshow": {
          "slide_type": "-"
        },
        "id": "KFhrHLZ6dK5G",
        "colab_type": "code",
        "outputId": "7fe45536-a97b-42f3-e517-546edb7f2dee",
        "colab": {
          "base_uri": "https://localhost:8080/",
          "height": 55
        }
      },
      "cell_type": "code",
      "source": [
        "import nltk\n",
        "from nltk.corpus import gutenberg\n",
        "\n",
        "# 1. read document\n",
        "moby_dick_text = gutenberg.open('melville-moby_dick.txt').read()\n",
        "moby_dick_text[:1000]"
      ],
      "execution_count": 6,
      "outputs": [
        {
          "output_type": "execute_result",
          "data": {
            "text/plain": [
              "'[Moby Dick by Herman Melville 1851]\\r\\n\\r\\n\\r\\nETYMOLOGY.\\r\\n\\r\\n(Supplied by a Late Consumptive Usher to a Grammar School)\\r\\n\\r\\nThe pale Usher--threadbare in coat, heart, body, and brain; I see him\\r\\nnow.  He was ever dusting his old lexicons and grammars, with a queer\\r\\nhandkerchief, mockingly embellished with all the gay flags of all the\\r\\nknown nations of the world.  He loved to dust his old grammars; it\\r\\nsomehow mildly reminded him of his mortality.\\r\\n\\r\\n\"While you take in hand to school others, and to teach them by what\\r\\nname a whale-fish is to be called in our tongue leaving out, through\\r\\nignorance, the letter H, which almost alone maketh the signification\\r\\nof the word, you deliver that which is not true.\" --HACKLUYT\\r\\n\\r\\n\"WHALE. ... Sw. and Dan. HVAL.  This animal is named from roundness\\r\\nor rolling; for in Dan. HVALT is arched or vaulted.\" --WEBSTER\\'S\\r\\nDICTIONARY\\r\\n\\r\\n\"WHALE. ... It is more immediately from the Dut. and Ger. WALLEN;\\r\\nA.S. WALW-IAN, to roll, to wallow.\" --RICHARDSON\\'S DICTIONARY\\r\\n\\r'"
            ]
          },
          "metadata": {
            "tags": []
          },
          "execution_count": 6
        }
      ]
    },
    {
      "metadata": {
        "collapsed": true,
        "slideshow": {
          "slide_type": "slide"
        },
        "id": "v3reFeuidK5J",
        "colab_type": "text"
      },
      "cell_type": "markdown",
      "source": [
        "# Toknize\n",
        "\n",
        "텍스트를 처리하기 위한 작은 단위(token)으로 나눈다. NLTK는 다음 토큰 생성을 제공\n",
        "\n",
        "```python\n",
        "from nltk.tokenize import sent_tokenize # 문장으로 나누기\n",
        "from nltk.tokenize import word_tokenize # 단어로 나누기 \n",
        "from nltk.tokenize import regexp_tokenize # 정규식으로 나누기\n",
        "```"
      ]
    },
    {
      "metadata": {
        "slideshow": {
          "slide_type": "subslide"
        },
        "id": "eVCK-GFWdK5K",
        "colab_type": "code",
        "outputId": "a262737c-041c-4331-e9fc-25cf1c474682",
        "colab": {
          "base_uri": "https://localhost:8080/",
          "height": 190
        }
      },
      "cell_type": "code",
      "source": [
        "from nltk.tokenize import sent_tokenize\n",
        "\n",
        "moby_sents = sent_tokenize(moby_dick_text)\n",
        "moby_sents[100:110]"
      ],
      "execution_count": 7,
      "outputs": [
        {
          "output_type": "execute_result",
          "data": {
            "text/plain": [
              "['\"The mighty whales which swim in a sea of water, and have a sea of\\r\\noil swimming in them.\"',\n",
              " \"--FULLLER'S PROFANE AND HOLY STATE.\",\n",
              " '\"So close behind some promontory lie\\r\\nThe huge Leviathan to attend their prey,\\r\\nAnd give no chance, but swallow in the fry,\\r\\nWhich through their gaping jaws mistake the way.\"',\n",
              " \"--DRYDEN'S ANNUS MIRABILIS.\",\n",
              " '\"While the whale is floating at the stern of the ship, they cut off\\r\\nhis head, and tow it with a boat as near the shore as it will come;\\r\\nbut it will be aground in twelve or thirteen feet water.\"',\n",
              " \"--THOMAS\\r\\nEDGE'S TEN VOYAGES TO SPITZBERGEN, IN PURCHAS.\",\n",
              " '\"In their way they saw many whales sporting in the ocean, and in\\r\\nwantonness fuzzing up the water through their pipes and vents, which\\r\\nnature has placed on their shoulders.\"',\n",
              " \"--SIR T. HERBERT'S VOYAGES\\r\\nINTO ASIA AND AFRICA.\",\n",
              " 'HARRIS COLL.',\n",
              " '\"Here they saw such huge troops of whales, that they were forced to\\r\\nproceed with a great deal of caution for fear they should run their\\r\\nship upon them.\"']"
            ]
          },
          "metadata": {
            "tags": []
          },
          "execution_count": 7
        }
      ]
    },
    {
      "metadata": {
        "slideshow": {
          "slide_type": "subslide"
        },
        "id": "vF1c85UWdK5O",
        "colab_type": "code",
        "outputId": "05fab0fb-f6de-4abe-b12f-7d73eba3d3ce",
        "colab": {
          "base_uri": "https://localhost:8080/",
          "height": 35
        }
      },
      "cell_type": "code",
      "source": [
        "from nltk.tokenize import word_tokenize\n",
        "\n",
        "moby_words = word_tokenize(moby_dick_text)\n",
        "moby_words[100:110]"
      ],
      "execution_count": 8,
      "outputs": [
        {
          "output_type": "execute_result",
          "data": {
            "text/plain": [
              "['and', 'to', 'teach', 'them', 'by', 'what', 'name', 'a', 'whale-fish', 'is']"
            ]
          },
          "metadata": {
            "tags": []
          },
          "execution_count": 8
        }
      ]
    },
    {
      "metadata": {
        "slideshow": {
          "slide_type": "-"
        },
        "id": "wYlY2RJWdK5R",
        "colab_type": "code",
        "outputId": "55ce3deb-6ecf-403a-a61c-d153134fe364",
        "colab": {
          "base_uri": "https://localhost:8080/",
          "height": 35
        }
      },
      "cell_type": "code",
      "source": [
        "len(moby_words)"
      ],
      "execution_count": 9,
      "outputs": [
        {
          "output_type": "execute_result",
          "data": {
            "text/plain": [
              "254989"
            ]
          },
          "metadata": {
            "tags": []
          },
          "execution_count": 9
        }
      ]
    },
    {
      "metadata": {
        "slideshow": {
          "slide_type": "subslide"
        },
        "id": "5kvEddujdK5W",
        "colab_type": "code",
        "outputId": "65d8001a-6ece-47ff-e26a-003b7c985bee",
        "colab": {
          "base_uri": "https://localhost:8080/",
          "height": 190
        }
      },
      "cell_type": "code",
      "source": [
        "from nltk import regexp_tokenize\n",
        "\n",
        "moby_retoks = regexp_tokenize(moby_dick_text.lower(), r\"[\\w]+\")\n",
        "moby_retoks[100:110]"
      ],
      "execution_count": 10,
      "outputs": [
        {
          "output_type": "execute_result",
          "data": {
            "text/plain": [
              "['out',\n",
              " 'through',\n",
              " 'ignorance',\n",
              " 'the',\n",
              " 'letter',\n",
              " 'h',\n",
              " 'which',\n",
              " 'almost',\n",
              " 'alone',\n",
              " 'maketh']"
            ]
          },
          "metadata": {
            "tags": []
          },
          "execution_count": 10
        }
      ]
    },
    {
      "metadata": {
        "slideshow": {
          "slide_type": "slide"
        },
        "id": "XkCJzXRpdK5b",
        "colab_type": "text"
      },
      "cell_type": "markdown",
      "source": [
        "# nltk.Text() \n",
        "\n",
        "참고 http://www.nltk.org/api/nltk.html#nltk.text.Text"
      ]
    },
    {
      "metadata": {
        "slideshow": {
          "slide_type": "-"
        },
        "id": "nmx6LwdxdK5c",
        "colab_type": "code",
        "colab": {}
      },
      "cell_type": "code",
      "source": [
        "import nltk\n",
        "moby = nltk.Text(moby_retoks)"
      ],
      "execution_count": 0,
      "outputs": []
    },
    {
      "metadata": {
        "slideshow": {
          "slide_type": "-"
        },
        "id": "6WOKtZaDdK5g",
        "colab_type": "code",
        "outputId": "101b2615-a42c-49a2-e405-61c484699430",
        "colab": {
          "base_uri": "https://localhost:8080/",
          "height": 52
        }
      },
      "cell_type": "code",
      "source": [
        "print(len(moby.tokens)) # 토큰 개수\n",
        "print(len(set(moby.tokens))) # 고유한 토큰 개수"
      ],
      "execution_count": 12,
      "outputs": [
        {
          "output_type": "stream",
          "text": [
            "218621\n",
            "17140\n"
          ],
          "name": "stdout"
        }
      ]
    },
    {
      "metadata": {
        "slideshow": {
          "slide_type": "slide"
        },
        "id": "uefyRFjwdK5k",
        "colab_type": "text"
      },
      "cell_type": "markdown",
      "source": [
        "## 빈도 분포 FreqDist"
      ]
    },
    {
      "metadata": {
        "slideshow": {
          "slide_type": "-"
        },
        "id": "ftNnnKOkdK5l",
        "colab_type": "code",
        "outputId": "83aec709-21b8-4818-d54e-68be0268ff42",
        "colab": {
          "base_uri": "https://localhost:8080/",
          "height": 35
        }
      },
      "cell_type": "code",
      "source": [
        "freq_dist = moby.vocab() # FreqDist (빈도 분포)\n",
        "print(len(freq_dist))"
      ],
      "execution_count": 13,
      "outputs": [
        {
          "output_type": "stream",
          "text": [
            "17140\n"
          ],
          "name": "stdout"
        }
      ]
    },
    {
      "metadata": {
        "slideshow": {
          "slide_type": "-"
        },
        "id": "zV-r-oacdK5o",
        "colab_type": "code",
        "outputId": "1aac212b-24f2-4fe7-82e5-1b25752f6b37",
        "colab": {
          "base_uri": "https://localhost:8080/",
          "height": 55
        }
      },
      "cell_type": "code",
      "source": [
        "print(freq_dist.most_common(50)) # 가장 많이 등장하는 50개"
      ],
      "execution_count": 14,
      "outputs": [
        {
          "output_type": "stream",
          "text": [
            "[('the', 14431), ('of', 6609), ('and', 6430), ('a', 4736), ('to', 4625), ('in', 4172), ('that', 3085), ('his', 2530), ('it', 2522), ('i', 2127), ('he', 1896), ('but', 1818), ('s', 1802), ('as', 1741), ('is', 1725), ('with', 1722), ('was', 1644), ('for', 1617), ('all', 1526), ('this', 1394), ('at', 1319), ('whale', 1226), ('by', 1204), ('not', 1151), ('from', 1088), ('him', 1067), ('so', 1065), ('on', 1062), ('be', 1045), ('one', 921), ('you', 894), ('there', 869), ('now', 785), ('had', 779), ('have', 768), ('or', 713), ('were', 684), ('they', 667), ('which', 648), ('like', 647), ('me', 633), ('then', 630), ('their', 620), ('what', 618), ('some', 618), ('when', 606), ('are', 598), ('an', 596), ('my', 589), ('no', 586)]\n"
          ],
          "name": "stdout"
        }
      ]
    },
    {
      "metadata": {
        "slideshow": {
          "slide_type": "subslide"
        },
        "id": "RABv1R77dK5s",
        "colab_type": "code",
        "outputId": "c0f1c6d4-d54c-41e9-9e03-274acc8740de",
        "colab": {
          "base_uri": "https://localhost:8080/",
          "height": 302
        }
      },
      "cell_type": "code",
      "source": [
        "moby.plot(50)"
      ],
      "execution_count": 15,
      "outputs": [
        {
          "output_type": "display_data",
          "data": {
            "image/png": "[encoded data removed]",
            "text/plain": [
              "<Figure size 1008x288 with 1 Axes>"
            ]
          },
          "metadata": {
            "tags": []
          }
        }
      ]
    },
    {
      "metadata": {
        "slideshow": {
          "slide_type": "subslide"
        },
        "id": "PDgfl_gDdK5v",
        "colab_type": "text"
      },
      "cell_type": "markdown",
      "source": [
        "## count"
      ]
    },
    {
      "metadata": {
        "slideshow": {
          "slide_type": "-"
        },
        "id": "CxAd6AZ3dK5w",
        "colab_type": "code",
        "outputId": "8e43922d-f582-4996-c7d9-82fb6d8887e9",
        "colab": {
          "base_uri": "https://localhost:8080/",
          "height": 35
        }
      },
      "cell_type": "code",
      "source": [
        "moby.count('captain')"
      ],
      "execution_count": 16,
      "outputs": [
        {
          "output_type": "execute_result",
          "data": {
            "text/plain": [
              "329"
            ]
          },
          "metadata": {
            "tags": []
          },
          "execution_count": 16
        }
      ]
    },
    {
      "metadata": {
        "slideshow": {
          "slide_type": "subslide"
        },
        "id": "UKIYBhEqdK5z",
        "colab_type": "text"
      },
      "cell_type": "markdown",
      "source": [
        "## Dispersion plot\n",
        "단어가 등장하는 위치를 Word Offset에 따라 배치하여 시각화\n",
        "\n",
        "모비딕의 주요 등장인물들: 'ahab', 'starbuck', 'queequeg', 'ishmael', 'stubb', 'flask', 'fedallah'"
      ]
    },
    {
      "metadata": {
        "slideshow": {
          "slide_type": "-"
        },
        "id": "X-1aDsGwdK50",
        "colab_type": "code",
        "outputId": "d8904787-4a0f-4957-9117-de8ea2fa1804",
        "colab": {
          "base_uri": "https://localhost:8080/",
          "height": 295
        }
      },
      "cell_type": "code",
      "source": [
        "moby.dispersion_plot(['ahab', 'starbuck', 'queequeg', 'ishmael', 'stubb', 'flask', 'fedallah'])"
      ],
      "execution_count": 17,
      "outputs": [
        {
          "output_type": "display_data",
          "data": {
            "image/png": "[encoded data removed]",
            "text/plain": [
              "<Figure size 1008x288 with 1 Axes>"
            ]
          },
          "metadata": {
            "tags": []
          }
        }
      ]
    },
    {
      "metadata": {
        "slideshow": {
          "slide_type": "slide"
        },
        "id": "ToHXFhtudK53",
        "colab_type": "text"
      },
      "cell_type": "markdown",
      "source": [
        "# Concordance\n",
        "\n",
        "Concordance (색인): 단어가 쓰인 문맥을 모두 찾아준다"
      ]
    },
    {
      "metadata": {
        "slideshow": {
          "slide_type": "-"
        },
        "id": "Mrt40WmWdK54",
        "colab_type": "code",
        "outputId": "b28cc306-cd8e-4677-fb86-1024ec87248f",
        "colab": {
          "base_uri": "https://localhost:8080/",
          "height": 207
        }
      },
      "cell_type": "code",
      "source": [
        "moby.concordance('ahab', lines=10)"
      ],
      "execution_count": 18,
      "outputs": [
        {
          "output_type": "stream",
          "text": [
            "Displaying 10 of 511 matches:\n",
            "is eh have ye clapped eye on captain ahab who is captain ahab sir aye aye i th\n",
            "d eye on captain ahab who is captain ahab sir aye aye i thought so captain aha\n",
            "hab sir aye aye i thought so captain ahab is the captain of this ship i am mis\n",
            "past backing out clap eye on captain ahab young man and thou wilt find that he\n",
            "aptain peleg inquiring where captain ahab was to be found and what dost thou w\n",
            "d and what dost thou want of captain ahab it s all right enough thou art shipp\n",
            "e will thee he s a queer man captain ahab so some think but a good one oh thou\n",
            "a grand ungodly god like man captain ahab doesn t speak much but when he does \n",
            "ay well listen mark ye be forewarned ahab s above the common ahab s been in co\n",
            "e forewarned ahab s above the common ahab s been in colleges as well as mong t\n"
          ],
          "name": "stdout"
        }
      ]
    },
    {
      "metadata": {
        "slideshow": {
          "slide_type": "slide"
        },
        "id": "5ptXy4gtdK57",
        "colab_type": "text"
      },
      "cell_type": "markdown",
      "source": [
        "# Similar word\n",
        "\n",
        "주어진 단어와 비슷한 환경(same context)에서 쓰인(≠비슷한 뜻) 단어들"
      ]
    },
    {
      "metadata": {
        "slideshow": {
          "slide_type": "-"
        },
        "id": "jgUPC71XdK58",
        "colab_type": "code",
        "outputId": "746369b5-24c9-4d75-be0f-a0abf8e74409",
        "colab": {
          "base_uri": "https://localhost:8080/",
          "height": 52
        }
      },
      "cell_type": "code",
      "source": [
        "moby.similar('whale')"
      ],
      "execution_count": 19,
      "outputs": [
        {
          "output_type": "stream",
          "text": [
            "ship boat sea time captain world man deck pequod other whales air\n",
            "water head crew line thing side way body\n"
          ],
          "name": "stdout"
        }
      ]
    },
    {
      "metadata": {
        "slideshow": {
          "slide_type": "-"
        },
        "id": "GDRw9EZadK5-",
        "colab_type": "code",
        "outputId": "fb501d30-d304-4606-e775-93badb4e007d",
        "colab": {
          "base_uri": "https://localhost:8080/",
          "height": 52
        }
      },
      "cell_type": "code",
      "source": [
        "moby.similar('ship')"
      ],
      "execution_count": 20,
      "outputs": [
        {
          "output_type": "stream",
          "text": [
            "whale boat sea world captain way head time other man crew pequod line\n",
            "deck body fishery air side water voyage\n"
          ],
          "name": "stdout"
        }
      ]
    },
    {
      "metadata": {
        "slideshow": {
          "slide_type": "-"
        },
        "id": "r4mRCawDdK6C",
        "colab_type": "code",
        "outputId": "9c429d74-22d5-4d35-ebb0-43412177d3bb",
        "colab": {
          "base_uri": "https://localhost:8080/",
          "height": 52
        }
      },
      "cell_type": "code",
      "source": [
        "moby.similar('god')"
      ],
      "execution_count": 21,
      "outputs": [
        {
          "output_type": "stream",
          "text": [
            "it him that men queequeg them ahab he life man nature time what head\n",
            "sight heart body i all this\n"
          ],
          "name": "stdout"
        }
      ]
    },
    {
      "metadata": {
        "slideshow": {
          "slide_type": "slide"
        },
        "id": "k7zJkB3GdK6E",
        "colab_type": "text"
      },
      "cell_type": "markdown",
      "source": [
        "# common_contexts\n",
        "\n",
        "for two words used in similar contexts"
      ]
    },
    {
      "metadata": {
        "slideshow": {
          "slide_type": "-"
        },
        "id": "B2qtfP4EdK6F",
        "colab_type": "code",
        "outputId": "34b885b1-6689-43d8-9bf8-9cf54680ef18",
        "colab": {
          "base_uri": "https://localhost:8080/",
          "height": 35
        }
      },
      "cell_type": "code",
      "source": [
        "moby.common_contexts(['monstrous', 'true'])"
      ],
      "execution_count": 22,
      "outputs": [
        {
          "output_type": "stream",
          "text": [
            "the_pictures\n"
          ],
          "name": "stdout"
        }
      ]
    },
    {
      "metadata": {
        "slideshow": {
          "slide_type": "slide"
        },
        "id": "L_b0NdwDdK6I",
        "colab_type": "text"
      },
      "cell_type": "markdown",
      "source": [
        "# Collocations\n",
        "연어(連語, collocation): 함께 위치하는 단어들 (co + location), 어휘의 조합 또는 짝을 이루는 단어"
      ]
    },
    {
      "metadata": {
        "slideshow": {
          "slide_type": "-"
        },
        "id": "rh9YTkpLdK6J",
        "colab_type": "code",
        "outputId": "ec2a61a2-a370-470c-dc61-7b5e65c1fda4",
        "colab": {
          "base_uri": "https://localhost:8080/",
          "height": 86
        }
      },
      "cell_type": "code",
      "source": [
        "moby.collocations()"
      ],
      "execution_count": 23,
      "outputs": [
        {
          "output_type": "stream",
          "text": [
            "sperm whale; moby dick; white whale; old man; mast head; mast heads;\n",
            "captain ahab; right whale; quarter deck; captain peleg; aye aye; new\n",
            "bedford; try works; mrs hussey; dough boy; chief mate; cape horn;\n",
            "cried ahab; years ago; thou art\n"
          ],
          "name": "stdout"
        }
      ]
    },
    {
      "metadata": {
        "slideshow": {
          "slide_type": "slide"
        },
        "id": "EmVW9fhAdK6M",
        "colab_type": "text"
      },
      "cell_type": "markdown",
      "source": [
        "# PoS Tagging \n",
        "NLTK 에서는 Penn Treebank Tagset 을 이용\n",
        "\n",
        "https://www.ling.upenn.edu/courses/Fall_2003/ling001/penn_treebank_pos.html\n",
        "\n",
        "예를 들어, \n",
        "* NN: 일반명사 단수\n",
        "* NNS: 일반명사 복수\n",
        "* NNP: 대명사 단수\n",
        "* NNPS: 대명사 복수"
      ]
    },
    {
      "metadata": {
        "slideshow": {
          "slide_type": "subslide"
        },
        "id": "PFyHr53BdK6N",
        "colab_type": "code",
        "outputId": "a62452df-63b2-4a31-f6e3-ae7ee6097f1e",
        "colab": {
          "base_uri": "https://localhost:8080/",
          "height": 121
        }
      },
      "cell_type": "code",
      "source": [
        "# 간단한 예제\n",
        "\n",
        "nltk.pos_tag(['The', 'earth', 'is', 'a', 'beautiful', 'planet'])"
      ],
      "execution_count": 24,
      "outputs": [
        {
          "output_type": "execute_result",
          "data": {
            "text/plain": [
              "[('The', 'DT'),\n",
              " ('earth', 'NN'),\n",
              " ('is', 'VBZ'),\n",
              " ('a', 'DT'),\n",
              " ('beautiful', 'JJ'),\n",
              " ('planet', 'NN')]"
            ]
          },
          "metadata": {
            "tags": []
          },
          "execution_count": 24
        }
      ]
    },
    {
      "metadata": {
        "slideshow": {
          "slide_type": "-"
        },
        "id": "kfRyabqBdK6R",
        "colab_type": "text"
      },
      "cell_type": "markdown",
      "source": [
        "* DT: 한정사\n",
        "* NN: 명사, 단수형\n",
        "* VBZ: 동사, 현재형 시제, 3인칭 단수\n",
        "* JJ: 형용사"
      ]
    },
    {
      "metadata": {
        "slideshow": {
          "slide_type": "subslide"
        },
        "id": "MCJO-gTpdK6S",
        "colab_type": "code",
        "outputId": "4d984e4a-e616-4735-f241-c8a9febefaf4",
        "colab": {
          "base_uri": "https://localhost:8080/",
          "height": 363
        }
      },
      "cell_type": "code",
      "source": [
        "# 허먼 멜빌, \"모비딕\" 첫 단락\n",
        "# 나를 이스마엘로 불러라. 몇 년 전, 정확히 얼마나 오래 동안 그랬는지는 모르겠지만, \n",
        "# 내 지갑에 돈 한 푼 없는 빈털터리 신세에 육상에선 특별히 흥미를 끄는 어떤 것도 없던 그런 시절, \n",
        "# 나는 잠시 동안이나마 배를 타고 세계의 바다를 보고 싶다는 생각을 했다. \n",
        "# 그것이 우울하고 의기소침한 감정, 그 반복되는 악순환의 고리를 끊어버리는 한 방법이었다.\n",
        "\n",
        "moby_dick_first_para_text = '''\n",
        "Call me Ishmael.  Some years ago -- never mind how long\n",
        "precisely--having little or no money in my purse, and nothing\n",
        "particular to interest me on shore, I thought I would sail about a\n",
        "little and see the watery part of the world. \n",
        "It is a way I have of driving off the spleen, and regulating the circulation. \n",
        "'''\n",
        "\n",
        "import nltk\n",
        "from nltk.tokenize import word_tokenize\n",
        "\n",
        "moby_words = word_tokenize(moby_dick_first_para_text)\n",
        "tasg = nltk.pos_tag(moby_words)\n",
        "tasg[:20]"
      ],
      "execution_count": 25,
      "outputs": [
        {
          "output_type": "execute_result",
          "data": {
            "text/plain": [
              "[('Call', 'VB'),\n",
              " ('me', 'PRP'),\n",
              " ('Ishmael', 'NNP'),\n",
              " ('.', '.'),\n",
              " ('Some', 'DT'),\n",
              " ('years', 'NNS'),\n",
              " ('ago', 'RB'),\n",
              " ('--', ':'),\n",
              " ('never', 'RB'),\n",
              " ('mind', 'VB'),\n",
              " ('how', 'WRB'),\n",
              " ('long', 'JJ'),\n",
              " ('precisely', 'RB'),\n",
              " ('--', ':'),\n",
              " ('having', 'VBG'),\n",
              " ('little', 'JJ'),\n",
              " ('or', 'CC'),\n",
              " ('no', 'DT'),\n",
              " ('money', 'NN'),\n",
              " ('in', 'IN')]"
            ]
          },
          "metadata": {
            "tags": []
          },
          "execution_count": 25
        }
      ]
    },
    {
      "metadata": {
        "slideshow": {
          "slide_type": "slide"
        },
        "id": "W8tUa9FvdK6U",
        "colab_type": "text"
      },
      "cell_type": "markdown",
      "source": [
        "# Noun phrase chunking\n",
        "\n",
        "\n",
        "```python\n",
        "# Colab 에서는 출력되지 않습니다.\n",
        "\n",
        "text = 'The earth is a beautiful planet.'\n",
        "\n",
        "tokens = text.split()\n",
        "tags = nltk.pos_tag(tokens)\n",
        "parser = nltk.RegexpParser(\"NP: {<DT>?<JJ>?<NN.*>*}\")\n",
        "tree = parser.parse(tags)\n",
        "tree\n",
        "```\n",
        "\n",
        "<img src=\"https://i.imgur.com/zhwGPri.png\">\n"
      ]
    },
    {
      "metadata": {
        "collapsed": true,
        "slideshow": {
          "slide_type": "slide"
        },
        "id": "pPYlJWVmdK6f",
        "colab_type": "text"
      },
      "cell_type": "markdown",
      "source": [
        "# Stemming, lemmatization \n",
        "Stemming (어간 추출), Stemming (원형 추출)\n",
        "\n",
        "NLTK 지원\n",
        "* Stemmer: Porter(보수적), Lancaster(적극적)\n",
        "* Lemmatizer: WordNetLemmatizer (WordNet 이 계산한 형태소를 참조, 인터넷 연결 필요)\n",
        "\n",
        "Stemmer vs Lemmatizer\n",
        "* stemming은 단어만 본다 (결과 stem이 사전에 없을 수도 있다)\n",
        "* Lemmatizer는 더 느리고 더 보수적"
      ]
    },
    {
      "metadata": {
        "slideshow": {
          "slide_type": "-"
        },
        "id": "uZmw8qxodK6g",
        "colab_type": "code",
        "outputId": "b7ddc56b-c951-4254-f4aa-71736f060664",
        "colab": {
          "base_uri": "https://localhost:8080/",
          "height": 35
        }
      },
      "cell_type": "code",
      "source": [
        "p_stmr = nltk.PorterStemmer()\n",
        "p_stmr.stem(\"wonderful\"), p_stmr.stem(\"flying\"), p_stmr.stem(\"flies\")"
      ],
      "execution_count": 27,
      "outputs": [
        {
          "output_type": "execute_result",
          "data": {
            "text/plain": [
              "('wonder', 'fli', 'fli')"
            ]
          },
          "metadata": {
            "tags": []
          },
          "execution_count": 27
        }
      ]
    },
    {
      "metadata": {
        "slideshow": {
          "slide_type": "-"
        },
        "id": "sVZsa_dsdK6k",
        "colab_type": "code",
        "outputId": "0f2f64e6-4020-4c66-fcb3-372a85239507",
        "colab": {
          "base_uri": "https://localhost:8080/",
          "height": 35
        }
      },
      "cell_type": "code",
      "source": [
        "l_stmr = nltk.LancasterStemmer()\n",
        "l_stmr.stem(\"wonderful\"), l_stmr.stem(\"flying\"), l_stmr.stem(\"flies\")"
      ],
      "execution_count": 28,
      "outputs": [
        {
          "output_type": "execute_result",
          "data": {
            "text/plain": [
              "('wond', 'fly', 'fli')"
            ]
          },
          "metadata": {
            "tags": []
          },
          "execution_count": 28
        }
      ]
    },
    {
      "metadata": {
        "slideshow": {
          "slide_type": "subslide"
        },
        "id": "D4B_T7wqdK6r",
        "colab_type": "code",
        "outputId": "cf098a87-67e1-4dcc-e79f-c89f4715d472",
        "colab": {
          "base_uri": "https://localhost:8080/",
          "height": 35
        }
      },
      "cell_type": "code",
      "source": [
        "lmtz = nltk.WordNetLemmatizer()\n",
        "lmtz.lemmatize(\"wonderful\"), lmtz.lemmatize(\"flying\"), lmtz.lemmatize(\"flies\")"
      ],
      "execution_count": 29,
      "outputs": [
        {
          "output_type": "execute_result",
          "data": {
            "text/plain": [
              "('wonderful', 'flying', 'fly')"
            ]
          },
          "metadata": {
            "tags": []
          },
          "execution_count": 29
        }
      ]
    },
    {
      "metadata": {
        "slideshow": {
          "slide_type": "-"
        },
        "id": "Qa4Aax_ddK6u",
        "colab_type": "code",
        "outputId": "2ce5a382-2057-4381-9fb6-875a782e68fc",
        "colab": {
          "base_uri": "https://localhost:8080/",
          "height": 104
        }
      },
      "cell_type": "code",
      "source": [
        "# POS: # n=명사, v=동사, a=형용사, r=부사\n",
        "print(lmtz.lemmatize(\"cats\"))\n",
        "print(lmtz.lemmatize(\"better\", pos=\"a\")) \n",
        "print(lmtz.lemmatize(\"is\", pos=\"v\"))\n",
        "print(lmtz.lemmatize(\"led\"))\n",
        "print(lmtz.lemmatize(\"led\",'v'))"
      ],
      "execution_count": 30,
      "outputs": [
        {
          "output_type": "stream",
          "text": [
            "cat\n",
            "good\n",
            "be\n",
            "led\n",
            "lead\n"
          ],
          "name": "stdout"
        }
      ]
    },
    {
      "metadata": {
        "slideshow": {
          "slide_type": "slide"
        },
        "id": "ZKTPlMJ3dK6x",
        "colab_type": "text"
      },
      "cell_type": "markdown",
      "source": [
        "# Summary\n",
        "* NLTK 개요\n",
        "* NLTK 코퍼스\n",
        "* Concordance (색인)\n",
        "* Similar Word: Similar context 단어들 (≠비슷한 뜻)\n",
        "* common_contexts \n",
        "* Collocations (연어)\n",
        "* PoS Tagging\n",
        "* chunking\n",
        "* Stemming (어간 추출), Stemming (원형 추출)"
      ]
    },
    {
      "metadata": {
        "collapsed": true,
        "slideshow": {
          "slide_type": "notes"
        },
        "id": "1w9QEcD3dK6y",
        "colab_type": "text"
      },
      "cell_type": "markdown",
      "source": [
        "### 2017-2019 [FinanceData.KR]()"
      ]
    }
  ]
}