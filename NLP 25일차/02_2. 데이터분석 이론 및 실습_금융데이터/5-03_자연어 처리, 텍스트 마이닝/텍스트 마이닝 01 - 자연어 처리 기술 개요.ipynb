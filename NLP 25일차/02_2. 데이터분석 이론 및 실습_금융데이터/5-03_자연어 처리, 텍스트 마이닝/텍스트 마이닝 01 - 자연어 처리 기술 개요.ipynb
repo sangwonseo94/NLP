{
  "nbformat": 4,
  "nbformat_minor": 0,
  "metadata": {
    "colab": {
      "name": "텍스트 마이닝 01 - 자연어 처리 기술 개요.ipynb",
      "version": "0.3.2",
      "provenance": [],
      "collapsed_sections": []
    },
    "language_info": {
      "codemirror_mode": {
        "name": "ipython",
        "version": 3
      },
      "file_extension": ".py",
      "mimetype": "text/x-python",
      "name": "python",
      "nbconvert_exporter": "python",
      "pygments_lexer": "ipython3",
      "version": "3.5.2"
    },
    "kernelspec": {
      "display_name": "Python 3",
      "language": "python",
      "name": "python3"
    }
  },
  "cells": [
    {
      "metadata": {
        "collapsed": true,
        "slideshow": {
          "slide_type": "slide"
        },
        "id": "mIyS84iP3BkK",
        "colab_type": "text"
      },
      "cell_type": "markdown",
      "source": [
        "# 텍스트 마이닝 01 - 자연어 처리 기술 개요\n",
        "\n",
        "<img width=\"40%\" src=\"https://i.imgur.com/AydcsdT.png\">\n",
        "    \n",
        "### 2017-2019 [FinanceData.KR]()"
      ]
    },
    {
      "metadata": {
        "slideshow": {
          "slide_type": "slide"
        },
        "id": "Zt8WQ0Dp3BkL",
        "colab_type": "text"
      },
      "cell_type": "markdown",
      "source": [
        "# 문서, 문단, 문장\n",
        "<img src=\"https://i.imgur.com/UsylwVX.png\" >\n",
        "   "
      ]
    },
    {
      "metadata": {
        "slideshow": {
          "slide_type": "slide"
        },
        "id": "tnGlEH6G3BkN",
        "colab_type": "text"
      },
      "cell_type": "markdown",
      "source": [
        "# 문단, 어절, 형태소\n",
        "<img src=\"https://i.imgur.com/CtkBGnF.png\" >\n"
      ]
    },
    {
      "metadata": {
        "slideshow": {
          "slide_type": "slide"
        },
        "id": "ThtXI-kq3BkO",
        "colab_type": "text"
      },
      "cell_type": "markdown",
      "source": [
        "#  주요 용어들\n",
        "* Document 문서\n",
        "* Corpus(말뭉치), corpora (말뭉치들)\n",
        "* Token 토큰\n",
        "* Morphemes 형태소, 형태소 분석: 형태소, 어근, 접두사/접미사, 품사(POS)등 다양한 언어적 속성의 구조 파악\n",
        "* POS 품사, Part-of-speech (예: Nouns), POS 태깅(=토큰에 POS 정보 추가)\n",
        "\n",
        "참고\n",
        "* 국립국어원, 말뭉치 사전 https://ithub.korean.go.kr/user/guide/corpus/guide1.do\n",
        "* 한국어 품사 https://goo.gl/s8W3hW\n"
      ]
    },
    {
      "metadata": {
        "collapsed": true,
        "slideshow": {
          "slide_type": "slide"
        },
        "id": "ldk-rGa63BkP",
        "colab_type": "text"
      },
      "cell_type": "markdown",
      "source": [
        "# NLP의 주요 연구 영역\n",
        "1. Lexical Analysis (어휘분석)\n",
        "2. Syntax Analysis (구문 분석)\n",
        "3. Semantic Analysis (의미 분석)\n",
        "4. Discourse Analysis (대담 분석)"
      ]
    },
    {
      "metadata": {
        "slideshow": {
          "slide_type": "slide"
        },
        "id": "sNAxZvx_3BkQ",
        "colab_type": "text"
      },
      "cell_type": "markdown",
      "source": [
        "# 1. Lexical Analysis (어휘분석)\n",
        "문장을 잘 나누어 처리 효율을 높이기 위한 작업\n",
        "\n",
        "* Morphology Analysis (형태소 분석): 가장작은 의미 단위\n",
        "* Tokenizing: 띄어쓰기, 형태소 단위로 분리\n",
        "* Stemming (어간 추출): \"cats\", \"catlike\", \"catty\" >> \"cat\"\n",
        "* lemmatization (표제어추출): 'files' >> ‘날다’ vs ‘파리’ (품사까지 고려) "
      ]
    },
    {
      "metadata": {
        "slideshow": {
          "slide_type": "slide"
        },
        "id": "5fDgUs3S3BkR",
        "colab_type": "text"
      },
      "cell_type": "markdown",
      "source": [
        "# 2. Syntax Analysis (구문 분석)\n",
        "규칙이나 문법을 사용하여 문장을 분석하거나 구성\n",
        "\n",
        "* 어절 단위 분리, POS tagging (parsing tree 활용)\n",
        "* Sentence structure, phrase, grammer"
      ]
    },
    {
      "metadata": {
        "slideshow": {
          "slide_type": "slide"
        },
        "id": "WG735Vr73BkT",
        "colab_type": "text"
      },
      "cell_type": "markdown",
      "source": [
        "# 3. Semantic Analysis (의미 분석)\n",
        "단어/문장 의미를 찾고 부여하는 작업\n",
        "* Sematic = Syntatic + meaning"
      ]
    },
    {
      "metadata": {
        "collapsed": true,
        "slideshow": {
          "slide_type": "slide"
        },
        "id": "YAAnjIHk3BkU",
        "colab_type": "text"
      },
      "cell_type": "markdown",
      "source": [
        "# 4. Discourse Analysis (대담 분석)\n",
        "대화(문서)의 흐름을 파악하여 화자의 의도에 맞는 응답\n",
        "\n",
        "* 문맥구조 분석 (문장들의 연관 관계)\n",
        "* 대용어들(이것, 그것 등)이가리키는 것이 무엇인지\n",
        "* 의도분석: 전후 관계를 통한 실제의도\n",
        "* 대화분석"
      ]
    },
    {
      "metadata": {
        "slideshow": {
          "slide_type": "slide"
        },
        "id": "dbW6PNo_3BkV",
        "colab_type": "text"
      },
      "cell_type": "markdown",
      "source": [
        "# NLP의 주요 기술\n",
        "* Morphology Analysis (형태소 분석): 형태소, 어근, 접두사/접미사, 품사등 다양한 언어적 속성의 구조 파악\n",
        "* POS tagging (품사 태깅): 뜻과 문맥을 고려하여 형태소에 정보를 추가\n",
        "* NER (Named Entity Recognition): NE를 찾고, 타입을 식별\n",
        "* WSD (Word-sense disambiguation, 단어의미분별): 중의성 해소\n",
        "* SRL (Semantic Role Labeling, 의미론적 라벨링)\n",
        "* Sentiment Analysis (감성분석): 주관적 인상, 감정 태도 측정 (=Opinion mining)\n",
        "* Text Classification (텍스트 분류)\n",
        "* Knowledge Extraction (지식 추출)"
      ]
    },
    {
      "metadata": {
        "slideshow": {
          "slide_type": "slide"
        },
        "id": "zYHL9BxK3BkW",
        "colab_type": "text"
      },
      "cell_type": "markdown",
      "source": [
        "# Deep Learning and NLP\n",
        "* CNN: 주로 이미지 처리, 최근 NLP에 적용\n",
        "* RNN: 주로 squence 처리, 가변길이 seuqnce에 적합\n",
        "* LSTM: 장거리 전달이 가능한 RNN 구조, 여러 문장 처리\n",
        "* GAN: 데이터 자체에서 지식을 얻는 ‘비지도 학습’, 대화를 통해 학습\n",
        "\n",
        "<img src=\"http://rutumulkar.com/public/images/blog/nlp-ml.png\" >"
      ]
    },
    {
      "metadata": {
        "slideshow": {
          "slide_type": "slide"
        },
        "id": "Yl5VOFO83BkX",
        "colab_type": "text"
      },
      "cell_type": "markdown",
      "source": [
        "# Deep Learning Applications in NLP\n",
        "* Named Entity Recognition\n",
        "* Syntactic Analysis\n",
        "* Image Caption Generator\n",
        "* Google Neural Machine Translation\n",
        "* Sentiment Analysis; Text Classification\n",
        "* Summarization\n",
        "* End-to-end Dialog System"
      ]
    },
    {
      "metadata": {
        "slideshow": {
          "slide_type": "slide"
        },
        "id": "-aQH5x2p3BkY",
        "colab_type": "text"
      },
      "cell_type": "markdown",
      "source": [
        "# LIMITATION of deep learning\n",
        "* 설명가능성(explainability) 부족\n",
        "* 투명성(transparency) 부족\n",
        "* 점진적 학습 불가능\n",
        "* 법적 윤리적 책임소재 문제\n",
        "\n",
        "※ 의사결정도구로 사용하려면 사람이 이해하는 규칙 모델도 필요"
      ]
    },
    {
      "metadata": {
        "slideshow": {
          "slide_type": "slide"
        },
        "id": "OtEUf8Y23BkZ",
        "colab_type": "text"
      },
      "cell_type": "markdown",
      "source": [
        "# 텍스트 마이닝을 위한 파이썬 라이브러리\n",
        "* NLTK : Natural Language Toolkit\n",
        "* KoNLPy: Korean NLP in Python\n",
        "* Gensim: vector space modeling + topic modeling toolkit "
      ]
    },
    {
      "metadata": {
        "slideshow": {
          "slide_type": "slide"
        },
        "id": "SxZATwjq3Bka",
        "colab_type": "text"
      },
      "cell_type": "markdown",
      "source": [
        "## NLTK : Natural Language Toolkit\n",
        "http://nltk.org\n",
        "\n",
        "* 다양한 어간 추출(stemming) 알고리즘 지원(Porter, snowball, Lancaster 등)\n",
        "* Chunking, NER, classification 알고리즘 지원\n",
        "* 다양한 corpus (50+, 주로 영어)\n",
        "* language free, platform free and free"
      ]
    },
    {
      "metadata": {
        "slideshow": {
          "slide_type": "slide"
        },
        "id": "0eqecM-Y3Bkb",
        "colab_type": "text"
      },
      "cell_type": "markdown",
      "source": [
        "## KoNLPy: Korean NLP in Python\n",
        "http://konlpy.rtfd.org\n",
        "    \n",
        "* 형태소 분석기 + 코퍼스 + 자연어 처리\n",
        "* 여러 형태소 분석기(현재 5개) 선택적으로 사용\n",
        "* 오픈소스, 무료"
      ]
    },
    {
      "metadata": {
        "slideshow": {
          "slide_type": "slide"
        },
        "id": "S5TMZcNS3Bkb",
        "colab_type": "text"
      },
      "cell_type": "markdown",
      "source": [
        "## Gensim\n",
        "http://radimrehurek.com/gensim/\n",
        "\n",
        "* 토픽 모델링 (Topic modeling)\n",
        "* 잠재 디리클레 할당 (Latent Dirichlet allocation, LDA)\n",
        "* Latent semantic indexing (LSI)\n",
        "* Hierarchical Dirichlet process (HDP)\n",
        "\n",
        "Word embedding\n",
        "* word2vec"
      ]
    },
    {
      "metadata": {
        "slideshow": {
          "slide_type": "slide"
        },
        "id": "57h1mFp23Bkc",
        "colab_type": "text"
      },
      "cell_type": "markdown",
      "source": [
        "# 참고자료\n",
        "* 파이썬으로 영어와 한국어 텍스트 다루기 <br> https://www.lucypark.kr/courses/2015-dm/text-mining.html \n",
        "* Mining English and Korean text with Python <br> https://www.lucypark.kr/courses/2015-ba/text-mining.html\n",
        "* Gensim : open-source vector space modeling and topic modeling toolkit <br>https://radimrehurek.com/gensim/"
      ]
    },
    {
      "metadata": {
        "slideshow": {
          "slide_type": "slide"
        },
        "id": "t3FaahjC3Bkd",
        "colab_type": "text"
      },
      "cell_type": "markdown",
      "source": [
        "#### 2017-2019 FinanceData.KR http://financedata.kr"
      ]
    }
  ]
}