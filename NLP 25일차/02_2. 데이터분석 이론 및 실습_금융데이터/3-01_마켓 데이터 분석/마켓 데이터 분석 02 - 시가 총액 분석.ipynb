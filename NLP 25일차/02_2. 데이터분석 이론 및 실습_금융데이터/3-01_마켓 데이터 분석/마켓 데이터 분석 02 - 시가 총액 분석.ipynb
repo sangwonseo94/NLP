{
 "cells": [
  {
   "cell_type": "markdown",
   "metadata": {
    "slideshow": {
     "slide_type": "slide"
    }
   },
   "source": [
    "# 마켓 데이터 분석 02 - 시가 총액 분석\n",
    "\n",
    "<img width=\"320\" src=\"http://i.imgur.com/Y5twMcc.jpg\" >\n",
    "\n",
    "\n",
    "### 2018 FinanceData http://fb.com/financedata"
   ]
  },
  {
   "cell_type": "code",
   "execution_count": 1,
   "metadata": {
    "slideshow": {
     "slide_type": "slide"
    }
   },
   "outputs": [],
   "source": [
    "%matplotlib inline\n",
    "import matplotlib.font_manager as fm\n",
    "import matplotlib.pyplot as plt\n",
    "import matplotlib\n",
    "matplotlib.rc('figure', figsize=(16, 4))\n",
    "\n",
    "# Windows 경우\n",
    "fp = fm.FontProperties(fname=\"c:/Windows/Fonts/malgun.ttf\")\n",
    "\n",
    "# MacOS 경우\n",
    "fp = fm.FontProperties(fname=\"/Users/plusjune/Library/Fonts/NanumGothic.ttf\")\n",
    "\n",
    "# 우분투에 나눔글꼴 설치한 경우 (c9.io) \n",
    "fp = fm.FontProperties(fname=\"/usr/share/fonts/truetype/nanum/NanumGothic.ttf\")"
   ]
  },
  {
   "cell_type": "code",
   "execution_count": 2,
   "metadata": {
    "collapsed": true,
    "slideshow": {
     "slide_type": "skip"
    }
   },
   "outputs": [],
   "source": [
    "import numpy as np\n",
    "import pandas as pd"
   ]
  },
  {
   "cell_type": "markdown",
   "metadata": {
    "slideshow": {
     "slide_type": "slide"
    }
   },
   "source": [
    "# 거래소 시가총액 순위 페이지\n",
    "시장정보 → 주식 → 순위정보 → 시가총액 상/하위\n",
    "\n",
    "<img width=\"80%\" src=\"http://i.imgur.com/bVphJQF.png\" >\n",
    "    "
   ]
  },
  {
   "cell_type": "markdown",
   "metadata": {
    "slideshow": {
     "slide_type": "slide"
    }
   },
   "source": [
    "# 년도별 시가총액 데이터\n",
    "\n",
    "http://gist.github.com/d5c30a3377d43cd53884\n",
    "\n",
    "년도 | CSV\n",
    "-- | --\n",
    "1995 | https://goo.gl/bKLFfZ\n",
    "1996 | https://goo.gl/frDCXn\n",
    "1997 | https://goo.gl/JtAl21\n",
    "1998 | https://goo.gl/JRfYRD\n",
    "1999 | https://goo.gl/Facbjh\n",
    "2000 | https://goo.gl/WfvKjW\n",
    "2001 | https://goo.gl/zNSKar\n",
    "2002 | https://goo.gl/lx33Ru\n",
    "2003 | https://goo.gl/EBRGeQ\n",
    "2004 | https://goo.gl/zmkvOH\n",
    "2005 | https://goo.gl/KhcfUd\n",
    "2006 | https://goo.gl/2R3HKe\n",
    "2007 | https://goo.gl/Anzx04\n",
    "2008 | https://goo.gl/TToVRU\n",
    "2009 | https://goo.gl/5HtSuz\n",
    "2010 | https://goo.gl/83BEuB\n",
    "2011 | https://goo.gl/2ZRCqu\n",
    "2012 | https://goo.gl/Rlfhjr\n",
    "2013 | https://goo.gl/Ikxu5H\n",
    "2014 | https://goo.gl/HZs8ua\n",
    "2015 | https://goo.gl/9geJey\n",
    "\n",
    "\n",
    "* 데이터 URL (1995년 ~ 2015년, 21개)\n",
    "* 파일당 약 1100~2200 행(row)"
   ]
  },
  {
   "cell_type": "markdown",
   "metadata": {
    "slideshow": {
     "slide_type": "slide"
    }
   },
   "source": [
    "# krx-marcap-with-sector.csv\n",
    "\n",
    "* https://gist.github.com/financedata/c88008a77031ac0f0b20\n",
    "* (shorten) https://goo.gl/ujleWV"
   ]
  },
  {
   "cell_type": "code",
   "execution_count": 3,
   "metadata": {
    "slideshow": {
     "slide_type": "subslide"
    }
   },
   "outputs": [
    {
     "data": {
      "text/html": [
       "<div>\n",
       "<style>\n",
       "    .dataframe thead tr:only-child th {\n",
       "        text-align: right;\n",
       "    }\n",
       "\n",
       "    .dataframe thead th {\n",
       "        text-align: left;\n",
       "    }\n",
       "\n",
       "    .dataframe tbody tr th {\n",
       "        vertical-align: top;\n",
       "    }\n",
       "</style>\n",
       "<table border=\"1\" class=\"dataframe\">\n",
       "  <thead>\n",
       "    <tr style=\"text-align: right;\">\n",
       "      <th></th>\n",
       "      <th>rank</th>\n",
       "      <th>code</th>\n",
       "      <th>name</th>\n",
       "      <th>marcap</th>\n",
       "      <th>marcap_pct</th>\n",
       "      <th>year</th>\n",
       "      <th>name_en</th>\n",
       "      <th>sector</th>\n",
       "      <th>market</th>\n",
       "    </tr>\n",
       "  </thead>\n",
       "  <tbody>\n",
       "    <tr>\n",
       "      <th>0</th>\n",
       "      <td>1</td>\n",
       "      <td>015760</td>\n",
       "      <td>한국전력</td>\n",
       "      <td>18.994194</td>\n",
       "      <td>0.134566</td>\n",
       "      <td>1995-12-01</td>\n",
       "      <td>KEPCO</td>\n",
       "      <td>전기가스</td>\n",
       "      <td>KOSPI</td>\n",
       "    </tr>\n",
       "    <tr>\n",
       "      <th>1</th>\n",
       "      <td>2</td>\n",
       "      <td>005930</td>\n",
       "      <td>삼성전자</td>\n",
       "      <td>7.665979</td>\n",
       "      <td>0.054310</td>\n",
       "      <td>1995-12-01</td>\n",
       "      <td>Samsung Electronics</td>\n",
       "      <td>전기전자</td>\n",
       "      <td>KOSPI</td>\n",
       "    </tr>\n",
       "    <tr>\n",
       "      <th>2</th>\n",
       "      <td>3</td>\n",
       "      <td>005490</td>\n",
       "      <td>POSCO</td>\n",
       "      <td>4.760822</td>\n",
       "      <td>0.033728</td>\n",
       "      <td>1995-12-01</td>\n",
       "      <td>POSCO</td>\n",
       "      <td>철강금속</td>\n",
       "      <td>KOSPI</td>\n",
       "    </tr>\n",
       "    <tr>\n",
       "      <th>3</th>\n",
       "      <td>4</td>\n",
       "      <td>017670</td>\n",
       "      <td>SK텔레콤</td>\n",
       "      <td>3.229820</td>\n",
       "      <td>0.022882</td>\n",
       "      <td>1995-12-01</td>\n",
       "      <td>SK Telecom</td>\n",
       "      <td>통신업</td>\n",
       "      <td>KOSPI</td>\n",
       "    </tr>\n",
       "    <tr>\n",
       "      <th>4</th>\n",
       "      <td>5</td>\n",
       "      <td>000200</td>\n",
       "      <td>대우중공업</td>\n",
       "      <td>3.019233</td>\n",
       "      <td>0.021390</td>\n",
       "      <td>1995-12-01</td>\n",
       "      <td>NaN</td>\n",
       "      <td>NaN</td>\n",
       "      <td>NaN</td>\n",
       "    </tr>\n",
       "  </tbody>\n",
       "</table>\n",
       "</div>"
      ],
      "text/plain": [
       "   rank    code   name     marcap  marcap_pct        year  \\\n",
       "0     1  015760   한국전력  18.994194    0.134566  1995-12-01   \n",
       "1     2  005930   삼성전자   7.665979    0.054310  1995-12-01   \n",
       "2     3  005490  POSCO   4.760822    0.033728  1995-12-01   \n",
       "3     4  017670  SK텔레콤   3.229820    0.022882  1995-12-01   \n",
       "4     5  000200  대우중공업   3.019233    0.021390  1995-12-01   \n",
       "\n",
       "               name_en sector market  \n",
       "0                KEPCO   전기가스  KOSPI  \n",
       "1  Samsung Electronics   전기전자  KOSPI  \n",
       "2                POSCO   철강금속  KOSPI  \n",
       "3           SK Telecom    통신업  KOSPI  \n",
       "4                  NaN    NaN    NaN  "
      ]
     },
     "execution_count": 3,
     "metadata": {},
     "output_type": "execute_result"
    }
   ],
   "source": [
    "df = pd.read_csv(\"https://goo.gl/ujleWV\", dtype={'code':str})\n",
    "df.head()"
   ]
  },
  {
   "cell_type": "markdown",
   "metadata": {
    "slideshow": {
     "slide_type": "slide"
    }
   },
   "source": [
    "# 필요한 컬럼만 추출"
   ]
  },
  {
   "cell_type": "code",
   "execution_count": 4,
   "metadata": {
    "slideshow": {
     "slide_type": "subslide"
    }
   },
   "outputs": [
    {
     "data": {
      "text/html": [
       "<div>\n",
       "<style>\n",
       "    .dataframe thead tr:only-child th {\n",
       "        text-align: right;\n",
       "    }\n",
       "\n",
       "    .dataframe thead th {\n",
       "        text-align: left;\n",
       "    }\n",
       "\n",
       "    .dataframe tbody tr th {\n",
       "        vertical-align: top;\n",
       "    }\n",
       "</style>\n",
       "<table border=\"1\" class=\"dataframe\">\n",
       "  <thead>\n",
       "    <tr style=\"text-align: right;\">\n",
       "      <th></th>\n",
       "      <th>code</th>\n",
       "      <th>name</th>\n",
       "      <th>marcap</th>\n",
       "      <th>sector</th>\n",
       "    </tr>\n",
       "  </thead>\n",
       "  <tbody>\n",
       "    <tr>\n",
       "      <th>0</th>\n",
       "      <td>015760</td>\n",
       "      <td>한국전력</td>\n",
       "      <td>18.994194</td>\n",
       "      <td>전기가스</td>\n",
       "    </tr>\n",
       "    <tr>\n",
       "      <th>1</th>\n",
       "      <td>005930</td>\n",
       "      <td>삼성전자</td>\n",
       "      <td>7.665979</td>\n",
       "      <td>전기전자</td>\n",
       "    </tr>\n",
       "    <tr>\n",
       "      <th>2</th>\n",
       "      <td>005490</td>\n",
       "      <td>POSCO</td>\n",
       "      <td>4.760822</td>\n",
       "      <td>철강금속</td>\n",
       "    </tr>\n",
       "    <tr>\n",
       "      <th>3</th>\n",
       "      <td>017670</td>\n",
       "      <td>SK텔레콤</td>\n",
       "      <td>3.229820</td>\n",
       "      <td>통신업</td>\n",
       "    </tr>\n",
       "    <tr>\n",
       "      <th>4</th>\n",
       "      <td>000200</td>\n",
       "      <td>대우중공업</td>\n",
       "      <td>3.019233</td>\n",
       "      <td>NaN</td>\n",
       "    </tr>\n",
       "    <tr>\n",
       "      <th>5</th>\n",
       "      <td>002610</td>\n",
       "      <td>엘지전자</td>\n",
       "      <td>2.147247</td>\n",
       "      <td>NaN</td>\n",
       "    </tr>\n",
       "    <tr>\n",
       "      <th>6</th>\n",
       "      <td>015940</td>\n",
       "      <td>데이콤</td>\n",
       "      <td>1.621128</td>\n",
       "      <td>NaN</td>\n",
       "    </tr>\n",
       "    <tr>\n",
       "      <th>7</th>\n",
       "      <td>000720</td>\n",
       "      <td>현대건설</td>\n",
       "      <td>1.595383</td>\n",
       "      <td>건설업</td>\n",
       "    </tr>\n",
       "    <tr>\n",
       "      <th>8</th>\n",
       "      <td>015580</td>\n",
       "      <td>신한은행</td>\n",
       "      <td>1.568640</td>\n",
       "      <td>NaN</td>\n",
       "    </tr>\n",
       "    <tr>\n",
       "      <th>9</th>\n",
       "      <td>005931</td>\n",
       "      <td>삼성전자(1신)</td>\n",
       "      <td>1.492631</td>\n",
       "      <td>NaN</td>\n",
       "    </tr>\n",
       "  </tbody>\n",
       "</table>\n",
       "</div>"
      ],
      "text/plain": [
       "     code      name     marcap sector\n",
       "0  015760      한국전력  18.994194   전기가스\n",
       "1  005930      삼성전자   7.665979   전기전자\n",
       "2  005490     POSCO   4.760822   철강금속\n",
       "3  017670     SK텔레콤   3.229820    통신업\n",
       "4  000200     대우중공업   3.019233    NaN\n",
       "5  002610      엘지전자   2.147247    NaN\n",
       "6  015940       데이콤   1.621128    NaN\n",
       "7  000720      현대건설   1.595383    건설업\n",
       "8  015580      신한은행   1.568640    NaN\n",
       "9  005931  삼성전자(1신)   1.492631    NaN"
      ]
     },
     "execution_count": 4,
     "metadata": {},
     "output_type": "execute_result"
    }
   ],
   "source": [
    "df2 = df[['code', 'name', 'marcap', 'sector']]\n",
    "df2.head(10)"
   ]
  },
  {
   "cell_type": "markdown",
   "metadata": {
    "slideshow": {
     "slide_type": "slide"
    }
   },
   "source": [
    "# 개수를 구하기\n",
    "* Series.value_counts() 는 고유한 값의 개수를 구하는 간편한 방법을 제공\n",
    "* 업종(sector)의 고유한 값의 개수"
   ]
  },
  {
   "cell_type": "code",
   "execution_count": 5,
   "metadata": {
    "slideshow": {
     "slide_type": "subslide"
    }
   },
   "outputs": [
    {
     "name": "stdout",
     "output_type": "stream",
     "text": [
      "64\n",
      "Index(['화학', '서비스업', '전기전자', 'IT부품', '반도체', '유통업', '운수장비', '금속', '철강금속', '의약품',\n",
      "       '음식료', '기계,장비', '건설업', '비금속', '도매', '기계', '증권', '운송장비,부품', '제약', '통신장비',\n",
      "       '섬유의복', '소프트웨어', '종이목재', '미분류', '일반전기전자', '운수창고', '디지털컨텐츠', '음식료,담배',\n",
      "       '의료,정밀기기', '컴퓨터서비스', '전문기술', '보험업', '오락,문화', '금융', '정보기기', '종합건설',\n",
      "       '전기가스', '섬유,의류', '전문건설', '사업지원', '종이,목재', '기타금융업', '출판,매체복제', '통신서비스',\n",
      "       '인터넷', '기타제조', '소매', '금융서비스', '방송서비스', '교육', '연구,개발', '환경', '의료정밀',\n",
      "       '통신업', '부동산', '육상운송', '은행', '여행운송', '기타서비스', '숙박,음식', '전기,가스', '농업',\n",
      "       '자동차판매', '비금속광업'],\n",
      "      dtype='object')\n",
      "[2376 2132 1139 1134  968  952  930  855  852  847  822  754  738  716  716\n",
      "  644  635  630  621  576  475  465  456  453  420  406  344  303  299  292\n",
      "  287  268  234  230  228  208  182  177  174  169  161  145  133  119  117\n",
      "  111  109   99   96   77   69   67   66   55   54   52   52   32   24   20\n",
      "   18   14   12    1]\n"
     ]
    }
   ],
   "source": [
    "sector_counts = df2['sector'].value_counts()\n",
    "print (sector_counts.count()) # 업종수: 80\n",
    "print (sector_counts.index) # 업종항목: 자동차부품, 화학, 기계, 제약 등 ...\n",
    "print (sector_counts.values) # 업종내 기업수: 120, 109, 98, 95 ..."
   ]
  },
  {
   "cell_type": "markdown",
   "metadata": {
    "slideshow": {
     "slide_type": "slide"
    }
   },
   "source": [
    "# 색상 테이블, 해쉬\n",
    "업종별로 색상 테이블"
   ]
  },
  {
   "cell_type": "code",
   "execution_count": 6,
   "metadata": {
    "slideshow": {
     "slide_type": "subslide"
    }
   },
   "outputs": [
    {
     "name": "stdout",
     "output_type": "stream",
     "text": [
      "#C41F3B\n",
      "#FF7D0A\n",
      "#ABD473\n"
     ]
    }
   ],
   "source": [
    "from itertools import cycle\n",
    "colors_list = [ \"#C41F3B\", \"#FF7D0A\", \"#ABD473\", \"#69CCF0\", \"#00FF96\", \"#F58CBA\",\n",
    "\"#FFFFFF\", \"#FFF569\", \"#0070DE\", \"#9482C9\", \"#C79C6E\" ]\n",
    "color = cycle(colors_list)\n",
    "print (next(color))\n",
    "print (next(color))\n",
    "print (next(color))"
   ]
  },
  {
   "cell_type": "markdown",
   "metadata": {
    "slideshow": {
     "slide_type": "slide"
    }
   },
   "source": [
    "# 업종 분포 차트"
   ]
  },
  {
   "cell_type": "code",
   "execution_count": 7,
   "metadata": {
    "slideshow": {
     "slide_type": "fragment"
    }
   },
   "outputs": [
    {
     "data": {
      "image/png": "[encoded data removed]",
      "text/plain": [
       "<matplotlib.figure.Figure at 0x7f15dc76fbe0>"
      ]
     },
     "metadata": {},
     "output_type": "display_data"
    }
   ],
   "source": [
    "top20 = sector_counts[0:20]\n",
    "\n",
    "fig, ax = plt.subplots(figsize=(10, 6))\n",
    "ax.set_title('업종분포', fontproperties=fp)\n",
    "pos = np.arange(20)\n",
    "pos = pos[::-1] # reverse pos list\n",
    "plt.yticks(pos, [x for x in top20.index], fontproperties=fp)\n",
    "plt.barh(pos, top20.values, align='center', color=colors_list, alpha=0.7)\n",
    "plt.show()"
   ]
  },
  {
   "cell_type": "markdown",
   "metadata": {
    "slideshow": {
     "slide_type": "slide"
    }
   },
   "source": [
    "# 특정 섹터만 추출"
   ]
  },
  {
   "cell_type": "code",
   "execution_count": 8,
   "metadata": {
    "slideshow": {
     "slide_type": "fragment"
    }
   },
   "outputs": [
    {
     "data": {
      "text/html": [
       "<div>\n",
       "<style>\n",
       "    .dataframe thead tr:only-child th {\n",
       "        text-align: right;\n",
       "    }\n",
       "\n",
       "    .dataframe thead th {\n",
       "        text-align: left;\n",
       "    }\n",
       "\n",
       "    .dataframe tbody tr th {\n",
       "        vertical-align: top;\n",
       "    }\n",
       "</style>\n",
       "<table border=\"1\" class=\"dataframe\">\n",
       "  <thead>\n",
       "    <tr style=\"text-align: right;\">\n",
       "      <th></th>\n",
       "      <th>rank</th>\n",
       "      <th>code</th>\n",
       "      <th>name</th>\n",
       "      <th>marcap</th>\n",
       "      <th>marcap_pct</th>\n",
       "      <th>year</th>\n",
       "      <th>name_en</th>\n",
       "      <th>sector</th>\n",
       "      <th>market</th>\n",
       "    </tr>\n",
       "  </thead>\n",
       "  <tbody>\n",
       "    <tr>\n",
       "      <th>1646</th>\n",
       "      <td>525</td>\n",
       "      <td>030520</td>\n",
       "      <td>한글과컴퓨터</td>\n",
       "      <td>0.040192</td>\n",
       "      <td>0.000322</td>\n",
       "      <td>1996-12-01</td>\n",
       "      <td>Haansoft Inc.</td>\n",
       "      <td>소프트웨어</td>\n",
       "      <td>KOSDAQ</td>\n",
       "    </tr>\n",
       "    <tr>\n",
       "      <th>3348</th>\n",
       "      <td>646</td>\n",
       "      <td>032850</td>\n",
       "      <td>비트컴퓨터</td>\n",
       "      <td>0.013825</td>\n",
       "      <td>0.000177</td>\n",
       "      <td>1997-12-01</td>\n",
       "      <td>BIT Computer</td>\n",
       "      <td>소프트웨어</td>\n",
       "      <td>KOSDAQ</td>\n",
       "    </tr>\n",
       "    <tr>\n",
       "      <th>3483</th>\n",
       "      <td>781</td>\n",
       "      <td>030520</td>\n",
       "      <td>한글과컴퓨터</td>\n",
       "      <td>0.009360</td>\n",
       "      <td>0.000120</td>\n",
       "      <td>1997-12-01</td>\n",
       "      <td>Haansoft Inc.</td>\n",
       "      <td>소프트웨어</td>\n",
       "      <td>KOSDAQ</td>\n",
       "    </tr>\n",
       "    <tr>\n",
       "      <th>3622</th>\n",
       "      <td>920</td>\n",
       "      <td>032620</td>\n",
       "      <td>유비케어</td>\n",
       "      <td>0.006136</td>\n",
       "      <td>0.000079</td>\n",
       "      <td>1997-12-01</td>\n",
       "      <td>UBCare</td>\n",
       "      <td>소프트웨어</td>\n",
       "      <td>KOSDAQ</td>\n",
       "    </tr>\n",
       "    <tr>\n",
       "      <th>4719</th>\n",
       "      <td>651</td>\n",
       "      <td>032850</td>\n",
       "      <td>비트컴퓨터</td>\n",
       "      <td>0.013300</td>\n",
       "      <td>0.000091</td>\n",
       "      <td>1998-12-01</td>\n",
       "      <td>BIT Computer</td>\n",
       "      <td>소프트웨어</td>\n",
       "      <td>KOSDAQ</td>\n",
       "    </tr>\n",
       "    <tr>\n",
       "      <th>4724</th>\n",
       "      <td>656</td>\n",
       "      <td>030520</td>\n",
       "      <td>한글과컴퓨터</td>\n",
       "      <td>0.013050</td>\n",
       "      <td>0.000090</td>\n",
       "      <td>1998-12-01</td>\n",
       "      <td>Haansoft Inc.</td>\n",
       "      <td>소프트웨어</td>\n",
       "      <td>KOSDAQ</td>\n",
       "    </tr>\n",
       "    <tr>\n",
       "      <th>4902</th>\n",
       "      <td>834</td>\n",
       "      <td>032620</td>\n",
       "      <td>유비케어</td>\n",
       "      <td>0.006710</td>\n",
       "      <td>0.000046</td>\n",
       "      <td>1998-12-01</td>\n",
       "      <td>UBCare</td>\n",
       "      <td>소프트웨어</td>\n",
       "      <td>KOSDAQ</td>\n",
       "    </tr>\n",
       "    <tr>\n",
       "      <th>5371</th>\n",
       "      <td>28</td>\n",
       "      <td>030520</td>\n",
       "      <td>한글과컴퓨터</td>\n",
       "      <td>2.526725</td>\n",
       "      <td>0.005544</td>\n",
       "      <td>1999-12-01</td>\n",
       "      <td>Haansoft Inc.</td>\n",
       "      <td>소프트웨어</td>\n",
       "      <td>KOSDAQ</td>\n",
       "    </tr>\n",
       "    <tr>\n",
       "      <th>5469</th>\n",
       "      <td>126</td>\n",
       "      <td>032620</td>\n",
       "      <td>유비케어</td>\n",
       "      <td>0.355371</td>\n",
       "      <td>0.000780</td>\n",
       "      <td>1999-12-01</td>\n",
       "      <td>UBCare</td>\n",
       "      <td>소프트웨어</td>\n",
       "      <td>KOSDAQ</td>\n",
       "    </tr>\n",
       "    <tr>\n",
       "      <th>5511</th>\n",
       "      <td>168</td>\n",
       "      <td>032850</td>\n",
       "      <td>비트컴퓨터</td>\n",
       "      <td>0.238985</td>\n",
       "      <td>0.000524</td>\n",
       "      <td>1999-12-01</td>\n",
       "      <td>BIT Computer</td>\n",
       "      <td>소프트웨어</td>\n",
       "      <td>KOSDAQ</td>\n",
       "    </tr>\n",
       "  </tbody>\n",
       "</table>\n",
       "</div>"
      ],
      "text/plain": [
       "      rank    code    name    marcap  marcap_pct        year        name_en  \\\n",
       "1646   525  030520  한글과컴퓨터  0.040192    0.000322  1996-12-01  Haansoft Inc.   \n",
       "3348   646  032850   비트컴퓨터  0.013825    0.000177  1997-12-01   BIT Computer   \n",
       "3483   781  030520  한글과컴퓨터  0.009360    0.000120  1997-12-01  Haansoft Inc.   \n",
       "3622   920  032620    유비케어  0.006136    0.000079  1997-12-01         UBCare   \n",
       "4719   651  032850   비트컴퓨터  0.013300    0.000091  1998-12-01   BIT Computer   \n",
       "4724   656  030520  한글과컴퓨터  0.013050    0.000090  1998-12-01  Haansoft Inc.   \n",
       "4902   834  032620    유비케어  0.006710    0.000046  1998-12-01         UBCare   \n",
       "5371    28  030520  한글과컴퓨터  2.526725    0.005544  1999-12-01  Haansoft Inc.   \n",
       "5469   126  032620    유비케어  0.355371    0.000780  1999-12-01         UBCare   \n",
       "5511   168  032850   비트컴퓨터  0.238985    0.000524  1999-12-01   BIT Computer   \n",
       "\n",
       "     sector  market  \n",
       "1646  소프트웨어  KOSDAQ  \n",
       "3348  소프트웨어  KOSDAQ  \n",
       "3483  소프트웨어  KOSDAQ  \n",
       "3622  소프트웨어  KOSDAQ  \n",
       "4719  소프트웨어  KOSDAQ  \n",
       "4724  소프트웨어  KOSDAQ  \n",
       "4902  소프트웨어  KOSDAQ  \n",
       "5371  소프트웨어  KOSDAQ  \n",
       "5469  소프트웨어  KOSDAQ  \n",
       "5511  소프트웨어  KOSDAQ  "
      ]
     },
     "execution_count": 8,
     "metadata": {},
     "output_type": "execute_result"
    }
   ],
   "source": [
    "df_semi = df[df['sector']=='소프트웨어']\n",
    "df_semi.head(10)"
   ]
  },
  {
   "cell_type": "markdown",
   "metadata": {
    "slideshow": {
     "slide_type": "slide"
    }
   },
   "source": [
    "# 업종별 시가총액 차트"
   ]
  },
  {
   "cell_type": "code",
   "execution_count": 9,
   "metadata": {
    "slideshow": {
     "slide_type": "subslide"
    }
   },
   "outputs": [
    {
     "data": {
      "text/html": [
       "<div>\n",
       "<style>\n",
       "    .dataframe thead tr:only-child th {\n",
       "        text-align: right;\n",
       "    }\n",
       "\n",
       "    .dataframe thead th {\n",
       "        text-align: left;\n",
       "    }\n",
       "\n",
       "    .dataframe tbody tr th {\n",
       "        vertical-align: top;\n",
       "    }\n",
       "</style>\n",
       "<table border=\"1\" class=\"dataframe\">\n",
       "  <thead>\n",
       "    <tr style=\"text-align: right;\">\n",
       "      <th></th>\n",
       "      <th>rank</th>\n",
       "      <th>code</th>\n",
       "      <th>name</th>\n",
       "      <th>marcap</th>\n",
       "      <th>marcap_pct</th>\n",
       "      <th>year</th>\n",
       "      <th>name_en</th>\n",
       "      <th>sector</th>\n",
       "      <th>market</th>\n",
       "    </tr>\n",
       "  </thead>\n",
       "  <tbody>\n",
       "    <tr>\n",
       "      <th>34501</th>\n",
       "      <td>1</td>\n",
       "      <td>005930</td>\n",
       "      <td>삼성전자</td>\n",
       "      <td>190.752641</td>\n",
       "      <td>0.130428</td>\n",
       "      <td>2015-12-01</td>\n",
       "      <td>Samsung Electronics</td>\n",
       "      <td>전기전자</td>\n",
       "      <td>KOSPI</td>\n",
       "    </tr>\n",
       "    <tr>\n",
       "      <th>34502</th>\n",
       "      <td>2</td>\n",
       "      <td>005380</td>\n",
       "      <td>현대차</td>\n",
       "      <td>33.371887</td>\n",
       "      <td>0.022818</td>\n",
       "      <td>2015-12-01</td>\n",
       "      <td>Hyundai Motor</td>\n",
       "      <td>운수장비</td>\n",
       "      <td>KOSPI</td>\n",
       "    </tr>\n",
       "    <tr>\n",
       "      <th>34503</th>\n",
       "      <td>3</td>\n",
       "      <td>015760</td>\n",
       "      <td>한국전력</td>\n",
       "      <td>32.290793</td>\n",
       "      <td>0.022079</td>\n",
       "      <td>2015-12-01</td>\n",
       "      <td>KEPCO</td>\n",
       "      <td>전기가스</td>\n",
       "      <td>KOSPI</td>\n",
       "    </tr>\n",
       "    <tr>\n",
       "      <th>34504</th>\n",
       "      <td>4</td>\n",
       "      <td>028260</td>\n",
       "      <td>삼성물산</td>\n",
       "      <td>27.979281</td>\n",
       "      <td>0.019131</td>\n",
       "      <td>2015-12-01</td>\n",
       "      <td>Samsung C&amp;T Corporation</td>\n",
       "      <td>유통업</td>\n",
       "      <td>KOSPI</td>\n",
       "    </tr>\n",
       "    <tr>\n",
       "      <th>34505</th>\n",
       "      <td>5</td>\n",
       "      <td>005935</td>\n",
       "      <td>삼성전자우</td>\n",
       "      <td>24.888435</td>\n",
       "      <td>0.017018</td>\n",
       "      <td>2015-12-01</td>\n",
       "      <td>Samsung Electronics</td>\n",
       "      <td>전기전자</td>\n",
       "      <td>KOSPI</td>\n",
       "    </tr>\n",
       "  </tbody>\n",
       "</table>\n",
       "</div>"
      ],
      "text/plain": [
       "       rank    code   name      marcap  marcap_pct        year  \\\n",
       "34501     1  005930   삼성전자  190.752641    0.130428  2015-12-01   \n",
       "34502     2  005380    현대차   33.371887    0.022818  2015-12-01   \n",
       "34503     3  015760   한국전력   32.290793    0.022079  2015-12-01   \n",
       "34504     4  028260   삼성물산   27.979281    0.019131  2015-12-01   \n",
       "34505     5  005935  삼성전자우   24.888435    0.017018  2015-12-01   \n",
       "\n",
       "                       name_en sector market  \n",
       "34501      Samsung Electronics   전기전자  KOSPI  \n",
       "34502            Hyundai Motor   운수장비  KOSPI  \n",
       "34503                    KEPCO   전기가스  KOSPI  \n",
       "34504  Samsung C&T Corporation    유통업  KOSPI  \n",
       "34505      Samsung Electronics   전기전자  KOSPI  "
      ]
     },
     "execution_count": 9,
     "metadata": {},
     "output_type": "execute_result"
    }
   ],
   "source": [
    "df_2015 = df[df['year'] == '2015-12-01']\n",
    "df_2015.head()"
   ]
  },
  {
   "cell_type": "code",
   "execution_count": 10,
   "metadata": {
    "slideshow": {
     "slide_type": "subslide"
    }
   },
   "outputs": [
    {
     "data": {
      "text/html": [
       "<div>\n",
       "<style>\n",
       "    .dataframe thead tr:only-child th {\n",
       "        text-align: right;\n",
       "    }\n",
       "\n",
       "    .dataframe thead th {\n",
       "        text-align: left;\n",
       "    }\n",
       "\n",
       "    .dataframe tbody tr th {\n",
       "        vertical-align: top;\n",
       "    }\n",
       "</style>\n",
       "<table border=\"1\" class=\"dataframe\">\n",
       "  <thead>\n",
       "    <tr style=\"text-align: right;\">\n",
       "      <th></th>\n",
       "      <th>marcap</th>\n",
       "    </tr>\n",
       "    <tr>\n",
       "      <th>sector</th>\n",
       "      <th></th>\n",
       "    </tr>\n",
       "  </thead>\n",
       "  <tbody>\n",
       "    <tr>\n",
       "      <th>전기전자</th>\n",
       "      <td>287.875933</td>\n",
       "    </tr>\n",
       "    <tr>\n",
       "      <th>서비스업</th>\n",
       "      <td>194.308660</td>\n",
       "    </tr>\n",
       "    <tr>\n",
       "      <th>화학</th>\n",
       "      <td>151.888602</td>\n",
       "    </tr>\n",
       "    <tr>\n",
       "      <th>운수장비</th>\n",
       "      <td>120.701497</td>\n",
       "    </tr>\n",
       "    <tr>\n",
       "      <th>유통업</th>\n",
       "      <td>85.366612</td>\n",
       "    </tr>\n",
       "    <tr>\n",
       "      <th>보험업</th>\n",
       "      <td>61.112385</td>\n",
       "    </tr>\n",
       "    <tr>\n",
       "      <th>기타금융업</th>\n",
       "      <td>57.289581</td>\n",
       "    </tr>\n",
       "    <tr>\n",
       "      <th>철강금속</th>\n",
       "      <td>41.355757</td>\n",
       "    </tr>\n",
       "    <tr>\n",
       "      <th>음식료</th>\n",
       "      <td>39.491417</td>\n",
       "    </tr>\n",
       "    <tr>\n",
       "      <th>전기가스</th>\n",
       "      <td>39.087887</td>\n",
       "    </tr>\n",
       "    <tr>\n",
       "      <th>제약</th>\n",
       "      <td>31.465322</td>\n",
       "    </tr>\n",
       "    <tr>\n",
       "      <th>통신업</th>\n",
       "      <td>31.047968</td>\n",
       "    </tr>\n",
       "    <tr>\n",
       "      <th>의약품</th>\n",
       "      <td>26.240103</td>\n",
       "    </tr>\n",
       "    <tr>\n",
       "      <th>미분류</th>\n",
       "      <td>22.613240</td>\n",
       "    </tr>\n",
       "    <tr>\n",
       "      <th>증권</th>\n",
       "      <td>22.194504</td>\n",
       "    </tr>\n",
       "    <tr>\n",
       "      <th>운수창고</th>\n",
       "      <td>21.744998</td>\n",
       "    </tr>\n",
       "    <tr>\n",
       "      <th>건설업</th>\n",
       "      <td>20.929716</td>\n",
       "    </tr>\n",
       "    <tr>\n",
       "      <th>기계</th>\n",
       "      <td>19.631011</td>\n",
       "    </tr>\n",
       "    <tr>\n",
       "      <th>반도체</th>\n",
       "      <td>16.858549</td>\n",
       "    </tr>\n",
       "    <tr>\n",
       "      <th>은행</th>\n",
       "      <td>14.247164</td>\n",
       "    </tr>\n",
       "  </tbody>\n",
       "</table>\n",
       "</div>"
      ],
      "text/plain": [
       "            marcap\n",
       "sector            \n",
       "전기전자    287.875933\n",
       "서비스업    194.308660\n",
       "화학      151.888602\n",
       "운수장비    120.701497\n",
       "유통업      85.366612\n",
       "보험업      61.112385\n",
       "기타금융업    57.289581\n",
       "철강금속     41.355757\n",
       "음식료      39.491417\n",
       "전기가스     39.087887\n",
       "제약       31.465322\n",
       "통신업      31.047968\n",
       "의약품      26.240103\n",
       "미분류      22.613240\n",
       "증권       22.194504\n",
       "운수창고     21.744998\n",
       "건설업      20.929716\n",
       "기계       19.631011\n",
       "반도체      16.858549\n",
       "은행       14.247164"
      ]
     },
     "execution_count": 10,
     "metadata": {},
     "output_type": "execute_result"
    }
   ],
   "source": [
    "# pivot_table(): \n",
    "piv = df_2015.pivot_table(index=['sector'], values='marcap', aggfunc=np.sum)\n",
    "\n",
    "# 복사본을 만들고, 값 기준으로 내림차순 소트\n",
    "sector_marcap = piv.copy()\n",
    "sector_marcap.sort_values(by='marcap', ascending=False, inplace=True)\n",
    "sector_marcap.head(20)"
   ]
  },
  {
   "cell_type": "markdown",
   "metadata": {
    "slideshow": {
     "slide_type": "notes"
    }
   },
   "source": [
    "'sector'(업종)으로 인덱스를 생성, 'marcap'(시가총액)을 값으로 하되 동일한 업종은 합산(np.sum)"
   ]
  },
  {
   "cell_type": "code",
   "execution_count": 11,
   "metadata": {
    "slideshow": {
     "slide_type": "subslide"
    }
   },
   "outputs": [
    {
     "data": {
      "text/plain": [
       "<Container object of 20 artists>"
      ]
     },
     "execution_count": 11,
     "metadata": {},
     "output_type": "execute_result"
    },
    {
     "data": {
      "image/png": "[encoded data removed]",
      "text/plain": [
       "<matplotlib.figure.Figure at 0x7f15dc76f240>"
      ]
     },
     "metadata": {},
     "output_type": "display_data"
    }
   ],
   "source": [
    "top20 = sector_marcap[0:20]\n",
    "fig, ax = plt.subplots(figsize=(10, 6))\n",
    "ax.set_title('업종별 시가총액', fontproperties=fp)\n",
    "\n",
    "pos = range(20)\n",
    "pos = pos[::-1] # reverse pos list\n",
    "plt.yticks(pos, [x for x in top20.index], fontproperties=fp)\n",
    "plt.barh(pos, top20.values, align='center', color=colors_list, alpha=0.7)"
   ]
  },
  {
   "cell_type": "markdown",
   "metadata": {
    "slideshow": {
     "slide_type": "slide"
    }
   },
   "source": [
    "# 업종별 시가총액 비중"
   ]
  },
  {
   "cell_type": "code",
   "execution_count": 12,
   "metadata": {
    "slideshow": {
     "slide_type": "fragment"
    }
   },
   "outputs": [
    {
     "data": {
      "text/html": [
       "<div>\n",
       "<style>\n",
       "    .dataframe thead tr:only-child th {\n",
       "        text-align: right;\n",
       "    }\n",
       "\n",
       "    .dataframe thead th {\n",
       "        text-align: left;\n",
       "    }\n",
       "\n",
       "    .dataframe tbody tr th {\n",
       "        vertical-align: top;\n",
       "    }\n",
       "</style>\n",
       "<table border=\"1\" class=\"dataframe\">\n",
       "  <thead>\n",
       "    <tr style=\"text-align: right;\">\n",
       "      <th></th>\n",
       "      <th>marcap</th>\n",
       "    </tr>\n",
       "    <tr>\n",
       "      <th>sector</th>\n",
       "      <th></th>\n",
       "    </tr>\n",
       "  </thead>\n",
       "  <tbody>\n",
       "    <tr>\n",
       "      <th>전기전자</th>\n",
       "      <td>0.197459</td>\n",
       "    </tr>\n",
       "    <tr>\n",
       "      <th>서비스업</th>\n",
       "      <td>0.133280</td>\n",
       "    </tr>\n",
       "    <tr>\n",
       "      <th>화학</th>\n",
       "      <td>0.104183</td>\n",
       "    </tr>\n",
       "    <tr>\n",
       "      <th>운수장비</th>\n",
       "      <td>0.082791</td>\n",
       "    </tr>\n",
       "    <tr>\n",
       "      <th>유통업</th>\n",
       "      <td>0.058554</td>\n",
       "    </tr>\n",
       "    <tr>\n",
       "      <th>보험업</th>\n",
       "      <td>0.041918</td>\n",
       "    </tr>\n",
       "    <tr>\n",
       "      <th>기타금융업</th>\n",
       "      <td>0.039296</td>\n",
       "    </tr>\n",
       "    <tr>\n",
       "      <th>철강금속</th>\n",
       "      <td>0.028367</td>\n",
       "    </tr>\n",
       "    <tr>\n",
       "      <th>음식료</th>\n",
       "      <td>0.027088</td>\n",
       "    </tr>\n",
       "    <tr>\n",
       "      <th>전기가스</th>\n",
       "      <td>0.026811</td>\n",
       "    </tr>\n",
       "  </tbody>\n",
       "</table>\n",
       "</div>"
      ],
      "text/plain": [
       "          marcap\n",
       "sector          \n",
       "전기전자    0.197459\n",
       "서비스업    0.133280\n",
       "화학      0.104183\n",
       "운수장비    0.082791\n",
       "유통업     0.058554\n",
       "보험업     0.041918\n",
       "기타금융업   0.039296\n",
       "철강금속    0.028367\n",
       "음식료     0.027088\n",
       "전기가스    0.026811"
      ]
     },
     "execution_count": 12,
     "metadata": {},
     "output_type": "execute_result"
    }
   ],
   "source": [
    "sector_marcap_pct = sector_marcap / sector_marcap.sum()\n",
    "sector_marcap_pct[:10]"
   ]
  },
  {
   "cell_type": "markdown",
   "metadata": {
    "slideshow": {
     "slide_type": "notes"
    }
   },
   "source": [
    "전기전자 0.197 즉, 시장 시가총액의 약 20% 차지"
   ]
  },
  {
   "cell_type": "code",
   "execution_count": 13,
   "metadata": {
    "slideshow": {
     "slide_type": "subslide"
    }
   },
   "outputs": [
    {
     "name": "stdout",
     "output_type": "stream",
     "text": [
      "Index(['화학', '서비스업', '전기전자', 'IT부품', '반도체', '유통업', '운수장비', '금속', '철강금속',\n",
      "       '의약품'],\n",
      "      dtype='object')\n",
      "[2376 2132 1139 1134  968  952  930  855  852  847]\n",
      "============================================================\n",
      "Index(['전기전자', '서비스업', '화학', '운수장비', '유통업', '보험업', '기타금융업', '철강금속', '음식료',\n",
      "       '전기가스'],\n",
      "      dtype='object', name='sector')\n",
      "[[ 287.875933]\n",
      " [ 194.30866 ]\n",
      " [ 151.888602]\n",
      " [ 120.701497]\n",
      " [  85.366612]\n",
      " [  61.112385]\n",
      " [  57.289581]\n",
      " [  41.355757]\n",
      " [  39.491417]\n",
      " [  39.087887]]\n"
     ]
    }
   ],
   "source": [
    "print (sector_counts.index[:10])\n",
    "print (sector_counts.values[:10])\n",
    "print ('=' * 60)\n",
    "print (sector_marcap.index[:10])\n",
    "print (sector_marcap.values[:10])\n"
   ]
  },
  {
   "cell_type": "code",
   "execution_count": 14,
   "metadata": {
    "slideshow": {
     "slide_type": "subslide"
    }
   },
   "outputs": [
    {
     "data": {
      "text/plain": [
       "화학      2376\n",
       "서비스업    2132\n",
       "전기전자    1139\n",
       "IT부품    1134\n",
       "반도체      968\n",
       "유통업      952\n",
       "운수장비     930\n",
       "금속       855\n",
       "철강금속     852\n",
       "의약품      847\n",
       "Name: sector, dtype: int64"
      ]
     },
     "execution_count": 14,
     "metadata": {},
     "output_type": "execute_result"
    }
   ],
   "source": [
    "sector_counts[:10]"
   ]
  },
  {
   "cell_type": "code",
   "execution_count": 15,
   "metadata": {
    "slideshow": {
     "slide_type": "subslide"
    }
   },
   "outputs": [
    {
     "data": {
      "text/html": [
       "<div>\n",
       "<style>\n",
       "    .dataframe thead tr:only-child th {\n",
       "        text-align: right;\n",
       "    }\n",
       "\n",
       "    .dataframe thead th {\n",
       "        text-align: left;\n",
       "    }\n",
       "\n",
       "    .dataframe tbody tr th {\n",
       "        vertical-align: top;\n",
       "    }\n",
       "</style>\n",
       "<table border=\"1\" class=\"dataframe\">\n",
       "  <thead>\n",
       "    <tr style=\"text-align: right;\">\n",
       "      <th></th>\n",
       "      <th>marcap</th>\n",
       "    </tr>\n",
       "    <tr>\n",
       "      <th>sector</th>\n",
       "      <th></th>\n",
       "    </tr>\n",
       "  </thead>\n",
       "  <tbody>\n",
       "    <tr>\n",
       "      <th>전기전자</th>\n",
       "      <td>287.875933</td>\n",
       "    </tr>\n",
       "    <tr>\n",
       "      <th>서비스업</th>\n",
       "      <td>194.308660</td>\n",
       "    </tr>\n",
       "    <tr>\n",
       "      <th>화학</th>\n",
       "      <td>151.888602</td>\n",
       "    </tr>\n",
       "    <tr>\n",
       "      <th>운수장비</th>\n",
       "      <td>120.701497</td>\n",
       "    </tr>\n",
       "    <tr>\n",
       "      <th>유통업</th>\n",
       "      <td>85.366612</td>\n",
       "    </tr>\n",
       "    <tr>\n",
       "      <th>보험업</th>\n",
       "      <td>61.112385</td>\n",
       "    </tr>\n",
       "    <tr>\n",
       "      <th>기타금융업</th>\n",
       "      <td>57.289581</td>\n",
       "    </tr>\n",
       "    <tr>\n",
       "      <th>철강금속</th>\n",
       "      <td>41.355757</td>\n",
       "    </tr>\n",
       "    <tr>\n",
       "      <th>음식료</th>\n",
       "      <td>39.491417</td>\n",
       "    </tr>\n",
       "    <tr>\n",
       "      <th>전기가스</th>\n",
       "      <td>39.087887</td>\n",
       "    </tr>\n",
       "  </tbody>\n",
       "</table>\n",
       "</div>"
      ],
      "text/plain": [
       "            marcap\n",
       "sector            \n",
       "전기전자    287.875933\n",
       "서비스업    194.308660\n",
       "화학      151.888602\n",
       "운수장비    120.701497\n",
       "유통업      85.366612\n",
       "보험업      61.112385\n",
       "기타금융업    57.289581\n",
       "철강금속     41.355757\n",
       "음식료      39.491417\n",
       "전기가스     39.087887"
      ]
     },
     "execution_count": 15,
     "metadata": {},
     "output_type": "execute_result"
    }
   ],
   "source": [
    "sector_marcap[:10]"
   ]
  },
  {
   "cell_type": "markdown",
   "metadata": {
    "slideshow": {
     "slide_type": "slide"
    }
   },
   "source": [
    "# 시가총액 비중 차트(파이)"
   ]
  },
  {
   "cell_type": "code",
   "execution_count": 16,
   "metadata": {},
   "outputs": [
    {
     "data": {
      "text/plain": [
       "sector\n",
       "전기전자     287.875933\n",
       "서비스업     194.308660\n",
       "화학       151.888602\n",
       "운수장비     120.701497\n",
       "유통업       85.366612\n",
       "보험업       61.112385\n",
       "기타금융업     57.289581\n",
       "철강금속      41.355757\n",
       "음식료       39.491417\n",
       "전기가스      39.087887\n",
       "Name: marcap, dtype: float64"
      ]
     },
     "execution_count": 16,
     "metadata": {},
     "output_type": "execute_result"
    }
   ],
   "source": [
    "sector_marcap['marcap'][:10]"
   ]
  },
  {
   "cell_type": "code",
   "execution_count": 17,
   "metadata": {
    "slideshow": {
     "slide_type": "fragment"
    }
   },
   "outputs": [
    {
     "data": {
      "image/png": "[encoded data removed]",
      "text/plain": [
       "<matplotlib.figure.Figure at 0x7f15dc5e9b38>"
      ]
     },
     "metadata": {},
     "output_type": "display_data"
    }
   ],
   "source": [
    "fig, axes = plt.subplots(nrows=1, ncols=2)\n",
    "fig.set_size_inches(18, 8)\n",
    "\n",
    "# 첫번째 파이 차트 (업종내 종목수)\n",
    "labels = []\n",
    "sec_stock_top = sector_counts[:10]\n",
    "for i,val in sec_stock_top.items():\n",
    "    labels.append(\"%s\\n%d\" % (i,val))\n",
    "\n",
    "axes[0].set_title(\"2013 업종내 종목수 TOP 10\", fontproperties=fp)\n",
    "patches, texts = axes[0].pie(sec_stock_top, labels=labels, startangle=90, colors=colors_list)\n",
    "plt.setp(texts, fontproperties=fp)\n",
    "\n",
    "# 두번째 파이 차트 (업종별 시가총액)\n",
    "labels = []\n",
    "sec_mar_top = sector_marcap['marcap'][:10]\n",
    "for i, val in sec_mar_top.items():\n",
    "    labels.append(\"%s\\n\\%d\" % (i, val))\n",
    "axes[1].set_title(u\"2013 업종별 시가총액 TOP 10\", fontproperties=fp)\n",
    "patches, texts = axes[1].pie(sec_mar_top, labels=labels, startangle=90, colors=colors_list)\n",
    "plt.setp(texts, fontproperties=fp)\n",
    "\n",
    "plt.show()"
   ]
  },
  {
   "cell_type": "markdown",
   "metadata": {
    "slideshow": {
     "slide_type": "slide"
    }
   },
   "source": [
    "# 20년간 (1995년 ~ 2015년) 시가총액 분석\n",
    "\n",
    "* 시가총액 30위권을 지킨 기업은 9개 <br>\n",
    "(삼성전자, 현대차, 한국전력, 기아차, SK텔레콤, POSCO, 삼성화재, LG, S-Oil)\n",
    "* 1995년의 시총 1위 기업은 한국전력(18.9조), 2015년에는 삼성전자(190.7조)\n",
    "* 1998년 말까지 한국전력 1위, 1999년 이후 삼성전자가 부동의 1위 (18년째)\n",
    "* 1995년의 삼성전자 시가총액 비중은 5.4% 에서 2015년에는 13% 로 커졌다.\n",
    "* 시가총액 순위가 떨어진 기업은 SK텔레콤 4위 → 15위, 포스코 3위 → 18위\n",
    "* 역대 시총 2위는 POSCO, SK텔레콤, 현대차 등 소수 종목들이 번갈아\n",
    "* 최상위 종목을 제외하고는 30위권 내 순위변동 극심 <br>\n",
    "(한국경제의 성장 및 위기에 따라 업종 및 종목간 부침)\n",
    "\n"
   ]
  },
  {
   "cell_type": "markdown",
   "metadata": {},
   "source": [
    "----\n",
    "### 2018 FinanceData http://fb.com/financedata http://financedata.github.com"
   ]
  }
 ],
 "metadata": {
  "celltoolbar": "Slideshow",
  "kernelspec": {
   "display_name": "Python 3",
   "language": "python",
   "name": "python3"
  },
  "language_info": {
   "codemirror_mode": {
    "name": "ipython",
    "version": 3
   },
   "file_extension": ".py",
   "mimetype": "text/x-python",
   "name": "python",
   "nbconvert_exporter": "python",
   "pygments_lexer": "ipython3",
   "version": "3.5.2"
  }
 },
 "nbformat": 4,
 "nbformat_minor": 1
}