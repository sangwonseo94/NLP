{
 "cells": [
  {
   "cell_type": "markdown",
   "metadata": {
    "slideshow": {
     "slide_type": "slide"
    }
   },
   "source": [
    "# 마켓 데이터 분석 01 - 개요\n",
    "\n",
    "<img width=\"320\" src=\"http://i.imgur.com/Y5twMcc.jpg\" >\n",
    "\n",
    "\n",
    "### 2018 FinanceData http://fb.com/financedata"
   ]
  },
  {
   "cell_type": "code",
   "execution_count": 2,
   "metadata": {
    "collapsed": true,
    "slideshow": {
     "slide_type": "skip"
    }
   },
   "outputs": [],
   "source": [
    "%matplotlib inline\n",
    "import matplotlib.pyplot as plt\n",
    "import matplotlib\n",
    "matplotlib.rc('figure', figsize=(16, 4))"
   ]
  },
  {
   "cell_type": "markdown",
   "metadata": {
    "slideshow": {
     "slide_type": "slide"
    }
   },
   "source": [
    "# 증권 분석은 크게 3가지\n",
    "1. <b>기본 분석 Fundamental analysis</b> <br> 기본요인(fundamentals)과 내재가치(intrinsic value)를 분석\n",
    "2. <b>기술 분석 Technical analysis</b> <br> 과거 가격과 거래량의 변화를 기초로 가격의 움직임을 예측\n",
    "3. <b>정서 분석 Sentiment analysis</b> <br> 투자자들의 시장에 대한 욕심이나 두려움을 분석"
   ]
  },
  {
   "cell_type": "markdown",
   "metadata": {
    "slideshow": {
     "slide_type": "slide"
    }
   },
   "source": [
    "# 기본 분석 Fundamental analysis\n",
    "시장가치와 내재가치와 <b>괴리 dispersion</b> 가 생기고, <br> 주가(시장가격)가 내재가치에 <b>수렴 convergence</b> 한다는 전제"
   ]
  },
  {
   "cell_type": "markdown",
   "metadata": {
    "slideshow": {
     "slide_type": "slide"
    }
   },
   "source": [
    "# 시장가치와 내재가치\n",
    "* 재무제표, 주가와 손익, 산업자료 등 수치 자료 - 양적분석\n",
    "* 경기, 산업동향, 노사문제, CEO의 능력 등 - 질적분석\n",
    "* 기술 분석을 위해서도 기본 분석은 중요"
   ]
  },
  {
   "cell_type": "markdown",
   "metadata": {
    "slideshow": {
     "slide_type": "slide"
    }
   },
   "source": [
    "# 재무 3제표 Financial statements\n",
    "\n",
    "<img width=\"80%\" src=\"http://i.imgur.com/F31dBjP.png\">\n",
    "\n",
    "기업의 경제 활동과 상태에 대한 종합 보고서\n",
    "1. 재무상태표 (B/S): 회사의 재산은 뭐고, 빚은 얼마나 있나?\n",
    "1. 포괄손익계산서 (I/S): 올해 얼마 벌었나?\n",
    "1. 현금흐름표: (C/F) 현금은 얼마나 가지고 있나?\n",
    "\n",
    "재무분석을 통해 하고자 하는 것은 결국, <b>기업 가치평가 ( valuation)</b>"
   ]
  },
  {
   "cell_type": "markdown",
   "metadata": {
    "slideshow": {
     "slide_type": "slide"
    }
   },
   "source": [
    "# 비율분석\n",
    "이용자별 관심 사항이 서로 다르지만, 하나의 출발점\n",
    "\n",
    "* 수익성비율 Profitability ratios (사용한 자원으로 부터 얻은 수익)\n",
    " * 총자산수익율(ROA) = 순이익 / 총자산\n",
    " * 자기자본이익율(ROE) = 순이익 / 자본\n",
    "* 영업마진 = 영업이익(EBIT) / 순매출액(net sales)\n",
    "* 주당순이익(EPS) : 기본주당순이익(primary EPS)\n",
    "* 시가총액 / 당기순이익 = PER\n",
    "* 시가총액 / 순자산 = PBR"
   ]
  },
  {
   "cell_type": "markdown",
   "metadata": {
    "slideshow": {
     "slide_type": "slide"
    }
   },
   "source": [
    "# 기본분석의 주요 투자지표\n",
    "\n",
    "* PER : 주가 / 주당순익(EPS)\n",
    "*  EPS : 순이익 / 주식수\n",
    "*  PBR : 주가 / 주당순자산(BPS)\n",
    "*  BPS : 순자산 / 주식수\n",
    "\n",
    "\n",
    "https://marketdata.krx.co.kr/contents/MKD/04/0403/04030800/MKD04030800.jsp [투자지표]\n"
   ]
  },
  {
   "cell_type": "markdown",
   "metadata": {
    "slideshow": {
     "slide_type": "slide"
    }
   },
   "source": [
    "# PER \n",
    "Price Earning Ratio, P/E Ratio, P/E\n",
    "\n",
    "주가수익비율, 주가가 1주당 수익의 몇 배가 되는가를 나타내는 값\n",
    "\n",
    "* PER = 주가 / 주당순익(EPS) = 시가총액 / 당기순이익\n",
    "* 주식가격이 33,000 이고, 1주당 수익(EPS)가 11,000원이라면 PER는 3.0\n",
    "* PER가 높다는 것은 주당이익(EPS)에 비해 주식 가격이 높다는 의미\n",
    "* PER이 낮고 성장이 담보된다면 가격 상승할 가능성 높음\n",
    "* 보통 10배 정도가 준거점. PER가 5배 인데, 시장 평균 PER가 10배라면 50% 저평가 (동일 산업군도 비교)"
   ]
  },
  {
   "cell_type": "markdown",
   "metadata": {
    "slideshow": {
     "slide_type": "slide"
    }
   },
   "source": [
    "# EPS \n",
    "Earning Per Share\n",
    "\n",
    "기업이 벌어들인 순이익(당기순이익)을 발행한 총 주식수로 나눈 값\n",
    "\n",
    "* EPS = 당기순이익 / 주식수\n",
    "* 1주당 이익을 얼마나 창출하였나(회사가 1년간 올린 수익에 대한 주주의 몫)\n",
    "* EPS가 높을수록 주식의 투자 가치는 높음, 경영실적이 양호, 배당 여력\n",
    "* EPS는 당기순이익 규모가 늘면 높아지고, <br> 전환사채의 주식전환이나 증자로 주식수가 많아지면 낮아짐\n",
    "* 최근 주식시장의 패턴이 기업의 수익성을 중시 EPS의 크기가 중요시\n"
   ]
  },
  {
   "cell_type": "markdown",
   "metadata": {
    "slideshow": {
     "slide_type": "slide"
    }
   },
   "source": [
    "# PBR \n",
    "Price Book-value Ratio 주가순자산비율\n",
    "\n",
    "### PBR = 주가 / 주당순자산(BPS)\n",
    "* 주가와 1주당 순자산을 비교한 수치 (보유자산을 기준으로 평가)\n",
    "* 주가가 순자산에 비해 1주당 몇 배로 거래되고 있는지를 측정하는 지표\n",
    "\n",
    "### 순자산 = 총자본(또는 자산) - 부채(혹은 유동부채+고정부채)\n",
    "* 장부상의 가치, 회사 청산 자산의 총 가치(M&A 중요한 평가지표)\n",
    "* PBR은 재무 내용면에서 주가를 판단하는 척도\n",
    "* PBR가 1, 주가와 기업의 1주당 순자산이 동일, 낮을 수록 저평가. \n",
    "* PBR이 1 미만이면 주가가 장부상 순자산가치(청산가치)에도 못미친다는 의미\n",
    "* PER와 함께 많이 쓰임"
   ]
  },
  {
   "cell_type": "markdown",
   "metadata": {
    "slideshow": {
     "slide_type": "slide"
    }
   },
   "source": [
    "# BPS \n",
    "Book-value Per Share\n",
    "\n",
    "주당순자산 기업 평가 지표중의 하나\n",
    "* 순자산 / 주식수\n",
    "* 주식가격이 기업의 순자산 대비 얼마나 가치를 가지고 있나를 표현\n"
   ]
  },
  {
   "cell_type": "markdown",
   "metadata": {
    "slideshow": {
     "slide_type": "slide"
    }
   },
   "source": [
    "# 기본 분석의 한계\n",
    "* 재무제표의 데이터는 시의성이 떨어진다 (년간 4회)\n",
    "* 시장가치와 내재가치와 괴리가 지나치게 오래 지속될 수 있다\n",
    "* 내재가치 평가에 주관적 판단 (검증이 어렵다)\n"
   ]
  },
  {
   "cell_type": "markdown",
   "metadata": {
    "slideshow": {
     "slide_type": "slide"
    }
   },
   "source": [
    "# 기술 분석 Technical analysis\n",
    "* 과거 데이터를 근거로, 추세 예측.\n",
    "* 차트를 들여다 보고 있다면, 기술 분석을 하고 있다고 보면 된다."
   ]
  },
  {
   "cell_type": "markdown",
   "metadata": {
    "slideshow": {
     "slide_type": "slide"
    }
   },
   "source": [
    "# 기술 분석의 가정\n",
    "\n",
    "* 가격에는 모든 정보가 반영되어 있다.\n",
    "* 가격은 일정한 추세로 움직인다.\n",
    "* 가격의 움직임은 반복된다."
   ]
  },
  {
   "cell_type": "markdown",
   "metadata": {
    "slideshow": {
     "slide_type": "slide"
    }
   },
   "source": [
    "# 기술 분석 비판(한계)\n",
    "* 예측 가능성에 대해서는 논란 (그럼에도 불구하고 \"추세\"를 파악하는 도구로 사용)\n",
    "* 수치와 차트를 사용하기 때문에 객관적인 것 처럼 보이지만 해석이 주관적.\n",
    "* 한계와 단점을 이해 할 필요\n"
   ]
  },
  {
   "cell_type": "markdown",
   "metadata": {
    "slideshow": {
     "slide_type": "slide"
    }
   },
   "source": [
    "# 정서 분석 \n",
    "Sentiment analysis, Opinion mining\n",
    "\n",
    "* (자연어 처리, 텍스트 분석 등을 통해) 주관적인 정보를 추출\n",
    "* 대상에 대한 (긍정적/부정적) 표현을 분석하여 의사결정에 활용\n",
    "* 투자자들의 두려움이나 욕심을 수치화 활용"
   ]
  },
  {
   "cell_type": "markdown",
   "metadata": {
    "slideshow": {
     "slide_type": "slide"
    }
   },
   "source": [
    "# 정서 분석 관련 연구\n",
    "\n",
    "* 텍스트 마이닝\n",
    "*  뉴스 텍스트 마이닝\n",
    "*  어휘 트렌드 분석\n",
    "*  소셜 정서 분석"
   ]
  },
  {
   "cell_type": "markdown",
   "metadata": {},
   "source": [
    "----\n",
    "### 2018 FinanceData http://fb.com/financedata http://financedata.github.com"
   ]
  }
 ],
 "metadata": {
  "celltoolbar": "Slideshow",
  "kernelspec": {
   "display_name": "Python 3",
   "language": "python",
   "name": "python3"
  },
  "language_info": {
   "codemirror_mode": {
    "name": "ipython",
    "version": 3
   },
   "file_extension": ".py",
   "mimetype": "text/x-python",
   "name": "python",
   "nbconvert_exporter": "python",
   "pygments_lexer": "ipython3",
   "version": "3.5.2"
  }
 },
 "nbformat": 4,
 "nbformat_minor": 1
}