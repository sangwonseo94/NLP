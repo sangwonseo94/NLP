{
  "nbformat": 4,
  "nbformat_minor": 0,
  "metadata": {
    "colab": {
      "name": "Numpy for Finance 01 - Numpy 기본.ipynb",
      "version": "0.3.2",
      "provenance": [],
      "collapsed_sections": []
    },
    "kernelspec": {
      "display_name": "Python 3",
      "language": "python",
      "name": "python3"
    }
  },
  "cells": [
    {
      "metadata": {
        "slideshow": {
          "slide_type": "slide"
        },
        "id": "WmRG7w47Ue6y",
        "colab_type": "text"
      },
      "cell_type": "markdown",
      "source": [
        "# Numpy for Finance 01 - Numpy 기본\n",
        "\n",
        "<img width=\"320\" src=\"http://i.imgur.com/1Z9bz5V.jpg\">\n",
        "\n",
        "### 2018-2019 [FinanceData.KR](http://fb.com/financedata)"
      ]
    },
    {
      "metadata": {
        "slideshow": {
          "slide_type": "skip"
        },
        "id": "8slJ_za1Ue6z",
        "colab_type": "code",
        "colab": {}
      },
      "cell_type": "code",
      "source": [
        "%matplotlib inline\n",
        "import matplotlib.pyplot as plt\n",
        "\n",
        "plt.rcParams[\"figure.figsize\"] = (14,4)\n",
        "plt.rcParams[\"axes.grid\"] = True"
      ],
      "execution_count": 0,
      "outputs": []
    },
    {
      "metadata": {
        "slideshow": {
          "slide_type": "slide"
        },
        "id": "u0Wt654wUe63",
        "colab_type": "text"
      },
      "cell_type": "markdown",
      "source": [
        "# NumPy\n",
        "* **Num**erical **Py**thon, \"넘피\"라고 읽는다.\n",
        "* https://numpy.org (홈페이지)\n",
        "* https://docs.scipy.org/doc/numpy (공식 레퍼런스)\n",
        "* 많은 scientific library 들이 NumPy 기반\n",
        " * Pandas, Scipy, matplotlib, scikit-learn, statsmodels\n",
        " * TensorFlow: NumPy ndarray 확장 + 자동미분 + GPU 지원"
      ]
    },
    {
      "metadata": {
        "slideshow": {
          "slide_type": "slide"
        },
        "id": "moQUL4ZUUe64",
        "colab_type": "text"
      },
      "cell_type": "markdown",
      "source": [
        "# NumPy 특징\n",
        "수치 데이터를 다루는데 효율적이고 높은 성능을 제공 한다.\n",
        "* 대규모 데이터를 빠르게\n",
        "* 스칼라 연산과 비슷하게 연산을 수행\n",
        "* Linear algebra, Fourier transform, Random 기능들\n",
        "* 배열을 요소별로 조작하지 않고도 원소별 연산이 가능 - 브로드캐스팅(broadcasting)"
      ]
    },
    {
      "metadata": {
        "slideshow": {
          "slide_type": "slide"
        },
        "id": "kIvXmFdaUe65",
        "colab_type": "text"
      },
      "cell_type": "markdown",
      "source": [
        "# Note:\n",
        "* 향후 금융 데이터를 다룰 때, NumPy보다 pandas를 훨씬 더 많이 사용\n",
        "* NumPy에 대한 이해가 있으면 pandas를 이해하는데 더 도움<br> (pandas가 NumPy기반으로 되어 있기 때문)\n",
        "* 파이썬 머신러닝을 하게 된다면 NumPy에 대한 매우 중요한 역할 \n",
        "* 다차원 배열 생성이 가능하지만, 주로 2차원 사용"
      ]
    },
    {
      "metadata": {
        "slideshow": {
          "slide_type": "slide"
        },
        "id": "C23uIWagUe66",
        "colab_type": "text"
      },
      "cell_type": "markdown",
      "source": [
        "# ndarray\n",
        "* NumPy의 핵심\n",
        "* ndarray: n-dimensional array object, 다차원 배열 객체\n",
        "* 모든 요소가 동일한 datatype (기본은 float64)\n",
        "* 다차원 데이터도 연속 할당: 높은 성능의 비밀 (파이썬 리스트는 비연속)"
      ]
    },
    {
      "metadata": {
        "slideshow": {
          "slide_type": "slide"
        },
        "id": "NeTpE6FMUe67",
        "colab_type": "text"
      },
      "cell_type": "markdown",
      "source": [
        "# 설치\n",
        "\n",
        "#### 설치\n",
        "```bash\n",
        "$ pip install numpy \n",
        "```\n",
        "\n",
        "#### 설치 확인\n",
        "```python\n",
        "import numpy as np\n",
        "np.__version__\n",
        "```"
      ]
    },
    {
      "metadata": {
        "slideshow": {
          "slide_type": "slide"
        },
        "id": "BkEGBGxuUe68",
        "colab_type": "text"
      },
      "cell_type": "markdown",
      "source": [
        "# NumPy 성능\n",
        "* NumPy와 Pandas를 사용하면, 반복문을 거의 사용하지 않고도 데이터 처리\n",
        "* 코드가 줄어들 뿐만 아니라, 성능도 최대 수 백배까지 빠르다"
      ]
    },
    {
      "metadata": {
        "slideshow": {
          "slide_type": "-"
        },
        "id": "QHh86FxaUe69",
        "colab_type": "code",
        "colab": {
          "base_uri": "https://localhost:8080/",
          "height": 87
        },
        "outputId": "83fbe5fc-4956-4a91-f6e1-29133e462b04"
      },
      "cell_type": "code",
      "source": [
        "import numpy as np\n",
        "\n",
        "ls = range(1000)\n",
        "%timeit [i**2 for i in ls]\n",
        "\n",
        "a = np.arange(1000)\n",
        "%timeit a**2\n",
        "\n",
        "# 200배"
      ],
      "execution_count": 2,
      "outputs": [
        {
          "output_type": "stream",
          "text": [
            "1000 loops, best of 3: 287 µs per loop\n",
            "The slowest run took 34.03 times longer than the fastest. This could mean that an intermediate result is being cached.\n",
            "1000000 loops, best of 3: 1.42 µs per loop\n"
          ],
          "name": "stdout"
        }
      ]
    },
    {
      "metadata": {
        "slideshow": {
          "slide_type": "slide"
        },
        "id": "4A5YTlixUe7C",
        "colab_type": "text"
      },
      "cell_type": "markdown",
      "source": [
        "# 임포트"
      ]
    },
    {
      "metadata": {
        "slideshow": {
          "slide_type": "-"
        },
        "id": "WeTa6bL6Ue7D",
        "colab_type": "code",
        "colab": {}
      },
      "cell_type": "code",
      "source": [
        "import numpy as np"
      ],
      "execution_count": 0,
      "outputs": []
    },
    {
      "metadata": {
        "slideshow": {
          "slide_type": "slide"
        },
        "id": "JBYSrDQBUe7G",
        "colab_type": "text"
      },
      "cell_type": "markdown",
      "source": [
        "# 생성 방법\n",
        "\n",
        "* np.array() # 리스트, 튜플, 배열로 부터 ndarray를 생성\n",
        "* np.asarray() # 기존의 array로 부터 ndarray를 생성\n",
        "* np.arange() # range와 비슷\n",
        "* np.linspace(start, end, num) # [start, end] 균일한 간격으로 num개 생성\n",
        "* np.logspace(start, end, num) # [start, end] log scale 간격으로 num개 생성\n"
      ]
    },
    {
      "metadata": {
        "slideshow": {
          "slide_type": "slide"
        },
        "id": "BM3BYHvFUe7G",
        "colab_type": "text"
      },
      "cell_type": "markdown",
      "source": [
        "# np.array()\n",
        "* np.array()  # 리스트, 튜플, 배열로 부터 ndarray를 생성\n",
        "* 항상 0부터 시작한다는 점을 기억 \n",
        "* 행,열: n-th row, n-th column"
      ]
    },
    {
      "metadata": {
        "slideshow": {
          "slide_type": "slide"
        },
        "id": "_C88wGRpUe7H",
        "colab_type": "code",
        "colab": {
          "base_uri": "https://localhost:8080/",
          "height": 67
        },
        "outputId": "4a1ff65b-672f-4857-a3d9-2e6409d1cbf8"
      },
      "cell_type": "code",
      "source": [
        "# 튜플로 부터 1차원 배열 생성\n",
        "ar = np.array((10, 20, 30)) \n",
        "\n",
        "print (ar[0], ar[2])\n",
        "print (ar.ndim)\n",
        "print (ar.shape)"
      ],
      "execution_count": 4,
      "outputs": [
        {
          "output_type": "stream",
          "text": [
            "10 30\n",
            "1\n",
            "(3,)\n"
          ],
          "name": "stdout"
        }
      ]
    },
    {
      "metadata": {
        "slideshow": {
          "slide_type": "slide"
        },
        "id": "n3grGDfxUe7L",
        "colab_type": "code",
        "colab": {
          "base_uri": "https://localhost:8080/",
          "height": 50
        },
        "outputId": "162d06a5-d488-4a05-ee58-fccd8a5e7a4c"
      },
      "cell_type": "code",
      "source": [
        "#  배열로 부터 2차원 배열 생성\n",
        "ar = np.array([[10, 20, 30], [ 60, 70, 80]]) \n",
        "\n",
        "print (ar.ndim)\n",
        "print (ar.shape)"
      ],
      "execution_count": 5,
      "outputs": [
        {
          "output_type": "stream",
          "text": [
            "2\n",
            "(2, 3)\n"
          ],
          "name": "stdout"
        }
      ]
    },
    {
      "metadata": {
        "slideshow": {
          "slide_type": "slide"
        },
        "id": "cS3QS5PUUe7O",
        "colab_type": "text"
      },
      "cell_type": "markdown",
      "source": [
        "# 생성과 초기화\n",
        "* np.zeros() # ndarray를 생성하고 0으로 초기화\n",
        "* np.empty() # ndarray을 생성하지만 초기화 하지 않는다."
      ]
    },
    {
      "metadata": {
        "slideshow": {
          "slide_type": "-"
        },
        "id": "oz_jz-MoUe7P",
        "colab_type": "code",
        "colab": {
          "base_uri": "https://localhost:8080/",
          "height": 252
        },
        "outputId": "a6e60543-02db-49dc-b02c-32a7d603d50c"
      },
      "cell_type": "code",
      "source": [
        "ar = np.zeros((2,3))\n",
        "print(ar)\n",
        "print ('~' * 40)\n",
        "\n",
        "ar = np.ones((2,3))\n",
        "print(ar)\n",
        "print ('~' * 40)\n",
        "\n",
        "ar = np.full((2,3), 5)\n",
        "print(ar)\n",
        "print ('~' * 40)\n",
        "\n",
        "ar = np.eye(2)\n",
        "print(ar)\n",
        "print ('~' * 40)\n",
        "\n",
        "ar = np.random.random((2,3))\n",
        "print(ar)"
      ],
      "execution_count": 6,
      "outputs": [
        {
          "output_type": "stream",
          "text": [
            "[[0. 0. 0.]\n",
            " [0. 0. 0.]]\n",
            "~~~~~~~~~~~~~~~~~~~~~~~~~~~~~~~~~~~~~~~~\n",
            "[[1. 1. 1.]\n",
            " [1. 1. 1.]]\n",
            "~~~~~~~~~~~~~~~~~~~~~~~~~~~~~~~~~~~~~~~~\n",
            "[[5 5 5]\n",
            " [5 5 5]]\n",
            "~~~~~~~~~~~~~~~~~~~~~~~~~~~~~~~~~~~~~~~~\n",
            "[[1. 0.]\n",
            " [0. 1.]]\n",
            "~~~~~~~~~~~~~~~~~~~~~~~~~~~~~~~~~~~~~~~~\n",
            "[[0.25892836 0.99093305 0.38128078]\n",
            " [0.64884465 0.14399895 0.97983988]]\n"
          ],
          "name": "stdout"
        }
      ]
    },
    {
      "metadata": {
        "slideshow": {
          "slide_type": "slide"
        },
        "id": "6Nfp2D80Ue7S",
        "colab_type": "text"
      },
      "cell_type": "markdown",
      "source": [
        "# np.arange()\n",
        "\n",
        "numpy.arange(start, stop, step, dtype)\n",
        "\n",
        "* ar = np.arange(10) # 0 .. n-1\n",
        "* ar = np.arange(1, 9, 2) # [start], (end), step\n"
      ]
    },
    {
      "metadata": {
        "slideshow": {
          "slide_type": "-"
        },
        "id": "h-SzZiaNUe7T",
        "colab_type": "code",
        "colab": {
          "base_uri": "https://localhost:8080/",
          "height": 202
        },
        "outputId": "0adef5a1-bde8-41b9-c226-68daa8be4118"
      },
      "cell_type": "code",
      "source": [
        "ar = np.arange(10) # 0 .. n-1\n",
        "print (ar)\n",
        "print ('~' * 40)\n",
        "\n",
        "ar = np.arange(1, 9, 2) # [start], (end), step\n",
        "print (ar)\n",
        "print ('~' * 40)\n",
        "\n",
        "ar = np.linspace(0, 10, 20)   # [start], [end], num\n",
        "print (ar)\n",
        "print ('~' * 40)\n",
        "\n",
        "ar = np.linspace(0, 10, 20, endpoint=False)   # [start], (end), num\n",
        "print (ar)"
      ],
      "execution_count": 7,
      "outputs": [
        {
          "output_type": "stream",
          "text": [
            "[0 1 2 3 4 5 6 7 8 9]\n",
            "~~~~~~~~~~~~~~~~~~~~~~~~~~~~~~~~~~~~~~~~\n",
            "[1 3 5 7]\n",
            "~~~~~~~~~~~~~~~~~~~~~~~~~~~~~~~~~~~~~~~~\n",
            "[ 0.          0.52631579  1.05263158  1.57894737  2.10526316  2.63157895\n",
            "  3.15789474  3.68421053  4.21052632  4.73684211  5.26315789  5.78947368\n",
            "  6.31578947  6.84210526  7.36842105  7.89473684  8.42105263  8.94736842\n",
            "  9.47368421 10.        ]\n",
            "~~~~~~~~~~~~~~~~~~~~~~~~~~~~~~~~~~~~~~~~\n",
            "[0.  0.5 1.  1.5 2.  2.5 3.  3.5 4.  4.5 5.  5.5 6.  6.5 7.  7.5 8.  8.5\n",
            " 9.  9.5]\n"
          ],
          "name": "stdout"
        }
      ]
    },
    {
      "metadata": {
        "slideshow": {
          "slide_type": "slide"
        },
        "id": "9QHmsNkTUe7a",
        "colab_type": "text"
      },
      "cell_type": "markdown",
      "source": [
        "# np.linspace()\n",
        "\n",
        "```python\n",
        "np.linspace(start, end, num)  # [start, end] 균일한 간격으로 num개 생성\n",
        "```"
      ]
    },
    {
      "metadata": {
        "slideshow": {
          "slide_type": "-"
        },
        "id": "tlDyBf52Ue7c",
        "colab_type": "code",
        "colab": {
          "base_uri": "https://localhost:8080/",
          "height": 118
        },
        "outputId": "0c7ca0b4-3db6-4d78-d686-c9991a1e3132"
      },
      "cell_type": "code",
      "source": [
        "ar = np.linspace(0, 20, 30)\n",
        "ar"
      ],
      "execution_count": 8,
      "outputs": [
        {
          "output_type": "execute_result",
          "data": {
            "text/plain": [
              "array([ 0.        ,  0.68965517,  1.37931034,  2.06896552,  2.75862069,\n",
              "        3.44827586,  4.13793103,  4.82758621,  5.51724138,  6.20689655,\n",
              "        6.89655172,  7.5862069 ,  8.27586207,  8.96551724,  9.65517241,\n",
              "       10.34482759, 11.03448276, 11.72413793, 12.4137931 , 13.10344828,\n",
              "       13.79310345, 14.48275862, 15.17241379, 15.86206897, 16.55172414,\n",
              "       17.24137931, 17.93103448, 18.62068966, 19.31034483, 20.        ])"
            ]
          },
          "metadata": {
            "tags": []
          },
          "execution_count": 8
        }
      ]
    },
    {
      "metadata": {
        "slideshow": {
          "slide_type": "slide"
        },
        "id": "--tV8UWMUe7h",
        "colab_type": "text"
      },
      "cell_type": "markdown",
      "source": [
        "# np.logspace()\n",
        "\n",
        "```python\n",
        "np.linspace(start, end, num, base)  # [start, end] 로그 스케일 간격으로 num개 생성\n",
        "```"
      ]
    },
    {
      "metadata": {
        "slideshow": {
          "slide_type": "-"
        },
        "id": "jfv2QTSoUe7i",
        "colab_type": "code",
        "colab": {
          "base_uri": "https://localhost:8080/",
          "height": 151
        },
        "outputId": "3db47325-a306-474e-f68f-46d9c3e28f69"
      },
      "cell_type": "code",
      "source": [
        "ar = np.logspace(0, 20, 30)\n",
        "ar"
      ],
      "execution_count": 9,
      "outputs": [
        {
          "output_type": "execute_result",
          "data": {
            "text/plain": [
              "array([1.00000000e+00, 4.89390092e+00, 2.39502662e+01, 1.17210230e+02,\n",
              "       5.73615251e+02, 2.80721620e+03, 1.37382380e+04, 6.72335754e+04,\n",
              "       3.29034456e+05, 1.61026203e+06, 7.88046282e+06, 3.85662042e+07,\n",
              "       1.88739182e+08, 9.23670857e+08, 4.52035366e+09, 2.21221629e+10,\n",
              "       1.08263673e+11, 5.29831691e+11, 2.59294380e+12, 1.26896100e+13,\n",
              "       6.21016942e+13, 3.03919538e+14, 1.48735211e+15, 7.27895384e+15,\n",
              "       3.56224789e+16, 1.74332882e+17, 8.53167852e+17, 4.17531894e+18,\n",
              "       2.04335972e+19, 1.00000000e+20])"
            ]
          },
          "metadata": {
            "tags": []
          },
          "execution_count": 9
        }
      ]
    },
    {
      "metadata": {
        "slideshow": {
          "slide_type": "-"
        },
        "id": "Krj-QR2iUe7n",
        "colab_type": "code",
        "colab": {
          "base_uri": "https://localhost:8080/",
          "height": 67
        },
        "outputId": "7f1f23f8-6ac2-4fa9-b4e5-224e9fde7a56"
      },
      "cell_type": "code",
      "source": [
        "ar = np.logspace(0, 20, 20, base=2, dtype=int)\n",
        "ar"
      ],
      "execution_count": 10,
      "outputs": [
        {
          "output_type": "execute_result",
          "data": {
            "text/plain": [
              "array([      1,       2,       4,       8,      18,      38,      79,\n",
              "           165,     342,     710,    1474,    3059,    6345,   13163,\n",
              "         27304,   56637,  117484,  243698,  505505, 1048576])"
            ]
          },
          "metadata": {
            "tags": []
          },
          "execution_count": 10
        }
      ]
    },
    {
      "metadata": {
        "slideshow": {
          "slide_type": "slide"
        },
        "id": "xETkPf-KUe7t",
        "colab_type": "text"
      },
      "cell_type": "markdown",
      "source": [
        "# 간단한 차트"
      ]
    },
    {
      "metadata": {
        "slideshow": {
          "slide_type": "-"
        },
        "id": "IVDCukDOUe7v",
        "colab_type": "code",
        "colab": {
          "base_uri": "https://localhost:8080/",
          "height": 282
        },
        "outputId": "bdf76725-c2c8-4034-a6d3-6bcbe7bfd4e1"
      },
      "cell_type": "code",
      "source": [
        "%matplotlib inline\n",
        "import matplotlib.pyplot as plt\n",
        "\n",
        "x = np.linspace(0, 20, 30)   # start, end, num\n",
        "y = np.logspace(0, 20, 30, base=2)\n",
        "\n",
        "plt.plot(x, y, '-')\n",
        "plt.plot(x, y, 'o')"
      ],
      "execution_count": 11,
      "outputs": [
        {
          "output_type": "execute_result",
          "data": {
            "text/plain": [
              "[<matplotlib.lines.Line2D at 0x7ff30ca1b390>]"
            ]
          },
          "metadata": {
            "tags": []
          },
          "execution_count": 11
        },
        {
          "output_type": "display_data",
          "data": {
            "image/png": "[encoded data removed]",
            "text/plain": [
              "<Figure size 432x288 with 1 Axes>"
            ]
          },
          "metadata": {
            "tags": []
          }
        }
      ]
    },
    {
      "metadata": {
        "slideshow": {
          "slide_type": "slide"
        },
        "id": "L8Qu3LQTUe7y",
        "colab_type": "text"
      },
      "cell_type": "markdown",
      "source": [
        "# ar.reshape()"
      ]
    },
    {
      "metadata": {
        "slideshow": {
          "slide_type": "-"
        },
        "id": "9evKRlODUe7z",
        "colab_type": "code",
        "colab": {
          "base_uri": "https://localhost:8080/",
          "height": 34
        },
        "outputId": "19bd5d83-4620-459c-b516-3cb1a13b4a9a"
      },
      "cell_type": "code",
      "source": [
        "np.arange(1, 10)"
      ],
      "execution_count": 12,
      "outputs": [
        {
          "output_type": "execute_result",
          "data": {
            "text/plain": [
              "array([1, 2, 3, 4, 5, 6, 7, 8, 9])"
            ]
          },
          "metadata": {
            "tags": []
          },
          "execution_count": 12
        }
      ]
    },
    {
      "metadata": {
        "slideshow": {
          "slide_type": "-"
        },
        "id": "LogID6SDUe72",
        "colab_type": "code",
        "colab": {
          "base_uri": "https://localhost:8080/",
          "height": 67
        },
        "outputId": "fe2195b3-0f51-408f-96da-5ef7d5d68767"
      },
      "cell_type": "code",
      "source": [
        "ar = np.arange(1, 10).reshape((3,3))\n",
        "ar"
      ],
      "execution_count": 13,
      "outputs": [
        {
          "output_type": "execute_result",
          "data": {
            "text/plain": [
              "array([[1, 2, 3],\n",
              "       [4, 5, 6],\n",
              "       [7, 8, 9]])"
            ]
          },
          "metadata": {
            "tags": []
          },
          "execution_count": 13
        }
      ]
    },
    {
      "metadata": {
        "slideshow": {
          "slide_type": "slide"
        },
        "id": "Eje9vckTUe76",
        "colab_type": "text"
      },
      "cell_type": "markdown",
      "source": [
        "# 데이터 타입\n",
        "* ndarray을 생성하면서 데이터 타입을 지정할 수 있다.\n",
        "* 주로 np.int (np.int64), np.float (np.float64) 사용"
      ]
    },
    {
      "metadata": {
        "slideshow": {
          "slide_type": "-"
        },
        "id": "-lDKhycaUe77",
        "colab_type": "code",
        "colab": {
          "base_uri": "https://localhost:8080/",
          "height": 34
        },
        "outputId": "19e6dae9-0d1a-44e1-c8ed-74daa5212ab9"
      },
      "cell_type": "code",
      "source": [
        "ar = np.array([10, 20, 30, 40])\n",
        "ar.dtype #dtype('int64')"
      ],
      "execution_count": 14,
      "outputs": [
        {
          "output_type": "execute_result",
          "data": {
            "text/plain": [
              "dtype('int64')"
            ]
          },
          "metadata": {
            "tags": []
          },
          "execution_count": 14
        }
      ]
    },
    {
      "metadata": {
        "slideshow": {
          "slide_type": "slide"
        },
        "id": "i3IBAsV_Ue7_",
        "colab_type": "code",
        "colab": {
          "base_uri": "https://localhost:8080/",
          "height": 34
        },
        "outputId": "e41ce974-c96b-4cc9-b926-bd6120b187ea"
      },
      "cell_type": "code",
      "source": [
        "ar = np.array([10, 20, 30., 40.]) #30., 40. float\n",
        "ar.dtype #dtype('float64')"
      ],
      "execution_count": 15,
      "outputs": [
        {
          "output_type": "execute_result",
          "data": {
            "text/plain": [
              "dtype('float64')"
            ]
          },
          "metadata": {
            "tags": []
          },
          "execution_count": 15
        }
      ]
    },
    {
      "metadata": {
        "slideshow": {
          "slide_type": "-"
        },
        "id": "Jdj16xH2Ue8C",
        "colab_type": "code",
        "colab": {
          "base_uri": "https://localhost:8080/",
          "height": 34
        },
        "outputId": "95dee716-5a4e-419b-aa3a-e5e1091d7fd3"
      },
      "cell_type": "code",
      "source": [
        "ar = np.array([10, 20, 30., 40.], dtype='int')\n",
        "ar.dtype #dtype('float64')"
      ],
      "execution_count": 16,
      "outputs": [
        {
          "output_type": "execute_result",
          "data": {
            "text/plain": [
              "dtype('int64')"
            ]
          },
          "metadata": {
            "tags": []
          },
          "execution_count": 16
        }
      ]
    },
    {
      "metadata": {
        "slideshow": {
          "slide_type": "slide"
        },
        "id": "hmdLvDjhUe8K",
        "colab_type": "text"
      },
      "cell_type": "markdown",
      "source": [
        "# 데이터 타입 바꾸기\n",
        "ndarray.astype()로 타입을 변경할 수 있다\n",
        "* 데이터가 새로 복사 된다.\n",
        "* str 과 float, int 사이에 변환도 가능"
      ]
    },
    {
      "metadata": {
        "slideshow": {
          "slide_type": "-"
        },
        "id": "I6o48KuYUe8L",
        "colab_type": "code",
        "colab": {
          "base_uri": "https://localhost:8080/",
          "height": 67
        },
        "outputId": "4dd27f13-942c-459e-ad05-bbb11a059297"
      },
      "cell_type": "code",
      "source": [
        "ar = np.array([10, 20, 30, 40])\n",
        "print(ar.dtype, ar)\n",
        "\n",
        "af = np.ndarray.astype(ar, np.float)\n",
        "print(af.dtype, af)\n",
        "\n",
        "astr = np.ndarray.astype(af, np.str)\n",
        "print(astr.dtype, astr)"
      ],
      "execution_count": 17,
      "outputs": [
        {
          "output_type": "stream",
          "text": [
            "int64 [10 20 30 40]\n",
            "float64 [10. 20. 30. 40.]\n",
            "<U32 ['10.0' '20.0' '30.0' '40.0']\n"
          ],
          "name": "stdout"
        }
      ]
    },
    {
      "metadata": {
        "id": "j6-P2M7hUw1j",
        "colab_type": "text"
      },
      "cell_type": "markdown",
      "source": [
        "# 행(row), 열(column) 추가"
      ]
    },
    {
      "metadata": {
        "id": "W-zs_WsTUm01",
        "colab_type": "code",
        "colab": {}
      },
      "cell_type": "code",
      "source": [
        "import numpy as np\n",
        "\n",
        "values = [\n",
        "    [10, 20, 30], \n",
        "    [60, 70, 80], \n",
        "    [90, 91, 92]\n",
        "]\n",
        "\n",
        "ar = np.array(values)"
      ],
      "execution_count": 0,
      "outputs": []
    },
    {
      "metadata": {
        "id": "GH5FxORMU8xu",
        "colab_type": "code",
        "colab": {
          "base_uri": "https://localhost:8080/",
          "height": 84
        },
        "outputId": "1aab0c68-beec-483a-b03a-7d488fe472a6"
      },
      "cell_type": "code",
      "source": [
        "v = [[0, 1, 2]]\n",
        "\n",
        "np.append(ar, v, axis=0)"
      ],
      "execution_count": 19,
      "outputs": [
        {
          "output_type": "execute_result",
          "data": {
            "text/plain": [
              "array([[10, 20, 30],\n",
              "       [60, 70, 80],\n",
              "       [90, 91, 92],\n",
              "       [ 0,  1,  2]])"
            ]
          },
          "metadata": {
            "tags": []
          },
          "execution_count": 19
        }
      ]
    },
    {
      "metadata": {
        "id": "VQhPXkKQU8rz",
        "colab_type": "code",
        "colab": {
          "base_uri": "https://localhost:8080/",
          "height": 67
        },
        "outputId": "a78f9d62-c91b-44f9-aae1-1d21a73dc753"
      },
      "cell_type": "code",
      "source": [
        "v = [[0], [1], [2]] # column vector\n",
        "\n",
        "np.append(ar, v, axis=1)"
      ],
      "execution_count": 20,
      "outputs": [
        {
          "output_type": "execute_result",
          "data": {
            "text/plain": [
              "array([[10, 20, 30,  0],\n",
              "       [60, 70, 80,  1],\n",
              "       [90, 91, 92,  2]])"
            ]
          },
          "metadata": {
            "tags": []
          },
          "execution_count": 20
        }
      ]
    },
    {
      "metadata": {
        "slideshow": {
          "slide_type": "slide"
        },
        "id": "seAC0xMkUe8O",
        "colab_type": "text"
      },
      "cell_type": "markdown",
      "source": [
        "# 입출력 - savetxt, loadtxt \n",
        "\n",
        "numpy.savetxt, numpy.loadtxt\n",
        "* https://docs.scipy.org/doc/numpy/reference/generated/numpy.loadtxt.html\n",
        "* https://docs.scipy.org/doc/numpy/reference/generated/numpy.savetxt.html"
      ]
    },
    {
      "metadata": {
        "slideshow": {
          "slide_type": "-"
        },
        "id": "O_BM3rYPUe8Q",
        "colab_type": "code",
        "colab": {}
      },
      "cell_type": "code",
      "source": [
        "import numpy as np"
      ],
      "execution_count": 0,
      "outputs": []
    },
    {
      "metadata": {
        "slideshow": {
          "slide_type": "-"
        },
        "id": "hXBDDE2HUe8U",
        "colab_type": "code",
        "colab": {
          "base_uri": "https://localhost:8080/",
          "height": 67
        },
        "outputId": "15b5f8ce-8350-4f0e-d6e4-70d651a6f3c0"
      },
      "cell_type": "code",
      "source": [
        "ar = np.arange(1, 10) # 1..9\n",
        "ar = ar.reshape((3,3))\n",
        "ar"
      ],
      "execution_count": 22,
      "outputs": [
        {
          "output_type": "execute_result",
          "data": {
            "text/plain": [
              "array([[1, 2, 3],\n",
              "       [4, 5, 6],\n",
              "       [7, 8, 9]])"
            ]
          },
          "metadata": {
            "tags": []
          },
          "execution_count": 22
        }
      ]
    },
    {
      "metadata": {
        "slideshow": {
          "slide_type": "-"
        },
        "id": "6REcpJzjUe8Y",
        "colab_type": "code",
        "colab": {}
      },
      "cell_type": "code",
      "source": [
        "np.savetxt(\"a.data\", ar)"
      ],
      "execution_count": 0,
      "outputs": []
    },
    {
      "metadata": {
        "slideshow": {
          "slide_type": "-"
        },
        "id": "Ouvm0IWnUe8Z",
        "colab_type": "code",
        "colab": {
          "base_uri": "https://localhost:8080/",
          "height": 67
        },
        "outputId": "cbd58bdf-2c80-4b18-8eff-5fc473db80a1"
      },
      "cell_type": "code",
      "source": [
        "# 윈도우에서는 cat 대신 type 명령사용\n",
        "! cat a.data"
      ],
      "execution_count": 24,
      "outputs": [
        {
          "output_type": "stream",
          "text": [
            "1.000000000000000000e+00 2.000000000000000000e+00 3.000000000000000000e+00\n",
            "4.000000000000000000e+00 5.000000000000000000e+00 6.000000000000000000e+00\n",
            "7.000000000000000000e+00 8.000000000000000000e+00 9.000000000000000000e+00\n"
          ],
          "name": "stdout"
        }
      ]
    },
    {
      "metadata": {
        "slideshow": {
          "slide_type": "slide"
        },
        "id": "dWum8db6Ue8c",
        "colab_type": "code",
        "colab": {}
      },
      "cell_type": "code",
      "source": [
        "# np.savetxt\n",
        "\n",
        "# fmt: 형식을 지정 (주로 소수점 이하 자리수를 지정하는 용도로 사용)\n",
        "# delimiter로 주로 컴마(,)를 사용 (CSV 형식)\n",
        "\n",
        "np.savetxt(\"a.csv\", ar, fmt='%.2f', delimiter=',', header='sample data', footer='', comments='# ')"
      ],
      "execution_count": 0,
      "outputs": []
    },
    {
      "metadata": {
        "slideshow": {
          "slide_type": "-"
        },
        "id": "iDN2bP3SUe8e",
        "colab_type": "code",
        "colab": {
          "base_uri": "https://localhost:8080/",
          "height": 84
        },
        "outputId": "8bc33381-da11-401b-be13-9ceb889ea94a"
      },
      "cell_type": "code",
      "source": [
        "! cat a.data"
      ],
      "execution_count": 29,
      "outputs": [
        {
          "output_type": "stream",
          "text": [
            "# sample data\n",
            "1.00,2.00,3.00\n",
            "4.00,5.00,6.00\n",
            "7.00,8.00,9.00\n"
          ],
          "name": "stdout"
        }
      ]
    },
    {
      "metadata": {
        "slideshow": {
          "slide_type": "slide"
        },
        "id": "8POAH3sKUe8g",
        "colab_type": "code",
        "colab": {
          "base_uri": "https://localhost:8080/",
          "height": 67
        },
        "outputId": "f61d32f7-04a8-4d2c-f92f-32a9aa74ee60"
      },
      "cell_type": "code",
      "source": [
        "# np.loadtxt()\n",
        "# delimiter로 주로 컴마(,)를 사용 (CSV 형식)\n",
        "\n",
        "ar = np.loadtxt(\"a.csv\", delimiter=',')\n",
        "ar"
      ],
      "execution_count": 30,
      "outputs": [
        {
          "output_type": "execute_result",
          "data": {
            "text/plain": [
              "array([[1., 2., 3.],\n",
              "       [4., 5., 6.],\n",
              "       [7., 8., 9.]])"
            ]
          },
          "metadata": {
            "tags": []
          },
          "execution_count": 30
        }
      ]
    },
    {
      "metadata": {
        "collapsed": true,
        "slideshow": {
          "slide_type": "slide"
        },
        "id": "BzDYNlmDUe8l",
        "colab_type": "text"
      },
      "cell_type": "markdown",
      "source": [
        "# 리뷰\n",
        "* ndarray - numpy의 핵심\n",
        "* 생성: np.array(), np.asarray(), np.arange(), np.linspace(), np.logspace()\n",
        "* ar.reshape()\n",
        "* 데이터 타입과 ar.astype()\n",
        "* 입출력 - savetxt, loadtxt "
      ]
    },
    {
      "metadata": {
        "slideshow": {
          "slide_type": "notes"
        },
        "id": "cES8p-xLUe8m",
        "colab_type": "text"
      },
      "cell_type": "markdown",
      "source": [
        "----\n",
        "### 2018-2019 [FinanceData.KR](http://fb.com/financedata)"
      ]
    }
  ]
}