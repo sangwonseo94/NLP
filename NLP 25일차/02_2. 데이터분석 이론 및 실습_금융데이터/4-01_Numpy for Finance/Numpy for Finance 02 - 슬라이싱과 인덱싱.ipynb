{
 "cells": [
  {
   "cell_type": "markdown",
   "metadata": {
    "slideshow": {
     "slide_type": "slide"
    }
   },
   "source": [
    "# Numpy for Finance 02 - 슬라이싱과 인덱싱\n",
    "\n",
    "<img width=\"320\" src=\"http://i.imgur.com/1Z9bz5V.jpg\">\n",
    "\n",
    "\n",
    "### 2018 FinanceData.KR"
   ]
  },
  {
   "cell_type": "code",
   "execution_count": 1,
   "metadata": {
    "slideshow": {
     "slide_type": "skip"
    }
   },
   "outputs": [],
   "source": [
    "%matplotlib inline\n",
    "import matplotlib.pyplot as plt\n",
    "\n",
    "plt.rcParams[\"figure.figsize\"] = (14,4)\n",
    "plt.rcParams[\"axes.grid\"] = True"
   ]
  },
  {
   "cell_type": "markdown",
   "metadata": {
    "slideshow": {
     "slide_type": "slide"
    }
   },
   "source": [
    "# 인덱싱 (행, 열)"
   ]
  },
  {
   "cell_type": "code",
   "execution_count": 2,
   "metadata": {
    "slideshow": {
     "slide_type": "-"
    }
   },
   "outputs": [
    {
     "name": "stdout",
     "output_type": "stream",
     "text": [
      "80\n",
      "80\n",
      "70\n"
     ]
    }
   ],
   "source": [
    "import numpy as np\n",
    "\n",
    "ar = np.array( [[10, 20, 30], [60, 70, 80], [90, 91, 92]] )\n",
    "\n",
    "print (ar[1][2]) # 80\n",
    "print (ar[1,2]) # 80 동일\n",
    "print (ar[1,1]) # ar[1][1] 동일"
   ]
  },
  {
   "cell_type": "markdown",
   "metadata": {
    "slideshow": {
     "slide_type": "slide"
    }
   },
   "source": [
    "# 마이너스 인덱스\n",
    "\n",
    "```python\n",
    "ar[-2] # 끝에서 2번째 행\n",
    "ar[-2:] # 마지막 2개 행\n",
    "ar[:-2] # 마지막 2개 행을 제외한 모든 행\n",
    "```"
   ]
  },
  {
   "cell_type": "code",
   "execution_count": 3,
   "metadata": {
    "slideshow": {
     "slide_type": "slide"
    }
   },
   "outputs": [
    {
     "name": "stdout",
     "output_type": "stream",
     "text": [
      "[[ 0  1  2  3]\n",
      " [ 4  5  6  7]\n",
      " [ 8  9 10 11]\n",
      " [12 13 14 15]]\n",
      "~~~~~~~~~~~~~~~~~~~~~~~~~~~~~~~~~~~~~~~~\n",
      "[ 8  9 10 11]\n",
      "~~~~~~~~~~~~~~~~~~~~~~~~~~~~~~~~~~~~~~~~\n",
      "[[ 8  9 10 11]\n",
      " [12 13 14 15]]\n",
      "~~~~~~~~~~~~~~~~~~~~~~~~~~~~~~~~~~~~~~~~\n",
      "[[0 1 2 3]\n",
      " [4 5 6 7]]\n"
     ]
    }
   ],
   "source": [
    "ar = np.arange(0,16).reshape((4,4))\n",
    "\n",
    "print (ar)\n",
    "print ('~' * 40)\n",
    "print (ar[-2])\n",
    "print ('~' * 40)\n",
    "print (ar[-2:] )\n",
    "print ('~' * 40)\n",
    "print (ar[:-2])"
   ]
  },
  {
   "cell_type": "markdown",
   "metadata": {
    "slideshow": {
     "slide_type": "slide"
    }
   },
   "source": [
    "# 슬라이싱\n",
    "특정 영역을 지정하거나 잘라낸다\n"
   ]
  },
  {
   "cell_type": "code",
   "execution_count": 4,
   "metadata": {
    "slideshow": {
     "slide_type": "-"
    }
   },
   "outputs": [
    {
     "name": "stdout",
     "output_type": "stream",
     "text": [
      "[[ 0  1  2  3]\n",
      " [ 4  5  6  7]\n",
      " [ 8  9 10 11]\n",
      " [12 13 14 15]]\n",
      "~~~~~~~~~~~~~~~~~~~~~~~~~~~~~~~~~~~~~~~~\n",
      "[0 1 2 3]\n",
      "~~~~~~~~~~~~~~~~~~~~~~~~~~~~~~~~~~~~~~~~\n",
      "5\n"
     ]
    }
   ],
   "source": [
    "ar = np.arange(0,16).reshape((4,4))\n",
    "\n",
    "print (ar)\n",
    "print ('~' * 40)\n",
    "print (ar[0])\n",
    "print ('~' * 40)\n",
    "print (ar[1,1])"
   ]
  },
  {
   "cell_type": "code",
   "execution_count": 5,
   "metadata": {
    "slideshow": {
     "slide_type": "slide"
    }
   },
   "outputs": [
    {
     "name": "stdout",
     "output_type": "stream",
     "text": [
      "[[ 0  1  2  3]\n",
      " [ 4  5  6  7]\n",
      " [ 8  9 10 11]\n",
      " [12 13 14 15]]\n",
      "~~~~~~~~~~~~~~~~~~~~~~~~~~~~~~~~~~~~~~~~\n",
      "[[ 0  1  2  3]\n",
      " [ 4  5  6  7]\n",
      " [99 99 10 11]\n",
      " [12 13 14 15]]\n"
     ]
    }
   ],
   "source": [
    "print (ar)\n",
    "print ('~' * 40)\n",
    "\n",
    "ar[2, :2] = 99 # 값 바꾸기\n",
    "print (ar)"
   ]
  },
  {
   "cell_type": "markdown",
   "metadata": {
    "slideshow": {
     "slide_type": "slide"
    }
   },
   "source": [
    "# 슬라이싱 slicing\n",
    "\n",
    "<img width=\"80%\" src=\"http://i.imgur.com/AAYMAEO.png\" >"
   ]
  },
  {
   "cell_type": "markdown",
   "metadata": {
    "slideshow": {
     "slide_type": "slide"
    }
   },
   "source": [
    "# 다양한 슬라이싱\n",
    "\n",
    "```python\n",
    "ar = np.arange(0,16).reshape((4,4))\n",
    "\n",
    "ar[:]         # ar의 모든  row (= ar)\n",
    "ar[0]        # row 0\n",
    "ar[1]        # row 1\n",
    "ar[:,1]      # col 1\n",
    "ar[1:]       # row 1 이후, ar[1:,] 혹은 ar[1:,:] 와 동일한 표현\n",
    "ar[:2]       # row 0~1\n",
    "ar[:2,1:]   # row 0~1, col 1 이후 \n",
    "ar[:2,:2]   # row 0~1, col 0~1\n",
    "ar[2,:2]    # row 2, col 0~1\n",
    "ar[:,2]      # col 2\n",
    "ar[:,1:3]   # col 1~2\n",
    "```"
   ]
  },
  {
   "cell_type": "markdown",
   "metadata": {
    "slideshow": {
     "slide_type": "slide"
    }
   },
   "source": [
    "# ndarry 연산\n",
    "ndarray 간에 혹은 ndarray와 단일값 사이에 사칙연산(+, -, , /, * ) 이 가능\n",
    "* ndarray 연산자 ndarray\n",
    "* value 연산자 ndarray\n",
    "\n"
   ]
  },
  {
   "cell_type": "markdown",
   "metadata": {
    "slideshow": {
     "slide_type": "slide"
    }
   },
   "source": [
    "# 연산 (브로드캐스팅)\n",
    "크기가 다른 ndarray 간의 연산을 브로드캐스팅 이라고 한다\n",
    "\n",
    "<img width=\"40%\" src=\"https://i.imgur.com/lxuY7cr.png\" >"
   ]
  },
  {
   "cell_type": "code",
   "execution_count": 6,
   "metadata": {
    "slideshow": {
     "slide_type": "slide"
    }
   },
   "outputs": [
    {
     "name": "stdout",
     "output_type": "stream",
     "text": [
      "[[ 0  1  2]\n",
      " [10 11 12]\n",
      " [20 21 22]\n",
      " [30 31 32]]\n",
      "~~~~~~~~~~~~~~~~~~~~~~~~~~~~~~~~~~~~~~~~\n",
      "[[  0  10  20]\n",
      " [100 110 120]\n",
      " [200 210 220]\n",
      " [300 310 320]]\n"
     ]
    }
   ],
   "source": [
    "ar = np.array([[0, 1, 2], [10, 11, 12], [20, 21, 22], [30, 31, 32]])\n",
    "print (ar)\n",
    "print ('~' * 40)\n",
    "\n",
    "p = ar * 10\n",
    "print (p)"
   ]
  },
  {
   "cell_type": "markdown",
   "metadata": {
    "slideshow": {
     "slide_type": "slide"
    }
   },
   "source": [
    "# 연산 (브로드캐스팅)\n",
    "\n",
    "<img width=\"80%\" src=\"http://i.imgur.com/Rj1ML5O.jpg\" >\n"
   ]
  },
  {
   "cell_type": "code",
   "execution_count": 7,
   "metadata": {
    "slideshow": {
     "slide_type": "slide"
    }
   },
   "outputs": [
    {
     "name": "stdout",
     "output_type": "stream",
     "text": [
      "[[ 0  1  2]\n",
      " [10 11 12]\n",
      " [20 21 22]\n",
      " [30 31 32]]\n",
      "~~~~~~~~~~~~~~~~~~~~~~~~~~~~~~~~~~~~~~~~\n",
      "[[ 0  2  4]\n",
      " [10 12 14]\n",
      " [20 22 24]\n",
      " [30 32 34]]\n",
      "~~~~~~~~~~~~~~~~~~~~~~~~~~~~~~~~~~~~~~~~\n",
      "[[ 0  1  2]\n",
      " [11 12 13]\n",
      " [22 23 24]\n",
      " [33 34 35]]\n",
      "~~~~~~~~~~~~~~~~~~~~~~~~~~~~~~~~~~~~~~~~\n",
      "[[ 0  1  2]\n",
      " [10 11 12]\n",
      " [20 21 22]\n",
      " [30 31 32]]\n"
     ]
    }
   ],
   "source": [
    "ar = np.array([[0, 1, 2], [10, 11, 12], [20, 21, 22], [30, 31, 32]])\n",
    "print (ar)\n",
    "\n",
    "print ('~' * 40)\n",
    "p = ar + np.array([[0, 1, 2]])\n",
    "print (p)\n",
    "\n",
    "print ('~' * 40)\n",
    "p = ar + np.array([[0], [1], [2], [3]])\n",
    "print (p)\n",
    "\n",
    "print ('~' * 40)\n",
    "p = np.array([[0], [10], [20], [30]]) + np.array([[0, 1, 2]])\n",
    "print (p)"
   ]
  },
  {
   "cell_type": "markdown",
   "metadata": {
    "slideshow": {
     "slide_type": "slide"
    }
   },
   "source": [
    "# 슬라이싱과 연산\n",
    "* ar[n:m] = 20 선택 영역에 브로드캐스팅\n",
    "* 리스트의 슬라이싱과 차이점은 원본 ndarray에 대한 뷰라는 점\n",
    "* 뷰에 대한 조작은 그대로 원본에 반영 (별도의 ndarray가 생성되지 않는다)"
   ]
  },
  {
   "cell_type": "markdown",
   "metadata": {
    "slideshow": {
     "slide_type": "slide"
    }
   },
   "source": [
    "# 슬라이싱 예제"
   ]
  },
  {
   "cell_type": "code",
   "execution_count": 8,
   "metadata": {
    "slideshow": {
     "slide_type": "-"
    }
   },
   "outputs": [
    {
     "name": "stdout",
     "output_type": "stream",
     "text": [
      "[[0. 0. 0. 0. 0.]\n",
      " [0. 1. 1. 1. 0.]\n",
      " [0. 1. 1. 1. 0.]\n",
      " [0. 1. 1. 1. 0.]\n",
      " [0. 0. 0. 0. 0.]]\n"
     ]
    }
   ],
   "source": [
    "ar = np.zeros((5,5))\n",
    "v = ar[1:-1,1:-1]\n",
    "v[:] = 1\n",
    "print(ar)"
   ]
  },
  {
   "cell_type": "markdown",
   "metadata": {
    "slideshow": {
     "slide_type": "slide"
    }
   },
   "source": [
    "# 다양한 슬라이싱\n",
    "\n",
    "<img width=\"80%\" src=\"http://i.imgur.com/KCnnlMh.png\">"
   ]
  },
  {
   "cell_type": "code",
   "execution_count": 9,
   "metadata": {
    "slideshow": {
     "slide_type": "slide"
    }
   },
   "outputs": [
    {
     "name": "stdout",
     "output_type": "stream",
     "text": [
      "[[ 0  1  2  3  4  5]\n",
      " [10 11 12 13 14 15]\n",
      " [20 21 22 23 24 25]\n",
      " [30 31 32 33 34 35]\n",
      " [40 41 42 43 44 45]\n",
      " [50 51 52 53 54 55]]\n",
      "~~~~~~~~~~~~~~~~~~~~~~~~~~~~~~~~~~~~~~~~\n",
      "[1 2]\n",
      "~~~~~~~~~~~~~~~~~~~~~~~~~~~~~~~~~~~~~~~~\n",
      "[ 3 13 23 33 43 53]\n",
      "~~~~~~~~~~~~~~~~~~~~~~~~~~~~~~~~~~~~~~~~\n",
      "[[44 45]\n",
      " [54 55]]\n",
      "~~~~~~~~~~~~~~~~~~~~~~~~~~~~~~~~~~~~~~~~\n",
      "[[20 22 24]\n",
      " [40 42 44]]\n"
     ]
    }
   ],
   "source": [
    "ar = np.array([[0], [10], [20], [30], [40], [50]]) + np.array([[0, 1, 2, 3, 4, 5]])\n",
    "print(ar)\n",
    "\n",
    "print ('~' * 40)\n",
    "p = ar[0, 1:3]\n",
    "print(p)\n",
    "\n",
    "print ('~' * 40)\n",
    "p = ar[:, 3]\n",
    "print(p)\n",
    "\n",
    "\n",
    "print ('~' * 40)\n",
    "p = ar[4:, 4:]\n",
    "print(p)\n",
    "\n",
    "print ('~' * 40)\n",
    "p = ar[2::2, ::2]\n",
    "print(p)"
   ]
  },
  {
   "cell_type": "markdown",
   "metadata": {
    "slideshow": {
     "slide_type": "slide"
    }
   },
   "source": [
    "# View & Copy\n",
    "\n",
    "슬라이싱의 결과는 뷰(view)이다. 뷰를 통해 수정하면 원본 데이터가 수정된다."
   ]
  },
  {
   "cell_type": "code",
   "execution_count": 10,
   "metadata": {
    "slideshow": {
     "slide_type": "-"
    }
   },
   "outputs": [
    {
     "name": "stdout",
     "output_type": "stream",
     "text": [
      "[[10 20 30]\n",
      " [50 50 50]\n",
      " [90 91 92]]\n"
     ]
    }
   ],
   "source": [
    "ar = np.array([[10, 20, 30], [60, 70, 80], [90, 91, 92]])\n",
    "v = ar[1]\n",
    "v[:] = 50 # v 배열 전체 요소에 20을 할당\n",
    "\n",
    "#  v는 ar의 뷰, v의 값을 변경하는 것은 ar의 값을 변경\n",
    "print(ar)"
   ]
  },
  {
   "cell_type": "code",
   "execution_count": 11,
   "metadata": {
    "slideshow": {
     "slide_type": "slide"
    }
   },
   "outputs": [
    {
     "name": "stdout",
     "output_type": "stream",
     "text": [
      "[[10 20 30]\n",
      " [60 70 80]\n",
      " [90 91 92]]\n"
     ]
    }
   ],
   "source": [
    "# ar과 v를 완전히 다른 객체로 만드려면 copy를 사용\n",
    "\n",
    "ar = np.array([[10, 20, 30], [60, 70, 80], [90, 91, 92]])\n",
    "v = ar[1].copy()\n",
    "v[:] = 50 # v 배열 전체 요소에 20을 할당\n",
    "\n",
    "#  v는 ar의 뷰, v의 값을 변경하는 것은 ar의 값을 변경\n",
    "print(ar)"
   ]
  },
  {
   "cell_type": "code",
   "execution_count": 12,
   "metadata": {
    "slideshow": {
     "slide_type": "-"
    }
   },
   "outputs": [
    {
     "data": {
      "text/plain": [
       "array([50, 50, 50])"
      ]
     },
     "execution_count": 12,
     "metadata": {},
     "output_type": "execute_result"
    }
   ],
   "source": [
    "v"
   ]
  },
  {
   "cell_type": "markdown",
   "metadata": {
    "slideshow": {
     "slide_type": "slide"
    }
   },
   "source": [
    "# 불리언 인덱싱 (Boolean indexing)"
   ]
  },
  {
   "cell_type": "code",
   "execution_count": 13,
   "metadata": {
    "slideshow": {
     "slide_type": "-"
    }
   },
   "outputs": [
    {
     "data": {
      "text/plain": [
       "array([30, 50])"
      ]
     },
     "execution_count": 13,
     "metadata": {},
     "output_type": "execute_result"
    }
   ],
   "source": [
    "city = np.array(['newyork', 'seoul', 'shanghai', 'tokyo', 'london'])\n",
    "val = np.array([10, 20, 30, 40, 50])\n",
    "\n",
    "city == 'seoul'         # array([False, True, False, False, False], dtype=bool)\n",
    "val[city == 'seoul']   # array([20])\n",
    "city[val >= 30]         # array(['shanghai', 'tokyo', 'london'], dtype='<U8')\n",
    "city[city != 'tokyo']    # array(['newyork', 'seoul', 'shanghai', 'london']\n",
    "\n",
    "mask = (city == 'shanghai') | (city == 'london')\n",
    "val[mask]                # array([30, 50])"
   ]
  },
  {
   "cell_type": "markdown",
   "metadata": {
    "slideshow": {
     "slide_type": "slide"
    }
   },
   "source": [
    "# 불리언 인덱싱 (필터링)"
   ]
  },
  {
   "cell_type": "code",
   "execution_count": 14,
   "metadata": {
    "slideshow": {
     "slide_type": "-"
    }
   },
   "outputs": [
    {
     "data": {
      "text/plain": [
       "array([0, 0, 4, 6, 0, 5, 9, 2])"
      ]
     },
     "execution_count": 14,
     "metadata": {},
     "output_type": "execute_result"
    }
   ],
   "source": [
    "# 0 이하를 모두 0으로 만들기\n",
    "x = np.array([-2, 0, 4, 6, -8, 5, 9, 2])\n",
    "x[x < 0] = 0 \n",
    "\n",
    "x"
   ]
  },
  {
   "cell_type": "markdown",
   "metadata": {
    "slideshow": {
     "slide_type": "slide"
    }
   },
   "source": [
    "# 팬시 인덱싱 (fancy indexing)\n",
    "* 정수 리스트(혹은 배열)를 이용하여 여러 개를 동시에 선택\n",
    "* 팬시 인덱싱은 복사가 일어난다.\n",
    "* ar[[3,4,5,2,0]] # 지정된 행을 순서대로 추출"
   ]
  },
  {
   "cell_type": "code",
   "execution_count": 15,
   "metadata": {
    "slideshow": {
     "slide_type": "-"
    }
   },
   "outputs": [
    {
     "data": {
      "text/plain": [
       "array([[ 0,  1,  2,  3,  4,  5],\n",
       "       [10, 11, 12, 13, 14, 15],\n",
       "       [20, 21, 22, 23, 24, 25],\n",
       "       [30, 31, 32, 33, 34, 35],\n",
       "       [40, 41, 42, 43, 44, 45],\n",
       "       [50, 51, 52, 53, 54, 55]])"
      ]
     },
     "execution_count": 15,
     "metadata": {},
     "output_type": "execute_result"
    }
   ],
   "source": [
    "ar = np.array([[0], [10], [20], [30], [40], [50]]) + np.array([[0, 1, 2, 3, 4, 5]])\n",
    "ar"
   ]
  },
  {
   "cell_type": "code",
   "execution_count": 16,
   "metadata": {
    "slideshow": {
     "slide_type": "slide"
    }
   },
   "outputs": [
    {
     "data": {
      "text/plain": [
       "array([[ 0,  1,  2,  3,  4,  5],\n",
       "       [20, 21, 22, 23, 24, 25],\n",
       "       [50, 51, 52, 53, 54, 55]])"
      ]
     },
     "execution_count": 16,
     "metadata": {},
     "output_type": "execute_result"
    }
   ],
   "source": [
    "ar[[0, 2, -1]]   # 지정한 row 얻기"
   ]
  },
  {
   "cell_type": "code",
   "execution_count": 17,
   "metadata": {
    "slideshow": {
     "slide_type": "-"
    }
   },
   "outputs": [
    {
     "data": {
      "text/plain": [
       "array([[ 0,  2,  5],\n",
       "       [10, 12, 15],\n",
       "       [20, 22, 25],\n",
       "       [30, 32, 35],\n",
       "       [40, 42, 45],\n",
       "       [50, 52, 55]])"
      ]
     },
     "execution_count": 17,
     "metadata": {},
     "output_type": "execute_result"
    }
   ],
   "source": [
    "ar[:, [0, 2, -1]]  # 지정한 column 얻기"
   ]
  },
  {
   "cell_type": "markdown",
   "metadata": {
    "collapsed": true,
    "slideshow": {
     "slide_type": "slide"
    }
   },
   "source": [
    "# 리뷰\n",
    "* 슬라이싱 slicing\n",
    "* 불리언 인덱싱 (필터링) x[x < 0]\n",
    "* 팬시 인덱싱 ar[[0, 2, -1]]  "
   ]
  },
  {
   "cell_type": "markdown",
   "metadata": {
    "slideshow": {
     "slide_type": "notes"
    }
   },
   "source": [
    "----\n",
    "### 2018 FinanceData http://fb.com/financedata http://financedata.github.com"
   ]
  }
 ],
 "metadata": {
  "celltoolbar": "Slideshow",
  "kernelspec": {
   "display_name": "Python 3",
   "language": "python",
   "name": "python3"
  },
  "language_info": {
   "codemirror_mode": {
    "name": "ipython",
    "version": 3
   },
   "file_extension": ".py",
   "mimetype": "text/x-python",
   "name": "python",
   "nbconvert_exporter": "python",
   "pygments_lexer": "ipython3",
   "version": "3.5.2"
  }
 },
 "nbformat": 4,
 "nbformat_minor": 1
}