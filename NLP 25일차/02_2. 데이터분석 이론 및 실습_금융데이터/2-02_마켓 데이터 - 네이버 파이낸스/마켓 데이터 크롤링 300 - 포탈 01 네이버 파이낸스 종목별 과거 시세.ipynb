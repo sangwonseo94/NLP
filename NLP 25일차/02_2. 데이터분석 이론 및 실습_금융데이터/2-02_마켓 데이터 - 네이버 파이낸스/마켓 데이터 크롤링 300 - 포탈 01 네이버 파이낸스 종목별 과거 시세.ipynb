{
 "cells": [
  {
   "cell_type": "markdown",
   "metadata": {
    "slideshow": {
     "slide_type": "slide"
    }
   },
   "source": [
    "# 포탈 01 - 네이버 파이낸스 종목별 과거 시세\n",
    "\n",
    "<img src=\"http://i.imgur.com/grQHNKG.jpg\">\n",
    "\n",
    "#### 2017 FinanceData http://fb.com/financedata"
   ]
  },
  {
   "cell_type": "markdown",
   "metadata": {
    "slideshow": {
     "slide_type": "slide"
    }
   },
   "source": [
    "# 종목 마스터 만들기\n",
    "* 거래소 상장회사검색 http://marketdata.krx.co.kr/contents/MKD/04/0406/04060100/MKD04060100.jsp\n"
   ]
  },
  {
   "cell_type": "code",
   "execution_count": 1,
   "metadata": {
    "collapsed": true
   },
   "outputs": [],
   "source": [
    "import requests\n",
    "import sqlite3\n",
    "import pandas as pd\n",
    "import io\n",
    "\n",
    "def get_krx_stock_master():\n",
    "    # STEP 01: Generate OTP\n",
    "    gen_otp_url = 'http://marketdata.krx.co.kr/contents/COM/GenerateOTP.jspx'\n",
    "    gen_otp_data = {\n",
    "        'name':'fileDown',\n",
    "        'filetype':'xls',\n",
    "        'url':'MKD/04/0406/04060100/mkd04060100_01',\n",
    "        'market_gubun':'ALL', # ''ALL':전체, STK': 코스피\n",
    "        'isu_cdnm':'전체',\n",
    "        'sort_type':'A',\n",
    "        'std_ind_cd':'01',\n",
    "        'lst_stk_vl':'1',\n",
    "        'in_lst_stk_vl':'',\n",
    "        'in_lst_stk_vl2':'',\n",
    "        'pagePath':'/contents/MKD/04/0406/04060100/MKD04060100.jsp',\n",
    "    }\n",
    "\n",
    "    r = requests.post(gen_otp_url, gen_otp_data)\n",
    "    code = r.content\n",
    "\n",
    "    # STEP 02: download\n",
    "    down_url = 'http://file.krx.co.kr/download.jspx'\n",
    "    down_data = {\n",
    "        'code': code,\n",
    "    }\n",
    "\n",
    "    r = requests.post(down_url, down_data)\n",
    "    f = io.BytesIO(r.content)\n",
    "    \n",
    "    usecols = ['종목코드', '기업명', '업종코드', '업종', '대표전화', '주소']\n",
    "    df = pd.read_excel(f, converters={'종목코드': str, '업종코드': str}, usecols=usecols)\n",
    "    df.columns = ['code', 'name', 'sector_code', 'sector', 'telephone', 'address']\n",
    "    return df\n",
    "\n",
    "if __name__ == \"__main__\":\n",
    "    conn = sqlite3.connect('findata.db')\n",
    "    df = get_krx_stock_master()\n",
    "    df.to_sql('stock_master', conn, if_exists='replace')\n",
    "    conn.close()"
   ]
  },
  {
   "cell_type": "code",
   "execution_count": 2,
   "metadata": {
    "slideshow": {
     "slide_type": "slide"
    }
   },
   "outputs": [
    {
     "data": {
      "text/html": [
       "<div>\n",
       "<style>\n",
       "    .dataframe thead tr:only-child th {\n",
       "        text-align: right;\n",
       "    }\n",
       "\n",
       "    .dataframe thead th {\n",
       "        text-align: left;\n",
       "    }\n",
       "\n",
       "    .dataframe tbody tr th {\n",
       "        vertical-align: top;\n",
       "    }\n",
       "</style>\n",
       "<table border=\"1\" class=\"dataframe\">\n",
       "  <thead>\n",
       "    <tr style=\"text-align: right;\">\n",
       "      <th></th>\n",
       "      <th>index</th>\n",
       "      <th>code</th>\n",
       "      <th>name</th>\n",
       "      <th>sector_code</th>\n",
       "      <th>sector</th>\n",
       "      <th>telephone</th>\n",
       "      <th>address</th>\n",
       "    </tr>\n",
       "  </thead>\n",
       "  <tbody>\n",
       "    <tr>\n",
       "      <th>0</th>\n",
       "      <td>0</td>\n",
       "      <td>060310</td>\n",
       "      <td>3S</td>\n",
       "      <td>032602</td>\n",
       "      <td>전자부품 제조업</td>\n",
       "      <td>02-896-9474</td>\n",
       "      <td>서울특별시 금천구  시흥대로71길 30-1</td>\n",
       "    </tr>\n",
       "    <tr>\n",
       "      <th>1</th>\n",
       "      <td>1</td>\n",
       "      <td>095570</td>\n",
       "      <td>AJ네트웍스</td>\n",
       "      <td>126903</td>\n",
       "      <td>산업용 기계 및 장비 임대업</td>\n",
       "      <td>02-6240-0800</td>\n",
       "      <td>서울특별시 송파구 정의로8길 9 (문정동,AJ빌딩)</td>\n",
       "    </tr>\n",
       "    <tr>\n",
       "      <th>2</th>\n",
       "      <td>2</td>\n",
       "      <td>068400</td>\n",
       "      <td>AJ렌터카</td>\n",
       "      <td>126901</td>\n",
       "      <td>운송장비 임대업</td>\n",
       "      <td>1544-1600</td>\n",
       "      <td>서울특별시 구로구  서부샛길 822</td>\n",
       "    </tr>\n",
       "    <tr>\n",
       "      <th>3</th>\n",
       "      <td>3</td>\n",
       "      <td>006840</td>\n",
       "      <td>AK홀딩스</td>\n",
       "      <td>137105</td>\n",
       "      <td>회사본부, 지주회사 및 경영컨설팅 서비스업</td>\n",
       "      <td>02-6923-2921</td>\n",
       "      <td>서울특별시 구로구 구로중앙로 152(구로동)</td>\n",
       "    </tr>\n",
       "    <tr>\n",
       "      <th>4</th>\n",
       "      <td>4</td>\n",
       "      <td>054620</td>\n",
       "      <td>APS홀딩스</td>\n",
       "      <td>032902</td>\n",
       "      <td>특수 목적용 기계 제조업</td>\n",
       "      <td>031-776-1800</td>\n",
       "      <td>경기도 화성시 동탄면 동탄산단9길 23-12 (동탄면)</td>\n",
       "    </tr>\n",
       "    <tr>\n",
       "      <th>5</th>\n",
       "      <td>5</td>\n",
       "      <td>265520</td>\n",
       "      <td>AP시스템</td>\n",
       "      <td>032902</td>\n",
       "      <td>특수 목적용 기계 제조업</td>\n",
       "      <td>031-379-2700</td>\n",
       "      <td>경기도 화성시  동탄면 동탄산단8길 15-5 &amp;nbsp</td>\n",
       "    </tr>\n",
       "    <tr>\n",
       "      <th>6</th>\n",
       "      <td>6</td>\n",
       "      <td>211270</td>\n",
       "      <td>AP위성</td>\n",
       "      <td>032604</td>\n",
       "      <td>통신 및 방송 장비 제조업</td>\n",
       "      <td>02-2026-7800</td>\n",
       "      <td>서울특별시 금천구 가산디지털2로 98 IT캐슬 2동 9층 &amp;nbsp</td>\n",
       "    </tr>\n",
       "    <tr>\n",
       "      <th>7</th>\n",
       "      <td>7</td>\n",
       "      <td>027410</td>\n",
       "      <td>BGF리테일</td>\n",
       "      <td>074701</td>\n",
       "      <td>종합 소매업</td>\n",
       "      <td>1577-3663</td>\n",
       "      <td>서울특별시 강남구 테헤란로 405</td>\n",
       "    </tr>\n",
       "    <tr>\n",
       "      <th>8</th>\n",
       "      <td>8</td>\n",
       "      <td>138930</td>\n",
       "      <td>BNK금융지주</td>\n",
       "      <td>116409</td>\n",
       "      <td>기타 금융업</td>\n",
       "      <td>051-620-3022</td>\n",
       "      <td>부산광역시 남구 문현금융로 30(문현동)</td>\n",
       "    </tr>\n",
       "    <tr>\n",
       "      <th>9</th>\n",
       "      <td>9</td>\n",
       "      <td>001460</td>\n",
       "      <td>BYC</td>\n",
       "      <td>031401</td>\n",
       "      <td>봉제의복 제조업</td>\n",
       "      <td>02-840-3175</td>\n",
       "      <td>서울특별시 영등포구 도림천로21길 3</td>\n",
       "    </tr>\n",
       "  </tbody>\n",
       "</table>\n",
       "</div>"
      ],
      "text/plain": [
       "   index    code     name sector_code                   sector     telephone  \\\n",
       "0      0  060310       3S      032602                 전자부품 제조업   02-896-9474   \n",
       "1      1  095570   AJ네트웍스      126903          산업용 기계 및 장비 임대업  02-6240-0800   \n",
       "2      2  068400    AJ렌터카      126901                 운송장비 임대업     1544-1600   \n",
       "3      3  006840    AK홀딩스      137105  회사본부, 지주회사 및 경영컨설팅 서비스업  02-6923-2921   \n",
       "4      4  054620   APS홀딩스      032902            특수 목적용 기계 제조업  031-776-1800   \n",
       "5      5  265520    AP시스템      032902            특수 목적용 기계 제조업  031-379-2700   \n",
       "6      6  211270     AP위성      032604           통신 및 방송 장비 제조업  02-2026-7800   \n",
       "7      7  027410   BGF리테일      074701                   종합 소매업     1577-3663   \n",
       "8      8  138930  BNK금융지주      116409                   기타 금융업  051-620-3022   \n",
       "9      9  001460      BYC      031401                 봉제의복 제조업   02-840-3175   \n",
       "\n",
       "                                 address  \n",
       "0               서울특별시 금천구  시흥대로71길 30-1   \n",
       "1           서울특별시 송파구 정의로8길 9 (문정동,AJ빌딩)  \n",
       "2                   서울특별시 구로구  서부샛길 822   \n",
       "3              서울특별시 구로구 구로중앙로 152(구로동)   \n",
       "4         경기도 화성시 동탄면 동탄산단9길 23-12 (동탄면)  \n",
       "5         경기도 화성시  동탄면 동탄산단8길 15-5 &nbsp  \n",
       "6  서울특별시 금천구 가산디지털2로 98 IT캐슬 2동 9층 &nbsp  \n",
       "7                    서울특별시 강남구 테헤란로 405   \n",
       "8                부산광역시 남구 문현금융로 30(문현동)   \n",
       "9                  서울특별시 영등포구 도림천로21길 3   "
      ]
     },
     "execution_count": 2,
     "metadata": {},
     "output_type": "execute_result"
    }
   ],
   "source": [
    "# 저장된 데이터 확인\n",
    "\n",
    "conn = sqlite3.connect('findata.db')\n",
    "df = pd.read_sql('select * from stock_master', conn)\n",
    "df.head(10)"
   ]
  },
  {
   "cell_type": "markdown",
   "metadata": {
    "slideshow": {
     "slide_type": "slide"
    }
   },
   "source": [
    "# 네이버 파이낸스 크롤링\n",
    "\n",
    "* http://finance.naver.com\n",
    "* http://finance.naver.com/item/sise_day.nhn?code=105560&page=1"
   ]
  },
  {
   "cell_type": "markdown",
   "metadata": {
    "slideshow": {
     "slide_type": "slide"
    }
   },
   "source": [
    "# 대표적인 두가지 방법\n",
    "1. pd.read_html()\n",
    "1. BeautifulSoup, requests"
   ]
  },
  {
   "cell_type": "markdown",
   "metadata": {
    "slideshow": {
     "slide_type": "slide"
    }
   },
   "source": [
    "# DataFrame으로 읽기"
   ]
  },
  {
   "cell_type": "code",
   "execution_count": 3,
   "metadata": {
    "collapsed": true,
    "slideshow": {
     "slide_type": "-"
    }
   },
   "outputs": [],
   "source": [
    "import pandas as pd\n",
    "\n",
    "url = 'http://finance.naver.com/item/sise_day.nhn?code=105560&page=1'\n",
    "dfs = pd.read_html(url)"
   ]
  },
  {
   "cell_type": "code",
   "execution_count": 4,
   "metadata": {
    "slideshow": {
     "slide_type": "-"
    }
   },
   "outputs": [
    {
     "data": {
      "text/plain": [
       "2"
      ]
     },
     "execution_count": 4,
     "metadata": {},
     "output_type": "execute_result"
    }
   ],
   "source": [
    "len(dfs)"
   ]
  },
  {
   "cell_type": "code",
   "execution_count": 5,
   "metadata": {
    "slideshow": {
     "slide_type": "-"
    }
   },
   "outputs": [
    {
     "data": {
      "text/html": [
       "<div>\n",
       "<style>\n",
       "    .dataframe thead tr:only-child th {\n",
       "        text-align: right;\n",
       "    }\n",
       "\n",
       "    .dataframe thead th {\n",
       "        text-align: left;\n",
       "    }\n",
       "\n",
       "    .dataframe tbody tr th {\n",
       "        vertical-align: top;\n",
       "    }\n",
       "</style>\n",
       "<table border=\"1\" class=\"dataframe\">\n",
       "  <thead>\n",
       "    <tr style=\"text-align: right;\">\n",
       "      <th></th>\n",
       "      <th>0</th>\n",
       "      <th>1</th>\n",
       "      <th>2</th>\n",
       "      <th>3</th>\n",
       "      <th>4</th>\n",
       "      <th>5</th>\n",
       "      <th>6</th>\n",
       "    </tr>\n",
       "  </thead>\n",
       "  <tbody>\n",
       "    <tr>\n",
       "      <th>0</th>\n",
       "      <td>날짜</td>\n",
       "      <td>종가</td>\n",
       "      <td>전일비</td>\n",
       "      <td>시가</td>\n",
       "      <td>고가</td>\n",
       "      <td>저가</td>\n",
       "      <td>거래량</td>\n",
       "    </tr>\n",
       "    <tr>\n",
       "      <th>1</th>\n",
       "      <td>2017.06.22</td>\n",
       "      <td>54200</td>\n",
       "      <td>0</td>\n",
       "      <td>54000</td>\n",
       "      <td>54400</td>\n",
       "      <td>53800</td>\n",
       "      <td>249046</td>\n",
       "    </tr>\n",
       "    <tr>\n",
       "      <th>2</th>\n",
       "      <td>2017.06.21</td>\n",
       "      <td>54200</td>\n",
       "      <td>1200</td>\n",
       "      <td>55400</td>\n",
       "      <td>55400</td>\n",
       "      <td>53700</td>\n",
       "      <td>1257868</td>\n",
       "    </tr>\n",
       "    <tr>\n",
       "      <th>3</th>\n",
       "      <td>2017.06.20</td>\n",
       "      <td>55400</td>\n",
       "      <td>200</td>\n",
       "      <td>55100</td>\n",
       "      <td>55900</td>\n",
       "      <td>55000</td>\n",
       "      <td>628465</td>\n",
       "    </tr>\n",
       "    <tr>\n",
       "      <th>4</th>\n",
       "      <td>2017.06.19</td>\n",
       "      <td>55600</td>\n",
       "      <td>100</td>\n",
       "      <td>55000</td>\n",
       "      <td>55800</td>\n",
       "      <td>55000</td>\n",
       "      <td>570138</td>\n",
       "    </tr>\n",
       "    <tr>\n",
       "      <th>5</th>\n",
       "      <td>2017.06.16</td>\n",
       "      <td>55500</td>\n",
       "      <td>600</td>\n",
       "      <td>54900</td>\n",
       "      <td>55500</td>\n",
       "      <td>54400</td>\n",
       "      <td>938141</td>\n",
       "    </tr>\n",
       "    <tr>\n",
       "      <th>6</th>\n",
       "      <td>2017.06.15</td>\n",
       "      <td>54900</td>\n",
       "      <td>800</td>\n",
       "      <td>55200</td>\n",
       "      <td>55900</td>\n",
       "      <td>54200</td>\n",
       "      <td>714613</td>\n",
       "    </tr>\n",
       "    <tr>\n",
       "      <th>7</th>\n",
       "      <td>2017.06.14</td>\n",
       "      <td>55700</td>\n",
       "      <td>100</td>\n",
       "      <td>55600</td>\n",
       "      <td>56400</td>\n",
       "      <td>55200</td>\n",
       "      <td>1062118</td>\n",
       "    </tr>\n",
       "    <tr>\n",
       "      <th>8</th>\n",
       "      <td>2017.06.13</td>\n",
       "      <td>55600</td>\n",
       "      <td>700</td>\n",
       "      <td>56500</td>\n",
       "      <td>56700</td>\n",
       "      <td>55200</td>\n",
       "      <td>562317</td>\n",
       "    </tr>\n",
       "    <tr>\n",
       "      <th>9</th>\n",
       "      <td>2017.06.12</td>\n",
       "      <td>56300</td>\n",
       "      <td>400</td>\n",
       "      <td>56500</td>\n",
       "      <td>56900</td>\n",
       "      <td>55800</td>\n",
       "      <td>870522</td>\n",
       "    </tr>\n",
       "    <tr>\n",
       "      <th>10</th>\n",
       "      <td>2017.06.09</td>\n",
       "      <td>55900</td>\n",
       "      <td>200</td>\n",
       "      <td>55200</td>\n",
       "      <td>56200</td>\n",
       "      <td>55000</td>\n",
       "      <td>1167254</td>\n",
       "    </tr>\n",
       "  </tbody>\n",
       "</table>\n",
       "</div>"
      ],
      "text/plain": [
       "             0      1     2      3      4      5        6\n",
       "0           날짜     종가   전일비     시가     고가     저가      거래량\n",
       "1   2017.06.22  54200     0  54000  54400  53800   249046\n",
       "2   2017.06.21  54200  1200  55400  55400  53700  1257868\n",
       "3   2017.06.20  55400   200  55100  55900  55000   628465\n",
       "4   2017.06.19  55600   100  55000  55800  55000   570138\n",
       "5   2017.06.16  55500   600  54900  55500  54400   938141\n",
       "6   2017.06.15  54900   800  55200  55900  54200   714613\n",
       "7   2017.06.14  55700   100  55600  56400  55200  1062118\n",
       "8   2017.06.13  55600   700  56500  56700  55200   562317\n",
       "9   2017.06.12  56300   400  56500  56900  55800   870522\n",
       "10  2017.06.09  55900   200  55200  56200  55000  1167254"
      ]
     },
     "execution_count": 5,
     "metadata": {},
     "output_type": "execute_result"
    }
   ],
   "source": [
    "df_price = dfs[0]\n",
    "df_price"
   ]
  },
  {
   "cell_type": "code",
   "execution_count": 6,
   "metadata": {
    "slideshow": {
     "slide_type": "slide"
    }
   },
   "outputs": [
    {
     "data": {
      "text/plain": [
       "0    object\n",
       "1    object\n",
       "2    object\n",
       "3    object\n",
       "4    object\n",
       "5    object\n",
       "6    object\n",
       "dtype: object"
      ]
     },
     "execution_count": 6,
     "metadata": {},
     "output_type": "execute_result"
    }
   ],
   "source": [
    "df_price.dtypes"
   ]
  },
  {
   "cell_type": "code",
   "execution_count": 7,
   "metadata": {
    "slideshow": {
     "slide_type": "-"
    }
   },
   "outputs": [
    {
     "data": {
      "text/html": [
       "<div>\n",
       "<style>\n",
       "    .dataframe thead tr:only-child th {\n",
       "        text-align: right;\n",
       "    }\n",
       "\n",
       "    .dataframe thead th {\n",
       "        text-align: left;\n",
       "    }\n",
       "\n",
       "    .dataframe tbody tr th {\n",
       "        vertical-align: top;\n",
       "    }\n",
       "</style>\n",
       "<table border=\"1\" class=\"dataframe\">\n",
       "  <thead>\n",
       "    <tr style=\"text-align: right;\">\n",
       "      <th></th>\n",
       "      <th>date</th>\n",
       "      <th>close</th>\n",
       "      <th>change</th>\n",
       "      <th>open</th>\n",
       "      <th>high</th>\n",
       "      <th>low</th>\n",
       "      <th>volume</th>\n",
       "    </tr>\n",
       "  </thead>\n",
       "  <tbody>\n",
       "    <tr>\n",
       "      <th>1</th>\n",
       "      <td>2017-06-22</td>\n",
       "      <td>54200</td>\n",
       "      <td>0</td>\n",
       "      <td>54000</td>\n",
       "      <td>54400</td>\n",
       "      <td>53800</td>\n",
       "      <td>249046</td>\n",
       "    </tr>\n",
       "    <tr>\n",
       "      <th>2</th>\n",
       "      <td>2017-06-21</td>\n",
       "      <td>54200</td>\n",
       "      <td>1200</td>\n",
       "      <td>55400</td>\n",
       "      <td>55400</td>\n",
       "      <td>53700</td>\n",
       "      <td>1257868</td>\n",
       "    </tr>\n",
       "    <tr>\n",
       "      <th>3</th>\n",
       "      <td>2017-06-20</td>\n",
       "      <td>55400</td>\n",
       "      <td>200</td>\n",
       "      <td>55100</td>\n",
       "      <td>55900</td>\n",
       "      <td>55000</td>\n",
       "      <td>628465</td>\n",
       "    </tr>\n",
       "    <tr>\n",
       "      <th>4</th>\n",
       "      <td>2017-06-19</td>\n",
       "      <td>55600</td>\n",
       "      <td>100</td>\n",
       "      <td>55000</td>\n",
       "      <td>55800</td>\n",
       "      <td>55000</td>\n",
       "      <td>570138</td>\n",
       "    </tr>\n",
       "    <tr>\n",
       "      <th>5</th>\n",
       "      <td>2017-06-16</td>\n",
       "      <td>55500</td>\n",
       "      <td>600</td>\n",
       "      <td>54900</td>\n",
       "      <td>55500</td>\n",
       "      <td>54400</td>\n",
       "      <td>938141</td>\n",
       "    </tr>\n",
       "    <tr>\n",
       "      <th>6</th>\n",
       "      <td>2017-06-15</td>\n",
       "      <td>54900</td>\n",
       "      <td>800</td>\n",
       "      <td>55200</td>\n",
       "      <td>55900</td>\n",
       "      <td>54200</td>\n",
       "      <td>714613</td>\n",
       "    </tr>\n",
       "    <tr>\n",
       "      <th>7</th>\n",
       "      <td>2017-06-14</td>\n",
       "      <td>55700</td>\n",
       "      <td>100</td>\n",
       "      <td>55600</td>\n",
       "      <td>56400</td>\n",
       "      <td>55200</td>\n",
       "      <td>1062118</td>\n",
       "    </tr>\n",
       "    <tr>\n",
       "      <th>8</th>\n",
       "      <td>2017-06-13</td>\n",
       "      <td>55600</td>\n",
       "      <td>700</td>\n",
       "      <td>56500</td>\n",
       "      <td>56700</td>\n",
       "      <td>55200</td>\n",
       "      <td>562317</td>\n",
       "    </tr>\n",
       "    <tr>\n",
       "      <th>9</th>\n",
       "      <td>2017-06-12</td>\n",
       "      <td>56300</td>\n",
       "      <td>400</td>\n",
       "      <td>56500</td>\n",
       "      <td>56900</td>\n",
       "      <td>55800</td>\n",
       "      <td>870522</td>\n",
       "    </tr>\n",
       "    <tr>\n",
       "      <th>10</th>\n",
       "      <td>2017-06-09</td>\n",
       "      <td>55900</td>\n",
       "      <td>200</td>\n",
       "      <td>55200</td>\n",
       "      <td>56200</td>\n",
       "      <td>55000</td>\n",
       "      <td>1167254</td>\n",
       "    </tr>\n",
       "  </tbody>\n",
       "</table>\n",
       "</div>"
      ],
      "text/plain": [
       "         date  close  change   open   high    low   volume\n",
       "1  2017-06-22  54200       0  54000  54400  53800   249046\n",
       "2  2017-06-21  54200    1200  55400  55400  53700  1257868\n",
       "3  2017-06-20  55400     200  55100  55900  55000   628465\n",
       "4  2017-06-19  55600     100  55000  55800  55000   570138\n",
       "5  2017-06-16  55500     600  54900  55500  54400   938141\n",
       "6  2017-06-15  54900     800  55200  55900  54200   714613\n",
       "7  2017-06-14  55700     100  55600  56400  55200  1062118\n",
       "8  2017-06-13  55600     700  56500  56700  55200   562317\n",
       "9  2017-06-12  56300     400  56500  56900  55800   870522\n",
       "10 2017-06-09  55900     200  55200  56200  55000  1167254"
      ]
     },
     "execution_count": 7,
     "metadata": {},
     "output_type": "execute_result"
    }
   ],
   "source": [
    "df_price.columns = ['date', 'close', 'change', 'open', 'high', 'low', 'volume']\n",
    "df_price = df_price[1:] \n",
    "df_price = df_price.replace('\\.', '-', regex=True)\n",
    "df_price['date'] = pd.to_datetime(df_price['date'])\n",
    "\n",
    "int_cols = ['close', 'change', 'open', 'high', 'low', 'volume']\n",
    "df_price[int_cols] = df_price[int_cols].astype('int')\n",
    "df_price"
   ]
  },
  {
   "cell_type": "code",
   "execution_count": 8,
   "metadata": {
    "slideshow": {
     "slide_type": "-"
    }
   },
   "outputs": [
    {
     "data": {
      "text/plain": [
       "date      datetime64[ns]\n",
       "close              int64\n",
       "change             int64\n",
       "open               int64\n",
       "high               int64\n",
       "low                int64\n",
       "volume             int64\n",
       "dtype: object"
      ]
     },
     "execution_count": 8,
     "metadata": {},
     "output_type": "execute_result"
    }
   ],
   "source": [
    "df_price.dtypes"
   ]
  },
  {
   "cell_type": "markdown",
   "metadata": {
    "slideshow": {
     "slide_type": "slide"
    }
   },
   "source": [
    "# DB 테이블로 저장"
   ]
  },
  {
   "cell_type": "code",
   "execution_count": 9,
   "metadata": {
    "collapsed": true,
    "slideshow": {
     "slide_type": "-"
    }
   },
   "outputs": [],
   "source": [
    "import pandas as pd\n",
    "import sqlite3\n",
    "\n",
    "# KB금융(105560)\n",
    "\n",
    "url = 'http://finance.naver.com/item/sise_day.nhn?code=105560&page=1'\n",
    "dfs = pd.read_html(url)"
   ]
  },
  {
   "cell_type": "code",
   "execution_count": 10,
   "metadata": {
    "collapsed": true,
    "slideshow": {
     "slide_type": "slide"
    }
   },
   "outputs": [],
   "source": [
    "conn = sqlite3.connect('findata.db')\n",
    "\n",
    "df_price.to_sql('test_table', conn, index=False, if_exists='replace')\n",
    "conn.close()"
   ]
  },
  {
   "cell_type": "code",
   "execution_count": 11,
   "metadata": {
    "slideshow": {
     "slide_type": "slide"
    }
   },
   "outputs": [
    {
     "data": {
      "text/html": [
       "<div>\n",
       "<style>\n",
       "    .dataframe thead tr:only-child th {\n",
       "        text-align: right;\n",
       "    }\n",
       "\n",
       "    .dataframe thead th {\n",
       "        text-align: left;\n",
       "    }\n",
       "\n",
       "    .dataframe tbody tr th {\n",
       "        vertical-align: top;\n",
       "    }\n",
       "</style>\n",
       "<table border=\"1\" class=\"dataframe\">\n",
       "  <thead>\n",
       "    <tr style=\"text-align: right;\">\n",
       "      <th></th>\n",
       "      <th>date</th>\n",
       "      <th>close</th>\n",
       "      <th>change</th>\n",
       "      <th>open</th>\n",
       "      <th>high</th>\n",
       "      <th>low</th>\n",
       "      <th>volume</th>\n",
       "    </tr>\n",
       "  </thead>\n",
       "  <tbody>\n",
       "    <tr>\n",
       "      <th>0</th>\n",
       "      <td>2017-06-22</td>\n",
       "      <td>54200</td>\n",
       "      <td>0</td>\n",
       "      <td>54000</td>\n",
       "      <td>54400</td>\n",
       "      <td>53800</td>\n",
       "      <td>249046</td>\n",
       "    </tr>\n",
       "    <tr>\n",
       "      <th>1</th>\n",
       "      <td>2017-06-21</td>\n",
       "      <td>54200</td>\n",
       "      <td>1200</td>\n",
       "      <td>55400</td>\n",
       "      <td>55400</td>\n",
       "      <td>53700</td>\n",
       "      <td>1257868</td>\n",
       "    </tr>\n",
       "    <tr>\n",
       "      <th>2</th>\n",
       "      <td>2017-06-20</td>\n",
       "      <td>55400</td>\n",
       "      <td>200</td>\n",
       "      <td>55100</td>\n",
       "      <td>55900</td>\n",
       "      <td>55000</td>\n",
       "      <td>628465</td>\n",
       "    </tr>\n",
       "    <tr>\n",
       "      <th>3</th>\n",
       "      <td>2017-06-19</td>\n",
       "      <td>55600</td>\n",
       "      <td>100</td>\n",
       "      <td>55000</td>\n",
       "      <td>55800</td>\n",
       "      <td>55000</td>\n",
       "      <td>570138</td>\n",
       "    </tr>\n",
       "    <tr>\n",
       "      <th>4</th>\n",
       "      <td>2017-06-16</td>\n",
       "      <td>55500</td>\n",
       "      <td>600</td>\n",
       "      <td>54900</td>\n",
       "      <td>55500</td>\n",
       "      <td>54400</td>\n",
       "      <td>938141</td>\n",
       "    </tr>\n",
       "  </tbody>\n",
       "</table>\n",
       "</div>"
      ],
      "text/plain": [
       "        date  close  change   open   high    low   volume\n",
       "0 2017-06-22  54200       0  54000  54400  53800   249046\n",
       "1 2017-06-21  54200    1200  55400  55400  53700  1257868\n",
       "2 2017-06-20  55400     200  55100  55900  55000   628465\n",
       "3 2017-06-19  55600     100  55000  55800  55000   570138\n",
       "4 2017-06-16  55500     600  54900  55500  54400   938141"
      ]
     },
     "execution_count": 11,
     "metadata": {},
     "output_type": "execute_result"
    }
   ],
   "source": [
    "conn = sqlite3.connect('findata.db')\n",
    "\n",
    "df_price = pd.read_sql('select * from test_table', conn, parse_dates=['date'])\n",
    "df_price.head()"
   ]
  },
  {
   "cell_type": "code",
   "execution_count": 12,
   "metadata": {
    "slideshow": {
     "slide_type": "-"
    }
   },
   "outputs": [
    {
     "data": {
      "text/plain": [
       "date      datetime64[ns]\n",
       "close              int64\n",
       "change             int64\n",
       "open               int64\n",
       "high               int64\n",
       "low                int64\n",
       "volume             int64\n",
       "dtype: object"
      ]
     },
     "execution_count": 12,
     "metadata": {},
     "output_type": "execute_result"
    }
   ],
   "source": [
    "df_price.dtypes"
   ]
  },
  {
   "cell_type": "code",
   "execution_count": 13,
   "metadata": {
    "collapsed": true,
    "slideshow": {
     "slide_type": "-"
    }
   },
   "outputs": [],
   "source": [
    "conn.close()"
   ]
  },
  {
   "cell_type": "markdown",
   "metadata": {
    "slideshow": {
     "slide_type": "slide"
    }
   },
   "source": [
    "# 페이지 네비게이션\n",
    "http://finance.naver.com/item/sise_day.nhn?code=105560&page=1\n",
    "1. 마지막 페이지 숫자 알아내기\n",
    "1. requests, BeautifulSoup 사용"
   ]
  },
  {
   "cell_type": "code",
   "execution_count": 14,
   "metadata": {
    "collapsed": true,
    "slideshow": {
     "slide_type": "-"
    }
   },
   "outputs": [],
   "source": [
    "from bs4 import BeautifulSoup\n",
    "import requests"
   ]
  },
  {
   "cell_type": "code",
   "execution_count": 15,
   "metadata": {
    "collapsed": true,
    "slideshow": {
     "slide_type": "-"
    }
   },
   "outputs": [],
   "source": [
    "url = 'http://finance.naver.com/item/sise_day.nhn?code=105560&page=1'\n",
    "r = requests.get(url)\n",
    "soup = BeautifulSoup(r.text, \"lxml\")"
   ]
  },
  {
   "cell_type": "code",
   "execution_count": 16,
   "metadata": {
    "slideshow": {
     "slide_type": "-"
    }
   },
   "outputs": [
    {
     "data": {
      "text/plain": [
       "<td class=\"pgRR\">\n",
       "<a href=\"/item/sise_day.nhn?code=105560&amp;page=216\">맨뒤\n",
       "\t\t\t\t<img alt=\"\" border=\"0\" height=\"5\" src=\"http://static.naver.net/n/cmn/bu_pgarRR.gif\" width=\"8\"/>\n",
       "</a>\n",
       "</td>"
      ]
     },
     "execution_count": 16,
     "metadata": {},
     "output_type": "execute_result"
    }
   ],
   "source": [
    "td = soup.find('td', attrs={'class':'pgRR'})\n",
    "td"
   ]
  },
  {
   "cell_type": "code",
   "execution_count": 17,
   "metadata": {
    "slideshow": {
     "slide_type": "-"
    }
   },
   "outputs": [
    {
     "data": {
      "text/plain": [
       "216"
      ]
     },
     "execution_count": 17,
     "metadata": {},
     "output_type": "execute_result"
    }
   ],
   "source": [
    "td = soup.find('td', attrs={'class':'pgRR'})\n",
    "npage = int(td.a['href'].split('page=')[1])\n",
    "npage"
   ]
  },
  {
   "cell_type": "code",
   "execution_count": 18,
   "metadata": {
    "collapsed": true,
    "slideshow": {
     "slide_type": "slide"
    }
   },
   "outputs": [],
   "source": [
    "from bs4 import BeautifulSoup\n",
    "import requests\n",
    "\n",
    "def get_last_page_num(code):\n",
    "    npage = 1\n",
    "    url = 'http://finance.naver.com/item/sise_day.nhn?code=%s&page=1' % (code)\n",
    "    r = requests.get(url)\n",
    "    soup = BeautifulSoup(r.text, \"lxml\")\n",
    "    td = soup.find('td', attrs={'class':'pgRR'})\n",
    "    if td:\n",
    "        npage = td.a['href'].split('page=')[1]\n",
    "    return int(npage)"
   ]
  },
  {
   "cell_type": "code",
   "execution_count": 19,
   "metadata": {
    "slideshow": {
     "slide_type": "-"
    }
   },
   "outputs": [
    {
     "data": {
      "text/plain": [
       "530"
      ]
     },
     "execution_count": 19,
     "metadata": {},
     "output_type": "execute_result"
    }
   ],
   "source": [
    "get_last_page_num('005930') # 삼성전자"
   ]
  },
  {
   "cell_type": "code",
   "execution_count": 20,
   "metadata": {
    "slideshow": {
     "slide_type": "-"
    }
   },
   "outputs": [
    {
     "data": {
      "text/plain": [
       "216"
      ]
     },
     "execution_count": 20,
     "metadata": {},
     "output_type": "execute_result"
    }
   ],
   "source": [
    "get_last_page_num('105560') # KB금융"
   ]
  },
  {
   "cell_type": "markdown",
   "metadata": {
    "slideshow": {
     "slide_type": "slide"
    }
   },
   "source": [
    "# 페이지 전체 네비게이션"
   ]
  },
  {
   "cell_type": "code",
   "execution_count": 21,
   "metadata": {
    "collapsed": true,
    "slideshow": {
     "slide_type": "-"
    }
   },
   "outputs": [],
   "source": [
    "url_tmpl = 'http://finance.naver.com/item/sise_day.nhn?code=105560&page=%d'\n",
    "\n",
    "npages = get_last_page_num('105560')\n",
    "for p in range(1, npages + 1):\n",
    "    url = url_tmpl % p\n"
   ]
  },
  {
   "cell_type": "code",
   "execution_count": 22,
   "metadata": {
    "slideshow": {
     "slide_type": "-"
    }
   },
   "outputs": [
    {
     "data": {
      "text/html": [
       "<div>\n",
       "<style>\n",
       "    .dataframe thead tr:only-child th {\n",
       "        text-align: right;\n",
       "    }\n",
       "\n",
       "    .dataframe thead th {\n",
       "        text-align: left;\n",
       "    }\n",
       "\n",
       "    .dataframe tbody tr th {\n",
       "        vertical-align: top;\n",
       "    }\n",
       "</style>\n",
       "<table border=\"1\" class=\"dataframe\">\n",
       "  <thead>\n",
       "    <tr style=\"text-align: right;\">\n",
       "      <th></th>\n",
       "      <th>date</th>\n",
       "      <th>close</th>\n",
       "      <th>change</th>\n",
       "      <th>open</th>\n",
       "      <th>high</th>\n",
       "      <th>low</th>\n",
       "      <th>volume</th>\n",
       "      <th>code</th>\n",
       "    </tr>\n",
       "  </thead>\n",
       "  <tbody>\n",
       "    <tr>\n",
       "      <th>0</th>\n",
       "      <td>2017-06-22</td>\n",
       "      <td>54200</td>\n",
       "      <td>0</td>\n",
       "      <td>54000</td>\n",
       "      <td>54400</td>\n",
       "      <td>53800</td>\n",
       "      <td>249046</td>\n",
       "      <td>105560</td>\n",
       "    </tr>\n",
       "    <tr>\n",
       "      <th>1</th>\n",
       "      <td>2017-06-21</td>\n",
       "      <td>54200</td>\n",
       "      <td>1200</td>\n",
       "      <td>55400</td>\n",
       "      <td>55400</td>\n",
       "      <td>53700</td>\n",
       "      <td>1257868</td>\n",
       "      <td>105560</td>\n",
       "    </tr>\n",
       "    <tr>\n",
       "      <th>2</th>\n",
       "      <td>2017-06-20</td>\n",
       "      <td>55400</td>\n",
       "      <td>200</td>\n",
       "      <td>55100</td>\n",
       "      <td>55900</td>\n",
       "      <td>55000</td>\n",
       "      <td>628465</td>\n",
       "      <td>105560</td>\n",
       "    </tr>\n",
       "    <tr>\n",
       "      <th>3</th>\n",
       "      <td>2017-06-19</td>\n",
       "      <td>55600</td>\n",
       "      <td>100</td>\n",
       "      <td>55000</td>\n",
       "      <td>55800</td>\n",
       "      <td>55000</td>\n",
       "      <td>570138</td>\n",
       "      <td>105560</td>\n",
       "    </tr>\n",
       "    <tr>\n",
       "      <th>4</th>\n",
       "      <td>2017-06-16</td>\n",
       "      <td>55500</td>\n",
       "      <td>600</td>\n",
       "      <td>54900</td>\n",
       "      <td>55500</td>\n",
       "      <td>54400</td>\n",
       "      <td>938141</td>\n",
       "      <td>105560</td>\n",
       "    </tr>\n",
       "    <tr>\n",
       "      <th>5</th>\n",
       "      <td>2017-06-15</td>\n",
       "      <td>54900</td>\n",
       "      <td>800</td>\n",
       "      <td>55200</td>\n",
       "      <td>55900</td>\n",
       "      <td>54200</td>\n",
       "      <td>714613</td>\n",
       "      <td>105560</td>\n",
       "    </tr>\n",
       "    <tr>\n",
       "      <th>6</th>\n",
       "      <td>2017-06-14</td>\n",
       "      <td>55700</td>\n",
       "      <td>100</td>\n",
       "      <td>55600</td>\n",
       "      <td>56400</td>\n",
       "      <td>55200</td>\n",
       "      <td>1062118</td>\n",
       "      <td>105560</td>\n",
       "    </tr>\n",
       "    <tr>\n",
       "      <th>7</th>\n",
       "      <td>2017-06-13</td>\n",
       "      <td>55600</td>\n",
       "      <td>700</td>\n",
       "      <td>56500</td>\n",
       "      <td>56700</td>\n",
       "      <td>55200</td>\n",
       "      <td>562317</td>\n",
       "      <td>105560</td>\n",
       "    </tr>\n",
       "    <tr>\n",
       "      <th>8</th>\n",
       "      <td>2017-06-12</td>\n",
       "      <td>56300</td>\n",
       "      <td>400</td>\n",
       "      <td>56500</td>\n",
       "      <td>56900</td>\n",
       "      <td>55800</td>\n",
       "      <td>870522</td>\n",
       "      <td>105560</td>\n",
       "    </tr>\n",
       "    <tr>\n",
       "      <th>9</th>\n",
       "      <td>2017-06-09</td>\n",
       "      <td>55900</td>\n",
       "      <td>200</td>\n",
       "      <td>55200</td>\n",
       "      <td>56200</td>\n",
       "      <td>55000</td>\n",
       "      <td>1167254</td>\n",
       "      <td>105560</td>\n",
       "    </tr>\n",
       "  </tbody>\n",
       "</table>\n",
       "</div>"
      ],
      "text/plain": [
       "        date  close  change   open   high    low   volume    code\n",
       "0 2017-06-22  54200       0  54000  54400  53800   249046  105560\n",
       "1 2017-06-21  54200    1200  55400  55400  53700  1257868  105560\n",
       "2 2017-06-20  55400     200  55100  55900  55000   628465  105560\n",
       "3 2017-06-19  55600     100  55000  55800  55000   570138  105560\n",
       "4 2017-06-16  55500     600  54900  55500  54400   938141  105560\n",
       "5 2017-06-15  54900     800  55200  55900  54200   714613  105560\n",
       "6 2017-06-14  55700     100  55600  56400  55200  1062118  105560\n",
       "7 2017-06-13  55600     700  56500  56700  55200   562317  105560\n",
       "8 2017-06-12  56300     400  56500  56900  55800   870522  105560\n",
       "9 2017-06-09  55900     200  55200  56200  55000  1167254  105560"
      ]
     },
     "execution_count": 22,
     "metadata": {},
     "output_type": "execute_result"
    }
   ],
   "source": [
    "df_price['code'] = '105560'\n",
    "df_price"
   ]
  },
  {
   "cell_type": "markdown",
   "metadata": {
    "slideshow": {
     "slide_type": "slide"
    }
   },
   "source": [
    "# 전종목 과거 가격 데이터저장"
   ]
  },
  {
   "cell_type": "code",
   "execution_count": 23,
   "metadata": {
    "slideshow": {
     "slide_type": "-"
    }
   },
   "outputs": [
    {
     "ename": "OperationalError",
     "evalue": "table \"stock_price\" already exists",
     "output_type": "error",
     "traceback": [
      "\u001b[0;31m---------------------------------------------------------------------------\u001b[0m",
      "\u001b[0;31mOperationalError\u001b[0m                          Traceback (most recent call last)",
      "\u001b[0;32m<ipython-input-23-dfa0e5aa9965>\u001b[0m in \u001b[0;36m<module>\u001b[0;34m()\u001b[0m\n\u001b[1;32m     15\u001b[0m '''\n\u001b[1;32m     16\u001b[0m \u001b[0mc\u001b[0m \u001b[0;34m=\u001b[0m \u001b[0mconn\u001b[0m\u001b[0;34m.\u001b[0m\u001b[0mcursor\u001b[0m\u001b[0;34m(\u001b[0m\u001b[0;34m)\u001b[0m\u001b[0;34m\u001b[0m\u001b[0m\n\u001b[0;32m---> 17\u001b[0;31m \u001b[0mc\u001b[0m\u001b[0;34m.\u001b[0m\u001b[0mexecute\u001b[0m\u001b[0;34m(\u001b[0m\u001b[0msql\u001b[0m\u001b[0;34m)\u001b[0m\u001b[0;34m\u001b[0m\u001b[0m\n\u001b[0m\u001b[1;32m     18\u001b[0m \u001b[0mconn\u001b[0m\u001b[0;34m.\u001b[0m\u001b[0mclose\u001b[0m\u001b[0;34m(\u001b[0m\u001b[0;34m)\u001b[0m\u001b[0;34m\u001b[0m\u001b[0m\n",
      "\u001b[0;31mOperationalError\u001b[0m: table \"stock_price\" already exists"
     ]
    }
   ],
   "source": [
    "# stock_price 테이블 생성\n",
    "conn = sqlite3.connect('findata.db')\n",
    "\n",
    "sql = '''\n",
    "CREATE TABLE \"stock_price\" (    \n",
    "  \"date\" TIMESTAMP,\n",
    "  \"code\" TEXT,\n",
    "  \"close\" INTEGER,\n",
    "  \"change\" INTEGER,\n",
    "  \"open\" INTEGER,\n",
    "  \"high\" INTEGER, \n",
    "  \"low\" INTEGER,  \n",
    "  \"volume\" INTEGER\n",
    ");\n",
    "'''\n",
    "c = conn.cursor()\n",
    "c.execute(sql)\n",
    "conn.close()"
   ]
  },
  {
   "cell_type": "code",
   "execution_count": null,
   "metadata": {
    "slideshow": {
     "slide_type": "slide"
    }
   },
   "outputs": [],
   "source": [
    "import sqlite3\n",
    "conn = sqlite3.connect('findata.db')\n",
    "\n",
    "code = '105560'\n",
    "\n",
    "url_tmpl = 'http://finance.naver.com/item/sise_day.nhn?code=%s&page=%d'\n",
    "\n",
    "npages = get_last_page_num(code)\n",
    "\n",
    "for p in range(npages, 0, -1):\n",
    "    url = url_tmpl % (code, p)\n",
    "    dfs = pd.read_html(url)\n",
    "    df_price = dfs[0]\n",
    "    df_price.columns = ['date', 'close', 'change', 'open', 'high', 'low', 'volume']\n",
    "    df_price = df_price[1:] \n",
    "    df_price = df_price.replace('\\.', '-', regex=True)\n",
    "    df_price['date'] = pd.to_datetime(df_price['date'])\n",
    "    int_cols = ['close', 'change', 'open', 'high', 'low', 'volume']\n",
    "    df_price[int_cols] = df_price[int_cols].astype('int', errors='ignore')\n",
    "    df_price['code'] = code\n",
    "    df_price.to_sql('stock_price', conn, if_exists='append', index=False)\n",
    "    print('%d,' % p, end='')"
   ]
  },
  {
   "cell_type": "code",
   "execution_count": null,
   "metadata": {},
   "outputs": [],
   "source": [
    "df_price[int_cols]"
   ]
  },
  {
   "cell_type": "code",
   "execution_count": null,
   "metadata": {
    "collapsed": true,
    "slideshow": {
     "slide_type": "slide"
    }
   },
   "outputs": [],
   "source": [
    "import sqlite3\n",
    "conn = sqlite3.connect('findata.db')\n",
    "\n",
    "def stock_code_price_to_sql(code):\n",
    "    df_max = pd.read_sql('SELECT * FROM stock_price where code=\"%s\" ORDER BY date DESC LIMIT 1', conn)\n",
    "    \n",
    "    url_tmpl = 'http://finance.naver.com/item/sise_day.nhn?code=%s&page=%d'\n",
    "    npages = get_last_page_num(code)\n",
    "    for p in range(npages, 0, -1):\n",
    "        url = url_tmpl % (code, p)\n",
    "        dfs = pd.read_html(url)\n",
    "        df_price = dfs[0]\n",
    "        df_price.columns = ['date', 'close', 'change', 'open', 'high', 'low', 'volume']\n",
    "        df_price = df_price[1:] \n",
    "        df_price = df_price.replace('\\.', '-', regex=True)\n",
    "        df_price['date'] = pd.to_datetime(df_price['date'])\n",
    "        df_price[int_cols] = df_price[int_cols].astype('int', raise_on_error=False)\n",
    "        df_price['code'] = code\n",
    "        df_price.to_sql('stock_price', conn, if_exists='append', index=False)\n",
    "        print('%d,' % p, end='')\n",
    "    print()"
   ]
  },
  {
   "cell_type": "code",
   "execution_count": null,
   "metadata": {
    "slideshow": {
     "slide_type": "-"
    }
   },
   "outputs": [],
   "source": [
    "stock_code_price_to_sql('105560')"
   ]
  },
  {
   "cell_type": "code",
   "execution_count": null,
   "metadata": {
    "collapsed": true,
    "slideshow": {
     "slide_type": "-"
    }
   },
   "outputs": [],
   "source": [
    "conn.close()"
   ]
  },
  {
   "cell_type": "markdown",
   "metadata": {
    "collapsed": true,
    "slideshow": {
     "slide_type": "slide"
    }
   },
   "source": [
    "# 데이터 확인"
   ]
  },
  {
   "cell_type": "code",
   "execution_count": null,
   "metadata": {
    "slideshow": {
     "slide_type": "-"
    }
   },
   "outputs": [],
   "source": [
    "%matplotlib inline\n",
    "\n",
    "import sqlite3\n",
    "conn = sqlite3.connect('findata.db')\n",
    "\n",
    "df_price = pd.read_sql('SELECT * FROM stock_price limit 30', conn)\n",
    "df_price.head()\n",
    "\n",
    "# 테이블  읽기\n",
    "df_price = pd.read_sql(\n",
    "    'SELECT * '\n",
    "    'FROM stock_price '\n",
    "    'WHERE code=\"105560\" and date BETWEEN \"2015-01-01\" AND \"2016-04-30\"', \n",
    "    conn,\n",
    "    index_col='date')\n",
    "\n",
    "conn.close()\n",
    "\n",
    "df_price['close'].plot(figsize=(14,4))"
   ]
  },
  {
   "cell_type": "markdown",
   "metadata": {
    "slideshow": {
     "slide_type": "slide"
    }
   },
   "source": [
    "# 전체 다운로드\n",
    "(주의: 전체 다운로드를 위해서는 4~5일 정도 소요됩니다)"
   ]
  },
  {
   "cell_type": "code",
   "execution_count": null,
   "metadata": {
    "slideshow": {
     "slide_type": "-"
    }
   },
   "outputs": [],
   "source": [
    "# 마스터(코드+종목명) 읽기\n",
    "conn = sqlite3.connect('findata.db')\n",
    "df_master = pd.read_sql('SELECT * FROM stock_master', conn)\n",
    "df_master.head()\n",
    "\n",
    "# 처음 2개 종목만,\n",
    "for inx, row in df_master[:2].iterrows(): \n",
    "    stock_code_price_to_sql(row['code'])\n",
    "\n",
    "# 모든종목에 대해 실행 하려면, 아래 코드 실행\n",
    "# for inx, row in df_master.iterrows(): \n",
    "#     stock_code_price_to_sql(row['code'])"
   ]
  },
  {
   "cell_type": "markdown",
   "metadata": {
    "slideshow": {
     "slide_type": "slide"
    }
   },
   "source": [
    "# 코드 전체 (stock_price)\n",
    "* stock_price 테이블을 업데이트하는 최종 코드 입니다.\n",
    "* stock_master 테이블이 미리 생성되어 있어야 합니다.\n",
    "* 다음 코드를 .py 파일로 저장한 뒤 실행하면 됩니다. "
   ]
  },
  {
   "cell_type": "code",
   "execution_count": null,
   "metadata": {
    "slideshow": {
     "slide_type": "-"
    }
   },
   "outputs": [],
   "source": [
    "%%file stock_price.py\n",
    "#!/usr/bin/python\n",
    "\n",
    "# stock_price.py\n",
    "# findata.db \n",
    "\n",
    "import sqlite3\n",
    "import pandas as pd\n",
    "from datetime import datetime, timedelta\n",
    "from bs4 import BeautifulSoup\n",
    "import requests\n",
    "\n",
    "def get_last_page_num(code):\n",
    "    npage = 1\n",
    "    url = 'http://finance.naver.com/item/sise_day.nhn?code=%s&page=1' % (code)\n",
    "    r = requests.get(url)\n",
    "    soup = BeautifulSoup(r.text, \"lxml\")\n",
    "    td = soup.find('td', attrs={'class':'pgRR'})\n",
    "    if td:\n",
    "        npage = td.a['href'].split('page=')[1]\n",
    "    return int(npage)\n",
    "\n",
    "def get_data_naver(code, start=datetime(1900,1,1), end=datetime(2100,1,1)):\n",
    "    url_tmpl = 'http://finance.naver.com/item/sise_day.nhn?code=%s&page=%d'\n",
    "    npages = get_last_page_num(code)\n",
    "    df_price = pd.DataFrame()\n",
    "    for p in range(1, npages+1):\n",
    "        url = url_tmpl % (code, p)\n",
    "        dfs = pd.read_html(url)\n",
    "        \n",
    "        # first page\n",
    "        df = dfs[0] \n",
    "        df.columns = ['date', 'close', 'change', 'open', 'high', 'low', 'volume']\n",
    "        df = df[1:]\n",
    "        df.dropna(inplace=True)\n",
    "        df = df.replace('\\.', '-', regex=True)\n",
    "\n",
    "        # select date range\n",
    "        start_str = start.strftime(\"%Y-%m-%d\")\n",
    "        end_str = end.strftime(\"%Y-%m-%d\")\n",
    "        mask = (df['date'] >= start_str) & (df['date'] <= end_str)\n",
    "        df_in = df[mask]\n",
    "\n",
    "        # merge dataframe\n",
    "        df_price = df_price.append(df_in)\n",
    "        print('%d,' % p, end='', flush=True)\n",
    "        print(df['date'].max())\n",
    "        if df['date'].max() <= start_str:\n",
    "            break\n",
    "    print()\n",
    "    df_price['date'] = pd.to_datetime(df_price['date'])\n",
    "    int_cols = ['close', 'change', 'open', 'high', 'low', 'volume']\n",
    "    df_price[int_cols] = df_price[int_cols].astype('int', raise_on_error=False)\n",
    "    df_price.set_index('date', inplace=True)\n",
    "    return df_price\n",
    "    \n",
    "if __name__ == \"__main__\":\n",
    "    conn = sqlite3.connect('findata.db')\n",
    "    df_master = pd.read_sql(\"SELECT * FROM stock_master\", conn)\n",
    "    for inx, row in df_master.iterrows():\n",
    "        print(row['code'], row['name'])\n",
    "        #  start: DB에 저장된 마지막 날짜 + 1일\n",
    "        df_max = pd.read_sql('SELECT MAX (date) AS \"maxdate\" FROM stock_price WHERE code=\"%s\"' % row['code'], conn)\n",
    "        last_date = datetime(1900,1,1)\n",
    "        if df_max['maxdate'].iloc[0] != None:\n",
    "            last_date = datetime.strptime(df_max['maxdate'].iloc[0], \"%Y-%m-%d %H:%M:%S\")\n",
    "        start = last_date + timedelta(1)\n",
    "\n",
    "        # end: 전일\n",
    "        yday = datetime.today() - timedelta(1)\n",
    "        end = datetime(yday.year, yday.month, yday.day)\n",
    "        \n",
    "        df_price = get_data_naver(row['code'], start, end)\n",
    "        df_price['code'] = row['code']\n",
    "        df_price.to_sql('stock_price', conn, if_exists='append', index=True)\n",
    "        print('%d rows' % len(df_price))\n",
    "    conn.close()"
   ]
  },
  {
   "cell_type": "markdown",
   "metadata": {
    "slideshow": {
     "slide_type": "slide"
    }
   },
   "source": [
    "# 실행하기\n",
    "\n",
    "명령어 라인에서 아래와 같이 실행합니다.\n",
    "\n",
    "```bash\n",
    "$ python3 stock_price.py\n",
    "```"
   ]
  },
  {
   "cell_type": "markdown",
   "metadata": {
    "slideshow": {
     "slide_type": "slide"
    }
   },
   "source": [
    "# 인덱스\n",
    "* 주요한 컬럼(특히, WHERE 절에 들어가는 컬럼)에 인덱스 생성한다.\n",
    "* 인덱스 여부에 따라 검색 시간이 줄어든다. (예, date의 like검색의 경우 5.1초 --> 6.4 ms)\n",
    "\n",
    "```sql\n",
    "$ sqlite3 findata.db                                                                   \n",
    "SQLite version 3.8.2 2013-12-06 14:53:30\n",
    "Enter \".help\" for instructions\n",
    "Enter SQL statements terminated with a \";\"\n",
    "sqlite> create index ix_date on stock_price(date);\n",
    "sqlite> create index ix_date on stock_price(code);\n",
    "```"
   ]
  },
  {
   "cell_type": "markdown",
   "metadata": {
    "slideshow": {
     "slide_type": "notes"
    }
   },
   "source": [
    "----\n",
    "#### 2017 FinanceData http://fb.com/financedata http://financedata.github.com"
   ]
  }
 ],
 "metadata": {
  "celltoolbar": "Slideshow",
  "kernelspec": {
   "display_name": "Python 3",
   "language": "python",
   "name": "python3"
  }
 },
 "nbformat": 4,
 "nbformat_minor": 1
}