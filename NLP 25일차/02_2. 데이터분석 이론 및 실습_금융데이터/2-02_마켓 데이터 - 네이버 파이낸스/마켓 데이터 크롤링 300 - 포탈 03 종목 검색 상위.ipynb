{
 "cells": [
  {
   "cell_type": "markdown",
   "metadata": {
    "slideshow": {
     "slide_type": "slide"
    }
   },
   "source": [
    "# 포탈 03 - 종목 검색 상위\n",
    "\n",
    "<img src=\"http://i.imgur.com/grQHNKG.jpg\">\n",
    "    \n",
    "\n",
    "#### 2017 FinanceData http://fb.com/financedata"
   ]
  },
  {
   "cell_type": "markdown",
   "metadata": {
    "slideshow": {
     "slide_type": "slide"
    }
   },
   "source": [
    "# pandas.read_html\n",
    "* Read HTML tables into a list of DataFrame objects\n",
    "* http://goo.gl/TepdQ0 (메뉴얼)"
   ]
  },
  {
   "cell_type": "markdown",
   "metadata": {
    "slideshow": {
     "slide_type": "slide"
    }
   },
   "source": [
    "# 네이버 검색상위\n",
    "* http://finance.naver.com/sise/lastsearch2.nhn\n",
    "\n",
    "<img width=\"100%\" src=\"http://i.imgur.com/hPuOYU5.png\">\n",
    "\n"
   ]
  },
  {
   "cell_type": "code",
   "execution_count": 1,
   "metadata": {
    "slideshow": {
     "slide_type": "slide"
    }
   },
   "outputs": [
    {
     "data": {
      "text/html": [
       "<div>\n",
       "<style>\n",
       "    .dataframe thead tr:only-child th {\n",
       "        text-align: right;\n",
       "    }\n",
       "\n",
       "    .dataframe thead th {\n",
       "        text-align: left;\n",
       "    }\n",
       "\n",
       "    .dataframe tbody tr th {\n",
       "        vertical-align: top;\n",
       "    }\n",
       "</style>\n",
       "<table border=\"1\" class=\"dataframe\">\n",
       "  <thead>\n",
       "    <tr style=\"text-align: right;\">\n",
       "      <th></th>\n",
       "      <th>종목명</th>\n",
       "      <th>검색비율</th>\n",
       "      <th>현재가</th>\n",
       "      <th>전일비</th>\n",
       "      <th>등락률</th>\n",
       "      <th>거래량</th>\n",
       "      <th>시가</th>\n",
       "      <th>고가</th>\n",
       "      <th>저가</th>\n",
       "      <th>PER</th>\n",
       "      <th>ROE</th>\n",
       "    </tr>\n",
       "    <tr>\n",
       "      <th>순위</th>\n",
       "      <th></th>\n",
       "      <th></th>\n",
       "      <th></th>\n",
       "      <th></th>\n",
       "      <th></th>\n",
       "      <th></th>\n",
       "      <th></th>\n",
       "      <th></th>\n",
       "      <th></th>\n",
       "      <th></th>\n",
       "      <th></th>\n",
       "    </tr>\n",
       "  </thead>\n",
       "  <tbody>\n",
       "    <tr>\n",
       "      <th>1.0</th>\n",
       "      <td>엔씨소프트</td>\n",
       "      <td>3.92%</td>\n",
       "      <td>341500.0</td>\n",
       "      <td>23500.0</td>\n",
       "      <td>-6.44%</td>\n",
       "      <td>755750.0</td>\n",
       "      <td>371000.0</td>\n",
       "      <td>372500.0</td>\n",
       "      <td>339500.0</td>\n",
       "      <td>27.50</td>\n",
       "      <td>14.90</td>\n",
       "    </tr>\n",
       "    <tr>\n",
       "      <th>2.0</th>\n",
       "      <td>SK하이닉스</td>\n",
       "      <td>2.78%</td>\n",
       "      <td>66100.0</td>\n",
       "      <td>1300.0</td>\n",
       "      <td>+2.01%</td>\n",
       "      <td>2235873.0</td>\n",
       "      <td>66500.0</td>\n",
       "      <td>66500.0</td>\n",
       "      <td>65100.0</td>\n",
       "      <td>16.29</td>\n",
       "      <td>13.01</td>\n",
       "    </tr>\n",
       "    <tr>\n",
       "      <th>3.0</th>\n",
       "      <td>서울제약</td>\n",
       "      <td>1.35%</td>\n",
       "      <td>15450.0</td>\n",
       "      <td>3550.0</td>\n",
       "      <td>+29.83%</td>\n",
       "      <td>1468381.0</td>\n",
       "      <td>11850.0</td>\n",
       "      <td>15450.0</td>\n",
       "      <td>11850.0</td>\n",
       "      <td>137.95</td>\n",
       "      <td>2.16</td>\n",
       "    </tr>\n",
       "    <tr>\n",
       "      <th>4.0</th>\n",
       "      <td>삼성전기</td>\n",
       "      <td>1.12%</td>\n",
       "      <td>98500.0</td>\n",
       "      <td>3500.0</td>\n",
       "      <td>+3.68%</td>\n",
       "      <td>736281.0</td>\n",
       "      <td>96300.0</td>\n",
       "      <td>98800.0</td>\n",
       "      <td>96000.0</td>\n",
       "      <td>518.42</td>\n",
       "      <td>0.35</td>\n",
       "    </tr>\n",
       "    <tr>\n",
       "      <th>5.0</th>\n",
       "      <td>신라젠</td>\n",
       "      <td>1.02%</td>\n",
       "      <td>21700.0</td>\n",
       "      <td>1250.0</td>\n",
       "      <td>-5.45%</td>\n",
       "      <td>2779710.0</td>\n",
       "      <td>21350.0</td>\n",
       "      <td>22250.0</td>\n",
       "      <td>20750.0</td>\n",
       "      <td>-14.96</td>\n",
       "      <td>-50.21</td>\n",
       "    </tr>\n",
       "  </tbody>\n",
       "</table>\n",
       "</div>"
      ],
      "text/plain": [
       "        종목명   검색비율       현재가      전일비      등락률        거래량        시가        고가  \\\n",
       "순위                                                                              \n",
       "1.0   엔씨소프트  3.92%  341500.0  23500.0   -6.44%   755750.0  371000.0  372500.0   \n",
       "2.0  SK하이닉스  2.78%   66100.0   1300.0   +2.01%  2235873.0   66500.0   66500.0   \n",
       "3.0    서울제약  1.35%   15450.0   3550.0  +29.83%  1468381.0   11850.0   15450.0   \n",
       "4.0    삼성전기  1.12%   98500.0   3500.0   +3.68%   736281.0   96300.0   98800.0   \n",
       "5.0     신라젠  1.02%   21700.0   1250.0   -5.45%  2779710.0   21350.0   22250.0   \n",
       "\n",
       "           저가     PER    ROE  \n",
       "순위                            \n",
       "1.0  339500.0   27.50  14.90  \n",
       "2.0   65100.0   16.29  13.01  \n",
       "3.0   11850.0  137.95   2.16  \n",
       "4.0   96000.0  518.42   0.35  \n",
       "5.0   20750.0  -14.96 -50.21  "
      ]
     },
     "execution_count": 1,
     "metadata": {},
     "output_type": "execute_result"
    }
   ],
   "source": [
    "import pandas as pd\n",
    "from datetime import datetime\n",
    "\n",
    "url = \"http://finance.naver.com/sise/lastsearch2.nhn\"\n",
    "\n",
    "df = pd.read_html(url, header=0)\n",
    "df = df[1].dropna()\n",
    "df.set_index('순위', inplace=True)\n",
    "df.head()"
   ]
  },
  {
   "cell_type": "code",
   "execution_count": 2,
   "metadata": {
    "collapsed": true,
    "slideshow": {
     "slide_type": "slide"
    }
   },
   "outputs": [],
   "source": [
    "now = datetime.now()\n",
    "df.to_csv(now.strftime(\"naver-top-search-%Y-%m-%d\") + '.csv')"
   ]
  },
  {
   "cell_type": "code",
   "execution_count": 3,
   "metadata": {
    "slideshow": {
     "slide_type": "-"
    }
   },
   "outputs": [
    {
     "name": "stdout",
     "output_type": "stream",
     "text": [
      "head: 읽기를 위해 'naver-top-search-2016-06-26.csv'을(를) 열 수 없음: 그런 파일이나 디렉터리가 없습니다\r\n"
     ]
    }
   ],
   "source": [
    "! head naver-top-search-2016-06-26.csv"
   ]
  },
  {
   "cell_type": "markdown",
   "metadata": {
    "slideshow": {
     "slide_type": "notes"
    }
   },
   "source": [
    "----\n",
    "#### 2017 FinanceData http://fb.com/financedata http://financedata.github.com"
   ]
  }
 ],
 "metadata": {
  "celltoolbar": "Slideshow",
  "kernelspec": {
   "display_name": "Python 3",
   "language": "python",
   "name": "python3"
  },
  "language_info": {
   "codemirror_mode": {
    "name": "ipython",
    "version": 3
   },
   "file_extension": ".py",
   "mimetype": "text/x-python",
   "name": "python",
   "nbconvert_exporter": "python",
   "pygments_lexer": "ipython3",
   "version": "3.6.7"
  }
 },
 "nbformat": 4,
 "nbformat_minor": 1
}