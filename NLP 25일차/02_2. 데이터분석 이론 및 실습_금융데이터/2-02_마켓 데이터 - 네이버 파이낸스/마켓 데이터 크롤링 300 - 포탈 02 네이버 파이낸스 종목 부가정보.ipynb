{
 "cells": [
  {
   "cell_type": "markdown",
   "metadata": {
    "slideshow": {
     "slide_type": "slide"
    }
   },
   "source": [
    "# 포탈 02 - 네이버 파이낸스 종목 부가정보\n",
    "\n",
    "(SQLite, stock_desc 테이블)\n",
    "\n",
    "<img src=\"http://i.imgur.com/grQHNKG.jpg\">\n",
    "\n",
    "#### 2017 FinanceData http://fb.com/financedata"
   ]
  },
  {
   "cell_type": "code",
   "execution_count": 1,
   "metadata": {
    "collapsed": true,
    "slideshow": {
     "slide_type": "slide"
    }
   },
   "outputs": [],
   "source": [
    "import pandas as pd\n",
    "from IPython.display import display"
   ]
  },
  {
   "cell_type": "code",
   "execution_count": 2,
   "metadata": {
    "collapsed": true,
    "slideshow": {
     "slide_type": "-"
    }
   },
   "outputs": [],
   "source": [
    "import sqlite3\n",
    "conn = sqlite3.connect('findata.db')"
   ]
  },
  {
   "cell_type": "code",
   "execution_count": 3,
   "metadata": {
    "slideshow": {
     "slide_type": "-"
    }
   },
   "outputs": [
    {
     "data": {
      "text/html": [
       "<div>\n",
       "<style>\n",
       "    .dataframe thead tr:only-child th {\n",
       "        text-align: right;\n",
       "    }\n",
       "\n",
       "    .dataframe thead th {\n",
       "        text-align: left;\n",
       "    }\n",
       "\n",
       "    .dataframe tbody tr th {\n",
       "        vertical-align: top;\n",
       "    }\n",
       "</style>\n",
       "<table border=\"1\" class=\"dataframe\">\n",
       "  <thead>\n",
       "    <tr style=\"text-align: right;\">\n",
       "      <th></th>\n",
       "      <th>index</th>\n",
       "      <th>name</th>\n",
       "      <th>sector_code</th>\n",
       "      <th>sector</th>\n",
       "      <th>telephone</th>\n",
       "      <th>address</th>\n",
       "    </tr>\n",
       "    <tr>\n",
       "      <th>code</th>\n",
       "      <th></th>\n",
       "      <th></th>\n",
       "      <th></th>\n",
       "      <th></th>\n",
       "      <th></th>\n",
       "      <th></th>\n",
       "    </tr>\n",
       "  </thead>\n",
       "  <tbody>\n",
       "    <tr>\n",
       "      <th>060310</th>\n",
       "      <td>0</td>\n",
       "      <td>3S</td>\n",
       "      <td>032602</td>\n",
       "      <td>전자부품 제조업</td>\n",
       "      <td>02-896-9474</td>\n",
       "      <td>서울특별시 금천구  시흥대로71길 30-1</td>\n",
       "    </tr>\n",
       "    <tr>\n",
       "      <th>095570</th>\n",
       "      <td>1</td>\n",
       "      <td>AJ네트웍스</td>\n",
       "      <td>126903</td>\n",
       "      <td>산업용 기계 및 장비 임대업</td>\n",
       "      <td>02-6240-0800</td>\n",
       "      <td>서울특별시 송파구 정의로8길 9 (문정동,AJ빌딩)</td>\n",
       "    </tr>\n",
       "    <tr>\n",
       "      <th>068400</th>\n",
       "      <td>2</td>\n",
       "      <td>AJ렌터카</td>\n",
       "      <td>126901</td>\n",
       "      <td>운송장비 임대업</td>\n",
       "      <td>1544-1600</td>\n",
       "      <td>서울특별시 구로구  서부샛길 822</td>\n",
       "    </tr>\n",
       "    <tr>\n",
       "      <th>006840</th>\n",
       "      <td>3</td>\n",
       "      <td>AK홀딩스</td>\n",
       "      <td>137105</td>\n",
       "      <td>회사본부, 지주회사 및 경영컨설팅 서비스업</td>\n",
       "      <td>02-6923-2921</td>\n",
       "      <td>서울특별시 구로구 구로중앙로 152(구로동)</td>\n",
       "    </tr>\n",
       "    <tr>\n",
       "      <th>054620</th>\n",
       "      <td>4</td>\n",
       "      <td>APS홀딩스</td>\n",
       "      <td>032902</td>\n",
       "      <td>특수 목적용 기계 제조업</td>\n",
       "      <td>031-776-1800</td>\n",
       "      <td>경기도 화성시 동탄면 동탄산단9길 23-12 (동탄면)</td>\n",
       "    </tr>\n",
       "  </tbody>\n",
       "</table>\n",
       "</div>"
      ],
      "text/plain": [
       "        index    name sector_code                   sector     telephone  \\\n",
       "code                                                                       \n",
       "060310      0      3S      032602                 전자부품 제조업   02-896-9474   \n",
       "095570      1  AJ네트웍스      126903          산업용 기계 및 장비 임대업  02-6240-0800   \n",
       "068400      2   AJ렌터카      126901                 운송장비 임대업     1544-1600   \n",
       "006840      3   AK홀딩스      137105  회사본부, 지주회사 및 경영컨설팅 서비스업  02-6923-2921   \n",
       "054620      4  APS홀딩스      032902            특수 목적용 기계 제조업  031-776-1800   \n",
       "\n",
       "                               address  \n",
       "code                                    \n",
       "060310        서울특별시 금천구  시흥대로71길 30-1   \n",
       "095570    서울특별시 송파구 정의로8길 9 (문정동,AJ빌딩)  \n",
       "068400            서울특별시 구로구  서부샛길 822   \n",
       "006840       서울특별시 구로구 구로중앙로 152(구로동)   \n",
       "054620  경기도 화성시 동탄면 동탄산단9길 23-12 (동탄면)  "
      ]
     },
     "execution_count": 3,
     "metadata": {},
     "output_type": "execute_result"
    }
   ],
   "source": [
    "# 테이블  읽기\n",
    "df_master = pd.read_sql_query('SELECT * FROM stock_master', conn, index_col='code')\n",
    "df_master.head()"
   ]
  },
  {
   "cell_type": "markdown",
   "metadata": {
    "slideshow": {
     "slide_type": "slide"
    }
   },
   "source": [
    "# stock_desc 테이블 생성"
   ]
  },
  {
   "cell_type": "code",
   "execution_count": 4,
   "metadata": {
    "slideshow": {
     "slide_type": "-"
    }
   },
   "outputs": [
    {
     "data": {
      "text/plain": [
       "False"
      ]
     },
     "execution_count": 4,
     "metadata": {},
     "output_type": "execute_result"
    }
   ],
   "source": [
    "# create stock_desc table\n",
    "def create_stock_desc(conn):\n",
    "    # stock_desc 테이블 존재 여부 확인\n",
    "    exist_sql = \"SELECT name FROM sqlite_master WHERE type='table' AND name='stock_desc';\"\n",
    "    df_exist = pd.read_sql(exist_sql, conn)\n",
    "    if len(df_exist) > 0:\n",
    "        return False\n",
    "    \n",
    "    # create stock_desc\n",
    "    df_master = pd.read_sql('SELECT * FROM stock_master', conn)\n",
    "    df_desc = df_master[['code', 'name']].copy()\n",
    "    df_desc['hompage'] = ''\n",
    "    df_desc['telephone'] = ''\n",
    "    df_desc['address'] = ''\n",
    "    df_desc['market'] = ''\n",
    "    df_desc['wics'] = ''\n",
    "    df_desc['name_en'] = ''\n",
    "    df_desc['desc'] = ''\n",
    "    df_desc['desc_date'] = ''\n",
    "    df_desc.to_sql('stock_desc', conn)\n",
    "    return True\n",
    "        \n",
    "create_stock_desc(conn)"
   ]
  },
  {
   "cell_type": "markdown",
   "metadata": {
    "slideshow": {
     "slide_type": "slide"
    }
   },
   "source": [
    "# 태그 검색\n",
    "\n",
    "* dt 태그를 검색 class='line-left'"
   ]
  },
  {
   "cell_type": "code",
   "execution_count": 5,
   "metadata": {
    "slideshow": {
     "slide_type": "-"
    }
   },
   "outputs": [
    {
     "data": {
      "text/plain": [
       "<dt class=\" line-left\"><a href=\"../company/c1020001.aspx?cmp_cd=005930&amp;cn=\">기업개요</a></dt>"
      ]
     },
     "metadata": {},
     "output_type": "display_data"
    },
    {
     "data": {
      "text/plain": [
       "<dt class=\" line-left\"><a href=\"../company/c1030001.aspx?cmp_cd=005930&amp;cn=\">재무분석</a></dt>"
      ]
     },
     "metadata": {},
     "output_type": "display_data"
    },
    {
     "data": {
      "text/plain": [
       "<dt class=\" line-left\"><a href=\"../company/c1040001.aspx?cmp_cd=005930&amp;cn=\">투자지표</a></dt>"
      ]
     },
     "metadata": {},
     "output_type": "display_data"
    },
    {
     "data": {
      "text/plain": [
       "<dt class=\" line-left\"><a href=\"../company/c1050001.aspx?cmp_cd=005930&amp;cn=\">컨센서스</a></dt>"
      ]
     },
     "metadata": {},
     "output_type": "display_data"
    },
    {
     "data": {
      "text/plain": [
       "<dt class=\" line-left\"><a href=\"../company/c1060001.aspx?cmp_cd=005930&amp;cn=\">업종분석</a></dt>"
      ]
     },
     "metadata": {},
     "output_type": "display_data"
    },
    {
     "data": {
      "text/plain": [
       "<dt class=\" line-left\"><a href=\"../company/c1090001.aspx?cmp_cd=005930&amp;cn=\">섹터분석</a></dt>"
      ]
     },
     "metadata": {},
     "output_type": "display_data"
    },
    {
     "data": {
      "text/plain": [
       "<dt class=\" line-left\"><a href=\"../company/c1070001.aspx?cmp_cd=005930&amp;cn=\">지분현황</a></dt>"
      ]
     },
     "metadata": {},
     "output_type": "display_data"
    },
    {
     "data": {
      "text/plain": [
       "<dt class=\"line-left\">Samsung Electronics</dt>"
      ]
     },
     "metadata": {},
     "output_type": "display_data"
    },
    {
     "data": {
      "text/plain": [
       "<dt class=\"line-left\">KOSPI : 전기전자</dt>"
      ]
     },
     "metadata": {},
     "output_type": "display_data"
    },
    {
     "data": {
      "text/plain": [
       "<dt class=\"line-left\">WICS : 반도체와반도체장비</dt>"
      ]
     },
     "metadata": {},
     "output_type": "display_data"
    },
    {
     "data": {
      "text/plain": [
       "<dt class=\"line-left\">BPS <b class=\"num\">1,331,779</b></dt>"
      ]
     },
     "metadata": {},
     "output_type": "display_data"
    },
    {
     "data": {
      "text/plain": [
       "<dt class=\"line-left\">PER <b class=\"num\">17.36</b></dt>"
      ]
     },
     "metadata": {},
     "output_type": "display_data"
    },
    {
     "data": {
      "text/plain": [
       "<dt class=\"line-left\">업종PER <b class=\"num\">14.42</b></dt>"
      ]
     },
     "metadata": {},
     "output_type": "display_data"
    },
    {
     "data": {
      "text/plain": [
       "<dt class=\"line-left\">PBR <b class=\"num\">1.78</b></dt>"
      ]
     },
     "metadata": {},
     "output_type": "display_data"
    },
    {
     "data": {
      "text/plain": [
       "<dt class=\"line-left\">현금배당수익률 <b class=\"num\">1.20%</b></dt>"
      ]
     },
     "metadata": {},
     "output_type": "display_data"
    },
    {
     "data": {
      "text/plain": [
       "None"
      ]
     },
     "metadata": {},
     "output_type": "display_data"
    }
   ],
   "source": [
    "import requests\n",
    "from bs4 import BeautifulSoup\n",
    "\n",
    "def get_func_templ(code):\n",
    "    url = 'http://companyinfo.stock.naver.com/v1/company/c1010001.aspx?cmp_cd=' + code\n",
    "    r = requests.get(url)\n",
    "    soup = BeautifulSoup(r.text, \"lxml\")\n",
    "\n",
    "    for s in soup.findAll('dt', {'class':'line-left'}):\n",
    "        display( s )\n",
    "\n",
    "display (get_func_templ('005930'))"
   ]
  },
  {
   "cell_type": "markdown",
   "metadata": {
    "slideshow": {
     "slide_type": "slide"
    }
   },
   "source": [
    "# 네이버 스크래핑 테스트"
   ]
  },
  {
   "cell_type": "code",
   "execution_count": 6,
   "metadata": {
    "slideshow": {
     "slide_type": "-"
    }
   },
   "outputs": [
    {
     "data": {
      "text/plain": [
       "'전기전자'"
      ]
     },
     "metadata": {},
     "output_type": "display_data"
    },
    {
     "data": {
      "text/plain": [
       "'제약'"
      ]
     },
     "metadata": {},
     "output_type": "display_data"
    }
   ],
   "source": [
    "import requests\n",
    "import time\n",
    "from bs4 import BeautifulSoup\n",
    "\n",
    "def get_sector(code):\n",
    "    url = 'http://companyinfo.stock.naver.com/v1/company/c1010001.aspx?cmp_cd=' + code\n",
    "    r = requests.get(url)\n",
    "    soup = BeautifulSoup(r.text,\"lxml\")\n",
    "    sector = \"\"\n",
    "\n",
    "    # find KRX sector\n",
    "    for s in soup.findAll('dt', {'class':'line-left'}):\n",
    "        if s.text.find('KOSPI :') >= 0:\n",
    "            sector = s.text.split(' : ')[1]\n",
    "        elif s.text.find('KOSDAQ :') >= 0:\n",
    "            sector = s.text.split(' : ')[1]\n",
    "\n",
    "    return sector\n",
    "\n",
    "display (get_sector('005930'))\n",
    "display (get_sector('068270'))"
   ]
  },
  {
   "cell_type": "markdown",
   "metadata": {
    "slideshow": {
     "slide_type": "slide"
    }
   },
   "source": [
    "# 포탈 종목 정보\n",
    "* sector, wics, name_en\n",
    "* desc, desc_date"
   ]
  },
  {
   "cell_type": "code",
   "execution_count": 7,
   "metadata": {
    "collapsed": true,
    "slideshow": {
     "slide_type": "-"
    }
   },
   "outputs": [],
   "source": [
    "import requests\n",
    "import time\n",
    "import json\n",
    "from bs4 import BeautifulSoup"
   ]
  },
  {
   "cell_type": "code",
   "execution_count": 8,
   "metadata": {
    "slideshow": {
     "slide_type": "-"
    }
   },
   "outputs": [
    {
     "data": {
      "text/plain": [
       "('http://www.samsung.com/sec',\n",
       " '031)200-1114      (주식담당: 02)2255-8126)',\n",
       " '경기도 수원시 영통구 삼성로 129(매탄동)')"
      ]
     },
     "metadata": {},
     "output_type": "display_data"
    },
    {
     "data": {
      "text/plain": [
       "('http://www.kbfg.com',\n",
       " '02)2073-7114      (주식담당: 02-2073-2843)',\n",
       " '서울특별시 중구 남대문로 84 (남대문로2가)')"
      ]
     },
     "metadata": {},
     "output_type": "display_data"
    }
   ],
   "source": [
    "# homepage, phone, address\n",
    "def get_naver_addres(code):\n",
    "    homepage, phone, address = '', '', ''\n",
    "    url = 'http://companyinfo.stock.naver.com/v1/company/c1020001.aspx?cmp_cd=' + code\n",
    "    dfs = pd.read_html(url, encoding='utf-8')\n",
    "    r = requests.get(url)\n",
    "    soup = BeautifulSoup(r.text,\"lxml\")\n",
    "    tab = soup.find('table', {'id':'cTB201'})\n",
    "    if tab == None:\n",
    "        return homepage, phone, address\n",
    "    \n",
    "    td = tab.find('td', {'class':'c2 txt'})\n",
    "    homepage = td.a['href'].strip()\n",
    "\n",
    "    td = tab.find('td', {'class':'c4 txt'})\n",
    "    phone = td.text.strip()\n",
    "\n",
    "    td = tab.find('td', {'class':'txt', 'colspan':'3'})\n",
    "    address = td.text.strip()\n",
    "\n",
    "    return homepage, phone, address\n",
    "\n",
    "\n",
    "display( get_naver_addres('005930') )\n",
    "display (get_naver_addres('105560'))"
   ]
  },
  {
   "cell_type": "code",
   "execution_count": 9,
   "metadata": {
    "slideshow": {
     "slide_type": "slide"
    }
   },
   "outputs": [
    {
     "data": {
      "text/plain": [
       "('KOSPI', '반도체와반도체장비', 'Samsung Electronics')"
      ]
     },
     "metadata": {},
     "output_type": "display_data"
    },
    {
     "data": {
      "text/plain": [
       "('KOSPI', '은행', 'KB Financial Group Inc.')"
      ]
     },
     "metadata": {},
     "output_type": "display_data"
    }
   ],
   "source": [
    "# sector, wics, name_en\n",
    "def get_sector(code):\n",
    "    name_en, sector, wics, market = 'nan', 'nan', 'nan', 'nan'\n",
    "    url = 'http://companyinfo.stock.naver.com/v1/company/c1010001.aspx?cmp_cd=' + code\n",
    "    r = requests.get(url)\n",
    "    soup = BeautifulSoup(r.text,\"lxml\")\n",
    "    td = soup.find('td', {'class':'cmp-table-cell td0101'})\n",
    "    if td == None:\n",
    "        return sector, wics, name_en\n",
    "        \n",
    "    dts = td.findAll('dt')\n",
    "\n",
    "    # dts[1], name_en\n",
    "    name_en = dts[1].text\n",
    "    \n",
    "    # dts[2], sector\n",
    "    s = dts[2]\n",
    "    if s.text.find('KOSPI :') >= 0:\n",
    "        market = 'KOSPI'\n",
    "        sector = s.text.split(' : ')[1]\n",
    "    elif dts[2].text.find('KOSDAQ :') >= 0:\n",
    "        market = 'KOSDAQ'\n",
    "        sector = s.text.split(' : ')[1]\n",
    "            \n",
    "    # dts[3], wics\n",
    "    s = dts[3]\n",
    "    if s.text.find('WICS :') >= 0:\n",
    "        wics = s.text.split(' : ')[1]\n",
    "\n",
    "    return market, wics, name_en\n",
    "\n",
    "\n",
    "display( get_sector('005930') )\n",
    "display (get_sector('105560'))\n"
   ]
  },
  {
   "cell_type": "code",
   "execution_count": 10,
   "metadata": {
    "scrolled": true,
    "slideshow": {
     "slide_type": "slide"
    }
   },
   "outputs": [
    {
     "data": {
      "text/plain": [
       "('1969년 설립 된 글로벌 전자기업으로, 주요사업은 CE부문 (TV,냉장고 등)과 IM부문(스마트폰 등 HHP,네트워크시스템 등) 및 DS부문(DRAM,모바일AP,LCD패널 등) 3개의 부문으로 구성됨. 지역별로는 본사를 거점으로 한국 및 CE, IM부문 산하 해외 9개 지역총괄과 DS부문 산하 해외 5개 지역총괄의 생산,판매법인 등 169개의 동종업종을 영위하는 종속기업으로 구성되어 있음. IM부문은 프리미엄 브랜드 갤럭시를 필두로 보급형까지 풀라인업을 유지하며 글로벌 스마트폰 시장을 선도하고 있으며, Samsung Pay와 같은 Mobile Payment, Cloud 등 미래 성장 투자를 지속함. 반도체 사업은 DRAM, NAND Flash 제품 등 초미세 공정 기술을 적용하여 경쟁사 대비 차별성 있는 제품의 생산과 원가 경쟁력을 지속적으로 확보하여 전세계 메모리 시장의 선두 자리를 지속적으로 유지. 매출구성은 IM 40.3%, 반도체 20.5%, CE 18.9%, DP 10.8%, 기타 9.5% 등으로 구성',\n",
       " '2017-05-04')"
      ]
     },
     "metadata": {},
     "output_type": "display_data"
    },
    {
     "data": {
      "text/plain": [
       "('2008년 설립된 KB금융그룹의 지주회사로서 업계 선두권의 시장지위와 높은 브랜드 인지도를 바탕으로 은행을 비롯하여 카드, 증권, 생명보험, 손해보험, 저축은행 등 다양한 사업을 영위하고 있음. 연결대상 종속회사는 은행업(KB국민은행), 신용카드업(KB국민카드), 금융투자업(KB투자증권, KB자산운용, KB부동산신탁, KB인베스트먼트), 보험업(KB생명보험), 기타(KB신용정보, KB데이타시스템) 등이 있음. 자산 및 이익기여도 면에서 은행의 비중이 경쟁사 대비 높은 수준이며, 국민은행은 예수금 및 대출금 기준 시장점유율 1위의 시장지위를 바탕으로 대규모 이익을 창출하면서 그룹의 재무안정성에 큰 기여. 2013년 KB생명보험 인수를 시작으로,2014년 우리파이낸셜,2015년 LIG손해보험 인수하였고,2016년 4월 현대증권 지분에 대한 주식매매계약 체결하는 등 M＆A를 통한 비은행부문 경쟁력 강화하고 있음. 매출구성은 이자수익 39.5%, 유가증권평가및처분이익 27.6%, 외환거래이익 14.1%, 수수료수익 12.4%, 신탁업무운용수익 4.7%, 기타영업수익 1.1%, 배당금수익 0.5% 등으로 구성',\n",
       " '2017-04-23')"
      ]
     },
     "metadata": {},
     "output_type": "display_data"
    }
   ],
   "source": [
    "# desc, desc_date\n",
    "def get_desc(code):\n",
    "    url = 'http://companyinfo.stock.naver.com/v1/company/cmpcomment.aspx'\n",
    " \n",
    "    cmt_text = ' '\n",
    "    cmt_date = time.strftime(\"%Y-%m-%d\")\n",
    " \n",
    "    # preferred stock code to common stock\n",
    "    if code[-1] in ['5', '7', '9']:\n",
    "        code = code[0:-1] + '0'\n",
    " \n",
    "    headers = {'Host':'companyinfo.stock.naver.com'}\n",
    "    r = requests.post(url, data={'cmp_cd': code}, headers=headers)\n",
    "    if r.text == \"\":\n",
    "        return (cmt_text, cmt_date)\n",
    " \n",
    "    j = json.loads(r.text)\n",
    "    cmt_date = j['dt'].replace('.', '-')\n",
    "    cmts = j['data'][0]\n",
    "    cmts = [cmts['COMMENT_1'], cmts['COMMENT_2'], cmts['COMMENT_3'],  cmts['COMMENT_4'], cmts['COMMENT_5'] ]\n",
    "    cmt_text = '. '.join(cmts)\n",
    "    return (cmt_text, cmt_date)\n",
    "\n",
    "\n",
    "display( get_desc('005930'))\n",
    "display (get_desc('105560'))"
   ]
  },
  {
   "cell_type": "code",
   "execution_count": 11,
   "metadata": {
    "slideshow": {
     "slide_type": "slide"
    }
   },
   "outputs": [
    {
     "data": {
      "text/html": [
       "<div>\n",
       "<style>\n",
       "    .dataframe thead tr:only-child th {\n",
       "        text-align: right;\n",
       "    }\n",
       "\n",
       "    .dataframe thead th {\n",
       "        text-align: left;\n",
       "    }\n",
       "\n",
       "    .dataframe tbody tr th {\n",
       "        vertical-align: top;\n",
       "    }\n",
       "</style>\n",
       "<table border=\"1\" class=\"dataframe\">\n",
       "  <thead>\n",
       "    <tr style=\"text-align: right;\">\n",
       "      <th></th>\n",
       "      <th>index</th>\n",
       "      <th>code</th>\n",
       "      <th>name</th>\n",
       "      <th>hompage</th>\n",
       "      <th>telephone</th>\n",
       "      <th>address</th>\n",
       "      <th>market</th>\n",
       "      <th>wics</th>\n",
       "      <th>name_en</th>\n",
       "      <th>desc</th>\n",
       "      <th>desc_date</th>\n",
       "    </tr>\n",
       "  </thead>\n",
       "  <tbody>\n",
       "    <tr>\n",
       "      <th>0</th>\n",
       "      <td>0</td>\n",
       "      <td>060310</td>\n",
       "      <td>3S</td>\n",
       "      <td></td>\n",
       "      <td></td>\n",
       "      <td></td>\n",
       "      <td>KOSDAQ</td>\n",
       "      <td>반도체와반도체장비</td>\n",
       "      <td>3S Korea</td>\n",
       "      <td>동사는 1991년 설립되어 2002년 코스닥시장에 상장. 반도체웨이퍼 캐리어박스와 ...</td>\n",
       "      <td>2017-04-23</td>\n",
       "    </tr>\n",
       "    <tr>\n",
       "      <th>1</th>\n",
       "      <td>1</td>\n",
       "      <td>095570</td>\n",
       "      <td>AJ네트웍스</td>\n",
       "      <td></td>\n",
       "      <td></td>\n",
       "      <td></td>\n",
       "      <td>KOSPI</td>\n",
       "      <td>도로와철도운송</td>\n",
       "      <td>AJ Networks</td>\n",
       "      <td>2000년 2월 설립되었으며 2013년 12월 지배회사인 아주엘앤에프홀딩스(주)를 ...</td>\n",
       "      <td>2017-04-26</td>\n",
       "    </tr>\n",
       "    <tr>\n",
       "      <th>2</th>\n",
       "      <td>2</td>\n",
       "      <td>068400</td>\n",
       "      <td>AJ렌터카</td>\n",
       "      <td></td>\n",
       "      <td></td>\n",
       "      <td></td>\n",
       "      <td>KOSPI</td>\n",
       "      <td>도로와철도운송</td>\n",
       "      <td>AJ Rent A Car</td>\n",
       "      <td>동사는 1988년 브이아이피렌터카로 설립되어 자동차대여, 자동차운송 및 자동차정비사...</td>\n",
       "      <td>2017-04-23</td>\n",
       "    </tr>\n",
       "    <tr>\n",
       "      <th>3</th>\n",
       "      <td>3</td>\n",
       "      <td>006840</td>\n",
       "      <td>AK홀딩스</td>\n",
       "      <td></td>\n",
       "      <td></td>\n",
       "      <td></td>\n",
       "      <td>KOSPI</td>\n",
       "      <td>화학</td>\n",
       "      <td>AK Holdings, Inc.</td>\n",
       "      <td>동사는 2012년 9월 1일 인적분할을 통해, 신설회사 애경유화(주)(2012년 9...</td>\n",
       "      <td>2017-04-18</td>\n",
       "    </tr>\n",
       "    <tr>\n",
       "      <th>4</th>\n",
       "      <td>4</td>\n",
       "      <td>054620</td>\n",
       "      <td>APS홀딩스</td>\n",
       "      <td></td>\n",
       "      <td></td>\n",
       "      <td></td>\n",
       "      <td>KOSDAQ</td>\n",
       "      <td>디스플레이장비및부품</td>\n",
       "      <td>APS Holdings Corporation</td>\n",
       "      <td>1994년 9월 설립된 동사는 주요사업은 장비사업으로 AMOLED장비 제조, 반도체...</td>\n",
       "      <td>2017-04-22</td>\n",
       "    </tr>\n",
       "  </tbody>\n",
       "</table>\n",
       "</div>"
      ],
      "text/plain": [
       "   index    code    name hompage telephone address  market        wics  \\\n",
       "0      0  060310      3S                            KOSDAQ   반도체와반도체장비   \n",
       "1      1  095570  AJ네트웍스                             KOSPI     도로와철도운송   \n",
       "2      2  068400   AJ렌터카                             KOSPI     도로와철도운송   \n",
       "3      3  006840   AK홀딩스                             KOSPI          화학   \n",
       "4      4  054620  APS홀딩스                            KOSDAQ  디스플레이장비및부품   \n",
       "\n",
       "                    name_en  \\\n",
       "0                  3S Korea   \n",
       "1               AJ Networks   \n",
       "2             AJ Rent A Car   \n",
       "3         AK Holdings, Inc.   \n",
       "4  APS Holdings Corporation   \n",
       "\n",
       "                                                desc   desc_date  \n",
       "0  동사는 1991년 설립되어 2002년 코스닥시장에 상장. 반도체웨이퍼 캐리어박스와 ...  2017-04-23  \n",
       "1  2000년 2월 설립되었으며 2013년 12월 지배회사인 아주엘앤에프홀딩스(주)를 ...  2017-04-26  \n",
       "2  동사는 1988년 브이아이피렌터카로 설립되어 자동차대여, 자동차운송 및 자동차정비사...  2017-04-23  \n",
       "3  동사는 2012년 9월 1일 인적분할을 통해, 신설회사 애경유화(주)(2012년 9...  2017-04-18  \n",
       "4  1994년 9월 설립된 동사는 주요사업은 장비사업으로 AMOLED장비 제조, 반도체...  2017-04-22  "
      ]
     },
     "execution_count": 11,
     "metadata": {},
     "output_type": "execute_result"
    }
   ],
   "source": [
    "# 테이블  읽기\n",
    "df_desc = pd.read_sql_query('SELECT * FROM stock_desc', conn)\n",
    "df_desc.head()"
   ]
  },
  {
   "cell_type": "code",
   "execution_count": 12,
   "metadata": {
    "slideshow": {
     "slide_type": "slide"
    }
   },
   "outputs": [],
   "source": [
    "# df_desc\n",
    "# name, telephone, address, market, code, wics, name_en, desc, desc_date, corp_type, market_cap, update_date\n",
    "\n",
    "cur = conn.cursor()\n",
    "\n",
    "#iterows = df_desc.iterrows() # 전체\n",
    "iterows = df_desc[:5].iterrows() # 처음 5개만\n",
    "for idx, row in iterows:\n",
    "    if row['wics'] == '':\n",
    "        print('sector', row['code'])\n",
    "        market, wics, name_en = get_sector(row['code'])\n",
    "        cur.execute('UPDATE stock_desc SET market=?, wics=?, name_en=? WHERE code=?', (market, wics, name_en, row['code']) )\n",
    "        conn.commit()\n",
    "\n",
    "    if row['desc_date'] == '':\n",
    "        print('desc', row['code'])\n",
    "        desc, desc_date = get_desc(row['code'])\n",
    "        cur.execute('UPDATE stock_desc SET desc=?, desc_date=? WHERE code=?', (desc, desc_date, row['code']) )\n",
    "        conn.commit()\n"
   ]
  },
  {
   "cell_type": "code",
   "execution_count": 13,
   "metadata": {
    "slideshow": {
     "slide_type": "slide"
    }
   },
   "outputs": [
    {
     "name": "stdout",
     "output_type": "stream",
     "text": [
      "(0, '060310', '3S', '', '', '', 'KOSDAQ', '반도체와반도체장비', '3S Korea', '동사는 1991년 설립되어 2002년 코스닥시장에 상장. 반도체웨이퍼 캐리어박스와 냉동공조용 열량계, 환경시험설비 전문업체임. 냉난방 능력의 측정 및 실내외 기기 조합의 적합성, 내구성, 실용성을 측정하는 냉동공조기 측정장치 ‘칼로리메타’를 생산해 공급. 동사는 칼로리메타의 국산화에 최초로 성공하여 삼성전자, LG전자, 위니아만도, 한라공조 등을 비롯한 국내외 공조기 제조업체, 대학교, 연구기관 등에 납품. 동사에서 제작 중인 칼로리메타의 종류로는 에어컨 칼로리메타, 전열교환기 칼로리메타, 자동차에어컨 칼로리메타, 자동차컴프레셔 칼로리메타, 압축기 시험장치 등이 있으며 국내 시장 점유율 약 60%를 차지. 매출구성은 칼로리메타 외 68.9%, 웨이퍼캐리어 30.8%, 냉동부품 0.3% 등으로 구성', '2017-04-23')\n",
      "(1, '095570', 'AJ네트웍스', '', '', '', 'KOSPI', '도로와철도운송', 'AJ Networks', '2000년 2월 설립되었으며 2013년 12월 지배회사인 아주엘앤에프홀딩스(주)를 흡수 합병하였고, 자회사 등의 업무지원 사업을 영위하는 지주부문과 동사의 주요사업을 영위하는 사업부문으로 조직을 개편함. 당사는 파렛트, OA기기, 건설장비 장단기 대여, 판매업, 고소장비 사업을 영위. 렌탈 산업에 특화된 AJ그룹의 지주사로 AJ렌터카(자동차), AJ토탈(냉장/냉동창고), AJ파크(주차장) 등의 자회사를 보유함. 파레트영업망과 고소장비의 정비 능력의 시너지 효과를 증가시키기 위해 포크리프트렌탈 사업에 진출하였음. 매출구성은 렌탈매출 72.8%, 상품유통 23.7%, 기타 3.5%, 자산매각 0.02% 등으로 구성', '2017-04-26')\n",
      "(2, '068400', 'AJ렌터카', '', '', '', 'KOSPI', '도로와철도운송', 'AJ Rent A Car', '동사는 1988년 브이아이피렌터카로 설립되어 자동차대여, 자동차운송 및 자동차정비사업 등을 시작. 주요 사업으로는 자동차 대여사업(렌탈)을 영위. 공시대상 사업부문은 부동산 및 임대업임. 동사는 렌터카 시장 점유율 2위이며, 고객 서비스 만족도, 재무건전성 등 질적인 부분에서의 차별화에 역량을 집중하고 있음. 렌터카 시장은 장기렌터카와 단기렌터카의 시장으로 양분되며, 단기렌터카 시장은 정부차원의 관광산업 육성책으로 인하여 관광지를 중심으로 한 단기렌탈 수요가 꾸준히 증가하고 있음. 다양한 매체광고를 지속적으로 추진 중이며, 시기별 특성에 맞춘 Sales promotion을 통해 당사의 브랜드 인지도 제고 및 신규고객 유치 활동을 하고 있음. 매출구성은 차량렌탈 61.4%, 렌탈,리스자산 매각 19.6%, 기타 16.5%, 용역매출 등 2.5% 등으로 구성', '2017-04-23')\n",
      "(3, '006840', 'AK홀딩스', '', '', '', 'KOSPI', '화학', 'AK Holdings, Inc.', '동사는 2012년 9월 1일 인적분할을 통해, 신설회사 애경유화(주)(2012년 9월 3일 설립)를 설립하였으며, 인적분할시까지 영위하던 제조사업부문은 신설회사 애경유화(주)가 승계함. 종속회사는 무수프탈산 등을 제조 및 판매하는 애경유화(주), 계면활성제 등 화학제품을 제조하는 에이케이컴텍(주)등 8개 주요종속회사를 포함해 총 18개 회사로 구성. 동사는 순수지주회사로서 애경화학, 애경유화, 애경산업 등 7개의 자회사를 지배하고 있으며, 자회사가 영위하고 있는 업종에 따라 공시대상 사업부문은 화학부문, 생활용품부문, 항공운송부문, 백화점부문 등으로 구성. 화학부문은 애경유화 및 에이케이컴텍, 생활용품부문은 세제 및 화장품 등을 제조하는 애경산업, 항공운송부문은 제주항공, 백화점부문은 에이케이에스엔디, 부동산부문은 에이케이에셋 등으로 구성. 개별 매출구성은 배당수익 69.4%, 상표권수익 16.4%, 경영자문수수료 14.2% 등으로 구성', '2017-04-18')\n",
      "(4, '054620', 'APS홀딩스', '', '', '', 'KOSDAQ', '디스플레이장비및부품', 'APS Holdings Corporation', '1994년 9월 설립된 동사는 주요사업은 장비사업으로 AMOLED장비 제조, 반도체장비 제조, LCD장비 제조, 레이저응용장비 제조 사업 등을 영위. 동사에서 개발하여 공급하고 있는 ELA, LLO, Encapsulation 장비는 AMOLED부문 세계 최대 시장 점유율을 갖고 있는 삼성디스플레이 뿐만 아니라 다수의 해외 디스플레이 패널 제조사로 공급확대. TFT-LCD는 진입장벽이 매우 높은 산업으로 대규모 연구개발 비용 소요와 장비 대형화에 따른 인프라 구축을 위해 대규모의 자금력이 요구. 동사의 반도체장비개발은 삼성전자와 2000년대 초 공동개발로 시작하였고 200mm RTP장비를 시작으로 300mm RTP장비까지 개발. 매출구성은 장비사업 100% 임', '2017-04-22')\n"
     ]
    }
   ],
   "source": [
    "cursor = conn.execute(\"SELECT * from stock_desc limit 5\")\n",
    "for row in cursor:\n",
    "    print (row)"
   ]
  },
  {
   "cell_type": "code",
   "execution_count": 14,
   "metadata": {
    "slideshow": {
     "slide_type": "slide"
    }
   },
   "outputs": [
    {
     "data": {
      "text/html": [
       "<div>\n",
       "<style>\n",
       "    .dataframe thead tr:only-child th {\n",
       "        text-align: right;\n",
       "    }\n",
       "\n",
       "    .dataframe thead th {\n",
       "        text-align: left;\n",
       "    }\n",
       "\n",
       "    .dataframe tbody tr th {\n",
       "        vertical-align: top;\n",
       "    }\n",
       "</style>\n",
       "<table border=\"1\" class=\"dataframe\">\n",
       "  <thead>\n",
       "    <tr style=\"text-align: right;\">\n",
       "      <th></th>\n",
       "      <th>index</th>\n",
       "      <th>code</th>\n",
       "      <th>name</th>\n",
       "      <th>hompage</th>\n",
       "      <th>telephone</th>\n",
       "      <th>address</th>\n",
       "      <th>market</th>\n",
       "      <th>wics</th>\n",
       "      <th>name_en</th>\n",
       "      <th>desc</th>\n",
       "      <th>desc_date</th>\n",
       "    </tr>\n",
       "  </thead>\n",
       "  <tbody>\n",
       "    <tr>\n",
       "      <th>2139</th>\n",
       "      <td>2139</td>\n",
       "      <td>010240</td>\n",
       "      <td>흥국</td>\n",
       "      <td></td>\n",
       "      <td></td>\n",
       "      <td></td>\n",
       "      <td></td>\n",
       "      <td></td>\n",
       "      <td></td>\n",
       "      <td></td>\n",
       "      <td></td>\n",
       "    </tr>\n",
       "    <tr>\n",
       "      <th>2140</th>\n",
       "      <td>2140</td>\n",
       "      <td>189980</td>\n",
       "      <td>흥국에프엔비</td>\n",
       "      <td></td>\n",
       "      <td></td>\n",
       "      <td></td>\n",
       "      <td></td>\n",
       "      <td></td>\n",
       "      <td></td>\n",
       "      <td></td>\n",
       "      <td></td>\n",
       "    </tr>\n",
       "    <tr>\n",
       "      <th>2141</th>\n",
       "      <td>2141</td>\n",
       "      <td>000540</td>\n",
       "      <td>흥국화재</td>\n",
       "      <td></td>\n",
       "      <td></td>\n",
       "      <td></td>\n",
       "      <td></td>\n",
       "      <td></td>\n",
       "      <td></td>\n",
       "      <td></td>\n",
       "      <td></td>\n",
       "    </tr>\n",
       "    <tr>\n",
       "      <th>2142</th>\n",
       "      <td>2142</td>\n",
       "      <td>003280</td>\n",
       "      <td>흥아해운</td>\n",
       "      <td></td>\n",
       "      <td></td>\n",
       "      <td></td>\n",
       "      <td></td>\n",
       "      <td></td>\n",
       "      <td></td>\n",
       "      <td></td>\n",
       "      <td></td>\n",
       "    </tr>\n",
       "    <tr>\n",
       "      <th>2143</th>\n",
       "      <td>2143</td>\n",
       "      <td>037440</td>\n",
       "      <td>희림</td>\n",
       "      <td></td>\n",
       "      <td></td>\n",
       "      <td></td>\n",
       "      <td></td>\n",
       "      <td></td>\n",
       "      <td></td>\n",
       "      <td></td>\n",
       "      <td></td>\n",
       "    </tr>\n",
       "  </tbody>\n",
       "</table>\n",
       "</div>"
      ],
      "text/plain": [
       "      index    code    name hompage telephone address market wics name_en  \\\n",
       "2139   2139  010240      흥국                                                 \n",
       "2140   2140  189980  흥국에프엔비                                                 \n",
       "2141   2141  000540    흥국화재                                                 \n",
       "2142   2142  003280    흥아해운                                                 \n",
       "2143   2143  037440      희림                                                 \n",
       "\n",
       "     desc desc_date  \n",
       "2139                 \n",
       "2140                 \n",
       "2141                 \n",
       "2142                 \n",
       "2143                 "
      ]
     },
     "execution_count": 14,
     "metadata": {},
     "output_type": "execute_result"
    }
   ],
   "source": [
    "# 테이블  읽기\n",
    "df = pd.read_sql_query('SELECT * FROM stock_desc', conn)\n",
    "df.tail()"
   ]
  },
  {
   "cell_type": "markdown",
   "metadata": {
    "slideshow": {
     "slide_type": "slide"
    }
   },
   "source": [
    "# 전체 코드\n",
    "* stock_desc.py"
   ]
  },
  {
   "cell_type": "code",
   "execution_count": 15,
   "metadata": {
    "slideshow": {
     "slide_type": "-"
    }
   },
   "outputs": [
    {
     "name": "stdout",
     "output_type": "stream",
     "text": [
      "Overwriting stock_desc.py\n"
     ]
    }
   ],
   "source": [
    "%%file stock_desc.py\n",
    "#!/usr/bin/python\n",
    "\n",
    "import pandas as pd\n",
    "import requests\n",
    "import time\n",
    "import json\n",
    "from bs4 import BeautifulSoup\n",
    "import sqlite3\n",
    "\n",
    "# sector, wics, name_en\n",
    "def get_naver_sector(code):\n",
    "    name_en, sector, wics, market = 'nan', 'nan', 'nan', 'nan'\n",
    "    url = 'http://companyinfo.stock.naver.com/v1/company/c1010001.aspx?cmp_cd=' + code\n",
    "    r = requests.get(url)\n",
    "    soup = BeautifulSoup(r.text,\"lxml\")\n",
    "    td = soup.find('td', {'class':'cmp-table-cell td0101'})\n",
    "    if td == None:\n",
    "        return sector, wics, name_en\n",
    "        \n",
    "    dts = td.findAll('dt')\n",
    "\n",
    "    # dts[1], name_en\n",
    "    name_en = dts[1].text\n",
    "    \n",
    "    # dts[2], sector\n",
    "    s = dts[2]\n",
    "    if s.text.find('KOSPI :') >= 0:\n",
    "        market = 'KOSPI'\n",
    "        sector = s.text.split(' : ')[1]\n",
    "    elif dts[2].text.find('KOSDAQ :') >= 0:\n",
    "        market = 'KOSDAQ'\n",
    "        sector = s.text.split(' : ')[1]\n",
    "            \n",
    "    # dts[3], wics\n",
    "    s = dts[3]\n",
    "    if s.text.find('WICS :') >= 0:\n",
    "        wics = s.text.split(' : ')[1]\n",
    "\n",
    "    return market, wics, name_en\n",
    "\n",
    "# desc, desc_date\n",
    "def get_naver_desc(code):\n",
    "    url = 'http://companyinfo.stock.naver.com/v1/company/cmpcomment.aspx'\n",
    " \n",
    "    cmt_text = ' '\n",
    "    cmt_date = time.strftime(\"%Y-%m-%d\")\n",
    " \n",
    "    if code[-1] == '5': # pre_order\n",
    "        code = code[0:-1] + '0'\n",
    "    if code[-1] == '7': # pre_order\n",
    "        code = code[0:-1] + '0'\n",
    " \n",
    "    headers = {'Host':'companyinfo.stock.naver.com'}\n",
    "    r = requests.post(url, data={'cmp_cd': code}, headers=headers)\n",
    "    if r.text == \"\":\n",
    "        return (cmt_text, cmt_date)\n",
    " \n",
    "    j = json.loads(r.text)\n",
    "    cmt_date = j['dt'].replace('.', '-')\n",
    "    cmts = j['data'][0]\n",
    "    cmts = [cmts['COMMENT_1'], cmts['COMMENT_2'], cmts['COMMENT_3'],  cmts['COMMENT_4'], cmts['COMMENT_5'] ]\n",
    "    cmt_text = '. '.join(cmts)\n",
    "    return (cmt_text, cmt_date)\n",
    "\n",
    "# homepage url, telephone, address\n",
    "def get_naver_addres(code):\n",
    "    homepage, telephone, address = '', '', ''\n",
    "    url = 'http://companyinfo.stock.naver.com/v1/company/c1020001.aspx?cmp_cd=' + code\n",
    "    r = requests.get(url)\n",
    "    soup = BeautifulSoup(r.text,\"lxml\")\n",
    "    tab = soup.find('table', {'id':'cTB201'})\n",
    "    if tab == None:\n",
    "        return homepage, telephone, address\n",
    "    \n",
    "    td = tab.find('td', {'class':'c2 txt'})\n",
    "    if td.a:\n",
    "        homepage = td.a['href'].strip()\n",
    "\n",
    "    td = tab.find('td', {'class':'c4 txt'})\n",
    "    telephone = td.text.strip()\n",
    "\n",
    "    td = tab.find('td', {'class':'txt', 'colspan':'3'})\n",
    "    address = td.text.strip()\n",
    "\n",
    "    return homepage, telephone, address\n",
    "    \n",
    "# create stock_desc table\n",
    "def create_stock_desc(conn):\n",
    "    exist_sql = \"SELECT name FROM sqlite_master WHERE type='table' AND name='stock_desc';\"\n",
    "    df_exist = pd.read_sql(exist_sql, conn)\n",
    "    if len(df_exist) > 0:\n",
    "        return False\n",
    "    \n",
    "    # create stock_desc\n",
    "    df_master = pd.read_sql('SELECT * FROM stock_master', conn)\n",
    "    df_desc = df_master[['code', 'name']]\n",
    "    df_desc['hompage'] = ''\n",
    "    df_desc['telephone'] = ''\n",
    "    df_desc['address'] = ''\n",
    "    df_desc['market'] = ''\n",
    "    df_desc['wics'] = ''\n",
    "    df_desc['name_en'] = ''\n",
    "    df_desc['desc'] = ''\n",
    "    df_desc['desc_date'] = ''\n",
    "    df_desc.to_sql('stock_desc', conn)\n",
    "    return True\n",
    "        \n",
    "if __name__ == \"__main__\":\n",
    "    conn = sqlite3.connect('findata.db')\n",
    "    create_stock_desc(conn)\n",
    "\n",
    "    df_desc = pd.read_sql(\"SELECT * FROM stock_desc\", conn)\n",
    "    cur = conn.cursor()\n",
    "\n",
    "    for idx, row in df_desc.iterrows():\n",
    "        if row['homepage'] == '' or row['homepage'] == None:\n",
    "            print('sector', row['code'], row['name'])\n",
    "            homepage, telephone, address = get_naver_addres(row['code'])\n",
    "            print(homepage, telephone, address)\n",
    "            cur.execute('UPDATE stock_desc SET homepage=?, telephone=?, address=? WHERE code=?', \n",
    "                        (homepage, telephone, address, row['code']) )\n",
    "            conn.commit()\n",
    "\n",
    "        if row['wics'] == '':\n",
    "            print('sector', row['code'], row['name'])\n",
    "            market, wics, name_en = get_naver_sector(row['code'])\n",
    "            print (market, wics, name_en)\n",
    "            cur.execute('UPDATE stock_desc SET market=?, wics=?, name_en=? WHERE code=?', \n",
    "                        (market, wics, name_en, row['code']) )\n",
    "            conn.commit()\n",
    "    \n",
    "        if row['desc_date'] == '':\n",
    "            desc, desc_date = get_naver_desc(row['code'])\n",
    "            print (desc, desc_date)\n",
    "            cur.execute('UPDATE stock_desc SET desc=?, desc_date=? WHERE code=?', \n",
    "                        (desc, desc_date, row['code']) )\n",
    "            conn.commit()\n",
    "        print(row['code'], row['name'])\n",
    "        \n",
    "    conn.close()"
   ]
  },
  {
   "cell_type": "markdown",
   "metadata": {
    "slideshow": {
     "slide_type": "slide"
    }
   },
   "source": [
    "# 실행하기\n",
    "\n",
    "명령어 라인에서 아래와 같이 실행합니다.\n",
    "\n",
    "```bash\n",
    "$ python3 stock_desc.py\n",
    "```"
   ]
  },
  {
   "cell_type": "markdown",
   "metadata": {
    "slideshow": {
     "slide_type": "notes"
    }
   },
   "source": [
    "----\n",
    "#### 2017 FinanceData http://fb.com/financedata http://financedata.github.com"
   ]
  }
 ],
 "metadata": {
  "celltoolbar": "Slideshow",
  "kernelspec": {
   "display_name": "Python 3",
   "language": "python",
   "name": "python3"
  },
  "language_info": {
   "codemirror_mode": {
    "name": "ipython",
    "version": 3
   },
   "file_extension": ".py",
   "mimetype": "text/x-python",
   "name": "python",
   "nbconvert_exporter": "python",
   "pygments_lexer": "ipython3",
   "version": "3.5.2"
  }
 },
 "nbformat": 4,
 "nbformat_minor": 1
}