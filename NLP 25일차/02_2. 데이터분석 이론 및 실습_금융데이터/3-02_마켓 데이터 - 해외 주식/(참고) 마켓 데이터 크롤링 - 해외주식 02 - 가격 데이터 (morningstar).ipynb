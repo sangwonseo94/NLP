{
 "cells": [
  {
   "cell_type": "markdown",
   "metadata": {
    "slideshow": {
     "slide_type": "slide"
    }
   },
   "source": [
    "# 해외 주식 02 - 가격 데이터\n",
    "\n",
    "<img src=\"http://i.imgur.com/grQHNKG.jpg\">\n",
    "\n",
    "\n",
    "### 2018 FinanceData http://fb.com/financedata"
   ]
  },
  {
   "cell_type": "markdown",
   "metadata": {
    "slideshow": {
     "slide_type": "slide"
    }
   },
   "source": [
    "# 모듈 임포트와 버전 확인"
   ]
  },
  {
   "cell_type": "code",
   "execution_count": 1,
   "metadata": {
    "slideshow": {
     "slide_type": "-"
    }
   },
   "outputs": [
    {
     "name": "stdout",
     "output_type": "stream",
     "text": [
      "0.22.0\n"
     ]
    }
   ],
   "source": [
    "import pandas as pd\n",
    "print(pd.__version__)"
   ]
  },
  {
   "cell_type": "code",
   "execution_count": 2,
   "metadata": {
    "slideshow": {
     "slide_type": "-"
    }
   },
   "outputs": [
    {
     "name": "stdout",
     "output_type": "stream",
     "text": [
      "0.6.0\n"
     ]
    }
   ],
   "source": [
    "import pandas_datareader as pdr\n",
    "print(pdr.__version__)"
   ]
  },
  {
   "cell_type": "markdown",
   "metadata": {
    "colab": {
     "autoexec": {
      "startup": false,
      "wait_interval": 0
     }
    },
    "colab_type": "code",
    "id": "p7inMzu6OaJl",
    "slideshow": {
     "slide_type": "notes"
    }
   },
   "source": [
    "pandas_datareader로 다양한 시계열 데이터들을 손쉽게 가져올 수 있다. 특히, 개별 종목의 과거 주식 가격을 가져오기 위해 구글 파이낸스와 야후 파이낸스를 많이 사용했다. 그러나, 현재 구글 파이낸스는 UNSTABLE_WARNING 를 내고, 야후 파이낸스는 더 이상 사용되지 않는다 (deprecated). 2018년 4월 현재 버전은 (pandas 0.22.0, pandas_datareader 0.6.0) 이다.\n",
    "\n",
    "구글 파이낸스의 경우,\n",
    "\n",
    "```python\n",
    "import pandas_datareader as pdr\n",
    "df = pdr.DataReader('AAPL', 'google', '2018-01-01', '2018-04-30')\n",
    "```\n",
    "\n",
    "UNSTABLE_WARNING 과 'RemoteDataError: Unable to read URL' 에러를 낸다.\n",
    "\n",
    "야후 파이낸스의 경우,\n",
    "\n",
    "```python\n",
    "import pandas_datareader as pdr\n",
    "df = pdr.DataReader('AAPL', 'yahoo', '2018-01-01')\n",
    "```\n",
    "\n",
    "ImmediateDeprecationError 에러를 낸다.\n"
   ]
  },
  {
   "cell_type": "markdown",
   "metadata": {
    "slideshow": {
     "slide_type": "slide"
    }
   },
   "source": [
    "#  pandas_datareader\n",
    "\n",
    "* https://pandas-datareader.readthedocs.io (공식 문서)"
   ]
  },
  {
   "cell_type": "markdown",
   "metadata": {
    "slideshow": {
     "slide_type": "slide"
    }
   },
   "source": [
    "# morningstar\n",
    "\n",
    "새로운 버전 (0.6.0)에 몇몇 데이터 소스가 추가 되었다. (Tiingo, Robinhood, Morningstar, IEX, 등) <BR>\n",
    "이중 Morningstar 를 사용하여 이전의 구글 파이낸스, 야후 파이낸스를 대체할 수 있다.\n",
    "    \n",
    "국내 주식 종목은 종목코드 앞에 \"XRKX:\" 를 붙여준다\n",
    "\n",
    "* XKRX:005930 - 삼성전자\n",
    "* XKRX:091990 - 셀트리온헬스케어"
   ]
  },
  {
   "cell_type": "code",
   "execution_count": 3,
   "metadata": {
    "slideshow": {
     "slide_type": "slide"
    }
   },
   "outputs": [
    {
     "data": {
      "text/html": [
       "<div>\n",
       "<style scoped>\n",
       "    .dataframe tbody tr th:only-of-type {\n",
       "        vertical-align: middle;\n",
       "    }\n",
       "\n",
       "    .dataframe tbody tr th {\n",
       "        vertical-align: top;\n",
       "    }\n",
       "\n",
       "    .dataframe thead th {\n",
       "        text-align: right;\n",
       "    }\n",
       "</style>\n",
       "<table border=\"1\" class=\"dataframe\">\n",
       "  <thead>\n",
       "    <tr style=\"text-align: right;\">\n",
       "      <th></th>\n",
       "      <th></th>\n",
       "      <th>Close</th>\n",
       "      <th>High</th>\n",
       "      <th>Low</th>\n",
       "      <th>Open</th>\n",
       "      <th>Volume</th>\n",
       "    </tr>\n",
       "    <tr>\n",
       "      <th>Symbol</th>\n",
       "      <th>Date</th>\n",
       "      <th></th>\n",
       "      <th></th>\n",
       "      <th></th>\n",
       "      <th></th>\n",
       "      <th></th>\n",
       "    </tr>\n",
       "  </thead>\n",
       "  <tbody>\n",
       "    <tr>\n",
       "      <th rowspan=\"5\" valign=\"top\">AAPL</th>\n",
       "      <th>2018-03-26</th>\n",
       "      <td>172.77</td>\n",
       "      <td>173.10</td>\n",
       "      <td>166.44</td>\n",
       "      <td>168.070</td>\n",
       "      <td>37541236</td>\n",
       "    </tr>\n",
       "    <tr>\n",
       "      <th>2018-03-27</th>\n",
       "      <td>168.34</td>\n",
       "      <td>175.15</td>\n",
       "      <td>166.92</td>\n",
       "      <td>173.680</td>\n",
       "      <td>40922579</td>\n",
       "    </tr>\n",
       "    <tr>\n",
       "      <th>2018-03-28</th>\n",
       "      <td>166.48</td>\n",
       "      <td>170.02</td>\n",
       "      <td>165.19</td>\n",
       "      <td>167.250</td>\n",
       "      <td>41668545</td>\n",
       "    </tr>\n",
       "    <tr>\n",
       "      <th>2018-03-29</th>\n",
       "      <td>167.78</td>\n",
       "      <td>171.75</td>\n",
       "      <td>166.90</td>\n",
       "      <td>167.805</td>\n",
       "      <td>38398505</td>\n",
       "    </tr>\n",
       "    <tr>\n",
       "      <th>2018-03-30</th>\n",
       "      <td>167.78</td>\n",
       "      <td>167.78</td>\n",
       "      <td>167.78</td>\n",
       "      <td>167.780</td>\n",
       "      <td>0</td>\n",
       "    </tr>\n",
       "  </tbody>\n",
       "</table>\n",
       "</div>"
      ],
      "text/plain": [
       "                    Close    High     Low     Open    Volume\n",
       "Symbol Date                                                 \n",
       "AAPL   2018-03-26  172.77  173.10  166.44  168.070  37541236\n",
       "       2018-03-27  168.34  175.15  166.92  173.680  40922579\n",
       "       2018-03-28  166.48  170.02  165.19  167.250  41668545\n",
       "       2018-03-29  167.78  171.75  166.90  167.805  38398505\n",
       "       2018-03-30  167.78  167.78  167.78  167.780         0"
      ]
     },
     "execution_count": 3,
     "metadata": {},
     "output_type": "execute_result"
    }
   ],
   "source": [
    "import pandas_datareader as pdr\n",
    "\n",
    "# 애플(AAPL) 2018년 1Q 가격 데이터 \n",
    "\n",
    "df = pdr.DataReader('AAPL', 'morningstar', '2018-01-01', '2018-03-30')\n",
    "df.tail()"
   ]
  },
  {
   "cell_type": "code",
   "execution_count": 4,
   "metadata": {},
   "outputs": [
    {
     "data": {
      "text/html": [
       "<div>\n",
       "<style scoped>\n",
       "    .dataframe tbody tr th:only-of-type {\n",
       "        vertical-align: middle;\n",
       "    }\n",
       "\n",
       "    .dataframe tbody tr th {\n",
       "        vertical-align: top;\n",
       "    }\n",
       "\n",
       "    .dataframe thead th {\n",
       "        text-align: right;\n",
       "    }\n",
       "</style>\n",
       "<table border=\"1\" class=\"dataframe\">\n",
       "  <thead>\n",
       "    <tr style=\"text-align: right;\">\n",
       "      <th></th>\n",
       "      <th></th>\n",
       "      <th>Close</th>\n",
       "      <th>High</th>\n",
       "      <th>Low</th>\n",
       "      <th>Open</th>\n",
       "      <th>Volume</th>\n",
       "    </tr>\n",
       "    <tr>\n",
       "      <th>Symbol</th>\n",
       "      <th>Date</th>\n",
       "      <th></th>\n",
       "      <th></th>\n",
       "      <th></th>\n",
       "      <th></th>\n",
       "      <th></th>\n",
       "    </tr>\n",
       "  </thead>\n",
       "  <tbody>\n",
       "    <tr>\n",
       "      <th rowspan=\"5\" valign=\"top\">XKRX:005930</th>\n",
       "      <th>2018-03-26</th>\n",
       "      <td>50280</td>\n",
       "      <td>50280</td>\n",
       "      <td>49040</td>\n",
       "      <td>49420</td>\n",
       "      <td>10057750</td>\n",
       "    </tr>\n",
       "    <tr>\n",
       "      <th>2018-03-27</th>\n",
       "      <td>49980</td>\n",
       "      <td>50460</td>\n",
       "      <td>49080</td>\n",
       "      <td>50320</td>\n",
       "      <td>11874000</td>\n",
       "    </tr>\n",
       "    <tr>\n",
       "      <th>2018-03-28</th>\n",
       "      <td>48700</td>\n",
       "      <td>49100</td>\n",
       "      <td>48340</td>\n",
       "      <td>49100</td>\n",
       "      <td>15159450</td>\n",
       "    </tr>\n",
       "    <tr>\n",
       "      <th>2018-03-29</th>\n",
       "      <td>49040</td>\n",
       "      <td>49560</td>\n",
       "      <td>48320</td>\n",
       "      <td>48700</td>\n",
       "      <td>10067000</td>\n",
       "    </tr>\n",
       "    <tr>\n",
       "      <th>2018-03-30</th>\n",
       "      <td>49220</td>\n",
       "      <td>49900</td>\n",
       "      <td>49080</td>\n",
       "      <td>49080</td>\n",
       "      <td>7777100</td>\n",
       "    </tr>\n",
       "  </tbody>\n",
       "</table>\n",
       "</div>"
      ],
      "text/plain": [
       "                        Close   High    Low   Open    Volume\n",
       "Symbol      Date                                            \n",
       "XKRX:005930 2018-03-26  50280  50280  49040  49420  10057750\n",
       "            2018-03-27  49980  50460  49080  50320  11874000\n",
       "            2018-03-28  48700  49100  48340  49100  15159450\n",
       "            2018-03-29  49040  49560  48320  48700  10067000\n",
       "            2018-03-30  49220  49900  49080  49080   7777100"
      ]
     },
     "execution_count": 4,
     "metadata": {},
     "output_type": "execute_result"
    }
   ],
   "source": [
    "# 삼성전자(XKRX:005930) 2018년 1Q 가격 데이터 \n",
    "\n",
    "df = pdr.DataReader('XKRX:005930', 'morningstar', '2010-01-01', '2018-03-30')\n",
    "df.tail()"
   ]
  },
  {
   "cell_type": "code",
   "execution_count": 5,
   "metadata": {
    "slideshow": {
     "slide_type": "-"
    }
   },
   "outputs": [
    {
     "data": {
      "text/html": [
       "<div>\n",
       "<style scoped>\n",
       "    .dataframe tbody tr th:only-of-type {\n",
       "        vertical-align: middle;\n",
       "    }\n",
       "\n",
       "    .dataframe tbody tr th {\n",
       "        vertical-align: top;\n",
       "    }\n",
       "\n",
       "    .dataframe thead th {\n",
       "        text-align: right;\n",
       "    }\n",
       "</style>\n",
       "<table border=\"1\" class=\"dataframe\">\n",
       "  <thead>\n",
       "    <tr style=\"text-align: right;\">\n",
       "      <th></th>\n",
       "      <th></th>\n",
       "      <th>Close</th>\n",
       "      <th>High</th>\n",
       "      <th>Low</th>\n",
       "      <th>Open</th>\n",
       "      <th>Volume</th>\n",
       "    </tr>\n",
       "    <tr>\n",
       "      <th>Symbol</th>\n",
       "      <th>Date</th>\n",
       "      <th></th>\n",
       "      <th></th>\n",
       "      <th></th>\n",
       "      <th></th>\n",
       "      <th></th>\n",
       "    </tr>\n",
       "  </thead>\n",
       "  <tbody>\n",
       "    <tr>\n",
       "      <th rowspan=\"20\" valign=\"top\">AAPL</th>\n",
       "      <th>2018-02-01</th>\n",
       "      <td>167.78</td>\n",
       "      <td>168.620</td>\n",
       "      <td>166.7600</td>\n",
       "      <td>167.165</td>\n",
       "      <td>47230787</td>\n",
       "    </tr>\n",
       "    <tr>\n",
       "      <th>2018-02-02</th>\n",
       "      <td>160.50</td>\n",
       "      <td>166.800</td>\n",
       "      <td>160.1000</td>\n",
       "      <td>166.000</td>\n",
       "      <td>86593825</td>\n",
       "    </tr>\n",
       "    <tr>\n",
       "      <th>2018-02-05</th>\n",
       "      <td>156.49</td>\n",
       "      <td>163.880</td>\n",
       "      <td>156.0000</td>\n",
       "      <td>159.100</td>\n",
       "      <td>72738522</td>\n",
       "    </tr>\n",
       "    <tr>\n",
       "      <th>2018-02-06</th>\n",
       "      <td>163.03</td>\n",
       "      <td>163.720</td>\n",
       "      <td>154.0000</td>\n",
       "      <td>154.830</td>\n",
       "      <td>68243838</td>\n",
       "    </tr>\n",
       "    <tr>\n",
       "      <th>2018-02-07</th>\n",
       "      <td>159.54</td>\n",
       "      <td>163.400</td>\n",
       "      <td>159.0685</td>\n",
       "      <td>163.085</td>\n",
       "      <td>51608580</td>\n",
       "    </tr>\n",
       "    <tr>\n",
       "      <th>2018-02-08</th>\n",
       "      <td>155.15</td>\n",
       "      <td>161.000</td>\n",
       "      <td>155.0300</td>\n",
       "      <td>160.290</td>\n",
       "      <td>54390516</td>\n",
       "    </tr>\n",
       "    <tr>\n",
       "      <th>2018-02-09</th>\n",
       "      <td>156.41</td>\n",
       "      <td>157.890</td>\n",
       "      <td>150.2400</td>\n",
       "      <td>157.070</td>\n",
       "      <td>70672608</td>\n",
       "    </tr>\n",
       "    <tr>\n",
       "      <th>2018-02-12</th>\n",
       "      <td>162.71</td>\n",
       "      <td>163.890</td>\n",
       "      <td>157.5100</td>\n",
       "      <td>158.500</td>\n",
       "      <td>60819539</td>\n",
       "    </tr>\n",
       "    <tr>\n",
       "      <th>2018-02-13</th>\n",
       "      <td>164.34</td>\n",
       "      <td>164.750</td>\n",
       "      <td>161.6500</td>\n",
       "      <td>161.950</td>\n",
       "      <td>32549163</td>\n",
       "    </tr>\n",
       "    <tr>\n",
       "      <th>2018-02-14</th>\n",
       "      <td>167.37</td>\n",
       "      <td>167.540</td>\n",
       "      <td>162.8800</td>\n",
       "      <td>163.045</td>\n",
       "      <td>40644933</td>\n",
       "    </tr>\n",
       "    <tr>\n",
       "      <th>2018-02-15</th>\n",
       "      <td>172.99</td>\n",
       "      <td>173.090</td>\n",
       "      <td>169.0000</td>\n",
       "      <td>169.790</td>\n",
       "      <td>51147171</td>\n",
       "    </tr>\n",
       "    <tr>\n",
       "      <th>2018-02-16</th>\n",
       "      <td>172.43</td>\n",
       "      <td>174.820</td>\n",
       "      <td>171.7700</td>\n",
       "      <td>172.360</td>\n",
       "      <td>40176091</td>\n",
       "    </tr>\n",
       "    <tr>\n",
       "      <th>2018-02-19</th>\n",
       "      <td>172.43</td>\n",
       "      <td>172.430</td>\n",
       "      <td>172.4300</td>\n",
       "      <td>172.430</td>\n",
       "      <td>0</td>\n",
       "    </tr>\n",
       "    <tr>\n",
       "      <th>2018-02-20</th>\n",
       "      <td>171.85</td>\n",
       "      <td>174.260</td>\n",
       "      <td>171.4200</td>\n",
       "      <td>172.050</td>\n",
       "      <td>33930540</td>\n",
       "    </tr>\n",
       "    <tr>\n",
       "      <th>2018-02-21</th>\n",
       "      <td>171.07</td>\n",
       "      <td>174.120</td>\n",
       "      <td>171.0100</td>\n",
       "      <td>172.830</td>\n",
       "      <td>37471623</td>\n",
       "    </tr>\n",
       "    <tr>\n",
       "      <th>2018-02-22</th>\n",
       "      <td>172.50</td>\n",
       "      <td>173.950</td>\n",
       "      <td>171.7100</td>\n",
       "      <td>171.800</td>\n",
       "      <td>30991940</td>\n",
       "    </tr>\n",
       "    <tr>\n",
       "      <th>2018-02-23</th>\n",
       "      <td>175.50</td>\n",
       "      <td>175.650</td>\n",
       "      <td>173.5400</td>\n",
       "      <td>173.670</td>\n",
       "      <td>33812360</td>\n",
       "    </tr>\n",
       "    <tr>\n",
       "      <th>2018-02-26</th>\n",
       "      <td>178.97</td>\n",
       "      <td>179.390</td>\n",
       "      <td>176.2100</td>\n",
       "      <td>176.350</td>\n",
       "      <td>38162174</td>\n",
       "    </tr>\n",
       "    <tr>\n",
       "      <th>2018-02-27</th>\n",
       "      <td>178.39</td>\n",
       "      <td>180.480</td>\n",
       "      <td>178.1600</td>\n",
       "      <td>179.100</td>\n",
       "      <td>38928125</td>\n",
       "    </tr>\n",
       "    <tr>\n",
       "      <th>2018-02-28</th>\n",
       "      <td>178.12</td>\n",
       "      <td>180.615</td>\n",
       "      <td>178.0500</td>\n",
       "      <td>179.260</td>\n",
       "      <td>37782138</td>\n",
       "    </tr>\n",
       "  </tbody>\n",
       "</table>\n",
       "</div>"
      ],
      "text/plain": [
       "                    Close     High       Low     Open    Volume\n",
       "Symbol Date                                                    \n",
       "AAPL   2018-02-01  167.78  168.620  166.7600  167.165  47230787\n",
       "       2018-02-02  160.50  166.800  160.1000  166.000  86593825\n",
       "       2018-02-05  156.49  163.880  156.0000  159.100  72738522\n",
       "       2018-02-06  163.03  163.720  154.0000  154.830  68243838\n",
       "       2018-02-07  159.54  163.400  159.0685  163.085  51608580\n",
       "       2018-02-08  155.15  161.000  155.0300  160.290  54390516\n",
       "       2018-02-09  156.41  157.890  150.2400  157.070  70672608\n",
       "       2018-02-12  162.71  163.890  157.5100  158.500  60819539\n",
       "       2018-02-13  164.34  164.750  161.6500  161.950  32549163\n",
       "       2018-02-14  167.37  167.540  162.8800  163.045  40644933\n",
       "       2018-02-15  172.99  173.090  169.0000  169.790  51147171\n",
       "       2018-02-16  172.43  174.820  171.7700  172.360  40176091\n",
       "       2018-02-19  172.43  172.430  172.4300  172.430         0\n",
       "       2018-02-20  171.85  174.260  171.4200  172.050  33930540\n",
       "       2018-02-21  171.07  174.120  171.0100  172.830  37471623\n",
       "       2018-02-22  172.50  173.950  171.7100  171.800  30991940\n",
       "       2018-02-23  175.50  175.650  173.5400  173.670  33812360\n",
       "       2018-02-26  178.97  179.390  176.2100  176.350  38162174\n",
       "       2018-02-27  178.39  180.480  178.1600  179.100  38928125\n",
       "       2018-02-28  178.12  180.615  178.0500  179.260  37782138"
      ]
     },
     "execution_count": 5,
     "metadata": {},
     "output_type": "execute_result"
    }
   ],
   "source": [
    "import pandas_datareader as pdr\n",
    "pdr.DataReader('AAPL', 'morningstar', '2018-02-01', '2018-02-28')"
   ]
  },
  {
   "cell_type": "markdown",
   "metadata": {
    "slideshow": {
     "slide_type": "slide"
    }
   },
   "source": [
    "# 가격 데이터 Historical Prices\n",
    "\n",
    "삼성전자(005930) 2017년 일별 주가"
   ]
  },
  {
   "cell_type": "code",
   "execution_count": 6,
   "metadata": {
    "slideshow": {
     "slide_type": "-"
    }
   },
   "outputs": [
    {
     "data": {
      "text/html": [
       "<div>\n",
       "<style scoped>\n",
       "    .dataframe tbody tr th:only-of-type {\n",
       "        vertical-align: middle;\n",
       "    }\n",
       "\n",
       "    .dataframe tbody tr th {\n",
       "        vertical-align: top;\n",
       "    }\n",
       "\n",
       "    .dataframe thead th {\n",
       "        text-align: right;\n",
       "    }\n",
       "</style>\n",
       "<table border=\"1\" class=\"dataframe\">\n",
       "  <thead>\n",
       "    <tr style=\"text-align: right;\">\n",
       "      <th></th>\n",
       "      <th></th>\n",
       "      <th>Close</th>\n",
       "      <th>High</th>\n",
       "      <th>Low</th>\n",
       "      <th>Open</th>\n",
       "      <th>Volume</th>\n",
       "    </tr>\n",
       "    <tr>\n",
       "      <th>Symbol</th>\n",
       "      <th>Date</th>\n",
       "      <th></th>\n",
       "      <th></th>\n",
       "      <th></th>\n",
       "      <th></th>\n",
       "      <th></th>\n",
       "    </tr>\n",
       "  </thead>\n",
       "  <tbody>\n",
       "    <tr>\n",
       "      <th rowspan=\"10\" valign=\"top\">XKRX:005930</th>\n",
       "      <th>2017-12-18</th>\n",
       "      <td>51200</td>\n",
       "      <td>51240</td>\n",
       "      <td>50620</td>\n",
       "      <td>50620</td>\n",
       "      <td>7350250</td>\n",
       "    </tr>\n",
       "    <tr>\n",
       "      <th>2017-12-19</th>\n",
       "      <td>51560</td>\n",
       "      <td>52080</td>\n",
       "      <td>51520</td>\n",
       "      <td>51540</td>\n",
       "      <td>11978600</td>\n",
       "    </tr>\n",
       "    <tr>\n",
       "      <th>2017-12-20</th>\n",
       "      <td>51560</td>\n",
       "      <td>51560</td>\n",
       "      <td>51560</td>\n",
       "      <td>51560</td>\n",
       "      <td>0</td>\n",
       "    </tr>\n",
       "    <tr>\n",
       "      <th>2017-12-21</th>\n",
       "      <td>49140</td>\n",
       "      <td>51060</td>\n",
       "      <td>49100</td>\n",
       "      <td>51000</td>\n",
       "      <td>15624300</td>\n",
       "    </tr>\n",
       "    <tr>\n",
       "      <th>2017-12-22</th>\n",
       "      <td>49700</td>\n",
       "      <td>49960</td>\n",
       "      <td>49240</td>\n",
       "      <td>49400</td>\n",
       "      <td>11199650</td>\n",
       "    </tr>\n",
       "    <tr>\n",
       "      <th>2017-12-25</th>\n",
       "      <td>49700</td>\n",
       "      <td>49700</td>\n",
       "      <td>49700</td>\n",
       "      <td>49700</td>\n",
       "      <td>0</td>\n",
       "    </tr>\n",
       "    <tr>\n",
       "      <th>2017-12-26</th>\n",
       "      <td>48200</td>\n",
       "      <td>50100</td>\n",
       "      <td>48200</td>\n",
       "      <td>49760</td>\n",
       "      <td>16039850</td>\n",
       "    </tr>\n",
       "    <tr>\n",
       "      <th>2017-12-27</th>\n",
       "      <td>49360</td>\n",
       "      <td>49560</td>\n",
       "      <td>48460</td>\n",
       "      <td>48960</td>\n",
       "      <td>10743600</td>\n",
       "    </tr>\n",
       "    <tr>\n",
       "      <th>2017-12-28</th>\n",
       "      <td>50960</td>\n",
       "      <td>50960</td>\n",
       "      <td>49500</td>\n",
       "      <td>49560</td>\n",
       "      <td>8985450</td>\n",
       "    </tr>\n",
       "    <tr>\n",
       "      <th>2017-12-29</th>\n",
       "      <td>50960</td>\n",
       "      <td>50960</td>\n",
       "      <td>50960</td>\n",
       "      <td>50960</td>\n",
       "      <td>0</td>\n",
       "    </tr>\n",
       "  </tbody>\n",
       "</table>\n",
       "</div>"
      ],
      "text/plain": [
       "                        Close   High    Low   Open    Volume\n",
       "Symbol      Date                                            \n",
       "XKRX:005930 2017-12-18  51200  51240  50620  50620   7350250\n",
       "            2017-12-19  51560  52080  51520  51540  11978600\n",
       "            2017-12-20  51560  51560  51560  51560         0\n",
       "            2017-12-21  49140  51060  49100  51000  15624300\n",
       "            2017-12-22  49700  49960  49240  49400  11199650\n",
       "            2017-12-25  49700  49700  49700  49700         0\n",
       "            2017-12-26  48200  50100  48200  49760  16039850\n",
       "            2017-12-27  49360  49560  48460  48960  10743600\n",
       "            2017-12-28  50960  50960  49500  49560   8985450\n",
       "            2017-12-29  50960  50960  50960  50960         0"
      ]
     },
     "execution_count": 6,
     "metadata": {},
     "output_type": "execute_result"
    }
   ],
   "source": [
    "import pandas_datareader as pdr\n",
    "\n",
    "df = pdr.DataReader('XKRX:005930', 'morningstar', '2017-01-01', '2017-12-31')\n",
    "df.tail(10)"
   ]
  },
  {
   "cell_type": "code",
   "execution_count": 7,
   "metadata": {
    "slideshow": {
     "slide_type": "-"
    }
   },
   "outputs": [
    {
     "data": {
      "text/plain": [
       "260"
      ]
     },
     "execution_count": 7,
     "metadata": {},
     "output_type": "execute_result"
    }
   ],
   "source": [
    "len(df)"
   ]
  },
  {
   "cell_type": "code",
   "execution_count": 8,
   "metadata": {},
   "outputs": [
    {
     "data": {
      "text/html": [
       "<div>\n",
       "<style scoped>\n",
       "    .dataframe tbody tr th:only-of-type {\n",
       "        vertical-align: middle;\n",
       "    }\n",
       "\n",
       "    .dataframe tbody tr th {\n",
       "        vertical-align: top;\n",
       "    }\n",
       "\n",
       "    .dataframe thead th {\n",
       "        text-align: right;\n",
       "    }\n",
       "</style>\n",
       "<table border=\"1\" class=\"dataframe\">\n",
       "  <thead>\n",
       "    <tr style=\"text-align: right;\">\n",
       "      <th></th>\n",
       "      <th>Close</th>\n",
       "      <th>High</th>\n",
       "      <th>Low</th>\n",
       "      <th>Open</th>\n",
       "      <th>Volume</th>\n",
       "    </tr>\n",
       "    <tr>\n",
       "      <th>Date</th>\n",
       "      <th></th>\n",
       "      <th></th>\n",
       "      <th></th>\n",
       "      <th></th>\n",
       "      <th></th>\n",
       "    </tr>\n",
       "  </thead>\n",
       "  <tbody>\n",
       "    <tr>\n",
       "      <th>2017-01-02</th>\n",
       "      <td>36100</td>\n",
       "      <td>36240</td>\n",
       "      <td>35880</td>\n",
       "      <td>35980</td>\n",
       "      <td>4650600</td>\n",
       "    </tr>\n",
       "    <tr>\n",
       "      <th>2017-01-03</th>\n",
       "      <td>36480</td>\n",
       "      <td>36620</td>\n",
       "      <td>36020</td>\n",
       "      <td>36280</td>\n",
       "      <td>7357650</td>\n",
       "    </tr>\n",
       "    <tr>\n",
       "      <th>2017-01-04</th>\n",
       "      <td>36160</td>\n",
       "      <td>36520</td>\n",
       "      <td>36100</td>\n",
       "      <td>36500</td>\n",
       "      <td>7971750</td>\n",
       "    </tr>\n",
       "    <tr>\n",
       "      <th>2017-01-05</th>\n",
       "      <td>35560</td>\n",
       "      <td>36060</td>\n",
       "      <td>35540</td>\n",
       "      <td>36060</td>\n",
       "      <td>10967450</td>\n",
       "    </tr>\n",
       "    <tr>\n",
       "      <th>2017-01-06</th>\n",
       "      <td>36200</td>\n",
       "      <td>36440</td>\n",
       "      <td>36040</td>\n",
       "      <td>36180</td>\n",
       "      <td>8880950</td>\n",
       "    </tr>\n",
       "    <tr>\n",
       "      <th>2017-01-09</th>\n",
       "      <td>37220</td>\n",
       "      <td>37500</td>\n",
       "      <td>36560</td>\n",
       "      <td>36600</td>\n",
       "      <td>13194900</td>\n",
       "    </tr>\n",
       "    <tr>\n",
       "      <th>2017-01-10</th>\n",
       "      <td>37240</td>\n",
       "      <td>37400</td>\n",
       "      <td>37080</td>\n",
       "      <td>37280</td>\n",
       "      <td>9099800</td>\n",
       "    </tr>\n",
       "    <tr>\n",
       "      <th>2017-01-11</th>\n",
       "      <td>38280</td>\n",
       "      <td>38560</td>\n",
       "      <td>37420</td>\n",
       "      <td>37520</td>\n",
       "      <td>12018150</td>\n",
       "    </tr>\n",
       "    <tr>\n",
       "      <th>2017-01-12</th>\n",
       "      <td>38800</td>\n",
       "      <td>38800</td>\n",
       "      <td>37980</td>\n",
       "      <td>38000</td>\n",
       "      <td>11669150</td>\n",
       "    </tr>\n",
       "    <tr>\n",
       "      <th>2017-01-13</th>\n",
       "      <td>37460</td>\n",
       "      <td>38320</td>\n",
       "      <td>37460</td>\n",
       "      <td>38100</td>\n",
       "      <td>15954450</td>\n",
       "    </tr>\n",
       "  </tbody>\n",
       "</table>\n",
       "</div>"
      ],
      "text/plain": [
       "            Close   High    Low   Open    Volume\n",
       "Date                                            \n",
       "2017-01-02  36100  36240  35880  35980   4650600\n",
       "2017-01-03  36480  36620  36020  36280   7357650\n",
       "2017-01-04  36160  36520  36100  36500   7971750\n",
       "2017-01-05  35560  36060  35540  36060  10967450\n",
       "2017-01-06  36200  36440  36040  36180   8880950\n",
       "2017-01-09  37220  37500  36560  36600  13194900\n",
       "2017-01-10  37240  37400  37080  37280   9099800\n",
       "2017-01-11  38280  38560  37420  37520  12018150\n",
       "2017-01-12  38800  38800  37980  38000  11669150\n",
       "2017-01-13  37460  38320  37460  38100  15954450"
      ]
     },
     "execution_count": 8,
     "metadata": {},
     "output_type": "execute_result"
    }
   ],
   "source": [
    "df = df.reset_index(level=0, drop=True)\n",
    "df.head(10)\n",
    "\n",
    "# df.index = df.index.droplevel(level=0)"
   ]
  },
  {
   "cell_type": "code",
   "execution_count": 9,
   "metadata": {},
   "outputs": [
    {
     "data": {
      "text/plain": [
       "Index(['Close', 'High', 'Low', 'Open', 'Volume'], dtype='object')"
      ]
     },
     "execution_count": 9,
     "metadata": {},
     "output_type": "execute_result"
    }
   ],
   "source": [
    "df.columns"
   ]
  },
  {
   "cell_type": "code",
   "execution_count": 10,
   "metadata": {
    "slideshow": {
     "slide_type": "slide"
    }
   },
   "outputs": [
    {
     "data": {
      "text/plain": [
       "array([[   36100,    36240,    35880,    35980,  4650600],\n",
       "       [   36480,    36620,    36020,    36280,  7357650],\n",
       "       [   36160,    36520,    36100,    36500,  7971750],\n",
       "       ...,\n",
       "       [   49360,    49560,    48460,    48960, 10743600],\n",
       "       [   50960,    50960,    49500,    49560,  8985450],\n",
       "       [   50960,    50960,    50960,    50960,        0]])"
      ]
     },
     "execution_count": 10,
     "metadata": {},
     "output_type": "execute_result"
    }
   ],
   "source": [
    "df.values"
   ]
  },
  {
   "cell_type": "code",
   "execution_count": 11,
   "metadata": {
    "scrolled": true,
    "slideshow": {
     "slide_type": "-"
    }
   },
   "outputs": [
    {
     "data": {
      "text/plain": [
       "<matplotlib.axes._subplots.AxesSubplot at 0x7f9175222908>"
      ]
     },
     "execution_count": 11,
     "metadata": {},
     "output_type": "execute_result"
    },
    {
     "data": {
      "image/png": "[encoded data removed]",
      "text/plain": [
       "<matplotlib.figure.Figure at 0x7f917527ae80>"
      ]
     },
     "metadata": {},
     "output_type": "display_data"
    }
   ],
   "source": [
    "%matplotlib inline\n",
    "\n",
    "df['Close'].plot(figsize=(16, 4))"
   ]
  },
  {
   "cell_type": "markdown",
   "metadata": {
    "slideshow": {
     "slide_type": "slide"
    }
   },
   "source": [
    "# 기간을 지정하는 다양한 방법들\n",
    "\n",
    "```python\n",
    "df['2017'] # 2017년\n",
    "df['2017-06'] # 6월\n",
    "df['2017-07-01':'2017-09-30'] # 3/4 분기\n",
    "df[:'2017-06-30'] # 상반기\n",
    "```"
   ]
  },
  {
   "cell_type": "code",
   "execution_count": 12,
   "metadata": {
    "slideshow": {
     "slide_type": "-"
    }
   },
   "outputs": [
    {
     "data": {
      "text/html": [
       "<div>\n",
       "<style scoped>\n",
       "    .dataframe tbody tr th:only-of-type {\n",
       "        vertical-align: middle;\n",
       "    }\n",
       "\n",
       "    .dataframe tbody tr th {\n",
       "        vertical-align: top;\n",
       "    }\n",
       "\n",
       "    .dataframe thead th {\n",
       "        text-align: right;\n",
       "    }\n",
       "</style>\n",
       "<table border=\"1\" class=\"dataframe\">\n",
       "  <thead>\n",
       "    <tr style=\"text-align: right;\">\n",
       "      <th></th>\n",
       "      <th>Close</th>\n",
       "      <th>High</th>\n",
       "      <th>Low</th>\n",
       "      <th>Open</th>\n",
       "      <th>Volume</th>\n",
       "    </tr>\n",
       "    <tr>\n",
       "      <th>Date</th>\n",
       "      <th></th>\n",
       "      <th></th>\n",
       "      <th></th>\n",
       "      <th></th>\n",
       "      <th></th>\n",
       "    </tr>\n",
       "  </thead>\n",
       "  <tbody>\n",
       "    <tr>\n",
       "      <th>2017-06-01</th>\n",
       "      <td>44680</td>\n",
       "      <td>44900</td>\n",
       "      <td>44400</td>\n",
       "      <td>44860</td>\n",
       "      <td>9753500</td>\n",
       "    </tr>\n",
       "    <tr>\n",
       "      <th>2017-06-02</th>\n",
       "      <td>45960</td>\n",
       "      <td>45960</td>\n",
       "      <td>45000</td>\n",
       "      <td>45060</td>\n",
       "      <td>12488750</td>\n",
       "    </tr>\n",
       "    <tr>\n",
       "      <th>2017-06-05</th>\n",
       "      <td>45940</td>\n",
       "      <td>46360</td>\n",
       "      <td>45720</td>\n",
       "      <td>46040</td>\n",
       "      <td>7599400</td>\n",
       "    </tr>\n",
       "    <tr>\n",
       "      <th>2017-06-06</th>\n",
       "      <td>45940</td>\n",
       "      <td>45940</td>\n",
       "      <td>45940</td>\n",
       "      <td>45940</td>\n",
       "      <td>0</td>\n",
       "    </tr>\n",
       "    <tr>\n",
       "      <th>2017-06-07</th>\n",
       "      <td>45300</td>\n",
       "      <td>46500</td>\n",
       "      <td>45240</td>\n",
       "      <td>46500</td>\n",
       "      <td>13729400</td>\n",
       "    </tr>\n",
       "    <tr>\n",
       "      <th>2017-06-08</th>\n",
       "      <td>45160</td>\n",
       "      <td>45580</td>\n",
       "      <td>45000</td>\n",
       "      <td>45000</td>\n",
       "      <td>13978750</td>\n",
       "    </tr>\n",
       "    <tr>\n",
       "      <th>2017-06-09</th>\n",
       "      <td>46100</td>\n",
       "      <td>46440</td>\n",
       "      <td>45600</td>\n",
       "      <td>45680</td>\n",
       "      <td>11732850</td>\n",
       "    </tr>\n",
       "    <tr>\n",
       "      <th>2017-06-12</th>\n",
       "      <td>45380</td>\n",
       "      <td>45600</td>\n",
       "      <td>45140</td>\n",
       "      <td>45420</td>\n",
       "      <td>10954300</td>\n",
       "    </tr>\n",
       "    <tr>\n",
       "      <th>2017-06-13</th>\n",
       "      <td>45400</td>\n",
       "      <td>45620</td>\n",
       "      <td>45140</td>\n",
       "      <td>45140</td>\n",
       "      <td>8624900</td>\n",
       "    </tr>\n",
       "    <tr>\n",
       "      <th>2017-06-14</th>\n",
       "      <td>45360</td>\n",
       "      <td>46060</td>\n",
       "      <td>45240</td>\n",
       "      <td>45800</td>\n",
       "      <td>10166700</td>\n",
       "    </tr>\n",
       "    <tr>\n",
       "      <th>2017-06-15</th>\n",
       "      <td>45680</td>\n",
       "      <td>45920</td>\n",
       "      <td>45180</td>\n",
       "      <td>45680</td>\n",
       "      <td>9657000</td>\n",
       "    </tr>\n",
       "    <tr>\n",
       "      <th>2017-06-16</th>\n",
       "      <td>45580</td>\n",
       "      <td>45940</td>\n",
       "      <td>45460</td>\n",
       "      <td>45500</td>\n",
       "      <td>17403450</td>\n",
       "    </tr>\n",
       "    <tr>\n",
       "      <th>2017-06-19</th>\n",
       "      <td>46560</td>\n",
       "      <td>46560</td>\n",
       "      <td>45560</td>\n",
       "      <td>45580</td>\n",
       "      <td>11303900</td>\n",
       "    </tr>\n",
       "    <tr>\n",
       "      <th>2017-06-20</th>\n",
       "      <td>48140</td>\n",
       "      <td>48140</td>\n",
       "      <td>47220</td>\n",
       "      <td>47240</td>\n",
       "      <td>15045000</td>\n",
       "    </tr>\n",
       "    <tr>\n",
       "      <th>2017-06-21</th>\n",
       "      <td>47480</td>\n",
       "      <td>48120</td>\n",
       "      <td>47480</td>\n",
       "      <td>47740</td>\n",
       "      <td>9973650</td>\n",
       "    </tr>\n",
       "    <tr>\n",
       "      <th>2017-06-22</th>\n",
       "      <td>47960</td>\n",
       "      <td>48080</td>\n",
       "      <td>47720</td>\n",
       "      <td>47960</td>\n",
       "      <td>11455800</td>\n",
       "    </tr>\n",
       "    <tr>\n",
       "      <th>2017-06-23</th>\n",
       "      <td>47620</td>\n",
       "      <td>47780</td>\n",
       "      <td>47420</td>\n",
       "      <td>47600</td>\n",
       "      <td>9515100</td>\n",
       "    </tr>\n",
       "    <tr>\n",
       "      <th>2017-06-26</th>\n",
       "      <td>48280</td>\n",
       "      <td>48360</td>\n",
       "      <td>47520</td>\n",
       "      <td>47520</td>\n",
       "      <td>8552800</td>\n",
       "    </tr>\n",
       "    <tr>\n",
       "      <th>2017-06-27</th>\n",
       "      <td>48300</td>\n",
       "      <td>48400</td>\n",
       "      <td>47900</td>\n",
       "      <td>48220</td>\n",
       "      <td>9616750</td>\n",
       "    </tr>\n",
       "    <tr>\n",
       "      <th>2017-06-28</th>\n",
       "      <td>47700</td>\n",
       "      <td>48000</td>\n",
       "      <td>47560</td>\n",
       "      <td>47600</td>\n",
       "      <td>9572500</td>\n",
       "    </tr>\n",
       "    <tr>\n",
       "      <th>2017-06-29</th>\n",
       "      <td>47940</td>\n",
       "      <td>48320</td>\n",
       "      <td>47940</td>\n",
       "      <td>48040</td>\n",
       "      <td>8306550</td>\n",
       "    </tr>\n",
       "    <tr>\n",
       "      <th>2017-06-30</th>\n",
       "      <td>47540</td>\n",
       "      <td>47620</td>\n",
       "      <td>47100</td>\n",
       "      <td>47500</td>\n",
       "      <td>11877550</td>\n",
       "    </tr>\n",
       "  </tbody>\n",
       "</table>\n",
       "</div>"
      ],
      "text/plain": [
       "            Close   High    Low   Open    Volume\n",
       "Date                                            \n",
       "2017-06-01  44680  44900  44400  44860   9753500\n",
       "2017-06-02  45960  45960  45000  45060  12488750\n",
       "2017-06-05  45940  46360  45720  46040   7599400\n",
       "2017-06-06  45940  45940  45940  45940         0\n",
       "2017-06-07  45300  46500  45240  46500  13729400\n",
       "2017-06-08  45160  45580  45000  45000  13978750\n",
       "2017-06-09  46100  46440  45600  45680  11732850\n",
       "2017-06-12  45380  45600  45140  45420  10954300\n",
       "2017-06-13  45400  45620  45140  45140   8624900\n",
       "2017-06-14  45360  46060  45240  45800  10166700\n",
       "2017-06-15  45680  45920  45180  45680   9657000\n",
       "2017-06-16  45580  45940  45460  45500  17403450\n",
       "2017-06-19  46560  46560  45560  45580  11303900\n",
       "2017-06-20  48140  48140  47220  47240  15045000\n",
       "2017-06-21  47480  48120  47480  47740   9973650\n",
       "2017-06-22  47960  48080  47720  47960  11455800\n",
       "2017-06-23  47620  47780  47420  47600   9515100\n",
       "2017-06-26  48280  48360  47520  47520   8552800\n",
       "2017-06-27  48300  48400  47900  48220   9616750\n",
       "2017-06-28  47700  48000  47560  47600   9572500\n",
       "2017-06-29  47940  48320  47940  48040   8306550\n",
       "2017-06-30  47540  47620  47100  47500  11877550"
      ]
     },
     "execution_count": 12,
     "metadata": {},
     "output_type": "execute_result"
    }
   ],
   "source": [
    "df['2017-06']"
   ]
  },
  {
   "cell_type": "markdown",
   "metadata": {
    "slideshow": {
     "slide_type": "slide"
    }
   },
   "source": [
    "# 삼성전자 2017년 하반기 가격 데이터"
   ]
  },
  {
   "cell_type": "code",
   "execution_count": 13,
   "metadata": {
    "slideshow": {
     "slide_type": "-"
    }
   },
   "outputs": [
    {
     "data": {
      "text/plain": [
       "<matplotlib.axes._subplots.AxesSubplot at 0x7f9173658a58>"
      ]
     },
     "execution_count": 13,
     "metadata": {},
     "output_type": "execute_result"
    },
    {
     "data": {
      "image/png": "[encoded data removed]",
      "text/plain": [
       "<matplotlib.figure.Figure at 0x7f9175265198>"
      ]
     },
     "metadata": {},
     "output_type": "display_data"
    }
   ],
   "source": [
    "df['2017-07-01':]['Close'].plot(figsize=(16, 4)) # 하반기"
   ]
  },
  {
   "cell_type": "markdown",
   "metadata": {
    "slideshow": {
     "slide_type": "slide"
    }
   },
   "source": [
    "# 여러 종목을 한번에 가져오기"
   ]
  },
  {
   "cell_type": "code",
   "execution_count": 14,
   "metadata": {
    "colab": {
     "autoexec": {
      "startup": false,
      "wait_interval": 0
     },
     "base_uri": "https://localhost:8080/",
     "height": 235
    },
    "colab_type": "code",
    "executionInfo": {
     "elapsed": 895,
     "status": "ok",
     "timestamp": 1524770859114,
     "user": {
      "displayName": "Sean-June Lee",
      "photoUrl": "//lh3.googleusercontent.com/-j96Pvw9LbEw/AAAAAAAAAAI/AAAAAAAAhqE/pPM6FuP1OtM/s50-c-k-no/photo.jpg",
      "userId": "115680831308925661023"
     },
     "user_tz": -540
    },
    "id": "98eOgyvKYbcS",
    "outputId": "43290b6d-37ce-4391-bfa1-c93301a014dc",
    "slideshow": {
     "slide_type": "-"
    }
   },
   "outputs": [
    {
     "data": {
      "text/html": [
       "<div>\n",
       "<style scoped>\n",
       "    .dataframe tbody tr th:only-of-type {\n",
       "        vertical-align: middle;\n",
       "    }\n",
       "\n",
       "    .dataframe tbody tr th {\n",
       "        vertical-align: top;\n",
       "    }\n",
       "\n",
       "    .dataframe thead th {\n",
       "        text-align: right;\n",
       "    }\n",
       "</style>\n",
       "<table border=\"1\" class=\"dataframe\">\n",
       "  <thead>\n",
       "    <tr style=\"text-align: right;\">\n",
       "      <th></th>\n",
       "      <th></th>\n",
       "      <th>Close</th>\n",
       "      <th>High</th>\n",
       "      <th>Low</th>\n",
       "      <th>Open</th>\n",
       "      <th>Volume</th>\n",
       "    </tr>\n",
       "    <tr>\n",
       "      <th>Symbol</th>\n",
       "      <th>Date</th>\n",
       "      <th></th>\n",
       "      <th></th>\n",
       "      <th></th>\n",
       "      <th></th>\n",
       "      <th></th>\n",
       "    </tr>\n",
       "  </thead>\n",
       "  <tbody>\n",
       "    <tr>\n",
       "      <th rowspan=\"5\" valign=\"top\">AAPL</th>\n",
       "      <th>2017-01-02</th>\n",
       "      <td>115.82</td>\n",
       "      <td>115.8200</td>\n",
       "      <td>115.82</td>\n",
       "      <td>115.82</td>\n",
       "      <td>0</td>\n",
       "    </tr>\n",
       "    <tr>\n",
       "      <th>2017-01-03</th>\n",
       "      <td>116.15</td>\n",
       "      <td>116.3300</td>\n",
       "      <td>114.76</td>\n",
       "      <td>115.80</td>\n",
       "      <td>28781865</td>\n",
       "    </tr>\n",
       "    <tr>\n",
       "      <th>2017-01-04</th>\n",
       "      <td>116.02</td>\n",
       "      <td>116.5100</td>\n",
       "      <td>115.75</td>\n",
       "      <td>115.85</td>\n",
       "      <td>21118116</td>\n",
       "    </tr>\n",
       "    <tr>\n",
       "      <th>2017-01-05</th>\n",
       "      <td>116.61</td>\n",
       "      <td>116.8642</td>\n",
       "      <td>115.81</td>\n",
       "      <td>115.92</td>\n",
       "      <td>22193587</td>\n",
       "    </tr>\n",
       "    <tr>\n",
       "      <th>2017-01-06</th>\n",
       "      <td>117.91</td>\n",
       "      <td>118.1600</td>\n",
       "      <td>116.47</td>\n",
       "      <td>116.78</td>\n",
       "      <td>31751900</td>\n",
       "    </tr>\n",
       "  </tbody>\n",
       "</table>\n",
       "</div>"
      ],
      "text/plain": [
       "                    Close      High     Low    Open    Volume\n",
       "Symbol Date                                                  \n",
       "AAPL   2017-01-02  115.82  115.8200  115.82  115.82         0\n",
       "       2017-01-03  116.15  116.3300  114.76  115.80  28781865\n",
       "       2017-01-04  116.02  116.5100  115.75  115.85  21118116\n",
       "       2017-01-05  116.61  116.8642  115.81  115.92  22193587\n",
       "       2017-01-06  117.91  118.1600  116.47  116.78  31751900"
      ]
     },
     "execution_count": 14,
     "metadata": {},
     "output_type": "execute_result"
    }
   ],
   "source": [
    "# 애플(AAPL), 삼성전자(005930) 2017년 1년 데이터를 함께 읽기\n",
    "\n",
    "df = pdr.DataReader(['AAPL', 'XKRX:005930'], 'morningstar', '2017-01-01', '2017-12-30')\n",
    "df.head()"
   ]
  },
  {
   "cell_type": "markdown",
   "metadata": {
    "slideshow": {
     "slide_type": "slide"
    }
   },
   "source": [
    "# df.unstack() \n",
    "\n",
    "종목과 날짜(Symbol, Date)가 MultiIndex 로 반환 되므로 df.unstack() 을 적절히 활용"
   ]
  },
  {
   "cell_type": "code",
   "execution_count": 15,
   "metadata": {
    "colab": {
     "autoexec": {
      "startup": false,
      "wait_interval": 0
     },
     "base_uri": "https://localhost:8080/",
     "height": 266
    },
    "colab_type": "code",
    "executionInfo": {
     "elapsed": 626,
     "status": "ok",
     "timestamp": 1524770837212,
     "user": {
      "displayName": "Sean-June Lee",
      "photoUrl": "//lh3.googleusercontent.com/-j96Pvw9LbEw/AAAAAAAAAAI/AAAAAAAAhqE/pPM6FuP1OtM/s50-c-k-no/photo.jpg",
      "userId": "115680831308925661023"
     },
     "user_tz": -540
    },
    "id": "LYqoJSnraocg",
    "outputId": "c4cd2789-494b-43df-c28b-31aa9dcbdf1b",
    "slideshow": {
     "slide_type": "-"
    }
   },
   "outputs": [
    {
     "data": {
      "text/html": [
       "<div>\n",
       "<style scoped>\n",
       "    .dataframe tbody tr th:only-of-type {\n",
       "        vertical-align: middle;\n",
       "    }\n",
       "\n",
       "    .dataframe tbody tr th {\n",
       "        vertical-align: top;\n",
       "    }\n",
       "\n",
       "    .dataframe thead tr th {\n",
       "        text-align: left;\n",
       "    }\n",
       "\n",
       "    .dataframe thead tr:last-of-type th {\n",
       "        text-align: right;\n",
       "    }\n",
       "</style>\n",
       "<table border=\"1\" class=\"dataframe\">\n",
       "  <thead>\n",
       "    <tr>\n",
       "      <th></th>\n",
       "      <th colspan=\"2\" halign=\"left\">Close</th>\n",
       "      <th colspan=\"2\" halign=\"left\">High</th>\n",
       "      <th colspan=\"2\" halign=\"left\">Low</th>\n",
       "      <th colspan=\"2\" halign=\"left\">Open</th>\n",
       "      <th colspan=\"2\" halign=\"left\">Volume</th>\n",
       "    </tr>\n",
       "    <tr>\n",
       "      <th>Symbol</th>\n",
       "      <th>AAPL</th>\n",
       "      <th>XKRX:005930</th>\n",
       "      <th>AAPL</th>\n",
       "      <th>XKRX:005930</th>\n",
       "      <th>AAPL</th>\n",
       "      <th>XKRX:005930</th>\n",
       "      <th>AAPL</th>\n",
       "      <th>XKRX:005930</th>\n",
       "      <th>AAPL</th>\n",
       "      <th>XKRX:005930</th>\n",
       "    </tr>\n",
       "    <tr>\n",
       "      <th>Date</th>\n",
       "      <th></th>\n",
       "      <th></th>\n",
       "      <th></th>\n",
       "      <th></th>\n",
       "      <th></th>\n",
       "      <th></th>\n",
       "      <th></th>\n",
       "      <th></th>\n",
       "      <th></th>\n",
       "      <th></th>\n",
       "    </tr>\n",
       "  </thead>\n",
       "  <tbody>\n",
       "    <tr>\n",
       "      <th>2017-01-02</th>\n",
       "      <td>115.82</td>\n",
       "      <td>36100.0</td>\n",
       "      <td>115.8200</td>\n",
       "      <td>36240.0</td>\n",
       "      <td>115.82</td>\n",
       "      <td>35880.0</td>\n",
       "      <td>115.82</td>\n",
       "      <td>35980.0</td>\n",
       "      <td>0</td>\n",
       "      <td>4650600</td>\n",
       "    </tr>\n",
       "    <tr>\n",
       "      <th>2017-01-03</th>\n",
       "      <td>116.15</td>\n",
       "      <td>36480.0</td>\n",
       "      <td>116.3300</td>\n",
       "      <td>36620.0</td>\n",
       "      <td>114.76</td>\n",
       "      <td>36020.0</td>\n",
       "      <td>115.80</td>\n",
       "      <td>36280.0</td>\n",
       "      <td>28781865</td>\n",
       "      <td>7357650</td>\n",
       "    </tr>\n",
       "    <tr>\n",
       "      <th>2017-01-04</th>\n",
       "      <td>116.02</td>\n",
       "      <td>36160.0</td>\n",
       "      <td>116.5100</td>\n",
       "      <td>36520.0</td>\n",
       "      <td>115.75</td>\n",
       "      <td>36100.0</td>\n",
       "      <td>115.85</td>\n",
       "      <td>36500.0</td>\n",
       "      <td>21118116</td>\n",
       "      <td>7971750</td>\n",
       "    </tr>\n",
       "    <tr>\n",
       "      <th>2017-01-05</th>\n",
       "      <td>116.61</td>\n",
       "      <td>35560.0</td>\n",
       "      <td>116.8642</td>\n",
       "      <td>36060.0</td>\n",
       "      <td>115.81</td>\n",
       "      <td>35540.0</td>\n",
       "      <td>115.92</td>\n",
       "      <td>36060.0</td>\n",
       "      <td>22193587</td>\n",
       "      <td>10967450</td>\n",
       "    </tr>\n",
       "    <tr>\n",
       "      <th>2017-01-06</th>\n",
       "      <td>117.91</td>\n",
       "      <td>36200.0</td>\n",
       "      <td>118.1600</td>\n",
       "      <td>36440.0</td>\n",
       "      <td>116.47</td>\n",
       "      <td>36040.0</td>\n",
       "      <td>116.78</td>\n",
       "      <td>36180.0</td>\n",
       "      <td>31751900</td>\n",
       "      <td>8880950</td>\n",
       "    </tr>\n",
       "  </tbody>\n",
       "</table>\n",
       "</div>"
      ],
      "text/plain": [
       "             Close                  High                 Low              \\\n",
       "Symbol        AAPL XKRX:005930      AAPL XKRX:005930    AAPL XKRX:005930   \n",
       "Date                                                                       \n",
       "2017-01-02  115.82     36100.0  115.8200     36240.0  115.82     35880.0   \n",
       "2017-01-03  116.15     36480.0  116.3300     36620.0  114.76     36020.0   \n",
       "2017-01-04  116.02     36160.0  116.5100     36520.0  115.75     36100.0   \n",
       "2017-01-05  116.61     35560.0  116.8642     36060.0  115.81     35540.0   \n",
       "2017-01-06  117.91     36200.0  118.1600     36440.0  116.47     36040.0   \n",
       "\n",
       "              Open                Volume              \n",
       "Symbol        AAPL XKRX:005930      AAPL XKRX:005930  \n",
       "Date                                                  \n",
       "2017-01-02  115.82     35980.0         0     4650600  \n",
       "2017-01-03  115.80     36280.0  28781865     7357650  \n",
       "2017-01-04  115.85     36500.0  21118116     7971750  \n",
       "2017-01-05  115.92     36060.0  22193587    10967450  \n",
       "2017-01-06  116.78     36180.0  31751900     8880950  "
      ]
     },
     "execution_count": 15,
     "metadata": {},
     "output_type": "execute_result"
    }
   ],
   "source": [
    "df.unstack(level=0).head()"
   ]
  },
  {
   "cell_type": "markdown",
   "metadata": {
    "slideshow": {
     "slide_type": "slide"
    }
   },
   "source": [
    "# 2017년 삼성전자, 애플 주가 차트"
   ]
  },
  {
   "cell_type": "code",
   "execution_count": 16,
   "metadata": {
    "slideshow": {
     "slide_type": "skip"
    }
   },
   "outputs": [],
   "source": [
    "%matplotlib inline\n",
    "import matplotlib.pyplot as plt\n",
    "\n",
    "plt.rcParams[\"figure.figsize\"] = (14,6)\n",
    "plt.rcParams[\"axes.grid\"] = True"
   ]
  },
  {
   "cell_type": "code",
   "execution_count": 17,
   "metadata": {
    "colab": {
     "autoexec": {
      "startup": false,
      "wait_interval": 0
     },
     "base_uri": "https://localhost:8080/",
     "height": 402
    },
    "colab_type": "code",
    "executionInfo": {
     "elapsed": 957,
     "status": "ok",
     "timestamp": 1524770656371,
     "user": {
      "displayName": "Sean-June Lee",
      "photoUrl": "//lh3.googleusercontent.com/-j96Pvw9LbEw/AAAAAAAAAAI/AAAAAAAAhqE/pPM6FuP1OtM/s50-c-k-no/photo.jpg",
      "userId": "115680831308925661023"
     },
     "user_tz": -540
    },
    "id": "kqDtaUDyZ77q",
    "outputId": "6815c3c2-b302-40f1-ba2a-025ed0478d8f",
    "slideshow": {
     "slide_type": "-"
    }
   },
   "outputs": [
    {
     "data": {
      "text/plain": [
       "array([<matplotlib.axes._subplots.AxesSubplot object at 0x7f9174ec7048>,\n",
       "       <matplotlib.axes._subplots.AxesSubplot object at 0x7f9171540e10>],\n",
       "      dtype=object)"
      ]
     },
     "execution_count": 17,
     "metadata": {},
     "output_type": "execute_result"
    },
    {
     "data": {
      "image/png": "[encoded data removed]",
      "text/plain": [
       "<matplotlib.figure.Figure at 0x7f9174eaf5c0>"
      ]
     },
     "metadata": {},
     "output_type": "display_data"
    }
   ],
   "source": [
    "df.unstack(level=0)['Close'].plot(subplots=True)"
   ]
  },
  {
   "cell_type": "code",
   "execution_count": 18,
   "metadata": {
    "colab": {
     "autoexec": {
      "startup": false,
      "wait_interval": 0
     },
     "base_uri": "https://localhost:8080/",
     "height": 389
    },
    "colab_type": "code",
    "executionInfo": {
     "elapsed": 1062,
     "status": "ok",
     "timestamp": 1524770662667,
     "user": {
      "displayName": "Sean-June Lee",
      "photoUrl": "//lh3.googleusercontent.com/-j96Pvw9LbEw/AAAAAAAAAAI/AAAAAAAAhqE/pPM6FuP1OtM/s50-c-k-no/photo.jpg",
      "userId": "115680831308925661023"
     },
     "user_tz": -540
    },
    "id": "9xZWZ9ycRSZo",
    "outputId": "305e387e-a3a5-4b2e-82d5-5360a31ebea6",
    "slideshow": {
     "slide_type": "subslide"
    }
   },
   "outputs": [
    {
     "data": {
      "text/plain": [
       "<matplotlib.axes._subplots.AxesSubplot at 0x7f91711d6cc0>"
      ]
     },
     "execution_count": 18,
     "metadata": {},
     "output_type": "execute_result"
    },
    {
     "data": {
      "image/png": "[encoded data removed]",
      "text/plain": [
       "<matplotlib.figure.Figure at 0x7f91715b52e8>"
      ]
     },
     "metadata": {},
     "output_type": "display_data"
    }
   ],
   "source": [
    "df.unstack(level=0)['Close'].plot(secondary_y='AAPL')"
   ]
  },
  {
   "cell_type": "markdown",
   "metadata": {
    "slideshow": {
     "slide_type": "slide"
    }
   },
   "source": [
    "# 리뷰\n",
    "1. Google Finance, Yahoo Finance (DEPRECATED)\n",
    "1. requests.get(url)\n",
    "1. pandas_datareader()\n",
    "1. DataFrame.plot()\n",
    "1. 여러종목 한번에: 종목리스트, unstack()"
   ]
  },
  {
   "cell_type": "markdown",
   "metadata": {
    "slideshow": {
     "slide_type": "notes"
    }
   },
   "source": [
    "----\n",
    "### 2018 FinanceData http://fb.com/financedata http://financedata.github.com"
   ]
  }
 ],
 "metadata": {
  "celltoolbar": "Slideshow",
  "kernelspec": {
   "display_name": "Python 3",
   "language": "python",
   "name": "python3"
  },
  "language_info": {
   "codemirror_mode": {
    "name": "ipython",
    "version": 3
   },
   "file_extension": ".py",
   "mimetype": "text/x-python",
   "name": "python",
   "nbconvert_exporter": "python",
   "pygments_lexer": "ipython3",
   "version": "3.5.2"
  }
 },
 "nbformat": 4,
 "nbformat_minor": 1
}