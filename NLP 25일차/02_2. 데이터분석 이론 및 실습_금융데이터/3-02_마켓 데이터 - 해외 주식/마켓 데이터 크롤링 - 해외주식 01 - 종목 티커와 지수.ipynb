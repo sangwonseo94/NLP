{
 "cells": [
  {
   "cell_type": "markdown",
   "metadata": {
    "slideshow": {
     "slide_type": "slide"
    }
   },
   "source": [
    "# 해외주식 01 - 종목 티커와 지수\n",
    "\n",
    "<img src=\"http://i.imgur.com/grQHNKG.jpg\">\n",
    "\n",
    "### 2018 FinanceData http://fb.com/financedata"
   ]
  },
  {
   "cell_type": "markdown",
   "metadata": {
    "slideshow": {
     "slide_type": "slide"
    }
   },
   "source": [
    "# 파이낸스 티커 심볼\n",
    "미국시장에서는 종목을 식별하기 위해 영문알파벳 조합된 코드.<br/> \n",
    "야후(yahho.com), 포브스(forbes.com) 같은 모든 경제 사이트에서 통용\n",
    "\n",
    "#### 뉴욕증권거래소(NYSE, 1~3개의 영문)\n",
    "* F (포드 자동차)\n",
    "* GE (제너럴 일렉트릭)\n",
    "* BAC (뱅크오브아메리카)\n",
    "\n",
    "#### 나스닥(NASDAQ, 4~5개의 영문)\n",
    "* APPL (Apple Inc, 애플)\n",
    "* GOOG (Google, 구글)\n",
    "* MSFT (Microsoft, 마이크로소프트)"
   ]
  },
  {
   "cell_type": "markdown",
   "metadata": {
    "slideshow": {
     "slide_type": "slide"
    }
   },
   "source": [
    "# 모든 종목의 티커를 구하려면,\n",
    "#### Company List (NASDAQ, NYSE, AMEX)\n",
    "* http://nasdaq.com/screening/company-list.aspx\n",
    "\n",
    "#### Nasdaqtrader.com\n",
    "* http://www.nasdaqtrader.com/trader.aspx?id=symboldirdefs\n",
    "* nasdaqlisted.txt, otherlisted.txt\n",
    "\n",
    "#### Bloomberg Open Symbology\n",
    "* http://bsym.bloomberg.com/sym/"
   ]
  },
  {
   "cell_type": "markdown",
   "metadata": {
    "slideshow": {
     "slide_type": "slide"
    }
   },
   "source": [
    "# 미국 주식 종목 심볼 전체\n",
    "* NASDAQ, NYSE, AMEX 시장 전체"
   ]
  },
  {
   "cell_type": "code",
   "execution_count": 1,
   "metadata": {
    "slideshow": {
     "slide_type": "-"
    }
   },
   "outputs": [
    {
     "name": "stdout",
     "output_type": "stream",
     "text": [
      "NASDAQ 종목수: 3287\n"
     ]
    },
    {
     "data": {
      "text/html": [
       "<div>\n",
       "<style scoped>\n",
       "    .dataframe tbody tr th:only-of-type {\n",
       "        vertical-align: middle;\n",
       "    }\n",
       "\n",
       "    .dataframe tbody tr th {\n",
       "        vertical-align: top;\n",
       "    }\n",
       "\n",
       "    .dataframe thead th {\n",
       "        text-align: right;\n",
       "    }\n",
       "</style>\n",
       "<table border=\"1\" class=\"dataframe\">\n",
       "  <thead>\n",
       "    <tr style=\"text-align: right;\">\n",
       "      <th></th>\n",
       "      <th>Symbol</th>\n",
       "      <th>Name</th>\n",
       "      <th>LastSale</th>\n",
       "      <th>MarketCap</th>\n",
       "      <th>IPOyear</th>\n",
       "      <th>Sector</th>\n",
       "      <th>industry</th>\n",
       "      <th>Summary Quote</th>\n",
       "      <th>Unnamed: 8</th>\n",
       "    </tr>\n",
       "  </thead>\n",
       "  <tbody>\n",
       "    <tr>\n",
       "      <th>0</th>\n",
       "      <td>PIH</td>\n",
       "      <td>1347 Property Insurance Holdings, Inc.</td>\n",
       "      <td>6.80</td>\n",
       "      <td>$40.7M</td>\n",
       "      <td>2014.0</td>\n",
       "      <td>Finance</td>\n",
       "      <td>Property-Casualty Insurers</td>\n",
       "      <td>https://www.nasdaq.com/symbol/pih</td>\n",
       "      <td>NaN</td>\n",
       "    </tr>\n",
       "    <tr>\n",
       "      <th>1</th>\n",
       "      <td>TURN</td>\n",
       "      <td>180 Degree Capital Corp.</td>\n",
       "      <td>1.86</td>\n",
       "      <td>$57.89M</td>\n",
       "      <td>NaN</td>\n",
       "      <td>Finance</td>\n",
       "      <td>Finance/Investors Services</td>\n",
       "      <td>https://www.nasdaq.com/symbol/turn</td>\n",
       "      <td>NaN</td>\n",
       "    </tr>\n",
       "    <tr>\n",
       "      <th>2</th>\n",
       "      <td>FLWS</td>\n",
       "      <td>1-800 FLOWERS.COM, Inc.</td>\n",
       "      <td>11.65</td>\n",
       "      <td>$751.86M</td>\n",
       "      <td>1999.0</td>\n",
       "      <td>Consumer Services</td>\n",
       "      <td>Other Specialty Stores</td>\n",
       "      <td>https://www.nasdaq.com/symbol/flws</td>\n",
       "      <td>NaN</td>\n",
       "    </tr>\n",
       "    <tr>\n",
       "      <th>3</th>\n",
       "      <td>FCCY</td>\n",
       "      <td>1st Constitution Bancorp (NJ)</td>\n",
       "      <td>19.50</td>\n",
       "      <td>$157.62M</td>\n",
       "      <td>NaN</td>\n",
       "      <td>Finance</td>\n",
       "      <td>Savings Institutions</td>\n",
       "      <td>https://www.nasdaq.com/symbol/fccy</td>\n",
       "      <td>NaN</td>\n",
       "    </tr>\n",
       "    <tr>\n",
       "      <th>4</th>\n",
       "      <td>SRCE</td>\n",
       "      <td>1st Source Corporation</td>\n",
       "      <td>49.32</td>\n",
       "      <td>$1.28B</td>\n",
       "      <td>NaN</td>\n",
       "      <td>Finance</td>\n",
       "      <td>Major Banks</td>\n",
       "      <td>https://www.nasdaq.com/symbol/srce</td>\n",
       "      <td>NaN</td>\n",
       "    </tr>\n",
       "  </tbody>\n",
       "</table>\n",
       "</div>"
      ],
      "text/plain": [
       "  Symbol                                    Name  LastSale MarketCap  IPOyear  \\\n",
       "0    PIH  1347 Property Insurance Holdings, Inc.      6.80    $40.7M   2014.0   \n",
       "1   TURN                180 Degree Capital Corp.      1.86   $57.89M      NaN   \n",
       "2   FLWS                 1-800 FLOWERS.COM, Inc.     11.65  $751.86M   1999.0   \n",
       "3   FCCY           1st Constitution Bancorp (NJ)     19.50  $157.62M      NaN   \n",
       "4   SRCE                  1st Source Corporation     49.32    $1.28B      NaN   \n",
       "\n",
       "              Sector                    industry  \\\n",
       "0            Finance  Property-Casualty Insurers   \n",
       "1            Finance  Finance/Investors Services   \n",
       "2  Consumer Services      Other Specialty Stores   \n",
       "3            Finance        Savings Institutions   \n",
       "4            Finance                 Major Banks   \n",
       "\n",
       "                        Summary Quote  Unnamed: 8  \n",
       "0   https://www.nasdaq.com/symbol/pih         NaN  \n",
       "1  https://www.nasdaq.com/symbol/turn         NaN  \n",
       "2  https://www.nasdaq.com/symbol/flws         NaN  \n",
       "3  https://www.nasdaq.com/symbol/fccy         NaN  \n",
       "4  https://www.nasdaq.com/symbol/srce         NaN  "
      ]
     },
     "execution_count": 1,
     "metadata": {},
     "output_type": "execute_result"
    }
   ],
   "source": [
    "import pandas as pd\n",
    "\n",
    "# NASDAQ\n",
    "url_nasdaq = 'http://www.nasdaq.com/screening/companies-by-name.aspx?letter=0&exchange=nasdaq&render=download'\n",
    "df_nasdaq = pd.read_csv(url_nasdaq)\n",
    "\n",
    "print( 'NASDAQ 종목수: %d' % len(df_nasdaq) )\n",
    "df_nasdaq.head()"
   ]
  },
  {
   "cell_type": "code",
   "execution_count": 2,
   "metadata": {
    "slideshow": {
     "slide_type": "slide"
    }
   },
   "outputs": [
    {
     "name": "stdout",
     "output_type": "stream",
     "text": [
      "NYSE 종목수: 3140\n"
     ]
    },
    {
     "data": {
      "text/html": [
       "<div>\n",
       "<style scoped>\n",
       "    .dataframe tbody tr th:only-of-type {\n",
       "        vertical-align: middle;\n",
       "    }\n",
       "\n",
       "    .dataframe tbody tr th {\n",
       "        vertical-align: top;\n",
       "    }\n",
       "\n",
       "    .dataframe thead th {\n",
       "        text-align: right;\n",
       "    }\n",
       "</style>\n",
       "<table border=\"1\" class=\"dataframe\">\n",
       "  <thead>\n",
       "    <tr style=\"text-align: right;\">\n",
       "      <th></th>\n",
       "      <th>Symbol</th>\n",
       "      <th>Name</th>\n",
       "      <th>LastSale</th>\n",
       "      <th>MarketCap</th>\n",
       "      <th>IPOyear</th>\n",
       "      <th>Sector</th>\n",
       "      <th>industry</th>\n",
       "      <th>Summary Quote</th>\n",
       "      <th>Unnamed: 8</th>\n",
       "    </tr>\n",
       "  </thead>\n",
       "  <tbody>\n",
       "    <tr>\n",
       "      <th>0</th>\n",
       "      <td>DDD</td>\n",
       "      <td>3D Systems Corporation</td>\n",
       "      <td>9.50</td>\n",
       "      <td>$1.08B</td>\n",
       "      <td>NaN</td>\n",
       "      <td>Technology</td>\n",
       "      <td>Computer Software: Prepackaged Software</td>\n",
       "      <td>https://www.nasdaq.com/symbol/ddd</td>\n",
       "      <td>NaN</td>\n",
       "    </tr>\n",
       "    <tr>\n",
       "      <th>1</th>\n",
       "      <td>MMM</td>\n",
       "      <td>3M Company</td>\n",
       "      <td>235.51</td>\n",
       "      <td>$140.25B</td>\n",
       "      <td>NaN</td>\n",
       "      <td>Health Care</td>\n",
       "      <td>Medical/Dental Instruments</td>\n",
       "      <td>https://www.nasdaq.com/symbol/mmm</td>\n",
       "      <td>NaN</td>\n",
       "    </tr>\n",
       "    <tr>\n",
       "      <th>2</th>\n",
       "      <td>WBAI</td>\n",
       "      <td>500.com Limited</td>\n",
       "      <td>17.93</td>\n",
       "      <td>$731.64M</td>\n",
       "      <td>2013.0</td>\n",
       "      <td>Consumer Services</td>\n",
       "      <td>Services-Misc. Amusement &amp; Recreation</td>\n",
       "      <td>https://www.nasdaq.com/symbol/wbai</td>\n",
       "      <td>NaN</td>\n",
       "    </tr>\n",
       "    <tr>\n",
       "      <th>3</th>\n",
       "      <td>WUBA</td>\n",
       "      <td>58.com Inc.</td>\n",
       "      <td>75.37</td>\n",
       "      <td>$11.04B</td>\n",
       "      <td>2013.0</td>\n",
       "      <td>Technology</td>\n",
       "      <td>Computer Software: Programming, Data Processing</td>\n",
       "      <td>https://www.nasdaq.com/symbol/wuba</td>\n",
       "      <td>NaN</td>\n",
       "    </tr>\n",
       "    <tr>\n",
       "      <th>4</th>\n",
       "      <td>EGHT</td>\n",
       "      <td>8x8 Inc</td>\n",
       "      <td>18.25</td>\n",
       "      <td>$1.68B</td>\n",
       "      <td>NaN</td>\n",
       "      <td>Public Utilities</td>\n",
       "      <td>Telecommunications Equipment</td>\n",
       "      <td>https://www.nasdaq.com/symbol/eght</td>\n",
       "      <td>NaN</td>\n",
       "    </tr>\n",
       "  </tbody>\n",
       "</table>\n",
       "</div>"
      ],
      "text/plain": [
       "  Symbol                    Name  LastSale MarketCap  IPOyear  \\\n",
       "0    DDD  3D Systems Corporation      9.50    $1.08B      NaN   \n",
       "1    MMM              3M Company    235.51  $140.25B      NaN   \n",
       "2   WBAI         500.com Limited     17.93  $731.64M   2013.0   \n",
       "3   WUBA             58.com Inc.     75.37   $11.04B   2013.0   \n",
       "4   EGHT                 8x8 Inc     18.25    $1.68B      NaN   \n",
       "\n",
       "              Sector                                         industry  \\\n",
       "0         Technology          Computer Software: Prepackaged Software   \n",
       "1        Health Care                       Medical/Dental Instruments   \n",
       "2  Consumer Services            Services-Misc. Amusement & Recreation   \n",
       "3         Technology  Computer Software: Programming, Data Processing   \n",
       "4   Public Utilities                     Telecommunications Equipment   \n",
       "\n",
       "                        Summary Quote  Unnamed: 8  \n",
       "0   https://www.nasdaq.com/symbol/ddd         NaN  \n",
       "1   https://www.nasdaq.com/symbol/mmm         NaN  \n",
       "2  https://www.nasdaq.com/symbol/wbai         NaN  \n",
       "3  https://www.nasdaq.com/symbol/wuba         NaN  \n",
       "4  https://www.nasdaq.com/symbol/eght         NaN  "
      ]
     },
     "execution_count": 2,
     "metadata": {},
     "output_type": "execute_result"
    }
   ],
   "source": [
    "# NYSE\n",
    "nyse_url = 'http://www.nasdaq.com/screening/companies-by-name.aspx?letter=0&exchange=nyse&render=download'\n",
    "df_nyse = pd.read_csv(nyse_url)\n",
    "\n",
    "print( 'NYSE 종목수: %d' % len(df_nyse) )\n",
    "df_nyse.head()"
   ]
  },
  {
   "cell_type": "code",
   "execution_count": 3,
   "metadata": {
    "slideshow": {
     "slide_type": "slide"
    }
   },
   "outputs": [
    {
     "name": "stdout",
     "output_type": "stream",
     "text": [
      "AMEX 종목수: 354\n"
     ]
    },
    {
     "data": {
      "text/html": [
       "<div>\n",
       "<style scoped>\n",
       "    .dataframe tbody tr th:only-of-type {\n",
       "        vertical-align: middle;\n",
       "    }\n",
       "\n",
       "    .dataframe tbody tr th {\n",
       "        vertical-align: top;\n",
       "    }\n",
       "\n",
       "    .dataframe thead th {\n",
       "        text-align: right;\n",
       "    }\n",
       "</style>\n",
       "<table border=\"1\" class=\"dataframe\">\n",
       "  <thead>\n",
       "    <tr style=\"text-align: right;\">\n",
       "      <th></th>\n",
       "      <th>Symbol</th>\n",
       "      <th>Name</th>\n",
       "      <th>LastSale</th>\n",
       "      <th>MarketCap</th>\n",
       "      <th>IPOyear</th>\n",
       "      <th>Sector</th>\n",
       "      <th>industry</th>\n",
       "      <th>Summary Quote</th>\n",
       "      <th>Unnamed: 8</th>\n",
       "    </tr>\n",
       "  </thead>\n",
       "  <tbody>\n",
       "    <tr>\n",
       "      <th>0</th>\n",
       "      <td>XXII</td>\n",
       "      <td>22nd Century Group, Inc</td>\n",
       "      <td>2.51</td>\n",
       "      <td>$310.15M</td>\n",
       "      <td>NaN</td>\n",
       "      <td>Consumer Non-Durables</td>\n",
       "      <td>Farming/Seeds/Milling</td>\n",
       "      <td>https://www.nasdaq.com/symbol/xxii</td>\n",
       "      <td>NaN</td>\n",
       "    </tr>\n",
       "    <tr>\n",
       "      <th>1</th>\n",
       "      <td>FAX</td>\n",
       "      <td>Aberdeen Asia-Pacific Income Fund Inc</td>\n",
       "      <td>4.77</td>\n",
       "      <td>$1.2B</td>\n",
       "      <td>1986.0</td>\n",
       "      <td>NaN</td>\n",
       "      <td>NaN</td>\n",
       "      <td>https://www.nasdaq.com/symbol/fax</td>\n",
       "      <td>NaN</td>\n",
       "    </tr>\n",
       "    <tr>\n",
       "      <th>2</th>\n",
       "      <td>IAF</td>\n",
       "      <td>Aberdeen Australia Equity Fund Inc</td>\n",
       "      <td>6.35</td>\n",
       "      <td>$144.41M</td>\n",
       "      <td>NaN</td>\n",
       "      <td>NaN</td>\n",
       "      <td>NaN</td>\n",
       "      <td>https://www.nasdaq.com/symbol/iaf</td>\n",
       "      <td>NaN</td>\n",
       "    </tr>\n",
       "    <tr>\n",
       "      <th>3</th>\n",
       "      <td>CH</td>\n",
       "      <td>Aberdeen Chile Fund, Inc.</td>\n",
       "      <td>9.13</td>\n",
       "      <td>$85.44M</td>\n",
       "      <td>NaN</td>\n",
       "      <td>NaN</td>\n",
       "      <td>NaN</td>\n",
       "      <td>https://www.nasdaq.com/symbol/ch</td>\n",
       "      <td>NaN</td>\n",
       "    </tr>\n",
       "    <tr>\n",
       "      <th>4</th>\n",
       "      <td>ABE</td>\n",
       "      <td>Aberdeen Emerging Markets Smaller Company Oppo...</td>\n",
       "      <td>15.09</td>\n",
       "      <td>$143.13M</td>\n",
       "      <td>NaN</td>\n",
       "      <td>NaN</td>\n",
       "      <td>NaN</td>\n",
       "      <td>https://www.nasdaq.com/symbol/abe</td>\n",
       "      <td>NaN</td>\n",
       "    </tr>\n",
       "  </tbody>\n",
       "</table>\n",
       "</div>"
      ],
      "text/plain": [
       "           Symbol                                               Name  \\\n",
       "0            XXII                            22nd Century Group, Inc   \n",
       "1             FAX              Aberdeen Asia-Pacific Income Fund Inc   \n",
       "2             IAF                 Aberdeen Australia Equity Fund Inc   \n",
       "3              CH                          Aberdeen Chile Fund, Inc.   \n",
       "4  ABE             Aberdeen Emerging Markets Smaller Company Oppo...   \n",
       "\n",
       "   LastSale MarketCap  IPOyear                 Sector               industry  \\\n",
       "0      2.51  $310.15M      NaN  Consumer Non-Durables  Farming/Seeds/Milling   \n",
       "1      4.77     $1.2B   1986.0                    NaN                    NaN   \n",
       "2      6.35  $144.41M      NaN                    NaN                    NaN   \n",
       "3      9.13   $85.44M      NaN                    NaN                    NaN   \n",
       "4     15.09  $143.13M      NaN                    NaN                    NaN   \n",
       "\n",
       "                        Summary Quote  Unnamed: 8  \n",
       "0  https://www.nasdaq.com/symbol/xxii         NaN  \n",
       "1   https://www.nasdaq.com/symbol/fax         NaN  \n",
       "2   https://www.nasdaq.com/symbol/iaf         NaN  \n",
       "3    https://www.nasdaq.com/symbol/ch         NaN  \n",
       "4   https://www.nasdaq.com/symbol/abe         NaN  "
      ]
     },
     "execution_count": 3,
     "metadata": {},
     "output_type": "execute_result"
    }
   ],
   "source": [
    "# AMEX\n",
    "amex_url = 'http://www.nasdaq.com/screening/companies-by-name.aspx?letter=0&exchange=amex&render=download'\n",
    "df_amex = pd.read_csv(amex_url)\n",
    "\n",
    "print( 'AMEX 종목수: %d' % len(df_amex) )\n",
    "df_amex.head()"
   ]
  },
  {
   "cell_type": "markdown",
   "metadata": {
    "slideshow": {
     "slide_type": "slide"
    }
   },
   "source": [
    "# 특정 종목만 추출"
   ]
  },
  {
   "cell_type": "code",
   "execution_count": 4,
   "metadata": {
    "slideshow": {
     "slide_type": "-"
    }
   },
   "outputs": [
    {
     "data": {
      "text/html": [
       "<div>\n",
       "<style scoped>\n",
       "    .dataframe tbody tr th:only-of-type {\n",
       "        vertical-align: middle;\n",
       "    }\n",
       "\n",
       "    .dataframe tbody tr th {\n",
       "        vertical-align: top;\n",
       "    }\n",
       "\n",
       "    .dataframe thead th {\n",
       "        text-align: right;\n",
       "    }\n",
       "</style>\n",
       "<table border=\"1\" class=\"dataframe\">\n",
       "  <thead>\n",
       "    <tr style=\"text-align: right;\">\n",
       "      <th></th>\n",
       "      <th>Symbol</th>\n",
       "      <th>Name</th>\n",
       "      <th>LastSale</th>\n",
       "      <th>MarketCap</th>\n",
       "      <th>IPOyear</th>\n",
       "      <th>Sector</th>\n",
       "      <th>industry</th>\n",
       "      <th>Summary Quote</th>\n",
       "      <th>Unnamed: 8</th>\n",
       "    </tr>\n",
       "  </thead>\n",
       "  <tbody>\n",
       "    <tr>\n",
       "      <th>199</th>\n",
       "      <td>AAPL</td>\n",
       "      <td>Apple Inc.</td>\n",
       "      <td>178.12</td>\n",
       "      <td>$903.78B</td>\n",
       "      <td>1980.0</td>\n",
       "      <td>Technology</td>\n",
       "      <td>Computer Manufacturing</td>\n",
       "      <td>https://www.nasdaq.com/symbol/aapl</td>\n",
       "      <td>NaN</td>\n",
       "    </tr>\n",
       "  </tbody>\n",
       "</table>\n",
       "</div>"
      ],
      "text/plain": [
       "    Symbol        Name  LastSale MarketCap  IPOyear      Sector  \\\n",
       "199   AAPL  Apple Inc.    178.12  $903.78B   1980.0  Technology   \n",
       "\n",
       "                   industry                       Summary Quote  Unnamed: 8  \n",
       "199  Computer Manufacturing  https://www.nasdaq.com/symbol/aapl         NaN  "
      ]
     },
     "execution_count": 4,
     "metadata": {},
     "output_type": "execute_result"
    }
   ],
   "source": [
    "df_nasdaq[df_nasdaq.Symbol == 'AAPL']"
   ]
  },
  {
   "cell_type": "code",
   "execution_count": 5,
   "metadata": {
    "slideshow": {
     "slide_type": "slide"
    }
   },
   "outputs": [
    {
     "data": {
      "text/plain": [
       "7605.4"
      ]
     },
     "execution_count": 5,
     "metadata": {},
     "output_type": "execute_result"
    }
   ],
   "source": [
    "# 단위를 억(달러)으로 바꾸기\n",
    "\n",
    "import re\n",
    "powers = {'B': 10 ** 9, 'M': 10 ** 6}\n",
    "\n",
    "def f(str_num):\n",
    "    m = re.search(r\"\\$([0-9\\.]+)(M|B)\", str_num)\n",
    "    if m is not None:\n",
    "        val = m.group(1)\n",
    "        mag = m.group(2)\n",
    "        return float(val) * powers[mag] / 100000000.0\n",
    "    return None\n",
    "\n",
    "f('$760.54B')"
   ]
  },
  {
   "cell_type": "markdown",
   "metadata": {
    "slideshow": {
     "slide_type": "slide"
    }
   },
   "source": [
    "# Stock Screener\n",
    "종목 스크리너 Stock Screener, 종목 검색, Ticker symbol\n",
    "* FINVIZ.com <br/> http://finviz.com/screener.ashx\n",
    "* Yahoo Finance  <br/> http://screener.finance.yahoo.com/stocks.html\n",
    "* Google Finance <br/> http://www.google.com/finance/stockscreener\n",
    "* Morningstar <br/> http://screen.morningstar.com/stockselector.html"
   ]
  },
  {
   "cell_type": "markdown",
   "metadata": {
    "slideshow": {
     "slide_type": "slide"
    }
   },
   "source": [
    "# 미국 시장 시총 상위\n",
    "미국 시장(AMEX, NYSE, NASDAQ) 시가총액 상위 (출처: http://finviz.com/ )\n",
    "\n",
    "http://finviz.com/screener.ashx?v=111&o=-marketcap\n",
    "\n",
    "No.| Ticker| Company| Sector| Industry| Country\n",
    "-- | -- | -- | -- | -- | --   \n",
    "1| AAPL| Apple Inc.| Consumer Goods| Electronic Equipment| USA\n",
    "2| GOOGL| Alphabet Inc.| Technology| Internet Information Providers| USA\n",
    "3| GOOG| Alphabet Inc.| Technology| Internet Information Providers| USA\n",
    "4| MSFT| Microsoft Corporation| Technology| Business Software & Services| USA\n",
    "5| XOM| Exxon Mobil Corporation| Basic Materials| Major Integrated Oil & Gas| USA\n",
    "6| BRK-A| Berkshire Hathaway Inc.| Financial| Property & Casualty Insurance| USA\n",
    "7| AMZN| Amazon.com, Inc.| Services| Catalog & Mail Order Houses| USA\n",
    "8| BRK-B| Berkshire Hathaway Inc.| Financial| Property & Casualty Insurance| USA\n",
    "9| FB| Facebook, Inc.| Technology| Internet Information Providers| USA\n",
    "10| JNJ| Johnson & Johnson| Healthcare| Drug Manufacturers - Major| USA"
   ]
  },
  {
   "cell_type": "markdown",
   "metadata": {
    "slideshow": {
     "slide_type": "slide"
    }
   },
   "source": [
    "# 외환\n",
    "* USDKRW=X 원달러 환율\n",
    "* XAUUSD=X 금 고시가격 (달러/온스)\n"
   ]
  },
  {
   "cell_type": "markdown",
   "metadata": {
    "slideshow": {
     "slide_type": "slide"
    }
   },
   "source": [
    "# 해외지수\n",
    "\n",
    "NYSE 3대 지수: 다우지수, 나스닥, S&P500\n",
    "* ^DJI : Down Jones Industrial Average (다우존스 지수)\n",
    "* ^IXIC : NASDAQ Composite (나스닥 지수)\n",
    "* ^GSPC : S&P 500 Index (S&P 500 지수)\n",
    "\n",
    "미국외\n",
    "* ^N225 : Nikkei 225 (일본 니케이 지수)\n",
    "* ^HSI : Hang Seng Index (홍콩 항셍 지수)\n",
    "* 000001.SS : SSE Composite (상해 지수)"
   ]
  },
  {
   "cell_type": "markdown",
   "metadata": {
    "slideshow": {
     "slide_type": "notes"
    }
   },
   "source": [
    "----\n",
    "#### 2018 FinanceData http://fb.com/financedata http://financedata.github.com"
   ]
  }
 ],
 "metadata": {
  "celltoolbar": "Slideshow",
  "kernelspec": {
   "display_name": "Python 3",
   "language": "python",
   "name": "python3"
  },
  "language_info": {
   "codemirror_mode": {
    "name": "ipython",
    "version": 3
   },
   "file_extension": ".py",
   "mimetype": "text/x-python",
   "name": "python",
   "nbconvert_exporter": "python",
   "pygments_lexer": "ipython3",
   "version": "3.5.2"
  }
 },
 "nbformat": 4,
 "nbformat_minor": 1
}