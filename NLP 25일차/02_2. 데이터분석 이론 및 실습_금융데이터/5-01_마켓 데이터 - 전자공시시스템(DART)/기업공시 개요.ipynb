{
 "cells": [
  {
   "cell_type": "markdown",
   "metadata": {
    "slideshow": {
     "slide_type": "slide"
    }
   },
   "source": [
    "# 기업 공시 개요\n",
    "\n",
    "<img width=\"80%\" src=\"https://i.imgur.com/R5TEQVb.jpg\" >\n",
    "\n",
    "### 2018 FinanceData.KR"
   ]
  },
  {
   "cell_type": "markdown",
   "metadata": {
    "slideshow": {
     "slide_type": "slide"
    }
   },
   "source": [
    "# 공시제도\n",
    "기업의 중요 정보 (영업실적, 재무상태, 합병, 증자 등)을 이해관계자들에게 정기·수시적으로 공개하도록 하여 투자자 스스로 자유로운 판단과 책임하에 투자결정을 하도록 하는 제도\n",
    "\n",
    "### 증권거래법 공시내용\n",
    "발행시장 공시 \n",
    "* 자금조달(직접금융)을 위한 일회성 공시\n",
    "* 투자자 대상\n",
    "* 예: 유가증권신고서, 사업설명서, 유가증권발행실적보고서 등 \n",
    "\n",
    "유통시장 공시 \n",
    "* 정기공시 : 사업보고서/반기보고서/분기보고서, 연결재무제표/결합재무제표 \n",
    "* 수시공시 : 기업경영에 중요한 영향을 미치는 주요 경영정보의 공시 \n",
    "* 특수상황공시 : 공개매수신고서(설명서)/ 대량보유상황보고서 위임장설명서 등"
   ]
  },
  {
   "cell_type": "markdown",
   "metadata": {
    "slideshow": {
     "slide_type": "slide"
    }
   },
   "source": [
    "# 전자 공시 시스템\n",
    "* DART 금융감독원  http://dart.fss.or.kr\n",
    "* KIND 한국거래소 http://kind.krx.or.kr\n",
    "<img src=\"https://i.imgur.com/v4Qar7q.jpg\" >\n",
    "\n",
    "출처: 머니투데이"
   ]
  },
  {
   "cell_type": "markdown",
   "metadata": {
    "slideshow": {
     "slide_type": "slide"
    }
   },
   "source": [
    "# DART 금융감독원\n",
    "### http://dart.fss.or.kr\n",
    "* 발행정보 중심 전자공시시스템\n",
    "* **사업보고서를 내야할 기준에 해당되어(비상장외감법인) 정기공시**\n",
    "* **공정위에서 지정한 대규모기업집단에 소속된 비상장회사**\n",
    "* **증권신고서 등의 효력발생 또는 정정요구 조치공시 (금감원이 하는 공시)**\n",
    "* 기업의 IR 정보 (신기술 개발, 비전, 계약)\n",
    "* 사업계획서,  분기보고서\n",
    "* 회사의 연혁, 임직원의 연봉, 임직원 수\n",
    "\n",
    "### 의무공시 대상\n",
    "* 상장(등록)된 법인\n",
    "* 외부감사 의무법인 (자산 120억 이상 혹은 종업원수 300명 이상 + 자산 70억 이상)\n"
   ]
  },
  {
   "cell_type": "markdown",
   "metadata": {
    "slideshow": {
     "slide_type": "slide"
    }
   },
   "source": [
    "# KIND - 한국거래소\n",
    "### http://kind.krx.or.kr\n",
    "* 유통정보 중심 전자공시시스템\n",
    "* 한국거래소의 시장감시역할 수행\n",
    "* **거래소에서 발령하는 특정한 시장조치 포함 (예: 투자유의, 상장폐지)**\n",
    "* **상장주식수의 변동 공시 (예: BW/CB 등의 행사, 추가상장/변경상장)**\n",
    "* 안내공시 (예: 대표이사, 본점소재지 변경 등)"
   ]
  },
  {
   "cell_type": "markdown",
   "metadata": {
    "slideshow": {
     "slide_type": "slide"
    }
   },
   "source": [
    "# DART 시스템 제출 보고서\n",
    "\n",
    "\n",
    "### 정기공시\n",
    "* 사업보고서 (결산 후 90일 이내)\n",
    "* 반기보고서 (반기결산 후 45일 이내)\n",
    "* 분기보고서 (분기결산 후 45일 이내)\n",
    "\n",
    "### 발행공시\n",
    "* 증권신고서 (증권 모집 매출전)\n",
    "* 투자설명서 (신고서효력발생시(신고서 제출시))\n",
    "* 증권발행실적보고서 (발행완료시)\n",
    "* 일괄신고서 (일괄발행전(1년이내))\n",
    "* 일괄신고추가서류 (실제 발행시)\n",
    "\n",
    "### 주요사항보고\n",
    "* 회사존립, 조직재편성, 자본증감 등 투자의사결정에 중요한 영향을 미치는 사실 또는 결정내용\n",
    "\n",
    "### 외부감사관련\n",
    "* 감사보고서 (주주총회 종료후 2주일이내)\n",
    "* 결합감사보고서 (사업연도종료후 6월이내)\n",
    "* 연결감사보고서 (자산 2조 이상: 사업연도 종료 3월 이내, 그외: 4월 이내)"
   ]
  },
  {
   "cell_type": "markdown",
   "metadata": {
    "slideshow": {
     "slide_type": "notes"
    }
   },
   "source": [
    "### 2018 FinanceData.KR http://financedata.github.com"
   ]
  }
 ],
 "metadata": {
  "celltoolbar": "Slideshow",
  "kernelspec": {
   "display_name": "Python 3",
   "language": "python",
   "name": "python3"
  },
  "language_info": {
   "codemirror_mode": {
    "name": "ipython",
    "version": 3
   },
   "file_extension": ".py",
   "mimetype": "text/x-python",
   "name": "python",
   "nbconvert_exporter": "python",
   "pygments_lexer": "ipython3",
   "version": "3.5.2"
  }
 },
 "nbformat": 4,
 "nbformat_minor": 2
}