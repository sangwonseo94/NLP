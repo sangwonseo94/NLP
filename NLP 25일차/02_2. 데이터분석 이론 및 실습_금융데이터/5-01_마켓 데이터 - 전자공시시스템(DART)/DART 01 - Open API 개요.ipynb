{
 "cells": [
  {
   "cell_type": "markdown",
   "metadata": {
    "slideshow": {
     "slide_type": "slide"
    }
   },
   "source": [
    "# DART 01 - 오픈API 개요\n",
    "\n",
    "<img src=\"http://i.imgur.com/W3QMRaX.png\" >\n",
    "\n",
    "* DART 오픈API 사용법\n",
    "* json_normalize() 활용 \n",
    "* 기업개황 API, 정보검색 API\n",
    "\n",
    "### 2018 FinanceData.KR"
   ]
  },
  {
   "cell_type": "markdown",
   "metadata": {
    "slideshow": {
     "slide_type": "slide"
    }
   },
   "source": [
    "# 오픈 API\n",
    "공시 보고서 목록를 실시간 제공\n",
    "* https://dart.fss.or.kr/dsap001/intro.do 오픈API 소개\n",
    "* https://dart.fss.or.kr/dsap001/guide.do API 개발 가이드"
   ]
  },
  {
   "cell_type": "markdown",
   "metadata": {
    "slideshow": {
     "slide_type": "slide"
    }
   },
   "source": [
    "# API 인증키 발급\n",
    "계정을 만들고, API 인증키 발급 받는다\n",
    "\n",
    "계정 신청: https://dart.fss.or.kr/dsag002/insertForm.do\n",
    "\n",
    "### 개인용,  기업용\n",
    "* 개인용: 1만건/일\n",
    "* 기업용: 조회 건수 제한이 없는 대신 조회 서버 IP 제한"
   ]
  },
  {
   "cell_type": "markdown",
   "metadata": {
    "slideshow": {
     "slide_type": "slide"
    }
   },
   "source": [
    "# 인증키\n",
    "\n",
    "* 알파벳과 숫자로 이루어진 40 바이트 문자열\n",
    "* auth 파라미터로 제공\n",
    "* ex: 'e81e78aa519d1a1c4ec7867ef12a937ab6cbd4x7'"
   ]
  },
  {
   "cell_type": "markdown",
   "metadata": {
    "slideshow": {
     "slide_type": "slide"
    }
   },
   "source": [
    "# 오픈 API가 제공하는 주요정보\n",
    "주요하게 다음 2가지 API를 제공한다\n",
    "\n",
    "1. 기업 개황 API : http://dart.fss.or.kr/api/company.json?auth=xxx&crp_cd=xxx\n",
    "1. 정보 검색 API : http://dart.fss.or.kr/api/search.json?auth=xxx\n"
   ]
  },
  {
   "cell_type": "markdown",
   "metadata": {
    "slideshow": {
     "slide_type": "slide"
    }
   },
   "source": [
    "# 조회 예시\n",
    "\n",
    "### 요청 URL\n",
    "\n",
    "```\n",
    "http://dart.fss.or.kr/api/search.json?auth=e81e78aa519d1a1c4ec7867ef12a937ab6cbd4x7 \\\n",
    "&crp_cd=005930&start_dt=20000101&end_dt=20140730&dsp_tp=A&sort=date\n",
    "```\n",
    "\n",
    "### 결과\n",
    "\n",
    "```javascript\n",
    "{\n",
    "  \"err_code\": \"000\",\n",
    "  \"err_msg\": \"정상\",\n",
    "  \"page_no\": 1,\n",
    "  \"page_set\": 10,\n",
    "  \"total_count\": 61,\n",
    "  \"total_page\": 7,\n",
    "  \"list\": [\n",
    "    {\n",
    "      \"crp_cls\": \"Y\",\n",
    "      \"crp_nm\": \"삼성전자\",\n",
    "      \"crp_cd\": \"005930\",\n",
    "      \"rpt_nm\": \"[첨부추가]사업보고서 (1999.12)\",\n",
    "      \"rcp_no\": \"20000330000796\",\n",
    "      \"flr_nm\": \"삼성전자\",\n",
    "      \"rcp_dt\": \"20000330\",\n",
    "      \"rmk\": \"연\"\n",
    "    },\n",
    "    {\n",
    "      \"crp_cls\": \"Y\",\n",
    "      \"crp_nm\": \"삼성전자\",\n",
    "      \"crp_cd\": \"005930\",\n",
    "      \"rpt_nm\": \"분기보고서 (2000.03)\",\n",
    "      \"rcp_no\": \"20000515000739\",\n",
    "      \"flr_nm\": \"삼성전자\",\n",
    "      \"rcp_dt\": \"20000515\",\n",
    "      \"rmk\": \"\"\n",
    "    }, \n",
    "    ...\n",
    "```"
   ]
  },
  {
   "cell_type": "markdown",
   "metadata": {
    "slideshow": {
     "slide_type": "slide"
    }
   },
   "source": [
    "# API 개발 가이드 사이트에서 테스트\n",
    "https://dart.fss.or.kr/dsap001/guide.do API 개발 가이드\n",
    "\n",
    "<img src=\"http://i.imgur.com/9NpoJgx.png\" >\n"
   ]
  },
  {
   "cell_type": "markdown",
   "metadata": {
    "slideshow": {
     "slide_type": "slide"
    }
   },
   "source": [
    "# 테스트 인증키\n",
    "* 테스트 인증키: \"xxxxxxxxxxxxxxxxxxxxxxxxxxxxxxxxxxxxxxxx\" \n",
    "* HTTP 헤더의 Referer가 \"https://dart.fss.or.kr/dsap001/guide.do\" 일때 동작"
   ]
  },
  {
   "cell_type": "code",
   "execution_count": 1,
   "metadata": {
    "collapsed": true,
    "slideshow": {
     "slide_type": "-"
    }
   },
   "outputs": [],
   "source": [
    "# 실제 인증키를 사용\n",
    "auth = 'xxxxxxxxxxxxxxxxxxxxxxxxxxxxxxxxxxxxxxxx' \n",
    "\n",
    "# 헤더: 실제 인증키를 사용시 사용하지 않아도 된다\n",
    "headers={'Referer':'https://dart.fss.or.kr/dsap001/guide.do'}"
   ]
  },
  {
   "cell_type": "markdown",
   "metadata": {
    "slideshow": {
     "slide_type": "slide"
    }
   },
   "source": [
    "# JSON vs XML\n",
    "다음 두 가지(XML, JSON) 형식을 제공한다 \n",
    "* http://dart.fss.or.kr/api/search.xml?auth=xxx (XML)\n",
    "* http://dart.fss.or.kr/api/search.json?auth=xxx (JSON)\n",
    "\n",
    "데이터는 동일하다. JOSN이 상대적으로 가볍고, Python에서 다루기도 좋다."
   ]
  },
  {
   "cell_type": "code",
   "execution_count": 2,
   "metadata": {
    "slideshow": {
     "slide_type": "slide"
    }
   },
   "outputs": [
    {
     "data": {
      "text/plain": [
       "'<?xml version=\"1.0\" encoding=\"utf-8\"?>\\n<result>\\n  <err_code>000</err_code>\\n  <err_msg>정상</err_msg>\\n  <page_no>1</page_no>\\n  <page_set>10</page_set>\\n  <total_count>29</total_count>\\n  <total_page>3</total_page>\\n  <list>\\n    <crp_cls>K</crp_cls>\\n    <crp_nm>알에스오토메이션</crp_nm>\\n    <crp_cd>140670</crp_cd>\\n    <rpt_nm>임원ㆍ주요주주특정증권등소유상황보고서</rpt_nm>\\n    <rcp_no>20180220000014</rcp_no>\\n    <flr_nm>박기욱</flr_nm>\\n    <rcp_dt>20180220</rcp_dt>\\n    <rmk></rmk>\\n  </list>\\n  <list>\\n    <crp_cls>K</crp_cls>\\n    <crp_nm>인터불스</crp_nm>\\n    <crp_cd>158310</crp_cd>\\n    <rpt_nm>조회공시요구(풍문또는보도)(최대주주 지분 매각 추진설)</rpt_nm>\\n    <rcp_no>20180220900080</rcp_no>\\n    <flr_nm>코스닥시장본부</flr_nm>\\n    <rcp_dt>20180220</rcp_dt>\\n    <rmk>코</rmk>\\n  </list>\\n  <list>\\n    <crp_cls>K</crp_cls>\\n    <crp_nm>디알텍</crp_nm>\\n    <crp_cd>214680</crp_cd>\\n    <rpt_nm>임원ㆍ주요주주특정증권등소유상황보고서</rpt_nm>\\n    <rcp_no>20180220000013</rcp_no>\\n    <flr_nm>안홍수</flr_nm>\\n    <rcp_dt>20180220</rcp_dt>\\n    <rmk></rmk>\\n  </list>\\n  <list>\\n    <crp_cls>Y</crp_cls>\\n    <crp_nm>대교</crp_nm>\\n    <crp_cd>019680</crp_cd>\\n    <rpt_nm>임원ㆍ주요주주특정증권등소유상황보고서</rpt_nm>\\n    <rcp_no>20180220000012</rcp_no>\\n    <flr_nm>강영중</flr_nm>\\n    <rcp_dt>20180220</rcp_dt>\\n    <rmk></rmk>\\n  </list>\\n  <list>\\n    <crp_cls>K</crp_cls>\\n    <crp_nm>휴온스</crp_nm>\\n    <crp_cd>243070</crp_cd>\\n    <rpt_nm>기타경영사항(특허권취득)(자율공시)(RGD모티프 함유 펩티드 또는 이의 단편을 포함하는 화상 및 녹내장 치료, 피부주름 개선 및 발모촉진용 조성물)</rpt_nm>\\n    <rcp_no>20180220900072</rcp_no>\\n    <flr_nm>휴온스</flr_nm>\\n    <rcp_dt>20180220</rcp_dt>\\n    <rmk>코</rmk>\\n  </list>\\n  <list>\\n    <crp_cls>K</crp_cls>\\n    <crp_nm>디알텍</crp_nm>\\n    <crp_cd>214680</crp_cd>\\n    <rpt_nm>임원ㆍ주요주주특정증권등소유상황보고서</rpt_nm>\\n    <rcp_no>20180220000011</rcp_no>\\n    <flr_nm>이길수</flr_nm>\\n    <rcp_dt>20180220</rcp_dt>\\n    <rmk></rmk>\\n  </list>\\n  <list>\\n    <crp_cls>Y</crp_cls>\\n    <crp_nm>강원랜드</crp_nm>\\n    <crp_cd>035250</crp_cd>\\n    <rpt_nm>기업설명회(IR)개최(안내공시)</rpt_nm>\\n    <rcp_no>20180220800067</rcp_no>\\n    <flr_nm>강원랜드</flr_nm>\\n    <rcp_dt>20180220</rcp_dt>\\n    <rmk>유</rmk>\\n  </list>\\n  <list>\\n    <crp_cls>Y</crp_cls>\\n    <crp_nm>대원강업</crp_nm>\\n    <crp_cd>000430</crp_cd>\\n    <rpt_nm>최대주주등소유주식변동신고서</rpt_nm>\\n    <rcp_no>20180220800064</rcp_no>\\n    <flr_nm>대원강업</flr_nm>\\n    <rcp_dt>20180220</rcp_dt>\\n    <rmk>유</rmk>\\n  </list>\\n  <list>\\n    <crp_cls>Y</crp_cls>\\n    <crp_nm>남해화학</crp_nm>\\n    <crp_cd>025860</crp_cd>\\n    <rpt_nm>[기재정정]특수관계인과의예ㆍ적금거래</rpt_nm>\\n    <rcp_no>20180220000010</rcp_no>\\n    <flr_nm>남해화학</flr_nm>\\n    <rcp_dt>20180220</rcp_dt>\\n    <rmk>공</rmk>\\n  </list>\\n  <list>\\n    <crp_cls>Y</crp_cls>\\n    <crp_nm>SK텔레콤</crp_nm>\\n    <crp_cd>017670</crp_cd>\\n    <rpt_nm>투자설명서</rpt_nm>\\n    <rcp_no>20180220000009</rcp_no>\\n    <flr_nm>SK텔레콤</flr_nm>\\n    <rcp_dt>20180220</rcp_dt>\\n    <rmk></rmk>\\n  </list>\\n</result>'"
      ]
     },
     "execution_count": 2,
     "metadata": {},
     "output_type": "execute_result"
    }
   ],
   "source": [
    "import requests\n",
    "\n",
    "url_tmpl = 'http://dart.fss.or.kr/api/search.xml?auth={auth}'\n",
    "url = url_tmpl.format(auth=auth)\n",
    "\n",
    "r = requests.get(url, headers=headers)\n",
    "r.text"
   ]
  },
  {
   "cell_type": "code",
   "execution_count": 3,
   "metadata": {
    "slideshow": {
     "slide_type": "slide"
    }
   },
   "outputs": [
    {
     "data": {
      "text/plain": [
       "'{\"err_code\":\"000\",\"err_msg\":\"정상\",\"page_no\":1,\"page_set\":10,\"total_count\":29,\"total_page\":3,\"list\":[{\"crp_cls\":\"K\",\"crp_nm\":\"알에스오토메이션\",\"crp_cd\":\"140670\",\"rpt_nm\":\"임원ㆍ주요주주특정증권등소유상황보고서\",\"rcp_no\":\"20180220000014\",\"flr_nm\":\"박기욱\",\"rcp_dt\":\"20180220\",\"rmk\":\"\"},{\"crp_cls\":\"K\",\"crp_nm\":\"인터불스\",\"crp_cd\":\"158310\",\"rpt_nm\":\"조회공시요구(풍문또는보도)(최대주주 지분 매각 추진설)\",\"rcp_no\":\"20180220900080\",\"flr_nm\":\"코스닥시장본부\",\"rcp_dt\":\"20180220\",\"rmk\":\"코\"},{\"crp_cls\":\"K\",\"crp_nm\":\"디알텍\",\"crp_cd\":\"214680\",\"rpt_nm\":\"임원ㆍ주요주주특정증권등소유상황보고서\",\"rcp_no\":\"20180220000013\",\"flr_nm\":\"안홍수\",\"rcp_dt\":\"20180220\",\"rmk\":\"\"},{\"crp_cls\":\"Y\",\"crp_nm\":\"대교\",\"crp_cd\":\"019680\",\"rpt_nm\":\"임원ㆍ주요주주특정증권등소유상황보고서\",\"rcp_no\":\"20180220000012\",\"flr_nm\":\"강영중\",\"rcp_dt\":\"20180220\",\"rmk\":\"\"},{\"crp_cls\":\"K\",\"crp_nm\":\"휴온스\",\"crp_cd\":\"243070\",\"rpt_nm\":\"기타경영사항(특허권취득)(자율공시)(RGD모티프 함유 펩티드 또는 이의 단편을 포함하는 화상 및 녹내장 치료, 피부주름 개선 및 발모촉진용 조성물)\",\"rcp_no\":\"20180220900072\",\"flr_nm\":\"휴온스\",\"rcp_dt\":\"20180220\",\"rmk\":\"코\"},{\"crp_cls\":\"K\",\"crp_nm\":\"디알텍\",\"crp_cd\":\"214680\",\"rpt_nm\":\"임원ㆍ주요주주특정증권등소유상황보고서\",\"rcp_no\":\"20180220000011\",\"flr_nm\":\"이길수\",\"rcp_dt\":\"20180220\",\"rmk\":\"\"},{\"crp_cls\":\"Y\",\"crp_nm\":\"강원랜드\",\"crp_cd\":\"035250\",\"rpt_nm\":\"기업설명회(IR)개최(안내공시)\",\"rcp_no\":\"20180220800067\",\"flr_nm\":\"강원랜드\",\"rcp_dt\":\"20180220\",\"rmk\":\"유\"},{\"crp_cls\":\"Y\",\"crp_nm\":\"대원강업\",\"crp_cd\":\"000430\",\"rpt_nm\":\"최대주주등소유주식변동신고서\",\"rcp_no\":\"20180220800064\",\"flr_nm\":\"대원강업\",\"rcp_dt\":\"20180220\",\"rmk\":\"유\"},{\"crp_cls\":\"Y\",\"crp_nm\":\"남해화학\",\"crp_cd\":\"025860\",\"rpt_nm\":\"[기재정정]특수관계인과의예ㆍ적금거래\",\"rcp_no\":\"20180220000010\",\"flr_nm\":\"남해화학\",\"rcp_dt\":\"20180220\",\"rmk\":\"공\"},{\"crp_cls\":\"Y\",\"crp_nm\":\"SK텔레콤\",\"crp_cd\":\"017670\",\"rpt_nm\":\"투자설명서\",\"rcp_no\":\"20180220000009\",\"flr_nm\":\"SK텔레콤\",\"rcp_dt\":\"20180220\",\"rmk\":\"\"}]}'"
      ]
     },
     "execution_count": 3,
     "metadata": {},
     "output_type": "execute_result"
    }
   ],
   "source": [
    "import requests\n",
    "\n",
    "url_tmpl = 'http://dart.fss.or.kr/api/search.json?auth={auth}'\n",
    "url = url_tmpl.format(auth=auth)\n",
    "\n",
    "r = requests.get(url, headers=headers)\n",
    "r.text"
   ]
  },
  {
   "cell_type": "markdown",
   "metadata": {
    "slideshow": {
     "slide_type": "slide"
    }
   },
   "source": [
    "# 기업개황 API\n",
    "\n",
    "http://dart.fss.or.kr/api/company.json?auth=xxx&crp_cd=xxx\n"
   ]
  },
  {
   "cell_type": "code",
   "execution_count": 5,
   "metadata": {
    "slideshow": {
     "slide_type": "-"
    }
   },
   "outputs": [
    {
     "data": {
      "text/plain": [
       "{'acc_mt': '12',\n",
       " 'adr': '경기도 수원시 영통구  삼성로 129 (매탄동)',\n",
       " 'bsn_no': '1248100998',\n",
       " 'ceo_nm': '권오현, 윤부근, 신종균',\n",
       " 'crp_cls': 'Y',\n",
       " 'crp_nm': '삼성전자(주)',\n",
       " 'crp_nm_e': 'SAMSUNG ELECTRONICS CO,.LTD',\n",
       " 'crp_nm_i': '삼성전자',\n",
       " 'crp_no': '1301110006246',\n",
       " 'err_code': '000',\n",
       " 'err_msg': '정상',\n",
       " 'est_dt': '19690113',\n",
       " 'fax_no': '031-200-7538',\n",
       " 'hm_url': 'www.sec.co.kr',\n",
       " 'ind_cd': '264',\n",
       " 'ir_url': '',\n",
       " 'phn_no': '031-200-1114',\n",
       " 'stock_cd': '005930'}"
      ]
     },
     "execution_count": 5,
     "metadata": {},
     "output_type": "execute_result"
    }
   ],
   "source": [
    "url_tmpl = 'http://dart.fss.or.kr/api/company.json?auth={auth}&crp_cd={code}'\n",
    "url = url_tmpl.format(auth=auth, code='005930')\n",
    "r = requests.get(url, headers=headers)\n",
    "jo = json.loads(r.text)\n",
    "jo"
   ]
  },
  {
   "cell_type": "markdown",
   "metadata": {
    "slideshow": {
     "slide_type": "slide"
    }
   },
   "source": [
    "각 필드의 의미는 다음과 같다\n",
    "\n",
    "* err_code: 에러코드(오류 메시지 참조)\n",
    "* err_msg: 에러메시지(오류 메시지 참조)\n",
    "* crp_nm: 정식명칭\n",
    "* crp_nm_e: 영문명칭\n",
    "* crp_nm_i: 종목명(상장사) 또는 약식명칭(기타법인)\n",
    "* stock_cd: 상장회사인 경우 주식의 종목코드\n",
    "* ceo_nm: 대표자명\n",
    "* crp_cls: 법인구분 : Y(유가), K(코스닥), N(코넥스), E(기타)\n",
    "* crp_no: 법인등록번호\n",
    "* bsn_no: 사업자등록번호\n",
    "* adr: 주소\n",
    "* hm_url: 홈페이지\n",
    "* ir_url: IR홈페이지\n",
    "* phn_no: 전화번호\n",
    "* fax_no: 팩스번호\n",
    "* ind_cd: 업종코드\n",
    "* est_dt: 설립일(YYYYMMDD)\n",
    "* acc_mt: 결산월(MM)"
   ]
  },
  {
   "cell_type": "code",
   "execution_count": 6,
   "metadata": {
    "slideshow": {
     "slide_type": "-"
    }
   },
   "outputs": [
    {
     "data": {
      "text/plain": [
       "'1248100998'"
      ]
     },
     "execution_count": 6,
     "metadata": {},
     "output_type": "execute_result"
    }
   ],
   "source": [
    "jo['bsn_no'] # 사업자등록번호"
   ]
  },
  {
   "cell_type": "markdown",
   "metadata": {
    "slideshow": {
     "slide_type": "slide"
    }
   },
   "source": [
    "# 정보 검색 API \n",
    "\n",
    "http://dart.fss.or.kr/api/search.json?auth={auth}&crp_cd={code}&start_dt=19990101&bsn_tp=A001&bsn_tp=A002&bsn_tp=A003 <br>\n",
    "(회사의 전체 사업+반기+분기보고서)\n",
    "\n",
    "* crp_cd: 공시대상회사의 종목코드(상장사:숫자 6자리) 또는 고유번호(기타법인:숫자 8자리)\n",
    "* end_dt: 검색종료 접수일자(YYYYMMDD) : 없으면 당일\n",
    "* start_dt: 검색시작 접수일자(YYYYMMDD) : 없으면 end_dt crp_cd가 없는 경우 검색기간은 3개월로 제한\n",
    "* fin_rpt: 최종보고서만 검색여부(Y or N) 기본값 : N (정정이 있는 경우 최종정정만 검색)\n",
    "* dsp_tp: 정기공시(A), 주요사항보고(B), 발행공시(C), 지분공시(D), 기타공시(E), 외부감사관련(F), 펀드공시(G), 자산유동화(H), 거래소공시(I), 공정위공시(J)\n",
    "* bsn_tp: 정기공시(5), 주요사항보고(3), 발행공시(11), 지분공시(4), 기타공시(9), 외부감사관련(3), 펀드공시(3), 자산유동화(6), 거래소공시(6), 공정위공시(5) \n",
    "* sort: 접수일자(date), 회사명(crp), 보고서명(rpt) 기본값 : date\n",
    "* series: 오름차순(asc), 내림차순(desc) 기본값 : desc\n",
    "* page_no: 페이지 번호(1~n) 기본값 : 1\n",
    "* page_set: 페이지당 건수(1~100) 기본값 : 10, 최대값 : 100\n",
    "* callback: 콜백함수명(JSONP용)"
   ]
  },
  {
   "cell_type": "markdown",
   "metadata": {
    "slideshow": {
     "slide_type": "slide"
    }
   },
   "source": [
    "# 검색 API 샘플\n",
    "{auth}는 인증키, {code}는 종목 코드\n",
    "* 당일 접수 10건 <br> http://dart.fss.or.kr/api/search.json?auth={auth}\n",
    "* 당일 접수 100건<br> http://dart.fss.or.kr/api/search.json?auth={auth}&page_set=100\n",
    "* 회사의 당일 접수 10건<br> http://dart.fss.or.kr/api/search.json?auth={auth}&crp_cd={code}\n",
    "* 회사의 당일 접수 최종보고서만 10건<br> http://dart.fss.or.kr/api/search.json?auth={auth}&crp_cd={code}&fin_rpt=Y\n",
    "* 회사의 전체(19990101~당일) 공시 10건<br> http://dart.fss.or.kr/api/search.json?auth={auth}&crp_cd={code}&start_dt=19990101\n",
    "* 회사의 전체 정기공시 10건<br> http://dart.fss.or.kr/api/search.json?auth={auth}&crp_cd={code}&start_dt=19990101&dsp_tp=A\n",
    "* 회사의 전체 사업+반기+분기보고서 10건<br> http://dart.fss.or.kr/api/search.json?auth={auth}&crp_cd={code}&start_dt=19990101&bsn_tp=A001&bsn_tp=A002&bsn_tp=A003\n",
    "    "
   ]
  },
  {
   "cell_type": "code",
   "execution_count": 7,
   "metadata": {
    "slideshow": {
     "slide_type": "slide"
    }
   },
   "outputs": [
    {
     "data": {
      "text/html": [
       "<div>\n",
       "<style scoped>\n",
       "    .dataframe tbody tr th:only-of-type {\n",
       "        vertical-align: middle;\n",
       "    }\n",
       "\n",
       "    .dataframe tbody tr th {\n",
       "        vertical-align: top;\n",
       "    }\n",
       "\n",
       "    .dataframe thead th {\n",
       "        text-align: right;\n",
       "    }\n",
       "</style>\n",
       "<table border=\"1\" class=\"dataframe\">\n",
       "  <thead>\n",
       "    <tr style=\"text-align: right;\">\n",
       "      <th></th>\n",
       "      <th>crp_cd</th>\n",
       "      <th>crp_cls</th>\n",
       "      <th>crp_nm</th>\n",
       "      <th>flr_nm</th>\n",
       "      <th>rcp_dt</th>\n",
       "      <th>rcp_no</th>\n",
       "      <th>rmk</th>\n",
       "      <th>rpt_nm</th>\n",
       "    </tr>\n",
       "  </thead>\n",
       "  <tbody>\n",
       "    <tr>\n",
       "      <th>0</th>\n",
       "      <td>140670</td>\n",
       "      <td>K</td>\n",
       "      <td>알에스오토메이션</td>\n",
       "      <td>박기욱</td>\n",
       "      <td>20180220</td>\n",
       "      <td>20180220000014</td>\n",
       "      <td></td>\n",
       "      <td>임원ㆍ주요주주특정증권등소유상황보고서</td>\n",
       "    </tr>\n",
       "    <tr>\n",
       "      <th>1</th>\n",
       "      <td>158310</td>\n",
       "      <td>K</td>\n",
       "      <td>인터불스</td>\n",
       "      <td>코스닥시장본부</td>\n",
       "      <td>20180220</td>\n",
       "      <td>20180220900080</td>\n",
       "      <td>코</td>\n",
       "      <td>조회공시요구(풍문또는보도)(최대주주 지분 매각 추진설)</td>\n",
       "    </tr>\n",
       "    <tr>\n",
       "      <th>2</th>\n",
       "      <td>214680</td>\n",
       "      <td>K</td>\n",
       "      <td>디알텍</td>\n",
       "      <td>안홍수</td>\n",
       "      <td>20180220</td>\n",
       "      <td>20180220000013</td>\n",
       "      <td></td>\n",
       "      <td>임원ㆍ주요주주특정증권등소유상황보고서</td>\n",
       "    </tr>\n",
       "    <tr>\n",
       "      <th>3</th>\n",
       "      <td>019680</td>\n",
       "      <td>Y</td>\n",
       "      <td>대교</td>\n",
       "      <td>강영중</td>\n",
       "      <td>20180220</td>\n",
       "      <td>20180220000012</td>\n",
       "      <td></td>\n",
       "      <td>임원ㆍ주요주주특정증권등소유상황보고서</td>\n",
       "    </tr>\n",
       "    <tr>\n",
       "      <th>4</th>\n",
       "      <td>243070</td>\n",
       "      <td>K</td>\n",
       "      <td>휴온스</td>\n",
       "      <td>휴온스</td>\n",
       "      <td>20180220</td>\n",
       "      <td>20180220900072</td>\n",
       "      <td>코</td>\n",
       "      <td>기타경영사항(특허권취득)(자율공시)(RGD모티프 함유 펩티드 또는 이의 단편을 포함...</td>\n",
       "    </tr>\n",
       "  </tbody>\n",
       "</table>\n",
       "</div>"
      ],
      "text/plain": [
       "   crp_cd crp_cls    crp_nm   flr_nm    rcp_dt          rcp_no rmk  \\\n",
       "0  140670       K  알에스오토메이션      박기욱  20180220  20180220000014       \n",
       "1  158310       K      인터불스  코스닥시장본부  20180220  20180220900080   코   \n",
       "2  214680       K       디알텍      안홍수  20180220  20180220000013       \n",
       "3  019680       Y        대교      강영중  20180220  20180220000012       \n",
       "4  243070       K       휴온스      휴온스  20180220  20180220900072   코   \n",
       "\n",
       "                                              rpt_nm  \n",
       "0                                임원ㆍ주요주주특정증권등소유상황보고서  \n",
       "1                     조회공시요구(풍문또는보도)(최대주주 지분 매각 추진설)  \n",
       "2                                임원ㆍ주요주주특정증권등소유상황보고서  \n",
       "3                                임원ㆍ주요주주특정증권등소유상황보고서  \n",
       "4  기타경영사항(특허권취득)(자율공시)(RGD모티프 함유 펩티드 또는 이의 단편을 포함...  "
      ]
     },
     "execution_count": 7,
     "metadata": {},
     "output_type": "execute_result"
    }
   ],
   "source": [
    "# 당일 접수 10건 \n",
    "\n",
    "url_tmpl = 'http://dart.fss.or.kr/api/search.json?auth={auth}'\n",
    "url = url_tmpl.format(auth=auth)\n",
    "r = requests.get(url, headers=headers)\n",
    "jo = json.loads(r.text)\n",
    "result = json_normalize(jo, 'list')\n",
    "result.head()"
   ]
  },
  {
   "cell_type": "code",
   "execution_count": 8,
   "metadata": {
    "slideshow": {
     "slide_type": "slide"
    }
   },
   "outputs": [
    {
     "data": {
      "text/plain": [
       "{'err_code': '000',\n",
       " 'err_msg': '정상',\n",
       " 'list': [{'crp_cd': '140670',\n",
       "   'crp_cls': 'K',\n",
       "   'crp_nm': '알에스오토메이션',\n",
       "   'flr_nm': '박기욱',\n",
       "   'rcp_dt': '20180220',\n",
       "   'rcp_no': '20180220000014',\n",
       "   'rmk': '',\n",
       "   'rpt_nm': '임원ㆍ주요주주특정증권등소유상황보고서'},\n",
       "  {'crp_cd': '158310',\n",
       "   'crp_cls': 'K',\n",
       "   'crp_nm': '인터불스',\n",
       "   'flr_nm': '코스닥시장본부',\n",
       "   'rcp_dt': '20180220',\n",
       "   'rcp_no': '20180220900080',\n",
       "   'rmk': '코',\n",
       "   'rpt_nm': '조회공시요구(풍문또는보도)(최대주주 지분 매각 추진설)'},\n",
       "  {'crp_cd': '214680',\n",
       "   'crp_cls': 'K',\n",
       "   'crp_nm': '디알텍',\n",
       "   'flr_nm': '안홍수',\n",
       "   'rcp_dt': '20180220',\n",
       "   'rcp_no': '20180220000013',\n",
       "   'rmk': '',\n",
       "   'rpt_nm': '임원ㆍ주요주주특정증권등소유상황보고서'},\n",
       "  {'crp_cd': '019680',\n",
       "   'crp_cls': 'Y',\n",
       "   'crp_nm': '대교',\n",
       "   'flr_nm': '강영중',\n",
       "   'rcp_dt': '20180220',\n",
       "   'rcp_no': '20180220000012',\n",
       "   'rmk': '',\n",
       "   'rpt_nm': '임원ㆍ주요주주특정증권등소유상황보고서'},\n",
       "  {'crp_cd': '243070',\n",
       "   'crp_cls': 'K',\n",
       "   'crp_nm': '휴온스',\n",
       "   'flr_nm': '휴온스',\n",
       "   'rcp_dt': '20180220',\n",
       "   'rcp_no': '20180220900072',\n",
       "   'rmk': '코',\n",
       "   'rpt_nm': '기타경영사항(특허권취득)(자율공시)(RGD모티프 함유 펩티드 또는 이의 단편을 포함하는 화상 및 녹내장 치료, 피부주름 개선 및 발모촉진용 조성물)'},\n",
       "  {'crp_cd': '214680',\n",
       "   'crp_cls': 'K',\n",
       "   'crp_nm': '디알텍',\n",
       "   'flr_nm': '이길수',\n",
       "   'rcp_dt': '20180220',\n",
       "   'rcp_no': '20180220000011',\n",
       "   'rmk': '',\n",
       "   'rpt_nm': '임원ㆍ주요주주특정증권등소유상황보고서'},\n",
       "  {'crp_cd': '035250',\n",
       "   'crp_cls': 'Y',\n",
       "   'crp_nm': '강원랜드',\n",
       "   'flr_nm': '강원랜드',\n",
       "   'rcp_dt': '20180220',\n",
       "   'rcp_no': '20180220800067',\n",
       "   'rmk': '유',\n",
       "   'rpt_nm': '기업설명회(IR)개최(안내공시)'},\n",
       "  {'crp_cd': '000430',\n",
       "   'crp_cls': 'Y',\n",
       "   'crp_nm': '대원강업',\n",
       "   'flr_nm': '대원강업',\n",
       "   'rcp_dt': '20180220',\n",
       "   'rcp_no': '20180220800064',\n",
       "   'rmk': '유',\n",
       "   'rpt_nm': '최대주주등소유주식변동신고서'},\n",
       "  {'crp_cd': '025860',\n",
       "   'crp_cls': 'Y',\n",
       "   'crp_nm': '남해화학',\n",
       "   'flr_nm': '남해화학',\n",
       "   'rcp_dt': '20180220',\n",
       "   'rcp_no': '20180220000010',\n",
       "   'rmk': '공',\n",
       "   'rpt_nm': '[기재정정]특수관계인과의예ㆍ적금거래'},\n",
       "  {'crp_cd': '017670',\n",
       "   'crp_cls': 'Y',\n",
       "   'crp_nm': 'SK텔레콤',\n",
       "   'flr_nm': 'SK텔레콤',\n",
       "   'rcp_dt': '20180220',\n",
       "   'rcp_no': '20180220000009',\n",
       "   'rmk': '',\n",
       "   'rpt_nm': '투자설명서'}],\n",
       " 'page_no': 1,\n",
       " 'page_set': 10,\n",
       " 'total_count': 29,\n",
       " 'total_page': 3}"
      ]
     },
     "execution_count": 8,
     "metadata": {},
     "output_type": "execute_result"
    }
   ],
   "source": [
    "jo"
   ]
  },
  {
   "cell_type": "markdown",
   "metadata": {
    "slideshow": {
     "slide_type": "slide"
    }
   },
   "source": [
    "# 응답 결과 필드\n",
    "\n",
    "### result\n",
    "* err_code: 에러코드(오류 메시지 참조)\n",
    "* err_msg: 에러메시지(오류 메시지 참조)\n",
    "* page_no: 페이지 번호\n",
    "* page_set: 페이지당 건수\n",
    "* total_count: 총 건수\n",
    "* total_page: 총 페이지 수\n",
    "\n",
    "### list\n",
    "* crp_cls: 법인구분 : Y(유가), K(코스닥), N(코넥스), E(기타)\n",
    "* crp_nm: 공시대상회사의 종목명(상장사) 또는 법인명(기타법인)\n",
    "* crp_cd: 공시대상회사의 종목코드(6자리) 또는 고유번호(8자리)\n",
    "* rpt_nm: 공시구분+보고서명+기타정보\n",
    " * [기재정정] : 본 보고서명으로 이미 제출된 보고서의 기재내용이 변경되어 제출된 것임\n",
    " * [첨부정정] : 본 보고서명으로 이미 제출된 보고서의 첨부내용이 변경되어 제출된 것임\n",
    " * [첨부추가] : 본 보고서명으로 이미 제출된 보고서의 첨부서류가 추가되어 제출된 것임\n",
    " * [변경등록] : 본 보고서명으로 이미 제출된 보고서의 유동화계획이 변경되어 제출된 것임\n",
    " * [연장결정] : 본 보고서명으로 이미 제출된 보고서의 신탁계약이 연장되어 제출된 것임\n",
    " * [발행조건확정] : 본 보고서명으로 이미 제출된 보고서의 유가증권 발행조건이 확정되어 제출된 것임\n",
    " * [정정명령부과] : 본 보고서에 대하여 금융감독원이 정정명령을 부과한 것임\n",
    " * [정정제출요구] : 본 보고서에 대하여 금융감독원이 정정제출요구을 부과한 것임\n",
    "* rcp_no: 접수번호(공시뷰어 연결에 이용)\n",
    " * PC용 : http://dart.fss.or.kr/dsaf001/main.do?rcpNo=접수번호\n",
    " * 모바일용 : http://m.dart.fss.or.kr/html_mdart/MD1007.html?rcpNo=접수번호\n",
    "* flr_nm: 공시 제출인명\n",
    "* rcp_dt: 공시 접수일자(YYYYMMDD)\n",
    "* rmk: 조합된 문자로 각각은 아래와 같은 의미가 있음\n",
    " * 유 : 본 공시사항은 한국거래소 유가증권시장본부 소관임\n",
    " * 코 : 본 공시사항은 한국거래소 코스닥시장본부 소관임\n",
    " * 채 : 본 문서는 한국거래소 채권상장법인 공시사항임\n",
    " * 넥 : 본 문서는 한국거래소 코넥스시장 소관임\n",
    " * 공 : 본 공시사항은 공정거래위원회 소관임\n",
    " * 연 : 본 보고서는 연결부분을 포함한 것임\n",
    " * 정 : 본 보고서 제출 후 정정신고가 있으니 관련 보고서를 참조하시기 바람\n",
    " * 철 : 본 보고서는 철회(간주)되었으니 관련 철회신고서(철회간주안내)를 참고하시기 바람    "
   ]
  },
  {
   "cell_type": "code",
   "execution_count": 9,
   "metadata": {
    "slideshow": {
     "slide_type": "slide"
    }
   },
   "outputs": [
    {
     "data": {
      "text/html": [
       "<div>\n",
       "<style scoped>\n",
       "    .dataframe tbody tr th:only-of-type {\n",
       "        vertical-align: middle;\n",
       "    }\n",
       "\n",
       "    .dataframe tbody tr th {\n",
       "        vertical-align: top;\n",
       "    }\n",
       "\n",
       "    .dataframe thead th {\n",
       "        text-align: right;\n",
       "    }\n",
       "</style>\n",
       "<table border=\"1\" class=\"dataframe\">\n",
       "  <thead>\n",
       "    <tr style=\"text-align: right;\">\n",
       "      <th></th>\n",
       "      <th>crp_cd</th>\n",
       "      <th>crp_cls</th>\n",
       "      <th>crp_nm</th>\n",
       "      <th>flr_nm</th>\n",
       "      <th>rcp_dt</th>\n",
       "      <th>rcp_no</th>\n",
       "      <th>rmk</th>\n",
       "      <th>rpt_nm</th>\n",
       "    </tr>\n",
       "  </thead>\n",
       "  <tbody>\n",
       "    <tr>\n",
       "      <th>0</th>\n",
       "      <td>140670</td>\n",
       "      <td>K</td>\n",
       "      <td>알에스오토메이션</td>\n",
       "      <td>박기욱</td>\n",
       "      <td>20180220</td>\n",
       "      <td>20180220000014</td>\n",
       "      <td></td>\n",
       "      <td>임원ㆍ주요주주특정증권등소유상황보고서</td>\n",
       "    </tr>\n",
       "    <tr>\n",
       "      <th>1</th>\n",
       "      <td>158310</td>\n",
       "      <td>K</td>\n",
       "      <td>인터불스</td>\n",
       "      <td>코스닥시장본부</td>\n",
       "      <td>20180220</td>\n",
       "      <td>20180220900080</td>\n",
       "      <td>코</td>\n",
       "      <td>조회공시요구(풍문또는보도)(최대주주 지분 매각 추진설)</td>\n",
       "    </tr>\n",
       "    <tr>\n",
       "      <th>2</th>\n",
       "      <td>214680</td>\n",
       "      <td>K</td>\n",
       "      <td>디알텍</td>\n",
       "      <td>안홍수</td>\n",
       "      <td>20180220</td>\n",
       "      <td>20180220000013</td>\n",
       "      <td></td>\n",
       "      <td>임원ㆍ주요주주특정증권등소유상황보고서</td>\n",
       "    </tr>\n",
       "    <tr>\n",
       "      <th>3</th>\n",
       "      <td>019680</td>\n",
       "      <td>Y</td>\n",
       "      <td>대교</td>\n",
       "      <td>강영중</td>\n",
       "      <td>20180220</td>\n",
       "      <td>20180220000012</td>\n",
       "      <td></td>\n",
       "      <td>임원ㆍ주요주주특정증권등소유상황보고서</td>\n",
       "    </tr>\n",
       "    <tr>\n",
       "      <th>4</th>\n",
       "      <td>243070</td>\n",
       "      <td>K</td>\n",
       "      <td>휴온스</td>\n",
       "      <td>휴온스</td>\n",
       "      <td>20180220</td>\n",
       "      <td>20180220900072</td>\n",
       "      <td>코</td>\n",
       "      <td>기타경영사항(특허권취득)(자율공시)(RGD모티프 함유 펩티드 또는 이의 단편을 포함...</td>\n",
       "    </tr>\n",
       "  </tbody>\n",
       "</table>\n",
       "</div>"
      ],
      "text/plain": [
       "   crp_cd crp_cls    crp_nm   flr_nm    rcp_dt          rcp_no rmk  \\\n",
       "0  140670       K  알에스오토메이션      박기욱  20180220  20180220000014       \n",
       "1  158310       K      인터불스  코스닥시장본부  20180220  20180220900080   코   \n",
       "2  214680       K       디알텍      안홍수  20180220  20180220000013       \n",
       "3  019680       Y        대교      강영중  20180220  20180220000012       \n",
       "4  243070       K       휴온스      휴온스  20180220  20180220900072   코   \n",
       "\n",
       "                                              rpt_nm  \n",
       "0                                임원ㆍ주요주주특정증권등소유상황보고서  \n",
       "1                     조회공시요구(풍문또는보도)(최대주주 지분 매각 추진설)  \n",
       "2                                임원ㆍ주요주주특정증권등소유상황보고서  \n",
       "3                                임원ㆍ주요주주특정증권등소유상황보고서  \n",
       "4  기타경영사항(특허권취득)(자율공시)(RGD모티프 함유 펩티드 또는 이의 단편을 포함...  "
      ]
     },
     "execution_count": 9,
     "metadata": {},
     "output_type": "execute_result"
    }
   ],
   "source": [
    "# 당일 접수 100건 (최대 100건)\n",
    "\n",
    "url_tmpl = 'http://dart.fss.or.kr/api/search.json?auth={auth}&page_set=100'\n",
    "url = url_tmpl.format(auth=auth)\n",
    "r = requests.get(url, headers=headers)\n",
    "jo = json.loads(r.text)\n",
    "result = json_normalize(jo, 'list')\n",
    "result.head()"
   ]
  },
  {
   "cell_type": "code",
   "execution_count": 10,
   "metadata": {
    "slideshow": {
     "slide_type": "slide"
    }
   },
   "outputs": [
    {
     "name": "stdout",
     "output_type": "stream",
     "text": [
      "총 79 건\n"
     ]
    },
    {
     "data": {
      "text/html": [
       "<div>\n",
       "<style scoped>\n",
       "    .dataframe tbody tr th:only-of-type {\n",
       "        vertical-align: middle;\n",
       "    }\n",
       "\n",
       "    .dataframe tbody tr th {\n",
       "        vertical-align: top;\n",
       "    }\n",
       "\n",
       "    .dataframe thead th {\n",
       "        text-align: right;\n",
       "    }\n",
       "</style>\n",
       "<table border=\"1\" class=\"dataframe\">\n",
       "  <thead>\n",
       "    <tr style=\"text-align: right;\">\n",
       "      <th></th>\n",
       "      <th>crp_cd</th>\n",
       "      <th>crp_cls</th>\n",
       "      <th>crp_nm</th>\n",
       "      <th>flr_nm</th>\n",
       "      <th>rcp_dt</th>\n",
       "      <th>rcp_no</th>\n",
       "      <th>rmk</th>\n",
       "      <th>rpt_nm</th>\n",
       "    </tr>\n",
       "  </thead>\n",
       "  <tbody>\n",
       "    <tr>\n",
       "      <th>0</th>\n",
       "      <td>005930</td>\n",
       "      <td>Y</td>\n",
       "      <td>삼성전자</td>\n",
       "      <td>삼성전자</td>\n",
       "      <td>20171114</td>\n",
       "      <td>20171114001694</td>\n",
       "      <td></td>\n",
       "      <td>분기보고서 (2017.09)</td>\n",
       "    </tr>\n",
       "    <tr>\n",
       "      <th>1</th>\n",
       "      <td>005930</td>\n",
       "      <td>Y</td>\n",
       "      <td>삼성전자</td>\n",
       "      <td>삼성전자</td>\n",
       "      <td>20170814</td>\n",
       "      <td>20170814001832</td>\n",
       "      <td></td>\n",
       "      <td>반기보고서 (2017.06)</td>\n",
       "    </tr>\n",
       "    <tr>\n",
       "      <th>2</th>\n",
       "      <td>005930</td>\n",
       "      <td>Y</td>\n",
       "      <td>삼성전자</td>\n",
       "      <td>삼성전자</td>\n",
       "      <td>20170515</td>\n",
       "      <td>20170515003806</td>\n",
       "      <td></td>\n",
       "      <td>분기보고서 (2017.03)</td>\n",
       "    </tr>\n",
       "    <tr>\n",
       "      <th>3</th>\n",
       "      <td>005930</td>\n",
       "      <td>Y</td>\n",
       "      <td>삼성전자</td>\n",
       "      <td>삼성전자</td>\n",
       "      <td>20170331</td>\n",
       "      <td>20170331004518</td>\n",
       "      <td>연</td>\n",
       "      <td>사업보고서 (2016.12)</td>\n",
       "    </tr>\n",
       "    <tr>\n",
       "      <th>4</th>\n",
       "      <td>005930</td>\n",
       "      <td>Y</td>\n",
       "      <td>삼성전자</td>\n",
       "      <td>삼성전자</td>\n",
       "      <td>20161114</td>\n",
       "      <td>20161114001491</td>\n",
       "      <td></td>\n",
       "      <td>분기보고서 (2016.09)</td>\n",
       "    </tr>\n",
       "  </tbody>\n",
       "</table>\n",
       "</div>"
      ],
      "text/plain": [
       "   crp_cd crp_cls crp_nm flr_nm    rcp_dt          rcp_no rmk           rpt_nm\n",
       "0  005930       Y   삼성전자   삼성전자  20171114  20171114001694      분기보고서 (2017.09)\n",
       "1  005930       Y   삼성전자   삼성전자  20170814  20170814001832      반기보고서 (2017.06)\n",
       "2  005930       Y   삼성전자   삼성전자  20170515  20170515003806      분기보고서 (2017.03)\n",
       "3  005930       Y   삼성전자   삼성전자  20170331  20170331004518   연  사업보고서 (2016.12)\n",
       "4  005930       Y   삼성전자   삼성전자  20161114  20161114001491      분기보고서 (2016.09)"
      ]
     },
     "execution_count": 10,
     "metadata": {},
     "output_type": "execute_result"
    }
   ],
   "source": [
    "# 회사의 전체 사업+반기+분기보고서 100건\n",
    "\n",
    "url_tmpl = 'http://dart.fss.or.kr/api/search.json?auth={auth}&crp_cd={code}&start_dt=19990101&bsn_tp=A001&bsn_tp=A002&bsn_tp=A003&page_set=100'\n",
    "url = url_tmpl.format(auth=auth, code='005930')\n",
    "r = requests.get(url, headers=headers)\n",
    "jo = json.loads(r.text)\n",
    "result = json_normalize(jo, 'list')\n",
    "print('총', len(result), '건')\n",
    "result.head()"
   ]
  },
  {
   "cell_type": "markdown",
   "metadata": {
    "slideshow": {
     "slide_type": "slide"
    }
   },
   "source": [
    "# 보고서 보기\n",
    "조회 결과에서 중요한 것은 문서의 고유 번호인 접수 번호 \"rcp_no\":\"20170515003806\" (삼성전자 분기보고서 2017.03)\n",
    "\n",
    "이 번호를 rcpNo 인자 다음 URL을 만들어 문서를 조회할 수 있다\n",
    "\n",
    "### 데스크탑 버전\n",
    "* 'http://dart.fss.or.kr/dsaf001/main.do?rcpNo=' + 접수번호\n",
    "* http://dart.fss.or.kr/dsaf001/main.do?rcpNo=20170515003806\n",
    "\n",
    "### 모바일 버전\n",
    "* 'http://m.dart.fss.or.kr/html_mdart/MD1007.html?rcpNo=' + 접수번호\n",
    "* http://m.dart.fss.or.kr/html_mdart/MD1007.html?rcpNo=20170515003806"
   ]
  },
  {
   "cell_type": "markdown",
   "metadata": {
    "slideshow": {
     "slide_type": "subslide"
    }
   },
   "source": [
    "# 보고서 URL 생성"
   ]
  },
  {
   "cell_type": "code",
   "execution_count": 11,
   "metadata": {
    "slideshow": {
     "slide_type": "-"
    }
   },
   "outputs": [
    {
     "name": "stdout",
     "output_type": "stream",
     "text": [
      "0 http://dart.fss.or.kr/dsaf001/main.do?rcpNo=20171114001694\n",
      "1 http://dart.fss.or.kr/dsaf001/main.do?rcpNo=20170814001832\n",
      "2 http://dart.fss.or.kr/dsaf001/main.do?rcpNo=20170515003806\n",
      "3 http://dart.fss.or.kr/dsaf001/main.do?rcpNo=20170331004518\n",
      "4 http://dart.fss.or.kr/dsaf001/main.do?rcpNo=20161114001491\n",
      "5 http://dart.fss.or.kr/dsaf001/main.do?rcpNo=20160816001779\n",
      "6 http://dart.fss.or.kr/dsaf001/main.do?rcpNo=20160516003174\n",
      "7 http://dart.fss.or.kr/dsaf001/main.do?rcpNo=20160330003536\n",
      "8 http://dart.fss.or.kr/dsaf001/main.do?rcpNo=20151116000976\n",
      "9 http://dart.fss.or.kr/dsaf001/main.do?rcpNo=20150817000859\n"
     ]
    }
   ],
   "source": [
    "df = result[:10] # 처음 10개만\n",
    "\n",
    "for ix, row in df.iterrows():\n",
    "    url_tmpl = \"http://dart.fss.or.kr/dsaf001/main.do?rcpNo={}\"\n",
    "    url = url_tmpl.format(row['rcp_no'])\n",
    "    print (ix, url)"
   ]
  },
  {
   "cell_type": "markdown",
   "metadata": {
    "slideshow": {
     "slide_type": "slide"
    }
   },
   "source": [
    "# Summary\n",
    "* DART 오픈AP 사용법\n",
    "* json_normalize() 활용 \n",
    "* 기업개황 API, 정보검색 API"
   ]
  },
  {
   "cell_type": "markdown",
   "metadata": {
    "slideshow": {
     "slide_type": "notes"
    }
   },
   "source": [
    "----\n",
    "### 2018 FinanceData.KR http://fb.com/financedata"
   ]
  }
 ],
 "metadata": {
  "celltoolbar": "Slideshow",
  "kernelspec": {
   "display_name": "Python 3",
   "language": "python",
   "name": "python3"
  },
  "language_info": {
   "codemirror_mode": {
    "name": "ipython",
    "version": 3
   },
   "file_extension": ".py",
   "mimetype": "text/x-python",
   "name": "python",
   "nbconvert_exporter": "python",
   "pygments_lexer": "ipython3",
   "version": "3.5.2"
  }
 },
 "nbformat": 4,
 "nbformat_minor": 2
}