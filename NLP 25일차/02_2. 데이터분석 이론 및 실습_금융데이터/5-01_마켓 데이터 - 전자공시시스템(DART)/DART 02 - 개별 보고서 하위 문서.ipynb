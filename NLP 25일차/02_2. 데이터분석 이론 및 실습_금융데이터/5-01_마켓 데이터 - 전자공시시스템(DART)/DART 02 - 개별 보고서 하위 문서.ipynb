{
  "nbformat": 4,
  "nbformat_minor": 0,
  "metadata": {
    "colab": {
      "name": "DART 02 - 개별 보고서 하위 문서.ipynb",
      "version": "0.3.2",
      "provenance": [],
      "collapsed_sections": []
    },
    "language_info": {
      "codemirror_mode": {
        "name": "ipython",
        "version": 3
      },
      "file_extension": ".py",
      "mimetype": "text/x-python",
      "name": "python",
      "nbconvert_exporter": "python",
      "pygments_lexer": "ipython3",
      "version": "3.5.2"
    },
    "kernelspec": {
      "display_name": "Python 3",
      "language": "python",
      "name": "python3"
    }
  },
  "cells": [
    {
      "cell_type": "markdown",
      "metadata": {
        "slideshow": {
          "slide_type": "slide"
        },
        "id": "RsPEbRK9VAoA",
        "colab_type": "text"
      },
      "source": [
        "# DART 02 - 개별 보고서 하위 문서\n",
        "\n",
        "<img src=\"http://i.imgur.com/W3QMRaX.png\" >\n",
        "\n",
        "* 정규식을 활용하여 HTML 문서에서 데이터 추출\n",
        "* 개별 보고서와 하위 보고서 URL\n",
        "\n",
        "### 2018-2019 FinanceData.KR"
      ]
    },
    {
      "cell_type": "markdown",
      "metadata": {
        "id": "BJEB-JgjNqSA",
        "colab_type": "text"
      },
      "source": [
        "# 개별 보고서의 하위문서\n",
        "하위 문서의 형태의 차이\n",
        "* 보고서가 여러 페이지로 구성된 경우\n",
        "* 단일 페이지로 구성된 경우"
      ]
    },
    {
      "cell_type": "markdown",
      "metadata": {
        "id": "BnQ5m1CEO-Ab",
        "colab_type": "text"
      },
      "source": [
        "## 보고서가 여러 페이지로 구성된 경우\n",
        "\n",
        "http://dart.fss.or.kr/dsaf001/main.do?rcpNo=20190401004781\n",
        "\n",
        "페이지의 HTML 소스코드\n",
        "\n",
        "\n",
        "```javascript\n",
        "\t\t// 1\n",
        "\t\ttreeNode1 = new Tree.TreeNode({\n",
        "\t\t\ttext: \"사 업 보 고 서\",\n",
        "\t\t\tid: \"1\",\n",
        "\t\t\tcls: \"text\",\n",
        "\t\t\tlisteners: {\n",
        "\t\t\t\tclick: function() {viewDoc('20190401004781', '6616741', '1', '793', '4059', 'dart3.xsd');}\n",
        "\t\t\t}\n",
        "\t\t});\n",
        "\t\tcnt++;\n",
        "\t\t\n",
        "\t\ttreeRoot.appendChild(treeNode1);\n",
        "\t\t\n",
        "\t\t\t\n",
        "\t\t\t\n",
        "\t\t\n",
        "\t\n",
        "\t\t// 2\n",
        "\t\ttreeNode1 = new Tree.TreeNode({\n",
        "\t\t\ttext: \"【 대표이사 등의 확인 】\",\n",
        "\t\t\tid: \"2\",\n",
        "\t\t\tcls: \"text\",\n",
        "\t\t\tlisteners: {\n",
        "\t\t\t\tclick: function() {viewDoc('20190401004781', '6616741', '2', '12878', '418', 'dart3.xsd');}\n",
        "\t\t\t}\n",
        "\t\t});\n",
        "\t\tcnt++;\n",
        "\t\t\n",
        "\t\ttreeRoot.appendChild(treeNode1);\t\n",
        "```\n",
        "\n",
        "다음 패턴을 찾습니다.\n",
        "\n",
        "```javascript\n",
        "{viewDoc('20190401004781', '6616741', '1', '793', '4059', 'dart3.xsd');}\n",
        "```"
      ]
    },
    {
      "cell_type": "markdown",
      "metadata": {
        "slideshow": {
          "slide_type": "slide"
        },
        "colab_type": "text",
        "id": "uIfV_ROuNlG5"
      },
      "source": [
        "# 개별 보고서의 하위문서\n",
        "해당 보고서 페이지 http://dart.fss.or.kr/dsaf001/main.do?rcpNo=20170515003806 의 페이지 소스\n",
        "\n",
        "\n",
        "```javascript\n",
        "\t\t// 1\n",
        "\t\ttreeNode1 = new Tree.TreeNode({\n",
        "\t\t\ttext: \"분 기 보 고 서\",\n",
        "\t\t\tid: \"1\",\n",
        "\t\t\tcls: \"text\",\n",
        "\t\t\tlisteners: {\n",
        "\t\t\t\tclick: function() {viewDoc('20170515003806', '5653406', '1', '564', '4104', 'dart3.xsd');}\n",
        "\t\t\t}\n",
        "\t\t});\n",
        "\t\tcnt++;\n",
        "\t\t\n",
        "\t\ttreeRoot.appendChild(treeNode1);\n",
        "\t\t\n",
        "\n",
        "\t\t// 2\n",
        "\t\ttreeNode1 = new Tree.TreeNode({\n",
        "\t\t\ttext: \"【 대표이사 등의 확인 】\",\n",
        "\t\t\tid: \"2\",\n",
        "\t\t\tcls: \"text\",\n",
        "\t\t\tlisteners: {\n",
        "\t\t\t\tclick: function() {viewDoc('20170515003806', '5653406', '2', '12691', '409', 'dart3.xsd');}\n",
        "\t\t\t}\n",
        "\t\t});\n",
        "\t\tcnt++;\n",
        "\t\t\n",
        "\t\ttreeRoot.appendChild(treeNode1);\n",
        "\t\t\n",
        "\t\n",
        "\t\t// 3\n",
        "\t\ttreeNode1 = new Tree.TreeNode({\n",
        "\t\t\ttext: \"I. 회사의 개요\",\n",
        "\t\t\tid: \"3\",\n",
        "\t\t\tcls: \"text\",\n",
        "\t\t\tlisteners: {\n",
        "\t\t\t\tclick: function() {viewDoc('20170515003806', '5653406', '3', '13104', '333222', 'dart3.xsd');}\n",
        "\t\t\t}\n",
        "\t\t});\n",
        "\t\tcnt++;\n",
        "\t\t\n",
        "\t\ttreeNode2 = new Tree.TreeNode({\n",
        "\t\t\ttext: \"1. 회사의 개요\",\n",
        "\t\t\tid: \"4\",\n",
        "\t\t\tcls: \"text\",\n",
        "\t\t\tlisteners: {\n",
        "\t\t\t\tclick: function() {viewDoc('20170515003806', '5653406', '4', '13194', '234991', 'dart3.xsd');}\n",
        "\t\t\t}\n",
        "\t\t});\n",
        "\t\tcnt++;\n",
        "```"
      ]
    },
    {
      "cell_type": "markdown",
      "metadata": {
        "slideshow": {
          "slide_type": "slide"
        },
        "id": "OQ1DUnn4VAoD",
        "colab_type": "text"
      },
      "source": [
        "# 정규식으로 데이터 추출\n",
        "* 페이지가 여러개의 하위 페이지로 구성, JavaScript 가 실행된 결과로 링크가 생성\n",
        "* viewDoc(rcpNo, dcmNo, eleId, offset, length, dtd) 로 구성\n",
        "* viewDoc()를 구성하는 파라미터 (rcpNo, dcmNo, eleId, offset, length, dtd)를 얻습니다\n",
        "\n",
        "\n",
        "1) 페이지 소스에서 다음 패턴을 찾습니다.\n",
        "\n",
        "```python\n",
        "\"{viewDoc\\('(\\d+)', '(\\d+)', '(\\d+)', '(\\d+)', '(\\d+)', '(\\S+)'\\)\\;\"\n",
        "```\n",
        "\n",
        "2) 패턴들에서 데이터를 추출하여 링크로 구성합니다.\n",
        "```javascript\n",
        "[('20190401004781', '6616741', '1', '793', '4059', 'dart3.xsd'),\n",
        " ('20190401004781', '6616741', '2', '12878', '418', 'dart3.xsd'),\n",
        " ...\n",
        "```\n",
        "\n",
        "```javascript\n",
        "http://dart.fss.or.kr/report/viewer.do?rcpNo=20190401004781&dcmNo=6616741&eleId=1&offset=793&length=4059&dtd=dart3.xsd\n",
        "http://dart.fss.or.kr/report/viewer.do?rcpNo=20190401004781&dcmNo=6616741&eleId=2&offset=12878&length=418&dtd=dart3.xsd\n",
        "```\n"
      ]
    },
    {
      "cell_type": "code",
      "metadata": {
        "id": "Y0GBFufkNz_e",
        "colab_type": "code",
        "outputId": "cbaf1e93-4bd9-4bd5-a933-19f618839ace",
        "colab": {
          "base_uri": "https://localhost:8080/",
          "height": 35
        }
      },
      "source": [
        "import requests\n",
        "import re\n",
        "\n",
        "r = requests.get('http://dart.fss.or.kr/dsaf001/main.do?rcpNo=20190401004781')\n",
        "\n",
        "matches = re.findall(\"{viewDoc\\('(\\d+)', '(\\d+)', '(\\d+)', '(\\d+)', '(\\d+)', '(\\S+)'\\)\\;\", r.text)\n",
        "m = matches[0]\n",
        "m"
      ],
      "execution_count": 17,
      "outputs": [
        {
          "output_type": "execute_result",
          "data": {
            "text/plain": [
              "('20190401004781', '6616741', '1', '793', '4059', 'dart3.xsd')"
            ]
          },
          "metadata": {
            "tags": []
          },
          "execution_count": 17
        }
      ]
    },
    {
      "cell_type": "code",
      "metadata": {
        "id": "uvXNifBWPaRW",
        "colab_type": "code",
        "colab": {
          "base_uri": "https://localhost:8080/",
          "height": 35
        },
        "outputId": "1740ff16-d351-4295-fa04-0dc03bb0ed02"
      },
      "source": [
        "doc_url_tmpl = \"http://dart.fss.or.kr/report/viewer.do?rcpNo=%s&dcmNo=%s&eleId=%s&offset=%s&length=%s&dtd=%s\" \n",
        "doc_url_tmpl % m"
      ],
      "execution_count": 18,
      "outputs": [
        {
          "output_type": "execute_result",
          "data": {
            "text/plain": [
              "'http://dart.fss.or.kr/report/viewer.do?rcpNo=20190401004781&dcmNo=6616741&eleId=1&offset=793&length=4059&dtd=dart3.xsd'"
            ]
          },
          "metadata": {
            "tags": []
          },
          "execution_count": 18
        }
      ]
    },
    {
      "cell_type": "markdown",
      "metadata": {
        "id": "SvndhWmyOXDb",
        "colab_type": "text"
      },
      "source": [
        "## 보고서가 1개 페이지로만 구성된 경우\n",
        "\n",
        "보고서가 1개 페이지로만 구성되어 있는 경우 위와 동일한 정규식으로 매칭이 일어나지 않습니다.\n",
        "\n",
        "예를 들어, 다음 URL은 1개 페이지로 구성된 간단한 공시 입니다.\n",
        "\n",
        "http://dart.fss.or.kr/dsaf001/main.do?rcpNo=20190329803953\n"
      ]
    },
    {
      "cell_type": "code",
      "metadata": {
        "id": "_OCs62gmP94d",
        "colab_type": "code",
        "colab": {
          "base_uri": "https://localhost:8080/",
          "height": 35
        },
        "outputId": "5093e22e-6856-444e-aaa9-4ac21db6e70b"
      },
      "source": [
        "r = requests.get('http://dart.fss.or.kr/dsaf001/main.do?rcpNo=20190329803953')\n",
        "\n",
        "matches = re.findall(\"{viewDoc\\('(\\d+)', '(\\d+)', '(\\d+)', '(\\d+)', '(\\d+)', '(\\S+)'\\)\\;\", r.text)\n",
        "matches "
      ],
      "execution_count": 19,
      "outputs": [
        {
          "output_type": "execute_result",
          "data": {
            "text/plain": [
              "[]"
            ]
          },
          "metadata": {
            "tags": []
          },
          "execution_count": 19
        }
      ]
    },
    {
      "cell_type": "markdown",
      "metadata": {
        "id": "za9iPV_pQiwz",
        "colab_type": "text"
      },
      "source": [
        "이유는 페이지의 구성에 차이가 있기 때문입니다."
      ]
    },
    {
      "cell_type": "markdown",
      "metadata": {
        "id": "sZJqFmJlQI5X",
        "colab_type": "text"
      },
      "source": [
        "http://dart.fss.or.kr/dsaf001/main.do?rcpNo=20190329803953\n",
        "\n",
        "\n",
        "```javascript\n",
        "\t $j(\"#center-panel > div > div\").resize(resizeFrame);\n",
        "\t resizeFrame();\n",
        "\n",
        "\n",
        "\t\n",
        "\t\tviewDoc('20190329803953', '6595634', '0', '0', '0', 'HTML');\n",
        "\t\n",
        "```\n",
        "1개 페이지로만 구성되어 있는 경우는 다음 패턴을 찾습니다.\n",
        "\n",
        "```javascript\n",
        "\\t\\tviewDoc('20190329803953', '6595634', '0', '0', '0', 'HTML');\n",
        "```"
      ]
    },
    {
      "cell_type": "code",
      "metadata": {
        "id": "RD07Ci5aMJqF",
        "colab_type": "code",
        "colab": {
          "base_uri": "https://localhost:8080/",
          "height": 35
        },
        "outputId": "73086a12-0bae-4511-df7e-3a7b7f8aad2f"
      },
      "source": [
        "r = requests.get('http://dart.fss.or.kr/dsaf001/main.do?rcpNo=20190329803953')\n",
        "\n",
        "matches = re.findall(\"\\t\\tviewDoc\\('(\\d+)', '(\\d+)', '(\\d+)', '(\\d+)', '(\\d+)', '(\\S+)'\\)\\;\", r.text)\n",
        "matches"
      ],
      "execution_count": 20,
      "outputs": [
        {
          "output_type": "execute_result",
          "data": {
            "text/plain": [
              "[('20190329803953', '6595634', '0', '0', '0', 'HTML')]"
            ]
          },
          "metadata": {
            "tags": []
          },
          "execution_count": 20
        }
      ]
    },
    {
      "cell_type": "markdown",
      "metadata": {
        "id": "nO-VTV44RpAl",
        "colab_type": "text"
      },
      "source": [
        "## 여러 페이지 보고서와 단일 페이지 보고서에 대응\n",
        "여러 페이지 보고서의 경우는 다음 정규식을 사용하고,\n",
        "\n",
        "```python\n",
        "matches = re.findall(\"{viewDoc\\('(\\d+)', '(\\d+)', '(\\d+)', '(\\d+)', '(\\d+)', '(\\S+)'\\)\\;\", r.text)\n",
        "```\n",
        "\n",
        "단일 페이지 페이지 보고서의 경우는 다음 정규식을 사용합니다.\n",
        "\n",
        "```python\n",
        "matches = re.findall(\"\\t\\tviewDoc\\('(\\d+)', '(\\d+)', '(\\d+)', '(\\d+)', '(\\d+)', '(\\S+)'\\)\\;\", r.text)\n",
        "```\n"
      ]
    },
    {
      "cell_type": "markdown",
      "metadata": {
        "slideshow": {
          "slide_type": "slide"
        },
        "id": "-DlGTLBtVAoR",
        "colab_type": "text"
      },
      "source": [
        "# 함수로 정리"
      ]
    },
    {
      "cell_type": "code",
      "metadata": {
        "id": "UQbpsag-HjG1",
        "colab_type": "code",
        "colab": {}
      },
      "source": [
        "import json\n",
        "import re\n",
        "import urllib\n",
        "import requests\n",
        "from bs4 import BeautifulSoup\n",
        "from datetime import datetime\n",
        "import pandas as pd\n",
        "from pandas.io.json import json_normalize\n",
        "\n",
        "def sub_report_urls(rcp_no):\n",
        "  '''\n",
        "  접수번호(rcp_no)에 해당하는 모든 하위 보고서 URL을 추출하여 리스트로 반환\n",
        "  '''\n",
        "  doc_urls = []\n",
        "  url = \"http://dart.fss.or.kr/dsaf001/main.do?rcpNo=%s\" % (rcp_no)\n",
        "  r = requests.get(url)\n",
        "\n",
        "  multi_page_re = \"{viewDoc\\('(\\d+)', '(\\d+)', '(\\d+)', '(\\d+)', '(\\d+)', '(\\S+)'\\)\\;\"\n",
        "  single_page_re = \"\\t\\tviewDoc\\('(\\d+)', '(\\d+)', '(\\d+)', '(\\d+)', '(\\d+)', '(\\S+)'\\)\\;\"\n",
        "  \n",
        "  matches = re.findall(multi_page_re, r.text)\n",
        "  if len(matches) == 0: \n",
        "    matches = re.findall(single_page_re, r.text)\n",
        "\n",
        "  doc_url_tmpl = \"http://dart.fss.or.kr/report/viewer.do?rcpNo=%s&dcmNo=%s&eleId=%s&offset=%s&length=%s&dtd=%s\" \n",
        "  for m in matches:\n",
        "    url = doc_url_tmpl % m\n",
        "    doc_urls.append(url)\n",
        "  return doc_urls\n",
        "\n",
        "\n",
        "def sub_report_titles(rcp_no):\n",
        "    '''\n",
        "    접수번호(rcp_no)에 해당하는 모든 하위 보고서의 제목 리스트 반환\n",
        "    '''\n",
        "    url = \"http://dart.fss.or.kr/dsaf001/main.do?rcpNo=%s\" % (rcp_no)\n",
        "    r = requests.get(url)\n",
        "    matches = re.findall('text: \\\"(.*)\\\",', r.text)\n",
        "    \n",
        "    doc_titles = matches[1:] # '전체' 제외\n",
        "    if len(doc_titles) == 0: # 1페이지 경우 (본문의 첫 라인)\n",
        "      title = BeautifulSoup(r.text).title.text.strip()\n",
        "      doc_titles = [title]\n",
        "   \n",
        "    return doc_titles"
      ],
      "execution_count": 0,
      "outputs": []
    },
    {
      "cell_type": "code",
      "metadata": {
        "id": "U1KBaFx0hNeb",
        "colab_type": "code",
        "colab": {
          "base_uri": "https://localhost:8080/",
          "height": 35
        },
        "outputId": "3969d4e2-1715-40f8-bca1-e907582388e4"
      },
      "source": [
        "# 단일 페이지\n",
        "rpt_urls = sub_report_urls('20190329803953')\n",
        "rpt_urls"
      ],
      "execution_count": 22,
      "outputs": [
        {
          "output_type": "execute_result",
          "data": {
            "text/plain": [
              "['http://dart.fss.or.kr/report/viewer.do?rcpNo=20190329803953&dcmNo=6595634&eleId=0&offset=0&length=0&dtd=HTML']"
            ]
          },
          "metadata": {
            "tags": []
          },
          "execution_count": 22
        }
      ]
    },
    {
      "cell_type": "code",
      "metadata": {
        "id": "od85F0IoHoLf",
        "colab_type": "code",
        "colab": {
          "base_uri": "https://localhost:8080/",
          "height": 104
        },
        "outputId": "adab5b59-df1c-47cc-d2bc-b9bdd4b9e62e"
      },
      "source": [
        "# 여러 페이지\n",
        "rpt_urls = sub_report_urls('20190401004781')\n",
        "rpt_urls[:5]"
      ],
      "execution_count": 23,
      "outputs": [
        {
          "output_type": "execute_result",
          "data": {
            "text/plain": [
              "['http://dart.fss.or.kr/report/viewer.do?rcpNo=20190401004781&dcmNo=6616741&eleId=1&offset=793&length=4059&dtd=dart3.xsd',\n",
              " 'http://dart.fss.or.kr/report/viewer.do?rcpNo=20190401004781&dcmNo=6616741&eleId=2&offset=12878&length=418&dtd=dart3.xsd',\n",
              " 'http://dart.fss.or.kr/report/viewer.do?rcpNo=20190401004781&dcmNo=6616741&eleId=3&offset=13300&length=314299&dtd=dart3.xsd',\n",
              " 'http://dart.fss.or.kr/report/viewer.do?rcpNo=20190401004781&dcmNo=6616741&eleId=4&offset=13390&length=212568&dtd=dart3.xsd',\n",
              " 'http://dart.fss.or.kr/report/viewer.do?rcpNo=20190401004781&dcmNo=6616741&eleId=5&offset=225962&length=17460&dtd=dart3.xsd']"
            ]
          },
          "metadata": {
            "tags": []
          },
          "execution_count": 23
        }
      ]
    },
    {
      "cell_type": "code",
      "metadata": {
        "slideshow": {
          "slide_type": "subslide"
        },
        "id": "5HZod0HHVAoV",
        "colab_type": "code",
        "outputId": "8fb274ff-45d5-4f74-d097-9d8e3c50f3d1",
        "colab": {
          "base_uri": "https://localhost:8080/",
          "height": 605
        }
      },
      "source": [
        "# 사업 보고서 하위 문서 전체\n",
        "\n",
        "doc_urls = sub_report_urls('20190401004781')\n",
        "\n",
        "print('하위보고서 갯수:', len(doc_urls))\n",
        "\n",
        "for url in doc_urls:\n",
        "    print (url)"
      ],
      "execution_count": 25,
      "outputs": [
        {
          "output_type": "stream",
          "text": [
            "하위보고서 갯수: 33\n",
            "http://dart.fss.or.kr/report/viewer.do?rcpNo=20190401004781&dcmNo=6616741&eleId=1&offset=793&length=4059&dtd=dart3.xsd\n",
            "http://dart.fss.or.kr/report/viewer.do?rcpNo=20190401004781&dcmNo=6616741&eleId=2&offset=12878&length=418&dtd=dart3.xsd\n",
            "http://dart.fss.or.kr/report/viewer.do?rcpNo=20190401004781&dcmNo=6616741&eleId=3&offset=13300&length=314299&dtd=dart3.xsd\n",
            "http://dart.fss.or.kr/report/viewer.do?rcpNo=20190401004781&dcmNo=6616741&eleId=4&offset=13390&length=212568&dtd=dart3.xsd\n",
            "http://dart.fss.or.kr/report/viewer.do?rcpNo=20190401004781&dcmNo=6616741&eleId=5&offset=225962&length=17460&dtd=dart3.xsd\n",
            "http://dart.fss.or.kr/report/viewer.do?rcpNo=20190401004781&dcmNo=6616741&eleId=6&offset=243426&length=3817&dtd=dart3.xsd\n",
            "http://dart.fss.or.kr/report/viewer.do?rcpNo=20190401004781&dcmNo=6616741&eleId=7&offset=247247&length=63793&dtd=dart3.xsd\n",
            "http://dart.fss.or.kr/report/viewer.do?rcpNo=20190401004781&dcmNo=6616741&eleId=8&offset=311044&length=7390&dtd=dart3.xsd\n",
            "http://dart.fss.or.kr/report/viewer.do?rcpNo=20190401004781&dcmNo=6616741&eleId=9&offset=318438&length=9147&dtd=dart3.xsd\n",
            "http://dart.fss.or.kr/report/viewer.do?rcpNo=20190401004781&dcmNo=6616741&eleId=10&offset=327603&length=276012&dtd=dart3.xsd\n",
            "http://dart.fss.or.kr/report/viewer.do?rcpNo=20190401004781&dcmNo=6616741&eleId=11&offset=603619&length=1499098&dtd=dart3.xsd\n",
            "http://dart.fss.or.kr/report/viewer.do?rcpNo=20190401004781&dcmNo=6616741&eleId=12&offset=603746&length=21585&dtd=dart3.xsd\n",
            "http://dart.fss.or.kr/report/viewer.do?rcpNo=20190401004781&dcmNo=6616741&eleId=13&offset=625579&length=120141&dtd=dart3.xsd\n",
            "http://dart.fss.or.kr/report/viewer.do?rcpNo=20190401004781&dcmNo=6616741&eleId=14&offset=745724&length=586931&dtd=dart3.xsd\n",
            "http://dart.fss.or.kr/report/viewer.do?rcpNo=20190401004781&dcmNo=6616741&eleId=15&offset=1332659&length=90711&dtd=dart3.xsd\n",
            "http://dart.fss.or.kr/report/viewer.do?rcpNo=20190401004781&dcmNo=6616741&eleId=16&offset=1423374&length=476461&dtd=dart3.xsd\n",
            "http://dart.fss.or.kr/report/viewer.do?rcpNo=20190401004781&dcmNo=6616741&eleId=17&offset=1899865&length=202838&dtd=dart3.xsd\n",
            "http://dart.fss.or.kr/report/viewer.do?rcpNo=20190401004781&dcmNo=6616741&eleId=18&offset=2102721&length=71625&dtd=dart3.xsd\n",
            "http://dart.fss.or.kr/report/viewer.do?rcpNo=20190401004781&dcmNo=6616741&eleId=19&offset=2174350&length=15062&dtd=dart3.xsd\n",
            "http://dart.fss.or.kr/report/viewer.do?rcpNo=20190401004781&dcmNo=6616741&eleId=20&offset=2189416&length=122835&dtd=dart3.xsd\n",
            "http://dart.fss.or.kr/report/viewer.do?rcpNo=20190401004781&dcmNo=6616741&eleId=21&offset=2189529&length=95322&dtd=dart3.xsd\n",
            "http://dart.fss.or.kr/report/viewer.do?rcpNo=20190401004781&dcmNo=6616741&eleId=22&offset=2284855&length=26556&dtd=dart3.xsd\n",
            "http://dart.fss.or.kr/report/viewer.do?rcpNo=20190401004781&dcmNo=6616741&eleId=23&offset=2311415&length=822&dtd=dart3.xsd\n",
            "http://dart.fss.or.kr/report/viewer.do?rcpNo=20190401004781&dcmNo=6616741&eleId=24&offset=2312255&length=60584&dtd=dart3.xsd\n",
            "http://dart.fss.or.kr/report/viewer.do?rcpNo=20190401004781&dcmNo=6616741&eleId=25&offset=2372843&length=860722&dtd=dart3.xsd\n",
            "http://dart.fss.or.kr/report/viewer.do?rcpNo=20190401004781&dcmNo=6616741&eleId=26&offset=2372955&length=797499&dtd=dart3.xsd\n",
            "http://dart.fss.or.kr/report/viewer.do?rcpNo=20190401004781&dcmNo=6616741&eleId=27&offset=3170458&length=63093&dtd=dart3.xsd\n",
            "http://dart.fss.or.kr/report/viewer.do?rcpNo=20190401004781&dcmNo=6616741&eleId=28&offset=3233569&length=508460&dtd=dart3.xsd\n",
            "http://dart.fss.or.kr/report/viewer.do?rcpNo=20190401004781&dcmNo=6616741&eleId=29&offset=3742033&length=59316&dtd=dart3.xsd\n",
            "http://dart.fss.or.kr/report/viewer.do?rcpNo=20190401004781&dcmNo=6616741&eleId=30&offset=3801353&length=73917&dtd=dart3.xsd\n",
            "http://dart.fss.or.kr/report/viewer.do?rcpNo=20190401004781&dcmNo=6616741&eleId=31&offset=3875274&length=346&dtd=dart3.xsd\n",
            "http://dart.fss.or.kr/report/viewer.do?rcpNo=20190401004781&dcmNo=6616741&eleId=32&offset=3875375&length=112&dtd=dart3.xsd\n",
            "http://dart.fss.or.kr/report/viewer.do?rcpNo=20190401004781&dcmNo=6616741&eleId=33&offset=3875491&length=115&dtd=dart3.xsd\n"
          ],
          "name": "stdout"
        }
      ]
    },
    {
      "cell_type": "markdown",
      "metadata": {
        "slideshow": {
          "slide_type": "-"
        },
        "id": "Sq2ODeV-VAoZ",
        "colab_type": "text"
      },
      "source": [
        "# Summary\n",
        "\n",
        "* 정규식으로 데이터 추출\n",
        "* 개별 보고서와 하위 보고서 URL"
      ]
    },
    {
      "cell_type": "markdown",
      "metadata": {
        "slideshow": {
          "slide_type": "notes"
        },
        "id": "lGFayYnzVAoa",
        "colab_type": "text"
      },
      "source": [
        "----\n",
        "### 2018-2019 FinanceData.KR http://fb.com/financedata"
      ]
    }
  ]
}