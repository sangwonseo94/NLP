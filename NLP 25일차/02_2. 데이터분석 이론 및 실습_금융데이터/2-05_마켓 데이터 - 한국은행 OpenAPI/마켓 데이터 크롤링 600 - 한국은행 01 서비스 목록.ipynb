{
 "cells": [
  {
   "cell_type": "markdown",
   "metadata": {
    "slideshow": {
     "slide_type": "slide"
    }
   },
   "source": [
    "# 한국은행 OpenAPI 01 - 서비스 목록\n",
    "\n",
    "<img src=\"http://ecos.bok.or.kr/images/new/openapi/api_visual.gif\" />\n",
    "\n",
    "\n",
    "#### 2017 FinanceData http://fb.com/financedata"
   ]
  },
  {
   "cell_type": "markdown",
   "metadata": {
    "slideshow": {
     "slide_type": "slide"
    }
   },
   "source": [
    "# 한국은행 경제통계시스템 홈페이지\n",
    "* http://ecos.bok.or.kr 홈페이지\n",
    "* https://goo.gl/8evOMi 코드표\n",
    "\n",
    "    \n",
    "### 인증키 발급\n",
    "* 회원가입 후,\n",
    "* 상단 메뉴에 '서비스 이용 -> 인증키 신청' "
   ]
  },
  {
   "cell_type": "markdown",
   "metadata": {
    "slideshow": {
     "slide_type": "slide"
    }
   },
   "source": [
    "# 100대 통계지표\n",
    "\n",
    "100대 통계지표\n",
    "* http://ecos.bok.or.kr/flex/Key100Stat_k.html\n",
    "\n",
    "100대 통계지표 엑셀 파일 다운로드\n",
    "* http://ecos.bok.or.kr/jsp/main/Key100StatExcelDown.jsp\n",
    "* \"Key100Stat.xls\"파일"
   ]
  },
  {
   "cell_type": "code",
   "execution_count": 1,
   "metadata": {
    "slideshow": {
     "slide_type": "slide"
    }
   },
   "outputs": [
    {
     "name": "stdout",
     "output_type": "stream",
     "text": [
      "WARNING *** file size (25965) not 512 + multiple of sector size (512)\n"
     ]
    },
    {
     "data": {
      "text/html": [
       "<div>\n",
       "<style>\n",
       "    .dataframe thead tr:only-child th {\n",
       "        text-align: right;\n",
       "    }\n",
       "\n",
       "    .dataframe thead th {\n",
       "        text-align: left;\n",
       "    }\n",
       "\n",
       "    .dataframe tbody tr th {\n",
       "        vertical-align: top;\n",
       "    }\n",
       "</style>\n",
       "<table border=\"1\" class=\"dataframe\">\n",
       "  <thead>\n",
       "    <tr style=\"text-align: right;\">\n",
       "      <th></th>\n",
       "      <th>통계구분</th>\n",
       "      <th>통계지표</th>\n",
       "      <th>원자료</th>\n",
       "      <th>단위</th>\n",
       "    </tr>\n",
       "  </thead>\n",
       "  <tbody>\n",
       "    <tr>\n",
       "      <th>0</th>\n",
       "      <td>국민소득 · 경기 · 기업경영</td>\n",
       "      <td>경제성장률(실질, 계절조정 전기대비) ('17.1/4)</td>\n",
       "      <td>1.1</td>\n",
       "      <td>%</td>\n",
       "    </tr>\n",
       "    <tr>\n",
       "      <th>1</th>\n",
       "      <td>국민소득 · 경기 · 기업경영</td>\n",
       "      <td>민간소비증감률(실질, 계절조정 전기대비) ('17.1/4)</td>\n",
       "      <td>0.4</td>\n",
       "      <td>%</td>\n",
       "    </tr>\n",
       "    <tr>\n",
       "      <th>2</th>\n",
       "      <td>국민소득 · 경기 · 기업경영</td>\n",
       "      <td>설비투자증감률(실질, 계절조정 전기대비) ('17.1/4)</td>\n",
       "      <td>4.4</td>\n",
       "      <td>%</td>\n",
       "    </tr>\n",
       "    <tr>\n",
       "      <th>3</th>\n",
       "      <td>국민소득 · 경기 · 기업경영</td>\n",
       "      <td>건설투자증감률(실질, 계절조정 전기대비) ('17.1/4)</td>\n",
       "      <td>6.8</td>\n",
       "      <td>%</td>\n",
       "    </tr>\n",
       "    <tr>\n",
       "      <th>4</th>\n",
       "      <td>국민소득 · 경기 · 기업경영</td>\n",
       "      <td>GDP(명목, 계절조정) ('17.1/4)</td>\n",
       "      <td>424,653.0</td>\n",
       "      <td>십억원</td>\n",
       "    </tr>\n",
       "  </tbody>\n",
       "</table>\n",
       "</div>"
      ],
      "text/plain": [
       "               통계구분                              통계지표        원자료    단위\n",
       "0  국민소득 · 경기 · 기업경영    경제성장률(실질, 계절조정 전기대비) ('17.1/4)        1.1    % \n",
       "1  국민소득 · 경기 · 기업경영  민간소비증감률(실질, 계절조정 전기대비) ('17.1/4)        0.4    % \n",
       "2  국민소득 · 경기 · 기업경영  설비투자증감률(실질, 계절조정 전기대비) ('17.1/4)        4.4    % \n",
       "3  국민소득 · 경기 · 기업경영  건설투자증감률(실질, 계절조정 전기대비) ('17.1/4)        6.8    % \n",
       "4  국민소득 · 경기 · 기업경영           GDP(명목, 계절조정) ('17.1/4)  424,653.0  십억원 "
      ]
     },
     "execution_count": 1,
     "metadata": {},
     "output_type": "execute_result"
    }
   ],
   "source": [
    "# \"Key100Stat.xls\"파일 다운로드\n",
    "\n",
    "import pandas as pd\n",
    "\n",
    "url = \"http://ecos.bok.or.kr/jsp/main/Key100StatExcelDown.jsp\"\n",
    "df = pd.read_excel(url)\n",
    "\n",
    "df.head()"
   ]
  },
  {
   "cell_type": "markdown",
   "metadata": {
    "slideshow": {
     "slide_type": "slide"
    }
   },
   "source": [
    "# 주요 서비스 목록\n",
    "\n",
    "* 'sample' 부분을 인증키로 바꾸면, 자료수를 늘릴 수 있다.\n",
    "* 예를 들어, http://ecos.bok.or.kr/api/KeyStatisticList/G9FSKDP0EDJ4BVOZ5B9D/json/kr/1/100\n",
    "\n",
    "#### 통계지표 100개\n",
    "정책수립 및 동향분석에 유용한 통계지표 100개\n",
    "* http://ecos.bok.or.kr/api/KeyStatisticList/sample/json/kr/1/10\n",
    "    \n",
    "#### 서비스 통계 목록\n",
    "OpenAPI 통계목록\n",
    "* http://ecos.bok.or.kr/api/StatisticTableList/sample/json/kr/1/10\n",
    "    \n",
    "#### 통계 세부항목 목록\n",
    "서비스대상 통계의 세부 통계항목\n",
    "* http://ecos.bok.or.kr/api/StatisticItemList/sample/json/kr/1/10/043Y062/    \n",
    "    \n",
    "#### 통계 조회 조건 설정\n",
    "데이터 이용을 위한 조회조건 설정방법(통계코드, 통계명, 세부항목명, 기간 등)\n",
    "* http://ecos.bok.or.kr/api/StatisticSearch/sample/json/kr/1/10/010Y002/MM/201101/201608/AAAA11/\n",
    "\n",
    "#### 통계메타DB\n",
    "한국은행에서 작성, 제공하는 15개 통계에 대한 이용자의 이해를 돕기 위한 통계 설명자료\n",
    "* http://ecos.bok.or.kr/api/StatisticMeta/sample/json/kr/1/10/경제심리/\n",
    "\n",
    "#### 통계용어사전\n",
    "경제 및 통계에 대한 전문용어를 알기쉽게 풀이한 사전 (총 803개의 용어)\n",
    "* http://ecos.bok.or.kr/api/StatisticWord/sample/json/kr/1/10/소비자/"
   ]
  },
  {
   "cell_type": "code",
   "execution_count": 2,
   "metadata": {
    "slideshow": {
     "slide_type": "slide"
    }
   },
   "outputs": [
    {
     "name": "stdout",
     "output_type": "stream",
     "text": [
      "{\"KeyStatisticList\":{\"list_total_count\":99,\"row\":[{\"CLASS_NAME\":\"국민소득 · 경기 · 기업경영\",\"UNIT_NAME\":\"% \",\"CYCLE\":\"2017,1/4\",\"KEYSTAT_NAME\":\"경제성장률(실질, 계절조정 전기대비)\",\"DATA_VALUE\":1.1},{\"CLASS_NAME\":\"국민소득 · 경기 · 기업경영\",\"UNIT_NAME\":\"% \",\"CYCLE\":\"2017,1/4\",\"KEYSTAT_NAME\":\"민간소비증감률(실질, 계절조정 전기대비)\",\"DATA_VALUE\":0.4},{\"CLASS_NAME\":\"국민소득 · 경기 · 기업경영\",\"UNIT_NAME\":\"% \",\"CYCLE\":\"2017,1/4\",\"KEYSTAT_NAME\":\"설비투자증감률(실질, 계절조정 전기대비)\",\"DATA_VALUE\":4.4},{\"CLASS_NAME\":\"국민소득 · 경기 · 기업경영\",\"UNIT_NAME\":\"% \",\"CYCLE\":\"2017,1/4\",\"KEYSTAT_NAME\":\"건설투자증감률(실질, 계절조정 전기대비)\",\"DATA_VALUE\":6.8},{\"CLASS_NAME\":\"국민소득 · 경기 · 기업경영\",\"UNIT_NAME\":\"십억원 \",\"CYCLE\":\"2017,1/4\",\"KEYSTAT_NAME\":\"GDP(명목, 계절조정)\",\"DATA_VALUE\":424653}]}}\n"
     ]
    }
   ],
   "source": [
    "import requests\n",
    "\n",
    "params = 'G9FSKDP0EDJ4BVOZ5B9D/json/kr/1/5/'\n",
    "url = 'http://ecos.bok.or.kr/api/KeyStatisticList/' + params\n",
    "\n",
    "r = requests.get(url)\n",
    "print (r.text)"
   ]
  },
  {
   "cell_type": "markdown",
   "metadata": {
    "slideshow": {
     "slide_type": "slide"
    }
   },
   "source": [
    "# JSON 포맷터\n",
    "* 온라인 JSON 포맷터 http://jsonformatter.org/\n",
    "    "
   ]
  },
  {
   "cell_type": "markdown",
   "metadata": {
    "collapsed": true,
    "slideshow": {
     "slide_type": "slide"
    }
   },
   "source": [
    "```js\n",
    "{\n",
    "  \"KeyStatisticList\": {\n",
    "    \"list_total_count\": 101,\n",
    "    \"row\": [\n",
    "      {\n",
    "        \"CLASS_NAME\": \"국민소득 · 경기 · 기업경영\",\n",
    "        \"UNIT_NAME\": \"% \",\n",
    "        \"CYCLE\": \"2016,1/4\",\n",
    "        \"KEYSTAT_NAME\": \"경제성장률(실질, 계절조정 전기대비)\",\n",
    "        \"DATA_VALUE\": 0.5\n",
    "      },\n",
    "      {\n",
    "        \"CLASS_NAME\": \"국민소득 · 경기 · 기업경영\",\n",
    "        \"UNIT_NAME\": \"% \",\n",
    "        \"CYCLE\": \"2016,1/4\",\n",
    "        \"KEYSTAT_NAME\": \"민간소비증감률(실질, 계절조정 전기대비)\",\n",
    "        \"DATA_VALUE\": -0.2\n",
    "      },\n",
    "            ...\n",
    "```            "
   ]
  },
  {
   "cell_type": "markdown",
   "metadata": {
    "slideshow": {
     "slide_type": "slide"
    }
   },
   "source": [
    "# OpenAPI 테스트\n",
    "\n",
    "테스트 URL : http://ecos.bok.or.kr/api/StatisticTableList/sample/xml/kr/1/10/\n",
    "\n",
    "## OpenAPI 메세지\n",
    "\n",
    "타입 | 코드 | 설명\n",
    "---  | ---  | --- \n",
    "정보 | 100 | 인증키가 유효하지 않음\n",
    "정보 | 200 | 해당하는 데이터가 없음\n",
    "에러 | 100 | 필수 값이 누락\n",
    "에러 | 200 | 파일타입 값이 누락 혹은 유효하지 않음\n",
    "에러 | 300 | 조회건수 값이 누락\n",
    "에러 | 301 | 조회건수 값의 타입이 유효하지 않음\n",
    "에러 | 500 | 서버 오류\n",
    "에러 | 600 | DB Connection 오류\n",
    "에러 | 601 | SQL 오류"
   ]
  },
  {
   "cell_type": "markdown",
   "metadata": {
    "slideshow": {
     "slide_type": "slide"
    }
   },
   "source": [
    "# read_json()의 문제\n",
    "JSON 데이터를 DataFrame으로 만들기위해 pandas.read_json()을 쓸 수 있으나,\n",
    "계층적인 데이터를 로드할 수 없다."
   ]
  },
  {
   "cell_type": "code",
   "execution_count": 3,
   "metadata": {
    "slideshow": {
     "slide_type": "slide"
    }
   },
   "outputs": [
    {
     "data": {
      "text/html": [
       "<div>\n",
       "<style>\n",
       "    .dataframe thead tr:only-child th {\n",
       "        text-align: right;\n",
       "    }\n",
       "\n",
       "    .dataframe thead th {\n",
       "        text-align: left;\n",
       "    }\n",
       "\n",
       "    .dataframe tbody tr th {\n",
       "        vertical-align: top;\n",
       "    }\n",
       "</style>\n",
       "<table border=\"1\" class=\"dataframe\">\n",
       "  <thead>\n",
       "    <tr style=\"text-align: right;\">\n",
       "      <th></th>\n",
       "      <th>KeyStatisticList</th>\n",
       "    </tr>\n",
       "  </thead>\n",
       "  <tbody>\n",
       "    <tr>\n",
       "      <th>list_total_count</th>\n",
       "      <td>99</td>\n",
       "    </tr>\n",
       "    <tr>\n",
       "      <th>row</th>\n",
       "      <td>[{'CLASS_NAME': '국민소득 · 경기 · 기업경영', 'UNIT_NAME...</td>\n",
       "    </tr>\n",
       "  </tbody>\n",
       "</table>\n",
       "</div>"
      ],
      "text/plain": [
       "                                                   KeyStatisticList\n",
       "list_total_count                                                 99\n",
       "row               [{'CLASS_NAME': '국민소득 · 경기 · 기업경영', 'UNIT_NAME..."
      ]
     },
     "execution_count": 3,
     "metadata": {},
     "output_type": "execute_result"
    }
   ],
   "source": [
    "import pandas as pd\n",
    "\n",
    "params = 'G9FSKDP0EDJ4BVOZ5B9D/json/kr/1/5/'\n",
    "url = 'http://ecos.bok.or.kr/api/KeyStatisticList/' + params\n",
    "\n",
    "r = requests.get(url)\n",
    "df = pd.read_json(r.text)\n",
    "df"
   ]
  },
  {
   "cell_type": "markdown",
   "metadata": {
    "slideshow": {
     "slide_type": "slide"
    }
   },
   "source": [
    "# json_normalize()\n",
    "* http://goo.gl/a55AIv pandas.io.json.json_normalize"
   ]
  },
  {
   "cell_type": "code",
   "execution_count": 4,
   "metadata": {
    "slideshow": {
     "slide_type": "-"
    }
   },
   "outputs": [
    {
     "data": {
      "text/html": [
       "<div>\n",
       "<style>\n",
       "    .dataframe thead tr:only-child th {\n",
       "        text-align: right;\n",
       "    }\n",
       "\n",
       "    .dataframe thead th {\n",
       "        text-align: left;\n",
       "    }\n",
       "\n",
       "    .dataframe tbody tr th {\n",
       "        vertical-align: top;\n",
       "    }\n",
       "</style>\n",
       "<table border=\"1\" class=\"dataframe\">\n",
       "  <thead>\n",
       "    <tr style=\"text-align: right;\">\n",
       "      <th></th>\n",
       "      <th>CLASS_NAME</th>\n",
       "      <th>CYCLE</th>\n",
       "      <th>DATA_VALUE</th>\n",
       "      <th>KEYSTAT_NAME</th>\n",
       "      <th>UNIT_NAME</th>\n",
       "    </tr>\n",
       "  </thead>\n",
       "  <tbody>\n",
       "    <tr>\n",
       "      <th>0</th>\n",
       "      <td>국민소득 · 경기 · 기업경영</td>\n",
       "      <td>2017,1/4</td>\n",
       "      <td>1.1</td>\n",
       "      <td>경제성장률(실질, 계절조정 전기대비)</td>\n",
       "      <td>%</td>\n",
       "    </tr>\n",
       "    <tr>\n",
       "      <th>1</th>\n",
       "      <td>국민소득 · 경기 · 기업경영</td>\n",
       "      <td>2017,1/4</td>\n",
       "      <td>0.4</td>\n",
       "      <td>민간소비증감률(실질, 계절조정 전기대비)</td>\n",
       "      <td>%</td>\n",
       "    </tr>\n",
       "    <tr>\n",
       "      <th>2</th>\n",
       "      <td>국민소득 · 경기 · 기업경영</td>\n",
       "      <td>2017,1/4</td>\n",
       "      <td>4.4</td>\n",
       "      <td>설비투자증감률(실질, 계절조정 전기대비)</td>\n",
       "      <td>%</td>\n",
       "    </tr>\n",
       "    <tr>\n",
       "      <th>3</th>\n",
       "      <td>국민소득 · 경기 · 기업경영</td>\n",
       "      <td>2017,1/4</td>\n",
       "      <td>6.8</td>\n",
       "      <td>건설투자증감률(실질, 계절조정 전기대비)</td>\n",
       "      <td>%</td>\n",
       "    </tr>\n",
       "    <tr>\n",
       "      <th>4</th>\n",
       "      <td>국민소득 · 경기 · 기업경영</td>\n",
       "      <td>2017,1/4</td>\n",
       "      <td>424653.0</td>\n",
       "      <td>GDP(명목, 계절조정)</td>\n",
       "      <td>십억원</td>\n",
       "    </tr>\n",
       "  </tbody>\n",
       "</table>\n",
       "</div>"
      ],
      "text/plain": [
       "         CLASS_NAME     CYCLE  DATA_VALUE            KEYSTAT_NAME UNIT_NAME\n",
       "0  국민소득 · 경기 · 기업경영  2017,1/4         1.1    경제성장률(실질, 계절조정 전기대비)        % \n",
       "1  국민소득 · 경기 · 기업경영  2017,1/4         0.4  민간소비증감률(실질, 계절조정 전기대비)        % \n",
       "2  국민소득 · 경기 · 기업경영  2017,1/4         4.4  설비투자증감률(실질, 계절조정 전기대비)        % \n",
       "3  국민소득 · 경기 · 기업경영  2017,1/4         6.8  건설투자증감률(실질, 계절조정 전기대비)        % \n",
       "4  국민소득 · 경기 · 기업경영  2017,1/4    424653.0           GDP(명목, 계절조정)      십억원 "
      ]
     },
     "execution_count": 4,
     "metadata": {},
     "output_type": "execute_result"
    }
   ],
   "source": [
    "import json\n",
    "from pandas.io.json import json_normalize\n",
    "\n",
    "params = 'G9FSKDP0EDJ4BVOZ5B9D/json/kr/1/1000/'\n",
    "url = 'http://ecos.bok.or.kr/api/KeyStatisticList/' + params\n",
    "   \n",
    "r = requests.get(url)\n",
    "jo = json.loads(r.text)\n",
    "\n",
    "result = json_normalize(jo['KeyStatisticList']['row'])\n",
    "result.head()"
   ]
  },
  {
   "cell_type": "markdown",
   "metadata": {
    "slideshow": {
     "slide_type": "slide"
    }
   },
   "source": [
    "## 서비스명 : 서비스 통계 목록\n",
    "\n",
    "## 상세주소 \n",
    "* http://ecos.bok.or.kr/api\n",
    "\n",
    "## 요청인자\n",
    "\n",
    "변수명 | 타입 | 필수여부 | 값 설명\n",
    "--- | --- | --- | ---\n",
    "서비스명 | text | Y | \n",
    "인증키 | text | Y | \n",
    "요청타입 | text | Y | \n",
    "언어 | text | Y | \n",
    "요청시작건수 | text | Y | \n",
    "요청종료건수 | text | Y | \n",
    "통계코드 | Text | N | \n",
    "\n",
    "## 출력값\n",
    "\n",
    "순번 | 출력명 | 출력설명 \n",
    "---- | -----  | ------\n",
    "1 | P_STAT_CODE | 부모통계코드 \n",
    "2 | STAT_CODE | 통계코드 \n",
    "3 | STAT_NAME | 통계명 \n",
    "4 | CYCLE | 주기 \n",
    "5 | SRCH_YN | 검색가능여부 \n",
    "6 | ORG_NAME | 출처 "
   ]
  },
  {
   "cell_type": "code",
   "execution_count": 5,
   "metadata": {
    "slideshow": {
     "slide_type": "slide"
    }
   },
   "outputs": [
    {
     "data": {
      "text/html": [
       "<div>\n",
       "<style>\n",
       "    .dataframe thead tr:only-child th {\n",
       "        text-align: right;\n",
       "    }\n",
       "\n",
       "    .dataframe thead th {\n",
       "        text-align: left;\n",
       "    }\n",
       "\n",
       "    .dataframe tbody tr th {\n",
       "        vertical-align: top;\n",
       "    }\n",
       "</style>\n",
       "<table border=\"1\" class=\"dataframe\">\n",
       "  <thead>\n",
       "    <tr style=\"text-align: right;\">\n",
       "      <th></th>\n",
       "      <th>CYCLE</th>\n",
       "      <th>ORG_NAME</th>\n",
       "      <th>P_STAT_CODE</th>\n",
       "      <th>SRCH_YN</th>\n",
       "      <th>STAT_CODE</th>\n",
       "      <th>STAT_NAME</th>\n",
       "    </tr>\n",
       "  </thead>\n",
       "  <tbody>\n",
       "    <tr>\n",
       "      <th>0</th>\n",
       "      <td></td>\n",
       "      <td></td>\n",
       "      <td>*</td>\n",
       "      <td>N</td>\n",
       "      <td>000Y005</td>\n",
       "      <td>1.통화 및 유동성지표</td>\n",
       "    </tr>\n",
       "    <tr>\n",
       "      <th>1</th>\n",
       "      <td>MM</td>\n",
       "      <td></td>\n",
       "      <td>000Y005</td>\n",
       "      <td>Y</td>\n",
       "      <td>010Y002</td>\n",
       "      <td>1.1.주요 통화금융지표</td>\n",
       "    </tr>\n",
       "    <tr>\n",
       "      <th>2</th>\n",
       "      <td></td>\n",
       "      <td></td>\n",
       "      <td>000Y005</td>\n",
       "      <td>N</td>\n",
       "      <td>000Y074</td>\n",
       "      <td>1.2.본원통화</td>\n",
       "    </tr>\n",
       "    <tr>\n",
       "      <th>3</th>\n",
       "      <td></td>\n",
       "      <td></td>\n",
       "      <td>000Y074</td>\n",
       "      <td>N</td>\n",
       "      <td>000Y701</td>\n",
       "      <td>1.2.1 본원통화 구성내역(말잔)</td>\n",
       "    </tr>\n",
       "    <tr>\n",
       "      <th>4</th>\n",
       "      <td>MM</td>\n",
       "      <td></td>\n",
       "      <td>000Y701</td>\n",
       "      <td>Y</td>\n",
       "      <td>054Y407</td>\n",
       "      <td>1.2.1.1 본원통화 구성내역(말잔, 계절조정계열)</td>\n",
       "    </tr>\n",
       "  </tbody>\n",
       "</table>\n",
       "</div>"
      ],
      "text/plain": [
       "  CYCLE ORG_NAME P_STAT_CODE SRCH_YN STAT_CODE                      STAT_NAME\n",
       "0                          *       N   000Y005                   1.통화 및 유동성지표\n",
       "1    MM              000Y005       Y   010Y002                  1.1.주요 통화금융지표\n",
       "2                    000Y005       N   000Y074                       1.2.본원통화\n",
       "3                    000Y074       N   000Y701            1.2.1 본원통화 구성내역(말잔)\n",
       "4    MM              000Y701       Y   054Y407  1.2.1.1 본원통화 구성내역(말잔, 계절조정계열)"
      ]
     },
     "execution_count": 5,
     "metadata": {},
     "output_type": "execute_result"
    }
   ],
   "source": [
    "from pandas.io.json import json_normalize\n",
    "\n",
    "params = 'G9FSKDP0EDJ4BVOZ5B9D/json/kr/1/1000/?/'\n",
    "url = 'http://ecos.bok.or.kr/api/StatisticTableList/' + params\n",
    "\n",
    "r = requests.get(url)\n",
    "jo = json.loads(r.text)\n",
    "result = json_normalize(jo['StatisticTableList']['row'])\n",
    "result.head()"
   ]
  },
  {
   "cell_type": "code",
   "execution_count": 6,
   "metadata": {
    "slideshow": {
     "slide_type": "-"
    }
   },
   "outputs": [
    {
     "data": {
      "text/html": [
       "<div>\n",
       "<style>\n",
       "    .dataframe thead tr:only-child th {\n",
       "        text-align: right;\n",
       "    }\n",
       "\n",
       "    .dataframe thead th {\n",
       "        text-align: left;\n",
       "    }\n",
       "\n",
       "    .dataframe tbody tr th {\n",
       "        vertical-align: top;\n",
       "    }\n",
       "</style>\n",
       "<table border=\"1\" class=\"dataframe\">\n",
       "  <thead>\n",
       "    <tr style=\"text-align: right;\">\n",
       "      <th></th>\n",
       "      <th>STAT_NAME</th>\n",
       "      <th>STAT_CODE</th>\n",
       "    </tr>\n",
       "  </thead>\n",
       "  <tbody>\n",
       "    <tr>\n",
       "      <th>0</th>\n",
       "      <td>1.통화 및 유동성지표</td>\n",
       "      <td>000Y005</td>\n",
       "    </tr>\n",
       "    <tr>\n",
       "      <th>1</th>\n",
       "      <td>1.1.주요 통화금융지표</td>\n",
       "      <td>010Y002</td>\n",
       "    </tr>\n",
       "    <tr>\n",
       "      <th>2</th>\n",
       "      <td>1.2.본원통화</td>\n",
       "      <td>000Y074</td>\n",
       "    </tr>\n",
       "    <tr>\n",
       "      <th>3</th>\n",
       "      <td>1.2.1 본원통화 구성내역(말잔)</td>\n",
       "      <td>000Y701</td>\n",
       "    </tr>\n",
       "    <tr>\n",
       "      <th>4</th>\n",
       "      <td>1.2.1.1 본원통화 구성내역(말잔, 계절조정계열)</td>\n",
       "      <td>054Y407</td>\n",
       "    </tr>\n",
       "  </tbody>\n",
       "</table>\n",
       "</div>"
      ],
      "text/plain": [
       "                       STAT_NAME STAT_CODE\n",
       "0                   1.통화 및 유동성지표   000Y005\n",
       "1                  1.1.주요 통화금융지표   010Y002\n",
       "2                       1.2.본원통화   000Y074\n",
       "3            1.2.1 본원통화 구성내역(말잔)   000Y701\n",
       "4  1.2.1.1 본원통화 구성내역(말잔, 계절조정계열)   054Y407"
      ]
     },
     "execution_count": 6,
     "metadata": {},
     "output_type": "execute_result"
    }
   ],
   "source": [
    "result[['STAT_NAME', 'STAT_CODE']].head()"
   ]
  },
  {
   "cell_type": "code",
   "execution_count": 7,
   "metadata": {
    "slideshow": {
     "slide_type": "slide"
    }
   },
   "outputs": [],
   "source": [
    "result['DEPTH'] = result['STAT_NAME'].str.extract(\"([0-9\\.]+)\", expand=True)\n",
    "result['NAME'] = result['STAT_NAME'].str.extract(\"([^0-9\\.].+)\", expand=True)\n",
    "result['LEVEL'] = result['DEPTH'].str.count('[0-9]+')"
   ]
  },
  {
   "cell_type": "code",
   "execution_count": 8,
   "metadata": {},
   "outputs": [
    {
     "data": {
      "text/html": [
       "<div>\n",
       "<style>\n",
       "    .dataframe thead tr:only-child th {\n",
       "        text-align: right;\n",
       "    }\n",
       "\n",
       "    .dataframe thead th {\n",
       "        text-align: left;\n",
       "    }\n",
       "\n",
       "    .dataframe tbody tr th {\n",
       "        vertical-align: top;\n",
       "    }\n",
       "</style>\n",
       "<table border=\"1\" class=\"dataframe\">\n",
       "  <thead>\n",
       "    <tr style=\"text-align: right;\">\n",
       "      <th></th>\n",
       "      <th>CYCLE</th>\n",
       "      <th>ORG_NAME</th>\n",
       "      <th>P_STAT_CODE</th>\n",
       "      <th>SRCH_YN</th>\n",
       "      <th>STAT_CODE</th>\n",
       "      <th>STAT_NAME</th>\n",
       "      <th>DEPTH</th>\n",
       "      <th>NAME</th>\n",
       "      <th>LEVEL</th>\n",
       "    </tr>\n",
       "  </thead>\n",
       "  <tbody>\n",
       "    <tr>\n",
       "      <th>0</th>\n",
       "      <td></td>\n",
       "      <td></td>\n",
       "      <td>*</td>\n",
       "      <td>N</td>\n",
       "      <td>000Y005</td>\n",
       "      <td>1.통화 및 유동성지표</td>\n",
       "      <td>1.</td>\n",
       "      <td>통화 및 유동성지표</td>\n",
       "      <td>1</td>\n",
       "    </tr>\n",
       "    <tr>\n",
       "      <th>1</th>\n",
       "      <td>MM</td>\n",
       "      <td></td>\n",
       "      <td>000Y005</td>\n",
       "      <td>Y</td>\n",
       "      <td>010Y002</td>\n",
       "      <td>1.1.주요 통화금융지표</td>\n",
       "      <td>1.1.</td>\n",
       "      <td>주요 통화금융지표</td>\n",
       "      <td>2</td>\n",
       "    </tr>\n",
       "    <tr>\n",
       "      <th>2</th>\n",
       "      <td></td>\n",
       "      <td></td>\n",
       "      <td>000Y005</td>\n",
       "      <td>N</td>\n",
       "      <td>000Y074</td>\n",
       "      <td>1.2.본원통화</td>\n",
       "      <td>1.2.</td>\n",
       "      <td>본원통화</td>\n",
       "      <td>2</td>\n",
       "    </tr>\n",
       "    <tr>\n",
       "      <th>3</th>\n",
       "      <td></td>\n",
       "      <td></td>\n",
       "      <td>000Y074</td>\n",
       "      <td>N</td>\n",
       "      <td>000Y701</td>\n",
       "      <td>1.2.1 본원통화 구성내역(말잔)</td>\n",
       "      <td>1.2.1</td>\n",
       "      <td>본원통화 구성내역(말잔)</td>\n",
       "      <td>3</td>\n",
       "    </tr>\n",
       "    <tr>\n",
       "      <th>4</th>\n",
       "      <td>MM</td>\n",
       "      <td></td>\n",
       "      <td>000Y701</td>\n",
       "      <td>Y</td>\n",
       "      <td>054Y407</td>\n",
       "      <td>1.2.1.1 본원통화 구성내역(말잔, 계절조정계열)</td>\n",
       "      <td>1.2.1.1</td>\n",
       "      <td>본원통화 구성내역(말잔, 계절조정계열)</td>\n",
       "      <td>4</td>\n",
       "    </tr>\n",
       "  </tbody>\n",
       "</table>\n",
       "</div>"
      ],
      "text/plain": [
       "  CYCLE ORG_NAME P_STAT_CODE SRCH_YN STAT_CODE                      STAT_NAME  \\\n",
       "0                          *       N   000Y005                   1.통화 및 유동성지표   \n",
       "1    MM              000Y005       Y   010Y002                  1.1.주요 통화금융지표   \n",
       "2                    000Y005       N   000Y074                       1.2.본원통화   \n",
       "3                    000Y074       N   000Y701            1.2.1 본원통화 구성내역(말잔)   \n",
       "4    MM              000Y701       Y   054Y407  1.2.1.1 본원통화 구성내역(말잔, 계절조정계열)   \n",
       "\n",
       "     DEPTH                    NAME  LEVEL  \n",
       "0       1.              통화 및 유동성지표      1  \n",
       "1     1.1.               주요 통화금융지표      2  \n",
       "2     1.2.                    본원통화      2  \n",
       "3    1.2.1           본원통화 구성내역(말잔)      3  \n",
       "4  1.2.1.1   본원통화 구성내역(말잔, 계절조정계열)      4  "
      ]
     },
     "execution_count": 8,
     "metadata": {},
     "output_type": "execute_result"
    }
   ],
   "source": [
    "result.head()"
   ]
  },
  {
   "cell_type": "code",
   "execution_count": 9,
   "metadata": {
    "slideshow": {
     "slide_type": "-"
    }
   },
   "outputs": [
    {
     "data": {
      "text/html": [
       "<div>\n",
       "<style>\n",
       "    .dataframe thead tr:only-child th {\n",
       "        text-align: right;\n",
       "    }\n",
       "\n",
       "    .dataframe thead th {\n",
       "        text-align: left;\n",
       "    }\n",
       "\n",
       "    .dataframe tbody tr th {\n",
       "        vertical-align: top;\n",
       "    }\n",
       "</style>\n",
       "<table border=\"1\" class=\"dataframe\">\n",
       "  <thead>\n",
       "    <tr style=\"text-align: right;\">\n",
       "      <th></th>\n",
       "      <th>CYCLE</th>\n",
       "      <th>ORG_NAME</th>\n",
       "      <th>P_STAT_CODE</th>\n",
       "      <th>SRCH_YN</th>\n",
       "      <th>STAT_CODE</th>\n",
       "      <th>STAT_NAME</th>\n",
       "      <th>DEPTH</th>\n",
       "      <th>NAME</th>\n",
       "      <th>LEVEL</th>\n",
       "    </tr>\n",
       "  </thead>\n",
       "  <tbody>\n",
       "    <tr>\n",
       "      <th>605</th>\n",
       "      <td>YY</td>\n",
       "      <td>OECD</td>\n",
       "      <td>000Y070</td>\n",
       "      <td>Y</td>\n",
       "      <td>I05Y009</td>\n",
       "      <td>17.1.21 PPP환율</td>\n",
       "      <td>17.1.21</td>\n",
       "      <td>PPP환율</td>\n",
       "      <td>3</td>\n",
       "    </tr>\n",
       "    <tr>\n",
       "      <th>606</th>\n",
       "      <td></td>\n",
       "      <td></td>\n",
       "      <td>000Y001</td>\n",
       "      <td>N</td>\n",
       "      <td>000Y111</td>\n",
       "      <td>17.2.남북한 주요지표 비교</td>\n",
       "      <td>17.2.</td>\n",
       "      <td>남북한 주요지표 비교</td>\n",
       "      <td>2</td>\n",
       "    </tr>\n",
       "    <tr>\n",
       "      <th>607</th>\n",
       "      <td>YY</td>\n",
       "      <td></td>\n",
       "      <td>000Y111</td>\n",
       "      <td>Y</td>\n",
       "      <td>034Y003</td>\n",
       "      <td>17.2.1 남북한 주요지표 비교(총량)</td>\n",
       "      <td>17.2.1</td>\n",
       "      <td>남북한 주요지표 비교(총량)</td>\n",
       "      <td>3</td>\n",
       "    </tr>\n",
       "    <tr>\n",
       "      <th>608</th>\n",
       "      <td>YY</td>\n",
       "      <td></td>\n",
       "      <td>000Y111</td>\n",
       "      <td>Y</td>\n",
       "      <td>034Y002</td>\n",
       "      <td>17.2.2 남북한 주요지표 비교(남한/북한 배율)</td>\n",
       "      <td>17.2.2</td>\n",
       "      <td>남북한 주요지표 비교(남한/북한 배율)</td>\n",
       "      <td>3</td>\n",
       "    </tr>\n",
       "    <tr>\n",
       "      <th>609</th>\n",
       "      <td>YY</td>\n",
       "      <td></td>\n",
       "      <td>000Y001</td>\n",
       "      <td>Y</td>\n",
       "      <td>034Y001</td>\n",
       "      <td>17.3.북한GDP 관련 통계</td>\n",
       "      <td>17.3.</td>\n",
       "      <td>북한GDP 관련 통계</td>\n",
       "      <td>2</td>\n",
       "    </tr>\n",
       "  </tbody>\n",
       "</table>\n",
       "</div>"
      ],
      "text/plain": [
       "    CYCLE ORG_NAME P_STAT_CODE SRCH_YN STAT_CODE  \\\n",
       "605    YY     OECD     000Y070       Y   I05Y009   \n",
       "606                    000Y001       N   000Y111   \n",
       "607    YY              000Y111       Y   034Y003   \n",
       "608    YY              000Y111       Y   034Y002   \n",
       "609    YY              000Y001       Y   034Y001   \n",
       "\n",
       "                        STAT_NAME    DEPTH                    NAME  LEVEL  \n",
       "605                 17.1.21 PPP환율  17.1.21                   PPP환율      3  \n",
       "606              17.2.남북한 주요지표 비교    17.2.             남북한 주요지표 비교      2  \n",
       "607        17.2.1 남북한 주요지표 비교(총량)   17.2.1         남북한 주요지표 비교(총량)      3  \n",
       "608  17.2.2 남북한 주요지표 비교(남한/북한 배율)   17.2.2   남북한 주요지표 비교(남한/북한 배율)      3  \n",
       "609              17.3.북한GDP 관련 통계    17.3.             북한GDP 관련 통계      2  "
      ]
     },
     "execution_count": 9,
     "metadata": {},
     "output_type": "execute_result"
    }
   ],
   "source": [
    "result.tail()"
   ]
  },
  {
   "cell_type": "code",
   "execution_count": 10,
   "metadata": {
    "slideshow": {
     "slide_type": "-"
    }
   },
   "outputs": [],
   "source": [
    "result.drop('STAT_NAME', axis=1, inplace=True)\n",
    "result.to_csv('ecos_stat_list.csv', index=False)"
   ]
  },
  {
   "cell_type": "code",
   "execution_count": 11,
   "metadata": {
    "slideshow": {
     "slide_type": "slide"
    }
   },
   "outputs": [
    {
     "name": "stdout",
     "output_type": "stream",
     "text": [
      "head: 읽기를 위해 'stat_list.csv'을(를) 열 수 없음: 그런 파일이나 디렉터리가 없습니다\r\n"
     ]
    }
   ],
   "source": [
    "! head stat_list.csv"
   ]
  },
  {
   "cell_type": "code",
   "execution_count": 12,
   "metadata": {
    "slideshow": {
     "slide_type": "slide"
    }
   },
   "outputs": [
    {
     "data": {
      "text/html": [
       "<div>\n",
       "<style>\n",
       "    .dataframe thead tr:only-child th {\n",
       "        text-align: right;\n",
       "    }\n",
       "\n",
       "    .dataframe thead th {\n",
       "        text-align: left;\n",
       "    }\n",
       "\n",
       "    .dataframe tbody tr th {\n",
       "        vertical-align: top;\n",
       "    }\n",
       "</style>\n",
       "<table border=\"1\" class=\"dataframe\">\n",
       "  <thead>\n",
       "    <tr style=\"text-align: right;\">\n",
       "      <th></th>\n",
       "      <th>CYCLE</th>\n",
       "      <th>ORG_NAME</th>\n",
       "      <th>P_STAT_CODE</th>\n",
       "      <th>SRCH_YN</th>\n",
       "      <th>STAT_CODE</th>\n",
       "      <th>DEPTH</th>\n",
       "      <th>NAME</th>\n",
       "      <th>LEVEL</th>\n",
       "    </tr>\n",
       "  </thead>\n",
       "  <tbody>\n",
       "    <tr>\n",
       "      <th>0</th>\n",
       "      <td>NaN</td>\n",
       "      <td>NaN</td>\n",
       "      <td>*</td>\n",
       "      <td>N</td>\n",
       "      <td>000Y005</td>\n",
       "      <td>1.</td>\n",
       "      <td>통화 및 유동성지표</td>\n",
       "      <td>1</td>\n",
       "    </tr>\n",
       "    <tr>\n",
       "      <th>1</th>\n",
       "      <td>MM</td>\n",
       "      <td>NaN</td>\n",
       "      <td>000Y005</td>\n",
       "      <td>Y</td>\n",
       "      <td>010Y002</td>\n",
       "      <td>1.1.</td>\n",
       "      <td>주요 통화금융지표</td>\n",
       "      <td>2</td>\n",
       "    </tr>\n",
       "    <tr>\n",
       "      <th>2</th>\n",
       "      <td>NaN</td>\n",
       "      <td>NaN</td>\n",
       "      <td>000Y005</td>\n",
       "      <td>N</td>\n",
       "      <td>000Y074</td>\n",
       "      <td>1.2.</td>\n",
       "      <td>본원통화</td>\n",
       "      <td>2</td>\n",
       "    </tr>\n",
       "    <tr>\n",
       "      <th>3</th>\n",
       "      <td>NaN</td>\n",
       "      <td>NaN</td>\n",
       "      <td>000Y074</td>\n",
       "      <td>N</td>\n",
       "      <td>000Y701</td>\n",
       "      <td>1.2.1</td>\n",
       "      <td>본원통화 구성내역(말잔)</td>\n",
       "      <td>3</td>\n",
       "    </tr>\n",
       "    <tr>\n",
       "      <th>4</th>\n",
       "      <td>MM</td>\n",
       "      <td>NaN</td>\n",
       "      <td>000Y701</td>\n",
       "      <td>Y</td>\n",
       "      <td>054Y407</td>\n",
       "      <td>1.2.1.1</td>\n",
       "      <td>본원통화 구성내역(말잔, 계절조정계열)</td>\n",
       "      <td>4</td>\n",
       "    </tr>\n",
       "    <tr>\n",
       "      <th>5</th>\n",
       "      <td>MM</td>\n",
       "      <td>NaN</td>\n",
       "      <td>000Y701</td>\n",
       "      <td>Y</td>\n",
       "      <td>054Y007</td>\n",
       "      <td>1.2.1.2</td>\n",
       "      <td>본원통화 구성내역(말잔,원계열)</td>\n",
       "      <td>4</td>\n",
       "    </tr>\n",
       "    <tr>\n",
       "      <th>6</th>\n",
       "      <td>NaN</td>\n",
       "      <td>NaN</td>\n",
       "      <td>000Y074</td>\n",
       "      <td>N</td>\n",
       "      <td>000Y702</td>\n",
       "      <td>1.2.2</td>\n",
       "      <td>본원통화 구성내역(평잔)</td>\n",
       "      <td>3</td>\n",
       "    </tr>\n",
       "    <tr>\n",
       "      <th>7</th>\n",
       "      <td>MM</td>\n",
       "      <td>NaN</td>\n",
       "      <td>000Y702</td>\n",
       "      <td>Y</td>\n",
       "      <td>054Y408</td>\n",
       "      <td>1.2.2.1</td>\n",
       "      <td>본원통화 구성내역(평잔, 계절조정계열)</td>\n",
       "      <td>4</td>\n",
       "    </tr>\n",
       "    <tr>\n",
       "      <th>8</th>\n",
       "      <td>MM</td>\n",
       "      <td>NaN</td>\n",
       "      <td>000Y702</td>\n",
       "      <td>Y</td>\n",
       "      <td>054Y008</td>\n",
       "      <td>1.2.2.2</td>\n",
       "      <td>본원통화 구성내역(평잔,원계열)</td>\n",
       "      <td>4</td>\n",
       "    </tr>\n",
       "    <tr>\n",
       "      <th>9</th>\n",
       "      <td>NaN</td>\n",
       "      <td>NaN</td>\n",
       "      <td>000Y005</td>\n",
       "      <td>N</td>\n",
       "      <td>000Y006</td>\n",
       "      <td>1.3.</td>\n",
       "      <td>M2(광의통화)</td>\n",
       "      <td>2</td>\n",
       "    </tr>\n",
       "  </tbody>\n",
       "</table>\n",
       "</div>"
      ],
      "text/plain": [
       "  CYCLE ORG_NAME P_STAT_CODE SRCH_YN STAT_CODE    DEPTH  \\\n",
       "0   NaN      NaN           *       N   000Y005       1.   \n",
       "1    MM      NaN     000Y005       Y   010Y002     1.1.   \n",
       "2   NaN      NaN     000Y005       N   000Y074     1.2.   \n",
       "3   NaN      NaN     000Y074       N   000Y701    1.2.1   \n",
       "4    MM      NaN     000Y701       Y   054Y407  1.2.1.1   \n",
       "5    MM      NaN     000Y701       Y   054Y007  1.2.1.2   \n",
       "6   NaN      NaN     000Y074       N   000Y702    1.2.2   \n",
       "7    MM      NaN     000Y702       Y   054Y408  1.2.2.1   \n",
       "8    MM      NaN     000Y702       Y   054Y008  1.2.2.2   \n",
       "9   NaN      NaN     000Y005       N   000Y006     1.3.   \n",
       "\n",
       "                     NAME  LEVEL  \n",
       "0              통화 및 유동성지표      1  \n",
       "1               주요 통화금융지표      2  \n",
       "2                    본원통화      2  \n",
       "3           본원통화 구성내역(말잔)      3  \n",
       "4   본원통화 구성내역(말잔, 계절조정계열)      4  \n",
       "5       본원통화 구성내역(말잔,원계열)      4  \n",
       "6           본원통화 구성내역(평잔)      3  \n",
       "7   본원통화 구성내역(평잔, 계절조정계열)      4  \n",
       "8       본원통화 구성내역(평잔,원계열)      4  \n",
       "9                M2(광의통화)      2  "
      ]
     },
     "execution_count": 12,
     "metadata": {},
     "output_type": "execute_result"
    }
   ],
   "source": [
    "import pandas as pd\n",
    "\n",
    "df = pd.read_csv('ecos_stat_list.csv')\n",
    "df.head(10)"
   ]
  },
  {
   "cell_type": "markdown",
   "metadata": {
    "slideshow": {
     "slide_type": "slide"
    }
   },
   "source": [
    "# 생성된 csv를 gist에 공유"
   ]
  },
  {
   "cell_type": "markdown",
   "metadata": {
    "slideshow": {
     "slide_type": "-"
    }
   },
   "source": [
    "저장한 결과(ecos_stat_list.csv)를  https://gist.github.com 에 저장하였다. URL은 다음과 같다.\n",
    "* https://gist.github.com/76a25e725bcc04f07fead0f866fc152b\n",
    "\n",
    "이 파일(ecos_stat_list.csv)의 원본(raw)에 대한 URL은 다음과 같다. [Raw] 버튼을 눌러 확인할 수 있다.\n",
    "*\n",
    "https://gist.githubusercontent.com/FinanceData/76a25e725bcc04f07fead0f866fc152b/raw/1c9382b26737f7e752d0b697e884081087ea70d6/ecos_stat_list.csv\n",
    "\n",
    "이 URL을 단축 URL로 만든다.\n",
    "* https://goo.gl/Yu7Vra\n",
    "\n",
    "이렇게 만든 ecos_stat_list.csv 파일에 대한 URL은 어디서나 읽을 수 있다."
   ]
  },
  {
   "cell_type": "code",
   "execution_count": 13,
   "metadata": {
    "slideshow": {
     "slide_type": "slide"
    }
   },
   "outputs": [
    {
     "data": {
      "text/html": [
       "<div>\n",
       "<style>\n",
       "    .dataframe thead tr:only-child th {\n",
       "        text-align: right;\n",
       "    }\n",
       "\n",
       "    .dataframe thead th {\n",
       "        text-align: left;\n",
       "    }\n",
       "\n",
       "    .dataframe tbody tr th {\n",
       "        vertical-align: top;\n",
       "    }\n",
       "</style>\n",
       "<table border=\"1\" class=\"dataframe\">\n",
       "  <thead>\n",
       "    <tr style=\"text-align: right;\">\n",
       "      <th></th>\n",
       "      <th>CYCLE</th>\n",
       "      <th>ORG_NAME</th>\n",
       "      <th>P_STAT_CODE</th>\n",
       "      <th>SRCH_YN</th>\n",
       "      <th>STAT_CODE</th>\n",
       "      <th>DEPTH</th>\n",
       "      <th>NAME</th>\n",
       "      <th>LEVEL</th>\n",
       "    </tr>\n",
       "  </thead>\n",
       "  <tbody>\n",
       "    <tr>\n",
       "      <th>0</th>\n",
       "      <td>NaN</td>\n",
       "      <td>NaN</td>\n",
       "      <td>*</td>\n",
       "      <td>N</td>\n",
       "      <td>000Y005</td>\n",
       "      <td>1.</td>\n",
       "      <td>통화 및 유동성지표</td>\n",
       "      <td>1</td>\n",
       "    </tr>\n",
       "    <tr>\n",
       "      <th>1</th>\n",
       "      <td>MM</td>\n",
       "      <td>NaN</td>\n",
       "      <td>000Y005</td>\n",
       "      <td>Y</td>\n",
       "      <td>010Y002</td>\n",
       "      <td>1.1.</td>\n",
       "      <td>주요 통화금융지표</td>\n",
       "      <td>2</td>\n",
       "    </tr>\n",
       "    <tr>\n",
       "      <th>2</th>\n",
       "      <td>NaN</td>\n",
       "      <td>NaN</td>\n",
       "      <td>000Y005</td>\n",
       "      <td>N</td>\n",
       "      <td>000Y074</td>\n",
       "      <td>1.2.</td>\n",
       "      <td>본원통화</td>\n",
       "      <td>2</td>\n",
       "    </tr>\n",
       "    <tr>\n",
       "      <th>3</th>\n",
       "      <td>NaN</td>\n",
       "      <td>NaN</td>\n",
       "      <td>000Y074</td>\n",
       "      <td>N</td>\n",
       "      <td>000Y701</td>\n",
       "      <td>1.2.1</td>\n",
       "      <td>본원통화 구성내역(말잔)</td>\n",
       "      <td>3</td>\n",
       "    </tr>\n",
       "    <tr>\n",
       "      <th>4</th>\n",
       "      <td>MM</td>\n",
       "      <td>NaN</td>\n",
       "      <td>000Y701</td>\n",
       "      <td>Y</td>\n",
       "      <td>054Y407</td>\n",
       "      <td>1.2.1.1</td>\n",
       "      <td>본원통화 구성내역(말잔, 계절조정계열)</td>\n",
       "      <td>4</td>\n",
       "    </tr>\n",
       "  </tbody>\n",
       "</table>\n",
       "</div>"
      ],
      "text/plain": [
       "  CYCLE ORG_NAME P_STAT_CODE SRCH_YN STAT_CODE    DEPTH  \\\n",
       "0   NaN      NaN           *       N   000Y005       1.   \n",
       "1    MM      NaN     000Y005       Y   010Y002     1.1.   \n",
       "2   NaN      NaN     000Y005       N   000Y074     1.2.   \n",
       "3   NaN      NaN     000Y074       N   000Y701    1.2.1   \n",
       "4    MM      NaN     000Y701       Y   054Y407  1.2.1.1   \n",
       "\n",
       "                     NAME  LEVEL  \n",
       "0              통화 및 유동성지표      1  \n",
       "1               주요 통화금융지표      2  \n",
       "2                    본원통화      2  \n",
       "3           본원통화 구성내역(말잔)      3  \n",
       "4   본원통화 구성내역(말잔, 계절조정계열)      4  "
      ]
     },
     "execution_count": 13,
     "metadata": {},
     "output_type": "execute_result"
    }
   ],
   "source": [
    "import pandas as pd\n",
    "\n",
    "df = pd.read_csv(\"https://goo.gl/Yu7Vra\")\n",
    "df.head()"
   ]
  },
  {
   "cell_type": "markdown",
   "metadata": {
    "slideshow": {
     "slide_type": "notes"
    }
   },
   "source": [
    "----\n",
    "#### 2017 FinanceData http://fb.com/financedata http://financedata.github.com"
   ]
  }
 ],
 "metadata": {
  "celltoolbar": "Slideshow",
  "kernelspec": {
   "display_name": "Python 3",
   "language": "python",
   "name": "python3"
  },
  "language_info": {
   "codemirror_mode": {
    "name": "ipython",
    "version": 3
   },
   "file_extension": ".py",
   "mimetype": "text/x-python",
   "name": "python",
   "nbconvert_exporter": "python",
   "pygments_lexer": "ipython3",
   "version": "3.5.2"
  }
 },
 "nbformat": 4,
 "nbformat_minor": 1
}