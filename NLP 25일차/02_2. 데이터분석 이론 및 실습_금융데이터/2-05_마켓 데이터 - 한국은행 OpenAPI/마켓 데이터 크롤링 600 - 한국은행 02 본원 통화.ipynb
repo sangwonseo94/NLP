{
 "cells": [
  {
   "cell_type": "markdown",
   "metadata": {
    "slideshow": {
     "slide_type": "slide"
    }
   },
   "source": [
    "# 한국은행 OpenAPI 02 - 주요 경제 지표\n",
    "\n",
    "<img src=\"http://ecos.bok.or.kr/images/new/openapi/api_visual.gif\" />\n",
    "\n",
    "#### 2017 FinanceData http://fb.com/financedata"
   ]
  },
  {
   "cell_type": "markdown",
   "metadata": {
    "slideshow": {
     "slide_type": "slide"
    }
   },
   "source": [
    "# 주요 경제 지표\n",
    "* GDP 성장률\n",
    "* 소비자 물가\n",
    "* 생산자 물가\n",
    "* 경상수지\n",
    "* M2(평잔)"
   ]
  },
  {
   "cell_type": "markdown",
   "metadata": {
    "slideshow": {
     "slide_type": "slide"
    }
   },
   "source": [
    "# 데이터 조회 예시: 예금은행 종별예금\n",
    "\n",
    "## 코드\n",
    "* 001Y011: 예금은행 종별예금(말잔) "
   ]
  },
  {
   "cell_type": "code",
   "execution_count": 1,
   "metadata": {
    "slideshow": {
     "slide_type": "slide"
    }
   },
   "outputs": [
    {
     "data": {
      "text/plain": [
       "'{\"StatisticSearch\":{\"list_total_count\":3279,\"row\":[{\"UNIT_NAME\":\"십억원 \",\"STAT_NAME\":\"3.1.1 예금은행 종별예금(말잔)\",\"ITEM_CODE1\":\"BDAA1\",\"STAT_CODE\":\"001Y011\",\"ITEM_CODE2\":\" \",\"ITEM_CODE3\":\" \",\"ITEM_NAME1\":\"총예금\",\"ITEM_NAME2\":\" \",\"DATA_VALUE\":\"644.6\",\"ITEM_NAME3\":\" \",\"TIME\":\"19701\"},{\"UNIT_NAME\":\"십억원 \",\"STAT_NAME\":\"3.1.1 예금은행 종별예금(말잔)\",\"ITEM_CODE1\":\"BDAA1\",\"STAT_CODE\":\"001Y011\",\"ITEM_CODE2\":\" \",\"ITEM_CODE3\":\" \",\"ITEM_NAME1\":\"총예금\",\"ITEM_NAME2\":\" \",\"DATA_VALUE\":\"672.7\",\"ITEM_NAME3\":\" \",\"TIME\":\"19702\"},{\"UNIT_NAME\":\"십억원 \",\"STAT_NAME\":\"3.1.1 예금은행 종별예금(말잔)\",\"ITEM_CODE1\":\"BDAA1\",\"STAT_CODE\":\"001Y011\",\"ITEM_CODE2\":\" \",\"ITEM_CODE3\":\" \",\"ITEM_NAME1\":\"총예금\",\"ITEM_NAME2\":\" \",\"DATA_VALUE\":\"725.2\",\"ITEM_NAME3\":\" \",\"TIME\":\"19703\"},{\"UNIT_NAME\":\"십억원 \",\"STAT_NAME\":\"3.1.1 예금은행 종별예금(말잔)\",\"ITEM_CODE1\":\"BDAA1\",\"STAT_CODE\":\"001Y011\",\"ITEM_CODE2\":\" \",\"ITEM_CODE3\":\" \",\"ITEM_NAME1\":\"총예금\",\"ITEM_NAME2\":\" \",\"DATA_VALUE\":\"787\",\"ITEM_NAME3\":\" \",\"TIME\":\"19704\"},{\"UNIT_NAME\":\"십억원 \",\"STAT_NAME\":\"3.1.1 예금은행 종별예금(말잔)\",\"ITEM_CODE1\":\"BDAA1\",\"STAT_CODE\":\"001'"
      ]
     },
     "execution_count": 1,
     "metadata": {},
     "output_type": "execute_result"
    }
   ],
   "source": [
    "import pandas as pd\n",
    "import requests\n",
    "import json\n",
    "from pandas.io.json import json_normalize\n",
    "\n",
    "auth_key = \"G9FSKDP0EDJ4BVOZ5B9D/\"\n",
    "req_type = \"json/\"\n",
    "lang = \"kr/\"\n",
    "start_no = \"1/\"\n",
    "end_no =\"10000/\"\n",
    "stat_code = \"001Y011/\" \n",
    "cycle_type = \"QQ/\"\n",
    "start_date = \"196501/\"\n",
    "end_date = \"201609/\"\n",
    "item_no = \"\"\n",
    "\n",
    "url = \"http://ecos.bok.or.kr/api/StatisticSearch/\" +  \\\n",
    "    auth_key + req_type + lang + start_no + end_no + \\\n",
    "    stat_code + cycle_type + start_date + end_date + item_no\n",
    "\n",
    "r = requests.get(url)\n",
    "r.text[:1024]"
   ]
  },
  {
   "cell_type": "code",
   "execution_count": 2,
   "metadata": {
    "slideshow": {
     "slide_type": "slide"
    }
   },
   "outputs": [
    {
     "data": {
      "text/html": [
       "<div>\n",
       "<style scoped>\n",
       "    .dataframe tbody tr th:only-of-type {\n",
       "        vertical-align: middle;\n",
       "    }\n",
       "\n",
       "    .dataframe tbody tr th {\n",
       "        vertical-align: top;\n",
       "    }\n",
       "\n",
       "    .dataframe thead th {\n",
       "        text-align: right;\n",
       "    }\n",
       "</style>\n",
       "<table border=\"1\" class=\"dataframe\">\n",
       "  <thead>\n",
       "    <tr style=\"text-align: right;\">\n",
       "      <th></th>\n",
       "      <th>DATA_VALUE</th>\n",
       "      <th>ITEM_CODE1</th>\n",
       "      <th>ITEM_CODE2</th>\n",
       "      <th>ITEM_CODE3</th>\n",
       "      <th>ITEM_NAME1</th>\n",
       "      <th>ITEM_NAME2</th>\n",
       "      <th>ITEM_NAME3</th>\n",
       "      <th>STAT_CODE</th>\n",
       "      <th>STAT_NAME</th>\n",
       "      <th>TIME</th>\n",
       "      <th>UNIT_NAME</th>\n",
       "    </tr>\n",
       "  </thead>\n",
       "  <tbody>\n",
       "    <tr>\n",
       "      <th>0</th>\n",
       "      <td>644.6</td>\n",
       "      <td>BDAA1</td>\n",
       "      <td></td>\n",
       "      <td></td>\n",
       "      <td>총예금</td>\n",
       "      <td></td>\n",
       "      <td></td>\n",
       "      <td>001Y011</td>\n",
       "      <td>3.1.1 예금은행 종별예금(말잔)</td>\n",
       "      <td>19701</td>\n",
       "      <td>십억원</td>\n",
       "    </tr>\n",
       "    <tr>\n",
       "      <th>1</th>\n",
       "      <td>672.7</td>\n",
       "      <td>BDAA1</td>\n",
       "      <td></td>\n",
       "      <td></td>\n",
       "      <td>총예금</td>\n",
       "      <td></td>\n",
       "      <td></td>\n",
       "      <td>001Y011</td>\n",
       "      <td>3.1.1 예금은행 종별예금(말잔)</td>\n",
       "      <td>19702</td>\n",
       "      <td>십억원</td>\n",
       "    </tr>\n",
       "    <tr>\n",
       "      <th>2</th>\n",
       "      <td>725.2</td>\n",
       "      <td>BDAA1</td>\n",
       "      <td></td>\n",
       "      <td></td>\n",
       "      <td>총예금</td>\n",
       "      <td></td>\n",
       "      <td></td>\n",
       "      <td>001Y011</td>\n",
       "      <td>3.1.1 예금은행 종별예금(말잔)</td>\n",
       "      <td>19703</td>\n",
       "      <td>십억원</td>\n",
       "    </tr>\n",
       "    <tr>\n",
       "      <th>3</th>\n",
       "      <td>787</td>\n",
       "      <td>BDAA1</td>\n",
       "      <td></td>\n",
       "      <td></td>\n",
       "      <td>총예금</td>\n",
       "      <td></td>\n",
       "      <td></td>\n",
       "      <td>001Y011</td>\n",
       "      <td>3.1.1 예금은행 종별예금(말잔)</td>\n",
       "      <td>19704</td>\n",
       "      <td>십억원</td>\n",
       "    </tr>\n",
       "    <tr>\n",
       "      <th>4</th>\n",
       "      <td>857.5</td>\n",
       "      <td>BDAA1</td>\n",
       "      <td></td>\n",
       "      <td></td>\n",
       "      <td>총예금</td>\n",
       "      <td></td>\n",
       "      <td></td>\n",
       "      <td>001Y011</td>\n",
       "      <td>3.1.1 예금은행 종별예금(말잔)</td>\n",
       "      <td>19711</td>\n",
       "      <td>십억원</td>\n",
       "    </tr>\n",
       "    <tr>\n",
       "      <th>5</th>\n",
       "      <td>907.3</td>\n",
       "      <td>BDAA1</td>\n",
       "      <td></td>\n",
       "      <td></td>\n",
       "      <td>총예금</td>\n",
       "      <td></td>\n",
       "      <td></td>\n",
       "      <td>001Y011</td>\n",
       "      <td>3.1.1 예금은행 종별예금(말잔)</td>\n",
       "      <td>19712</td>\n",
       "      <td>십억원</td>\n",
       "    </tr>\n",
       "    <tr>\n",
       "      <th>6</th>\n",
       "      <td>932.7</td>\n",
       "      <td>BDAA1</td>\n",
       "      <td></td>\n",
       "      <td></td>\n",
       "      <td>총예금</td>\n",
       "      <td></td>\n",
       "      <td></td>\n",
       "      <td>001Y011</td>\n",
       "      <td>3.1.1 예금은행 종별예금(말잔)</td>\n",
       "      <td>19713</td>\n",
       "      <td>십억원</td>\n",
       "    </tr>\n",
       "    <tr>\n",
       "      <th>7</th>\n",
       "      <td>977.6</td>\n",
       "      <td>BDAA1</td>\n",
       "      <td></td>\n",
       "      <td></td>\n",
       "      <td>총예금</td>\n",
       "      <td></td>\n",
       "      <td></td>\n",
       "      <td>001Y011</td>\n",
       "      <td>3.1.1 예금은행 종별예금(말잔)</td>\n",
       "      <td>19714</td>\n",
       "      <td>십억원</td>\n",
       "    </tr>\n",
       "    <tr>\n",
       "      <th>8</th>\n",
       "      <td>1028.7</td>\n",
       "      <td>BDAA1</td>\n",
       "      <td></td>\n",
       "      <td></td>\n",
       "      <td>총예금</td>\n",
       "      <td></td>\n",
       "      <td></td>\n",
       "      <td>001Y011</td>\n",
       "      <td>3.1.1 예금은행 종별예금(말잔)</td>\n",
       "      <td>19721</td>\n",
       "      <td>십억원</td>\n",
       "    </tr>\n",
       "    <tr>\n",
       "      <th>9</th>\n",
       "      <td>1089.9</td>\n",
       "      <td>BDAA1</td>\n",
       "      <td></td>\n",
       "      <td></td>\n",
       "      <td>총예금</td>\n",
       "      <td></td>\n",
       "      <td></td>\n",
       "      <td>001Y011</td>\n",
       "      <td>3.1.1 예금은행 종별예금(말잔)</td>\n",
       "      <td>19722</td>\n",
       "      <td>십억원</td>\n",
       "    </tr>\n",
       "    <tr>\n",
       "      <th>10</th>\n",
       "      <td>1206.8</td>\n",
       "      <td>BDAA1</td>\n",
       "      <td></td>\n",
       "      <td></td>\n",
       "      <td>총예금</td>\n",
       "      <td></td>\n",
       "      <td></td>\n",
       "      <td>001Y011</td>\n",
       "      <td>3.1.1 예금은행 종별예금(말잔)</td>\n",
       "      <td>19723</td>\n",
       "      <td>십억원</td>\n",
       "    </tr>\n",
       "    <tr>\n",
       "      <th>11</th>\n",
       "      <td>1323.9</td>\n",
       "      <td>BDAA1</td>\n",
       "      <td></td>\n",
       "      <td></td>\n",
       "      <td>총예금</td>\n",
       "      <td></td>\n",
       "      <td></td>\n",
       "      <td>001Y011</td>\n",
       "      <td>3.1.1 예금은행 종별예금(말잔)</td>\n",
       "      <td>19724</td>\n",
       "      <td>십억원</td>\n",
       "    </tr>\n",
       "  </tbody>\n",
       "</table>\n",
       "</div>"
      ],
      "text/plain": [
       "   DATA_VALUE ITEM_CODE1 ITEM_CODE2 ITEM_CODE3 ITEM_NAME1 ITEM_NAME2  \\\n",
       "0       644.6      BDAA1                              총예금              \n",
       "1       672.7      BDAA1                              총예금              \n",
       "2       725.2      BDAA1                              총예금              \n",
       "3         787      BDAA1                              총예금              \n",
       "4       857.5      BDAA1                              총예금              \n",
       "5       907.3      BDAA1                              총예금              \n",
       "6       932.7      BDAA1                              총예금              \n",
       "7       977.6      BDAA1                              총예금              \n",
       "8      1028.7      BDAA1                              총예금              \n",
       "9      1089.9      BDAA1                              총예금              \n",
       "10     1206.8      BDAA1                              총예금              \n",
       "11     1323.9      BDAA1                              총예금              \n",
       "\n",
       "   ITEM_NAME3 STAT_CODE            STAT_NAME   TIME UNIT_NAME  \n",
       "0               001Y011  3.1.1 예금은행 종별예금(말잔)  19701      십억원   \n",
       "1               001Y011  3.1.1 예금은행 종별예금(말잔)  19702      십억원   \n",
       "2               001Y011  3.1.1 예금은행 종별예금(말잔)  19703      십억원   \n",
       "3               001Y011  3.1.1 예금은행 종별예금(말잔)  19704      십억원   \n",
       "4               001Y011  3.1.1 예금은행 종별예금(말잔)  19711      십억원   \n",
       "5               001Y011  3.1.1 예금은행 종별예금(말잔)  19712      십억원   \n",
       "6               001Y011  3.1.1 예금은행 종별예금(말잔)  19713      십억원   \n",
       "7               001Y011  3.1.1 예금은행 종별예금(말잔)  19714      십억원   \n",
       "8               001Y011  3.1.1 예금은행 종별예금(말잔)  19721      십억원   \n",
       "9               001Y011  3.1.1 예금은행 종별예금(말잔)  19722      십억원   \n",
       "10              001Y011  3.1.1 예금은행 종별예금(말잔)  19723      십억원   \n",
       "11              001Y011  3.1.1 예금은행 종별예금(말잔)  19724      십억원   "
      ]
     },
     "execution_count": 2,
     "metadata": {},
     "output_type": "execute_result"
    }
   ],
   "source": [
    "# json_normalize()\n",
    "\n",
    "jo = json.loads(r.text)\n",
    "\n",
    "result = json_normalize(jo['StatisticSearch']['row'])\n",
    "result.head(12)"
   ]
  },
  {
   "cell_type": "code",
   "execution_count": 3,
   "metadata": {
    "slideshow": {
     "slide_type": "-"
    }
   },
   "outputs": [
    {
     "name": "stdout",
     "output_type": "stream",
     "text": [
      "3279건\n"
     ]
    }
   ],
   "source": [
    "print (str(len(result)) + \"건\")"
   ]
  },
  {
   "cell_type": "markdown",
   "metadata": {
    "slideshow": {
     "slide_type": "slide"
    }
   },
   "source": [
    "# 함수로 만들기"
   ]
  },
  {
   "cell_type": "code",
   "execution_count": 4,
   "metadata": {
    "slideshow": {
     "slide_type": "-"
    }
   },
   "outputs": [],
   "source": [
    "import pandas as pd\n",
    "import requests\n",
    "import json\n",
    "from pandas.io.json import json_normalize\n",
    "\n",
    "def query_ecos(stat_code, start_date, end_date, cycle_type=\"QQ\"):\n",
    "    auth_key = \"G9FSKDP0EDJ4BVOZ5B9D/\"\n",
    "    req_type = \"json/\"\n",
    "    lang = \"kr/\"\n",
    "    start_no = \"1/\"\n",
    "    end_no =\"10000/\"\n",
    "    stat_code = stat_code + \"/\" \n",
    "    cycle_type = cycle_type + \"/\"\n",
    "    start_date = start_date + \"/\"\n",
    "    end_date = end_date + \"/\"\n",
    "    item_no = \"\"\n",
    "\n",
    "    url = \"http://ecos.bok.or.kr/api/StatisticSearch/\" +  \\\n",
    "        auth_key + req_type + lang + start_no + end_no + \\\n",
    "        stat_code + cycle_type + start_date + end_date + item_no\n",
    "\n",
    "    r = requests.get(url)\n",
    "    if '해당하는 데이터가 없습니다' in r.text:\n",
    "        return None\n",
    "    \n",
    "    jo = json.loads(r.text)\n",
    "    df = json_normalize(jo['StatisticSearch']['row'])\n",
    "    df['TIME'] = df['TIME'] + '0101'\n",
    "    df['TIME'] = df['TIME'].str.replace(r'(\\d{4})(\\d{2})(\\d{2})(.*)', r'\\1-\\2-\\3')\n",
    "    return df"
   ]
  },
  {
   "cell_type": "markdown",
   "metadata": {
    "slideshow": {
     "slide_type": "notes"
    }
   },
   "source": [
    "(참고) 날짜에 처리\n",
    "```python\n",
    "    df['TIME'] = df['TIME'] + '0101'\n",
    "    df['TIME'] = df['TIME'].str.replace(r'(\\d{4})(\\d{2})(\\d{2})(.*)', r'\\1-\\2-\\3')\n",
    "```\n",
    "위 코드는 다음과 같이 날짜 형식을 균일하게 대체\n",
    "\n",
    "* 'YYYY' → 'YYYY-01-01'\n",
    "* 'YYYYMM' → 'YYYY-MM-01'\n",
    "* 'YYYYMMDD' → 'YYYY-MM-DD'"
   ]
  },
  {
   "cell_type": "markdown",
   "metadata": {
    "slideshow": {
     "slide_type": "slide"
    }
   },
   "source": [
    "# 데이터 조회 예시: 통화지표\n",
    "\n",
    "* M1(협의통화) = 현금통화 + 요구불예금 + 수시입출식 저축성예금\n",
    "* M2(광의통화) = M1 + 정기예적금 및 부금 + 시장형 상품 + 실적배당형 상품 + 금융채  + 기타\n",
    "\n",
    "## 코드\n",
    "* I01Y001 본원통화 (base reserve)\n",
    "* I01Y002 협의 통화 (M1)\n",
    "* I01Y003 광의 통화 (M2)\n",
    "\n",
    "## 예시\n",
    "* http://ecos.bok.or.kr/api/StatisticSearch/G9FSKDP0EDJ4BVOZ5B9D/json/kr/1/1000/I01Y001/MM/20150101/20160630\n",
    "* http://ecos.bok.or.kr/api/StatisticSearch/G9FSKDP0EDJ4BVOZ5B9D/json/kr/1/1000/I01Y002/MM/20150101/20160630\n",
    "* http://ecos.bok.or.kr/api/StatisticSearch/G9FSKDP0EDJ4BVOZ5B9D/json/kr/1/1000/I01Y003/MM/20150101/20160630\n"
   ]
  },
  {
   "cell_type": "code",
   "execution_count": 5,
   "metadata": {
    "slideshow": {
     "slide_type": "slide"
    }
   },
   "outputs": [
    {
     "data": {
      "text/html": [
       "<div>\n",
       "<style scoped>\n",
       "    .dataframe tbody tr th:only-of-type {\n",
       "        vertical-align: middle;\n",
       "    }\n",
       "\n",
       "    .dataframe tbody tr th {\n",
       "        vertical-align: top;\n",
       "    }\n",
       "\n",
       "    .dataframe thead th {\n",
       "        text-align: right;\n",
       "    }\n",
       "</style>\n",
       "<table border=\"1\" class=\"dataframe\">\n",
       "  <thead>\n",
       "    <tr style=\"text-align: right;\">\n",
       "      <th></th>\n",
       "      <th>DATA_VALUE</th>\n",
       "      <th>ITEM_CODE1</th>\n",
       "      <th>ITEM_CODE2</th>\n",
       "      <th>ITEM_CODE3</th>\n",
       "      <th>ITEM_NAME1</th>\n",
       "      <th>ITEM_NAME2</th>\n",
       "      <th>ITEM_NAME3</th>\n",
       "      <th>STAT_CODE</th>\n",
       "      <th>STAT_NAME</th>\n",
       "      <th>TIME</th>\n",
       "      <th>UNIT_NAME</th>\n",
       "    </tr>\n",
       "  </thead>\n",
       "  <tbody>\n",
       "    <tr>\n",
       "      <th>0</th>\n",
       "      <td>29</td>\n",
       "      <td>AUS</td>\n",
       "      <td></td>\n",
       "      <td></td>\n",
       "      <td>호주</td>\n",
       "      <td></td>\n",
       "      <td></td>\n",
       "      <td>I01Y001</td>\n",
       "      <td>18.1.1 본원통화</td>\n",
       "      <td>2000-01-01</td>\n",
       "      <td>십억달러</td>\n",
       "    </tr>\n",
       "    <tr>\n",
       "      <th>1</th>\n",
       "      <td>27.3</td>\n",
       "      <td>AUS</td>\n",
       "      <td></td>\n",
       "      <td></td>\n",
       "      <td>호주</td>\n",
       "      <td></td>\n",
       "      <td></td>\n",
       "      <td>I01Y001</td>\n",
       "      <td>18.1.1 본원통화</td>\n",
       "      <td>2000-02-01</td>\n",
       "      <td>십억달러</td>\n",
       "    </tr>\n",
       "    <tr>\n",
       "      <th>2</th>\n",
       "      <td>27.5</td>\n",
       "      <td>AUS</td>\n",
       "      <td></td>\n",
       "      <td></td>\n",
       "      <td>호주</td>\n",
       "      <td></td>\n",
       "      <td></td>\n",
       "      <td>I01Y001</td>\n",
       "      <td>18.1.1 본원통화</td>\n",
       "      <td>2000-03-01</td>\n",
       "      <td>십억달러</td>\n",
       "    </tr>\n",
       "    <tr>\n",
       "      <th>3</th>\n",
       "      <td>28.1</td>\n",
       "      <td>AUS</td>\n",
       "      <td></td>\n",
       "      <td></td>\n",
       "      <td>호주</td>\n",
       "      <td></td>\n",
       "      <td></td>\n",
       "      <td>I01Y001</td>\n",
       "      <td>18.1.1 본원통화</td>\n",
       "      <td>2000-04-01</td>\n",
       "      <td>십억달러</td>\n",
       "    </tr>\n",
       "    <tr>\n",
       "      <th>4</th>\n",
       "      <td>27.8</td>\n",
       "      <td>AUS</td>\n",
       "      <td></td>\n",
       "      <td></td>\n",
       "      <td>호주</td>\n",
       "      <td></td>\n",
       "      <td></td>\n",
       "      <td>I01Y001</td>\n",
       "      <td>18.1.1 본원통화</td>\n",
       "      <td>2000-05-01</td>\n",
       "      <td>십억달러</td>\n",
       "    </tr>\n",
       "  </tbody>\n",
       "</table>\n",
       "</div>"
      ],
      "text/plain": [
       "  DATA_VALUE ITEM_CODE1 ITEM_CODE2 ITEM_CODE3 ITEM_NAME1 ITEM_NAME2  \\\n",
       "0         29        AUS                               호주              \n",
       "1       27.3        AUS                               호주              \n",
       "2       27.5        AUS                               호주              \n",
       "3       28.1        AUS                               호주              \n",
       "4       27.8        AUS                               호주              \n",
       "\n",
       "  ITEM_NAME3 STAT_CODE    STAT_NAME        TIME UNIT_NAME  \n",
       "0              I01Y001  18.1.1 본원통화  2000-01-01     십억달러   \n",
       "1              I01Y001  18.1.1 본원통화  2000-02-01     십억달러   \n",
       "2              I01Y001  18.1.1 본원통화  2000-03-01     십억달러   \n",
       "3              I01Y001  18.1.1 본원통화  2000-04-01     십억달러   \n",
       "4              I01Y001  18.1.1 본원통화  2000-05-01     십억달러   "
      ]
     },
     "execution_count": 5,
     "metadata": {},
     "output_type": "execute_result"
    }
   ],
   "source": [
    "stat_code = \"I01Y001\"\n",
    "cycle_type = \"MM\"\n",
    "start_date = \"2000\"\n",
    "end_date = \"2018\"\n",
    "\n",
    "df = query_ecos(stat_code, start_date, end_date, cycle_type)\n",
    "df.head()"
   ]
  },
  {
   "cell_type": "code",
   "execution_count": 6,
   "metadata": {
    "slideshow": {
     "slide_type": "-"
    }
   },
   "outputs": [],
   "source": [
    "# print (str(len(df)) + \"건\")"
   ]
  },
  {
   "cell_type": "code",
   "execution_count": 7,
   "metadata": {
    "slideshow": {
     "slide_type": "slide"
    }
   },
   "outputs": [
    {
     "data": {
      "text/html": [
       "<div>\n",
       "<style scoped>\n",
       "    .dataframe tbody tr th:only-of-type {\n",
       "        vertical-align: middle;\n",
       "    }\n",
       "\n",
       "    .dataframe tbody tr th {\n",
       "        vertical-align: top;\n",
       "    }\n",
       "\n",
       "    .dataframe thead th {\n",
       "        text-align: right;\n",
       "    }\n",
       "</style>\n",
       "<table border=\"1\" class=\"dataframe\">\n",
       "  <thead>\n",
       "    <tr style=\"text-align: right;\">\n",
       "      <th></th>\n",
       "      <th>DATA_VALUE</th>\n",
       "      <th>ITEM_CODE1</th>\n",
       "      <th>ITEM_CODE2</th>\n",
       "      <th>ITEM_CODE3</th>\n",
       "      <th>ITEM_NAME1</th>\n",
       "      <th>ITEM_NAME2</th>\n",
       "      <th>ITEM_NAME3</th>\n",
       "      <th>STAT_CODE</th>\n",
       "      <th>STAT_NAME</th>\n",
       "      <th>TIME</th>\n",
       "      <th>UNIT_NAME</th>\n",
       "    </tr>\n",
       "  </thead>\n",
       "  <tbody>\n",
       "    <tr>\n",
       "      <th>867</th>\n",
       "      <td>26618.7</td>\n",
       "      <td>KOR</td>\n",
       "      <td></td>\n",
       "      <td></td>\n",
       "      <td>한국</td>\n",
       "      <td></td>\n",
       "      <td></td>\n",
       "      <td>I01Y001</td>\n",
       "      <td>18.1.1 본원통화</td>\n",
       "      <td>2000-01-01</td>\n",
       "      <td>십억원</td>\n",
       "    </tr>\n",
       "    <tr>\n",
       "      <th>868</th>\n",
       "      <td>25172.4</td>\n",
       "      <td>KOR</td>\n",
       "      <td></td>\n",
       "      <td></td>\n",
       "      <td>한국</td>\n",
       "      <td></td>\n",
       "      <td></td>\n",
       "      <td>I01Y001</td>\n",
       "      <td>18.1.1 본원통화</td>\n",
       "      <td>2000-02-01</td>\n",
       "      <td>십억원</td>\n",
       "    </tr>\n",
       "    <tr>\n",
       "      <th>869</th>\n",
       "      <td>24806.1</td>\n",
       "      <td>KOR</td>\n",
       "      <td></td>\n",
       "      <td></td>\n",
       "      <td>한국</td>\n",
       "      <td></td>\n",
       "      <td></td>\n",
       "      <td>I01Y001</td>\n",
       "      <td>18.1.1 본원통화</td>\n",
       "      <td>2000-03-01</td>\n",
       "      <td>십억원</td>\n",
       "    </tr>\n",
       "    <tr>\n",
       "      <th>870</th>\n",
       "      <td>25906.4</td>\n",
       "      <td>KOR</td>\n",
       "      <td></td>\n",
       "      <td></td>\n",
       "      <td>한국</td>\n",
       "      <td></td>\n",
       "      <td></td>\n",
       "      <td>I01Y001</td>\n",
       "      <td>18.1.1 본원통화</td>\n",
       "      <td>2000-04-01</td>\n",
       "      <td>십억원</td>\n",
       "    </tr>\n",
       "    <tr>\n",
       "      <th>871</th>\n",
       "      <td>25492.1</td>\n",
       "      <td>KOR</td>\n",
       "      <td></td>\n",
       "      <td></td>\n",
       "      <td>한국</td>\n",
       "      <td></td>\n",
       "      <td></td>\n",
       "      <td>I01Y001</td>\n",
       "      <td>18.1.1 본원통화</td>\n",
       "      <td>2000-05-01</td>\n",
       "      <td>십억원</td>\n",
       "    </tr>\n",
       "  </tbody>\n",
       "</table>\n",
       "</div>"
      ],
      "text/plain": [
       "    DATA_VALUE ITEM_CODE1 ITEM_CODE2 ITEM_CODE3 ITEM_NAME1 ITEM_NAME2  \\\n",
       "867    26618.7        KOR                               한국              \n",
       "868    25172.4        KOR                               한국              \n",
       "869    24806.1        KOR                               한국              \n",
       "870    25906.4        KOR                               한국              \n",
       "871    25492.1        KOR                               한국              \n",
       "\n",
       "    ITEM_NAME3 STAT_CODE    STAT_NAME        TIME UNIT_NAME  \n",
       "867              I01Y001  18.1.1 본원통화  2000-01-01      십억원   \n",
       "868              I01Y001  18.1.1 본원통화  2000-02-01      십억원   \n",
       "869              I01Y001  18.1.1 본원통화  2000-03-01      십억원   \n",
       "870              I01Y001  18.1.1 본원통화  2000-04-01      십억원   \n",
       "871              I01Y001  18.1.1 본원통화  2000-05-01      십억원   "
      ]
     },
     "execution_count": 7,
     "metadata": {},
     "output_type": "execute_result"
    }
   ],
   "source": [
    "df_base = df[df['ITEM_NAME1'] == '한국']\n",
    "df_base.head()"
   ]
  },
  {
   "cell_type": "code",
   "execution_count": 8,
   "metadata": {
    "slideshow": {
     "slide_type": "-"
    }
   },
   "outputs": [
    {
     "data": {
      "text/html": [
       "<div>\n",
       "<style scoped>\n",
       "    .dataframe tbody tr th:only-of-type {\n",
       "        vertical-align: middle;\n",
       "    }\n",
       "\n",
       "    .dataframe tbody tr th {\n",
       "        vertical-align: top;\n",
       "    }\n",
       "\n",
       "    .dataframe thead th {\n",
       "        text-align: right;\n",
       "    }\n",
       "</style>\n",
       "<table border=\"1\" class=\"dataframe\">\n",
       "  <thead>\n",
       "    <tr style=\"text-align: right;\">\n",
       "      <th></th>\n",
       "      <th>DATA_VALUE</th>\n",
       "      <th>ITEM_CODE1</th>\n",
       "      <th>ITEM_CODE2</th>\n",
       "      <th>ITEM_CODE3</th>\n",
       "      <th>ITEM_NAME1</th>\n",
       "      <th>ITEM_NAME2</th>\n",
       "      <th>ITEM_NAME3</th>\n",
       "      <th>STAT_CODE</th>\n",
       "      <th>STAT_NAME</th>\n",
       "      <th>TIME</th>\n",
       "      <th>UNIT_NAME</th>\n",
       "    </tr>\n",
       "  </thead>\n",
       "  <tbody>\n",
       "    <tr>\n",
       "      <th>838</th>\n",
       "      <td>168969</td>\n",
       "      <td>KOR</td>\n",
       "      <td></td>\n",
       "      <td></td>\n",
       "      <td>한국</td>\n",
       "      <td></td>\n",
       "      <td></td>\n",
       "      <td>I01Y002</td>\n",
       "      <td>18.1.2 협의통화</td>\n",
       "      <td>2000-01-01</td>\n",
       "      <td>십억원</td>\n",
       "    </tr>\n",
       "    <tr>\n",
       "      <th>839</th>\n",
       "      <td>171222</td>\n",
       "      <td>KOR</td>\n",
       "      <td></td>\n",
       "      <td></td>\n",
       "      <td>한국</td>\n",
       "      <td></td>\n",
       "      <td></td>\n",
       "      <td>I01Y002</td>\n",
       "      <td>18.1.2 협의통화</td>\n",
       "      <td>2000-02-01</td>\n",
       "      <td>십억원</td>\n",
       "    </tr>\n",
       "    <tr>\n",
       "      <th>840</th>\n",
       "      <td>173730.3</td>\n",
       "      <td>KOR</td>\n",
       "      <td></td>\n",
       "      <td></td>\n",
       "      <td>한국</td>\n",
       "      <td></td>\n",
       "      <td></td>\n",
       "      <td>I01Y002</td>\n",
       "      <td>18.1.2 협의통화</td>\n",
       "      <td>2000-03-01</td>\n",
       "      <td>십억원</td>\n",
       "    </tr>\n",
       "    <tr>\n",
       "      <th>841</th>\n",
       "      <td>182617.1</td>\n",
       "      <td>KOR</td>\n",
       "      <td></td>\n",
       "      <td></td>\n",
       "      <td>한국</td>\n",
       "      <td></td>\n",
       "      <td></td>\n",
       "      <td>I01Y002</td>\n",
       "      <td>18.1.2 협의통화</td>\n",
       "      <td>2000-04-01</td>\n",
       "      <td>십억원</td>\n",
       "    </tr>\n",
       "    <tr>\n",
       "      <th>842</th>\n",
       "      <td>179263.3</td>\n",
       "      <td>KOR</td>\n",
       "      <td></td>\n",
       "      <td></td>\n",
       "      <td>한국</td>\n",
       "      <td></td>\n",
       "      <td></td>\n",
       "      <td>I01Y002</td>\n",
       "      <td>18.1.2 협의통화</td>\n",
       "      <td>2000-05-01</td>\n",
       "      <td>십억원</td>\n",
       "    </tr>\n",
       "  </tbody>\n",
       "</table>\n",
       "</div>"
      ],
      "text/plain": [
       "    DATA_VALUE ITEM_CODE1 ITEM_CODE2 ITEM_CODE3 ITEM_NAME1 ITEM_NAME2  \\\n",
       "838     168969        KOR                               한국              \n",
       "839     171222        KOR                               한국              \n",
       "840   173730.3        KOR                               한국              \n",
       "841   182617.1        KOR                               한국              \n",
       "842   179263.3        KOR                               한국              \n",
       "\n",
       "    ITEM_NAME3 STAT_CODE    STAT_NAME        TIME UNIT_NAME  \n",
       "838              I01Y002  18.1.2 협의통화  2000-01-01      십억원   \n",
       "839              I01Y002  18.1.2 협의통화  2000-02-01      십억원   \n",
       "840              I01Y002  18.1.2 협의통화  2000-03-01      십억원   \n",
       "841              I01Y002  18.1.2 협의통화  2000-04-01      십억원   \n",
       "842              I01Y002  18.1.2 협의통화  2000-05-01      십억원   "
      ]
     },
     "execution_count": 8,
     "metadata": {},
     "output_type": "execute_result"
    }
   ],
   "source": [
    "df = query_ecos(\"I01Y002\", start_date, end_date, 'MM')\n",
    "\n",
    "df_m1 = df[df['ITEM_NAME1'] == '한국']\n",
    "df_m1.head()"
   ]
  },
  {
   "cell_type": "code",
   "execution_count": 9,
   "metadata": {
    "slideshow": {
     "slide_type": "-"
    }
   },
   "outputs": [
    {
     "data": {
      "text/html": [
       "<div>\n",
       "<style scoped>\n",
       "    .dataframe tbody tr th:only-of-type {\n",
       "        vertical-align: middle;\n",
       "    }\n",
       "\n",
       "    .dataframe tbody tr th {\n",
       "        vertical-align: top;\n",
       "    }\n",
       "\n",
       "    .dataframe thead th {\n",
       "        text-align: right;\n",
       "    }\n",
       "</style>\n",
       "<table border=\"1\" class=\"dataframe\">\n",
       "  <thead>\n",
       "    <tr style=\"text-align: right;\">\n",
       "      <th></th>\n",
       "      <th>DATA_VALUE</th>\n",
       "      <th>ITEM_CODE1</th>\n",
       "      <th>ITEM_CODE2</th>\n",
       "      <th>ITEM_CODE3</th>\n",
       "      <th>ITEM_NAME1</th>\n",
       "      <th>ITEM_NAME2</th>\n",
       "      <th>ITEM_NAME3</th>\n",
       "      <th>STAT_CODE</th>\n",
       "      <th>STAT_NAME</th>\n",
       "      <th>TIME</th>\n",
       "      <th>UNIT_NAME</th>\n",
       "    </tr>\n",
       "  </thead>\n",
       "  <tbody>\n",
       "    <tr>\n",
       "      <th>854</th>\n",
       "      <td>676895.4</td>\n",
       "      <td>KOR</td>\n",
       "      <td></td>\n",
       "      <td></td>\n",
       "      <td>한국</td>\n",
       "      <td></td>\n",
       "      <td></td>\n",
       "      <td>I01Y003</td>\n",
       "      <td>18.1.3 광의통화</td>\n",
       "      <td>2000-01-01</td>\n",
       "      <td>십억원</td>\n",
       "    </tr>\n",
       "    <tr>\n",
       "      <th>855</th>\n",
       "      <td>679807.1</td>\n",
       "      <td>KOR</td>\n",
       "      <td></td>\n",
       "      <td></td>\n",
       "      <td>한국</td>\n",
       "      <td></td>\n",
       "      <td></td>\n",
       "      <td>I01Y003</td>\n",
       "      <td>18.1.3 광의통화</td>\n",
       "      <td>2000-02-01</td>\n",
       "      <td>십억원</td>\n",
       "    </tr>\n",
       "    <tr>\n",
       "      <th>856</th>\n",
       "      <td>684735.3</td>\n",
       "      <td>KOR</td>\n",
       "      <td></td>\n",
       "      <td></td>\n",
       "      <td>한국</td>\n",
       "      <td></td>\n",
       "      <td></td>\n",
       "      <td>I01Y003</td>\n",
       "      <td>18.1.3 광의통화</td>\n",
       "      <td>2000-03-01</td>\n",
       "      <td>십억원</td>\n",
       "    </tr>\n",
       "    <tr>\n",
       "      <th>857</th>\n",
       "      <td>692399</td>\n",
       "      <td>KOR</td>\n",
       "      <td></td>\n",
       "      <td></td>\n",
       "      <td>한국</td>\n",
       "      <td></td>\n",
       "      <td></td>\n",
       "      <td>I01Y003</td>\n",
       "      <td>18.1.3 광의통화</td>\n",
       "      <td>2000-04-01</td>\n",
       "      <td>십억원</td>\n",
       "    </tr>\n",
       "    <tr>\n",
       "      <th>858</th>\n",
       "      <td>687687.3</td>\n",
       "      <td>KOR</td>\n",
       "      <td></td>\n",
       "      <td></td>\n",
       "      <td>한국</td>\n",
       "      <td></td>\n",
       "      <td></td>\n",
       "      <td>I01Y003</td>\n",
       "      <td>18.1.3 광의통화</td>\n",
       "      <td>2000-05-01</td>\n",
       "      <td>십억원</td>\n",
       "    </tr>\n",
       "  </tbody>\n",
       "</table>\n",
       "</div>"
      ],
      "text/plain": [
       "    DATA_VALUE ITEM_CODE1 ITEM_CODE2 ITEM_CODE3 ITEM_NAME1 ITEM_NAME2  \\\n",
       "854   676895.4        KOR                               한국              \n",
       "855   679807.1        KOR                               한국              \n",
       "856   684735.3        KOR                               한국              \n",
       "857     692399        KOR                               한국              \n",
       "858   687687.3        KOR                               한국              \n",
       "\n",
       "    ITEM_NAME3 STAT_CODE    STAT_NAME        TIME UNIT_NAME  \n",
       "854              I01Y003  18.1.3 광의통화  2000-01-01      십억원   \n",
       "855              I01Y003  18.1.3 광의통화  2000-02-01      십억원   \n",
       "856              I01Y003  18.1.3 광의통화  2000-03-01      십억원   \n",
       "857              I01Y003  18.1.3 광의통화  2000-04-01      십억원   \n",
       "858              I01Y003  18.1.3 광의통화  2000-05-01      십억원   "
      ]
     },
     "execution_count": 9,
     "metadata": {},
     "output_type": "execute_result"
    }
   ],
   "source": [
    "df = query_ecos(\"I01Y003\", start_date, end_date, 'MM')\n",
    "\n",
    "df_m2 = df[df['ITEM_NAME1'] == '한국']\n",
    "df_m2.head()"
   ]
  },
  {
   "cell_type": "markdown",
   "metadata": {
    "slideshow": {
     "slide_type": "slide"
    }
   },
   "source": [
    "# 통화량의 변화 차트"
   ]
  },
  {
   "cell_type": "code",
   "execution_count": 10,
   "metadata": {
    "slideshow": {
     "slide_type": "-"
    }
   },
   "outputs": [
    {
     "data": {
      "text/plain": [
       "<matplotlib.axes._subplots.AxesSubplot at 0x7f2aca3fdeb8>"
      ]
     },
     "execution_count": 10,
     "metadata": {},
     "output_type": "execute_result"
    },
    {
     "data": {
      "image/png": "[encoded data removed]",
      "text/plain": [
       "<matplotlib.figure.Figure at 0x7f2aca3fd748>"
      ]
     },
     "metadata": {},
     "output_type": "display_data"
    }
   ],
   "source": [
    "%matplotlib inline\n",
    "import pandas as pd\n",
    "\n",
    "df_plot = pd.DataFrame()\n",
    "df_plot['base'] = pd.to_numeric(df_base['DATA_VALUE'])\n",
    "df_plot['m1'] = pd.to_numeric(df_m1['DATA_VALUE'])\n",
    "df_plot['m2'] = pd.to_numeric(df_m2['DATA_VALUE'])\n",
    "\n",
    "df_plot.plot(figsize=(16,8), grid=True)"
   ]
  },
  {
   "cell_type": "markdown",
   "metadata": {
    "slideshow": {
     "slide_type": "notes"
    }
   },
   "source": [
    "----\n",
    "#### 2017, 2018 FinanceData http://fb.com/financedata http://financedata.github.com"
   ]
  }
 ],
 "metadata": {
  "celltoolbar": "Slideshow",
  "kernelspec": {
   "display_name": "Python 3",
   "language": "python",
   "name": "python3"
  },
  "language_info": {
   "codemirror_mode": {
    "name": "ipython",
    "version": 3
   },
   "file_extension": ".py",
   "mimetype": "text/x-python",
   "name": "python",
   "nbconvert_exporter": "python",
   "pygments_lexer": "ipython3",
   "version": "3.5.2"
  }
 },
 "nbformat": 4,
 "nbformat_minor": 1
}