{
 "cells": [
  {
   "cell_type": "markdown",
   "metadata": {},
   "source": [
    "a guide to colab markdown\n",
    "===\n",
    "a guide to colab markdown\n",
    "==\n",
    "\n",
    "### #\\#\\#a guide to colab markdown\n",
    "### \\#\\** _itatics_\n",
    "\n",
    "~~strikethrough~~\n",
    "\n",
    "> \\''monospace'\\'\n",
    "\n",
    "## a guide to colab markdown\n",
    "### a guide to colab markdown\n",
    "\n",
    "## 항목\n",
    "\n",
    "1. ?\n",
    "2. ??\n",
    "\n",
    "1. 1 one\n",
    "1. 1 two\n",
    "1. 1 three\n",
    "\n",
    ">$y=x^2$\n",
    "\n",
    ">$e^(i\\pi)+1=0$\n",
    "\n",
    ">$A_{m,n} =\n",
    "\\begin{pmatrix}\n",
    "a_{1,1}& \\cdots&a_{1,n}\\\\\n",
    "a_{2,1}& \\cdots&a_{2,n}\\\\\n",
    "\\vdots & \\ddots& \\vdots\\\\\n",
    "a_{m,1}& \\cdots&a_{m,n}\n",
    "\\end{pmatrix}$\n",
    "\n",
    "first column name | second column name\n",
    "--- | ---\n",
    "Row 1. Col 1 | Row 1. Col 2\n",
    "Row 2. Col 1 | Row 2. Col 2"
   ]
  },
  {
   "cell_type": "code",
   "execution_count": null,
   "metadata": {},
   "outputs": [],
   "source": []
  }
 ],
 "metadata": {
  "kernelspec": {
   "display_name": "Python 3",
   "language": "python",
   "name": "python3"
  },
  "language_info": {
   "codemirror_mode": {
    "name": "ipython",
    "version": 3
   },
   "file_extension": ".py",
   "mimetype": "text/x-python",
   "name": "python",
   "nbconvert_exporter": "python",
   "pygments_lexer": "ipython3",
   "version": "3.6.8"
  }
 },
 "nbformat": 4,
 "nbformat_minor": 2
}
