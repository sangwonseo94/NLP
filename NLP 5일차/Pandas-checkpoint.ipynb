{
 "cells": [
  {
   "cell_type": "code",
   "execution_count": 1,
   "metadata": {},
   "outputs": [
    {
     "data": {
      "text/plain": [
       "['Categorical',\n",
       " 'CategoricalDtype',\n",
       " 'CategoricalIndex',\n",
       " 'DataFrame',\n",
       " 'DateOffset',\n",
       " 'DatetimeIndex',\n",
       " 'DatetimeTZDtype',\n",
       " 'ExcelFile',\n",
       " 'ExcelWriter',\n",
       " 'Float64Index',\n",
       " 'Grouper',\n",
       " 'HDFStore',\n",
       " 'Index',\n",
       " 'IndexSlice',\n",
       " 'Int16Dtype',\n",
       " 'Int32Dtype',\n",
       " 'Int64Dtype',\n",
       " 'Int64Index',\n",
       " 'Int8Dtype',\n",
       " 'Interval',\n",
       " 'IntervalDtype',\n",
       " 'IntervalIndex',\n",
       " 'MultiIndex',\n",
       " 'NaT',\n",
       " 'Panel',\n",
       " 'Period',\n",
       " 'PeriodDtype',\n",
       " 'PeriodIndex',\n",
       " 'RangeIndex',\n",
       " 'Series',\n",
       " 'SparseArray',\n",
       " 'SparseDataFrame',\n",
       " 'SparseDtype',\n",
       " 'SparseSeries',\n",
       " 'TimeGrouper',\n",
       " 'Timedelta',\n",
       " 'TimedeltaIndex',\n",
       " 'Timestamp',\n",
       " 'UInt16Dtype',\n",
       " 'UInt32Dtype',\n",
       " 'UInt64Dtype',\n",
       " 'UInt64Index',\n",
       " 'UInt8Dtype',\n",
       " '__builtins__',\n",
       " '__cached__',\n",
       " '__doc__',\n",
       " '__docformat__',\n",
       " '__file__',\n",
       " '__git_version__',\n",
       " '__loader__',\n",
       " '__name__',\n",
       " '__package__',\n",
       " '__path__',\n",
       " '__spec__',\n",
       " '__version__',\n",
       " '_hashtable',\n",
       " '_lib',\n",
       " '_libs',\n",
       " '_np_version_under1p13',\n",
       " '_np_version_under1p14',\n",
       " '_np_version_under1p15',\n",
       " '_np_version_under1p16',\n",
       " '_np_version_under1p17',\n",
       " '_tslib',\n",
       " '_version',\n",
       " 'api',\n",
       " 'array',\n",
       " 'arrays',\n",
       " 'bdate_range',\n",
       " 'compat',\n",
       " 'concat',\n",
       " 'core',\n",
       " 'crosstab',\n",
       " 'cut',\n",
       " 'date_range',\n",
       " 'datetime',\n",
       " 'describe_option',\n",
       " 'errors',\n",
       " 'eval',\n",
       " 'factorize',\n",
       " 'get_dummies',\n",
       " 'get_option',\n",
       " 'infer_freq',\n",
       " 'interval_range',\n",
       " 'io',\n",
       " 'isna',\n",
       " 'isnull',\n",
       " 'lreshape',\n",
       " 'melt',\n",
       " 'merge',\n",
       " 'merge_asof',\n",
       " 'merge_ordered',\n",
       " 'notna',\n",
       " 'notnull',\n",
       " 'np',\n",
       " 'offsets',\n",
       " 'option_context',\n",
       " 'options',\n",
       " 'pandas',\n",
       " 'period_range',\n",
       " 'pivot',\n",
       " 'pivot_table',\n",
       " 'plotting',\n",
       " 'qcut',\n",
       " 'read_clipboard',\n",
       " 'read_csv',\n",
       " 'read_excel',\n",
       " 'read_feather',\n",
       " 'read_fwf',\n",
       " 'read_gbq',\n",
       " 'read_hdf',\n",
       " 'read_html',\n",
       " 'read_json',\n",
       " 'read_msgpack',\n",
       " 'read_parquet',\n",
       " 'read_pickle',\n",
       " 'read_sas',\n",
       " 'read_sql',\n",
       " 'read_sql_query',\n",
       " 'read_sql_table',\n",
       " 'read_stata',\n",
       " 'read_table',\n",
       " 'reset_option',\n",
       " 'set_eng_float_format',\n",
       " 'set_option',\n",
       " 'show_versions',\n",
       " 'test',\n",
       " 'testing',\n",
       " 'timedelta_range',\n",
       " 'to_datetime',\n",
       " 'to_msgpack',\n",
       " 'to_numeric',\n",
       " 'to_pickle',\n",
       " 'to_timedelta',\n",
       " 'tseries',\n",
       " 'unique',\n",
       " 'util',\n",
       " 'value_counts',\n",
       " 'wide_to_long']"
      ]
     },
     "execution_count": 1,
     "metadata": {},
     "output_type": "execute_result"
    }
   ],
   "source": [
    "import pandas as pd\n",
    "\n",
    "dir(pd)"
   ]
  },
  {
   "cell_type": "code",
   "execution_count": 10,
   "metadata": {},
   "outputs": [
    {
     "name": "stdout",
     "output_type": "stream",
     "text": [
      "RangeIndex(start=0, stop=3, step=1) [10 20 30]\n"
     ]
    },
    {
     "data": {
      "text/plain": [
       "10"
      ]
     },
     "execution_count": 10,
     "metadata": {},
     "output_type": "execute_result"
    }
   ],
   "source": [
    "Data= pd.Series([10,20,30])\n",
    "print(Data.index , Data.values)\n",
    "Data[0]"
   ]
  },
  {
   "cell_type": "markdown",
   "metadata": {},
   "source": [
    "Pandas Series / DataFrame\n",
    "\n",
    "Series => col 형식의 데이터처리 대문자 index와 values로 구성 1차원\n",
    "Dataframe => 2차원의 구조 (index ,columns, values)로 구성\n",
    "\n",
    "내부적으로 numpy를 사용하고 있다. pandas도"
   ]
  },
  {
   "cell_type": "code",
   "execution_count": 16,
   "metadata": {},
   "outputs": [],
   "source": [
    "pandas_data =pd.Series(['a','b','c',4,5])"
   ]
  },
  {
   "cell_type": "code",
   "execution_count": 17,
   "metadata": {},
   "outputs": [
    {
     "name": "stdout",
     "output_type": "stream",
     "text": [
      "0    a\n",
      "1    b\n",
      "2    c\n",
      "3    4\n",
      "4    5\n",
      "dtype: object\n"
     ]
    }
   ],
   "source": [
    "print(pandas_data)"
   ]
  },
  {
   "cell_type": "code",
   "execution_count": 15,
   "metadata": {},
   "outputs": [
    {
     "name": "stdout",
     "output_type": "stream",
     "text": [
      "[1 2 3 4 5]\n"
     ]
    }
   ],
   "source": [
    "print(pandas_data.values)"
   ]
  },
  {
   "cell_type": "code",
   "execution_count": 24,
   "metadata": {},
   "outputs": [
    {
     "data": {
      "text/plain": [
       "2018-07-07    200.0\n",
       "2018-07-10    195.0\n",
       "2018-07-09      NaN\n",
       "2019-07-10    205.0\n",
       "dtype: float64"
      ]
     },
     "execution_count": 24,
     "metadata": {},
     "output_type": "execute_result"
    }
   ],
   "source": [
    "import numpy as np\n",
    "index_data = [\"2018-07-07\",\"2018-07-10\",\"2018-07-09\",\"2019-07-10\"]\n",
    "s1 = pd.Series([200,195,np.NaN,205], index =index_data)\n",
    "s1"
   ]
  },
  {
   "cell_type": "markdown",
   "metadata": {},
   "source": [
    "index를 내가 설정할 수 있다. Series([],index = \"index \")"
   ]
  },
  {
   "cell_type": "code",
   "execution_count": 25,
   "metadata": {},
   "outputs": [
    {
     "name": "stdout",
     "output_type": "stream",
     "text": [
      "Int64Index([1, 2, 3], dtype='int64')\n"
     ]
    }
   ],
   "source": [
    "a1 = pd.Series({1:2,2:4,3:9})\n",
    "print(a1.index)"
   ]
  },
  {
   "cell_type": "code",
   "execution_count": 34,
   "metadata": {},
   "outputs": [
    {
     "name": "stdout",
     "output_type": "stream",
     "text": [
      "0    2019-01-31\n",
      "1    2019-02-28\n",
      "2    2019-03-31\n",
      "3    2019-04-30\n",
      "4    2019-05-31\n",
      "5    2019-06-30\n",
      "6    2019-07-31\n",
      "7    2019-08-31\n",
      "8    2019-09-30\n",
      "9    2019-10-31\n",
      "10   2019-11-30\n",
      "dtype: datetime64[ns]\n"
     ]
    }
   ],
   "source": [
    "print(pd.Series(pd.date_range(start='2019-01-01', end='2019-12/12', freq=\"M\")))"
   ]
  },
  {
   "cell_type": "code",
   "execution_count": 35,
   "metadata": {},
   "outputs": [
    {
     "name": "stdout",
     "output_type": "stream",
     "text": [
      "DatetimeIndex(['2019-01-01', '2019-01-02', '2019-01-03', '2019-01-04',\n",
      "               '2019-01-05', '2019-01-06', '2019-01-07', '2019-01-08',\n",
      "               '2019-01-09', '2019-01-10',\n",
      "               ...\n",
      "               '2019-12-22', '2019-12-23', '2019-12-24', '2019-12-25',\n",
      "               '2019-12-26', '2019-12-27', '2019-12-28', '2019-12-29',\n",
      "               '2019-12-30', '2019-12-31'],\n",
      "              dtype='datetime64[ns]', length=365, freq='D')\n"
     ]
    }
   ],
   "source": [
    "print(pd.date_range(start='2019/01/01', end='2019-12-31',freq='d'))"
   ]
  },
  {
   "cell_type": "code",
   "execution_count": 37,
   "metadata": {},
   "outputs": [
    {
     "name": "stdout",
     "output_type": "stream",
     "text": [
      "DatetimeIndex(['2019-01-01', '2019-02-20', '2019-04-11', '2019-05-31',\n",
      "               '2019-07-20', '2019-09-08', '2019-10-28', '2019-12-17'],\n",
      "              dtype='datetime64[ns]', freq='50D')\n"
     ]
    }
   ],
   "source": [
    "print(pd.date_range(start='2019/01/01', end='2019-12-31',freq='50d'))"
   ]
  },
  {
   "cell_type": "code",
   "execution_count": 39,
   "metadata": {},
   "outputs": [
    {
     "name": "stdout",
     "output_type": "stream",
     "text": [
      "DatetimeIndex(['2019-01-01', '2019-01-02', '2019-01-03', '2019-01-04',\n",
      "               '2019-01-07', '2019-01-08', '2019-01-09', '2019-01-10',\n",
      "               '2019-01-11', '2019-01-14',\n",
      "               ...\n",
      "               '2019-12-18', '2019-12-19', '2019-12-20', '2019-12-23',\n",
      "               '2019-12-24', '2019-12-25', '2019-12-26', '2019-12-27',\n",
      "               '2019-12-30', '2019-12-31'],\n",
      "              dtype='datetime64[ns]', length=261, freq='B')\n"
     ]
    }
   ],
   "source": [
    "print(pd.date_range(start='2019/01/01', end='2019-12-31',freq='B'))"
   ]
  },
  {
   "cell_type": "code",
   "execution_count": 41,
   "metadata": {},
   "outputs": [
    {
     "name": "stdout",
     "output_type": "stream",
     "text": [
      "DatetimeIndex(['2019-01-06', '2019-01-13', '2019-01-20', '2019-01-27',\n",
      "               '2019-02-03', '2019-02-10', '2019-02-17', '2019-02-24',\n",
      "               '2019-03-03', '2019-03-10', '2019-03-17', '2019-03-24',\n",
      "               '2019-03-31', '2019-04-07', '2019-04-14', '2019-04-21',\n",
      "               '2019-04-28', '2019-05-05', '2019-05-12', '2019-05-19',\n",
      "               '2019-05-26', '2019-06-02', '2019-06-09', '2019-06-16',\n",
      "               '2019-06-23', '2019-06-30', '2019-07-07', '2019-07-14',\n",
      "               '2019-07-21', '2019-07-28', '2019-08-04', '2019-08-11',\n",
      "               '2019-08-18', '2019-08-25', '2019-09-01', '2019-09-08',\n",
      "               '2019-09-15', '2019-09-22', '2019-09-29', '2019-10-06',\n",
      "               '2019-10-13', '2019-10-20', '2019-10-27', '2019-11-03',\n",
      "               '2019-11-10', '2019-11-17', '2019-11-24', '2019-12-01',\n",
      "               '2019-12-08', '2019-12-15', '2019-12-22', '2019-12-29'],\n",
      "              dtype='datetime64[ns]', freq='W-SUN')\n"
     ]
    }
   ],
   "source": [
    "print(pd.date_range(start='2019/01/01', end='2019-12-31',freq='W'))"
   ]
  },
  {
   "cell_type": "code",
   "execution_count": 42,
   "metadata": {},
   "outputs": [
    {
     "name": "stdout",
     "output_type": "stream",
     "text": [
      "DatetimeIndex(['2019-01-31', '2019-05-31', '2019-09-30'], dtype='datetime64[ns]', freq='4M')\n"
     ]
    }
   ],
   "source": [
    "print(pd.date_range(start='2019/01/01', end='2019-12-31',freq='4M'))"
   ]
  },
  {
   "cell_type": "code",
   "execution_count": 43,
   "metadata": {},
   "outputs": [
    {
     "name": "stdout",
     "output_type": "stream",
     "text": [
      "DatetimeIndex(['2019-01-31', '2019-04-30', '2019-07-31', '2019-10-31'], dtype='datetime64[ns]', freq='3M')\n"
     ]
    }
   ],
   "source": [
    "print(pd.date_range(start='2019/01/01', end='2019-12-31',freq='3M'))"
   ]
  },
  {
   "cell_type": "code",
   "execution_count": 44,
   "metadata": {
    "scrolled": true
   },
   "outputs": [
    {
     "name": "stdout",
     "output_type": "stream",
     "text": [
      "DatetimeIndex(['2019-01-31', '2019-03-31', '2019-05-31', '2019-07-31',\n",
      "               '2019-09-30', '2019-11-30'],\n",
      "              dtype='datetime64[ns]', freq='2M')\n"
     ]
    }
   ],
   "source": [
    "print(pd.date_range(start='2019/01/01', end='2019-12-31',freq='2M'))"
   ]
  },
  {
   "cell_type": "code",
   "execution_count": 68,
   "metadata": {},
   "outputs": [
    {
     "name": "stdout",
     "output_type": "stream",
     "text": [
      "DatetimeIndex(['2019-01-01 00:00:00', '2019-01-01 00:10:00',\n",
      "               '2019-01-01 00:20:00', '2019-01-01 00:30:00',\n",
      "               '2019-01-01 00:40:00', '2019-01-01 00:50:00',\n",
      "               '2019-01-01 01:00:00', '2019-01-01 01:10:00',\n",
      "               '2019-01-01 01:20:00', '2019-01-01 01:30:00',\n",
      "               '2019-01-01 01:40:00', '2019-01-01 01:50:00',\n",
      "               '2019-01-01 02:00:00', '2019-01-01 02:10:00',\n",
      "               '2019-01-01 02:20:00', '2019-01-01 02:30:00',\n",
      "               '2019-01-01 02:40:00', '2019-01-01 02:50:00',\n",
      "               '2019-01-01 03:00:00', '2019-01-01 03:10:00',\n",
      "               '2019-01-01 03:20:00', '2019-01-01 03:30:00',\n",
      "               '2019-01-01 03:40:00', '2019-01-01 03:50:00',\n",
      "               '2019-01-01 04:00:00', '2019-01-01 04:10:00',\n",
      "               '2019-01-01 04:20:00', '2019-01-01 04:30:00',\n",
      "               '2019-01-01 04:40:00', '2019-01-01 04:50:00',\n",
      "               '2019-01-01 05:00:00', '2019-01-01 05:10:00',\n",
      "               '2019-01-01 05:20:00', '2019-01-01 05:30:00',\n",
      "               '2019-01-01 05:40:00', '2019-01-01 05:50:00',\n",
      "               '2019-01-01 06:00:00', '2019-01-01 06:10:00',\n",
      "               '2019-01-01 06:20:00', '2019-01-01 06:30:00',\n",
      "               '2019-01-01 06:40:00', '2019-01-01 06:50:00',\n",
      "               '2019-01-01 07:00:00', '2019-01-01 07:10:00',\n",
      "               '2019-01-01 07:20:00', '2019-01-01 07:30:00',\n",
      "               '2019-01-01 07:40:00', '2019-01-01 07:50:00',\n",
      "               '2019-01-01 08:00:00', '2019-01-01 08:10:00',\n",
      "               '2019-01-01 08:20:00', '2019-01-01 08:30:00',\n",
      "               '2019-01-01 08:40:00', '2019-01-01 08:50:00',\n",
      "               '2019-01-01 09:00:00', '2019-01-01 09:10:00',\n",
      "               '2019-01-01 09:20:00', '2019-01-01 09:30:00',\n",
      "               '2019-01-01 09:40:00', '2019-01-01 09:50:00',\n",
      "               '2019-01-01 10:00:00', '2019-01-01 10:10:00',\n",
      "               '2019-01-01 10:20:00', '2019-01-01 10:30:00',\n",
      "               '2019-01-01 10:40:00', '2019-01-01 10:50:00',\n",
      "               '2019-01-01 11:00:00', '2019-01-01 11:10:00',\n",
      "               '2019-01-01 11:20:00', '2019-01-01 11:30:00',\n",
      "               '2019-01-01 11:40:00', '2019-01-01 11:50:00',\n",
      "               '2019-01-01 12:00:00', '2019-01-01 12:10:00',\n",
      "               '2019-01-01 12:20:00', '2019-01-01 12:30:00',\n",
      "               '2019-01-01 12:40:00', '2019-01-01 12:50:00',\n",
      "               '2019-01-01 13:00:00', '2019-01-01 13:10:00',\n",
      "               '2019-01-01 13:20:00', '2019-01-01 13:30:00',\n",
      "               '2019-01-01 13:40:00', '2019-01-01 13:50:00',\n",
      "               '2019-01-01 14:00:00', '2019-01-01 14:10:00',\n",
      "               '2019-01-01 14:20:00', '2019-01-01 14:30:00',\n",
      "               '2019-01-01 14:40:00', '2019-01-01 14:50:00',\n",
      "               '2019-01-01 15:00:00', '2019-01-01 15:10:00',\n",
      "               '2019-01-01 15:20:00', '2019-01-01 15:30:00',\n",
      "               '2019-01-01 15:40:00', '2019-01-01 15:50:00',\n",
      "               '2019-01-01 16:00:00', '2019-01-01 16:10:00',\n",
      "               '2019-01-01 16:20:00', '2019-01-01 16:30:00'],\n",
      "              dtype='datetime64[ns]', freq='10T')\n"
     ]
    }
   ],
   "source": [
    "print(pd.date_range(start='2019', periods=100 ,freq='10t'))"
   ]
  },
  {
   "cell_type": "code",
   "execution_count": 72,
   "metadata": {},
   "outputs": [
    {
     "data": {
      "text/html": [
       "<div>\n",
       "<style scoped>\n",
       "    .dataframe tbody tr th:only-of-type {\n",
       "        vertical-align: middle;\n",
       "    }\n",
       "\n",
       "    .dataframe tbody tr th {\n",
       "        vertical-align: top;\n",
       "    }\n",
       "\n",
       "    .dataframe thead th {\n",
       "        text-align: right;\n",
       "    }\n",
       "</style>\n",
       "<table border=\"1\" class=\"dataframe\">\n",
       "  <thead>\n",
       "    <tr style=\"text-align: right;\">\n",
       "      <th></th>\n",
       "      <th>0</th>\n",
       "      <th>1</th>\n",
       "      <th>2</th>\n",
       "    </tr>\n",
       "  </thead>\n",
       "  <tbody>\n",
       "    <tr>\n",
       "      <th>0</th>\n",
       "      <td>1</td>\n",
       "      <td>2</td>\n",
       "      <td>3</td>\n",
       "    </tr>\n",
       "    <tr>\n",
       "      <th>1</th>\n",
       "      <td>4</td>\n",
       "      <td>5</td>\n",
       "      <td>6</td>\n",
       "    </tr>\n",
       "    <tr>\n",
       "      <th>2</th>\n",
       "      <td>7</td>\n",
       "      <td>8</td>\n",
       "      <td>9</td>\n",
       "    </tr>\n",
       "  </tbody>\n",
       "</table>\n",
       "</div>"
      ],
      "text/plain": [
       "   0  1  2\n",
       "0  1  2  3\n",
       "1  4  5  6\n",
       "2  7  8  9"
      ]
     },
     "execution_count": 72,
     "metadata": {},
     "output_type": "execute_result"
    }
   ],
   "source": [
    "pd.DataFrame([[1,2,3],[4,5,6],[7,8,9]])"
   ]
  },
  {
   "cell_type": "code",
   "execution_count": 73,
   "metadata": {},
   "outputs": [
    {
     "data": {
      "text/html": [
       "<div>\n",
       "<style scoped>\n",
       "    .dataframe tbody tr th:only-of-type {\n",
       "        vertical-align: middle;\n",
       "    }\n",
       "\n",
       "    .dataframe tbody tr th {\n",
       "        vertical-align: top;\n",
       "    }\n",
       "\n",
       "    .dataframe thead th {\n",
       "        text-align: right;\n",
       "    }\n",
       "</style>\n",
       "<table border=\"1\" class=\"dataframe\">\n",
       "  <thead>\n",
       "    <tr style=\"text-align: right;\">\n",
       "      <th></th>\n",
       "      <th>1</th>\n",
       "      <th>2</th>\n",
       "      <th>3</th>\n",
       "    </tr>\n",
       "  </thead>\n",
       "  <tbody>\n",
       "    <tr>\n",
       "      <th>1</th>\n",
       "      <td>10</td>\n",
       "      <td>20</td>\n",
       "      <td>30</td>\n",
       "    </tr>\n",
       "    <tr>\n",
       "      <th>2</th>\n",
       "      <td>40</td>\n",
       "      <td>50</td>\n",
       "      <td>60</td>\n",
       "    </tr>\n",
       "    <tr>\n",
       "      <th>3</th>\n",
       "      <td>70</td>\n",
       "      <td>80</td>\n",
       "      <td>90</td>\n",
       "    </tr>\n",
       "  </tbody>\n",
       "</table>\n",
       "</div>"
      ],
      "text/plain": [
       "    1   2   3\n",
       "1  10  20  30\n",
       "2  40  50  60\n",
       "3  70  80  90"
      ]
     },
     "execution_count": 73,
     "metadata": {},
     "output_type": "execute_result"
    }
   ],
   "source": [
    "data_list = np.array(\n",
    "[\n",
    "    [10,20,30],\n",
    "    [40,50,60],\n",
    "    [70,80,90]\n",
    "]\n",
    ")\n",
    "pd.DataFrame(data_list, index=[1,2,3], columns=[1,2,3])"
   ]
  },
  {
   "cell_type": "code",
   "execution_count": 93,
   "metadata": {},
   "outputs": [
    {
     "data": {
      "text/html": [
       "<div>\n",
       "<style scoped>\n",
       "    .dataframe tbody tr th:only-of-type {\n",
       "        vertical-align: middle;\n",
       "    }\n",
       "\n",
       "    .dataframe tbody tr th {\n",
       "        vertical-align: top;\n",
       "    }\n",
       "\n",
       "    .dataframe thead th {\n",
       "        text-align: right;\n",
       "    }\n",
       "</style>\n",
       "<table border=\"1\" class=\"dataframe\">\n",
       "  <thead>\n",
       "    <tr style=\"text-align: right;\">\n",
       "      <th></th>\n",
       "      <th>a</th>\n",
       "      <th>b</th>\n",
       "      <th>c</th>\n",
       "    </tr>\n",
       "  </thead>\n",
       "  <tbody>\n",
       "    <tr>\n",
       "      <th>2019-01-01</th>\n",
       "      <td>10</td>\n",
       "      <td>20</td>\n",
       "      <td>30</td>\n",
       "    </tr>\n",
       "    <tr>\n",
       "      <th>2019-01-02</th>\n",
       "      <td>40</td>\n",
       "      <td>50</td>\n",
       "      <td>60</td>\n",
       "    </tr>\n",
       "    <tr>\n",
       "      <th>2019-01-03</th>\n",
       "      <td>70</td>\n",
       "      <td>80</td>\n",
       "      <td>90</td>\n",
       "    </tr>\n",
       "  </tbody>\n",
       "</table>\n",
       "</div>"
      ],
      "text/plain": [
       "             a   b   c\n",
       "2019-01-01  10  20  30\n",
       "2019-01-02  40  50  60\n",
       "2019-01-03  70  80  90"
      ]
     },
     "execution_count": 93,
     "metadata": {},
     "output_type": "execute_result"
    }
   ],
   "source": [
    "index_range = pd.date_range(start=\"2019.01.01\",periods=3,freq='d')\n",
    "pd.DataFrame(data_list, index = index_range, columns=['a','b','c'])"
   ]
  },
  {
   "cell_type": "code",
   "execution_count": 92,
   "metadata": {},
   "outputs": [
    {
     "name": "stdout",
     "output_type": "stream",
     "text": [
      "   연도  고객수  위치\n",
      "1  15  200  서울\n",
      "2  16  300  인천\n",
      "3  17  400  부산\n",
      "4  18  500  경기\n"
     ]
    },
    {
     "data": {
      "text/plain": [
       "Index(['연도', '고객수', '위치'], dtype='object')"
      ]
     },
     "execution_count": 92,
     "metadata": {},
     "output_type": "execute_result"
    }
   ],
   "source": [
    "dict_ = {\n",
    "    '연도' : [15,16,17,18] , \n",
    "    '고객수':[200,300,400,500],\n",
    "    '위치' : ['서울','인천','부산','경기']\n",
    "}\n",
    "index_ =np.array([1,2,3,4])\n",
    "df=pd.DataFrame(dict_ , index=index_)\n",
    "print(df)\n",
    "df.index\n",
    "df.columns\n"
   ]
  },
  {
   "cell_type": "markdown",
   "metadata": {},
   "source": [
    "values가 array형태로 저장이 된다."
   ]
  },
  {
   "cell_type": "code",
   "execution_count": null,
   "metadata": {},
   "outputs": [],
   "source": []
  }
 ],
 "metadata": {
  "kernelspec": {
   "display_name": "Python 3",
   "language": "python",
   "name": "python3"
  },
  "language_info": {
   "codemirror_mode": {
    "name": "ipython",
    "version": 3
   },
   "file_extension": ".py",
   "mimetype": "text/x-python",
   "name": "python",
   "nbconvert_exporter": "python",
   "pygments_lexer": "ipython3",
   "version": "3.6.8"
  }
 },
 "nbformat": 4,
 "nbformat_minor": 2
}
