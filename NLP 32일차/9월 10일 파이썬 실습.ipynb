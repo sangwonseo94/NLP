{
 "cells": [
  {
   "cell_type": "code",
   "execution_count": 1,
   "metadata": {},
   "outputs": [],
   "source": [
    "#시험 예상문제?\n",
    "# RSS에서  요약된 링크 안에 있는 20개의 서로다른 기사에서 명사만 추출하기!"
   ]
  },
  {
   "cell_type": "code",
   "execution_count": 15,
   "metadata": {},
   "outputs": [],
   "source": [
    "import requests\n",
    "from bs4 import BeautifulSoup\n",
    "from nltk.tag import pos_tag\n",
    "from nltk.tokenize import word_tokenize\n",
    "from konlpy.tag import Mecab\n",
    "import re\n",
    "string_ = []"
   ]
  },
  {
   "cell_type": "code",
   "execution_count": 16,
   "metadata": {},
   "outputs": [],
   "source": [
    "meta_url = \"http://rss.hankooki.com/daily/dh_society.xml\"\n",
    "meta_r = requests.get(meta_url)\n",
    "meta_soup = BeautifulSoup(meta_r.content,\"xml\")\n",
    "link_list = meta_soup.select(\"item > link\")\n",
    "meta_string =\"\""
   ]
  },
  {
   "cell_type": "code",
   "execution_count": 25,
   "metadata": {},
   "outputs": [],
   "source": [
    "def reg(string):\n",
    "    string = string.strip()\n",
    "    string = string.replace('[',\"\")\n",
    "    string = string.replace('\\n',\"\")\n",
    "    string = string.replace('\\t',\"\")\n",
    "    string = string.replace(']',\"\")\n",
    "    string = string.replace('기자',\"\")\n",
    "    return string"
   ]
  },
  {
   "cell_type": "code",
   "execution_count": 4,
   "metadata": {},
   "outputs": [],
   "source": []
  },
  {
   "cell_type": "code",
   "execution_count": 28,
   "metadata": {},
   "outputs": [],
   "source": [
    "for link in link_list : \n",
    "    r = requests.get(link.text)\n",
    "    soup = BeautifulSoup(r.content, \"html.parser\")\n",
    "    temp = soup.select_one(\"#GS_Content\").text\n",
    "    string_.append(reg(temp))\n",
    "    \n",
    "for i in range(len(string_)):\n",
    "    meta_string += str(string_[i])\n",
    "mecab = Mecab()\n",
    "meta = mecab.nouns(meta_string)\n",
    "meta = [word for word in meta if len(word) > 1 ]\n",
    "meta = set(meta)"
   ]
  },
  {
   "cell_type": "code",
   "execution_count": null,
   "metadata": {},
   "outputs": [],
   "source": []
  },
  {
   "cell_type": "code",
   "execution_count": 37,
   "metadata": {},
   "outputs": [
    {
     "name": "stdout",
     "output_type": "stream",
     "text": [
      "[<div class=\"last size4\" id=\"GS_Content\" itemprop=\"articleBody\">\n",
      "<!--DCM_BODY-->\n",
      "<!--HANKOOKI_DEF GISA_CONTENTS-->\n",
      "<div class=\"gisaimg\"><ul><li><img id=\"relPhoto1\" onload=\"SetSumSize(this)\" src=\"http://photo.hankooki.com/newsphoto/v001/2019/09/10/gun131320190910095938_X_02_C_1.jpg\"/></li><li class=\"caption\" id=\"caption1\">2019년 7~8월 시도지사 직무수행 지지도. 그래픽=리얼미터 제공</li></ul></div>[데일리한국 주현태 기자] 여론조사 전문기관 리얼미터가 지난 8월24일부터 8월30일까지 7일간 1만7000명의 국민을 대상으로 여론조사한 ‘2019년 8월 전국 17개 시도지사 직무수행 평가’ 결과, 김영록 전남도지사의 지지율(‘잘한다’ 긍정평가)이 한 달 전 7월 조사 대비 1.2%p 오른 64.4%로 4개월 연속 1위를 기록한 것으로 나타났다. 김영록 지사는 전국 17개 시도지사 중 유일하게 60%대 이상의 지지율을 기록했다.<br/><br/>이용섭 광주시장은 2.5%p 오른 57.5%로 순위 변동 없이 2위를 이어갔다. 이철우 경북지사는 0.1%p 오른 51.2%로 지난달에 이어 횡보했으나 두 순위 상승하며 3개월 만에 다시 톱3에 진입했다.<br/><br/>이어 제주 원희룡 지사(49.6%)가 다섯 순위 오른 4위, 충남 양승조 지사(48.8%)가 다섯 순위 오른 5위, 대구 권영진 시장(48.1%)이 6위로 상위권을 기록했다.<br/><br/><span id=\"AD_GISA_PHOTO_LINE\"></span>다음으로 서울 박원순 시장(47.5%)이 네 순위 내린 7위, 네 순위 내린 충북 이시종 지사(46.3%)와 전북 송하진 지사 (46.3%)가 공동 8위, 강원 최문순 지사(45.4%)가 세 순위 내린 10위, 대전 허태정 시장(42.5%)이 두 순위 오른 11위, 세종 이춘희 시장(40.9%)이 한 순위 내린 12위로 중위권에 올랐다.<br/><br/>한편 경기 이재명 지사(40.2%)가 한 순위 오른 13위, 부산 오거돈 시장(36.7%)이 한 순위 오른 14위, 경남 김경수 지사(36.3%)가 세 순위 내린 15위, 인천 박남춘 시장(35.9%)이 16위, 울산 송철호 시장(31.3%)이 마지막 17위로 하위권으로 조사됐다.<br/><br/>광역시장별로 보면, 광주 이용섭 시장(57.5%)이 1위, 대구 권영진 시장(48.1%)이 2위, 서울 박원순 시장(47.5%)이 3위, 대전 허태정 시장(42.5%)이 4위, 세종 이춘희 시장(40.9%)이 5위, 부산 오거돈 시장(36.7%)이 6위, 인천 박남춘 시장(35.9%)이 7위, 울산 송철호 시장(31.3%)이 8위를 기록했다.<br/><br/>도지사별로는 전남 김영록 지사(64.4%)가 1위, 경북 이철우 지사(51.2%)가 2위, 제주 원희룡 지사(49.6%)가 3위, 충남 양승조 지사(48.8%)가 4위, 충북 이시종 지사(46.3%)와 전북 송하진 지사(46.3%)가 공동 5위, 강원 최문순 지사(45.4%)가 7위, 경기 이재명 지사(40.2%)가 8위, 경남 김경수 지사(36.3%)가 9위로 나타났다.<br/><br/>이번 8월 조사에서 17개 시도지사 전체의 평균 긍정평가(지지율)는 45.2%로 7월(46.4%) 대비 1.2%p 낮았고, 평균 부정평가는 41.8%로 7월(40.8%)보다 1.0%p 높은 것으로 집계됐다.<br/><br/><div class=\"gisaimg\"><ul><li><img id=\"relPhoto2\" onload=\"SetSumSize(this)\" src=\"http://photo.hankooki.com/newsphoto/v001/2019/09/10/gun131320190910095942_X_02_C_1.jpg\"/></li><li class=\"caption\" id=\"caption2\">2019년 7~8월 시도교육감 직무수행 지지도. 그래픽=리얼미터 제공</li></ul></div>2019년 8월 시도교육감 TOP3는 전남 장석웅, 대전 설동호, 전북 김승환 교육감 순으로 나타났다.<br/><br/>2019년 8월 전국 17개 시도교육감 직무수행 평가 조사에서는, 전남 장석웅 교육감의 지지율(‘잘한다’ 긍정평가)이 7월 조사 대비 1.2%p 오른 51.5%로 4개월 연속 1위를 기록한 것으로 나타났다. 장 교육감은 전국 17개 시도교육감 중 유일하게 50%대 이상의 지지율을 유지했다.<br/><br/>설동호 대전교육감은 0.3%p 내린 42.9%로 2위를 기록, 지난 9월 조사 이후 11개월 만에 톱3에 진입하며 자신의 최고 순위를 기록했다. 김승환 전북교육감은 5.7%p 내린 42.2%로 한 순위 하락했으나 톱3를 유지했다.<br/><br/>이어 광주 장휘국 교육감(41.4%)이 세 순위 오른 4위, 제주 이석문 교육감(40.9%)이 5위, 대구 강은희 교육감(40.8%) 이 두 순위 오른 6위로 상위권을 형성했다.<br/><br/>다음으로 경북 임종식 교육감(40.6%)이 세 순위 오른 7위, 부산 김석준 교육감(40.2%)이 한 순위 오른 8위, 여섯 순위<br/><br/>내린 서울 조희연 교육감(39.1%)과 세 순위 오른 울산 노옥희 교육감(39.1%)이 공동 9위, 충북 김병우 교육감(38.8%) 이 다섯 순위 내린 11위, 충남 김지철 교육감(38.5%)이 한 순위 내린 12위로 중위권에 올랐다.<br/><br/>한편 세종 최교진 교육감(36.5%)이 한 순위 오른 13위, 경기 이재정 교육감(36.3%)이 한 순위 오른 14위, 강원 민병희 교육감(35.3%)이 두 순위 내린 15위, 경남 박종훈 교육감(32.6%)이 16위, 인천 도성훈 교육감(29.3%)이 17위로 하위권으로 조사됐다.<br/><br/>시교육감별로 보면, 대전 설동호 교육감(42.9%)이 1위, 광주 장휘국 교육감(41.4%)이 2위, 대구 강은희 교육감(40.8%)이 3위, 부산 김석준 교육감(40.2%)이 4위, 서울 조희연 교육감(39.1%)과 울산 노옥희 교육감(39.1%)이 공동 5위, 세종 최교진 교육감(36.5%)이 7위, 인천 도성훈 교육감(29.3%)이 8위를 기록했다.<br/><br/>도교육감별로는 전남 장석웅 교육감(51.5%)이 1위, 전북 김승환 교육감(42.2%)이 2위, 제주 이석문 교육감(40.9%)이 3위, 경북 임종식 교육감(40.6%)이 4위, 충북 김병우 교육감(38.8%)이 5위, 충남 김지철 교육감(38.5%)이 6위, 경기 이재정 교육감(36.3%)이 7위, 강원 민병희 교육감(35.3%)이 8위, 경남 박종훈 교육감(32.6%)이 9위로 나타났다.<br/><br/>이번 2019년 8월 조사에서 17개 시도교육감 전체의 평균 긍정평가는 39.2%로 7월(40.7%) 대비 1.5%p 낮았고, 평균 부정평가는 42.2%로 7월(40.4%)보다 1.8%p 높은 것으로 집계됐다.<br/><br/><div class=\"gisaimg\"><ul><li><img id=\"relPhoto3\" onload=\"SetSumSize(this)\" src=\"http://photo.hankooki.com/newsphoto/v001/2019/09/10/gun131320190910095949_X_02_C_1.jpg\"/></li><li class=\"caption\" id=\"caption3\">2019년 7~8월 시도 주민생활 만족도. 그래픽=리얼미터 제공</li></ul></div>2019년 6월 시도 주민생활 만족도 TOP3 전남, 제주, 서울 순으로 조사됐다.<br/><br/>2019년 8월 전국 17개 시도 주민생활 만족도 조사에서는, 전라남도가 62.5%의 만족도로 7월 조사 대비 0.9%p 내렸으나 4개월 연속 1위를 기록한 것으로 나타났다.<br/><br/>제주특별자치도는 0.4%p 오른 59.6%로 한 순위 상승한 2위에 올랐고, 서울특별시는 0.9%p 내린 59.2%로 한 순위 하락했으나 톱3를 유지했다.<br/><br/>이어 광주(59.1%)가 4위, 경기(57.3%)가 5위, 대전(55.1%)이 두 순위 오른 6위로 상위권을 형성했다. 다음으로 대구(52.4%)가 두 순위 오른 7위, 부산(52.3%)이 세 순위 오른 8위, 충북(51.7%)이 두 순위 내린 9위, 네 순위 내린 강원(51.3%)과 다섯 순위 오른 전북(51.3%)이 공동 10위, 인천(50.7%)이 두 순위 내린 12위로 중위권에 올랐다.<br/><br/>한편 경북(50.3%)이 세 순위 오른 13위, 세종(49.1%)이 두 순위 내린 14위, 충남(48.2%)이 두 순위 내린 15위, 울산(46.6%)이 한 순위 오른 16위, 네 순위 내린 경남(42.6%)이 마지막 17위로 조사됐다.<br/><br/>광역시로 보면, 서울(59.2%)이 1위, 광주(59.1%)가 2위, 대전(55.1%)이 3위, 대구(52.4%)가 4위, 부산(52.3%)이 5위, 인천(50.7%)이 6위, 세종(49.1%)이 7위, 울산(46.6%)이 8위를 기록했다.<br/><br/>도별로는 전남(62.5%)이 1위, 제주(59.6%)가 2위, 경기(57.3%)가 3위, 충북(51.7%)이 4위, 강원(51.3%)과 전북(51.3%)이 공동 5위, 경북(50.3%)이 7위, 충남(48.2%)이 8위, 경남(42.6%)이 9위로 나타났다.<br/><br/>이번 2019년 8월 조사에서 17개 시·도 전체의 평균 주민생활 만족도는 52.9%로 7월(53.2%) 대비 0.3%p 낮았고, 평균 불만족도 역시 40.7%로 7월(41.0%)보다 0.3%p 낮은 것으로 집계됐다.<br/><br/> <!--HANKOOKI_DEF GISA_CONTENTS END-->\n",
      "<!--/DCM_BODY-->\n",
      "<!-- 기자소개 -->\n",
      "<div class=\"reporter-list\">\n",
      "<span class=\"photo\"><img alt=\"기자소개\" src=\"http://img.hankooki.com/daily/2018/07/reporter-photo.gif\"/></span>\n",
      "<span class=\"name\">주현태 기자 </span>\n",
      "<span class=\"nextgisa\"><a href=\"http://daily.hankooki.com/Article/SearchList.php?mode=JGNAMES&amp;wr=주현태 기자 \"><img alt=\"다른기사보기\" src=\"http://img.hankooki.com/daily/2018/07/nextgisa.gif\"/></a></span>\n",
      "</div>\n",
      "<!-- //기자소개 -->\n",
      "</div>]\n"
     ]
    }
   ],
   "source": [
    "r = requests.get(link_list[0].text)\n",
    "soup = BeautifulSoup(r.content, \"html.parser\")\n",
    "temp = soup.select(\"body > table > tbody > tr:nth-child(178) > td.line-content\")\n",
    "print(temp)"
   ]
  },
  {
   "cell_type": "code",
   "execution_count": null,
   "metadata": {},
   "outputs": [],
   "source": [
    "RSS 는 XML파일이기대문에 파서는 XML로 해야한다."
   ]
  }
 ],
 "metadata": {
  "kernelspec": {
   "display_name": "Python 3",
   "language": "python",
   "name": "python3"
  },
  "language_info": {
   "codemirror_mode": {
    "name": "ipython",
    "version": 3
   },
   "file_extension": ".py",
   "mimetype": "text/x-python",
   "name": "python",
   "nbconvert_exporter": "python",
   "pygments_lexer": "ipython3",
   "version": "3.7.4"
  }
 },
 "nbformat": 4,
 "nbformat_minor": 2
}
