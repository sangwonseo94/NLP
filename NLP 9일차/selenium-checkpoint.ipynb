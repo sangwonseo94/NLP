{
 "cells": [
  {
   "cell_type": "code",
   "execution_count": 7,
   "metadata": {},
   "outputs": [],
   "source": [
    "from selenium import webdriver\n",
    "path =\"\"\n",
    "driver = webdriver.Chrome()\n",
    "driver.get('http://google.com')\n",
    "search_box = driver.find_element_by_name(\"q\") #q라는 element 지정 name = q\n",
    "search_box.send_keys(\"개발새발 블로그\") #키워드전달\n",
    "search_box.submit() #type = submit을 실행"
   ]
  },
  {
   "cell_type": "code",
   "execution_count": null,
   "metadata": {},
   "outputs": [],
   "source": [
    "find_element_by_css_selector #css 선택자로 실행~"
   ]
  },
  {
   "cell_type": "markdown",
   "metadata": {},
   "source": [
    "https://www.seleniumhg.org 셀레니움 연습-1\n",
    "https://I0o02.github.io/2018/06/12/python=crawling-selenium-1/ 셀레니움 연습-2"
   ]
  },
  {
   "cell_type": "code",
   "execution_count": null,
   "metadata": {},
   "outputs": [],
   "source": []
  }
 ],
 "metadata": {
  "kernelspec": {
   "display_name": "Python 3",
   "language": "python",
   "name": "python3"
  },
  "language_info": {
   "codemirror_mode": {
    "name": "ipython",
    "version": 3
   },
   "file_extension": ".py",
   "mimetype": "text/x-python",
   "name": "python",
   "nbconvert_exporter": "python",
   "pygments_lexer": "ipython3",
   "version": "3.6.8"
  }
 },
 "nbformat": 4,
 "nbformat_minor": 2
}
