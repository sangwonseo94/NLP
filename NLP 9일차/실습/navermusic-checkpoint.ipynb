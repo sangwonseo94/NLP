{
 "cells": [
  {
   "cell_type": "code",
   "execution_count": 93,
   "metadata": {},
   "outputs": [
    {
     "name": "stdout",
     "output_type": "stream",
     "text": [
      "그대라는 시 태연 (TAEYEON)\n",
      "술이 문제야 장혜진\n",
      "헤어져줘서 고마워 윤민수\n",
      "Snapping 벤\n",
      "2002 청하\n",
      "ICY Anne-Marie\n",
      "Speechless (Full) ITZY(있지)\n",
      "사랑에 연습이 있었다면 (Prod. 2soo) Naomi Scott\n",
      "작은 것들을 위한 시 (Boy With Luv) (Feat. Halsey) 임재현\n",
      "너에게 못했던 내 마지막 말은 방탄소년단\n"
     ]
    }
   ],
   "source": [
    "import requests\n",
    "from bs4 import BeautifulSoup\n",
    "\n",
    "\n",
    "html = requests.get(\"https://search.naver.com/search.naver?sm=tab_hty.top&where=nexearch&query=%EC%A3%BC%EA%B0%84%EC%9D%8C%EC%95%85%EC%88%9C%EC%9C%84&oquery=%EC%A3%BC%EA%B0%84%EC%B0%A8%ED%8A%B8&tqi=URB4ElprvxZssOe0YsKssssstPK-116782\").text\n",
    "soup =BeautifulSoup(html,'lxml')\n",
    "name = [i.get_text() for i in soup.select(\"div.title > a\")]\n",
    "singer = [i.get_text() for i in soup.select(\"a.singer\")]\n",
    "\n",
    "for i,j in zip(name,singer):\n",
    "    print(i,j)\n"
   ]
  },
  {
   "cell_type": "code",
   "execution_count": 182,
   "metadata": {},
   "outputs": [
    {
     "name": "stdout",
     "output_type": "stream",
     "text": [
      "그대라는 시\n",
      "술이 문제야\n",
      "헤어져줘서 고마워\n",
      "2002\n",
      "Speechless (Full)\n",
      "뭐해 (What are you up to)\n",
      "Snapping\n",
      "사랑에 연습이 있었다면 (Prod. 2soo)\n",
      "ICY\n",
      "작은 것들을 위한 시 (Boy With Luv) (Feat. Halsey)\n",
      "너에게 못했던 내 마지막 말은\n",
      "니 소식\n",
      "솔직하게 말해서 나\n",
      "I HOPE\n",
      "bad guy\n",
      "Horizon\n",
      "Color\n",
      "포장마차\n",
      "Intro (Through the night)\n",
      "비가 내리는 날에는\n",
      "A Whole New World\n",
      "오늘도 빛나는 너에게 (To You My Light) (Feat. 이라온)\n",
      "FANCY\n",
      "Señorita\n"
     ]
    },
    {
     "ename": "UnicodeEncodeError",
     "evalue": "'cp949' codec can't encode character '\\xf1' in position 2: illegal multibyte sequence",
     "output_type": "error",
     "traceback": [
      "\u001b[1;31m---------------------------------------------------------------------------\u001b[0m",
      "\u001b[1;31mUnicodeEncodeError\u001b[0m                        Traceback (most recent call last)",
      "\u001b[1;32m<ipython-input-182-ad82401a1fa9>\u001b[0m in \u001b[0;36m<module>\u001b[1;34m\u001b[0m\n\u001b[0;32m     26\u001b[0m         \u001b[0mprint\u001b[0m\u001b[1;33m(\u001b[0m\u001b[0mtitle\u001b[0m\u001b[1;33m[\u001b[0m\u001b[0mk\u001b[0m\u001b[1;33m]\u001b[0m\u001b[1;33m)\u001b[0m\u001b[1;33m\u001b[0m\u001b[1;33m\u001b[0m\u001b[0m\n\u001b[0;32m     27\u001b[0m \u001b[1;33m\u001b[0m\u001b[0m\n\u001b[1;32m---> 28\u001b[1;33m         \u001b[0mf\u001b[0m\u001b[1;33m.\u001b[0m\u001b[0mwrite\u001b[0m\u001b[1;33m(\u001b[0m\u001b[0mtitle\u001b[0m\u001b[1;33m[\u001b[0m\u001b[0mk\u001b[0m\u001b[1;33m]\u001b[0m\u001b[1;33m.\u001b[0m\u001b[0mstrip\u001b[0m\u001b[1;33m(\u001b[0m\u001b[1;33m)\u001b[0m\u001b[1;33m)\u001b[0m\u001b[1;33m\u001b[0m\u001b[1;33m\u001b[0m\u001b[0m\n\u001b[0m\u001b[0;32m     29\u001b[0m \u001b[1;33m\u001b[0m\u001b[0m\n\u001b[0;32m     30\u001b[0m \u001b[1;33m\u001b[0m\u001b[0m\n",
      "\u001b[1;31mUnicodeEncodeError\u001b[0m: 'cp949' codec can't encode character '\\xf1' in position 2: illegal multibyte sequence"
     ]
    }
   ],
   "source": [
    "import pandas as pd\n",
    "import glob\n",
    "def remove_tap(artist):\n",
    "    for i in range(0,len(artist)):\n",
    "        artist[i]=artist[i].strip()\n",
    "    return artist\n",
    "\n",
    "def parsing(url):\n",
    "    html = requests.get(url).text\n",
    "    soup = BeautifulSoup(html,'lxml')\n",
    "    title = [i.get_text() for i in soup.select(\" a._title.title\")]\n",
    "    artist = [i.get_text() for i in soup.select(\"td._artist.artist\")] \n",
    "    artist = remove_tap(artist)\n",
    "    return title,artist\n",
    "\n",
    "file_name = \"c:/myPyCode/data/naverMusic.txt\"\n",
    "f= open(file_name,'w')\n",
    "url_list =[]\n",
    "\n",
    "for i in range(1,13):\n",
    "    for k in range(1,5):\n",
    "        url_list.append(\"https://music.naver.com/listen/history/index.nhn?type=TOTAL&year=2016&month=\"+str(i)+\"&week=\"+str(k))\n",
    "for url in url_list:\n",
    "    title, artist =parsing(url)\n",
    "    f.write(\"________________{0}년 {1}월 {2}째주 노래순위________________\".format(url[65:69],url[76:77],url[83:85]))\n",
    "    for k in range(0,len(title)):\n",
    "        print(title[k])\n",
    "\n",
    "        f.write(title[k].strip())\n",
    "        \n",
    "        \n",
    "f.close()\n",
    "glob.glob(file_name)"
   ]
  },
  {
   "cell_type": "code",
   "execution_count": null,
   "metadata": {},
   "outputs": [],
   "source": []
  }
 ],
 "metadata": {
  "kernelspec": {
   "display_name": "Python 3",
   "language": "python",
   "name": "python3"
  },
  "language_info": {
   "codemirror_mode": {
    "name": "ipython",
    "version": 3
   },
   "file_extension": ".py",
   "mimetype": "text/x-python",
   "name": "python",
   "nbconvert_exporter": "python",
   "pygments_lexer": "ipython3",
   "version": "3.6.8"
  }
 },
 "nbformat": 4,
 "nbformat_minor": 2
}
