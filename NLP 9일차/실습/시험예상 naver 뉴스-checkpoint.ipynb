{
 "cells": [
  {
   "cell_type": "code",
   "execution_count": 1,
   "metadata": {},
   "outputs": [
    {
     "name": "stdout",
     "output_type": "stream",
     "text": [
      "https://search.naver.com/search.naver?where=news&query=%EA%B0%95%EC%95%84%EC%A7%80&start=1\n",
      "강아지 분양, 고양이 분양업체 아담스펫, 반려동물 양육인들에게 호평이 이어...\n",
      "http://www.kbsm.net/default/index_view_page.php?idx=250350&part_idx=333\n",
      "'그랜드 부다개스트' 레나, 종영 소감 \"강아지들과 함께라 행복한 시간\"\n",
      "http://www.m-i.kr/news/articleView.html?idxno=627720\n",
      "7월만 12만마리 ‘강아지 주민등록증’ 발급…유기견 줄어들까\n",
      "https://news.joins.com/article/olink/23137312\n",
      "가맹점 모집과 여름맞이 이벤트를 실시 중인 강아지 분양업체 '차일드독' 전국...\n",
      "https://www.dailysecu.com/news/articleView.html?idxno=61114\n",
      "[Pick] '짧은 목줄' 차고 방치된 강아지…뜨거운 햇볕 아래 '헉헉'\n",
      "https://news.sbs.co.kr/news/endPage.do?news_id=N1005384290&plink=ORI&cooper=NAVER\n",
      "멀티 펫샵 펫인쥬, 의정부 강아지 분양 진행\n",
      "http://famtimes.co.kr/news/view/339063\n",
      "강아지분양 및 고양이분양 전문 '펫왕국' 차별화된 운영을 선보이며 분양시장...\n",
      "http://www.jejuilbo.net/news/articleView.html?idxno=127388\n",
      "'텅'장 돼도 아깝지 않은 강아지 '고급 장난감'\n",
      "http://www.notepet.co.kr/news/article/article_view/?idx=16474&groupCode=AB700AD710\n",
      "'무엇이든물어보살' 서장훈, 천사얼굴 강아지에 풍덩\n",
      "https://www.tvreport.co.kr/2000756\n",
      "목줄에 묶인 채 '땡볕'에 방치돼 그늘 코앞에 두고 '헥헥' 거리기만 한 강아지\n",
      "https://www.insight.co.kr/news/240040\n"
     ]
    }
   ],
   "source": [
    "import requests\n",
    "from bs4 import BeautifulSoup\n",
    "NAVER_SEARCH_URL = \"https://search.naver.com/search.naver\"\n",
    "query = \"강아지\"\n",
    "\n",
    "news_list = []\n",
    "for i in range(1):\n",
    "    start_var = 1\n",
    "    params = {\n",
    "        'where' : 'news',\n",
    "        'query' : query,\n",
    "        'start' : (i*10) +1\n",
    "    }\n",
    "    # 검색 결과를 가져온다 (page별로)\n",
    "    resp = requests.get(NAVER_SEARCH_URL, params = params)\n",
    "    print(resp.url)\n",
    "    \n",
    "    soup = BeautifulSoup(resp.content, 'html.parser')\n",
    "    newsitem = soup.select('ul dl > dt > a')\n",
    "    # print(soup)\n",
    "    # print(soup)\n",
    "    for atag in newsitem:\n",
    "        print(atag.text)\n",
    "        print(atag['href'])\n",
    "        news_dict = {}\n",
    "        news_dict['title'] = atag.text\n",
    "        news_dict['link'] = atag['href']\n",
    "        news_list.append(news_dict)"
   ]
  },
  {
   "cell_type": "code",
   "execution_count": null,
   "metadata": {},
   "outputs": [],
   "source": []
  }
 ],
 "metadata": {
  "kernelspec": {
   "display_name": "Python 3",
   "language": "python",
   "name": "python3"
  },
  "language_info": {
   "codemirror_mode": {
    "name": "ipython",
    "version": 3
   },
   "file_extension": ".py",
   "mimetype": "text/x-python",
   "name": "python",
   "nbconvert_exporter": "python",
   "pygments_lexer": "ipython3",
   "version": "3.6.8"
  }
 },
 "nbformat": 4,
 "nbformat_minor": 2
}
