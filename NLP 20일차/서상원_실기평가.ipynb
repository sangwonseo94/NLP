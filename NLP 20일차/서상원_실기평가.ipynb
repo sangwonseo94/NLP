{
 "cells": [
  {
   "cell_type": "code",
   "execution_count": 14,
   "metadata": {},
   "outputs": [],
   "source": [
    "import torch\n",
    "import torch.nn as nn\n",
    "import torch.optim as optimizer"
   ]
  },
  {
   "cell_type": "code",
   "execution_count": 15,
   "metadata": {},
   "outputs": [
    {
     "name": "stdout",
     "output_type": "stream",
     "text": [
      "tensor(3.)\n"
     ]
    }
   ],
   "source": [
    "#1 default  = FloatTensor\n",
    "Tensor_1 = torch.Tensor([1,2,3,4,5])\n",
    "print(Tensor_1.mean())"
   ]
  },
  {
   "cell_type": "code",
   "execution_count": 16,
   "metadata": {},
   "outputs": [
    {
     "name": "stdout",
     "output_type": "stream",
     "text": [
      "tensor(11.)\n"
     ]
    }
   ],
   "source": [
    "#2 default  = FloatTensor\n",
    "\n",
    "m1 = torch.Tensor([\n",
    "    [1,2],\n",
    "    [3,4]\n",
    "])\n",
    "m2 = torch.Tensor([\n",
    "    [1],[2]\n",
    "])\n",
    "\n",
    "Result_Tensor = torch.mm(m1,m2)\n",
    "print(Result_Tensor.max())"
   ]
  },
  {
   "cell_type": "code",
   "execution_count": 32,
   "metadata": {},
   "outputs": [
    {
     "name": "stdout",
     "output_type": "stream",
     "text": [
      "Epoch : 0 cost : 2.76\n",
      "Epoch : 100 cost : 1.88\n",
      "Epoch : 200 cost : 1.23\n",
      "Epoch : 300 cost : 0.77\n",
      "Epoch : 400 cost : 0.46\n",
      "Epoch : 500 cost : 0.26\n",
      "Epoch : 600 cost : 0.14\n",
      "Epoch : 700 cost : 0.07\n",
      "Epoch : 800 cost : 0.03\n",
      "Epoch : 900 cost : 0.01\n",
      "Epoch : 1000 cost : 0.01\n"
     ]
    }
   ],
   "source": [
    "#3\n",
    "class Mylinear(nn.Module):\n",
    "    def __init__(self):\n",
    "        super().__init__()\n",
    "        self.Linear = nn.Linear(1,3)\n",
    "    def forward(self,data):\n",
    "        return self.Linear(data)\n",
    "\n",
    "x_train = torch.Tensor([[1],[2],[3]])\n",
    "y_train = torch.Tensor([[1],[2],[3]])\n",
    "model = Mylinear()\n",
    "\n",
    "optimizer_ =  optimizer.Adam(model.parameters())\n",
    "# adam optimize self lr\n",
    "for Epoch in range(1001):\n",
    "    hypothesis = model.forward(x_train)\n",
    "    cost = torch.mean(hypothesis - y_train)**2\n",
    "    \n",
    "    optimizer_.zero_grad()\n",
    "    cost.backward()\n",
    "    optimizer_.step()\n",
    "    \n",
    "    if Epoch % 100 == 0 : \n",
    "        print(\"Epoch : {} cost : {:.2f}\".format(Epoch, cost.item()))"
   ]
  },
  {
   "cell_type": "code",
   "execution_count": null,
   "metadata": {},
   "outputs": [],
   "source": []
  }
 ],
 "metadata": {
  "kernelspec": {
   "display_name": "Python 3",
   "language": "python",
   "name": "python3"
  },
  "language_info": {
   "codemirror_mode": {
    "name": "ipython",
    "version": 3
   },
   "file_extension": ".py",
   "mimetype": "text/x-python",
   "name": "python",
   "nbconvert_exporter": "python",
   "pygments_lexer": "ipython3",
   "version": "3.6.9"
  }
 },
 "nbformat": 4,
 "nbformat_minor": 2
}
