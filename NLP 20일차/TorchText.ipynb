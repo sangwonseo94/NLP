{
 "cells": [
  {
   "cell_type": "code",
   "execution_count": 1,
   "metadata": {},
   "outputs": [
    {
     "name": "stdout",
     "output_type": "stream",
     "text": [
      "Collecting torchtext\n",
      "  Downloading https://files.pythonhosted.org/packages/43/94/929d6bd236a4fb5c435982a7eb9730b78dcd8659acf328fd2ef9de85f483/torchtext-0.4.0-py3-none-any.whl (53kB)\n",
      "Requirement already satisfied: requests in c:\\anaconda3\\envs\\pytorch\\lib\\site-packages (from torchtext) (2.22.0)\n",
      "Collecting tqdm (from torchtext)\n",
      "  Downloading https://files.pythonhosted.org/packages/a5/83/06029af22fe06b8a7be013aeae5e104b3ed26867e5d4ca91408b30aa602e/tqdm-4.34.0-py2.py3-none-any.whl (50kB)\n",
      "Requirement already satisfied: numpy in c:\\anaconda3\\envs\\pytorch\\lib\\site-packages (from torchtext) (1.16.4)\n",
      "Requirement already satisfied: six in c:\\anaconda3\\envs\\pytorch\\lib\\site-packages (from torchtext) (1.12.0)\n",
      "Requirement already satisfied: torch in c:\\anaconda3\\envs\\pytorch\\lib\\site-packages (from torchtext) (1.0.0)\n",
      "Requirement already satisfied: idna<2.9,>=2.5 in c:\\anaconda3\\envs\\pytorch\\lib\\site-packages (from requests->torchtext) (2.8)\n",
      "Requirement already satisfied: urllib3!=1.25.0,!=1.25.1,<1.26,>=1.21.1 in c:\\anaconda3\\envs\\pytorch\\lib\\site-packages (from requests->torchtext) (1.24.2)\n",
      "Requirement already satisfied: certifi>=2017.4.17 in c:\\anaconda3\\envs\\pytorch\\lib\\site-packages (from requests->torchtext) (2019.6.16)\n",
      "Requirement already satisfied: chardet<3.1.0,>=3.0.2 in c:\\anaconda3\\envs\\pytorch\\lib\\site-packages (from requests->torchtext) (3.0.4)\n",
      "Installing collected packages: tqdm, torchtext\n",
      "Successfully installed torchtext-0.4.0 tqdm-4.34.0\n"
     ]
    }
   ],
   "source": [
    "!pip install torchtext"
   ]
  },
  {
   "cell_type": "code",
   "execution_count": null,
   "metadata": {},
   "outputs": [],
   "source": [
    "from torchtext import data\n",
    "class DataLoader(object):\n",
    "    def __init__(self, train_fn,valid_fn, batch_size=64, device = -1, max_vocab =999999,min_freq = 1, use_eos= False , shuffle = True):\n",
    "        super(self).__init__()\n",
    "        "
   ]
  }
 ],
 "metadata": {
  "kernelspec": {
   "display_name": "Python 3",
   "language": "python",
   "name": "python3"
  },
  "language_info": {
   "codemirror_mode": {
    "name": "ipython",
    "version": 3
   },
   "file_extension": ".py",
   "mimetype": "text/x-python",
   "name": "python",
   "nbconvert_exporter": "python",
   "pygments_lexer": "ipython3",
   "version": "3.6.9"
  }
 },
 "nbformat": 4,
 "nbformat_minor": 2
}
