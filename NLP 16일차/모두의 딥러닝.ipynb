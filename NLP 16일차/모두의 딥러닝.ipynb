{
 "cells": [
  {
   "cell_type": "code",
   "execution_count": 8,
   "metadata": {},
   "outputs": [],
   "source": [
    "import numpy\n",
    "import torch"
   ]
  },
  {
   "cell_type": "code",
   "execution_count": 20,
   "metadata": {},
   "outputs": [],
   "source": [
    "t =torch.FloatTensor([[1,2,3],[4,5,6]])\n"
   ]
  },
  {
   "cell_type": "code",
   "execution_count": null,
   "metadata": {},
   "outputs": [],
   "source": []
  },
  {
   "cell_type": "code",
   "execution_count": 21,
   "metadata": {},
   "outputs": [
    {
     "name": "stdout",
     "output_type": "stream",
     "text": [
      "tensor([])\n",
      "tensor([4., 5., 6.])\n",
      "torch.Size([2, 3])\n"
     ]
    }
   ],
   "source": [
    "print(t[4:-1])\n",
    "print(t[-1])\n",
    "print(t.shape)"
   ]
  },
  {
   "cell_type": "code",
   "execution_count": 22,
   "metadata": {},
   "outputs": [
    {
     "name": "stdout",
     "output_type": "stream",
     "text": [
      "torch.Size([2, 3])\n"
     ]
    }
   ],
   "source": [
    "print(t.size())"
   ]
  },
  {
   "cell_type": "code",
   "execution_count": 23,
   "metadata": {},
   "outputs": [
    {
     "name": "stdout",
     "output_type": "stream",
     "text": [
      "2\n"
     ]
    }
   ],
   "source": [
    "print(t.dim())"
   ]
  },
  {
   "cell_type": "code",
   "execution_count": 33,
   "metadata": {},
   "outputs": [
    {
     "name": "stdout",
     "output_type": "stream",
     "text": [
      "tensor([[ 1.,  2.,  3.],\n",
      "        [ 4.,  5.,  6.],\n",
      "        [ 7.,  8.,  9.],\n",
      "        [10., 11., 12.]])\n",
      "tensor([ 2.,  5.,  8., 11.])\n"
     ]
    }
   ],
   "source": [
    "t_2 = torch.Tensor([\n",
    "    [1,2,3],\n",
    "    [4,5,6],\n",
    "    \n",
    "    [7,8,9],\n",
    "    [10,11,12]   \n",
    "])\n",
    "print(t_2)\n",
    "print(t_2[:,1]) # 1열 출력"
   ]
  },
  {
   "cell_type": "code",
   "execution_count": 28,
   "metadata": {},
   "outputs": [
    {
     "name": "stdout",
     "output_type": "stream",
     "text": [
      "2 torch.Size([4, 3]) torch.Size([4, 3])\n"
     ]
    }
   ],
   "source": [
    "print(t_2.dim() , t_2.shape , t_2.size())"
   ]
  },
  {
   "cell_type": "code",
   "execution_count": 67,
   "metadata": {},
   "outputs": [
    {
     "name": "stdout",
     "output_type": "stream",
     "text": [
      "tensor([[103., 104.],\n",
      "        [203., 204.]])\n",
      "torch.Size([2, 1])\n",
      "torch.Size([1, 2])\n"
     ]
    }
   ],
   "source": [
    "m1 = torch.Tensor([[100,200]]).t()\n",
    "m2 = torch.Tensor([[3],[4]]).t()\n",
    "print(m1+m2)\n",
    "print(m1.shape)\n",
    "print(m2.shape)\n",
    "m3 = torch.mm(m1,m2)"
   ]
  },
  {
   "cell_type": "code",
   "execution_count": 71,
   "metadata": {},
   "outputs": [
    {
     "name": "stdout",
     "output_type": "stream",
     "text": [
      "tensor([350., 700.])\n",
      "tensor([450., 600.])\n",
      "tensor(525.)\n"
     ]
    }
   ],
   "source": [
    "print(m3.mean(dim=1))\n",
    "print(m3.mean(dim=0))\n",
    "print(m3.mean())"
   ]
  },
  {
   "cell_type": "code",
   "execution_count": 102,
   "metadata": {},
   "outputs": [
    {
     "name": "stdout",
     "output_type": "stream",
     "text": [
      "tensor(10.)\n",
      "tensor([4., 6.])\n",
      "tensor([3., 7.])\n"
     ]
    }
   ],
   "source": [
    "t = torch.Tensor([[1,2],[3,4]])\n",
    "print(t.sum())\n",
    "print(t.sum(dim=0))\n",
    "print(t.sum(dim=-1))"
   ]
  },
  {
   "cell_type": "code",
   "execution_count": 86,
   "metadata": {},
   "outputs": [
    {
     "name": "stdout",
     "output_type": "stream",
     "text": [
      "tensor(30.)\n",
      "tensor([10., 20., 30.])\n",
      "tensor([2, 2, 2])\n",
      "(tensor([ 3., 10., 30.]), tensor([2, 1, 2]))\n",
      "(tensor([10., 20., 30.]), tensor([2, 2, 2]))\n",
      "(tensor([ 3., 10., 30.]), tensor([2, 1, 2]))\n"
     ]
    }
   ],
   "source": [
    "#max 실습 \n",
    "#max는 가장큰 element의 index를 반환한다.\n",
    "t = torch.Tensor([\n",
    "    [1,2,3],\n",
    "    [5,10,7],\n",
    "    [10,20,30]\n",
    "])\n",
    "print(t.max())\n",
    "print(t.max(dim=0)[0])\n",
    "print(t.max(dim=0)[1])\n",
    "print(t.max(dim=1))\n",
    "print(t.max(dim=0))\n",
    "print(t.max(dim=-1))"
   ]
  },
  {
   "cell_type": "code",
   "execution_count": 87,
   "metadata": {},
   "outputs": [
    {
     "name": "stdout",
     "output_type": "stream",
     "text": [
      "torch.Size([2, 2, 3])\n"
     ]
    }
   ],
   "source": [
    "ft = torch.Tensor([\n",
    "    \n",
    "    [[0,2,4],\n",
    "     [3,6,9]],\n",
    "    [[7,8,9],\n",
    "    [10,20,30]]\n",
    "                ])\n",
    "print(ft.shape)"
   ]
  },
  {
   "cell_type": "code",
   "execution_count": 93,
   "metadata": {},
   "outputs": [
    {
     "name": "stdout",
     "output_type": "stream",
     "text": [
      "tensor([[ 0.,  2.,  4.],\n",
      "        [ 3.,  6.,  9.],\n",
      "        [ 7.,  8.,  9.],\n",
      "        [10., 20., 30.]])\n",
      "torch.Size([4, 3])\n"
     ]
    }
   ],
   "source": [
    "print(ft.view([4,3]))\n",
    "print(ft.view([4,3]).shape)"
   ]
  },
  {
   "cell_type": "code",
   "execution_count": 100,
   "metadata": {},
   "outputs": [
    {
     "name": "stdout",
     "output_type": "stream",
     "text": [
      "tensor([[[ 0.,  2.],\n",
      "         [ 4.,  3.]],\n",
      "\n",
      "        [[ 6.,  9.],\n",
      "         [ 7.,  8.]],\n",
      "\n",
      "        [[ 9., 10.],\n",
      "         [20., 30.]]])\n"
     ]
    }
   ],
   "source": [
    "print(ft.view([-1,2,2]))"
   ]
  },
  {
   "cell_type": "code",
   "execution_count": 103,
   "metadata": {},
   "outputs": [
    {
     "name": "stdout",
     "output_type": "stream",
     "text": [
      "tensor([[0.],\n",
      "        [1.],\n",
      "        [2.]])\n"
     ]
    }
   ],
   "source": [
    "ft = torch.Tensor([[0],[1],[2]])\n",
    "print(ft)"
   ]
  },
  {
   "cell_type": "code",
   "execution_count": 104,
   "metadata": {},
   "outputs": [
    {
     "name": "stdout",
     "output_type": "stream",
     "text": [
      "torch.Size([3, 1])\n"
     ]
    }
   ],
   "source": [
    "print(ft.shape)"
   ]
  },
  {
   "cell_type": "code",
   "execution_count": 105,
   "metadata": {},
   "outputs": [
    {
     "name": "stdout",
     "output_type": "stream",
     "text": [
      "tensor([0., 1., 2.])\n"
     ]
    }
   ],
   "source": [
    "print(ft.squeeze())"
   ]
  },
  {
   "cell_type": "code",
   "execution_count": 107,
   "metadata": {},
   "outputs": [
    {
     "name": "stdout",
     "output_type": "stream",
     "text": [
      "tensor([[0.],\n",
      "        [1.],\n",
      "        [2.]])\n"
     ]
    }
   ],
   "source": [
    "print(ft.squeeze(0))"
   ]
  },
  {
   "cell_type": "code",
   "execution_count": 117,
   "metadata": {},
   "outputs": [
    {
     "name": "stdout",
     "output_type": "stream",
     "text": [
      "tensor([[0.],\n",
      "        [1.],\n",
      "        [2.]])\n"
     ]
    }
   ],
   "source": [
    "print(ft.squeeze(-2))"
   ]
  },
  {
   "cell_type": "code",
   "execution_count": 116,
   "metadata": {},
   "outputs": [
    {
     "name": "stdout",
     "output_type": "stream",
     "text": [
      "tensor([[[0.],\n",
      "         [1.],\n",
      "         [2.]]])\n"
     ]
    }
   ],
   "source": [
    "print(ft.unsqueeze(0))"
   ]
  },
  {
   "cell_type": "code",
   "execution_count": 119,
   "metadata": {},
   "outputs": [
    {
     "name": "stdout",
     "output_type": "stream",
     "text": [
      "tensor([1, 2, 3, 4])\n",
      "tensor([1., 2., 3., 4.])\n"
     ]
    }
   ],
   "source": [
    "lt = torch.LongTensor([1,2,3,4])\n",
    "print(lt)\n",
    "print(lt.float())"
   ]
  },
  {
   "cell_type": "code",
   "execution_count": 122,
   "metadata": {},
   "outputs": [
    {
     "name": "stdout",
     "output_type": "stream",
     "text": [
      "tensor([[1., 2.],\n",
      "        [3., 4.],\n",
      "        [5., 6.],\n",
      "        [7., 8.]])\n",
      "tensor([[1., 2., 5., 6.],\n",
      "        [3., 4., 7., 8.]])\n"
     ]
    }
   ],
   "source": [
    "x = torch.Tensor([[1,2], [3,4]])\n",
    "y = torch.Tensor([[5,6], [7,8]])\n",
    "print(torch.cat([x,y], dim = 0))\n",
    "print(torch.cat([x,y], dim = 1)) # col이 증가하는 방향 ->"
   ]
  },
  {
   "cell_type": "code",
   "execution_count": 127,
   "metadata": {},
   "outputs": [
    {
     "name": "stdout",
     "output_type": "stream",
     "text": [
      "torch.Size([2, 3])\n",
      "torch.Size([3, 2])\n"
     ]
    }
   ],
   "source": [
    "z = torch.Tensor([6,7])\n",
    "x = torch.Tensor([1,2])\n",
    "y = torch.Tensor([3,4])\n",
    "print(torch.stack([x,y,z], dim = 1).size())\n",
    "print(torch.stack([x,y,z], dim = 0).size())"
   ]
  },
  {
   "cell_type": "code",
   "execution_count": 128,
   "metadata": {},
   "outputs": [],
   "source": [
    "temp = torch.Tensor([[1,2,3],[1,2,3]])"
   ]
  },
  {
   "cell_type": "code",
   "execution_count": 129,
   "metadata": {},
   "outputs": [
    {
     "name": "stdout",
     "output_type": "stream",
     "text": [
      "tensor([[0., 0., 0.],\n",
      "        [0., 0., 0.]])\n",
      "tensor([[1., 1., 1.],\n",
      "        [1., 1., 1.]])\n"
     ]
    }
   ],
   "source": [
    "print(torch.zeros_like(temp))\n",
    "print(torch.ones_like(temp))"
   ]
  },
  {
   "cell_type": "code",
   "execution_count": 133,
   "metadata": {},
   "outputs": [
    {
     "name": "stdout",
     "output_type": "stream",
     "text": [
      "tensor([[2., 4., 6.],\n",
      "        [2., 4., 6.]])\n"
     ]
    }
   ],
   "source": [
    "print(temp.mul(2))"
   ]
  },
  {
   "cell_type": "code",
   "execution_count": 134,
   "metadata": {},
   "outputs": [
    {
     "name": "stdout",
     "output_type": "stream",
     "text": [
      "tensor([[1., 2., 3.],\n",
      "        [1., 2., 3.]])\n"
     ]
    }
   ],
   "source": [
    "print(temp)"
   ]
  },
  {
   "cell_type": "code",
   "execution_count": 135,
   "metadata": {},
   "outputs": [
    {
     "name": "stdout",
     "output_type": "stream",
     "text": [
      "tensor([[2., 4., 6.],\n",
      "        [2., 4., 6.]])\n"
     ]
    }
   ],
   "source": [
    "print(temp.mul_(2))\n"
   ]
  },
  {
   "cell_type": "code",
   "execution_count": 136,
   "metadata": {},
   "outputs": [
    {
     "name": "stdout",
     "output_type": "stream",
     "text": [
      "tensor([[2., 4., 6.],\n",
      "        [2., 4., 6.]])\n"
     ]
    }
   ],
   "source": [
    "print(temp)"
   ]
  },
  {
   "cell_type": "code",
   "execution_count": 145,
   "metadata": {},
   "outputs": [
    {
     "name": "stdout",
     "output_type": "stream",
     "text": [
      "tensor([[2., 4., 6.],\n",
      "        [2., 4., 6.]])\n",
      "torch.Size([2, 3])\n",
      "torch.Size([3, 2])\n",
      "tensor([[56., 56.],\n",
      "        [56., 56.]])\n"
     ]
    }
   ],
   "source": [
    "print(temp)\n",
    "print(temp.shape)\n",
    "print(temp.t().shape)\n",
    "\n",
    "\n",
    "print(temp.matmul(temp.t()))\n",
    "\n"
   ]
  },
  {
   "cell_type": "code",
   "execution_count": null,
   "metadata": {},
   "outputs": [],
   "source": []
  }
 ],
 "metadata": {
  "kernelspec": {
   "display_name": "Python 3",
   "language": "python",
   "name": "python3"
  },
  "language_info": {
   "codemirror_mode": {
    "name": "ipython",
    "version": 3
   },
   "file_extension": ".py",
   "mimetype": "text/x-python",
   "name": "python",
   "nbconvert_exporter": "python",
   "pygments_lexer": "ipython3",
   "version": "3.6.9"
  }
 },
 "nbformat": 4,
 "nbformat_minor": 2
}
