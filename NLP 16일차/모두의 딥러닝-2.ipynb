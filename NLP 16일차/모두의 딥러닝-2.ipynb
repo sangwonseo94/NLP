{
 "cells": [
  {
   "cell_type": "code",
   "execution_count": 70,
   "metadata": {},
   "outputs": [],
   "source": [
    "import torch \n",
    "import torch.nn as nn\n",
    "import torch.optim as optim\n",
    "import torch.nn as nn \n",
    "import torch.nn.functional as F\n",
    "import matplotlib.pyplot as plt"
   ]
  },
  {
   "cell_type": "code",
   "execution_count": 81,
   "metadata": {},
   "outputs": [
    {
     "ename": "TypeError",
     "evalue": "unsupported format string passed to Tensor.__format__",
     "output_type": "error",
     "traceback": [
      "\u001b[1;31m---------------------------------------------------------------------------\u001b[0m",
      "\u001b[1;31mTypeError\u001b[0m                                 Traceback (most recent call last)",
      "\u001b[1;32m<ipython-input-81-49743689a3d6>\u001b[0m in \u001b[0;36m<module>\u001b[1;34m\u001b[0m\n\u001b[0;32m     18\u001b[0m     \u001b[1;31m# 위 세 문장은 반복시 꼭 써주어야한다.\u001b[0m\u001b[1;33m\u001b[0m\u001b[1;33m\u001b[0m\u001b[1;33m\u001b[0m\u001b[0m\n\u001b[0;32m     19\u001b[0m     \u001b[1;32mif\u001b[0m \u001b[1;33m(\u001b[0m\u001b[0mi\u001b[0m \u001b[1;33m%\u001b[0m \u001b[1;36m1000\u001b[0m \u001b[1;33m==\u001b[0m \u001b[1;36m0\u001b[0m \u001b[1;33m)\u001b[0m\u001b[1;33m:\u001b[0m\u001b[1;33m\u001b[0m\u001b[1;33m\u001b[0m\u001b[0m\n\u001b[1;32m---> 20\u001b[1;33m         \u001b[0mprint\u001b[0m\u001b[1;33m(\u001b[0m\u001b[1;34m\"Epoch : {0} Weight : {1:.3f} Bias : {2:.3f} Loss : {3:.3f}\"\u001b[0m\u001b[1;33m.\u001b[0m\u001b[0mformat\u001b[0m\u001b[1;33m(\u001b[0m\u001b[0mi\u001b[0m\u001b[1;33m,\u001b[0m\u001b[0mW\u001b[0m\u001b[1;33m.\u001b[0m\u001b[0mitem\u001b[0m\u001b[1;33m(\u001b[0m\u001b[1;33m)\u001b[0m\u001b[1;33m,\u001b[0m\u001b[0mb\u001b[0m\u001b[1;33m.\u001b[0m\u001b[0mdata\u001b[0m\u001b[1;33m,\u001b[0m\u001b[0mcost\u001b[0m\u001b[1;33m.\u001b[0m\u001b[0mitem\u001b[0m\u001b[1;33m(\u001b[0m\u001b[1;33m)\u001b[0m\u001b[1;33m)\u001b[0m\u001b[1;33m)\u001b[0m\u001b[1;33m\u001b[0m\u001b[1;33m\u001b[0m\u001b[0m\n\u001b[0m\u001b[0;32m     21\u001b[0m         \u001b[1;31m#그리려고 할때에는 값을 numpy로 바꾸어 주고 진행해야한다.\u001b[0m\u001b[1;33m\u001b[0m\u001b[1;33m\u001b[0m\u001b[1;33m\u001b[0m\u001b[0m\n\u001b[0;32m     22\u001b[0m         \u001b[0mtemp\u001b[0m \u001b[1;33m=\u001b[0m \u001b[0mcost\u001b[0m\u001b[1;33m.\u001b[0m\u001b[0mdetach\u001b[0m\u001b[1;33m(\u001b[0m\u001b[1;33m)\u001b[0m\u001b[1;33m.\u001b[0m\u001b[0mnumpy\u001b[0m\u001b[1;33m(\u001b[0m\u001b[1;33m)\u001b[0m\u001b[1;33m\u001b[0m\u001b[1;33m\u001b[0m\u001b[0m\n",
      "\u001b[1;32mC:\\Anaconda3\\envs\\pytorch\\lib\\site-packages\\torch\\tensor.py\u001b[0m in \u001b[0;36m__format__\u001b[1;34m(self, format_spec)\u001b[0m\n\u001b[0;32m    377\u001b[0m         \u001b[1;32mif\u001b[0m \u001b[0mself\u001b[0m\u001b[1;33m.\u001b[0m\u001b[0mdim\u001b[0m\u001b[1;33m(\u001b[0m\u001b[1;33m)\u001b[0m \u001b[1;33m==\u001b[0m \u001b[1;36m0\u001b[0m\u001b[1;33m:\u001b[0m\u001b[1;33m\u001b[0m\u001b[1;33m\u001b[0m\u001b[0m\n\u001b[0;32m    378\u001b[0m             \u001b[1;32mreturn\u001b[0m \u001b[0mself\u001b[0m\u001b[1;33m.\u001b[0m\u001b[0mitem\u001b[0m\u001b[1;33m(\u001b[0m\u001b[1;33m)\u001b[0m\u001b[1;33m.\u001b[0m\u001b[0m__format__\u001b[0m\u001b[1;33m(\u001b[0m\u001b[0mformat_spec\u001b[0m\u001b[1;33m)\u001b[0m\u001b[1;33m\u001b[0m\u001b[1;33m\u001b[0m\u001b[0m\n\u001b[1;32m--> 379\u001b[1;33m         \u001b[1;32mreturn\u001b[0m \u001b[0mobject\u001b[0m\u001b[1;33m.\u001b[0m\u001b[0m__format__\u001b[0m\u001b[1;33m(\u001b[0m\u001b[0mself\u001b[0m\u001b[1;33m,\u001b[0m \u001b[0mformat_spec\u001b[0m\u001b[1;33m)\u001b[0m\u001b[1;33m\u001b[0m\u001b[1;33m\u001b[0m\u001b[0m\n\u001b[0m\u001b[0;32m    380\u001b[0m \u001b[1;33m\u001b[0m\u001b[0m\n\u001b[0;32m    381\u001b[0m     \u001b[1;32mdef\u001b[0m \u001b[0m__ipow__\u001b[0m\u001b[1;33m(\u001b[0m\u001b[0mself\u001b[0m\u001b[1;33m,\u001b[0m \u001b[0mother\u001b[0m\u001b[1;33m)\u001b[0m\u001b[1;33m:\u001b[0m\u001b[1;33m\u001b[0m\u001b[1;33m\u001b[0m\u001b[0m\n",
      "\u001b[1;31mTypeError\u001b[0m: unsupported format string passed to Tensor.__format__"
     ]
    }
   ],
   "source": [
    "X_train = torch.Tensor([[1],[2],[3]])\n",
    "Y_train = torch.Tensor([[3],[6],[9]])\n",
    "W = torch.zeros(1, requires_grad = True)\n",
    "b = torch.zeros(1, requires_grad = True)\n",
    "\n",
    "optimizer = optim.Adam([W,b], lr=0.001,amsgrad=False)\n",
    "\n",
    "#torch.optim.Adam(params, lr=0.001, betas=(0.9, 0.999), eps=1e-08, weight_decay=0, amsgrad=False)\n",
    "#torch.optim.AdamW(params, lr=0.001, betas=(0.9, 0.999), eps=1e-08, weight_decay=0.01, amsgrad=False)\n",
    "#torch.optim.RMSprop(params, lr=0.01, alpha=0.99, eps=1e-08, weight_decay=0, momentum=0, centered=False)\n",
    "epoch = 10000\n",
    "for i in range(1,epoch+1,1):\n",
    "    hypothesis = W * X_train +b\n",
    "    cost = torch.mean((hypothesis-Y_train)**2)\n",
    "    optimizer.zero_grad()\n",
    "    cost.backward()\n",
    "    optimizer.step() \n",
    "    # 위 세 문장은 반복시 꼭 써주어야한다.\n",
    "    if (i % 1000 == 0 ):\n",
    "        print(\"Epoch : {0} Weight : {1:.3f} Bias : {2:.3f} Loss : {3:.3f}\".format(i,W.item(),b.item(),cost.item()))\n",
    "        #그리려고 할때에는 값을 numpy로 바꾸어 주고 진행해야한다.\n",
    "        temp = cost.detach().numpy()\n",
    "        ## var . detach().numpy()로 numpy array로 바꾸어주자\n",
    "X_test = torch.Tensor([4])\n",
    "print(X_test*W+b)"
   ]
  },
  {
   "cell_type": "code",
   "execution_count": 72,
   "metadata": {},
   "outputs": [
    {
     "name": "stdout",
     "output_type": "stream",
     "text": [
      "Requirement already satisfied: matplotlib in c:\\anaconda3\\envs\\pytorch\\lib\\site-packages (3.1.0)\n",
      "Requirement already satisfied: cycler>=0.10 in c:\\anaconda3\\envs\\pytorch\\lib\\site-packages (from matplotlib) (0.10.0)\n",
      "Requirement already satisfied: kiwisolver>=1.0.1 in c:\\anaconda3\\envs\\pytorch\\lib\\site-packages (from matplotlib) (1.1.0)\n",
      "Requirement already satisfied: pyparsing!=2.0.4,!=2.1.2,!=2.1.6,>=2.0.1 in c:\\anaconda3\\envs\\pytorch\\lib\\site-packages (from matplotlib) (2.4.0)\n",
      "Requirement already satisfied: python-dateutil>=2.1 in c:\\anaconda3\\envs\\pytorch\\lib\\site-packages (from matplotlib) (2.8.0)\n",
      "Requirement already satisfied: numpy>=1.11 in c:\\anaconda3\\envs\\pytorch\\lib\\site-packages (from matplotlib) (1.16.4)\n",
      "Requirement already satisfied: six in c:\\anaconda3\\envs\\pytorch\\lib\\site-packages (from cycler>=0.10->matplotlib) (1.12.0)\n",
      "Requirement already satisfied: setuptools in c:\\anaconda3\\envs\\pytorch\\lib\\site-packages (from kiwisolver>=1.0.1->matplotlib) (41.0.1)\n"
     ]
    }
   ],
   "source": [
    "!pip install matplotlib"
   ]
  },
  {
   "cell_type": "code",
   "execution_count": 80,
   "metadata": {},
   "outputs": [
    {
     "name": "stdout",
     "output_type": "stream",
     "text": [
      "tensor(0.0078, grad_fn=<MseLossBackward>)\n",
      "tensor(6.3329e-05, grad_fn=<MseLossBackward>)\n",
      "tensor(5.1859e-07, grad_fn=<MseLossBackward>)\n",
      "tensor(4.3177e-09, grad_fn=<MseLossBackward>)\n",
      "tensor(2.7596e-10, grad_fn=<MseLossBackward>)\n",
      "tensor(2.0198e-10, grad_fn=<MseLossBackward>)\n",
      "tensor(2.0198e-10, grad_fn=<MseLossBackward>)\n",
      "tensor(2.0198e-10, grad_fn=<MseLossBackward>)\n",
      "tensor(2.0198e-10, grad_fn=<MseLossBackward>)\n",
      "tensor(2.0198e-10, grad_fn=<MseLossBackward>)\n"
     ]
    }
   ],
   "source": [
    "class mylinear(nn.Module):\n",
    "    def __init__(self,input_size,output_size):\n",
    "        super(mylinear,self).__init__()\n",
    "        self.linear = nn.Linear(input_size,output_size)\n",
    "    def forward(self,x):\n",
    "        return self.linear(x)\n",
    "linear = mylinear(1,1)\n",
    "optimizer_2 = optim.SGD(linear.parameters(),lr= 0.01)\n",
    "for i in range(1,epoch+1):\n",
    "    hypothesis2 = linear.forward(X_train) - Y_train\n",
    "    cost = F.mse_loss(hypothesis2 , Y_train)\n",
    "    optimizer_2.zero_grad()\n",
    "    cost.backward(retain_graph=True)\n",
    "    optimizer_2.step()\n",
    "    if i % 1000 == 0 :\n",
    "        print(cost)\n"
   ]
  },
  {
   "cell_type": "code",
   "execution_count": 100,
   "metadata": {},
   "outputs": [
    {
     "data": {
      "image/png": "[encoded data removed]",
      "text/plain": [
       "<Figure size 432x288 with 1 Axes>"
      ]
     },
     "metadata": {
      "needs_background": "light"
     },
     "output_type": "display_data"
    }
   ],
   "source": [
    "import torch\n",
    "import torch.nn as nn\n",
    "import numpy\n",
    "import matplotlib.pyplot as plt\n",
    "x_train = torch.Tensor([[1],[2],[3]])\n",
    "y_train = torch.Tensor([[2],[4],[6]])\n",
    "w = torch.zeros(1)\n",
    "lr = 0.01\n",
    "epoch_list = numpy.linspace(1,50)\n",
    "loss_list = []\n",
    "weight_list = []\n",
    "for i in epoch_list:\n",
    "    hypothesis = x_train * w \n",
    "    cost = torch.mean(((hypothesis) - y_train) **2)\n",
    "    gradient = torch.sum(x_train * 2 * (hypothesis - y_train))\n",
    "    w = w - gradient * lr\n",
    "    loss_list.append(cost)\n",
    "    weight_list.append(w)\n",
    "plt.plot(epoch_list,loss_list,'r',epoch_list,weight_list,'b')\n",
    "plt.xlabel('Loss and Weight changing by each Epoch')\n",
    "plt.show()\n",
    "    \n"
   ]
  },
  {
   "cell_type": "code",
   "execution_count": 90,
   "metadata": {},
   "outputs": [
    {
     "name": "stdout",
     "output_type": "stream",
     "text": [
      "Epoch : 1, Weight 0.00, Cost : 18.67\n",
      "Epoch : 2, Weight 0.19, Cost : 15.34\n",
      "Epoch : 3, Weight 0.36, Cost : 12.61\n",
      "Epoch : 4, Weight 0.51, Cost : 10.37\n",
      "Epoch : 5, Weight 0.65, Cost : 8.52\n",
      "Epoch : 6, Weight 0.77, Cost : 7.01\n",
      "Epoch : 7, Weight 0.89, Cost : 5.76\n",
      "Epoch : 8, Weight 0.99, Cost : 4.74\n",
      "Epoch : 9, Weight 1.09, Cost : 3.89\n",
      "Epoch : 10, Weight 1.17, Cost : 3.20\n",
      "Epoch : 11, Weight 1.25, Cost : 2.63\n",
      "Epoch : 12, Weight 1.32, Cost : 2.16\n",
      "Epoch : 13, Weight 1.38, Cost : 1.78\n",
      "Epoch : 14, Weight 1.44, Cost : 1.46\n",
      "Epoch : 15, Weight 1.49, Cost : 1.20\n",
      "Epoch : 16, Weight 1.54, Cost : 0.99\n",
      "Epoch : 17, Weight 1.58, Cost : 0.81\n",
      "Epoch : 18, Weight 1.62, Cost : 0.67\n",
      "Epoch : 19, Weight 1.66, Cost : 0.55\n",
      "Epoch : 20, Weight 1.69, Cost : 0.45\n",
      "Epoch : 21, Weight 1.72, Cost : 0.37\n",
      "Epoch : 22, Weight 1.74, Cost : 0.30\n",
      "Epoch : 23, Weight 1.77, Cost : 0.25\n",
      "Epoch : 24, Weight 1.79, Cost : 0.21\n",
      "Epoch : 25, Weight 1.81, Cost : 0.17\n",
      "Epoch : 26, Weight 1.83, Cost : 0.14\n",
      "Epoch : 27, Weight 1.84, Cost : 0.11\n",
      "Epoch : 28, Weight 1.86, Cost : 0.09\n",
      "Epoch : 29, Weight 1.87, Cost : 0.08\n",
      "Epoch : 30, Weight 1.88, Cost : 0.06\n",
      "Epoch : 31, Weight 1.89, Cost : 0.05\n",
      "Epoch : 32, Weight 1.90, Cost : 0.04\n",
      "Epoch : 33, Weight 1.91, Cost : 0.04\n",
      "Epoch : 34, Weight 1.92, Cost : 0.03\n",
      "Epoch : 35, Weight 1.93, Cost : 0.02\n",
      "Epoch : 36, Weight 1.94, Cost : 0.02\n",
      "Epoch : 37, Weight 1.94, Cost : 0.02\n",
      "Epoch : 38, Weight 1.95, Cost : 0.01\n",
      "Epoch : 39, Weight 1.95, Cost : 0.01\n",
      "Epoch : 40, Weight 1.96, Cost : 0.01\n",
      "Epoch : 41, Weight 1.96, Cost : 0.01\n",
      "Epoch : 42, Weight 1.96, Cost : 0.01\n",
      "Epoch : 43, Weight 1.97, Cost : 0.00\n",
      "Epoch : 44, Weight 1.97, Cost : 0.00\n",
      "Epoch : 45, Weight 1.97, Cost : 0.00\n",
      "Epoch : 46, Weight 1.98, Cost : 0.00\n",
      "Epoch : 47, Weight 1.98, Cost : 0.00\n",
      "Epoch : 48, Weight 1.98, Cost : 0.00\n",
      "Epoch : 49, Weight 1.98, Cost : 0.00\n",
      "Epoch : 50, Weight 1.98, Cost : 0.00\n"
     ]
    }
   ],
   "source": [
    "\n",
    "W2 = torch.zeros(1, requires_grad = True)\n",
    "optimizer = optim.SGD([W2],lr = 0.01)\n",
    "for epoch in range(1,51):\n",
    "    hypothesis = x_train * W2\n",
    "    cost = torch.mean(((hypothesis) - y_train) **2)\n",
    "    print(\"Epoch : {0}, Weight {1:.2f}, Cost : {2:.2f}\".format(epoch,W2.item(),cost.item()))\n",
    "    optimizer.zero_grad()\n",
    "    cost.backward()\n",
    "    optimizer.step()"
   ]
  },
  {
   "cell_type": "code",
   "execution_count": 92,
   "metadata": {},
   "outputs": [
    {
     "data": {
      "text/plain": [
       "<torch._C.Generator at 0x564ef90>"
      ]
     },
     "execution_count": 92,
     "metadata": {},
     "output_type": "execute_result"
    }
   ],
   "source": [
    "torch.manual_seed(1)"
   ]
  },
  {
   "cell_type": "code",
   "execution_count": null,
   "metadata": {},
   "outputs": [],
   "source": []
  }
 ],
 "metadata": {
  "kernelspec": {
   "display_name": "Python 3",
   "language": "python",
   "name": "python3"
  },
  "language_info": {
   "codemirror_mode": {
    "name": "ipython",
    "version": 3
   },
   "file_extension": ".py",
   "mimetype": "text/x-python",
   "name": "python",
   "nbconvert_exporter": "python",
   "pygments_lexer": "ipython3",
   "version": "3.6.9"
  }
 },
 "nbformat": 4,
 "nbformat_minor": 2
}
