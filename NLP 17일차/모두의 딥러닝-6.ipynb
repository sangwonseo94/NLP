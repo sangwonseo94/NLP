{
 "cells": [
  {
   "cell_type": "code",
   "execution_count": 21,
   "metadata": {},
   "outputs": [
    {
     "name": "stdout",
     "output_type": "stream",
     "text": [
      "tensor([[0.5000],\n",
      "        [0.5000],\n",
      "        [0.5000],\n",
      "        [0.5000],\n",
      "        [0.5000],\n",
      "        [0.5000]], grad_fn=<MulBackward0>)\n"
     ]
    }
   ],
   "source": [
    "import torch\n",
    "import torch.nn as nn\n",
    "import torch.nn.functional as F\n",
    "import torch.optim as optim\n",
    "\n",
    "X_data = torch.Tensor([\n",
    "    [1,2],[2,3],[3,1],[4,3],[5,3],[6,2]])\n",
    "Y_data = torch.Tensor([[0],\n",
    "    [0],\n",
    "    [0],\n",
    "    [1],\n",
    "    [1],\n",
    "    [1],])\n",
    "Weight = torch.zeros((2,1), requires_grad = True)\n",
    "Bias = torch.zeros(1, requires_grad = True)\n",
    "\n",
    "hypo = 1 / (1 + torch.exp(-(torch.mm(X_data,Weight) + Bias)))\n",
    "print(hypo)"
   ]
  },
  {
   "cell_type": "code",
   "execution_count": 22,
   "metadata": {},
   "outputs": [
    {
     "name": "stdout",
     "output_type": "stream",
     "text": [
      "tensor([[0.5000],\n",
      "        [0.5000],\n",
      "        [0.5000],\n",
      "        [0.5000],\n",
      "        [0.5000],\n",
      "        [0.5000]], grad_fn=<SigmoidBackward>)\n"
     ]
    }
   ],
   "source": [
    "hypothesis = torch.sigmoid(torch.mm(X_data,Weight)+Bias)\n",
    "print(hypothesis)"
   ]
  },
  {
   "cell_type": "code",
   "execution_count": 23,
   "metadata": {},
   "outputs": [
    {
     "name": "stdout",
     "output_type": "stream",
     "text": [
      "tensor(0.6931, grad_fn=<BinaryCrossEntropyBackward>)\n"
     ]
    }
   ],
   "source": [
    "print(F.binary_cross_entropy(hypothesis,Y_data))"
   ]
  },
  {
   "cell_type": "code",
   "execution_count": 24,
   "metadata": {},
   "outputs": [
    {
     "name": "stdout",
     "output_type": "stream",
     "text": [
      "tensor([[-0.6931],\n",
      "        [-0.6931],\n",
      "        [-0.6931],\n",
      "        [ 0.6931],\n",
      "        [ 0.6931],\n",
      "        [ 0.6931]], grad_fn=<AddBackward0>)\n"
     ]
    }
   ],
   "source": [
    "losses = -Y_data*torch.log(hypothesis) + (1-Y_data) * torch.log(1- hypothesis)\n",
    "print(losses)"
   ]
  },
  {
   "cell_type": "code",
   "execution_count": 25,
   "metadata": {},
   "outputs": [],
   "source": [
    "optimizer = optim.SGD([Weight, Bias], lr=0.1)"
   ]
  },
  {
   "cell_type": "code",
   "execution_count": 26,
   "metadata": {},
   "outputs": [
    {
     "name": "stdout",
     "output_type": "stream",
     "text": [
      "Epoch : 0, Loss : 0.693147\n",
      "Epoch : 100, Loss : 0.414327\n",
      "Epoch : 200, Loss : 0.349521\n",
      "Epoch : 300, Loss : 0.301302\n",
      "Epoch : 400, Loss : 0.263532\n",
      "Epoch : 500, Loss : 0.233518\n",
      "Epoch : 600, Loss : 0.209313\n",
      "Epoch : 700, Loss : 0.189496\n",
      "Epoch : 800, Loss : 0.173035\n",
      "Epoch : 900, Loss : 0.159179\n",
      "Epoch : 1000, Loss : 0.147375\n",
      "tensor([[0.2638]], grad_fn=<SigmoidBackward>)\n"
     ]
    }
   ],
   "source": [
    "for epoch in range(1001):\n",
    "    hypothesis_ = torch.sigmoid(torch.mm(X_data,Weight)+Bias)\n",
    "    cost  = F.binary_cross_entropy(hypothesis_, Y_data)\n",
    "    \n",
    "    optimizer.zero_grad()\n",
    "    cost.backward()\n",
    "    optimizer.step()\n",
    "    if epoch % 100 == 0 :\n",
    "        print(\"Epoch : {}, Loss : {:.6f}\".format(epoch,cost.item()))\n",
    "        \n",
    "        \n",
    "x_test = torch.Tensor(\n",
    "    [[2,5]])\n",
    "print(torch.sigmoid(torch.mm(x_test,Weight)+Bias))\n"
   ]
  },
  {
   "cell_type": "code",
   "execution_count": 34,
   "metadata": {},
   "outputs": [],
   "source": [
    "class Logistic_Regression(nn.Module):\n",
    "    def __init__(self):\n",
    "        super().__init__()\n",
    "        self.linear = nn.Linear(2,1)\n",
    "        self.sigmoid = nn.Sigmoid()\n",
    "    def forward(self,X_data):\n",
    "        return self.sigmoid(self.linear(X_data))\n",
    "    \n",
    "Lr_Model = Logistic_Regression()\n",
    "optimizer2 = optim.SGD(Lr_Model.parameters(),lr =0.01)"
   ]
  },
  {
   "cell_type": "code",
   "execution_count": null,
   "metadata": {},
   "outputs": [],
   "source": [
    "for Epoch in range(101):\n",
    "    hypothesis__ = Lr_Model(X_data)\n",
    "    cost = F.binary_cross_entropy(hypothesis__,Y_data)\n",
    "    "
   ]
  }
 ],
 "metadata": {
  "kernelspec": {
   "display_name": "Python 3",
   "language": "python",
   "name": "python3"
  },
  "language_info": {
   "codemirror_mode": {
    "name": "ipython",
    "version": 3
   },
   "file_extension": ".py",
   "mimetype": "text/x-python",
   "name": "python",
   "nbconvert_exporter": "python",
   "pygments_lexer": "ipython3",
   "version": "3.6.9"
  }
 },
 "nbformat": 4,
 "nbformat_minor": 2
}
