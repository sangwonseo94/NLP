{
 "cells": [
  {
   "cell_type": "markdown",
   "metadata": {},
   "source": [
    "Module\n",
    "-> 코드가 저장된 파일 \n",
    "\n",
    "\n",
    "dir(sdfa.py)\n",
    "= > 함수와 변수이름을 전부 출력해준다."
   ]
  },
  {
   "cell_type": "code",
   "execution_count": 1,
   "metadata": {},
   "outputs": [
    {
     "name": "stdout",
     "output_type": "stream",
     "text": [
      "Overwriting c:/myPyCode/modules/my_area.py\n"
     ]
    }
   ],
   "source": [
    "%%writefile c:/myPyCode/modules/my_area.py\n",
    "    #File name: my_area.py\n",
    "    \n",
    "PI =3.14\n",
    "    \n",
    "def square_area(a):\n",
    "    return a**2\n",
    "    \n",
    "def cricle_area(r):\n",
    "    return PI*(r**2)\n",
    "    \n"
   ]
  },
  {
   "cell_type": "code",
   "execution_count": 2,
   "metadata": {},
   "outputs": [
    {
     "name": "stdout",
     "output_type": "stream",
     "text": [
      "    #File name: my_area.py\n",
      "    \n",
      "PI =3.14\n",
      "    \n",
      "def square_area(a):\n",
      "    return a**2\n",
      "    \n",
      "def cricle_area(r):\n",
      "    return PI*(r**2)\n",
      "    \n"
     ]
    }
   ],
   "source": [
    "!type c:\\myPyCode\\modules\\my_area.py\n",
    "    "
   ]
  },
  {
   "cell_type": "code",
   "execution_count": 3,
   "metadata": {},
   "outputs": [
    {
     "name": "stdout",
     "output_type": "stream",
     "text": [
      "78.5\n",
      "25\n"
     ]
    },
    {
     "data": {
      "text/plain": [
       "['PI',\n",
       " '__builtins__',\n",
       " '__cached__',\n",
       " '__doc__',\n",
       " '__file__',\n",
       " '__loader__',\n",
       " '__name__',\n",
       " '__package__',\n",
       " '__spec__',\n",
       " 'cricle_area',\n",
       " 'square_area']"
      ]
     },
     "execution_count": 3,
     "metadata": {},
     "output_type": "execute_result"
    }
   ],
   "source": [
    "import my_area as area\n",
    "print(area.cricle_area(5))\n",
    "print(area.square_area(5))\n",
    "dir(area)"
   ]
  },
  {
   "cell_type": "code",
   "execution_count": 11,
   "metadata": {},
   "outputs": [
    {
     "name": "stdout",
     "output_type": "stream",
     "text": [
      "28.26\n",
      "25\n",
      "3.14\n"
     ]
    }
   ],
   "source": [
    "from my_area import PI\n",
    "from my_area import cricle_area as ca\n",
    "from my_area import square_area as sa\n",
    "\n",
    "\n",
    "print(ca(3))\n",
    "print(sa(5))\n",
    "print(PI)"
   ]
  },
  {
   "cell_type": "code",
   "execution_count": 15,
   "metadata": {},
   "outputs": [
    {
     "name": "stdout",
     "output_type": "stream",
     "text": [
      "Overwriting c:/myPyCode/modules/my_module_test.py\n"
     ]
    }
   ],
   "source": [
    "%%writefile c:/myPyCode/modules/my_module_test.py\n",
    "\n",
    "def fun(a):\n",
    "    print(\"입력된 숫자 : \",a)\n",
    "        \n",
    "if (__name__=='__main__'):\n",
    "    fun(3)\n",
    "    fun(4)\n",
    "else:\n",
    "    print(\"name이 import입니다.\")"
   ]
  },
  {
   "cell_type": "code",
   "execution_count": 16,
   "metadata": {},
   "outputs": [
    {
     "name": "stdout",
     "output_type": "stream",
     "text": [
      "입력된 숫자 :  3\n",
      "입력된 숫자 :  4\n"
     ]
    }
   ],
   "source": [
    "%run c:/myPyCode/modules/my_module_test.py"
   ]
  },
  {
   "cell_type": "code",
   "execution_count": 19,
   "metadata": {},
   "outputs": [
    {
     "name": "stdout",
     "output_type": "stream",
     "text": [
      "입력된 숫자 :  5\n"
     ]
    }
   ],
   "source": [
    "import my_module_test as mm\n",
    "\n",
    "mm.fun(5)\n"
   ]
  },
  {
   "cell_type": "code",
   "execution_count": null,
   "metadata": {},
   "outputs": [],
   "source": []
  }
 ],
 "metadata": {
  "kernelspec": {
   "display_name": "Python 3",
   "language": "python",
   "name": "python3"
  },
  "language_info": {
   "codemirror_mode": {
    "name": "ipython",
    "version": 3
   },
   "file_extension": ".py",
   "mimetype": "text/x-python",
   "name": "python",
   "nbconvert_exporter": "python",
   "pygments_lexer": "ipython3",
   "version": "3.6.8"
  }
 },
 "nbformat": 4,
 "nbformat_minor": 2
}
