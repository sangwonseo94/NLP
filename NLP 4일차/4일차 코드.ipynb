{
 "cells": [
  {
   "cell_type": "code",
   "execution_count": 8,
   "metadata": {},
   "outputs": [
    {
     "name": "stdout",
     "output_type": "stream",
     "text": [
      "1\n",
      "a\n"
     ]
    }
   ],
   "source": [
    "search_num_min =[1,2,3,4,5]\n",
    "search_str_min =['a','b','c']\n",
    "\n",
    "print(min(search_num_min))\n",
    "print(min(search_str_min))\n"
   ]
  },
  {
   "cell_type": "code",
   "execution_count": 15,
   "metadata": {},
   "outputs": [
    {
     "name": "stdout",
     "output_type": "stream",
     "text": [
      "길이 :  3 합계 :  336 평균 :  112.0\n",
      "최댓값 :  203 최솟값 :  10"
     ]
    }
   ],
   "source": [
    "mynumber =[10,203,123]\n",
    "if(10 in mynumber):\n",
    "    print(\"길이 : \",len(mynumber),\"합계 : \",sum(mynumber),\"평균 : \",sum(mynumber)/len(mynumber), end=\"\")\n",
    "    print()\n",
    "    print(\"최댓값 : \",max(mynumber),\"최솟값 : \",min(mynumber), end=\"\")\n"
   ]
  },
  {
   "cell_type": "code",
   "execution_count": 42,
   "metadata": {},
   "outputs": [
    {
     "name": "stdout",
     "output_type": "stream",
     "text": [
      "자전거탄생!\n",
      "red색 자전거가 40의 속력으로 움직이기 시작합니다!\n",
      "자전거가 멈추었습니다.\n",
      "blue\n",
      "20\n"
     ]
    }
   ],
   "source": [
    "class Bicycle():\n",
    "    count =0;\n",
    "    def __init__(self,color,size):\n",
    "        self.color= color\n",
    "        self.size = size\n",
    "        print(\"자전거탄생!\")\n",
    "        Bicycle.count+=1;\n",
    "    def forward(self,speed):\n",
    "        print(\"{0}색 자전거가 {1}의 속력으로 움직이기 시작합니다!\".format(self.color,self.size))\n",
    "    def stop(self):\n",
    "        print(\"자전거가 멈추었습니다.\")\n",
    "    \n",
    "class Bicycle2():\n",
    "    color= \"red\"\n",
    "    size= 50\n",
    "    def forward(self,speed):\n",
    "        print(speed)\n",
    "\n",
    "MyBicycle = Bicycle(\"red\",40)\n",
    "MyBicycle.forward(100)\n",
    "MyBicycle.stop()\n",
    "MyBicycle.color=\"blue\"\n",
    "print(MyBicycle.color)\n",
    "\n",
    "MyBicycle2 = Bicycle2()\n",
    "MyBicycle2.forward(20)\n",
    "\n",
    "        "
   ]
  },
  {
   "cell_type": "code",
   "execution_count": 51,
   "metadata": {},
   "outputs": [
    {
     "name": "stdout",
     "output_type": "stream",
     "text": [
      "Hello! sangwonseo\n",
      "게임 계정 생성 완료! 이름 : sangwonseo, 나이 26, 플레이 횟수 0\n",
      "재밌다!\n",
      "총 0 개의 게임이 있습니다\n",
      "게임 6시간동안 하시겠습니까?\n"
     ]
    }
   ],
   "source": [
    "class Game:\n",
    "    Game_count=0\n",
    "    \n",
    "    def __init__(self,name,age):\n",
    "        self.name = name\n",
    "        self.age = age\n",
    "        print(\"Hello! {0}\".format(self.name))\n",
    "        print(\"게임 계정 생성 완료! 이름 : {0}, 나이 {1}, 플레이 횟수 {2}\".format(self.name,self.age,Game.Game_count))\n",
    "\n",
    "    @staticmethod\n",
    "    def Areyou_FUNNY(condition):\n",
    "        if condition : print(\"재밌다!\")\n",
    "        else: print(\"재미없다..\")\n",
    "    \n",
    "    def Playing(self,time):\n",
    "        self.time= time;\n",
    "        print(\"게임 {0}시간동안 하시겠습니까?\".format(self.time))\n",
    "    \n",
    "    @classmethod\n",
    "    def total_play(cls):\n",
    "        print(\"총 {0} 개의 게임이 있습니다\".format(cls.Game_count))\n",
    "\n",
    "My_Game =Game(\"sangwonseo\",26);\n",
    "My_Game.Areyou_FUNNY(True)\n",
    "My_Game.total_play()\n",
    "My_Game.Playing(6)\n",
    "        \n",
    "\n",
    "    "
   ]
  },
  {
   "cell_type": "code",
   "execution_count": 60,
   "metadata": {},
   "outputs": [
    {
     "name": "stdout",
     "output_type": "stream",
     "text": [
      "자전거탄생!\n",
      "자전거의 상태가 Folding 되었습니다\n",
      "Folding\n",
      "red색 자전거가 20의 속력으로 움직이기 시작합니다!\n",
      "자전거가 멈추었습니다.\n",
      "자전거의 상태가 UnFolding 되었습니다\n"
     ]
    }
   ],
   "source": [
    "class FoldingBicycle(Bicycle):\n",
    "    def __init__(self,color,size,state):\n",
    "        super().__init__(size,color)\n",
    "        self.state = state\n",
    "    def Fold(self):\n",
    "        self.state = \"Folding\"\n",
    "        print(\"자전거의 상태가 {0} 되었습니다\".format(self.state))\n",
    "    def UnFold(self):\n",
    "        self.state = \"UnFolding\"\n",
    "        print(\"자전거의 상태가 {0} 되었습니다\".format(self.state))\n",
    "    \n",
    "My_Bicycle =FoldingBicycle(20,\"red\",\"Folding\")\n",
    "My_Bicycle.Fold()\n",
    "print(My_Bicycle.state)\n",
    "My_Bicycle.forward(200)\n",
    "My_Bicycle.stop()\n",
    "My_Bicycle.UnFold()"
   ]
  },
  {
   "cell_type": "code",
   "execution_count": 69,
   "metadata": {},
   "outputs": [
    {
     "name": "stdout",
     "output_type": "stream",
     "text": [
      "1\n",
      "2\n",
      "fizz\n",
      "4\n",
      "buzz\n",
      "fizz\n",
      "7\n",
      "8\n",
      "fizz\n",
      "buzz\n",
      "11\n",
      "fizz\n",
      "13\n",
      "14\n",
      "fizzbuzzfizzbuzz\n",
      "16\n",
      "17\n",
      "fizz\n",
      "19\n",
      "buzz\n",
      "fizz\n",
      "22\n",
      "23\n",
      "fizz\n",
      "buzz\n",
      "26\n",
      "fizz\n",
      "28\n",
      "29\n",
      "fizzbuzzfizzbuzz\n",
      "31\n",
      "32\n",
      "fizz\n",
      "34\n",
      "buzz\n",
      "fizz\n",
      "37\n",
      "38\n",
      "fizz\n",
      "buzz\n",
      "41\n",
      "fizz\n",
      "43\n",
      "44\n",
      "fizzbuzzfizzbuzz\n",
      "46\n",
      "47\n",
      "fizz\n",
      "49\n",
      "buzz\n",
      "fizz\n",
      "52\n",
      "53\n",
      "fizz\n",
      "buzz\n",
      "56\n",
      "fizz\n",
      "58\n",
      "59\n",
      "fizzbuzzfizzbuzz\n",
      "61\n",
      "62\n",
      "fizz\n",
      "64\n",
      "buzz\n",
      "fizz\n",
      "67\n",
      "68\n",
      "fizz\n",
      "buzz\n",
      "71\n",
      "fizz\n",
      "73\n",
      "74\n",
      "fizzbuzzfizzbuzz\n",
      "76\n",
      "77\n",
      "fizz\n",
      "79\n",
      "buzz\n",
      "fizz\n",
      "82\n",
      "83\n",
      "fizz\n",
      "buzz\n",
      "86\n",
      "fizz\n",
      "88\n",
      "89\n",
      "fizzbuzzfizzbuzz\n",
      "91\n",
      "92\n",
      "fizz\n",
      "94\n",
      "buzz\n",
      "fizz\n",
      "97\n",
      "98\n",
      "fizz\n",
      "buzz\n"
     ]
    }
   ],
   "source": [
    "for i in range(1,101,1):\n",
    "    if((i%3 == 0) and  0 ==i%5): print(\"FizzBuzz\")\n",
    "    elif(0 == i%3): print(\"Fizz\")\n",
    "    elif(0 == i%5): print(\"Buzz\")\n",
    "    else:print(i)\n",
    "        \n",
    "     \n",
    "for i in range(1,101):\n",
    "    print(\"fizz\"*(0 == i%3)+\"buzz\"*(0 == i%5)+\"fizzbuzz\"*(0 == i%15) or i)\n"
   ]
  },
  {
   "cell_type": "code",
   "execution_count": null,
   "metadata": {},
   "outputs": [],
   "source": []
  }
 ],
 "metadata": {
  "kernelspec": {
   "display_name": "Python 3",
   "language": "python",
   "name": "python3"
  },
  "language_info": {
   "codemirror_mode": {
    "name": "ipython",
    "version": 3
   },
   "file_extension": ".py",
   "mimetype": "text/x-python",
   "name": "python",
   "nbconvert_exporter": "python",
   "pygments_lexer": "ipython3",
   "version": "3.6.8"
  }
 },
 "nbformat": 4,
 "nbformat_minor": 2
}
