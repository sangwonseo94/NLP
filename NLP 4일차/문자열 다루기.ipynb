{
 "cells": [
  {
   "cell_type": "code",
   "execution_count": 1,
   "metadata": {},
   "outputs": [
    {
     "name": "stdout",
     "output_type": "stream",
     "text": [
      "['후라이드치킨', '양념치킨', '간장치킨']\n"
     ]
    }
   ],
   "source": [
    "print(\"후라이드치킨 양념치킨 간장치킨\".split())"
   ]
  },
  {
   "cell_type": "code",
   "execution_count": 4,
   "metadata": {},
   "outputs": [
    {
     "name": "stdout",
     "output_type": "stream",
     "text": [
      "['+82', '01-2345-6878']\n"
     ]
    }
   ],
   "source": [
    "num = \"+82-01-2345-6878\"\n",
    "spl=num.split('-',1)\n",
    "print(spl)"
   ]
  },
  {
   "cell_type": "code",
   "execution_count": 6,
   "metadata": {},
   "outputs": [
    {
     "name": "stdout",
     "output_type": "stream",
     "text": [
      "dasdfa\n"
     ]
    }
   ],
   "source": [
    "dirty=\"     dasdfa   \"\n",
    "print(dirty.strip())\n"
   ]
  },
  {
   "cell_type": "markdown",
   "metadata": {},
   "source": [
    "### str.split ('나눌 기준') =>str을 ()기준에 맞추어 나누어서 list로 반환\n",
    "### str.strip ('삭제할문자') => 해당 문자열을 앞위로 찾아서 삭제후 str반환\n",
    "### str.join(list) => list를 합쳐서 str로 반혼\n",
    "### str.find(찾으려는 문자,시작위치,끝위치) => 문자열과 첫번째로 일치하는 문자열의 위치반환 / 없으면 -1\n",
    "### str.startwith(prefix,start,end) => prefix로 start부터 end까지 시작되는 문자열이있으면 True / False를반환\n",
    "### str.endwith(prefix,start,end)\n",
    "### str.replace(old,new,횟수) =>old를 new로 / 횟수번 만큼 바꾸어라\n",
    "### str.isalpha(str) => 숫자,특문,공백이 아닌문자로 => True/False\n",
    "### str.lower(str) => 소문자로 바꾼 str을 return\n",
    "\n",
    "str.split('-',1) - 첫번째를 기준으로 나누어 버림 \n",
    "반환값은 list\n",
    "str.strip('a') > a 제거\n",
    "str.strip('ab') > a랑 b 제거 순서 상관없음 ba도 가능 \n",
    "앞뒤에서앞뒤에서앞뒤에서앞뒤에서앞뒤에서중간에낀건 삭제 X\n",
    "앞뒤에서앞뒤에서앞뒤에서앞뒤에서앞뒤에서중간에낀건 삭제 X\n",
    "앞뒤에서앞뒤에서앞뒤에서앞뒤에서앞뒤에서중간에낀건 삭제 X\n",
    "str.strip('!$@3.2') > 이러한 gabage를 날려버리고 string을 반환\n",
    "strip의 default는 공백과 개행문자이다.\n",
    "lstrip() <=left strip()\n",
    "rstrip() <=right strip()\n",
    "\n",
    "str.join(seq) => list를 하나의 문자열로 합쳐준다. 반환값은 str\n",
    "str은 공백 / 진짜내용은 seq에포함\n",
    "\n",
    "\n"
   ]
  },
  {
   "cell_type": "code",
   "execution_count": 13,
   "metadata": {},
   "outputs": [
    {
     "name": "stdout",
     "output_type": "stream",
     "text": [
      "['+82', '01', '2345', '6878']\n",
      "+820123456878\n"
     ]
    }
   ],
   "source": [
    "list_a = num.split(\"-\")\n",
    "print(list_a)\n",
    "print(\"\".join(list_a))"
   ]
  },
  {
   "cell_type": "code",
   "execution_count": 26,
   "metadata": {},
   "outputs": [
    {
     "name": "stdout",
     "output_type": "stream",
     "text": [
      "Hello world! Hello pizza! Hello orange!      \n",
      "ello world! Hello pizza! Hello orange!      \n",
      "Hello world! Hello pizza! Hello orange!      \n",
      "['Hello world', ' Hello pizza', ' Hello orange']\n"
     ]
    }
   ],
   "source": [
    "string = \"\"\"Hello world! Hello pizza! Hello orange!      \"\"\"\n",
    "print(string.strip(\"o\"))\n",
    "print(string.strip(\"H\"))\n",
    "print(string.strip(\"d!\"))\n",
    "print((string.rstrip().strip(\"!\").split(\"!\")))"
   ]
  },
  {
   "cell_type": "code",
   "execution_count": 32,
   "metadata": {},
   "outputs": [
    {
     "name": "stdout",
     "output_type": "stream",
     "text": [
      "날짜    에스프레소  아메리카노  카페라테  카푸치노\n",
      "10.15       10  \t50         45       20   \n",
      "10.16       12\t\t45         41       18\n",
      "10.17       11\t\t53         32       25\n",
      "10.18       15\t\t49         38       22\n"
     ]
    }
   ],
   "source": [
    "!type c:\\myPyCode\\data\\coffeeShopSales.txt"
   ]
  },
  {
   "cell_type": "code",
   "execution_count": 37,
   "metadata": {},
   "outputs": [
    {
     "name": "stdout",
     "output_type": "stream",
     "text": [
      "<class 'str'>\n",
      "날짜    에스프레소  아메리카노  카페라테  카푸치노\n",
      "<class 'str'>\n",
      "10.15       10  \t50         45       20   \n",
      "<class 'str'>\n",
      "10.16       12\t\t45         41       18\n",
      "<class 'str'>\n",
      "10.17       11\t\t53         32       25\n",
      "<class 'str'>\n",
      "10.18       15\t\t49         38       22"
     ]
    }
   ],
   "source": [
    "\n",
    "\n"
   ]
  },
  {
   "cell_type": "code",
   "execution_count": 53,
   "metadata": {},
   "outputs": [
    {
     "name": "stdout",
     "output_type": "stream",
     "text": [
      "나흘동안 espresso는 48.0만큼 팔았습니다.  나흘동안 americano는 197.0만큼 팔았습니다.\n",
      "나흘동안 cafelatte는 156.0만큼 팔았습니다.  나흘동안 cappucino는 85.0만큼 팔았습니다.\n",
      "1번째 날 하루평균 12.0\n",
      "2번째 날 하루평균 49.25\n",
      "3번째 날 하루평균 39.0\n",
      "4번째 날 하루평균 21.25\n"
     ]
    }
   ],
   "source": [
    "def avg(com_list):\n",
    "    return (float(sum(com_list))/len(com_list))\n",
    "\n",
    "f = open('c:/myPyCode/data/coffeeShopSales.txt','r')\n",
    "header_list = f.readline()\n",
    "espresso,americano,cafelatte,cappucino = [],[],[],[]\n",
    "for line in f:\n",
    "    data =line.split()\n",
    "    espresso.append(float(data[1]))\n",
    "    americano.append(float(data[2]))\n",
    "    cafelatte.append(float(data[3]))\n",
    "    cappucino.append(float(data[4]))\n",
    "f.close()\n",
    "\n",
    "print(\"나흘동안 {0}는 {1}만큼 팔았습니다.\".format(\"espresso\",sum(espresso)), end=\"  \")\n",
    "print(\"나흘동안 {0}는 {1}만큼 팔았습니다.\".format(\"americano\",sum(americano)))\n",
    "print(\"나흘동안 {0}는 {1}만큼 팔았습니다.\".format(\"cafelatte\",sum(cafelatte)), end=\"  \")\n",
    "print(\"나흘동안 {0}는 {1}만큼 팔았습니다.\".format(\"cappucino\",sum(cappucino)))\n",
    "\n",
    "total_mean =[avg(espresso),avg(americano),avg(cafelatte),avg(cappucino)]\n",
    "for i in range(len(total_mean)):\n",
    "    print(str(i+1)+\"번째 날 하루평균 {0}\".format(total_mean[i]))"
   ]
  },
  {
   "cell_type": "code",
   "execution_count": null,
   "metadata": {},
   "outputs": [],
   "source": []
  }
 ],
 "metadata": {
  "kernelspec": {
   "display_name": "Python 3",
   "language": "python",
   "name": "python3"
  },
  "language_info": {
   "codemirror_mode": {
    "name": "ipython",
    "version": 3
   },
   "file_extension": ".py",
   "mimetype": "text/x-python",
   "name": "python",
   "nbconvert_exporter": "python",
   "pygments_lexer": "ipython3",
   "version": "3.6.8"
  }
 },
 "nbformat": 4,
 "nbformat_minor": 2
}
